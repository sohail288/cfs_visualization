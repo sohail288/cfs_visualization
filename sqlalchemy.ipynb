{
 "cells": [
  {
   "cell_type": "markdown",
   "metadata": {},
   "source": [
    "## SQL Alchemy run through"
   ]
  },
  {
   "cell_type": "markdown",
   "metadata": {},
   "source": [
    "In the previous notebook, we made an RDS Instance that contains all of our tables. In this subsection, we will go over retrieving this information using SQL Alchemy"
   ]
  },
  {
   "cell_type": "markdown",
   "metadata": {},
   "source": [
    "## Making the engine"
   ]
  },
  {
   "cell_type": "code",
   "execution_count": null,
   "metadata": {
    "collapsed": true
   },
   "outputs": [],
   "source": [
    "from sqlalchemy import create_engine, select\n",
    "from sqlalchemy.dialects.postgresql import psycopg2\n",
    "from sqlalchemy import Table, Column, Integer, String, MetaData, ForeignKey\n",
    "import psycopg2\n",
    "import sqlalchemy"
   ]
  },
  {
   "cell_type": "code",
   "execution_count": null,
   "metadata": {
    "collapsed": true
   },
   "outputs": [],
   "source": [
    "import boto3\n",
    "import pandas as pd"
   ]
  },
  {
   "cell_type": "code",
   "execution_count": null,
   "metadata": {
    "collapsed": false
   },
   "outputs": [],
   "source": [
    "int(sqlalchemy.__version__[0]) >= 1"
   ]
  },
  {
   "cell_type": "code",
   "execution_count": null,
   "metadata": {
    "collapsed": false
   },
   "outputs": [],
   "source": [
    "from sqlalchemy.sql import and_, or_"
   ]
  },
  {
   "cell_type": "code",
   "execution_count": null,
   "metadata": {
    "collapsed": true
   },
   "outputs": [],
   "source": [
    "from sqlalchemy import func, text, case"
   ]
  },
  {
   "cell_type": "code",
   "execution_count": null,
   "metadata": {
    "collapsed": true
   },
   "outputs": [],
   "source": [
    "from pprint import pprint"
   ]
  },
  {
   "cell_type": "markdown",
   "metadata": {},
   "source": [
    "### first get the rds instance we deployed earlier"
   ]
  },
  {
   "cell_type": "code",
   "execution_count": null,
   "metadata": {
    "collapsed": false
   },
   "outputs": [],
   "source": [
    "rds = boto3.client('rds')"
   ]
  },
  {
   "cell_type": "code",
   "execution_count": null,
   "metadata": {
    "collapsed": true
   },
   "outputs": [],
   "source": [
    "def getAddressAndPort(instance_identifier):\n",
    "    import boto3\n",
    "    rds_client = boto3.client('rds')\n",
    "\n",
    "    instance =filter(\n",
    "        lambda instance: instance['DBInstanceIdentifier'] == instance_identifier,\n",
    "                           rds.describe_db_instances()['DBInstances'])\n",
    "    endpoint= list(instance)[0]['Endpoint']\n",
    "    address, port = endpoint['Address'], endpoint['Port']\n",
    "    return address, port\n",
    "\n"
   ]
  },
  {
   "cell_type": "code",
   "execution_count": null,
   "metadata": {
    "collapsed": false
   },
   "outputs": [],
   "source": [
    "getAddressAndPort('cfsdb')"
   ]
  },
  {
   "cell_type": "code",
   "execution_count": null,
   "metadata": {
    "collapsed": false
   },
   "outputs": [],
   "source": [
    "instances = list(filter(lambda instance: instance['DBInstanceStatus']=='available', rds.describe_db_instances()['DBInstances']))"
   ]
  },
  {
   "cell_type": "code",
   "execution_count": null,
   "metadata": {
    "collapsed": true
   },
   "outputs": [],
   "source": [
    "instance = instances[0]"
   ]
  },
  {
   "cell_type": "code",
   "execution_count": null,
   "metadata": {
    "collapsed": false
   },
   "outputs": [],
   "source": [
    "instances"
   ]
  },
  {
   "cell_type": "code",
   "execution_count": null,
   "metadata": {
    "collapsed": false
   },
   "outputs": [],
   "source": [
    "address, port = instance['Endpoint']['Address'], instance['Endpoint']['Port']\n",
    "db_name = instance['DBName']\n",
    "username = instance['MasterUsername']\n",
    "password = 'TestPassword'"
   ]
  },
  {
   "cell_type": "code",
   "execution_count": null,
   "metadata": {
    "collapsed": false,
    "scrolled": true
   },
   "outputs": [],
   "source": [
    "address, db_name"
   ]
  },
  {
   "cell_type": "code",
   "execution_count": null,
   "metadata": {
    "collapsed": false
   },
   "outputs": [],
   "source": [
    "engine = create_engine('postgresql+psycopg2://{username}:{password}@{add}:{port}/{db_name}'.format(\n",
    "    username=username,\n",
    "    password=password,\n",
    "    add=address,\n",
    "    port=port,\n",
    "    db_name=db_name), echo=True)"
   ]
  },
  {
   "cell_type": "code",
   "execution_count": null,
   "metadata": {
    "collapsed": false
   },
   "outputs": [],
   "source": [
    "conn = engine.connect()"
   ]
  },
  {
   "cell_type": "code",
   "execution_count": null,
   "metadata": {
    "collapsed": false
   },
   "outputs": [],
   "source": [
    "# at this point we can remove entry 0 that we used in the earlier notebook\n",
    "conn.execute(\"\"\"\n",
    "             DELETE FROM ONLY transactions\n",
    "             WHERE \"SHIPMT_ID\" = 0 \"\"\")"
   ]
  },
  {
   "cell_type": "code",
   "execution_count": null,
   "metadata": {
    "collapsed": false
   },
   "outputs": [],
   "source": [
    "assert conn.execute(\"\"\"\n",
    "    SELECT  \"SHIPMT_ID\" \n",
    "    FROM transactions\n",
    "    LIMIT 1\n",
    "    \"\"\").fetchall()[0][0] == 1, \"Failed to delete row\""
   ]
  },
  {
   "cell_type": "code",
   "execution_count": null,
   "metadata": {
    "collapsed": false
   },
   "outputs": [],
   "source": [
    "# first try some basic sql queries\n",
    "# get hazardous or not hazardous\n",
    "q = conn.execute(\"\"\"\n",
    "             SELECT \n",
    "             CASE WHEN \"HAZMAT\" = 'P' OR \"HAZMAT\" = 'H' THEN 'Hazardous' \n",
    "                  WHEN \"HAZMAT\" = 'N' THEN 'Not Hazardous' \n",
    "                  ELSE  'n/a' END AS \"hazmat\", \n",
    "             COUNT(1) \n",
    "             FROM transactions \n",
    "             GROUP BY 1\n",
    "             \"\"\"\n",
    "             )"
   ]
  },
  {
   "cell_type": "code",
   "execution_count": null,
   "metadata": {
    "collapsed": false
   },
   "outputs": [],
   "source": [
    "q.fetchall()"
   ]
  },
  {
   "cell_type": "markdown",
   "metadata": {},
   "source": [
    "### Now that you have it working, use SqlAlchemy to show all the tables you currently have"
   ]
  },
  {
   "cell_type": "markdown",
   "metadata": {},
   "source": [
    "MetaData allows you to store all the information about all the tables in your database in a convenient location you have to use the reflect method of MetaData to accomplish this."
   ]
  },
  {
   "cell_type": "code",
   "execution_count": null,
   "metadata": {
    "collapsed": false
   },
   "outputs": [],
   "source": [
    "meta = MetaData()"
   ]
  },
  {
   "cell_type": "code",
   "execution_count": null,
   "metadata": {
    "collapsed": false
   },
   "outputs": [],
   "source": [
    "meta.reflect(engine)"
   ]
  },
  {
   "cell_type": "code",
   "execution_count": null,
   "metadata": {
    "collapsed": false,
    "scrolled": true
   },
   "outputs": [],
   "source": [
    "for table in meta.tables:\n",
    "    print(table)"
   ]
  },
  {
   "cell_type": "code",
   "execution_count": null,
   "metadata": {
    "collapsed": true
   },
   "outputs": [],
   "source": [
    "transactions = meta.tables['transactions']\n",
    "\n",
    "state_latlon = meta.tables['state_latlon']\n",
    "\n",
    "cfs_areas    = meta.tables['cfs_areas']\n",
    "FIPS_States  = meta.tables['FIPS_States']\n",
    "transport_mode = meta.tables['transport_mode']\n",
    "sctg         = meta.tables['sctg']\n",
    "transactions_joined = meta.tables['transactions_joined']"
   ]
  },
  {
   "cell_type": "code",
   "execution_count": null,
   "metadata": {
    "collapsed": false
   },
   "outputs": [],
   "source": [
    "s = select([sctg])\n",
    "r = conn.execute(s)"
   ]
  },
  {
   "cell_type": "code",
   "execution_count": null,
   "metadata": {
    "collapsed": false
   },
   "outputs": [],
   "source": [
    "for row in r:\n",
    "    print(row[sctg.c.Description], row[sctg.c.SCTG])\n",
    "r.close()"
   ]
  },
  {
   "cell_type": "markdown",
   "metadata": {},
   "source": [
    "### Joins"
   ]
  },
  {
   "cell_type": "code",
   "execution_count": null,
   "metadata": {
    "collapsed": false
   },
   "outputs": [],
   "source": [
    "# join fips states with avg lat lon\n",
    "for row in conn.execute(select([state_latlon, FIPS_States]).where(state_latlon.c.state == FIPS_States.c.get('Alpha code'))):\n",
    "    print(row)"
   ]
  },
  {
   "cell_type": "code",
   "execution_count": null,
   "metadata": {
    "collapsed": false
   },
   "outputs": [],
   "source": [
    "FIPS_States.columns.get('Alpha code')"
   ]
  },
  {
   "cell_type": "markdown",
   "metadata": {},
   "source": [
    "### operators\n",
    "SQL Alchemy converts python predicates to sql predicates. So you can describe everything in a pythonic sense."
   ]
  },
  {
   "cell_type": "code",
   "execution_count": null,
   "metadata": {
    "collapsed": false
   },
   "outputs": [],
   "source": [
    "print((FIPS_States.c.get('Alpha code') == 'KK').compile())\n",
    "print(((FIPS_States.c.get('Alpha code') < 'CA') & ('NY' < FIPS_States.c.get('Alpha code'))).compile())"
   ]
  },
  {
   "cell_type": "code",
   "execution_count": null,
   "metadata": {
    "collapsed": false
   },
   "outputs": [],
   "source": [
    "transactions.columns.keys()"
   ]
  },
  {
   "cell_type": "code",
   "execution_count": null,
   "metadata": {
    "collapsed": false
   },
   "outputs": [],
   "source": [
    "for row in conn.execute(select([transactions]).limit(10)).fetchall():\n",
    "    print(row.items())"
   ]
  },
  {
   "cell_type": "code",
   "execution_count": null,
   "metadata": {
    "collapsed": false
   },
   "outputs": [],
   "source": [
    "# to get a list of dicts per row\n",
    "get_row = lambda row: (dict(row.items()))\n",
    "get_rows = lambda row_list: map(get_row, row_list)\n",
    "\n",
    "list_of_dicts = [dict(row.items()) for row in conn.execute(select([transactions]).limit(10)).fetchall()]"
   ]
  },
  {
   "cell_type": "markdown",
   "metadata": {},
   "source": [
    "### Conjunctions\n",
    "Conjunctions can be used to perform and, or, not operations in sql."
   ]
  },
  {
   "cell_type": "code",
   "execution_count": null,
   "metadata": {
    "collapsed": false
   },
   "outputs": [],
   "source": [
    "# get all states that lie above the 35N, and less than -104 longitude\n",
    "\n",
    "# first join the fips and state_latlons\n",
    "j = FIPS_States.join(\n",
    "    state_latlon, \n",
    "    onclause= FIPS_States.c.get(\"Alpha code\") == state_latlon.c.state)\n",
    "\n",
    "# now select from this join\n",
    "s = (select([FIPS_States, state_latlon])\n",
    "     .where(\n",
    "        and_(\n",
    "            state_latlon.c.latitude > 36.2,\n",
    "            state_latlon.c.longitude < -104\n",
    "        )\n",
    "    ).select_from(j)\n",
    ")"
   ]
  },
  {
   "cell_type": "code",
   "execution_count": null,
   "metadata": {
    "collapsed": false
   },
   "outputs": [],
   "source": [
    "conn.execute(s).fetchall()"
   ]
  },
  {
   "cell_type": "code",
   "execution_count": null,
   "metadata": {
    "collapsed": true
   },
   "outputs": [],
   "source": [
    "# now get those along with all the states in the bottom right corner of the US\n",
    "# delinieated by below 35N and right of 88W\n",
    "s = (select([FIPS_States, state_latlon])\n",
    "     .where(or_(\n",
    "        and_(\n",
    "            state_latlon.c.latitude > 36.2,\n",
    "            state_latlon.c.longitude < -104\n",
    "        ),\n",
    "        and_(\n",
    "            state_latlon.c.latitude < 35,\n",
    "            state_latlon.c.longitude > -88)\n",
    "        )\n",
    "    ).select_from(j)\n",
    ")"
   ]
  },
  {
   "cell_type": "code",
   "execution_count": null,
   "metadata": {
    "collapsed": false
   },
   "outputs": [],
   "source": [
    "pprint(str(s))"
   ]
  },
  {
   "cell_type": "code",
   "execution_count": null,
   "metadata": {
    "collapsed": false
   },
   "outputs": [],
   "source": [
    "pprint(str(select([text('sub.\"Alpha code\"')]).select_from(s.alias('sub'))))"
   ]
  },
  {
   "cell_type": "code",
   "execution_count": null,
   "metadata": {
    "collapsed": true
   },
   "outputs": [],
   "source": [
    "from sqlalchemy import desc\n",
    "from sqlalchemy.sql import literal_column"
   ]
  },
  {
   "cell_type": "code",
   "execution_count": null,
   "metadata": {
    "collapsed": false
   },
   "outputs": [],
   "source": [
    "# using text to select subqueries\n",
    "# instead of text, we use literal_column so that we can use the label method\n",
    "conn.execute(select([literal_column('sub.\"Alpha code\"').label(\"alpha code\")]).select_from(s.alias('sub'))\n",
    "            .order_by(desc('alpha code'))).fetchall()"
   ]
  },
  {
   "cell_type": "markdown",
   "metadata": {},
   "source": [
    "#### Binding parameters"
   ]
  },
  {
   "cell_type": "code",
   "execution_count": null,
   "metadata": {
    "collapsed": true
   },
   "outputs": [],
   "source": [
    "from sqlalchemy.sql import bindparam, func"
   ]
  },
  {
   "cell_type": "code",
   "execution_count": null,
   "metadata": {
    "collapsed": true
   },
   "outputs": [],
   "source": [
    "get_results = lambda s, **kwargs: conn.execute(s, kwargs).fetchall()"
   ]
  },
  {
   "cell_type": "code",
   "execution_count": null,
   "metadata": {
    "collapsed": false
   },
   "outputs": [],
   "source": [
    "get_results(\n",
    "    select([FIPS_States])\n",
    "        .where(or_(\n",
    "              FIPS_States.c[\"Alpha code\"] == bindparam('from_'),\n",
    "              FIPS_States.c[\"Alpha code\"] == bindparam('to_')\n",
    "            )\n",
    "        ),\n",
    "    from_ = \"CA\",\n",
    "    to_   = \"TX\"\n",
    ")"
   ]
  },
  {
   "cell_type": "markdown",
   "metadata": {},
   "source": [
    "#### Functions\n",
    "\n",
    "Functions are created using the func keyword.  These are translated to sql function queries.\n",
    "\n",
    "func.myFunc(transactions.c.SHIPMT_WEIGHT) translates to \n",
    "\n",
    "    myFunc(transactions.\"SHIPMT_WEIGHT\")"
   ]
  },
  {
   "cell_type": "code",
   "execution_count": null,
   "metadata": {
    "collapsed": false
   },
   "outputs": [],
   "source": [
    "print(func.myFunc([transactions.c.SHIPMT_VALUE]).compile().params)"
   ]
  },
  {
   "cell_type": "code",
   "execution_count": null,
   "metadata": {
    "collapsed": false
   },
   "outputs": [],
   "source": [
    "conn.execute(select([func.max(transactions.c.SHIPMT_VALUE).label(\"Max Val\")])).scalar()"
   ]
  },
  {
   "cell_type": "markdown",
   "metadata": {},
   "source": [
    "#### Window functions\n",
    "Chain over with functions"
   ]
  },
  {
   "cell_type": "code",
   "execution_count": null,
   "metadata": {
    "collapsed": false
   },
   "outputs": [],
   "source": [
    "list(get_rows(get_results(select([transactions,\n",
    "                                 func.sum(transactions.c.SHIPMT_VALUE).over(\n",
    "                                    order_by=transactions.c.SHIPMT_ID)\n",
    "                                  .label(\"SUM\")\n",
    "                                 ]).limit(10))))"
   ]
  },
  {
   "cell_type": "code",
   "execution_count": null,
   "metadata": {
    "collapsed": true
   },
   "outputs": [],
   "source": [
    "from sqlalchemy.sql import union"
   ]
  },
  {
   "cell_type": "code",
   "execution_count": null,
   "metadata": {
    "collapsed": false
   },
   "outputs": [],
   "source": [
    "u = union(\n",
    "    sctg.select().where(sctg.c.SCTG < 3),\n",
    "    sctg.select().where(sctg.c.SCTG > 10)\n",
    "    )\n",
    "\n",
    "conn.execute(u).fetchall()"
   ]
  },
  {
   "cell_type": "code",
   "execution_count": null,
   "metadata": {
    "collapsed": false
   },
   "outputs": [],
   "source": [
    "query_s = (select([func.count(transactions.c.SHIPMT_ID)])\n",
    "           .where(transactions.c.SCTG).as_scalar())"
   ]
  },
  {
   "cell_type": "code",
   "execution_count": null,
   "metadata": {
    "collapsed": false
   },
   "outputs": [],
   "source": [
    "conn.execute(select([query_s]))"
   ]
  },
  {
   "cell_type": "code",
   "execution_count": null,
   "metadata": {
    "collapsed": false
   },
   "outputs": [],
   "source": [
    "conn.execute(u).fetchone()"
   ]
  },
  {
   "cell_type": "markdown",
   "metadata": {},
   "source": [
    "##### Correlated Subqueries\n",
    "\n",
    "When an enclosed query depends on a table from the enclosing context, it does not need to explicitly provide a FROM clause"
   ]
  },
  {
   "cell_type": "code",
   "execution_count": null,
   "metadata": {
    "collapsed": false
   },
   "outputs": [],
   "source": [
    "stmt = (select([transactions, FIPS_States.c['Alpha code']])\n",
    "        .select_from(\n",
    "        transactions.join(FIPS_States, onclause=transactions.c.ORIG_STATE == FIPS_States.c[\"Numeric code\"]))\n",
    "        .where(FIPS_States.c['Alpha code'].like('C%'))\n",
    "        )"
   ]
  },
  {
   "cell_type": "code",
   "execution_count": null,
   "metadata": {
    "collapsed": true
   },
   "outputs": [],
   "source": [
    "enclosing_stmt = select([transactions.c.SCTG]).select_from(stmt).limit(10)"
   ]
  },
  {
   "cell_type": "code",
   "execution_count": null,
   "metadata": {
    "collapsed": false
   },
   "outputs": [],
   "source": [
    "conn.execute(enclosing_stmt)"
   ]
  },
  {
   "cell_type": "code",
   "execution_count": null,
   "metadata": {
    "collapsed": true
   },
   "outputs": [],
   "source": [
    "transactionsBetweenStates = (select([transactions_joined])\n",
    "                                 .where(\n",
    "                transactions_joined.c.orig_alpha_code==bindparam(\"orig_code\"))\n",
    "                                  .where(\n",
    "                transactions_joined.c.dest_alpha_code==bindparam(\"dest_code\"))\n",
    ")\n"
   ]
  },
  {
   "cell_type": "code",
   "execution_count": null,
   "metadata": {
    "collapsed": false
   },
   "outputs": [],
   "source": [
    "stmt = (select([transactionsBetweenStates.c['SHIPMT_VALUE']])\n",
    ".select_from(transactionsBetweenStates.alias())\n",
    ")\n",
    "\n"
   ]
  },
  {
   "cell_type": "code",
   "execution_count": null,
   "metadata": {
    "collapsed": false
   },
   "outputs": [],
   "source": [
    "get_rows(conn.execute(stmt, orig_code=\"TX\", dest_code=\"WA\").fetchall())"
   ]
  },
  {
   "cell_type": "markdown",
   "metadata": {},
   "source": [
    "##### Controlling correlations\n",
    "\n",
    "You can use the correlate method to control the behavior of correlations"
   ]
  },
  {
   "cell_type": "code",
   "execution_count": null,
   "metadata": {
    "collapsed": true
   },
   "outputs": [],
   "source": []
  },
  {
   "cell_type": "code",
   "execution_count": null,
   "metadata": {
    "collapsed": false
   },
   "outputs": [],
   "source": [
    "import json"
   ]
  },
  {
   "cell_type": "markdown",
   "metadata": {},
   "source": [
    "Now you can export to a json file for a temporary data file"
   ]
  },
  {
   "cell_type": "code",
   "execution_count": null,
   "metadata": {
    "collapsed": false,
    "scrolled": true
   },
   "outputs": [],
   "source": [
    "#with open('app/testdata.json', 'w') as f:\n",
    "#    f.write((json.dumps(list_of_dicts, indent=2, separators=(',', ':'))))"
   ]
  },
  {
   "cell_type": "code",
   "execution_count": null,
   "metadata": {
    "collapsed": false
   },
   "outputs": [],
   "source": [
    "c = case([(transactions.c['ORIG_STATE']==transactions.c['DEST_STATE'], True)], else_=False)"
   ]
  },
  {
   "cell_type": "code",
   "execution_count": null,
   "metadata": {
    "collapsed": false
   },
   "outputs": [],
   "source": [
    "s = select([transactions]).where(c).limit(10);"
   ]
  },
  {
   "cell_type": "code",
   "execution_count": null,
   "metadata": {
    "collapsed": false
   },
   "outputs": [],
   "source": [
    "for i in get_rows(conn.execute(s).fetchall()):\n",
    "    print(i)"
   ]
  },
  {
   "cell_type": "markdown",
   "metadata": {},
   "source": [
    "Data structure\n",
    "\n",
    "{orig_state_code:\n",
    " dest_state_code:\n",
    " orig_coords:\n",
    " dest_coords:\n",
    "}"
   ]
  },
  {
   "cell_type": "code",
   "execution_count": null,
   "metadata": {
    "collapsed": false
   },
   "outputs": [],
   "source": [
    "joined_states = text(\n",
    "    \"\"\"\n",
    "    SELECT \n",
    "        fips.\"Name\" as state_name,\n",
    "        fips.\"Numeric code\" as numeric_code,\n",
    "        state_coords.latitude as lat,\n",
    "        state_coords.longitude as long\n",
    "    FROM \"FIPS_States\" fips\n",
    "    JOIN \"state_latlon\" state_coords\n",
    "    ON state_coords.state = fips.\"Alpha code\"\n",
    "    \"\"\")\n",
    "\n",
    "list(get_rows(conn.execute(joined_states).fetchall()))"
   ]
  },
  {
   "cell_type": "code",
   "execution_count": null,
   "metadata": {
    "collapsed": false
   },
   "outputs": [],
   "source": [
    "states_and_coords = select([state_latlon, FIPS_States]).where(state_latlon.c.state == FIPS_States.c.get('Alpha code'))"
   ]
  },
  {
   "cell_type": "code",
   "execution_count": null,
   "metadata": {
    "collapsed": false
   },
   "outputs": [],
   "source": [
    "conn.execute(states_and_coords)"
   ]
  },
  {
   "cell_type": "code",
   "execution_count": null,
   "metadata": {
    "collapsed": true
   },
   "outputs": [],
   "source": [
    "orig_state = 'CA'\n",
    "dest_state = 'TX'"
   ]
  },
  {
   "cell_type": "code",
   "execution_count": null,
   "metadata": {
    "collapsed": false
   },
   "outputs": [],
   "source": [
    "states = select([FIPS_States]).where(or_(\n",
    "    FIPS_States.c['Alpha code']==orig_state,\n",
    "    FIPS_States.c['Alpha code']==dest_state)\n",
    ")\n",
    "\n",
    "conn.execute(states).fetchall()"
   ]
  },
  {
   "cell_type": "markdown",
   "metadata": {},
   "source": [
    "### I need a way to query a database like so, \n",
    "\n",
    "    \"SELECT * \n",
    "        FROM transactions\n",
    "        WHERE orig_state = 'CA' AND dest_state= 'TX'\n",
    "    \""
   ]
  },
  {
   "cell_type": "code",
   "execution_count": null,
   "metadata": {
    "collapsed": false
   },
   "outputs": [],
   "source": [
    "d = pd.read_sql_query(con = engine, sql = select([FIPS_States]))"
   ]
  },
  {
   "cell_type": "code",
   "execution_count": null,
   "metadata": {
    "collapsed": false
   },
   "outputs": [],
   "source": [
    "d2 = pd.read_sql_query(con = engine, sql = select([transactions]).limit(2000))"
   ]
  },
  {
   "cell_type": "code",
   "execution_count": null,
   "metadata": {
    "collapsed": false
   },
   "outputs": [],
   "source": [
    "d3 = pd.merge(pd.merge(d, d2, left_on=[\"Numeric code\"], right_on=[\"ORIG_STATE\"]), d, \n",
    "         left_on=\"DEST_STATE\", right_on=\"Numeric code\")"
   ]
  },
  {
   "cell_type": "code",
   "execution_count": null,
   "metadata": {
    "collapsed": false
   },
   "outputs": [],
   "source": [
    "d3 = d3.rename(columns={'Name_x': 'Source_Name', \n",
    "                   'Alpha code_x': 'Source_alpha_code',\n",
    "                    'Name_y': 'Dest_Name',\n",
    "                    'Alpha code_y': 'Dest_alpha_code'})"
   ]
  },
  {
   "cell_type": "markdown",
   "metadata": {},
   "source": [
    "Use set operators from python to get the intersection of these predicates"
   ]
  },
  {
   "cell_type": "code",
   "execution_count": null,
   "metadata": {
    "collapsed": false
   },
   "outputs": [],
   "source": [
    "d3[(d3['Dest_alpha_code'] == 'CA') & (d3['Source_alpha_code'] == 'TX')]"
   ]
  },
  {
   "cell_type": "code",
   "execution_count": null,
   "metadata": {
    "collapsed": false
   },
   "outputs": [],
   "source": [
    "gb = d3.groupby(['Dest_alpha_code', 'Source_alpha_code'])"
   ]
  },
  {
   "cell_type": "code",
   "execution_count": null,
   "metadata": {
    "collapsed": false
   },
   "outputs": [],
   "source": [
    "gb.get_group(('CA', 'CA')).SHIPMT_VALUE.describe().reset_index()"
   ]
  },
  {
   "cell_type": "code",
   "execution_count": null,
   "metadata": {
    "collapsed": false
   },
   "outputs": [],
   "source": [
    "gb.groups.keys()"
   ]
  },
  {
   "cell_type": "code",
   "execution_count": null,
   "metadata": {
    "collapsed": false
   },
   "outputs": [],
   "source": []
  },
  {
   "cell_type": "markdown",
   "metadata": {},
   "source": [
    "### This way works, but I'm worried that there will be a lot of overhead joining tables constantly, so I will create a new table that contains the source name, and alpha code along with the destination info into a new table called transactions_joined\n",
    "\n",
    "### You can create a new table from a previous one using sql alchemy's Insert From Select"
   ]
  },
  {
   "cell_type": "code",
   "execution_count": null,
   "metadata": {
    "collapsed": false
   },
   "outputs": [],
   "source": [
    "#list(get_rows(conn.execute(select([FIPS_States.c.get(\"Numeric code\")])).fetchall()))"
   ]
  },
  {
   "cell_type": "code",
   "execution_count": null,
   "metadata": {
    "collapsed": true
   },
   "outputs": [],
   "source": [
    "state_latlon_joined = FIPS_States.join(\n",
    "    state_latlon, onclause=state_latlon.c.state == FIPS_States.c[\"Alpha code\"])"
   ]
  },
  {
   "cell_type": "code",
   "execution_count": null,
   "metadata": {
    "collapsed": true
   },
   "outputs": [],
   "source": [
    "orig = transactions.join(\n",
    "    state_latlon_joined, \n",
    "    onclause=transactions.c.ORIG_STATE == FIPS_States.c.get(\"Numeric code\"))\n",
    "\n",
    "\n",
    "s = select([transactions, \n",
    "            FIPS_States.c.get(\"Alpha code\").label(\"orig_state_alpha_code\"),\n",
    "            FIPS_States.c.Name.label(\"orig_state_name\"),\n",
    "            state_latlon.c.latitude.label('orig_lat'),\n",
    "            state_latlon.c.longitude.label('orig_lon')\n",
    "            ]).select_from(orig).limit(10)\n",
    "\n",
    "list(get_rows(conn.execute(s).fetchall()))"
   ]
  },
  {
   "cell_type": "code",
   "execution_count": null,
   "metadata": {
    "collapsed": false,
    "scrolled": true
   },
   "outputs": [],
   "source": [
    "dest = transactions.join(\n",
    "    state_latlon_joined, \n",
    "    onclause=transactions.c.DEST_STATE == FIPS_States.c.get(\"Numeric code\"))\n",
    "\n",
    "new_table =  (select([s.alias(), \n",
    "            FIPS_States.c.get(\"Alpha code\").label(\"dest_state_alpha_code\"),\n",
    "            FIPS_States.c.Name.label(\"dest_state_name\"),\n",
    "            state_latlon.c.latitude.label('dest_lat'),\n",
    "            state_latlon.c.longitude.label('dest_lon')])\n",
    "            .select_from(dest).limit(10))"
   ]
  },
  {
   "cell_type": "code",
   "execution_count": null,
   "metadata": {
    "collapsed": false
   },
   "outputs": [],
   "source": [
    "list(get_rows(conn.execute(select([new_table.alias()])).fetchall()))"
   ]
  },
  {
   "cell_type": "code",
   "execution_count": null,
   "metadata": {
    "collapsed": false
   },
   "outputs": [],
   "source": [
    "meta.tables['FIPS_States']"
   ]
  },
  {
   "cell_type": "code",
   "execution_count": null,
   "metadata": {
    "collapsed": true
   },
   "outputs": [],
   "source": [
    "t = text(\"\"\"\n",
    "    SELECT transactions.*,\n",
    "        orig.\"Name\" as orig_name,\n",
    "        orig.\"Alpha code\" as orig_alpha_code,\n",
    "        orig.\"latitude\" as orig_lat,\n",
    "        orig.\"longitude\" as orig_long,\n",
    "        dest.\"Name\" as dest_name,\n",
    "        dest.\"Alpha code\" as dest_alpha_code,\n",
    "        dest.\"latitude\" as dest_lat,\n",
    "        dest.\"longitude\" as dest_lon\n",
    "    FROM transactions\n",
    "    JOIN (\n",
    "        SELECT states.*, lonlats.*\n",
    "        FROM \"FIPS_States\" states\n",
    "        JOIN state_latlon lonlats\n",
    "        on states.\"Alpha code\"=lonlats.state\n",
    "         ) orig\n",
    "        ON orig.\"Numeric code\" = transactions.\"ORIG_STATE\"\n",
    "    JOIN (\n",
    "        SELECT states.*, lonlats.*\n",
    "        FROM \"FIPS_States\" states\n",
    "        JOIN state_latlon lonlats\n",
    "        on states.\"Alpha code\"=lonlats.state\n",
    "         ) dest\n",
    "        ON dest.\"Numeric code\" = transactions.\"DEST_STATE\"\n",
    "    WHERE\n",
    "        dest.\"Alpha code\"=:dest_code AND orig.\"Alpha code\" =:orig_code\n",
    "    LIMIT 100\n",
    "        \n",
    "    \"\"\")"
   ]
  },
  {
   "cell_type": "code",
   "execution_count": null,
   "metadata": {
    "collapsed": true
   },
   "outputs": [],
   "source": [
    "select([transactions,\n",
    "        ])"
   ]
  },
  {
   "cell_type": "code",
   "execution_count": null,
   "metadata": {
    "collapsed": false
   },
   "outputs": [],
   "source": [
    "conn.execute(t.params(dest_code=\"CA\", orig_code=\"TX\")).fetchone()"
   ]
  },
  {
   "cell_type": "code",
   "execution_count": null,
   "metadata": {
    "collapsed": false
   },
   "outputs": [],
   "source": [
    "#with open('test_data.json', 'w') as f:\n",
    "#    f.write(\n",
    "#        json.dumps(\n",
    "#            list(get_rows(conn.execute(t).fetchall())),\n",
    "#            indent=2,\n",
    "#            separators=(\",\", \":\")\n",
    "#             ))"
   ]
  },
  {
   "cell_type": "code",
   "execution_count": null,
   "metadata": {
    "collapsed": false
   },
   "outputs": [],
   "source": [
    "from sqlalchemy.sql import table"
   ]
  },
  {
   "cell_type": "code",
   "execution_count": null,
   "metadata": {
    "collapsed": false
   },
   "outputs": [],
   "source": [
    "#new_table = new_table.alias(\"namedStates\")"
   ]
  },
  {
   "cell_type": "code",
   "execution_count": null,
   "metadata": {
    "collapsed": true
   },
   "outputs": [],
   "source": [
    "new_table_t = table(new_table)"
   ]
  },
  {
   "cell_type": "code",
   "execution_count": null,
   "metadata": {
    "collapsed": false
   },
   "outputs": [],
   "source": [
    "new_tableb"
   ]
  },
  {
   "cell_type": "code",
   "execution_count": null,
   "metadata": {
    "collapsed": true
   },
   "outputs": [],
   "source": [
    "orig_ = new_table.join(\n",
    "    state_latlon,\n",
    "    onclause=state_latlon.c.state == new_table.c.orig_state_alpha_code)\n",
    "\n",
    "dest_ = new_table.join(\n",
    "    state_latlon,\n",
    "    onclause=state_latlon.c.state == new_table.c.dest_state_alpha_code)"
   ]
  },
  {
   "cell_type": "code",
   "execution_count": null,
   "metadata": {
    "collapsed": true
   },
   "outputs": [],
   "source": [
    "new_table2 = (select([new_table.alias(),\n",
    "                    state_latlon.c.latitude.label('orig_lat'),\n",
    "                    state_latlon.c.longitude.label('orig_lon')])\n",
    "            .select_from(orig_.alias()))"
   ]
  },
  {
   "cell_type": "code",
   "execution_count": null,
   "metadata": {
    "collapsed": false
   },
   "outputs": [],
   "source": [
    "get_rows(conn.execute(select([new_table2.alias()])))"
   ]
  },
  {
   "cell_type": "code",
   "execution_count": null,
   "metadata": {
    "collapsed": false
   },
   "outputs": [],
   "source": [
    "list(get_rows(conn.execute(select([state_latlon])).fetchall()))"
   ]
  },
  {
   "cell_type": "code",
   "execution_count": null,
   "metadata": {
    "collapsed": false
   },
   "outputs": [],
   "source": [
    "list(get_rows(conn.execute(select([FIPS_States])).fetchall()))"
   ]
  },
  {
   "cell_type": "code",
   "execution_count": null,
   "metadata": {
    "collapsed": false
   },
   "outputs": [],
   "source": [
    "orig = state_latlon_joined.alias(\"orig\")\n",
    "\n",
    "dest = state_latlon_joined.alias(\"dest\")\n",
    "   "
   ]
  },
  {
   "cell_type": "code",
   "execution_count": null,
   "metadata": {
    "collapsed": true
   },
   "outputs": [],
   "source": [
    "orig.c.keys()"
   ]
  },
  {
   "cell_type": "code",
   "execution_count": null,
   "metadata": {
    "collapsed": false
   },
   "outputs": [],
   "source": [
    "from sqlalchemy.sql import bindparam"
   ]
  },
  {
   "cell_type": "code",
   "execution_count": null,
   "metadata": {
    "collapsed": false
   },
   "outputs": [],
   "source": [
    "state_latlon_joined = FIPS_States.join(\n",
    "    state_latlon, onclause=state_latlon.c.state == FIPS_States.c[\"Alpha code\"])\n",
    "\n",
    "stmt = (select([transactions,\n",
    "              orig.c.FIPS_States_Name.label(\"orig_name\"),\n",
    "              orig.c[\"FIPS_States_Alpha code\"].label(\"orig_alpha_code\"),\n",
    "              dest.c[\"FIPS_States_Name\"].label(\"dest_name\"),\n",
    "              dest.c[\"FIPS_States_Alpha code\"].label(\"dest_alpha_code\"),\n",
    "              orig.c.state_latlon_latitude.label(\"orig_lat\"),\n",
    "              orig.c.state_latlon_longitude.label(\"orig_lon\"),\n",
    "              dest.c.state_latlon_latitude.label(\"dest_lat\"),\n",
    "              dest.c.state_latlon_longitude.label(\"dest_lon\")])\n",
    "        .select_from(transactions\n",
    "                    .join(orig, transactions.c.ORIG_STATE == orig.c[\"FIPS_States_Numeric code\"])\n",
    "                    .join(dest, transactions.c.DEST_STATE == dest.c[\"FIPS_States_Numeric code\"]))\n",
    "        )\n",
    "        #.where(orig.c[\"FIPS_States_Alpha code\"] == bindparam(\"orig_code\")))\n",
    "        #.where(dest.c[\"FIPS_States_Alpha code\"] == bindparam(\"dest_code\")))"
   ]
  },
  {
   "cell_type": "code",
   "execution_count": null,
   "metadata": {
    "collapsed": false
   },
   "outputs": [],
   "source": [
    "list(get_rows(conn.execute(stmt.order_by(desc(transactions.c.SHIPMT_VALUE)).limit(10), orig_code='CA').fetchall()))"
   ]
  },
  {
   "cell_type": "markdown",
   "metadata": {},
   "source": [
    "Create table from another table\n"
   ]
  },
  {
   "cell_type": "code",
   "execution_count": null,
   "metadata": {
    "collapsed": false
   },
   "outputs": [],
   "source": [
    "stmt.columns.items()"
   ]
  },
  {
   "cell_type": "code",
   "execution_count": null,
   "metadata": {
    "collapsed": false
   },
   "outputs": [],
   "source": []
  },
  {
   "cell_type": "code",
   "execution_count": null,
   "metadata": {
    "collapsed": false
   },
   "outputs": [],
   "source": [
    "# a way to copy a columns from one table to another\n",
    "t = Table(\"transactions_joined\", meta, *(map(lambda c: c.copy(), stmt.columns)))\n"
   ]
  },
  {
   "cell_type": "code",
   "execution_count": null,
   "metadata": {
    "collapsed": false
   },
   "outputs": [],
   "source": [
    "t.create(bind=engine)"
   ]
  },
  {
   "cell_type": "code",
   "execution_count": null,
   "metadata": {
    "collapsed": false
   },
   "outputs": [],
   "source": [
    "# pass in the column keys and the statement to select from\n",
    "conn.execute(t.insert().from_select(stmt.columns.keys(), stmt))"
   ]
  },
  {
   "cell_type": "code",
   "execution_count": null,
   "metadata": {
    "collapsed": false
   },
   "outputs": [],
   "source": [
    "meta.reflect(engine)"
   ]
  },
  {
   "cell_type": "code",
   "execution_count": null,
   "metadata": {
    "collapsed": false
   },
   "outputs": [],
   "source": [
    "meta.tables.keys()"
   ]
  },
  {
   "cell_type": "code",
   "execution_count": null,
   "metadata": {
    "collapsed": false
   },
   "outputs": [],
   "source": [
    "tj = meta.tables['transactions_joined']"
   ]
  },
  {
   "cell_type": "code",
   "execution_count": null,
   "metadata": {
    "collapsed": false
   },
   "outputs": [],
   "source": [
    "q = (select([tj])\n",
    "     .where(tj.c.orig_alpha_code==bindparam(\"orig_code\"))\n",
    "     .where(tj.c.dest_alpha_code==bindparam(\"dest_code\"))\n",
    "     .order_by(tj.c.SHIPMT_VALUE)\n",
    "     .limit(10))\n",
    "\n",
    "q2 = (select([tj])\n",
    "     .where(tj.c.orig_alpha_code==bindparam(\"orig_code\"))\n",
    "      .order_by(desc(tj.c.SHIPMT_VALUE))\n",
    "      .limit(10))\n",
    "list(get_rows(conn.execute(q, orig_code=\"CA\", dest_code=\"TX\")))"
   ]
  },
  {
   "cell_type": "code",
   "execution_count": null,
   "metadata": {
    "collapsed": false
   },
   "outputs": [],
   "source": [
    "tj.columns.keys()"
   ]
  },
  {
   "cell_type": "code",
   "execution_count": null,
   "metadata": {
    "collapsed": false
   },
   "outputs": [],
   "source": [
    "from sqlalchemy import Index\n",
    "\n",
    "Index('orig_fip', transactions.c.ORIG_STATE)"
   ]
  },
  {
   "cell_type": "code",
   "execution_count": null,
   "metadata": {
    "collapsed": false
   },
   "outputs": [],
   "source": [
    "import timeit"
   ]
  },
  {
   "cell_type": "markdown",
   "metadata": {},
   "source": [
    "I want to experiment with adding an index and testing the response of the query"
   ]
  },
  {
   "cell_type": "code",
   "execution_count": null,
   "metadata": {
    "collapsed": true
   },
   "outputs": [],
   "source": [
    "import time"
   ]
  },
  {
   "cell_type": "code",
   "execution_count": null,
   "metadata": {
    "collapsed": false
   },
   "outputs": [],
   "source": [
    "print(\"We will be running: {}\".format(str(q)))"
   ]
  },
  {
   "cell_type": "markdown",
   "metadata": {},
   "source": [
    "We need to make an index on the orig_alpha_code and dest_alpha_code"
   ]
  },
  {
   "cell_type": "code",
   "execution_count": null,
   "metadata": {
    "collapsed": true
   },
   "outputs": [],
   "source": [
    "index = text(\"CREATE INDEX ALPHA_INDEX ON transactions_joined \"\\\n",
    "             \"(orig_alpha_code, dest_alpha_code)\")"
   ]
  },
  {
   "cell_type": "code",
   "execution_count": null,
   "metadata": {
    "collapsed": false
   },
   "outputs": [],
   "source": [
    "conn.execute(index)"
   ]
  },
  {
   "cell_type": "code",
   "execution_count": null,
   "metadata": {
    "collapsed": false
   },
   "outputs": [],
   "source": [
    "meta.tables['transactions_joined']"
   ]
  },
  {
   "cell_type": "code",
   "execution_count": null,
   "metadata": {
    "collapsed": true
   },
   "outputs": [],
   "source": [
    "#http://stackoverflow.com/questions/5605019/listing-indices-using-sqlalchemy\n",
    "from sqlalchemy.engine import reflection"
   ]
  },
  {
   "cell_type": "code",
   "execution_count": null,
   "metadata": {
    "collapsed": true
   },
   "outputs": [],
   "source": []
  },
  {
   "cell_type": "code",
   "execution_count": null,
   "metadata": {
    "collapsed": false
   },
   "outputs": [],
   "source": [
    "insp = reflection.Inspector.from_engine(engine)\n",
    "indices = []\n",
    "for name in insp.get_table_names():\n",
    "    for index in insp.get_indexes(name):\n",
    "        indices.append((name,index))"
   ]
  },
  {
   "cell_type": "code",
   "execution_count": null,
   "metadata": {
    "collapsed": false
   },
   "outputs": [],
   "source": [
    "indices"
   ]
  },
  {
   "cell_type": "code",
   "execution_count": null,
   "metadata": {
    "collapsed": true
   },
   "outputs": [],
   "source": [
    "import datetime"
   ]
  },
  {
   "cell_type": "code",
   "execution_count": null,
   "metadata": {
    "collapsed": false
   },
   "outputs": [],
   "source": [
    "now = datetime.datetime.now()\n",
    "l = list(get_rows(conn.execute(q, orig_code=\"NY\", dest_code=\"TX\").fetchall()))\n",
    "diff = datetime.datetime.now() - now\n",
    "\n"
   ]
  },
  {
   "cell_type": "code",
   "execution_count": null,
   "metadata": {
    "collapsed": false
   },
   "outputs": [],
   "source": [
    "print(\"It took {} seconds to execute the query\".format(diff))\n",
    "pprint(l)"
   ]
  },
  {
   "cell_type": "code",
   "execution_count": null,
   "metadata": {
    "collapsed": true
   },
   "outputs": [],
   "source": [
    "#http://docs.sqlalchemy.org/en/latest/faq/performance.html#query-profiling\n",
    "from sqlalchemy import event\n",
    "from sqlalchemy.engine import Engine"
   ]
  },
  {
   "cell_type": "code",
   "execution_count": null,
   "metadata": {
    "collapsed": true
   },
   "outputs": [],
   "source": [
    "@event.listens_for(Engine, \"before_cursor_execute\")\n",
    "def before_cursor_execute(conn, cursor, statement, parameters, context, executemany):\n",
    "    conn.info.setdefault('query_start_time', []).append(time.time())\n",
    "    print(\"Start Query: {}\".format(statement))"
   ]
  },
  {
   "cell_type": "code",
   "execution_count": null,
   "metadata": {
    "collapsed": true
   },
   "outputs": [],
   "source": [
    "@event.listens_for(Engine, \"after_cursor_execute\")\n",
    "def after_cursor_execute(conn, cursor, statement, parameters, context, executemany):\n",
    "    total = time.time() - conn.info['query_start_time'].pop(-1)\n",
    "    print(\"Query Done\\nTotal-Time: {}\".format(total))"
   ]
  },
  {
   "cell_type": "code",
   "execution_count": null,
   "metadata": {
    "collapsed": false
   },
   "outputs": [],
   "source": [
    "l = list(get_rows(conn.execute(q2, orig_code=\"CA\").fetchall()))"
   ]
  },
  {
   "cell_type": "code",
   "execution_count": null,
   "metadata": {
    "collapsed": false
   },
   "outputs": [],
   "source": [
    "cmp = q.params(orig_code=\"CA\", dest_code=\"TX\").compile()"
   ]
  },
  {
   "cell_type": "code",
   "execution_count": null,
   "metadata": {
    "collapsed": false
   },
   "outputs": [],
   "source": [
    "print(cmp)"
   ]
  },
  {
   "cell_type": "code",
   "execution_count": null,
   "metadata": {
    "collapsed": false
   },
   "outputs": [],
   "source": [
    "# try creating a new index on shipmt_value\n",
    "i = Index('shipmt_value', tj.c.SHIPMT_VALUE)\n",
    "i.create(engine)"
   ]
  },
  {
   "cell_type": "code",
   "execution_count": null,
   "metadata": {
    "collapsed": false,
    "scrolled": true
   },
   "outputs": [],
   "source": [
    "l = list(get_rows(conn.execute(q, orig_code=\"WY\", dest_code=\"WY\").fetchall()))"
   ]
  },
  {
   "cell_type": "code",
   "execution_count": null,
   "metadata": {
    "collapsed": false
   },
   "outputs": [],
   "source": [
    "# that index made it much faster\n",
    "# let's try adding a functional index as well, a desc version of shipmt_value\n",
    "i = Index('shipmt_value_desc', tj.c.SHIPMT_VALUE.desc())\n",
    "i.create(engine)"
   ]
  },
  {
   "cell_type": "markdown",
   "metadata": {},
   "source": [
    "### Adding indexes greatly reduces time!"
   ]
  },
  {
   "cell_type": "markdown",
   "metadata": {
    "collapsed": true
   },
   "source": [
    "## Now I will be figuring out the queries needed for the other data views"
   ]
  },
  {
   "cell_type": "code",
   "execution_count": null,
   "metadata": {
    "collapsed": false
   },
   "outputs": [],
   "source": [
    "# we want to get the sctg names joined\n",
    "q = (select([tj.c.SCTG, func.count(tj.c.SHIPMT_ID).label(\"counts\")])\n",
    "     .where(and_(\n",
    "        tj.c.dest_alpha_code == 'TX',\n",
    "        tj.c.orig_alpha_code == 'WY'))\n",
    "     )\n",
    "        "
   ]
  },
  {
   "cell_type": "code",
   "execution_count": null,
   "metadata": {
    "collapsed": false
   },
   "outputs": [],
   "source": [
    "g1 = q.group_by(tj.c.SCTG)"
   ]
  },
  {
   "cell_type": "code",
   "execution_count": null,
   "metadata": {
    "collapsed": false
   },
   "outputs": [],
   "source": [
    "for i in get_rows(conn.execute(g1.limit(10)).fetchall()):\n",
    "    print(i)"
   ]
  },
  {
   "cell_type": "code",
   "execution_count": null,
   "metadata": {
    "collapsed": false
   },
   "outputs": [],
   "source": [
    "sctg.columns.keys()"
   ]
  },
  {
   "cell_type": "code",
   "execution_count": null,
   "metadata": {
    "collapsed": false
   },
   "outputs": [],
   "source": []
  },
  {
   "cell_type": "code",
   "execution_count": null,
   "metadata": {
    "collapsed": false,
    "scrolled": false
   },
   "outputs": [],
   "source": [
    "for i in get_rows(conn.execute(select([g1.alias(), sctg]).where(tj.c.SCTG == cast(sctg.c.SCTG, TEXT()))).fetchall()):\n",
    "    print(i)"
   ]
  },
  {
   "cell_type": "code",
   "execution_count": null,
   "metadata": {
    "collapsed": true
   },
   "outputs": [],
   "source": [
    "from sqlalchemy import cast, Numeric, String, TEXT"
   ]
  },
  {
   "cell_type": "code",
   "execution_count": null,
   "metadata": {
    "collapsed": false
   },
   "outputs": [],
   "source": [
    "tj.c.SCTG, print(cast(sctg.c.SCTG, TEXT()))"
   ]
  }
 ],
 "metadata": {
  "kernelspec": {
   "display_name": "Python 3",
   "language": "python",
   "name": "python3"
  },
  "language_info": {
   "codemirror_mode": {
    "name": "ipython",
    "version": 3
   },
   "file_extension": ".py",
   "mimetype": "text/x-python",
   "name": "python",
   "nbconvert_exporter": "python",
   "pygments_lexer": "ipython3",
   "version": "3.4.2"
  }
 },
 "nbformat": 4,
 "nbformat_minor": 0
}
