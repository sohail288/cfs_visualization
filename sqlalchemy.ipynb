{
 "cells": [
  {
   "cell_type": "markdown",
   "metadata": {},
   "source": [
    "## SQL Alchemy run through"
   ]
  },
  {
   "cell_type": "markdown",
   "metadata": {},
   "source": [
    "In the previous notebook, we made an RDS Instance that contains all of our tables. In this subsection, we will go over retrieving this information using SQL Alchemy"
   ]
  },
  {
   "cell_type": "markdown",
   "metadata": {},
   "source": [
    "## Making the engine"
   ]
  },
  {
   "cell_type": "code",
   "execution_count": 1,
   "metadata": {
    "collapsed": false
   },
   "outputs": [],
   "source": [
    "from sqlalchemy import create_engine, select\n",
    "from sqlalchemy.dialects.postgresql import psycopg2\n",
    "from sqlalchemy import Table, Column, Integer, String, MetaData, ForeignKey\n",
    "import psycopg2\n",
    "import sqlalchemy"
   ]
  },
  {
   "cell_type": "code",
   "execution_count": 2,
   "metadata": {
    "collapsed": true
   },
   "outputs": [],
   "source": [
    "import boto3\n",
    "import pandas as pd"
   ]
  },
  {
   "cell_type": "code",
   "execution_count": 3,
   "metadata": {
    "collapsed": false
   },
   "outputs": [
    {
     "data": {
      "text/plain": [
       "True"
      ]
     },
     "execution_count": 3,
     "metadata": {},
     "output_type": "execute_result"
    }
   ],
   "source": [
    "int(sqlalchemy.__version__[0]) >= 1"
   ]
  },
  {
   "cell_type": "code",
   "execution_count": 4,
   "metadata": {
    "collapsed": false
   },
   "outputs": [],
   "source": [
    "from sqlalchemy.sql import and_, or_"
   ]
  },
  {
   "cell_type": "code",
   "execution_count": 5,
   "metadata": {
    "collapsed": true
   },
   "outputs": [],
   "source": [
    "from sqlalchemy import func, text, case"
   ]
  },
  {
   "cell_type": "code",
   "execution_count": 6,
   "metadata": {
    "collapsed": true
   },
   "outputs": [],
   "source": [
    "from pprint import pprint"
   ]
  },
  {
   "cell_type": "markdown",
   "metadata": {},
   "source": [
    "### first get the rds instance we deployed earlier"
   ]
  },
  {
   "cell_type": "code",
   "execution_count": 7,
   "metadata": {
    "collapsed": false
   },
   "outputs": [],
   "source": [
    "rds = boto3.client('rds')"
   ]
  },
  {
   "cell_type": "code",
   "execution_count": 8,
   "metadata": {
    "collapsed": true
   },
   "outputs": [],
   "source": [
    "def getAddressAndPort(instance_identifier):\n",
    "    import boto3\n",
    "    rds_client = boto3.client('rds')\n",
    "\n",
    "    instance =filter(\n",
    "        lambda instance: instance['DBInstanceIdentifier'] == instance_identifier,\n",
    "                           rds.describe_db_instances()['DBInstances'])\n",
    "    endpoint= list(instance)[0]['Endpoint']\n",
    "    address, port = endpoint['Address'], endpoint['Port']\n",
    "    return address, port\n",
    "\n"
   ]
  },
  {
   "cell_type": "code",
   "execution_count": 9,
   "metadata": {
    "collapsed": false
   },
   "outputs": [
    {
     "data": {
      "text/plain": [
       "('cfsdb.cs4yyoqmq4gl.us-west-1.rds.amazonaws.com', 5432)"
      ]
     },
     "execution_count": 9,
     "metadata": {},
     "output_type": "execute_result"
    }
   ],
   "source": [
    "getAddressAndPort('cfsdb')"
   ]
  },
  {
   "cell_type": "code",
   "execution_count": 10,
   "metadata": {
    "collapsed": false
   },
   "outputs": [],
   "source": [
    "instances = list(filter(lambda instance: instance['DBInstanceStatus']=='available', rds.describe_db_instances()['DBInstances']))"
   ]
  },
  {
   "cell_type": "code",
   "execution_count": 11,
   "metadata": {
    "collapsed": true
   },
   "outputs": [],
   "source": [
    "instance = instances[0]"
   ]
  },
  {
   "cell_type": "code",
   "execution_count": 12,
   "metadata": {
    "collapsed": false
   },
   "outputs": [
    {
     "data": {
      "text/plain": [
       "[{'AllocatedStorage': 5,\n",
       "  'AutoMinorVersionUpgrade': True,\n",
       "  'AvailabilityZone': 'us-west-1c',\n",
       "  'BackupRetentionPeriod': 5,\n",
       "  'CACertificateIdentifier': 'rds-ca-2015',\n",
       "  'CopyTagsToSnapshot': False,\n",
       "  'DBInstanceClass': 'db.m4.large',\n",
       "  'DBInstanceIdentifier': 'cfsdb',\n",
       "  'DBInstanceStatus': 'available',\n",
       "  'DBName': 'cfsdb',\n",
       "  'DBParameterGroups': [{'DBParameterGroupName': 'default.postgres9.4',\n",
       "    'ParameterApplyStatus': 'in-sync'}],\n",
       "  'DBSecurityGroups': [],\n",
       "  'DBSubnetGroup': {'DBSubnetGroupDescription': 'default',\n",
       "   'DBSubnetGroupName': 'default',\n",
       "   'SubnetGroupStatus': 'Complete',\n",
       "   'Subnets': [{'SubnetAvailabilityZone': {'Name': 'us-west-1c'},\n",
       "     'SubnetIdentifier': 'subnet-1d5ab444',\n",
       "     'SubnetStatus': 'Active'},\n",
       "    {'SubnetAvailabilityZone': {'Name': 'us-west-1a'},\n",
       "     'SubnetIdentifier': 'subnet-e9b1188c',\n",
       "     'SubnetStatus': 'Active'}],\n",
       "   'VpcId': 'vpc-bba470de'},\n",
       "  'DbInstancePort': 0,\n",
       "  'DbiResourceId': 'db-MRSQSSQK446ID2RK4BSFQ52DWE',\n",
       "  'Endpoint': {'Address': 'cfsdb.cs4yyoqmq4gl.us-west-1.rds.amazonaws.com',\n",
       "   'Port': 5432},\n",
       "  'Engine': 'postgres',\n",
       "  'EngineVersion': '9.4.1',\n",
       "  'InstanceCreateTime': datetime.datetime(2015, 12, 7, 8, 19, 6, 762000, tzinfo=tzutc()),\n",
       "  'LatestRestorableTime': datetime.datetime(2016, 3, 11, 7, 6, 11, tzinfo=tzutc()),\n",
       "  'LicenseModel': 'postgresql-license',\n",
       "  'MasterUsername': 'TestUser',\n",
       "  'MultiAZ': False,\n",
       "  'OptionGroupMemberships': [{'OptionGroupName': 'default:postgres-9-4',\n",
       "    'Status': 'in-sync'}],\n",
       "  'PendingModifiedValues': {},\n",
       "  'PreferredBackupWindow': '10:11-10:41',\n",
       "  'PreferredMaintenanceWindow': 'mon:06:00-mon:10:00',\n",
       "  'PubliclyAccessible': True,\n",
       "  'ReadReplicaDBInstanceIdentifiers': [],\n",
       "  'StorageEncrypted': False,\n",
       "  'StorageType': 'standard',\n",
       "  'VpcSecurityGroups': [{'Status': 'active',\n",
       "    'VpcSecurityGroupId': 'sg-be7ec2db'}]}]"
      ]
     },
     "execution_count": 12,
     "metadata": {},
     "output_type": "execute_result"
    }
   ],
   "source": [
    "instances"
   ]
  },
  {
   "cell_type": "code",
   "execution_count": 13,
   "metadata": {
    "collapsed": false
   },
   "outputs": [],
   "source": [
    "address, port = instance['Endpoint']['Address'], instance['Endpoint']['Port']\n",
    "db_name = instance['DBName']\n",
    "username = instance['MasterUsername']\n",
    "password = 'TestPassword'"
   ]
  },
  {
   "cell_type": "code",
   "execution_count": 14,
   "metadata": {
    "collapsed": false,
    "scrolled": true
   },
   "outputs": [
    {
     "data": {
      "text/plain": [
       "('cfsdb.cs4yyoqmq4gl.us-west-1.rds.amazonaws.com', 'cfsdb')"
      ]
     },
     "execution_count": 14,
     "metadata": {},
     "output_type": "execute_result"
    }
   ],
   "source": [
    "address, db_name"
   ]
  },
  {
   "cell_type": "code",
   "execution_count": 15,
   "metadata": {
    "collapsed": false
   },
   "outputs": [],
   "source": [
    "engine = create_engine('postgresql+psycopg2://{username}:{password}@{add}:{port}/{db_name}'.format(\n",
    "    username=username,\n",
    "    password=password,\n",
    "    add=address,\n",
    "    port=port,\n",
    "    db_name=db_name), echo=True)"
   ]
  },
  {
   "cell_type": "code",
   "execution_count": 16,
   "metadata": {
    "collapsed": false
   },
   "outputs": [
    {
     "name": "stdout",
     "output_type": "stream",
     "text": [
      "2016-03-10 23:11:03,234 INFO sqlalchemy.engine.base.Engine select version()\n",
      "2016-03-10 23:11:03,235 INFO sqlalchemy.engine.base.Engine {}\n",
      "2016-03-10 23:11:03,292 INFO sqlalchemy.engine.base.Engine select current_schema()\n",
      "2016-03-10 23:11:03,293 INFO sqlalchemy.engine.base.Engine {}\n",
      "2016-03-10 23:11:03,356 INFO sqlalchemy.engine.base.Engine SELECT CAST('test plain returns' AS VARCHAR(60)) AS anon_1\n",
      "2016-03-10 23:11:03,357 INFO sqlalchemy.engine.base.Engine {}\n",
      "2016-03-10 23:11:03,383 INFO sqlalchemy.engine.base.Engine SELECT CAST('test unicode returns' AS VARCHAR(60)) AS anon_1\n",
      "2016-03-10 23:11:03,384 INFO sqlalchemy.engine.base.Engine {}\n",
      "2016-03-10 23:11:03,440 INFO sqlalchemy.engine.base.Engine show standard_conforming_strings\n",
      "2016-03-10 23:11:03,441 INFO sqlalchemy.engine.base.Engine {}\n"
     ]
    }
   ],
   "source": [
    "conn = engine.connect()"
   ]
  },
  {
   "cell_type": "code",
   "execution_count": null,
   "metadata": {
    "collapsed": false
   },
   "outputs": [],
   "source": [
    "# at this point we can remove entry 0 that we used in the earlier notebook\n",
    "conn.execute(\"\"\"\n",
    "             DELETE FROM ONLY transactions\n",
    "             WHERE \"SHIPMT_ID\" = 0 \"\"\")"
   ]
  },
  {
   "cell_type": "code",
   "execution_count": 17,
   "metadata": {
    "collapsed": false
   },
   "outputs": [
    {
     "name": "stdout",
     "output_type": "stream",
     "text": [
      "2016-02-08 21:00:12,307 INFO sqlalchemy.engine.base.Engine \n",
      "    SELECT  \"SHIPMT_ID\" \n",
      "    FROM transactions\n",
      "    LIMIT 1\n",
      "    \n"
     ]
    },
    {
     "name": "stderr",
     "output_type": "stream",
     "text": [
      "INFO:sqlalchemy.engine.base.Engine:\n",
      "    SELECT  \"SHIPMT_ID\" \n",
      "    FROM transactions\n",
      "    LIMIT 1\n",
      "    \n"
     ]
    },
    {
     "name": "stdout",
     "output_type": "stream",
     "text": [
      "2016-02-08 21:00:12,309 INFO sqlalchemy.engine.base.Engine {}\n"
     ]
    },
    {
     "name": "stderr",
     "output_type": "stream",
     "text": [
      "INFO:sqlalchemy.engine.base.Engine:{}\n"
     ]
    }
   ],
   "source": [
    "assert conn.execute(\"\"\"\n",
    "    SELECT  \"SHIPMT_ID\" \n",
    "    FROM transactions\n",
    "    LIMIT 1\n",
    "    \"\"\").fetchall()[0][0] == 1, \"Failed to delete row\""
   ]
  },
  {
   "cell_type": "code",
   "execution_count": 18,
   "metadata": {
    "collapsed": false
   },
   "outputs": [
    {
     "name": "stdout",
     "output_type": "stream",
     "text": [
      "2016-02-08 21:00:32,182 INFO sqlalchemy.engine.base.Engine \n",
      "             SELECT \n",
      "             CASE WHEN \"HAZMAT\" = 'P' OR \"HAZMAT\" = 'H' THEN 'Hazardous' \n",
      "                  WHEN \"HAZMAT\" = 'N' THEN 'Not Hazardous' \n",
      "                  ELSE  'n/a' END AS \"hazmat\", \n",
      "             COUNT(1) \n",
      "             FROM transactions \n",
      "             GROUP BY 1\n",
      "             \n"
     ]
    },
    {
     "name": "stderr",
     "output_type": "stream",
     "text": [
      "INFO:sqlalchemy.engine.base.Engine:\n",
      "             SELECT \n",
      "             CASE WHEN \"HAZMAT\" = 'P' OR \"HAZMAT\" = 'H' THEN 'Hazardous' \n",
      "                  WHEN \"HAZMAT\" = 'N' THEN 'Not Hazardous' \n",
      "                  ELSE  'n/a' END AS \"hazmat\", \n",
      "             COUNT(1) \n",
      "             FROM transactions \n",
      "             GROUP BY 1\n",
      "             \n"
     ]
    },
    {
     "name": "stdout",
     "output_type": "stream",
     "text": [
      "2016-02-08 21:00:32,183 INFO sqlalchemy.engine.base.Engine {}\n"
     ]
    },
    {
     "name": "stderr",
     "output_type": "stream",
     "text": [
      "INFO:sqlalchemy.engine.base.Engine:{}\n"
     ]
    }
   ],
   "source": [
    "# first try some basic sql queries\n",
    "# get hazardous or not hazardous\n",
    "q = conn.execute(\"\"\"\n",
    "             SELECT \n",
    "             CASE WHEN \"HAZMAT\" = 'P' OR \"HAZMAT\" = 'H' THEN 'Hazardous' \n",
    "                  WHEN \"HAZMAT\" = 'N' THEN 'Not Hazardous' \n",
    "                  ELSE  'n/a' END AS \"hazmat\", \n",
    "             COUNT(1) \n",
    "             FROM transactions \n",
    "             GROUP BY 1\n",
    "             \"\"\"\n",
    "             )"
   ]
  },
  {
   "cell_type": "code",
   "execution_count": 19,
   "metadata": {
    "collapsed": false
   },
   "outputs": [
    {
     "data": {
      "text/plain": [
       "[('Hazardous', 302979), ('Not Hazardous', 4244682)]"
      ]
     },
     "execution_count": 19,
     "metadata": {},
     "output_type": "execute_result"
    }
   ],
   "source": [
    "q.fetchall()"
   ]
  },
  {
   "cell_type": "markdown",
   "metadata": {},
   "source": [
    "### Now that you have it working, use SqlAlchemy to show all the tables you currently have"
   ]
  },
  {
   "cell_type": "markdown",
   "metadata": {},
   "source": [
    "MetaData allows you to store all the information about all the tables in your database in a convenient location you have to use the reflect method of MetaData to accomplish this."
   ]
  },
  {
   "cell_type": "code",
   "execution_count": 20,
   "metadata": {
    "collapsed": false
   },
   "outputs": [],
   "source": [
    "meta = MetaData()"
   ]
  },
  {
   "cell_type": "code",
   "execution_count": 21,
   "metadata": {
    "collapsed": false
   },
   "outputs": [
    {
     "name": "stdout",
     "output_type": "stream",
     "text": [
      "2016-02-08 21:01:09,735 INFO sqlalchemy.engine.base.Engine SELECT relname FROM pg_class c WHERE relkind = 'r' AND 'public' = (select nspname from pg_namespace n where n.oid = c.relnamespace) \n"
     ]
    },
    {
     "name": "stderr",
     "output_type": "stream",
     "text": [
      "INFO:sqlalchemy.engine.base.Engine:SELECT relname FROM pg_class c WHERE relkind = 'r' AND 'public' = (select nspname from pg_namespace n where n.oid = c.relnamespace) \n"
     ]
    },
    {
     "name": "stdout",
     "output_type": "stream",
     "text": [
      "2016-02-08 21:01:09,736 INFO sqlalchemy.engine.base.Engine {}\n"
     ]
    },
    {
     "name": "stderr",
     "output_type": "stream",
     "text": [
      "INFO:sqlalchemy.engine.base.Engine:{}\n"
     ]
    },
    {
     "name": "stdout",
     "output_type": "stream",
     "text": [
      "2016-02-08 21:01:09,797 INFO sqlalchemy.engine.base.Engine \n",
      "            SELECT c.oid\n",
      "            FROM pg_catalog.pg_class c\n",
      "            LEFT JOIN pg_catalog.pg_namespace n ON n.oid = c.relnamespace\n",
      "            WHERE (pg_catalog.pg_table_is_visible(c.oid))\n",
      "            AND c.relname = %(table_name)s AND c.relkind in ('r', 'v', 'm', 'f')\n",
      "        \n"
     ]
    },
    {
     "name": "stderr",
     "output_type": "stream",
     "text": [
      "INFO:sqlalchemy.engine.base.Engine:\n",
      "            SELECT c.oid\n",
      "            FROM pg_catalog.pg_class c\n",
      "            LEFT JOIN pg_catalog.pg_namespace n ON n.oid = c.relnamespace\n",
      "            WHERE (pg_catalog.pg_table_is_visible(c.oid))\n",
      "            AND c.relname = %(table_name)s AND c.relkind in ('r', 'v', 'm', 'f')\n",
      "        \n"
     ]
    },
    {
     "name": "stdout",
     "output_type": "stream",
     "text": [
      "2016-02-08 21:01:09,798 INFO sqlalchemy.engine.base.Engine {'table_name': 'transport_mode'}\n"
     ]
    },
    {
     "name": "stderr",
     "output_type": "stream",
     "text": [
      "INFO:sqlalchemy.engine.base.Engine:{'table_name': 'transport_mode'}\n"
     ]
    },
    {
     "name": "stdout",
     "output_type": "stream",
     "text": [
      "2016-02-08 21:01:09,828 INFO sqlalchemy.engine.base.Engine \n",
      "            SELECT a.attname,\n",
      "              pg_catalog.format_type(a.atttypid, a.atttypmod),\n",
      "              (SELECT pg_catalog.pg_get_expr(d.adbin, d.adrelid)\n",
      "                FROM pg_catalog.pg_attrdef d\n",
      "               WHERE d.adrelid = a.attrelid AND d.adnum = a.attnum\n",
      "               AND a.atthasdef)\n",
      "              AS DEFAULT,\n",
      "              a.attnotnull, a.attnum, a.attrelid as table_oid\n",
      "            FROM pg_catalog.pg_attribute a\n",
      "            WHERE a.attrelid = %(table_oid)s\n",
      "            AND a.attnum > 0 AND NOT a.attisdropped\n",
      "            ORDER BY a.attnum\n",
      "        \n"
     ]
    },
    {
     "name": "stderr",
     "output_type": "stream",
     "text": [
      "INFO:sqlalchemy.engine.base.Engine:\n",
      "            SELECT a.attname,\n",
      "              pg_catalog.format_type(a.atttypid, a.atttypmod),\n",
      "              (SELECT pg_catalog.pg_get_expr(d.adbin, d.adrelid)\n",
      "                FROM pg_catalog.pg_attrdef d\n",
      "               WHERE d.adrelid = a.attrelid AND d.adnum = a.attnum\n",
      "               AND a.atthasdef)\n",
      "              AS DEFAULT,\n",
      "              a.attnotnull, a.attnum, a.attrelid as table_oid\n",
      "            FROM pg_catalog.pg_attribute a\n",
      "            WHERE a.attrelid = %(table_oid)s\n",
      "            AND a.attnum > 0 AND NOT a.attisdropped\n",
      "            ORDER BY a.attnum\n",
      "        \n"
     ]
    },
    {
     "name": "stdout",
     "output_type": "stream",
     "text": [
      "2016-02-08 21:01:09,830 INFO sqlalchemy.engine.base.Engine {'table_oid': 16395}\n"
     ]
    },
    {
     "name": "stderr",
     "output_type": "stream",
     "text": [
      "INFO:sqlalchemy.engine.base.Engine:{'table_oid': 16395}\n"
     ]
    },
    {
     "name": "stdout",
     "output_type": "stream",
     "text": [
      "2016-02-08 21:01:09,860 INFO sqlalchemy.engine.base.Engine \n",
      "            SELECT t.typname as \"name\",\n",
      "               pg_catalog.format_type(t.typbasetype, t.typtypmod) as \"attype\",\n",
      "               not t.typnotnull as \"nullable\",\n",
      "               t.typdefault as \"default\",\n",
      "               pg_catalog.pg_type_is_visible(t.oid) as \"visible\",\n",
      "               n.nspname as \"schema\"\n",
      "            FROM pg_catalog.pg_type t\n",
      "               LEFT JOIN pg_catalog.pg_namespace n ON n.oid = t.typnamespace\n",
      "            WHERE t.typtype = 'd'\n",
      "        \n"
     ]
    },
    {
     "name": "stderr",
     "output_type": "stream",
     "text": [
      "INFO:sqlalchemy.engine.base.Engine:\n",
      "            SELECT t.typname as \"name\",\n",
      "               pg_catalog.format_type(t.typbasetype, t.typtypmod) as \"attype\",\n",
      "               not t.typnotnull as \"nullable\",\n",
      "               t.typdefault as \"default\",\n",
      "               pg_catalog.pg_type_is_visible(t.oid) as \"visible\",\n",
      "               n.nspname as \"schema\"\n",
      "            FROM pg_catalog.pg_type t\n",
      "               LEFT JOIN pg_catalog.pg_namespace n ON n.oid = t.typnamespace\n",
      "            WHERE t.typtype = 'd'\n",
      "        \n"
     ]
    },
    {
     "name": "stdout",
     "output_type": "stream",
     "text": [
      "2016-02-08 21:01:09,862 INFO sqlalchemy.engine.base.Engine {}\n"
     ]
    },
    {
     "name": "stderr",
     "output_type": "stream",
     "text": [
      "INFO:sqlalchemy.engine.base.Engine:{}\n"
     ]
    },
    {
     "name": "stdout",
     "output_type": "stream",
     "text": [
      "2016-02-08 21:01:09,893 INFO sqlalchemy.engine.base.Engine \n",
      "            SELECT t.typname as \"name\",\n",
      "               -- no enum defaults in 8.4 at least\n",
      "               -- t.typdefault as \"default\",\n",
      "               pg_catalog.pg_type_is_visible(t.oid) as \"visible\",\n",
      "               n.nspname as \"schema\",\n",
      "               e.enumlabel as \"label\"\n",
      "            FROM pg_catalog.pg_type t\n",
      "                 LEFT JOIN pg_catalog.pg_namespace n ON n.oid = t.typnamespace\n",
      "                 LEFT JOIN pg_catalog.pg_enum e ON t.oid = e.enumtypid\n",
      "            WHERE t.typtype = 'e'\n",
      "        ORDER BY \"schema\", \"name\", e.oid\n"
     ]
    },
    {
     "name": "stderr",
     "output_type": "stream",
     "text": [
      "INFO:sqlalchemy.engine.base.Engine:\n",
      "            SELECT t.typname as \"name\",\n",
      "               -- no enum defaults in 8.4 at least\n",
      "               -- t.typdefault as \"default\",\n",
      "               pg_catalog.pg_type_is_visible(t.oid) as \"visible\",\n",
      "               n.nspname as \"schema\",\n",
      "               e.enumlabel as \"label\"\n",
      "            FROM pg_catalog.pg_type t\n",
      "                 LEFT JOIN pg_catalog.pg_namespace n ON n.oid = t.typnamespace\n",
      "                 LEFT JOIN pg_catalog.pg_enum e ON t.oid = e.enumtypid\n",
      "            WHERE t.typtype = 'e'\n",
      "        ORDER BY \"schema\", \"name\", e.oid\n"
     ]
    },
    {
     "name": "stdout",
     "output_type": "stream",
     "text": [
      "2016-02-08 21:01:09,894 INFO sqlalchemy.engine.base.Engine {}\n"
     ]
    },
    {
     "name": "stderr",
     "output_type": "stream",
     "text": [
      "INFO:sqlalchemy.engine.base.Engine:{}\n"
     ]
    },
    {
     "name": "stdout",
     "output_type": "stream",
     "text": [
      "2016-02-08 21:01:09,925 INFO sqlalchemy.engine.base.Engine \n",
      "                SELECT a.attname\n",
      "                FROM pg_attribute a JOIN (\n",
      "                    SELECT unnest(ix.indkey) attnum,\n",
      "                           generate_subscripts(ix.indkey, 1) ord\n",
      "                    FROM pg_index ix\n",
      "                    WHERE ix.indrelid = %(table_oid)s AND ix.indisprimary\n",
      "                    ) k ON a.attnum=k.attnum\n",
      "                WHERE a.attrelid = %(table_oid)s\n",
      "                ORDER BY k.ord\n",
      "            \n"
     ]
    },
    {
     "name": "stderr",
     "output_type": "stream",
     "text": [
      "INFO:sqlalchemy.engine.base.Engine:\n",
      "                SELECT a.attname\n",
      "                FROM pg_attribute a JOIN (\n",
      "                    SELECT unnest(ix.indkey) attnum,\n",
      "                           generate_subscripts(ix.indkey, 1) ord\n",
      "                    FROM pg_index ix\n",
      "                    WHERE ix.indrelid = %(table_oid)s AND ix.indisprimary\n",
      "                    ) k ON a.attnum=k.attnum\n",
      "                WHERE a.attrelid = %(table_oid)s\n",
      "                ORDER BY k.ord\n",
      "            \n"
     ]
    },
    {
     "name": "stdout",
     "output_type": "stream",
     "text": [
      "2016-02-08 21:01:09,926 INFO sqlalchemy.engine.base.Engine {'table_oid': 16395}\n"
     ]
    },
    {
     "name": "stderr",
     "output_type": "stream",
     "text": [
      "INFO:sqlalchemy.engine.base.Engine:{'table_oid': 16395}\n"
     ]
    },
    {
     "name": "stdout",
     "output_type": "stream",
     "text": [
      "2016-02-08 21:01:09,955 INFO sqlalchemy.engine.base.Engine \n",
      "        SELECT conname\n",
      "           FROM  pg_catalog.pg_constraint r\n",
      "           WHERE r.conrelid = %(table_oid)s AND r.contype = 'p'\n",
      "           ORDER BY 1\n",
      "        \n"
     ]
    },
    {
     "name": "stderr",
     "output_type": "stream",
     "text": [
      "INFO:sqlalchemy.engine.base.Engine:\n",
      "        SELECT conname\n",
      "           FROM  pg_catalog.pg_constraint r\n",
      "           WHERE r.conrelid = %(table_oid)s AND r.contype = 'p'\n",
      "           ORDER BY 1\n",
      "        \n"
     ]
    },
    {
     "name": "stdout",
     "output_type": "stream",
     "text": [
      "2016-02-08 21:01:09,956 INFO sqlalchemy.engine.base.Engine {'table_oid': 16395}\n"
     ]
    },
    {
     "name": "stderr",
     "output_type": "stream",
     "text": [
      "INFO:sqlalchemy.engine.base.Engine:{'table_oid': 16395}\n"
     ]
    },
    {
     "name": "stdout",
     "output_type": "stream",
     "text": [
      "2016-02-08 21:01:09,988 INFO sqlalchemy.engine.base.Engine \n",
      "          SELECT r.conname,\n",
      "                pg_catalog.pg_get_constraintdef(r.oid, true) as condef,\n",
      "                n.nspname as conschema\n",
      "          FROM  pg_catalog.pg_constraint r,\n",
      "                pg_namespace n,\n",
      "                pg_class c\n",
      "\n",
      "          WHERE r.conrelid = %(table)s AND\n",
      "                r.contype = 'f' AND\n",
      "                c.oid = confrelid AND\n",
      "                n.oid = c.relnamespace\n",
      "          ORDER BY 1\n",
      "        \n"
     ]
    },
    {
     "name": "stderr",
     "output_type": "stream",
     "text": [
      "INFO:sqlalchemy.engine.base.Engine:\n",
      "          SELECT r.conname,\n",
      "                pg_catalog.pg_get_constraintdef(r.oid, true) as condef,\n",
      "                n.nspname as conschema\n",
      "          FROM  pg_catalog.pg_constraint r,\n",
      "                pg_namespace n,\n",
      "                pg_class c\n",
      "\n",
      "          WHERE r.conrelid = %(table)s AND\n",
      "                r.contype = 'f' AND\n",
      "                c.oid = confrelid AND\n",
      "                n.oid = c.relnamespace\n",
      "          ORDER BY 1\n",
      "        \n"
     ]
    },
    {
     "name": "stdout",
     "output_type": "stream",
     "text": [
      "2016-02-08 21:01:09,990 INFO sqlalchemy.engine.base.Engine {'table': 16395}\n"
     ]
    },
    {
     "name": "stderr",
     "output_type": "stream",
     "text": [
      "INFO:sqlalchemy.engine.base.Engine:{'table': 16395}\n"
     ]
    },
    {
     "name": "stdout",
     "output_type": "stream",
     "text": [
      "2016-02-08 21:01:10,016 INFO sqlalchemy.engine.base.Engine \n",
      "              SELECT\n",
      "                  i.relname as relname,\n",
      "                  ix.indisunique, ix.indexprs, ix.indpred,\n",
      "                  a.attname, a.attnum, c.conrelid, ix.indkey::varchar,\n",
      "                  i.reloptions, am.amname\n",
      "              FROM\n",
      "                  pg_class t\n",
      "                        join pg_index ix on t.oid = ix.indrelid\n",
      "                        join pg_class i on i.oid = ix.indexrelid\n",
      "                        left outer join\n",
      "                            pg_attribute a\n",
      "                            on t.oid = a.attrelid and a.attnum = ANY(ix.indkey)\n",
      "                        left outer join\n",
      "                            pg_constraint c\n",
      "                            on (ix.indrelid = c.conrelid and\n",
      "                                ix.indexrelid = c.conindid and\n",
      "                                c.contype in ('p', 'u', 'x'))\n",
      "                        left outer join\n",
      "                            pg_am am\n",
      "                            on i.relam = am.oid\n",
      "              WHERE\n",
      "                  t.relkind IN ('r', 'v', 'f', 'm')\n",
      "                  and t.oid = %(table_oid)s\n",
      "                  and ix.indisprimary = 'f'\n",
      "              ORDER BY\n",
      "                  t.relname,\n",
      "                  i.relname\n",
      "            \n"
     ]
    },
    {
     "name": "stderr",
     "output_type": "stream",
     "text": [
      "INFO:sqlalchemy.engine.base.Engine:\n",
      "              SELECT\n",
      "                  i.relname as relname,\n",
      "                  ix.indisunique, ix.indexprs, ix.indpred,\n",
      "                  a.attname, a.attnum, c.conrelid, ix.indkey::varchar,\n",
      "                  i.reloptions, am.amname\n",
      "              FROM\n",
      "                  pg_class t\n",
      "                        join pg_index ix on t.oid = ix.indrelid\n",
      "                        join pg_class i on i.oid = ix.indexrelid\n",
      "                        left outer join\n",
      "                            pg_attribute a\n",
      "                            on t.oid = a.attrelid and a.attnum = ANY(ix.indkey)\n",
      "                        left outer join\n",
      "                            pg_constraint c\n",
      "                            on (ix.indrelid = c.conrelid and\n",
      "                                ix.indexrelid = c.conindid and\n",
      "                                c.contype in ('p', 'u', 'x'))\n",
      "                        left outer join\n",
      "                            pg_am am\n",
      "                            on i.relam = am.oid\n",
      "              WHERE\n",
      "                  t.relkind IN ('r', 'v', 'f', 'm')\n",
      "                  and t.oid = %(table_oid)s\n",
      "                  and ix.indisprimary = 'f'\n",
      "              ORDER BY\n",
      "                  t.relname,\n",
      "                  i.relname\n",
      "            \n"
     ]
    },
    {
     "name": "stdout",
     "output_type": "stream",
     "text": [
      "2016-02-08 21:01:10,017 INFO sqlalchemy.engine.base.Engine {'table_oid': 16395}\n"
     ]
    },
    {
     "name": "stderr",
     "output_type": "stream",
     "text": [
      "INFO:sqlalchemy.engine.base.Engine:{'table_oid': 16395}\n"
     ]
    },
    {
     "name": "stdout",
     "output_type": "stream",
     "text": [
      "2016-02-08 21:01:10,050 INFO sqlalchemy.engine.base.Engine \n",
      "            SELECT\n",
      "                cons.conname as name,\n",
      "                cons.conkey as key,\n",
      "                a.attnum as col_num,\n",
      "                a.attname as col_name\n",
      "            FROM\n",
      "                pg_catalog.pg_constraint cons\n",
      "                join pg_attribute a\n",
      "                  on cons.conrelid = a.attrelid AND\n",
      "                    a.attnum = ANY(cons.conkey)\n",
      "            WHERE\n",
      "                cons.conrelid = %(table_oid)s AND\n",
      "                cons.contype = 'u'\n",
      "        \n"
     ]
    },
    {
     "name": "stderr",
     "output_type": "stream",
     "text": [
      "INFO:sqlalchemy.engine.base.Engine:\n",
      "            SELECT\n",
      "                cons.conname as name,\n",
      "                cons.conkey as key,\n",
      "                a.attnum as col_num,\n",
      "                a.attname as col_name\n",
      "            FROM\n",
      "                pg_catalog.pg_constraint cons\n",
      "                join pg_attribute a\n",
      "                  on cons.conrelid = a.attrelid AND\n",
      "                    a.attnum = ANY(cons.conkey)\n",
      "            WHERE\n",
      "                cons.conrelid = %(table_oid)s AND\n",
      "                cons.contype = 'u'\n",
      "        \n"
     ]
    },
    {
     "name": "stdout",
     "output_type": "stream",
     "text": [
      "2016-02-08 21:01:10,051 INFO sqlalchemy.engine.base.Engine {'table_oid': 16395}\n"
     ]
    },
    {
     "name": "stderr",
     "output_type": "stream",
     "text": [
      "INFO:sqlalchemy.engine.base.Engine:{'table_oid': 16395}\n"
     ]
    },
    {
     "name": "stdout",
     "output_type": "stream",
     "text": [
      "2016-02-08 21:01:10,084 INFO sqlalchemy.engine.base.Engine \n",
      "            SELECT c.oid\n",
      "            FROM pg_catalog.pg_class c\n",
      "            LEFT JOIN pg_catalog.pg_namespace n ON n.oid = c.relnamespace\n",
      "            WHERE (pg_catalog.pg_table_is_visible(c.oid))\n",
      "            AND c.relname = %(table_name)s AND c.relkind in ('r', 'v', 'm', 'f')\n",
      "        \n"
     ]
    },
    {
     "name": "stderr",
     "output_type": "stream",
     "text": [
      "INFO:sqlalchemy.engine.base.Engine:\n",
      "            SELECT c.oid\n",
      "            FROM pg_catalog.pg_class c\n",
      "            LEFT JOIN pg_catalog.pg_namespace n ON n.oid = c.relnamespace\n",
      "            WHERE (pg_catalog.pg_table_is_visible(c.oid))\n",
      "            AND c.relname = %(table_name)s AND c.relkind in ('r', 'v', 'm', 'f')\n",
      "        \n"
     ]
    },
    {
     "name": "stdout",
     "output_type": "stream",
     "text": [
      "2016-02-08 21:01:10,085 INFO sqlalchemy.engine.base.Engine {'table_name': 'state_latlon'}\n"
     ]
    },
    {
     "name": "stderr",
     "output_type": "stream",
     "text": [
      "INFO:sqlalchemy.engine.base.Engine:{'table_name': 'state_latlon'}\n"
     ]
    },
    {
     "name": "stdout",
     "output_type": "stream",
     "text": [
      "2016-02-08 21:01:10,114 INFO sqlalchemy.engine.base.Engine \n",
      "            SELECT a.attname,\n",
      "              pg_catalog.format_type(a.atttypid, a.atttypmod),\n",
      "              (SELECT pg_catalog.pg_get_expr(d.adbin, d.adrelid)\n",
      "                FROM pg_catalog.pg_attrdef d\n",
      "               WHERE d.adrelid = a.attrelid AND d.adnum = a.attnum\n",
      "               AND a.atthasdef)\n",
      "              AS DEFAULT,\n",
      "              a.attnotnull, a.attnum, a.attrelid as table_oid\n",
      "            FROM pg_catalog.pg_attribute a\n",
      "            WHERE a.attrelid = %(table_oid)s\n",
      "            AND a.attnum > 0 AND NOT a.attisdropped\n",
      "            ORDER BY a.attnum\n",
      "        \n"
     ]
    },
    {
     "name": "stderr",
     "output_type": "stream",
     "text": [
      "INFO:sqlalchemy.engine.base.Engine:\n",
      "            SELECT a.attname,\n",
      "              pg_catalog.format_type(a.atttypid, a.atttypmod),\n",
      "              (SELECT pg_catalog.pg_get_expr(d.adbin, d.adrelid)\n",
      "                FROM pg_catalog.pg_attrdef d\n",
      "               WHERE d.adrelid = a.attrelid AND d.adnum = a.attnum\n",
      "               AND a.atthasdef)\n",
      "              AS DEFAULT,\n",
      "              a.attnotnull, a.attnum, a.attrelid as table_oid\n",
      "            FROM pg_catalog.pg_attribute a\n",
      "            WHERE a.attrelid = %(table_oid)s\n",
      "            AND a.attnum > 0 AND NOT a.attisdropped\n",
      "            ORDER BY a.attnum\n",
      "        \n"
     ]
    },
    {
     "name": "stdout",
     "output_type": "stream",
     "text": [
      "2016-02-08 21:01:10,115 INFO sqlalchemy.engine.base.Engine {'table_oid': 16401}\n"
     ]
    },
    {
     "name": "stderr",
     "output_type": "stream",
     "text": [
      "INFO:sqlalchemy.engine.base.Engine:{'table_oid': 16401}\n"
     ]
    },
    {
     "name": "stdout",
     "output_type": "stream",
     "text": [
      "2016-02-08 21:01:10,152 INFO sqlalchemy.engine.base.Engine \n",
      "            SELECT t.typname as \"name\",\n",
      "               pg_catalog.format_type(t.typbasetype, t.typtypmod) as \"attype\",\n",
      "               not t.typnotnull as \"nullable\",\n",
      "               t.typdefault as \"default\",\n",
      "               pg_catalog.pg_type_is_visible(t.oid) as \"visible\",\n",
      "               n.nspname as \"schema\"\n",
      "            FROM pg_catalog.pg_type t\n",
      "               LEFT JOIN pg_catalog.pg_namespace n ON n.oid = t.typnamespace\n",
      "            WHERE t.typtype = 'd'\n",
      "        \n"
     ]
    },
    {
     "name": "stderr",
     "output_type": "stream",
     "text": [
      "INFO:sqlalchemy.engine.base.Engine:\n",
      "            SELECT t.typname as \"name\",\n",
      "               pg_catalog.format_type(t.typbasetype, t.typtypmod) as \"attype\",\n",
      "               not t.typnotnull as \"nullable\",\n",
      "               t.typdefault as \"default\",\n",
      "               pg_catalog.pg_type_is_visible(t.oid) as \"visible\",\n",
      "               n.nspname as \"schema\"\n",
      "            FROM pg_catalog.pg_type t\n",
      "               LEFT JOIN pg_catalog.pg_namespace n ON n.oid = t.typnamespace\n",
      "            WHERE t.typtype = 'd'\n",
      "        \n"
     ]
    },
    {
     "name": "stdout",
     "output_type": "stream",
     "text": [
      "2016-02-08 21:01:10,153 INFO sqlalchemy.engine.base.Engine {}\n"
     ]
    },
    {
     "name": "stderr",
     "output_type": "stream",
     "text": [
      "INFO:sqlalchemy.engine.base.Engine:{}\n"
     ]
    },
    {
     "name": "stdout",
     "output_type": "stream",
     "text": [
      "2016-02-08 21:01:10,184 INFO sqlalchemy.engine.base.Engine \n",
      "            SELECT t.typname as \"name\",\n",
      "               -- no enum defaults in 8.4 at least\n",
      "               -- t.typdefault as \"default\",\n",
      "               pg_catalog.pg_type_is_visible(t.oid) as \"visible\",\n",
      "               n.nspname as \"schema\",\n",
      "               e.enumlabel as \"label\"\n",
      "            FROM pg_catalog.pg_type t\n",
      "                 LEFT JOIN pg_catalog.pg_namespace n ON n.oid = t.typnamespace\n",
      "                 LEFT JOIN pg_catalog.pg_enum e ON t.oid = e.enumtypid\n",
      "            WHERE t.typtype = 'e'\n",
      "        ORDER BY \"schema\", \"name\", e.oid\n"
     ]
    },
    {
     "name": "stderr",
     "output_type": "stream",
     "text": [
      "INFO:sqlalchemy.engine.base.Engine:\n",
      "            SELECT t.typname as \"name\",\n",
      "               -- no enum defaults in 8.4 at least\n",
      "               -- t.typdefault as \"default\",\n",
      "               pg_catalog.pg_type_is_visible(t.oid) as \"visible\",\n",
      "               n.nspname as \"schema\",\n",
      "               e.enumlabel as \"label\"\n",
      "            FROM pg_catalog.pg_type t\n",
      "                 LEFT JOIN pg_catalog.pg_namespace n ON n.oid = t.typnamespace\n",
      "                 LEFT JOIN pg_catalog.pg_enum e ON t.oid = e.enumtypid\n",
      "            WHERE t.typtype = 'e'\n",
      "        ORDER BY \"schema\", \"name\", e.oid\n"
     ]
    },
    {
     "name": "stdout",
     "output_type": "stream",
     "text": [
      "2016-02-08 21:01:10,186 INFO sqlalchemy.engine.base.Engine {}\n"
     ]
    },
    {
     "name": "stderr",
     "output_type": "stream",
     "text": [
      "INFO:sqlalchemy.engine.base.Engine:{}\n"
     ]
    },
    {
     "name": "stdout",
     "output_type": "stream",
     "text": [
      "2016-02-08 21:01:10,215 INFO sqlalchemy.engine.base.Engine \n",
      "                SELECT a.attname\n",
      "                FROM pg_attribute a JOIN (\n",
      "                    SELECT unnest(ix.indkey) attnum,\n",
      "                           generate_subscripts(ix.indkey, 1) ord\n",
      "                    FROM pg_index ix\n",
      "                    WHERE ix.indrelid = %(table_oid)s AND ix.indisprimary\n",
      "                    ) k ON a.attnum=k.attnum\n",
      "                WHERE a.attrelid = %(table_oid)s\n",
      "                ORDER BY k.ord\n",
      "            \n"
     ]
    },
    {
     "name": "stderr",
     "output_type": "stream",
     "text": [
      "INFO:sqlalchemy.engine.base.Engine:\n",
      "                SELECT a.attname\n",
      "                FROM pg_attribute a JOIN (\n",
      "                    SELECT unnest(ix.indkey) attnum,\n",
      "                           generate_subscripts(ix.indkey, 1) ord\n",
      "                    FROM pg_index ix\n",
      "                    WHERE ix.indrelid = %(table_oid)s AND ix.indisprimary\n",
      "                    ) k ON a.attnum=k.attnum\n",
      "                WHERE a.attrelid = %(table_oid)s\n",
      "                ORDER BY k.ord\n",
      "            \n"
     ]
    },
    {
     "name": "stdout",
     "output_type": "stream",
     "text": [
      "2016-02-08 21:01:10,217 INFO sqlalchemy.engine.base.Engine {'table_oid': 16401}\n"
     ]
    },
    {
     "name": "stderr",
     "output_type": "stream",
     "text": [
      "INFO:sqlalchemy.engine.base.Engine:{'table_oid': 16401}\n"
     ]
    },
    {
     "name": "stdout",
     "output_type": "stream",
     "text": [
      "2016-02-08 21:01:10,246 INFO sqlalchemy.engine.base.Engine \n",
      "        SELECT conname\n",
      "           FROM  pg_catalog.pg_constraint r\n",
      "           WHERE r.conrelid = %(table_oid)s AND r.contype = 'p'\n",
      "           ORDER BY 1\n",
      "        \n"
     ]
    },
    {
     "name": "stderr",
     "output_type": "stream",
     "text": [
      "INFO:sqlalchemy.engine.base.Engine:\n",
      "        SELECT conname\n",
      "           FROM  pg_catalog.pg_constraint r\n",
      "           WHERE r.conrelid = %(table_oid)s AND r.contype = 'p'\n",
      "           ORDER BY 1\n",
      "        \n"
     ]
    },
    {
     "name": "stdout",
     "output_type": "stream",
     "text": [
      "2016-02-08 21:01:10,247 INFO sqlalchemy.engine.base.Engine {'table_oid': 16401}\n"
     ]
    },
    {
     "name": "stderr",
     "output_type": "stream",
     "text": [
      "INFO:sqlalchemy.engine.base.Engine:{'table_oid': 16401}\n"
     ]
    },
    {
     "name": "stdout",
     "output_type": "stream",
     "text": [
      "2016-02-08 21:01:10,293 INFO sqlalchemy.engine.base.Engine \n",
      "          SELECT r.conname,\n",
      "                pg_catalog.pg_get_constraintdef(r.oid, true) as condef,\n",
      "                n.nspname as conschema\n",
      "          FROM  pg_catalog.pg_constraint r,\n",
      "                pg_namespace n,\n",
      "                pg_class c\n",
      "\n",
      "          WHERE r.conrelid = %(table)s AND\n",
      "                r.contype = 'f' AND\n",
      "                c.oid = confrelid AND\n",
      "                n.oid = c.relnamespace\n",
      "          ORDER BY 1\n",
      "        \n"
     ]
    },
    {
     "name": "stderr",
     "output_type": "stream",
     "text": [
      "INFO:sqlalchemy.engine.base.Engine:\n",
      "          SELECT r.conname,\n",
      "                pg_catalog.pg_get_constraintdef(r.oid, true) as condef,\n",
      "                n.nspname as conschema\n",
      "          FROM  pg_catalog.pg_constraint r,\n",
      "                pg_namespace n,\n",
      "                pg_class c\n",
      "\n",
      "          WHERE r.conrelid = %(table)s AND\n",
      "                r.contype = 'f' AND\n",
      "                c.oid = confrelid AND\n",
      "                n.oid = c.relnamespace\n",
      "          ORDER BY 1\n",
      "        \n"
     ]
    },
    {
     "name": "stdout",
     "output_type": "stream",
     "text": [
      "2016-02-08 21:01:10,294 INFO sqlalchemy.engine.base.Engine {'table': 16401}\n"
     ]
    },
    {
     "name": "stderr",
     "output_type": "stream",
     "text": [
      "INFO:sqlalchemy.engine.base.Engine:{'table': 16401}\n"
     ]
    },
    {
     "name": "stdout",
     "output_type": "stream",
     "text": [
      "2016-02-08 21:01:10,330 INFO sqlalchemy.engine.base.Engine \n",
      "              SELECT\n",
      "                  i.relname as relname,\n",
      "                  ix.indisunique, ix.indexprs, ix.indpred,\n",
      "                  a.attname, a.attnum, c.conrelid, ix.indkey::varchar,\n",
      "                  i.reloptions, am.amname\n",
      "              FROM\n",
      "                  pg_class t\n",
      "                        join pg_index ix on t.oid = ix.indrelid\n",
      "                        join pg_class i on i.oid = ix.indexrelid\n",
      "                        left outer join\n",
      "                            pg_attribute a\n",
      "                            on t.oid = a.attrelid and a.attnum = ANY(ix.indkey)\n",
      "                        left outer join\n",
      "                            pg_constraint c\n",
      "                            on (ix.indrelid = c.conrelid and\n",
      "                                ix.indexrelid = c.conindid and\n",
      "                                c.contype in ('p', 'u', 'x'))\n",
      "                        left outer join\n",
      "                            pg_am am\n",
      "                            on i.relam = am.oid\n",
      "              WHERE\n",
      "                  t.relkind IN ('r', 'v', 'f', 'm')\n",
      "                  and t.oid = %(table_oid)s\n",
      "                  and ix.indisprimary = 'f'\n",
      "              ORDER BY\n",
      "                  t.relname,\n",
      "                  i.relname\n",
      "            \n"
     ]
    },
    {
     "name": "stderr",
     "output_type": "stream",
     "text": [
      "INFO:sqlalchemy.engine.base.Engine:\n",
      "              SELECT\n",
      "                  i.relname as relname,\n",
      "                  ix.indisunique, ix.indexprs, ix.indpred,\n",
      "                  a.attname, a.attnum, c.conrelid, ix.indkey::varchar,\n",
      "                  i.reloptions, am.amname\n",
      "              FROM\n",
      "                  pg_class t\n",
      "                        join pg_index ix on t.oid = ix.indrelid\n",
      "                        join pg_class i on i.oid = ix.indexrelid\n",
      "                        left outer join\n",
      "                            pg_attribute a\n",
      "                            on t.oid = a.attrelid and a.attnum = ANY(ix.indkey)\n",
      "                        left outer join\n",
      "                            pg_constraint c\n",
      "                            on (ix.indrelid = c.conrelid and\n",
      "                                ix.indexrelid = c.conindid and\n",
      "                                c.contype in ('p', 'u', 'x'))\n",
      "                        left outer join\n",
      "                            pg_am am\n",
      "                            on i.relam = am.oid\n",
      "              WHERE\n",
      "                  t.relkind IN ('r', 'v', 'f', 'm')\n",
      "                  and t.oid = %(table_oid)s\n",
      "                  and ix.indisprimary = 'f'\n",
      "              ORDER BY\n",
      "                  t.relname,\n",
      "                  i.relname\n",
      "            \n"
     ]
    },
    {
     "name": "stdout",
     "output_type": "stream",
     "text": [
      "2016-02-08 21:01:10,332 INFO sqlalchemy.engine.base.Engine {'table_oid': 16401}\n"
     ]
    },
    {
     "name": "stderr",
     "output_type": "stream",
     "text": [
      "INFO:sqlalchemy.engine.base.Engine:{'table_oid': 16401}\n"
     ]
    },
    {
     "name": "stdout",
     "output_type": "stream",
     "text": [
      "2016-02-08 21:01:10,362 INFO sqlalchemy.engine.base.Engine \n",
      "            SELECT\n",
      "                cons.conname as name,\n",
      "                cons.conkey as key,\n",
      "                a.attnum as col_num,\n",
      "                a.attname as col_name\n",
      "            FROM\n",
      "                pg_catalog.pg_constraint cons\n",
      "                join pg_attribute a\n",
      "                  on cons.conrelid = a.attrelid AND\n",
      "                    a.attnum = ANY(cons.conkey)\n",
      "            WHERE\n",
      "                cons.conrelid = %(table_oid)s AND\n",
      "                cons.contype = 'u'\n",
      "        \n"
     ]
    },
    {
     "name": "stderr",
     "output_type": "stream",
     "text": [
      "INFO:sqlalchemy.engine.base.Engine:\n",
      "            SELECT\n",
      "                cons.conname as name,\n",
      "                cons.conkey as key,\n",
      "                a.attnum as col_num,\n",
      "                a.attname as col_name\n",
      "            FROM\n",
      "                pg_catalog.pg_constraint cons\n",
      "                join pg_attribute a\n",
      "                  on cons.conrelid = a.attrelid AND\n",
      "                    a.attnum = ANY(cons.conkey)\n",
      "            WHERE\n",
      "                cons.conrelid = %(table_oid)s AND\n",
      "                cons.contype = 'u'\n",
      "        \n"
     ]
    },
    {
     "name": "stdout",
     "output_type": "stream",
     "text": [
      "2016-02-08 21:01:10,363 INFO sqlalchemy.engine.base.Engine {'table_oid': 16401}\n"
     ]
    },
    {
     "name": "stderr",
     "output_type": "stream",
     "text": [
      "INFO:sqlalchemy.engine.base.Engine:{'table_oid': 16401}\n"
     ]
    },
    {
     "name": "stdout",
     "output_type": "stream",
     "text": [
      "2016-02-08 21:01:10,391 INFO sqlalchemy.engine.base.Engine \n",
      "            SELECT c.oid\n",
      "            FROM pg_catalog.pg_class c\n",
      "            LEFT JOIN pg_catalog.pg_namespace n ON n.oid = c.relnamespace\n",
      "            WHERE (pg_catalog.pg_table_is_visible(c.oid))\n",
      "            AND c.relname = %(table_name)s AND c.relkind in ('r', 'v', 'm', 'f')\n",
      "        \n"
     ]
    },
    {
     "name": "stderr",
     "output_type": "stream",
     "text": [
      "INFO:sqlalchemy.engine.base.Engine:\n",
      "            SELECT c.oid\n",
      "            FROM pg_catalog.pg_class c\n",
      "            LEFT JOIN pg_catalog.pg_namespace n ON n.oid = c.relnamespace\n",
      "            WHERE (pg_catalog.pg_table_is_visible(c.oid))\n",
      "            AND c.relname = %(table_name)s AND c.relkind in ('r', 'v', 'm', 'f')\n",
      "        \n"
     ]
    },
    {
     "name": "stdout",
     "output_type": "stream",
     "text": [
      "2016-02-08 21:01:10,393 INFO sqlalchemy.engine.base.Engine {'table_name': 'sctg'}\n"
     ]
    },
    {
     "name": "stderr",
     "output_type": "stream",
     "text": [
      "INFO:sqlalchemy.engine.base.Engine:{'table_name': 'sctg'}\n"
     ]
    },
    {
     "name": "stdout",
     "output_type": "stream",
     "text": [
      "2016-02-08 21:01:10,421 INFO sqlalchemy.engine.base.Engine \n",
      "            SELECT a.attname,\n",
      "              pg_catalog.format_type(a.atttypid, a.atttypmod),\n",
      "              (SELECT pg_catalog.pg_get_expr(d.adbin, d.adrelid)\n",
      "                FROM pg_catalog.pg_attrdef d\n",
      "               WHERE d.adrelid = a.attrelid AND d.adnum = a.attnum\n",
      "               AND a.atthasdef)\n",
      "              AS DEFAULT,\n",
      "              a.attnotnull, a.attnum, a.attrelid as table_oid\n",
      "            FROM pg_catalog.pg_attribute a\n",
      "            WHERE a.attrelid = %(table_oid)s\n",
      "            AND a.attnum > 0 AND NOT a.attisdropped\n",
      "            ORDER BY a.attnum\n",
      "        \n"
     ]
    },
    {
     "name": "stderr",
     "output_type": "stream",
     "text": [
      "INFO:sqlalchemy.engine.base.Engine:\n",
      "            SELECT a.attname,\n",
      "              pg_catalog.format_type(a.atttypid, a.atttypmod),\n",
      "              (SELECT pg_catalog.pg_get_expr(d.adbin, d.adrelid)\n",
      "                FROM pg_catalog.pg_attrdef d\n",
      "               WHERE d.adrelid = a.attrelid AND d.adnum = a.attnum\n",
      "               AND a.atthasdef)\n",
      "              AS DEFAULT,\n",
      "              a.attnotnull, a.attnum, a.attrelid as table_oid\n",
      "            FROM pg_catalog.pg_attribute a\n",
      "            WHERE a.attrelid = %(table_oid)s\n",
      "            AND a.attnum > 0 AND NOT a.attisdropped\n",
      "            ORDER BY a.attnum\n",
      "        \n"
     ]
    },
    {
     "name": "stdout",
     "output_type": "stream",
     "text": [
      "2016-02-08 21:01:10,422 INFO sqlalchemy.engine.base.Engine {'table_oid': 16407}\n"
     ]
    },
    {
     "name": "stderr",
     "output_type": "stream",
     "text": [
      "INFO:sqlalchemy.engine.base.Engine:{'table_oid': 16407}\n"
     ]
    },
    {
     "name": "stdout",
     "output_type": "stream",
     "text": [
      "2016-02-08 21:01:10,456 INFO sqlalchemy.engine.base.Engine \n",
      "            SELECT t.typname as \"name\",\n",
      "               pg_catalog.format_type(t.typbasetype, t.typtypmod) as \"attype\",\n",
      "               not t.typnotnull as \"nullable\",\n",
      "               t.typdefault as \"default\",\n",
      "               pg_catalog.pg_type_is_visible(t.oid) as \"visible\",\n",
      "               n.nspname as \"schema\"\n",
      "            FROM pg_catalog.pg_type t\n",
      "               LEFT JOIN pg_catalog.pg_namespace n ON n.oid = t.typnamespace\n",
      "            WHERE t.typtype = 'd'\n",
      "        \n"
     ]
    },
    {
     "name": "stderr",
     "output_type": "stream",
     "text": [
      "INFO:sqlalchemy.engine.base.Engine:\n",
      "            SELECT t.typname as \"name\",\n",
      "               pg_catalog.format_type(t.typbasetype, t.typtypmod) as \"attype\",\n",
      "               not t.typnotnull as \"nullable\",\n",
      "               t.typdefault as \"default\",\n",
      "               pg_catalog.pg_type_is_visible(t.oid) as \"visible\",\n",
      "               n.nspname as \"schema\"\n",
      "            FROM pg_catalog.pg_type t\n",
      "               LEFT JOIN pg_catalog.pg_namespace n ON n.oid = t.typnamespace\n",
      "            WHERE t.typtype = 'd'\n",
      "        \n"
     ]
    },
    {
     "name": "stdout",
     "output_type": "stream",
     "text": [
      "2016-02-08 21:01:10,458 INFO sqlalchemy.engine.base.Engine {}\n"
     ]
    },
    {
     "name": "stderr",
     "output_type": "stream",
     "text": [
      "INFO:sqlalchemy.engine.base.Engine:{}\n"
     ]
    },
    {
     "name": "stdout",
     "output_type": "stream",
     "text": [
      "2016-02-08 21:01:10,488 INFO sqlalchemy.engine.base.Engine \n",
      "            SELECT t.typname as \"name\",\n",
      "               -- no enum defaults in 8.4 at least\n",
      "               -- t.typdefault as \"default\",\n",
      "               pg_catalog.pg_type_is_visible(t.oid) as \"visible\",\n",
      "               n.nspname as \"schema\",\n",
      "               e.enumlabel as \"label\"\n",
      "            FROM pg_catalog.pg_type t\n",
      "                 LEFT JOIN pg_catalog.pg_namespace n ON n.oid = t.typnamespace\n",
      "                 LEFT JOIN pg_catalog.pg_enum e ON t.oid = e.enumtypid\n",
      "            WHERE t.typtype = 'e'\n",
      "        ORDER BY \"schema\", \"name\", e.oid\n"
     ]
    },
    {
     "name": "stderr",
     "output_type": "stream",
     "text": [
      "INFO:sqlalchemy.engine.base.Engine:\n",
      "            SELECT t.typname as \"name\",\n",
      "               -- no enum defaults in 8.4 at least\n",
      "               -- t.typdefault as \"default\",\n",
      "               pg_catalog.pg_type_is_visible(t.oid) as \"visible\",\n",
      "               n.nspname as \"schema\",\n",
      "               e.enumlabel as \"label\"\n",
      "            FROM pg_catalog.pg_type t\n",
      "                 LEFT JOIN pg_catalog.pg_namespace n ON n.oid = t.typnamespace\n",
      "                 LEFT JOIN pg_catalog.pg_enum e ON t.oid = e.enumtypid\n",
      "            WHERE t.typtype = 'e'\n",
      "        ORDER BY \"schema\", \"name\", e.oid\n"
     ]
    },
    {
     "name": "stdout",
     "output_type": "stream",
     "text": [
      "2016-02-08 21:01:10,489 INFO sqlalchemy.engine.base.Engine {}\n"
     ]
    },
    {
     "name": "stderr",
     "output_type": "stream",
     "text": [
      "INFO:sqlalchemy.engine.base.Engine:{}\n"
     ]
    },
    {
     "name": "stdout",
     "output_type": "stream",
     "text": [
      "2016-02-08 21:01:10,527 INFO sqlalchemy.engine.base.Engine \n",
      "                SELECT a.attname\n",
      "                FROM pg_attribute a JOIN (\n",
      "                    SELECT unnest(ix.indkey) attnum,\n",
      "                           generate_subscripts(ix.indkey, 1) ord\n",
      "                    FROM pg_index ix\n",
      "                    WHERE ix.indrelid = %(table_oid)s AND ix.indisprimary\n",
      "                    ) k ON a.attnum=k.attnum\n",
      "                WHERE a.attrelid = %(table_oid)s\n",
      "                ORDER BY k.ord\n",
      "            \n"
     ]
    },
    {
     "name": "stderr",
     "output_type": "stream",
     "text": [
      "INFO:sqlalchemy.engine.base.Engine:\n",
      "                SELECT a.attname\n",
      "                FROM pg_attribute a JOIN (\n",
      "                    SELECT unnest(ix.indkey) attnum,\n",
      "                           generate_subscripts(ix.indkey, 1) ord\n",
      "                    FROM pg_index ix\n",
      "                    WHERE ix.indrelid = %(table_oid)s AND ix.indisprimary\n",
      "                    ) k ON a.attnum=k.attnum\n",
      "                WHERE a.attrelid = %(table_oid)s\n",
      "                ORDER BY k.ord\n",
      "            \n"
     ]
    },
    {
     "name": "stdout",
     "output_type": "stream",
     "text": [
      "2016-02-08 21:01:10,529 INFO sqlalchemy.engine.base.Engine {'table_oid': 16407}\n"
     ]
    },
    {
     "name": "stderr",
     "output_type": "stream",
     "text": [
      "INFO:sqlalchemy.engine.base.Engine:{'table_oid': 16407}\n"
     ]
    },
    {
     "name": "stdout",
     "output_type": "stream",
     "text": [
      "2016-02-08 21:01:10,559 INFO sqlalchemy.engine.base.Engine \n",
      "        SELECT conname\n",
      "           FROM  pg_catalog.pg_constraint r\n",
      "           WHERE r.conrelid = %(table_oid)s AND r.contype = 'p'\n",
      "           ORDER BY 1\n",
      "        \n"
     ]
    },
    {
     "name": "stderr",
     "output_type": "stream",
     "text": [
      "INFO:sqlalchemy.engine.base.Engine:\n",
      "        SELECT conname\n",
      "           FROM  pg_catalog.pg_constraint r\n",
      "           WHERE r.conrelid = %(table_oid)s AND r.contype = 'p'\n",
      "           ORDER BY 1\n",
      "        \n"
     ]
    },
    {
     "name": "stdout",
     "output_type": "stream",
     "text": [
      "2016-02-08 21:01:10,560 INFO sqlalchemy.engine.base.Engine {'table_oid': 16407}\n"
     ]
    },
    {
     "name": "stderr",
     "output_type": "stream",
     "text": [
      "INFO:sqlalchemy.engine.base.Engine:{'table_oid': 16407}\n"
     ]
    },
    {
     "name": "stdout",
     "output_type": "stream",
     "text": [
      "2016-02-08 21:01:10,592 INFO sqlalchemy.engine.base.Engine \n",
      "          SELECT r.conname,\n",
      "                pg_catalog.pg_get_constraintdef(r.oid, true) as condef,\n",
      "                n.nspname as conschema\n",
      "          FROM  pg_catalog.pg_constraint r,\n",
      "                pg_namespace n,\n",
      "                pg_class c\n",
      "\n",
      "          WHERE r.conrelid = %(table)s AND\n",
      "                r.contype = 'f' AND\n",
      "                c.oid = confrelid AND\n",
      "                n.oid = c.relnamespace\n",
      "          ORDER BY 1\n",
      "        \n"
     ]
    },
    {
     "name": "stderr",
     "output_type": "stream",
     "text": [
      "INFO:sqlalchemy.engine.base.Engine:\n",
      "          SELECT r.conname,\n",
      "                pg_catalog.pg_get_constraintdef(r.oid, true) as condef,\n",
      "                n.nspname as conschema\n",
      "          FROM  pg_catalog.pg_constraint r,\n",
      "                pg_namespace n,\n",
      "                pg_class c\n",
      "\n",
      "          WHERE r.conrelid = %(table)s AND\n",
      "                r.contype = 'f' AND\n",
      "                c.oid = confrelid AND\n",
      "                n.oid = c.relnamespace\n",
      "          ORDER BY 1\n",
      "        \n"
     ]
    },
    {
     "name": "stdout",
     "output_type": "stream",
     "text": [
      "2016-02-08 21:01:10,593 INFO sqlalchemy.engine.base.Engine {'table': 16407}\n"
     ]
    },
    {
     "name": "stderr",
     "output_type": "stream",
     "text": [
      "INFO:sqlalchemy.engine.base.Engine:{'table': 16407}\n"
     ]
    },
    {
     "name": "stdout",
     "output_type": "stream",
     "text": [
      "2016-02-08 21:01:10,622 INFO sqlalchemy.engine.base.Engine \n",
      "              SELECT\n",
      "                  i.relname as relname,\n",
      "                  ix.indisunique, ix.indexprs, ix.indpred,\n",
      "                  a.attname, a.attnum, c.conrelid, ix.indkey::varchar,\n",
      "                  i.reloptions, am.amname\n",
      "              FROM\n",
      "                  pg_class t\n",
      "                        join pg_index ix on t.oid = ix.indrelid\n",
      "                        join pg_class i on i.oid = ix.indexrelid\n",
      "                        left outer join\n",
      "                            pg_attribute a\n",
      "                            on t.oid = a.attrelid and a.attnum = ANY(ix.indkey)\n",
      "                        left outer join\n",
      "                            pg_constraint c\n",
      "                            on (ix.indrelid = c.conrelid and\n",
      "                                ix.indexrelid = c.conindid and\n",
      "                                c.contype in ('p', 'u', 'x'))\n",
      "                        left outer join\n",
      "                            pg_am am\n",
      "                            on i.relam = am.oid\n",
      "              WHERE\n",
      "                  t.relkind IN ('r', 'v', 'f', 'm')\n",
      "                  and t.oid = %(table_oid)s\n",
      "                  and ix.indisprimary = 'f'\n",
      "              ORDER BY\n",
      "                  t.relname,\n",
      "                  i.relname\n",
      "            \n"
     ]
    },
    {
     "name": "stderr",
     "output_type": "stream",
     "text": [
      "INFO:sqlalchemy.engine.base.Engine:\n",
      "              SELECT\n",
      "                  i.relname as relname,\n",
      "                  ix.indisunique, ix.indexprs, ix.indpred,\n",
      "                  a.attname, a.attnum, c.conrelid, ix.indkey::varchar,\n",
      "                  i.reloptions, am.amname\n",
      "              FROM\n",
      "                  pg_class t\n",
      "                        join pg_index ix on t.oid = ix.indrelid\n",
      "                        join pg_class i on i.oid = ix.indexrelid\n",
      "                        left outer join\n",
      "                            pg_attribute a\n",
      "                            on t.oid = a.attrelid and a.attnum = ANY(ix.indkey)\n",
      "                        left outer join\n",
      "                            pg_constraint c\n",
      "                            on (ix.indrelid = c.conrelid and\n",
      "                                ix.indexrelid = c.conindid and\n",
      "                                c.contype in ('p', 'u', 'x'))\n",
      "                        left outer join\n",
      "                            pg_am am\n",
      "                            on i.relam = am.oid\n",
      "              WHERE\n",
      "                  t.relkind IN ('r', 'v', 'f', 'm')\n",
      "                  and t.oid = %(table_oid)s\n",
      "                  and ix.indisprimary = 'f'\n",
      "              ORDER BY\n",
      "                  t.relname,\n",
      "                  i.relname\n",
      "            \n"
     ]
    },
    {
     "name": "stdout",
     "output_type": "stream",
     "text": [
      "2016-02-08 21:01:10,623 INFO sqlalchemy.engine.base.Engine {'table_oid': 16407}\n"
     ]
    },
    {
     "name": "stderr",
     "output_type": "stream",
     "text": [
      "INFO:sqlalchemy.engine.base.Engine:{'table_oid': 16407}\n"
     ]
    },
    {
     "name": "stdout",
     "output_type": "stream",
     "text": [
      "2016-02-08 21:01:10,655 INFO sqlalchemy.engine.base.Engine \n",
      "            SELECT\n",
      "                cons.conname as name,\n",
      "                cons.conkey as key,\n",
      "                a.attnum as col_num,\n",
      "                a.attname as col_name\n",
      "            FROM\n",
      "                pg_catalog.pg_constraint cons\n",
      "                join pg_attribute a\n",
      "                  on cons.conrelid = a.attrelid AND\n",
      "                    a.attnum = ANY(cons.conkey)\n",
      "            WHERE\n",
      "                cons.conrelid = %(table_oid)s AND\n",
      "                cons.contype = 'u'\n",
      "        \n"
     ]
    },
    {
     "name": "stderr",
     "output_type": "stream",
     "text": [
      "INFO:sqlalchemy.engine.base.Engine:\n",
      "            SELECT\n",
      "                cons.conname as name,\n",
      "                cons.conkey as key,\n",
      "                a.attnum as col_num,\n",
      "                a.attname as col_name\n",
      "            FROM\n",
      "                pg_catalog.pg_constraint cons\n",
      "                join pg_attribute a\n",
      "                  on cons.conrelid = a.attrelid AND\n",
      "                    a.attnum = ANY(cons.conkey)\n",
      "            WHERE\n",
      "                cons.conrelid = %(table_oid)s AND\n",
      "                cons.contype = 'u'\n",
      "        \n"
     ]
    },
    {
     "name": "stdout",
     "output_type": "stream",
     "text": [
      "2016-02-08 21:01:10,657 INFO sqlalchemy.engine.base.Engine {'table_oid': 16407}\n"
     ]
    },
    {
     "name": "stderr",
     "output_type": "stream",
     "text": [
      "INFO:sqlalchemy.engine.base.Engine:{'table_oid': 16407}\n"
     ]
    },
    {
     "name": "stdout",
     "output_type": "stream",
     "text": [
      "2016-02-08 21:01:10,687 INFO sqlalchemy.engine.base.Engine \n",
      "            SELECT c.oid\n",
      "            FROM pg_catalog.pg_class c\n",
      "            LEFT JOIN pg_catalog.pg_namespace n ON n.oid = c.relnamespace\n",
      "            WHERE (pg_catalog.pg_table_is_visible(c.oid))\n",
      "            AND c.relname = %(table_name)s AND c.relkind in ('r', 'v', 'm', 'f')\n",
      "        \n"
     ]
    },
    {
     "name": "stderr",
     "output_type": "stream",
     "text": [
      "INFO:sqlalchemy.engine.base.Engine:\n",
      "            SELECT c.oid\n",
      "            FROM pg_catalog.pg_class c\n",
      "            LEFT JOIN pg_catalog.pg_namespace n ON n.oid = c.relnamespace\n",
      "            WHERE (pg_catalog.pg_table_is_visible(c.oid))\n",
      "            AND c.relname = %(table_name)s AND c.relkind in ('r', 'v', 'm', 'f')\n",
      "        \n"
     ]
    },
    {
     "name": "stdout",
     "output_type": "stream",
     "text": [
      "2016-02-08 21:01:10,688 INFO sqlalchemy.engine.base.Engine {'table_name': 'cfs_areas'}\n"
     ]
    },
    {
     "name": "stderr",
     "output_type": "stream",
     "text": [
      "INFO:sqlalchemy.engine.base.Engine:{'table_name': 'cfs_areas'}\n"
     ]
    },
    {
     "name": "stdout",
     "output_type": "stream",
     "text": [
      "2016-02-08 21:01:10,719 INFO sqlalchemy.engine.base.Engine \n",
      "            SELECT a.attname,\n",
      "              pg_catalog.format_type(a.atttypid, a.atttypmod),\n",
      "              (SELECT pg_catalog.pg_get_expr(d.adbin, d.adrelid)\n",
      "                FROM pg_catalog.pg_attrdef d\n",
      "               WHERE d.adrelid = a.attrelid AND d.adnum = a.attnum\n",
      "               AND a.atthasdef)\n",
      "              AS DEFAULT,\n",
      "              a.attnotnull, a.attnum, a.attrelid as table_oid\n",
      "            FROM pg_catalog.pg_attribute a\n",
      "            WHERE a.attrelid = %(table_oid)s\n",
      "            AND a.attnum > 0 AND NOT a.attisdropped\n",
      "            ORDER BY a.attnum\n",
      "        \n"
     ]
    },
    {
     "name": "stderr",
     "output_type": "stream",
     "text": [
      "INFO:sqlalchemy.engine.base.Engine:\n",
      "            SELECT a.attname,\n",
      "              pg_catalog.format_type(a.atttypid, a.atttypmod),\n",
      "              (SELECT pg_catalog.pg_get_expr(d.adbin, d.adrelid)\n",
      "                FROM pg_catalog.pg_attrdef d\n",
      "               WHERE d.adrelid = a.attrelid AND d.adnum = a.attnum\n",
      "               AND a.atthasdef)\n",
      "              AS DEFAULT,\n",
      "              a.attnotnull, a.attnum, a.attrelid as table_oid\n",
      "            FROM pg_catalog.pg_attribute a\n",
      "            WHERE a.attrelid = %(table_oid)s\n",
      "            AND a.attnum > 0 AND NOT a.attisdropped\n",
      "            ORDER BY a.attnum\n",
      "        \n"
     ]
    },
    {
     "name": "stdout",
     "output_type": "stream",
     "text": [
      "2016-02-08 21:01:10,721 INFO sqlalchemy.engine.base.Engine {'table_oid': 16413}\n"
     ]
    },
    {
     "name": "stderr",
     "output_type": "stream",
     "text": [
      "INFO:sqlalchemy.engine.base.Engine:{'table_oid': 16413}\n"
     ]
    },
    {
     "name": "stdout",
     "output_type": "stream",
     "text": [
      "2016-02-08 21:01:10,749 INFO sqlalchemy.engine.base.Engine \n",
      "            SELECT t.typname as \"name\",\n",
      "               pg_catalog.format_type(t.typbasetype, t.typtypmod) as \"attype\",\n",
      "               not t.typnotnull as \"nullable\",\n",
      "               t.typdefault as \"default\",\n",
      "               pg_catalog.pg_type_is_visible(t.oid) as \"visible\",\n",
      "               n.nspname as \"schema\"\n",
      "            FROM pg_catalog.pg_type t\n",
      "               LEFT JOIN pg_catalog.pg_namespace n ON n.oid = t.typnamespace\n",
      "            WHERE t.typtype = 'd'\n",
      "        \n"
     ]
    },
    {
     "name": "stderr",
     "output_type": "stream",
     "text": [
      "INFO:sqlalchemy.engine.base.Engine:\n",
      "            SELECT t.typname as \"name\",\n",
      "               pg_catalog.format_type(t.typbasetype, t.typtypmod) as \"attype\",\n",
      "               not t.typnotnull as \"nullable\",\n",
      "               t.typdefault as \"default\",\n",
      "               pg_catalog.pg_type_is_visible(t.oid) as \"visible\",\n",
      "               n.nspname as \"schema\"\n",
      "            FROM pg_catalog.pg_type t\n",
      "               LEFT JOIN pg_catalog.pg_namespace n ON n.oid = t.typnamespace\n",
      "            WHERE t.typtype = 'd'\n",
      "        \n"
     ]
    },
    {
     "name": "stdout",
     "output_type": "stream",
     "text": [
      "2016-02-08 21:01:10,751 INFO sqlalchemy.engine.base.Engine {}\n"
     ]
    },
    {
     "name": "stderr",
     "output_type": "stream",
     "text": [
      "INFO:sqlalchemy.engine.base.Engine:{}\n"
     ]
    },
    {
     "name": "stdout",
     "output_type": "stream",
     "text": [
      "2016-02-08 21:01:10,780 INFO sqlalchemy.engine.base.Engine \n",
      "            SELECT t.typname as \"name\",\n",
      "               -- no enum defaults in 8.4 at least\n",
      "               -- t.typdefault as \"default\",\n",
      "               pg_catalog.pg_type_is_visible(t.oid) as \"visible\",\n",
      "               n.nspname as \"schema\",\n",
      "               e.enumlabel as \"label\"\n",
      "            FROM pg_catalog.pg_type t\n",
      "                 LEFT JOIN pg_catalog.pg_namespace n ON n.oid = t.typnamespace\n",
      "                 LEFT JOIN pg_catalog.pg_enum e ON t.oid = e.enumtypid\n",
      "            WHERE t.typtype = 'e'\n",
      "        ORDER BY \"schema\", \"name\", e.oid\n"
     ]
    },
    {
     "name": "stderr",
     "output_type": "stream",
     "text": [
      "INFO:sqlalchemy.engine.base.Engine:\n",
      "            SELECT t.typname as \"name\",\n",
      "               -- no enum defaults in 8.4 at least\n",
      "               -- t.typdefault as \"default\",\n",
      "               pg_catalog.pg_type_is_visible(t.oid) as \"visible\",\n",
      "               n.nspname as \"schema\",\n",
      "               e.enumlabel as \"label\"\n",
      "            FROM pg_catalog.pg_type t\n",
      "                 LEFT JOIN pg_catalog.pg_namespace n ON n.oid = t.typnamespace\n",
      "                 LEFT JOIN pg_catalog.pg_enum e ON t.oid = e.enumtypid\n",
      "            WHERE t.typtype = 'e'\n",
      "        ORDER BY \"schema\", \"name\", e.oid\n"
     ]
    },
    {
     "name": "stdout",
     "output_type": "stream",
     "text": [
      "2016-02-08 21:01:10,782 INFO sqlalchemy.engine.base.Engine {}\n"
     ]
    },
    {
     "name": "stderr",
     "output_type": "stream",
     "text": [
      "INFO:sqlalchemy.engine.base.Engine:{}\n"
     ]
    },
    {
     "name": "stdout",
     "output_type": "stream",
     "text": [
      "2016-02-08 21:01:10,810 INFO sqlalchemy.engine.base.Engine \n",
      "                SELECT a.attname\n",
      "                FROM pg_attribute a JOIN (\n",
      "                    SELECT unnest(ix.indkey) attnum,\n",
      "                           generate_subscripts(ix.indkey, 1) ord\n",
      "                    FROM pg_index ix\n",
      "                    WHERE ix.indrelid = %(table_oid)s AND ix.indisprimary\n",
      "                    ) k ON a.attnum=k.attnum\n",
      "                WHERE a.attrelid = %(table_oid)s\n",
      "                ORDER BY k.ord\n",
      "            \n"
     ]
    },
    {
     "name": "stderr",
     "output_type": "stream",
     "text": [
      "INFO:sqlalchemy.engine.base.Engine:\n",
      "                SELECT a.attname\n",
      "                FROM pg_attribute a JOIN (\n",
      "                    SELECT unnest(ix.indkey) attnum,\n",
      "                           generate_subscripts(ix.indkey, 1) ord\n",
      "                    FROM pg_index ix\n",
      "                    WHERE ix.indrelid = %(table_oid)s AND ix.indisprimary\n",
      "                    ) k ON a.attnum=k.attnum\n",
      "                WHERE a.attrelid = %(table_oid)s\n",
      "                ORDER BY k.ord\n",
      "            \n"
     ]
    },
    {
     "name": "stdout",
     "output_type": "stream",
     "text": [
      "2016-02-08 21:01:10,812 INFO sqlalchemy.engine.base.Engine {'table_oid': 16413}\n"
     ]
    },
    {
     "name": "stderr",
     "output_type": "stream",
     "text": [
      "INFO:sqlalchemy.engine.base.Engine:{'table_oid': 16413}\n"
     ]
    },
    {
     "name": "stdout",
     "output_type": "stream",
     "text": [
      "2016-02-08 21:01:10,838 INFO sqlalchemy.engine.base.Engine \n",
      "        SELECT conname\n",
      "           FROM  pg_catalog.pg_constraint r\n",
      "           WHERE r.conrelid = %(table_oid)s AND r.contype = 'p'\n",
      "           ORDER BY 1\n",
      "        \n"
     ]
    },
    {
     "name": "stderr",
     "output_type": "stream",
     "text": [
      "INFO:sqlalchemy.engine.base.Engine:\n",
      "        SELECT conname\n",
      "           FROM  pg_catalog.pg_constraint r\n",
      "           WHERE r.conrelid = %(table_oid)s AND r.contype = 'p'\n",
      "           ORDER BY 1\n",
      "        \n"
     ]
    },
    {
     "name": "stdout",
     "output_type": "stream",
     "text": [
      "2016-02-08 21:01:10,839 INFO sqlalchemy.engine.base.Engine {'table_oid': 16413}\n"
     ]
    },
    {
     "name": "stderr",
     "output_type": "stream",
     "text": [
      "INFO:sqlalchemy.engine.base.Engine:{'table_oid': 16413}\n"
     ]
    },
    {
     "name": "stdout",
     "output_type": "stream",
     "text": [
      "2016-02-08 21:01:10,876 INFO sqlalchemy.engine.base.Engine \n",
      "          SELECT r.conname,\n",
      "                pg_catalog.pg_get_constraintdef(r.oid, true) as condef,\n",
      "                n.nspname as conschema\n",
      "          FROM  pg_catalog.pg_constraint r,\n",
      "                pg_namespace n,\n",
      "                pg_class c\n",
      "\n",
      "          WHERE r.conrelid = %(table)s AND\n",
      "                r.contype = 'f' AND\n",
      "                c.oid = confrelid AND\n",
      "                n.oid = c.relnamespace\n",
      "          ORDER BY 1\n",
      "        \n"
     ]
    },
    {
     "name": "stderr",
     "output_type": "stream",
     "text": [
      "INFO:sqlalchemy.engine.base.Engine:\n",
      "          SELECT r.conname,\n",
      "                pg_catalog.pg_get_constraintdef(r.oid, true) as condef,\n",
      "                n.nspname as conschema\n",
      "          FROM  pg_catalog.pg_constraint r,\n",
      "                pg_namespace n,\n",
      "                pg_class c\n",
      "\n",
      "          WHERE r.conrelid = %(table)s AND\n",
      "                r.contype = 'f' AND\n",
      "                c.oid = confrelid AND\n",
      "                n.oid = c.relnamespace\n",
      "          ORDER BY 1\n",
      "        \n"
     ]
    },
    {
     "name": "stdout",
     "output_type": "stream",
     "text": [
      "2016-02-08 21:01:10,876 INFO sqlalchemy.engine.base.Engine {'table': 16413}\n"
     ]
    },
    {
     "name": "stderr",
     "output_type": "stream",
     "text": [
      "INFO:sqlalchemy.engine.base.Engine:{'table': 16413}\n"
     ]
    },
    {
     "name": "stdout",
     "output_type": "stream",
     "text": [
      "2016-02-08 21:01:10,904 INFO sqlalchemy.engine.base.Engine \n",
      "              SELECT\n",
      "                  i.relname as relname,\n",
      "                  ix.indisunique, ix.indexprs, ix.indpred,\n",
      "                  a.attname, a.attnum, c.conrelid, ix.indkey::varchar,\n",
      "                  i.reloptions, am.amname\n",
      "              FROM\n",
      "                  pg_class t\n",
      "                        join pg_index ix on t.oid = ix.indrelid\n",
      "                        join pg_class i on i.oid = ix.indexrelid\n",
      "                        left outer join\n",
      "                            pg_attribute a\n",
      "                            on t.oid = a.attrelid and a.attnum = ANY(ix.indkey)\n",
      "                        left outer join\n",
      "                            pg_constraint c\n",
      "                            on (ix.indrelid = c.conrelid and\n",
      "                                ix.indexrelid = c.conindid and\n",
      "                                c.contype in ('p', 'u', 'x'))\n",
      "                        left outer join\n",
      "                            pg_am am\n",
      "                            on i.relam = am.oid\n",
      "              WHERE\n",
      "                  t.relkind IN ('r', 'v', 'f', 'm')\n",
      "                  and t.oid = %(table_oid)s\n",
      "                  and ix.indisprimary = 'f'\n",
      "              ORDER BY\n",
      "                  t.relname,\n",
      "                  i.relname\n",
      "            \n"
     ]
    },
    {
     "name": "stderr",
     "output_type": "stream",
     "text": [
      "INFO:sqlalchemy.engine.base.Engine:\n",
      "              SELECT\n",
      "                  i.relname as relname,\n",
      "                  ix.indisunique, ix.indexprs, ix.indpred,\n",
      "                  a.attname, a.attnum, c.conrelid, ix.indkey::varchar,\n",
      "                  i.reloptions, am.amname\n",
      "              FROM\n",
      "                  pg_class t\n",
      "                        join pg_index ix on t.oid = ix.indrelid\n",
      "                        join pg_class i on i.oid = ix.indexrelid\n",
      "                        left outer join\n",
      "                            pg_attribute a\n",
      "                            on t.oid = a.attrelid and a.attnum = ANY(ix.indkey)\n",
      "                        left outer join\n",
      "                            pg_constraint c\n",
      "                            on (ix.indrelid = c.conrelid and\n",
      "                                ix.indexrelid = c.conindid and\n",
      "                                c.contype in ('p', 'u', 'x'))\n",
      "                        left outer join\n",
      "                            pg_am am\n",
      "                            on i.relam = am.oid\n",
      "              WHERE\n",
      "                  t.relkind IN ('r', 'v', 'f', 'm')\n",
      "                  and t.oid = %(table_oid)s\n",
      "                  and ix.indisprimary = 'f'\n",
      "              ORDER BY\n",
      "                  t.relname,\n",
      "                  i.relname\n",
      "            \n"
     ]
    },
    {
     "name": "stdout",
     "output_type": "stream",
     "text": [
      "2016-02-08 21:01:10,906 INFO sqlalchemy.engine.base.Engine {'table_oid': 16413}\n"
     ]
    },
    {
     "name": "stderr",
     "output_type": "stream",
     "text": [
      "INFO:sqlalchemy.engine.base.Engine:{'table_oid': 16413}\n"
     ]
    },
    {
     "name": "stdout",
     "output_type": "stream",
     "text": [
      "2016-02-08 21:01:10,936 INFO sqlalchemy.engine.base.Engine \n",
      "            SELECT\n",
      "                cons.conname as name,\n",
      "                cons.conkey as key,\n",
      "                a.attnum as col_num,\n",
      "                a.attname as col_name\n",
      "            FROM\n",
      "                pg_catalog.pg_constraint cons\n",
      "                join pg_attribute a\n",
      "                  on cons.conrelid = a.attrelid AND\n",
      "                    a.attnum = ANY(cons.conkey)\n",
      "            WHERE\n",
      "                cons.conrelid = %(table_oid)s AND\n",
      "                cons.contype = 'u'\n",
      "        \n"
     ]
    },
    {
     "name": "stderr",
     "output_type": "stream",
     "text": [
      "INFO:sqlalchemy.engine.base.Engine:\n",
      "            SELECT\n",
      "                cons.conname as name,\n",
      "                cons.conkey as key,\n",
      "                a.attnum as col_num,\n",
      "                a.attname as col_name\n",
      "            FROM\n",
      "                pg_catalog.pg_constraint cons\n",
      "                join pg_attribute a\n",
      "                  on cons.conrelid = a.attrelid AND\n",
      "                    a.attnum = ANY(cons.conkey)\n",
      "            WHERE\n",
      "                cons.conrelid = %(table_oid)s AND\n",
      "                cons.contype = 'u'\n",
      "        \n"
     ]
    },
    {
     "name": "stdout",
     "output_type": "stream",
     "text": [
      "2016-02-08 21:01:10,937 INFO sqlalchemy.engine.base.Engine {'table_oid': 16413}\n"
     ]
    },
    {
     "name": "stderr",
     "output_type": "stream",
     "text": [
      "INFO:sqlalchemy.engine.base.Engine:{'table_oid': 16413}\n"
     ]
    },
    {
     "name": "stdout",
     "output_type": "stream",
     "text": [
      "2016-02-08 21:01:10,965 INFO sqlalchemy.engine.base.Engine \n",
      "            SELECT c.oid\n",
      "            FROM pg_catalog.pg_class c\n",
      "            LEFT JOIN pg_catalog.pg_namespace n ON n.oid = c.relnamespace\n",
      "            WHERE (pg_catalog.pg_table_is_visible(c.oid))\n",
      "            AND c.relname = %(table_name)s AND c.relkind in ('r', 'v', 'm', 'f')\n",
      "        \n"
     ]
    },
    {
     "name": "stderr",
     "output_type": "stream",
     "text": [
      "INFO:sqlalchemy.engine.base.Engine:\n",
      "            SELECT c.oid\n",
      "            FROM pg_catalog.pg_class c\n",
      "            LEFT JOIN pg_catalog.pg_namespace n ON n.oid = c.relnamespace\n",
      "            WHERE (pg_catalog.pg_table_is_visible(c.oid))\n",
      "            AND c.relname = %(table_name)s AND c.relkind in ('r', 'v', 'm', 'f')\n",
      "        \n"
     ]
    },
    {
     "name": "stdout",
     "output_type": "stream",
     "text": [
      "2016-02-08 21:01:10,966 INFO sqlalchemy.engine.base.Engine {'table_name': 'FIPS_States'}\n"
     ]
    },
    {
     "name": "stderr",
     "output_type": "stream",
     "text": [
      "INFO:sqlalchemy.engine.base.Engine:{'table_name': 'FIPS_States'}\n"
     ]
    },
    {
     "name": "stdout",
     "output_type": "stream",
     "text": [
      "2016-02-08 21:01:10,995 INFO sqlalchemy.engine.base.Engine \n",
      "            SELECT a.attname,\n",
      "              pg_catalog.format_type(a.atttypid, a.atttypmod),\n",
      "              (SELECT pg_catalog.pg_get_expr(d.adbin, d.adrelid)\n",
      "                FROM pg_catalog.pg_attrdef d\n",
      "               WHERE d.adrelid = a.attrelid AND d.adnum = a.attnum\n",
      "               AND a.atthasdef)\n",
      "              AS DEFAULT,\n",
      "              a.attnotnull, a.attnum, a.attrelid as table_oid\n",
      "            FROM pg_catalog.pg_attribute a\n",
      "            WHERE a.attrelid = %(table_oid)s\n",
      "            AND a.attnum > 0 AND NOT a.attisdropped\n",
      "            ORDER BY a.attnum\n",
      "        \n"
     ]
    },
    {
     "name": "stderr",
     "output_type": "stream",
     "text": [
      "INFO:sqlalchemy.engine.base.Engine:\n",
      "            SELECT a.attname,\n",
      "              pg_catalog.format_type(a.atttypid, a.atttypmod),\n",
      "              (SELECT pg_catalog.pg_get_expr(d.adbin, d.adrelid)\n",
      "                FROM pg_catalog.pg_attrdef d\n",
      "               WHERE d.adrelid = a.attrelid AND d.adnum = a.attnum\n",
      "               AND a.atthasdef)\n",
      "              AS DEFAULT,\n",
      "              a.attnotnull, a.attnum, a.attrelid as table_oid\n",
      "            FROM pg_catalog.pg_attribute a\n",
      "            WHERE a.attrelid = %(table_oid)s\n",
      "            AND a.attnum > 0 AND NOT a.attisdropped\n",
      "            ORDER BY a.attnum\n",
      "        \n"
     ]
    },
    {
     "name": "stdout",
     "output_type": "stream",
     "text": [
      "2016-02-08 21:01:10,996 INFO sqlalchemy.engine.base.Engine {'table_oid': 16419}\n"
     ]
    },
    {
     "name": "stderr",
     "output_type": "stream",
     "text": [
      "INFO:sqlalchemy.engine.base.Engine:{'table_oid': 16419}\n"
     ]
    },
    {
     "name": "stdout",
     "output_type": "stream",
     "text": [
      "2016-02-08 21:01:11,028 INFO sqlalchemy.engine.base.Engine \n",
      "            SELECT t.typname as \"name\",\n",
      "               pg_catalog.format_type(t.typbasetype, t.typtypmod) as \"attype\",\n",
      "               not t.typnotnull as \"nullable\",\n",
      "               t.typdefault as \"default\",\n",
      "               pg_catalog.pg_type_is_visible(t.oid) as \"visible\",\n",
      "               n.nspname as \"schema\"\n",
      "            FROM pg_catalog.pg_type t\n",
      "               LEFT JOIN pg_catalog.pg_namespace n ON n.oid = t.typnamespace\n",
      "            WHERE t.typtype = 'd'\n",
      "        \n"
     ]
    },
    {
     "name": "stderr",
     "output_type": "stream",
     "text": [
      "INFO:sqlalchemy.engine.base.Engine:\n",
      "            SELECT t.typname as \"name\",\n",
      "               pg_catalog.format_type(t.typbasetype, t.typtypmod) as \"attype\",\n",
      "               not t.typnotnull as \"nullable\",\n",
      "               t.typdefault as \"default\",\n",
      "               pg_catalog.pg_type_is_visible(t.oid) as \"visible\",\n",
      "               n.nspname as \"schema\"\n",
      "            FROM pg_catalog.pg_type t\n",
      "               LEFT JOIN pg_catalog.pg_namespace n ON n.oid = t.typnamespace\n",
      "            WHERE t.typtype = 'd'\n",
      "        \n"
     ]
    },
    {
     "name": "stdout",
     "output_type": "stream",
     "text": [
      "2016-02-08 21:01:11,029 INFO sqlalchemy.engine.base.Engine {}\n"
     ]
    },
    {
     "name": "stderr",
     "output_type": "stream",
     "text": [
      "INFO:sqlalchemy.engine.base.Engine:{}\n"
     ]
    },
    {
     "name": "stdout",
     "output_type": "stream",
     "text": [
      "2016-02-08 21:01:11,060 INFO sqlalchemy.engine.base.Engine \n",
      "            SELECT t.typname as \"name\",\n",
      "               -- no enum defaults in 8.4 at least\n",
      "               -- t.typdefault as \"default\",\n",
      "               pg_catalog.pg_type_is_visible(t.oid) as \"visible\",\n",
      "               n.nspname as \"schema\",\n",
      "               e.enumlabel as \"label\"\n",
      "            FROM pg_catalog.pg_type t\n",
      "                 LEFT JOIN pg_catalog.pg_namespace n ON n.oid = t.typnamespace\n",
      "                 LEFT JOIN pg_catalog.pg_enum e ON t.oid = e.enumtypid\n",
      "            WHERE t.typtype = 'e'\n",
      "        ORDER BY \"schema\", \"name\", e.oid\n"
     ]
    },
    {
     "name": "stderr",
     "output_type": "stream",
     "text": [
      "INFO:sqlalchemy.engine.base.Engine:\n",
      "            SELECT t.typname as \"name\",\n",
      "               -- no enum defaults in 8.4 at least\n",
      "               -- t.typdefault as \"default\",\n",
      "               pg_catalog.pg_type_is_visible(t.oid) as \"visible\",\n",
      "               n.nspname as \"schema\",\n",
      "               e.enumlabel as \"label\"\n",
      "            FROM pg_catalog.pg_type t\n",
      "                 LEFT JOIN pg_catalog.pg_namespace n ON n.oid = t.typnamespace\n",
      "                 LEFT JOIN pg_catalog.pg_enum e ON t.oid = e.enumtypid\n",
      "            WHERE t.typtype = 'e'\n",
      "        ORDER BY \"schema\", \"name\", e.oid\n"
     ]
    },
    {
     "name": "stdout",
     "output_type": "stream",
     "text": [
      "2016-02-08 21:01:11,062 INFO sqlalchemy.engine.base.Engine {}\n"
     ]
    },
    {
     "name": "stderr",
     "output_type": "stream",
     "text": [
      "INFO:sqlalchemy.engine.base.Engine:{}\n"
     ]
    },
    {
     "name": "stdout",
     "output_type": "stream",
     "text": [
      "2016-02-08 21:01:11,090 INFO sqlalchemy.engine.base.Engine \n",
      "                SELECT a.attname\n",
      "                FROM pg_attribute a JOIN (\n",
      "                    SELECT unnest(ix.indkey) attnum,\n",
      "                           generate_subscripts(ix.indkey, 1) ord\n",
      "                    FROM pg_index ix\n",
      "                    WHERE ix.indrelid = %(table_oid)s AND ix.indisprimary\n",
      "                    ) k ON a.attnum=k.attnum\n",
      "                WHERE a.attrelid = %(table_oid)s\n",
      "                ORDER BY k.ord\n",
      "            \n"
     ]
    },
    {
     "name": "stderr",
     "output_type": "stream",
     "text": [
      "INFO:sqlalchemy.engine.base.Engine:\n",
      "                SELECT a.attname\n",
      "                FROM pg_attribute a JOIN (\n",
      "                    SELECT unnest(ix.indkey) attnum,\n",
      "                           generate_subscripts(ix.indkey, 1) ord\n",
      "                    FROM pg_index ix\n",
      "                    WHERE ix.indrelid = %(table_oid)s AND ix.indisprimary\n",
      "                    ) k ON a.attnum=k.attnum\n",
      "                WHERE a.attrelid = %(table_oid)s\n",
      "                ORDER BY k.ord\n",
      "            \n"
     ]
    },
    {
     "name": "stdout",
     "output_type": "stream",
     "text": [
      "2016-02-08 21:01:11,091 INFO sqlalchemy.engine.base.Engine {'table_oid': 16419}\n"
     ]
    },
    {
     "name": "stderr",
     "output_type": "stream",
     "text": [
      "INFO:sqlalchemy.engine.base.Engine:{'table_oid': 16419}\n"
     ]
    },
    {
     "name": "stdout",
     "output_type": "stream",
     "text": [
      "2016-02-08 21:01:11,121 INFO sqlalchemy.engine.base.Engine \n",
      "        SELECT conname\n",
      "           FROM  pg_catalog.pg_constraint r\n",
      "           WHERE r.conrelid = %(table_oid)s AND r.contype = 'p'\n",
      "           ORDER BY 1\n",
      "        \n"
     ]
    },
    {
     "name": "stderr",
     "output_type": "stream",
     "text": [
      "INFO:sqlalchemy.engine.base.Engine:\n",
      "        SELECT conname\n",
      "           FROM  pg_catalog.pg_constraint r\n",
      "           WHERE r.conrelid = %(table_oid)s AND r.contype = 'p'\n",
      "           ORDER BY 1\n",
      "        \n"
     ]
    },
    {
     "name": "stdout",
     "output_type": "stream",
     "text": [
      "2016-02-08 21:01:11,122 INFO sqlalchemy.engine.base.Engine {'table_oid': 16419}\n"
     ]
    },
    {
     "name": "stderr",
     "output_type": "stream",
     "text": [
      "INFO:sqlalchemy.engine.base.Engine:{'table_oid': 16419}\n"
     ]
    },
    {
     "name": "stdout",
     "output_type": "stream",
     "text": [
      "2016-02-08 21:01:11,155 INFO sqlalchemy.engine.base.Engine \n",
      "          SELECT r.conname,\n",
      "                pg_catalog.pg_get_constraintdef(r.oid, true) as condef,\n",
      "                n.nspname as conschema\n",
      "          FROM  pg_catalog.pg_constraint r,\n",
      "                pg_namespace n,\n",
      "                pg_class c\n",
      "\n",
      "          WHERE r.conrelid = %(table)s AND\n",
      "                r.contype = 'f' AND\n",
      "                c.oid = confrelid AND\n",
      "                n.oid = c.relnamespace\n",
      "          ORDER BY 1\n",
      "        \n"
     ]
    },
    {
     "name": "stderr",
     "output_type": "stream",
     "text": [
      "INFO:sqlalchemy.engine.base.Engine:\n",
      "          SELECT r.conname,\n",
      "                pg_catalog.pg_get_constraintdef(r.oid, true) as condef,\n",
      "                n.nspname as conschema\n",
      "          FROM  pg_catalog.pg_constraint r,\n",
      "                pg_namespace n,\n",
      "                pg_class c\n",
      "\n",
      "          WHERE r.conrelid = %(table)s AND\n",
      "                r.contype = 'f' AND\n",
      "                c.oid = confrelid AND\n",
      "                n.oid = c.relnamespace\n",
      "          ORDER BY 1\n",
      "        \n"
     ]
    },
    {
     "name": "stdout",
     "output_type": "stream",
     "text": [
      "2016-02-08 21:01:11,156 INFO sqlalchemy.engine.base.Engine {'table': 16419}\n"
     ]
    },
    {
     "name": "stderr",
     "output_type": "stream",
     "text": [
      "INFO:sqlalchemy.engine.base.Engine:{'table': 16419}\n"
     ]
    },
    {
     "name": "stdout",
     "output_type": "stream",
     "text": [
      "2016-02-08 21:01:11,186 INFO sqlalchemy.engine.base.Engine \n",
      "              SELECT\n",
      "                  i.relname as relname,\n",
      "                  ix.indisunique, ix.indexprs, ix.indpred,\n",
      "                  a.attname, a.attnum, c.conrelid, ix.indkey::varchar,\n",
      "                  i.reloptions, am.amname\n",
      "              FROM\n",
      "                  pg_class t\n",
      "                        join pg_index ix on t.oid = ix.indrelid\n",
      "                        join pg_class i on i.oid = ix.indexrelid\n",
      "                        left outer join\n",
      "                            pg_attribute a\n",
      "                            on t.oid = a.attrelid and a.attnum = ANY(ix.indkey)\n",
      "                        left outer join\n",
      "                            pg_constraint c\n",
      "                            on (ix.indrelid = c.conrelid and\n",
      "                                ix.indexrelid = c.conindid and\n",
      "                                c.contype in ('p', 'u', 'x'))\n",
      "                        left outer join\n",
      "                            pg_am am\n",
      "                            on i.relam = am.oid\n",
      "              WHERE\n",
      "                  t.relkind IN ('r', 'v', 'f', 'm')\n",
      "                  and t.oid = %(table_oid)s\n",
      "                  and ix.indisprimary = 'f'\n",
      "              ORDER BY\n",
      "                  t.relname,\n",
      "                  i.relname\n",
      "            \n"
     ]
    },
    {
     "name": "stderr",
     "output_type": "stream",
     "text": [
      "INFO:sqlalchemy.engine.base.Engine:\n",
      "              SELECT\n",
      "                  i.relname as relname,\n",
      "                  ix.indisunique, ix.indexprs, ix.indpred,\n",
      "                  a.attname, a.attnum, c.conrelid, ix.indkey::varchar,\n",
      "                  i.reloptions, am.amname\n",
      "              FROM\n",
      "                  pg_class t\n",
      "                        join pg_index ix on t.oid = ix.indrelid\n",
      "                        join pg_class i on i.oid = ix.indexrelid\n",
      "                        left outer join\n",
      "                            pg_attribute a\n",
      "                            on t.oid = a.attrelid and a.attnum = ANY(ix.indkey)\n",
      "                        left outer join\n",
      "                            pg_constraint c\n",
      "                            on (ix.indrelid = c.conrelid and\n",
      "                                ix.indexrelid = c.conindid and\n",
      "                                c.contype in ('p', 'u', 'x'))\n",
      "                        left outer join\n",
      "                            pg_am am\n",
      "                            on i.relam = am.oid\n",
      "              WHERE\n",
      "                  t.relkind IN ('r', 'v', 'f', 'm')\n",
      "                  and t.oid = %(table_oid)s\n",
      "                  and ix.indisprimary = 'f'\n",
      "              ORDER BY\n",
      "                  t.relname,\n",
      "                  i.relname\n",
      "            \n"
     ]
    },
    {
     "name": "stdout",
     "output_type": "stream",
     "text": [
      "2016-02-08 21:01:11,188 INFO sqlalchemy.engine.base.Engine {'table_oid': 16419}\n"
     ]
    },
    {
     "name": "stderr",
     "output_type": "stream",
     "text": [
      "INFO:sqlalchemy.engine.base.Engine:{'table_oid': 16419}\n"
     ]
    },
    {
     "name": "stdout",
     "output_type": "stream",
     "text": [
      "2016-02-08 21:01:11,218 INFO sqlalchemy.engine.base.Engine \n",
      "            SELECT\n",
      "                cons.conname as name,\n",
      "                cons.conkey as key,\n",
      "                a.attnum as col_num,\n",
      "                a.attname as col_name\n",
      "            FROM\n",
      "                pg_catalog.pg_constraint cons\n",
      "                join pg_attribute a\n",
      "                  on cons.conrelid = a.attrelid AND\n",
      "                    a.attnum = ANY(cons.conkey)\n",
      "            WHERE\n",
      "                cons.conrelid = %(table_oid)s AND\n",
      "                cons.contype = 'u'\n",
      "        \n"
     ]
    },
    {
     "name": "stderr",
     "output_type": "stream",
     "text": [
      "INFO:sqlalchemy.engine.base.Engine:\n",
      "            SELECT\n",
      "                cons.conname as name,\n",
      "                cons.conkey as key,\n",
      "                a.attnum as col_num,\n",
      "                a.attname as col_name\n",
      "            FROM\n",
      "                pg_catalog.pg_constraint cons\n",
      "                join pg_attribute a\n",
      "                  on cons.conrelid = a.attrelid AND\n",
      "                    a.attnum = ANY(cons.conkey)\n",
      "            WHERE\n",
      "                cons.conrelid = %(table_oid)s AND\n",
      "                cons.contype = 'u'\n",
      "        \n"
     ]
    },
    {
     "name": "stdout",
     "output_type": "stream",
     "text": [
      "2016-02-08 21:01:11,219 INFO sqlalchemy.engine.base.Engine {'table_oid': 16419}\n"
     ]
    },
    {
     "name": "stderr",
     "output_type": "stream",
     "text": [
      "INFO:sqlalchemy.engine.base.Engine:{'table_oid': 16419}\n"
     ]
    },
    {
     "name": "stdout",
     "output_type": "stream",
     "text": [
      "2016-02-08 21:01:11,248 INFO sqlalchemy.engine.base.Engine \n",
      "            SELECT c.oid\n",
      "            FROM pg_catalog.pg_class c\n",
      "            LEFT JOIN pg_catalog.pg_namespace n ON n.oid = c.relnamespace\n",
      "            WHERE (pg_catalog.pg_table_is_visible(c.oid))\n",
      "            AND c.relname = %(table_name)s AND c.relkind in ('r', 'v', 'm', 'f')\n",
      "        \n"
     ]
    },
    {
     "name": "stderr",
     "output_type": "stream",
     "text": [
      "INFO:sqlalchemy.engine.base.Engine:\n",
      "            SELECT c.oid\n",
      "            FROM pg_catalog.pg_class c\n",
      "            LEFT JOIN pg_catalog.pg_namespace n ON n.oid = c.relnamespace\n",
      "            WHERE (pg_catalog.pg_table_is_visible(c.oid))\n",
      "            AND c.relname = %(table_name)s AND c.relkind in ('r', 'v', 'm', 'f')\n",
      "        \n"
     ]
    },
    {
     "name": "stdout",
     "output_type": "stream",
     "text": [
      "2016-02-08 21:01:11,249 INFO sqlalchemy.engine.base.Engine {'table_name': 'transactions'}\n"
     ]
    },
    {
     "name": "stderr",
     "output_type": "stream",
     "text": [
      "INFO:sqlalchemy.engine.base.Engine:{'table_name': 'transactions'}\n"
     ]
    },
    {
     "name": "stdout",
     "output_type": "stream",
     "text": [
      "2016-02-08 21:01:11,277 INFO sqlalchemy.engine.base.Engine \n",
      "            SELECT a.attname,\n",
      "              pg_catalog.format_type(a.atttypid, a.atttypmod),\n",
      "              (SELECT pg_catalog.pg_get_expr(d.adbin, d.adrelid)\n",
      "                FROM pg_catalog.pg_attrdef d\n",
      "               WHERE d.adrelid = a.attrelid AND d.adnum = a.attnum\n",
      "               AND a.atthasdef)\n",
      "              AS DEFAULT,\n",
      "              a.attnotnull, a.attnum, a.attrelid as table_oid\n",
      "            FROM pg_catalog.pg_attribute a\n",
      "            WHERE a.attrelid = %(table_oid)s\n",
      "            AND a.attnum > 0 AND NOT a.attisdropped\n",
      "            ORDER BY a.attnum\n",
      "        \n"
     ]
    },
    {
     "name": "stderr",
     "output_type": "stream",
     "text": [
      "INFO:sqlalchemy.engine.base.Engine:\n",
      "            SELECT a.attname,\n",
      "              pg_catalog.format_type(a.atttypid, a.atttypmod),\n",
      "              (SELECT pg_catalog.pg_get_expr(d.adbin, d.adrelid)\n",
      "                FROM pg_catalog.pg_attrdef d\n",
      "               WHERE d.adrelid = a.attrelid AND d.adnum = a.attnum\n",
      "               AND a.atthasdef)\n",
      "              AS DEFAULT,\n",
      "              a.attnotnull, a.attnum, a.attrelid as table_oid\n",
      "            FROM pg_catalog.pg_attribute a\n",
      "            WHERE a.attrelid = %(table_oid)s\n",
      "            AND a.attnum > 0 AND NOT a.attisdropped\n",
      "            ORDER BY a.attnum\n",
      "        \n"
     ]
    },
    {
     "name": "stdout",
     "output_type": "stream",
     "text": [
      "2016-02-08 21:01:11,279 INFO sqlalchemy.engine.base.Engine {'table_oid': 16426}\n"
     ]
    },
    {
     "name": "stderr",
     "output_type": "stream",
     "text": [
      "INFO:sqlalchemy.engine.base.Engine:{'table_oid': 16426}\n"
     ]
    },
    {
     "name": "stdout",
     "output_type": "stream",
     "text": [
      "2016-02-08 21:01:11,317 INFO sqlalchemy.engine.base.Engine \n",
      "            SELECT t.typname as \"name\",\n",
      "               pg_catalog.format_type(t.typbasetype, t.typtypmod) as \"attype\",\n",
      "               not t.typnotnull as \"nullable\",\n",
      "               t.typdefault as \"default\",\n",
      "               pg_catalog.pg_type_is_visible(t.oid) as \"visible\",\n",
      "               n.nspname as \"schema\"\n",
      "            FROM pg_catalog.pg_type t\n",
      "               LEFT JOIN pg_catalog.pg_namespace n ON n.oid = t.typnamespace\n",
      "            WHERE t.typtype = 'd'\n",
      "        \n"
     ]
    },
    {
     "name": "stderr",
     "output_type": "stream",
     "text": [
      "INFO:sqlalchemy.engine.base.Engine:\n",
      "            SELECT t.typname as \"name\",\n",
      "               pg_catalog.format_type(t.typbasetype, t.typtypmod) as \"attype\",\n",
      "               not t.typnotnull as \"nullable\",\n",
      "               t.typdefault as \"default\",\n",
      "               pg_catalog.pg_type_is_visible(t.oid) as \"visible\",\n",
      "               n.nspname as \"schema\"\n",
      "            FROM pg_catalog.pg_type t\n",
      "               LEFT JOIN pg_catalog.pg_namespace n ON n.oid = t.typnamespace\n",
      "            WHERE t.typtype = 'd'\n",
      "        \n"
     ]
    },
    {
     "name": "stdout",
     "output_type": "stream",
     "text": [
      "2016-02-08 21:01:11,318 INFO sqlalchemy.engine.base.Engine {}\n"
     ]
    },
    {
     "name": "stderr",
     "output_type": "stream",
     "text": [
      "INFO:sqlalchemy.engine.base.Engine:{}\n"
     ]
    },
    {
     "name": "stdout",
     "output_type": "stream",
     "text": [
      "2016-02-08 21:01:11,349 INFO sqlalchemy.engine.base.Engine \n",
      "            SELECT t.typname as \"name\",\n",
      "               -- no enum defaults in 8.4 at least\n",
      "               -- t.typdefault as \"default\",\n",
      "               pg_catalog.pg_type_is_visible(t.oid) as \"visible\",\n",
      "               n.nspname as \"schema\",\n",
      "               e.enumlabel as \"label\"\n",
      "            FROM pg_catalog.pg_type t\n",
      "                 LEFT JOIN pg_catalog.pg_namespace n ON n.oid = t.typnamespace\n",
      "                 LEFT JOIN pg_catalog.pg_enum e ON t.oid = e.enumtypid\n",
      "            WHERE t.typtype = 'e'\n",
      "        ORDER BY \"schema\", \"name\", e.oid\n"
     ]
    },
    {
     "name": "stderr",
     "output_type": "stream",
     "text": [
      "INFO:sqlalchemy.engine.base.Engine:\n",
      "            SELECT t.typname as \"name\",\n",
      "               -- no enum defaults in 8.4 at least\n",
      "               -- t.typdefault as \"default\",\n",
      "               pg_catalog.pg_type_is_visible(t.oid) as \"visible\",\n",
      "               n.nspname as \"schema\",\n",
      "               e.enumlabel as \"label\"\n",
      "            FROM pg_catalog.pg_type t\n",
      "                 LEFT JOIN pg_catalog.pg_namespace n ON n.oid = t.typnamespace\n",
      "                 LEFT JOIN pg_catalog.pg_enum e ON t.oid = e.enumtypid\n",
      "            WHERE t.typtype = 'e'\n",
      "        ORDER BY \"schema\", \"name\", e.oid\n"
     ]
    },
    {
     "name": "stdout",
     "output_type": "stream",
     "text": [
      "2016-02-08 21:01:11,350 INFO sqlalchemy.engine.base.Engine {}\n"
     ]
    },
    {
     "name": "stderr",
     "output_type": "stream",
     "text": [
      "INFO:sqlalchemy.engine.base.Engine:{}\n"
     ]
    },
    {
     "name": "stdout",
     "output_type": "stream",
     "text": [
      "2016-02-08 21:01:11,382 INFO sqlalchemy.engine.base.Engine \n",
      "                SELECT a.attname\n",
      "                FROM pg_attribute a JOIN (\n",
      "                    SELECT unnest(ix.indkey) attnum,\n",
      "                           generate_subscripts(ix.indkey, 1) ord\n",
      "                    FROM pg_index ix\n",
      "                    WHERE ix.indrelid = %(table_oid)s AND ix.indisprimary\n",
      "                    ) k ON a.attnum=k.attnum\n",
      "                WHERE a.attrelid = %(table_oid)s\n",
      "                ORDER BY k.ord\n",
      "            \n"
     ]
    },
    {
     "name": "stderr",
     "output_type": "stream",
     "text": [
      "INFO:sqlalchemy.engine.base.Engine:\n",
      "                SELECT a.attname\n",
      "                FROM pg_attribute a JOIN (\n",
      "                    SELECT unnest(ix.indkey) attnum,\n",
      "                           generate_subscripts(ix.indkey, 1) ord\n",
      "                    FROM pg_index ix\n",
      "                    WHERE ix.indrelid = %(table_oid)s AND ix.indisprimary\n",
      "                    ) k ON a.attnum=k.attnum\n",
      "                WHERE a.attrelid = %(table_oid)s\n",
      "                ORDER BY k.ord\n",
      "            \n"
     ]
    },
    {
     "name": "stdout",
     "output_type": "stream",
     "text": [
      "2016-02-08 21:01:11,383 INFO sqlalchemy.engine.base.Engine {'table_oid': 16426}\n"
     ]
    },
    {
     "name": "stderr",
     "output_type": "stream",
     "text": [
      "INFO:sqlalchemy.engine.base.Engine:{'table_oid': 16426}\n"
     ]
    },
    {
     "name": "stdout",
     "output_type": "stream",
     "text": [
      "2016-02-08 21:01:11,413 INFO sqlalchemy.engine.base.Engine \n",
      "        SELECT conname\n",
      "           FROM  pg_catalog.pg_constraint r\n",
      "           WHERE r.conrelid = %(table_oid)s AND r.contype = 'p'\n",
      "           ORDER BY 1\n",
      "        \n"
     ]
    },
    {
     "name": "stderr",
     "output_type": "stream",
     "text": [
      "INFO:sqlalchemy.engine.base.Engine:\n",
      "        SELECT conname\n",
      "           FROM  pg_catalog.pg_constraint r\n",
      "           WHERE r.conrelid = %(table_oid)s AND r.contype = 'p'\n",
      "           ORDER BY 1\n",
      "        \n"
     ]
    },
    {
     "name": "stdout",
     "output_type": "stream",
     "text": [
      "2016-02-08 21:01:11,414 INFO sqlalchemy.engine.base.Engine {'table_oid': 16426}\n"
     ]
    },
    {
     "name": "stderr",
     "output_type": "stream",
     "text": [
      "INFO:sqlalchemy.engine.base.Engine:{'table_oid': 16426}\n"
     ]
    },
    {
     "name": "stdout",
     "output_type": "stream",
     "text": [
      "2016-02-08 21:01:11,444 INFO sqlalchemy.engine.base.Engine \n",
      "          SELECT r.conname,\n",
      "                pg_catalog.pg_get_constraintdef(r.oid, true) as condef,\n",
      "                n.nspname as conschema\n",
      "          FROM  pg_catalog.pg_constraint r,\n",
      "                pg_namespace n,\n",
      "                pg_class c\n",
      "\n",
      "          WHERE r.conrelid = %(table)s AND\n",
      "                r.contype = 'f' AND\n",
      "                c.oid = confrelid AND\n",
      "                n.oid = c.relnamespace\n",
      "          ORDER BY 1\n",
      "        \n"
     ]
    },
    {
     "name": "stderr",
     "output_type": "stream",
     "text": [
      "INFO:sqlalchemy.engine.base.Engine:\n",
      "          SELECT r.conname,\n",
      "                pg_catalog.pg_get_constraintdef(r.oid, true) as condef,\n",
      "                n.nspname as conschema\n",
      "          FROM  pg_catalog.pg_constraint r,\n",
      "                pg_namespace n,\n",
      "                pg_class c\n",
      "\n",
      "          WHERE r.conrelid = %(table)s AND\n",
      "                r.contype = 'f' AND\n",
      "                c.oid = confrelid AND\n",
      "                n.oid = c.relnamespace\n",
      "          ORDER BY 1\n",
      "        \n"
     ]
    },
    {
     "name": "stdout",
     "output_type": "stream",
     "text": [
      "2016-02-08 21:01:11,445 INFO sqlalchemy.engine.base.Engine {'table': 16426}\n"
     ]
    },
    {
     "name": "stderr",
     "output_type": "stream",
     "text": [
      "INFO:sqlalchemy.engine.base.Engine:{'table': 16426}\n"
     ]
    },
    {
     "name": "stdout",
     "output_type": "stream",
     "text": [
      "2016-02-08 21:01:11,475 INFO sqlalchemy.engine.base.Engine \n",
      "              SELECT\n",
      "                  i.relname as relname,\n",
      "                  ix.indisunique, ix.indexprs, ix.indpred,\n",
      "                  a.attname, a.attnum, c.conrelid, ix.indkey::varchar,\n",
      "                  i.reloptions, am.amname\n",
      "              FROM\n",
      "                  pg_class t\n",
      "                        join pg_index ix on t.oid = ix.indrelid\n",
      "                        join pg_class i on i.oid = ix.indexrelid\n",
      "                        left outer join\n",
      "                            pg_attribute a\n",
      "                            on t.oid = a.attrelid and a.attnum = ANY(ix.indkey)\n",
      "                        left outer join\n",
      "                            pg_constraint c\n",
      "                            on (ix.indrelid = c.conrelid and\n",
      "                                ix.indexrelid = c.conindid and\n",
      "                                c.contype in ('p', 'u', 'x'))\n",
      "                        left outer join\n",
      "                            pg_am am\n",
      "                            on i.relam = am.oid\n",
      "              WHERE\n",
      "                  t.relkind IN ('r', 'v', 'f', 'm')\n",
      "                  and t.oid = %(table_oid)s\n",
      "                  and ix.indisprimary = 'f'\n",
      "              ORDER BY\n",
      "                  t.relname,\n",
      "                  i.relname\n",
      "            \n"
     ]
    },
    {
     "name": "stderr",
     "output_type": "stream",
     "text": [
      "INFO:sqlalchemy.engine.base.Engine:\n",
      "              SELECT\n",
      "                  i.relname as relname,\n",
      "                  ix.indisunique, ix.indexprs, ix.indpred,\n",
      "                  a.attname, a.attnum, c.conrelid, ix.indkey::varchar,\n",
      "                  i.reloptions, am.amname\n",
      "              FROM\n",
      "                  pg_class t\n",
      "                        join pg_index ix on t.oid = ix.indrelid\n",
      "                        join pg_class i on i.oid = ix.indexrelid\n",
      "                        left outer join\n",
      "                            pg_attribute a\n",
      "                            on t.oid = a.attrelid and a.attnum = ANY(ix.indkey)\n",
      "                        left outer join\n",
      "                            pg_constraint c\n",
      "                            on (ix.indrelid = c.conrelid and\n",
      "                                ix.indexrelid = c.conindid and\n",
      "                                c.contype in ('p', 'u', 'x'))\n",
      "                        left outer join\n",
      "                            pg_am am\n",
      "                            on i.relam = am.oid\n",
      "              WHERE\n",
      "                  t.relkind IN ('r', 'v', 'f', 'm')\n",
      "                  and t.oid = %(table_oid)s\n",
      "                  and ix.indisprimary = 'f'\n",
      "              ORDER BY\n",
      "                  t.relname,\n",
      "                  i.relname\n",
      "            \n"
     ]
    },
    {
     "name": "stdout",
     "output_type": "stream",
     "text": [
      "2016-02-08 21:01:11,476 INFO sqlalchemy.engine.base.Engine {'table_oid': 16426}\n"
     ]
    },
    {
     "name": "stderr",
     "output_type": "stream",
     "text": [
      "INFO:sqlalchemy.engine.base.Engine:{'table_oid': 16426}\n"
     ]
    },
    {
     "name": "stdout",
     "output_type": "stream",
     "text": [
      "2016-02-08 21:01:11,507 INFO sqlalchemy.engine.base.Engine \n",
      "            SELECT\n",
      "                cons.conname as name,\n",
      "                cons.conkey as key,\n",
      "                a.attnum as col_num,\n",
      "                a.attname as col_name\n",
      "            FROM\n",
      "                pg_catalog.pg_constraint cons\n",
      "                join pg_attribute a\n",
      "                  on cons.conrelid = a.attrelid AND\n",
      "                    a.attnum = ANY(cons.conkey)\n",
      "            WHERE\n",
      "                cons.conrelid = %(table_oid)s AND\n",
      "                cons.contype = 'u'\n",
      "        \n"
     ]
    },
    {
     "name": "stderr",
     "output_type": "stream",
     "text": [
      "INFO:sqlalchemy.engine.base.Engine:\n",
      "            SELECT\n",
      "                cons.conname as name,\n",
      "                cons.conkey as key,\n",
      "                a.attnum as col_num,\n",
      "                a.attname as col_name\n",
      "            FROM\n",
      "                pg_catalog.pg_constraint cons\n",
      "                join pg_attribute a\n",
      "                  on cons.conrelid = a.attrelid AND\n",
      "                    a.attnum = ANY(cons.conkey)\n",
      "            WHERE\n",
      "                cons.conrelid = %(table_oid)s AND\n",
      "                cons.contype = 'u'\n",
      "        \n"
     ]
    },
    {
     "name": "stdout",
     "output_type": "stream",
     "text": [
      "2016-02-08 21:01:11,508 INFO sqlalchemy.engine.base.Engine {'table_oid': 16426}\n"
     ]
    },
    {
     "name": "stderr",
     "output_type": "stream",
     "text": [
      "INFO:sqlalchemy.engine.base.Engine:{'table_oid': 16426}\n"
     ]
    },
    {
     "name": "stdout",
     "output_type": "stream",
     "text": [
      "2016-02-08 21:01:11,550 INFO sqlalchemy.engine.base.Engine \n",
      "            SELECT c.oid\n",
      "            FROM pg_catalog.pg_class c\n",
      "            LEFT JOIN pg_catalog.pg_namespace n ON n.oid = c.relnamespace\n",
      "            WHERE (pg_catalog.pg_table_is_visible(c.oid))\n",
      "            AND c.relname = %(table_name)s AND c.relkind in ('r', 'v', 'm', 'f')\n",
      "        \n"
     ]
    },
    {
     "name": "stderr",
     "output_type": "stream",
     "text": [
      "INFO:sqlalchemy.engine.base.Engine:\n",
      "            SELECT c.oid\n",
      "            FROM pg_catalog.pg_class c\n",
      "            LEFT JOIN pg_catalog.pg_namespace n ON n.oid = c.relnamespace\n",
      "            WHERE (pg_catalog.pg_table_is_visible(c.oid))\n",
      "            AND c.relname = %(table_name)s AND c.relkind in ('r', 'v', 'm', 'f')\n",
      "        \n"
     ]
    },
    {
     "name": "stdout",
     "output_type": "stream",
     "text": [
      "2016-02-08 21:01:11,551 INFO sqlalchemy.engine.base.Engine {'table_name': 'transactions_joined'}\n"
     ]
    },
    {
     "name": "stderr",
     "output_type": "stream",
     "text": [
      "INFO:sqlalchemy.engine.base.Engine:{'table_name': 'transactions_joined'}\n"
     ]
    },
    {
     "name": "stdout",
     "output_type": "stream",
     "text": [
      "2016-02-08 21:01:11,580 INFO sqlalchemy.engine.base.Engine \n",
      "            SELECT a.attname,\n",
      "              pg_catalog.format_type(a.atttypid, a.atttypmod),\n",
      "              (SELECT pg_catalog.pg_get_expr(d.adbin, d.adrelid)\n",
      "                FROM pg_catalog.pg_attrdef d\n",
      "               WHERE d.adrelid = a.attrelid AND d.adnum = a.attnum\n",
      "               AND a.atthasdef)\n",
      "              AS DEFAULT,\n",
      "              a.attnotnull, a.attnum, a.attrelid as table_oid\n",
      "            FROM pg_catalog.pg_attribute a\n",
      "            WHERE a.attrelid = %(table_oid)s\n",
      "            AND a.attnum > 0 AND NOT a.attisdropped\n",
      "            ORDER BY a.attnum\n",
      "        \n"
     ]
    },
    {
     "name": "stderr",
     "output_type": "stream",
     "text": [
      "INFO:sqlalchemy.engine.base.Engine:\n",
      "            SELECT a.attname,\n",
      "              pg_catalog.format_type(a.atttypid, a.atttypmod),\n",
      "              (SELECT pg_catalog.pg_get_expr(d.adbin, d.adrelid)\n",
      "                FROM pg_catalog.pg_attrdef d\n",
      "               WHERE d.adrelid = a.attrelid AND d.adnum = a.attnum\n",
      "               AND a.atthasdef)\n",
      "              AS DEFAULT,\n",
      "              a.attnotnull, a.attnum, a.attrelid as table_oid\n",
      "            FROM pg_catalog.pg_attribute a\n",
      "            WHERE a.attrelid = %(table_oid)s\n",
      "            AND a.attnum > 0 AND NOT a.attisdropped\n",
      "            ORDER BY a.attnum\n",
      "        \n"
     ]
    },
    {
     "name": "stdout",
     "output_type": "stream",
     "text": [
      "2016-02-08 21:01:11,581 INFO sqlalchemy.engine.base.Engine {'table_oid': 16432}\n"
     ]
    },
    {
     "name": "stderr",
     "output_type": "stream",
     "text": [
      "INFO:sqlalchemy.engine.base.Engine:{'table_oid': 16432}\n"
     ]
    },
    {
     "name": "stdout",
     "output_type": "stream",
     "text": [
      "2016-02-08 21:01:11,614 INFO sqlalchemy.engine.base.Engine \n",
      "            SELECT t.typname as \"name\",\n",
      "               pg_catalog.format_type(t.typbasetype, t.typtypmod) as \"attype\",\n",
      "               not t.typnotnull as \"nullable\",\n",
      "               t.typdefault as \"default\",\n",
      "               pg_catalog.pg_type_is_visible(t.oid) as \"visible\",\n",
      "               n.nspname as \"schema\"\n",
      "            FROM pg_catalog.pg_type t\n",
      "               LEFT JOIN pg_catalog.pg_namespace n ON n.oid = t.typnamespace\n",
      "            WHERE t.typtype = 'd'\n",
      "        \n"
     ]
    },
    {
     "name": "stderr",
     "output_type": "stream",
     "text": [
      "INFO:sqlalchemy.engine.base.Engine:\n",
      "            SELECT t.typname as \"name\",\n",
      "               pg_catalog.format_type(t.typbasetype, t.typtypmod) as \"attype\",\n",
      "               not t.typnotnull as \"nullable\",\n",
      "               t.typdefault as \"default\",\n",
      "               pg_catalog.pg_type_is_visible(t.oid) as \"visible\",\n",
      "               n.nspname as \"schema\"\n",
      "            FROM pg_catalog.pg_type t\n",
      "               LEFT JOIN pg_catalog.pg_namespace n ON n.oid = t.typnamespace\n",
      "            WHERE t.typtype = 'd'\n",
      "        \n"
     ]
    },
    {
     "name": "stdout",
     "output_type": "stream",
     "text": [
      "2016-02-08 21:01:11,615 INFO sqlalchemy.engine.base.Engine {}\n"
     ]
    },
    {
     "name": "stderr",
     "output_type": "stream",
     "text": [
      "INFO:sqlalchemy.engine.base.Engine:{}\n"
     ]
    },
    {
     "name": "stdout",
     "output_type": "stream",
     "text": [
      "2016-02-08 21:01:11,646 INFO sqlalchemy.engine.base.Engine \n",
      "            SELECT t.typname as \"name\",\n",
      "               -- no enum defaults in 8.4 at least\n",
      "               -- t.typdefault as \"default\",\n",
      "               pg_catalog.pg_type_is_visible(t.oid) as \"visible\",\n",
      "               n.nspname as \"schema\",\n",
      "               e.enumlabel as \"label\"\n",
      "            FROM pg_catalog.pg_type t\n",
      "                 LEFT JOIN pg_catalog.pg_namespace n ON n.oid = t.typnamespace\n",
      "                 LEFT JOIN pg_catalog.pg_enum e ON t.oid = e.enumtypid\n",
      "            WHERE t.typtype = 'e'\n",
      "        ORDER BY \"schema\", \"name\", e.oid\n"
     ]
    },
    {
     "name": "stderr",
     "output_type": "stream",
     "text": [
      "INFO:sqlalchemy.engine.base.Engine:\n",
      "            SELECT t.typname as \"name\",\n",
      "               -- no enum defaults in 8.4 at least\n",
      "               -- t.typdefault as \"default\",\n",
      "               pg_catalog.pg_type_is_visible(t.oid) as \"visible\",\n",
      "               n.nspname as \"schema\",\n",
      "               e.enumlabel as \"label\"\n",
      "            FROM pg_catalog.pg_type t\n",
      "                 LEFT JOIN pg_catalog.pg_namespace n ON n.oid = t.typnamespace\n",
      "                 LEFT JOIN pg_catalog.pg_enum e ON t.oid = e.enumtypid\n",
      "            WHERE t.typtype = 'e'\n",
      "        ORDER BY \"schema\", \"name\", e.oid\n"
     ]
    },
    {
     "name": "stdout",
     "output_type": "stream",
     "text": [
      "2016-02-08 21:01:11,647 INFO sqlalchemy.engine.base.Engine {}\n"
     ]
    },
    {
     "name": "stderr",
     "output_type": "stream",
     "text": [
      "INFO:sqlalchemy.engine.base.Engine:{}\n"
     ]
    },
    {
     "name": "stdout",
     "output_type": "stream",
     "text": [
      "2016-02-08 21:01:11,681 INFO sqlalchemy.engine.base.Engine \n",
      "                SELECT a.attname\n",
      "                FROM pg_attribute a JOIN (\n",
      "                    SELECT unnest(ix.indkey) attnum,\n",
      "                           generate_subscripts(ix.indkey, 1) ord\n",
      "                    FROM pg_index ix\n",
      "                    WHERE ix.indrelid = %(table_oid)s AND ix.indisprimary\n",
      "                    ) k ON a.attnum=k.attnum\n",
      "                WHERE a.attrelid = %(table_oid)s\n",
      "                ORDER BY k.ord\n",
      "            \n"
     ]
    },
    {
     "name": "stderr",
     "output_type": "stream",
     "text": [
      "INFO:sqlalchemy.engine.base.Engine:\n",
      "                SELECT a.attname\n",
      "                FROM pg_attribute a JOIN (\n",
      "                    SELECT unnest(ix.indkey) attnum,\n",
      "                           generate_subscripts(ix.indkey, 1) ord\n",
      "                    FROM pg_index ix\n",
      "                    WHERE ix.indrelid = %(table_oid)s AND ix.indisprimary\n",
      "                    ) k ON a.attnum=k.attnum\n",
      "                WHERE a.attrelid = %(table_oid)s\n",
      "                ORDER BY k.ord\n",
      "            \n"
     ]
    },
    {
     "name": "stdout",
     "output_type": "stream",
     "text": [
      "2016-02-08 21:01:11,682 INFO sqlalchemy.engine.base.Engine {'table_oid': 16432}\n"
     ]
    },
    {
     "name": "stderr",
     "output_type": "stream",
     "text": [
      "INFO:sqlalchemy.engine.base.Engine:{'table_oid': 16432}\n"
     ]
    },
    {
     "name": "stdout",
     "output_type": "stream",
     "text": [
      "2016-02-08 21:01:11,710 INFO sqlalchemy.engine.base.Engine \n",
      "        SELECT conname\n",
      "           FROM  pg_catalog.pg_constraint r\n",
      "           WHERE r.conrelid = %(table_oid)s AND r.contype = 'p'\n",
      "           ORDER BY 1\n",
      "        \n"
     ]
    },
    {
     "name": "stderr",
     "output_type": "stream",
     "text": [
      "INFO:sqlalchemy.engine.base.Engine:\n",
      "        SELECT conname\n",
      "           FROM  pg_catalog.pg_constraint r\n",
      "           WHERE r.conrelid = %(table_oid)s AND r.contype = 'p'\n",
      "           ORDER BY 1\n",
      "        \n"
     ]
    },
    {
     "name": "stdout",
     "output_type": "stream",
     "text": [
      "2016-02-08 21:01:11,712 INFO sqlalchemy.engine.base.Engine {'table_oid': 16432}\n"
     ]
    },
    {
     "name": "stderr",
     "output_type": "stream",
     "text": [
      "INFO:sqlalchemy.engine.base.Engine:{'table_oid': 16432}\n"
     ]
    },
    {
     "name": "stdout",
     "output_type": "stream",
     "text": [
      "2016-02-08 21:01:11,743 INFO sqlalchemy.engine.base.Engine \n",
      "          SELECT r.conname,\n",
      "                pg_catalog.pg_get_constraintdef(r.oid, true) as condef,\n",
      "                n.nspname as conschema\n",
      "          FROM  pg_catalog.pg_constraint r,\n",
      "                pg_namespace n,\n",
      "                pg_class c\n",
      "\n",
      "          WHERE r.conrelid = %(table)s AND\n",
      "                r.contype = 'f' AND\n",
      "                c.oid = confrelid AND\n",
      "                n.oid = c.relnamespace\n",
      "          ORDER BY 1\n",
      "        \n"
     ]
    },
    {
     "name": "stderr",
     "output_type": "stream",
     "text": [
      "INFO:sqlalchemy.engine.base.Engine:\n",
      "          SELECT r.conname,\n",
      "                pg_catalog.pg_get_constraintdef(r.oid, true) as condef,\n",
      "                n.nspname as conschema\n",
      "          FROM  pg_catalog.pg_constraint r,\n",
      "                pg_namespace n,\n",
      "                pg_class c\n",
      "\n",
      "          WHERE r.conrelid = %(table)s AND\n",
      "                r.contype = 'f' AND\n",
      "                c.oid = confrelid AND\n",
      "                n.oid = c.relnamespace\n",
      "          ORDER BY 1\n",
      "        \n"
     ]
    },
    {
     "name": "stdout",
     "output_type": "stream",
     "text": [
      "2016-02-08 21:01:11,744 INFO sqlalchemy.engine.base.Engine {'table': 16432}\n"
     ]
    },
    {
     "name": "stderr",
     "output_type": "stream",
     "text": [
      "INFO:sqlalchemy.engine.base.Engine:{'table': 16432}\n"
     ]
    },
    {
     "name": "stdout",
     "output_type": "stream",
     "text": [
      "2016-02-08 21:01:11,775 INFO sqlalchemy.engine.base.Engine \n",
      "              SELECT\n",
      "                  i.relname as relname,\n",
      "                  ix.indisunique, ix.indexprs, ix.indpred,\n",
      "                  a.attname, a.attnum, c.conrelid, ix.indkey::varchar,\n",
      "                  i.reloptions, am.amname\n",
      "              FROM\n",
      "                  pg_class t\n",
      "                        join pg_index ix on t.oid = ix.indrelid\n",
      "                        join pg_class i on i.oid = ix.indexrelid\n",
      "                        left outer join\n",
      "                            pg_attribute a\n",
      "                            on t.oid = a.attrelid and a.attnum = ANY(ix.indkey)\n",
      "                        left outer join\n",
      "                            pg_constraint c\n",
      "                            on (ix.indrelid = c.conrelid and\n",
      "                                ix.indexrelid = c.conindid and\n",
      "                                c.contype in ('p', 'u', 'x'))\n",
      "                        left outer join\n",
      "                            pg_am am\n",
      "                            on i.relam = am.oid\n",
      "              WHERE\n",
      "                  t.relkind IN ('r', 'v', 'f', 'm')\n",
      "                  and t.oid = %(table_oid)s\n",
      "                  and ix.indisprimary = 'f'\n",
      "              ORDER BY\n",
      "                  t.relname,\n",
      "                  i.relname\n",
      "            \n"
     ]
    },
    {
     "name": "stderr",
     "output_type": "stream",
     "text": [
      "INFO:sqlalchemy.engine.base.Engine:\n",
      "              SELECT\n",
      "                  i.relname as relname,\n",
      "                  ix.indisunique, ix.indexprs, ix.indpred,\n",
      "                  a.attname, a.attnum, c.conrelid, ix.indkey::varchar,\n",
      "                  i.reloptions, am.amname\n",
      "              FROM\n",
      "                  pg_class t\n",
      "                        join pg_index ix on t.oid = ix.indrelid\n",
      "                        join pg_class i on i.oid = ix.indexrelid\n",
      "                        left outer join\n",
      "                            pg_attribute a\n",
      "                            on t.oid = a.attrelid and a.attnum = ANY(ix.indkey)\n",
      "                        left outer join\n",
      "                            pg_constraint c\n",
      "                            on (ix.indrelid = c.conrelid and\n",
      "                                ix.indexrelid = c.conindid and\n",
      "                                c.contype in ('p', 'u', 'x'))\n",
      "                        left outer join\n",
      "                            pg_am am\n",
      "                            on i.relam = am.oid\n",
      "              WHERE\n",
      "                  t.relkind IN ('r', 'v', 'f', 'm')\n",
      "                  and t.oid = %(table_oid)s\n",
      "                  and ix.indisprimary = 'f'\n",
      "              ORDER BY\n",
      "                  t.relname,\n",
      "                  i.relname\n",
      "            \n"
     ]
    },
    {
     "name": "stdout",
     "output_type": "stream",
     "text": [
      "2016-02-08 21:01:11,776 INFO sqlalchemy.engine.base.Engine {'table_oid': 16432}\n"
     ]
    },
    {
     "name": "stderr",
     "output_type": "stream",
     "text": [
      "INFO:sqlalchemy.engine.base.Engine:{'table_oid': 16432}\n"
     ]
    },
    {
     "name": "stdout",
     "output_type": "stream",
     "text": [
      "2016-02-08 21:01:11,809 INFO sqlalchemy.engine.base.Engine \n",
      "            SELECT\n",
      "                cons.conname as name,\n",
      "                cons.conkey as key,\n",
      "                a.attnum as col_num,\n",
      "                a.attname as col_name\n",
      "            FROM\n",
      "                pg_catalog.pg_constraint cons\n",
      "                join pg_attribute a\n",
      "                  on cons.conrelid = a.attrelid AND\n",
      "                    a.attnum = ANY(cons.conkey)\n",
      "            WHERE\n",
      "                cons.conrelid = %(table_oid)s AND\n",
      "                cons.contype = 'u'\n",
      "        \n"
     ]
    },
    {
     "name": "stderr",
     "output_type": "stream",
     "text": [
      "INFO:sqlalchemy.engine.base.Engine:\n",
      "            SELECT\n",
      "                cons.conname as name,\n",
      "                cons.conkey as key,\n",
      "                a.attnum as col_num,\n",
      "                a.attname as col_name\n",
      "            FROM\n",
      "                pg_catalog.pg_constraint cons\n",
      "                join pg_attribute a\n",
      "                  on cons.conrelid = a.attrelid AND\n",
      "                    a.attnum = ANY(cons.conkey)\n",
      "            WHERE\n",
      "                cons.conrelid = %(table_oid)s AND\n",
      "                cons.contype = 'u'\n",
      "        \n"
     ]
    },
    {
     "name": "stdout",
     "output_type": "stream",
     "text": [
      "2016-02-08 21:01:11,810 INFO sqlalchemy.engine.base.Engine {'table_oid': 16432}\n"
     ]
    },
    {
     "name": "stderr",
     "output_type": "stream",
     "text": [
      "INFO:sqlalchemy.engine.base.Engine:{'table_oid': 16432}\n"
     ]
    },
    {
     "name": "stdout",
     "output_type": "stream",
     "text": [
      "2016-02-08 21:01:11,841 INFO sqlalchemy.engine.base.Engine \n",
      "            SELECT c.oid\n",
      "            FROM pg_catalog.pg_class c\n",
      "            LEFT JOIN pg_catalog.pg_namespace n ON n.oid = c.relnamespace\n",
      "            WHERE (pg_catalog.pg_table_is_visible(c.oid))\n",
      "            AND c.relname = %(table_name)s AND c.relkind in ('r', 'v', 'm', 'f')\n",
      "        \n"
     ]
    },
    {
     "name": "stderr",
     "output_type": "stream",
     "text": [
      "INFO:sqlalchemy.engine.base.Engine:\n",
      "            SELECT c.oid\n",
      "            FROM pg_catalog.pg_class c\n",
      "            LEFT JOIN pg_catalog.pg_namespace n ON n.oid = c.relnamespace\n",
      "            WHERE (pg_catalog.pg_table_is_visible(c.oid))\n",
      "            AND c.relname = %(table_name)s AND c.relkind in ('r', 'v', 'm', 'f')\n",
      "        \n"
     ]
    },
    {
     "name": "stdout",
     "output_type": "stream",
     "text": [
      "2016-02-08 21:01:11,843 INFO sqlalchemy.engine.base.Engine {'table_name': 'naics'}\n"
     ]
    },
    {
     "name": "stderr",
     "output_type": "stream",
     "text": [
      "INFO:sqlalchemy.engine.base.Engine:{'table_name': 'naics'}\n"
     ]
    },
    {
     "name": "stdout",
     "output_type": "stream",
     "text": [
      "2016-02-08 21:01:11,871 INFO sqlalchemy.engine.base.Engine \n",
      "            SELECT a.attname,\n",
      "              pg_catalog.format_type(a.atttypid, a.atttypmod),\n",
      "              (SELECT pg_catalog.pg_get_expr(d.adbin, d.adrelid)\n",
      "                FROM pg_catalog.pg_attrdef d\n",
      "               WHERE d.adrelid = a.attrelid AND d.adnum = a.attnum\n",
      "               AND a.atthasdef)\n",
      "              AS DEFAULT,\n",
      "              a.attnotnull, a.attnum, a.attrelid as table_oid\n",
      "            FROM pg_catalog.pg_attribute a\n",
      "            WHERE a.attrelid = %(table_oid)s\n",
      "            AND a.attnum > 0 AND NOT a.attisdropped\n",
      "            ORDER BY a.attnum\n",
      "        \n"
     ]
    },
    {
     "name": "stderr",
     "output_type": "stream",
     "text": [
      "INFO:sqlalchemy.engine.base.Engine:\n",
      "            SELECT a.attname,\n",
      "              pg_catalog.format_type(a.atttypid, a.atttypmod),\n",
      "              (SELECT pg_catalog.pg_get_expr(d.adbin, d.adrelid)\n",
      "                FROM pg_catalog.pg_attrdef d\n",
      "               WHERE d.adrelid = a.attrelid AND d.adnum = a.attnum\n",
      "               AND a.atthasdef)\n",
      "              AS DEFAULT,\n",
      "              a.attnotnull, a.attnum, a.attrelid as table_oid\n",
      "            FROM pg_catalog.pg_attribute a\n",
      "            WHERE a.attrelid = %(table_oid)s\n",
      "            AND a.attnum > 0 AND NOT a.attisdropped\n",
      "            ORDER BY a.attnum\n",
      "        \n"
     ]
    },
    {
     "name": "stdout",
     "output_type": "stream",
     "text": [
      "2016-02-08 21:01:11,872 INFO sqlalchemy.engine.base.Engine {'table_oid': 16442}\n"
     ]
    },
    {
     "name": "stderr",
     "output_type": "stream",
     "text": [
      "INFO:sqlalchemy.engine.base.Engine:{'table_oid': 16442}\n"
     ]
    },
    {
     "name": "stdout",
     "output_type": "stream",
     "text": [
      "2016-02-08 21:01:11,900 INFO sqlalchemy.engine.base.Engine \n",
      "            SELECT t.typname as \"name\",\n",
      "               pg_catalog.format_type(t.typbasetype, t.typtypmod) as \"attype\",\n",
      "               not t.typnotnull as \"nullable\",\n",
      "               t.typdefault as \"default\",\n",
      "               pg_catalog.pg_type_is_visible(t.oid) as \"visible\",\n",
      "               n.nspname as \"schema\"\n",
      "            FROM pg_catalog.pg_type t\n",
      "               LEFT JOIN pg_catalog.pg_namespace n ON n.oid = t.typnamespace\n",
      "            WHERE t.typtype = 'd'\n",
      "        \n"
     ]
    },
    {
     "name": "stderr",
     "output_type": "stream",
     "text": [
      "INFO:sqlalchemy.engine.base.Engine:\n",
      "            SELECT t.typname as \"name\",\n",
      "               pg_catalog.format_type(t.typbasetype, t.typtypmod) as \"attype\",\n",
      "               not t.typnotnull as \"nullable\",\n",
      "               t.typdefault as \"default\",\n",
      "               pg_catalog.pg_type_is_visible(t.oid) as \"visible\",\n",
      "               n.nspname as \"schema\"\n",
      "            FROM pg_catalog.pg_type t\n",
      "               LEFT JOIN pg_catalog.pg_namespace n ON n.oid = t.typnamespace\n",
      "            WHERE t.typtype = 'd'\n",
      "        \n"
     ]
    },
    {
     "name": "stdout",
     "output_type": "stream",
     "text": [
      "2016-02-08 21:01:11,902 INFO sqlalchemy.engine.base.Engine {}\n"
     ]
    },
    {
     "name": "stderr",
     "output_type": "stream",
     "text": [
      "INFO:sqlalchemy.engine.base.Engine:{}\n"
     ]
    },
    {
     "name": "stdout",
     "output_type": "stream",
     "text": [
      "2016-02-08 21:01:11,935 INFO sqlalchemy.engine.base.Engine \n",
      "            SELECT t.typname as \"name\",\n",
      "               -- no enum defaults in 8.4 at least\n",
      "               -- t.typdefault as \"default\",\n",
      "               pg_catalog.pg_type_is_visible(t.oid) as \"visible\",\n",
      "               n.nspname as \"schema\",\n",
      "               e.enumlabel as \"label\"\n",
      "            FROM pg_catalog.pg_type t\n",
      "                 LEFT JOIN pg_catalog.pg_namespace n ON n.oid = t.typnamespace\n",
      "                 LEFT JOIN pg_catalog.pg_enum e ON t.oid = e.enumtypid\n",
      "            WHERE t.typtype = 'e'\n",
      "        ORDER BY \"schema\", \"name\", e.oid\n"
     ]
    },
    {
     "name": "stderr",
     "output_type": "stream",
     "text": [
      "INFO:sqlalchemy.engine.base.Engine:\n",
      "            SELECT t.typname as \"name\",\n",
      "               -- no enum defaults in 8.4 at least\n",
      "               -- t.typdefault as \"default\",\n",
      "               pg_catalog.pg_type_is_visible(t.oid) as \"visible\",\n",
      "               n.nspname as \"schema\",\n",
      "               e.enumlabel as \"label\"\n",
      "            FROM pg_catalog.pg_type t\n",
      "                 LEFT JOIN pg_catalog.pg_namespace n ON n.oid = t.typnamespace\n",
      "                 LEFT JOIN pg_catalog.pg_enum e ON t.oid = e.enumtypid\n",
      "            WHERE t.typtype = 'e'\n",
      "        ORDER BY \"schema\", \"name\", e.oid\n"
     ]
    },
    {
     "name": "stdout",
     "output_type": "stream",
     "text": [
      "2016-02-08 21:01:11,936 INFO sqlalchemy.engine.base.Engine {}\n"
     ]
    },
    {
     "name": "stderr",
     "output_type": "stream",
     "text": [
      "INFO:sqlalchemy.engine.base.Engine:{}\n"
     ]
    },
    {
     "name": "stdout",
     "output_type": "stream",
     "text": [
      "2016-02-08 21:01:11,967 INFO sqlalchemy.engine.base.Engine \n",
      "                SELECT a.attname\n",
      "                FROM pg_attribute a JOIN (\n",
      "                    SELECT unnest(ix.indkey) attnum,\n",
      "                           generate_subscripts(ix.indkey, 1) ord\n",
      "                    FROM pg_index ix\n",
      "                    WHERE ix.indrelid = %(table_oid)s AND ix.indisprimary\n",
      "                    ) k ON a.attnum=k.attnum\n",
      "                WHERE a.attrelid = %(table_oid)s\n",
      "                ORDER BY k.ord\n",
      "            \n"
     ]
    },
    {
     "name": "stderr",
     "output_type": "stream",
     "text": [
      "INFO:sqlalchemy.engine.base.Engine:\n",
      "                SELECT a.attname\n",
      "                FROM pg_attribute a JOIN (\n",
      "                    SELECT unnest(ix.indkey) attnum,\n",
      "                           generate_subscripts(ix.indkey, 1) ord\n",
      "                    FROM pg_index ix\n",
      "                    WHERE ix.indrelid = %(table_oid)s AND ix.indisprimary\n",
      "                    ) k ON a.attnum=k.attnum\n",
      "                WHERE a.attrelid = %(table_oid)s\n",
      "                ORDER BY k.ord\n",
      "            \n"
     ]
    },
    {
     "name": "stdout",
     "output_type": "stream",
     "text": [
      "2016-02-08 21:01:11,969 INFO sqlalchemy.engine.base.Engine {'table_oid': 16442}\n"
     ]
    },
    {
     "name": "stderr",
     "output_type": "stream",
     "text": [
      "INFO:sqlalchemy.engine.base.Engine:{'table_oid': 16442}\n"
     ]
    },
    {
     "name": "stdout",
     "output_type": "stream",
     "text": [
      "2016-02-08 21:01:12,000 INFO sqlalchemy.engine.base.Engine \n",
      "        SELECT conname\n",
      "           FROM  pg_catalog.pg_constraint r\n",
      "           WHERE r.conrelid = %(table_oid)s AND r.contype = 'p'\n",
      "           ORDER BY 1\n",
      "        \n"
     ]
    },
    {
     "name": "stderr",
     "output_type": "stream",
     "text": [
      "INFO:sqlalchemy.engine.base.Engine:\n",
      "        SELECT conname\n",
      "           FROM  pg_catalog.pg_constraint r\n",
      "           WHERE r.conrelid = %(table_oid)s AND r.contype = 'p'\n",
      "           ORDER BY 1\n",
      "        \n"
     ]
    },
    {
     "name": "stdout",
     "output_type": "stream",
     "text": [
      "2016-02-08 21:01:12,001 INFO sqlalchemy.engine.base.Engine {'table_oid': 16442}\n"
     ]
    },
    {
     "name": "stderr",
     "output_type": "stream",
     "text": [
      "INFO:sqlalchemy.engine.base.Engine:{'table_oid': 16442}\n"
     ]
    },
    {
     "name": "stdout",
     "output_type": "stream",
     "text": [
      "2016-02-08 21:01:12,030 INFO sqlalchemy.engine.base.Engine \n",
      "          SELECT r.conname,\n",
      "                pg_catalog.pg_get_constraintdef(r.oid, true) as condef,\n",
      "                n.nspname as conschema\n",
      "          FROM  pg_catalog.pg_constraint r,\n",
      "                pg_namespace n,\n",
      "                pg_class c\n",
      "\n",
      "          WHERE r.conrelid = %(table)s AND\n",
      "                r.contype = 'f' AND\n",
      "                c.oid = confrelid AND\n",
      "                n.oid = c.relnamespace\n",
      "          ORDER BY 1\n",
      "        \n"
     ]
    },
    {
     "name": "stderr",
     "output_type": "stream",
     "text": [
      "INFO:sqlalchemy.engine.base.Engine:\n",
      "          SELECT r.conname,\n",
      "                pg_catalog.pg_get_constraintdef(r.oid, true) as condef,\n",
      "                n.nspname as conschema\n",
      "          FROM  pg_catalog.pg_constraint r,\n",
      "                pg_namespace n,\n",
      "                pg_class c\n",
      "\n",
      "          WHERE r.conrelid = %(table)s AND\n",
      "                r.contype = 'f' AND\n",
      "                c.oid = confrelid AND\n",
      "                n.oid = c.relnamespace\n",
      "          ORDER BY 1\n",
      "        \n"
     ]
    },
    {
     "name": "stdout",
     "output_type": "stream",
     "text": [
      "2016-02-08 21:01:12,031 INFO sqlalchemy.engine.base.Engine {'table': 16442}\n"
     ]
    },
    {
     "name": "stderr",
     "output_type": "stream",
     "text": [
      "INFO:sqlalchemy.engine.base.Engine:{'table': 16442}\n"
     ]
    },
    {
     "name": "stdout",
     "output_type": "stream",
     "text": [
      "2016-02-08 21:01:12,059 INFO sqlalchemy.engine.base.Engine \n",
      "              SELECT\n",
      "                  i.relname as relname,\n",
      "                  ix.indisunique, ix.indexprs, ix.indpred,\n",
      "                  a.attname, a.attnum, c.conrelid, ix.indkey::varchar,\n",
      "                  i.reloptions, am.amname\n",
      "              FROM\n",
      "                  pg_class t\n",
      "                        join pg_index ix on t.oid = ix.indrelid\n",
      "                        join pg_class i on i.oid = ix.indexrelid\n",
      "                        left outer join\n",
      "                            pg_attribute a\n",
      "                            on t.oid = a.attrelid and a.attnum = ANY(ix.indkey)\n",
      "                        left outer join\n",
      "                            pg_constraint c\n",
      "                            on (ix.indrelid = c.conrelid and\n",
      "                                ix.indexrelid = c.conindid and\n",
      "                                c.contype in ('p', 'u', 'x'))\n",
      "                        left outer join\n",
      "                            pg_am am\n",
      "                            on i.relam = am.oid\n",
      "              WHERE\n",
      "                  t.relkind IN ('r', 'v', 'f', 'm')\n",
      "                  and t.oid = %(table_oid)s\n",
      "                  and ix.indisprimary = 'f'\n",
      "              ORDER BY\n",
      "                  t.relname,\n",
      "                  i.relname\n",
      "            \n"
     ]
    },
    {
     "name": "stderr",
     "output_type": "stream",
     "text": [
      "INFO:sqlalchemy.engine.base.Engine:\n",
      "              SELECT\n",
      "                  i.relname as relname,\n",
      "                  ix.indisunique, ix.indexprs, ix.indpred,\n",
      "                  a.attname, a.attnum, c.conrelid, ix.indkey::varchar,\n",
      "                  i.reloptions, am.amname\n",
      "              FROM\n",
      "                  pg_class t\n",
      "                        join pg_index ix on t.oid = ix.indrelid\n",
      "                        join pg_class i on i.oid = ix.indexrelid\n",
      "                        left outer join\n",
      "                            pg_attribute a\n",
      "                            on t.oid = a.attrelid and a.attnum = ANY(ix.indkey)\n",
      "                        left outer join\n",
      "                            pg_constraint c\n",
      "                            on (ix.indrelid = c.conrelid and\n",
      "                                ix.indexrelid = c.conindid and\n",
      "                                c.contype in ('p', 'u', 'x'))\n",
      "                        left outer join\n",
      "                            pg_am am\n",
      "                            on i.relam = am.oid\n",
      "              WHERE\n",
      "                  t.relkind IN ('r', 'v', 'f', 'm')\n",
      "                  and t.oid = %(table_oid)s\n",
      "                  and ix.indisprimary = 'f'\n",
      "              ORDER BY\n",
      "                  t.relname,\n",
      "                  i.relname\n",
      "            \n"
     ]
    },
    {
     "name": "stdout",
     "output_type": "stream",
     "text": [
      "2016-02-08 21:01:12,061 INFO sqlalchemy.engine.base.Engine {'table_oid': 16442}\n"
     ]
    },
    {
     "name": "stderr",
     "output_type": "stream",
     "text": [
      "INFO:sqlalchemy.engine.base.Engine:{'table_oid': 16442}\n"
     ]
    },
    {
     "name": "stdout",
     "output_type": "stream",
     "text": [
      "2016-02-08 21:01:12,093 INFO sqlalchemy.engine.base.Engine \n",
      "            SELECT\n",
      "                cons.conname as name,\n",
      "                cons.conkey as key,\n",
      "                a.attnum as col_num,\n",
      "                a.attname as col_name\n",
      "            FROM\n",
      "                pg_catalog.pg_constraint cons\n",
      "                join pg_attribute a\n",
      "                  on cons.conrelid = a.attrelid AND\n",
      "                    a.attnum = ANY(cons.conkey)\n",
      "            WHERE\n",
      "                cons.conrelid = %(table_oid)s AND\n",
      "                cons.contype = 'u'\n",
      "        \n"
     ]
    },
    {
     "name": "stderr",
     "output_type": "stream",
     "text": [
      "INFO:sqlalchemy.engine.base.Engine:\n",
      "            SELECT\n",
      "                cons.conname as name,\n",
      "                cons.conkey as key,\n",
      "                a.attnum as col_num,\n",
      "                a.attname as col_name\n",
      "            FROM\n",
      "                pg_catalog.pg_constraint cons\n",
      "                join pg_attribute a\n",
      "                  on cons.conrelid = a.attrelid AND\n",
      "                    a.attnum = ANY(cons.conkey)\n",
      "            WHERE\n",
      "                cons.conrelid = %(table_oid)s AND\n",
      "                cons.contype = 'u'\n",
      "        \n"
     ]
    },
    {
     "name": "stdout",
     "output_type": "stream",
     "text": [
      "2016-02-08 21:01:12,094 INFO sqlalchemy.engine.base.Engine {'table_oid': 16442}\n"
     ]
    },
    {
     "name": "stderr",
     "output_type": "stream",
     "text": [
      "INFO:sqlalchemy.engine.base.Engine:{'table_oid': 16442}\n"
     ]
    }
   ],
   "source": [
    "meta.reflect(engine)"
   ]
  },
  {
   "cell_type": "code",
   "execution_count": 29,
   "metadata": {
    "collapsed": false,
    "scrolled": true
   },
   "outputs": [
    {
     "name": "stdout",
     "output_type": "stream",
     "text": [
      "transactions_joined\n",
      "FIPS_States\n",
      "transactions\n",
      "naics\n",
      "cfs_areas\n",
      "transport_mode\n",
      "state_latlon\n",
      "sctg\n"
     ]
    }
   ],
   "source": [
    "for table in meta.tables:\n",
    "    print(table)"
   ]
  },
  {
   "cell_type": "code",
   "execution_count": 30,
   "metadata": {
    "collapsed": true
   },
   "outputs": [],
   "source": [
    "transactions = meta.tables['transactions']\n",
    "\n",
    "state_latlon = meta.tables['state_latlon']\n",
    "\n",
    "cfs_areas    = meta.tables['cfs_areas']\n",
    "FIPS_States  = meta.tables['FIPS_States']\n",
    "transport_mode = meta.tables['transport_mode']\n",
    "sctg         = meta.tables['sctg']\n",
    "transactions_joined = meta.tables['transactions_joined']"
   ]
  },
  {
   "cell_type": "code",
   "execution_count": 31,
   "metadata": {
    "collapsed": false
   },
   "outputs": [
    {
     "name": "stdout",
     "output_type": "stream",
     "text": [
      "2016-02-08 21:06:04,257 INFO sqlalchemy.engine.base.Engine SELECT sctg.\"SCTG\", sctg.\"Description\" \n",
      "FROM sctg\n"
     ]
    },
    {
     "name": "stderr",
     "output_type": "stream",
     "text": [
      "INFO:sqlalchemy.engine.base.Engine:SELECT sctg.\"SCTG\", sctg.\"Description\" \n",
      "FROM sctg\n"
     ]
    },
    {
     "name": "stdout",
     "output_type": "stream",
     "text": [
      "2016-02-08 21:06:04,258 INFO sqlalchemy.engine.base.Engine {}\n"
     ]
    },
    {
     "name": "stderr",
     "output_type": "stream",
     "text": [
      "INFO:sqlalchemy.engine.base.Engine:{}\n"
     ]
    }
   ],
   "source": [
    "s = select([sctg])\n",
    "r = conn.execute(s)"
   ]
  },
  {
   "cell_type": "code",
   "execution_count": 32,
   "metadata": {
    "collapsed": false
   },
   "outputs": [
    {
     "name": "stdout",
     "output_type": "stream",
     "text": [
      "Animals and Fish (live) 1\n",
      "Cereal Grains (includes seed) 2\n",
      "Agricultural Products (excludes Animal Feed, Cereal Grains, and Forage Products) 3\n",
      "Animal Feed, Eggs, Honey, and Other Products of Animal Origin 4\n",
      "Meat, Poultry, Fish, Seafood, and Their Preparations 5\n",
      "Milled Grain Products and Preparations, and Bakery Products 6\n",
      "Other Prepared Foodstuffs, and Fats and Oils 7\n",
      "Alcoholic Beverages and Denatured Alcohol 8\n",
      "Tobacco Products 9\n",
      "Monumental or Building Stone 10\n",
      "Natural Sands 11\n",
      "Gravel and Crushed Stone (excludes Dolomite and Slate) 12\n",
      "Other Non-Metallic Minerals not elsewhere classified 13\n",
      "Metallic Ores and Concentrates 14\n",
      "Coal 15\n",
      "Crude Petroleum 16\n",
      "Gasoline, Aviation Turbine Fuel, and Ethanol (includes Kerosene, and Fuel Alcohols) 17\n",
      "Fuel Oils (includes Diesel, Bunker C, and Biodiesel) 18\n",
      "Other Coal and Petroleum Products, not elsewhere classified 19\n",
      "Basic Chemicals 20\n",
      "Pharmaceutical Products 21\n",
      "Fertilizers 22\n",
      "Other Chemical Products and Preparations 23\n",
      "Plastics and Rubber 24\n",
      "Logs and Other Wood in the Rough 25\n",
      "Wood Products 26\n",
      "Pulp, Newsprint, Paper, and Paperboard 27\n",
      "Paper or Paperboard Articles 28\n",
      "Printed Products 29\n",
      "Textiles, Leather, and Articles of Textiles or Leather 30\n",
      "Non-Metallic Mineral Products 31\n",
      "Base Metal in Primary or Semi-Finished Forms and in Finished Basic Shapes 32\n",
      "Articles of Base Metal 33\n",
      "Machinery 34\n",
      "Electronic and Other Electrical Equipment and Components, and Office Equipment 35\n",
      "Motorized and Other Vehicles (includes parts) 36\n",
      "Transportation Equipment, not elsewhere classified 37\n",
      "Precision Instruments and Apparatus 38\n",
      "Furniture, Mattresses and Mattress Supports, Lamps, Lighting Fittings, and Illuminated Signs 39\n",
      "Miscellaneous Manufactured Products 40\n",
      "Waste and Scrap (excludes of agriculture or food, see 041xx) 41\n",
      "Mixed Freight 43\n",
      "Missing Code 99\n",
      "SCTG suppressed 0\n"
     ]
    }
   ],
   "source": [
    "for row in r:\n",
    "    print(row[sctg.c.Description], row[sctg.c.SCTG])\n",
    "r.close()"
   ]
  },
  {
   "cell_type": "markdown",
   "metadata": {},
   "source": [
    "### Joins"
   ]
  },
  {
   "cell_type": "code",
   "execution_count": 33,
   "metadata": {
    "collapsed": false
   },
   "outputs": [
    {
     "name": "stdout",
     "output_type": "stream",
     "text": [
      "2016-02-08 21:06:34,585 INFO sqlalchemy.engine.base.Engine SELECT state_latlon.state, state_latlon.latitude, state_latlon.longitude, \"FIPS_States\".\"Name\", \"FIPS_States\".\"Alpha code\", \"FIPS_States\".\"Numeric code\", \"FIPS_States\".\"Status\" \n",
      "FROM state_latlon, \"FIPS_States\" \n",
      "WHERE state_latlon.state = \"FIPS_States\".\"Alpha code\"\n"
     ]
    },
    {
     "name": "stderr",
     "output_type": "stream",
     "text": [
      "INFO:sqlalchemy.engine.base.Engine:SELECT state_latlon.state, state_latlon.latitude, state_latlon.longitude, \"FIPS_States\".\"Name\", \"FIPS_States\".\"Alpha code\", \"FIPS_States\".\"Numeric code\", \"FIPS_States\".\"Status\" \n",
      "FROM state_latlon, \"FIPS_States\" \n",
      "WHERE state_latlon.state = \"FIPS_States\".\"Alpha code\"\n"
     ]
    },
    {
     "name": "stdout",
     "output_type": "stream",
     "text": [
      "2016-02-08 21:06:34,587 INFO sqlalchemy.engine.base.Engine {}\n"
     ]
    },
    {
     "name": "stderr",
     "output_type": "stream",
     "text": [
      "INFO:sqlalchemy.engine.base.Engine:{}\n"
     ]
    },
    {
     "name": "stdout",
     "output_type": "stream",
     "text": [
      "('AL', 32.799, -86.8073, 'Alabama', 'AL', 1, 'State;\\xa0counties')\n",
      "('AK', 61.385, -152.2683, 'Alaska', 'AK', 2, 'State;\\xa0boroughs')\n",
      "('AS', 14.2417, -170.7197, 'American Samoa', 'AS', 60, 'Outlying area under U.S. sovereignty')\n",
      "('AZ', 33.7712, -111.3877, 'Arizona', 'AZ', 4, 'State;\\xa0counties')\n",
      "('AR', 34.9513, -92.3809, 'Arkansas', 'AR', 5, 'State;\\xa0counties')\n",
      "('CA', 36.17, -119.7462, 'California', 'CA', 6, 'State;\\xa0counties')\n",
      "('CO', 39.0646, -105.3272, 'Colorado', 'CO', 8, 'State;\\xa0counties')\n",
      "('CT', 41.5834, -72.7622, 'Connecticut', 'CT', 9, 'State;\\xa0counties')\n",
      "('DE', 39.3498, -75.5148, 'Delaware', 'DE', 10, 'State;\\xa0counties')\n",
      "('DC', 38.8964, -77.0262, 'District of Columbia', 'DC', 11, 'Federal district[4]')\n",
      "('FL', 27.8333, -81.717, 'Florida', 'FL', 12, 'State;\\xa0counties')\n",
      "('GA', 32.9866, -83.6487, 'Georgia', 'GA', 13, 'State;\\xa0counties')\n",
      "('HI', 21.1098, -157.5311, 'Hawaii', 'HI', 15, 'State;\\xa0counties')\n",
      "('ID', 44.2394, -114.5103, 'Idaho', 'ID', 16, 'State;\\xa0counties')\n",
      "('IL', 40.3363, -89.0022, 'Illinois', 'IL', 17, 'State;\\xa0counties')\n",
      "('IN', 39.8647, -86.2604, 'Indiana', 'IN', 18, 'State;\\xa0counties')\n",
      "('IA', 42.0046, -93.214, 'Iowa', 'IA', 19, 'State;\\xa0counties')\n",
      "('KS', 38.5111, -96.8005, 'Kansas', 'KS', 20, 'State;\\xa0counties')\n",
      "('KY', 37.669, -84.6514, 'Kentucky', 'KY', 21, 'State;\\xa0counties')\n",
      "('LA', 31.1801, -91.8749, 'Louisiana', 'LA', 22, 'State;\\xa0parishes')\n",
      "('ME', 44.6074, -69.3977, 'Maine', 'ME', 23, 'State;\\xa0counties')\n",
      "('MD', 39.0724, -76.7902, 'Maryland', 'MD', 24, 'State;\\xa0counties')\n",
      "('MA', 42.2373, -71.5314, 'Massachusetts', 'MA', 25, 'State;\\xa0counties')\n",
      "('MI', 43.3504, -84.5603, 'Michigan', 'MI', 26, 'State;\\xa0counties')\n",
      "('MN', 45.7326, -93.9196, 'Minnesota', 'MN', 27, 'State;\\xa0counties')\n",
      "('MS', 32.7673, -89.6812, 'Mississippi', 'MS', 28, 'State;\\xa0counties')\n",
      "('MO', 38.4623, -92.302, 'Missouri', 'MO', 29, 'State;\\xa0counties')\n",
      "('MT', 46.9048, -110.3261, 'Montana', 'MT', 30, 'State;\\xa0counties')\n",
      "('NE', 41.1289, -98.2883, 'Nebraska', 'NE', 31, 'State;\\xa0counties')\n",
      "('NV', 38.4199, -117.1219, 'Nevada', 'NV', 32, 'State;\\xa0counties')\n",
      "('NH', 43.4108, -71.5653, 'New Hampshire', 'NH', 33, 'State;\\xa0counties')\n",
      "('NJ', 40.314, -74.5089, 'New Jersey', 'NJ', 34, 'State;\\xa0counties')\n",
      "('NM', 34.8375, -106.2371, 'New Mexico', 'NM', 35, 'State;\\xa0counties')\n",
      "('NY', 42.1497, -74.9384, 'New York', 'NY', 36, 'State;\\xa0counties')\n",
      "('NC', 35.6411, -79.8431, 'North Carolina', 'NC', 37, 'State;\\xa0counties')\n",
      "('ND', 47.5362, -99.793, 'North Dakota', 'ND', 38, 'State;\\xa0counties')\n",
      "('MP', 14.8058, 145.5505, 'Northern Mariana Islands', 'MP', 69, 'Outlying area under U.S. sovereignty')\n",
      "('OH', 40.3736, -82.7755, 'Ohio', 'OH', 39, 'State;\\xa0counties')\n",
      "('OK', 35.5376, -96.9247, 'Oklahoma', 'OK', 40, 'State;\\xa0counties')\n",
      "('OR', 44.5672, -122.1269, 'Oregon', 'OR', 41, 'State;\\xa0counties')\n",
      "('PA', 40.5773, -77.264, 'Pennsylvania', 'PA', 42, 'State;\\xa0counties')\n",
      "('PR', 18.2766, -66.335, 'Puerto Rico', 'PR', 72, 'Outlying area under U.S. sovereignty')\n",
      "('RI', 41.6772, -71.5101, 'Rhode Island', 'RI', 44, 'State;\\xa0counties')\n",
      "('SC', 33.8191, -80.9066, 'South Carolina', 'SC', 45, 'State;\\xa0counties')\n",
      "('SD', 44.2853, -99.4632, 'South Dakota', 'SD', 46, 'State;\\xa0counties')\n",
      "('TN', 35.7449, -86.7489, 'Tennessee', 'TN', 47, 'State;\\xa0counties')\n",
      "('TX', 31.106, -97.6475, 'Texas', 'TX', 48, 'State;\\xa0counties')\n",
      "('UT', 40.1135, -111.8535, 'Utah', 'UT', 49, 'State;\\xa0counties')\n",
      "('VT', 44.0407, -72.7093, 'Vermont', 'VT', 50, 'State;\\xa0counties')\n",
      "('VA', 37.768, -78.2057, 'Virginia', 'VA', 51, 'State;\\xa0counties')\n",
      "('VI', 18.0001, -64.8199, 'Virgin Islands\\xa0of the U.S.', 'VI', 78, 'Outlying area under U.S. sovereignty')\n",
      "('WA', 47.3917, -121.5708, 'Washington', 'WA', 53, 'State;\\xa0counties')\n",
      "('WV', 38.468, -80.9696, 'West Virginia', 'WV', 54, 'State;\\xa0counties')\n",
      "('WI', 44.2563, -89.6385, 'Wisconsin', 'WI', 55, 'State;\\xa0counties')\n",
      "('WY', 42.7475, -107.2085, 'Wyoming', 'WY', 56, 'State;\\xa0counties')\n"
     ]
    }
   ],
   "source": [
    "# join fips states with avg lat lon\n",
    "for row in conn.execute(select([state_latlon, FIPS_States]).where(state_latlon.c.state == FIPS_States.c.get('Alpha code'))):\n",
    "    print(row)"
   ]
  },
  {
   "cell_type": "code",
   "execution_count": 34,
   "metadata": {
    "collapsed": false
   },
   "outputs": [
    {
     "data": {
      "text/plain": [
       "Column('Alpha code', TEXT(), table=<FIPS_States>)"
      ]
     },
     "execution_count": 34,
     "metadata": {},
     "output_type": "execute_result"
    }
   ],
   "source": [
    "FIPS_States.columns.get('Alpha code')"
   ]
  },
  {
   "cell_type": "markdown",
   "metadata": {},
   "source": [
    "### operators\n",
    "SQL Alchemy converts python predicates to sql predicates. So you can describe everything in a pythonic sense."
   ]
  },
  {
   "cell_type": "code",
   "execution_count": 35,
   "metadata": {
    "collapsed": false
   },
   "outputs": [
    {
     "name": "stdout",
     "output_type": "stream",
     "text": [
      "\"FIPS_States\".\"Alpha code\" = :Alpha code_1\n",
      "\"FIPS_States\".\"Alpha code\" < :Alpha code_1 AND \"FIPS_States\".\"Alpha code\" > :Alpha code_2\n"
     ]
    }
   ],
   "source": [
    "print((FIPS_States.c.get('Alpha code') == 'KK').compile())\n",
    "print(((FIPS_States.c.get('Alpha code') < 'CA') & ('NY' < FIPS_States.c.get('Alpha code'))).compile())"
   ]
  },
  {
   "cell_type": "code",
   "execution_count": 36,
   "metadata": {
    "collapsed": false
   },
   "outputs": [
    {
     "data": {
      "text/plain": [
       "['SHIPMT_ID',\n",
       " 'ORIG_STATE',\n",
       " 'ORIG_MA',\n",
       " 'ORIG_CFS_AREA',\n",
       " 'DEST_STATE',\n",
       " 'DEST_MA',\n",
       " 'DEST_CFS_AREA',\n",
       " 'NAICS',\n",
       " 'QUARTER',\n",
       " 'SCTG',\n",
       " 'MODE',\n",
       " 'SHIPMT_VALUE',\n",
       " 'SHIPMT_WGHT',\n",
       " 'SHIPMT_DIST_GC',\n",
       " 'SHIPMT_DIST_ROUTED',\n",
       " 'TEMP_CNTL_YN',\n",
       " 'EXPORT_YN',\n",
       " 'EXPORT_CNTRY',\n",
       " 'HAZMAT',\n",
       " 'WGT_FACTOR']"
      ]
     },
     "execution_count": 36,
     "metadata": {},
     "output_type": "execute_result"
    }
   ],
   "source": [
    "transactions.columns.keys()"
   ]
  },
  {
   "cell_type": "code",
   "execution_count": 37,
   "metadata": {
    "collapsed": false
   },
   "outputs": [
    {
     "name": "stdout",
     "output_type": "stream",
     "text": [
      "2016-02-08 21:08:41,987 INFO sqlalchemy.engine.base.Engine SELECT transactions.\"SHIPMT_ID\", transactions.\"ORIG_STATE\", transactions.\"ORIG_MA\", transactions.\"ORIG_CFS_AREA\", transactions.\"DEST_STATE\", transactions.\"DEST_MA\", transactions.\"DEST_CFS_AREA\", transactions.\"NAICS\", transactions.\"QUARTER\", transactions.\"SCTG\", transactions.\"MODE\", transactions.\"SHIPMT_VALUE\", transactions.\"SHIPMT_WGHT\", transactions.\"SHIPMT_DIST_GC\", transactions.\"SHIPMT_DIST_ROUTED\", transactions.\"TEMP_CNTL_YN\", transactions.\"EXPORT_YN\", transactions.\"EXPORT_CNTRY\", transactions.\"HAZMAT\", transactions.\"WGT_FACTOR\" \n",
      "FROM transactions \n",
      " LIMIT %(param_1)s\n"
     ]
    },
    {
     "name": "stderr",
     "output_type": "stream",
     "text": [
      "INFO:sqlalchemy.engine.base.Engine:SELECT transactions.\"SHIPMT_ID\", transactions.\"ORIG_STATE\", transactions.\"ORIG_MA\", transactions.\"ORIG_CFS_AREA\", transactions.\"DEST_STATE\", transactions.\"DEST_MA\", transactions.\"DEST_CFS_AREA\", transactions.\"NAICS\", transactions.\"QUARTER\", transactions.\"SCTG\", transactions.\"MODE\", transactions.\"SHIPMT_VALUE\", transactions.\"SHIPMT_WGHT\", transactions.\"SHIPMT_DIST_GC\", transactions.\"SHIPMT_DIST_ROUTED\", transactions.\"TEMP_CNTL_YN\", transactions.\"EXPORT_YN\", transactions.\"EXPORT_CNTRY\", transactions.\"HAZMAT\", transactions.\"WGT_FACTOR\" \n",
      "FROM transactions \n",
      " LIMIT %(param_1)s\n"
     ]
    },
    {
     "name": "stdout",
     "output_type": "stream",
     "text": [
      "2016-02-08 21:08:41,989 INFO sqlalchemy.engine.base.Engine {'param_1': 10}\n"
     ]
    },
    {
     "name": "stderr",
     "output_type": "stream",
     "text": [
      "INFO:sqlalchemy.engine.base.Engine:{'param_1': 10}\n"
     ]
    },
    {
     "name": "stdout",
     "output_type": "stream",
     "text": [
      "[('SHIPMT_ID', 1), ('ORIG_STATE', 25), ('ORIG_MA', 148), ('ORIG_CFS_AREA', '25-148'), ('DEST_STATE', 25), ('DEST_MA', 148), ('DEST_CFS_AREA', '25-148'), ('NAICS', 333), ('QUARTER', 2), ('SCTG', '35'), ('MODE', 14), ('SHIPMT_VALUE', 2178), ('SHIPMT_WGHT', 11), ('SHIPMT_DIST_GC', 14), ('SHIPMT_DIST_ROUTED', 17), ('TEMP_CNTL_YN', 'N'), ('EXPORT_YN', 'N'), ('EXPORT_CNTRY', 'N'), ('HAZMAT', 'N'), ('WGT_FACTOR', 208.5)]\n",
      "[('SHIPMT_ID', 2), ('ORIG_STATE', 42), ('ORIG_MA', 428), ('ORIG_CFS_AREA', '42-428'), ('DEST_STATE', 6), ('DEST_MA', 41740), ('DEST_CFS_AREA', '06-41740'), ('NAICS', 311), ('QUARTER', 3), ('SCTG', '35'), ('MODE', 14), ('SHIPMT_VALUE', 344), ('SHIPMT_WGHT', 11), ('SHIPMT_DIST_GC', 2344), ('SHIPMT_DIST_ROUTED', 2734), ('TEMP_CNTL_YN', 'N'), ('EXPORT_YN', 'N'), ('EXPORT_CNTRY', 'N'), ('HAZMAT', 'N'), ('WGT_FACTOR', 193.3)]\n",
      "[('SHIPMT_ID', 3), ('ORIG_STATE', 26), ('ORIG_MA', 220), ('ORIG_CFS_AREA', '26-220'), ('DEST_STATE', 47), ('DEST_MA', 314), ('DEST_CFS_AREA', '47-314'), ('NAICS', 322), ('QUARTER', 2), ('SCTG', '27'), ('MODE', 4), ('SHIPMT_VALUE', 4197), ('SHIPMT_WGHT', 5134), ('SHIPMT_DIST_GC', 470), ('SHIPMT_DIST_ROUTED', 579), ('TEMP_CNTL_YN', 'N'), ('EXPORT_YN', 'N'), ('EXPORT_CNTRY', 'N'), ('HAZMAT', 'N'), ('WGT_FACTOR', 51.2)]\n",
      "[('SHIPMT_ID', 4), ('ORIG_STATE', 20), ('ORIG_MA', 556), ('ORIG_CFS_AREA', '20-556'), ('DEST_STATE', 20), ('DEST_MA', 556), ('DEST_CFS_AREA', '20-556'), ('NAICS', 323), ('QUARTER', 1), ('SCTG', '29'), ('MODE', 4), ('SHIPMT_VALUE', 116), ('SHIPMT_WGHT', 6), ('SHIPMT_DIST_GC', 3), ('SHIPMT_DIST_ROUTED', 3), ('TEMP_CNTL_YN', 'N'), ('EXPORT_YN', 'N'), ('EXPORT_CNTRY', 'N'), ('HAZMAT', 'N'), ('WGT_FACTOR', 238.7)]\n",
      "[('SHIPMT_ID', 5), ('ORIG_STATE', 12), ('ORIG_MA', 99999), ('ORIG_CFS_AREA', '12-99999'), ('DEST_STATE', 12), ('DEST_MA', 99999), ('DEST_CFS_AREA', '12-99999'), ('NAICS', 4235), ('QUARTER', 3), ('SCTG', '33'), ('MODE', 5), ('SHIPMT_VALUE', 388), ('SHIPMT_WGHT', 527), ('SHIPMT_DIST_GC', 124), ('SHIPMT_DIST_ROUTED', 201), ('TEMP_CNTL_YN', 'N'), ('EXPORT_YN', 'N'), ('EXPORT_CNTRY', 'N'), ('HAZMAT', 'N'), ('WGT_FACTOR', 398.1)]\n",
      "[('SHIPMT_ID', 6), ('ORIG_STATE', 24), ('ORIG_MA', 47900), ('ORIG_CFS_AREA', '24-47900'), ('DEST_STATE', 30), ('DEST_MA', 99999), ('DEST_CFS_AREA', '30-99999'), ('NAICS', 337), ('QUARTER', 2), ('SCTG', '40'), ('MODE', 4), ('SHIPMT_VALUE', 3716), ('SHIPMT_WGHT', 1132), ('SHIPMT_DIST_GC', 1942), ('SHIPMT_DIST_ROUTED', 2265), ('TEMP_CNTL_YN', 'N'), ('EXPORT_YN', 'Y'), ('EXPORT_CNTRY', 'C'), ('HAZMAT', 'N'), ('WGT_FACTOR', 21.9)]\n",
      "[('SHIPMT_ID', 7), ('ORIG_STATE', 19), ('ORIG_MA', 99999), ('ORIG_CFS_AREA', '19-99999'), ('DEST_STATE', 19), ('DEST_MA', 99999), ('DEST_CFS_AREA', '19-99999'), ('NAICS', 337), ('QUARTER', 3), ('SCTG', '26'), ('MODE', 5), ('SHIPMT_VALUE', 43738), ('SHIPMT_WGHT', 13501), ('SHIPMT_DIST_GC', 16), ('SHIPMT_DIST_ROUTED', 22), ('TEMP_CNTL_YN', 'N'), ('EXPORT_YN', 'N'), ('EXPORT_CNTRY', 'N'), ('HAZMAT', 'N'), ('WGT_FACTOR', 310.5)]\n",
      "[('SHIPMT_ID', 8), ('ORIG_STATE', 6), ('ORIG_MA', 41740), ('ORIG_CFS_AREA', '06-41740'), ('DEST_STATE', 6), ('DEST_MA', 99999), ('DEST_CFS_AREA', '06-99999'), ('NAICS', 4239), ('QUARTER', 1), ('SCTG', '40'), ('MODE', 14), ('SHIPMT_VALUE', 77), ('SHIPMT_WGHT', 4), ('SHIPMT_DIST_GC', 272), ('SHIPMT_DIST_ROUTED', 306), ('TEMP_CNTL_YN', 'N'), ('EXPORT_YN', 'N'), ('EXPORT_CNTRY', 'N'), ('HAZMAT', 'N'), ('WGT_FACTOR', 138.5)]\n",
      "[('SHIPMT_ID', 9), ('ORIG_STATE', 19), ('ORIG_MA', 99999), ('ORIG_CFS_AREA', '19-99999'), ('DEST_STATE', 19), ('DEST_MA', 99999), ('DEST_CFS_AREA', '19-99999'), ('NAICS', 327), ('QUARTER', 3), ('SCTG', '31'), ('MODE', 5), ('SHIPMT_VALUE', 338), ('SHIPMT_WGHT', 12826), ('SHIPMT_DIST_GC', 10), ('SHIPMT_DIST_ROUTED', 15), ('TEMP_CNTL_YN', 'N'), ('EXPORT_YN', 'N'), ('EXPORT_CNTRY', 'N'), ('HAZMAT', 'N'), ('WGT_FACTOR', 2695.9)]\n",
      "[('SHIPMT_ID', 10), ('ORIG_STATE', 13), ('ORIG_MA', 99999), ('ORIG_CFS_AREA', '13-99999'), ('DEST_STATE', 13), ('DEST_MA', 99999), ('DEST_CFS_AREA', '13-99999'), ('NAICS', 4237), ('QUARTER', 2), ('SCTG', '34'), ('MODE', 5), ('SHIPMT_VALUE', 145), ('SHIPMT_WGHT', 22), ('SHIPMT_DIST_GC', 21), ('SHIPMT_DIST_ROUTED', 28), ('TEMP_CNTL_YN', 'N'), ('EXPORT_YN', 'N'), ('EXPORT_CNTRY', 'N'), ('HAZMAT', 'N'), ('WGT_FACTOR', 489.1)]\n"
     ]
    }
   ],
   "source": [
    "for row in conn.execute(select([transactions]).limit(10)).fetchall():\n",
    "    print(row.items())"
   ]
  },
  {
   "cell_type": "code",
   "execution_count": 38,
   "metadata": {
    "collapsed": false
   },
   "outputs": [
    {
     "name": "stdout",
     "output_type": "stream",
     "text": [
      "2016-02-08 21:09:36,446 INFO sqlalchemy.engine.base.Engine SELECT transactions.\"SHIPMT_ID\", transactions.\"ORIG_STATE\", transactions.\"ORIG_MA\", transactions.\"ORIG_CFS_AREA\", transactions.\"DEST_STATE\", transactions.\"DEST_MA\", transactions.\"DEST_CFS_AREA\", transactions.\"NAICS\", transactions.\"QUARTER\", transactions.\"SCTG\", transactions.\"MODE\", transactions.\"SHIPMT_VALUE\", transactions.\"SHIPMT_WGHT\", transactions.\"SHIPMT_DIST_GC\", transactions.\"SHIPMT_DIST_ROUTED\", transactions.\"TEMP_CNTL_YN\", transactions.\"EXPORT_YN\", transactions.\"EXPORT_CNTRY\", transactions.\"HAZMAT\", transactions.\"WGT_FACTOR\" \n",
      "FROM transactions \n",
      " LIMIT %(param_1)s\n"
     ]
    },
    {
     "name": "stderr",
     "output_type": "stream",
     "text": [
      "INFO:sqlalchemy.engine.base.Engine:SELECT transactions.\"SHIPMT_ID\", transactions.\"ORIG_STATE\", transactions.\"ORIG_MA\", transactions.\"ORIG_CFS_AREA\", transactions.\"DEST_STATE\", transactions.\"DEST_MA\", transactions.\"DEST_CFS_AREA\", transactions.\"NAICS\", transactions.\"QUARTER\", transactions.\"SCTG\", transactions.\"MODE\", transactions.\"SHIPMT_VALUE\", transactions.\"SHIPMT_WGHT\", transactions.\"SHIPMT_DIST_GC\", transactions.\"SHIPMT_DIST_ROUTED\", transactions.\"TEMP_CNTL_YN\", transactions.\"EXPORT_YN\", transactions.\"EXPORT_CNTRY\", transactions.\"HAZMAT\", transactions.\"WGT_FACTOR\" \n",
      "FROM transactions \n",
      " LIMIT %(param_1)s\n"
     ]
    },
    {
     "name": "stdout",
     "output_type": "stream",
     "text": [
      "2016-02-08 21:09:36,448 INFO sqlalchemy.engine.base.Engine {'param_1': 10}\n"
     ]
    },
    {
     "name": "stderr",
     "output_type": "stream",
     "text": [
      "INFO:sqlalchemy.engine.base.Engine:{'param_1': 10}\n"
     ]
    }
   ],
   "source": [
    "# to get a list of dicts per row\n",
    "get_row = lambda row: (dict(row.items()))\n",
    "get_rows = lambda row_list: map(get_row, row_list)\n",
    "\n",
    "list_of_dicts = [dict(row.items()) for row in conn.execute(select([transactions]).limit(10)).fetchall()]"
   ]
  },
  {
   "cell_type": "markdown",
   "metadata": {},
   "source": [
    "### Conjunctions\n",
    "Conjunctions can be used to perform and, or, not operations in sql."
   ]
  },
  {
   "cell_type": "code",
   "execution_count": 39,
   "metadata": {
    "collapsed": false
   },
   "outputs": [],
   "source": [
    "# get all states that lie above the 35N, and less than -104 longitude\n",
    "\n",
    "# first join the fips and state_latlons\n",
    "j = FIPS_States.join(\n",
    "    state_latlon, \n",
    "    onclause= FIPS_States.c.get(\"Alpha code\") == state_latlon.c.state)\n",
    "\n",
    "# now select from this join\n",
    "s = (select([FIPS_States, state_latlon])\n",
    "     .where(\n",
    "        and_(\n",
    "            state_latlon.c.latitude > 36.2,\n",
    "            state_latlon.c.longitude < -104\n",
    "        )\n",
    "    ).select_from(j)\n",
    ")"
   ]
  },
  {
   "cell_type": "code",
   "execution_count": 40,
   "metadata": {
    "collapsed": false
   },
   "outputs": [
    {
     "name": "stdout",
     "output_type": "stream",
     "text": [
      "2016-02-08 21:13:19,115 INFO sqlalchemy.engine.base.Engine SELECT \"FIPS_States\".\"Name\", \"FIPS_States\".\"Alpha code\", \"FIPS_States\".\"Numeric code\", \"FIPS_States\".\"Status\", state_latlon.state, state_latlon.latitude, state_latlon.longitude \n",
      "FROM \"FIPS_States\" JOIN state_latlon ON \"FIPS_States\".\"Alpha code\" = state_latlon.state \n",
      "WHERE state_latlon.latitude > %(latitude_1)s AND state_latlon.longitude < %(longitude_1)s\n"
     ]
    },
    {
     "name": "stderr",
     "output_type": "stream",
     "text": [
      "INFO:sqlalchemy.engine.base.Engine:SELECT \"FIPS_States\".\"Name\", \"FIPS_States\".\"Alpha code\", \"FIPS_States\".\"Numeric code\", \"FIPS_States\".\"Status\", state_latlon.state, state_latlon.latitude, state_latlon.longitude \n",
      "FROM \"FIPS_States\" JOIN state_latlon ON \"FIPS_States\".\"Alpha code\" = state_latlon.state \n",
      "WHERE state_latlon.latitude > %(latitude_1)s AND state_latlon.longitude < %(longitude_1)s\n"
     ]
    },
    {
     "name": "stdout",
     "output_type": "stream",
     "text": [
      "2016-02-08 21:13:19,116 INFO sqlalchemy.engine.base.Engine {'latitude_1': 36.2, 'longitude_1': -104}\n"
     ]
    },
    {
     "name": "stderr",
     "output_type": "stream",
     "text": [
      "INFO:sqlalchemy.engine.base.Engine:{'latitude_1': 36.2, 'longitude_1': -104}\n"
     ]
    },
    {
     "data": {
      "text/plain": [
       "[('Alaska', 'AK', 2, 'State;\\xa0boroughs', 'AK', 61.385, -152.2683),\n",
       " ('Colorado', 'CO', 8, 'State;\\xa0counties', 'CO', 39.0646, -105.3272),\n",
       " ('Idaho', 'ID', 16, 'State;\\xa0counties', 'ID', 44.2394, -114.5103),\n",
       " ('Montana', 'MT', 30, 'State;\\xa0counties', 'MT', 46.9048, -110.3261),\n",
       " ('Nevada', 'NV', 32, 'State;\\xa0counties', 'NV', 38.4199, -117.1219),\n",
       " ('Oregon', 'OR', 41, 'State;\\xa0counties', 'OR', 44.5672, -122.1269),\n",
       " ('Utah', 'UT', 49, 'State;\\xa0counties', 'UT', 40.1135, -111.8535),\n",
       " ('Washington', 'WA', 53, 'State;\\xa0counties', 'WA', 47.3917, -121.5708),\n",
       " ('Wyoming', 'WY', 56, 'State;\\xa0counties', 'WY', 42.7475, -107.2085)]"
      ]
     },
     "execution_count": 40,
     "metadata": {},
     "output_type": "execute_result"
    }
   ],
   "source": [
    "conn.execute(s).fetchall()"
   ]
  },
  {
   "cell_type": "code",
   "execution_count": 41,
   "metadata": {
    "collapsed": true
   },
   "outputs": [],
   "source": [
    "# now get those along with all the states in the bottom right corner of the US\n",
    "# delinieated by below 35N and right of 88W\n",
    "s = (select([FIPS_States, state_latlon])\n",
    "     .where(or_(\n",
    "        and_(\n",
    "            state_latlon.c.latitude > 36.2,\n",
    "            state_latlon.c.longitude < -104\n",
    "        ),\n",
    "        and_(\n",
    "            state_latlon.c.latitude < 35,\n",
    "            state_latlon.c.longitude > -88)\n",
    "        )\n",
    "    ).select_from(j)\n",
    ")"
   ]
  },
  {
   "cell_type": "code",
   "execution_count": 42,
   "metadata": {
    "collapsed": false
   },
   "outputs": [
    {
     "name": "stdout",
     "output_type": "stream",
     "text": [
      "'SELECT \"FIPS_States\".\"Name\", \"FIPS_States\".\"Alpha code\", '\n",
      "'\"FIPS_States\".\"Numeric code\", \"FIPS_States\".\"Status\", state_latlon.state, '\n",
      "'state_latlon.latitude, state_latlon.longitude \\n'\n",
      "'FROM \"FIPS_States\" JOIN state_latlon ON \"FIPS_States\".\"Alpha code\" = '\n",
      "'state_latlon.state \\n'\n",
      "'WHERE state_latlon.latitude > :latitude_1 AND state_latlon.longitude < '\n",
      "':longitude_1 OR state_latlon.latitude < :latitude_2 AND '\n",
      "'state_latlon.longitude > :longitude_2'\n"
     ]
    }
   ],
   "source": [
    "pprint(str(s))"
   ]
  },
  {
   "cell_type": "code",
   "execution_count": 43,
   "metadata": {
    "collapsed": false
   },
   "outputs": [
    {
     "name": "stdout",
     "output_type": "stream",
     "text": [
      "'SELECT sub.\"Alpha code\" \\n'\n",
      "'FROM (SELECT \"FIPS_States\".\"Name\" AS \"Name\", \"FIPS_States\".\"Alpha code\" AS '\n",
      "'\"Alpha code\", \"FIPS_States\".\"Numeric code\" AS \"Numeric code\", '\n",
      "'\"FIPS_States\".\"Status\" AS \"Status\", state_latlon.state AS state, '\n",
      "'state_latlon.latitude AS latitude, state_latlon.longitude AS longitude \\n'\n",
      "'FROM \"FIPS_States\" JOIN state_latlon ON \"FIPS_States\".\"Alpha code\" = '\n",
      "'state_latlon.state \\n'\n",
      "'WHERE state_latlon.latitude > :latitude_1 AND state_latlon.longitude < '\n",
      "':longitude_1 OR state_latlon.latitude < :latitude_2 AND '\n",
      "'state_latlon.longitude > :longitude_2) AS sub'\n"
     ]
    }
   ],
   "source": [
    "pprint(str(select([text('sub.\"Alpha code\"')]).select_from(s.alias('sub'))))"
   ]
  },
  {
   "cell_type": "code",
   "execution_count": 44,
   "metadata": {
    "collapsed": true
   },
   "outputs": [],
   "source": [
    "from sqlalchemy import desc\n",
    "from sqlalchemy.sql import literal_column"
   ]
  },
  {
   "cell_type": "code",
   "execution_count": 45,
   "metadata": {
    "collapsed": false
   },
   "outputs": [
    {
     "name": "stdout",
     "output_type": "stream",
     "text": [
      "2016-02-08 21:15:21,933 INFO sqlalchemy.engine.base.Engine SELECT sub.\"Alpha code\" AS \"alpha code\" \n",
      "FROM (SELECT \"FIPS_States\".\"Name\" AS \"Name\", \"FIPS_States\".\"Alpha code\" AS \"Alpha code\", \"FIPS_States\".\"Numeric code\" AS \"Numeric code\", \"FIPS_States\".\"Status\" AS \"Status\", state_latlon.state AS state, state_latlon.latitude AS latitude, state_latlon.longitude AS longitude \n",
      "FROM \"FIPS_States\" JOIN state_latlon ON \"FIPS_States\".\"Alpha code\" = state_latlon.state \n",
      "WHERE state_latlon.latitude > %(latitude_1)s AND state_latlon.longitude < %(longitude_1)s OR state_latlon.latitude < %(latitude_2)s AND state_latlon.longitude > %(longitude_2)s) AS sub ORDER BY \"alpha code\" DESC\n"
     ]
    },
    {
     "name": "stderr",
     "output_type": "stream",
     "text": [
      "INFO:sqlalchemy.engine.base.Engine:SELECT sub.\"Alpha code\" AS \"alpha code\" \n",
      "FROM (SELECT \"FIPS_States\".\"Name\" AS \"Name\", \"FIPS_States\".\"Alpha code\" AS \"Alpha code\", \"FIPS_States\".\"Numeric code\" AS \"Numeric code\", \"FIPS_States\".\"Status\" AS \"Status\", state_latlon.state AS state, state_latlon.latitude AS latitude, state_latlon.longitude AS longitude \n",
      "FROM \"FIPS_States\" JOIN state_latlon ON \"FIPS_States\".\"Alpha code\" = state_latlon.state \n",
      "WHERE state_latlon.latitude > %(latitude_1)s AND state_latlon.longitude < %(longitude_1)s OR state_latlon.latitude < %(latitude_2)s AND state_latlon.longitude > %(longitude_2)s) AS sub ORDER BY \"alpha code\" DESC\n"
     ]
    },
    {
     "name": "stdout",
     "output_type": "stream",
     "text": [
      "2016-02-08 21:15:21,934 INFO sqlalchemy.engine.base.Engine {'longitude_2': -88, 'latitude_2': 35, 'latitude_1': 36.2, 'longitude_1': -104}\n"
     ]
    },
    {
     "name": "stderr",
     "output_type": "stream",
     "text": [
      "INFO:sqlalchemy.engine.base.Engine:{'longitude_2': -88, 'latitude_2': 35, 'latitude_1': 36.2, 'longitude_1': -104}\n"
     ]
    },
    {
     "data": {
      "text/plain": [
       "[('WY',),\n",
       " ('WA',),\n",
       " ('VI',),\n",
       " ('UT',),\n",
       " ('SC',),\n",
       " ('PR',),\n",
       " ('OR',),\n",
       " ('NV',),\n",
       " ('MT',),\n",
       " ('MP',),\n",
       " ('ID',),\n",
       " ('GA',),\n",
       " ('FL',),\n",
       " ('CO',),\n",
       " ('AL',),\n",
       " ('AK',)]"
      ]
     },
     "execution_count": 45,
     "metadata": {},
     "output_type": "execute_result"
    }
   ],
   "source": [
    "# using text to select subqueries\n",
    "# instead of text, we use literal_column so that we can use the label method\n",
    "conn.execute(select([literal_column('sub.\"Alpha code\"').label(\"alpha code\")]).select_from(s.alias('sub'))\n",
    "            .order_by(desc('alpha code'))).fetchall()"
   ]
  },
  {
   "cell_type": "markdown",
   "metadata": {},
   "source": [
    "#### Binding parameters"
   ]
  },
  {
   "cell_type": "code",
   "execution_count": 46,
   "metadata": {
    "collapsed": true
   },
   "outputs": [],
   "source": [
    "from sqlalchemy.sql import bindparam, func"
   ]
  },
  {
   "cell_type": "code",
   "execution_count": 47,
   "metadata": {
    "collapsed": true
   },
   "outputs": [],
   "source": [
    "get_results = lambda s, **kwargs: conn.execute(s, kwargs).fetchall()"
   ]
  },
  {
   "cell_type": "code",
   "execution_count": 48,
   "metadata": {
    "collapsed": false
   },
   "outputs": [
    {
     "name": "stdout",
     "output_type": "stream",
     "text": [
      "2016-02-08 21:15:26,565 INFO sqlalchemy.engine.base.Engine SELECT \"FIPS_States\".\"Name\", \"FIPS_States\".\"Alpha code\", \"FIPS_States\".\"Numeric code\", \"FIPS_States\".\"Status\" \n",
      "FROM \"FIPS_States\" \n",
      "WHERE \"FIPS_States\".\"Alpha code\" = %(from_)s OR \"FIPS_States\".\"Alpha code\" = %(to_)s\n"
     ]
    },
    {
     "name": "stderr",
     "output_type": "stream",
     "text": [
      "INFO:sqlalchemy.engine.base.Engine:SELECT \"FIPS_States\".\"Name\", \"FIPS_States\".\"Alpha code\", \"FIPS_States\".\"Numeric code\", \"FIPS_States\".\"Status\" \n",
      "FROM \"FIPS_States\" \n",
      "WHERE \"FIPS_States\".\"Alpha code\" = %(from_)s OR \"FIPS_States\".\"Alpha code\" = %(to_)s\n"
     ]
    },
    {
     "name": "stdout",
     "output_type": "stream",
     "text": [
      "2016-02-08 21:15:26,566 INFO sqlalchemy.engine.base.Engine {'from_': 'CA', 'to_': 'TX'}\n"
     ]
    },
    {
     "name": "stderr",
     "output_type": "stream",
     "text": [
      "INFO:sqlalchemy.engine.base.Engine:{'from_': 'CA', 'to_': 'TX'}\n"
     ]
    },
    {
     "data": {
      "text/plain": [
       "[('California', 'CA', 6, 'State;\\xa0counties'),\n",
       " ('Texas', 'TX', 48, 'State;\\xa0counties')]"
      ]
     },
     "execution_count": 48,
     "metadata": {},
     "output_type": "execute_result"
    }
   ],
   "source": [
    "get_results(\n",
    "    select([FIPS_States])\n",
    "        .where(or_(\n",
    "              FIPS_States.c[\"Alpha code\"] == bindparam('from_'),\n",
    "              FIPS_States.c[\"Alpha code\"] == bindparam('to_')\n",
    "            )\n",
    "        ),\n",
    "    from_ = \"CA\",\n",
    "    to_   = \"TX\"\n",
    ")"
   ]
  },
  {
   "cell_type": "markdown",
   "metadata": {},
   "source": [
    "#### Functions\n",
    "\n",
    "Functions are created using the func keyword.  These are translated to sql function queries.\n",
    "\n",
    "func.myFunc(transactions.c.SHIPMT_WEIGHT) translates to \n",
    "\n",
    "    myFunc(transactions.\"SHIPMT_WEIGHT\")"
   ]
  },
  {
   "cell_type": "code",
   "execution_count": 49,
   "metadata": {
    "collapsed": false
   },
   "outputs": [
    {
     "name": "stdout",
     "output_type": "stream",
     "text": [
      "{'myFunc_1': [Column('SHIPMT_VALUE', BIGINT(), table=<transactions>)]}\n"
     ]
    }
   ],
   "source": [
    "print(func.myFunc([transactions.c.SHIPMT_VALUE]).compile().params)"
   ]
  },
  {
   "cell_type": "code",
   "execution_count": 50,
   "metadata": {
    "collapsed": false
   },
   "outputs": [
    {
     "name": "stdout",
     "output_type": "stream",
     "text": [
      "2016-02-08 21:15:31,002 INFO sqlalchemy.engine.base.Engine SELECT max(transactions.\"SHIPMT_VALUE\") AS \"Max Val\" \n",
      "FROM transactions\n"
     ]
    },
    {
     "name": "stderr",
     "output_type": "stream",
     "text": [
      "INFO:sqlalchemy.engine.base.Engine:SELECT max(transactions.\"SHIPMT_VALUE\") AS \"Max Val\" \n",
      "FROM transactions\n"
     ]
    },
    {
     "name": "stdout",
     "output_type": "stream",
     "text": [
      "2016-02-08 21:15:31,004 INFO sqlalchemy.engine.base.Engine {}\n"
     ]
    },
    {
     "name": "stderr",
     "output_type": "stream",
     "text": [
      "INFO:sqlalchemy.engine.base.Engine:{}\n"
     ]
    },
    {
     "data": {
      "text/plain": [
       "521277800"
      ]
     },
     "execution_count": 50,
     "metadata": {},
     "output_type": "execute_result"
    }
   ],
   "source": [
    "conn.execute(select([func.max(transactions.c.SHIPMT_VALUE).label(\"Max Val\")])).scalar()"
   ]
  },
  {
   "cell_type": "markdown",
   "metadata": {},
   "source": [
    "#### Window functions\n",
    "Chain over with functions"
   ]
  },
  {
   "cell_type": "code",
   "execution_count": 51,
   "metadata": {
    "collapsed": false
   },
   "outputs": [
    {
     "name": "stdout",
     "output_type": "stream",
     "text": [
      "2016-02-08 21:15:35,707 INFO sqlalchemy.engine.base.Engine SELECT transactions.\"SHIPMT_ID\", transactions.\"ORIG_STATE\", transactions.\"ORIG_MA\", transactions.\"ORIG_CFS_AREA\", transactions.\"DEST_STATE\", transactions.\"DEST_MA\", transactions.\"DEST_CFS_AREA\", transactions.\"NAICS\", transactions.\"QUARTER\", transactions.\"SCTG\", transactions.\"MODE\", transactions.\"SHIPMT_VALUE\", transactions.\"SHIPMT_WGHT\", transactions.\"SHIPMT_DIST_GC\", transactions.\"SHIPMT_DIST_ROUTED\", transactions.\"TEMP_CNTL_YN\", transactions.\"EXPORT_YN\", transactions.\"EXPORT_CNTRY\", transactions.\"HAZMAT\", transactions.\"WGT_FACTOR\", sum(transactions.\"SHIPMT_VALUE\") OVER (ORDER BY transactions.\"SHIPMT_ID\") AS \"SUM\" \n",
      "FROM transactions \n",
      " LIMIT %(param_1)s\n"
     ]
    },
    {
     "name": "stderr",
     "output_type": "stream",
     "text": [
      "INFO:sqlalchemy.engine.base.Engine:SELECT transactions.\"SHIPMT_ID\", transactions.\"ORIG_STATE\", transactions.\"ORIG_MA\", transactions.\"ORIG_CFS_AREA\", transactions.\"DEST_STATE\", transactions.\"DEST_MA\", transactions.\"DEST_CFS_AREA\", transactions.\"NAICS\", transactions.\"QUARTER\", transactions.\"SCTG\", transactions.\"MODE\", transactions.\"SHIPMT_VALUE\", transactions.\"SHIPMT_WGHT\", transactions.\"SHIPMT_DIST_GC\", transactions.\"SHIPMT_DIST_ROUTED\", transactions.\"TEMP_CNTL_YN\", transactions.\"EXPORT_YN\", transactions.\"EXPORT_CNTRY\", transactions.\"HAZMAT\", transactions.\"WGT_FACTOR\", sum(transactions.\"SHIPMT_VALUE\") OVER (ORDER BY transactions.\"SHIPMT_ID\") AS \"SUM\" \n",
      "FROM transactions \n",
      " LIMIT %(param_1)s\n"
     ]
    },
    {
     "name": "stdout",
     "output_type": "stream",
     "text": [
      "2016-02-08 21:15:35,709 INFO sqlalchemy.engine.base.Engine {'param_1': 10}\n"
     ]
    },
    {
     "name": "stderr",
     "output_type": "stream",
     "text": [
      "INFO:sqlalchemy.engine.base.Engine:{'param_1': 10}\n"
     ]
    },
    {
     "data": {
      "text/plain": [
       "[{'DEST_CFS_AREA': '25-148',\n",
       "  'DEST_MA': 148,\n",
       "  'DEST_STATE': 25,\n",
       "  'EXPORT_CNTRY': 'N',\n",
       "  'EXPORT_YN': 'N',\n",
       "  'HAZMAT': 'N',\n",
       "  'MODE': 14,\n",
       "  'NAICS': 333,\n",
       "  'ORIG_CFS_AREA': '25-148',\n",
       "  'ORIG_MA': 148,\n",
       "  'ORIG_STATE': 25,\n",
       "  'QUARTER': 2,\n",
       "  'SCTG': '35',\n",
       "  'SHIPMT_DIST_GC': 14,\n",
       "  'SHIPMT_DIST_ROUTED': 17,\n",
       "  'SHIPMT_ID': 1,\n",
       "  'SHIPMT_VALUE': 2178,\n",
       "  'SHIPMT_WGHT': 11,\n",
       "  'SUM': Decimal('2178'),\n",
       "  'TEMP_CNTL_YN': 'N',\n",
       "  'WGT_FACTOR': 208.5},\n",
       " {'DEST_CFS_AREA': '06-41740',\n",
       "  'DEST_MA': 41740,\n",
       "  'DEST_STATE': 6,\n",
       "  'EXPORT_CNTRY': 'N',\n",
       "  'EXPORT_YN': 'N',\n",
       "  'HAZMAT': 'N',\n",
       "  'MODE': 14,\n",
       "  'NAICS': 311,\n",
       "  'ORIG_CFS_AREA': '42-428',\n",
       "  'ORIG_MA': 428,\n",
       "  'ORIG_STATE': 42,\n",
       "  'QUARTER': 3,\n",
       "  'SCTG': '35',\n",
       "  'SHIPMT_DIST_GC': 2344,\n",
       "  'SHIPMT_DIST_ROUTED': 2734,\n",
       "  'SHIPMT_ID': 2,\n",
       "  'SHIPMT_VALUE': 344,\n",
       "  'SHIPMT_WGHT': 11,\n",
       "  'SUM': Decimal('2522'),\n",
       "  'TEMP_CNTL_YN': 'N',\n",
       "  'WGT_FACTOR': 193.3},\n",
       " {'DEST_CFS_AREA': '47-314',\n",
       "  'DEST_MA': 314,\n",
       "  'DEST_STATE': 47,\n",
       "  'EXPORT_CNTRY': 'N',\n",
       "  'EXPORT_YN': 'N',\n",
       "  'HAZMAT': 'N',\n",
       "  'MODE': 4,\n",
       "  'NAICS': 322,\n",
       "  'ORIG_CFS_AREA': '26-220',\n",
       "  'ORIG_MA': 220,\n",
       "  'ORIG_STATE': 26,\n",
       "  'QUARTER': 2,\n",
       "  'SCTG': '27',\n",
       "  'SHIPMT_DIST_GC': 470,\n",
       "  'SHIPMT_DIST_ROUTED': 579,\n",
       "  'SHIPMT_ID': 3,\n",
       "  'SHIPMT_VALUE': 4197,\n",
       "  'SHIPMT_WGHT': 5134,\n",
       "  'SUM': Decimal('6719'),\n",
       "  'TEMP_CNTL_YN': 'N',\n",
       "  'WGT_FACTOR': 51.2},\n",
       " {'DEST_CFS_AREA': '20-556',\n",
       "  'DEST_MA': 556,\n",
       "  'DEST_STATE': 20,\n",
       "  'EXPORT_CNTRY': 'N',\n",
       "  'EXPORT_YN': 'N',\n",
       "  'HAZMAT': 'N',\n",
       "  'MODE': 4,\n",
       "  'NAICS': 323,\n",
       "  'ORIG_CFS_AREA': '20-556',\n",
       "  'ORIG_MA': 556,\n",
       "  'ORIG_STATE': 20,\n",
       "  'QUARTER': 1,\n",
       "  'SCTG': '29',\n",
       "  'SHIPMT_DIST_GC': 3,\n",
       "  'SHIPMT_DIST_ROUTED': 3,\n",
       "  'SHIPMT_ID': 4,\n",
       "  'SHIPMT_VALUE': 116,\n",
       "  'SHIPMT_WGHT': 6,\n",
       "  'SUM': Decimal('6835'),\n",
       "  'TEMP_CNTL_YN': 'N',\n",
       "  'WGT_FACTOR': 238.7},\n",
       " {'DEST_CFS_AREA': '12-99999',\n",
       "  'DEST_MA': 99999,\n",
       "  'DEST_STATE': 12,\n",
       "  'EXPORT_CNTRY': 'N',\n",
       "  'EXPORT_YN': 'N',\n",
       "  'HAZMAT': 'N',\n",
       "  'MODE': 5,\n",
       "  'NAICS': 4235,\n",
       "  'ORIG_CFS_AREA': '12-99999',\n",
       "  'ORIG_MA': 99999,\n",
       "  'ORIG_STATE': 12,\n",
       "  'QUARTER': 3,\n",
       "  'SCTG': '33',\n",
       "  'SHIPMT_DIST_GC': 124,\n",
       "  'SHIPMT_DIST_ROUTED': 201,\n",
       "  'SHIPMT_ID': 5,\n",
       "  'SHIPMT_VALUE': 388,\n",
       "  'SHIPMT_WGHT': 527,\n",
       "  'SUM': Decimal('7223'),\n",
       "  'TEMP_CNTL_YN': 'N',\n",
       "  'WGT_FACTOR': 398.1},\n",
       " {'DEST_CFS_AREA': '30-99999',\n",
       "  'DEST_MA': 99999,\n",
       "  'DEST_STATE': 30,\n",
       "  'EXPORT_CNTRY': 'C',\n",
       "  'EXPORT_YN': 'Y',\n",
       "  'HAZMAT': 'N',\n",
       "  'MODE': 4,\n",
       "  'NAICS': 337,\n",
       "  'ORIG_CFS_AREA': '24-47900',\n",
       "  'ORIG_MA': 47900,\n",
       "  'ORIG_STATE': 24,\n",
       "  'QUARTER': 2,\n",
       "  'SCTG': '40',\n",
       "  'SHIPMT_DIST_GC': 1942,\n",
       "  'SHIPMT_DIST_ROUTED': 2265,\n",
       "  'SHIPMT_ID': 6,\n",
       "  'SHIPMT_VALUE': 3716,\n",
       "  'SHIPMT_WGHT': 1132,\n",
       "  'SUM': Decimal('10939'),\n",
       "  'TEMP_CNTL_YN': 'N',\n",
       "  'WGT_FACTOR': 21.9},\n",
       " {'DEST_CFS_AREA': '19-99999',\n",
       "  'DEST_MA': 99999,\n",
       "  'DEST_STATE': 19,\n",
       "  'EXPORT_CNTRY': 'N',\n",
       "  'EXPORT_YN': 'N',\n",
       "  'HAZMAT': 'N',\n",
       "  'MODE': 5,\n",
       "  'NAICS': 337,\n",
       "  'ORIG_CFS_AREA': '19-99999',\n",
       "  'ORIG_MA': 99999,\n",
       "  'ORIG_STATE': 19,\n",
       "  'QUARTER': 3,\n",
       "  'SCTG': '26',\n",
       "  'SHIPMT_DIST_GC': 16,\n",
       "  'SHIPMT_DIST_ROUTED': 22,\n",
       "  'SHIPMT_ID': 7,\n",
       "  'SHIPMT_VALUE': 43738,\n",
       "  'SHIPMT_WGHT': 13501,\n",
       "  'SUM': Decimal('54677'),\n",
       "  'TEMP_CNTL_YN': 'N',\n",
       "  'WGT_FACTOR': 310.5},\n",
       " {'DEST_CFS_AREA': '06-99999',\n",
       "  'DEST_MA': 99999,\n",
       "  'DEST_STATE': 6,\n",
       "  'EXPORT_CNTRY': 'N',\n",
       "  'EXPORT_YN': 'N',\n",
       "  'HAZMAT': 'N',\n",
       "  'MODE': 14,\n",
       "  'NAICS': 4239,\n",
       "  'ORIG_CFS_AREA': '06-41740',\n",
       "  'ORIG_MA': 41740,\n",
       "  'ORIG_STATE': 6,\n",
       "  'QUARTER': 1,\n",
       "  'SCTG': '40',\n",
       "  'SHIPMT_DIST_GC': 272,\n",
       "  'SHIPMT_DIST_ROUTED': 306,\n",
       "  'SHIPMT_ID': 8,\n",
       "  'SHIPMT_VALUE': 77,\n",
       "  'SHIPMT_WGHT': 4,\n",
       "  'SUM': Decimal('54754'),\n",
       "  'TEMP_CNTL_YN': 'N',\n",
       "  'WGT_FACTOR': 138.5},\n",
       " {'DEST_CFS_AREA': '19-99999',\n",
       "  'DEST_MA': 99999,\n",
       "  'DEST_STATE': 19,\n",
       "  'EXPORT_CNTRY': 'N',\n",
       "  'EXPORT_YN': 'N',\n",
       "  'HAZMAT': 'N',\n",
       "  'MODE': 5,\n",
       "  'NAICS': 327,\n",
       "  'ORIG_CFS_AREA': '19-99999',\n",
       "  'ORIG_MA': 99999,\n",
       "  'ORIG_STATE': 19,\n",
       "  'QUARTER': 3,\n",
       "  'SCTG': '31',\n",
       "  'SHIPMT_DIST_GC': 10,\n",
       "  'SHIPMT_DIST_ROUTED': 15,\n",
       "  'SHIPMT_ID': 9,\n",
       "  'SHIPMT_VALUE': 338,\n",
       "  'SHIPMT_WGHT': 12826,\n",
       "  'SUM': Decimal('55092'),\n",
       "  'TEMP_CNTL_YN': 'N',\n",
       "  'WGT_FACTOR': 2695.9},\n",
       " {'DEST_CFS_AREA': '13-99999',\n",
       "  'DEST_MA': 99999,\n",
       "  'DEST_STATE': 13,\n",
       "  'EXPORT_CNTRY': 'N',\n",
       "  'EXPORT_YN': 'N',\n",
       "  'HAZMAT': 'N',\n",
       "  'MODE': 5,\n",
       "  'NAICS': 4237,\n",
       "  'ORIG_CFS_AREA': '13-99999',\n",
       "  'ORIG_MA': 99999,\n",
       "  'ORIG_STATE': 13,\n",
       "  'QUARTER': 2,\n",
       "  'SCTG': '34',\n",
       "  'SHIPMT_DIST_GC': 21,\n",
       "  'SHIPMT_DIST_ROUTED': 28,\n",
       "  'SHIPMT_ID': 10,\n",
       "  'SHIPMT_VALUE': 145,\n",
       "  'SHIPMT_WGHT': 22,\n",
       "  'SUM': Decimal('55237'),\n",
       "  'TEMP_CNTL_YN': 'N',\n",
       "  'WGT_FACTOR': 489.1}]"
      ]
     },
     "execution_count": 51,
     "metadata": {},
     "output_type": "execute_result"
    }
   ],
   "source": [
    "list(get_rows(get_results(select([transactions,\n",
    "                                 func.sum(transactions.c.SHIPMT_VALUE).over(\n",
    "                                    order_by=transactions.c.SHIPMT_ID)\n",
    "                                  .label(\"SUM\")\n",
    "                                 ]).limit(10))))"
   ]
  },
  {
   "cell_type": "code",
   "execution_count": 52,
   "metadata": {
    "collapsed": true
   },
   "outputs": [],
   "source": [
    "from sqlalchemy.sql import union"
   ]
  },
  {
   "cell_type": "code",
   "execution_count": 53,
   "metadata": {
    "collapsed": false
   },
   "outputs": [
    {
     "name": "stdout",
     "output_type": "stream",
     "text": [
      "2016-02-08 21:15:40,195 INFO sqlalchemy.engine.base.Engine SELECT sctg.\"SCTG\", sctg.\"Description\" \n",
      "FROM sctg \n",
      "WHERE sctg.\"SCTG\" < %(SCTG_1)s UNION SELECT sctg.\"SCTG\", sctg.\"Description\" \n",
      "FROM sctg \n",
      "WHERE sctg.\"SCTG\" > %(SCTG_2)s\n"
     ]
    },
    {
     "name": "stderr",
     "output_type": "stream",
     "text": [
      "INFO:sqlalchemy.engine.base.Engine:SELECT sctg.\"SCTG\", sctg.\"Description\" \n",
      "FROM sctg \n",
      "WHERE sctg.\"SCTG\" < %(SCTG_1)s UNION SELECT sctg.\"SCTG\", sctg.\"Description\" \n",
      "FROM sctg \n",
      "WHERE sctg.\"SCTG\" > %(SCTG_2)s\n"
     ]
    },
    {
     "name": "stdout",
     "output_type": "stream",
     "text": [
      "2016-02-08 21:15:40,197 INFO sqlalchemy.engine.base.Engine {'SCTG_2': 10, 'SCTG_1': 3}\n"
     ]
    },
    {
     "name": "stderr",
     "output_type": "stream",
     "text": [
      "INFO:sqlalchemy.engine.base.Engine:{'SCTG_2': 10, 'SCTG_1': 3}\n"
     ]
    },
    {
     "data": {
      "text/plain": [
       "[(26, 'Wood Products'),\n",
       " (28, 'Paper or Paperboard Articles'),\n",
       " (35, 'Electronic and Other Electrical Equipment and Components, and Office Equipment'),\n",
       " (23, 'Other Chemical Products and Preparations'),\n",
       " (19, 'Other Coal and Petroleum Products, not elsewhere classified'),\n",
       " (32, 'Base Metal in Primary or Semi-Finished Forms and in Finished Basic Shapes'),\n",
       " (11, 'Natural Sands'),\n",
       " (38, 'Precision Instruments and Apparatus'),\n",
       " (41, 'Waste and Scrap (excludes of agriculture or food, see 041xx)'),\n",
       " (34, 'Machinery'),\n",
       " (14, 'Metallic Ores and Concentrates'),\n",
       " (18, 'Fuel Oils (includes Diesel, Bunker C, and Biodiesel)'),\n",
       " (13, 'Other Non-Metallic Minerals not elsewhere classified'),\n",
       " (39, 'Furniture, Mattresses and Mattress Supports, Lamps, Lighting Fittings, and Illuminated Signs'),\n",
       " (2, 'Cereal Grains (includes seed)'),\n",
       " (33, 'Articles of Base Metal'),\n",
       " (40, 'Miscellaneous Manufactured Products'),\n",
       " (24, 'Plastics and Rubber'),\n",
       " (12, 'Gravel and Crushed Stone (excludes Dolomite and Slate)'),\n",
       " (36, 'Motorized and Other Vehicles (includes parts)'),\n",
       " (99, 'Missing Code'),\n",
       " (16, 'Crude Petroleum'),\n",
       " (17, 'Gasoline, Aviation Turbine Fuel, and Ethanol (includes Kerosene, and Fuel Alcohols)'),\n",
       " (15, 'Coal'),\n",
       " (20, 'Basic Chemicals'),\n",
       " (31, 'Non-Metallic Mineral Products'),\n",
       " (43, 'Mixed Freight'),\n",
       " (22, 'Fertilizers'),\n",
       " (25, 'Logs and Other Wood in the Rough'),\n",
       " (29, 'Printed Products'),\n",
       " (30, 'Textiles, Leather, and Articles of Textiles or Leather'),\n",
       " (27, 'Pulp, Newsprint, Paper, and Paperboard'),\n",
       " (21, 'Pharmaceutical Products'),\n",
       " (37, 'Transportation Equipment, not elsewhere classified'),\n",
       " (0, 'SCTG suppressed'),\n",
       " (1, 'Animals and Fish (live)')]"
      ]
     },
     "execution_count": 53,
     "metadata": {},
     "output_type": "execute_result"
    }
   ],
   "source": [
    "u = union(\n",
    "    sctg.select().where(sctg.c.SCTG < 3),\n",
    "    sctg.select().where(sctg.c.SCTG > 10)\n",
    "    )\n",
    "\n",
    "conn.execute(u).fetchall()"
   ]
  },
  {
   "cell_type": "code",
   "execution_count": 54,
   "metadata": {
    "collapsed": false
   },
   "outputs": [],
   "source": [
    "query_s = (select([func.count(transactions.c.SHIPMT_ID)])\n",
    "           .where(transactions.c.SCTG).as_scalar())"
   ]
  },
  {
   "cell_type": "code",
   "execution_count": 55,
   "metadata": {
    "collapsed": false
   },
   "outputs": [
    {
     "name": "stdout",
     "output_type": "stream",
     "text": [
      "2016-02-08 21:15:42,632 INFO sqlalchemy.engine.base.Engine SELECT (SELECT count(transactions.\"SHIPMT_ID\") AS count_1 \n",
      "FROM transactions \n",
      "WHERE transactions.\"SCTG\") AS anon_1\n"
     ]
    },
    {
     "name": "stderr",
     "output_type": "stream",
     "text": [
      "INFO:sqlalchemy.engine.base.Engine:SELECT (SELECT count(transactions.\"SHIPMT_ID\") AS count_1 \n",
      "FROM transactions \n",
      "WHERE transactions.\"SCTG\") AS anon_1\n"
     ]
    },
    {
     "name": "stdout",
     "output_type": "stream",
     "text": [
      "2016-02-08 21:15:42,633 INFO sqlalchemy.engine.base.Engine {}\n"
     ]
    },
    {
     "name": "stderr",
     "output_type": "stream",
     "text": [
      "INFO:sqlalchemy.engine.base.Engine:{}\n"
     ]
    },
    {
     "name": "stdout",
     "output_type": "stream",
     "text": [
      "2016-02-08 21:15:42,656 INFO sqlalchemy.engine.base.Engine ROLLBACK\n"
     ]
    },
    {
     "name": "stderr",
     "output_type": "stream",
     "text": [
      "INFO:sqlalchemy.engine.base.Engine:ROLLBACK\n"
     ]
    },
    {
     "ename": "ProgrammingError",
     "evalue": "(psycopg2.ProgrammingError) argument of WHERE must be type boolean, not type text\nLINE 3: WHERE transactions.\"SCTG\") AS anon_1\n              ^\n [SQL: 'SELECT (SELECT count(transactions.\"SHIPMT_ID\") AS count_1 \\nFROM transactions \\nWHERE transactions.\"SCTG\") AS anon_1']",
     "output_type": "error",
     "traceback": [
      "\u001b[0;31m---------------------------------------------------------------------------\u001b[0m",
      "\u001b[0;31mProgrammingError\u001b[0m                          Traceback (most recent call last)",
      "\u001b[0;32m/Users/Sohail/Virtualenvs/machineLearn/lib/python3.4/site-packages/sqlalchemy/engine/base.py\u001b[0m in \u001b[0;36m_execute_context\u001b[0;34m(self, dialect, constructor, statement, parameters, *args)\u001b[0m\n\u001b[1;32m   1138\u001b[0m                         \u001b[0mparameters\u001b[0m\u001b[0;34m,\u001b[0m\u001b[0;34m\u001b[0m\u001b[0m\n\u001b[0;32m-> 1139\u001b[0;31m                         context)\n\u001b[0m\u001b[1;32m   1140\u001b[0m         \u001b[0;32mexcept\u001b[0m \u001b[0mException\u001b[0m \u001b[0;32mas\u001b[0m \u001b[0me\u001b[0m\u001b[0;34m:\u001b[0m\u001b[0;34m\u001b[0m\u001b[0m\n",
      "\u001b[0;32m/Users/Sohail/Virtualenvs/machineLearn/lib/python3.4/site-packages/sqlalchemy/engine/default.py\u001b[0m in \u001b[0;36mdo_execute\u001b[0;34m(self, cursor, statement, parameters, context)\u001b[0m\n\u001b[1;32m    449\u001b[0m     \u001b[0;32mdef\u001b[0m \u001b[0mdo_execute\u001b[0m\u001b[0;34m(\u001b[0m\u001b[0mself\u001b[0m\u001b[0;34m,\u001b[0m \u001b[0mcursor\u001b[0m\u001b[0;34m,\u001b[0m \u001b[0mstatement\u001b[0m\u001b[0;34m,\u001b[0m \u001b[0mparameters\u001b[0m\u001b[0;34m,\u001b[0m \u001b[0mcontext\u001b[0m\u001b[0;34m=\u001b[0m\u001b[0;32mNone\u001b[0m\u001b[0;34m)\u001b[0m\u001b[0;34m:\u001b[0m\u001b[0;34m\u001b[0m\u001b[0m\n\u001b[0;32m--> 450\u001b[0;31m         \u001b[0mcursor\u001b[0m\u001b[0;34m.\u001b[0m\u001b[0mexecute\u001b[0m\u001b[0;34m(\u001b[0m\u001b[0mstatement\u001b[0m\u001b[0;34m,\u001b[0m \u001b[0mparameters\u001b[0m\u001b[0;34m)\u001b[0m\u001b[0;34m\u001b[0m\u001b[0m\n\u001b[0m\u001b[1;32m    451\u001b[0m \u001b[0;34m\u001b[0m\u001b[0m\n",
      "\u001b[0;31mProgrammingError\u001b[0m: argument of WHERE must be type boolean, not type text\nLINE 3: WHERE transactions.\"SCTG\") AS anon_1\n              ^\n",
      "\nThe above exception was the direct cause of the following exception:\n",
      "\u001b[0;31mProgrammingError\u001b[0m                          Traceback (most recent call last)",
      "\u001b[0;32m<ipython-input-55-04be883b91b0>\u001b[0m in \u001b[0;36m<module>\u001b[0;34m()\u001b[0m\n\u001b[0;32m----> 1\u001b[0;31m \u001b[0mconn\u001b[0m\u001b[0;34m.\u001b[0m\u001b[0mexecute\u001b[0m\u001b[0;34m(\u001b[0m\u001b[0mselect\u001b[0m\u001b[0;34m(\u001b[0m\u001b[0;34m[\u001b[0m\u001b[0mquery_s\u001b[0m\u001b[0;34m]\u001b[0m\u001b[0;34m)\u001b[0m\u001b[0;34m)\u001b[0m\u001b[0;34m\u001b[0m\u001b[0m\n\u001b[0m",
      "\u001b[0;32m/Users/Sohail/Virtualenvs/machineLearn/lib/python3.4/site-packages/sqlalchemy/engine/base.py\u001b[0m in \u001b[0;36mexecute\u001b[0;34m(self, object, *multiparams, **params)\u001b[0m\n\u001b[1;32m    912\u001b[0m                 type(object))\n\u001b[1;32m    913\u001b[0m         \u001b[0;32melse\u001b[0m\u001b[0;34m:\u001b[0m\u001b[0;34m\u001b[0m\u001b[0m\n\u001b[0;32m--> 914\u001b[0;31m             \u001b[0;32mreturn\u001b[0m \u001b[0mmeth\u001b[0m\u001b[0;34m(\u001b[0m\u001b[0mself\u001b[0m\u001b[0;34m,\u001b[0m \u001b[0mmultiparams\u001b[0m\u001b[0;34m,\u001b[0m \u001b[0mparams\u001b[0m\u001b[0;34m)\u001b[0m\u001b[0;34m\u001b[0m\u001b[0m\n\u001b[0m\u001b[1;32m    915\u001b[0m \u001b[0;34m\u001b[0m\u001b[0m\n\u001b[1;32m    916\u001b[0m     \u001b[0;32mdef\u001b[0m \u001b[0m_execute_function\u001b[0m\u001b[0;34m(\u001b[0m\u001b[0mself\u001b[0m\u001b[0;34m,\u001b[0m \u001b[0mfunc\u001b[0m\u001b[0;34m,\u001b[0m \u001b[0mmultiparams\u001b[0m\u001b[0;34m,\u001b[0m \u001b[0mparams\u001b[0m\u001b[0;34m)\u001b[0m\u001b[0;34m:\u001b[0m\u001b[0;34m\u001b[0m\u001b[0m\n",
      "\u001b[0;32m/Users/Sohail/Virtualenvs/machineLearn/lib/python3.4/site-packages/sqlalchemy/sql/elements.py\u001b[0m in \u001b[0;36m_execute_on_connection\u001b[0;34m(self, connection, multiparams, params)\u001b[0m\n\u001b[1;32m    321\u001b[0m \u001b[0;34m\u001b[0m\u001b[0m\n\u001b[1;32m    322\u001b[0m     \u001b[0;32mdef\u001b[0m \u001b[0m_execute_on_connection\u001b[0m\u001b[0;34m(\u001b[0m\u001b[0mself\u001b[0m\u001b[0;34m,\u001b[0m \u001b[0mconnection\u001b[0m\u001b[0;34m,\u001b[0m \u001b[0mmultiparams\u001b[0m\u001b[0;34m,\u001b[0m \u001b[0mparams\u001b[0m\u001b[0;34m)\u001b[0m\u001b[0;34m:\u001b[0m\u001b[0;34m\u001b[0m\u001b[0m\n\u001b[0;32m--> 323\u001b[0;31m         \u001b[0;32mreturn\u001b[0m \u001b[0mconnection\u001b[0m\u001b[0;34m.\u001b[0m\u001b[0m_execute_clauseelement\u001b[0m\u001b[0;34m(\u001b[0m\u001b[0mself\u001b[0m\u001b[0;34m,\u001b[0m \u001b[0mmultiparams\u001b[0m\u001b[0;34m,\u001b[0m \u001b[0mparams\u001b[0m\u001b[0;34m)\u001b[0m\u001b[0;34m\u001b[0m\u001b[0m\n\u001b[0m\u001b[1;32m    324\u001b[0m \u001b[0;34m\u001b[0m\u001b[0m\n\u001b[1;32m    325\u001b[0m     \u001b[0;32mdef\u001b[0m \u001b[0munique_params\u001b[0m\u001b[0;34m(\u001b[0m\u001b[0mself\u001b[0m\u001b[0;34m,\u001b[0m \u001b[0;34m*\u001b[0m\u001b[0moptionaldict\u001b[0m\u001b[0;34m,\u001b[0m \u001b[0;34m**\u001b[0m\u001b[0mkwargs\u001b[0m\u001b[0;34m)\u001b[0m\u001b[0;34m:\u001b[0m\u001b[0;34m\u001b[0m\u001b[0m\n",
      "\u001b[0;32m/Users/Sohail/Virtualenvs/machineLearn/lib/python3.4/site-packages/sqlalchemy/engine/base.py\u001b[0m in \u001b[0;36m_execute_clauseelement\u001b[0;34m(self, elem, multiparams, params)\u001b[0m\n\u001b[1;32m   1008\u001b[0m             \u001b[0mcompiled_sql\u001b[0m\u001b[0;34m,\u001b[0m\u001b[0;34m\u001b[0m\u001b[0m\n\u001b[1;32m   1009\u001b[0m             \u001b[0mdistilled_params\u001b[0m\u001b[0;34m,\u001b[0m\u001b[0;34m\u001b[0m\u001b[0m\n\u001b[0;32m-> 1010\u001b[0;31m             \u001b[0mcompiled_sql\u001b[0m\u001b[0;34m,\u001b[0m \u001b[0mdistilled_params\u001b[0m\u001b[0;34m\u001b[0m\u001b[0m\n\u001b[0m\u001b[1;32m   1011\u001b[0m         )\n\u001b[1;32m   1012\u001b[0m         \u001b[0;32mif\u001b[0m \u001b[0mself\u001b[0m\u001b[0;34m.\u001b[0m\u001b[0m_has_events\u001b[0m \u001b[0;32mor\u001b[0m \u001b[0mself\u001b[0m\u001b[0;34m.\u001b[0m\u001b[0mengine\u001b[0m\u001b[0;34m.\u001b[0m\u001b[0m_has_events\u001b[0m\u001b[0;34m:\u001b[0m\u001b[0;34m\u001b[0m\u001b[0m\n",
      "\u001b[0;32m/Users/Sohail/Virtualenvs/machineLearn/lib/python3.4/site-packages/sqlalchemy/engine/base.py\u001b[0m in \u001b[0;36m_execute_context\u001b[0;34m(self, dialect, constructor, statement, parameters, *args)\u001b[0m\n\u001b[1;32m   1144\u001b[0m                 \u001b[0mparameters\u001b[0m\u001b[0;34m,\u001b[0m\u001b[0;34m\u001b[0m\u001b[0m\n\u001b[1;32m   1145\u001b[0m                 \u001b[0mcursor\u001b[0m\u001b[0;34m,\u001b[0m\u001b[0;34m\u001b[0m\u001b[0m\n\u001b[0;32m-> 1146\u001b[0;31m                 context)\n\u001b[0m\u001b[1;32m   1147\u001b[0m \u001b[0;34m\u001b[0m\u001b[0m\n\u001b[1;32m   1148\u001b[0m         \u001b[0;32mif\u001b[0m \u001b[0mself\u001b[0m\u001b[0;34m.\u001b[0m\u001b[0m_has_events\u001b[0m \u001b[0;32mor\u001b[0m \u001b[0mself\u001b[0m\u001b[0;34m.\u001b[0m\u001b[0mengine\u001b[0m\u001b[0;34m.\u001b[0m\u001b[0m_has_events\u001b[0m\u001b[0;34m:\u001b[0m\u001b[0;34m\u001b[0m\u001b[0m\n",
      "\u001b[0;32m/Users/Sohail/Virtualenvs/machineLearn/lib/python3.4/site-packages/sqlalchemy/engine/base.py\u001b[0m in \u001b[0;36m_handle_dbapi_exception\u001b[0;34m(self, e, statement, parameters, cursor, context)\u001b[0m\n\u001b[1;32m   1339\u001b[0m                 util.raise_from_cause(\n\u001b[1;32m   1340\u001b[0m                     \u001b[0msqlalchemy_exception\u001b[0m\u001b[0;34m,\u001b[0m\u001b[0;34m\u001b[0m\u001b[0m\n\u001b[0;32m-> 1341\u001b[0;31m                     \u001b[0mexc_info\u001b[0m\u001b[0;34m\u001b[0m\u001b[0m\n\u001b[0m\u001b[1;32m   1342\u001b[0m                 )\n\u001b[1;32m   1343\u001b[0m             \u001b[0;32melse\u001b[0m\u001b[0;34m:\u001b[0m\u001b[0;34m\u001b[0m\u001b[0m\n",
      "\u001b[0;32m/Users/Sohail/Virtualenvs/machineLearn/lib/python3.4/site-packages/sqlalchemy/util/compat.py\u001b[0m in \u001b[0;36mraise_from_cause\u001b[0;34m(exception, exc_info)\u001b[0m\n\u001b[1;32m    186\u001b[0m             \u001b[0mexc_info\u001b[0m \u001b[0;34m=\u001b[0m \u001b[0msys\u001b[0m\u001b[0;34m.\u001b[0m\u001b[0mexc_info\u001b[0m\u001b[0;34m(\u001b[0m\u001b[0;34m)\u001b[0m\u001b[0;34m\u001b[0m\u001b[0m\n\u001b[1;32m    187\u001b[0m         \u001b[0mexc_type\u001b[0m\u001b[0;34m,\u001b[0m \u001b[0mexc_value\u001b[0m\u001b[0;34m,\u001b[0m \u001b[0mexc_tb\u001b[0m \u001b[0;34m=\u001b[0m \u001b[0mexc_info\u001b[0m\u001b[0;34m\u001b[0m\u001b[0m\n\u001b[0;32m--> 188\u001b[0;31m         \u001b[0mreraise\u001b[0m\u001b[0;34m(\u001b[0m\u001b[0mtype\u001b[0m\u001b[0;34m(\u001b[0m\u001b[0mexception\u001b[0m\u001b[0;34m)\u001b[0m\u001b[0;34m,\u001b[0m \u001b[0mexception\u001b[0m\u001b[0;34m,\u001b[0m \u001b[0mtb\u001b[0m\u001b[0;34m=\u001b[0m\u001b[0mexc_tb\u001b[0m\u001b[0;34m,\u001b[0m \u001b[0mcause\u001b[0m\u001b[0;34m=\u001b[0m\u001b[0mexc_value\u001b[0m\u001b[0;34m)\u001b[0m\u001b[0;34m\u001b[0m\u001b[0m\n\u001b[0m\u001b[1;32m    189\u001b[0m \u001b[0;32melse\u001b[0m\u001b[0;34m:\u001b[0m\u001b[0;34m\u001b[0m\u001b[0m\n\u001b[1;32m    190\u001b[0m     exec(\"def reraise(tp, value, tb=None, cause=None):\\n\"\n",
      "\u001b[0;32m/Users/Sohail/Virtualenvs/machineLearn/lib/python3.4/site-packages/sqlalchemy/util/compat.py\u001b[0m in \u001b[0;36mreraise\u001b[0;34m(tp, value, tb, cause)\u001b[0m\n\u001b[1;32m    179\u001b[0m             \u001b[0mvalue\u001b[0m\u001b[0;34m.\u001b[0m\u001b[0m__cause__\u001b[0m \u001b[0;34m=\u001b[0m \u001b[0mcause\u001b[0m\u001b[0;34m\u001b[0m\u001b[0m\n\u001b[1;32m    180\u001b[0m         \u001b[0;32mif\u001b[0m \u001b[0mvalue\u001b[0m\u001b[0;34m.\u001b[0m\u001b[0m__traceback__\u001b[0m \u001b[0;32mis\u001b[0m \u001b[0;32mnot\u001b[0m \u001b[0mtb\u001b[0m\u001b[0;34m:\u001b[0m\u001b[0;34m\u001b[0m\u001b[0m\n\u001b[0;32m--> 181\u001b[0;31m             \u001b[0;32mraise\u001b[0m \u001b[0mvalue\u001b[0m\u001b[0;34m.\u001b[0m\u001b[0mwith_traceback\u001b[0m\u001b[0;34m(\u001b[0m\u001b[0mtb\u001b[0m\u001b[0;34m)\u001b[0m\u001b[0;34m\u001b[0m\u001b[0m\n\u001b[0m\u001b[1;32m    182\u001b[0m         \u001b[0;32mraise\u001b[0m \u001b[0mvalue\u001b[0m\u001b[0;34m\u001b[0m\u001b[0m\n\u001b[1;32m    183\u001b[0m \u001b[0;34m\u001b[0m\u001b[0m\n",
      "\u001b[0;32m/Users/Sohail/Virtualenvs/machineLearn/lib/python3.4/site-packages/sqlalchemy/engine/base.py\u001b[0m in \u001b[0;36m_execute_context\u001b[0;34m(self, dialect, constructor, statement, parameters, *args)\u001b[0m\n\u001b[1;32m   1137\u001b[0m                         \u001b[0mstatement\u001b[0m\u001b[0;34m,\u001b[0m\u001b[0;34m\u001b[0m\u001b[0m\n\u001b[1;32m   1138\u001b[0m                         \u001b[0mparameters\u001b[0m\u001b[0;34m,\u001b[0m\u001b[0;34m\u001b[0m\u001b[0m\n\u001b[0;32m-> 1139\u001b[0;31m                         context)\n\u001b[0m\u001b[1;32m   1140\u001b[0m         \u001b[0;32mexcept\u001b[0m \u001b[0mException\u001b[0m \u001b[0;32mas\u001b[0m \u001b[0me\u001b[0m\u001b[0;34m:\u001b[0m\u001b[0;34m\u001b[0m\u001b[0m\n\u001b[1;32m   1141\u001b[0m             self._handle_dbapi_exception(\n",
      "\u001b[0;32m/Users/Sohail/Virtualenvs/machineLearn/lib/python3.4/site-packages/sqlalchemy/engine/default.py\u001b[0m in \u001b[0;36mdo_execute\u001b[0;34m(self, cursor, statement, parameters, context)\u001b[0m\n\u001b[1;32m    448\u001b[0m \u001b[0;34m\u001b[0m\u001b[0m\n\u001b[1;32m    449\u001b[0m     \u001b[0;32mdef\u001b[0m \u001b[0mdo_execute\u001b[0m\u001b[0;34m(\u001b[0m\u001b[0mself\u001b[0m\u001b[0;34m,\u001b[0m \u001b[0mcursor\u001b[0m\u001b[0;34m,\u001b[0m \u001b[0mstatement\u001b[0m\u001b[0;34m,\u001b[0m \u001b[0mparameters\u001b[0m\u001b[0;34m,\u001b[0m \u001b[0mcontext\u001b[0m\u001b[0;34m=\u001b[0m\u001b[0;32mNone\u001b[0m\u001b[0;34m)\u001b[0m\u001b[0;34m:\u001b[0m\u001b[0;34m\u001b[0m\u001b[0m\n\u001b[0;32m--> 450\u001b[0;31m         \u001b[0mcursor\u001b[0m\u001b[0;34m.\u001b[0m\u001b[0mexecute\u001b[0m\u001b[0;34m(\u001b[0m\u001b[0mstatement\u001b[0m\u001b[0;34m,\u001b[0m \u001b[0mparameters\u001b[0m\u001b[0;34m)\u001b[0m\u001b[0;34m\u001b[0m\u001b[0m\n\u001b[0m\u001b[1;32m    451\u001b[0m \u001b[0;34m\u001b[0m\u001b[0m\n\u001b[1;32m    452\u001b[0m     \u001b[0;32mdef\u001b[0m \u001b[0mdo_execute_no_params\u001b[0m\u001b[0;34m(\u001b[0m\u001b[0mself\u001b[0m\u001b[0;34m,\u001b[0m \u001b[0mcursor\u001b[0m\u001b[0;34m,\u001b[0m \u001b[0mstatement\u001b[0m\u001b[0;34m,\u001b[0m \u001b[0mcontext\u001b[0m\u001b[0;34m=\u001b[0m\u001b[0;32mNone\u001b[0m\u001b[0;34m)\u001b[0m\u001b[0;34m:\u001b[0m\u001b[0;34m\u001b[0m\u001b[0m\n",
      "\u001b[0;31mProgrammingError\u001b[0m: (psycopg2.ProgrammingError) argument of WHERE must be type boolean, not type text\nLINE 3: WHERE transactions.\"SCTG\") AS anon_1\n              ^\n [SQL: 'SELECT (SELECT count(transactions.\"SHIPMT_ID\") AS count_1 \\nFROM transactions \\nWHERE transactions.\"SCTG\") AS anon_1']"
     ]
    }
   ],
   "source": [
    "conn.execute(select([query_s]))"
   ]
  },
  {
   "cell_type": "code",
   "execution_count": 56,
   "metadata": {
    "collapsed": false
   },
   "outputs": [
    {
     "name": "stdout",
     "output_type": "stream",
     "text": [
      "2016-02-08 21:15:44,425 INFO sqlalchemy.engine.base.Engine SELECT sctg.\"SCTG\", sctg.\"Description\" \n",
      "FROM sctg \n",
      "WHERE sctg.\"SCTG\" < %(SCTG_1)s UNION SELECT sctg.\"SCTG\", sctg.\"Description\" \n",
      "FROM sctg \n",
      "WHERE sctg.\"SCTG\" > %(SCTG_2)s\n"
     ]
    },
    {
     "name": "stderr",
     "output_type": "stream",
     "text": [
      "INFO:sqlalchemy.engine.base.Engine:SELECT sctg.\"SCTG\", sctg.\"Description\" \n",
      "FROM sctg \n",
      "WHERE sctg.\"SCTG\" < %(SCTG_1)s UNION SELECT sctg.\"SCTG\", sctg.\"Description\" \n",
      "FROM sctg \n",
      "WHERE sctg.\"SCTG\" > %(SCTG_2)s\n"
     ]
    },
    {
     "name": "stdout",
     "output_type": "stream",
     "text": [
      "2016-02-08 21:15:44,427 INFO sqlalchemy.engine.base.Engine {'SCTG_2': 10, 'SCTG_1': 3}\n"
     ]
    },
    {
     "name": "stderr",
     "output_type": "stream",
     "text": [
      "INFO:sqlalchemy.engine.base.Engine:{'SCTG_2': 10, 'SCTG_1': 3}\n"
     ]
    },
    {
     "data": {
      "text/plain": [
       "(26, 'Wood Products')"
      ]
     },
     "execution_count": 56,
     "metadata": {},
     "output_type": "execute_result"
    }
   ],
   "source": [
    "conn.execute(u).fetchone()"
   ]
  },
  {
   "cell_type": "markdown",
   "metadata": {},
   "source": [
    "##### Correlated Subqueries\n",
    "\n",
    "When an enclosed query depends on a table from the enclosing context, it does not need to explicitly provide a FROM clause"
   ]
  },
  {
   "cell_type": "code",
   "execution_count": 57,
   "metadata": {
    "collapsed": false
   },
   "outputs": [],
   "source": [
    "stmt = (select([transactions, FIPS_States.c['Alpha code']])\n",
    "        .select_from(\n",
    "        transactions.join(FIPS_States, onclause=transactions.c.ORIG_STATE == FIPS_States.c[\"Numeric code\"]))\n",
    "        .where(FIPS_States.c['Alpha code'].like('C%'))\n",
    "        )"
   ]
  },
  {
   "cell_type": "code",
   "execution_count": 58,
   "metadata": {
    "collapsed": true
   },
   "outputs": [],
   "source": [
    "enclosing_stmt = select([transactions.c.SCTG]).select_from(stmt).limit(10)"
   ]
  },
  {
   "cell_type": "code",
   "execution_count": 59,
   "metadata": {
    "collapsed": false
   },
   "outputs": [
    {
     "name": "stdout",
     "output_type": "stream",
     "text": [
      "2016-02-08 21:15:53,280 INFO sqlalchemy.engine.base.Engine SELECT transactions.\"SCTG\" \n",
      "FROM transactions, (SELECT transactions.\"SHIPMT_ID\" AS \"SHIPMT_ID\", transactions.\"ORIG_STATE\" AS \"ORIG_STATE\", transactions.\"ORIG_MA\" AS \"ORIG_MA\", transactions.\"ORIG_CFS_AREA\" AS \"ORIG_CFS_AREA\", transactions.\"DEST_STATE\" AS \"DEST_STATE\", transactions.\"DEST_MA\" AS \"DEST_MA\", transactions.\"DEST_CFS_AREA\" AS \"DEST_CFS_AREA\", transactions.\"NAICS\" AS \"NAICS\", transactions.\"QUARTER\" AS \"QUARTER\", transactions.\"SCTG\" AS \"SCTG\", transactions.\"MODE\" AS \"MODE\", transactions.\"SHIPMT_VALUE\" AS \"SHIPMT_VALUE\", transactions.\"SHIPMT_WGHT\" AS \"SHIPMT_WGHT\", transactions.\"SHIPMT_DIST_GC\" AS \"SHIPMT_DIST_GC\", transactions.\"SHIPMT_DIST_ROUTED\" AS \"SHIPMT_DIST_ROUTED\", transactions.\"TEMP_CNTL_YN\" AS \"TEMP_CNTL_YN\", transactions.\"EXPORT_YN\" AS \"EXPORT_YN\", transactions.\"EXPORT_CNTRY\" AS \"EXPORT_CNTRY\", transactions.\"HAZMAT\" AS \"HAZMAT\", transactions.\"WGT_FACTOR\" AS \"WGT_FACTOR\", \"FIPS_States\".\"Alpha code\" AS \"Alpha code\" \n",
      "FROM transactions JOIN \"FIPS_States\" ON transactions.\"ORIG_STATE\" = \"FIPS_States\".\"Numeric code\" \n",
      "WHERE \"FIPS_States\".\"Alpha code\" LIKE %(Alpha code_1)s) \n",
      " LIMIT %(param_1)s\n"
     ]
    },
    {
     "name": "stderr",
     "output_type": "stream",
     "text": [
      "INFO:sqlalchemy.engine.base.Engine:SELECT transactions.\"SCTG\" \n",
      "FROM transactions, (SELECT transactions.\"SHIPMT_ID\" AS \"SHIPMT_ID\", transactions.\"ORIG_STATE\" AS \"ORIG_STATE\", transactions.\"ORIG_MA\" AS \"ORIG_MA\", transactions.\"ORIG_CFS_AREA\" AS \"ORIG_CFS_AREA\", transactions.\"DEST_STATE\" AS \"DEST_STATE\", transactions.\"DEST_MA\" AS \"DEST_MA\", transactions.\"DEST_CFS_AREA\" AS \"DEST_CFS_AREA\", transactions.\"NAICS\" AS \"NAICS\", transactions.\"QUARTER\" AS \"QUARTER\", transactions.\"SCTG\" AS \"SCTG\", transactions.\"MODE\" AS \"MODE\", transactions.\"SHIPMT_VALUE\" AS \"SHIPMT_VALUE\", transactions.\"SHIPMT_WGHT\" AS \"SHIPMT_WGHT\", transactions.\"SHIPMT_DIST_GC\" AS \"SHIPMT_DIST_GC\", transactions.\"SHIPMT_DIST_ROUTED\" AS \"SHIPMT_DIST_ROUTED\", transactions.\"TEMP_CNTL_YN\" AS \"TEMP_CNTL_YN\", transactions.\"EXPORT_YN\" AS \"EXPORT_YN\", transactions.\"EXPORT_CNTRY\" AS \"EXPORT_CNTRY\", transactions.\"HAZMAT\" AS \"HAZMAT\", transactions.\"WGT_FACTOR\" AS \"WGT_FACTOR\", \"FIPS_States\".\"Alpha code\" AS \"Alpha code\" \n",
      "FROM transactions JOIN \"FIPS_States\" ON transactions.\"ORIG_STATE\" = \"FIPS_States\".\"Numeric code\" \n",
      "WHERE \"FIPS_States\".\"Alpha code\" LIKE %(Alpha code_1)s) \n",
      " LIMIT %(param_1)s\n"
     ]
    },
    {
     "name": "stdout",
     "output_type": "stream",
     "text": [
      "2016-02-08 21:15:53,282 INFO sqlalchemy.engine.base.Engine {'Alpha code_1': 'C%', 'param_1': 10}\n"
     ]
    },
    {
     "name": "stderr",
     "output_type": "stream",
     "text": [
      "INFO:sqlalchemy.engine.base.Engine:{'Alpha code_1': 'C%', 'param_1': 10}\n"
     ]
    },
    {
     "name": "stdout",
     "output_type": "stream",
     "text": [
      "2016-02-08 21:15:53,311 INFO sqlalchemy.engine.base.Engine ROLLBACK\n"
     ]
    },
    {
     "name": "stderr",
     "output_type": "stream",
     "text": [
      "INFO:sqlalchemy.engine.base.Engine:ROLLBACK\n"
     ]
    },
    {
     "ename": "ProgrammingError",
     "evalue": "(psycopg2.ProgrammingError) subquery in FROM must have an alias\nLINE 2: FROM transactions, (SELECT transactions.\"SHIPMT_ID\" AS \"SHIP...\n                           ^\nHINT:  For example, FROM (SELECT ...) [AS] foo.\n [SQL: 'SELECT transactions.\"SCTG\" \\nFROM transactions, (SELECT transactions.\"SHIPMT_ID\" AS \"SHIPMT_ID\", transactions.\"ORIG_STATE\" AS \"ORIG_STATE\", transactions.\"ORIG_MA\" AS \"ORIG_MA\", transactions.\"ORIG_CFS_AREA\" AS \"ORIG_CFS_AREA\", transactions.\"DEST_STATE\" AS \"DEST_STATE\", transactions.\"DEST_MA\" AS \"DEST_MA\", transactions.\"DEST_CFS_AREA\" AS \"DEST_CFS_AREA\", transactions.\"NAICS\" AS \"NAICS\", transactions.\"QUARTER\" AS \"QUARTER\", transactions.\"SCTG\" AS \"SCTG\", transactions.\"MODE\" AS \"MODE\", transactions.\"SHIPMT_VALUE\" AS \"SHIPMT_VALUE\", transactions.\"SHIPMT_WGHT\" AS \"SHIPMT_WGHT\", transactions.\"SHIPMT_DIST_GC\" AS \"SHIPMT_DIST_GC\", transactions.\"SHIPMT_DIST_ROUTED\" AS \"SHIPMT_DIST_ROUTED\", transactions.\"TEMP_CNTL_YN\" AS \"TEMP_CNTL_YN\", transactions.\"EXPORT_YN\" AS \"EXPORT_YN\", transactions.\"EXPORT_CNTRY\" AS \"EXPORT_CNTRY\", transactions.\"HAZMAT\" AS \"HAZMAT\", transactions.\"WGT_FACTOR\" AS \"WGT_FACTOR\", \"FIPS_States\".\"Alpha code\" AS \"Alpha code\" \\nFROM transactions JOIN \"FIPS_States\" ON transactions.\"ORIG_STATE\" = \"FIPS_States\".\"Numeric code\" \\nWHERE \"FIPS_States\".\"Alpha code\" LIKE %(Alpha code_1)s) \\n LIMIT %(param_1)s'] [parameters: {'Alpha code_1': 'C%', 'param_1': 10}]",
     "output_type": "error",
     "traceback": [
      "\u001b[0;31m---------------------------------------------------------------------------\u001b[0m",
      "\u001b[0;31mProgrammingError\u001b[0m                          Traceback (most recent call last)",
      "\u001b[0;32m/Users/Sohail/Virtualenvs/machineLearn/lib/python3.4/site-packages/sqlalchemy/engine/base.py\u001b[0m in \u001b[0;36m_execute_context\u001b[0;34m(self, dialect, constructor, statement, parameters, *args)\u001b[0m\n\u001b[1;32m   1138\u001b[0m                         \u001b[0mparameters\u001b[0m\u001b[0;34m,\u001b[0m\u001b[0;34m\u001b[0m\u001b[0m\n\u001b[0;32m-> 1139\u001b[0;31m                         context)\n\u001b[0m\u001b[1;32m   1140\u001b[0m         \u001b[0;32mexcept\u001b[0m \u001b[0mException\u001b[0m \u001b[0;32mas\u001b[0m \u001b[0me\u001b[0m\u001b[0;34m:\u001b[0m\u001b[0;34m\u001b[0m\u001b[0m\n",
      "\u001b[0;32m/Users/Sohail/Virtualenvs/machineLearn/lib/python3.4/site-packages/sqlalchemy/engine/default.py\u001b[0m in \u001b[0;36mdo_execute\u001b[0;34m(self, cursor, statement, parameters, context)\u001b[0m\n\u001b[1;32m    449\u001b[0m     \u001b[0;32mdef\u001b[0m \u001b[0mdo_execute\u001b[0m\u001b[0;34m(\u001b[0m\u001b[0mself\u001b[0m\u001b[0;34m,\u001b[0m \u001b[0mcursor\u001b[0m\u001b[0;34m,\u001b[0m \u001b[0mstatement\u001b[0m\u001b[0;34m,\u001b[0m \u001b[0mparameters\u001b[0m\u001b[0;34m,\u001b[0m \u001b[0mcontext\u001b[0m\u001b[0;34m=\u001b[0m\u001b[0;32mNone\u001b[0m\u001b[0;34m)\u001b[0m\u001b[0;34m:\u001b[0m\u001b[0;34m\u001b[0m\u001b[0m\n\u001b[0;32m--> 450\u001b[0;31m         \u001b[0mcursor\u001b[0m\u001b[0;34m.\u001b[0m\u001b[0mexecute\u001b[0m\u001b[0;34m(\u001b[0m\u001b[0mstatement\u001b[0m\u001b[0;34m,\u001b[0m \u001b[0mparameters\u001b[0m\u001b[0;34m)\u001b[0m\u001b[0;34m\u001b[0m\u001b[0m\n\u001b[0m\u001b[1;32m    451\u001b[0m \u001b[0;34m\u001b[0m\u001b[0m\n",
      "\u001b[0;31mProgrammingError\u001b[0m: subquery in FROM must have an alias\nLINE 2: FROM transactions, (SELECT transactions.\"SHIPMT_ID\" AS \"SHIP...\n                           ^\nHINT:  For example, FROM (SELECT ...) [AS] foo.\n",
      "\nThe above exception was the direct cause of the following exception:\n",
      "\u001b[0;31mProgrammingError\u001b[0m                          Traceback (most recent call last)",
      "\u001b[0;32m<ipython-input-59-8bf67be63a83>\u001b[0m in \u001b[0;36m<module>\u001b[0;34m()\u001b[0m\n\u001b[0;32m----> 1\u001b[0;31m \u001b[0mconn\u001b[0m\u001b[0;34m.\u001b[0m\u001b[0mexecute\u001b[0m\u001b[0;34m(\u001b[0m\u001b[0menclosing_stmt\u001b[0m\u001b[0;34m)\u001b[0m\u001b[0;34m\u001b[0m\u001b[0m\n\u001b[0m",
      "\u001b[0;32m/Users/Sohail/Virtualenvs/machineLearn/lib/python3.4/site-packages/sqlalchemy/engine/base.py\u001b[0m in \u001b[0;36mexecute\u001b[0;34m(self, object, *multiparams, **params)\u001b[0m\n\u001b[1;32m    912\u001b[0m                 type(object))\n\u001b[1;32m    913\u001b[0m         \u001b[0;32melse\u001b[0m\u001b[0;34m:\u001b[0m\u001b[0;34m\u001b[0m\u001b[0m\n\u001b[0;32m--> 914\u001b[0;31m             \u001b[0;32mreturn\u001b[0m \u001b[0mmeth\u001b[0m\u001b[0;34m(\u001b[0m\u001b[0mself\u001b[0m\u001b[0;34m,\u001b[0m \u001b[0mmultiparams\u001b[0m\u001b[0;34m,\u001b[0m \u001b[0mparams\u001b[0m\u001b[0;34m)\u001b[0m\u001b[0;34m\u001b[0m\u001b[0m\n\u001b[0m\u001b[1;32m    915\u001b[0m \u001b[0;34m\u001b[0m\u001b[0m\n\u001b[1;32m    916\u001b[0m     \u001b[0;32mdef\u001b[0m \u001b[0m_execute_function\u001b[0m\u001b[0;34m(\u001b[0m\u001b[0mself\u001b[0m\u001b[0;34m,\u001b[0m \u001b[0mfunc\u001b[0m\u001b[0;34m,\u001b[0m \u001b[0mmultiparams\u001b[0m\u001b[0;34m,\u001b[0m \u001b[0mparams\u001b[0m\u001b[0;34m)\u001b[0m\u001b[0;34m:\u001b[0m\u001b[0;34m\u001b[0m\u001b[0m\n",
      "\u001b[0;32m/Users/Sohail/Virtualenvs/machineLearn/lib/python3.4/site-packages/sqlalchemy/sql/elements.py\u001b[0m in \u001b[0;36m_execute_on_connection\u001b[0;34m(self, connection, multiparams, params)\u001b[0m\n\u001b[1;32m    321\u001b[0m \u001b[0;34m\u001b[0m\u001b[0m\n\u001b[1;32m    322\u001b[0m     \u001b[0;32mdef\u001b[0m \u001b[0m_execute_on_connection\u001b[0m\u001b[0;34m(\u001b[0m\u001b[0mself\u001b[0m\u001b[0;34m,\u001b[0m \u001b[0mconnection\u001b[0m\u001b[0;34m,\u001b[0m \u001b[0mmultiparams\u001b[0m\u001b[0;34m,\u001b[0m \u001b[0mparams\u001b[0m\u001b[0;34m)\u001b[0m\u001b[0;34m:\u001b[0m\u001b[0;34m\u001b[0m\u001b[0m\n\u001b[0;32m--> 323\u001b[0;31m         \u001b[0;32mreturn\u001b[0m \u001b[0mconnection\u001b[0m\u001b[0;34m.\u001b[0m\u001b[0m_execute_clauseelement\u001b[0m\u001b[0;34m(\u001b[0m\u001b[0mself\u001b[0m\u001b[0;34m,\u001b[0m \u001b[0mmultiparams\u001b[0m\u001b[0;34m,\u001b[0m \u001b[0mparams\u001b[0m\u001b[0;34m)\u001b[0m\u001b[0;34m\u001b[0m\u001b[0m\n\u001b[0m\u001b[1;32m    324\u001b[0m \u001b[0;34m\u001b[0m\u001b[0m\n\u001b[1;32m    325\u001b[0m     \u001b[0;32mdef\u001b[0m \u001b[0munique_params\u001b[0m\u001b[0;34m(\u001b[0m\u001b[0mself\u001b[0m\u001b[0;34m,\u001b[0m \u001b[0;34m*\u001b[0m\u001b[0moptionaldict\u001b[0m\u001b[0;34m,\u001b[0m \u001b[0;34m**\u001b[0m\u001b[0mkwargs\u001b[0m\u001b[0;34m)\u001b[0m\u001b[0;34m:\u001b[0m\u001b[0;34m\u001b[0m\u001b[0m\n",
      "\u001b[0;32m/Users/Sohail/Virtualenvs/machineLearn/lib/python3.4/site-packages/sqlalchemy/engine/base.py\u001b[0m in \u001b[0;36m_execute_clauseelement\u001b[0;34m(self, elem, multiparams, params)\u001b[0m\n\u001b[1;32m   1008\u001b[0m             \u001b[0mcompiled_sql\u001b[0m\u001b[0;34m,\u001b[0m\u001b[0;34m\u001b[0m\u001b[0m\n\u001b[1;32m   1009\u001b[0m             \u001b[0mdistilled_params\u001b[0m\u001b[0;34m,\u001b[0m\u001b[0;34m\u001b[0m\u001b[0m\n\u001b[0;32m-> 1010\u001b[0;31m             \u001b[0mcompiled_sql\u001b[0m\u001b[0;34m,\u001b[0m \u001b[0mdistilled_params\u001b[0m\u001b[0;34m\u001b[0m\u001b[0m\n\u001b[0m\u001b[1;32m   1011\u001b[0m         )\n\u001b[1;32m   1012\u001b[0m         \u001b[0;32mif\u001b[0m \u001b[0mself\u001b[0m\u001b[0;34m.\u001b[0m\u001b[0m_has_events\u001b[0m \u001b[0;32mor\u001b[0m \u001b[0mself\u001b[0m\u001b[0;34m.\u001b[0m\u001b[0mengine\u001b[0m\u001b[0;34m.\u001b[0m\u001b[0m_has_events\u001b[0m\u001b[0;34m:\u001b[0m\u001b[0;34m\u001b[0m\u001b[0m\n",
      "\u001b[0;32m/Users/Sohail/Virtualenvs/machineLearn/lib/python3.4/site-packages/sqlalchemy/engine/base.py\u001b[0m in \u001b[0;36m_execute_context\u001b[0;34m(self, dialect, constructor, statement, parameters, *args)\u001b[0m\n\u001b[1;32m   1144\u001b[0m                 \u001b[0mparameters\u001b[0m\u001b[0;34m,\u001b[0m\u001b[0;34m\u001b[0m\u001b[0m\n\u001b[1;32m   1145\u001b[0m                 \u001b[0mcursor\u001b[0m\u001b[0;34m,\u001b[0m\u001b[0;34m\u001b[0m\u001b[0m\n\u001b[0;32m-> 1146\u001b[0;31m                 context)\n\u001b[0m\u001b[1;32m   1147\u001b[0m \u001b[0;34m\u001b[0m\u001b[0m\n\u001b[1;32m   1148\u001b[0m         \u001b[0;32mif\u001b[0m \u001b[0mself\u001b[0m\u001b[0;34m.\u001b[0m\u001b[0m_has_events\u001b[0m \u001b[0;32mor\u001b[0m \u001b[0mself\u001b[0m\u001b[0;34m.\u001b[0m\u001b[0mengine\u001b[0m\u001b[0;34m.\u001b[0m\u001b[0m_has_events\u001b[0m\u001b[0;34m:\u001b[0m\u001b[0;34m\u001b[0m\u001b[0m\n",
      "\u001b[0;32m/Users/Sohail/Virtualenvs/machineLearn/lib/python3.4/site-packages/sqlalchemy/engine/base.py\u001b[0m in \u001b[0;36m_handle_dbapi_exception\u001b[0;34m(self, e, statement, parameters, cursor, context)\u001b[0m\n\u001b[1;32m   1339\u001b[0m                 util.raise_from_cause(\n\u001b[1;32m   1340\u001b[0m                     \u001b[0msqlalchemy_exception\u001b[0m\u001b[0;34m,\u001b[0m\u001b[0;34m\u001b[0m\u001b[0m\n\u001b[0;32m-> 1341\u001b[0;31m                     \u001b[0mexc_info\u001b[0m\u001b[0;34m\u001b[0m\u001b[0m\n\u001b[0m\u001b[1;32m   1342\u001b[0m                 )\n\u001b[1;32m   1343\u001b[0m             \u001b[0;32melse\u001b[0m\u001b[0;34m:\u001b[0m\u001b[0;34m\u001b[0m\u001b[0m\n",
      "\u001b[0;32m/Users/Sohail/Virtualenvs/machineLearn/lib/python3.4/site-packages/sqlalchemy/util/compat.py\u001b[0m in \u001b[0;36mraise_from_cause\u001b[0;34m(exception, exc_info)\u001b[0m\n\u001b[1;32m    186\u001b[0m             \u001b[0mexc_info\u001b[0m \u001b[0;34m=\u001b[0m \u001b[0msys\u001b[0m\u001b[0;34m.\u001b[0m\u001b[0mexc_info\u001b[0m\u001b[0;34m(\u001b[0m\u001b[0;34m)\u001b[0m\u001b[0;34m\u001b[0m\u001b[0m\n\u001b[1;32m    187\u001b[0m         \u001b[0mexc_type\u001b[0m\u001b[0;34m,\u001b[0m \u001b[0mexc_value\u001b[0m\u001b[0;34m,\u001b[0m \u001b[0mexc_tb\u001b[0m \u001b[0;34m=\u001b[0m \u001b[0mexc_info\u001b[0m\u001b[0;34m\u001b[0m\u001b[0m\n\u001b[0;32m--> 188\u001b[0;31m         \u001b[0mreraise\u001b[0m\u001b[0;34m(\u001b[0m\u001b[0mtype\u001b[0m\u001b[0;34m(\u001b[0m\u001b[0mexception\u001b[0m\u001b[0;34m)\u001b[0m\u001b[0;34m,\u001b[0m \u001b[0mexception\u001b[0m\u001b[0;34m,\u001b[0m \u001b[0mtb\u001b[0m\u001b[0;34m=\u001b[0m\u001b[0mexc_tb\u001b[0m\u001b[0;34m,\u001b[0m \u001b[0mcause\u001b[0m\u001b[0;34m=\u001b[0m\u001b[0mexc_value\u001b[0m\u001b[0;34m)\u001b[0m\u001b[0;34m\u001b[0m\u001b[0m\n\u001b[0m\u001b[1;32m    189\u001b[0m \u001b[0;32melse\u001b[0m\u001b[0;34m:\u001b[0m\u001b[0;34m\u001b[0m\u001b[0m\n\u001b[1;32m    190\u001b[0m     exec(\"def reraise(tp, value, tb=None, cause=None):\\n\"\n",
      "\u001b[0;32m/Users/Sohail/Virtualenvs/machineLearn/lib/python3.4/site-packages/sqlalchemy/util/compat.py\u001b[0m in \u001b[0;36mreraise\u001b[0;34m(tp, value, tb, cause)\u001b[0m\n\u001b[1;32m    179\u001b[0m             \u001b[0mvalue\u001b[0m\u001b[0;34m.\u001b[0m\u001b[0m__cause__\u001b[0m \u001b[0;34m=\u001b[0m \u001b[0mcause\u001b[0m\u001b[0;34m\u001b[0m\u001b[0m\n\u001b[1;32m    180\u001b[0m         \u001b[0;32mif\u001b[0m \u001b[0mvalue\u001b[0m\u001b[0;34m.\u001b[0m\u001b[0m__traceback__\u001b[0m \u001b[0;32mis\u001b[0m \u001b[0;32mnot\u001b[0m \u001b[0mtb\u001b[0m\u001b[0;34m:\u001b[0m\u001b[0;34m\u001b[0m\u001b[0m\n\u001b[0;32m--> 181\u001b[0;31m             \u001b[0;32mraise\u001b[0m \u001b[0mvalue\u001b[0m\u001b[0;34m.\u001b[0m\u001b[0mwith_traceback\u001b[0m\u001b[0;34m(\u001b[0m\u001b[0mtb\u001b[0m\u001b[0;34m)\u001b[0m\u001b[0;34m\u001b[0m\u001b[0m\n\u001b[0m\u001b[1;32m    182\u001b[0m         \u001b[0;32mraise\u001b[0m \u001b[0mvalue\u001b[0m\u001b[0;34m\u001b[0m\u001b[0m\n\u001b[1;32m    183\u001b[0m \u001b[0;34m\u001b[0m\u001b[0m\n",
      "\u001b[0;32m/Users/Sohail/Virtualenvs/machineLearn/lib/python3.4/site-packages/sqlalchemy/engine/base.py\u001b[0m in \u001b[0;36m_execute_context\u001b[0;34m(self, dialect, constructor, statement, parameters, *args)\u001b[0m\n\u001b[1;32m   1137\u001b[0m                         \u001b[0mstatement\u001b[0m\u001b[0;34m,\u001b[0m\u001b[0;34m\u001b[0m\u001b[0m\n\u001b[1;32m   1138\u001b[0m                         \u001b[0mparameters\u001b[0m\u001b[0;34m,\u001b[0m\u001b[0;34m\u001b[0m\u001b[0m\n\u001b[0;32m-> 1139\u001b[0;31m                         context)\n\u001b[0m\u001b[1;32m   1140\u001b[0m         \u001b[0;32mexcept\u001b[0m \u001b[0mException\u001b[0m \u001b[0;32mas\u001b[0m \u001b[0me\u001b[0m\u001b[0;34m:\u001b[0m\u001b[0;34m\u001b[0m\u001b[0m\n\u001b[1;32m   1141\u001b[0m             self._handle_dbapi_exception(\n",
      "\u001b[0;32m/Users/Sohail/Virtualenvs/machineLearn/lib/python3.4/site-packages/sqlalchemy/engine/default.py\u001b[0m in \u001b[0;36mdo_execute\u001b[0;34m(self, cursor, statement, parameters, context)\u001b[0m\n\u001b[1;32m    448\u001b[0m \u001b[0;34m\u001b[0m\u001b[0m\n\u001b[1;32m    449\u001b[0m     \u001b[0;32mdef\u001b[0m \u001b[0mdo_execute\u001b[0m\u001b[0;34m(\u001b[0m\u001b[0mself\u001b[0m\u001b[0;34m,\u001b[0m \u001b[0mcursor\u001b[0m\u001b[0;34m,\u001b[0m \u001b[0mstatement\u001b[0m\u001b[0;34m,\u001b[0m \u001b[0mparameters\u001b[0m\u001b[0;34m,\u001b[0m \u001b[0mcontext\u001b[0m\u001b[0;34m=\u001b[0m\u001b[0;32mNone\u001b[0m\u001b[0;34m)\u001b[0m\u001b[0;34m:\u001b[0m\u001b[0;34m\u001b[0m\u001b[0m\n\u001b[0;32m--> 450\u001b[0;31m         \u001b[0mcursor\u001b[0m\u001b[0;34m.\u001b[0m\u001b[0mexecute\u001b[0m\u001b[0;34m(\u001b[0m\u001b[0mstatement\u001b[0m\u001b[0;34m,\u001b[0m \u001b[0mparameters\u001b[0m\u001b[0;34m)\u001b[0m\u001b[0;34m\u001b[0m\u001b[0m\n\u001b[0m\u001b[1;32m    451\u001b[0m \u001b[0;34m\u001b[0m\u001b[0m\n\u001b[1;32m    452\u001b[0m     \u001b[0;32mdef\u001b[0m \u001b[0mdo_execute_no_params\u001b[0m\u001b[0;34m(\u001b[0m\u001b[0mself\u001b[0m\u001b[0;34m,\u001b[0m \u001b[0mcursor\u001b[0m\u001b[0;34m,\u001b[0m \u001b[0mstatement\u001b[0m\u001b[0;34m,\u001b[0m \u001b[0mcontext\u001b[0m\u001b[0;34m=\u001b[0m\u001b[0;32mNone\u001b[0m\u001b[0;34m)\u001b[0m\u001b[0;34m:\u001b[0m\u001b[0;34m\u001b[0m\u001b[0m\n",
      "\u001b[0;31mProgrammingError\u001b[0m: (psycopg2.ProgrammingError) subquery in FROM must have an alias\nLINE 2: FROM transactions, (SELECT transactions.\"SHIPMT_ID\" AS \"SHIP...\n                           ^\nHINT:  For example, FROM (SELECT ...) [AS] foo.\n [SQL: 'SELECT transactions.\"SCTG\" \\nFROM transactions, (SELECT transactions.\"SHIPMT_ID\" AS \"SHIPMT_ID\", transactions.\"ORIG_STATE\" AS \"ORIG_STATE\", transactions.\"ORIG_MA\" AS \"ORIG_MA\", transactions.\"ORIG_CFS_AREA\" AS \"ORIG_CFS_AREA\", transactions.\"DEST_STATE\" AS \"DEST_STATE\", transactions.\"DEST_MA\" AS \"DEST_MA\", transactions.\"DEST_CFS_AREA\" AS \"DEST_CFS_AREA\", transactions.\"NAICS\" AS \"NAICS\", transactions.\"QUARTER\" AS \"QUARTER\", transactions.\"SCTG\" AS \"SCTG\", transactions.\"MODE\" AS \"MODE\", transactions.\"SHIPMT_VALUE\" AS \"SHIPMT_VALUE\", transactions.\"SHIPMT_WGHT\" AS \"SHIPMT_WGHT\", transactions.\"SHIPMT_DIST_GC\" AS \"SHIPMT_DIST_GC\", transactions.\"SHIPMT_DIST_ROUTED\" AS \"SHIPMT_DIST_ROUTED\", transactions.\"TEMP_CNTL_YN\" AS \"TEMP_CNTL_YN\", transactions.\"EXPORT_YN\" AS \"EXPORT_YN\", transactions.\"EXPORT_CNTRY\" AS \"EXPORT_CNTRY\", transactions.\"HAZMAT\" AS \"HAZMAT\", transactions.\"WGT_FACTOR\" AS \"WGT_FACTOR\", \"FIPS_States\".\"Alpha code\" AS \"Alpha code\" \\nFROM transactions JOIN \"FIPS_States\" ON transactions.\"ORIG_STATE\" = \"FIPS_States\".\"Numeric code\" \\nWHERE \"FIPS_States\".\"Alpha code\" LIKE %(Alpha code_1)s) \\n LIMIT %(param_1)s'] [parameters: {'Alpha code_1': 'C%', 'param_1': 10}]"
     ]
    }
   ],
   "source": [
    "conn.execute(enclosing_stmt)"
   ]
  },
  {
   "cell_type": "code",
   "execution_count": 60,
   "metadata": {
    "collapsed": true
   },
   "outputs": [],
   "source": [
    "transactionsBetweenStates = (select([transactions_joined])\n",
    "                                 .where(\n",
    "                transactions_joined.c.orig_alpha_code==bindparam(\"orig_code\"))\n",
    "                                  .where(\n",
    "                transactions_joined.c.dest_alpha_code==bindparam(\"dest_code\"))\n",
    ")\n"
   ]
  },
  {
   "cell_type": "code",
   "execution_count": 61,
   "metadata": {
    "collapsed": false
   },
   "outputs": [],
   "source": [
    "stmt = (select([transactionsBetweenStates.c['SHIPMT_VALUE']])\n",
    ".select_from(transactionsBetweenStates.alias())\n",
    ")\n",
    "\n"
   ]
  },
  {
   "cell_type": "code",
   "execution_count": 62,
   "metadata": {
    "collapsed": false
   },
   "outputs": [
    {
     "name": "stdout",
     "output_type": "stream",
     "text": [
      "2016-02-08 21:15:53,890 INFO sqlalchemy.engine.base.Engine SELECT \"SHIPMT_VALUE\" \n",
      "FROM (SELECT transactions_joined.\"SHIPMT_ID\" AS \"SHIPMT_ID\", transactions_joined.\"ORIG_STATE\" AS \"ORIG_STATE\", transactions_joined.\"ORIG_MA\" AS \"ORIG_MA\", transactions_joined.\"ORIG_CFS_AREA\" AS \"ORIG_CFS_AREA\", transactions_joined.\"DEST_STATE\" AS \"DEST_STATE\", transactions_joined.\"DEST_MA\" AS \"DEST_MA\", transactions_joined.\"DEST_CFS_AREA\" AS \"DEST_CFS_AREA\", transactions_joined.\"NAICS\" AS \"NAICS\", transactions_joined.\"QUARTER\" AS \"QUARTER\", transactions_joined.\"SCTG\" AS \"SCTG\", transactions_joined.\"MODE\" AS \"MODE\", transactions_joined.\"SHIPMT_VALUE\" AS \"SHIPMT_VALUE\", transactions_joined.\"SHIPMT_WGHT\" AS \"SHIPMT_WGHT\", transactions_joined.\"SHIPMT_DIST_GC\" AS \"SHIPMT_DIST_GC\", transactions_joined.\"SHIPMT_DIST_ROUTED\" AS \"SHIPMT_DIST_ROUTED\", transactions_joined.\"TEMP_CNTL_YN\" AS \"TEMP_CNTL_YN\", transactions_joined.\"EXPORT_YN\" AS \"EXPORT_YN\", transactions_joined.\"EXPORT_CNTRY\" AS \"EXPORT_CNTRY\", transactions_joined.\"HAZMAT\" AS \"HAZMAT\", transactions_joined.\"WGT_FACTOR\" AS \"WGT_FACTOR\", transactions_joined.orig_name AS orig_name, transactions_joined.orig_alpha_code AS orig_alpha_code, transactions_joined.dest_name AS dest_name, transactions_joined.dest_alpha_code AS dest_alpha_code, transactions_joined.orig_lat AS orig_lat, transactions_joined.orig_lon AS orig_lon, transactions_joined.dest_lat AS dest_lat, transactions_joined.dest_lon AS dest_lon \n",
      "FROM transactions_joined \n",
      "WHERE transactions_joined.orig_alpha_code = %(orig_code)s AND transactions_joined.dest_alpha_code = %(dest_code)s), (SELECT transactions_joined.\"SHIPMT_ID\" AS \"SHIPMT_ID\", transactions_joined.\"ORIG_STATE\" AS \"ORIG_STATE\", transactions_joined.\"ORIG_MA\" AS \"ORIG_MA\", transactions_joined.\"ORIG_CFS_AREA\" AS \"ORIG_CFS_AREA\", transactions_joined.\"DEST_STATE\" AS \"DEST_STATE\", transactions_joined.\"DEST_MA\" AS \"DEST_MA\", transactions_joined.\"DEST_CFS_AREA\" AS \"DEST_CFS_AREA\", transactions_joined.\"NAICS\" AS \"NAICS\", transactions_joined.\"QUARTER\" AS \"QUARTER\", transactions_joined.\"SCTG\" AS \"SCTG\", transactions_joined.\"MODE\" AS \"MODE\", transactions_joined.\"SHIPMT_VALUE\" AS \"SHIPMT_VALUE\", transactions_joined.\"SHIPMT_WGHT\" AS \"SHIPMT_WGHT\", transactions_joined.\"SHIPMT_DIST_GC\" AS \"SHIPMT_DIST_GC\", transactions_joined.\"SHIPMT_DIST_ROUTED\" AS \"SHIPMT_DIST_ROUTED\", transactions_joined.\"TEMP_CNTL_YN\" AS \"TEMP_CNTL_YN\", transactions_joined.\"EXPORT_YN\" AS \"EXPORT_YN\", transactions_joined.\"EXPORT_CNTRY\" AS \"EXPORT_CNTRY\", transactions_joined.\"HAZMAT\" AS \"HAZMAT\", transactions_joined.\"WGT_FACTOR\" AS \"WGT_FACTOR\", transactions_joined.orig_name AS orig_name, transactions_joined.orig_alpha_code AS orig_alpha_code, transactions_joined.dest_name AS dest_name, transactions_joined.dest_alpha_code AS dest_alpha_code, transactions_joined.orig_lat AS orig_lat, transactions_joined.orig_lon AS orig_lon, transactions_joined.dest_lat AS dest_lat, transactions_joined.dest_lon AS dest_lon \n",
      "FROM transactions_joined \n",
      "WHERE transactions_joined.orig_alpha_code = %(orig_code)s AND transactions_joined.dest_alpha_code = %(dest_code)s) AS anon_1\n"
     ]
    },
    {
     "name": "stderr",
     "output_type": "stream",
     "text": [
      "INFO:sqlalchemy.engine.base.Engine:SELECT \"SHIPMT_VALUE\" \n",
      "FROM (SELECT transactions_joined.\"SHIPMT_ID\" AS \"SHIPMT_ID\", transactions_joined.\"ORIG_STATE\" AS \"ORIG_STATE\", transactions_joined.\"ORIG_MA\" AS \"ORIG_MA\", transactions_joined.\"ORIG_CFS_AREA\" AS \"ORIG_CFS_AREA\", transactions_joined.\"DEST_STATE\" AS \"DEST_STATE\", transactions_joined.\"DEST_MA\" AS \"DEST_MA\", transactions_joined.\"DEST_CFS_AREA\" AS \"DEST_CFS_AREA\", transactions_joined.\"NAICS\" AS \"NAICS\", transactions_joined.\"QUARTER\" AS \"QUARTER\", transactions_joined.\"SCTG\" AS \"SCTG\", transactions_joined.\"MODE\" AS \"MODE\", transactions_joined.\"SHIPMT_VALUE\" AS \"SHIPMT_VALUE\", transactions_joined.\"SHIPMT_WGHT\" AS \"SHIPMT_WGHT\", transactions_joined.\"SHIPMT_DIST_GC\" AS \"SHIPMT_DIST_GC\", transactions_joined.\"SHIPMT_DIST_ROUTED\" AS \"SHIPMT_DIST_ROUTED\", transactions_joined.\"TEMP_CNTL_YN\" AS \"TEMP_CNTL_YN\", transactions_joined.\"EXPORT_YN\" AS \"EXPORT_YN\", transactions_joined.\"EXPORT_CNTRY\" AS \"EXPORT_CNTRY\", transactions_joined.\"HAZMAT\" AS \"HAZMAT\", transactions_joined.\"WGT_FACTOR\" AS \"WGT_FACTOR\", transactions_joined.orig_name AS orig_name, transactions_joined.orig_alpha_code AS orig_alpha_code, transactions_joined.dest_name AS dest_name, transactions_joined.dest_alpha_code AS dest_alpha_code, transactions_joined.orig_lat AS orig_lat, transactions_joined.orig_lon AS orig_lon, transactions_joined.dest_lat AS dest_lat, transactions_joined.dest_lon AS dest_lon \n",
      "FROM transactions_joined \n",
      "WHERE transactions_joined.orig_alpha_code = %(orig_code)s AND transactions_joined.dest_alpha_code = %(dest_code)s), (SELECT transactions_joined.\"SHIPMT_ID\" AS \"SHIPMT_ID\", transactions_joined.\"ORIG_STATE\" AS \"ORIG_STATE\", transactions_joined.\"ORIG_MA\" AS \"ORIG_MA\", transactions_joined.\"ORIG_CFS_AREA\" AS \"ORIG_CFS_AREA\", transactions_joined.\"DEST_STATE\" AS \"DEST_STATE\", transactions_joined.\"DEST_MA\" AS \"DEST_MA\", transactions_joined.\"DEST_CFS_AREA\" AS \"DEST_CFS_AREA\", transactions_joined.\"NAICS\" AS \"NAICS\", transactions_joined.\"QUARTER\" AS \"QUARTER\", transactions_joined.\"SCTG\" AS \"SCTG\", transactions_joined.\"MODE\" AS \"MODE\", transactions_joined.\"SHIPMT_VALUE\" AS \"SHIPMT_VALUE\", transactions_joined.\"SHIPMT_WGHT\" AS \"SHIPMT_WGHT\", transactions_joined.\"SHIPMT_DIST_GC\" AS \"SHIPMT_DIST_GC\", transactions_joined.\"SHIPMT_DIST_ROUTED\" AS \"SHIPMT_DIST_ROUTED\", transactions_joined.\"TEMP_CNTL_YN\" AS \"TEMP_CNTL_YN\", transactions_joined.\"EXPORT_YN\" AS \"EXPORT_YN\", transactions_joined.\"EXPORT_CNTRY\" AS \"EXPORT_CNTRY\", transactions_joined.\"HAZMAT\" AS \"HAZMAT\", transactions_joined.\"WGT_FACTOR\" AS \"WGT_FACTOR\", transactions_joined.orig_name AS orig_name, transactions_joined.orig_alpha_code AS orig_alpha_code, transactions_joined.dest_name AS dest_name, transactions_joined.dest_alpha_code AS dest_alpha_code, transactions_joined.orig_lat AS orig_lat, transactions_joined.orig_lon AS orig_lon, transactions_joined.dest_lat AS dest_lat, transactions_joined.dest_lon AS dest_lon \n",
      "FROM transactions_joined \n",
      "WHERE transactions_joined.orig_alpha_code = %(orig_code)s AND transactions_joined.dest_alpha_code = %(dest_code)s) AS anon_1\n"
     ]
    },
    {
     "name": "stdout",
     "output_type": "stream",
     "text": [
      "2016-02-08 21:15:53,893 INFO sqlalchemy.engine.base.Engine {'dest_code': 'WA', 'orig_code': 'TX'}\n"
     ]
    },
    {
     "name": "stderr",
     "output_type": "stream",
     "text": [
      "INFO:sqlalchemy.engine.base.Engine:{'dest_code': 'WA', 'orig_code': 'TX'}\n"
     ]
    },
    {
     "name": "stdout",
     "output_type": "stream",
     "text": [
      "2016-02-08 21:15:53,949 INFO sqlalchemy.engine.base.Engine ROLLBACK\n"
     ]
    },
    {
     "name": "stderr",
     "output_type": "stream",
     "text": [
      "INFO:sqlalchemy.engine.base.Engine:ROLLBACK\n"
     ]
    },
    {
     "ename": "ProgrammingError",
     "evalue": "(psycopg2.ProgrammingError) subquery in FROM must have an alias\nLINE 2: FROM (SELECT transactions_joined.\"SHIPMT_ID\" AS \"SHIPMT_ID\",...\n             ^\nHINT:  For example, FROM (SELECT ...) [AS] foo.\n [SQL: 'SELECT \"SHIPMT_VALUE\" \\nFROM (SELECT transactions_joined.\"SHIPMT_ID\" AS \"SHIPMT_ID\", transactions_joined.\"ORIG_STATE\" AS \"ORIG_STATE\", transactions_joined.\"ORIG_MA\" AS \"ORIG_MA\", transactions_joined.\"ORIG_CFS_AREA\" AS \"ORIG_CFS_AREA\", transactions_joined.\"DEST_STATE\" AS \"DEST_STATE\", transactions_joined.\"DEST_MA\" AS \"DEST_MA\", transactions_joined.\"DEST_CFS_AREA\" AS \"DEST_CFS_AREA\", transactions_joined.\"NAICS\" AS \"NAICS\", transactions_joined.\"QUARTER\" AS \"QUARTER\", transactions_joined.\"SCTG\" AS \"SCTG\", transactions_joined.\"MODE\" AS \"MODE\", transactions_joined.\"SHIPMT_VALUE\" AS \"SHIPMT_VALUE\", transactions_joined.\"SHIPMT_WGHT\" AS \"SHIPMT_WGHT\", transactions_joined.\"SHIPMT_DIST_GC\" AS \"SHIPMT_DIST_GC\", transactions_joined.\"SHIPMT_DIST_ROUTED\" AS \"SHIPMT_DIST_ROUTED\", transactions_joined.\"TEMP_CNTL_YN\" AS \"TEMP_CNTL_YN\", transactions_joined.\"EXPORT_YN\" AS \"EXPORT_YN\", transactions_joined.\"EXPORT_CNTRY\" AS \"EXPORT_CNTRY\", transactions_joined.\"HAZMAT\" AS \"HAZMAT\", transactions_joined.\"WGT_FACTOR\" AS \"WGT_FACTOR\", transactions_joined.orig_name AS orig_name, transactions_joined.orig_alpha_code AS orig_alpha_code, transactions_joined.dest_name AS dest_name, transactions_joined.dest_alpha_code AS dest_alpha_code, transactions_joined.orig_lat AS orig_lat, transactions_joined.orig_lon AS orig_lon, transactions_joined.dest_lat AS dest_lat, transactions_joined.dest_lon AS dest_lon \\nFROM transactions_joined \\nWHERE transactions_joined.orig_alpha_code = %(orig_code)s AND transactions_joined.dest_alpha_code = %(dest_code)s), (SELECT transactions_joined.\"SHIPMT_ID\" AS \"SHIPMT_ID\", transactions_joined.\"ORIG_STATE\" AS \"ORIG_STATE\", transactions_joined.\"ORIG_MA\" AS \"ORIG_MA\", transactions_joined.\"ORIG_CFS_AREA\" AS \"ORIG_CFS_AREA\", transactions_joined.\"DEST_STATE\" AS \"DEST_STATE\", transactions_joined.\"DEST_MA\" AS \"DEST_MA\", transactions_joined.\"DEST_CFS_AREA\" AS \"DEST_CFS_AREA\", transactions_joined.\"NAICS\" AS \"NAICS\", transactions_joined.\"QUARTER\" AS \"QUARTER\", transactions_joined.\"SCTG\" AS \"SCTG\", transactions_joined.\"MODE\" AS \"MODE\", transactions_joined.\"SHIPMT_VALUE\" AS \"SHIPMT_VALUE\", transactions_joined.\"SHIPMT_WGHT\" AS \"SHIPMT_WGHT\", transactions_joined.\"SHIPMT_DIST_GC\" AS \"SHIPMT_DIST_GC\", transactions_joined.\"SHIPMT_DIST_ROUTED\" AS \"SHIPMT_DIST_ROUTED\", transactions_joined.\"TEMP_CNTL_YN\" AS \"TEMP_CNTL_YN\", transactions_joined.\"EXPORT_YN\" AS \"EXPORT_YN\", transactions_joined.\"EXPORT_CNTRY\" AS \"EXPORT_CNTRY\", transactions_joined.\"HAZMAT\" AS \"HAZMAT\", transactions_joined.\"WGT_FACTOR\" AS \"WGT_FACTOR\", transactions_joined.orig_name AS orig_name, transactions_joined.orig_alpha_code AS orig_alpha_code, transactions_joined.dest_name AS dest_name, transactions_joined.dest_alpha_code AS dest_alpha_code, transactions_joined.orig_lat AS orig_lat, transactions_joined.orig_lon AS orig_lon, transactions_joined.dest_lat AS dest_lat, transactions_joined.dest_lon AS dest_lon \\nFROM transactions_joined \\nWHERE transactions_joined.orig_alpha_code = %(orig_code)s AND transactions_joined.dest_alpha_code = %(dest_code)s) AS anon_1'] [parameters: {'dest_code': 'WA', 'orig_code': 'TX'}]",
     "output_type": "error",
     "traceback": [
      "\u001b[0;31m---------------------------------------------------------------------------\u001b[0m",
      "\u001b[0;31mProgrammingError\u001b[0m                          Traceback (most recent call last)",
      "\u001b[0;32m/Users/Sohail/Virtualenvs/machineLearn/lib/python3.4/site-packages/sqlalchemy/engine/base.py\u001b[0m in \u001b[0;36m_execute_context\u001b[0;34m(self, dialect, constructor, statement, parameters, *args)\u001b[0m\n\u001b[1;32m   1138\u001b[0m                         \u001b[0mparameters\u001b[0m\u001b[0;34m,\u001b[0m\u001b[0;34m\u001b[0m\u001b[0m\n\u001b[0;32m-> 1139\u001b[0;31m                         context)\n\u001b[0m\u001b[1;32m   1140\u001b[0m         \u001b[0;32mexcept\u001b[0m \u001b[0mException\u001b[0m \u001b[0;32mas\u001b[0m \u001b[0me\u001b[0m\u001b[0;34m:\u001b[0m\u001b[0;34m\u001b[0m\u001b[0m\n",
      "\u001b[0;32m/Users/Sohail/Virtualenvs/machineLearn/lib/python3.4/site-packages/sqlalchemy/engine/default.py\u001b[0m in \u001b[0;36mdo_execute\u001b[0;34m(self, cursor, statement, parameters, context)\u001b[0m\n\u001b[1;32m    449\u001b[0m     \u001b[0;32mdef\u001b[0m \u001b[0mdo_execute\u001b[0m\u001b[0;34m(\u001b[0m\u001b[0mself\u001b[0m\u001b[0;34m,\u001b[0m \u001b[0mcursor\u001b[0m\u001b[0;34m,\u001b[0m \u001b[0mstatement\u001b[0m\u001b[0;34m,\u001b[0m \u001b[0mparameters\u001b[0m\u001b[0;34m,\u001b[0m \u001b[0mcontext\u001b[0m\u001b[0;34m=\u001b[0m\u001b[0;32mNone\u001b[0m\u001b[0;34m)\u001b[0m\u001b[0;34m:\u001b[0m\u001b[0;34m\u001b[0m\u001b[0m\n\u001b[0;32m--> 450\u001b[0;31m         \u001b[0mcursor\u001b[0m\u001b[0;34m.\u001b[0m\u001b[0mexecute\u001b[0m\u001b[0;34m(\u001b[0m\u001b[0mstatement\u001b[0m\u001b[0;34m,\u001b[0m \u001b[0mparameters\u001b[0m\u001b[0;34m)\u001b[0m\u001b[0;34m\u001b[0m\u001b[0m\n\u001b[0m\u001b[1;32m    451\u001b[0m \u001b[0;34m\u001b[0m\u001b[0m\n",
      "\u001b[0;31mProgrammingError\u001b[0m: subquery in FROM must have an alias\nLINE 2: FROM (SELECT transactions_joined.\"SHIPMT_ID\" AS \"SHIPMT_ID\",...\n             ^\nHINT:  For example, FROM (SELECT ...) [AS] foo.\n",
      "\nThe above exception was the direct cause of the following exception:\n",
      "\u001b[0;31mProgrammingError\u001b[0m                          Traceback (most recent call last)",
      "\u001b[0;32m<ipython-input-62-3de012f30cdb>\u001b[0m in \u001b[0;36m<module>\u001b[0;34m()\u001b[0m\n\u001b[0;32m----> 1\u001b[0;31m \u001b[0mget_rows\u001b[0m\u001b[0;34m(\u001b[0m\u001b[0mconn\u001b[0m\u001b[0;34m.\u001b[0m\u001b[0mexecute\u001b[0m\u001b[0;34m(\u001b[0m\u001b[0mstmt\u001b[0m\u001b[0;34m,\u001b[0m \u001b[0morig_code\u001b[0m\u001b[0;34m=\u001b[0m\u001b[0;34m\"TX\"\u001b[0m\u001b[0;34m,\u001b[0m \u001b[0mdest_code\u001b[0m\u001b[0;34m=\u001b[0m\u001b[0;34m\"WA\"\u001b[0m\u001b[0;34m)\u001b[0m\u001b[0;34m.\u001b[0m\u001b[0mfetchall\u001b[0m\u001b[0;34m(\u001b[0m\u001b[0;34m)\u001b[0m\u001b[0;34m)\u001b[0m\u001b[0;34m\u001b[0m\u001b[0m\n\u001b[0m",
      "\u001b[0;32m/Users/Sohail/Virtualenvs/machineLearn/lib/python3.4/site-packages/sqlalchemy/engine/base.py\u001b[0m in \u001b[0;36mexecute\u001b[0;34m(self, object, *multiparams, **params)\u001b[0m\n\u001b[1;32m    912\u001b[0m                 type(object))\n\u001b[1;32m    913\u001b[0m         \u001b[0;32melse\u001b[0m\u001b[0;34m:\u001b[0m\u001b[0;34m\u001b[0m\u001b[0m\n\u001b[0;32m--> 914\u001b[0;31m             \u001b[0;32mreturn\u001b[0m \u001b[0mmeth\u001b[0m\u001b[0;34m(\u001b[0m\u001b[0mself\u001b[0m\u001b[0;34m,\u001b[0m \u001b[0mmultiparams\u001b[0m\u001b[0;34m,\u001b[0m \u001b[0mparams\u001b[0m\u001b[0;34m)\u001b[0m\u001b[0;34m\u001b[0m\u001b[0m\n\u001b[0m\u001b[1;32m    915\u001b[0m \u001b[0;34m\u001b[0m\u001b[0m\n\u001b[1;32m    916\u001b[0m     \u001b[0;32mdef\u001b[0m \u001b[0m_execute_function\u001b[0m\u001b[0;34m(\u001b[0m\u001b[0mself\u001b[0m\u001b[0;34m,\u001b[0m \u001b[0mfunc\u001b[0m\u001b[0;34m,\u001b[0m \u001b[0mmultiparams\u001b[0m\u001b[0;34m,\u001b[0m \u001b[0mparams\u001b[0m\u001b[0;34m)\u001b[0m\u001b[0;34m:\u001b[0m\u001b[0;34m\u001b[0m\u001b[0m\n",
      "\u001b[0;32m/Users/Sohail/Virtualenvs/machineLearn/lib/python3.4/site-packages/sqlalchemy/sql/elements.py\u001b[0m in \u001b[0;36m_execute_on_connection\u001b[0;34m(self, connection, multiparams, params)\u001b[0m\n\u001b[1;32m    321\u001b[0m \u001b[0;34m\u001b[0m\u001b[0m\n\u001b[1;32m    322\u001b[0m     \u001b[0;32mdef\u001b[0m \u001b[0m_execute_on_connection\u001b[0m\u001b[0;34m(\u001b[0m\u001b[0mself\u001b[0m\u001b[0;34m,\u001b[0m \u001b[0mconnection\u001b[0m\u001b[0;34m,\u001b[0m \u001b[0mmultiparams\u001b[0m\u001b[0;34m,\u001b[0m \u001b[0mparams\u001b[0m\u001b[0;34m)\u001b[0m\u001b[0;34m:\u001b[0m\u001b[0;34m\u001b[0m\u001b[0m\n\u001b[0;32m--> 323\u001b[0;31m         \u001b[0;32mreturn\u001b[0m \u001b[0mconnection\u001b[0m\u001b[0;34m.\u001b[0m\u001b[0m_execute_clauseelement\u001b[0m\u001b[0;34m(\u001b[0m\u001b[0mself\u001b[0m\u001b[0;34m,\u001b[0m \u001b[0mmultiparams\u001b[0m\u001b[0;34m,\u001b[0m \u001b[0mparams\u001b[0m\u001b[0;34m)\u001b[0m\u001b[0;34m\u001b[0m\u001b[0m\n\u001b[0m\u001b[1;32m    324\u001b[0m \u001b[0;34m\u001b[0m\u001b[0m\n\u001b[1;32m    325\u001b[0m     \u001b[0;32mdef\u001b[0m \u001b[0munique_params\u001b[0m\u001b[0;34m(\u001b[0m\u001b[0mself\u001b[0m\u001b[0;34m,\u001b[0m \u001b[0;34m*\u001b[0m\u001b[0moptionaldict\u001b[0m\u001b[0;34m,\u001b[0m \u001b[0;34m**\u001b[0m\u001b[0mkwargs\u001b[0m\u001b[0;34m)\u001b[0m\u001b[0;34m:\u001b[0m\u001b[0;34m\u001b[0m\u001b[0m\n",
      "\u001b[0;32m/Users/Sohail/Virtualenvs/machineLearn/lib/python3.4/site-packages/sqlalchemy/engine/base.py\u001b[0m in \u001b[0;36m_execute_clauseelement\u001b[0;34m(self, elem, multiparams, params)\u001b[0m\n\u001b[1;32m   1008\u001b[0m             \u001b[0mcompiled_sql\u001b[0m\u001b[0;34m,\u001b[0m\u001b[0;34m\u001b[0m\u001b[0m\n\u001b[1;32m   1009\u001b[0m             \u001b[0mdistilled_params\u001b[0m\u001b[0;34m,\u001b[0m\u001b[0;34m\u001b[0m\u001b[0m\n\u001b[0;32m-> 1010\u001b[0;31m             \u001b[0mcompiled_sql\u001b[0m\u001b[0;34m,\u001b[0m \u001b[0mdistilled_params\u001b[0m\u001b[0;34m\u001b[0m\u001b[0m\n\u001b[0m\u001b[1;32m   1011\u001b[0m         )\n\u001b[1;32m   1012\u001b[0m         \u001b[0;32mif\u001b[0m \u001b[0mself\u001b[0m\u001b[0;34m.\u001b[0m\u001b[0m_has_events\u001b[0m \u001b[0;32mor\u001b[0m \u001b[0mself\u001b[0m\u001b[0;34m.\u001b[0m\u001b[0mengine\u001b[0m\u001b[0;34m.\u001b[0m\u001b[0m_has_events\u001b[0m\u001b[0;34m:\u001b[0m\u001b[0;34m\u001b[0m\u001b[0m\n",
      "\u001b[0;32m/Users/Sohail/Virtualenvs/machineLearn/lib/python3.4/site-packages/sqlalchemy/engine/base.py\u001b[0m in \u001b[0;36m_execute_context\u001b[0;34m(self, dialect, constructor, statement, parameters, *args)\u001b[0m\n\u001b[1;32m   1144\u001b[0m                 \u001b[0mparameters\u001b[0m\u001b[0;34m,\u001b[0m\u001b[0;34m\u001b[0m\u001b[0m\n\u001b[1;32m   1145\u001b[0m                 \u001b[0mcursor\u001b[0m\u001b[0;34m,\u001b[0m\u001b[0;34m\u001b[0m\u001b[0m\n\u001b[0;32m-> 1146\u001b[0;31m                 context)\n\u001b[0m\u001b[1;32m   1147\u001b[0m \u001b[0;34m\u001b[0m\u001b[0m\n\u001b[1;32m   1148\u001b[0m         \u001b[0;32mif\u001b[0m \u001b[0mself\u001b[0m\u001b[0;34m.\u001b[0m\u001b[0m_has_events\u001b[0m \u001b[0;32mor\u001b[0m \u001b[0mself\u001b[0m\u001b[0;34m.\u001b[0m\u001b[0mengine\u001b[0m\u001b[0;34m.\u001b[0m\u001b[0m_has_events\u001b[0m\u001b[0;34m:\u001b[0m\u001b[0;34m\u001b[0m\u001b[0m\n",
      "\u001b[0;32m/Users/Sohail/Virtualenvs/machineLearn/lib/python3.4/site-packages/sqlalchemy/engine/base.py\u001b[0m in \u001b[0;36m_handle_dbapi_exception\u001b[0;34m(self, e, statement, parameters, cursor, context)\u001b[0m\n\u001b[1;32m   1339\u001b[0m                 util.raise_from_cause(\n\u001b[1;32m   1340\u001b[0m                     \u001b[0msqlalchemy_exception\u001b[0m\u001b[0;34m,\u001b[0m\u001b[0;34m\u001b[0m\u001b[0m\n\u001b[0;32m-> 1341\u001b[0;31m                     \u001b[0mexc_info\u001b[0m\u001b[0;34m\u001b[0m\u001b[0m\n\u001b[0m\u001b[1;32m   1342\u001b[0m                 )\n\u001b[1;32m   1343\u001b[0m             \u001b[0;32melse\u001b[0m\u001b[0;34m:\u001b[0m\u001b[0;34m\u001b[0m\u001b[0m\n",
      "\u001b[0;32m/Users/Sohail/Virtualenvs/machineLearn/lib/python3.4/site-packages/sqlalchemy/util/compat.py\u001b[0m in \u001b[0;36mraise_from_cause\u001b[0;34m(exception, exc_info)\u001b[0m\n\u001b[1;32m    186\u001b[0m             \u001b[0mexc_info\u001b[0m \u001b[0;34m=\u001b[0m \u001b[0msys\u001b[0m\u001b[0;34m.\u001b[0m\u001b[0mexc_info\u001b[0m\u001b[0;34m(\u001b[0m\u001b[0;34m)\u001b[0m\u001b[0;34m\u001b[0m\u001b[0m\n\u001b[1;32m    187\u001b[0m         \u001b[0mexc_type\u001b[0m\u001b[0;34m,\u001b[0m \u001b[0mexc_value\u001b[0m\u001b[0;34m,\u001b[0m \u001b[0mexc_tb\u001b[0m \u001b[0;34m=\u001b[0m \u001b[0mexc_info\u001b[0m\u001b[0;34m\u001b[0m\u001b[0m\n\u001b[0;32m--> 188\u001b[0;31m         \u001b[0mreraise\u001b[0m\u001b[0;34m(\u001b[0m\u001b[0mtype\u001b[0m\u001b[0;34m(\u001b[0m\u001b[0mexception\u001b[0m\u001b[0;34m)\u001b[0m\u001b[0;34m,\u001b[0m \u001b[0mexception\u001b[0m\u001b[0;34m,\u001b[0m \u001b[0mtb\u001b[0m\u001b[0;34m=\u001b[0m\u001b[0mexc_tb\u001b[0m\u001b[0;34m,\u001b[0m \u001b[0mcause\u001b[0m\u001b[0;34m=\u001b[0m\u001b[0mexc_value\u001b[0m\u001b[0;34m)\u001b[0m\u001b[0;34m\u001b[0m\u001b[0m\n\u001b[0m\u001b[1;32m    189\u001b[0m \u001b[0;32melse\u001b[0m\u001b[0;34m:\u001b[0m\u001b[0;34m\u001b[0m\u001b[0m\n\u001b[1;32m    190\u001b[0m     exec(\"def reraise(tp, value, tb=None, cause=None):\\n\"\n",
      "\u001b[0;32m/Users/Sohail/Virtualenvs/machineLearn/lib/python3.4/site-packages/sqlalchemy/util/compat.py\u001b[0m in \u001b[0;36mreraise\u001b[0;34m(tp, value, tb, cause)\u001b[0m\n\u001b[1;32m    179\u001b[0m             \u001b[0mvalue\u001b[0m\u001b[0;34m.\u001b[0m\u001b[0m__cause__\u001b[0m \u001b[0;34m=\u001b[0m \u001b[0mcause\u001b[0m\u001b[0;34m\u001b[0m\u001b[0m\n\u001b[1;32m    180\u001b[0m         \u001b[0;32mif\u001b[0m \u001b[0mvalue\u001b[0m\u001b[0;34m.\u001b[0m\u001b[0m__traceback__\u001b[0m \u001b[0;32mis\u001b[0m \u001b[0;32mnot\u001b[0m \u001b[0mtb\u001b[0m\u001b[0;34m:\u001b[0m\u001b[0;34m\u001b[0m\u001b[0m\n\u001b[0;32m--> 181\u001b[0;31m             \u001b[0;32mraise\u001b[0m \u001b[0mvalue\u001b[0m\u001b[0;34m.\u001b[0m\u001b[0mwith_traceback\u001b[0m\u001b[0;34m(\u001b[0m\u001b[0mtb\u001b[0m\u001b[0;34m)\u001b[0m\u001b[0;34m\u001b[0m\u001b[0m\n\u001b[0m\u001b[1;32m    182\u001b[0m         \u001b[0;32mraise\u001b[0m \u001b[0mvalue\u001b[0m\u001b[0;34m\u001b[0m\u001b[0m\n\u001b[1;32m    183\u001b[0m \u001b[0;34m\u001b[0m\u001b[0m\n",
      "\u001b[0;32m/Users/Sohail/Virtualenvs/machineLearn/lib/python3.4/site-packages/sqlalchemy/engine/base.py\u001b[0m in \u001b[0;36m_execute_context\u001b[0;34m(self, dialect, constructor, statement, parameters, *args)\u001b[0m\n\u001b[1;32m   1137\u001b[0m                         \u001b[0mstatement\u001b[0m\u001b[0;34m,\u001b[0m\u001b[0;34m\u001b[0m\u001b[0m\n\u001b[1;32m   1138\u001b[0m                         \u001b[0mparameters\u001b[0m\u001b[0;34m,\u001b[0m\u001b[0;34m\u001b[0m\u001b[0m\n\u001b[0;32m-> 1139\u001b[0;31m                         context)\n\u001b[0m\u001b[1;32m   1140\u001b[0m         \u001b[0;32mexcept\u001b[0m \u001b[0mException\u001b[0m \u001b[0;32mas\u001b[0m \u001b[0me\u001b[0m\u001b[0;34m:\u001b[0m\u001b[0;34m\u001b[0m\u001b[0m\n\u001b[1;32m   1141\u001b[0m             self._handle_dbapi_exception(\n",
      "\u001b[0;32m/Users/Sohail/Virtualenvs/machineLearn/lib/python3.4/site-packages/sqlalchemy/engine/default.py\u001b[0m in \u001b[0;36mdo_execute\u001b[0;34m(self, cursor, statement, parameters, context)\u001b[0m\n\u001b[1;32m    448\u001b[0m \u001b[0;34m\u001b[0m\u001b[0m\n\u001b[1;32m    449\u001b[0m     \u001b[0;32mdef\u001b[0m \u001b[0mdo_execute\u001b[0m\u001b[0;34m(\u001b[0m\u001b[0mself\u001b[0m\u001b[0;34m,\u001b[0m \u001b[0mcursor\u001b[0m\u001b[0;34m,\u001b[0m \u001b[0mstatement\u001b[0m\u001b[0;34m,\u001b[0m \u001b[0mparameters\u001b[0m\u001b[0;34m,\u001b[0m \u001b[0mcontext\u001b[0m\u001b[0;34m=\u001b[0m\u001b[0;32mNone\u001b[0m\u001b[0;34m)\u001b[0m\u001b[0;34m:\u001b[0m\u001b[0;34m\u001b[0m\u001b[0m\n\u001b[0;32m--> 450\u001b[0;31m         \u001b[0mcursor\u001b[0m\u001b[0;34m.\u001b[0m\u001b[0mexecute\u001b[0m\u001b[0;34m(\u001b[0m\u001b[0mstatement\u001b[0m\u001b[0;34m,\u001b[0m \u001b[0mparameters\u001b[0m\u001b[0;34m)\u001b[0m\u001b[0;34m\u001b[0m\u001b[0m\n\u001b[0m\u001b[1;32m    451\u001b[0m \u001b[0;34m\u001b[0m\u001b[0m\n\u001b[1;32m    452\u001b[0m     \u001b[0;32mdef\u001b[0m \u001b[0mdo_execute_no_params\u001b[0m\u001b[0;34m(\u001b[0m\u001b[0mself\u001b[0m\u001b[0;34m,\u001b[0m \u001b[0mcursor\u001b[0m\u001b[0;34m,\u001b[0m \u001b[0mstatement\u001b[0m\u001b[0;34m,\u001b[0m \u001b[0mcontext\u001b[0m\u001b[0;34m=\u001b[0m\u001b[0;32mNone\u001b[0m\u001b[0;34m)\u001b[0m\u001b[0;34m:\u001b[0m\u001b[0;34m\u001b[0m\u001b[0m\n",
      "\u001b[0;31mProgrammingError\u001b[0m: (psycopg2.ProgrammingError) subquery in FROM must have an alias\nLINE 2: FROM (SELECT transactions_joined.\"SHIPMT_ID\" AS \"SHIPMT_ID\",...\n             ^\nHINT:  For example, FROM (SELECT ...) [AS] foo.\n [SQL: 'SELECT \"SHIPMT_VALUE\" \\nFROM (SELECT transactions_joined.\"SHIPMT_ID\" AS \"SHIPMT_ID\", transactions_joined.\"ORIG_STATE\" AS \"ORIG_STATE\", transactions_joined.\"ORIG_MA\" AS \"ORIG_MA\", transactions_joined.\"ORIG_CFS_AREA\" AS \"ORIG_CFS_AREA\", transactions_joined.\"DEST_STATE\" AS \"DEST_STATE\", transactions_joined.\"DEST_MA\" AS \"DEST_MA\", transactions_joined.\"DEST_CFS_AREA\" AS \"DEST_CFS_AREA\", transactions_joined.\"NAICS\" AS \"NAICS\", transactions_joined.\"QUARTER\" AS \"QUARTER\", transactions_joined.\"SCTG\" AS \"SCTG\", transactions_joined.\"MODE\" AS \"MODE\", transactions_joined.\"SHIPMT_VALUE\" AS \"SHIPMT_VALUE\", transactions_joined.\"SHIPMT_WGHT\" AS \"SHIPMT_WGHT\", transactions_joined.\"SHIPMT_DIST_GC\" AS \"SHIPMT_DIST_GC\", transactions_joined.\"SHIPMT_DIST_ROUTED\" AS \"SHIPMT_DIST_ROUTED\", transactions_joined.\"TEMP_CNTL_YN\" AS \"TEMP_CNTL_YN\", transactions_joined.\"EXPORT_YN\" AS \"EXPORT_YN\", transactions_joined.\"EXPORT_CNTRY\" AS \"EXPORT_CNTRY\", transactions_joined.\"HAZMAT\" AS \"HAZMAT\", transactions_joined.\"WGT_FACTOR\" AS \"WGT_FACTOR\", transactions_joined.orig_name AS orig_name, transactions_joined.orig_alpha_code AS orig_alpha_code, transactions_joined.dest_name AS dest_name, transactions_joined.dest_alpha_code AS dest_alpha_code, transactions_joined.orig_lat AS orig_lat, transactions_joined.orig_lon AS orig_lon, transactions_joined.dest_lat AS dest_lat, transactions_joined.dest_lon AS dest_lon \\nFROM transactions_joined \\nWHERE transactions_joined.orig_alpha_code = %(orig_code)s AND transactions_joined.dest_alpha_code = %(dest_code)s), (SELECT transactions_joined.\"SHIPMT_ID\" AS \"SHIPMT_ID\", transactions_joined.\"ORIG_STATE\" AS \"ORIG_STATE\", transactions_joined.\"ORIG_MA\" AS \"ORIG_MA\", transactions_joined.\"ORIG_CFS_AREA\" AS \"ORIG_CFS_AREA\", transactions_joined.\"DEST_STATE\" AS \"DEST_STATE\", transactions_joined.\"DEST_MA\" AS \"DEST_MA\", transactions_joined.\"DEST_CFS_AREA\" AS \"DEST_CFS_AREA\", transactions_joined.\"NAICS\" AS \"NAICS\", transactions_joined.\"QUARTER\" AS \"QUARTER\", transactions_joined.\"SCTG\" AS \"SCTG\", transactions_joined.\"MODE\" AS \"MODE\", transactions_joined.\"SHIPMT_VALUE\" AS \"SHIPMT_VALUE\", transactions_joined.\"SHIPMT_WGHT\" AS \"SHIPMT_WGHT\", transactions_joined.\"SHIPMT_DIST_GC\" AS \"SHIPMT_DIST_GC\", transactions_joined.\"SHIPMT_DIST_ROUTED\" AS \"SHIPMT_DIST_ROUTED\", transactions_joined.\"TEMP_CNTL_YN\" AS \"TEMP_CNTL_YN\", transactions_joined.\"EXPORT_YN\" AS \"EXPORT_YN\", transactions_joined.\"EXPORT_CNTRY\" AS \"EXPORT_CNTRY\", transactions_joined.\"HAZMAT\" AS \"HAZMAT\", transactions_joined.\"WGT_FACTOR\" AS \"WGT_FACTOR\", transactions_joined.orig_name AS orig_name, transactions_joined.orig_alpha_code AS orig_alpha_code, transactions_joined.dest_name AS dest_name, transactions_joined.dest_alpha_code AS dest_alpha_code, transactions_joined.orig_lat AS orig_lat, transactions_joined.orig_lon AS orig_lon, transactions_joined.dest_lat AS dest_lat, transactions_joined.dest_lon AS dest_lon \\nFROM transactions_joined \\nWHERE transactions_joined.orig_alpha_code = %(orig_code)s AND transactions_joined.dest_alpha_code = %(dest_code)s) AS anon_1'] [parameters: {'dest_code': 'WA', 'orig_code': 'TX'}]"
     ]
    }
   ],
   "source": [
    "get_rows(conn.execute(stmt, orig_code=\"TX\", dest_code=\"WA\").fetchall())"
   ]
  },
  {
   "cell_type": "markdown",
   "metadata": {},
   "source": [
    "##### Controlling correlations\n",
    "\n",
    "You can use the correlate method to control the behavior of correlations"
   ]
  },
  {
   "cell_type": "code",
   "execution_count": null,
   "metadata": {
    "collapsed": true
   },
   "outputs": [],
   "source": []
  },
  {
   "cell_type": "code",
   "execution_count": 63,
   "metadata": {
    "collapsed": false
   },
   "outputs": [],
   "source": [
    "import json"
   ]
  },
  {
   "cell_type": "markdown",
   "metadata": {},
   "source": [
    "Now you can export to a json file for a temporary data file"
   ]
  },
  {
   "cell_type": "code",
   "execution_count": 64,
   "metadata": {
    "collapsed": false,
    "scrolled": true
   },
   "outputs": [],
   "source": [
    "#with open('app/testdata.json', 'w') as f:\n",
    "#    f.write((json.dumps(list_of_dicts, indent=2, separators=(',', ':'))))"
   ]
  },
  {
   "cell_type": "code",
   "execution_count": 65,
   "metadata": {
    "collapsed": false
   },
   "outputs": [],
   "source": [
    "c = case([(transactions.c['ORIG_STATE']==transactions.c['DEST_STATE'], True)], else_=False)"
   ]
  },
  {
   "cell_type": "code",
   "execution_count": 66,
   "metadata": {
    "collapsed": false
   },
   "outputs": [],
   "source": [
    "s = select([transactions]).where(c).limit(10);"
   ]
  },
  {
   "cell_type": "code",
   "execution_count": 67,
   "metadata": {
    "collapsed": false
   },
   "outputs": [
    {
     "name": "stdout",
     "output_type": "stream",
     "text": [
      "2016-02-08 21:16:29,335 INFO sqlalchemy.engine.base.Engine SELECT transactions.\"SHIPMT_ID\", transactions.\"ORIG_STATE\", transactions.\"ORIG_MA\", transactions.\"ORIG_CFS_AREA\", transactions.\"DEST_STATE\", transactions.\"DEST_MA\", transactions.\"DEST_CFS_AREA\", transactions.\"NAICS\", transactions.\"QUARTER\", transactions.\"SCTG\", transactions.\"MODE\", transactions.\"SHIPMT_VALUE\", transactions.\"SHIPMT_WGHT\", transactions.\"SHIPMT_DIST_GC\", transactions.\"SHIPMT_DIST_ROUTED\", transactions.\"TEMP_CNTL_YN\", transactions.\"EXPORT_YN\", transactions.\"EXPORT_CNTRY\", transactions.\"HAZMAT\", transactions.\"WGT_FACTOR\" \n",
      "FROM transactions \n",
      "WHERE CASE WHEN (transactions.\"ORIG_STATE\" = transactions.\"DEST_STATE\") THEN %(param_1)s ELSE %(param_2)s END \n",
      " LIMIT %(param_3)s\n"
     ]
    },
    {
     "name": "stderr",
     "output_type": "stream",
     "text": [
      "INFO:sqlalchemy.engine.base.Engine:SELECT transactions.\"SHIPMT_ID\", transactions.\"ORIG_STATE\", transactions.\"ORIG_MA\", transactions.\"ORIG_CFS_AREA\", transactions.\"DEST_STATE\", transactions.\"DEST_MA\", transactions.\"DEST_CFS_AREA\", transactions.\"NAICS\", transactions.\"QUARTER\", transactions.\"SCTG\", transactions.\"MODE\", transactions.\"SHIPMT_VALUE\", transactions.\"SHIPMT_WGHT\", transactions.\"SHIPMT_DIST_GC\", transactions.\"SHIPMT_DIST_ROUTED\", transactions.\"TEMP_CNTL_YN\", transactions.\"EXPORT_YN\", transactions.\"EXPORT_CNTRY\", transactions.\"HAZMAT\", transactions.\"WGT_FACTOR\" \n",
      "FROM transactions \n",
      "WHERE CASE WHEN (transactions.\"ORIG_STATE\" = transactions.\"DEST_STATE\") THEN %(param_1)s ELSE %(param_2)s END \n",
      " LIMIT %(param_3)s\n"
     ]
    },
    {
     "name": "stdout",
     "output_type": "stream",
     "text": [
      "2016-02-08 21:16:29,337 INFO sqlalchemy.engine.base.Engine {'param_1': True, 'param_2': False, 'param_3': 10}\n"
     ]
    },
    {
     "name": "stderr",
     "output_type": "stream",
     "text": [
      "INFO:sqlalchemy.engine.base.Engine:{'param_1': True, 'param_2': False, 'param_3': 10}\n"
     ]
    },
    {
     "name": "stdout",
     "output_type": "stream",
     "text": [
      "{'HAZMAT': 'N', 'ORIG_MA': 148, 'SHIPMT_DIST_ROUTED': 17, 'SHIPMT_VALUE': 2178, 'MODE': 14, 'SHIPMT_DIST_GC': 14, 'ORIG_STATE': 25, 'ORIG_CFS_AREA': '25-148', 'SHIPMT_WGHT': 11, 'SCTG': '35', 'WGT_FACTOR': 208.5, 'SHIPMT_ID': 1, 'EXPORT_CNTRY': 'N', 'TEMP_CNTL_YN': 'N', 'DEST_STATE': 25, 'NAICS': 333, 'QUARTER': 2, 'DEST_CFS_AREA': '25-148', 'DEST_MA': 148, 'EXPORT_YN': 'N'}\n",
      "{'HAZMAT': 'N', 'ORIG_MA': 556, 'SHIPMT_DIST_ROUTED': 3, 'SHIPMT_VALUE': 116, 'MODE': 4, 'SHIPMT_DIST_GC': 3, 'ORIG_STATE': 20, 'ORIG_CFS_AREA': '20-556', 'SHIPMT_WGHT': 6, 'SCTG': '29', 'WGT_FACTOR': 238.7, 'SHIPMT_ID': 4, 'EXPORT_CNTRY': 'N', 'TEMP_CNTL_YN': 'N', 'DEST_STATE': 20, 'NAICS': 323, 'QUARTER': 1, 'DEST_CFS_AREA': '20-556', 'DEST_MA': 556, 'EXPORT_YN': 'N'}\n",
      "{'HAZMAT': 'N', 'ORIG_MA': 99999, 'SHIPMT_DIST_ROUTED': 201, 'SHIPMT_VALUE': 388, 'MODE': 5, 'SHIPMT_DIST_GC': 124, 'ORIG_STATE': 12, 'ORIG_CFS_AREA': '12-99999', 'SHIPMT_WGHT': 527, 'SCTG': '33', 'WGT_FACTOR': 398.1, 'SHIPMT_ID': 5, 'EXPORT_CNTRY': 'N', 'TEMP_CNTL_YN': 'N', 'DEST_STATE': 12, 'NAICS': 4235, 'QUARTER': 3, 'DEST_CFS_AREA': '12-99999', 'DEST_MA': 99999, 'EXPORT_YN': 'N'}\n",
      "{'HAZMAT': 'N', 'ORIG_MA': 99999, 'SHIPMT_DIST_ROUTED': 22, 'SHIPMT_VALUE': 43738, 'MODE': 5, 'SHIPMT_DIST_GC': 16, 'ORIG_STATE': 19, 'ORIG_CFS_AREA': '19-99999', 'SHIPMT_WGHT': 13501, 'SCTG': '26', 'WGT_FACTOR': 310.5, 'SHIPMT_ID': 7, 'EXPORT_CNTRY': 'N', 'TEMP_CNTL_YN': 'N', 'DEST_STATE': 19, 'NAICS': 337, 'QUARTER': 3, 'DEST_CFS_AREA': '19-99999', 'DEST_MA': 99999, 'EXPORT_YN': 'N'}\n",
      "{'HAZMAT': 'N', 'ORIG_MA': 41740, 'SHIPMT_DIST_ROUTED': 306, 'SHIPMT_VALUE': 77, 'MODE': 14, 'SHIPMT_DIST_GC': 272, 'ORIG_STATE': 6, 'ORIG_CFS_AREA': '06-41740', 'SHIPMT_WGHT': 4, 'SCTG': '40', 'WGT_FACTOR': 138.5, 'SHIPMT_ID': 8, 'EXPORT_CNTRY': 'N', 'TEMP_CNTL_YN': 'N', 'DEST_STATE': 6, 'NAICS': 4239, 'QUARTER': 1, 'DEST_CFS_AREA': '06-99999', 'DEST_MA': 99999, 'EXPORT_YN': 'N'}\n",
      "{'HAZMAT': 'N', 'ORIG_MA': 99999, 'SHIPMT_DIST_ROUTED': 15, 'SHIPMT_VALUE': 338, 'MODE': 5, 'SHIPMT_DIST_GC': 10, 'ORIG_STATE': 19, 'ORIG_CFS_AREA': '19-99999', 'SHIPMT_WGHT': 12826, 'SCTG': '31', 'WGT_FACTOR': 2695.9, 'SHIPMT_ID': 9, 'EXPORT_CNTRY': 'N', 'TEMP_CNTL_YN': 'N', 'DEST_STATE': 19, 'NAICS': 327, 'QUARTER': 3, 'DEST_CFS_AREA': '19-99999', 'DEST_MA': 99999, 'EXPORT_YN': 'N'}\n",
      "{'HAZMAT': 'N', 'ORIG_MA': 99999, 'SHIPMT_DIST_ROUTED': 28, 'SHIPMT_VALUE': 145, 'MODE': 5, 'SHIPMT_DIST_GC': 21, 'ORIG_STATE': 13, 'ORIG_CFS_AREA': '13-99999', 'SHIPMT_WGHT': 22, 'SCTG': '34', 'WGT_FACTOR': 489.1, 'SHIPMT_ID': 10, 'EXPORT_CNTRY': 'N', 'TEMP_CNTL_YN': 'N', 'DEST_STATE': 13, 'NAICS': 4237, 'QUARTER': 2, 'DEST_CFS_AREA': '13-99999', 'DEST_MA': 99999, 'EXPORT_YN': 'N'}\n",
      "{'HAZMAT': 'N', 'ORIG_MA': 99999, 'SHIPMT_DIST_ROUTED': 14, 'SHIPMT_VALUE': 1422, 'MODE': 4, 'SHIPMT_DIST_GC': 14, 'ORIG_STATE': 31, 'ORIG_CFS_AREA': '31-99999', 'SHIPMT_WGHT': 49037, 'SCTG': '04', 'WGT_FACTOR': 535.2, 'SHIPMT_ID': 14, 'EXPORT_CNTRY': 'N', 'TEMP_CNTL_YN': 'N', 'DEST_STATE': 31, 'NAICS': 325, 'QUARTER': 1, 'DEST_CFS_AREA': '31-99999', 'DEST_MA': 99999, 'EXPORT_YN': 'N'}\n",
      "{'HAZMAT': 'N', 'ORIG_MA': 99999, 'SHIPMT_DIST_ROUTED': 66, 'SHIPMT_VALUE': 283, 'MODE': 14, 'SHIPMT_DIST_GC': 57, 'ORIG_STATE': 39, 'ORIG_CFS_AREA': '39-99999', 'SHIPMT_WGHT': 30, 'SCTG': '36', 'WGT_FACTOR': 41.1, 'SHIPMT_ID': 16, 'EXPORT_CNTRY': 'N', 'TEMP_CNTL_YN': 'N', 'DEST_STATE': 39, 'NAICS': 339, 'QUARTER': 4, 'DEST_CFS_AREA': '39-198', 'DEST_MA': 198, 'EXPORT_YN': 'N'}\n",
      "{'HAZMAT': 'N', 'ORIG_MA': 172, 'SHIPMT_DIST_ROUTED': 106, 'SHIPMT_VALUE': 63, 'MODE': 14, 'SHIPMT_DIST_GC': 92, 'ORIG_STATE': 37, 'ORIG_CFS_AREA': '37-172', 'SHIPMT_WGHT': 3, 'SCTG': '30', 'WGT_FACTOR': 320.7, 'SHIPMT_ID': 24, 'EXPORT_CNTRY': 'N', 'TEMP_CNTL_YN': 'N', 'DEST_STATE': 37, 'NAICS': 315, 'QUARTER': 4, 'DEST_CFS_AREA': '37-268', 'DEST_MA': 268, 'EXPORT_YN': 'N'}\n"
     ]
    }
   ],
   "source": [
    "for i in get_rows(conn.execute(s).fetchall()):\n",
    "    print(i)"
   ]
  },
  {
   "cell_type": "markdown",
   "metadata": {},
   "source": [
    "Data structure\n",
    "\n",
    "{orig_state_code:\n",
    " dest_state_code:\n",
    " orig_coords:\n",
    " dest_coords:\n",
    "}"
   ]
  },
  {
   "cell_type": "code",
   "execution_count": 68,
   "metadata": {
    "collapsed": false
   },
   "outputs": [
    {
     "name": "stdout",
     "output_type": "stream",
     "text": [
      "2016-02-08 21:16:56,732 INFO sqlalchemy.engine.base.Engine \n",
      "    SELECT \n",
      "        fips.\"Name\" as state_name,\n",
      "        fips.\"Numeric code\" as numeric_code,\n",
      "        state_coords.latitude as lat,\n",
      "        state_coords.longitude as long\n",
      "    FROM \"FIPS_States\" fips\n",
      "    JOIN \"state_latlon\" state_coords\n",
      "    ON state_coords.state = fips.\"Alpha code\"\n",
      "    \n"
     ]
    },
    {
     "name": "stderr",
     "output_type": "stream",
     "text": [
      "INFO:sqlalchemy.engine.base.Engine:\n",
      "    SELECT \n",
      "        fips.\"Name\" as state_name,\n",
      "        fips.\"Numeric code\" as numeric_code,\n",
      "        state_coords.latitude as lat,\n",
      "        state_coords.longitude as long\n",
      "    FROM \"FIPS_States\" fips\n",
      "    JOIN \"state_latlon\" state_coords\n",
      "    ON state_coords.state = fips.\"Alpha code\"\n",
      "    \n"
     ]
    },
    {
     "name": "stdout",
     "output_type": "stream",
     "text": [
      "2016-02-08 21:16:56,733 INFO sqlalchemy.engine.base.Engine {}\n"
     ]
    },
    {
     "name": "stderr",
     "output_type": "stream",
     "text": [
      "INFO:sqlalchemy.engine.base.Engine:{}\n"
     ]
    },
    {
     "data": {
      "text/plain": [
       "[{'lat': 32.799, 'long': -86.8073, 'numeric_code': 1, 'state_name': 'Alabama'},\n",
       " {'lat': 61.385, 'long': -152.2683, 'numeric_code': 2, 'state_name': 'Alaska'},\n",
       " {'lat': 14.2417,\n",
       "  'long': -170.7197,\n",
       "  'numeric_code': 60,\n",
       "  'state_name': 'American Samoa'},\n",
       " {'lat': 33.7712,\n",
       "  'long': -111.3877,\n",
       "  'numeric_code': 4,\n",
       "  'state_name': 'Arizona'},\n",
       " {'lat': 34.9513,\n",
       "  'long': -92.3809,\n",
       "  'numeric_code': 5,\n",
       "  'state_name': 'Arkansas'},\n",
       " {'lat': 36.17,\n",
       "  'long': -119.7462,\n",
       "  'numeric_code': 6,\n",
       "  'state_name': 'California'},\n",
       " {'lat': 39.0646,\n",
       "  'long': -105.3272,\n",
       "  'numeric_code': 8,\n",
       "  'state_name': 'Colorado'},\n",
       " {'lat': 41.5834,\n",
       "  'long': -72.7622,\n",
       "  'numeric_code': 9,\n",
       "  'state_name': 'Connecticut'},\n",
       " {'lat': 39.3498,\n",
       "  'long': -75.5148,\n",
       "  'numeric_code': 10,\n",
       "  'state_name': 'Delaware'},\n",
       " {'lat': 38.8964,\n",
       "  'long': -77.0262,\n",
       "  'numeric_code': 11,\n",
       "  'state_name': 'District of Columbia'},\n",
       " {'lat': 27.8333,\n",
       "  'long': -81.717,\n",
       "  'numeric_code': 12,\n",
       "  'state_name': 'Florida'},\n",
       " {'lat': 32.9866,\n",
       "  'long': -83.6487,\n",
       "  'numeric_code': 13,\n",
       "  'state_name': 'Georgia'},\n",
       " {'lat': 21.1098,\n",
       "  'long': -157.5311,\n",
       "  'numeric_code': 15,\n",
       "  'state_name': 'Hawaii'},\n",
       " {'lat': 44.2394,\n",
       "  'long': -114.5103,\n",
       "  'numeric_code': 16,\n",
       "  'state_name': 'Idaho'},\n",
       " {'lat': 40.3363,\n",
       "  'long': -89.0022,\n",
       "  'numeric_code': 17,\n",
       "  'state_name': 'Illinois'},\n",
       " {'lat': 39.8647,\n",
       "  'long': -86.2604,\n",
       "  'numeric_code': 18,\n",
       "  'state_name': 'Indiana'},\n",
       " {'lat': 42.0046, 'long': -93.214, 'numeric_code': 19, 'state_name': 'Iowa'},\n",
       " {'lat': 38.5111,\n",
       "  'long': -96.8005,\n",
       "  'numeric_code': 20,\n",
       "  'state_name': 'Kansas'},\n",
       " {'lat': 37.669,\n",
       "  'long': -84.6514,\n",
       "  'numeric_code': 21,\n",
       "  'state_name': 'Kentucky'},\n",
       " {'lat': 31.1801,\n",
       "  'long': -91.8749,\n",
       "  'numeric_code': 22,\n",
       "  'state_name': 'Louisiana'},\n",
       " {'lat': 44.6074, 'long': -69.3977, 'numeric_code': 23, 'state_name': 'Maine'},\n",
       " {'lat': 39.0724,\n",
       "  'long': -76.7902,\n",
       "  'numeric_code': 24,\n",
       "  'state_name': 'Maryland'},\n",
       " {'lat': 42.2373,\n",
       "  'long': -71.5314,\n",
       "  'numeric_code': 25,\n",
       "  'state_name': 'Massachusetts'},\n",
       " {'lat': 43.3504,\n",
       "  'long': -84.5603,\n",
       "  'numeric_code': 26,\n",
       "  'state_name': 'Michigan'},\n",
       " {'lat': 45.7326,\n",
       "  'long': -93.9196,\n",
       "  'numeric_code': 27,\n",
       "  'state_name': 'Minnesota'},\n",
       " {'lat': 32.7673,\n",
       "  'long': -89.6812,\n",
       "  'numeric_code': 28,\n",
       "  'state_name': 'Mississippi'},\n",
       " {'lat': 38.4623,\n",
       "  'long': -92.302,\n",
       "  'numeric_code': 29,\n",
       "  'state_name': 'Missouri'},\n",
       " {'lat': 46.9048,\n",
       "  'long': -110.3261,\n",
       "  'numeric_code': 30,\n",
       "  'state_name': 'Montana'},\n",
       " {'lat': 41.1289,\n",
       "  'long': -98.2883,\n",
       "  'numeric_code': 31,\n",
       "  'state_name': 'Nebraska'},\n",
       " {'lat': 38.4199,\n",
       "  'long': -117.1219,\n",
       "  'numeric_code': 32,\n",
       "  'state_name': 'Nevada'},\n",
       " {'lat': 43.4108,\n",
       "  'long': -71.5653,\n",
       "  'numeric_code': 33,\n",
       "  'state_name': 'New Hampshire'},\n",
       " {'lat': 40.314,\n",
       "  'long': -74.5089,\n",
       "  'numeric_code': 34,\n",
       "  'state_name': 'New Jersey'},\n",
       " {'lat': 34.8375,\n",
       "  'long': -106.2371,\n",
       "  'numeric_code': 35,\n",
       "  'state_name': 'New Mexico'},\n",
       " {'lat': 42.1497,\n",
       "  'long': -74.9384,\n",
       "  'numeric_code': 36,\n",
       "  'state_name': 'New York'},\n",
       " {'lat': 35.6411,\n",
       "  'long': -79.8431,\n",
       "  'numeric_code': 37,\n",
       "  'state_name': 'North Carolina'},\n",
       " {'lat': 47.5362,\n",
       "  'long': -99.793,\n",
       "  'numeric_code': 38,\n",
       "  'state_name': 'North Dakota'},\n",
       " {'lat': 14.8058,\n",
       "  'long': 145.5505,\n",
       "  'numeric_code': 69,\n",
       "  'state_name': 'Northern Mariana Islands'},\n",
       " {'lat': 40.3736, 'long': -82.7755, 'numeric_code': 39, 'state_name': 'Ohio'},\n",
       " {'lat': 35.5376,\n",
       "  'long': -96.9247,\n",
       "  'numeric_code': 40,\n",
       "  'state_name': 'Oklahoma'},\n",
       " {'lat': 44.5672,\n",
       "  'long': -122.1269,\n",
       "  'numeric_code': 41,\n",
       "  'state_name': 'Oregon'},\n",
       " {'lat': 40.5773,\n",
       "  'long': -77.264,\n",
       "  'numeric_code': 42,\n",
       "  'state_name': 'Pennsylvania'},\n",
       " {'lat': 18.2766,\n",
       "  'long': -66.335,\n",
       "  'numeric_code': 72,\n",
       "  'state_name': 'Puerto Rico'},\n",
       " {'lat': 41.6772,\n",
       "  'long': -71.5101,\n",
       "  'numeric_code': 44,\n",
       "  'state_name': 'Rhode Island'},\n",
       " {'lat': 33.8191,\n",
       "  'long': -80.9066,\n",
       "  'numeric_code': 45,\n",
       "  'state_name': 'South Carolina'},\n",
       " {'lat': 44.2853,\n",
       "  'long': -99.4632,\n",
       "  'numeric_code': 46,\n",
       "  'state_name': 'South Dakota'},\n",
       " {'lat': 35.7449,\n",
       "  'long': -86.7489,\n",
       "  'numeric_code': 47,\n",
       "  'state_name': 'Tennessee'},\n",
       " {'lat': 31.106, 'long': -97.6475, 'numeric_code': 48, 'state_name': 'Texas'},\n",
       " {'lat': 40.1135, 'long': -111.8535, 'numeric_code': 49, 'state_name': 'Utah'},\n",
       " {'lat': 44.0407,\n",
       "  'long': -72.7093,\n",
       "  'numeric_code': 50,\n",
       "  'state_name': 'Vermont'},\n",
       " {'lat': 37.768,\n",
       "  'long': -78.2057,\n",
       "  'numeric_code': 51,\n",
       "  'state_name': 'Virginia'},\n",
       " {'lat': 18.0001,\n",
       "  'long': -64.8199,\n",
       "  'numeric_code': 78,\n",
       "  'state_name': 'Virgin Islands\\xa0of the U.S.'},\n",
       " {'lat': 47.3917,\n",
       "  'long': -121.5708,\n",
       "  'numeric_code': 53,\n",
       "  'state_name': 'Washington'},\n",
       " {'lat': 38.468,\n",
       "  'long': -80.9696,\n",
       "  'numeric_code': 54,\n",
       "  'state_name': 'West Virginia'},\n",
       " {'lat': 44.2563,\n",
       "  'long': -89.6385,\n",
       "  'numeric_code': 55,\n",
       "  'state_name': 'Wisconsin'},\n",
       " {'lat': 42.7475,\n",
       "  'long': -107.2085,\n",
       "  'numeric_code': 56,\n",
       "  'state_name': 'Wyoming'}]"
      ]
     },
     "execution_count": 68,
     "metadata": {},
     "output_type": "execute_result"
    }
   ],
   "source": [
    "joined_states = text(\n",
    "    \"\"\"\n",
    "    SELECT \n",
    "        fips.\"Name\" as state_name,\n",
    "        fips.\"Numeric code\" as numeric_code,\n",
    "        state_coords.latitude as lat,\n",
    "        state_coords.longitude as long\n",
    "    FROM \"FIPS_States\" fips\n",
    "    JOIN \"state_latlon\" state_coords\n",
    "    ON state_coords.state = fips.\"Alpha code\"\n",
    "    \"\"\")\n",
    "\n",
    "list(get_rows(conn.execute(joined_states).fetchall()))"
   ]
  },
  {
   "cell_type": "code",
   "execution_count": 69,
   "metadata": {
    "collapsed": false
   },
   "outputs": [],
   "source": [
    "states_and_coords = select([state_latlon, FIPS_States]).where(state_latlon.c.state == FIPS_States.c.get('Alpha code'))"
   ]
  },
  {
   "cell_type": "code",
   "execution_count": 70,
   "metadata": {
    "collapsed": false
   },
   "outputs": [
    {
     "name": "stdout",
     "output_type": "stream",
     "text": [
      "2016-02-08 21:17:01,245 INFO sqlalchemy.engine.base.Engine SELECT state_latlon.state, state_latlon.latitude, state_latlon.longitude, \"FIPS_States\".\"Name\", \"FIPS_States\".\"Alpha code\", \"FIPS_States\".\"Numeric code\", \"FIPS_States\".\"Status\" \n",
      "FROM state_latlon, \"FIPS_States\" \n",
      "WHERE state_latlon.state = \"FIPS_States\".\"Alpha code\"\n"
     ]
    },
    {
     "name": "stderr",
     "output_type": "stream",
     "text": [
      "INFO:sqlalchemy.engine.base.Engine:SELECT state_latlon.state, state_latlon.latitude, state_latlon.longitude, \"FIPS_States\".\"Name\", \"FIPS_States\".\"Alpha code\", \"FIPS_States\".\"Numeric code\", \"FIPS_States\".\"Status\" \n",
      "FROM state_latlon, \"FIPS_States\" \n",
      "WHERE state_latlon.state = \"FIPS_States\".\"Alpha code\"\n"
     ]
    },
    {
     "name": "stdout",
     "output_type": "stream",
     "text": [
      "2016-02-08 21:17:01,246 INFO sqlalchemy.engine.base.Engine {}\n"
     ]
    },
    {
     "name": "stderr",
     "output_type": "stream",
     "text": [
      "INFO:sqlalchemy.engine.base.Engine:{}\n"
     ]
    },
    {
     "data": {
      "text/plain": [
       "<sqlalchemy.engine.result.ResultProxy at 0x10d6d06d8>"
      ]
     },
     "execution_count": 70,
     "metadata": {},
     "output_type": "execute_result"
    }
   ],
   "source": [
    "conn.execute(states_and_coords)"
   ]
  },
  {
   "cell_type": "code",
   "execution_count": 71,
   "metadata": {
    "collapsed": true
   },
   "outputs": [],
   "source": [
    "orig_state = 'CA'\n",
    "dest_state = 'TX'"
   ]
  },
  {
   "cell_type": "code",
   "execution_count": 72,
   "metadata": {
    "collapsed": false
   },
   "outputs": [
    {
     "name": "stdout",
     "output_type": "stream",
     "text": [
      "2016-02-08 21:17:03,269 INFO sqlalchemy.engine.base.Engine SELECT \"FIPS_States\".\"Name\", \"FIPS_States\".\"Alpha code\", \"FIPS_States\".\"Numeric code\", \"FIPS_States\".\"Status\" \n",
      "FROM \"FIPS_States\" \n",
      "WHERE \"FIPS_States\".\"Alpha code\" = %(Alpha code_1)s OR \"FIPS_States\".\"Alpha code\" = %(Alpha code_2)s\n"
     ]
    },
    {
     "name": "stderr",
     "output_type": "stream",
     "text": [
      "INFO:sqlalchemy.engine.base.Engine:SELECT \"FIPS_States\".\"Name\", \"FIPS_States\".\"Alpha code\", \"FIPS_States\".\"Numeric code\", \"FIPS_States\".\"Status\" \n",
      "FROM \"FIPS_States\" \n",
      "WHERE \"FIPS_States\".\"Alpha code\" = %(Alpha code_1)s OR \"FIPS_States\".\"Alpha code\" = %(Alpha code_2)s\n"
     ]
    },
    {
     "name": "stdout",
     "output_type": "stream",
     "text": [
      "2016-02-08 21:17:03,270 INFO sqlalchemy.engine.base.Engine {'Alpha code_1': 'CA', 'Alpha code_2': 'TX'}\n"
     ]
    },
    {
     "name": "stderr",
     "output_type": "stream",
     "text": [
      "INFO:sqlalchemy.engine.base.Engine:{'Alpha code_1': 'CA', 'Alpha code_2': 'TX'}\n"
     ]
    },
    {
     "data": {
      "text/plain": [
       "[('California', 'CA', 6, 'State;\\xa0counties'),\n",
       " ('Texas', 'TX', 48, 'State;\\xa0counties')]"
      ]
     },
     "execution_count": 72,
     "metadata": {},
     "output_type": "execute_result"
    }
   ],
   "source": [
    "states = select([FIPS_States]).where(or_(\n",
    "    FIPS_States.c['Alpha code']==orig_state,\n",
    "    FIPS_States.c['Alpha code']==dest_state)\n",
    ")\n",
    "\n",
    "conn.execute(states).fetchall()"
   ]
  },
  {
   "cell_type": "markdown",
   "metadata": {},
   "source": [
    "### I need a way to query a database like so, \n",
    "\n",
    "    \"SELECT * \n",
    "        FROM transactions\n",
    "        WHERE orig_state = 'CA' AND dest_state= 'TX'\n",
    "    \""
   ]
  },
  {
   "cell_type": "code",
   "execution_count": null,
   "metadata": {
    "collapsed": false
   },
   "outputs": [],
   "source": [
    "d = pd.read_sql_query(con = engine, sql = select([FIPS_States]))"
   ]
  },
  {
   "cell_type": "code",
   "execution_count": null,
   "metadata": {
    "collapsed": false
   },
   "outputs": [],
   "source": [
    "d2 = pd.read_sql_query(con = engine, sql = select([transactions]).limit(2000))"
   ]
  },
  {
   "cell_type": "code",
   "execution_count": null,
   "metadata": {
    "collapsed": false
   },
   "outputs": [],
   "source": [
    "d3 = pd.merge(pd.merge(d, d2, left_on=[\"Numeric code\"], right_on=[\"ORIG_STATE\"]), d, \n",
    "         left_on=\"DEST_STATE\", right_on=\"Numeric code\")"
   ]
  },
  {
   "cell_type": "code",
   "execution_count": null,
   "metadata": {
    "collapsed": false
   },
   "outputs": [],
   "source": [
    "d3 = d3.rename(columns={'Name_x': 'Source_Name', \n",
    "                   'Alpha code_x': 'Source_alpha_code',\n",
    "                    'Name_y': 'Dest_Name',\n",
    "                    'Alpha code_y': 'Dest_alpha_code'})"
   ]
  },
  {
   "cell_type": "markdown",
   "metadata": {},
   "source": [
    "Use set operators from python to get the intersection of these predicates"
   ]
  },
  {
   "cell_type": "code",
   "execution_count": null,
   "metadata": {
    "collapsed": false
   },
   "outputs": [],
   "source": [
    "d3[(d3['Dest_alpha_code'] == 'CA') & (d3['Source_alpha_code'] == 'TX')]"
   ]
  },
  {
   "cell_type": "code",
   "execution_count": null,
   "metadata": {
    "collapsed": false
   },
   "outputs": [],
   "source": [
    "gb = d3.groupby(['Dest_alpha_code', 'Source_alpha_code'])"
   ]
  },
  {
   "cell_type": "code",
   "execution_count": null,
   "metadata": {
    "collapsed": false
   },
   "outputs": [],
   "source": [
    "gb.get_group(('CA', 'CA')).SHIPMT_VALUE.describe().reset_index()"
   ]
  },
  {
   "cell_type": "code",
   "execution_count": null,
   "metadata": {
    "collapsed": false
   },
   "outputs": [],
   "source": [
    "gb.groups.keys()"
   ]
  },
  {
   "cell_type": "markdown",
   "metadata": {},
   "source": [
    "### This way works, but I'm worried that there will be a lot of overhead joining tables constantly, so I will create a new table that contains the source name, and alpha code along with the destination info into a new table called transactions_joined\n",
    "\n",
    "### You can create a new table from a previous one using sql alchemy's Insert From Select"
   ]
  },
  {
   "cell_type": "code",
   "execution_count": null,
   "metadata": {
    "collapsed": false
   },
   "outputs": [],
   "source": [
    "#list(get_rows(conn.execute(select([FIPS_States.c.get(\"Numeric code\")])).fetchall()))"
   ]
  },
  {
   "cell_type": "code",
   "execution_count": null,
   "metadata": {
    "collapsed": true
   },
   "outputs": [],
   "source": [
    "state_latlon_joined = FIPS_States.join(\n",
    "    state_latlon, onclause=state_latlon.c.state == FIPS_States.c[\"Alpha code\"])"
   ]
  },
  {
   "cell_type": "code",
   "execution_count": null,
   "metadata": {
    "collapsed": true
   },
   "outputs": [],
   "source": [
    "orig = transactions.join(\n",
    "    state_latlon_joined, \n",
    "    onclause=transactions.c.ORIG_STATE == FIPS_States.c.get(\"Numeric code\"))\n",
    "\n",
    "\n",
    "s = select([transactions, \n",
    "            FIPS_States.c.get(\"Alpha code\").label(\"orig_state_alpha_code\"),\n",
    "            FIPS_States.c.Name.label(\"orig_state_name\"),\n",
    "            state_latlon.c.latitude.label('orig_lat'),\n",
    "            state_latlon.c.longitude.label('orig_lon')\n",
    "            ]).select_from(orig).limit(10)\n",
    "\n",
    "list(get_rows(conn.execute(s).fetchall()))"
   ]
  },
  {
   "cell_type": "code",
   "execution_count": null,
   "metadata": {
    "collapsed": false,
    "scrolled": true
   },
   "outputs": [],
   "source": [
    "dest = transactions.join(\n",
    "    state_latlon_joined, \n",
    "    onclause=transactions.c.DEST_STATE == FIPS_States.c.get(\"Numeric code\"))\n",
    "\n",
    "new_table =  (select([s.alias(), \n",
    "            FIPS_States.c.get(\"Alpha code\").label(\"dest_state_alpha_code\"),\n",
    "            FIPS_States.c.Name.label(\"dest_state_name\"),\n",
    "            state_latlon.c.latitude.label('dest_lat'),\n",
    "            state_latlon.c.longitude.label('dest_lon')])\n",
    "            .select_from(dest).limit(10))"
   ]
  },
  {
   "cell_type": "code",
   "execution_count": null,
   "metadata": {
    "collapsed": false
   },
   "outputs": [],
   "source": [
    "list(get_rows(conn.execute(select([new_table.alias()])).fetchall()))"
   ]
  },
  {
   "cell_type": "code",
   "execution_count": null,
   "metadata": {
    "collapsed": false
   },
   "outputs": [],
   "source": [
    "meta.tables['FIPS_States']"
   ]
  },
  {
   "cell_type": "code",
   "execution_count": null,
   "metadata": {
    "collapsed": true
   },
   "outputs": [],
   "source": [
    "t = text(\"\"\"\n",
    "    SELECT transactions.*,\n",
    "        orig.\"Name\" as orig_name,\n",
    "        orig.\"Alpha code\" as orig_alpha_code,\n",
    "        orig.\"latitude\" as orig_lat,\n",
    "        orig.\"longitude\" as orig_long,\n",
    "        dest.\"Name\" as dest_name,\n",
    "        dest.\"Alpha code\" as dest_alpha_code,\n",
    "        dest.\"latitude\" as dest_lat,\n",
    "        dest.\"longitude\" as dest_lon\n",
    "    FROM transactions\n",
    "    JOIN (\n",
    "        SELECT states.*, lonlats.*\n",
    "        FROM \"FIPS_States\" states\n",
    "        JOIN state_latlon lonlats\n",
    "        on states.\"Alpha code\"=lonlats.state\n",
    "         ) orig\n",
    "        ON orig.\"Numeric code\" = transactions.\"ORIG_STATE\"\n",
    "    JOIN (\n",
    "        SELECT states.*, lonlats.*\n",
    "        FROM \"FIPS_States\" states\n",
    "        JOIN state_latlon lonlats\n",
    "        on states.\"Alpha code\"=lonlats.state\n",
    "         ) dest\n",
    "        ON dest.\"Numeric code\" = transactions.\"DEST_STATE\"\n",
    "    WHERE\n",
    "        dest.\"Alpha code\"=:dest_code AND orig.\"Alpha code\" =:orig_code\n",
    "    LIMIT 100\n",
    "        \n",
    "    \"\"\")"
   ]
  },
  {
   "cell_type": "code",
   "execution_count": null,
   "metadata": {
    "collapsed": true
   },
   "outputs": [],
   "source": [
    "select([transactions,\n",
    "        ])"
   ]
  },
  {
   "cell_type": "code",
   "execution_count": null,
   "metadata": {
    "collapsed": false
   },
   "outputs": [],
   "source": [
    "conn.execute(t.params(dest_code=\"CA\", orig_code=\"TX\")).fetchone()"
   ]
  },
  {
   "cell_type": "code",
   "execution_count": null,
   "metadata": {
    "collapsed": false
   },
   "outputs": [],
   "source": [
    "#with open('test_data.json', 'w') as f:\n",
    "#    f.write(\n",
    "#        json.dumps(\n",
    "#            list(get_rows(conn.execute(t).fetchall())),\n",
    "#            indent=2,\n",
    "#            separators=(\",\", \":\")\n",
    "#             ))"
   ]
  },
  {
   "cell_type": "code",
   "execution_count": 77,
   "metadata": {
    "collapsed": false
   },
   "outputs": [],
   "source": [
    "from sqlalchemy.sql import table"
   ]
  },
  {
   "cell_type": "code",
   "execution_count": null,
   "metadata": {
    "collapsed": false
   },
   "outputs": [],
   "source": [
    "#new_table = new_table.alias(\"namedStates\")"
   ]
  },
  {
   "cell_type": "code",
   "execution_count": null,
   "metadata": {
    "collapsed": true
   },
   "outputs": [],
   "source": [
    "new_table_t = table(new_table)"
   ]
  },
  {
   "cell_type": "code",
   "execution_count": null,
   "metadata": {
    "collapsed": false
   },
   "outputs": [],
   "source": [
    "new_tableb"
   ]
  },
  {
   "cell_type": "code",
   "execution_count": null,
   "metadata": {
    "collapsed": true
   },
   "outputs": [],
   "source": [
    "orig_ = new_table.join(\n",
    "    state_latlon,\n",
    "    onclause=state_latlon.c.state == new_table.c.orig_state_alpha_code)\n",
    "\n",
    "dest_ = new_table.join(\n",
    "    state_latlon,\n",
    "    onclause=state_latlon.c.state == new_table.c.dest_state_alpha_code)"
   ]
  },
  {
   "cell_type": "code",
   "execution_count": null,
   "metadata": {
    "collapsed": true
   },
   "outputs": [],
   "source": [
    "new_table2 = (select([new_table.alias(),\n",
    "                    state_latlon.c.latitude.label('orig_lat'),\n",
    "                    state_latlon.c.longitude.label('orig_lon')])\n",
    "            .select_from(orig_.alias()))"
   ]
  },
  {
   "cell_type": "code",
   "execution_count": null,
   "metadata": {
    "collapsed": false
   },
   "outputs": [],
   "source": [
    "get_rows(conn.execute(select([new_table2.alias()])))"
   ]
  },
  {
   "cell_type": "code",
   "execution_count": null,
   "metadata": {
    "collapsed": false
   },
   "outputs": [],
   "source": [
    "list(get_rows(conn.execute(select([state_latlon])).fetchall()))"
   ]
  },
  {
   "cell_type": "code",
   "execution_count": null,
   "metadata": {
    "collapsed": false
   },
   "outputs": [],
   "source": [
    "list(get_rows(conn.execute(select([FIPS_States])).fetchall()))"
   ]
  },
  {
   "cell_type": "code",
   "execution_count": null,
   "metadata": {
    "collapsed": false
   },
   "outputs": [],
   "source": [
    "orig = state_latlon_joined.alias(\"orig\")\n",
    "\n",
    "dest = state_latlon_joined.alias(\"dest\")\n",
    "   "
   ]
  },
  {
   "cell_type": "code",
   "execution_count": null,
   "metadata": {
    "collapsed": true
   },
   "outputs": [],
   "source": [
    "orig.c.keys()"
   ]
  },
  {
   "cell_type": "code",
   "execution_count": 28,
   "metadata": {
    "collapsed": false
   },
   "outputs": [],
   "source": [
    "from sqlalchemy.sql import bindparam"
   ]
  },
  {
   "cell_type": "code",
   "execution_count": null,
   "metadata": {
    "collapsed": false
   },
   "outputs": [],
   "source": [
    "state_latlon_joined = FIPS_States.join(\n",
    "    state_latlon, onclause=state_latlon.c.state == FIPS_States.c[\"Alpha code\"])\n",
    "\n",
    "stmt = (select([transactions,\n",
    "              orig.c.FIPS_States_Name.label(\"orig_name\"),\n",
    "              orig.c[\"FIPS_States_Alpha code\"].label(\"orig_alpha_code\"),\n",
    "              dest.c[\"FIPS_States_Name\"].label(\"dest_name\"),\n",
    "              dest.c[\"FIPS_States_Alpha code\"].label(\"dest_alpha_code\"),\n",
    "              orig.c.state_latlon_latitude.label(\"orig_lat\"),\n",
    "              orig.c.state_latlon_longitude.label(\"orig_lon\"),\n",
    "              dest.c.state_latlon_latitude.label(\"dest_lat\"),\n",
    "              dest.c.state_latlon_longitude.label(\"dest_lon\")])\n",
    "        .select_from(transactions\n",
    "                    .join(orig, transactions.c.ORIG_STATE == orig.c[\"FIPS_States_Numeric code\"])\n",
    "                    .join(dest, transactions.c.DEST_STATE == dest.c[\"FIPS_States_Numeric code\"]))\n",
    "        )\n",
    "        #.where(orig.c[\"FIPS_States_Alpha code\"] == bindparam(\"orig_code\")))\n",
    "        #.where(dest.c[\"FIPS_States_Alpha code\"] == bindparam(\"dest_code\")))"
   ]
  },
  {
   "cell_type": "code",
   "execution_count": null,
   "metadata": {
    "collapsed": false
   },
   "outputs": [],
   "source": [
    "list(get_rows(conn.execute(stmt.order_by(desc(transactions.c.SHIPMT_VALUE)).limit(10), orig_code='CA').fetchall()))"
   ]
  },
  {
   "cell_type": "markdown",
   "metadata": {},
   "source": [
    "Create table from another table\n"
   ]
  },
  {
   "cell_type": "code",
   "execution_count": null,
   "metadata": {
    "collapsed": false
   },
   "outputs": [],
   "source": [
    "stmt.columns.items()"
   ]
  },
  {
   "cell_type": "code",
   "execution_count": null,
   "metadata": {
    "collapsed": false
   },
   "outputs": [],
   "source": []
  },
  {
   "cell_type": "code",
   "execution_count": null,
   "metadata": {
    "collapsed": false
   },
   "outputs": [],
   "source": [
    "# a way to copy a columns from one table to another\n",
    "t = Table(\"transactions_joined\", meta, *(map(lambda c: c.copy(), stmt.columns)))\n"
   ]
  },
  {
   "cell_type": "code",
   "execution_count": null,
   "metadata": {
    "collapsed": false
   },
   "outputs": [],
   "source": [
    "t.create(bind=engine)"
   ]
  },
  {
   "cell_type": "code",
   "execution_count": null,
   "metadata": {
    "collapsed": false
   },
   "outputs": [],
   "source": [
    "# pass in the column keys and the statement to select from\n",
    "conn.execute(t.insert().from_select(stmt.columns.keys(), stmt))"
   ]
  },
  {
   "cell_type": "code",
   "execution_count": null,
   "metadata": {
    "collapsed": false
   },
   "outputs": [],
   "source": [
    "meta.reflect(engine)"
   ]
  },
  {
   "cell_type": "code",
   "execution_count": null,
   "metadata": {
    "collapsed": false
   },
   "outputs": [],
   "source": [
    "meta.tables.keys()"
   ]
  },
  {
   "cell_type": "code",
   "execution_count": null,
   "metadata": {
    "collapsed": false
   },
   "outputs": [],
   "source": [
    "tj = meta.tables['transactions_joined']"
   ]
  },
  {
   "cell_type": "code",
   "execution_count": null,
   "metadata": {
    "collapsed": false
   },
   "outputs": [],
   "source": [
    "q = (select([tj])\n",
    "     .where(tj.c.orig_alpha_code==bindparam(\"orig_code\"))\n",
    "     .where(tj.c.dest_alpha_code==bindparam(\"dest_code\"))\n",
    "     .order_by(tj.c.SHIPMT_VALUE)\n",
    "     .limit(10))\n",
    "\n",
    "q2 = (select([tj])\n",
    "     .where(tj.c.orig_alpha_code==bindparam(\"orig_code\"))\n",
    "      .order_by(desc(tj.c.SHIPMT_VALUE))\n",
    "      .limit(10))\n",
    "list(get_rows(conn.execute(q, orig_code=\"CA\", dest_code=\"TX\")))"
   ]
  },
  {
   "cell_type": "code",
   "execution_count": null,
   "metadata": {
    "collapsed": false
   },
   "outputs": [],
   "source": [
    "tj.columns.keys()"
   ]
  },
  {
   "cell_type": "code",
   "execution_count": null,
   "metadata": {
    "collapsed": false
   },
   "outputs": [],
   "source": [
    "from sqlalchemy import Index\n",
    "\n",
    "Index('orig_fip', transactions.c.ORIG_STATE)"
   ]
  },
  {
   "cell_type": "code",
   "execution_count": null,
   "metadata": {
    "collapsed": false
   },
   "outputs": [],
   "source": [
    "import timeit"
   ]
  },
  {
   "cell_type": "markdown",
   "metadata": {},
   "source": [
    "I want to experiment with adding an index and testing the response of the query"
   ]
  },
  {
   "cell_type": "code",
   "execution_count": null,
   "metadata": {
    "collapsed": true
   },
   "outputs": [],
   "source": [
    "import time"
   ]
  },
  {
   "cell_type": "code",
   "execution_count": null,
   "metadata": {
    "collapsed": false
   },
   "outputs": [],
   "source": [
    "print(\"We will be running: {}\".format(str(q)))"
   ]
  },
  {
   "cell_type": "markdown",
   "metadata": {},
   "source": [
    "We need to make an index on the orig_alpha_code and dest_alpha_code"
   ]
  },
  {
   "cell_type": "code",
   "execution_count": null,
   "metadata": {
    "collapsed": true
   },
   "outputs": [],
   "source": [
    "index = text(\"CREATE INDEX ALPHA_INDEX ON transactions_joined \"\\\n",
    "             \"(orig_alpha_code, dest_alpha_code)\")"
   ]
  },
  {
   "cell_type": "code",
   "execution_count": null,
   "metadata": {
    "collapsed": false
   },
   "outputs": [],
   "source": [
    "conn.execute(index)"
   ]
  },
  {
   "cell_type": "code",
   "execution_count": null,
   "metadata": {
    "collapsed": false
   },
   "outputs": [],
   "source": [
    "meta.tables['transactions_joined']"
   ]
  },
  {
   "cell_type": "code",
   "execution_count": 29,
   "metadata": {
    "collapsed": true
   },
   "outputs": [],
   "source": [
    "#http://stackoverflow.com/questions/5605019/listing-indices-using-sqlalchemy\n",
    "from sqlalchemy.engine import reflection"
   ]
  },
  {
   "cell_type": "code",
   "execution_count": null,
   "metadata": {
    "collapsed": true
   },
   "outputs": [],
   "source": []
  },
  {
   "cell_type": "code",
   "execution_count": 30,
   "metadata": {
    "collapsed": false
   },
   "outputs": [
    {
     "name": "stdout",
     "output_type": "stream",
     "text": [
      "2016-01-09 00:05:17,651 INFO sqlalchemy.engine.base.Engine SELECT relname FROM pg_class c WHERE relkind = 'r' AND 'public' = (select nspname from pg_namespace n where n.oid = c.relnamespace) \n"
     ]
    },
    {
     "name": "stderr",
     "output_type": "stream",
     "text": [
      "INFO:sqlalchemy.engine.base.Engine:SELECT relname FROM pg_class c WHERE relkind = 'r' AND 'public' = (select nspname from pg_namespace n where n.oid = c.relnamespace) \n"
     ]
    },
    {
     "name": "stdout",
     "output_type": "stream",
     "text": [
      "2016-01-09 00:05:17,653 INFO sqlalchemy.engine.base.Engine {}\n"
     ]
    },
    {
     "name": "stderr",
     "output_type": "stream",
     "text": [
      "INFO:sqlalchemy.engine.base.Engine:{}\n"
     ]
    },
    {
     "name": "stdout",
     "output_type": "stream",
     "text": [
      "2016-01-09 00:05:17,789 INFO sqlalchemy.engine.base.Engine \n",
      "            SELECT c.oid\n",
      "            FROM pg_catalog.pg_class c\n",
      "            LEFT JOIN pg_catalog.pg_namespace n ON n.oid = c.relnamespace\n",
      "            WHERE (pg_catalog.pg_table_is_visible(c.oid))\n",
      "            AND c.relname = %(table_name)s AND c.relkind in ('r', 'v', 'm', 'f')\n",
      "        \n"
     ]
    },
    {
     "name": "stderr",
     "output_type": "stream",
     "text": [
      "INFO:sqlalchemy.engine.base.Engine:\n",
      "            SELECT c.oid\n",
      "            FROM pg_catalog.pg_class c\n",
      "            LEFT JOIN pg_catalog.pg_namespace n ON n.oid = c.relnamespace\n",
      "            WHERE (pg_catalog.pg_table_is_visible(c.oid))\n",
      "            AND c.relname = %(table_name)s AND c.relkind in ('r', 'v', 'm', 'f')\n",
      "        \n"
     ]
    },
    {
     "name": "stdout",
     "output_type": "stream",
     "text": [
      "2016-01-09 00:05:17,790 INFO sqlalchemy.engine.base.Engine {'table_name': 'transport_mode'}\n"
     ]
    },
    {
     "name": "stderr",
     "output_type": "stream",
     "text": [
      "INFO:sqlalchemy.engine.base.Engine:{'table_name': 'transport_mode'}\n"
     ]
    },
    {
     "name": "stdout",
     "output_type": "stream",
     "text": [
      "2016-01-09 00:05:17,928 INFO sqlalchemy.engine.base.Engine \n",
      "              SELECT\n",
      "                  i.relname as relname,\n",
      "                  ix.indisunique, ix.indexprs, ix.indpred,\n",
      "                  a.attname, a.attnum, c.conrelid, ix.indkey::varchar,\n",
      "                  i.reloptions, am.amname\n",
      "              FROM\n",
      "                  pg_class t\n",
      "                        join pg_index ix on t.oid = ix.indrelid\n",
      "                        join pg_class i on i.oid = ix.indexrelid\n",
      "                        left outer join\n",
      "                            pg_attribute a\n",
      "                            on t.oid = a.attrelid and a.attnum = ANY(ix.indkey)\n",
      "                        left outer join\n",
      "                            pg_constraint c\n",
      "                            on (ix.indrelid = c.conrelid and\n",
      "                                ix.indexrelid = c.conindid and\n",
      "                                c.contype in ('p', 'u', 'x'))\n",
      "                        left outer join\n",
      "                            pg_am am\n",
      "                            on i.relam = am.oid\n",
      "              WHERE\n",
      "                  t.relkind IN ('r', 'v', 'f', 'm')\n",
      "                  and t.oid = %(table_oid)s\n",
      "                  and ix.indisprimary = 'f'\n",
      "              ORDER BY\n",
      "                  t.relname,\n",
      "                  i.relname\n",
      "            \n"
     ]
    },
    {
     "name": "stderr",
     "output_type": "stream",
     "text": [
      "INFO:sqlalchemy.engine.base.Engine:\n",
      "              SELECT\n",
      "                  i.relname as relname,\n",
      "                  ix.indisunique, ix.indexprs, ix.indpred,\n",
      "                  a.attname, a.attnum, c.conrelid, ix.indkey::varchar,\n",
      "                  i.reloptions, am.amname\n",
      "              FROM\n",
      "                  pg_class t\n",
      "                        join pg_index ix on t.oid = ix.indrelid\n",
      "                        join pg_class i on i.oid = ix.indexrelid\n",
      "                        left outer join\n",
      "                            pg_attribute a\n",
      "                            on t.oid = a.attrelid and a.attnum = ANY(ix.indkey)\n",
      "                        left outer join\n",
      "                            pg_constraint c\n",
      "                            on (ix.indrelid = c.conrelid and\n",
      "                                ix.indexrelid = c.conindid and\n",
      "                                c.contype in ('p', 'u', 'x'))\n",
      "                        left outer join\n",
      "                            pg_am am\n",
      "                            on i.relam = am.oid\n",
      "              WHERE\n",
      "                  t.relkind IN ('r', 'v', 'f', 'm')\n",
      "                  and t.oid = %(table_oid)s\n",
      "                  and ix.indisprimary = 'f'\n",
      "              ORDER BY\n",
      "                  t.relname,\n",
      "                  i.relname\n",
      "            \n"
     ]
    },
    {
     "name": "stdout",
     "output_type": "stream",
     "text": [
      "2016-01-09 00:05:17,929 INFO sqlalchemy.engine.base.Engine {'table_oid': 16395}\n"
     ]
    },
    {
     "name": "stderr",
     "output_type": "stream",
     "text": [
      "INFO:sqlalchemy.engine.base.Engine:{'table_oid': 16395}\n"
     ]
    },
    {
     "name": "stdout",
     "output_type": "stream",
     "text": [
      "2016-01-09 00:05:18,094 INFO sqlalchemy.engine.base.Engine \n",
      "            SELECT c.oid\n",
      "            FROM pg_catalog.pg_class c\n",
      "            LEFT JOIN pg_catalog.pg_namespace n ON n.oid = c.relnamespace\n",
      "            WHERE (pg_catalog.pg_table_is_visible(c.oid))\n",
      "            AND c.relname = %(table_name)s AND c.relkind in ('r', 'v', 'm', 'f')\n",
      "        \n"
     ]
    },
    {
     "name": "stderr",
     "output_type": "stream",
     "text": [
      "INFO:sqlalchemy.engine.base.Engine:\n",
      "            SELECT c.oid\n",
      "            FROM pg_catalog.pg_class c\n",
      "            LEFT JOIN pg_catalog.pg_namespace n ON n.oid = c.relnamespace\n",
      "            WHERE (pg_catalog.pg_table_is_visible(c.oid))\n",
      "            AND c.relname = %(table_name)s AND c.relkind in ('r', 'v', 'm', 'f')\n",
      "        \n"
     ]
    },
    {
     "name": "stdout",
     "output_type": "stream",
     "text": [
      "2016-01-09 00:05:18,095 INFO sqlalchemy.engine.base.Engine {'table_name': 'state_latlon'}\n"
     ]
    },
    {
     "name": "stderr",
     "output_type": "stream",
     "text": [
      "INFO:sqlalchemy.engine.base.Engine:{'table_name': 'state_latlon'}\n"
     ]
    },
    {
     "name": "stdout",
     "output_type": "stream",
     "text": [
      "2016-01-09 00:05:18,199 INFO sqlalchemy.engine.base.Engine \n",
      "              SELECT\n",
      "                  i.relname as relname,\n",
      "                  ix.indisunique, ix.indexprs, ix.indpred,\n",
      "                  a.attname, a.attnum, c.conrelid, ix.indkey::varchar,\n",
      "                  i.reloptions, am.amname\n",
      "              FROM\n",
      "                  pg_class t\n",
      "                        join pg_index ix on t.oid = ix.indrelid\n",
      "                        join pg_class i on i.oid = ix.indexrelid\n",
      "                        left outer join\n",
      "                            pg_attribute a\n",
      "                            on t.oid = a.attrelid and a.attnum = ANY(ix.indkey)\n",
      "                        left outer join\n",
      "                            pg_constraint c\n",
      "                            on (ix.indrelid = c.conrelid and\n",
      "                                ix.indexrelid = c.conindid and\n",
      "                                c.contype in ('p', 'u', 'x'))\n",
      "                        left outer join\n",
      "                            pg_am am\n",
      "                            on i.relam = am.oid\n",
      "              WHERE\n",
      "                  t.relkind IN ('r', 'v', 'f', 'm')\n",
      "                  and t.oid = %(table_oid)s\n",
      "                  and ix.indisprimary = 'f'\n",
      "              ORDER BY\n",
      "                  t.relname,\n",
      "                  i.relname\n",
      "            \n"
     ]
    },
    {
     "name": "stderr",
     "output_type": "stream",
     "text": [
      "INFO:sqlalchemy.engine.base.Engine:\n",
      "              SELECT\n",
      "                  i.relname as relname,\n",
      "                  ix.indisunique, ix.indexprs, ix.indpred,\n",
      "                  a.attname, a.attnum, c.conrelid, ix.indkey::varchar,\n",
      "                  i.reloptions, am.amname\n",
      "              FROM\n",
      "                  pg_class t\n",
      "                        join pg_index ix on t.oid = ix.indrelid\n",
      "                        join pg_class i on i.oid = ix.indexrelid\n",
      "                        left outer join\n",
      "                            pg_attribute a\n",
      "                            on t.oid = a.attrelid and a.attnum = ANY(ix.indkey)\n",
      "                        left outer join\n",
      "                            pg_constraint c\n",
      "                            on (ix.indrelid = c.conrelid and\n",
      "                                ix.indexrelid = c.conindid and\n",
      "                                c.contype in ('p', 'u', 'x'))\n",
      "                        left outer join\n",
      "                            pg_am am\n",
      "                            on i.relam = am.oid\n",
      "              WHERE\n",
      "                  t.relkind IN ('r', 'v', 'f', 'm')\n",
      "                  and t.oid = %(table_oid)s\n",
      "                  and ix.indisprimary = 'f'\n",
      "              ORDER BY\n",
      "                  t.relname,\n",
      "                  i.relname\n",
      "            \n"
     ]
    },
    {
     "name": "stdout",
     "output_type": "stream",
     "text": [
      "2016-01-09 00:05:18,200 INFO sqlalchemy.engine.base.Engine {'table_oid': 16401}\n"
     ]
    },
    {
     "name": "stderr",
     "output_type": "stream",
     "text": [
      "INFO:sqlalchemy.engine.base.Engine:{'table_oid': 16401}\n"
     ]
    },
    {
     "name": "stdout",
     "output_type": "stream",
     "text": [
      "2016-01-09 00:05:18,368 INFO sqlalchemy.engine.base.Engine \n",
      "            SELECT c.oid\n",
      "            FROM pg_catalog.pg_class c\n",
      "            LEFT JOIN pg_catalog.pg_namespace n ON n.oid = c.relnamespace\n",
      "            WHERE (pg_catalog.pg_table_is_visible(c.oid))\n",
      "            AND c.relname = %(table_name)s AND c.relkind in ('r', 'v', 'm', 'f')\n",
      "        \n"
     ]
    },
    {
     "name": "stderr",
     "output_type": "stream",
     "text": [
      "INFO:sqlalchemy.engine.base.Engine:\n",
      "            SELECT c.oid\n",
      "            FROM pg_catalog.pg_class c\n",
      "            LEFT JOIN pg_catalog.pg_namespace n ON n.oid = c.relnamespace\n",
      "            WHERE (pg_catalog.pg_table_is_visible(c.oid))\n",
      "            AND c.relname = %(table_name)s AND c.relkind in ('r', 'v', 'm', 'f')\n",
      "        \n"
     ]
    },
    {
     "name": "stdout",
     "output_type": "stream",
     "text": [
      "2016-01-09 00:05:18,369 INFO sqlalchemy.engine.base.Engine {'table_name': 'sctg'}\n"
     ]
    },
    {
     "name": "stderr",
     "output_type": "stream",
     "text": [
      "INFO:sqlalchemy.engine.base.Engine:{'table_name': 'sctg'}\n"
     ]
    },
    {
     "name": "stdout",
     "output_type": "stream",
     "text": [
      "2016-01-09 00:05:18,496 INFO sqlalchemy.engine.base.Engine \n",
      "              SELECT\n",
      "                  i.relname as relname,\n",
      "                  ix.indisunique, ix.indexprs, ix.indpred,\n",
      "                  a.attname, a.attnum, c.conrelid, ix.indkey::varchar,\n",
      "                  i.reloptions, am.amname\n",
      "              FROM\n",
      "                  pg_class t\n",
      "                        join pg_index ix on t.oid = ix.indrelid\n",
      "                        join pg_class i on i.oid = ix.indexrelid\n",
      "                        left outer join\n",
      "                            pg_attribute a\n",
      "                            on t.oid = a.attrelid and a.attnum = ANY(ix.indkey)\n",
      "                        left outer join\n",
      "                            pg_constraint c\n",
      "                            on (ix.indrelid = c.conrelid and\n",
      "                                ix.indexrelid = c.conindid and\n",
      "                                c.contype in ('p', 'u', 'x'))\n",
      "                        left outer join\n",
      "                            pg_am am\n",
      "                            on i.relam = am.oid\n",
      "              WHERE\n",
      "                  t.relkind IN ('r', 'v', 'f', 'm')\n",
      "                  and t.oid = %(table_oid)s\n",
      "                  and ix.indisprimary = 'f'\n",
      "              ORDER BY\n",
      "                  t.relname,\n",
      "                  i.relname\n",
      "            \n"
     ]
    },
    {
     "name": "stderr",
     "output_type": "stream",
     "text": [
      "INFO:sqlalchemy.engine.base.Engine:\n",
      "              SELECT\n",
      "                  i.relname as relname,\n",
      "                  ix.indisunique, ix.indexprs, ix.indpred,\n",
      "                  a.attname, a.attnum, c.conrelid, ix.indkey::varchar,\n",
      "                  i.reloptions, am.amname\n",
      "              FROM\n",
      "                  pg_class t\n",
      "                        join pg_index ix on t.oid = ix.indrelid\n",
      "                        join pg_class i on i.oid = ix.indexrelid\n",
      "                        left outer join\n",
      "                            pg_attribute a\n",
      "                            on t.oid = a.attrelid and a.attnum = ANY(ix.indkey)\n",
      "                        left outer join\n",
      "                            pg_constraint c\n",
      "                            on (ix.indrelid = c.conrelid and\n",
      "                                ix.indexrelid = c.conindid and\n",
      "                                c.contype in ('p', 'u', 'x'))\n",
      "                        left outer join\n",
      "                            pg_am am\n",
      "                            on i.relam = am.oid\n",
      "              WHERE\n",
      "                  t.relkind IN ('r', 'v', 'f', 'm')\n",
      "                  and t.oid = %(table_oid)s\n",
      "                  and ix.indisprimary = 'f'\n",
      "              ORDER BY\n",
      "                  t.relname,\n",
      "                  i.relname\n",
      "            \n"
     ]
    },
    {
     "name": "stdout",
     "output_type": "stream",
     "text": [
      "2016-01-09 00:05:18,497 INFO sqlalchemy.engine.base.Engine {'table_oid': 16407}\n"
     ]
    },
    {
     "name": "stderr",
     "output_type": "stream",
     "text": [
      "INFO:sqlalchemy.engine.base.Engine:{'table_oid': 16407}\n"
     ]
    },
    {
     "name": "stdout",
     "output_type": "stream",
     "text": [
      "2016-01-09 00:05:18,620 INFO sqlalchemy.engine.base.Engine \n",
      "            SELECT c.oid\n",
      "            FROM pg_catalog.pg_class c\n",
      "            LEFT JOIN pg_catalog.pg_namespace n ON n.oid = c.relnamespace\n",
      "            WHERE (pg_catalog.pg_table_is_visible(c.oid))\n",
      "            AND c.relname = %(table_name)s AND c.relkind in ('r', 'v', 'm', 'f')\n",
      "        \n"
     ]
    },
    {
     "name": "stderr",
     "output_type": "stream",
     "text": [
      "INFO:sqlalchemy.engine.base.Engine:\n",
      "            SELECT c.oid\n",
      "            FROM pg_catalog.pg_class c\n",
      "            LEFT JOIN pg_catalog.pg_namespace n ON n.oid = c.relnamespace\n",
      "            WHERE (pg_catalog.pg_table_is_visible(c.oid))\n",
      "            AND c.relname = %(table_name)s AND c.relkind in ('r', 'v', 'm', 'f')\n",
      "        \n"
     ]
    },
    {
     "name": "stdout",
     "output_type": "stream",
     "text": [
      "2016-01-09 00:05:18,621 INFO sqlalchemy.engine.base.Engine {'table_name': 'cfs_areas'}\n"
     ]
    },
    {
     "name": "stderr",
     "output_type": "stream",
     "text": [
      "INFO:sqlalchemy.engine.base.Engine:{'table_name': 'cfs_areas'}\n"
     ]
    },
    {
     "name": "stdout",
     "output_type": "stream",
     "text": [
      "2016-01-09 00:05:18,763 INFO sqlalchemy.engine.base.Engine \n",
      "              SELECT\n",
      "                  i.relname as relname,\n",
      "                  ix.indisunique, ix.indexprs, ix.indpred,\n",
      "                  a.attname, a.attnum, c.conrelid, ix.indkey::varchar,\n",
      "                  i.reloptions, am.amname\n",
      "              FROM\n",
      "                  pg_class t\n",
      "                        join pg_index ix on t.oid = ix.indrelid\n",
      "                        join pg_class i on i.oid = ix.indexrelid\n",
      "                        left outer join\n",
      "                            pg_attribute a\n",
      "                            on t.oid = a.attrelid and a.attnum = ANY(ix.indkey)\n",
      "                        left outer join\n",
      "                            pg_constraint c\n",
      "                            on (ix.indrelid = c.conrelid and\n",
      "                                ix.indexrelid = c.conindid and\n",
      "                                c.contype in ('p', 'u', 'x'))\n",
      "                        left outer join\n",
      "                            pg_am am\n",
      "                            on i.relam = am.oid\n",
      "              WHERE\n",
      "                  t.relkind IN ('r', 'v', 'f', 'm')\n",
      "                  and t.oid = %(table_oid)s\n",
      "                  and ix.indisprimary = 'f'\n",
      "              ORDER BY\n",
      "                  t.relname,\n",
      "                  i.relname\n",
      "            \n"
     ]
    },
    {
     "name": "stderr",
     "output_type": "stream",
     "text": [
      "INFO:sqlalchemy.engine.base.Engine:\n",
      "              SELECT\n",
      "                  i.relname as relname,\n",
      "                  ix.indisunique, ix.indexprs, ix.indpred,\n",
      "                  a.attname, a.attnum, c.conrelid, ix.indkey::varchar,\n",
      "                  i.reloptions, am.amname\n",
      "              FROM\n",
      "                  pg_class t\n",
      "                        join pg_index ix on t.oid = ix.indrelid\n",
      "                        join pg_class i on i.oid = ix.indexrelid\n",
      "                        left outer join\n",
      "                            pg_attribute a\n",
      "                            on t.oid = a.attrelid and a.attnum = ANY(ix.indkey)\n",
      "                        left outer join\n",
      "                            pg_constraint c\n",
      "                            on (ix.indrelid = c.conrelid and\n",
      "                                ix.indexrelid = c.conindid and\n",
      "                                c.contype in ('p', 'u', 'x'))\n",
      "                        left outer join\n",
      "                            pg_am am\n",
      "                            on i.relam = am.oid\n",
      "              WHERE\n",
      "                  t.relkind IN ('r', 'v', 'f', 'm')\n",
      "                  and t.oid = %(table_oid)s\n",
      "                  and ix.indisprimary = 'f'\n",
      "              ORDER BY\n",
      "                  t.relname,\n",
      "                  i.relname\n",
      "            \n"
     ]
    },
    {
     "name": "stdout",
     "output_type": "stream",
     "text": [
      "2016-01-09 00:05:18,765 INFO sqlalchemy.engine.base.Engine {'table_oid': 16413}\n"
     ]
    },
    {
     "name": "stderr",
     "output_type": "stream",
     "text": [
      "INFO:sqlalchemy.engine.base.Engine:{'table_oid': 16413}\n"
     ]
    },
    {
     "name": "stdout",
     "output_type": "stream",
     "text": [
      "2016-01-09 00:05:18,932 INFO sqlalchemy.engine.base.Engine \n",
      "            SELECT c.oid\n",
      "            FROM pg_catalog.pg_class c\n",
      "            LEFT JOIN pg_catalog.pg_namespace n ON n.oid = c.relnamespace\n",
      "            WHERE (pg_catalog.pg_table_is_visible(c.oid))\n",
      "            AND c.relname = %(table_name)s AND c.relkind in ('r', 'v', 'm', 'f')\n",
      "        \n"
     ]
    },
    {
     "name": "stderr",
     "output_type": "stream",
     "text": [
      "INFO:sqlalchemy.engine.base.Engine:\n",
      "            SELECT c.oid\n",
      "            FROM pg_catalog.pg_class c\n",
      "            LEFT JOIN pg_catalog.pg_namespace n ON n.oid = c.relnamespace\n",
      "            WHERE (pg_catalog.pg_table_is_visible(c.oid))\n",
      "            AND c.relname = %(table_name)s AND c.relkind in ('r', 'v', 'm', 'f')\n",
      "        \n"
     ]
    },
    {
     "name": "stdout",
     "output_type": "stream",
     "text": [
      "2016-01-09 00:05:18,933 INFO sqlalchemy.engine.base.Engine {'table_name': 'FIPS_States'}\n"
     ]
    },
    {
     "name": "stderr",
     "output_type": "stream",
     "text": [
      "INFO:sqlalchemy.engine.base.Engine:{'table_name': 'FIPS_States'}\n"
     ]
    },
    {
     "name": "stdout",
     "output_type": "stream",
     "text": [
      "2016-01-09 00:05:19,053 INFO sqlalchemy.engine.base.Engine \n",
      "              SELECT\n",
      "                  i.relname as relname,\n",
      "                  ix.indisunique, ix.indexprs, ix.indpred,\n",
      "                  a.attname, a.attnum, c.conrelid, ix.indkey::varchar,\n",
      "                  i.reloptions, am.amname\n",
      "              FROM\n",
      "                  pg_class t\n",
      "                        join pg_index ix on t.oid = ix.indrelid\n",
      "                        join pg_class i on i.oid = ix.indexrelid\n",
      "                        left outer join\n",
      "                            pg_attribute a\n",
      "                            on t.oid = a.attrelid and a.attnum = ANY(ix.indkey)\n",
      "                        left outer join\n",
      "                            pg_constraint c\n",
      "                            on (ix.indrelid = c.conrelid and\n",
      "                                ix.indexrelid = c.conindid and\n",
      "                                c.contype in ('p', 'u', 'x'))\n",
      "                        left outer join\n",
      "                            pg_am am\n",
      "                            on i.relam = am.oid\n",
      "              WHERE\n",
      "                  t.relkind IN ('r', 'v', 'f', 'm')\n",
      "                  and t.oid = %(table_oid)s\n",
      "                  and ix.indisprimary = 'f'\n",
      "              ORDER BY\n",
      "                  t.relname,\n",
      "                  i.relname\n",
      "            \n"
     ]
    },
    {
     "name": "stderr",
     "output_type": "stream",
     "text": [
      "INFO:sqlalchemy.engine.base.Engine:\n",
      "              SELECT\n",
      "                  i.relname as relname,\n",
      "                  ix.indisunique, ix.indexprs, ix.indpred,\n",
      "                  a.attname, a.attnum, c.conrelid, ix.indkey::varchar,\n",
      "                  i.reloptions, am.amname\n",
      "              FROM\n",
      "                  pg_class t\n",
      "                        join pg_index ix on t.oid = ix.indrelid\n",
      "                        join pg_class i on i.oid = ix.indexrelid\n",
      "                        left outer join\n",
      "                            pg_attribute a\n",
      "                            on t.oid = a.attrelid and a.attnum = ANY(ix.indkey)\n",
      "                        left outer join\n",
      "                            pg_constraint c\n",
      "                            on (ix.indrelid = c.conrelid and\n",
      "                                ix.indexrelid = c.conindid and\n",
      "                                c.contype in ('p', 'u', 'x'))\n",
      "                        left outer join\n",
      "                            pg_am am\n",
      "                            on i.relam = am.oid\n",
      "              WHERE\n",
      "                  t.relkind IN ('r', 'v', 'f', 'm')\n",
      "                  and t.oid = %(table_oid)s\n",
      "                  and ix.indisprimary = 'f'\n",
      "              ORDER BY\n",
      "                  t.relname,\n",
      "                  i.relname\n",
      "            \n"
     ]
    },
    {
     "name": "stdout",
     "output_type": "stream",
     "text": [
      "2016-01-09 00:05:19,055 INFO sqlalchemy.engine.base.Engine {'table_oid': 16419}\n"
     ]
    },
    {
     "name": "stderr",
     "output_type": "stream",
     "text": [
      "INFO:sqlalchemy.engine.base.Engine:{'table_oid': 16419}\n"
     ]
    },
    {
     "name": "stdout",
     "output_type": "stream",
     "text": [
      "2016-01-09 00:05:19,154 INFO sqlalchemy.engine.base.Engine \n",
      "            SELECT c.oid\n",
      "            FROM pg_catalog.pg_class c\n",
      "            LEFT JOIN pg_catalog.pg_namespace n ON n.oid = c.relnamespace\n",
      "            WHERE (pg_catalog.pg_table_is_visible(c.oid))\n",
      "            AND c.relname = %(table_name)s AND c.relkind in ('r', 'v', 'm', 'f')\n",
      "        \n"
     ]
    },
    {
     "name": "stderr",
     "output_type": "stream",
     "text": [
      "INFO:sqlalchemy.engine.base.Engine:\n",
      "            SELECT c.oid\n",
      "            FROM pg_catalog.pg_class c\n",
      "            LEFT JOIN pg_catalog.pg_namespace n ON n.oid = c.relnamespace\n",
      "            WHERE (pg_catalog.pg_table_is_visible(c.oid))\n",
      "            AND c.relname = %(table_name)s AND c.relkind in ('r', 'v', 'm', 'f')\n",
      "        \n"
     ]
    },
    {
     "name": "stdout",
     "output_type": "stream",
     "text": [
      "2016-01-09 00:05:19,155 INFO sqlalchemy.engine.base.Engine {'table_name': 'transactions'}\n"
     ]
    },
    {
     "name": "stderr",
     "output_type": "stream",
     "text": [
      "INFO:sqlalchemy.engine.base.Engine:{'table_name': 'transactions'}\n"
     ]
    },
    {
     "name": "stdout",
     "output_type": "stream",
     "text": [
      "2016-01-09 00:05:19,300 INFO sqlalchemy.engine.base.Engine \n",
      "              SELECT\n",
      "                  i.relname as relname,\n",
      "                  ix.indisunique, ix.indexprs, ix.indpred,\n",
      "                  a.attname, a.attnum, c.conrelid, ix.indkey::varchar,\n",
      "                  i.reloptions, am.amname\n",
      "              FROM\n",
      "                  pg_class t\n",
      "                        join pg_index ix on t.oid = ix.indrelid\n",
      "                        join pg_class i on i.oid = ix.indexrelid\n",
      "                        left outer join\n",
      "                            pg_attribute a\n",
      "                            on t.oid = a.attrelid and a.attnum = ANY(ix.indkey)\n",
      "                        left outer join\n",
      "                            pg_constraint c\n",
      "                            on (ix.indrelid = c.conrelid and\n",
      "                                ix.indexrelid = c.conindid and\n",
      "                                c.contype in ('p', 'u', 'x'))\n",
      "                        left outer join\n",
      "                            pg_am am\n",
      "                            on i.relam = am.oid\n",
      "              WHERE\n",
      "                  t.relkind IN ('r', 'v', 'f', 'm')\n",
      "                  and t.oid = %(table_oid)s\n",
      "                  and ix.indisprimary = 'f'\n",
      "              ORDER BY\n",
      "                  t.relname,\n",
      "                  i.relname\n",
      "            \n"
     ]
    },
    {
     "name": "stderr",
     "output_type": "stream",
     "text": [
      "INFO:sqlalchemy.engine.base.Engine:\n",
      "              SELECT\n",
      "                  i.relname as relname,\n",
      "                  ix.indisunique, ix.indexprs, ix.indpred,\n",
      "                  a.attname, a.attnum, c.conrelid, ix.indkey::varchar,\n",
      "                  i.reloptions, am.amname\n",
      "              FROM\n",
      "                  pg_class t\n",
      "                        join pg_index ix on t.oid = ix.indrelid\n",
      "                        join pg_class i on i.oid = ix.indexrelid\n",
      "                        left outer join\n",
      "                            pg_attribute a\n",
      "                            on t.oid = a.attrelid and a.attnum = ANY(ix.indkey)\n",
      "                        left outer join\n",
      "                            pg_constraint c\n",
      "                            on (ix.indrelid = c.conrelid and\n",
      "                                ix.indexrelid = c.conindid and\n",
      "                                c.contype in ('p', 'u', 'x'))\n",
      "                        left outer join\n",
      "                            pg_am am\n",
      "                            on i.relam = am.oid\n",
      "              WHERE\n",
      "                  t.relkind IN ('r', 'v', 'f', 'm')\n",
      "                  and t.oid = %(table_oid)s\n",
      "                  and ix.indisprimary = 'f'\n",
      "              ORDER BY\n",
      "                  t.relname,\n",
      "                  i.relname\n",
      "            \n"
     ]
    },
    {
     "name": "stdout",
     "output_type": "stream",
     "text": [
      "2016-01-09 00:05:19,301 INFO sqlalchemy.engine.base.Engine {'table_oid': 16426}\n"
     ]
    },
    {
     "name": "stderr",
     "output_type": "stream",
     "text": [
      "INFO:sqlalchemy.engine.base.Engine:{'table_oid': 16426}\n"
     ]
    },
    {
     "name": "stdout",
     "output_type": "stream",
     "text": [
      "2016-01-09 00:05:19,441 INFO sqlalchemy.engine.base.Engine \n",
      "            SELECT c.oid\n",
      "            FROM pg_catalog.pg_class c\n",
      "            LEFT JOIN pg_catalog.pg_namespace n ON n.oid = c.relnamespace\n",
      "            WHERE (pg_catalog.pg_table_is_visible(c.oid))\n",
      "            AND c.relname = %(table_name)s AND c.relkind in ('r', 'v', 'm', 'f')\n",
      "        \n"
     ]
    },
    {
     "name": "stderr",
     "output_type": "stream",
     "text": [
      "INFO:sqlalchemy.engine.base.Engine:\n",
      "            SELECT c.oid\n",
      "            FROM pg_catalog.pg_class c\n",
      "            LEFT JOIN pg_catalog.pg_namespace n ON n.oid = c.relnamespace\n",
      "            WHERE (pg_catalog.pg_table_is_visible(c.oid))\n",
      "            AND c.relname = %(table_name)s AND c.relkind in ('r', 'v', 'm', 'f')\n",
      "        \n"
     ]
    },
    {
     "name": "stdout",
     "output_type": "stream",
     "text": [
      "2016-01-09 00:05:19,442 INFO sqlalchemy.engine.base.Engine {'table_name': 'transactions_joined'}\n"
     ]
    },
    {
     "name": "stderr",
     "output_type": "stream",
     "text": [
      "INFO:sqlalchemy.engine.base.Engine:{'table_name': 'transactions_joined'}\n"
     ]
    },
    {
     "name": "stdout",
     "output_type": "stream",
     "text": [
      "2016-01-09 00:05:19,545 INFO sqlalchemy.engine.base.Engine \n",
      "              SELECT\n",
      "                  i.relname as relname,\n",
      "                  ix.indisunique, ix.indexprs, ix.indpred,\n",
      "                  a.attname, a.attnum, c.conrelid, ix.indkey::varchar,\n",
      "                  i.reloptions, am.amname\n",
      "              FROM\n",
      "                  pg_class t\n",
      "                        join pg_index ix on t.oid = ix.indrelid\n",
      "                        join pg_class i on i.oid = ix.indexrelid\n",
      "                        left outer join\n",
      "                            pg_attribute a\n",
      "                            on t.oid = a.attrelid and a.attnum = ANY(ix.indkey)\n",
      "                        left outer join\n",
      "                            pg_constraint c\n",
      "                            on (ix.indrelid = c.conrelid and\n",
      "                                ix.indexrelid = c.conindid and\n",
      "                                c.contype in ('p', 'u', 'x'))\n",
      "                        left outer join\n",
      "                            pg_am am\n",
      "                            on i.relam = am.oid\n",
      "              WHERE\n",
      "                  t.relkind IN ('r', 'v', 'f', 'm')\n",
      "                  and t.oid = %(table_oid)s\n",
      "                  and ix.indisprimary = 'f'\n",
      "              ORDER BY\n",
      "                  t.relname,\n",
      "                  i.relname\n",
      "            \n"
     ]
    },
    {
     "name": "stderr",
     "output_type": "stream",
     "text": [
      "INFO:sqlalchemy.engine.base.Engine:\n",
      "              SELECT\n",
      "                  i.relname as relname,\n",
      "                  ix.indisunique, ix.indexprs, ix.indpred,\n",
      "                  a.attname, a.attnum, c.conrelid, ix.indkey::varchar,\n",
      "                  i.reloptions, am.amname\n",
      "              FROM\n",
      "                  pg_class t\n",
      "                        join pg_index ix on t.oid = ix.indrelid\n",
      "                        join pg_class i on i.oid = ix.indexrelid\n",
      "                        left outer join\n",
      "                            pg_attribute a\n",
      "                            on t.oid = a.attrelid and a.attnum = ANY(ix.indkey)\n",
      "                        left outer join\n",
      "                            pg_constraint c\n",
      "                            on (ix.indrelid = c.conrelid and\n",
      "                                ix.indexrelid = c.conindid and\n",
      "                                c.contype in ('p', 'u', 'x'))\n",
      "                        left outer join\n",
      "                            pg_am am\n",
      "                            on i.relam = am.oid\n",
      "              WHERE\n",
      "                  t.relkind IN ('r', 'v', 'f', 'm')\n",
      "                  and t.oid = %(table_oid)s\n",
      "                  and ix.indisprimary = 'f'\n",
      "              ORDER BY\n",
      "                  t.relname,\n",
      "                  i.relname\n",
      "            \n"
     ]
    },
    {
     "name": "stdout",
     "output_type": "stream",
     "text": [
      "2016-01-09 00:05:19,546 INFO sqlalchemy.engine.base.Engine {'table_oid': 16432}\n"
     ]
    },
    {
     "name": "stderr",
     "output_type": "stream",
     "text": [
      "INFO:sqlalchemy.engine.base.Engine:{'table_oid': 16432}\n"
     ]
    },
    {
     "name": "stdout",
     "output_type": "stream",
     "text": [
      "2016-01-09 00:05:19,662 INFO sqlalchemy.engine.base.Engine \n",
      "            SELECT c.oid\n",
      "            FROM pg_catalog.pg_class c\n",
      "            LEFT JOIN pg_catalog.pg_namespace n ON n.oid = c.relnamespace\n",
      "            WHERE (pg_catalog.pg_table_is_visible(c.oid))\n",
      "            AND c.relname = %(table_name)s AND c.relkind in ('r', 'v', 'm', 'f')\n",
      "        \n"
     ]
    },
    {
     "name": "stderr",
     "output_type": "stream",
     "text": [
      "INFO:sqlalchemy.engine.base.Engine:\n",
      "            SELECT c.oid\n",
      "            FROM pg_catalog.pg_class c\n",
      "            LEFT JOIN pg_catalog.pg_namespace n ON n.oid = c.relnamespace\n",
      "            WHERE (pg_catalog.pg_table_is_visible(c.oid))\n",
      "            AND c.relname = %(table_name)s AND c.relkind in ('r', 'v', 'm', 'f')\n",
      "        \n"
     ]
    },
    {
     "name": "stdout",
     "output_type": "stream",
     "text": [
      "2016-01-09 00:05:19,664 INFO sqlalchemy.engine.base.Engine {'table_name': 'naics'}\n"
     ]
    },
    {
     "name": "stderr",
     "output_type": "stream",
     "text": [
      "INFO:sqlalchemy.engine.base.Engine:{'table_name': 'naics'}\n"
     ]
    },
    {
     "name": "stdout",
     "output_type": "stream",
     "text": [
      "2016-01-09 00:05:19,766 INFO sqlalchemy.engine.base.Engine \n",
      "              SELECT\n",
      "                  i.relname as relname,\n",
      "                  ix.indisunique, ix.indexprs, ix.indpred,\n",
      "                  a.attname, a.attnum, c.conrelid, ix.indkey::varchar,\n",
      "                  i.reloptions, am.amname\n",
      "              FROM\n",
      "                  pg_class t\n",
      "                        join pg_index ix on t.oid = ix.indrelid\n",
      "                        join pg_class i on i.oid = ix.indexrelid\n",
      "                        left outer join\n",
      "                            pg_attribute a\n",
      "                            on t.oid = a.attrelid and a.attnum = ANY(ix.indkey)\n",
      "                        left outer join\n",
      "                            pg_constraint c\n",
      "                            on (ix.indrelid = c.conrelid and\n",
      "                                ix.indexrelid = c.conindid and\n",
      "                                c.contype in ('p', 'u', 'x'))\n",
      "                        left outer join\n",
      "                            pg_am am\n",
      "                            on i.relam = am.oid\n",
      "              WHERE\n",
      "                  t.relkind IN ('r', 'v', 'f', 'm')\n",
      "                  and t.oid = %(table_oid)s\n",
      "                  and ix.indisprimary = 'f'\n",
      "              ORDER BY\n",
      "                  t.relname,\n",
      "                  i.relname\n",
      "            \n"
     ]
    },
    {
     "name": "stderr",
     "output_type": "stream",
     "text": [
      "INFO:sqlalchemy.engine.base.Engine:\n",
      "              SELECT\n",
      "                  i.relname as relname,\n",
      "                  ix.indisunique, ix.indexprs, ix.indpred,\n",
      "                  a.attname, a.attnum, c.conrelid, ix.indkey::varchar,\n",
      "                  i.reloptions, am.amname\n",
      "              FROM\n",
      "                  pg_class t\n",
      "                        join pg_index ix on t.oid = ix.indrelid\n",
      "                        join pg_class i on i.oid = ix.indexrelid\n",
      "                        left outer join\n",
      "                            pg_attribute a\n",
      "                            on t.oid = a.attrelid and a.attnum = ANY(ix.indkey)\n",
      "                        left outer join\n",
      "                            pg_constraint c\n",
      "                            on (ix.indrelid = c.conrelid and\n",
      "                                ix.indexrelid = c.conindid and\n",
      "                                c.contype in ('p', 'u', 'x'))\n",
      "                        left outer join\n",
      "                            pg_am am\n",
      "                            on i.relam = am.oid\n",
      "              WHERE\n",
      "                  t.relkind IN ('r', 'v', 'f', 'm')\n",
      "                  and t.oid = %(table_oid)s\n",
      "                  and ix.indisprimary = 'f'\n",
      "              ORDER BY\n",
      "                  t.relname,\n",
      "                  i.relname\n",
      "            \n"
     ]
    },
    {
     "name": "stdout",
     "output_type": "stream",
     "text": [
      "2016-01-09 00:05:19,767 INFO sqlalchemy.engine.base.Engine {'table_oid': 16442}\n"
     ]
    },
    {
     "name": "stderr",
     "output_type": "stream",
     "text": [
      "INFO:sqlalchemy.engine.base.Engine:{'table_oid': 16442}\n"
     ]
    }
   ],
   "source": [
    "insp = reflection.Inspector.from_engine(engine)\n",
    "indices = []\n",
    "for name in insp.get_table_names():\n",
    "    for index in insp.get_indexes(name):\n",
    "        indices.append((name,index))"
   ]
  },
  {
   "cell_type": "code",
   "execution_count": 31,
   "metadata": {
    "collapsed": false
   },
   "outputs": [
    {
     "data": {
      "text/plain": [
       "[('transactions_joined',\n",
       "  {'column_names': ['SHIPMT_VALUE'],\n",
       "   'name': 'shipmt_value_desc',\n",
       "   'unique': False}),\n",
       " ('transactions_joined',\n",
       "  {'column_names': ['SHIPMT_VALUE'], 'name': 'shipmt_value', 'unique': False}),\n",
       " ('transactions_joined',\n",
       "  {'column_names': ['orig_alpha_code', 'dest_alpha_code'],\n",
       "   'name': 'alpha_index',\n",
       "   'unique': False})]"
      ]
     },
     "execution_count": 31,
     "metadata": {},
     "output_type": "execute_result"
    }
   ],
   "source": [
    "indices"
   ]
  },
  {
   "cell_type": "code",
   "execution_count": null,
   "metadata": {
    "collapsed": true
   },
   "outputs": [],
   "source": [
    "import datetime"
   ]
  },
  {
   "cell_type": "code",
   "execution_count": null,
   "metadata": {
    "collapsed": false
   },
   "outputs": [],
   "source": [
    "now = datetime.datetime.now()\n",
    "l = list(get_rows(conn.execute(q, orig_code=\"NY\", dest_code=\"TX\").fetchall()))\n",
    "diff = datetime.datetime.now() - now\n",
    "\n"
   ]
  },
  {
   "cell_type": "code",
   "execution_count": null,
   "metadata": {
    "collapsed": false
   },
   "outputs": [],
   "source": [
    "print(\"It took {} seconds to execute the query\".format(diff))\n",
    "pprint(l)"
   ]
  },
  {
   "cell_type": "code",
   "execution_count": 32,
   "metadata": {
    "collapsed": true
   },
   "outputs": [],
   "source": [
    "#http://docs.sqlalchemy.org/en/latest/faq/performance.html#query-profiling\n",
    "from sqlalchemy import event\n",
    "from sqlalchemy.engine import Engine"
   ]
  },
  {
   "cell_type": "code",
   "execution_count": 33,
   "metadata": {
    "collapsed": true
   },
   "outputs": [],
   "source": [
    "@event.listens_for(Engine, \"before_cursor_execute\")\n",
    "def before_cursor_execute(conn, cursor, statement, parameters, context, executemany):\n",
    "    conn.info.setdefault('query_start_time', []).append(time.time())\n",
    "    print(\"Start Query: {}\".format(statement))"
   ]
  },
  {
   "cell_type": "code",
   "execution_count": 34,
   "metadata": {
    "collapsed": true
   },
   "outputs": [],
   "source": [
    "@event.listens_for(Engine, \"after_cursor_execute\")\n",
    "def after_cursor_execute(conn, cursor, statement, parameters, context, executemany):\n",
    "    total = time.time() - conn.info['query_start_time'].pop(-1)\n",
    "    print(\"Query Done\\nTotal-Time: {}\".format(total))"
   ]
  },
  {
   "cell_type": "code",
   "execution_count": null,
   "metadata": {
    "collapsed": false
   },
   "outputs": [],
   "source": [
    "l = list(get_rows(conn.execute(q2, orig_code=\"CA\").fetchall()))"
   ]
  },
  {
   "cell_type": "code",
   "execution_count": null,
   "metadata": {
    "collapsed": false
   },
   "outputs": [],
   "source": [
    "cmp = q.params(orig_code=\"CA\", dest_code=\"TX\").compile()"
   ]
  },
  {
   "cell_type": "code",
   "execution_count": null,
   "metadata": {
    "collapsed": false
   },
   "outputs": [],
   "source": [
    "print(cmp)"
   ]
  },
  {
   "cell_type": "code",
   "execution_count": null,
   "metadata": {
    "collapsed": false
   },
   "outputs": [],
   "source": [
    "# try creating a new index on shipmt_value\n",
    "i = Index('shipmt_value', tj.c.SHIPMT_VALUE)\n",
    "i.create(engine)"
   ]
  },
  {
   "cell_type": "code",
   "execution_count": null,
   "metadata": {
    "collapsed": false,
    "scrolled": true
   },
   "outputs": [],
   "source": [
    "l = list(get_rows(conn.execute(q, orig_code=\"WY\", dest_code=\"WY\").fetchall()))"
   ]
  },
  {
   "cell_type": "code",
   "execution_count": null,
   "metadata": {
    "collapsed": false
   },
   "outputs": [],
   "source": [
    "# that index made it much faster\n",
    "# let's try adding a functional index as well, a desc version of shipmt_value\n",
    "i = Index('shipmt_value_desc', tj.c.SHIPMT_VALUE.desc())\n",
    "i.create(engine)"
   ]
  },
  {
   "cell_type": "markdown",
   "metadata": {},
   "source": [
    "### Adding indexes greatly reduces time!"
   ]
  },
  {
   "cell_type": "markdown",
   "metadata": {
    "collapsed": true
   },
   "source": [
    "## Now I will be figuring out the queries needed for the other data views"
   ]
  },
  {
   "cell_type": "code",
   "execution_count": null,
   "metadata": {
    "collapsed": false
   },
   "outputs": [],
   "source": [
    "# we want to get the sctg names joined\n",
    "q = (select([tj.c.SCTG, func.count(tj.c.SHIPMT_ID).label(\"counts\")])\n",
    "     .where(and_(\n",
    "        tj.c.dest_alpha_code == 'TX',\n",
    "        tj.c.orig_alpha_code == 'WY'))\n",
    "     )\n",
    "        "
   ]
  },
  {
   "cell_type": "code",
   "execution_count": null,
   "metadata": {
    "collapsed": false
   },
   "outputs": [],
   "source": [
    "g1 = q.group_by(tj.c.SCTG)"
   ]
  },
  {
   "cell_type": "code",
   "execution_count": null,
   "metadata": {
    "collapsed": false
   },
   "outputs": [],
   "source": [
    "for i in get_rows(conn.execute(g1.limit(10)).fetchall()):\n",
    "    print(i)"
   ]
  },
  {
   "cell_type": "code",
   "execution_count": null,
   "metadata": {
    "collapsed": false
   },
   "outputs": [],
   "source": [
    "sctg.columns.keys()"
   ]
  },
  {
   "cell_type": "code",
   "execution_count": null,
   "metadata": {
    "collapsed": false
   },
   "outputs": [],
   "source": []
  },
  {
   "cell_type": "code",
   "execution_count": null,
   "metadata": {
    "collapsed": false,
    "scrolled": false
   },
   "outputs": [],
   "source": [
    "for i in get_rows(conn.execute(select([g1.alias(), sctg]).where(tj.c.SCTG == cast(sctg.c.SCTG, TEXT()))).fetchall()):\n",
    "    print(i)"
   ]
  },
  {
   "cell_type": "code",
   "execution_count": null,
   "metadata": {
    "collapsed": true
   },
   "outputs": [],
   "source": [
    "from sqlalchemy import cast, Numeric, String, TEXT"
   ]
  },
  {
   "cell_type": "code",
   "execution_count": null,
   "metadata": {
    "collapsed": false
   },
   "outputs": [],
   "source": [
    "tj.c.SCTG, print(cast(sctg.c.SCTG, TEXT()))"
   ]
  },
  {
   "cell_type": "code",
   "execution_count": 27,
   "metadata": {
    "collapsed": false
   },
   "outputs": [],
   "source": [
    "transactionsBetweenStates = (select([transactions_joined])\n",
    "                                 .where(\n",
    "                transactions_joined.c.orig_alpha_code==bindparam(\"orig_code\"))\n",
    "                                  .where(\n",
    "                transactions_joined.c.dest_alpha_code==bindparam(\"dest_code\"))\n",
    ")\n",
    "\n",
    "\n"
   ]
  },
  {
   "cell_type": "code",
   "execution_count": 28,
   "metadata": {
    "collapsed": true
   },
   "outputs": [],
   "source": [
    "q = transactionsBetweenStates.params(orig_code='CA', dest_code='CA')"
   ]
  },
  {
   "cell_type": "code",
   "execution_count": 34,
   "metadata": {
    "collapsed": false,
    "scrolled": true
   },
   "outputs": [
    {
     "name": "stdout",
     "output_type": "stream",
     "text": [
      "2016-01-15 19:22:55,809 INFO sqlalchemy.engine.base.Engine SELECT transactions_joined.\"SHIPMT_ID\", transactions_joined.\"ORIG_STATE\", transactions_joined.\"ORIG_MA\", transactions_joined.\"ORIG_CFS_AREA\", transactions_joined.\"DEST_STATE\", transactions_joined.\"DEST_MA\", transactions_joined.\"DEST_CFS_AREA\", transactions_joined.\"NAICS\", transactions_joined.\"QUARTER\", transactions_joined.\"SCTG\", transactions_joined.\"MODE\", transactions_joined.\"SHIPMT_VALUE\", transactions_joined.\"SHIPMT_WGHT\", transactions_joined.\"SHIPMT_DIST_GC\", transactions_joined.\"SHIPMT_DIST_ROUTED\", transactions_joined.\"TEMP_CNTL_YN\", transactions_joined.\"EXPORT_YN\", transactions_joined.\"EXPORT_CNTRY\", transactions_joined.\"HAZMAT\", transactions_joined.\"WGT_FACTOR\", transactions_joined.orig_name, transactions_joined.orig_alpha_code, transactions_joined.dest_name, transactions_joined.dest_alpha_code, transactions_joined.orig_lat, transactions_joined.orig_lon, transactions_joined.dest_lat, transactions_joined.dest_lon \n",
      "FROM transactions_joined \n",
      "WHERE transactions_joined.orig_alpha_code = %(orig_code)s AND transactions_joined.dest_alpha_code = %(dest_code)s\n"
     ]
    },
    {
     "name": "stderr",
     "output_type": "stream",
     "text": [
      "INFO:sqlalchemy.engine.base.Engine:SELECT transactions_joined.\"SHIPMT_ID\", transactions_joined.\"ORIG_STATE\", transactions_joined.\"ORIG_MA\", transactions_joined.\"ORIG_CFS_AREA\", transactions_joined.\"DEST_STATE\", transactions_joined.\"DEST_MA\", transactions_joined.\"DEST_CFS_AREA\", transactions_joined.\"NAICS\", transactions_joined.\"QUARTER\", transactions_joined.\"SCTG\", transactions_joined.\"MODE\", transactions_joined.\"SHIPMT_VALUE\", transactions_joined.\"SHIPMT_WGHT\", transactions_joined.\"SHIPMT_DIST_GC\", transactions_joined.\"SHIPMT_DIST_ROUTED\", transactions_joined.\"TEMP_CNTL_YN\", transactions_joined.\"EXPORT_YN\", transactions_joined.\"EXPORT_CNTRY\", transactions_joined.\"HAZMAT\", transactions_joined.\"WGT_FACTOR\", transactions_joined.orig_name, transactions_joined.orig_alpha_code, transactions_joined.dest_name, transactions_joined.dest_alpha_code, transactions_joined.orig_lat, transactions_joined.orig_lon, transactions_joined.dest_lat, transactions_joined.dest_lon \n",
      "FROM transactions_joined \n",
      "WHERE transactions_joined.orig_alpha_code = %(orig_code)s AND transactions_joined.dest_alpha_code = %(dest_code)s\n"
     ]
    },
    {
     "name": "stdout",
     "output_type": "stream",
     "text": [
      "2016-01-15 19:22:55,811 INFO sqlalchemy.engine.base.Engine {'dest_code': 'CA', 'orig_code': 'CA'}\n"
     ]
    },
    {
     "name": "stderr",
     "output_type": "stream",
     "text": [
      "INFO:sqlalchemy.engine.base.Engine:{'dest_code': 'CA', 'orig_code': 'CA'}\n"
     ]
    }
   ],
   "source": [
    "_data = pd.read_sql_query(q, engine)"
   ]
  },
  {
   "cell_type": "code",
   "execution_count": 51,
   "metadata": {
    "collapsed": false
   },
   "outputs": [
    {
     "name": "stdout",
     "output_type": "stream",
     "text": [
      "Object `value_counts` not found.\n"
     ]
    }
   ],
   "source": [
    "_data['QUARTER'].value_counts"
   ]
  },
  {
   "cell_type": "code",
   "execution_count": 56,
   "metadata": {
    "collapsed": false
   },
   "outputs": [],
   "source": [
    "sser= _data['QUARTER'].value_counts("
   ]
  },
  {
   "cell_type": "code",
   "execution_count": 61,
   "metadata": {
    "collapsed": true
   },
   "outputs": [],
   "source": [
    "import json"
   ]
  },
  {
   "cell_type": "code",
   "execution_count": 68,
   "metadata": {
    "collapsed": false
   },
   "outputs": [
    {
     "data": {
      "text/plain": [
       "'[{\"1\": \"58524\"}, {\"2\": \"58017\"}, {\"3\": \"55253\"}, {\"4\": \"50051\"}]'"
      ]
     },
     "execution_count": 68,
     "metadata": {},
     "output_type": "execute_result"
    }
   ],
   "source": [
    "json.dumps([{str(k):str(v)} for k,v in sser.sort_index().to_dict().items()])"
   ]
  },
  {
   "cell_type": "code",
   "execution_count": 76,
   "metadata": {
    "collapsed": false
   },
   "outputs": [
    {
     "name": "stdout",
     "output_type": "stream",
     "text": [
      "2016-02-08 21:19:31,495 INFO sqlalchemy.engine.base.Engine SELECT transactions_joined.\"SHIPMT_ID\", transactions_joined.\"ORIG_STATE\", transactions_joined.\"ORIG_MA\", transactions_joined.\"ORIG_CFS_AREA\", transactions_joined.\"DEST_STATE\", transactions_joined.\"DEST_MA\", transactions_joined.\"DEST_CFS_AREA\", transactions_joined.\"NAICS\", transactions_joined.\"QUARTER\", transactions_joined.\"SCTG\", transactions_joined.\"MODE\", transactions_joined.\"SHIPMT_VALUE\", transactions_joined.\"SHIPMT_WGHT\", transactions_joined.\"SHIPMT_DIST_GC\", transactions_joined.\"SHIPMT_DIST_ROUTED\", transactions_joined.\"TEMP_CNTL_YN\", transactions_joined.\"EXPORT_YN\", transactions_joined.\"EXPORT_CNTRY\", transactions_joined.\"HAZMAT\", transactions_joined.\"WGT_FACTOR\", transactions_joined.orig_name, transactions_joined.orig_alpha_code, transactions_joined.dest_name, transactions_joined.dest_alpha_code, transactions_joined.orig_lat, transactions_joined.orig_lon, transactions_joined.dest_lat, transactions_joined.dest_lon \n",
      "FROM transactions_joined \n",
      " LIMIT %(param_1)s\n"
     ]
    },
    {
     "name": "stderr",
     "output_type": "stream",
     "text": [
      "INFO:sqlalchemy.engine.base.Engine:SELECT transactions_joined.\"SHIPMT_ID\", transactions_joined.\"ORIG_STATE\", transactions_joined.\"ORIG_MA\", transactions_joined.\"ORIG_CFS_AREA\", transactions_joined.\"DEST_STATE\", transactions_joined.\"DEST_MA\", transactions_joined.\"DEST_CFS_AREA\", transactions_joined.\"NAICS\", transactions_joined.\"QUARTER\", transactions_joined.\"SCTG\", transactions_joined.\"MODE\", transactions_joined.\"SHIPMT_VALUE\", transactions_joined.\"SHIPMT_WGHT\", transactions_joined.\"SHIPMT_DIST_GC\", transactions_joined.\"SHIPMT_DIST_ROUTED\", transactions_joined.\"TEMP_CNTL_YN\", transactions_joined.\"EXPORT_YN\", transactions_joined.\"EXPORT_CNTRY\", transactions_joined.\"HAZMAT\", transactions_joined.\"WGT_FACTOR\", transactions_joined.orig_name, transactions_joined.orig_alpha_code, transactions_joined.dest_name, transactions_joined.dest_alpha_code, transactions_joined.orig_lat, transactions_joined.orig_lon, transactions_joined.dest_lat, transactions_joined.dest_lon \n",
      "FROM transactions_joined \n",
      " LIMIT %(param_1)s\n"
     ]
    },
    {
     "name": "stdout",
     "output_type": "stream",
     "text": [
      "2016-02-08 21:19:31,497 INFO sqlalchemy.engine.base.Engine {'param_1': 10}\n"
     ]
    },
    {
     "name": "stderr",
     "output_type": "stream",
     "text": [
      "INFO:sqlalchemy.engine.base.Engine:{'param_1': 10}\n"
     ]
    },
    {
     "data": {
      "text/plain": [
       "[(3430894, 4, 536, '04-536', 4, 99999, '04-99999', 212, 1, '14', 6, 147651, 180762, 106, 269, 'N', 'N', 'N', 'N', 455.0, 'Arizona', 'AZ', 'Arizona', 'AZ', 33.7712, -111.3877, 33.7712, -111.3877),\n",
       " (3430895, 41, 99999, '41-99999', 41, 440, '41-440', 4235, 1, '32', 5, 5817, 9434, 94, 121, 'N', 'N', 'N', 'N', 243.3, 'Oregon', 'OR', 'Oregon', 'OR', 44.5672, -122.1269, 44.5672, -122.1269),\n",
       " (3430896, 48, 288, '48-288', 48, 288, '48-288', 4231, 3, '24', 5, 208, 75, 28, 35, 'N', 'N', 'N', 'N', 6615.5, 'Texas', 'TX', 'Texas', 'TX', 31.106, -97.6475, 31.106, -97.6475),\n",
       " (3430897, 6, 348, '06-348', 6, 260, '06-260', 4243, 1, '40', 14, 1025, 53, 210, 226, 'N', 'N', 'N', 'N', 9193.1, 'California', 'CA', 'California', 'CA', 36.17, -119.7462, 36.17, -119.7462),\n",
       " (3430898, 17, 476, '17-476', 29, 99999, '29-99999', 311, 4, '07', 4, 10180, 43346, 176, 215, 'Y', 'N', 'N', 'N', 140.9, 'Illinois', 'IL', 'Missouri', 'MO', 40.3363, -89.0022, 38.4623, -92.302),\n",
       " (3430899, 33, 99999, '33-99999', 33, 99999, '33-99999', 4249, 1, '04', 4, 55, 74, 8, 8, 'N', 'N', 'N', 'N', 273.0, 'New Hampshire', 'NH', 'New Hampshire', 'NH', 43.4108, -71.5653, 43.4108, -71.5653),\n",
       " (3430900, 6, 348, '06-348', 6, 348, '06-348', 4243, 3, '30', 14, 16, 1, 2, 3, 'N', 'N', 'N', 'N', 1025.6, 'California', 'CA', 'California', 'CA', 36.17, -119.7462, 36.17, -119.7462),\n",
       " (3430901, 48, 41700, '48-41700', 4, 38060, '04-38060', 311, 4, '07', 4, 567, 133, 820, 938, 'N', 'N', 'N', 'N', 33.1, 'Texas', 'TX', 'Arizona', 'AZ', 31.106, -97.6475, 33.7712, -111.3877),\n",
       " (3430902, 6, 348, '06-348', 6, 348, '06-348', 332, 4, '33', 5, 1245, 364, 13, 13, 'N', 'N', 'N', 'N', 1091.0, 'California', 'CA', 'California', 'CA', 36.17, -119.7462, 36.17, -119.7462),\n",
       " (3430903, 6, 488, '06-488', 6, 99999, '06-99999', 321, 2, '26', 5, 373, 14237, 44, 54, 'N', 'N', 'N', 'N', 224.7, 'California', 'CA', 'California', 'CA', 36.17, -119.7462, 36.17, -119.7462)]"
      ]
     },
     "execution_count": 76,
     "metadata": {},
     "output_type": "execute_result"
    }
   ],
   "source": [
    "conn.execute(select([transactions_joined]).limit(10)).fetchall()"
   ]
  },
  {
   "cell_type": "code",
   "execution_count": 90,
   "metadata": {
    "collapsed": false
   },
   "outputs": [
    {
     "name": "stdout",
     "output_type": "stream",
     "text": [
      "2016-02-08 21:48:46,293 INFO sqlalchemy.engine.base.Engine \n",
      "        SELECT \"orig_alpha_code\", \n",
      "                COUNT(1) as shipment_counts\n",
      "        FROM   transactions_joined\n",
      "        GROUP BY 1\n",
      "        ORDER BY 2 DESC\n",
      "        LIMIT 10\n",
      "        \n"
     ]
    },
    {
     "name": "stderr",
     "output_type": "stream",
     "text": [
      "INFO:sqlalchemy.engine.base.Engine:\n",
      "        SELECT \"orig_alpha_code\", \n",
      "                COUNT(1) as shipment_counts\n",
      "        FROM   transactions_joined\n",
      "        GROUP BY 1\n",
      "        ORDER BY 2 DESC\n",
      "        LIMIT 10\n",
      "        \n"
     ]
    },
    {
     "name": "stdout",
     "output_type": "stream",
     "text": [
      "2016-02-08 21:48:46,294 INFO sqlalchemy.engine.base.Engine {}\n"
     ]
    },
    {
     "name": "stderr",
     "output_type": "stream",
     "text": [
      "INFO:sqlalchemy.engine.base.Engine:{}\n"
     ]
    },
    {
     "data": {
      "text/plain": [
       "[('CA', 341984),\n",
       " ('TX', 267822),\n",
       " ('OH', 221321),\n",
       " ('PA', 205959),\n",
       " ('NY', 184429),\n",
       " ('FL', 172342),\n",
       " ('IL', 170608),\n",
       " ('MI', 150136),\n",
       " ('NC', 148681),\n",
       " ('IN', 141060)]"
      ]
     },
     "execution_count": 90,
     "metadata": {},
     "output_type": "execute_result"
    }
   ],
   "source": [
    "conn.execute(text(\n",
    "        \"\"\"\n",
    "        SELECT \"orig_alpha_code\", \n",
    "                COUNT(1) as shipment_counts\n",
    "        FROM   transactions_joined\n",
    "        GROUP BY 1\n",
    "        ORDER BY 2 DESC\n",
    "        LIMIT 10\n",
    "        \"\"\"\n",
    "    )).fetchall()"
   ]
  },
  {
   "cell_type": "code",
   "execution_count": null,
   "metadata": {
    "collapsed": true
   },
   "outputs": [],
   "source": []
  }
 ],
 "metadata": {
  "kernelspec": {
   "display_name": "Python 3",
   "language": "python",
   "name": "python3"
  },
  "language_info": {
   "codemirror_mode": {
    "name": "ipython",
    "version": 3
   },
   "file_extension": ".py",
   "mimetype": "text/x-python",
   "name": "python",
   "nbconvert_exporter": "python",
   "pygments_lexer": "ipython3",
   "version": "3.4.2"
  }
 },
 "nbformat": 4,
 "nbformat_minor": 0
}
