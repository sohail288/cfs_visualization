{
 "cells": [
  {
   "cell_type": "markdown",
   "metadata": {},
   "source": [
    "## SQL Alchemy run through"
   ]
  },
  {
   "cell_type": "markdown",
   "metadata": {},
   "source": [
    "In the previous notebook, we made an RDS Instance that contains all of our tables. In this subsection, we will go over retrieving this information using SQL Alchemy"
   ]
  },
  {
   "cell_type": "markdown",
   "metadata": {},
   "source": [
    "## Making the engine"
   ]
  },
  {
   "cell_type": "code",
   "execution_count": 1,
   "metadata": {
    "collapsed": true
   },
   "outputs": [],
   "source": [
    "from sqlalchemy import create_engine, select\n",
    "from sqlalchemy.dialects.postgresql import psycopg2\n",
    "from sqlalchemy import Table, Column, Integer, String, MetaData, ForeignKey\n",
    "import psycopg2\n",
    "import sqlalchemy"
   ]
  },
  {
   "cell_type": "code",
   "execution_count": 2,
   "metadata": {
    "collapsed": true
   },
   "outputs": [],
   "source": [
    "import boto3\n",
    "import pandas as pd"
   ]
  },
  {
   "cell_type": "code",
   "execution_count": 3,
   "metadata": {
    "collapsed": false
   },
   "outputs": [
    {
     "data": {
      "text/plain": [
       "True"
      ]
     },
     "execution_count": 3,
     "metadata": {},
     "output_type": "execute_result"
    }
   ],
   "source": [
    "int(sqlalchemy.__version__[0]) >= 1"
   ]
  },
  {
   "cell_type": "code",
   "execution_count": 4,
   "metadata": {
    "collapsed": false
   },
   "outputs": [],
   "source": [
    "from sqlalchemy.sql import and_, or_"
   ]
  },
  {
   "cell_type": "code",
   "execution_count": 5,
   "metadata": {
    "collapsed": true
   },
   "outputs": [],
   "source": [
    "from sqlalchemy import func, text, case"
   ]
  },
  {
   "cell_type": "code",
   "execution_count": 6,
   "metadata": {
    "collapsed": true
   },
   "outputs": [],
   "source": [
    "from pprint import pprint"
   ]
  },
  {
   "cell_type": "markdown",
   "metadata": {},
   "source": [
    "### first get the rds instance we deployed earlier"
   ]
  },
  {
   "cell_type": "code",
   "execution_count": 7,
   "metadata": {
    "collapsed": false
   },
   "outputs": [],
   "source": [
    "rds = boto3.client('rds')"
   ]
  },
  {
   "cell_type": "code",
   "execution_count": 8,
   "metadata": {
    "collapsed": true
   },
   "outputs": [],
   "source": [
    "def getAddressAndPort(instance_identifier):\n",
    "    import boto3\n",
    "    rds_client = boto3.client('rds')\n",
    "\n",
    "    instance =filter(\n",
    "        lambda instance: instance['DBInstanceIdentifier'] == instance_identifier,\n",
    "                           rds.describe_db_instances()['DBInstances'])\n",
    "    endpoint= list(instance)[0]['Endpoint']\n",
    "    address, port = endpoint['Address'], endpoint['Port']\n",
    "    return address, port\n",
    "\n"
   ]
  },
  {
   "cell_type": "code",
   "execution_count": 9,
   "metadata": {
    "collapsed": false
   },
   "outputs": [
    {
     "data": {
      "text/plain": [
       "('cfsdb.cs4yyoqmq4gl.us-west-1.rds.amazonaws.com', 5432)"
      ]
     },
     "execution_count": 9,
     "metadata": {},
     "output_type": "execute_result"
    }
   ],
   "source": [
    "getAddressAndPort('cfsdb')"
   ]
  },
  {
   "cell_type": "code",
   "execution_count": 10,
   "metadata": {
    "collapsed": false
   },
   "outputs": [],
   "source": [
    "instances = list(filter(lambda instance: instance['DBInstanceStatus']=='available', rds.describe_db_instances()['DBInstances']))"
   ]
  },
  {
   "cell_type": "code",
   "execution_count": 11,
   "metadata": {
    "collapsed": true
   },
   "outputs": [],
   "source": [
    "instance = instances[0]"
   ]
  },
  {
   "cell_type": "code",
   "execution_count": 12,
   "metadata": {
    "collapsed": false
   },
   "outputs": [
    {
     "data": {
      "text/plain": [
       "[{'AllocatedStorage': 5,\n",
       "  'AutoMinorVersionUpgrade': True,\n",
       "  'AvailabilityZone': 'us-west-1c',\n",
       "  'BackupRetentionPeriod': 5,\n",
       "  'CACertificateIdentifier': 'rds-ca-2015',\n",
       "  'CopyTagsToSnapshot': False,\n",
       "  'DBInstanceClass': 'db.m4.large',\n",
       "  'DBInstanceIdentifier': 'cfsdb',\n",
       "  'DBInstanceStatus': 'available',\n",
       "  'DBName': 'cfsdb',\n",
       "  'DBParameterGroups': [{'DBParameterGroupName': 'default.postgres9.4',\n",
       "    'ParameterApplyStatus': 'in-sync'}],\n",
       "  'DBSecurityGroups': [],\n",
       "  'DBSubnetGroup': {'DBSubnetGroupDescription': 'default',\n",
       "   'DBSubnetGroupName': 'default',\n",
       "   'SubnetGroupStatus': 'Complete',\n",
       "   'Subnets': [{'SubnetAvailabilityZone': {'Name': 'us-west-1c'},\n",
       "     'SubnetIdentifier': 'subnet-1d5ab444',\n",
       "     'SubnetStatus': 'Active'},\n",
       "    {'SubnetAvailabilityZone': {'Name': 'us-west-1a'},\n",
       "     'SubnetIdentifier': 'subnet-e9b1188c',\n",
       "     'SubnetStatus': 'Active'}],\n",
       "   'VpcId': 'vpc-bba470de'},\n",
       "  'DbInstancePort': 0,\n",
       "  'DbiResourceId': 'db-MRSQSSQK446ID2RK4BSFQ52DWE',\n",
       "  'Endpoint': {'Address': 'cfsdb.cs4yyoqmq4gl.us-west-1.rds.amazonaws.com',\n",
       "   'Port': 5432},\n",
       "  'Engine': 'postgres',\n",
       "  'EngineVersion': '9.4.1',\n",
       "  'InstanceCreateTime': datetime.datetime(2015, 12, 7, 8, 19, 6, 762000, tzinfo=tzutc()),\n",
       "  'LatestRestorableTime': datetime.datetime(2016, 1, 16, 3, 13, 40, tzinfo=tzutc()),\n",
       "  'LicenseModel': 'postgresql-license',\n",
       "  'MasterUsername': 'TestUser',\n",
       "  'MultiAZ': False,\n",
       "  'OptionGroupMemberships': [{'OptionGroupName': 'default:postgres-9-4',\n",
       "    'Status': 'in-sync'}],\n",
       "  'PendingModifiedValues': {},\n",
       "  'PreferredBackupWindow': '10:11-10:41',\n",
       "  'PreferredMaintenanceWindow': 'mon:06:00-mon:10:00',\n",
       "  'PubliclyAccessible': True,\n",
       "  'ReadReplicaDBInstanceIdentifiers': [],\n",
       "  'StorageEncrypted': False,\n",
       "  'StorageType': 'standard',\n",
       "  'VpcSecurityGroups': [{'Status': 'active',\n",
       "    'VpcSecurityGroupId': 'sg-be7ec2db'}]}]"
      ]
     },
     "execution_count": 12,
     "metadata": {},
     "output_type": "execute_result"
    }
   ],
   "source": [
    "instances"
   ]
  },
  {
   "cell_type": "code",
   "execution_count": 13,
   "metadata": {
    "collapsed": false
   },
   "outputs": [],
   "source": [
    "address, port = instance['Endpoint']['Address'], instance['Endpoint']['Port']\n",
    "db_name = instance['DBName']\n",
    "username = instance['MasterUsername']\n",
    "password = 'TestPassword'"
   ]
  },
  {
   "cell_type": "code",
   "execution_count": 14,
   "metadata": {
    "collapsed": false,
    "scrolled": true
   },
   "outputs": [
    {
     "data": {
      "text/plain": [
       "('cfsdb.cs4yyoqmq4gl.us-west-1.rds.amazonaws.com', 'cfsdb')"
      ]
     },
     "execution_count": 14,
     "metadata": {},
     "output_type": "execute_result"
    }
   ],
   "source": [
    "address, db_name"
   ]
  },
  {
   "cell_type": "code",
   "execution_count": 15,
   "metadata": {
    "collapsed": false
   },
   "outputs": [],
   "source": [
    "engine = create_engine('postgresql+psycopg2://{username}:{password}@{add}:{port}/{db_name}'.format(\n",
    "    username=username,\n",
    "    password=password,\n",
    "    add=address,\n",
    "    port=port,\n",
    "    db_name=db_name), echo=True)"
   ]
  },
  {
   "cell_type": "code",
   "execution_count": 16,
   "metadata": {
    "collapsed": false
   },
   "outputs": [
    {
     "name": "stdout",
     "output_type": "stream",
     "text": [
      "2016-01-15 19:16:27,197 INFO sqlalchemy.engine.base.Engine select version()\n"
     ]
    },
    {
     "name": "stderr",
     "output_type": "stream",
     "text": [
      "INFO:sqlalchemy.engine.base.Engine:select version()\n"
     ]
    },
    {
     "name": "stdout",
     "output_type": "stream",
     "text": [
      "2016-01-15 19:16:27,198 INFO sqlalchemy.engine.base.Engine {}\n"
     ]
    },
    {
     "name": "stderr",
     "output_type": "stream",
     "text": [
      "INFO:sqlalchemy.engine.base.Engine:{}\n"
     ]
    },
    {
     "name": "stdout",
     "output_type": "stream",
     "text": [
      "2016-01-15 19:16:27,242 INFO sqlalchemy.engine.base.Engine select current_schema()\n"
     ]
    },
    {
     "name": "stderr",
     "output_type": "stream",
     "text": [
      "INFO:sqlalchemy.engine.base.Engine:select current_schema()\n"
     ]
    },
    {
     "name": "stdout",
     "output_type": "stream",
     "text": [
      "2016-01-15 19:16:27,243 INFO sqlalchemy.engine.base.Engine {}\n"
     ]
    },
    {
     "name": "stderr",
     "output_type": "stream",
     "text": [
      "INFO:sqlalchemy.engine.base.Engine:{}\n"
     ]
    },
    {
     "name": "stdout",
     "output_type": "stream",
     "text": [
      "2016-01-15 19:16:27,292 INFO sqlalchemy.engine.base.Engine SELECT CAST('test plain returns' AS VARCHAR(60)) AS anon_1\n"
     ]
    },
    {
     "name": "stderr",
     "output_type": "stream",
     "text": [
      "INFO:sqlalchemy.engine.base.Engine:SELECT CAST('test plain returns' AS VARCHAR(60)) AS anon_1\n"
     ]
    },
    {
     "name": "stdout",
     "output_type": "stream",
     "text": [
      "2016-01-15 19:16:27,293 INFO sqlalchemy.engine.base.Engine {}\n"
     ]
    },
    {
     "name": "stderr",
     "output_type": "stream",
     "text": [
      "INFO:sqlalchemy.engine.base.Engine:{}\n"
     ]
    },
    {
     "name": "stdout",
     "output_type": "stream",
     "text": [
      "2016-01-15 19:16:27,318 INFO sqlalchemy.engine.base.Engine SELECT CAST('test unicode returns' AS VARCHAR(60)) AS anon_1\n"
     ]
    },
    {
     "name": "stderr",
     "output_type": "stream",
     "text": [
      "INFO:sqlalchemy.engine.base.Engine:SELECT CAST('test unicode returns' AS VARCHAR(60)) AS anon_1\n"
     ]
    },
    {
     "name": "stdout",
     "output_type": "stream",
     "text": [
      "2016-01-15 19:16:27,319 INFO sqlalchemy.engine.base.Engine {}\n"
     ]
    },
    {
     "name": "stderr",
     "output_type": "stream",
     "text": [
      "INFO:sqlalchemy.engine.base.Engine:{}\n"
     ]
    },
    {
     "name": "stdout",
     "output_type": "stream",
     "text": [
      "2016-01-15 19:16:27,365 INFO sqlalchemy.engine.base.Engine show standard_conforming_strings\n"
     ]
    },
    {
     "name": "stderr",
     "output_type": "stream",
     "text": [
      "INFO:sqlalchemy.engine.base.Engine:show standard_conforming_strings\n"
     ]
    },
    {
     "name": "stdout",
     "output_type": "stream",
     "text": [
      "2016-01-15 19:16:27,366 INFO sqlalchemy.engine.base.Engine {}\n"
     ]
    },
    {
     "name": "stderr",
     "output_type": "stream",
     "text": [
      "INFO:sqlalchemy.engine.base.Engine:{}\n"
     ]
    }
   ],
   "source": [
    "conn = engine.connect()"
   ]
  },
  {
   "cell_type": "code",
   "execution_count": null,
   "metadata": {
    "collapsed": false
   },
   "outputs": [],
   "source": [
    "# at this point we can remove entry 0 that we used in the earlier notebook\n",
    "conn.execute(\"\"\"\n",
    "             DELETE FROM ONLY transactions\n",
    "             WHERE \"SHIPMT_ID\" = 0 \"\"\")"
   ]
  },
  {
   "cell_type": "code",
   "execution_count": null,
   "metadata": {
    "collapsed": false
   },
   "outputs": [],
   "source": [
    "assert conn.execute(\"\"\"\n",
    "    SELECT  \"SHIPMT_ID\" \n",
    "    FROM transactions\n",
    "    LIMIT 1\n",
    "    \"\"\").fetchall()[0][0] == 1, \"Failed to delete row\""
   ]
  },
  {
   "cell_type": "code",
   "execution_count": 17,
   "metadata": {
    "collapsed": false
   },
   "outputs": [
    {
     "name": "stdout",
     "output_type": "stream",
     "text": [
      "2016-01-15 19:16:32,974 INFO sqlalchemy.engine.base.Engine \n",
      "             SELECT \n",
      "             CASE WHEN \"HAZMAT\" = 'P' OR \"HAZMAT\" = 'H' THEN 'Hazardous' \n",
      "                  WHEN \"HAZMAT\" = 'N' THEN 'Not Hazardous' \n",
      "                  ELSE  'n/a' END AS \"hazmat\", \n",
      "             COUNT(1) \n",
      "             FROM transactions \n",
      "             GROUP BY 1\n",
      "             \n"
     ]
    },
    {
     "name": "stderr",
     "output_type": "stream",
     "text": [
      "INFO:sqlalchemy.engine.base.Engine:\n",
      "             SELECT \n",
      "             CASE WHEN \"HAZMAT\" = 'P' OR \"HAZMAT\" = 'H' THEN 'Hazardous' \n",
      "                  WHEN \"HAZMAT\" = 'N' THEN 'Not Hazardous' \n",
      "                  ELSE  'n/a' END AS \"hazmat\", \n",
      "             COUNT(1) \n",
      "             FROM transactions \n",
      "             GROUP BY 1\n",
      "             \n"
     ]
    },
    {
     "name": "stdout",
     "output_type": "stream",
     "text": [
      "2016-01-15 19:16:32,976 INFO sqlalchemy.engine.base.Engine {}\n"
     ]
    },
    {
     "name": "stderr",
     "output_type": "stream",
     "text": [
      "INFO:sqlalchemy.engine.base.Engine:{}\n"
     ]
    }
   ],
   "source": [
    "# first try some basic sql queries\n",
    "# get hazardous or not hazardous\n",
    "q = conn.execute(\"\"\"\n",
    "             SELECT \n",
    "             CASE WHEN \"HAZMAT\" = 'P' OR \"HAZMAT\" = 'H' THEN 'Hazardous' \n",
    "                  WHEN \"HAZMAT\" = 'N' THEN 'Not Hazardous' \n",
    "                  ELSE  'n/a' END AS \"hazmat\", \n",
    "             COUNT(1) \n",
    "             FROM transactions \n",
    "             GROUP BY 1\n",
    "             \"\"\"\n",
    "             )"
   ]
  },
  {
   "cell_type": "code",
   "execution_count": 18,
   "metadata": {
    "collapsed": false
   },
   "outputs": [
    {
     "data": {
      "text/plain": [
       "[('Hazardous', 302979), ('Not Hazardous', 4244682)]"
      ]
     },
     "execution_count": 18,
     "metadata": {},
     "output_type": "execute_result"
    }
   ],
   "source": [
    "q.fetchall()"
   ]
  },
  {
   "cell_type": "markdown",
   "metadata": {},
   "source": [
    "### Now that you have it working, use SqlAlchemy to show all the tables you currently have"
   ]
  },
  {
   "cell_type": "markdown",
   "metadata": {},
   "source": [
    "MetaData allows you to store all the information about all the tables in your database in a convenient location you have to use the reflect method of MetaData to accomplish this."
   ]
  },
  {
   "cell_type": "code",
   "execution_count": 19,
   "metadata": {
    "collapsed": false
   },
   "outputs": [],
   "source": [
    "meta = MetaData()"
   ]
  },
  {
   "cell_type": "code",
   "execution_count": 20,
   "metadata": {
    "collapsed": false
   },
   "outputs": [
    {
     "name": "stdout",
     "output_type": "stream",
     "text": [
      "2016-01-15 19:16:39,070 INFO sqlalchemy.engine.base.Engine SELECT relname FROM pg_class c WHERE relkind = 'r' AND 'public' = (select nspname from pg_namespace n where n.oid = c.relnamespace) \n"
     ]
    },
    {
     "name": "stderr",
     "output_type": "stream",
     "text": [
      "INFO:sqlalchemy.engine.base.Engine:SELECT relname FROM pg_class c WHERE relkind = 'r' AND 'public' = (select nspname from pg_namespace n where n.oid = c.relnamespace) \n"
     ]
    },
    {
     "name": "stdout",
     "output_type": "stream",
     "text": [
      "2016-01-15 19:16:39,071 INFO sqlalchemy.engine.base.Engine {}\n"
     ]
    },
    {
     "name": "stderr",
     "output_type": "stream",
     "text": [
      "INFO:sqlalchemy.engine.base.Engine:{}\n"
     ]
    },
    {
     "name": "stdout",
     "output_type": "stream",
     "text": [
      "2016-01-15 19:16:39,122 INFO sqlalchemy.engine.base.Engine \n",
      "            SELECT c.oid\n",
      "            FROM pg_catalog.pg_class c\n",
      "            LEFT JOIN pg_catalog.pg_namespace n ON n.oid = c.relnamespace\n",
      "            WHERE (pg_catalog.pg_table_is_visible(c.oid))\n",
      "            AND c.relname = %(table_name)s AND c.relkind in ('r', 'v', 'm', 'f')\n",
      "        \n"
     ]
    },
    {
     "name": "stderr",
     "output_type": "stream",
     "text": [
      "INFO:sqlalchemy.engine.base.Engine:\n",
      "            SELECT c.oid\n",
      "            FROM pg_catalog.pg_class c\n",
      "            LEFT JOIN pg_catalog.pg_namespace n ON n.oid = c.relnamespace\n",
      "            WHERE (pg_catalog.pg_table_is_visible(c.oid))\n",
      "            AND c.relname = %(table_name)s AND c.relkind in ('r', 'v', 'm', 'f')\n",
      "        \n"
     ]
    },
    {
     "name": "stdout",
     "output_type": "stream",
     "text": [
      "2016-01-15 19:16:39,123 INFO sqlalchemy.engine.base.Engine {'table_name': 'transport_mode'}\n"
     ]
    },
    {
     "name": "stderr",
     "output_type": "stream",
     "text": [
      "INFO:sqlalchemy.engine.base.Engine:{'table_name': 'transport_mode'}\n"
     ]
    },
    {
     "name": "stdout",
     "output_type": "stream",
     "text": [
      "2016-01-15 19:16:39,144 INFO sqlalchemy.engine.base.Engine \n",
      "            SELECT a.attname,\n",
      "              pg_catalog.format_type(a.atttypid, a.atttypmod),\n",
      "              (SELECT pg_catalog.pg_get_expr(d.adbin, d.adrelid)\n",
      "                FROM pg_catalog.pg_attrdef d\n",
      "               WHERE d.adrelid = a.attrelid AND d.adnum = a.attnum\n",
      "               AND a.atthasdef)\n",
      "              AS DEFAULT,\n",
      "              a.attnotnull, a.attnum, a.attrelid as table_oid\n",
      "            FROM pg_catalog.pg_attribute a\n",
      "            WHERE a.attrelid = %(table_oid)s\n",
      "            AND a.attnum > 0 AND NOT a.attisdropped\n",
      "            ORDER BY a.attnum\n",
      "        \n"
     ]
    },
    {
     "name": "stderr",
     "output_type": "stream",
     "text": [
      "INFO:sqlalchemy.engine.base.Engine:\n",
      "            SELECT a.attname,\n",
      "              pg_catalog.format_type(a.atttypid, a.atttypmod),\n",
      "              (SELECT pg_catalog.pg_get_expr(d.adbin, d.adrelid)\n",
      "                FROM pg_catalog.pg_attrdef d\n",
      "               WHERE d.adrelid = a.attrelid AND d.adnum = a.attnum\n",
      "               AND a.atthasdef)\n",
      "              AS DEFAULT,\n",
      "              a.attnotnull, a.attnum, a.attrelid as table_oid\n",
      "            FROM pg_catalog.pg_attribute a\n",
      "            WHERE a.attrelid = %(table_oid)s\n",
      "            AND a.attnum > 0 AND NOT a.attisdropped\n",
      "            ORDER BY a.attnum\n",
      "        \n"
     ]
    },
    {
     "name": "stdout",
     "output_type": "stream",
     "text": [
      "2016-01-15 19:16:39,146 INFO sqlalchemy.engine.base.Engine {'table_oid': 16395}\n"
     ]
    },
    {
     "name": "stderr",
     "output_type": "stream",
     "text": [
      "INFO:sqlalchemy.engine.base.Engine:{'table_oid': 16395}\n"
     ]
    },
    {
     "name": "stdout",
     "output_type": "stream",
     "text": [
      "2016-01-15 19:16:39,169 INFO sqlalchemy.engine.base.Engine \n",
      "            SELECT t.typname as \"name\",\n",
      "               pg_catalog.format_type(t.typbasetype, t.typtypmod) as \"attype\",\n",
      "               not t.typnotnull as \"nullable\",\n",
      "               t.typdefault as \"default\",\n",
      "               pg_catalog.pg_type_is_visible(t.oid) as \"visible\",\n",
      "               n.nspname as \"schema\"\n",
      "            FROM pg_catalog.pg_type t\n",
      "               LEFT JOIN pg_catalog.pg_namespace n ON n.oid = t.typnamespace\n",
      "            WHERE t.typtype = 'd'\n",
      "        \n"
     ]
    },
    {
     "name": "stderr",
     "output_type": "stream",
     "text": [
      "INFO:sqlalchemy.engine.base.Engine:\n",
      "            SELECT t.typname as \"name\",\n",
      "               pg_catalog.format_type(t.typbasetype, t.typtypmod) as \"attype\",\n",
      "               not t.typnotnull as \"nullable\",\n",
      "               t.typdefault as \"default\",\n",
      "               pg_catalog.pg_type_is_visible(t.oid) as \"visible\",\n",
      "               n.nspname as \"schema\"\n",
      "            FROM pg_catalog.pg_type t\n",
      "               LEFT JOIN pg_catalog.pg_namespace n ON n.oid = t.typnamespace\n",
      "            WHERE t.typtype = 'd'\n",
      "        \n"
     ]
    },
    {
     "name": "stdout",
     "output_type": "stream",
     "text": [
      "2016-01-15 19:16:39,170 INFO sqlalchemy.engine.base.Engine {}\n"
     ]
    },
    {
     "name": "stderr",
     "output_type": "stream",
     "text": [
      "INFO:sqlalchemy.engine.base.Engine:{}\n"
     ]
    },
    {
     "name": "stdout",
     "output_type": "stream",
     "text": [
      "2016-01-15 19:16:39,195 INFO sqlalchemy.engine.base.Engine \n",
      "            SELECT t.typname as \"name\",\n",
      "               -- no enum defaults in 8.4 at least\n",
      "               -- t.typdefault as \"default\",\n",
      "               pg_catalog.pg_type_is_visible(t.oid) as \"visible\",\n",
      "               n.nspname as \"schema\",\n",
      "               e.enumlabel as \"label\"\n",
      "            FROM pg_catalog.pg_type t\n",
      "                 LEFT JOIN pg_catalog.pg_namespace n ON n.oid = t.typnamespace\n",
      "                 LEFT JOIN pg_catalog.pg_enum e ON t.oid = e.enumtypid\n",
      "            WHERE t.typtype = 'e'\n",
      "        ORDER BY \"schema\", \"name\", e.oid\n"
     ]
    },
    {
     "name": "stderr",
     "output_type": "stream",
     "text": [
      "INFO:sqlalchemy.engine.base.Engine:\n",
      "            SELECT t.typname as \"name\",\n",
      "               -- no enum defaults in 8.4 at least\n",
      "               -- t.typdefault as \"default\",\n",
      "               pg_catalog.pg_type_is_visible(t.oid) as \"visible\",\n",
      "               n.nspname as \"schema\",\n",
      "               e.enumlabel as \"label\"\n",
      "            FROM pg_catalog.pg_type t\n",
      "                 LEFT JOIN pg_catalog.pg_namespace n ON n.oid = t.typnamespace\n",
      "                 LEFT JOIN pg_catalog.pg_enum e ON t.oid = e.enumtypid\n",
      "            WHERE t.typtype = 'e'\n",
      "        ORDER BY \"schema\", \"name\", e.oid\n"
     ]
    },
    {
     "name": "stdout",
     "output_type": "stream",
     "text": [
      "2016-01-15 19:16:39,196 INFO sqlalchemy.engine.base.Engine {}\n"
     ]
    },
    {
     "name": "stderr",
     "output_type": "stream",
     "text": [
      "INFO:sqlalchemy.engine.base.Engine:{}\n"
     ]
    },
    {
     "name": "stdout",
     "output_type": "stream",
     "text": [
      "2016-01-15 19:16:39,223 INFO sqlalchemy.engine.base.Engine \n",
      "                SELECT a.attname\n",
      "                FROM pg_attribute a JOIN (\n",
      "                    SELECT unnest(ix.indkey) attnum,\n",
      "                           generate_subscripts(ix.indkey, 1) ord\n",
      "                    FROM pg_index ix\n",
      "                    WHERE ix.indrelid = %(table_oid)s AND ix.indisprimary\n",
      "                    ) k ON a.attnum=k.attnum\n",
      "                WHERE a.attrelid = %(table_oid)s\n",
      "                ORDER BY k.ord\n",
      "            \n"
     ]
    },
    {
     "name": "stderr",
     "output_type": "stream",
     "text": [
      "INFO:sqlalchemy.engine.base.Engine:\n",
      "                SELECT a.attname\n",
      "                FROM pg_attribute a JOIN (\n",
      "                    SELECT unnest(ix.indkey) attnum,\n",
      "                           generate_subscripts(ix.indkey, 1) ord\n",
      "                    FROM pg_index ix\n",
      "                    WHERE ix.indrelid = %(table_oid)s AND ix.indisprimary\n",
      "                    ) k ON a.attnum=k.attnum\n",
      "                WHERE a.attrelid = %(table_oid)s\n",
      "                ORDER BY k.ord\n",
      "            \n"
     ]
    },
    {
     "name": "stdout",
     "output_type": "stream",
     "text": [
      "2016-01-15 19:16:39,224 INFO sqlalchemy.engine.base.Engine {'table_oid': 16395}\n"
     ]
    },
    {
     "name": "stderr",
     "output_type": "stream",
     "text": [
      "INFO:sqlalchemy.engine.base.Engine:{'table_oid': 16395}\n"
     ]
    },
    {
     "name": "stdout",
     "output_type": "stream",
     "text": [
      "2016-01-15 19:16:39,251 INFO sqlalchemy.engine.base.Engine \n",
      "        SELECT conname\n",
      "           FROM  pg_catalog.pg_constraint r\n",
      "           WHERE r.conrelid = %(table_oid)s AND r.contype = 'p'\n",
      "           ORDER BY 1\n",
      "        \n"
     ]
    },
    {
     "name": "stderr",
     "output_type": "stream",
     "text": [
      "INFO:sqlalchemy.engine.base.Engine:\n",
      "        SELECT conname\n",
      "           FROM  pg_catalog.pg_constraint r\n",
      "           WHERE r.conrelid = %(table_oid)s AND r.contype = 'p'\n",
      "           ORDER BY 1\n",
      "        \n"
     ]
    },
    {
     "name": "stdout",
     "output_type": "stream",
     "text": [
      "2016-01-15 19:16:39,252 INFO sqlalchemy.engine.base.Engine {'table_oid': 16395}\n"
     ]
    },
    {
     "name": "stderr",
     "output_type": "stream",
     "text": [
      "INFO:sqlalchemy.engine.base.Engine:{'table_oid': 16395}\n"
     ]
    },
    {
     "name": "stdout",
     "output_type": "stream",
     "text": [
      "2016-01-15 19:16:39,275 INFO sqlalchemy.engine.base.Engine \n",
      "          SELECT r.conname,\n",
      "                pg_catalog.pg_get_constraintdef(r.oid, true) as condef,\n",
      "                n.nspname as conschema\n",
      "          FROM  pg_catalog.pg_constraint r,\n",
      "                pg_namespace n,\n",
      "                pg_class c\n",
      "\n",
      "          WHERE r.conrelid = %(table)s AND\n",
      "                r.contype = 'f' AND\n",
      "                c.oid = confrelid AND\n",
      "                n.oid = c.relnamespace\n",
      "          ORDER BY 1\n",
      "        \n"
     ]
    },
    {
     "name": "stderr",
     "output_type": "stream",
     "text": [
      "INFO:sqlalchemy.engine.base.Engine:\n",
      "          SELECT r.conname,\n",
      "                pg_catalog.pg_get_constraintdef(r.oid, true) as condef,\n",
      "                n.nspname as conschema\n",
      "          FROM  pg_catalog.pg_constraint r,\n",
      "                pg_namespace n,\n",
      "                pg_class c\n",
      "\n",
      "          WHERE r.conrelid = %(table)s AND\n",
      "                r.contype = 'f' AND\n",
      "                c.oid = confrelid AND\n",
      "                n.oid = c.relnamespace\n",
      "          ORDER BY 1\n",
      "        \n"
     ]
    },
    {
     "name": "stdout",
     "output_type": "stream",
     "text": [
      "2016-01-15 19:16:39,276 INFO sqlalchemy.engine.base.Engine {'table': 16395}\n"
     ]
    },
    {
     "name": "stderr",
     "output_type": "stream",
     "text": [
      "INFO:sqlalchemy.engine.base.Engine:{'table': 16395}\n"
     ]
    },
    {
     "name": "stdout",
     "output_type": "stream",
     "text": [
      "2016-01-15 19:16:39,302 INFO sqlalchemy.engine.base.Engine \n",
      "              SELECT\n",
      "                  i.relname as relname,\n",
      "                  ix.indisunique, ix.indexprs, ix.indpred,\n",
      "                  a.attname, a.attnum, c.conrelid, ix.indkey::varchar,\n",
      "                  i.reloptions, am.amname\n",
      "              FROM\n",
      "                  pg_class t\n",
      "                        join pg_index ix on t.oid = ix.indrelid\n",
      "                        join pg_class i on i.oid = ix.indexrelid\n",
      "                        left outer join\n",
      "                            pg_attribute a\n",
      "                            on t.oid = a.attrelid and a.attnum = ANY(ix.indkey)\n",
      "                        left outer join\n",
      "                            pg_constraint c\n",
      "                            on (ix.indrelid = c.conrelid and\n",
      "                                ix.indexrelid = c.conindid and\n",
      "                                c.contype in ('p', 'u', 'x'))\n",
      "                        left outer join\n",
      "                            pg_am am\n",
      "                            on i.relam = am.oid\n",
      "              WHERE\n",
      "                  t.relkind IN ('r', 'v', 'f', 'm')\n",
      "                  and t.oid = %(table_oid)s\n",
      "                  and ix.indisprimary = 'f'\n",
      "              ORDER BY\n",
      "                  t.relname,\n",
      "                  i.relname\n",
      "            \n"
     ]
    },
    {
     "name": "stderr",
     "output_type": "stream",
     "text": [
      "INFO:sqlalchemy.engine.base.Engine:\n",
      "              SELECT\n",
      "                  i.relname as relname,\n",
      "                  ix.indisunique, ix.indexprs, ix.indpred,\n",
      "                  a.attname, a.attnum, c.conrelid, ix.indkey::varchar,\n",
      "                  i.reloptions, am.amname\n",
      "              FROM\n",
      "                  pg_class t\n",
      "                        join pg_index ix on t.oid = ix.indrelid\n",
      "                        join pg_class i on i.oid = ix.indexrelid\n",
      "                        left outer join\n",
      "                            pg_attribute a\n",
      "                            on t.oid = a.attrelid and a.attnum = ANY(ix.indkey)\n",
      "                        left outer join\n",
      "                            pg_constraint c\n",
      "                            on (ix.indrelid = c.conrelid and\n",
      "                                ix.indexrelid = c.conindid and\n",
      "                                c.contype in ('p', 'u', 'x'))\n",
      "                        left outer join\n",
      "                            pg_am am\n",
      "                            on i.relam = am.oid\n",
      "              WHERE\n",
      "                  t.relkind IN ('r', 'v', 'f', 'm')\n",
      "                  and t.oid = %(table_oid)s\n",
      "                  and ix.indisprimary = 'f'\n",
      "              ORDER BY\n",
      "                  t.relname,\n",
      "                  i.relname\n",
      "            \n"
     ]
    },
    {
     "name": "stdout",
     "output_type": "stream",
     "text": [
      "2016-01-15 19:16:39,303 INFO sqlalchemy.engine.base.Engine {'table_oid': 16395}\n"
     ]
    },
    {
     "name": "stderr",
     "output_type": "stream",
     "text": [
      "INFO:sqlalchemy.engine.base.Engine:{'table_oid': 16395}\n"
     ]
    },
    {
     "name": "stdout",
     "output_type": "stream",
     "text": [
      "2016-01-15 19:16:39,330 INFO sqlalchemy.engine.base.Engine \n",
      "            SELECT\n",
      "                cons.conname as name,\n",
      "                cons.conkey as key,\n",
      "                a.attnum as col_num,\n",
      "                a.attname as col_name\n",
      "            FROM\n",
      "                pg_catalog.pg_constraint cons\n",
      "                join pg_attribute a\n",
      "                  on cons.conrelid = a.attrelid AND\n",
      "                    a.attnum = ANY(cons.conkey)\n",
      "            WHERE\n",
      "                cons.conrelid = %(table_oid)s AND\n",
      "                cons.contype = 'u'\n",
      "        \n"
     ]
    },
    {
     "name": "stderr",
     "output_type": "stream",
     "text": [
      "INFO:sqlalchemy.engine.base.Engine:\n",
      "            SELECT\n",
      "                cons.conname as name,\n",
      "                cons.conkey as key,\n",
      "                a.attnum as col_num,\n",
      "                a.attname as col_name\n",
      "            FROM\n",
      "                pg_catalog.pg_constraint cons\n",
      "                join pg_attribute a\n",
      "                  on cons.conrelid = a.attrelid AND\n",
      "                    a.attnum = ANY(cons.conkey)\n",
      "            WHERE\n",
      "                cons.conrelid = %(table_oid)s AND\n",
      "                cons.contype = 'u'\n",
      "        \n"
     ]
    },
    {
     "name": "stdout",
     "output_type": "stream",
     "text": [
      "2016-01-15 19:16:39,331 INFO sqlalchemy.engine.base.Engine {'table_oid': 16395}\n"
     ]
    },
    {
     "name": "stderr",
     "output_type": "stream",
     "text": [
      "INFO:sqlalchemy.engine.base.Engine:{'table_oid': 16395}\n"
     ]
    },
    {
     "name": "stdout",
     "output_type": "stream",
     "text": [
      "2016-01-15 19:16:39,353 INFO sqlalchemy.engine.base.Engine \n",
      "            SELECT c.oid\n",
      "            FROM pg_catalog.pg_class c\n",
      "            LEFT JOIN pg_catalog.pg_namespace n ON n.oid = c.relnamespace\n",
      "            WHERE (pg_catalog.pg_table_is_visible(c.oid))\n",
      "            AND c.relname = %(table_name)s AND c.relkind in ('r', 'v', 'm', 'f')\n",
      "        \n"
     ]
    },
    {
     "name": "stderr",
     "output_type": "stream",
     "text": [
      "INFO:sqlalchemy.engine.base.Engine:\n",
      "            SELECT c.oid\n",
      "            FROM pg_catalog.pg_class c\n",
      "            LEFT JOIN pg_catalog.pg_namespace n ON n.oid = c.relnamespace\n",
      "            WHERE (pg_catalog.pg_table_is_visible(c.oid))\n",
      "            AND c.relname = %(table_name)s AND c.relkind in ('r', 'v', 'm', 'f')\n",
      "        \n"
     ]
    },
    {
     "name": "stdout",
     "output_type": "stream",
     "text": [
      "2016-01-15 19:16:39,354 INFO sqlalchemy.engine.base.Engine {'table_name': 'state_latlon'}\n"
     ]
    },
    {
     "name": "stderr",
     "output_type": "stream",
     "text": [
      "INFO:sqlalchemy.engine.base.Engine:{'table_name': 'state_latlon'}\n"
     ]
    },
    {
     "name": "stdout",
     "output_type": "stream",
     "text": [
      "2016-01-15 19:16:39,382 INFO sqlalchemy.engine.base.Engine \n",
      "            SELECT a.attname,\n",
      "              pg_catalog.format_type(a.atttypid, a.atttypmod),\n",
      "              (SELECT pg_catalog.pg_get_expr(d.adbin, d.adrelid)\n",
      "                FROM pg_catalog.pg_attrdef d\n",
      "               WHERE d.adrelid = a.attrelid AND d.adnum = a.attnum\n",
      "               AND a.atthasdef)\n",
      "              AS DEFAULT,\n",
      "              a.attnotnull, a.attnum, a.attrelid as table_oid\n",
      "            FROM pg_catalog.pg_attribute a\n",
      "            WHERE a.attrelid = %(table_oid)s\n",
      "            AND a.attnum > 0 AND NOT a.attisdropped\n",
      "            ORDER BY a.attnum\n",
      "        \n"
     ]
    },
    {
     "name": "stderr",
     "output_type": "stream",
     "text": [
      "INFO:sqlalchemy.engine.base.Engine:\n",
      "            SELECT a.attname,\n",
      "              pg_catalog.format_type(a.atttypid, a.atttypmod),\n",
      "              (SELECT pg_catalog.pg_get_expr(d.adbin, d.adrelid)\n",
      "                FROM pg_catalog.pg_attrdef d\n",
      "               WHERE d.adrelid = a.attrelid AND d.adnum = a.attnum\n",
      "               AND a.atthasdef)\n",
      "              AS DEFAULT,\n",
      "              a.attnotnull, a.attnum, a.attrelid as table_oid\n",
      "            FROM pg_catalog.pg_attribute a\n",
      "            WHERE a.attrelid = %(table_oid)s\n",
      "            AND a.attnum > 0 AND NOT a.attisdropped\n",
      "            ORDER BY a.attnum\n",
      "        \n"
     ]
    },
    {
     "name": "stdout",
     "output_type": "stream",
     "text": [
      "2016-01-15 19:16:39,383 INFO sqlalchemy.engine.base.Engine {'table_oid': 16401}\n"
     ]
    },
    {
     "name": "stderr",
     "output_type": "stream",
     "text": [
      "INFO:sqlalchemy.engine.base.Engine:{'table_oid': 16401}\n"
     ]
    },
    {
     "name": "stdout",
     "output_type": "stream",
     "text": [
      "2016-01-15 19:16:39,411 INFO sqlalchemy.engine.base.Engine \n",
      "            SELECT t.typname as \"name\",\n",
      "               pg_catalog.format_type(t.typbasetype, t.typtypmod) as \"attype\",\n",
      "               not t.typnotnull as \"nullable\",\n",
      "               t.typdefault as \"default\",\n",
      "               pg_catalog.pg_type_is_visible(t.oid) as \"visible\",\n",
      "               n.nspname as \"schema\"\n",
      "            FROM pg_catalog.pg_type t\n",
      "               LEFT JOIN pg_catalog.pg_namespace n ON n.oid = t.typnamespace\n",
      "            WHERE t.typtype = 'd'\n",
      "        \n"
     ]
    },
    {
     "name": "stderr",
     "output_type": "stream",
     "text": [
      "INFO:sqlalchemy.engine.base.Engine:\n",
      "            SELECT t.typname as \"name\",\n",
      "               pg_catalog.format_type(t.typbasetype, t.typtypmod) as \"attype\",\n",
      "               not t.typnotnull as \"nullable\",\n",
      "               t.typdefault as \"default\",\n",
      "               pg_catalog.pg_type_is_visible(t.oid) as \"visible\",\n",
      "               n.nspname as \"schema\"\n",
      "            FROM pg_catalog.pg_type t\n",
      "               LEFT JOIN pg_catalog.pg_namespace n ON n.oid = t.typnamespace\n",
      "            WHERE t.typtype = 'd'\n",
      "        \n"
     ]
    },
    {
     "name": "stdout",
     "output_type": "stream",
     "text": [
      "2016-01-15 19:16:39,412 INFO sqlalchemy.engine.base.Engine {}\n"
     ]
    },
    {
     "name": "stderr",
     "output_type": "stream",
     "text": [
      "INFO:sqlalchemy.engine.base.Engine:{}\n"
     ]
    },
    {
     "name": "stdout",
     "output_type": "stream",
     "text": [
      "2016-01-15 19:16:39,434 INFO sqlalchemy.engine.base.Engine \n",
      "            SELECT t.typname as \"name\",\n",
      "               -- no enum defaults in 8.4 at least\n",
      "               -- t.typdefault as \"default\",\n",
      "               pg_catalog.pg_type_is_visible(t.oid) as \"visible\",\n",
      "               n.nspname as \"schema\",\n",
      "               e.enumlabel as \"label\"\n",
      "            FROM pg_catalog.pg_type t\n",
      "                 LEFT JOIN pg_catalog.pg_namespace n ON n.oid = t.typnamespace\n",
      "                 LEFT JOIN pg_catalog.pg_enum e ON t.oid = e.enumtypid\n",
      "            WHERE t.typtype = 'e'\n",
      "        ORDER BY \"schema\", \"name\", e.oid\n"
     ]
    },
    {
     "name": "stderr",
     "output_type": "stream",
     "text": [
      "INFO:sqlalchemy.engine.base.Engine:\n",
      "            SELECT t.typname as \"name\",\n",
      "               -- no enum defaults in 8.4 at least\n",
      "               -- t.typdefault as \"default\",\n",
      "               pg_catalog.pg_type_is_visible(t.oid) as \"visible\",\n",
      "               n.nspname as \"schema\",\n",
      "               e.enumlabel as \"label\"\n",
      "            FROM pg_catalog.pg_type t\n",
      "                 LEFT JOIN pg_catalog.pg_namespace n ON n.oid = t.typnamespace\n",
      "                 LEFT JOIN pg_catalog.pg_enum e ON t.oid = e.enumtypid\n",
      "            WHERE t.typtype = 'e'\n",
      "        ORDER BY \"schema\", \"name\", e.oid\n"
     ]
    },
    {
     "name": "stdout",
     "output_type": "stream",
     "text": [
      "2016-01-15 19:16:39,435 INFO sqlalchemy.engine.base.Engine {}\n"
     ]
    },
    {
     "name": "stderr",
     "output_type": "stream",
     "text": [
      "INFO:sqlalchemy.engine.base.Engine:{}\n"
     ]
    },
    {
     "name": "stdout",
     "output_type": "stream",
     "text": [
      "2016-01-15 19:16:39,464 INFO sqlalchemy.engine.base.Engine \n",
      "                SELECT a.attname\n",
      "                FROM pg_attribute a JOIN (\n",
      "                    SELECT unnest(ix.indkey) attnum,\n",
      "                           generate_subscripts(ix.indkey, 1) ord\n",
      "                    FROM pg_index ix\n",
      "                    WHERE ix.indrelid = %(table_oid)s AND ix.indisprimary\n",
      "                    ) k ON a.attnum=k.attnum\n",
      "                WHERE a.attrelid = %(table_oid)s\n",
      "                ORDER BY k.ord\n",
      "            \n"
     ]
    },
    {
     "name": "stderr",
     "output_type": "stream",
     "text": [
      "INFO:sqlalchemy.engine.base.Engine:\n",
      "                SELECT a.attname\n",
      "                FROM pg_attribute a JOIN (\n",
      "                    SELECT unnest(ix.indkey) attnum,\n",
      "                           generate_subscripts(ix.indkey, 1) ord\n",
      "                    FROM pg_index ix\n",
      "                    WHERE ix.indrelid = %(table_oid)s AND ix.indisprimary\n",
      "                    ) k ON a.attnum=k.attnum\n",
      "                WHERE a.attrelid = %(table_oid)s\n",
      "                ORDER BY k.ord\n",
      "            \n"
     ]
    },
    {
     "name": "stdout",
     "output_type": "stream",
     "text": [
      "2016-01-15 19:16:39,465 INFO sqlalchemy.engine.base.Engine {'table_oid': 16401}\n"
     ]
    },
    {
     "name": "stderr",
     "output_type": "stream",
     "text": [
      "INFO:sqlalchemy.engine.base.Engine:{'table_oid': 16401}\n"
     ]
    },
    {
     "name": "stdout",
     "output_type": "stream",
     "text": [
      "2016-01-15 19:16:39,487 INFO sqlalchemy.engine.base.Engine \n",
      "        SELECT conname\n",
      "           FROM  pg_catalog.pg_constraint r\n",
      "           WHERE r.conrelid = %(table_oid)s AND r.contype = 'p'\n",
      "           ORDER BY 1\n",
      "        \n"
     ]
    },
    {
     "name": "stderr",
     "output_type": "stream",
     "text": [
      "INFO:sqlalchemy.engine.base.Engine:\n",
      "        SELECT conname\n",
      "           FROM  pg_catalog.pg_constraint r\n",
      "           WHERE r.conrelid = %(table_oid)s AND r.contype = 'p'\n",
      "           ORDER BY 1\n",
      "        \n"
     ]
    },
    {
     "name": "stdout",
     "output_type": "stream",
     "text": [
      "2016-01-15 19:16:39,488 INFO sqlalchemy.engine.base.Engine {'table_oid': 16401}\n"
     ]
    },
    {
     "name": "stderr",
     "output_type": "stream",
     "text": [
      "INFO:sqlalchemy.engine.base.Engine:{'table_oid': 16401}\n"
     ]
    },
    {
     "name": "stdout",
     "output_type": "stream",
     "text": [
      "2016-01-15 19:16:39,507 INFO sqlalchemy.engine.base.Engine \n",
      "          SELECT r.conname,\n",
      "                pg_catalog.pg_get_constraintdef(r.oid, true) as condef,\n",
      "                n.nspname as conschema\n",
      "          FROM  pg_catalog.pg_constraint r,\n",
      "                pg_namespace n,\n",
      "                pg_class c\n",
      "\n",
      "          WHERE r.conrelid = %(table)s AND\n",
      "                r.contype = 'f' AND\n",
      "                c.oid = confrelid AND\n",
      "                n.oid = c.relnamespace\n",
      "          ORDER BY 1\n",
      "        \n"
     ]
    },
    {
     "name": "stderr",
     "output_type": "stream",
     "text": [
      "INFO:sqlalchemy.engine.base.Engine:\n",
      "          SELECT r.conname,\n",
      "                pg_catalog.pg_get_constraintdef(r.oid, true) as condef,\n",
      "                n.nspname as conschema\n",
      "          FROM  pg_catalog.pg_constraint r,\n",
      "                pg_namespace n,\n",
      "                pg_class c\n",
      "\n",
      "          WHERE r.conrelid = %(table)s AND\n",
      "                r.contype = 'f' AND\n",
      "                c.oid = confrelid AND\n",
      "                n.oid = c.relnamespace\n",
      "          ORDER BY 1\n",
      "        \n"
     ]
    },
    {
     "name": "stdout",
     "output_type": "stream",
     "text": [
      "2016-01-15 19:16:39,509 INFO sqlalchemy.engine.base.Engine {'table': 16401}\n"
     ]
    },
    {
     "name": "stderr",
     "output_type": "stream",
     "text": [
      "INFO:sqlalchemy.engine.base.Engine:{'table': 16401}\n"
     ]
    },
    {
     "name": "stdout",
     "output_type": "stream",
     "text": [
      "2016-01-15 19:16:39,532 INFO sqlalchemy.engine.base.Engine \n",
      "              SELECT\n",
      "                  i.relname as relname,\n",
      "                  ix.indisunique, ix.indexprs, ix.indpred,\n",
      "                  a.attname, a.attnum, c.conrelid, ix.indkey::varchar,\n",
      "                  i.reloptions, am.amname\n",
      "              FROM\n",
      "                  pg_class t\n",
      "                        join pg_index ix on t.oid = ix.indrelid\n",
      "                        join pg_class i on i.oid = ix.indexrelid\n",
      "                        left outer join\n",
      "                            pg_attribute a\n",
      "                            on t.oid = a.attrelid and a.attnum = ANY(ix.indkey)\n",
      "                        left outer join\n",
      "                            pg_constraint c\n",
      "                            on (ix.indrelid = c.conrelid and\n",
      "                                ix.indexrelid = c.conindid and\n",
      "                                c.contype in ('p', 'u', 'x'))\n",
      "                        left outer join\n",
      "                            pg_am am\n",
      "                            on i.relam = am.oid\n",
      "              WHERE\n",
      "                  t.relkind IN ('r', 'v', 'f', 'm')\n",
      "                  and t.oid = %(table_oid)s\n",
      "                  and ix.indisprimary = 'f'\n",
      "              ORDER BY\n",
      "                  t.relname,\n",
      "                  i.relname\n",
      "            \n"
     ]
    },
    {
     "name": "stderr",
     "output_type": "stream",
     "text": [
      "INFO:sqlalchemy.engine.base.Engine:\n",
      "              SELECT\n",
      "                  i.relname as relname,\n",
      "                  ix.indisunique, ix.indexprs, ix.indpred,\n",
      "                  a.attname, a.attnum, c.conrelid, ix.indkey::varchar,\n",
      "                  i.reloptions, am.amname\n",
      "              FROM\n",
      "                  pg_class t\n",
      "                        join pg_index ix on t.oid = ix.indrelid\n",
      "                        join pg_class i on i.oid = ix.indexrelid\n",
      "                        left outer join\n",
      "                            pg_attribute a\n",
      "                            on t.oid = a.attrelid and a.attnum = ANY(ix.indkey)\n",
      "                        left outer join\n",
      "                            pg_constraint c\n",
      "                            on (ix.indrelid = c.conrelid and\n",
      "                                ix.indexrelid = c.conindid and\n",
      "                                c.contype in ('p', 'u', 'x'))\n",
      "                        left outer join\n",
      "                            pg_am am\n",
      "                            on i.relam = am.oid\n",
      "              WHERE\n",
      "                  t.relkind IN ('r', 'v', 'f', 'm')\n",
      "                  and t.oid = %(table_oid)s\n",
      "                  and ix.indisprimary = 'f'\n",
      "              ORDER BY\n",
      "                  t.relname,\n",
      "                  i.relname\n",
      "            \n"
     ]
    },
    {
     "name": "stdout",
     "output_type": "stream",
     "text": [
      "2016-01-15 19:16:39,533 INFO sqlalchemy.engine.base.Engine {'table_oid': 16401}\n"
     ]
    },
    {
     "name": "stderr",
     "output_type": "stream",
     "text": [
      "INFO:sqlalchemy.engine.base.Engine:{'table_oid': 16401}\n"
     ]
    },
    {
     "name": "stdout",
     "output_type": "stream",
     "text": [
      "2016-01-15 19:16:39,563 INFO sqlalchemy.engine.base.Engine \n",
      "            SELECT\n",
      "                cons.conname as name,\n",
      "                cons.conkey as key,\n",
      "                a.attnum as col_num,\n",
      "                a.attname as col_name\n",
      "            FROM\n",
      "                pg_catalog.pg_constraint cons\n",
      "                join pg_attribute a\n",
      "                  on cons.conrelid = a.attrelid AND\n",
      "                    a.attnum = ANY(cons.conkey)\n",
      "            WHERE\n",
      "                cons.conrelid = %(table_oid)s AND\n",
      "                cons.contype = 'u'\n",
      "        \n"
     ]
    },
    {
     "name": "stderr",
     "output_type": "stream",
     "text": [
      "INFO:sqlalchemy.engine.base.Engine:\n",
      "            SELECT\n",
      "                cons.conname as name,\n",
      "                cons.conkey as key,\n",
      "                a.attnum as col_num,\n",
      "                a.attname as col_name\n",
      "            FROM\n",
      "                pg_catalog.pg_constraint cons\n",
      "                join pg_attribute a\n",
      "                  on cons.conrelid = a.attrelid AND\n",
      "                    a.attnum = ANY(cons.conkey)\n",
      "            WHERE\n",
      "                cons.conrelid = %(table_oid)s AND\n",
      "                cons.contype = 'u'\n",
      "        \n"
     ]
    },
    {
     "name": "stdout",
     "output_type": "stream",
     "text": [
      "2016-01-15 19:16:39,564 INFO sqlalchemy.engine.base.Engine {'table_oid': 16401}\n"
     ]
    },
    {
     "name": "stderr",
     "output_type": "stream",
     "text": [
      "INFO:sqlalchemy.engine.base.Engine:{'table_oid': 16401}\n"
     ]
    },
    {
     "name": "stdout",
     "output_type": "stream",
     "text": [
      "2016-01-15 19:16:39,589 INFO sqlalchemy.engine.base.Engine \n",
      "            SELECT c.oid\n",
      "            FROM pg_catalog.pg_class c\n",
      "            LEFT JOIN pg_catalog.pg_namespace n ON n.oid = c.relnamespace\n",
      "            WHERE (pg_catalog.pg_table_is_visible(c.oid))\n",
      "            AND c.relname = %(table_name)s AND c.relkind in ('r', 'v', 'm', 'f')\n",
      "        \n"
     ]
    },
    {
     "name": "stderr",
     "output_type": "stream",
     "text": [
      "INFO:sqlalchemy.engine.base.Engine:\n",
      "            SELECT c.oid\n",
      "            FROM pg_catalog.pg_class c\n",
      "            LEFT JOIN pg_catalog.pg_namespace n ON n.oid = c.relnamespace\n",
      "            WHERE (pg_catalog.pg_table_is_visible(c.oid))\n",
      "            AND c.relname = %(table_name)s AND c.relkind in ('r', 'v', 'm', 'f')\n",
      "        \n"
     ]
    },
    {
     "name": "stdout",
     "output_type": "stream",
     "text": [
      "2016-01-15 19:16:39,590 INFO sqlalchemy.engine.base.Engine {'table_name': 'sctg'}\n"
     ]
    },
    {
     "name": "stderr",
     "output_type": "stream",
     "text": [
      "INFO:sqlalchemy.engine.base.Engine:{'table_name': 'sctg'}\n"
     ]
    },
    {
     "name": "stdout",
     "output_type": "stream",
     "text": [
      "2016-01-15 19:16:39,615 INFO sqlalchemy.engine.base.Engine \n",
      "            SELECT a.attname,\n",
      "              pg_catalog.format_type(a.atttypid, a.atttypmod),\n",
      "              (SELECT pg_catalog.pg_get_expr(d.adbin, d.adrelid)\n",
      "                FROM pg_catalog.pg_attrdef d\n",
      "               WHERE d.adrelid = a.attrelid AND d.adnum = a.attnum\n",
      "               AND a.atthasdef)\n",
      "              AS DEFAULT,\n",
      "              a.attnotnull, a.attnum, a.attrelid as table_oid\n",
      "            FROM pg_catalog.pg_attribute a\n",
      "            WHERE a.attrelid = %(table_oid)s\n",
      "            AND a.attnum > 0 AND NOT a.attisdropped\n",
      "            ORDER BY a.attnum\n",
      "        \n"
     ]
    },
    {
     "name": "stderr",
     "output_type": "stream",
     "text": [
      "INFO:sqlalchemy.engine.base.Engine:\n",
      "            SELECT a.attname,\n",
      "              pg_catalog.format_type(a.atttypid, a.atttypmod),\n",
      "              (SELECT pg_catalog.pg_get_expr(d.adbin, d.adrelid)\n",
      "                FROM pg_catalog.pg_attrdef d\n",
      "               WHERE d.adrelid = a.attrelid AND d.adnum = a.attnum\n",
      "               AND a.atthasdef)\n",
      "              AS DEFAULT,\n",
      "              a.attnotnull, a.attnum, a.attrelid as table_oid\n",
      "            FROM pg_catalog.pg_attribute a\n",
      "            WHERE a.attrelid = %(table_oid)s\n",
      "            AND a.attnum > 0 AND NOT a.attisdropped\n",
      "            ORDER BY a.attnum\n",
      "        \n"
     ]
    },
    {
     "name": "stdout",
     "output_type": "stream",
     "text": [
      "2016-01-15 19:16:39,616 INFO sqlalchemy.engine.base.Engine {'table_oid': 16407}\n"
     ]
    },
    {
     "name": "stderr",
     "output_type": "stream",
     "text": [
      "INFO:sqlalchemy.engine.base.Engine:{'table_oid': 16407}\n"
     ]
    },
    {
     "name": "stdout",
     "output_type": "stream",
     "text": [
      "2016-01-15 19:16:39,639 INFO sqlalchemy.engine.base.Engine \n",
      "            SELECT t.typname as \"name\",\n",
      "               pg_catalog.format_type(t.typbasetype, t.typtypmod) as \"attype\",\n",
      "               not t.typnotnull as \"nullable\",\n",
      "               t.typdefault as \"default\",\n",
      "               pg_catalog.pg_type_is_visible(t.oid) as \"visible\",\n",
      "               n.nspname as \"schema\"\n",
      "            FROM pg_catalog.pg_type t\n",
      "               LEFT JOIN pg_catalog.pg_namespace n ON n.oid = t.typnamespace\n",
      "            WHERE t.typtype = 'd'\n",
      "        \n"
     ]
    },
    {
     "name": "stderr",
     "output_type": "stream",
     "text": [
      "INFO:sqlalchemy.engine.base.Engine:\n",
      "            SELECT t.typname as \"name\",\n",
      "               pg_catalog.format_type(t.typbasetype, t.typtypmod) as \"attype\",\n",
      "               not t.typnotnull as \"nullable\",\n",
      "               t.typdefault as \"default\",\n",
      "               pg_catalog.pg_type_is_visible(t.oid) as \"visible\",\n",
      "               n.nspname as \"schema\"\n",
      "            FROM pg_catalog.pg_type t\n",
      "               LEFT JOIN pg_catalog.pg_namespace n ON n.oid = t.typnamespace\n",
      "            WHERE t.typtype = 'd'\n",
      "        \n"
     ]
    },
    {
     "name": "stdout",
     "output_type": "stream",
     "text": [
      "2016-01-15 19:16:39,640 INFO sqlalchemy.engine.base.Engine {}\n"
     ]
    },
    {
     "name": "stderr",
     "output_type": "stream",
     "text": [
      "INFO:sqlalchemy.engine.base.Engine:{}\n"
     ]
    },
    {
     "name": "stdout",
     "output_type": "stream",
     "text": [
      "2016-01-15 19:16:39,665 INFO sqlalchemy.engine.base.Engine \n",
      "            SELECT t.typname as \"name\",\n",
      "               -- no enum defaults in 8.4 at least\n",
      "               -- t.typdefault as \"default\",\n",
      "               pg_catalog.pg_type_is_visible(t.oid) as \"visible\",\n",
      "               n.nspname as \"schema\",\n",
      "               e.enumlabel as \"label\"\n",
      "            FROM pg_catalog.pg_type t\n",
      "                 LEFT JOIN pg_catalog.pg_namespace n ON n.oid = t.typnamespace\n",
      "                 LEFT JOIN pg_catalog.pg_enum e ON t.oid = e.enumtypid\n",
      "            WHERE t.typtype = 'e'\n",
      "        ORDER BY \"schema\", \"name\", e.oid\n"
     ]
    },
    {
     "name": "stderr",
     "output_type": "stream",
     "text": [
      "INFO:sqlalchemy.engine.base.Engine:\n",
      "            SELECT t.typname as \"name\",\n",
      "               -- no enum defaults in 8.4 at least\n",
      "               -- t.typdefault as \"default\",\n",
      "               pg_catalog.pg_type_is_visible(t.oid) as \"visible\",\n",
      "               n.nspname as \"schema\",\n",
      "               e.enumlabel as \"label\"\n",
      "            FROM pg_catalog.pg_type t\n",
      "                 LEFT JOIN pg_catalog.pg_namespace n ON n.oid = t.typnamespace\n",
      "                 LEFT JOIN pg_catalog.pg_enum e ON t.oid = e.enumtypid\n",
      "            WHERE t.typtype = 'e'\n",
      "        ORDER BY \"schema\", \"name\", e.oid\n"
     ]
    },
    {
     "name": "stdout",
     "output_type": "stream",
     "text": [
      "2016-01-15 19:16:39,666 INFO sqlalchemy.engine.base.Engine {}\n"
     ]
    },
    {
     "name": "stderr",
     "output_type": "stream",
     "text": [
      "INFO:sqlalchemy.engine.base.Engine:{}\n"
     ]
    },
    {
     "name": "stdout",
     "output_type": "stream",
     "text": [
      "2016-01-15 19:16:39,690 INFO sqlalchemy.engine.base.Engine \n",
      "                SELECT a.attname\n",
      "                FROM pg_attribute a JOIN (\n",
      "                    SELECT unnest(ix.indkey) attnum,\n",
      "                           generate_subscripts(ix.indkey, 1) ord\n",
      "                    FROM pg_index ix\n",
      "                    WHERE ix.indrelid = %(table_oid)s AND ix.indisprimary\n",
      "                    ) k ON a.attnum=k.attnum\n",
      "                WHERE a.attrelid = %(table_oid)s\n",
      "                ORDER BY k.ord\n",
      "            \n"
     ]
    },
    {
     "name": "stderr",
     "output_type": "stream",
     "text": [
      "INFO:sqlalchemy.engine.base.Engine:\n",
      "                SELECT a.attname\n",
      "                FROM pg_attribute a JOIN (\n",
      "                    SELECT unnest(ix.indkey) attnum,\n",
      "                           generate_subscripts(ix.indkey, 1) ord\n",
      "                    FROM pg_index ix\n",
      "                    WHERE ix.indrelid = %(table_oid)s AND ix.indisprimary\n",
      "                    ) k ON a.attnum=k.attnum\n",
      "                WHERE a.attrelid = %(table_oid)s\n",
      "                ORDER BY k.ord\n",
      "            \n"
     ]
    },
    {
     "name": "stdout",
     "output_type": "stream",
     "text": [
      "2016-01-15 19:16:39,692 INFO sqlalchemy.engine.base.Engine {'table_oid': 16407}\n"
     ]
    },
    {
     "name": "stderr",
     "output_type": "stream",
     "text": [
      "INFO:sqlalchemy.engine.base.Engine:{'table_oid': 16407}\n"
     ]
    },
    {
     "name": "stdout",
     "output_type": "stream",
     "text": [
      "2016-01-15 19:16:39,716 INFO sqlalchemy.engine.base.Engine \n",
      "        SELECT conname\n",
      "           FROM  pg_catalog.pg_constraint r\n",
      "           WHERE r.conrelid = %(table_oid)s AND r.contype = 'p'\n",
      "           ORDER BY 1\n",
      "        \n"
     ]
    },
    {
     "name": "stderr",
     "output_type": "stream",
     "text": [
      "INFO:sqlalchemy.engine.base.Engine:\n",
      "        SELECT conname\n",
      "           FROM  pg_catalog.pg_constraint r\n",
      "           WHERE r.conrelid = %(table_oid)s AND r.contype = 'p'\n",
      "           ORDER BY 1\n",
      "        \n"
     ]
    },
    {
     "name": "stdout",
     "output_type": "stream",
     "text": [
      "2016-01-15 19:16:39,717 INFO sqlalchemy.engine.base.Engine {'table_oid': 16407}\n"
     ]
    },
    {
     "name": "stderr",
     "output_type": "stream",
     "text": [
      "INFO:sqlalchemy.engine.base.Engine:{'table_oid': 16407}\n"
     ]
    },
    {
     "name": "stdout",
     "output_type": "stream",
     "text": [
      "2016-01-15 19:16:39,742 INFO sqlalchemy.engine.base.Engine \n",
      "          SELECT r.conname,\n",
      "                pg_catalog.pg_get_constraintdef(r.oid, true) as condef,\n",
      "                n.nspname as conschema\n",
      "          FROM  pg_catalog.pg_constraint r,\n",
      "                pg_namespace n,\n",
      "                pg_class c\n",
      "\n",
      "          WHERE r.conrelid = %(table)s AND\n",
      "                r.contype = 'f' AND\n",
      "                c.oid = confrelid AND\n",
      "                n.oid = c.relnamespace\n",
      "          ORDER BY 1\n",
      "        \n"
     ]
    },
    {
     "name": "stderr",
     "output_type": "stream",
     "text": [
      "INFO:sqlalchemy.engine.base.Engine:\n",
      "          SELECT r.conname,\n",
      "                pg_catalog.pg_get_constraintdef(r.oid, true) as condef,\n",
      "                n.nspname as conschema\n",
      "          FROM  pg_catalog.pg_constraint r,\n",
      "                pg_namespace n,\n",
      "                pg_class c\n",
      "\n",
      "          WHERE r.conrelid = %(table)s AND\n",
      "                r.contype = 'f' AND\n",
      "                c.oid = confrelid AND\n",
      "                n.oid = c.relnamespace\n",
      "          ORDER BY 1\n",
      "        \n"
     ]
    },
    {
     "name": "stdout",
     "output_type": "stream",
     "text": [
      "2016-01-15 19:16:39,744 INFO sqlalchemy.engine.base.Engine {'table': 16407}\n"
     ]
    },
    {
     "name": "stderr",
     "output_type": "stream",
     "text": [
      "INFO:sqlalchemy.engine.base.Engine:{'table': 16407}\n"
     ]
    },
    {
     "name": "stdout",
     "output_type": "stream",
     "text": [
      "2016-01-15 19:16:39,766 INFO sqlalchemy.engine.base.Engine \n",
      "              SELECT\n",
      "                  i.relname as relname,\n",
      "                  ix.indisunique, ix.indexprs, ix.indpred,\n",
      "                  a.attname, a.attnum, c.conrelid, ix.indkey::varchar,\n",
      "                  i.reloptions, am.amname\n",
      "              FROM\n",
      "                  pg_class t\n",
      "                        join pg_index ix on t.oid = ix.indrelid\n",
      "                        join pg_class i on i.oid = ix.indexrelid\n",
      "                        left outer join\n",
      "                            pg_attribute a\n",
      "                            on t.oid = a.attrelid and a.attnum = ANY(ix.indkey)\n",
      "                        left outer join\n",
      "                            pg_constraint c\n",
      "                            on (ix.indrelid = c.conrelid and\n",
      "                                ix.indexrelid = c.conindid and\n",
      "                                c.contype in ('p', 'u', 'x'))\n",
      "                        left outer join\n",
      "                            pg_am am\n",
      "                            on i.relam = am.oid\n",
      "              WHERE\n",
      "                  t.relkind IN ('r', 'v', 'f', 'm')\n",
      "                  and t.oid = %(table_oid)s\n",
      "                  and ix.indisprimary = 'f'\n",
      "              ORDER BY\n",
      "                  t.relname,\n",
      "                  i.relname\n",
      "            \n"
     ]
    },
    {
     "name": "stderr",
     "output_type": "stream",
     "text": [
      "INFO:sqlalchemy.engine.base.Engine:\n",
      "              SELECT\n",
      "                  i.relname as relname,\n",
      "                  ix.indisunique, ix.indexprs, ix.indpred,\n",
      "                  a.attname, a.attnum, c.conrelid, ix.indkey::varchar,\n",
      "                  i.reloptions, am.amname\n",
      "              FROM\n",
      "                  pg_class t\n",
      "                        join pg_index ix on t.oid = ix.indrelid\n",
      "                        join pg_class i on i.oid = ix.indexrelid\n",
      "                        left outer join\n",
      "                            pg_attribute a\n",
      "                            on t.oid = a.attrelid and a.attnum = ANY(ix.indkey)\n",
      "                        left outer join\n",
      "                            pg_constraint c\n",
      "                            on (ix.indrelid = c.conrelid and\n",
      "                                ix.indexrelid = c.conindid and\n",
      "                                c.contype in ('p', 'u', 'x'))\n",
      "                        left outer join\n",
      "                            pg_am am\n",
      "                            on i.relam = am.oid\n",
      "              WHERE\n",
      "                  t.relkind IN ('r', 'v', 'f', 'm')\n",
      "                  and t.oid = %(table_oid)s\n",
      "                  and ix.indisprimary = 'f'\n",
      "              ORDER BY\n",
      "                  t.relname,\n",
      "                  i.relname\n",
      "            \n"
     ]
    },
    {
     "name": "stdout",
     "output_type": "stream",
     "text": [
      "2016-01-15 19:16:39,768 INFO sqlalchemy.engine.base.Engine {'table_oid': 16407}\n"
     ]
    },
    {
     "name": "stderr",
     "output_type": "stream",
     "text": [
      "INFO:sqlalchemy.engine.base.Engine:{'table_oid': 16407}\n"
     ]
    },
    {
     "name": "stdout",
     "output_type": "stream",
     "text": [
      "2016-01-15 19:16:39,792 INFO sqlalchemy.engine.base.Engine \n",
      "            SELECT\n",
      "                cons.conname as name,\n",
      "                cons.conkey as key,\n",
      "                a.attnum as col_num,\n",
      "                a.attname as col_name\n",
      "            FROM\n",
      "                pg_catalog.pg_constraint cons\n",
      "                join pg_attribute a\n",
      "                  on cons.conrelid = a.attrelid AND\n",
      "                    a.attnum = ANY(cons.conkey)\n",
      "            WHERE\n",
      "                cons.conrelid = %(table_oid)s AND\n",
      "                cons.contype = 'u'\n",
      "        \n"
     ]
    },
    {
     "name": "stderr",
     "output_type": "stream",
     "text": [
      "INFO:sqlalchemy.engine.base.Engine:\n",
      "            SELECT\n",
      "                cons.conname as name,\n",
      "                cons.conkey as key,\n",
      "                a.attnum as col_num,\n",
      "                a.attname as col_name\n",
      "            FROM\n",
      "                pg_catalog.pg_constraint cons\n",
      "                join pg_attribute a\n",
      "                  on cons.conrelid = a.attrelid AND\n",
      "                    a.attnum = ANY(cons.conkey)\n",
      "            WHERE\n",
      "                cons.conrelid = %(table_oid)s AND\n",
      "                cons.contype = 'u'\n",
      "        \n"
     ]
    },
    {
     "name": "stdout",
     "output_type": "stream",
     "text": [
      "2016-01-15 19:16:39,794 INFO sqlalchemy.engine.base.Engine {'table_oid': 16407}\n"
     ]
    },
    {
     "name": "stderr",
     "output_type": "stream",
     "text": [
      "INFO:sqlalchemy.engine.base.Engine:{'table_oid': 16407}\n"
     ]
    },
    {
     "name": "stdout",
     "output_type": "stream",
     "text": [
      "2016-01-15 19:16:39,816 INFO sqlalchemy.engine.base.Engine \n",
      "            SELECT c.oid\n",
      "            FROM pg_catalog.pg_class c\n",
      "            LEFT JOIN pg_catalog.pg_namespace n ON n.oid = c.relnamespace\n",
      "            WHERE (pg_catalog.pg_table_is_visible(c.oid))\n",
      "            AND c.relname = %(table_name)s AND c.relkind in ('r', 'v', 'm', 'f')\n",
      "        \n"
     ]
    },
    {
     "name": "stderr",
     "output_type": "stream",
     "text": [
      "INFO:sqlalchemy.engine.base.Engine:\n",
      "            SELECT c.oid\n",
      "            FROM pg_catalog.pg_class c\n",
      "            LEFT JOIN pg_catalog.pg_namespace n ON n.oid = c.relnamespace\n",
      "            WHERE (pg_catalog.pg_table_is_visible(c.oid))\n",
      "            AND c.relname = %(table_name)s AND c.relkind in ('r', 'v', 'm', 'f')\n",
      "        \n"
     ]
    },
    {
     "name": "stdout",
     "output_type": "stream",
     "text": [
      "2016-01-15 19:16:39,817 INFO sqlalchemy.engine.base.Engine {'table_name': 'cfs_areas'}\n"
     ]
    },
    {
     "name": "stderr",
     "output_type": "stream",
     "text": [
      "INFO:sqlalchemy.engine.base.Engine:{'table_name': 'cfs_areas'}\n"
     ]
    },
    {
     "name": "stdout",
     "output_type": "stream",
     "text": [
      "2016-01-15 19:16:39,840 INFO sqlalchemy.engine.base.Engine \n",
      "            SELECT a.attname,\n",
      "              pg_catalog.format_type(a.atttypid, a.atttypmod),\n",
      "              (SELECT pg_catalog.pg_get_expr(d.adbin, d.adrelid)\n",
      "                FROM pg_catalog.pg_attrdef d\n",
      "               WHERE d.adrelid = a.attrelid AND d.adnum = a.attnum\n",
      "               AND a.atthasdef)\n",
      "              AS DEFAULT,\n",
      "              a.attnotnull, a.attnum, a.attrelid as table_oid\n",
      "            FROM pg_catalog.pg_attribute a\n",
      "            WHERE a.attrelid = %(table_oid)s\n",
      "            AND a.attnum > 0 AND NOT a.attisdropped\n",
      "            ORDER BY a.attnum\n",
      "        \n"
     ]
    },
    {
     "name": "stderr",
     "output_type": "stream",
     "text": [
      "INFO:sqlalchemy.engine.base.Engine:\n",
      "            SELECT a.attname,\n",
      "              pg_catalog.format_type(a.atttypid, a.atttypmod),\n",
      "              (SELECT pg_catalog.pg_get_expr(d.adbin, d.adrelid)\n",
      "                FROM pg_catalog.pg_attrdef d\n",
      "               WHERE d.adrelid = a.attrelid AND d.adnum = a.attnum\n",
      "               AND a.atthasdef)\n",
      "              AS DEFAULT,\n",
      "              a.attnotnull, a.attnum, a.attrelid as table_oid\n",
      "            FROM pg_catalog.pg_attribute a\n",
      "            WHERE a.attrelid = %(table_oid)s\n",
      "            AND a.attnum > 0 AND NOT a.attisdropped\n",
      "            ORDER BY a.attnum\n",
      "        \n"
     ]
    },
    {
     "name": "stdout",
     "output_type": "stream",
     "text": [
      "2016-01-15 19:16:39,841 INFO sqlalchemy.engine.base.Engine {'table_oid': 16413}\n"
     ]
    },
    {
     "name": "stderr",
     "output_type": "stream",
     "text": [
      "INFO:sqlalchemy.engine.base.Engine:{'table_oid': 16413}\n"
     ]
    },
    {
     "name": "stdout",
     "output_type": "stream",
     "text": [
      "2016-01-15 19:16:39,869 INFO sqlalchemy.engine.base.Engine \n",
      "            SELECT t.typname as \"name\",\n",
      "               pg_catalog.format_type(t.typbasetype, t.typtypmod) as \"attype\",\n",
      "               not t.typnotnull as \"nullable\",\n",
      "               t.typdefault as \"default\",\n",
      "               pg_catalog.pg_type_is_visible(t.oid) as \"visible\",\n",
      "               n.nspname as \"schema\"\n",
      "            FROM pg_catalog.pg_type t\n",
      "               LEFT JOIN pg_catalog.pg_namespace n ON n.oid = t.typnamespace\n",
      "            WHERE t.typtype = 'd'\n",
      "        \n"
     ]
    },
    {
     "name": "stderr",
     "output_type": "stream",
     "text": [
      "INFO:sqlalchemy.engine.base.Engine:\n",
      "            SELECT t.typname as \"name\",\n",
      "               pg_catalog.format_type(t.typbasetype, t.typtypmod) as \"attype\",\n",
      "               not t.typnotnull as \"nullable\",\n",
      "               t.typdefault as \"default\",\n",
      "               pg_catalog.pg_type_is_visible(t.oid) as \"visible\",\n",
      "               n.nspname as \"schema\"\n",
      "            FROM pg_catalog.pg_type t\n",
      "               LEFT JOIN pg_catalog.pg_namespace n ON n.oid = t.typnamespace\n",
      "            WHERE t.typtype = 'd'\n",
      "        \n"
     ]
    },
    {
     "name": "stdout",
     "output_type": "stream",
     "text": [
      "2016-01-15 19:16:39,870 INFO sqlalchemy.engine.base.Engine {}\n"
     ]
    },
    {
     "name": "stderr",
     "output_type": "stream",
     "text": [
      "INFO:sqlalchemy.engine.base.Engine:{}\n"
     ]
    },
    {
     "name": "stdout",
     "output_type": "stream",
     "text": [
      "2016-01-15 19:16:39,892 INFO sqlalchemy.engine.base.Engine \n",
      "            SELECT t.typname as \"name\",\n",
      "               -- no enum defaults in 8.4 at least\n",
      "               -- t.typdefault as \"default\",\n",
      "               pg_catalog.pg_type_is_visible(t.oid) as \"visible\",\n",
      "               n.nspname as \"schema\",\n",
      "               e.enumlabel as \"label\"\n",
      "            FROM pg_catalog.pg_type t\n",
      "                 LEFT JOIN pg_catalog.pg_namespace n ON n.oid = t.typnamespace\n",
      "                 LEFT JOIN pg_catalog.pg_enum e ON t.oid = e.enumtypid\n",
      "            WHERE t.typtype = 'e'\n",
      "        ORDER BY \"schema\", \"name\", e.oid\n"
     ]
    },
    {
     "name": "stderr",
     "output_type": "stream",
     "text": [
      "INFO:sqlalchemy.engine.base.Engine:\n",
      "            SELECT t.typname as \"name\",\n",
      "               -- no enum defaults in 8.4 at least\n",
      "               -- t.typdefault as \"default\",\n",
      "               pg_catalog.pg_type_is_visible(t.oid) as \"visible\",\n",
      "               n.nspname as \"schema\",\n",
      "               e.enumlabel as \"label\"\n",
      "            FROM pg_catalog.pg_type t\n",
      "                 LEFT JOIN pg_catalog.pg_namespace n ON n.oid = t.typnamespace\n",
      "                 LEFT JOIN pg_catalog.pg_enum e ON t.oid = e.enumtypid\n",
      "            WHERE t.typtype = 'e'\n",
      "        ORDER BY \"schema\", \"name\", e.oid\n"
     ]
    },
    {
     "name": "stdout",
     "output_type": "stream",
     "text": [
      "2016-01-15 19:16:39,893 INFO sqlalchemy.engine.base.Engine {}\n"
     ]
    },
    {
     "name": "stderr",
     "output_type": "stream",
     "text": [
      "INFO:sqlalchemy.engine.base.Engine:{}\n"
     ]
    },
    {
     "name": "stdout",
     "output_type": "stream",
     "text": [
      "2016-01-15 19:16:39,915 INFO sqlalchemy.engine.base.Engine \n",
      "                SELECT a.attname\n",
      "                FROM pg_attribute a JOIN (\n",
      "                    SELECT unnest(ix.indkey) attnum,\n",
      "                           generate_subscripts(ix.indkey, 1) ord\n",
      "                    FROM pg_index ix\n",
      "                    WHERE ix.indrelid = %(table_oid)s AND ix.indisprimary\n",
      "                    ) k ON a.attnum=k.attnum\n",
      "                WHERE a.attrelid = %(table_oid)s\n",
      "                ORDER BY k.ord\n",
      "            \n"
     ]
    },
    {
     "name": "stderr",
     "output_type": "stream",
     "text": [
      "INFO:sqlalchemy.engine.base.Engine:\n",
      "                SELECT a.attname\n",
      "                FROM pg_attribute a JOIN (\n",
      "                    SELECT unnest(ix.indkey) attnum,\n",
      "                           generate_subscripts(ix.indkey, 1) ord\n",
      "                    FROM pg_index ix\n",
      "                    WHERE ix.indrelid = %(table_oid)s AND ix.indisprimary\n",
      "                    ) k ON a.attnum=k.attnum\n",
      "                WHERE a.attrelid = %(table_oid)s\n",
      "                ORDER BY k.ord\n",
      "            \n"
     ]
    },
    {
     "name": "stdout",
     "output_type": "stream",
     "text": [
      "2016-01-15 19:16:39,916 INFO sqlalchemy.engine.base.Engine {'table_oid': 16413}\n"
     ]
    },
    {
     "name": "stderr",
     "output_type": "stream",
     "text": [
      "INFO:sqlalchemy.engine.base.Engine:{'table_oid': 16413}\n"
     ]
    },
    {
     "name": "stdout",
     "output_type": "stream",
     "text": [
      "2016-01-15 19:16:39,938 INFO sqlalchemy.engine.base.Engine \n",
      "        SELECT conname\n",
      "           FROM  pg_catalog.pg_constraint r\n",
      "           WHERE r.conrelid = %(table_oid)s AND r.contype = 'p'\n",
      "           ORDER BY 1\n",
      "        \n"
     ]
    },
    {
     "name": "stderr",
     "output_type": "stream",
     "text": [
      "INFO:sqlalchemy.engine.base.Engine:\n",
      "        SELECT conname\n",
      "           FROM  pg_catalog.pg_constraint r\n",
      "           WHERE r.conrelid = %(table_oid)s AND r.contype = 'p'\n",
      "           ORDER BY 1\n",
      "        \n"
     ]
    },
    {
     "name": "stdout",
     "output_type": "stream",
     "text": [
      "2016-01-15 19:16:39,939 INFO sqlalchemy.engine.base.Engine {'table_oid': 16413}\n"
     ]
    },
    {
     "name": "stderr",
     "output_type": "stream",
     "text": [
      "INFO:sqlalchemy.engine.base.Engine:{'table_oid': 16413}\n"
     ]
    },
    {
     "name": "stdout",
     "output_type": "stream",
     "text": [
      "2016-01-15 19:16:39,962 INFO sqlalchemy.engine.base.Engine \n",
      "          SELECT r.conname,\n",
      "                pg_catalog.pg_get_constraintdef(r.oid, true) as condef,\n",
      "                n.nspname as conschema\n",
      "          FROM  pg_catalog.pg_constraint r,\n",
      "                pg_namespace n,\n",
      "                pg_class c\n",
      "\n",
      "          WHERE r.conrelid = %(table)s AND\n",
      "                r.contype = 'f' AND\n",
      "                c.oid = confrelid AND\n",
      "                n.oid = c.relnamespace\n",
      "          ORDER BY 1\n",
      "        \n"
     ]
    },
    {
     "name": "stderr",
     "output_type": "stream",
     "text": [
      "INFO:sqlalchemy.engine.base.Engine:\n",
      "          SELECT r.conname,\n",
      "                pg_catalog.pg_get_constraintdef(r.oid, true) as condef,\n",
      "                n.nspname as conschema\n",
      "          FROM  pg_catalog.pg_constraint r,\n",
      "                pg_namespace n,\n",
      "                pg_class c\n",
      "\n",
      "          WHERE r.conrelid = %(table)s AND\n",
      "                r.contype = 'f' AND\n",
      "                c.oid = confrelid AND\n",
      "                n.oid = c.relnamespace\n",
      "          ORDER BY 1\n",
      "        \n"
     ]
    },
    {
     "name": "stdout",
     "output_type": "stream",
     "text": [
      "2016-01-15 19:16:39,963 INFO sqlalchemy.engine.base.Engine {'table': 16413}\n"
     ]
    },
    {
     "name": "stderr",
     "output_type": "stream",
     "text": [
      "INFO:sqlalchemy.engine.base.Engine:{'table': 16413}\n"
     ]
    },
    {
     "name": "stdout",
     "output_type": "stream",
     "text": [
      "2016-01-15 19:16:39,990 INFO sqlalchemy.engine.base.Engine \n",
      "              SELECT\n",
      "                  i.relname as relname,\n",
      "                  ix.indisunique, ix.indexprs, ix.indpred,\n",
      "                  a.attname, a.attnum, c.conrelid, ix.indkey::varchar,\n",
      "                  i.reloptions, am.amname\n",
      "              FROM\n",
      "                  pg_class t\n",
      "                        join pg_index ix on t.oid = ix.indrelid\n",
      "                        join pg_class i on i.oid = ix.indexrelid\n",
      "                        left outer join\n",
      "                            pg_attribute a\n",
      "                            on t.oid = a.attrelid and a.attnum = ANY(ix.indkey)\n",
      "                        left outer join\n",
      "                            pg_constraint c\n",
      "                            on (ix.indrelid = c.conrelid and\n",
      "                                ix.indexrelid = c.conindid and\n",
      "                                c.contype in ('p', 'u', 'x'))\n",
      "                        left outer join\n",
      "                            pg_am am\n",
      "                            on i.relam = am.oid\n",
      "              WHERE\n",
      "                  t.relkind IN ('r', 'v', 'f', 'm')\n",
      "                  and t.oid = %(table_oid)s\n",
      "                  and ix.indisprimary = 'f'\n",
      "              ORDER BY\n",
      "                  t.relname,\n",
      "                  i.relname\n",
      "            \n"
     ]
    },
    {
     "name": "stderr",
     "output_type": "stream",
     "text": [
      "INFO:sqlalchemy.engine.base.Engine:\n",
      "              SELECT\n",
      "                  i.relname as relname,\n",
      "                  ix.indisunique, ix.indexprs, ix.indpred,\n",
      "                  a.attname, a.attnum, c.conrelid, ix.indkey::varchar,\n",
      "                  i.reloptions, am.amname\n",
      "              FROM\n",
      "                  pg_class t\n",
      "                        join pg_index ix on t.oid = ix.indrelid\n",
      "                        join pg_class i on i.oid = ix.indexrelid\n",
      "                        left outer join\n",
      "                            pg_attribute a\n",
      "                            on t.oid = a.attrelid and a.attnum = ANY(ix.indkey)\n",
      "                        left outer join\n",
      "                            pg_constraint c\n",
      "                            on (ix.indrelid = c.conrelid and\n",
      "                                ix.indexrelid = c.conindid and\n",
      "                                c.contype in ('p', 'u', 'x'))\n",
      "                        left outer join\n",
      "                            pg_am am\n",
      "                            on i.relam = am.oid\n",
      "              WHERE\n",
      "                  t.relkind IN ('r', 'v', 'f', 'm')\n",
      "                  and t.oid = %(table_oid)s\n",
      "                  and ix.indisprimary = 'f'\n",
      "              ORDER BY\n",
      "                  t.relname,\n",
      "                  i.relname\n",
      "            \n"
     ]
    },
    {
     "name": "stdout",
     "output_type": "stream",
     "text": [
      "2016-01-15 19:16:39,990 INFO sqlalchemy.engine.base.Engine {'table_oid': 16413}\n"
     ]
    },
    {
     "name": "stderr",
     "output_type": "stream",
     "text": [
      "INFO:sqlalchemy.engine.base.Engine:{'table_oid': 16413}\n"
     ]
    },
    {
     "name": "stdout",
     "output_type": "stream",
     "text": [
      "2016-01-15 19:16:40,015 INFO sqlalchemy.engine.base.Engine \n",
      "            SELECT\n",
      "                cons.conname as name,\n",
      "                cons.conkey as key,\n",
      "                a.attnum as col_num,\n",
      "                a.attname as col_name\n",
      "            FROM\n",
      "                pg_catalog.pg_constraint cons\n",
      "                join pg_attribute a\n",
      "                  on cons.conrelid = a.attrelid AND\n",
      "                    a.attnum = ANY(cons.conkey)\n",
      "            WHERE\n",
      "                cons.conrelid = %(table_oid)s AND\n",
      "                cons.contype = 'u'\n",
      "        \n"
     ]
    },
    {
     "name": "stderr",
     "output_type": "stream",
     "text": [
      "INFO:sqlalchemy.engine.base.Engine:\n",
      "            SELECT\n",
      "                cons.conname as name,\n",
      "                cons.conkey as key,\n",
      "                a.attnum as col_num,\n",
      "                a.attname as col_name\n",
      "            FROM\n",
      "                pg_catalog.pg_constraint cons\n",
      "                join pg_attribute a\n",
      "                  on cons.conrelid = a.attrelid AND\n",
      "                    a.attnum = ANY(cons.conkey)\n",
      "            WHERE\n",
      "                cons.conrelid = %(table_oid)s AND\n",
      "                cons.contype = 'u'\n",
      "        \n"
     ]
    },
    {
     "name": "stdout",
     "output_type": "stream",
     "text": [
      "2016-01-15 19:16:40,017 INFO sqlalchemy.engine.base.Engine {'table_oid': 16413}\n"
     ]
    },
    {
     "name": "stderr",
     "output_type": "stream",
     "text": [
      "INFO:sqlalchemy.engine.base.Engine:{'table_oid': 16413}\n"
     ]
    },
    {
     "name": "stdout",
     "output_type": "stream",
     "text": [
      "2016-01-15 19:16:40,046 INFO sqlalchemy.engine.base.Engine \n",
      "            SELECT c.oid\n",
      "            FROM pg_catalog.pg_class c\n",
      "            LEFT JOIN pg_catalog.pg_namespace n ON n.oid = c.relnamespace\n",
      "            WHERE (pg_catalog.pg_table_is_visible(c.oid))\n",
      "            AND c.relname = %(table_name)s AND c.relkind in ('r', 'v', 'm', 'f')\n",
      "        \n"
     ]
    },
    {
     "name": "stderr",
     "output_type": "stream",
     "text": [
      "INFO:sqlalchemy.engine.base.Engine:\n",
      "            SELECT c.oid\n",
      "            FROM pg_catalog.pg_class c\n",
      "            LEFT JOIN pg_catalog.pg_namespace n ON n.oid = c.relnamespace\n",
      "            WHERE (pg_catalog.pg_table_is_visible(c.oid))\n",
      "            AND c.relname = %(table_name)s AND c.relkind in ('r', 'v', 'm', 'f')\n",
      "        \n"
     ]
    },
    {
     "name": "stdout",
     "output_type": "stream",
     "text": [
      "2016-01-15 19:16:40,047 INFO sqlalchemy.engine.base.Engine {'table_name': 'FIPS_States'}\n"
     ]
    },
    {
     "name": "stderr",
     "output_type": "stream",
     "text": [
      "INFO:sqlalchemy.engine.base.Engine:{'table_name': 'FIPS_States'}\n"
     ]
    },
    {
     "name": "stdout",
     "output_type": "stream",
     "text": [
      "2016-01-15 19:16:40,070 INFO sqlalchemy.engine.base.Engine \n",
      "            SELECT a.attname,\n",
      "              pg_catalog.format_type(a.atttypid, a.atttypmod),\n",
      "              (SELECT pg_catalog.pg_get_expr(d.adbin, d.adrelid)\n",
      "                FROM pg_catalog.pg_attrdef d\n",
      "               WHERE d.adrelid = a.attrelid AND d.adnum = a.attnum\n",
      "               AND a.atthasdef)\n",
      "              AS DEFAULT,\n",
      "              a.attnotnull, a.attnum, a.attrelid as table_oid\n",
      "            FROM pg_catalog.pg_attribute a\n",
      "            WHERE a.attrelid = %(table_oid)s\n",
      "            AND a.attnum > 0 AND NOT a.attisdropped\n",
      "            ORDER BY a.attnum\n",
      "        \n"
     ]
    },
    {
     "name": "stderr",
     "output_type": "stream",
     "text": [
      "INFO:sqlalchemy.engine.base.Engine:\n",
      "            SELECT a.attname,\n",
      "              pg_catalog.format_type(a.atttypid, a.atttypmod),\n",
      "              (SELECT pg_catalog.pg_get_expr(d.adbin, d.adrelid)\n",
      "                FROM pg_catalog.pg_attrdef d\n",
      "               WHERE d.adrelid = a.attrelid AND d.adnum = a.attnum\n",
      "               AND a.atthasdef)\n",
      "              AS DEFAULT,\n",
      "              a.attnotnull, a.attnum, a.attrelid as table_oid\n",
      "            FROM pg_catalog.pg_attribute a\n",
      "            WHERE a.attrelid = %(table_oid)s\n",
      "            AND a.attnum > 0 AND NOT a.attisdropped\n",
      "            ORDER BY a.attnum\n",
      "        \n"
     ]
    },
    {
     "name": "stdout",
     "output_type": "stream",
     "text": [
      "2016-01-15 19:16:40,071 INFO sqlalchemy.engine.base.Engine {'table_oid': 16419}\n"
     ]
    },
    {
     "name": "stderr",
     "output_type": "stream",
     "text": [
      "INFO:sqlalchemy.engine.base.Engine:{'table_oid': 16419}\n"
     ]
    },
    {
     "name": "stdout",
     "output_type": "stream",
     "text": [
      "2016-01-15 19:16:40,093 INFO sqlalchemy.engine.base.Engine \n",
      "            SELECT t.typname as \"name\",\n",
      "               pg_catalog.format_type(t.typbasetype, t.typtypmod) as \"attype\",\n",
      "               not t.typnotnull as \"nullable\",\n",
      "               t.typdefault as \"default\",\n",
      "               pg_catalog.pg_type_is_visible(t.oid) as \"visible\",\n",
      "               n.nspname as \"schema\"\n",
      "            FROM pg_catalog.pg_type t\n",
      "               LEFT JOIN pg_catalog.pg_namespace n ON n.oid = t.typnamespace\n",
      "            WHERE t.typtype = 'd'\n",
      "        \n"
     ]
    },
    {
     "name": "stderr",
     "output_type": "stream",
     "text": [
      "INFO:sqlalchemy.engine.base.Engine:\n",
      "            SELECT t.typname as \"name\",\n",
      "               pg_catalog.format_type(t.typbasetype, t.typtypmod) as \"attype\",\n",
      "               not t.typnotnull as \"nullable\",\n",
      "               t.typdefault as \"default\",\n",
      "               pg_catalog.pg_type_is_visible(t.oid) as \"visible\",\n",
      "               n.nspname as \"schema\"\n",
      "            FROM pg_catalog.pg_type t\n",
      "               LEFT JOIN pg_catalog.pg_namespace n ON n.oid = t.typnamespace\n",
      "            WHERE t.typtype = 'd'\n",
      "        \n"
     ]
    },
    {
     "name": "stdout",
     "output_type": "stream",
     "text": [
      "2016-01-15 19:16:40,094 INFO sqlalchemy.engine.base.Engine {}\n"
     ]
    },
    {
     "name": "stderr",
     "output_type": "stream",
     "text": [
      "INFO:sqlalchemy.engine.base.Engine:{}\n"
     ]
    },
    {
     "name": "stdout",
     "output_type": "stream",
     "text": [
      "2016-01-15 19:16:40,119 INFO sqlalchemy.engine.base.Engine \n",
      "            SELECT t.typname as \"name\",\n",
      "               -- no enum defaults in 8.4 at least\n",
      "               -- t.typdefault as \"default\",\n",
      "               pg_catalog.pg_type_is_visible(t.oid) as \"visible\",\n",
      "               n.nspname as \"schema\",\n",
      "               e.enumlabel as \"label\"\n",
      "            FROM pg_catalog.pg_type t\n",
      "                 LEFT JOIN pg_catalog.pg_namespace n ON n.oid = t.typnamespace\n",
      "                 LEFT JOIN pg_catalog.pg_enum e ON t.oid = e.enumtypid\n",
      "            WHERE t.typtype = 'e'\n",
      "        ORDER BY \"schema\", \"name\", e.oid\n"
     ]
    },
    {
     "name": "stderr",
     "output_type": "stream",
     "text": [
      "INFO:sqlalchemy.engine.base.Engine:\n",
      "            SELECT t.typname as \"name\",\n",
      "               -- no enum defaults in 8.4 at least\n",
      "               -- t.typdefault as \"default\",\n",
      "               pg_catalog.pg_type_is_visible(t.oid) as \"visible\",\n",
      "               n.nspname as \"schema\",\n",
      "               e.enumlabel as \"label\"\n",
      "            FROM pg_catalog.pg_type t\n",
      "                 LEFT JOIN pg_catalog.pg_namespace n ON n.oid = t.typnamespace\n",
      "                 LEFT JOIN pg_catalog.pg_enum e ON t.oid = e.enumtypid\n",
      "            WHERE t.typtype = 'e'\n",
      "        ORDER BY \"schema\", \"name\", e.oid\n"
     ]
    },
    {
     "name": "stdout",
     "output_type": "stream",
     "text": [
      "2016-01-15 19:16:40,120 INFO sqlalchemy.engine.base.Engine {}\n"
     ]
    },
    {
     "name": "stderr",
     "output_type": "stream",
     "text": [
      "INFO:sqlalchemy.engine.base.Engine:{}\n"
     ]
    },
    {
     "name": "stdout",
     "output_type": "stream",
     "text": [
      "2016-01-15 19:16:40,146 INFO sqlalchemy.engine.base.Engine \n",
      "                SELECT a.attname\n",
      "                FROM pg_attribute a JOIN (\n",
      "                    SELECT unnest(ix.indkey) attnum,\n",
      "                           generate_subscripts(ix.indkey, 1) ord\n",
      "                    FROM pg_index ix\n",
      "                    WHERE ix.indrelid = %(table_oid)s AND ix.indisprimary\n",
      "                    ) k ON a.attnum=k.attnum\n",
      "                WHERE a.attrelid = %(table_oid)s\n",
      "                ORDER BY k.ord\n",
      "            \n"
     ]
    },
    {
     "name": "stderr",
     "output_type": "stream",
     "text": [
      "INFO:sqlalchemy.engine.base.Engine:\n",
      "                SELECT a.attname\n",
      "                FROM pg_attribute a JOIN (\n",
      "                    SELECT unnest(ix.indkey) attnum,\n",
      "                           generate_subscripts(ix.indkey, 1) ord\n",
      "                    FROM pg_index ix\n",
      "                    WHERE ix.indrelid = %(table_oid)s AND ix.indisprimary\n",
      "                    ) k ON a.attnum=k.attnum\n",
      "                WHERE a.attrelid = %(table_oid)s\n",
      "                ORDER BY k.ord\n",
      "            \n"
     ]
    },
    {
     "name": "stdout",
     "output_type": "stream",
     "text": [
      "2016-01-15 19:16:40,147 INFO sqlalchemy.engine.base.Engine {'table_oid': 16419}\n"
     ]
    },
    {
     "name": "stderr",
     "output_type": "stream",
     "text": [
      "INFO:sqlalchemy.engine.base.Engine:{'table_oid': 16419}\n"
     ]
    },
    {
     "name": "stdout",
     "output_type": "stream",
     "text": [
      "2016-01-15 19:16:40,173 INFO sqlalchemy.engine.base.Engine \n",
      "        SELECT conname\n",
      "           FROM  pg_catalog.pg_constraint r\n",
      "           WHERE r.conrelid = %(table_oid)s AND r.contype = 'p'\n",
      "           ORDER BY 1\n",
      "        \n"
     ]
    },
    {
     "name": "stderr",
     "output_type": "stream",
     "text": [
      "INFO:sqlalchemy.engine.base.Engine:\n",
      "        SELECT conname\n",
      "           FROM  pg_catalog.pg_constraint r\n",
      "           WHERE r.conrelid = %(table_oid)s AND r.contype = 'p'\n",
      "           ORDER BY 1\n",
      "        \n"
     ]
    },
    {
     "name": "stdout",
     "output_type": "stream",
     "text": [
      "2016-01-15 19:16:40,173 INFO sqlalchemy.engine.base.Engine {'table_oid': 16419}\n"
     ]
    },
    {
     "name": "stderr",
     "output_type": "stream",
     "text": [
      "INFO:sqlalchemy.engine.base.Engine:{'table_oid': 16419}\n"
     ]
    },
    {
     "name": "stdout",
     "output_type": "stream",
     "text": [
      "2016-01-15 19:16:40,198 INFO sqlalchemy.engine.base.Engine \n",
      "          SELECT r.conname,\n",
      "                pg_catalog.pg_get_constraintdef(r.oid, true) as condef,\n",
      "                n.nspname as conschema\n",
      "          FROM  pg_catalog.pg_constraint r,\n",
      "                pg_namespace n,\n",
      "                pg_class c\n",
      "\n",
      "          WHERE r.conrelid = %(table)s AND\n",
      "                r.contype = 'f' AND\n",
      "                c.oid = confrelid AND\n",
      "                n.oid = c.relnamespace\n",
      "          ORDER BY 1\n",
      "        \n"
     ]
    },
    {
     "name": "stderr",
     "output_type": "stream",
     "text": [
      "INFO:sqlalchemy.engine.base.Engine:\n",
      "          SELECT r.conname,\n",
      "                pg_catalog.pg_get_constraintdef(r.oid, true) as condef,\n",
      "                n.nspname as conschema\n",
      "          FROM  pg_catalog.pg_constraint r,\n",
      "                pg_namespace n,\n",
      "                pg_class c\n",
      "\n",
      "          WHERE r.conrelid = %(table)s AND\n",
      "                r.contype = 'f' AND\n",
      "                c.oid = confrelid AND\n",
      "                n.oid = c.relnamespace\n",
      "          ORDER BY 1\n",
      "        \n"
     ]
    },
    {
     "name": "stdout",
     "output_type": "stream",
     "text": [
      "2016-01-15 19:16:40,199 INFO sqlalchemy.engine.base.Engine {'table': 16419}\n"
     ]
    },
    {
     "name": "stderr",
     "output_type": "stream",
     "text": [
      "INFO:sqlalchemy.engine.base.Engine:{'table': 16419}\n"
     ]
    },
    {
     "name": "stdout",
     "output_type": "stream",
     "text": [
      "2016-01-15 19:16:40,224 INFO sqlalchemy.engine.base.Engine \n",
      "              SELECT\n",
      "                  i.relname as relname,\n",
      "                  ix.indisunique, ix.indexprs, ix.indpred,\n",
      "                  a.attname, a.attnum, c.conrelid, ix.indkey::varchar,\n",
      "                  i.reloptions, am.amname\n",
      "              FROM\n",
      "                  pg_class t\n",
      "                        join pg_index ix on t.oid = ix.indrelid\n",
      "                        join pg_class i on i.oid = ix.indexrelid\n",
      "                        left outer join\n",
      "                            pg_attribute a\n",
      "                            on t.oid = a.attrelid and a.attnum = ANY(ix.indkey)\n",
      "                        left outer join\n",
      "                            pg_constraint c\n",
      "                            on (ix.indrelid = c.conrelid and\n",
      "                                ix.indexrelid = c.conindid and\n",
      "                                c.contype in ('p', 'u', 'x'))\n",
      "                        left outer join\n",
      "                            pg_am am\n",
      "                            on i.relam = am.oid\n",
      "              WHERE\n",
      "                  t.relkind IN ('r', 'v', 'f', 'm')\n",
      "                  and t.oid = %(table_oid)s\n",
      "                  and ix.indisprimary = 'f'\n",
      "              ORDER BY\n",
      "                  t.relname,\n",
      "                  i.relname\n",
      "            \n"
     ]
    },
    {
     "name": "stderr",
     "output_type": "stream",
     "text": [
      "INFO:sqlalchemy.engine.base.Engine:\n",
      "              SELECT\n",
      "                  i.relname as relname,\n",
      "                  ix.indisunique, ix.indexprs, ix.indpred,\n",
      "                  a.attname, a.attnum, c.conrelid, ix.indkey::varchar,\n",
      "                  i.reloptions, am.amname\n",
      "              FROM\n",
      "                  pg_class t\n",
      "                        join pg_index ix on t.oid = ix.indrelid\n",
      "                        join pg_class i on i.oid = ix.indexrelid\n",
      "                        left outer join\n",
      "                            pg_attribute a\n",
      "                            on t.oid = a.attrelid and a.attnum = ANY(ix.indkey)\n",
      "                        left outer join\n",
      "                            pg_constraint c\n",
      "                            on (ix.indrelid = c.conrelid and\n",
      "                                ix.indexrelid = c.conindid and\n",
      "                                c.contype in ('p', 'u', 'x'))\n",
      "                        left outer join\n",
      "                            pg_am am\n",
      "                            on i.relam = am.oid\n",
      "              WHERE\n",
      "                  t.relkind IN ('r', 'v', 'f', 'm')\n",
      "                  and t.oid = %(table_oid)s\n",
      "                  and ix.indisprimary = 'f'\n",
      "              ORDER BY\n",
      "                  t.relname,\n",
      "                  i.relname\n",
      "            \n"
     ]
    },
    {
     "name": "stdout",
     "output_type": "stream",
     "text": [
      "2016-01-15 19:16:40,225 INFO sqlalchemy.engine.base.Engine {'table_oid': 16419}\n"
     ]
    },
    {
     "name": "stderr",
     "output_type": "stream",
     "text": [
      "INFO:sqlalchemy.engine.base.Engine:{'table_oid': 16419}\n"
     ]
    },
    {
     "name": "stdout",
     "output_type": "stream",
     "text": [
      "2016-01-15 19:16:40,251 INFO sqlalchemy.engine.base.Engine \n",
      "            SELECT\n",
      "                cons.conname as name,\n",
      "                cons.conkey as key,\n",
      "                a.attnum as col_num,\n",
      "                a.attname as col_name\n",
      "            FROM\n",
      "                pg_catalog.pg_constraint cons\n",
      "                join pg_attribute a\n",
      "                  on cons.conrelid = a.attrelid AND\n",
      "                    a.attnum = ANY(cons.conkey)\n",
      "            WHERE\n",
      "                cons.conrelid = %(table_oid)s AND\n",
      "                cons.contype = 'u'\n",
      "        \n"
     ]
    },
    {
     "name": "stderr",
     "output_type": "stream",
     "text": [
      "INFO:sqlalchemy.engine.base.Engine:\n",
      "            SELECT\n",
      "                cons.conname as name,\n",
      "                cons.conkey as key,\n",
      "                a.attnum as col_num,\n",
      "                a.attname as col_name\n",
      "            FROM\n",
      "                pg_catalog.pg_constraint cons\n",
      "                join pg_attribute a\n",
      "                  on cons.conrelid = a.attrelid AND\n",
      "                    a.attnum = ANY(cons.conkey)\n",
      "            WHERE\n",
      "                cons.conrelid = %(table_oid)s AND\n",
      "                cons.contype = 'u'\n",
      "        \n"
     ]
    },
    {
     "name": "stdout",
     "output_type": "stream",
     "text": [
      "2016-01-15 19:16:40,252 INFO sqlalchemy.engine.base.Engine {'table_oid': 16419}\n"
     ]
    },
    {
     "name": "stderr",
     "output_type": "stream",
     "text": [
      "INFO:sqlalchemy.engine.base.Engine:{'table_oid': 16419}\n"
     ]
    },
    {
     "name": "stdout",
     "output_type": "stream",
     "text": [
      "2016-01-15 19:16:40,283 INFO sqlalchemy.engine.base.Engine \n",
      "            SELECT c.oid\n",
      "            FROM pg_catalog.pg_class c\n",
      "            LEFT JOIN pg_catalog.pg_namespace n ON n.oid = c.relnamespace\n",
      "            WHERE (pg_catalog.pg_table_is_visible(c.oid))\n",
      "            AND c.relname = %(table_name)s AND c.relkind in ('r', 'v', 'm', 'f')\n",
      "        \n"
     ]
    },
    {
     "name": "stderr",
     "output_type": "stream",
     "text": [
      "INFO:sqlalchemy.engine.base.Engine:\n",
      "            SELECT c.oid\n",
      "            FROM pg_catalog.pg_class c\n",
      "            LEFT JOIN pg_catalog.pg_namespace n ON n.oid = c.relnamespace\n",
      "            WHERE (pg_catalog.pg_table_is_visible(c.oid))\n",
      "            AND c.relname = %(table_name)s AND c.relkind in ('r', 'v', 'm', 'f')\n",
      "        \n"
     ]
    },
    {
     "name": "stdout",
     "output_type": "stream",
     "text": [
      "2016-01-15 19:16:40,283 INFO sqlalchemy.engine.base.Engine {'table_name': 'transactions'}\n"
     ]
    },
    {
     "name": "stderr",
     "output_type": "stream",
     "text": [
      "INFO:sqlalchemy.engine.base.Engine:{'table_name': 'transactions'}\n"
     ]
    },
    {
     "name": "stdout",
     "output_type": "stream",
     "text": [
      "2016-01-15 19:16:40,306 INFO sqlalchemy.engine.base.Engine \n",
      "            SELECT a.attname,\n",
      "              pg_catalog.format_type(a.atttypid, a.atttypmod),\n",
      "              (SELECT pg_catalog.pg_get_expr(d.adbin, d.adrelid)\n",
      "                FROM pg_catalog.pg_attrdef d\n",
      "               WHERE d.adrelid = a.attrelid AND d.adnum = a.attnum\n",
      "               AND a.atthasdef)\n",
      "              AS DEFAULT,\n",
      "              a.attnotnull, a.attnum, a.attrelid as table_oid\n",
      "            FROM pg_catalog.pg_attribute a\n",
      "            WHERE a.attrelid = %(table_oid)s\n",
      "            AND a.attnum > 0 AND NOT a.attisdropped\n",
      "            ORDER BY a.attnum\n",
      "        \n"
     ]
    },
    {
     "name": "stderr",
     "output_type": "stream",
     "text": [
      "INFO:sqlalchemy.engine.base.Engine:\n",
      "            SELECT a.attname,\n",
      "              pg_catalog.format_type(a.atttypid, a.atttypmod),\n",
      "              (SELECT pg_catalog.pg_get_expr(d.adbin, d.adrelid)\n",
      "                FROM pg_catalog.pg_attrdef d\n",
      "               WHERE d.adrelid = a.attrelid AND d.adnum = a.attnum\n",
      "               AND a.atthasdef)\n",
      "              AS DEFAULT,\n",
      "              a.attnotnull, a.attnum, a.attrelid as table_oid\n",
      "            FROM pg_catalog.pg_attribute a\n",
      "            WHERE a.attrelid = %(table_oid)s\n",
      "            AND a.attnum > 0 AND NOT a.attisdropped\n",
      "            ORDER BY a.attnum\n",
      "        \n"
     ]
    },
    {
     "name": "stdout",
     "output_type": "stream",
     "text": [
      "2016-01-15 19:16:40,307 INFO sqlalchemy.engine.base.Engine {'table_oid': 16426}\n"
     ]
    },
    {
     "name": "stderr",
     "output_type": "stream",
     "text": [
      "INFO:sqlalchemy.engine.base.Engine:{'table_oid': 16426}\n"
     ]
    },
    {
     "name": "stdout",
     "output_type": "stream",
     "text": [
      "2016-01-15 19:16:40,333 INFO sqlalchemy.engine.base.Engine \n",
      "            SELECT t.typname as \"name\",\n",
      "               pg_catalog.format_type(t.typbasetype, t.typtypmod) as \"attype\",\n",
      "               not t.typnotnull as \"nullable\",\n",
      "               t.typdefault as \"default\",\n",
      "               pg_catalog.pg_type_is_visible(t.oid) as \"visible\",\n",
      "               n.nspname as \"schema\"\n",
      "            FROM pg_catalog.pg_type t\n",
      "               LEFT JOIN pg_catalog.pg_namespace n ON n.oid = t.typnamespace\n",
      "            WHERE t.typtype = 'd'\n",
      "        \n"
     ]
    },
    {
     "name": "stderr",
     "output_type": "stream",
     "text": [
      "INFO:sqlalchemy.engine.base.Engine:\n",
      "            SELECT t.typname as \"name\",\n",
      "               pg_catalog.format_type(t.typbasetype, t.typtypmod) as \"attype\",\n",
      "               not t.typnotnull as \"nullable\",\n",
      "               t.typdefault as \"default\",\n",
      "               pg_catalog.pg_type_is_visible(t.oid) as \"visible\",\n",
      "               n.nspname as \"schema\"\n",
      "            FROM pg_catalog.pg_type t\n",
      "               LEFT JOIN pg_catalog.pg_namespace n ON n.oid = t.typnamespace\n",
      "            WHERE t.typtype = 'd'\n",
      "        \n"
     ]
    },
    {
     "name": "stdout",
     "output_type": "stream",
     "text": [
      "2016-01-15 19:16:40,334 INFO sqlalchemy.engine.base.Engine {}\n"
     ]
    },
    {
     "name": "stderr",
     "output_type": "stream",
     "text": [
      "INFO:sqlalchemy.engine.base.Engine:{}\n"
     ]
    },
    {
     "name": "stdout",
     "output_type": "stream",
     "text": [
      "2016-01-15 19:16:40,359 INFO sqlalchemy.engine.base.Engine \n",
      "            SELECT t.typname as \"name\",\n",
      "               -- no enum defaults in 8.4 at least\n",
      "               -- t.typdefault as \"default\",\n",
      "               pg_catalog.pg_type_is_visible(t.oid) as \"visible\",\n",
      "               n.nspname as \"schema\",\n",
      "               e.enumlabel as \"label\"\n",
      "            FROM pg_catalog.pg_type t\n",
      "                 LEFT JOIN pg_catalog.pg_namespace n ON n.oid = t.typnamespace\n",
      "                 LEFT JOIN pg_catalog.pg_enum e ON t.oid = e.enumtypid\n",
      "            WHERE t.typtype = 'e'\n",
      "        ORDER BY \"schema\", \"name\", e.oid\n"
     ]
    },
    {
     "name": "stderr",
     "output_type": "stream",
     "text": [
      "INFO:sqlalchemy.engine.base.Engine:\n",
      "            SELECT t.typname as \"name\",\n",
      "               -- no enum defaults in 8.4 at least\n",
      "               -- t.typdefault as \"default\",\n",
      "               pg_catalog.pg_type_is_visible(t.oid) as \"visible\",\n",
      "               n.nspname as \"schema\",\n",
      "               e.enumlabel as \"label\"\n",
      "            FROM pg_catalog.pg_type t\n",
      "                 LEFT JOIN pg_catalog.pg_namespace n ON n.oid = t.typnamespace\n",
      "                 LEFT JOIN pg_catalog.pg_enum e ON t.oid = e.enumtypid\n",
      "            WHERE t.typtype = 'e'\n",
      "        ORDER BY \"schema\", \"name\", e.oid\n"
     ]
    },
    {
     "name": "stdout",
     "output_type": "stream",
     "text": [
      "2016-01-15 19:16:40,360 INFO sqlalchemy.engine.base.Engine {}\n"
     ]
    },
    {
     "name": "stderr",
     "output_type": "stream",
     "text": [
      "INFO:sqlalchemy.engine.base.Engine:{}\n"
     ]
    },
    {
     "name": "stdout",
     "output_type": "stream",
     "text": [
      "2016-01-15 19:16:40,386 INFO sqlalchemy.engine.base.Engine \n",
      "                SELECT a.attname\n",
      "                FROM pg_attribute a JOIN (\n",
      "                    SELECT unnest(ix.indkey) attnum,\n",
      "                           generate_subscripts(ix.indkey, 1) ord\n",
      "                    FROM pg_index ix\n",
      "                    WHERE ix.indrelid = %(table_oid)s AND ix.indisprimary\n",
      "                    ) k ON a.attnum=k.attnum\n",
      "                WHERE a.attrelid = %(table_oid)s\n",
      "                ORDER BY k.ord\n",
      "            \n"
     ]
    },
    {
     "name": "stderr",
     "output_type": "stream",
     "text": [
      "INFO:sqlalchemy.engine.base.Engine:\n",
      "                SELECT a.attname\n",
      "                FROM pg_attribute a JOIN (\n",
      "                    SELECT unnest(ix.indkey) attnum,\n",
      "                           generate_subscripts(ix.indkey, 1) ord\n",
      "                    FROM pg_index ix\n",
      "                    WHERE ix.indrelid = %(table_oid)s AND ix.indisprimary\n",
      "                    ) k ON a.attnum=k.attnum\n",
      "                WHERE a.attrelid = %(table_oid)s\n",
      "                ORDER BY k.ord\n",
      "            \n"
     ]
    },
    {
     "name": "stdout",
     "output_type": "stream",
     "text": [
      "2016-01-15 19:16:40,387 INFO sqlalchemy.engine.base.Engine {'table_oid': 16426}\n"
     ]
    },
    {
     "name": "stderr",
     "output_type": "stream",
     "text": [
      "INFO:sqlalchemy.engine.base.Engine:{'table_oid': 16426}\n"
     ]
    },
    {
     "name": "stdout",
     "output_type": "stream",
     "text": [
      "2016-01-15 19:16:40,411 INFO sqlalchemy.engine.base.Engine \n",
      "        SELECT conname\n",
      "           FROM  pg_catalog.pg_constraint r\n",
      "           WHERE r.conrelid = %(table_oid)s AND r.contype = 'p'\n",
      "           ORDER BY 1\n",
      "        \n"
     ]
    },
    {
     "name": "stderr",
     "output_type": "stream",
     "text": [
      "INFO:sqlalchemy.engine.base.Engine:\n",
      "        SELECT conname\n",
      "           FROM  pg_catalog.pg_constraint r\n",
      "           WHERE r.conrelid = %(table_oid)s AND r.contype = 'p'\n",
      "           ORDER BY 1\n",
      "        \n"
     ]
    },
    {
     "name": "stdout",
     "output_type": "stream",
     "text": [
      "2016-01-15 19:16:40,412 INFO sqlalchemy.engine.base.Engine {'table_oid': 16426}\n"
     ]
    },
    {
     "name": "stderr",
     "output_type": "stream",
     "text": [
      "INFO:sqlalchemy.engine.base.Engine:{'table_oid': 16426}\n"
     ]
    },
    {
     "name": "stdout",
     "output_type": "stream",
     "text": [
      "2016-01-15 19:16:40,435 INFO sqlalchemy.engine.base.Engine \n",
      "          SELECT r.conname,\n",
      "                pg_catalog.pg_get_constraintdef(r.oid, true) as condef,\n",
      "                n.nspname as conschema\n",
      "          FROM  pg_catalog.pg_constraint r,\n",
      "                pg_namespace n,\n",
      "                pg_class c\n",
      "\n",
      "          WHERE r.conrelid = %(table)s AND\n",
      "                r.contype = 'f' AND\n",
      "                c.oid = confrelid AND\n",
      "                n.oid = c.relnamespace\n",
      "          ORDER BY 1\n",
      "        \n"
     ]
    },
    {
     "name": "stderr",
     "output_type": "stream",
     "text": [
      "INFO:sqlalchemy.engine.base.Engine:\n",
      "          SELECT r.conname,\n",
      "                pg_catalog.pg_get_constraintdef(r.oid, true) as condef,\n",
      "                n.nspname as conschema\n",
      "          FROM  pg_catalog.pg_constraint r,\n",
      "                pg_namespace n,\n",
      "                pg_class c\n",
      "\n",
      "          WHERE r.conrelid = %(table)s AND\n",
      "                r.contype = 'f' AND\n",
      "                c.oid = confrelid AND\n",
      "                n.oid = c.relnamespace\n",
      "          ORDER BY 1\n",
      "        \n"
     ]
    },
    {
     "name": "stdout",
     "output_type": "stream",
     "text": [
      "2016-01-15 19:16:40,436 INFO sqlalchemy.engine.base.Engine {'table': 16426}\n"
     ]
    },
    {
     "name": "stderr",
     "output_type": "stream",
     "text": [
      "INFO:sqlalchemy.engine.base.Engine:{'table': 16426}\n"
     ]
    },
    {
     "name": "stdout",
     "output_type": "stream",
     "text": [
      "2016-01-15 19:16:40,462 INFO sqlalchemy.engine.base.Engine \n",
      "              SELECT\n",
      "                  i.relname as relname,\n",
      "                  ix.indisunique, ix.indexprs, ix.indpred,\n",
      "                  a.attname, a.attnum, c.conrelid, ix.indkey::varchar,\n",
      "                  i.reloptions, am.amname\n",
      "              FROM\n",
      "                  pg_class t\n",
      "                        join pg_index ix on t.oid = ix.indrelid\n",
      "                        join pg_class i on i.oid = ix.indexrelid\n",
      "                        left outer join\n",
      "                            pg_attribute a\n",
      "                            on t.oid = a.attrelid and a.attnum = ANY(ix.indkey)\n",
      "                        left outer join\n",
      "                            pg_constraint c\n",
      "                            on (ix.indrelid = c.conrelid and\n",
      "                                ix.indexrelid = c.conindid and\n",
      "                                c.contype in ('p', 'u', 'x'))\n",
      "                        left outer join\n",
      "                            pg_am am\n",
      "                            on i.relam = am.oid\n",
      "              WHERE\n",
      "                  t.relkind IN ('r', 'v', 'f', 'm')\n",
      "                  and t.oid = %(table_oid)s\n",
      "                  and ix.indisprimary = 'f'\n",
      "              ORDER BY\n",
      "                  t.relname,\n",
      "                  i.relname\n",
      "            \n"
     ]
    },
    {
     "name": "stderr",
     "output_type": "stream",
     "text": [
      "INFO:sqlalchemy.engine.base.Engine:\n",
      "              SELECT\n",
      "                  i.relname as relname,\n",
      "                  ix.indisunique, ix.indexprs, ix.indpred,\n",
      "                  a.attname, a.attnum, c.conrelid, ix.indkey::varchar,\n",
      "                  i.reloptions, am.amname\n",
      "              FROM\n",
      "                  pg_class t\n",
      "                        join pg_index ix on t.oid = ix.indrelid\n",
      "                        join pg_class i on i.oid = ix.indexrelid\n",
      "                        left outer join\n",
      "                            pg_attribute a\n",
      "                            on t.oid = a.attrelid and a.attnum = ANY(ix.indkey)\n",
      "                        left outer join\n",
      "                            pg_constraint c\n",
      "                            on (ix.indrelid = c.conrelid and\n",
      "                                ix.indexrelid = c.conindid and\n",
      "                                c.contype in ('p', 'u', 'x'))\n",
      "                        left outer join\n",
      "                            pg_am am\n",
      "                            on i.relam = am.oid\n",
      "              WHERE\n",
      "                  t.relkind IN ('r', 'v', 'f', 'm')\n",
      "                  and t.oid = %(table_oid)s\n",
      "                  and ix.indisprimary = 'f'\n",
      "              ORDER BY\n",
      "                  t.relname,\n",
      "                  i.relname\n",
      "            \n"
     ]
    },
    {
     "name": "stdout",
     "output_type": "stream",
     "text": [
      "2016-01-15 19:16:40,463 INFO sqlalchemy.engine.base.Engine {'table_oid': 16426}\n"
     ]
    },
    {
     "name": "stderr",
     "output_type": "stream",
     "text": [
      "INFO:sqlalchemy.engine.base.Engine:{'table_oid': 16426}\n"
     ]
    },
    {
     "name": "stdout",
     "output_type": "stream",
     "text": [
      "2016-01-15 19:16:40,488 INFO sqlalchemy.engine.base.Engine \n",
      "            SELECT\n",
      "                cons.conname as name,\n",
      "                cons.conkey as key,\n",
      "                a.attnum as col_num,\n",
      "                a.attname as col_name\n",
      "            FROM\n",
      "                pg_catalog.pg_constraint cons\n",
      "                join pg_attribute a\n",
      "                  on cons.conrelid = a.attrelid AND\n",
      "                    a.attnum = ANY(cons.conkey)\n",
      "            WHERE\n",
      "                cons.conrelid = %(table_oid)s AND\n",
      "                cons.contype = 'u'\n",
      "        \n"
     ]
    },
    {
     "name": "stderr",
     "output_type": "stream",
     "text": [
      "INFO:sqlalchemy.engine.base.Engine:\n",
      "            SELECT\n",
      "                cons.conname as name,\n",
      "                cons.conkey as key,\n",
      "                a.attnum as col_num,\n",
      "                a.attname as col_name\n",
      "            FROM\n",
      "                pg_catalog.pg_constraint cons\n",
      "                join pg_attribute a\n",
      "                  on cons.conrelid = a.attrelid AND\n",
      "                    a.attnum = ANY(cons.conkey)\n",
      "            WHERE\n",
      "                cons.conrelid = %(table_oid)s AND\n",
      "                cons.contype = 'u'\n",
      "        \n"
     ]
    },
    {
     "name": "stdout",
     "output_type": "stream",
     "text": [
      "2016-01-15 19:16:40,490 INFO sqlalchemy.engine.base.Engine {'table_oid': 16426}\n"
     ]
    },
    {
     "name": "stderr",
     "output_type": "stream",
     "text": [
      "INFO:sqlalchemy.engine.base.Engine:{'table_oid': 16426}\n"
     ]
    },
    {
     "name": "stdout",
     "output_type": "stream",
     "text": [
      "2016-01-15 19:16:40,515 INFO sqlalchemy.engine.base.Engine \n",
      "            SELECT c.oid\n",
      "            FROM pg_catalog.pg_class c\n",
      "            LEFT JOIN pg_catalog.pg_namespace n ON n.oid = c.relnamespace\n",
      "            WHERE (pg_catalog.pg_table_is_visible(c.oid))\n",
      "            AND c.relname = %(table_name)s AND c.relkind in ('r', 'v', 'm', 'f')\n",
      "        \n"
     ]
    },
    {
     "name": "stderr",
     "output_type": "stream",
     "text": [
      "INFO:sqlalchemy.engine.base.Engine:\n",
      "            SELECT c.oid\n",
      "            FROM pg_catalog.pg_class c\n",
      "            LEFT JOIN pg_catalog.pg_namespace n ON n.oid = c.relnamespace\n",
      "            WHERE (pg_catalog.pg_table_is_visible(c.oid))\n",
      "            AND c.relname = %(table_name)s AND c.relkind in ('r', 'v', 'm', 'f')\n",
      "        \n"
     ]
    },
    {
     "name": "stdout",
     "output_type": "stream",
     "text": [
      "2016-01-15 19:16:40,516 INFO sqlalchemy.engine.base.Engine {'table_name': 'transactions_joined'}\n"
     ]
    },
    {
     "name": "stderr",
     "output_type": "stream",
     "text": [
      "INFO:sqlalchemy.engine.base.Engine:{'table_name': 'transactions_joined'}\n"
     ]
    },
    {
     "name": "stdout",
     "output_type": "stream",
     "text": [
      "2016-01-15 19:16:40,539 INFO sqlalchemy.engine.base.Engine \n",
      "            SELECT a.attname,\n",
      "              pg_catalog.format_type(a.atttypid, a.atttypmod),\n",
      "              (SELECT pg_catalog.pg_get_expr(d.adbin, d.adrelid)\n",
      "                FROM pg_catalog.pg_attrdef d\n",
      "               WHERE d.adrelid = a.attrelid AND d.adnum = a.attnum\n",
      "               AND a.atthasdef)\n",
      "              AS DEFAULT,\n",
      "              a.attnotnull, a.attnum, a.attrelid as table_oid\n",
      "            FROM pg_catalog.pg_attribute a\n",
      "            WHERE a.attrelid = %(table_oid)s\n",
      "            AND a.attnum > 0 AND NOT a.attisdropped\n",
      "            ORDER BY a.attnum\n",
      "        \n"
     ]
    },
    {
     "name": "stderr",
     "output_type": "stream",
     "text": [
      "INFO:sqlalchemy.engine.base.Engine:\n",
      "            SELECT a.attname,\n",
      "              pg_catalog.format_type(a.atttypid, a.atttypmod),\n",
      "              (SELECT pg_catalog.pg_get_expr(d.adbin, d.adrelid)\n",
      "                FROM pg_catalog.pg_attrdef d\n",
      "               WHERE d.adrelid = a.attrelid AND d.adnum = a.attnum\n",
      "               AND a.atthasdef)\n",
      "              AS DEFAULT,\n",
      "              a.attnotnull, a.attnum, a.attrelid as table_oid\n",
      "            FROM pg_catalog.pg_attribute a\n",
      "            WHERE a.attrelid = %(table_oid)s\n",
      "            AND a.attnum > 0 AND NOT a.attisdropped\n",
      "            ORDER BY a.attnum\n",
      "        \n"
     ]
    },
    {
     "name": "stdout",
     "output_type": "stream",
     "text": [
      "2016-01-15 19:16:40,539 INFO sqlalchemy.engine.base.Engine {'table_oid': 16432}\n"
     ]
    },
    {
     "name": "stderr",
     "output_type": "stream",
     "text": [
      "INFO:sqlalchemy.engine.base.Engine:{'table_oid': 16432}\n"
     ]
    },
    {
     "name": "stdout",
     "output_type": "stream",
     "text": [
      "2016-01-15 19:16:40,564 INFO sqlalchemy.engine.base.Engine \n",
      "            SELECT t.typname as \"name\",\n",
      "               pg_catalog.format_type(t.typbasetype, t.typtypmod) as \"attype\",\n",
      "               not t.typnotnull as \"nullable\",\n",
      "               t.typdefault as \"default\",\n",
      "               pg_catalog.pg_type_is_visible(t.oid) as \"visible\",\n",
      "               n.nspname as \"schema\"\n",
      "            FROM pg_catalog.pg_type t\n",
      "               LEFT JOIN pg_catalog.pg_namespace n ON n.oid = t.typnamespace\n",
      "            WHERE t.typtype = 'd'\n",
      "        \n"
     ]
    },
    {
     "name": "stderr",
     "output_type": "stream",
     "text": [
      "INFO:sqlalchemy.engine.base.Engine:\n",
      "            SELECT t.typname as \"name\",\n",
      "               pg_catalog.format_type(t.typbasetype, t.typtypmod) as \"attype\",\n",
      "               not t.typnotnull as \"nullable\",\n",
      "               t.typdefault as \"default\",\n",
      "               pg_catalog.pg_type_is_visible(t.oid) as \"visible\",\n",
      "               n.nspname as \"schema\"\n",
      "            FROM pg_catalog.pg_type t\n",
      "               LEFT JOIN pg_catalog.pg_namespace n ON n.oid = t.typnamespace\n",
      "            WHERE t.typtype = 'd'\n",
      "        \n"
     ]
    },
    {
     "name": "stdout",
     "output_type": "stream",
     "text": [
      "2016-01-15 19:16:40,565 INFO sqlalchemy.engine.base.Engine {}\n"
     ]
    },
    {
     "name": "stderr",
     "output_type": "stream",
     "text": [
      "INFO:sqlalchemy.engine.base.Engine:{}\n"
     ]
    },
    {
     "name": "stdout",
     "output_type": "stream",
     "text": [
      "2016-01-15 19:16:40,588 INFO sqlalchemy.engine.base.Engine \n",
      "            SELECT t.typname as \"name\",\n",
      "               -- no enum defaults in 8.4 at least\n",
      "               -- t.typdefault as \"default\",\n",
      "               pg_catalog.pg_type_is_visible(t.oid) as \"visible\",\n",
      "               n.nspname as \"schema\",\n",
      "               e.enumlabel as \"label\"\n",
      "            FROM pg_catalog.pg_type t\n",
      "                 LEFT JOIN pg_catalog.pg_namespace n ON n.oid = t.typnamespace\n",
      "                 LEFT JOIN pg_catalog.pg_enum e ON t.oid = e.enumtypid\n",
      "            WHERE t.typtype = 'e'\n",
      "        ORDER BY \"schema\", \"name\", e.oid\n"
     ]
    },
    {
     "name": "stderr",
     "output_type": "stream",
     "text": [
      "INFO:sqlalchemy.engine.base.Engine:\n",
      "            SELECT t.typname as \"name\",\n",
      "               -- no enum defaults in 8.4 at least\n",
      "               -- t.typdefault as \"default\",\n",
      "               pg_catalog.pg_type_is_visible(t.oid) as \"visible\",\n",
      "               n.nspname as \"schema\",\n",
      "               e.enumlabel as \"label\"\n",
      "            FROM pg_catalog.pg_type t\n",
      "                 LEFT JOIN pg_catalog.pg_namespace n ON n.oid = t.typnamespace\n",
      "                 LEFT JOIN pg_catalog.pg_enum e ON t.oid = e.enumtypid\n",
      "            WHERE t.typtype = 'e'\n",
      "        ORDER BY \"schema\", \"name\", e.oid\n"
     ]
    },
    {
     "name": "stdout",
     "output_type": "stream",
     "text": [
      "2016-01-15 19:16:40,589 INFO sqlalchemy.engine.base.Engine {}\n"
     ]
    },
    {
     "name": "stderr",
     "output_type": "stream",
     "text": [
      "INFO:sqlalchemy.engine.base.Engine:{}\n"
     ]
    },
    {
     "name": "stdout",
     "output_type": "stream",
     "text": [
      "2016-01-15 19:16:40,614 INFO sqlalchemy.engine.base.Engine \n",
      "                SELECT a.attname\n",
      "                FROM pg_attribute a JOIN (\n",
      "                    SELECT unnest(ix.indkey) attnum,\n",
      "                           generate_subscripts(ix.indkey, 1) ord\n",
      "                    FROM pg_index ix\n",
      "                    WHERE ix.indrelid = %(table_oid)s AND ix.indisprimary\n",
      "                    ) k ON a.attnum=k.attnum\n",
      "                WHERE a.attrelid = %(table_oid)s\n",
      "                ORDER BY k.ord\n",
      "            \n"
     ]
    },
    {
     "name": "stderr",
     "output_type": "stream",
     "text": [
      "INFO:sqlalchemy.engine.base.Engine:\n",
      "                SELECT a.attname\n",
      "                FROM pg_attribute a JOIN (\n",
      "                    SELECT unnest(ix.indkey) attnum,\n",
      "                           generate_subscripts(ix.indkey, 1) ord\n",
      "                    FROM pg_index ix\n",
      "                    WHERE ix.indrelid = %(table_oid)s AND ix.indisprimary\n",
      "                    ) k ON a.attnum=k.attnum\n",
      "                WHERE a.attrelid = %(table_oid)s\n",
      "                ORDER BY k.ord\n",
      "            \n"
     ]
    },
    {
     "name": "stdout",
     "output_type": "stream",
     "text": [
      "2016-01-15 19:16:40,615 INFO sqlalchemy.engine.base.Engine {'table_oid': 16432}\n"
     ]
    },
    {
     "name": "stderr",
     "output_type": "stream",
     "text": [
      "INFO:sqlalchemy.engine.base.Engine:{'table_oid': 16432}\n"
     ]
    },
    {
     "name": "stdout",
     "output_type": "stream",
     "text": [
      "2016-01-15 19:16:40,639 INFO sqlalchemy.engine.base.Engine \n",
      "        SELECT conname\n",
      "           FROM  pg_catalog.pg_constraint r\n",
      "           WHERE r.conrelid = %(table_oid)s AND r.contype = 'p'\n",
      "           ORDER BY 1\n",
      "        \n"
     ]
    },
    {
     "name": "stderr",
     "output_type": "stream",
     "text": [
      "INFO:sqlalchemy.engine.base.Engine:\n",
      "        SELECT conname\n",
      "           FROM  pg_catalog.pg_constraint r\n",
      "           WHERE r.conrelid = %(table_oid)s AND r.contype = 'p'\n",
      "           ORDER BY 1\n",
      "        \n"
     ]
    },
    {
     "name": "stdout",
     "output_type": "stream",
     "text": [
      "2016-01-15 19:16:40,640 INFO sqlalchemy.engine.base.Engine {'table_oid': 16432}\n"
     ]
    },
    {
     "name": "stderr",
     "output_type": "stream",
     "text": [
      "INFO:sqlalchemy.engine.base.Engine:{'table_oid': 16432}\n"
     ]
    },
    {
     "name": "stdout",
     "output_type": "stream",
     "text": [
      "2016-01-15 19:16:40,668 INFO sqlalchemy.engine.base.Engine \n",
      "          SELECT r.conname,\n",
      "                pg_catalog.pg_get_constraintdef(r.oid, true) as condef,\n",
      "                n.nspname as conschema\n",
      "          FROM  pg_catalog.pg_constraint r,\n",
      "                pg_namespace n,\n",
      "                pg_class c\n",
      "\n",
      "          WHERE r.conrelid = %(table)s AND\n",
      "                r.contype = 'f' AND\n",
      "                c.oid = confrelid AND\n",
      "                n.oid = c.relnamespace\n",
      "          ORDER BY 1\n",
      "        \n"
     ]
    },
    {
     "name": "stderr",
     "output_type": "stream",
     "text": [
      "INFO:sqlalchemy.engine.base.Engine:\n",
      "          SELECT r.conname,\n",
      "                pg_catalog.pg_get_constraintdef(r.oid, true) as condef,\n",
      "                n.nspname as conschema\n",
      "          FROM  pg_catalog.pg_constraint r,\n",
      "                pg_namespace n,\n",
      "                pg_class c\n",
      "\n",
      "          WHERE r.conrelid = %(table)s AND\n",
      "                r.contype = 'f' AND\n",
      "                c.oid = confrelid AND\n",
      "                n.oid = c.relnamespace\n",
      "          ORDER BY 1\n",
      "        \n"
     ]
    },
    {
     "name": "stdout",
     "output_type": "stream",
     "text": [
      "2016-01-15 19:16:40,669 INFO sqlalchemy.engine.base.Engine {'table': 16432}\n"
     ]
    },
    {
     "name": "stderr",
     "output_type": "stream",
     "text": [
      "INFO:sqlalchemy.engine.base.Engine:{'table': 16432}\n"
     ]
    },
    {
     "name": "stdout",
     "output_type": "stream",
     "text": [
      "2016-01-15 19:16:40,695 INFO sqlalchemy.engine.base.Engine \n",
      "              SELECT\n",
      "                  i.relname as relname,\n",
      "                  ix.indisunique, ix.indexprs, ix.indpred,\n",
      "                  a.attname, a.attnum, c.conrelid, ix.indkey::varchar,\n",
      "                  i.reloptions, am.amname\n",
      "              FROM\n",
      "                  pg_class t\n",
      "                        join pg_index ix on t.oid = ix.indrelid\n",
      "                        join pg_class i on i.oid = ix.indexrelid\n",
      "                        left outer join\n",
      "                            pg_attribute a\n",
      "                            on t.oid = a.attrelid and a.attnum = ANY(ix.indkey)\n",
      "                        left outer join\n",
      "                            pg_constraint c\n",
      "                            on (ix.indrelid = c.conrelid and\n",
      "                                ix.indexrelid = c.conindid and\n",
      "                                c.contype in ('p', 'u', 'x'))\n",
      "                        left outer join\n",
      "                            pg_am am\n",
      "                            on i.relam = am.oid\n",
      "              WHERE\n",
      "                  t.relkind IN ('r', 'v', 'f', 'm')\n",
      "                  and t.oid = %(table_oid)s\n",
      "                  and ix.indisprimary = 'f'\n",
      "              ORDER BY\n",
      "                  t.relname,\n",
      "                  i.relname\n",
      "            \n"
     ]
    },
    {
     "name": "stderr",
     "output_type": "stream",
     "text": [
      "INFO:sqlalchemy.engine.base.Engine:\n",
      "              SELECT\n",
      "                  i.relname as relname,\n",
      "                  ix.indisunique, ix.indexprs, ix.indpred,\n",
      "                  a.attname, a.attnum, c.conrelid, ix.indkey::varchar,\n",
      "                  i.reloptions, am.amname\n",
      "              FROM\n",
      "                  pg_class t\n",
      "                        join pg_index ix on t.oid = ix.indrelid\n",
      "                        join pg_class i on i.oid = ix.indexrelid\n",
      "                        left outer join\n",
      "                            pg_attribute a\n",
      "                            on t.oid = a.attrelid and a.attnum = ANY(ix.indkey)\n",
      "                        left outer join\n",
      "                            pg_constraint c\n",
      "                            on (ix.indrelid = c.conrelid and\n",
      "                                ix.indexrelid = c.conindid and\n",
      "                                c.contype in ('p', 'u', 'x'))\n",
      "                        left outer join\n",
      "                            pg_am am\n",
      "                            on i.relam = am.oid\n",
      "              WHERE\n",
      "                  t.relkind IN ('r', 'v', 'f', 'm')\n",
      "                  and t.oid = %(table_oid)s\n",
      "                  and ix.indisprimary = 'f'\n",
      "              ORDER BY\n",
      "                  t.relname,\n",
      "                  i.relname\n",
      "            \n"
     ]
    },
    {
     "name": "stdout",
     "output_type": "stream",
     "text": [
      "2016-01-15 19:16:40,696 INFO sqlalchemy.engine.base.Engine {'table_oid': 16432}\n"
     ]
    },
    {
     "name": "stderr",
     "output_type": "stream",
     "text": [
      "INFO:sqlalchemy.engine.base.Engine:{'table_oid': 16432}\n"
     ]
    },
    {
     "name": "stdout",
     "output_type": "stream",
     "text": [
      "2016-01-15 19:16:40,722 INFO sqlalchemy.engine.base.Engine \n",
      "            SELECT\n",
      "                cons.conname as name,\n",
      "                cons.conkey as key,\n",
      "                a.attnum as col_num,\n",
      "                a.attname as col_name\n",
      "            FROM\n",
      "                pg_catalog.pg_constraint cons\n",
      "                join pg_attribute a\n",
      "                  on cons.conrelid = a.attrelid AND\n",
      "                    a.attnum = ANY(cons.conkey)\n",
      "            WHERE\n",
      "                cons.conrelid = %(table_oid)s AND\n",
      "                cons.contype = 'u'\n",
      "        \n"
     ]
    },
    {
     "name": "stderr",
     "output_type": "stream",
     "text": [
      "INFO:sqlalchemy.engine.base.Engine:\n",
      "            SELECT\n",
      "                cons.conname as name,\n",
      "                cons.conkey as key,\n",
      "                a.attnum as col_num,\n",
      "                a.attname as col_name\n",
      "            FROM\n",
      "                pg_catalog.pg_constraint cons\n",
      "                join pg_attribute a\n",
      "                  on cons.conrelid = a.attrelid AND\n",
      "                    a.attnum = ANY(cons.conkey)\n",
      "            WHERE\n",
      "                cons.conrelid = %(table_oid)s AND\n",
      "                cons.contype = 'u'\n",
      "        \n"
     ]
    },
    {
     "name": "stdout",
     "output_type": "stream",
     "text": [
      "2016-01-15 19:16:40,723 INFO sqlalchemy.engine.base.Engine {'table_oid': 16432}\n"
     ]
    },
    {
     "name": "stderr",
     "output_type": "stream",
     "text": [
      "INFO:sqlalchemy.engine.base.Engine:{'table_oid': 16432}\n"
     ]
    },
    {
     "name": "stdout",
     "output_type": "stream",
     "text": [
      "2016-01-15 19:16:40,747 INFO sqlalchemy.engine.base.Engine \n",
      "            SELECT c.oid\n",
      "            FROM pg_catalog.pg_class c\n",
      "            LEFT JOIN pg_catalog.pg_namespace n ON n.oid = c.relnamespace\n",
      "            WHERE (pg_catalog.pg_table_is_visible(c.oid))\n",
      "            AND c.relname = %(table_name)s AND c.relkind in ('r', 'v', 'm', 'f')\n",
      "        \n"
     ]
    },
    {
     "name": "stderr",
     "output_type": "stream",
     "text": [
      "INFO:sqlalchemy.engine.base.Engine:\n",
      "            SELECT c.oid\n",
      "            FROM pg_catalog.pg_class c\n",
      "            LEFT JOIN pg_catalog.pg_namespace n ON n.oid = c.relnamespace\n",
      "            WHERE (pg_catalog.pg_table_is_visible(c.oid))\n",
      "            AND c.relname = %(table_name)s AND c.relkind in ('r', 'v', 'm', 'f')\n",
      "        \n"
     ]
    },
    {
     "name": "stdout",
     "output_type": "stream",
     "text": [
      "2016-01-15 19:16:40,748 INFO sqlalchemy.engine.base.Engine {'table_name': 'naics'}\n"
     ]
    },
    {
     "name": "stderr",
     "output_type": "stream",
     "text": [
      "INFO:sqlalchemy.engine.base.Engine:{'table_name': 'naics'}\n"
     ]
    },
    {
     "name": "stdout",
     "output_type": "stream",
     "text": [
      "2016-01-15 19:16:40,772 INFO sqlalchemy.engine.base.Engine \n",
      "            SELECT a.attname,\n",
      "              pg_catalog.format_type(a.atttypid, a.atttypmod),\n",
      "              (SELECT pg_catalog.pg_get_expr(d.adbin, d.adrelid)\n",
      "                FROM pg_catalog.pg_attrdef d\n",
      "               WHERE d.adrelid = a.attrelid AND d.adnum = a.attnum\n",
      "               AND a.atthasdef)\n",
      "              AS DEFAULT,\n",
      "              a.attnotnull, a.attnum, a.attrelid as table_oid\n",
      "            FROM pg_catalog.pg_attribute a\n",
      "            WHERE a.attrelid = %(table_oid)s\n",
      "            AND a.attnum > 0 AND NOT a.attisdropped\n",
      "            ORDER BY a.attnum\n",
      "        \n"
     ]
    },
    {
     "name": "stderr",
     "output_type": "stream",
     "text": [
      "INFO:sqlalchemy.engine.base.Engine:\n",
      "            SELECT a.attname,\n",
      "              pg_catalog.format_type(a.atttypid, a.atttypmod),\n",
      "              (SELECT pg_catalog.pg_get_expr(d.adbin, d.adrelid)\n",
      "                FROM pg_catalog.pg_attrdef d\n",
      "               WHERE d.adrelid = a.attrelid AND d.adnum = a.attnum\n",
      "               AND a.atthasdef)\n",
      "              AS DEFAULT,\n",
      "              a.attnotnull, a.attnum, a.attrelid as table_oid\n",
      "            FROM pg_catalog.pg_attribute a\n",
      "            WHERE a.attrelid = %(table_oid)s\n",
      "            AND a.attnum > 0 AND NOT a.attisdropped\n",
      "            ORDER BY a.attnum\n",
      "        \n"
     ]
    },
    {
     "name": "stdout",
     "output_type": "stream",
     "text": [
      "2016-01-15 19:16:40,773 INFO sqlalchemy.engine.base.Engine {'table_oid': 16442}\n"
     ]
    },
    {
     "name": "stderr",
     "output_type": "stream",
     "text": [
      "INFO:sqlalchemy.engine.base.Engine:{'table_oid': 16442}\n"
     ]
    },
    {
     "name": "stdout",
     "output_type": "stream",
     "text": [
      "2016-01-15 19:16:40,799 INFO sqlalchemy.engine.base.Engine \n",
      "            SELECT t.typname as \"name\",\n",
      "               pg_catalog.format_type(t.typbasetype, t.typtypmod) as \"attype\",\n",
      "               not t.typnotnull as \"nullable\",\n",
      "               t.typdefault as \"default\",\n",
      "               pg_catalog.pg_type_is_visible(t.oid) as \"visible\",\n",
      "               n.nspname as \"schema\"\n",
      "            FROM pg_catalog.pg_type t\n",
      "               LEFT JOIN pg_catalog.pg_namespace n ON n.oid = t.typnamespace\n",
      "            WHERE t.typtype = 'd'\n",
      "        \n"
     ]
    },
    {
     "name": "stderr",
     "output_type": "stream",
     "text": [
      "INFO:sqlalchemy.engine.base.Engine:\n",
      "            SELECT t.typname as \"name\",\n",
      "               pg_catalog.format_type(t.typbasetype, t.typtypmod) as \"attype\",\n",
      "               not t.typnotnull as \"nullable\",\n",
      "               t.typdefault as \"default\",\n",
      "               pg_catalog.pg_type_is_visible(t.oid) as \"visible\",\n",
      "               n.nspname as \"schema\"\n",
      "            FROM pg_catalog.pg_type t\n",
      "               LEFT JOIN pg_catalog.pg_namespace n ON n.oid = t.typnamespace\n",
      "            WHERE t.typtype = 'd'\n",
      "        \n"
     ]
    },
    {
     "name": "stdout",
     "output_type": "stream",
     "text": [
      "2016-01-15 19:16:40,800 INFO sqlalchemy.engine.base.Engine {}\n"
     ]
    },
    {
     "name": "stderr",
     "output_type": "stream",
     "text": [
      "INFO:sqlalchemy.engine.base.Engine:{}\n"
     ]
    },
    {
     "name": "stdout",
     "output_type": "stream",
     "text": [
      "2016-01-15 19:16:40,823 INFO sqlalchemy.engine.base.Engine \n",
      "            SELECT t.typname as \"name\",\n",
      "               -- no enum defaults in 8.4 at least\n",
      "               -- t.typdefault as \"default\",\n",
      "               pg_catalog.pg_type_is_visible(t.oid) as \"visible\",\n",
      "               n.nspname as \"schema\",\n",
      "               e.enumlabel as \"label\"\n",
      "            FROM pg_catalog.pg_type t\n",
      "                 LEFT JOIN pg_catalog.pg_namespace n ON n.oid = t.typnamespace\n",
      "                 LEFT JOIN pg_catalog.pg_enum e ON t.oid = e.enumtypid\n",
      "            WHERE t.typtype = 'e'\n",
      "        ORDER BY \"schema\", \"name\", e.oid\n"
     ]
    },
    {
     "name": "stderr",
     "output_type": "stream",
     "text": [
      "INFO:sqlalchemy.engine.base.Engine:\n",
      "            SELECT t.typname as \"name\",\n",
      "               -- no enum defaults in 8.4 at least\n",
      "               -- t.typdefault as \"default\",\n",
      "               pg_catalog.pg_type_is_visible(t.oid) as \"visible\",\n",
      "               n.nspname as \"schema\",\n",
      "               e.enumlabel as \"label\"\n",
      "            FROM pg_catalog.pg_type t\n",
      "                 LEFT JOIN pg_catalog.pg_namespace n ON n.oid = t.typnamespace\n",
      "                 LEFT JOIN pg_catalog.pg_enum e ON t.oid = e.enumtypid\n",
      "            WHERE t.typtype = 'e'\n",
      "        ORDER BY \"schema\", \"name\", e.oid\n"
     ]
    },
    {
     "name": "stdout",
     "output_type": "stream",
     "text": [
      "2016-01-15 19:16:40,825 INFO sqlalchemy.engine.base.Engine {}\n"
     ]
    },
    {
     "name": "stderr",
     "output_type": "stream",
     "text": [
      "INFO:sqlalchemy.engine.base.Engine:{}\n"
     ]
    },
    {
     "name": "stdout",
     "output_type": "stream",
     "text": [
      "2016-01-15 19:16:40,852 INFO sqlalchemy.engine.base.Engine \n",
      "                SELECT a.attname\n",
      "                FROM pg_attribute a JOIN (\n",
      "                    SELECT unnest(ix.indkey) attnum,\n",
      "                           generate_subscripts(ix.indkey, 1) ord\n",
      "                    FROM pg_index ix\n",
      "                    WHERE ix.indrelid = %(table_oid)s AND ix.indisprimary\n",
      "                    ) k ON a.attnum=k.attnum\n",
      "                WHERE a.attrelid = %(table_oid)s\n",
      "                ORDER BY k.ord\n",
      "            \n"
     ]
    },
    {
     "name": "stderr",
     "output_type": "stream",
     "text": [
      "INFO:sqlalchemy.engine.base.Engine:\n",
      "                SELECT a.attname\n",
      "                FROM pg_attribute a JOIN (\n",
      "                    SELECT unnest(ix.indkey) attnum,\n",
      "                           generate_subscripts(ix.indkey, 1) ord\n",
      "                    FROM pg_index ix\n",
      "                    WHERE ix.indrelid = %(table_oid)s AND ix.indisprimary\n",
      "                    ) k ON a.attnum=k.attnum\n",
      "                WHERE a.attrelid = %(table_oid)s\n",
      "                ORDER BY k.ord\n",
      "            \n"
     ]
    },
    {
     "name": "stdout",
     "output_type": "stream",
     "text": [
      "2016-01-15 19:16:40,853 INFO sqlalchemy.engine.base.Engine {'table_oid': 16442}\n"
     ]
    },
    {
     "name": "stderr",
     "output_type": "stream",
     "text": [
      "INFO:sqlalchemy.engine.base.Engine:{'table_oid': 16442}\n"
     ]
    },
    {
     "name": "stdout",
     "output_type": "stream",
     "text": [
      "2016-01-15 19:16:40,878 INFO sqlalchemy.engine.base.Engine \n",
      "        SELECT conname\n",
      "           FROM  pg_catalog.pg_constraint r\n",
      "           WHERE r.conrelid = %(table_oid)s AND r.contype = 'p'\n",
      "           ORDER BY 1\n",
      "        \n"
     ]
    },
    {
     "name": "stderr",
     "output_type": "stream",
     "text": [
      "INFO:sqlalchemy.engine.base.Engine:\n",
      "        SELECT conname\n",
      "           FROM  pg_catalog.pg_constraint r\n",
      "           WHERE r.conrelid = %(table_oid)s AND r.contype = 'p'\n",
      "           ORDER BY 1\n",
      "        \n"
     ]
    },
    {
     "name": "stdout",
     "output_type": "stream",
     "text": [
      "2016-01-15 19:16:40,879 INFO sqlalchemy.engine.base.Engine {'table_oid': 16442}\n"
     ]
    },
    {
     "name": "stderr",
     "output_type": "stream",
     "text": [
      "INFO:sqlalchemy.engine.base.Engine:{'table_oid': 16442}\n"
     ]
    },
    {
     "name": "stdout",
     "output_type": "stream",
     "text": [
      "2016-01-15 19:16:40,901 INFO sqlalchemy.engine.base.Engine \n",
      "          SELECT r.conname,\n",
      "                pg_catalog.pg_get_constraintdef(r.oid, true) as condef,\n",
      "                n.nspname as conschema\n",
      "          FROM  pg_catalog.pg_constraint r,\n",
      "                pg_namespace n,\n",
      "                pg_class c\n",
      "\n",
      "          WHERE r.conrelid = %(table)s AND\n",
      "                r.contype = 'f' AND\n",
      "                c.oid = confrelid AND\n",
      "                n.oid = c.relnamespace\n",
      "          ORDER BY 1\n",
      "        \n"
     ]
    },
    {
     "name": "stderr",
     "output_type": "stream",
     "text": [
      "INFO:sqlalchemy.engine.base.Engine:\n",
      "          SELECT r.conname,\n",
      "                pg_catalog.pg_get_constraintdef(r.oid, true) as condef,\n",
      "                n.nspname as conschema\n",
      "          FROM  pg_catalog.pg_constraint r,\n",
      "                pg_namespace n,\n",
      "                pg_class c\n",
      "\n",
      "          WHERE r.conrelid = %(table)s AND\n",
      "                r.contype = 'f' AND\n",
      "                c.oid = confrelid AND\n",
      "                n.oid = c.relnamespace\n",
      "          ORDER BY 1\n",
      "        \n"
     ]
    },
    {
     "name": "stdout",
     "output_type": "stream",
     "text": [
      "2016-01-15 19:16:40,902 INFO sqlalchemy.engine.base.Engine {'table': 16442}\n"
     ]
    },
    {
     "name": "stderr",
     "output_type": "stream",
     "text": [
      "INFO:sqlalchemy.engine.base.Engine:{'table': 16442}\n"
     ]
    },
    {
     "name": "stdout",
     "output_type": "stream",
     "text": [
      "2016-01-15 19:16:40,928 INFO sqlalchemy.engine.base.Engine \n",
      "              SELECT\n",
      "                  i.relname as relname,\n",
      "                  ix.indisunique, ix.indexprs, ix.indpred,\n",
      "                  a.attname, a.attnum, c.conrelid, ix.indkey::varchar,\n",
      "                  i.reloptions, am.amname\n",
      "              FROM\n",
      "                  pg_class t\n",
      "                        join pg_index ix on t.oid = ix.indrelid\n",
      "                        join pg_class i on i.oid = ix.indexrelid\n",
      "                        left outer join\n",
      "                            pg_attribute a\n",
      "                            on t.oid = a.attrelid and a.attnum = ANY(ix.indkey)\n",
      "                        left outer join\n",
      "                            pg_constraint c\n",
      "                            on (ix.indrelid = c.conrelid and\n",
      "                                ix.indexrelid = c.conindid and\n",
      "                                c.contype in ('p', 'u', 'x'))\n",
      "                        left outer join\n",
      "                            pg_am am\n",
      "                            on i.relam = am.oid\n",
      "              WHERE\n",
      "                  t.relkind IN ('r', 'v', 'f', 'm')\n",
      "                  and t.oid = %(table_oid)s\n",
      "                  and ix.indisprimary = 'f'\n",
      "              ORDER BY\n",
      "                  t.relname,\n",
      "                  i.relname\n",
      "            \n"
     ]
    },
    {
     "name": "stderr",
     "output_type": "stream",
     "text": [
      "INFO:sqlalchemy.engine.base.Engine:\n",
      "              SELECT\n",
      "                  i.relname as relname,\n",
      "                  ix.indisunique, ix.indexprs, ix.indpred,\n",
      "                  a.attname, a.attnum, c.conrelid, ix.indkey::varchar,\n",
      "                  i.reloptions, am.amname\n",
      "              FROM\n",
      "                  pg_class t\n",
      "                        join pg_index ix on t.oid = ix.indrelid\n",
      "                        join pg_class i on i.oid = ix.indexrelid\n",
      "                        left outer join\n",
      "                            pg_attribute a\n",
      "                            on t.oid = a.attrelid and a.attnum = ANY(ix.indkey)\n",
      "                        left outer join\n",
      "                            pg_constraint c\n",
      "                            on (ix.indrelid = c.conrelid and\n",
      "                                ix.indexrelid = c.conindid and\n",
      "                                c.contype in ('p', 'u', 'x'))\n",
      "                        left outer join\n",
      "                            pg_am am\n",
      "                            on i.relam = am.oid\n",
      "              WHERE\n",
      "                  t.relkind IN ('r', 'v', 'f', 'm')\n",
      "                  and t.oid = %(table_oid)s\n",
      "                  and ix.indisprimary = 'f'\n",
      "              ORDER BY\n",
      "                  t.relname,\n",
      "                  i.relname\n",
      "            \n"
     ]
    },
    {
     "name": "stdout",
     "output_type": "stream",
     "text": [
      "2016-01-15 19:16:40,929 INFO sqlalchemy.engine.base.Engine {'table_oid': 16442}\n"
     ]
    },
    {
     "name": "stderr",
     "output_type": "stream",
     "text": [
      "INFO:sqlalchemy.engine.base.Engine:{'table_oid': 16442}\n"
     ]
    },
    {
     "name": "stdout",
     "output_type": "stream",
     "text": [
      "2016-01-15 19:16:40,951 INFO sqlalchemy.engine.base.Engine \n",
      "            SELECT\n",
      "                cons.conname as name,\n",
      "                cons.conkey as key,\n",
      "                a.attnum as col_num,\n",
      "                a.attname as col_name\n",
      "            FROM\n",
      "                pg_catalog.pg_constraint cons\n",
      "                join pg_attribute a\n",
      "                  on cons.conrelid = a.attrelid AND\n",
      "                    a.attnum = ANY(cons.conkey)\n",
      "            WHERE\n",
      "                cons.conrelid = %(table_oid)s AND\n",
      "                cons.contype = 'u'\n",
      "        \n"
     ]
    },
    {
     "name": "stderr",
     "output_type": "stream",
     "text": [
      "INFO:sqlalchemy.engine.base.Engine:\n",
      "            SELECT\n",
      "                cons.conname as name,\n",
      "                cons.conkey as key,\n",
      "                a.attnum as col_num,\n",
      "                a.attname as col_name\n",
      "            FROM\n",
      "                pg_catalog.pg_constraint cons\n",
      "                join pg_attribute a\n",
      "                  on cons.conrelid = a.attrelid AND\n",
      "                    a.attnum = ANY(cons.conkey)\n",
      "            WHERE\n",
      "                cons.conrelid = %(table_oid)s AND\n",
      "                cons.contype = 'u'\n",
      "        \n"
     ]
    },
    {
     "name": "stdout",
     "output_type": "stream",
     "text": [
      "2016-01-15 19:16:40,952 INFO sqlalchemy.engine.base.Engine {'table_oid': 16442}\n"
     ]
    },
    {
     "name": "stderr",
     "output_type": "stream",
     "text": [
      "INFO:sqlalchemy.engine.base.Engine:{'table_oid': 16442}\n"
     ]
    }
   ],
   "source": [
    "meta.reflect(engine)"
   ]
  },
  {
   "cell_type": "code",
   "execution_count": 21,
   "metadata": {
    "collapsed": false,
    "scrolled": true
   },
   "outputs": [
    {
     "name": "stdout",
     "output_type": "stream",
     "text": [
      "transactions_joined\n",
      "sctg\n",
      "state_latlon\n",
      "FIPS_States\n",
      "naics\n",
      "cfs_areas\n",
      "transport_mode\n",
      "transactions\n"
     ]
    }
   ],
   "source": [
    "for table in meta.tables:\n",
    "    print(table)"
   ]
  },
  {
   "cell_type": "code",
   "execution_count": 22,
   "metadata": {
    "collapsed": true
   },
   "outputs": [],
   "source": [
    "transactions = meta.tables['transactions']\n",
    "\n",
    "state_latlon = meta.tables['state_latlon']\n",
    "\n",
    "cfs_areas    = meta.tables['cfs_areas']\n",
    "FIPS_States  = meta.tables['FIPS_States']\n",
    "transport_mode = meta.tables['transport_mode']\n",
    "sctg         = meta.tables['sctg']\n",
    "transactions_joined = meta.tables['transactions_joined']"
   ]
  },
  {
   "cell_type": "code",
   "execution_count": 23,
   "metadata": {
    "collapsed": false
   },
   "outputs": [
    {
     "name": "stdout",
     "output_type": "stream",
     "text": [
      "2016-01-15 19:16:41,020 INFO sqlalchemy.engine.base.Engine SELECT sctg.\"SCTG\", sctg.\"Description\" \n",
      "FROM sctg\n"
     ]
    },
    {
     "name": "stderr",
     "output_type": "stream",
     "text": [
      "INFO:sqlalchemy.engine.base.Engine:SELECT sctg.\"SCTG\", sctg.\"Description\" \n",
      "FROM sctg\n"
     ]
    },
    {
     "name": "stdout",
     "output_type": "stream",
     "text": [
      "2016-01-15 19:16:41,021 INFO sqlalchemy.engine.base.Engine {}\n"
     ]
    },
    {
     "name": "stderr",
     "output_type": "stream",
     "text": [
      "INFO:sqlalchemy.engine.base.Engine:{}\n"
     ]
    }
   ],
   "source": [
    "s = select([sctg])\n",
    "r = conn.execute(s)"
   ]
  },
  {
   "cell_type": "code",
   "execution_count": 24,
   "metadata": {
    "collapsed": false
   },
   "outputs": [
    {
     "name": "stdout",
     "output_type": "stream",
     "text": [
      "Animals and Fish (live) 1\n",
      "Cereal Grains (includes seed) 2\n",
      "Agricultural Products (excludes Animal Feed, Cereal Grains, and Forage Products) 3\n",
      "Animal Feed, Eggs, Honey, and Other Products of Animal Origin 4\n",
      "Meat, Poultry, Fish, Seafood, and Their Preparations 5\n",
      "Milled Grain Products and Preparations, and Bakery Products 6\n",
      "Other Prepared Foodstuffs, and Fats and Oils 7\n",
      "Alcoholic Beverages and Denatured Alcohol 8\n",
      "Tobacco Products 9\n",
      "Monumental or Building Stone 10\n",
      "Natural Sands 11\n",
      "Gravel and Crushed Stone (excludes Dolomite and Slate) 12\n",
      "Other Non-Metallic Minerals not elsewhere classified 13\n",
      "Metallic Ores and Concentrates 14\n",
      "Coal 15\n",
      "Crude Petroleum 16\n",
      "Gasoline, Aviation Turbine Fuel, and Ethanol (includes Kerosene, and Fuel Alcohols) 17\n",
      "Fuel Oils (includes Diesel, Bunker C, and Biodiesel) 18\n",
      "Other Coal and Petroleum Products, not elsewhere classified 19\n",
      "Basic Chemicals 20\n",
      "Pharmaceutical Products 21\n",
      "Fertilizers 22\n",
      "Other Chemical Products and Preparations 23\n",
      "Plastics and Rubber 24\n",
      "Logs and Other Wood in the Rough 25\n",
      "Wood Products 26\n",
      "Pulp, Newsprint, Paper, and Paperboard 27\n",
      "Paper or Paperboard Articles 28\n",
      "Printed Products 29\n",
      "Textiles, Leather, and Articles of Textiles or Leather 30\n",
      "Non-Metallic Mineral Products 31\n",
      "Base Metal in Primary or Semi-Finished Forms and in Finished Basic Shapes 32\n",
      "Articles of Base Metal 33\n",
      "Machinery 34\n",
      "Electronic and Other Electrical Equipment and Components, and Office Equipment 35\n",
      "Motorized and Other Vehicles (includes parts) 36\n",
      "Transportation Equipment, not elsewhere classified 37\n",
      "Precision Instruments and Apparatus 38\n",
      "Furniture, Mattresses and Mattress Supports, Lamps, Lighting Fittings, and Illuminated Signs 39\n",
      "Miscellaneous Manufactured Products 40\n",
      "Waste and Scrap (excludes of agriculture or food, see 041xx) 41\n",
      "Mixed Freight 43\n",
      "Missing Code 99\n",
      "SCTG suppressed 0\n"
     ]
    }
   ],
   "source": [
    "for row in r:\n",
    "    print(row[sctg.c.Description], row[sctg.c.SCTG])\n",
    "r.close()"
   ]
  },
  {
   "cell_type": "markdown",
   "metadata": {},
   "source": [
    "### Joins"
   ]
  },
  {
   "cell_type": "code",
   "execution_count": null,
   "metadata": {
    "collapsed": false
   },
   "outputs": [],
   "source": [
    "# join fips states with avg lat lon\n",
    "for row in conn.execute(select([state_latlon, FIPS_States]).where(state_latlon.c.state == FIPS_States.c.get('Alpha code'))):\n",
    "    print(row)"
   ]
  },
  {
   "cell_type": "code",
   "execution_count": null,
   "metadata": {
    "collapsed": false
   },
   "outputs": [],
   "source": [
    "FIPS_States.columns.get('Alpha code')"
   ]
  },
  {
   "cell_type": "markdown",
   "metadata": {},
   "source": [
    "### operators\n",
    "SQL Alchemy converts python predicates to sql predicates. So you can describe everything in a pythonic sense."
   ]
  },
  {
   "cell_type": "code",
   "execution_count": null,
   "metadata": {
    "collapsed": false
   },
   "outputs": [],
   "source": [
    "print((FIPS_States.c.get('Alpha code') == 'KK').compile())\n",
    "print(((FIPS_States.c.get('Alpha code') < 'CA') & ('NY' < FIPS_States.c.get('Alpha code'))).compile())"
   ]
  },
  {
   "cell_type": "code",
   "execution_count": null,
   "metadata": {
    "collapsed": false
   },
   "outputs": [],
   "source": [
    "transactions.columns.keys()"
   ]
  },
  {
   "cell_type": "code",
   "execution_count": null,
   "metadata": {
    "collapsed": false
   },
   "outputs": [],
   "source": [
    "for row in conn.execute(select([transactions]).limit(10)).fetchall():\n",
    "    print(row.items())"
   ]
  },
  {
   "cell_type": "code",
   "execution_count": null,
   "metadata": {
    "collapsed": false
   },
   "outputs": [],
   "source": [
    "# to get a list of dicts per row\n",
    "get_row = lambda row: (dict(row.items()))\n",
    "get_rows = lambda row_list: map(get_row, row_list)\n",
    "\n",
    "list_of_dicts = [dict(row.items()) for row in conn.execute(select([transactions]).limit(10)).fetchall()]"
   ]
  },
  {
   "cell_type": "markdown",
   "metadata": {},
   "source": [
    "### Conjunctions\n",
    "Conjunctions can be used to perform and, or, not operations in sql."
   ]
  },
  {
   "cell_type": "code",
   "execution_count": null,
   "metadata": {
    "collapsed": false
   },
   "outputs": [],
   "source": [
    "# get all states that lie above the 35N, and less than -104 longitude\n",
    "\n",
    "# first join the fips and state_latlons\n",
    "j = FIPS_States.join(\n",
    "    state_latlon, \n",
    "    onclause= FIPS_States.c.get(\"Alpha code\") == state_latlon.c.state)\n",
    "\n",
    "# now select from this join\n",
    "s = (select([FIPS_States, state_latlon])\n",
    "     .where(\n",
    "        and_(\n",
    "            state_latlon.c.latitude > 36.2,\n",
    "            state_latlon.c.longitude < -104\n",
    "        )\n",
    "    ).select_from(j)\n",
    ")"
   ]
  },
  {
   "cell_type": "code",
   "execution_count": null,
   "metadata": {
    "collapsed": false
   },
   "outputs": [],
   "source": [
    "conn.execute(s).fetchall()"
   ]
  },
  {
   "cell_type": "code",
   "execution_count": null,
   "metadata": {
    "collapsed": true
   },
   "outputs": [],
   "source": [
    "# now get those along with all the states in the bottom right corner of the US\n",
    "# delinieated by below 35N and right of 88W\n",
    "s = (select([FIPS_States, state_latlon])\n",
    "     .where(or_(\n",
    "        and_(\n",
    "            state_latlon.c.latitude > 36.2,\n",
    "            state_latlon.c.longitude < -104\n",
    "        ),\n",
    "        and_(\n",
    "            state_latlon.c.latitude < 35,\n",
    "            state_latlon.c.longitude > -88)\n",
    "        )\n",
    "    ).select_from(j)\n",
    ")"
   ]
  },
  {
   "cell_type": "code",
   "execution_count": null,
   "metadata": {
    "collapsed": false
   },
   "outputs": [],
   "source": [
    "pprint(str(s))"
   ]
  },
  {
   "cell_type": "code",
   "execution_count": null,
   "metadata": {
    "collapsed": false
   },
   "outputs": [],
   "source": [
    "pprint(str(select([text('sub.\"Alpha code\"')]).select_from(s.alias('sub'))))"
   ]
  },
  {
   "cell_type": "code",
   "execution_count": 22,
   "metadata": {
    "collapsed": true
   },
   "outputs": [],
   "source": [
    "from sqlalchemy import desc\n",
    "from sqlalchemy.sql import literal_column"
   ]
  },
  {
   "cell_type": "code",
   "execution_count": null,
   "metadata": {
    "collapsed": false
   },
   "outputs": [],
   "source": [
    "# using text to select subqueries\n",
    "# instead of text, we use literal_column so that we can use the label method\n",
    "conn.execute(select([literal_column('sub.\"Alpha code\"').label(\"alpha code\")]).select_from(s.alias('sub'))\n",
    "            .order_by(desc('alpha code'))).fetchall()"
   ]
  },
  {
   "cell_type": "markdown",
   "metadata": {},
   "source": [
    "#### Binding parameters"
   ]
  },
  {
   "cell_type": "code",
   "execution_count": 26,
   "metadata": {
    "collapsed": true
   },
   "outputs": [],
   "source": [
    "from sqlalchemy.sql import bindparam, func"
   ]
  },
  {
   "cell_type": "code",
   "execution_count": 29,
   "metadata": {
    "collapsed": true
   },
   "outputs": [],
   "source": [
    "get_results = lambda s, **kwargs: conn.execute(s, kwargs).fetchall()"
   ]
  },
  {
   "cell_type": "code",
   "execution_count": 25,
   "metadata": {
    "collapsed": false
   },
   "outputs": [
    {
     "name": "stdout",
     "output_type": "stream",
     "text": [
      "2016-01-09 00:03:20,010 INFO sqlalchemy.engine.base.Engine SELECT \"FIPS_States\".\"Name\", \"FIPS_States\".\"Alpha code\", \"FIPS_States\".\"Numeric code\", \"FIPS_States\".\"Status\" \n",
      "FROM \"FIPS_States\" \n",
      "WHERE \"FIPS_States\".\"Alpha code\" = %(from_)s OR \"FIPS_States\".\"Alpha code\" = %(to_)s\n"
     ]
    },
    {
     "name": "stderr",
     "output_type": "stream",
     "text": [
      "INFO:sqlalchemy.engine.base.Engine:SELECT \"FIPS_States\".\"Name\", \"FIPS_States\".\"Alpha code\", \"FIPS_States\".\"Numeric code\", \"FIPS_States\".\"Status\" \n",
      "FROM \"FIPS_States\" \n",
      "WHERE \"FIPS_States\".\"Alpha code\" = %(from_)s OR \"FIPS_States\".\"Alpha code\" = %(to_)s\n"
     ]
    },
    {
     "name": "stdout",
     "output_type": "stream",
     "text": [
      "2016-01-09 00:03:20,012 INFO sqlalchemy.engine.base.Engine {'from_': 'CA', 'to_': 'TX'}\n"
     ]
    },
    {
     "name": "stderr",
     "output_type": "stream",
     "text": [
      "INFO:sqlalchemy.engine.base.Engine:{'from_': 'CA', 'to_': 'TX'}\n"
     ]
    },
    {
     "data": {
      "text/plain": [
       "[('California', 'CA', 6, 'State;\\xa0counties'),\n",
       " ('Texas', 'TX', 48, 'State;\\xa0counties')]"
      ]
     },
     "execution_count": 25,
     "metadata": {},
     "output_type": "execute_result"
    }
   ],
   "source": [
    "get_results(\n",
    "    select([FIPS_States])\n",
    "        .where(or_(\n",
    "              FIPS_States.c[\"Alpha code\"] == bindparam('from_'),\n",
    "              FIPS_States.c[\"Alpha code\"] == bindparam('to_')\n",
    "            )\n",
    "        ),\n",
    "    from_ = \"CA\",\n",
    "    to_   = \"TX\"\n",
    ")"
   ]
  },
  {
   "cell_type": "markdown",
   "metadata": {},
   "source": [
    "#### Functions\n",
    "\n",
    "Functions are created using the func keyword.  These are translated to sql function queries.\n",
    "\n",
    "func.myFunc(transactions.c.SHIPMT_WEIGHT) translates to \n",
    "\n",
    "    myFunc(transactions.\"SHIPMT_WEIGHT\")"
   ]
  },
  {
   "cell_type": "code",
   "execution_count": null,
   "metadata": {
    "collapsed": false
   },
   "outputs": [],
   "source": [
    "print(func.myFunc([transactions.c.SHIPMT_VALUE]).compile().params)"
   ]
  },
  {
   "cell_type": "code",
   "execution_count": null,
   "metadata": {
    "collapsed": false
   },
   "outputs": [],
   "source": [
    "conn.execute(select([func.max(transactions.c.SHIPMT_VALUE).label(\"Max Val\")])).scalar()"
   ]
  },
  {
   "cell_type": "markdown",
   "metadata": {},
   "source": [
    "#### Window functions\n",
    "Chain over with functions"
   ]
  },
  {
   "cell_type": "code",
   "execution_count": null,
   "metadata": {
    "collapsed": false
   },
   "outputs": [],
   "source": [
    "list(get_rows(get_results(select([transactions,\n",
    "                                 func.sum(transactions.c.SHIPMT_VALUE).over(\n",
    "                                    order_by=transactions.c.SHIPMT_ID)\n",
    "                                  .label(\"SUM\")\n",
    "                                 ]).limit(10))))"
   ]
  },
  {
   "cell_type": "code",
   "execution_count": 26,
   "metadata": {
    "collapsed": true
   },
   "outputs": [],
   "source": [
    "from sqlalchemy.sql import union"
   ]
  },
  {
   "cell_type": "code",
   "execution_count": null,
   "metadata": {
    "collapsed": false
   },
   "outputs": [],
   "source": [
    "u = union(\n",
    "    sctg.select().where(sctg.c.SCTG < 3),\n",
    "    sctg.select().where(sctg.c.SCTG > 10)\n",
    "    )\n",
    "\n",
    "conn.execute(u).fetchall()"
   ]
  },
  {
   "cell_type": "code",
   "execution_count": null,
   "metadata": {
    "collapsed": false
   },
   "outputs": [],
   "source": [
    "query_s = (select([func.count(transactions.c.SHIPMT_ID)])\n",
    "           .where(transactions.c.SCTG).as_scalar())"
   ]
  },
  {
   "cell_type": "code",
   "execution_count": null,
   "metadata": {
    "collapsed": false
   },
   "outputs": [],
   "source": [
    "conn.execute(select([query_s]))"
   ]
  },
  {
   "cell_type": "code",
   "execution_count": null,
   "metadata": {
    "collapsed": false
   },
   "outputs": [],
   "source": [
    "conn.execute(u).fetchone()"
   ]
  },
  {
   "cell_type": "markdown",
   "metadata": {},
   "source": [
    "##### Correlated Subqueries\n",
    "\n",
    "When an enclosed query depends on a table from the enclosing context, it does not need to explicitly provide a FROM clause"
   ]
  },
  {
   "cell_type": "code",
   "execution_count": null,
   "metadata": {
    "collapsed": false
   },
   "outputs": [],
   "source": [
    "stmt = (select([transactions, FIPS_States.c['Alpha code']])\n",
    "        .select_from(\n",
    "        transactions.join(FIPS_States, onclause=transactions.c.ORIG_STATE == FIPS_States.c[\"Numeric code\"]))\n",
    "        .where(FIPS_States.c['Alpha code'].like('C%'))\n",
    "        )"
   ]
  },
  {
   "cell_type": "code",
   "execution_count": null,
   "metadata": {
    "collapsed": true
   },
   "outputs": [],
   "source": [
    "enclosing_stmt = select([transactions.c.SCTG]).select_from(stmt).limit(10)"
   ]
  },
  {
   "cell_type": "code",
   "execution_count": null,
   "metadata": {
    "collapsed": false
   },
   "outputs": [],
   "source": [
    "conn.execute(enclosing_stmt)"
   ]
  },
  {
   "cell_type": "code",
   "execution_count": null,
   "metadata": {
    "collapsed": true
   },
   "outputs": [],
   "source": [
    "transactionsBetweenStates = (select([transactions_joined])\n",
    "                                 .where(\n",
    "                transactions_joined.c.orig_alpha_code==bindparam(\"orig_code\"))\n",
    "                                  .where(\n",
    "                transactions_joined.c.dest_alpha_code==bindparam(\"dest_code\"))\n",
    ")\n"
   ]
  },
  {
   "cell_type": "code",
   "execution_count": null,
   "metadata": {
    "collapsed": false
   },
   "outputs": [],
   "source": [
    "stmt = (select([transactionsBetweenStates.c['SHIPMT_VALUE']])\n",
    ".select_from(transactionsBetweenStates.alias())\n",
    ")\n",
    "\n"
   ]
  },
  {
   "cell_type": "code",
   "execution_count": null,
   "metadata": {
    "collapsed": false
   },
   "outputs": [],
   "source": [
    "get_rows(conn.execute(stmt, orig_code=\"TX\", dest_code=\"WA\").fetchall())"
   ]
  },
  {
   "cell_type": "markdown",
   "metadata": {},
   "source": [
    "##### Controlling correlations\n",
    "\n",
    "You can use the correlate method to control the behavior of correlations"
   ]
  },
  {
   "cell_type": "code",
   "execution_count": null,
   "metadata": {
    "collapsed": true
   },
   "outputs": [],
   "source": []
  },
  {
   "cell_type": "code",
   "execution_count": null,
   "metadata": {
    "collapsed": false
   },
   "outputs": [],
   "source": [
    "import json"
   ]
  },
  {
   "cell_type": "markdown",
   "metadata": {},
   "source": [
    "Now you can export to a json file for a temporary data file"
   ]
  },
  {
   "cell_type": "code",
   "execution_count": null,
   "metadata": {
    "collapsed": false,
    "scrolled": true
   },
   "outputs": [],
   "source": [
    "#with open('app/testdata.json', 'w') as f:\n",
    "#    f.write((json.dumps(list_of_dicts, indent=2, separators=(',', ':'))))"
   ]
  },
  {
   "cell_type": "code",
   "execution_count": null,
   "metadata": {
    "collapsed": false
   },
   "outputs": [],
   "source": [
    "c = case([(transactions.c['ORIG_STATE']==transactions.c['DEST_STATE'], True)], else_=False)"
   ]
  },
  {
   "cell_type": "code",
   "execution_count": null,
   "metadata": {
    "collapsed": false
   },
   "outputs": [],
   "source": [
    "s = select([transactions]).where(c).limit(10);"
   ]
  },
  {
   "cell_type": "code",
   "execution_count": null,
   "metadata": {
    "collapsed": false
   },
   "outputs": [],
   "source": [
    "for i in get_rows(conn.execute(s).fetchall()):\n",
    "    print(i)"
   ]
  },
  {
   "cell_type": "markdown",
   "metadata": {},
   "source": [
    "Data structure\n",
    "\n",
    "{orig_state_code:\n",
    " dest_state_code:\n",
    " orig_coords:\n",
    " dest_coords:\n",
    "}"
   ]
  },
  {
   "cell_type": "code",
   "execution_count": null,
   "metadata": {
    "collapsed": false
   },
   "outputs": [],
   "source": [
    "joined_states = text(\n",
    "    \"\"\"\n",
    "    SELECT \n",
    "        fips.\"Name\" as state_name,\n",
    "        fips.\"Numeric code\" as numeric_code,\n",
    "        state_coords.latitude as lat,\n",
    "        state_coords.longitude as long\n",
    "    FROM \"FIPS_States\" fips\n",
    "    JOIN \"state_latlon\" state_coords\n",
    "    ON state_coords.state = fips.\"Alpha code\"\n",
    "    \"\"\")\n",
    "\n",
    "list(get_rows(conn.execute(joined_states).fetchall()))"
   ]
  },
  {
   "cell_type": "code",
   "execution_count": null,
   "metadata": {
    "collapsed": false
   },
   "outputs": [],
   "source": [
    "states_and_coords = select([state_latlon, FIPS_States]).where(state_latlon.c.state == FIPS_States.c.get('Alpha code'))"
   ]
  },
  {
   "cell_type": "code",
   "execution_count": null,
   "metadata": {
    "collapsed": false
   },
   "outputs": [],
   "source": [
    "conn.execute(states_and_coords)"
   ]
  },
  {
   "cell_type": "code",
   "execution_count": null,
   "metadata": {
    "collapsed": true
   },
   "outputs": [],
   "source": [
    "orig_state = 'CA'\n",
    "dest_state = 'TX'"
   ]
  },
  {
   "cell_type": "code",
   "execution_count": null,
   "metadata": {
    "collapsed": false
   },
   "outputs": [],
   "source": [
    "states = select([FIPS_States]).where(or_(\n",
    "    FIPS_States.c['Alpha code']==orig_state,\n",
    "    FIPS_States.c['Alpha code']==dest_state)\n",
    ")\n",
    "\n",
    "conn.execute(states).fetchall()"
   ]
  },
  {
   "cell_type": "markdown",
   "metadata": {},
   "source": [
    "### I need a way to query a database like so, \n",
    "\n",
    "    \"SELECT * \n",
    "        FROM transactions\n",
    "        WHERE orig_state = 'CA' AND dest_state= 'TX'\n",
    "    \""
   ]
  },
  {
   "cell_type": "code",
   "execution_count": null,
   "metadata": {
    "collapsed": false
   },
   "outputs": [],
   "source": [
    "d = pd.read_sql_query(con = engine, sql = select([FIPS_States]))"
   ]
  },
  {
   "cell_type": "code",
   "execution_count": null,
   "metadata": {
    "collapsed": false
   },
   "outputs": [],
   "source": [
    "d2 = pd.read_sql_query(con = engine, sql = select([transactions]).limit(2000))"
   ]
  },
  {
   "cell_type": "code",
   "execution_count": null,
   "metadata": {
    "collapsed": false
   },
   "outputs": [],
   "source": [
    "d3 = pd.merge(pd.merge(d, d2, left_on=[\"Numeric code\"], right_on=[\"ORIG_STATE\"]), d, \n",
    "         left_on=\"DEST_STATE\", right_on=\"Numeric code\")"
   ]
  },
  {
   "cell_type": "code",
   "execution_count": null,
   "metadata": {
    "collapsed": false
   },
   "outputs": [],
   "source": [
    "d3 = d3.rename(columns={'Name_x': 'Source_Name', \n",
    "                   'Alpha code_x': 'Source_alpha_code',\n",
    "                    'Name_y': 'Dest_Name',\n",
    "                    'Alpha code_y': 'Dest_alpha_code'})"
   ]
  },
  {
   "cell_type": "markdown",
   "metadata": {},
   "source": [
    "Use set operators from python to get the intersection of these predicates"
   ]
  },
  {
   "cell_type": "code",
   "execution_count": null,
   "metadata": {
    "collapsed": false
   },
   "outputs": [],
   "source": [
    "d3[(d3['Dest_alpha_code'] == 'CA') & (d3['Source_alpha_code'] == 'TX')]"
   ]
  },
  {
   "cell_type": "code",
   "execution_count": null,
   "metadata": {
    "collapsed": false
   },
   "outputs": [],
   "source": [
    "gb = d3.groupby(['Dest_alpha_code', 'Source_alpha_code'])"
   ]
  },
  {
   "cell_type": "code",
   "execution_count": null,
   "metadata": {
    "collapsed": false
   },
   "outputs": [],
   "source": [
    "gb.get_group(('CA', 'CA')).SHIPMT_VALUE.describe().reset_index()"
   ]
  },
  {
   "cell_type": "code",
   "execution_count": null,
   "metadata": {
    "collapsed": false
   },
   "outputs": [],
   "source": [
    "gb.groups.keys()"
   ]
  },
  {
   "cell_type": "markdown",
   "metadata": {},
   "source": [
    "### This way works, but I'm worried that there will be a lot of overhead joining tables constantly, so I will create a new table that contains the source name, and alpha code along with the destination info into a new table called transactions_joined\n",
    "\n",
    "### You can create a new table from a previous one using sql alchemy's Insert From Select"
   ]
  },
  {
   "cell_type": "code",
   "execution_count": null,
   "metadata": {
    "collapsed": false
   },
   "outputs": [],
   "source": [
    "#list(get_rows(conn.execute(select([FIPS_States.c.get(\"Numeric code\")])).fetchall()))"
   ]
  },
  {
   "cell_type": "code",
   "execution_count": null,
   "metadata": {
    "collapsed": true
   },
   "outputs": [],
   "source": [
    "state_latlon_joined = FIPS_States.join(\n",
    "    state_latlon, onclause=state_latlon.c.state == FIPS_States.c[\"Alpha code\"])"
   ]
  },
  {
   "cell_type": "code",
   "execution_count": null,
   "metadata": {
    "collapsed": true
   },
   "outputs": [],
   "source": [
    "orig = transactions.join(\n",
    "    state_latlon_joined, \n",
    "    onclause=transactions.c.ORIG_STATE == FIPS_States.c.get(\"Numeric code\"))\n",
    "\n",
    "\n",
    "s = select([transactions, \n",
    "            FIPS_States.c.get(\"Alpha code\").label(\"orig_state_alpha_code\"),\n",
    "            FIPS_States.c.Name.label(\"orig_state_name\"),\n",
    "            state_latlon.c.latitude.label('orig_lat'),\n",
    "            state_latlon.c.longitude.label('orig_lon')\n",
    "            ]).select_from(orig).limit(10)\n",
    "\n",
    "list(get_rows(conn.execute(s).fetchall()))"
   ]
  },
  {
   "cell_type": "code",
   "execution_count": null,
   "metadata": {
    "collapsed": false,
    "scrolled": true
   },
   "outputs": [],
   "source": [
    "dest = transactions.join(\n",
    "    state_latlon_joined, \n",
    "    onclause=transactions.c.DEST_STATE == FIPS_States.c.get(\"Numeric code\"))\n",
    "\n",
    "new_table =  (select([s.alias(), \n",
    "            FIPS_States.c.get(\"Alpha code\").label(\"dest_state_alpha_code\"),\n",
    "            FIPS_States.c.Name.label(\"dest_state_name\"),\n",
    "            state_latlon.c.latitude.label('dest_lat'),\n",
    "            state_latlon.c.longitude.label('dest_lon')])\n",
    "            .select_from(dest).limit(10))"
   ]
  },
  {
   "cell_type": "code",
   "execution_count": null,
   "metadata": {
    "collapsed": false
   },
   "outputs": [],
   "source": [
    "list(get_rows(conn.execute(select([new_table.alias()])).fetchall()))"
   ]
  },
  {
   "cell_type": "code",
   "execution_count": null,
   "metadata": {
    "collapsed": false
   },
   "outputs": [],
   "source": [
    "meta.tables['FIPS_States']"
   ]
  },
  {
   "cell_type": "code",
   "execution_count": null,
   "metadata": {
    "collapsed": true
   },
   "outputs": [],
   "source": [
    "t = text(\"\"\"\n",
    "    SELECT transactions.*,\n",
    "        orig.\"Name\" as orig_name,\n",
    "        orig.\"Alpha code\" as orig_alpha_code,\n",
    "        orig.\"latitude\" as orig_lat,\n",
    "        orig.\"longitude\" as orig_long,\n",
    "        dest.\"Name\" as dest_name,\n",
    "        dest.\"Alpha code\" as dest_alpha_code,\n",
    "        dest.\"latitude\" as dest_lat,\n",
    "        dest.\"longitude\" as dest_lon\n",
    "    FROM transactions\n",
    "    JOIN (\n",
    "        SELECT states.*, lonlats.*\n",
    "        FROM \"FIPS_States\" states\n",
    "        JOIN state_latlon lonlats\n",
    "        on states.\"Alpha code\"=lonlats.state\n",
    "         ) orig\n",
    "        ON orig.\"Numeric code\" = transactions.\"ORIG_STATE\"\n",
    "    JOIN (\n",
    "        SELECT states.*, lonlats.*\n",
    "        FROM \"FIPS_States\" states\n",
    "        JOIN state_latlon lonlats\n",
    "        on states.\"Alpha code\"=lonlats.state\n",
    "         ) dest\n",
    "        ON dest.\"Numeric code\" = transactions.\"DEST_STATE\"\n",
    "    WHERE\n",
    "        dest.\"Alpha code\"=:dest_code AND orig.\"Alpha code\" =:orig_code\n",
    "    LIMIT 100\n",
    "        \n",
    "    \"\"\")"
   ]
  },
  {
   "cell_type": "code",
   "execution_count": null,
   "metadata": {
    "collapsed": true
   },
   "outputs": [],
   "source": [
    "select([transactions,\n",
    "        ])"
   ]
  },
  {
   "cell_type": "code",
   "execution_count": null,
   "metadata": {
    "collapsed": false
   },
   "outputs": [],
   "source": [
    "conn.execute(t.params(dest_code=\"CA\", orig_code=\"TX\")).fetchone()"
   ]
  },
  {
   "cell_type": "code",
   "execution_count": null,
   "metadata": {
    "collapsed": false
   },
   "outputs": [],
   "source": [
    "#with open('test_data.json', 'w') as f:\n",
    "#    f.write(\n",
    "#        json.dumps(\n",
    "#            list(get_rows(conn.execute(t).fetchall())),\n",
    "#            indent=2,\n",
    "#            separators=(\",\", \":\")\n",
    "#             ))"
   ]
  },
  {
   "cell_type": "code",
   "execution_count": 27,
   "metadata": {
    "collapsed": false
   },
   "outputs": [],
   "source": [
    "from sqlalchemy.sql import table"
   ]
  },
  {
   "cell_type": "code",
   "execution_count": null,
   "metadata": {
    "collapsed": false
   },
   "outputs": [],
   "source": [
    "#new_table = new_table.alias(\"namedStates\")"
   ]
  },
  {
   "cell_type": "code",
   "execution_count": null,
   "metadata": {
    "collapsed": true
   },
   "outputs": [],
   "source": [
    "new_table_t = table(new_table)"
   ]
  },
  {
   "cell_type": "code",
   "execution_count": null,
   "metadata": {
    "collapsed": false
   },
   "outputs": [],
   "source": [
    "new_tableb"
   ]
  },
  {
   "cell_type": "code",
   "execution_count": null,
   "metadata": {
    "collapsed": true
   },
   "outputs": [],
   "source": [
    "orig_ = new_table.join(\n",
    "    state_latlon,\n",
    "    onclause=state_latlon.c.state == new_table.c.orig_state_alpha_code)\n",
    "\n",
    "dest_ = new_table.join(\n",
    "    state_latlon,\n",
    "    onclause=state_latlon.c.state == new_table.c.dest_state_alpha_code)"
   ]
  },
  {
   "cell_type": "code",
   "execution_count": null,
   "metadata": {
    "collapsed": true
   },
   "outputs": [],
   "source": [
    "new_table2 = (select([new_table.alias(),\n",
    "                    state_latlon.c.latitude.label('orig_lat'),\n",
    "                    state_latlon.c.longitude.label('orig_lon')])\n",
    "            .select_from(orig_.alias()))"
   ]
  },
  {
   "cell_type": "code",
   "execution_count": null,
   "metadata": {
    "collapsed": false
   },
   "outputs": [],
   "source": [
    "get_rows(conn.execute(select([new_table2.alias()])))"
   ]
  },
  {
   "cell_type": "code",
   "execution_count": null,
   "metadata": {
    "collapsed": false
   },
   "outputs": [],
   "source": [
    "list(get_rows(conn.execute(select([state_latlon])).fetchall()))"
   ]
  },
  {
   "cell_type": "code",
   "execution_count": null,
   "metadata": {
    "collapsed": false
   },
   "outputs": [],
   "source": [
    "list(get_rows(conn.execute(select([FIPS_States])).fetchall()))"
   ]
  },
  {
   "cell_type": "code",
   "execution_count": null,
   "metadata": {
    "collapsed": false
   },
   "outputs": [],
   "source": [
    "orig = state_latlon_joined.alias(\"orig\")\n",
    "\n",
    "dest = state_latlon_joined.alias(\"dest\")\n",
    "   "
   ]
  },
  {
   "cell_type": "code",
   "execution_count": null,
   "metadata": {
    "collapsed": true
   },
   "outputs": [],
   "source": [
    "orig.c.keys()"
   ]
  },
  {
   "cell_type": "code",
   "execution_count": 28,
   "metadata": {
    "collapsed": false
   },
   "outputs": [],
   "source": [
    "from sqlalchemy.sql import bindparam"
   ]
  },
  {
   "cell_type": "code",
   "execution_count": null,
   "metadata": {
    "collapsed": false
   },
   "outputs": [],
   "source": [
    "state_latlon_joined = FIPS_States.join(\n",
    "    state_latlon, onclause=state_latlon.c.state == FIPS_States.c[\"Alpha code\"])\n",
    "\n",
    "stmt = (select([transactions,\n",
    "              orig.c.FIPS_States_Name.label(\"orig_name\"),\n",
    "              orig.c[\"FIPS_States_Alpha code\"].label(\"orig_alpha_code\"),\n",
    "              dest.c[\"FIPS_States_Name\"].label(\"dest_name\"),\n",
    "              dest.c[\"FIPS_States_Alpha code\"].label(\"dest_alpha_code\"),\n",
    "              orig.c.state_latlon_latitude.label(\"orig_lat\"),\n",
    "              orig.c.state_latlon_longitude.label(\"orig_lon\"),\n",
    "              dest.c.state_latlon_latitude.label(\"dest_lat\"),\n",
    "              dest.c.state_latlon_longitude.label(\"dest_lon\")])\n",
    "        .select_from(transactions\n",
    "                    .join(orig, transactions.c.ORIG_STATE == orig.c[\"FIPS_States_Numeric code\"])\n",
    "                    .join(dest, transactions.c.DEST_STATE == dest.c[\"FIPS_States_Numeric code\"]))\n",
    "        )\n",
    "        #.where(orig.c[\"FIPS_States_Alpha code\"] == bindparam(\"orig_code\")))\n",
    "        #.where(dest.c[\"FIPS_States_Alpha code\"] == bindparam(\"dest_code\")))"
   ]
  },
  {
   "cell_type": "code",
   "execution_count": null,
   "metadata": {
    "collapsed": false
   },
   "outputs": [],
   "source": [
    "list(get_rows(conn.execute(stmt.order_by(desc(transactions.c.SHIPMT_VALUE)).limit(10), orig_code='CA').fetchall()))"
   ]
  },
  {
   "cell_type": "markdown",
   "metadata": {},
   "source": [
    "Create table from another table\n"
   ]
  },
  {
   "cell_type": "code",
   "execution_count": null,
   "metadata": {
    "collapsed": false
   },
   "outputs": [],
   "source": [
    "stmt.columns.items()"
   ]
  },
  {
   "cell_type": "code",
   "execution_count": null,
   "metadata": {
    "collapsed": false
   },
   "outputs": [],
   "source": []
  },
  {
   "cell_type": "code",
   "execution_count": null,
   "metadata": {
    "collapsed": false
   },
   "outputs": [],
   "source": [
    "# a way to copy a columns from one table to another\n",
    "t = Table(\"transactions_joined\", meta, *(map(lambda c: c.copy(), stmt.columns)))\n"
   ]
  },
  {
   "cell_type": "code",
   "execution_count": null,
   "metadata": {
    "collapsed": false
   },
   "outputs": [],
   "source": [
    "t.create(bind=engine)"
   ]
  },
  {
   "cell_type": "code",
   "execution_count": null,
   "metadata": {
    "collapsed": false
   },
   "outputs": [],
   "source": [
    "# pass in the column keys and the statement to select from\n",
    "conn.execute(t.insert().from_select(stmt.columns.keys(), stmt))"
   ]
  },
  {
   "cell_type": "code",
   "execution_count": null,
   "metadata": {
    "collapsed": false
   },
   "outputs": [],
   "source": [
    "meta.reflect(engine)"
   ]
  },
  {
   "cell_type": "code",
   "execution_count": null,
   "metadata": {
    "collapsed": false
   },
   "outputs": [],
   "source": [
    "meta.tables.keys()"
   ]
  },
  {
   "cell_type": "code",
   "execution_count": null,
   "metadata": {
    "collapsed": false
   },
   "outputs": [],
   "source": [
    "tj = meta.tables['transactions_joined']"
   ]
  },
  {
   "cell_type": "code",
   "execution_count": null,
   "metadata": {
    "collapsed": false
   },
   "outputs": [],
   "source": [
    "q = (select([tj])\n",
    "     .where(tj.c.orig_alpha_code==bindparam(\"orig_code\"))\n",
    "     .where(tj.c.dest_alpha_code==bindparam(\"dest_code\"))\n",
    "     .order_by(tj.c.SHIPMT_VALUE)\n",
    "     .limit(10))\n",
    "\n",
    "q2 = (select([tj])\n",
    "     .where(tj.c.orig_alpha_code==bindparam(\"orig_code\"))\n",
    "      .order_by(desc(tj.c.SHIPMT_VALUE))\n",
    "      .limit(10))\n",
    "list(get_rows(conn.execute(q, orig_code=\"CA\", dest_code=\"TX\")))"
   ]
  },
  {
   "cell_type": "code",
   "execution_count": null,
   "metadata": {
    "collapsed": false
   },
   "outputs": [],
   "source": [
    "tj.columns.keys()"
   ]
  },
  {
   "cell_type": "code",
   "execution_count": null,
   "metadata": {
    "collapsed": false
   },
   "outputs": [],
   "source": [
    "from sqlalchemy import Index\n",
    "\n",
    "Index('orig_fip', transactions.c.ORIG_STATE)"
   ]
  },
  {
   "cell_type": "code",
   "execution_count": null,
   "metadata": {
    "collapsed": false
   },
   "outputs": [],
   "source": [
    "import timeit"
   ]
  },
  {
   "cell_type": "markdown",
   "metadata": {},
   "source": [
    "I want to experiment with adding an index and testing the response of the query"
   ]
  },
  {
   "cell_type": "code",
   "execution_count": null,
   "metadata": {
    "collapsed": true
   },
   "outputs": [],
   "source": [
    "import time"
   ]
  },
  {
   "cell_type": "code",
   "execution_count": null,
   "metadata": {
    "collapsed": false
   },
   "outputs": [],
   "source": [
    "print(\"We will be running: {}\".format(str(q)))"
   ]
  },
  {
   "cell_type": "markdown",
   "metadata": {},
   "source": [
    "We need to make an index on the orig_alpha_code and dest_alpha_code"
   ]
  },
  {
   "cell_type": "code",
   "execution_count": null,
   "metadata": {
    "collapsed": true
   },
   "outputs": [],
   "source": [
    "index = text(\"CREATE INDEX ALPHA_INDEX ON transactions_joined \"\\\n",
    "             \"(orig_alpha_code, dest_alpha_code)\")"
   ]
  },
  {
   "cell_type": "code",
   "execution_count": null,
   "metadata": {
    "collapsed": false
   },
   "outputs": [],
   "source": [
    "conn.execute(index)"
   ]
  },
  {
   "cell_type": "code",
   "execution_count": null,
   "metadata": {
    "collapsed": false
   },
   "outputs": [],
   "source": [
    "meta.tables['transactions_joined']"
   ]
  },
  {
   "cell_type": "code",
   "execution_count": 29,
   "metadata": {
    "collapsed": true
   },
   "outputs": [],
   "source": [
    "#http://stackoverflow.com/questions/5605019/listing-indices-using-sqlalchemy\n",
    "from sqlalchemy.engine import reflection"
   ]
  },
  {
   "cell_type": "code",
   "execution_count": null,
   "metadata": {
    "collapsed": true
   },
   "outputs": [],
   "source": []
  },
  {
   "cell_type": "code",
   "execution_count": 30,
   "metadata": {
    "collapsed": false
   },
   "outputs": [
    {
     "name": "stdout",
     "output_type": "stream",
     "text": [
      "2016-01-09 00:05:17,651 INFO sqlalchemy.engine.base.Engine SELECT relname FROM pg_class c WHERE relkind = 'r' AND 'public' = (select nspname from pg_namespace n where n.oid = c.relnamespace) \n"
     ]
    },
    {
     "name": "stderr",
     "output_type": "stream",
     "text": [
      "INFO:sqlalchemy.engine.base.Engine:SELECT relname FROM pg_class c WHERE relkind = 'r' AND 'public' = (select nspname from pg_namespace n where n.oid = c.relnamespace) \n"
     ]
    },
    {
     "name": "stdout",
     "output_type": "stream",
     "text": [
      "2016-01-09 00:05:17,653 INFO sqlalchemy.engine.base.Engine {}\n"
     ]
    },
    {
     "name": "stderr",
     "output_type": "stream",
     "text": [
      "INFO:sqlalchemy.engine.base.Engine:{}\n"
     ]
    },
    {
     "name": "stdout",
     "output_type": "stream",
     "text": [
      "2016-01-09 00:05:17,789 INFO sqlalchemy.engine.base.Engine \n",
      "            SELECT c.oid\n",
      "            FROM pg_catalog.pg_class c\n",
      "            LEFT JOIN pg_catalog.pg_namespace n ON n.oid = c.relnamespace\n",
      "            WHERE (pg_catalog.pg_table_is_visible(c.oid))\n",
      "            AND c.relname = %(table_name)s AND c.relkind in ('r', 'v', 'm', 'f')\n",
      "        \n"
     ]
    },
    {
     "name": "stderr",
     "output_type": "stream",
     "text": [
      "INFO:sqlalchemy.engine.base.Engine:\n",
      "            SELECT c.oid\n",
      "            FROM pg_catalog.pg_class c\n",
      "            LEFT JOIN pg_catalog.pg_namespace n ON n.oid = c.relnamespace\n",
      "            WHERE (pg_catalog.pg_table_is_visible(c.oid))\n",
      "            AND c.relname = %(table_name)s AND c.relkind in ('r', 'v', 'm', 'f')\n",
      "        \n"
     ]
    },
    {
     "name": "stdout",
     "output_type": "stream",
     "text": [
      "2016-01-09 00:05:17,790 INFO sqlalchemy.engine.base.Engine {'table_name': 'transport_mode'}\n"
     ]
    },
    {
     "name": "stderr",
     "output_type": "stream",
     "text": [
      "INFO:sqlalchemy.engine.base.Engine:{'table_name': 'transport_mode'}\n"
     ]
    },
    {
     "name": "stdout",
     "output_type": "stream",
     "text": [
      "2016-01-09 00:05:17,928 INFO sqlalchemy.engine.base.Engine \n",
      "              SELECT\n",
      "                  i.relname as relname,\n",
      "                  ix.indisunique, ix.indexprs, ix.indpred,\n",
      "                  a.attname, a.attnum, c.conrelid, ix.indkey::varchar,\n",
      "                  i.reloptions, am.amname\n",
      "              FROM\n",
      "                  pg_class t\n",
      "                        join pg_index ix on t.oid = ix.indrelid\n",
      "                        join pg_class i on i.oid = ix.indexrelid\n",
      "                        left outer join\n",
      "                            pg_attribute a\n",
      "                            on t.oid = a.attrelid and a.attnum = ANY(ix.indkey)\n",
      "                        left outer join\n",
      "                            pg_constraint c\n",
      "                            on (ix.indrelid = c.conrelid and\n",
      "                                ix.indexrelid = c.conindid and\n",
      "                                c.contype in ('p', 'u', 'x'))\n",
      "                        left outer join\n",
      "                            pg_am am\n",
      "                            on i.relam = am.oid\n",
      "              WHERE\n",
      "                  t.relkind IN ('r', 'v', 'f', 'm')\n",
      "                  and t.oid = %(table_oid)s\n",
      "                  and ix.indisprimary = 'f'\n",
      "              ORDER BY\n",
      "                  t.relname,\n",
      "                  i.relname\n",
      "            \n"
     ]
    },
    {
     "name": "stderr",
     "output_type": "stream",
     "text": [
      "INFO:sqlalchemy.engine.base.Engine:\n",
      "              SELECT\n",
      "                  i.relname as relname,\n",
      "                  ix.indisunique, ix.indexprs, ix.indpred,\n",
      "                  a.attname, a.attnum, c.conrelid, ix.indkey::varchar,\n",
      "                  i.reloptions, am.amname\n",
      "              FROM\n",
      "                  pg_class t\n",
      "                        join pg_index ix on t.oid = ix.indrelid\n",
      "                        join pg_class i on i.oid = ix.indexrelid\n",
      "                        left outer join\n",
      "                            pg_attribute a\n",
      "                            on t.oid = a.attrelid and a.attnum = ANY(ix.indkey)\n",
      "                        left outer join\n",
      "                            pg_constraint c\n",
      "                            on (ix.indrelid = c.conrelid and\n",
      "                                ix.indexrelid = c.conindid and\n",
      "                                c.contype in ('p', 'u', 'x'))\n",
      "                        left outer join\n",
      "                            pg_am am\n",
      "                            on i.relam = am.oid\n",
      "              WHERE\n",
      "                  t.relkind IN ('r', 'v', 'f', 'm')\n",
      "                  and t.oid = %(table_oid)s\n",
      "                  and ix.indisprimary = 'f'\n",
      "              ORDER BY\n",
      "                  t.relname,\n",
      "                  i.relname\n",
      "            \n"
     ]
    },
    {
     "name": "stdout",
     "output_type": "stream",
     "text": [
      "2016-01-09 00:05:17,929 INFO sqlalchemy.engine.base.Engine {'table_oid': 16395}\n"
     ]
    },
    {
     "name": "stderr",
     "output_type": "stream",
     "text": [
      "INFO:sqlalchemy.engine.base.Engine:{'table_oid': 16395}\n"
     ]
    },
    {
     "name": "stdout",
     "output_type": "stream",
     "text": [
      "2016-01-09 00:05:18,094 INFO sqlalchemy.engine.base.Engine \n",
      "            SELECT c.oid\n",
      "            FROM pg_catalog.pg_class c\n",
      "            LEFT JOIN pg_catalog.pg_namespace n ON n.oid = c.relnamespace\n",
      "            WHERE (pg_catalog.pg_table_is_visible(c.oid))\n",
      "            AND c.relname = %(table_name)s AND c.relkind in ('r', 'v', 'm', 'f')\n",
      "        \n"
     ]
    },
    {
     "name": "stderr",
     "output_type": "stream",
     "text": [
      "INFO:sqlalchemy.engine.base.Engine:\n",
      "            SELECT c.oid\n",
      "            FROM pg_catalog.pg_class c\n",
      "            LEFT JOIN pg_catalog.pg_namespace n ON n.oid = c.relnamespace\n",
      "            WHERE (pg_catalog.pg_table_is_visible(c.oid))\n",
      "            AND c.relname = %(table_name)s AND c.relkind in ('r', 'v', 'm', 'f')\n",
      "        \n"
     ]
    },
    {
     "name": "stdout",
     "output_type": "stream",
     "text": [
      "2016-01-09 00:05:18,095 INFO sqlalchemy.engine.base.Engine {'table_name': 'state_latlon'}\n"
     ]
    },
    {
     "name": "stderr",
     "output_type": "stream",
     "text": [
      "INFO:sqlalchemy.engine.base.Engine:{'table_name': 'state_latlon'}\n"
     ]
    },
    {
     "name": "stdout",
     "output_type": "stream",
     "text": [
      "2016-01-09 00:05:18,199 INFO sqlalchemy.engine.base.Engine \n",
      "              SELECT\n",
      "                  i.relname as relname,\n",
      "                  ix.indisunique, ix.indexprs, ix.indpred,\n",
      "                  a.attname, a.attnum, c.conrelid, ix.indkey::varchar,\n",
      "                  i.reloptions, am.amname\n",
      "              FROM\n",
      "                  pg_class t\n",
      "                        join pg_index ix on t.oid = ix.indrelid\n",
      "                        join pg_class i on i.oid = ix.indexrelid\n",
      "                        left outer join\n",
      "                            pg_attribute a\n",
      "                            on t.oid = a.attrelid and a.attnum = ANY(ix.indkey)\n",
      "                        left outer join\n",
      "                            pg_constraint c\n",
      "                            on (ix.indrelid = c.conrelid and\n",
      "                                ix.indexrelid = c.conindid and\n",
      "                                c.contype in ('p', 'u', 'x'))\n",
      "                        left outer join\n",
      "                            pg_am am\n",
      "                            on i.relam = am.oid\n",
      "              WHERE\n",
      "                  t.relkind IN ('r', 'v', 'f', 'm')\n",
      "                  and t.oid = %(table_oid)s\n",
      "                  and ix.indisprimary = 'f'\n",
      "              ORDER BY\n",
      "                  t.relname,\n",
      "                  i.relname\n",
      "            \n"
     ]
    },
    {
     "name": "stderr",
     "output_type": "stream",
     "text": [
      "INFO:sqlalchemy.engine.base.Engine:\n",
      "              SELECT\n",
      "                  i.relname as relname,\n",
      "                  ix.indisunique, ix.indexprs, ix.indpred,\n",
      "                  a.attname, a.attnum, c.conrelid, ix.indkey::varchar,\n",
      "                  i.reloptions, am.amname\n",
      "              FROM\n",
      "                  pg_class t\n",
      "                        join pg_index ix on t.oid = ix.indrelid\n",
      "                        join pg_class i on i.oid = ix.indexrelid\n",
      "                        left outer join\n",
      "                            pg_attribute a\n",
      "                            on t.oid = a.attrelid and a.attnum = ANY(ix.indkey)\n",
      "                        left outer join\n",
      "                            pg_constraint c\n",
      "                            on (ix.indrelid = c.conrelid and\n",
      "                                ix.indexrelid = c.conindid and\n",
      "                                c.contype in ('p', 'u', 'x'))\n",
      "                        left outer join\n",
      "                            pg_am am\n",
      "                            on i.relam = am.oid\n",
      "              WHERE\n",
      "                  t.relkind IN ('r', 'v', 'f', 'm')\n",
      "                  and t.oid = %(table_oid)s\n",
      "                  and ix.indisprimary = 'f'\n",
      "              ORDER BY\n",
      "                  t.relname,\n",
      "                  i.relname\n",
      "            \n"
     ]
    },
    {
     "name": "stdout",
     "output_type": "stream",
     "text": [
      "2016-01-09 00:05:18,200 INFO sqlalchemy.engine.base.Engine {'table_oid': 16401}\n"
     ]
    },
    {
     "name": "stderr",
     "output_type": "stream",
     "text": [
      "INFO:sqlalchemy.engine.base.Engine:{'table_oid': 16401}\n"
     ]
    },
    {
     "name": "stdout",
     "output_type": "stream",
     "text": [
      "2016-01-09 00:05:18,368 INFO sqlalchemy.engine.base.Engine \n",
      "            SELECT c.oid\n",
      "            FROM pg_catalog.pg_class c\n",
      "            LEFT JOIN pg_catalog.pg_namespace n ON n.oid = c.relnamespace\n",
      "            WHERE (pg_catalog.pg_table_is_visible(c.oid))\n",
      "            AND c.relname = %(table_name)s AND c.relkind in ('r', 'v', 'm', 'f')\n",
      "        \n"
     ]
    },
    {
     "name": "stderr",
     "output_type": "stream",
     "text": [
      "INFO:sqlalchemy.engine.base.Engine:\n",
      "            SELECT c.oid\n",
      "            FROM pg_catalog.pg_class c\n",
      "            LEFT JOIN pg_catalog.pg_namespace n ON n.oid = c.relnamespace\n",
      "            WHERE (pg_catalog.pg_table_is_visible(c.oid))\n",
      "            AND c.relname = %(table_name)s AND c.relkind in ('r', 'v', 'm', 'f')\n",
      "        \n"
     ]
    },
    {
     "name": "stdout",
     "output_type": "stream",
     "text": [
      "2016-01-09 00:05:18,369 INFO sqlalchemy.engine.base.Engine {'table_name': 'sctg'}\n"
     ]
    },
    {
     "name": "stderr",
     "output_type": "stream",
     "text": [
      "INFO:sqlalchemy.engine.base.Engine:{'table_name': 'sctg'}\n"
     ]
    },
    {
     "name": "stdout",
     "output_type": "stream",
     "text": [
      "2016-01-09 00:05:18,496 INFO sqlalchemy.engine.base.Engine \n",
      "              SELECT\n",
      "                  i.relname as relname,\n",
      "                  ix.indisunique, ix.indexprs, ix.indpred,\n",
      "                  a.attname, a.attnum, c.conrelid, ix.indkey::varchar,\n",
      "                  i.reloptions, am.amname\n",
      "              FROM\n",
      "                  pg_class t\n",
      "                        join pg_index ix on t.oid = ix.indrelid\n",
      "                        join pg_class i on i.oid = ix.indexrelid\n",
      "                        left outer join\n",
      "                            pg_attribute a\n",
      "                            on t.oid = a.attrelid and a.attnum = ANY(ix.indkey)\n",
      "                        left outer join\n",
      "                            pg_constraint c\n",
      "                            on (ix.indrelid = c.conrelid and\n",
      "                                ix.indexrelid = c.conindid and\n",
      "                                c.contype in ('p', 'u', 'x'))\n",
      "                        left outer join\n",
      "                            pg_am am\n",
      "                            on i.relam = am.oid\n",
      "              WHERE\n",
      "                  t.relkind IN ('r', 'v', 'f', 'm')\n",
      "                  and t.oid = %(table_oid)s\n",
      "                  and ix.indisprimary = 'f'\n",
      "              ORDER BY\n",
      "                  t.relname,\n",
      "                  i.relname\n",
      "            \n"
     ]
    },
    {
     "name": "stderr",
     "output_type": "stream",
     "text": [
      "INFO:sqlalchemy.engine.base.Engine:\n",
      "              SELECT\n",
      "                  i.relname as relname,\n",
      "                  ix.indisunique, ix.indexprs, ix.indpred,\n",
      "                  a.attname, a.attnum, c.conrelid, ix.indkey::varchar,\n",
      "                  i.reloptions, am.amname\n",
      "              FROM\n",
      "                  pg_class t\n",
      "                        join pg_index ix on t.oid = ix.indrelid\n",
      "                        join pg_class i on i.oid = ix.indexrelid\n",
      "                        left outer join\n",
      "                            pg_attribute a\n",
      "                            on t.oid = a.attrelid and a.attnum = ANY(ix.indkey)\n",
      "                        left outer join\n",
      "                            pg_constraint c\n",
      "                            on (ix.indrelid = c.conrelid and\n",
      "                                ix.indexrelid = c.conindid and\n",
      "                                c.contype in ('p', 'u', 'x'))\n",
      "                        left outer join\n",
      "                            pg_am am\n",
      "                            on i.relam = am.oid\n",
      "              WHERE\n",
      "                  t.relkind IN ('r', 'v', 'f', 'm')\n",
      "                  and t.oid = %(table_oid)s\n",
      "                  and ix.indisprimary = 'f'\n",
      "              ORDER BY\n",
      "                  t.relname,\n",
      "                  i.relname\n",
      "            \n"
     ]
    },
    {
     "name": "stdout",
     "output_type": "stream",
     "text": [
      "2016-01-09 00:05:18,497 INFO sqlalchemy.engine.base.Engine {'table_oid': 16407}\n"
     ]
    },
    {
     "name": "stderr",
     "output_type": "stream",
     "text": [
      "INFO:sqlalchemy.engine.base.Engine:{'table_oid': 16407}\n"
     ]
    },
    {
     "name": "stdout",
     "output_type": "stream",
     "text": [
      "2016-01-09 00:05:18,620 INFO sqlalchemy.engine.base.Engine \n",
      "            SELECT c.oid\n",
      "            FROM pg_catalog.pg_class c\n",
      "            LEFT JOIN pg_catalog.pg_namespace n ON n.oid = c.relnamespace\n",
      "            WHERE (pg_catalog.pg_table_is_visible(c.oid))\n",
      "            AND c.relname = %(table_name)s AND c.relkind in ('r', 'v', 'm', 'f')\n",
      "        \n"
     ]
    },
    {
     "name": "stderr",
     "output_type": "stream",
     "text": [
      "INFO:sqlalchemy.engine.base.Engine:\n",
      "            SELECT c.oid\n",
      "            FROM pg_catalog.pg_class c\n",
      "            LEFT JOIN pg_catalog.pg_namespace n ON n.oid = c.relnamespace\n",
      "            WHERE (pg_catalog.pg_table_is_visible(c.oid))\n",
      "            AND c.relname = %(table_name)s AND c.relkind in ('r', 'v', 'm', 'f')\n",
      "        \n"
     ]
    },
    {
     "name": "stdout",
     "output_type": "stream",
     "text": [
      "2016-01-09 00:05:18,621 INFO sqlalchemy.engine.base.Engine {'table_name': 'cfs_areas'}\n"
     ]
    },
    {
     "name": "stderr",
     "output_type": "stream",
     "text": [
      "INFO:sqlalchemy.engine.base.Engine:{'table_name': 'cfs_areas'}\n"
     ]
    },
    {
     "name": "stdout",
     "output_type": "stream",
     "text": [
      "2016-01-09 00:05:18,763 INFO sqlalchemy.engine.base.Engine \n",
      "              SELECT\n",
      "                  i.relname as relname,\n",
      "                  ix.indisunique, ix.indexprs, ix.indpred,\n",
      "                  a.attname, a.attnum, c.conrelid, ix.indkey::varchar,\n",
      "                  i.reloptions, am.amname\n",
      "              FROM\n",
      "                  pg_class t\n",
      "                        join pg_index ix on t.oid = ix.indrelid\n",
      "                        join pg_class i on i.oid = ix.indexrelid\n",
      "                        left outer join\n",
      "                            pg_attribute a\n",
      "                            on t.oid = a.attrelid and a.attnum = ANY(ix.indkey)\n",
      "                        left outer join\n",
      "                            pg_constraint c\n",
      "                            on (ix.indrelid = c.conrelid and\n",
      "                                ix.indexrelid = c.conindid and\n",
      "                                c.contype in ('p', 'u', 'x'))\n",
      "                        left outer join\n",
      "                            pg_am am\n",
      "                            on i.relam = am.oid\n",
      "              WHERE\n",
      "                  t.relkind IN ('r', 'v', 'f', 'm')\n",
      "                  and t.oid = %(table_oid)s\n",
      "                  and ix.indisprimary = 'f'\n",
      "              ORDER BY\n",
      "                  t.relname,\n",
      "                  i.relname\n",
      "            \n"
     ]
    },
    {
     "name": "stderr",
     "output_type": "stream",
     "text": [
      "INFO:sqlalchemy.engine.base.Engine:\n",
      "              SELECT\n",
      "                  i.relname as relname,\n",
      "                  ix.indisunique, ix.indexprs, ix.indpred,\n",
      "                  a.attname, a.attnum, c.conrelid, ix.indkey::varchar,\n",
      "                  i.reloptions, am.amname\n",
      "              FROM\n",
      "                  pg_class t\n",
      "                        join pg_index ix on t.oid = ix.indrelid\n",
      "                        join pg_class i on i.oid = ix.indexrelid\n",
      "                        left outer join\n",
      "                            pg_attribute a\n",
      "                            on t.oid = a.attrelid and a.attnum = ANY(ix.indkey)\n",
      "                        left outer join\n",
      "                            pg_constraint c\n",
      "                            on (ix.indrelid = c.conrelid and\n",
      "                                ix.indexrelid = c.conindid and\n",
      "                                c.contype in ('p', 'u', 'x'))\n",
      "                        left outer join\n",
      "                            pg_am am\n",
      "                            on i.relam = am.oid\n",
      "              WHERE\n",
      "                  t.relkind IN ('r', 'v', 'f', 'm')\n",
      "                  and t.oid = %(table_oid)s\n",
      "                  and ix.indisprimary = 'f'\n",
      "              ORDER BY\n",
      "                  t.relname,\n",
      "                  i.relname\n",
      "            \n"
     ]
    },
    {
     "name": "stdout",
     "output_type": "stream",
     "text": [
      "2016-01-09 00:05:18,765 INFO sqlalchemy.engine.base.Engine {'table_oid': 16413}\n"
     ]
    },
    {
     "name": "stderr",
     "output_type": "stream",
     "text": [
      "INFO:sqlalchemy.engine.base.Engine:{'table_oid': 16413}\n"
     ]
    },
    {
     "name": "stdout",
     "output_type": "stream",
     "text": [
      "2016-01-09 00:05:18,932 INFO sqlalchemy.engine.base.Engine \n",
      "            SELECT c.oid\n",
      "            FROM pg_catalog.pg_class c\n",
      "            LEFT JOIN pg_catalog.pg_namespace n ON n.oid = c.relnamespace\n",
      "            WHERE (pg_catalog.pg_table_is_visible(c.oid))\n",
      "            AND c.relname = %(table_name)s AND c.relkind in ('r', 'v', 'm', 'f')\n",
      "        \n"
     ]
    },
    {
     "name": "stderr",
     "output_type": "stream",
     "text": [
      "INFO:sqlalchemy.engine.base.Engine:\n",
      "            SELECT c.oid\n",
      "            FROM pg_catalog.pg_class c\n",
      "            LEFT JOIN pg_catalog.pg_namespace n ON n.oid = c.relnamespace\n",
      "            WHERE (pg_catalog.pg_table_is_visible(c.oid))\n",
      "            AND c.relname = %(table_name)s AND c.relkind in ('r', 'v', 'm', 'f')\n",
      "        \n"
     ]
    },
    {
     "name": "stdout",
     "output_type": "stream",
     "text": [
      "2016-01-09 00:05:18,933 INFO sqlalchemy.engine.base.Engine {'table_name': 'FIPS_States'}\n"
     ]
    },
    {
     "name": "stderr",
     "output_type": "stream",
     "text": [
      "INFO:sqlalchemy.engine.base.Engine:{'table_name': 'FIPS_States'}\n"
     ]
    },
    {
     "name": "stdout",
     "output_type": "stream",
     "text": [
      "2016-01-09 00:05:19,053 INFO sqlalchemy.engine.base.Engine \n",
      "              SELECT\n",
      "                  i.relname as relname,\n",
      "                  ix.indisunique, ix.indexprs, ix.indpred,\n",
      "                  a.attname, a.attnum, c.conrelid, ix.indkey::varchar,\n",
      "                  i.reloptions, am.amname\n",
      "              FROM\n",
      "                  pg_class t\n",
      "                        join pg_index ix on t.oid = ix.indrelid\n",
      "                        join pg_class i on i.oid = ix.indexrelid\n",
      "                        left outer join\n",
      "                            pg_attribute a\n",
      "                            on t.oid = a.attrelid and a.attnum = ANY(ix.indkey)\n",
      "                        left outer join\n",
      "                            pg_constraint c\n",
      "                            on (ix.indrelid = c.conrelid and\n",
      "                                ix.indexrelid = c.conindid and\n",
      "                                c.contype in ('p', 'u', 'x'))\n",
      "                        left outer join\n",
      "                            pg_am am\n",
      "                            on i.relam = am.oid\n",
      "              WHERE\n",
      "                  t.relkind IN ('r', 'v', 'f', 'm')\n",
      "                  and t.oid = %(table_oid)s\n",
      "                  and ix.indisprimary = 'f'\n",
      "              ORDER BY\n",
      "                  t.relname,\n",
      "                  i.relname\n",
      "            \n"
     ]
    },
    {
     "name": "stderr",
     "output_type": "stream",
     "text": [
      "INFO:sqlalchemy.engine.base.Engine:\n",
      "              SELECT\n",
      "                  i.relname as relname,\n",
      "                  ix.indisunique, ix.indexprs, ix.indpred,\n",
      "                  a.attname, a.attnum, c.conrelid, ix.indkey::varchar,\n",
      "                  i.reloptions, am.amname\n",
      "              FROM\n",
      "                  pg_class t\n",
      "                        join pg_index ix on t.oid = ix.indrelid\n",
      "                        join pg_class i on i.oid = ix.indexrelid\n",
      "                        left outer join\n",
      "                            pg_attribute a\n",
      "                            on t.oid = a.attrelid and a.attnum = ANY(ix.indkey)\n",
      "                        left outer join\n",
      "                            pg_constraint c\n",
      "                            on (ix.indrelid = c.conrelid and\n",
      "                                ix.indexrelid = c.conindid and\n",
      "                                c.contype in ('p', 'u', 'x'))\n",
      "                        left outer join\n",
      "                            pg_am am\n",
      "                            on i.relam = am.oid\n",
      "              WHERE\n",
      "                  t.relkind IN ('r', 'v', 'f', 'm')\n",
      "                  and t.oid = %(table_oid)s\n",
      "                  and ix.indisprimary = 'f'\n",
      "              ORDER BY\n",
      "                  t.relname,\n",
      "                  i.relname\n",
      "            \n"
     ]
    },
    {
     "name": "stdout",
     "output_type": "stream",
     "text": [
      "2016-01-09 00:05:19,055 INFO sqlalchemy.engine.base.Engine {'table_oid': 16419}\n"
     ]
    },
    {
     "name": "stderr",
     "output_type": "stream",
     "text": [
      "INFO:sqlalchemy.engine.base.Engine:{'table_oid': 16419}\n"
     ]
    },
    {
     "name": "stdout",
     "output_type": "stream",
     "text": [
      "2016-01-09 00:05:19,154 INFO sqlalchemy.engine.base.Engine \n",
      "            SELECT c.oid\n",
      "            FROM pg_catalog.pg_class c\n",
      "            LEFT JOIN pg_catalog.pg_namespace n ON n.oid = c.relnamespace\n",
      "            WHERE (pg_catalog.pg_table_is_visible(c.oid))\n",
      "            AND c.relname = %(table_name)s AND c.relkind in ('r', 'v', 'm', 'f')\n",
      "        \n"
     ]
    },
    {
     "name": "stderr",
     "output_type": "stream",
     "text": [
      "INFO:sqlalchemy.engine.base.Engine:\n",
      "            SELECT c.oid\n",
      "            FROM pg_catalog.pg_class c\n",
      "            LEFT JOIN pg_catalog.pg_namespace n ON n.oid = c.relnamespace\n",
      "            WHERE (pg_catalog.pg_table_is_visible(c.oid))\n",
      "            AND c.relname = %(table_name)s AND c.relkind in ('r', 'v', 'm', 'f')\n",
      "        \n"
     ]
    },
    {
     "name": "stdout",
     "output_type": "stream",
     "text": [
      "2016-01-09 00:05:19,155 INFO sqlalchemy.engine.base.Engine {'table_name': 'transactions'}\n"
     ]
    },
    {
     "name": "stderr",
     "output_type": "stream",
     "text": [
      "INFO:sqlalchemy.engine.base.Engine:{'table_name': 'transactions'}\n"
     ]
    },
    {
     "name": "stdout",
     "output_type": "stream",
     "text": [
      "2016-01-09 00:05:19,300 INFO sqlalchemy.engine.base.Engine \n",
      "              SELECT\n",
      "                  i.relname as relname,\n",
      "                  ix.indisunique, ix.indexprs, ix.indpred,\n",
      "                  a.attname, a.attnum, c.conrelid, ix.indkey::varchar,\n",
      "                  i.reloptions, am.amname\n",
      "              FROM\n",
      "                  pg_class t\n",
      "                        join pg_index ix on t.oid = ix.indrelid\n",
      "                        join pg_class i on i.oid = ix.indexrelid\n",
      "                        left outer join\n",
      "                            pg_attribute a\n",
      "                            on t.oid = a.attrelid and a.attnum = ANY(ix.indkey)\n",
      "                        left outer join\n",
      "                            pg_constraint c\n",
      "                            on (ix.indrelid = c.conrelid and\n",
      "                                ix.indexrelid = c.conindid and\n",
      "                                c.contype in ('p', 'u', 'x'))\n",
      "                        left outer join\n",
      "                            pg_am am\n",
      "                            on i.relam = am.oid\n",
      "              WHERE\n",
      "                  t.relkind IN ('r', 'v', 'f', 'm')\n",
      "                  and t.oid = %(table_oid)s\n",
      "                  and ix.indisprimary = 'f'\n",
      "              ORDER BY\n",
      "                  t.relname,\n",
      "                  i.relname\n",
      "            \n"
     ]
    },
    {
     "name": "stderr",
     "output_type": "stream",
     "text": [
      "INFO:sqlalchemy.engine.base.Engine:\n",
      "              SELECT\n",
      "                  i.relname as relname,\n",
      "                  ix.indisunique, ix.indexprs, ix.indpred,\n",
      "                  a.attname, a.attnum, c.conrelid, ix.indkey::varchar,\n",
      "                  i.reloptions, am.amname\n",
      "              FROM\n",
      "                  pg_class t\n",
      "                        join pg_index ix on t.oid = ix.indrelid\n",
      "                        join pg_class i on i.oid = ix.indexrelid\n",
      "                        left outer join\n",
      "                            pg_attribute a\n",
      "                            on t.oid = a.attrelid and a.attnum = ANY(ix.indkey)\n",
      "                        left outer join\n",
      "                            pg_constraint c\n",
      "                            on (ix.indrelid = c.conrelid and\n",
      "                                ix.indexrelid = c.conindid and\n",
      "                                c.contype in ('p', 'u', 'x'))\n",
      "                        left outer join\n",
      "                            pg_am am\n",
      "                            on i.relam = am.oid\n",
      "              WHERE\n",
      "                  t.relkind IN ('r', 'v', 'f', 'm')\n",
      "                  and t.oid = %(table_oid)s\n",
      "                  and ix.indisprimary = 'f'\n",
      "              ORDER BY\n",
      "                  t.relname,\n",
      "                  i.relname\n",
      "            \n"
     ]
    },
    {
     "name": "stdout",
     "output_type": "stream",
     "text": [
      "2016-01-09 00:05:19,301 INFO sqlalchemy.engine.base.Engine {'table_oid': 16426}\n"
     ]
    },
    {
     "name": "stderr",
     "output_type": "stream",
     "text": [
      "INFO:sqlalchemy.engine.base.Engine:{'table_oid': 16426}\n"
     ]
    },
    {
     "name": "stdout",
     "output_type": "stream",
     "text": [
      "2016-01-09 00:05:19,441 INFO sqlalchemy.engine.base.Engine \n",
      "            SELECT c.oid\n",
      "            FROM pg_catalog.pg_class c\n",
      "            LEFT JOIN pg_catalog.pg_namespace n ON n.oid = c.relnamespace\n",
      "            WHERE (pg_catalog.pg_table_is_visible(c.oid))\n",
      "            AND c.relname = %(table_name)s AND c.relkind in ('r', 'v', 'm', 'f')\n",
      "        \n"
     ]
    },
    {
     "name": "stderr",
     "output_type": "stream",
     "text": [
      "INFO:sqlalchemy.engine.base.Engine:\n",
      "            SELECT c.oid\n",
      "            FROM pg_catalog.pg_class c\n",
      "            LEFT JOIN pg_catalog.pg_namespace n ON n.oid = c.relnamespace\n",
      "            WHERE (pg_catalog.pg_table_is_visible(c.oid))\n",
      "            AND c.relname = %(table_name)s AND c.relkind in ('r', 'v', 'm', 'f')\n",
      "        \n"
     ]
    },
    {
     "name": "stdout",
     "output_type": "stream",
     "text": [
      "2016-01-09 00:05:19,442 INFO sqlalchemy.engine.base.Engine {'table_name': 'transactions_joined'}\n"
     ]
    },
    {
     "name": "stderr",
     "output_type": "stream",
     "text": [
      "INFO:sqlalchemy.engine.base.Engine:{'table_name': 'transactions_joined'}\n"
     ]
    },
    {
     "name": "stdout",
     "output_type": "stream",
     "text": [
      "2016-01-09 00:05:19,545 INFO sqlalchemy.engine.base.Engine \n",
      "              SELECT\n",
      "                  i.relname as relname,\n",
      "                  ix.indisunique, ix.indexprs, ix.indpred,\n",
      "                  a.attname, a.attnum, c.conrelid, ix.indkey::varchar,\n",
      "                  i.reloptions, am.amname\n",
      "              FROM\n",
      "                  pg_class t\n",
      "                        join pg_index ix on t.oid = ix.indrelid\n",
      "                        join pg_class i on i.oid = ix.indexrelid\n",
      "                        left outer join\n",
      "                            pg_attribute a\n",
      "                            on t.oid = a.attrelid and a.attnum = ANY(ix.indkey)\n",
      "                        left outer join\n",
      "                            pg_constraint c\n",
      "                            on (ix.indrelid = c.conrelid and\n",
      "                                ix.indexrelid = c.conindid and\n",
      "                                c.contype in ('p', 'u', 'x'))\n",
      "                        left outer join\n",
      "                            pg_am am\n",
      "                            on i.relam = am.oid\n",
      "              WHERE\n",
      "                  t.relkind IN ('r', 'v', 'f', 'm')\n",
      "                  and t.oid = %(table_oid)s\n",
      "                  and ix.indisprimary = 'f'\n",
      "              ORDER BY\n",
      "                  t.relname,\n",
      "                  i.relname\n",
      "            \n"
     ]
    },
    {
     "name": "stderr",
     "output_type": "stream",
     "text": [
      "INFO:sqlalchemy.engine.base.Engine:\n",
      "              SELECT\n",
      "                  i.relname as relname,\n",
      "                  ix.indisunique, ix.indexprs, ix.indpred,\n",
      "                  a.attname, a.attnum, c.conrelid, ix.indkey::varchar,\n",
      "                  i.reloptions, am.amname\n",
      "              FROM\n",
      "                  pg_class t\n",
      "                        join pg_index ix on t.oid = ix.indrelid\n",
      "                        join pg_class i on i.oid = ix.indexrelid\n",
      "                        left outer join\n",
      "                            pg_attribute a\n",
      "                            on t.oid = a.attrelid and a.attnum = ANY(ix.indkey)\n",
      "                        left outer join\n",
      "                            pg_constraint c\n",
      "                            on (ix.indrelid = c.conrelid and\n",
      "                                ix.indexrelid = c.conindid and\n",
      "                                c.contype in ('p', 'u', 'x'))\n",
      "                        left outer join\n",
      "                            pg_am am\n",
      "                            on i.relam = am.oid\n",
      "              WHERE\n",
      "                  t.relkind IN ('r', 'v', 'f', 'm')\n",
      "                  and t.oid = %(table_oid)s\n",
      "                  and ix.indisprimary = 'f'\n",
      "              ORDER BY\n",
      "                  t.relname,\n",
      "                  i.relname\n",
      "            \n"
     ]
    },
    {
     "name": "stdout",
     "output_type": "stream",
     "text": [
      "2016-01-09 00:05:19,546 INFO sqlalchemy.engine.base.Engine {'table_oid': 16432}\n"
     ]
    },
    {
     "name": "stderr",
     "output_type": "stream",
     "text": [
      "INFO:sqlalchemy.engine.base.Engine:{'table_oid': 16432}\n"
     ]
    },
    {
     "name": "stdout",
     "output_type": "stream",
     "text": [
      "2016-01-09 00:05:19,662 INFO sqlalchemy.engine.base.Engine \n",
      "            SELECT c.oid\n",
      "            FROM pg_catalog.pg_class c\n",
      "            LEFT JOIN pg_catalog.pg_namespace n ON n.oid = c.relnamespace\n",
      "            WHERE (pg_catalog.pg_table_is_visible(c.oid))\n",
      "            AND c.relname = %(table_name)s AND c.relkind in ('r', 'v', 'm', 'f')\n",
      "        \n"
     ]
    },
    {
     "name": "stderr",
     "output_type": "stream",
     "text": [
      "INFO:sqlalchemy.engine.base.Engine:\n",
      "            SELECT c.oid\n",
      "            FROM pg_catalog.pg_class c\n",
      "            LEFT JOIN pg_catalog.pg_namespace n ON n.oid = c.relnamespace\n",
      "            WHERE (pg_catalog.pg_table_is_visible(c.oid))\n",
      "            AND c.relname = %(table_name)s AND c.relkind in ('r', 'v', 'm', 'f')\n",
      "        \n"
     ]
    },
    {
     "name": "stdout",
     "output_type": "stream",
     "text": [
      "2016-01-09 00:05:19,664 INFO sqlalchemy.engine.base.Engine {'table_name': 'naics'}\n"
     ]
    },
    {
     "name": "stderr",
     "output_type": "stream",
     "text": [
      "INFO:sqlalchemy.engine.base.Engine:{'table_name': 'naics'}\n"
     ]
    },
    {
     "name": "stdout",
     "output_type": "stream",
     "text": [
      "2016-01-09 00:05:19,766 INFO sqlalchemy.engine.base.Engine \n",
      "              SELECT\n",
      "                  i.relname as relname,\n",
      "                  ix.indisunique, ix.indexprs, ix.indpred,\n",
      "                  a.attname, a.attnum, c.conrelid, ix.indkey::varchar,\n",
      "                  i.reloptions, am.amname\n",
      "              FROM\n",
      "                  pg_class t\n",
      "                        join pg_index ix on t.oid = ix.indrelid\n",
      "                        join pg_class i on i.oid = ix.indexrelid\n",
      "                        left outer join\n",
      "                            pg_attribute a\n",
      "                            on t.oid = a.attrelid and a.attnum = ANY(ix.indkey)\n",
      "                        left outer join\n",
      "                            pg_constraint c\n",
      "                            on (ix.indrelid = c.conrelid and\n",
      "                                ix.indexrelid = c.conindid and\n",
      "                                c.contype in ('p', 'u', 'x'))\n",
      "                        left outer join\n",
      "                            pg_am am\n",
      "                            on i.relam = am.oid\n",
      "              WHERE\n",
      "                  t.relkind IN ('r', 'v', 'f', 'm')\n",
      "                  and t.oid = %(table_oid)s\n",
      "                  and ix.indisprimary = 'f'\n",
      "              ORDER BY\n",
      "                  t.relname,\n",
      "                  i.relname\n",
      "            \n"
     ]
    },
    {
     "name": "stderr",
     "output_type": "stream",
     "text": [
      "INFO:sqlalchemy.engine.base.Engine:\n",
      "              SELECT\n",
      "                  i.relname as relname,\n",
      "                  ix.indisunique, ix.indexprs, ix.indpred,\n",
      "                  a.attname, a.attnum, c.conrelid, ix.indkey::varchar,\n",
      "                  i.reloptions, am.amname\n",
      "              FROM\n",
      "                  pg_class t\n",
      "                        join pg_index ix on t.oid = ix.indrelid\n",
      "                        join pg_class i on i.oid = ix.indexrelid\n",
      "                        left outer join\n",
      "                            pg_attribute a\n",
      "                            on t.oid = a.attrelid and a.attnum = ANY(ix.indkey)\n",
      "                        left outer join\n",
      "                            pg_constraint c\n",
      "                            on (ix.indrelid = c.conrelid and\n",
      "                                ix.indexrelid = c.conindid and\n",
      "                                c.contype in ('p', 'u', 'x'))\n",
      "                        left outer join\n",
      "                            pg_am am\n",
      "                            on i.relam = am.oid\n",
      "              WHERE\n",
      "                  t.relkind IN ('r', 'v', 'f', 'm')\n",
      "                  and t.oid = %(table_oid)s\n",
      "                  and ix.indisprimary = 'f'\n",
      "              ORDER BY\n",
      "                  t.relname,\n",
      "                  i.relname\n",
      "            \n"
     ]
    },
    {
     "name": "stdout",
     "output_type": "stream",
     "text": [
      "2016-01-09 00:05:19,767 INFO sqlalchemy.engine.base.Engine {'table_oid': 16442}\n"
     ]
    },
    {
     "name": "stderr",
     "output_type": "stream",
     "text": [
      "INFO:sqlalchemy.engine.base.Engine:{'table_oid': 16442}\n"
     ]
    }
   ],
   "source": [
    "insp = reflection.Inspector.from_engine(engine)\n",
    "indices = []\n",
    "for name in insp.get_table_names():\n",
    "    for index in insp.get_indexes(name):\n",
    "        indices.append((name,index))"
   ]
  },
  {
   "cell_type": "code",
   "execution_count": 31,
   "metadata": {
    "collapsed": false
   },
   "outputs": [
    {
     "data": {
      "text/plain": [
       "[('transactions_joined',\n",
       "  {'column_names': ['SHIPMT_VALUE'],\n",
       "   'name': 'shipmt_value_desc',\n",
       "   'unique': False}),\n",
       " ('transactions_joined',\n",
       "  {'column_names': ['SHIPMT_VALUE'], 'name': 'shipmt_value', 'unique': False}),\n",
       " ('transactions_joined',\n",
       "  {'column_names': ['orig_alpha_code', 'dest_alpha_code'],\n",
       "   'name': 'alpha_index',\n",
       "   'unique': False})]"
      ]
     },
     "execution_count": 31,
     "metadata": {},
     "output_type": "execute_result"
    }
   ],
   "source": [
    "indices"
   ]
  },
  {
   "cell_type": "code",
   "execution_count": null,
   "metadata": {
    "collapsed": true
   },
   "outputs": [],
   "source": [
    "import datetime"
   ]
  },
  {
   "cell_type": "code",
   "execution_count": null,
   "metadata": {
    "collapsed": false
   },
   "outputs": [],
   "source": [
    "now = datetime.datetime.now()\n",
    "l = list(get_rows(conn.execute(q, orig_code=\"NY\", dest_code=\"TX\").fetchall()))\n",
    "diff = datetime.datetime.now() - now\n",
    "\n"
   ]
  },
  {
   "cell_type": "code",
   "execution_count": null,
   "metadata": {
    "collapsed": false
   },
   "outputs": [],
   "source": [
    "print(\"It took {} seconds to execute the query\".format(diff))\n",
    "pprint(l)"
   ]
  },
  {
   "cell_type": "code",
   "execution_count": 32,
   "metadata": {
    "collapsed": true
   },
   "outputs": [],
   "source": [
    "#http://docs.sqlalchemy.org/en/latest/faq/performance.html#query-profiling\n",
    "from sqlalchemy import event\n",
    "from sqlalchemy.engine import Engine"
   ]
  },
  {
   "cell_type": "code",
   "execution_count": 33,
   "metadata": {
    "collapsed": true
   },
   "outputs": [],
   "source": [
    "@event.listens_for(Engine, \"before_cursor_execute\")\n",
    "def before_cursor_execute(conn, cursor, statement, parameters, context, executemany):\n",
    "    conn.info.setdefault('query_start_time', []).append(time.time())\n",
    "    print(\"Start Query: {}\".format(statement))"
   ]
  },
  {
   "cell_type": "code",
   "execution_count": 34,
   "metadata": {
    "collapsed": true
   },
   "outputs": [],
   "source": [
    "@event.listens_for(Engine, \"after_cursor_execute\")\n",
    "def after_cursor_execute(conn, cursor, statement, parameters, context, executemany):\n",
    "    total = time.time() - conn.info['query_start_time'].pop(-1)\n",
    "    print(\"Query Done\\nTotal-Time: {}\".format(total))"
   ]
  },
  {
   "cell_type": "code",
   "execution_count": null,
   "metadata": {
    "collapsed": false
   },
   "outputs": [],
   "source": [
    "l = list(get_rows(conn.execute(q2, orig_code=\"CA\").fetchall()))"
   ]
  },
  {
   "cell_type": "code",
   "execution_count": null,
   "metadata": {
    "collapsed": false
   },
   "outputs": [],
   "source": [
    "cmp = q.params(orig_code=\"CA\", dest_code=\"TX\").compile()"
   ]
  },
  {
   "cell_type": "code",
   "execution_count": null,
   "metadata": {
    "collapsed": false
   },
   "outputs": [],
   "source": [
    "print(cmp)"
   ]
  },
  {
   "cell_type": "code",
   "execution_count": null,
   "metadata": {
    "collapsed": false
   },
   "outputs": [],
   "source": [
    "# try creating a new index on shipmt_value\n",
    "i = Index('shipmt_value', tj.c.SHIPMT_VALUE)\n",
    "i.create(engine)"
   ]
  },
  {
   "cell_type": "code",
   "execution_count": null,
   "metadata": {
    "collapsed": false,
    "scrolled": true
   },
   "outputs": [],
   "source": [
    "l = list(get_rows(conn.execute(q, orig_code=\"WY\", dest_code=\"WY\").fetchall()))"
   ]
  },
  {
   "cell_type": "code",
   "execution_count": null,
   "metadata": {
    "collapsed": false
   },
   "outputs": [],
   "source": [
    "# that index made it much faster\n",
    "# let's try adding a functional index as well, a desc version of shipmt_value\n",
    "i = Index('shipmt_value_desc', tj.c.SHIPMT_VALUE.desc())\n",
    "i.create(engine)"
   ]
  },
  {
   "cell_type": "markdown",
   "metadata": {},
   "source": [
    "### Adding indexes greatly reduces time!"
   ]
  },
  {
   "cell_type": "markdown",
   "metadata": {
    "collapsed": true
   },
   "source": [
    "## Now I will be figuring out the queries needed for the other data views"
   ]
  },
  {
   "cell_type": "code",
   "execution_count": null,
   "metadata": {
    "collapsed": false
   },
   "outputs": [],
   "source": [
    "# we want to get the sctg names joined\n",
    "q = (select([tj.c.SCTG, func.count(tj.c.SHIPMT_ID).label(\"counts\")])\n",
    "     .where(and_(\n",
    "        tj.c.dest_alpha_code == 'TX',\n",
    "        tj.c.orig_alpha_code == 'WY'))\n",
    "     )\n",
    "        "
   ]
  },
  {
   "cell_type": "code",
   "execution_count": null,
   "metadata": {
    "collapsed": false
   },
   "outputs": [],
   "source": [
    "g1 = q.group_by(tj.c.SCTG)"
   ]
  },
  {
   "cell_type": "code",
   "execution_count": null,
   "metadata": {
    "collapsed": false
   },
   "outputs": [],
   "source": [
    "for i in get_rows(conn.execute(g1.limit(10)).fetchall()):\n",
    "    print(i)"
   ]
  },
  {
   "cell_type": "code",
   "execution_count": null,
   "metadata": {
    "collapsed": false
   },
   "outputs": [],
   "source": [
    "sctg.columns.keys()"
   ]
  },
  {
   "cell_type": "code",
   "execution_count": null,
   "metadata": {
    "collapsed": false
   },
   "outputs": [],
   "source": []
  },
  {
   "cell_type": "code",
   "execution_count": null,
   "metadata": {
    "collapsed": false,
    "scrolled": false
   },
   "outputs": [],
   "source": [
    "for i in get_rows(conn.execute(select([g1.alias(), sctg]).where(tj.c.SCTG == cast(sctg.c.SCTG, TEXT()))).fetchall()):\n",
    "    print(i)"
   ]
  },
  {
   "cell_type": "code",
   "execution_count": null,
   "metadata": {
    "collapsed": true
   },
   "outputs": [],
   "source": [
    "from sqlalchemy import cast, Numeric, String, TEXT"
   ]
  },
  {
   "cell_type": "code",
   "execution_count": null,
   "metadata": {
    "collapsed": false
   },
   "outputs": [],
   "source": [
    "tj.c.SCTG, print(cast(sctg.c.SCTG, TEXT()))"
   ]
  },
  {
   "cell_type": "code",
   "execution_count": 27,
   "metadata": {
    "collapsed": false
   },
   "outputs": [],
   "source": [
    "transactionsBetweenStates = (select([transactions_joined])\n",
    "                                 .where(\n",
    "                transactions_joined.c.orig_alpha_code==bindparam(\"orig_code\"))\n",
    "                                  .where(\n",
    "                transactions_joined.c.dest_alpha_code==bindparam(\"dest_code\"))\n",
    ")\n",
    "\n",
    "\n"
   ]
  },
  {
   "cell_type": "code",
   "execution_count": 28,
   "metadata": {
    "collapsed": true
   },
   "outputs": [],
   "source": [
    "q = transactionsBetweenStates.params(orig_code='CA', dest_code='CA')"
   ]
  },
  {
   "cell_type": "code",
   "execution_count": 34,
   "metadata": {
    "collapsed": false,
    "scrolled": true
   },
   "outputs": [
    {
     "name": "stdout",
     "output_type": "stream",
     "text": [
      "2016-01-15 19:22:55,809 INFO sqlalchemy.engine.base.Engine SELECT transactions_joined.\"SHIPMT_ID\", transactions_joined.\"ORIG_STATE\", transactions_joined.\"ORIG_MA\", transactions_joined.\"ORIG_CFS_AREA\", transactions_joined.\"DEST_STATE\", transactions_joined.\"DEST_MA\", transactions_joined.\"DEST_CFS_AREA\", transactions_joined.\"NAICS\", transactions_joined.\"QUARTER\", transactions_joined.\"SCTG\", transactions_joined.\"MODE\", transactions_joined.\"SHIPMT_VALUE\", transactions_joined.\"SHIPMT_WGHT\", transactions_joined.\"SHIPMT_DIST_GC\", transactions_joined.\"SHIPMT_DIST_ROUTED\", transactions_joined.\"TEMP_CNTL_YN\", transactions_joined.\"EXPORT_YN\", transactions_joined.\"EXPORT_CNTRY\", transactions_joined.\"HAZMAT\", transactions_joined.\"WGT_FACTOR\", transactions_joined.orig_name, transactions_joined.orig_alpha_code, transactions_joined.dest_name, transactions_joined.dest_alpha_code, transactions_joined.orig_lat, transactions_joined.orig_lon, transactions_joined.dest_lat, transactions_joined.dest_lon \n",
      "FROM transactions_joined \n",
      "WHERE transactions_joined.orig_alpha_code = %(orig_code)s AND transactions_joined.dest_alpha_code = %(dest_code)s\n"
     ]
    },
    {
     "name": "stderr",
     "output_type": "stream",
     "text": [
      "INFO:sqlalchemy.engine.base.Engine:SELECT transactions_joined.\"SHIPMT_ID\", transactions_joined.\"ORIG_STATE\", transactions_joined.\"ORIG_MA\", transactions_joined.\"ORIG_CFS_AREA\", transactions_joined.\"DEST_STATE\", transactions_joined.\"DEST_MA\", transactions_joined.\"DEST_CFS_AREA\", transactions_joined.\"NAICS\", transactions_joined.\"QUARTER\", transactions_joined.\"SCTG\", transactions_joined.\"MODE\", transactions_joined.\"SHIPMT_VALUE\", transactions_joined.\"SHIPMT_WGHT\", transactions_joined.\"SHIPMT_DIST_GC\", transactions_joined.\"SHIPMT_DIST_ROUTED\", transactions_joined.\"TEMP_CNTL_YN\", transactions_joined.\"EXPORT_YN\", transactions_joined.\"EXPORT_CNTRY\", transactions_joined.\"HAZMAT\", transactions_joined.\"WGT_FACTOR\", transactions_joined.orig_name, transactions_joined.orig_alpha_code, transactions_joined.dest_name, transactions_joined.dest_alpha_code, transactions_joined.orig_lat, transactions_joined.orig_lon, transactions_joined.dest_lat, transactions_joined.dest_lon \n",
      "FROM transactions_joined \n",
      "WHERE transactions_joined.orig_alpha_code = %(orig_code)s AND transactions_joined.dest_alpha_code = %(dest_code)s\n"
     ]
    },
    {
     "name": "stdout",
     "output_type": "stream",
     "text": [
      "2016-01-15 19:22:55,811 INFO sqlalchemy.engine.base.Engine {'dest_code': 'CA', 'orig_code': 'CA'}\n"
     ]
    },
    {
     "name": "stderr",
     "output_type": "stream",
     "text": [
      "INFO:sqlalchemy.engine.base.Engine:{'dest_code': 'CA', 'orig_code': 'CA'}\n"
     ]
    }
   ],
   "source": [
    "_data = pd.read_sql_query(q, engine)"
   ]
  },
  {
   "cell_type": "code",
   "execution_count": 51,
   "metadata": {
    "collapsed": false
   },
   "outputs": [
    {
     "name": "stdout",
     "output_type": "stream",
     "text": [
      "Object `value_counts` not found.\n"
     ]
    }
   ],
   "source": [
    "_data['QUARTER'].value_counts"
   ]
  },
  {
   "cell_type": "code",
   "execution_count": 56,
   "metadata": {
    "collapsed": false
   },
   "outputs": [],
   "source": [
    "sser= _data['QUARTER'].value_counts("
   ]
  },
  {
   "cell_type": "code",
   "execution_count": 61,
   "metadata": {
    "collapsed": true
   },
   "outputs": [],
   "source": [
    "import json"
   ]
  },
  {
   "cell_type": "code",
   "execution_count": 68,
   "metadata": {
    "collapsed": false
   },
   "outputs": [
    {
     "data": {
      "text/plain": [
       "'[{\"1\": \"58524\"}, {\"2\": \"58017\"}, {\"3\": \"55253\"}, {\"4\": \"50051\"}]'"
      ]
     },
     "execution_count": 68,
     "metadata": {},
     "output_type": "execute_result"
    }
   ],
   "source": [
    "json.dumps([{str(k):str(v)} for k,v in sser.sort_index().to_dict().items()])"
   ]
  }
 ],
 "metadata": {
  "kernelspec": {
   "display_name": "Python 3",
   "language": "python",
   "name": "python3"
  },
  "language_info": {
   "codemirror_mode": {
    "name": "ipython",
    "version": 3
   },
   "file_extension": ".py",
   "mimetype": "text/x-python",
   "name": "python",
   "nbconvert_exporter": "python",
   "pygments_lexer": "ipython3",
   "version": "3.4.2"
  }
 },
 "nbformat": 4,
 "nbformat_minor": 0
}
