{
 "cells": [
  {
   "cell_type": "code",
   "execution_count": 2,
   "metadata": {
    "collapsed": false
   },
   "outputs": [],
   "source": [
    "import sqlalchemy\n",
    "import pandas as pd\n",
    "import boto3\n",
    "import os\n",
    "import psycopg2"
   ]
  },
  {
   "cell_type": "code",
   "execution_count": 3,
   "metadata": {
    "collapsed": false
   },
   "outputs": [],
   "source": [
    "from sqlalchemy import create_engine\n",
    "from sqlalchemy.dialects.postgresql import psycopg2"
   ]
  },
  {
   "cell_type": "markdown",
   "metadata": {},
   "source": [
    "links\n",
    "[http://docs.sqlalchemy.org/en/latest/core/selectable.html](sqlalchemy)\n",
    "\n",
    "[http://docs.aws.amazon.com/AWSEC2/latest/UserGuide/using-network-security.html#vpc-security-groups](securitygroups)\n",
    "\n"
   ]
  },
  {
   "cell_type": "markdown",
   "metadata": {},
   "source": [
    "# Setting up a RDS\n",
    "\n",
    "## Contents\n",
    "<h3>\n",
    "    <ol>\n",
    "        <li>Setting up the cluster using Boto</li>\n",
    "        <li>Connecting to cluster with sqlalchemy</li>\n",
    "        <li>Loading Data with sqlalchemy</li>\n",
    "        <li>Testing out various sql needed for next steps</li>\n",
    "    </ol>\n",
    "</h3>"
   ]
  },
  {
   "cell_type": "code",
   "execution_count": 1,
   "metadata": {
    "collapsed": false
   },
   "outputs": [
    {
     "ename": "NameError",
     "evalue": "name 'boto3' is not defined",
     "output_type": "error",
     "traceback": [
      "\u001b[0;31m---------------------------------------------------------------------------\u001b[0m",
      "\u001b[0;31mNameError\u001b[0m                                 Traceback (most recent call last)",
      "\u001b[0;32m<ipython-input-1-90c15f4b79bf>\u001b[0m in \u001b[0;36m<module>\u001b[0;34m()\u001b[0m\n\u001b[1;32m      1\u001b[0m \u001b[0;31m# Make sure you have configured your aws credentials in your environment\u001b[0m\u001b[0;34m\u001b[0m\u001b[0;34m\u001b[0m\u001b[0m\n\u001b[0;32m----> 2\u001b[0;31m \u001b[0mclient\u001b[0m \u001b[0;34m=\u001b[0m \u001b[0mboto3\u001b[0m\u001b[0;34m.\u001b[0m\u001b[0mclient\u001b[0m\u001b[0;34m(\u001b[0m\u001b[0;34m'rds'\u001b[0m\u001b[0;34m)\u001b[0m\u001b[0;34m\u001b[0m\u001b[0m\n\u001b[0m",
      "\u001b[0;31mNameError\u001b[0m: name 'boto3' is not defined"
     ]
    }
   ],
   "source": [
    "# Make sure you have configured your aws credentials in your environment\n",
    "client = boto3.client('rds')\n"
   ]
  },
  {
   "cell_type": "code",
   "execution_count": 4,
   "metadata": {
    "collapsed": false
   },
   "outputs": [
    {
     "name": "stdout",
     "output_type": "stream",
     "text": [
      "<botocore.client.RDS object at 0x112064710>\n"
     ]
    }
   ],
   "source": [
    "# check\n",
    "print(client)"
   ]
  },
  {
   "cell_type": "markdown",
   "metadata": {},
   "source": [
    "I will demonstrate the construction of the configuration stepwise. In reality you can just use a dict literal as a parameter to create_db_instance.  The api for rds is found here, [rds api](http://docs.aws.amazon.com/AmazonRDS/latest/APIReference/API_CreateDBInstance.html). From This API we can see that create_db_instance is going to need:"
   ]
  },
  {
   "cell_type": "markdown",
   "metadata": {},
   "source": [
    "    response = client.create_db_instance(\n",
    "        DBName='string',\n",
    "        DBInstanceIdentifier='string',\n",
    "        AllocatedStorage=123,\n",
    "        DBInstanceClass='string',\n",
    "        Engine='string',\n",
    "        MasterUsername='string',\n",
    "        MasterUserPassword='string',\n",
    "        DBSecurityGroups=[\n",
    "            'string',\n",
    "        ],\n",
    "        VpcSecurityGroupIds=[\n",
    "            'string',\n",
    "        ],\n",
    "        AvailabilityZone='string',\n",
    "        DBSubnetGroupName='string',\n",
    "        PreferredMaintenanceWindow='string',\n",
    "        DBParameterGroupName='string',\n",
    "        BackupRetentionPeriod=123,\n",
    "        PreferredBackupWindow='string',\n",
    "        Port=123,\n",
    "        MultiAZ=True|False,\n",
    "        EngineVersion='string',\n",
    "        AutoMinorVersionUpgrade=True|False,\n",
    "        LicenseModel='string',\n",
    "        Iops=123,\n",
    "        OptionGroupName='string',\n",
    "        CharacterSetName='string',\n",
    "        PubliclyAccessible=True|False,\n",
    "        Tags=[\n",
    "            {\n",
    "                'Key': 'string',\n",
    "                'Value': 'string'\n",
    "            },\n",
    "        ],\n",
    "        DBClusterIdentifier='string',\n",
    "        StorageType='string',\n",
    "        TdeCredentialArn='string',\n",
    "        TdeCredentialPassword='string',\n",
    "        StorageEncrypted=True|False,\n",
    "        KmsKeyId='string',\n",
    "        CopyTagsToSnapshot=True|False\n",
    "    )"
   ]
  },
  {
   "cell_type": "code",
   "execution_count": 11,
   "metadata": {
    "collapsed": true
   },
   "outputs": [],
   "source": [
    "# step 1, make the db_configuration object\n",
    "db_configuration = {}\n"
   ]
  },
  {
   "cell_type": "markdown",
   "metadata": {},
   "source": [
    "Why are we using a dictionary when the function will take only keyword arguments?  Quick recap on why."
   ]
  },
  {
   "cell_type": "code",
   "execution_count": 6,
   "metadata": {
    "collapsed": false
   },
   "outputs": [
    {
     "ename": "TypeError",
     "evalue": "printKwargs() missing 1 required positional argument: 'second'",
     "output_type": "error",
     "traceback": [
      "\u001b[0;31m---------------------------------------------------------------------------\u001b[0m",
      "\u001b[0;31mTypeError\u001b[0m                                 Traceback (most recent call last)",
      "\u001b[0;32m<ipython-input-6-61e1b4d15fa2>\u001b[0m in \u001b[0;36m<module>\u001b[0;34m()\u001b[0m\n\u001b[1;32m      6\u001b[0m \u001b[0maDict\u001b[0m\u001b[0;34m[\u001b[0m\u001b[0;34m'second'\u001b[0m\u001b[0;34m]\u001b[0m \u001b[0;34m=\u001b[0m \u001b[0;36m2\u001b[0m\u001b[0;34m\u001b[0m\u001b[0m\n\u001b[1;32m      7\u001b[0m \u001b[0;34m\u001b[0m\u001b[0m\n\u001b[0;32m----> 8\u001b[0;31m \u001b[0mprintKwargs\u001b[0m\u001b[0;34m(\u001b[0m\u001b[0maDict\u001b[0m\u001b[0;34m)\u001b[0m\u001b[0;34m\u001b[0m\u001b[0m\n\u001b[0m",
      "\u001b[0;31mTypeError\u001b[0m: printKwargs() missing 1 required positional argument: 'second'"
     ]
    }
   ],
   "source": [
    "def printKwargs(first, second):\n",
    "    print(first,second)\n",
    "\n",
    "aDict = {}\n",
    "aDict['first'] = 1\n",
    "aDict['second'] = 2\n",
    "\n",
    "printKwargs(aDict)"
   ]
  },
  {
   "cell_type": "markdown",
   "metadata": {},
   "source": [
    "Right, we can't pass a dictionary in to the the function.  However, python lets you unpack your dictionary into tuples!"
   ]
  },
  {
   "cell_type": "code",
   "execution_count": 7,
   "metadata": {
    "collapsed": false
   },
   "outputs": [
    {
     "name": "stdout",
     "output_type": "stream",
     "text": [
      "1 2\n"
     ]
    }
   ],
   "source": [
    "printKwargs(**aDict)"
   ]
  },
  {
   "cell_type": "code",
   "execution_count": 8,
   "metadata": {
    "collapsed": true
   },
   "outputs": [],
   "source": [
    "# back to the actual work, we will sequentially construct the dict for the keyword arguments\n",
    "# first off let's set the name\n",
    "db_configuration['DBName'] = 'cfsdb'"
   ]
  },
  {
   "cell_type": "code",
   "execution_count": 9,
   "metadata": {
    "collapsed": true
   },
   "outputs": [],
   "source": [
    "# next we need the db instance identifier which is just a way to identify the db\n",
    "db_configuration['DBInstanceIdentifier'] = 'cfsdb'"
   ]
  },
  {
   "cell_type": "code",
   "execution_count": 10,
   "metadata": {
    "collapsed": true
   },
   "outputs": [],
   "source": [
    "# the allocated storage accepts an integer argument. Between 5 and 6144, we'll use 5\n",
    "db_configuration['AllocatedStorage'] = 5"
   ]
  },
  {
   "cell_type": "code",
   "execution_count": 11,
   "metadata": {
    "collapsed": true
   },
   "outputs": [],
   "source": [
    "# Next we need to choose the compute and memory capacity of the instance\n",
    "# we will choose db.t2.micro as it is free.\n",
    "db_configuration['DBInstanceClass'] = 'db.t2.micro'"
   ]
  },
  {
   "cell_type": "code",
   "execution_count": 12,
   "metadata": {
    "collapsed": true
   },
   "outputs": [],
   "source": [
    "# Next we choose the engine to run.  This is just the flavor of sql to run, we'll choose postgres since a lot \n",
    "# of python developers like postgres (this claim is unsubstantiated).\n",
    "db_configuration['Engine'] = 'postgres'"
   ]
  },
  {
   "cell_type": "code",
   "execution_count": 13,
   "metadata": {
    "collapsed": true
   },
   "outputs": [],
   "source": [
    "# Choose the version of the engine. We're using 9.4.1 since it is available in all regions.\n",
    "db_configuration['EngineVersion'] = '9.4.1'"
   ]
  },
  {
   "cell_type": "code",
   "execution_count": 12,
   "metadata": {
    "collapsed": true
   },
   "outputs": [],
   "source": [
    "# next set up the master user name, store it in your environment as AWS_DB_USER or just hard code it in. 8 char minimum\n",
    "db_configuration['MasterUsername'] = os.getenv('AWS_DB_USER', 'TestUser')\n",
    "\n",
    "# also setup the password, must have at least 8 characters\n",
    "db_configuration['MasterUserPassword'] = os.getenv('AWS_DB_PASSWORD', 'TestPassword')\n"
   ]
  },
  {
   "cell_type": "markdown",
   "metadata": {},
   "source": [
    "next up is the security groups, I'm hoping you have a default security group ready to go\n",
    "if not, we'll create one right now\n",
    "DBSecurityGroups takes as an argument, a list of strings."
   ]
  },
  {
   "cell_type": "code",
   "execution_count": 15,
   "metadata": {
    "collapsed": false
   },
   "outputs": [
    {
     "data": {
      "text/plain": [
       "{'DBSecurityGroups': [{'DBSecurityGroupDescription': 'Security group for my dataset',\n",
       "   'DBSecurityGroupName': 'cfs_data_group',\n",
       "   'EC2SecurityGroups': [],\n",
       "   'IPRanges': [],\n",
       "   'OwnerId': '132412529931',\n",
       "   'VpcId': 'vpc-bba470de'},\n",
       "  {'DBSecurityGroupDescription': 'default',\n",
       "   'DBSecurityGroupName': 'default',\n",
       "   'EC2SecurityGroups': [],\n",
       "   'IPRanges': [],\n",
       "   'OwnerId': '132412529931'}],\n",
       " 'ResponseMetadata': {'HTTPStatusCode': 200,\n",
       "  'RequestId': '3e77b2ac-9cba-11e5-a152-61a6740da2bd'}}"
      ]
     },
     "execution_count": 15,
     "metadata": {},
     "output_type": "execute_result"
    }
   ],
   "source": [
    "# first let's see what security groups exist, use any of these\n",
    "client.describe_db_security_groups()"
   ]
  },
  {
   "cell_type": "code",
   "execution_count": 16,
   "metadata": {
    "collapsed": false
   },
   "outputs": [
    {
     "data": {
      "text/plain": [
       "{'DBSubnetGroups': [{'DBSubnetGroupDescription': 'default',\n",
       "   'DBSubnetGroupName': 'default',\n",
       "   'SubnetGroupStatus': 'Complete',\n",
       "   'Subnets': [{'SubnetAvailabilityZone': {'Name': 'us-west-1c'},\n",
       "     'SubnetIdentifier': 'subnet-1d5ab444',\n",
       "     'SubnetStatus': 'Active'},\n",
       "    {'SubnetAvailabilityZone': {'Name': 'us-west-1a'},\n",
       "     'SubnetIdentifier': 'subnet-e9b1188c',\n",
       "     'SubnetStatus': 'Active'}],\n",
       "   'VpcId': 'vpc-bba470de'}],\n",
       " 'ResponseMetadata': {'HTTPStatusCode': 200,\n",
       "  'RequestId': '3e87b7ef-9cba-11e5-a05b-2be438d48f80'}}"
      ]
     },
     "execution_count": 16,
     "metadata": {},
     "output_type": "execute_result"
    }
   ],
   "source": [
    "client.describe_db_subnet_groups()"
   ]
  },
  {
   "cell_type": "code",
   "execution_count": 17,
   "metadata": {
    "collapsed": false
   },
   "outputs": [
    {
     "ename": "ClientError",
     "evalue": "An error occurred (DBSecurityGroupAlreadyExists) when calling the CreateDBSecurityGroup operation: A security group named cfs_data_group already exists",
     "output_type": "error",
     "traceback": [
      "\u001b[0;31m---------------------------------------------------------------------------\u001b[0m",
      "\u001b[0;31mClientError\u001b[0m                               Traceback (most recent call last)",
      "\u001b[0;32m<ipython-input-17-b7807dc8a4a1>\u001b[0m in \u001b[0;36m<module>\u001b[0;34m()\u001b[0m\n\u001b[1;32m      3\u001b[0m client.create_db_security_group(**{\n\u001b[1;32m      4\u001b[0m         \u001b[0;34m'DBSecurityGroupDescription'\u001b[0m\u001b[0;34m:\u001b[0m \u001b[0;34m'Security group for my dataset'\u001b[0m\u001b[0;34m,\u001b[0m\u001b[0;34m\u001b[0m\u001b[0m\n\u001b[0;32m----> 5\u001b[0;31m         \u001b[0;34m'DBSecurityGroupName'\u001b[0m\u001b[0;34m:\u001b[0m \u001b[0;34m'cfs_data_group'\u001b[0m\u001b[0;34m,\u001b[0m\u001b[0;34m\u001b[0m\u001b[0m\n\u001b[0m\u001b[1;32m      6\u001b[0m     })\n",
      "\u001b[0;32m/Users/Sohail/Virtualenvs/machineLearn/lib/python3.4/site-packages/botocore/client.py\u001b[0m in \u001b[0;36m_api_call\u001b[0;34m(self, *args, **kwargs)\u001b[0m\n\u001b[1;32m    308\u001b[0m                     \"%s() only accepts keyword arguments.\" % py_operation_name)\n\u001b[1;32m    309\u001b[0m             \u001b[0;31m# The \"self\" in this scope is referring to the BaseClient.\u001b[0m\u001b[0;34m\u001b[0m\u001b[0;34m\u001b[0m\u001b[0m\n\u001b[0;32m--> 310\u001b[0;31m             \u001b[0;32mreturn\u001b[0m \u001b[0mself\u001b[0m\u001b[0;34m.\u001b[0m\u001b[0m_make_api_call\u001b[0m\u001b[0;34m(\u001b[0m\u001b[0moperation_name\u001b[0m\u001b[0;34m,\u001b[0m \u001b[0mkwargs\u001b[0m\u001b[0;34m)\u001b[0m\u001b[0;34m\u001b[0m\u001b[0m\n\u001b[0m\u001b[1;32m    311\u001b[0m \u001b[0;34m\u001b[0m\u001b[0m\n\u001b[1;32m    312\u001b[0m         \u001b[0m_api_call\u001b[0m\u001b[0;34m.\u001b[0m\u001b[0m__name__\u001b[0m \u001b[0;34m=\u001b[0m \u001b[0mstr\u001b[0m\u001b[0;34m(\u001b[0m\u001b[0mpy_operation_name\u001b[0m\u001b[0;34m)\u001b[0m\u001b[0;34m\u001b[0m\u001b[0m\n",
      "\u001b[0;32m/Users/Sohail/Virtualenvs/machineLearn/lib/python3.4/site-packages/botocore/client.py\u001b[0m in \u001b[0;36m_make_api_call\u001b[0;34m(self, operation_name, api_params)\u001b[0m\n\u001b[1;32m    393\u001b[0m \u001b[0;34m\u001b[0m\u001b[0m\n\u001b[1;32m    394\u001b[0m         \u001b[0;32mif\u001b[0m \u001b[0mhttp\u001b[0m\u001b[0;34m.\u001b[0m\u001b[0mstatus_code\u001b[0m \u001b[0;34m>=\u001b[0m \u001b[0;36m300\u001b[0m\u001b[0;34m:\u001b[0m\u001b[0;34m\u001b[0m\u001b[0m\n\u001b[0;32m--> 395\u001b[0;31m             \u001b[0;32mraise\u001b[0m \u001b[0mClientError\u001b[0m\u001b[0;34m(\u001b[0m\u001b[0mparsed_response\u001b[0m\u001b[0;34m,\u001b[0m \u001b[0moperation_name\u001b[0m\u001b[0;34m)\u001b[0m\u001b[0;34m\u001b[0m\u001b[0m\n\u001b[0m\u001b[1;32m    396\u001b[0m         \u001b[0;32melse\u001b[0m\u001b[0;34m:\u001b[0m\u001b[0;34m\u001b[0m\u001b[0m\n\u001b[1;32m    397\u001b[0m             \u001b[0;32mreturn\u001b[0m \u001b[0mparsed_response\u001b[0m\u001b[0;34m\u001b[0m\u001b[0m\n",
      "\u001b[0;31mClientError\u001b[0m: An error occurred (DBSecurityGroupAlreadyExists) when calling the CreateDBSecurityGroup operation: A security group named cfs_data_group already exists"
     ]
    }
   ],
   "source": [
    "# let's make a specific one for this example using the create_db_security_group method of the rds client\n",
    "# the api is available here, http://docs.aws.amazon.com/AmazonRDS/latest/APIReference/API_CreateDBSecurityGroup.html\n",
    "client.create_db_security_group(**{\n",
    "        'DBSecurityGroupDescription': 'Security group for my dataset',\n",
    "        'DBSecurityGroupName': 'cfs_data_group',\n",
    "    })"
   ]
  },
  {
   "cell_type": "code",
   "execution_count": 18,
   "metadata": {
    "collapsed": true
   },
   "outputs": [],
   "source": [
    "# set the security groups list in the configuration\n",
    "db_configuration['DBSecurityGroups'] = ['cfs_data_group']"
   ]
  },
  {
   "cell_type": "code",
   "execution_count": 19,
   "metadata": {
    "collapsed": true
   },
   "outputs": [],
   "source": [
    "# set the availability zone\n",
    "db_configuration['AvailabilityZone'] = 'us-west-1c'"
   ]
  },
  {
   "cell_type": "code",
   "execution_count": 20,
   "metadata": {
    "collapsed": true
   },
   "outputs": [],
   "source": [
    "# mark the subnet group as default\n",
    "db_configuration['DBSubnetGroupName'] = 'default'"
   ]
  },
  {
   "cell_type": "code",
   "execution_count": 21,
   "metadata": {
    "collapsed": true
   },
   "outputs": [],
   "source": [
    "db_configuration['VpcSecurityGroupIds'] = ['vpc-bba470de']"
   ]
  },
  {
   "cell_type": "code",
   "execution_count": 22,
   "metadata": {
    "collapsed": true
   },
   "outputs": [],
   "source": [
    "# we need to provide a window in which to let aws do maintenance.\n",
    "# we'll just use monday from 06:00-14:00 \n",
    "db_configuration['PreferredMaintenanceWindow'] = 'Mon:06:00-Mon:10:00'"
   ]
  },
  {
   "cell_type": "code",
   "execution_count": 23,
   "metadata": {
    "collapsed": true
   },
   "outputs": [],
   "source": [
    "# We need to provide a limit to how long aws keeps our db backups, values are from 0 to 35\n",
    "db_configuration['BackupRetentionPeriod'] = 5"
   ]
  },
  {
   "cell_type": "code",
   "execution_count": 24,
   "metadata": {
    "collapsed": true
   },
   "outputs": [],
   "source": [
    "# provide the port number to connect to, postgres uses 5432\n",
    "db_configuration['Port'] = 5432"
   ]
  },
  {
   "cell_type": "code",
   "execution_count": 25,
   "metadata": {
    "collapsed": true
   },
   "outputs": [],
   "source": [
    "# tell it that we do not want multiaz deployment\n",
    "db_configuration['MultiAZ'] = False"
   ]
  },
  {
   "cell_type": "code",
   "execution_count": 26,
   "metadata": {
    "collapsed": true
   },
   "outputs": [],
   "source": [
    "    # give the license model for your instance, we're using postgresql-license\n",
    "db_configuration['LicenseModel'] = 'postgresql-license'"
   ]
  },
  {
   "cell_type": "code",
   "execution_count": 27,
   "metadata": {
    "collapsed": true
   },
   "outputs": [],
   "source": [
    "# indicate that we will publicly access the data\n",
    "db_configuration['PubliclyAccessible'] = True\n"
   ]
  },
  {
   "cell_type": "code",
   "execution_count": 28,
   "metadata": {
    "collapsed": true
   },
   "outputs": [],
   "source": [
    "# indicate the storage type, use standard\n",
    "db_configuration['StorageType'] = 'standard'"
   ]
  },
  {
   "cell_type": "code",
   "execution_count": 29,
   "metadata": {
    "collapsed": true
   },
   "outputs": [],
   "source": [
    "# we do not want to encrypt the storage\n",
    "db_configuration['StorageEncrypted'] = False"
   ]
  },
  {
   "cell_type": "code",
   "execution_count": 30,
   "metadata": {
    "collapsed": false
   },
   "outputs": [
    {
     "data": {
      "text/plain": [
       "{'AllocatedStorage': 5,\n",
       " 'AvailabilityZone': 'us-west-1c',\n",
       " 'BackupRetentionPeriod': 5,\n",
       " 'DBInstanceClass': 'db.t2.micro',\n",
       " 'DBInstanceIdentifier': 'cfsdb',\n",
       " 'DBName': 'cfsdb',\n",
       " 'DBSecurityGroups': ['cfs_data_group'],\n",
       " 'DBSubnetGroupName': 'default',\n",
       " 'Engine': 'postgres',\n",
       " 'EngineVersion': '9.4.1',\n",
       " 'LicenseModel': 'postgresql-license',\n",
       " 'MasterUserPassword': 'TestPassword',\n",
       " 'MasterUsername': 'TestUser',\n",
       " 'MultiAZ': False,\n",
       " 'Port': 5432,\n",
       " 'PreferredMaintenanceWindow': 'Mon:06:00-Mon:10:00',\n",
       " 'PubliclyAccessible': True,\n",
       " 'StorageEncrypted': False,\n",
       " 'StorageType': 'standard',\n",
       " 'VpcSecurityGroupIds': ['vpc-bba470de']}"
      ]
     },
     "execution_count": 30,
     "metadata": {},
     "output_type": "execute_result"
    }
   ],
   "source": [
    "db_configuration"
   ]
  },
  {
   "cell_type": "markdown",
   "metadata": {},
   "source": [
    "Create the client"
   ]
  },
  {
   "cell_type": "code",
   "execution_count": 31,
   "metadata": {
    "collapsed": false
   },
   "outputs": [
    {
     "ename": "ClientError",
     "evalue": "An error occurred (InvalidParameterCombination) when calling the CreateDBInstance operation: DB Security Groups and Vpc Security Groups cannot both be provided.",
     "output_type": "error",
     "traceback": [
      "\u001b[0;31m---------------------------------------------------------------------------\u001b[0m",
      "\u001b[0;31mClientError\u001b[0m                               Traceback (most recent call last)",
      "\u001b[0;32m<ipython-input-31-44bc8da3d9c2>\u001b[0m in \u001b[0;36m<module>\u001b[0;34m()\u001b[0m\n\u001b[0;32m----> 1\u001b[0;31m \u001b[0mcreated_db\u001b[0m \u001b[0;34m=\u001b[0m \u001b[0mclient\u001b[0m\u001b[0;34m.\u001b[0m\u001b[0mcreate_db_instance\u001b[0m\u001b[0;34m(\u001b[0m\u001b[0;34m**\u001b[0m\u001b[0mdb_configuration\u001b[0m\u001b[0;34m)\u001b[0m\u001b[0;34m\u001b[0m\u001b[0m\n\u001b[0m",
      "\u001b[0;32m/Users/Sohail/Virtualenvs/machineLearn/lib/python3.4/site-packages/botocore/client.py\u001b[0m in \u001b[0;36m_api_call\u001b[0;34m(self, *args, **kwargs)\u001b[0m\n\u001b[1;32m    308\u001b[0m                     \"%s() only accepts keyword arguments.\" % py_operation_name)\n\u001b[1;32m    309\u001b[0m             \u001b[0;31m# The \"self\" in this scope is referring to the BaseClient.\u001b[0m\u001b[0;34m\u001b[0m\u001b[0;34m\u001b[0m\u001b[0m\n\u001b[0;32m--> 310\u001b[0;31m             \u001b[0;32mreturn\u001b[0m \u001b[0mself\u001b[0m\u001b[0;34m.\u001b[0m\u001b[0m_make_api_call\u001b[0m\u001b[0;34m(\u001b[0m\u001b[0moperation_name\u001b[0m\u001b[0;34m,\u001b[0m \u001b[0mkwargs\u001b[0m\u001b[0;34m)\u001b[0m\u001b[0;34m\u001b[0m\u001b[0m\n\u001b[0m\u001b[1;32m    311\u001b[0m \u001b[0;34m\u001b[0m\u001b[0m\n\u001b[1;32m    312\u001b[0m         \u001b[0m_api_call\u001b[0m\u001b[0;34m.\u001b[0m\u001b[0m__name__\u001b[0m \u001b[0;34m=\u001b[0m \u001b[0mstr\u001b[0m\u001b[0;34m(\u001b[0m\u001b[0mpy_operation_name\u001b[0m\u001b[0;34m)\u001b[0m\u001b[0;34m\u001b[0m\u001b[0m\n",
      "\u001b[0;32m/Users/Sohail/Virtualenvs/machineLearn/lib/python3.4/site-packages/botocore/client.py\u001b[0m in \u001b[0;36m_make_api_call\u001b[0;34m(self, operation_name, api_params)\u001b[0m\n\u001b[1;32m    393\u001b[0m \u001b[0;34m\u001b[0m\u001b[0m\n\u001b[1;32m    394\u001b[0m         \u001b[0;32mif\u001b[0m \u001b[0mhttp\u001b[0m\u001b[0;34m.\u001b[0m\u001b[0mstatus_code\u001b[0m \u001b[0;34m>=\u001b[0m \u001b[0;36m300\u001b[0m\u001b[0;34m:\u001b[0m\u001b[0;34m\u001b[0m\u001b[0m\n\u001b[0;32m--> 395\u001b[0;31m             \u001b[0;32mraise\u001b[0m \u001b[0mClientError\u001b[0m\u001b[0;34m(\u001b[0m\u001b[0mparsed_response\u001b[0m\u001b[0;34m,\u001b[0m \u001b[0moperation_name\u001b[0m\u001b[0;34m)\u001b[0m\u001b[0;34m\u001b[0m\u001b[0m\n\u001b[0m\u001b[1;32m    396\u001b[0m         \u001b[0;32melse\u001b[0m\u001b[0;34m:\u001b[0m\u001b[0;34m\u001b[0m\u001b[0m\n\u001b[1;32m    397\u001b[0m             \u001b[0;32mreturn\u001b[0m \u001b[0mparsed_response\u001b[0m\u001b[0;34m\u001b[0m\u001b[0m\n",
      "\u001b[0;31mClientError\u001b[0m: An error occurred (InvalidParameterCombination) when calling the CreateDBInstance operation: DB Security Groups and Vpc Security Groups cannot both be provided."
     ]
    }
   ],
   "source": [
    "created_db = client.create_db_instance(**db_configuration)"
   ]
  },
  {
   "cell_type": "markdown",
   "metadata": {},
   "source": [
    "Need to delete the vpcsecuritygroupids then."
   ]
  },
  {
   "cell_type": "code",
   "execution_count": 34,
   "metadata": {
    "collapsed": false
   },
   "outputs": [],
   "source": [
    "del db_configuration['DBSecurityGroups']"
   ]
  },
  {
   "cell_type": "code",
   "execution_count": 35,
   "metadata": {
    "collapsed": false
   },
   "outputs": [],
   "source": [
    "created_db = client.create_db_instance(**db_configuration)"
   ]
  },
  {
   "cell_type": "code",
   "execution_count": 54,
   "metadata": {
    "collapsed": false
   },
   "outputs": [],
   "source": [
    "add, port = client.describe_db_instances()['DBInstances'][0].get('Endpoint').values()"
   ]
  },
  {
   "cell_type": "code",
   "execution_count": 10,
   "metadata": {
    "collapsed": false
   },
   "outputs": [],
   "source": [
    "port, add = (5432, 'cfsdb.cs4yyoqmq4gl.us-west-1.rds.amazonaws.com')"
   ]
  },
  {
   "cell_type": "markdown",
   "metadata": {},
   "source": [
    "## Using sqlalchemy"
   ]
  },
  {
   "cell_type": "code",
   "execution_count": 15,
   "metadata": {
    "collapsed": false
   },
   "outputs": [],
   "source": [
    "# creating engine\n",
    "\n",
    "engine = create_engine('postgresql+psycopg2://{username}:{password}@{add}:{port}/{db_name}'.format(\n",
    "    username=db_configuration['MasterUsername'],\n",
    "    password=db_configuration['MasterUserPassword'],\n",
    "    add=add,\n",
    "    port=port,\n",
    "    db_name=db_configuration['DBName']), echo=True)"
   ]
  },
  {
   "cell_type": "code",
   "execution_count": 66,
   "metadata": {
    "collapsed": false
   },
   "outputs": [
    {
     "data": {
      "text/plain": [
       "'cfsdb'"
      ]
     },
     "execution_count": 66,
     "metadata": {},
     "output_type": "execute_result"
    }
   ],
   "source": [
    "db_configuration['DBName']"
   ]
  },
  {
   "cell_type": "code",
   "execution_count": 16,
   "metadata": {
    "collapsed": true
   },
   "outputs": [],
   "source": [
    "# import sqlalchemy api\n",
    "from sqlalchemy import Table, Column, Integer, String, MetaData, ForeignKey\n"
   ]
  },
  {
   "cell_type": "code",
   "execution_count": 17,
   "metadata": {
    "collapsed": false,
    "scrolled": true
   },
   "outputs": [
    {
     "name": "stdout",
     "output_type": "stream",
     "text": [
      "2015-12-29 23:20:51,825 INFO sqlalchemy.engine.base.Engine select version()\n"
     ]
    },
    {
     "name": "stderr",
     "output_type": "stream",
     "text": [
      "INFO:sqlalchemy.engine.base.Engine:select version()\n"
     ]
    },
    {
     "name": "stdout",
     "output_type": "stream",
     "text": [
      "2015-12-29 23:20:51,826 INFO sqlalchemy.engine.base.Engine {}\n"
     ]
    },
    {
     "name": "stderr",
     "output_type": "stream",
     "text": [
      "INFO:sqlalchemy.engine.base.Engine:{}\n"
     ]
    },
    {
     "name": "stdout",
     "output_type": "stream",
     "text": [
      "2015-12-29 23:20:51,880 INFO sqlalchemy.engine.base.Engine select current_schema()\n"
     ]
    },
    {
     "name": "stderr",
     "output_type": "stream",
     "text": [
      "INFO:sqlalchemy.engine.base.Engine:select current_schema()\n"
     ]
    },
    {
     "name": "stdout",
     "output_type": "stream",
     "text": [
      "2015-12-29 23:20:51,881 INFO sqlalchemy.engine.base.Engine {}\n"
     ]
    },
    {
     "name": "stderr",
     "output_type": "stream",
     "text": [
      "INFO:sqlalchemy.engine.base.Engine:{}\n"
     ]
    },
    {
     "name": "stdout",
     "output_type": "stream",
     "text": [
      "2015-12-29 23:20:51,929 INFO sqlalchemy.engine.base.Engine SELECT CAST('test plain returns' AS VARCHAR(60)) AS anon_1\n"
     ]
    },
    {
     "name": "stderr",
     "output_type": "stream",
     "text": [
      "INFO:sqlalchemy.engine.base.Engine:SELECT CAST('test plain returns' AS VARCHAR(60)) AS anon_1\n"
     ]
    },
    {
     "name": "stdout",
     "output_type": "stream",
     "text": [
      "2015-12-29 23:20:51,930 INFO sqlalchemy.engine.base.Engine {}\n"
     ]
    },
    {
     "name": "stderr",
     "output_type": "stream",
     "text": [
      "INFO:sqlalchemy.engine.base.Engine:{}\n"
     ]
    },
    {
     "name": "stdout",
     "output_type": "stream",
     "text": [
      "2015-12-29 23:20:51,955 INFO sqlalchemy.engine.base.Engine SELECT CAST('test unicode returns' AS VARCHAR(60)) AS anon_1\n"
     ]
    },
    {
     "name": "stderr",
     "output_type": "stream",
     "text": [
      "INFO:sqlalchemy.engine.base.Engine:SELECT CAST('test unicode returns' AS VARCHAR(60)) AS anon_1\n"
     ]
    },
    {
     "name": "stdout",
     "output_type": "stream",
     "text": [
      "2015-12-29 23:20:51,956 INFO sqlalchemy.engine.base.Engine {}\n"
     ]
    },
    {
     "name": "stderr",
     "output_type": "stream",
     "text": [
      "INFO:sqlalchemy.engine.base.Engine:{}\n"
     ]
    },
    {
     "name": "stdout",
     "output_type": "stream",
     "text": [
      "2015-12-29 23:20:52,003 INFO sqlalchemy.engine.base.Engine show standard_conforming_strings\n"
     ]
    },
    {
     "name": "stderr",
     "output_type": "stream",
     "text": [
      "INFO:sqlalchemy.engine.base.Engine:show standard_conforming_strings\n"
     ]
    },
    {
     "name": "stdout",
     "output_type": "stream",
     "text": [
      "2015-12-29 23:20:52,004 INFO sqlalchemy.engine.base.Engine {}\n"
     ]
    },
    {
     "name": "stderr",
     "output_type": "stream",
     "text": [
      "INFO:sqlalchemy.engine.base.Engine:{}\n"
     ]
    }
   ],
   "source": [
    "con = engine.connect()"
   ]
  },
  {
   "cell_type": "code",
   "execution_count": 70,
   "metadata": {
    "collapsed": false
   },
   "outputs": [
    {
     "name": "stdout",
     "output_type": "stream",
     "text": [
      "2015-12-07 01:02:15,245 INFO sqlalchemy.engine.base.Engine select relname from pg_class c join pg_namespace n on n.oid=c.relnamespace where pg_catalog.pg_table_is_visible(c.oid) and relname=%(name)s\n"
     ]
    },
    {
     "name": "stderr",
     "output_type": "stream",
     "text": [
      "INFO:sqlalchemy.engine.base.Engine:select relname from pg_class c join pg_namespace n on n.oid=c.relnamespace where pg_catalog.pg_table_is_visible(c.oid) and relname=%(name)s\n"
     ]
    },
    {
     "name": "stdout",
     "output_type": "stream",
     "text": [
      "2015-12-07 01:02:15,246 INFO sqlalchemy.engine.base.Engine {'name': 'transport_mode'}\n"
     ]
    },
    {
     "name": "stderr",
     "output_type": "stream",
     "text": [
      "INFO:sqlalchemy.engine.base.Engine:{'name': 'transport_mode'}\n"
     ]
    },
    {
     "name": "stdout",
     "output_type": "stream",
     "text": [
      "2015-12-07 01:02:15,315 INFO sqlalchemy.engine.base.Engine \n",
      "CREATE TABLE transport_mode (\n",
      "\t\"Mode Code\" BIGINT, \n",
      "\t\"Mode Description\" TEXT\n",
      ")\n",
      "\n",
      "\n"
     ]
    },
    {
     "name": "stderr",
     "output_type": "stream",
     "text": [
      "INFO:sqlalchemy.engine.base.Engine:\n",
      "CREATE TABLE transport_mode (\n",
      "\t\"Mode Code\" BIGINT, \n",
      "\t\"Mode Description\" TEXT\n",
      ")\n",
      "\n",
      "\n"
     ]
    },
    {
     "name": "stdout",
     "output_type": "stream",
     "text": [
      "2015-12-07 01:02:15,316 INFO sqlalchemy.engine.base.Engine {}\n"
     ]
    },
    {
     "name": "stderr",
     "output_type": "stream",
     "text": [
      "INFO:sqlalchemy.engine.base.Engine:{}\n"
     ]
    },
    {
     "name": "stdout",
     "output_type": "stream",
     "text": [
      "2015-12-07 01:02:15,373 INFO sqlalchemy.engine.base.Engine COMMIT\n"
     ]
    },
    {
     "name": "stderr",
     "output_type": "stream",
     "text": [
      "INFO:sqlalchemy.engine.base.Engine:COMMIT\n"
     ]
    },
    {
     "name": "stdout",
     "output_type": "stream",
     "text": [
      "2015-12-07 01:02:15,401 INFO sqlalchemy.engine.base.Engine BEGIN (implicit)\n"
     ]
    },
    {
     "name": "stderr",
     "output_type": "stream",
     "text": [
      "INFO:sqlalchemy.engine.base.Engine:BEGIN (implicit)\n"
     ]
    },
    {
     "name": "stdout",
     "output_type": "stream",
     "text": [
      "2015-12-07 01:02:15,403 INFO sqlalchemy.engine.base.Engine INSERT INTO transport_mode (\"Mode Code\", \"Mode Description\") VALUES (%(Mode Code)s, %(Mode Description)s)\n"
     ]
    },
    {
     "name": "stderr",
     "output_type": "stream",
     "text": [
      "INFO:sqlalchemy.engine.base.Engine:INSERT INTO transport_mode (\"Mode Code\", \"Mode Description\") VALUES (%(Mode Code)s, %(Mode Description)s)\n"
     ]
    },
    {
     "name": "stdout",
     "output_type": "stream",
     "text": [
      "2015-12-07 01:02:15,405 INFO sqlalchemy.engine.base.Engine ({'Mode Description': 'Single mode', 'Mode Code': 2}, {'Mode Description': 'Truck', 'Mode Code': 3}, {'Mode Description': 'For-hire truck', 'Mode Code': 4}, {'Mode Description': 'Private truck', 'Mode Code': 5}, {'Mode Description': 'Rail', 'Mode Code': 6}, {'Mode Description': 'Water', 'Mode Code': 7}, {'Mode Description': 'Inland Water', 'Mode Code': 8}, {'Mode Description': 'Great Lakes', 'Mode Code': 9}  ... displaying 10 of 21 total bound parameter sets ...  {'Mode Description': 'Other mode', 'Mode Code': 19}, {'Mode Description': 'Mode suppressed', 'Mode Code': 0})\n"
     ]
    },
    {
     "name": "stderr",
     "output_type": "stream",
     "text": [
      "INFO:sqlalchemy.engine.base.Engine:({'Mode Description': 'Single mode', 'Mode Code': 2}, {'Mode Description': 'Truck', 'Mode Code': 3}, {'Mode Description': 'For-hire truck', 'Mode Code': 4}, {'Mode Description': 'Private truck', 'Mode Code': 5}, {'Mode Description': 'Rail', 'Mode Code': 6}, {'Mode Description': 'Water', 'Mode Code': 7}, {'Mode Description': 'Inland Water', 'Mode Code': 8}, {'Mode Description': 'Great Lakes', 'Mode Code': 9}  ... displaying 10 of 21 total bound parameter sets ...  {'Mode Description': 'Other mode', 'Mode Code': 19}, {'Mode Description': 'Mode suppressed', 'Mode Code': 0})\n"
     ]
    },
    {
     "name": "stdout",
     "output_type": "stream",
     "text": [
      "2015-12-07 01:02:15,917 INFO sqlalchemy.engine.base.Engine COMMIT\n"
     ]
    },
    {
     "name": "stderr",
     "output_type": "stream",
     "text": [
      "INFO:sqlalchemy.engine.base.Engine:COMMIT\n"
     ]
    },
    {
     "name": "stdout",
     "output_type": "stream",
     "text": [
      "2015-12-07 01:02:15,937 INFO sqlalchemy.engine.base.Engine SELECT relname FROM pg_class c WHERE relkind = 'r' AND 'public' = (select nspname from pg_namespace n where n.oid = c.relnamespace) \n"
     ]
    },
    {
     "name": "stderr",
     "output_type": "stream",
     "text": [
      "INFO:sqlalchemy.engine.base.Engine:SELECT relname FROM pg_class c WHERE relkind = 'r' AND 'public' = (select nspname from pg_namespace n where n.oid = c.relnamespace) \n"
     ]
    },
    {
     "name": "stdout",
     "output_type": "stream",
     "text": [
      "2015-12-07 01:02:15,938 INFO sqlalchemy.engine.base.Engine {}\n"
     ]
    },
    {
     "name": "stderr",
     "output_type": "stream",
     "text": [
      "INFO:sqlalchemy.engine.base.Engine:{}\n"
     ]
    }
   ],
   "source": [
    "# load data into pandas and then into sqlalchemy connection\n",
    "transport_df = pd.read_csv(\"./csv/transport_mode.csv\")\n",
    "transport_df.to_sql('transport_mode', con=engine, if_exists='replace', index=False)"
   ]
  },
  {
   "cell_type": "code",
   "execution_count": 71,
   "metadata": {
    "collapsed": false
   },
   "outputs": [
    {
     "name": "stdout",
     "output_type": "stream",
     "text": [
      "2015-12-07 01:02:21,766 INFO sqlalchemy.engine.base.Engine SELECT \"Mode Description\" FROM transport_mode\n"
     ]
    },
    {
     "name": "stderr",
     "output_type": "stream",
     "text": [
      "INFO:sqlalchemy.engine.base.Engine:SELECT \"Mode Description\" FROM transport_mode\n"
     ]
    },
    {
     "name": "stdout",
     "output_type": "stream",
     "text": [
      "2015-12-07 01:02:21,768 INFO sqlalchemy.engine.base.Engine {}\n"
     ]
    },
    {
     "name": "stderr",
     "output_type": "stream",
     "text": [
      "INFO:sqlalchemy.engine.base.Engine:{}\n"
     ]
    },
    {
     "data": {
      "text/plain": [
       "[('Single mode',),\n",
       " ('Truck',),\n",
       " ('For-hire truck',),\n",
       " ('Private truck',),\n",
       " ('Rail',),\n",
       " ('Water',),\n",
       " ('Inland Water',),\n",
       " ('Great Lakes',),\n",
       " ('Deep Sea',),\n",
       " ('Multiple Waterways',),\n",
       " ('Air (incl truck & air)',),\n",
       " ('Pipeline',),\n",
       " ('Multiple mode',),\n",
       " ('Parcel, USPS, or courier',),\n",
       " ('Non-parcel multimode',),\n",
       " ('Truck and rail',),\n",
       " ('Truck and water',),\n",
       " ('Rail and water',),\n",
       " ('Other multiple mode',),\n",
       " ('Other mode',),\n",
       " ('Mode suppressed',)]"
      ]
     },
     "execution_count": 71,
     "metadata": {},
     "output_type": "execute_result"
    }
   ],
   "source": [
    "con.execute('SELECT \"Mode Description\" FROM transport_mode').fetchall()"
   ]
  },
  {
   "cell_type": "code",
   "execution_count": null,
   "metadata": {
    "collapsed": true
   },
   "outputs": [],
   "source": []
  },
  {
   "cell_type": "code",
   "execution_count": 6,
   "metadata": {
    "collapsed": false
   },
   "outputs": [
    {
     "data": {
      "text/plain": [
       "'FIPS_States'"
      ]
     },
     "execution_count": 6,
     "metadata": {},
     "output_type": "execute_result"
    }
   ],
   "source": [
    "# read in all our files using the conversion pd-->sql\n",
    "get_db_name = lambda f: f.split('.')[-2].split('/')[-1].strip('/')\n",
    "get_db_name('./csv/FIPS_States.csv')"
   ]
  },
  {
   "cell_type": "code",
   "execution_count": 19,
   "metadata": {
    "collapsed": true
   },
   "outputs": [
    {
     "ename": "ValueError",
     "evalue": "'ignore' is not valid for if_exists",
     "output_type": "error",
     "traceback": [
      "\u001b[0;31m---------------------------------------------------------------------------\u001b[0m",
      "\u001b[0;31mValueError\u001b[0m                                Traceback (most recent call last)",
      "\u001b[0;32m<ipython-input-19-860d2666a07d>\u001b[0m in \u001b[0;36m<module>\u001b[0;34m()\u001b[0m\n\u001b[1;32m      1\u001b[0m [pd.read_csv(f).to_sql(get_db_name(f), con=engine, if_exists='ignore', index=False) for f in \n\u001b[0;32m----> 2\u001b[0;31m  ['./csv/state_latlon.csv', './csv/sctg.csv', './csv/cfs_areas.csv', './csv/FIPS_States.csv', './csv/naics.csv']]\n\u001b[0m",
      "\u001b[0;32m<ipython-input-19-860d2666a07d>\u001b[0m in \u001b[0;36m<listcomp>\u001b[0;34m(.0)\u001b[0m\n\u001b[0;32m----> 1\u001b[0;31m [pd.read_csv(f).to_sql(get_db_name(f), con=engine, if_exists='ignore', index=False) for f in \n\u001b[0m\u001b[1;32m      2\u001b[0m  ['./csv/state_latlon.csv', './csv/sctg.csv', './csv/cfs_areas.csv', './csv/FIPS_States.csv', './csv/naics.csv']]\n",
      "\u001b[0;32m/Users/Sohail/Virtualenvs/machineLearn/lib/python3.4/site-packages/pandas/core/generic.py\u001b[0m in \u001b[0;36mto_sql\u001b[0;34m(self, name, con, flavor, schema, if_exists, index, index_label, chunksize, dtype)\u001b[0m\n\u001b[1;32m    980\u001b[0m             \u001b[0mself\u001b[0m\u001b[0;34m,\u001b[0m \u001b[0mname\u001b[0m\u001b[0;34m,\u001b[0m \u001b[0mcon\u001b[0m\u001b[0;34m,\u001b[0m \u001b[0mflavor\u001b[0m\u001b[0;34m=\u001b[0m\u001b[0mflavor\u001b[0m\u001b[0;34m,\u001b[0m \u001b[0mschema\u001b[0m\u001b[0;34m=\u001b[0m\u001b[0mschema\u001b[0m\u001b[0;34m,\u001b[0m \u001b[0mif_exists\u001b[0m\u001b[0;34m=\u001b[0m\u001b[0mif_exists\u001b[0m\u001b[0;34m,\u001b[0m\u001b[0;34m\u001b[0m\u001b[0m\n\u001b[1;32m    981\u001b[0m             \u001b[0mindex\u001b[0m\u001b[0;34m=\u001b[0m\u001b[0mindex\u001b[0m\u001b[0;34m,\u001b[0m \u001b[0mindex_label\u001b[0m\u001b[0;34m=\u001b[0m\u001b[0mindex_label\u001b[0m\u001b[0;34m,\u001b[0m \u001b[0mchunksize\u001b[0m\u001b[0;34m=\u001b[0m\u001b[0mchunksize\u001b[0m\u001b[0;34m,\u001b[0m\u001b[0;34m\u001b[0m\u001b[0m\n\u001b[0;32m--> 982\u001b[0;31m             dtype=dtype)\n\u001b[0m\u001b[1;32m    983\u001b[0m \u001b[0;34m\u001b[0m\u001b[0m\n\u001b[1;32m    984\u001b[0m     \u001b[0;32mdef\u001b[0m \u001b[0mto_pickle\u001b[0m\u001b[0;34m(\u001b[0m\u001b[0mself\u001b[0m\u001b[0;34m,\u001b[0m \u001b[0mpath\u001b[0m\u001b[0;34m)\u001b[0m\u001b[0;34m:\u001b[0m\u001b[0;34m\u001b[0m\u001b[0m\n",
      "\u001b[0;32m/Users/Sohail/Virtualenvs/machineLearn/lib/python3.4/site-packages/pandas/io/sql.py\u001b[0m in \u001b[0;36mto_sql\u001b[0;34m(frame, name, con, flavor, schema, if_exists, index, index_label, chunksize, dtype)\u001b[0m\n\u001b[1;32m    535\u001b[0m     \"\"\"\n\u001b[1;32m    536\u001b[0m     \u001b[0;32mif\u001b[0m \u001b[0mif_exists\u001b[0m \u001b[0;32mnot\u001b[0m \u001b[0;32min\u001b[0m \u001b[0;34m(\u001b[0m\u001b[0;34m'fail'\u001b[0m\u001b[0;34m,\u001b[0m \u001b[0;34m'replace'\u001b[0m\u001b[0;34m,\u001b[0m \u001b[0;34m'append'\u001b[0m\u001b[0;34m)\u001b[0m\u001b[0;34m:\u001b[0m\u001b[0;34m\u001b[0m\u001b[0m\n\u001b[0;32m--> 537\u001b[0;31m         \u001b[0;32mraise\u001b[0m \u001b[0mValueError\u001b[0m\u001b[0;34m(\u001b[0m\u001b[0;34m\"'{0}' is not valid for if_exists\"\u001b[0m\u001b[0;34m.\u001b[0m\u001b[0mformat\u001b[0m\u001b[0;34m(\u001b[0m\u001b[0mif_exists\u001b[0m\u001b[0;34m)\u001b[0m\u001b[0;34m)\u001b[0m\u001b[0;34m\u001b[0m\u001b[0m\n\u001b[0m\u001b[1;32m    538\u001b[0m \u001b[0;34m\u001b[0m\u001b[0m\n\u001b[1;32m    539\u001b[0m     \u001b[0mpandas_sql\u001b[0m \u001b[0;34m=\u001b[0m \u001b[0mpandasSQL_builder\u001b[0m\u001b[0;34m(\u001b[0m\u001b[0mcon\u001b[0m\u001b[0;34m,\u001b[0m \u001b[0mschema\u001b[0m\u001b[0;34m=\u001b[0m\u001b[0mschema\u001b[0m\u001b[0;34m,\u001b[0m \u001b[0mflavor\u001b[0m\u001b[0;34m=\u001b[0m\u001b[0mflavor\u001b[0m\u001b[0;34m)\u001b[0m\u001b[0;34m\u001b[0m\u001b[0m\n",
      "\u001b[0;31mValueError\u001b[0m: 'ignore' is not valid for if_exists"
     ]
    }
   ],
   "source": [
    "[pd.read_csv(f).to_sql(get_db_name(f), con=engine, if_exists='ignore', index=False) for f in \n",
    " ['./csv/state_latlon.csv', './csv/sctg.csv', './csv/cfs_areas.csv', './csv/FIPS_States.csv', './csv/naics.csv']]"
   ]
  },
  {
   "cell_type": "code",
   "execution_count": 21,
   "metadata": {
    "collapsed": false
   },
   "outputs": [
    {
     "name": "stdout",
     "output_type": "stream",
     "text": [
      "2015-12-29 23:24:26,156 INFO sqlalchemy.engine.base.Engine select relname from pg_class c join pg_namespace n on n.oid=c.relnamespace where pg_catalog.pg_table_is_visible(c.oid) and relname=%(name)s\n"
     ]
    },
    {
     "name": "stderr",
     "output_type": "stream",
     "text": [
      "INFO:sqlalchemy.engine.base.Engine:select relname from pg_class c join pg_namespace n on n.oid=c.relnamespace where pg_catalog.pg_table_is_visible(c.oid) and relname=%(name)s\n"
     ]
    },
    {
     "name": "stdout",
     "output_type": "stream",
     "text": [
      "2015-12-29 23:24:26,157 INFO sqlalchemy.engine.base.Engine {'name': 'naics'}\n"
     ]
    },
    {
     "name": "stderr",
     "output_type": "stream",
     "text": [
      "INFO:sqlalchemy.engine.base.Engine:{'name': 'naics'}\n"
     ]
    },
    {
     "name": "stdout",
     "output_type": "stream",
     "text": [
      "2015-12-29 23:24:26,232 INFO sqlalchemy.engine.base.Engine \n",
      "CREATE TABLE naics (\n",
      "\t\"NAICS\" BIGINT, \n",
      "\t\"Description\" TEXT\n",
      ")\n",
      "\n",
      "\n"
     ]
    },
    {
     "name": "stderr",
     "output_type": "stream",
     "text": [
      "INFO:sqlalchemy.engine.base.Engine:\n",
      "CREATE TABLE naics (\n",
      "\t\"NAICS\" BIGINT, \n",
      "\t\"Description\" TEXT\n",
      ")\n",
      "\n",
      "\n"
     ]
    },
    {
     "name": "stdout",
     "output_type": "stream",
     "text": [
      "2015-12-29 23:24:26,233 INFO sqlalchemy.engine.base.Engine {}\n"
     ]
    },
    {
     "name": "stderr",
     "output_type": "stream",
     "text": [
      "INFO:sqlalchemy.engine.base.Engine:{}\n"
     ]
    },
    {
     "name": "stdout",
     "output_type": "stream",
     "text": [
      "2015-12-29 23:24:26,588 INFO sqlalchemy.engine.base.Engine COMMIT\n"
     ]
    },
    {
     "name": "stderr",
     "output_type": "stream",
     "text": [
      "INFO:sqlalchemy.engine.base.Engine:COMMIT\n"
     ]
    },
    {
     "name": "stdout",
     "output_type": "stream",
     "text": [
      "2015-12-29 23:24:26,614 INFO sqlalchemy.engine.base.Engine BEGIN (implicit)\n"
     ]
    },
    {
     "name": "stderr",
     "output_type": "stream",
     "text": [
      "INFO:sqlalchemy.engine.base.Engine:BEGIN (implicit)\n"
     ]
    },
    {
     "name": "stdout",
     "output_type": "stream",
     "text": [
      "2015-12-29 23:24:26,616 INFO sqlalchemy.engine.base.Engine INSERT INTO naics (\"NAICS\", \"Description\") VALUES (%(NAICS)s, %(Description)s)\n"
     ]
    },
    {
     "name": "stderr",
     "output_type": "stream",
     "text": [
      "INFO:sqlalchemy.engine.base.Engine:INSERT INTO naics (\"NAICS\", \"Description\") VALUES (%(NAICS)s, %(Description)s)\n"
     ]
    },
    {
     "name": "stdout",
     "output_type": "stream",
     "text": [
      "2015-12-29 23:24:26,618 INFO sqlalchemy.engine.base.Engine ({'NAICS': 212, 'Description': 'Mining (except oil and gas)'}, {'NAICS': 311, 'Description': 'Food manufacturing'}, {'NAICS': 312, 'Description': 'Beverage and tobacco product manufacturing'}, {'NAICS': 313, 'Description': 'Textile mills'}, {'NAICS': 314, 'Description': 'Textile product mills'}, {'NAICS': 315, 'Description': 'Apparel manufacturing'}, {'NAICS': 316, 'Description': 'Leather and allied product manufacturing'}, {'NAICS': 321, 'Description': 'Wood product manufacturing'}  ... displaying 10 of 45 total bound parameter sets ...  {'NAICS': 5111, 'Description': 'Newspaper, periodical, book, and directory publishers'}, {'NAICS': 551114, 'Description': 'Corporate, subsidiary, and regional managing offices'})\n"
     ]
    },
    {
     "name": "stderr",
     "output_type": "stream",
     "text": [
      "INFO:sqlalchemy.engine.base.Engine:({'NAICS': 212, 'Description': 'Mining (except oil and gas)'}, {'NAICS': 311, 'Description': 'Food manufacturing'}, {'NAICS': 312, 'Description': 'Beverage and tobacco product manufacturing'}, {'NAICS': 313, 'Description': 'Textile mills'}, {'NAICS': 314, 'Description': 'Textile product mills'}, {'NAICS': 315, 'Description': 'Apparel manufacturing'}, {'NAICS': 316, 'Description': 'Leather and allied product manufacturing'}, {'NAICS': 321, 'Description': 'Wood product manufacturing'}  ... displaying 10 of 45 total bound parameter sets ...  {'NAICS': 5111, 'Description': 'Newspaper, periodical, book, and directory publishers'}, {'NAICS': 551114, 'Description': 'Corporate, subsidiary, and regional managing offices'})\n"
     ]
    },
    {
     "name": "stdout",
     "output_type": "stream",
     "text": [
      "2015-12-29 23:24:27,691 INFO sqlalchemy.engine.base.Engine COMMIT\n"
     ]
    },
    {
     "name": "stderr",
     "output_type": "stream",
     "text": [
      "INFO:sqlalchemy.engine.base.Engine:COMMIT\n"
     ]
    },
    {
     "name": "stdout",
     "output_type": "stream",
     "text": [
      "2015-12-29 23:24:27,719 INFO sqlalchemy.engine.base.Engine SELECT relname FROM pg_class c WHERE relkind = 'r' AND 'public' = (select nspname from pg_namespace n where n.oid = c.relnamespace) \n"
     ]
    },
    {
     "name": "stderr",
     "output_type": "stream",
     "text": [
      "INFO:sqlalchemy.engine.base.Engine:SELECT relname FROM pg_class c WHERE relkind = 'r' AND 'public' = (select nspname from pg_namespace n where n.oid = c.relnamespace) \n"
     ]
    },
    {
     "name": "stdout",
     "output_type": "stream",
     "text": [
      "2015-12-29 23:24:27,720 INFO sqlalchemy.engine.base.Engine {}\n"
     ]
    },
    {
     "name": "stderr",
     "output_type": "stream",
     "text": [
      "INFO:sqlalchemy.engine.base.Engine:{}\n"
     ]
    }
   ],
   "source": [
    "pd.read_csv('./csv/naics.csv').to_sql(get_db_name('./csv/naics.csv'), con=engine, if_exists='fail', index=False)"
   ]
  },
  {
   "cell_type": "code",
   "execution_count": 76,
   "metadata": {
    "collapsed": true
   },
   "outputs": [],
   "source": [
    "df = pd.read_csv('./csv/cfs_2012_pumf_first_50k.csv')"
   ]
  },
  {
   "cell_type": "code",
   "execution_count": 1,
   "metadata": {
    "collapsed": false
   },
   "outputs": [],
   "source": [
    "#df[:1].to_sql('transactions', con=engine, if_exists='fail', index=False, chunksize=10000)"
   ]
  },
  {
   "cell_type": "code",
   "execution_count": 2,
   "metadata": {
    "collapsed": false
   },
   "outputs": [],
   "source": [
    "#pd.read_csv('./cfs_2012_pumf_csv.txt').to_sql('transactions', con=engine, if_exists='fail', index=False, chunksize=10000)"
   ]
  },
  {
   "cell_type": "code",
   "execution_count": 3,
   "metadata": {
    "collapsed": false
   },
   "outputs": [],
   "source": [
    "#con.execute('DROP TABLE transactions')"
   ]
  },
  {
   "cell_type": "code",
   "execution_count": 4,
   "metadata": {
    "collapsed": false
   },
   "outputs": [],
   "source": [
    "#con.execute('SELECT \"SHIPMT_ID\" FROM transactions ORDER BY 1 DESC LIMIT 1').fetchall()"
   ]
  },
  {
   "cell_type": "code",
   "execution_count": 5,
   "metadata": {
    "collapsed": false,
    "scrolled": true
   },
   "outputs": [],
   "source": [
    "#con.execute('SELECT \"QUARTER\", SUM(\"WGT_FACTOR\") from transactions GROUP BY 1').fetchall()"
   ]
  }
 ],
 "metadata": {
  "kernelspec": {
   "display_name": "Python 3",
   "language": "python",
   "name": "python3"
  },
  "language_info": {
   "codemirror_mode": {
    "name": "ipython",
    "version": 3
   },
   "file_extension": ".py",
   "mimetype": "text/x-python",
   "name": "python",
   "nbconvert_exporter": "python",
   "pygments_lexer": "ipython3",
   "version": "3.4.2"
  }
 },
 "nbformat": 4,
 "nbformat_minor": 0
}
