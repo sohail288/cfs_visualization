{
 "cells": [
  {
   "cell_type": "code",
   "execution_count": 4,
   "metadata": {
    "collapsed": false
   },
   "outputs": [],
   "source": [
    "import sqlalchemy\n",
    "import pandas as pd\n",
    "import boto3\n",
    "import os\n",
    "import psycopg2"
   ]
  },
  {
   "cell_type": "code",
   "execution_count": 5,
   "metadata": {
    "collapsed": false
   },
   "outputs": [],
   "source": [
    "from sqlalchemy import create_engine\n",
    "from sqlalchemy.dialects.postgresql import psycopg2"
   ]
  },
  {
   "cell_type": "markdown",
   "metadata": {},
   "source": [
    "links\n",
    "[http://docs.sqlalchemy.org/en/latest/core/selectable.html](sqlalchemy)\n",
    "\n",
    "[http://docs.aws.amazon.com/AWSEC2/latest/UserGuide/using-network-security.html#vpc-security-groups](securitygroups)\n",
    "\n"
   ]
  },
  {
   "cell_type": "markdown",
   "metadata": {},
   "source": [
    "# Setting up a RDS\n",
    "\n",
    "## Contents\n",
    "<h3>\n",
    "    <ol>\n",
    "        <li>Setting up the cluster using Boto</li>\n",
    "        <li>Connecting to cluster with sqlalchemy</li>\n",
    "        <li>Loading Data with sqlalchemy</li>\n",
    "        <li>Testing out various sql needed for next steps</li>\n",
    "    </ol>\n",
    "</h3>"
   ]
  },
  {
   "cell_type": "code",
   "execution_count": 6,
   "metadata": {
    "collapsed": false
   },
   "outputs": [],
   "source": [
    "# Make sure you have configured your aws credentials in your environment\n",
    "client = boto3.client('rds')\n"
   ]
  },
  {
   "cell_type": "code",
   "execution_count": 4,
   "metadata": {
    "collapsed": false
   },
   "outputs": [
    {
     "name": "stdout",
     "output_type": "stream",
     "text": [
      "<botocore.client.RDS object at 0x112064710>\n"
     ]
    }
   ],
   "source": [
    "# check\n",
    "print(client)"
   ]
  },
  {
   "cell_type": "markdown",
   "metadata": {},
   "source": [
    "I will demonstrate the construction of the configuration stepwise. In reality you can just use a dict literal as a parameter to create_db_instance.  The api for rds is found here, [rds api](http://docs.aws.amazon.com/AmazonRDS/latest/APIReference/API_CreateDBInstance.html). From This API we can see that create_db_instance is going to need:"
   ]
  },
  {
   "cell_type": "markdown",
   "metadata": {},
   "source": [
    "    response = client.create_db_instance(\n",
    "        DBName='string',\n",
    "        DBInstanceIdentifier='string',\n",
    "        AllocatedStorage=123,\n",
    "        DBInstanceClass='string',\n",
    "        Engine='string',\n",
    "        MasterUsername='string',\n",
    "        MasterUserPassword='string',\n",
    "        DBSecurityGroups=[\n",
    "            'string',\n",
    "        ],\n",
    "        VpcSecurityGroupIds=[\n",
    "            'string',\n",
    "        ],\n",
    "        AvailabilityZone='string',\n",
    "        DBSubnetGroupName='string',\n",
    "        PreferredMaintenanceWindow='string',\n",
    "        DBParameterGroupName='string',\n",
    "        BackupRetentionPeriod=123,\n",
    "        PreferredBackupWindow='string',\n",
    "        Port=123,\n",
    "        MultiAZ=True|False,\n",
    "        EngineVersion='string',\n",
    "        AutoMinorVersionUpgrade=True|False,\n",
    "        LicenseModel='string',\n",
    "        Iops=123,\n",
    "        OptionGroupName='string',\n",
    "        CharacterSetName='string',\n",
    "        PubliclyAccessible=True|False,\n",
    "        Tags=[\n",
    "            {\n",
    "                'Key': 'string',\n",
    "                'Value': 'string'\n",
    "            },\n",
    "        ],\n",
    "        DBClusterIdentifier='string',\n",
    "        StorageType='string',\n",
    "        TdeCredentialArn='string',\n",
    "        TdeCredentialPassword='string',\n",
    "        StorageEncrypted=True|False,\n",
    "        KmsKeyId='string',\n",
    "        CopyTagsToSnapshot=True|False\n",
    "    )"
   ]
  },
  {
   "cell_type": "code",
   "execution_count": 7,
   "metadata": {
    "collapsed": true
   },
   "outputs": [],
   "source": [
    "# step 1, make the db_configuration object\n",
    "db_configuration = {}\n"
   ]
  },
  {
   "cell_type": "markdown",
   "metadata": {},
   "source": [
    "Why are we using a dictionary when the function will take only keyword arguments?  Quick recap on why."
   ]
  },
  {
   "cell_type": "code",
   "execution_count": 6,
   "metadata": {
    "collapsed": false
   },
   "outputs": [
    {
     "ename": "TypeError",
     "evalue": "printKwargs() missing 1 required positional argument: 'second'",
     "output_type": "error",
     "traceback": [
      "\u001b[0;31m---------------------------------------------------------------------------\u001b[0m",
      "\u001b[0;31mTypeError\u001b[0m                                 Traceback (most recent call last)",
      "\u001b[0;32m<ipython-input-6-61e1b4d15fa2>\u001b[0m in \u001b[0;36m<module>\u001b[0;34m()\u001b[0m\n\u001b[1;32m      6\u001b[0m \u001b[0maDict\u001b[0m\u001b[0;34m[\u001b[0m\u001b[0;34m'second'\u001b[0m\u001b[0;34m]\u001b[0m \u001b[0;34m=\u001b[0m \u001b[0;36m2\u001b[0m\u001b[0;34m\u001b[0m\u001b[0m\n\u001b[1;32m      7\u001b[0m \u001b[0;34m\u001b[0m\u001b[0m\n\u001b[0;32m----> 8\u001b[0;31m \u001b[0mprintKwargs\u001b[0m\u001b[0;34m(\u001b[0m\u001b[0maDict\u001b[0m\u001b[0;34m)\u001b[0m\u001b[0;34m\u001b[0m\u001b[0m\n\u001b[0m",
      "\u001b[0;31mTypeError\u001b[0m: printKwargs() missing 1 required positional argument: 'second'"
     ]
    }
   ],
   "source": [
    "def printKwargs(first, second):\n",
    "    print(first,second)\n",
    "\n",
    "aDict = {}\n",
    "aDict['first'] = 1\n",
    "aDict['second'] = 2\n",
    "\n",
    "printKwargs(aDict)"
   ]
  },
  {
   "cell_type": "markdown",
   "metadata": {},
   "source": [
    "Right, we can't pass a dictionary in to the the function.  However, python lets you unpack your dictionary into tuples!"
   ]
  },
  {
   "cell_type": "code",
   "execution_count": 7,
   "metadata": {
    "collapsed": false
   },
   "outputs": [
    {
     "name": "stdout",
     "output_type": "stream",
     "text": [
      "1 2\n"
     ]
    }
   ],
   "source": [
    "printKwargs(**aDict)"
   ]
  },
  {
   "cell_type": "code",
   "execution_count": 8,
   "metadata": {
    "collapsed": true
   },
   "outputs": [],
   "source": [
    "# back to the actual work, we will sequentially construct the dict for the keyword arguments\n",
    "# first off let's set the name\n",
    "db_configuration['DBName'] = 'cfsdb'"
   ]
  },
  {
   "cell_type": "code",
   "execution_count": 9,
   "metadata": {
    "collapsed": true
   },
   "outputs": [],
   "source": [
    "# next we need the db instance identifier which is just a way to identify the db\n",
    "db_configuration['DBInstanceIdentifier'] = 'cfsdb'"
   ]
  },
  {
   "cell_type": "code",
   "execution_count": 10,
   "metadata": {
    "collapsed": true
   },
   "outputs": [],
   "source": [
    "# the allocated storage accepts an integer argument. Between 5 and 6144, we'll use 5\n",
    "db_configuration['AllocatedStorage'] = 5"
   ]
  },
  {
   "cell_type": "code",
   "execution_count": 11,
   "metadata": {
    "collapsed": true
   },
   "outputs": [],
   "source": [
    "# Next we need to choose the compute and memory capacity of the instance\n",
    "# we will choose db.t2.micro as it is free.\n",
    "db_configuration['DBInstanceClass'] = 'db.t2.micro'"
   ]
  },
  {
   "cell_type": "code",
   "execution_count": 12,
   "metadata": {
    "collapsed": true
   },
   "outputs": [],
   "source": [
    "# Next we choose the engine to run.  This is just the flavor of sql to run, we'll choose postgres since a lot \n",
    "# of python developers like postgres (this claim is unsubstantiated).\n",
    "db_configuration['Engine'] = 'postgres'"
   ]
  },
  {
   "cell_type": "code",
   "execution_count": 13,
   "metadata": {
    "collapsed": true
   },
   "outputs": [],
   "source": [
    "# Choose the version of the engine. We're using 9.4.1 since it is available in all regions.\n",
    "db_configuration['EngineVersion'] = '9.4.1'"
   ]
  },
  {
   "cell_type": "code",
   "execution_count": 14,
   "metadata": {
    "collapsed": true
   },
   "outputs": [],
   "source": [
    "# next set up the master user name, store it in your environment as AWS_DB_USER or just hard code it in. 8 char minimum\n",
    "db_configuration['MasterUsername'] = os.getenv('AWS_DB_USER', 'TestUser')\n",
    "\n",
    "# also setup the password, must have at least 8 characters\n",
    "db_configuration['MasterUserPassword'] = os.getenv('AWS_DB_PASSWORD', 'TestPassword')\n"
   ]
  },
  {
   "cell_type": "markdown",
   "metadata": {},
   "source": [
    "next up is the security groups, I'm hoping you have a default security group ready to go\n",
    "if not, we'll create one right now\n",
    "DBSecurityGroups takes as an argument, a list of strings."
   ]
  },
  {
   "cell_type": "code",
   "execution_count": 15,
   "metadata": {
    "collapsed": false
   },
   "outputs": [
    {
     "data": {
      "text/plain": [
       "{'DBSecurityGroups': [{'DBSecurityGroupDescription': 'Security group for my dataset',\n",
       "   'DBSecurityGroupName': 'cfs_data_group',\n",
       "   'EC2SecurityGroups': [],\n",
       "   'IPRanges': [],\n",
       "   'OwnerId': '132412529931',\n",
       "   'VpcId': 'vpc-bba470de'},\n",
       "  {'DBSecurityGroupDescription': 'default',\n",
       "   'DBSecurityGroupName': 'default',\n",
       "   'EC2SecurityGroups': [],\n",
       "   'IPRanges': [],\n",
       "   'OwnerId': '132412529931'}],\n",
       " 'ResponseMetadata': {'HTTPStatusCode': 200,\n",
       "  'RequestId': '3e77b2ac-9cba-11e5-a152-61a6740da2bd'}}"
      ]
     },
     "execution_count": 15,
     "metadata": {},
     "output_type": "execute_result"
    }
   ],
   "source": [
    "# first let's see what security groups exist, use any of these\n",
    "client.describe_db_security_groups()"
   ]
  },
  {
   "cell_type": "code",
   "execution_count": 16,
   "metadata": {
    "collapsed": false
   },
   "outputs": [
    {
     "data": {
      "text/plain": [
       "{'DBSubnetGroups': [{'DBSubnetGroupDescription': 'default',\n",
       "   'DBSubnetGroupName': 'default',\n",
       "   'SubnetGroupStatus': 'Complete',\n",
       "   'Subnets': [{'SubnetAvailabilityZone': {'Name': 'us-west-1c'},\n",
       "     'SubnetIdentifier': 'subnet-1d5ab444',\n",
       "     'SubnetStatus': 'Active'},\n",
       "    {'SubnetAvailabilityZone': {'Name': 'us-west-1a'},\n",
       "     'SubnetIdentifier': 'subnet-e9b1188c',\n",
       "     'SubnetStatus': 'Active'}],\n",
       "   'VpcId': 'vpc-bba470de'}],\n",
       " 'ResponseMetadata': {'HTTPStatusCode': 200,\n",
       "  'RequestId': '3e87b7ef-9cba-11e5-a05b-2be438d48f80'}}"
      ]
     },
     "execution_count": 16,
     "metadata": {},
     "output_type": "execute_result"
    }
   ],
   "source": [
    "client.describe_db_subnet_groups()"
   ]
  },
  {
   "cell_type": "code",
   "execution_count": 17,
   "metadata": {
    "collapsed": false
   },
   "outputs": [
    {
     "ename": "ClientError",
     "evalue": "An error occurred (DBSecurityGroupAlreadyExists) when calling the CreateDBSecurityGroup operation: A security group named cfs_data_group already exists",
     "output_type": "error",
     "traceback": [
      "\u001b[0;31m---------------------------------------------------------------------------\u001b[0m",
      "\u001b[0;31mClientError\u001b[0m                               Traceback (most recent call last)",
      "\u001b[0;32m<ipython-input-17-b7807dc8a4a1>\u001b[0m in \u001b[0;36m<module>\u001b[0;34m()\u001b[0m\n\u001b[1;32m      3\u001b[0m client.create_db_security_group(**{\n\u001b[1;32m      4\u001b[0m         \u001b[0;34m'DBSecurityGroupDescription'\u001b[0m\u001b[0;34m:\u001b[0m \u001b[0;34m'Security group for my dataset'\u001b[0m\u001b[0;34m,\u001b[0m\u001b[0;34m\u001b[0m\u001b[0m\n\u001b[0;32m----> 5\u001b[0;31m         \u001b[0;34m'DBSecurityGroupName'\u001b[0m\u001b[0;34m:\u001b[0m \u001b[0;34m'cfs_data_group'\u001b[0m\u001b[0;34m,\u001b[0m\u001b[0;34m\u001b[0m\u001b[0m\n\u001b[0m\u001b[1;32m      6\u001b[0m     })\n",
      "\u001b[0;32m/Users/Sohail/Virtualenvs/machineLearn/lib/python3.4/site-packages/botocore/client.py\u001b[0m in \u001b[0;36m_api_call\u001b[0;34m(self, *args, **kwargs)\u001b[0m\n\u001b[1;32m    308\u001b[0m                     \"%s() only accepts keyword arguments.\" % py_operation_name)\n\u001b[1;32m    309\u001b[0m             \u001b[0;31m# The \"self\" in this scope is referring to the BaseClient.\u001b[0m\u001b[0;34m\u001b[0m\u001b[0;34m\u001b[0m\u001b[0m\n\u001b[0;32m--> 310\u001b[0;31m             \u001b[0;32mreturn\u001b[0m \u001b[0mself\u001b[0m\u001b[0;34m.\u001b[0m\u001b[0m_make_api_call\u001b[0m\u001b[0;34m(\u001b[0m\u001b[0moperation_name\u001b[0m\u001b[0;34m,\u001b[0m \u001b[0mkwargs\u001b[0m\u001b[0;34m)\u001b[0m\u001b[0;34m\u001b[0m\u001b[0m\n\u001b[0m\u001b[1;32m    311\u001b[0m \u001b[0;34m\u001b[0m\u001b[0m\n\u001b[1;32m    312\u001b[0m         \u001b[0m_api_call\u001b[0m\u001b[0;34m.\u001b[0m\u001b[0m__name__\u001b[0m \u001b[0;34m=\u001b[0m \u001b[0mstr\u001b[0m\u001b[0;34m(\u001b[0m\u001b[0mpy_operation_name\u001b[0m\u001b[0;34m)\u001b[0m\u001b[0;34m\u001b[0m\u001b[0m\n",
      "\u001b[0;32m/Users/Sohail/Virtualenvs/machineLearn/lib/python3.4/site-packages/botocore/client.py\u001b[0m in \u001b[0;36m_make_api_call\u001b[0;34m(self, operation_name, api_params)\u001b[0m\n\u001b[1;32m    393\u001b[0m \u001b[0;34m\u001b[0m\u001b[0m\n\u001b[1;32m    394\u001b[0m         \u001b[0;32mif\u001b[0m \u001b[0mhttp\u001b[0m\u001b[0;34m.\u001b[0m\u001b[0mstatus_code\u001b[0m \u001b[0;34m>=\u001b[0m \u001b[0;36m300\u001b[0m\u001b[0;34m:\u001b[0m\u001b[0;34m\u001b[0m\u001b[0m\n\u001b[0;32m--> 395\u001b[0;31m             \u001b[0;32mraise\u001b[0m \u001b[0mClientError\u001b[0m\u001b[0;34m(\u001b[0m\u001b[0mparsed_response\u001b[0m\u001b[0;34m,\u001b[0m \u001b[0moperation_name\u001b[0m\u001b[0;34m)\u001b[0m\u001b[0;34m\u001b[0m\u001b[0m\n\u001b[0m\u001b[1;32m    396\u001b[0m         \u001b[0;32melse\u001b[0m\u001b[0;34m:\u001b[0m\u001b[0;34m\u001b[0m\u001b[0m\n\u001b[1;32m    397\u001b[0m             \u001b[0;32mreturn\u001b[0m \u001b[0mparsed_response\u001b[0m\u001b[0;34m\u001b[0m\u001b[0m\n",
      "\u001b[0;31mClientError\u001b[0m: An error occurred (DBSecurityGroupAlreadyExists) when calling the CreateDBSecurityGroup operation: A security group named cfs_data_group already exists"
     ]
    }
   ],
   "source": [
    "# let's make a specific one for this example using the create_db_security_group method of the rds client\n",
    "# the api is available here, http://docs.aws.amazon.com/AmazonRDS/latest/APIReference/API_CreateDBSecurityGroup.html\n",
    "client.create_db_security_group(**{\n",
    "        'DBSecurityGroupDescription': 'Security group for my dataset',\n",
    "        'DBSecurityGroupName': 'cfs_data_group',\n",
    "    })"
   ]
  },
  {
   "cell_type": "code",
   "execution_count": 18,
   "metadata": {
    "collapsed": true
   },
   "outputs": [],
   "source": [
    "# set the security groups list in the configuration\n",
    "db_configuration['DBSecurityGroups'] = ['cfs_data_group']"
   ]
  },
  {
   "cell_type": "code",
   "execution_count": 19,
   "metadata": {
    "collapsed": true
   },
   "outputs": [],
   "source": [
    "# set the availability zone\n",
    "db_configuration['AvailabilityZone'] = 'us-west-1c'"
   ]
  },
  {
   "cell_type": "code",
   "execution_count": 20,
   "metadata": {
    "collapsed": true
   },
   "outputs": [],
   "source": [
    "# mark the subnet group as default\n",
    "db_configuration['DBSubnetGroupName'] = 'default'"
   ]
  },
  {
   "cell_type": "code",
   "execution_count": 21,
   "metadata": {
    "collapsed": true
   },
   "outputs": [],
   "source": [
    "db_configuration['VpcSecurityGroupIds'] = ['vpc-bba470de']"
   ]
  },
  {
   "cell_type": "code",
   "execution_count": 22,
   "metadata": {
    "collapsed": true
   },
   "outputs": [],
   "source": [
    "# we need to provide a window in which to let aws do maintenance.\n",
    "# we'll just use monday from 06:00-14:00 \n",
    "db_configuration['PreferredMaintenanceWindow'] = 'Mon:06:00-Mon:10:00'"
   ]
  },
  {
   "cell_type": "code",
   "execution_count": 23,
   "metadata": {
    "collapsed": true
   },
   "outputs": [],
   "source": [
    "# We need to provide a limit to how long aws keeps our db backups, values are from 0 to 35\n",
    "db_configuration['BackupRetentionPeriod'] = 5"
   ]
  },
  {
   "cell_type": "code",
   "execution_count": 24,
   "metadata": {
    "collapsed": true
   },
   "outputs": [],
   "source": [
    "# provide the port number to connect to, postgres uses 5432\n",
    "db_configuration['Port'] = 5432"
   ]
  },
  {
   "cell_type": "code",
   "execution_count": 25,
   "metadata": {
    "collapsed": true
   },
   "outputs": [],
   "source": [
    "# tell it that we do not want multiaz deployment\n",
    "db_configuration['MultiAZ'] = False"
   ]
  },
  {
   "cell_type": "code",
   "execution_count": 26,
   "metadata": {
    "collapsed": true
   },
   "outputs": [],
   "source": [
    "    # give the license model for your instance, we're using postgresql-license\n",
    "db_configuration['LicenseModel'] = 'postgresql-license'"
   ]
  },
  {
   "cell_type": "code",
   "execution_count": 27,
   "metadata": {
    "collapsed": true
   },
   "outputs": [],
   "source": [
    "# indicate that we will publicly access the data\n",
    "db_configuration['PubliclyAccessible'] = True\n"
   ]
  },
  {
   "cell_type": "code",
   "execution_count": 28,
   "metadata": {
    "collapsed": true
   },
   "outputs": [],
   "source": [
    "# indicate the storage type, use standard\n",
    "db_configuration['StorageType'] = 'standard'"
   ]
  },
  {
   "cell_type": "code",
   "execution_count": 29,
   "metadata": {
    "collapsed": true
   },
   "outputs": [],
   "source": [
    "# we do not want to encrypt the storage\n",
    "db_configuration['StorageEncrypted'] = False"
   ]
  },
  {
   "cell_type": "code",
   "execution_count": 30,
   "metadata": {
    "collapsed": false
   },
   "outputs": [
    {
     "data": {
      "text/plain": [
       "{'AllocatedStorage': 5,\n",
       " 'AvailabilityZone': 'us-west-1c',\n",
       " 'BackupRetentionPeriod': 5,\n",
       " 'DBInstanceClass': 'db.t2.micro',\n",
       " 'DBInstanceIdentifier': 'cfsdb',\n",
       " 'DBName': 'cfsdb',\n",
       " 'DBSecurityGroups': ['cfs_data_group'],\n",
       " 'DBSubnetGroupName': 'default',\n",
       " 'Engine': 'postgres',\n",
       " 'EngineVersion': '9.4.1',\n",
       " 'LicenseModel': 'postgresql-license',\n",
       " 'MasterUserPassword': 'TestPassword',\n",
       " 'MasterUsername': 'TestUser',\n",
       " 'MultiAZ': False,\n",
       " 'Port': 5432,\n",
       " 'PreferredMaintenanceWindow': 'Mon:06:00-Mon:10:00',\n",
       " 'PubliclyAccessible': True,\n",
       " 'StorageEncrypted': False,\n",
       " 'StorageType': 'standard',\n",
       " 'VpcSecurityGroupIds': ['vpc-bba470de']}"
      ]
     },
     "execution_count": 30,
     "metadata": {},
     "output_type": "execute_result"
    }
   ],
   "source": [
    "db_configuration"
   ]
  },
  {
   "cell_type": "markdown",
   "metadata": {},
   "source": [
    "Create the client"
   ]
  },
  {
   "cell_type": "code",
   "execution_count": 31,
   "metadata": {
    "collapsed": false
   },
   "outputs": [
    {
     "ename": "ClientError",
     "evalue": "An error occurred (InvalidParameterCombination) when calling the CreateDBInstance operation: DB Security Groups and Vpc Security Groups cannot both be provided.",
     "output_type": "error",
     "traceback": [
      "\u001b[0;31m---------------------------------------------------------------------------\u001b[0m",
      "\u001b[0;31mClientError\u001b[0m                               Traceback (most recent call last)",
      "\u001b[0;32m<ipython-input-31-44bc8da3d9c2>\u001b[0m in \u001b[0;36m<module>\u001b[0;34m()\u001b[0m\n\u001b[0;32m----> 1\u001b[0;31m \u001b[0mcreated_db\u001b[0m \u001b[0;34m=\u001b[0m \u001b[0mclient\u001b[0m\u001b[0;34m.\u001b[0m\u001b[0mcreate_db_instance\u001b[0m\u001b[0;34m(\u001b[0m\u001b[0;34m**\u001b[0m\u001b[0mdb_configuration\u001b[0m\u001b[0;34m)\u001b[0m\u001b[0;34m\u001b[0m\u001b[0m\n\u001b[0m",
      "\u001b[0;32m/Users/Sohail/Virtualenvs/machineLearn/lib/python3.4/site-packages/botocore/client.py\u001b[0m in \u001b[0;36m_api_call\u001b[0;34m(self, *args, **kwargs)\u001b[0m\n\u001b[1;32m    308\u001b[0m                     \"%s() only accepts keyword arguments.\" % py_operation_name)\n\u001b[1;32m    309\u001b[0m             \u001b[0;31m# The \"self\" in this scope is referring to the BaseClient.\u001b[0m\u001b[0;34m\u001b[0m\u001b[0;34m\u001b[0m\u001b[0m\n\u001b[0;32m--> 310\u001b[0;31m             \u001b[0;32mreturn\u001b[0m \u001b[0mself\u001b[0m\u001b[0;34m.\u001b[0m\u001b[0m_make_api_call\u001b[0m\u001b[0;34m(\u001b[0m\u001b[0moperation_name\u001b[0m\u001b[0;34m,\u001b[0m \u001b[0mkwargs\u001b[0m\u001b[0;34m)\u001b[0m\u001b[0;34m\u001b[0m\u001b[0m\n\u001b[0m\u001b[1;32m    311\u001b[0m \u001b[0;34m\u001b[0m\u001b[0m\n\u001b[1;32m    312\u001b[0m         \u001b[0m_api_call\u001b[0m\u001b[0;34m.\u001b[0m\u001b[0m__name__\u001b[0m \u001b[0;34m=\u001b[0m \u001b[0mstr\u001b[0m\u001b[0;34m(\u001b[0m\u001b[0mpy_operation_name\u001b[0m\u001b[0;34m)\u001b[0m\u001b[0;34m\u001b[0m\u001b[0m\n",
      "\u001b[0;32m/Users/Sohail/Virtualenvs/machineLearn/lib/python3.4/site-packages/botocore/client.py\u001b[0m in \u001b[0;36m_make_api_call\u001b[0;34m(self, operation_name, api_params)\u001b[0m\n\u001b[1;32m    393\u001b[0m \u001b[0;34m\u001b[0m\u001b[0m\n\u001b[1;32m    394\u001b[0m         \u001b[0;32mif\u001b[0m \u001b[0mhttp\u001b[0m\u001b[0;34m.\u001b[0m\u001b[0mstatus_code\u001b[0m \u001b[0;34m>=\u001b[0m \u001b[0;36m300\u001b[0m\u001b[0;34m:\u001b[0m\u001b[0;34m\u001b[0m\u001b[0m\n\u001b[0;32m--> 395\u001b[0;31m             \u001b[0;32mraise\u001b[0m \u001b[0mClientError\u001b[0m\u001b[0;34m(\u001b[0m\u001b[0mparsed_response\u001b[0m\u001b[0;34m,\u001b[0m \u001b[0moperation_name\u001b[0m\u001b[0;34m)\u001b[0m\u001b[0;34m\u001b[0m\u001b[0m\n\u001b[0m\u001b[1;32m    396\u001b[0m         \u001b[0;32melse\u001b[0m\u001b[0;34m:\u001b[0m\u001b[0;34m\u001b[0m\u001b[0m\n\u001b[1;32m    397\u001b[0m             \u001b[0;32mreturn\u001b[0m \u001b[0mparsed_response\u001b[0m\u001b[0;34m\u001b[0m\u001b[0m\n",
      "\u001b[0;31mClientError\u001b[0m: An error occurred (InvalidParameterCombination) when calling the CreateDBInstance operation: DB Security Groups and Vpc Security Groups cannot both be provided."
     ]
    }
   ],
   "source": [
    "created_db = client.create_db_instance(**db_configuration)"
   ]
  },
  {
   "cell_type": "markdown",
   "metadata": {},
   "source": [
    "Need to delete the vpcsecuritygroupids then."
   ]
  },
  {
   "cell_type": "code",
   "execution_count": 34,
   "metadata": {
    "collapsed": false
   },
   "outputs": [],
   "source": [
    "del db_configuration['DBSecurityGroups']"
   ]
  },
  {
   "cell_type": "code",
   "execution_count": 35,
   "metadata": {
    "collapsed": false
   },
   "outputs": [],
   "source": [
    "created_db = client.create_db_instance(**db_configuration)"
   ]
  },
  {
   "cell_type": "code",
   "execution_count": 54,
   "metadata": {
    "collapsed": false
   },
   "outputs": [],
   "source": [
    "add, port = client.describe_db_instances()['DBInstances'][0].get('Endpoint').values()"
   ]
  },
  {
   "cell_type": "code",
   "execution_count": 55,
   "metadata": {
    "collapsed": false
   },
   "outputs": [
    {
     "data": {
      "text/plain": [
       "(5432, 'cfsdb.cs4yyoqmq4gl.us-west-1.rds.amazonaws.com')"
      ]
     },
     "execution_count": 55,
     "metadata": {},
     "output_type": "execute_result"
    }
   ],
   "source": [
    "port, add"
   ]
  },
  {
   "cell_type": "markdown",
   "metadata": {},
   "source": [
    "## Using sqlalchemy"
   ]
  },
  {
   "cell_type": "code",
   "execution_count": 65,
   "metadata": {
    "collapsed": false
   },
   "outputs": [],
   "source": [
    "# creating engine\n",
    "\n",
    "engine = create_engine('postgresql+psycopg2://{username}:{password}@{add}:{port}/{db_name}'.format(\n",
    "    username=db_configuration['MasterUsername'],\n",
    "    password=db_configuration['MasterUserPassword'],\n",
    "    add=add,\n",
    "    port=port,\n",
    "    db_name=db_configuration['DBName']), echo=True)"
   ]
  },
  {
   "cell_type": "code",
   "execution_count": 66,
   "metadata": {
    "collapsed": false
   },
   "outputs": [
    {
     "data": {
      "text/plain": [
       "'cfsdb'"
      ]
     },
     "execution_count": 66,
     "metadata": {},
     "output_type": "execute_result"
    }
   ],
   "source": [
    "db_configuration['DBName']"
   ]
  },
  {
   "cell_type": "code",
   "execution_count": 67,
   "metadata": {
    "collapsed": true
   },
   "outputs": [],
   "source": [
    "# import sqlalchemy api\n",
    "from sqlalchemy import Table, Column, Integer, String, MetaData, ForeignKey\n"
   ]
  },
  {
   "cell_type": "code",
   "execution_count": 68,
   "metadata": {
    "collapsed": false,
    "scrolled": true
   },
   "outputs": [
    {
     "name": "stdout",
     "output_type": "stream",
     "text": [
      "2015-12-07 01:01:40,987 INFO sqlalchemy.engine.base.Engine select version()\n"
     ]
    },
    {
     "name": "stderr",
     "output_type": "stream",
     "text": [
      "INFO:sqlalchemy.engine.base.Engine:select version()\n"
     ]
    },
    {
     "name": "stdout",
     "output_type": "stream",
     "text": [
      "2015-12-07 01:01:40,988 INFO sqlalchemy.engine.base.Engine {}\n"
     ]
    },
    {
     "name": "stderr",
     "output_type": "stream",
     "text": [
      "INFO:sqlalchemy.engine.base.Engine:{}\n"
     ]
    },
    {
     "name": "stdout",
     "output_type": "stream",
     "text": [
      "2015-12-07 01:01:41,044 INFO sqlalchemy.engine.base.Engine select current_schema()\n"
     ]
    },
    {
     "name": "stderr",
     "output_type": "stream",
     "text": [
      "INFO:sqlalchemy.engine.base.Engine:select current_schema()\n"
     ]
    },
    {
     "name": "stdout",
     "output_type": "stream",
     "text": [
      "2015-12-07 01:01:41,045 INFO sqlalchemy.engine.base.Engine {}\n"
     ]
    },
    {
     "name": "stderr",
     "output_type": "stream",
     "text": [
      "INFO:sqlalchemy.engine.base.Engine:{}\n"
     ]
    },
    {
     "name": "stdout",
     "output_type": "stream",
     "text": [
      "2015-12-07 01:01:41,097 INFO sqlalchemy.engine.base.Engine SELECT CAST('test plain returns' AS VARCHAR(60)) AS anon_1\n"
     ]
    },
    {
     "name": "stderr",
     "output_type": "stream",
     "text": [
      "INFO:sqlalchemy.engine.base.Engine:SELECT CAST('test plain returns' AS VARCHAR(60)) AS anon_1\n"
     ]
    },
    {
     "name": "stdout",
     "output_type": "stream",
     "text": [
      "2015-12-07 01:01:41,098 INFO sqlalchemy.engine.base.Engine {}\n"
     ]
    },
    {
     "name": "stderr",
     "output_type": "stream",
     "text": [
      "INFO:sqlalchemy.engine.base.Engine:{}\n"
     ]
    },
    {
     "name": "stdout",
     "output_type": "stream",
     "text": [
      "2015-12-07 01:01:41,130 INFO sqlalchemy.engine.base.Engine SELECT CAST('test unicode returns' AS VARCHAR(60)) AS anon_1\n"
     ]
    },
    {
     "name": "stderr",
     "output_type": "stream",
     "text": [
      "INFO:sqlalchemy.engine.base.Engine:SELECT CAST('test unicode returns' AS VARCHAR(60)) AS anon_1\n"
     ]
    },
    {
     "name": "stdout",
     "output_type": "stream",
     "text": [
      "2015-12-07 01:01:41,131 INFO sqlalchemy.engine.base.Engine {}\n"
     ]
    },
    {
     "name": "stderr",
     "output_type": "stream",
     "text": [
      "INFO:sqlalchemy.engine.base.Engine:{}\n"
     ]
    },
    {
     "name": "stdout",
     "output_type": "stream",
     "text": [
      "2015-12-07 01:01:41,185 INFO sqlalchemy.engine.base.Engine show standard_conforming_strings\n"
     ]
    },
    {
     "name": "stderr",
     "output_type": "stream",
     "text": [
      "INFO:sqlalchemy.engine.base.Engine:show standard_conforming_strings\n"
     ]
    },
    {
     "name": "stdout",
     "output_type": "stream",
     "text": [
      "2015-12-07 01:01:41,186 INFO sqlalchemy.engine.base.Engine {}\n"
     ]
    },
    {
     "name": "stderr",
     "output_type": "stream",
     "text": [
      "INFO:sqlalchemy.engine.base.Engine:{}\n"
     ]
    }
   ],
   "source": [
    "con = engine.connect()"
   ]
  },
  {
   "cell_type": "code",
   "execution_count": 70,
   "metadata": {
    "collapsed": false
   },
   "outputs": [
    {
     "name": "stdout",
     "output_type": "stream",
     "text": [
      "2015-12-07 01:02:15,245 INFO sqlalchemy.engine.base.Engine select relname from pg_class c join pg_namespace n on n.oid=c.relnamespace where pg_catalog.pg_table_is_visible(c.oid) and relname=%(name)s\n"
     ]
    },
    {
     "name": "stderr",
     "output_type": "stream",
     "text": [
      "INFO:sqlalchemy.engine.base.Engine:select relname from pg_class c join pg_namespace n on n.oid=c.relnamespace where pg_catalog.pg_table_is_visible(c.oid) and relname=%(name)s\n"
     ]
    },
    {
     "name": "stdout",
     "output_type": "stream",
     "text": [
      "2015-12-07 01:02:15,246 INFO sqlalchemy.engine.base.Engine {'name': 'transport_mode'}\n"
     ]
    },
    {
     "name": "stderr",
     "output_type": "stream",
     "text": [
      "INFO:sqlalchemy.engine.base.Engine:{'name': 'transport_mode'}\n"
     ]
    },
    {
     "name": "stdout",
     "output_type": "stream",
     "text": [
      "2015-12-07 01:02:15,315 INFO sqlalchemy.engine.base.Engine \n",
      "CREATE TABLE transport_mode (\n",
      "\t\"Mode Code\" BIGINT, \n",
      "\t\"Mode Description\" TEXT\n",
      ")\n",
      "\n",
      "\n"
     ]
    },
    {
     "name": "stderr",
     "output_type": "stream",
     "text": [
      "INFO:sqlalchemy.engine.base.Engine:\n",
      "CREATE TABLE transport_mode (\n",
      "\t\"Mode Code\" BIGINT, \n",
      "\t\"Mode Description\" TEXT\n",
      ")\n",
      "\n",
      "\n"
     ]
    },
    {
     "name": "stdout",
     "output_type": "stream",
     "text": [
      "2015-12-07 01:02:15,316 INFO sqlalchemy.engine.base.Engine {}\n"
     ]
    },
    {
     "name": "stderr",
     "output_type": "stream",
     "text": [
      "INFO:sqlalchemy.engine.base.Engine:{}\n"
     ]
    },
    {
     "name": "stdout",
     "output_type": "stream",
     "text": [
      "2015-12-07 01:02:15,373 INFO sqlalchemy.engine.base.Engine COMMIT\n"
     ]
    },
    {
     "name": "stderr",
     "output_type": "stream",
     "text": [
      "INFO:sqlalchemy.engine.base.Engine:COMMIT\n"
     ]
    },
    {
     "name": "stdout",
     "output_type": "stream",
     "text": [
      "2015-12-07 01:02:15,401 INFO sqlalchemy.engine.base.Engine BEGIN (implicit)\n"
     ]
    },
    {
     "name": "stderr",
     "output_type": "stream",
     "text": [
      "INFO:sqlalchemy.engine.base.Engine:BEGIN (implicit)\n"
     ]
    },
    {
     "name": "stdout",
     "output_type": "stream",
     "text": [
      "2015-12-07 01:02:15,403 INFO sqlalchemy.engine.base.Engine INSERT INTO transport_mode (\"Mode Code\", \"Mode Description\") VALUES (%(Mode Code)s, %(Mode Description)s)\n"
     ]
    },
    {
     "name": "stderr",
     "output_type": "stream",
     "text": [
      "INFO:sqlalchemy.engine.base.Engine:INSERT INTO transport_mode (\"Mode Code\", \"Mode Description\") VALUES (%(Mode Code)s, %(Mode Description)s)\n"
     ]
    },
    {
     "name": "stdout",
     "output_type": "stream",
     "text": [
      "2015-12-07 01:02:15,405 INFO sqlalchemy.engine.base.Engine ({'Mode Description': 'Single mode', 'Mode Code': 2}, {'Mode Description': 'Truck', 'Mode Code': 3}, {'Mode Description': 'For-hire truck', 'Mode Code': 4}, {'Mode Description': 'Private truck', 'Mode Code': 5}, {'Mode Description': 'Rail', 'Mode Code': 6}, {'Mode Description': 'Water', 'Mode Code': 7}, {'Mode Description': 'Inland Water', 'Mode Code': 8}, {'Mode Description': 'Great Lakes', 'Mode Code': 9}  ... displaying 10 of 21 total bound parameter sets ...  {'Mode Description': 'Other mode', 'Mode Code': 19}, {'Mode Description': 'Mode suppressed', 'Mode Code': 0})\n"
     ]
    },
    {
     "name": "stderr",
     "output_type": "stream",
     "text": [
      "INFO:sqlalchemy.engine.base.Engine:({'Mode Description': 'Single mode', 'Mode Code': 2}, {'Mode Description': 'Truck', 'Mode Code': 3}, {'Mode Description': 'For-hire truck', 'Mode Code': 4}, {'Mode Description': 'Private truck', 'Mode Code': 5}, {'Mode Description': 'Rail', 'Mode Code': 6}, {'Mode Description': 'Water', 'Mode Code': 7}, {'Mode Description': 'Inland Water', 'Mode Code': 8}, {'Mode Description': 'Great Lakes', 'Mode Code': 9}  ... displaying 10 of 21 total bound parameter sets ...  {'Mode Description': 'Other mode', 'Mode Code': 19}, {'Mode Description': 'Mode suppressed', 'Mode Code': 0})\n"
     ]
    },
    {
     "name": "stdout",
     "output_type": "stream",
     "text": [
      "2015-12-07 01:02:15,917 INFO sqlalchemy.engine.base.Engine COMMIT\n"
     ]
    },
    {
     "name": "stderr",
     "output_type": "stream",
     "text": [
      "INFO:sqlalchemy.engine.base.Engine:COMMIT\n"
     ]
    },
    {
     "name": "stdout",
     "output_type": "stream",
     "text": [
      "2015-12-07 01:02:15,937 INFO sqlalchemy.engine.base.Engine SELECT relname FROM pg_class c WHERE relkind = 'r' AND 'public' = (select nspname from pg_namespace n where n.oid = c.relnamespace) \n"
     ]
    },
    {
     "name": "stderr",
     "output_type": "stream",
     "text": [
      "INFO:sqlalchemy.engine.base.Engine:SELECT relname FROM pg_class c WHERE relkind = 'r' AND 'public' = (select nspname from pg_namespace n where n.oid = c.relnamespace) \n"
     ]
    },
    {
     "name": "stdout",
     "output_type": "stream",
     "text": [
      "2015-12-07 01:02:15,938 INFO sqlalchemy.engine.base.Engine {}\n"
     ]
    },
    {
     "name": "stderr",
     "output_type": "stream",
     "text": [
      "INFO:sqlalchemy.engine.base.Engine:{}\n"
     ]
    }
   ],
   "source": [
    "# load data into pandas and then into sqlalchemy connection\n",
    "transport_df = pd.read_csv(\"./csv/transport_mode.csv\")\n",
    "transport_df.to_sql('transport_mode', con=engine, if_exists='replace', index=False)"
   ]
  },
  {
   "cell_type": "code",
   "execution_count": 71,
   "metadata": {
    "collapsed": false
   },
   "outputs": [
    {
     "name": "stdout",
     "output_type": "stream",
     "text": [
      "2015-12-07 01:02:21,766 INFO sqlalchemy.engine.base.Engine SELECT \"Mode Description\" FROM transport_mode\n"
     ]
    },
    {
     "name": "stderr",
     "output_type": "stream",
     "text": [
      "INFO:sqlalchemy.engine.base.Engine:SELECT \"Mode Description\" FROM transport_mode\n"
     ]
    },
    {
     "name": "stdout",
     "output_type": "stream",
     "text": [
      "2015-12-07 01:02:21,768 INFO sqlalchemy.engine.base.Engine {}\n"
     ]
    },
    {
     "name": "stderr",
     "output_type": "stream",
     "text": [
      "INFO:sqlalchemy.engine.base.Engine:{}\n"
     ]
    },
    {
     "data": {
      "text/plain": [
       "[('Single mode',),\n",
       " ('Truck',),\n",
       " ('For-hire truck',),\n",
       " ('Private truck',),\n",
       " ('Rail',),\n",
       " ('Water',),\n",
       " ('Inland Water',),\n",
       " ('Great Lakes',),\n",
       " ('Deep Sea',),\n",
       " ('Multiple Waterways',),\n",
       " ('Air (incl truck & air)',),\n",
       " ('Pipeline',),\n",
       " ('Multiple mode',),\n",
       " ('Parcel, USPS, or courier',),\n",
       " ('Non-parcel multimode',),\n",
       " ('Truck and rail',),\n",
       " ('Truck and water',),\n",
       " ('Rail and water',),\n",
       " ('Other multiple mode',),\n",
       " ('Other mode',),\n",
       " ('Mode suppressed',)]"
      ]
     },
     "execution_count": 71,
     "metadata": {},
     "output_type": "execute_result"
    }
   ],
   "source": [
    "con.execute('SELECT \"Mode Description\" FROM transport_mode').fetchall()"
   ]
  },
  {
   "cell_type": "code",
   "execution_count": null,
   "metadata": {
    "collapsed": true
   },
   "outputs": [],
   "source": []
  },
  {
   "cell_type": "code",
   "execution_count": 74,
   "metadata": {
    "collapsed": false
   },
   "outputs": [
    {
     "data": {
      "text/plain": [
       "'FIPS_States'"
      ]
     },
     "execution_count": 74,
     "metadata": {},
     "output_type": "execute_result"
    }
   ],
   "source": [
    "# read in all our files using the conversion pd-->sql\n",
    "get_db_name = lambda f: f.split('.')[-2].split('/')[-1].strip('/')\n",
    "get_db_name('./csv/FIPS_States.csv')"
   ]
  },
  {
   "cell_type": "code",
   "execution_count": 75,
   "metadata": {
    "collapsed": false,
    "scrolled": false
   },
   "outputs": [
    {
     "name": "stdout",
     "output_type": "stream",
     "text": [
      "2015-12-07 01:03:57,951 INFO sqlalchemy.engine.base.Engine select relname from pg_class c join pg_namespace n on n.oid=c.relnamespace where pg_catalog.pg_table_is_visible(c.oid) and relname=%(name)s\n"
     ]
    },
    {
     "name": "stderr",
     "output_type": "stream",
     "text": [
      "INFO:sqlalchemy.engine.base.Engine:select relname from pg_class c join pg_namespace n on n.oid=c.relnamespace where pg_catalog.pg_table_is_visible(c.oid) and relname=%(name)s\n"
     ]
    },
    {
     "name": "stdout",
     "output_type": "stream",
     "text": [
      "2015-12-07 01:03:57,953 INFO sqlalchemy.engine.base.Engine {'name': 'state_latlon'}\n"
     ]
    },
    {
     "name": "stderr",
     "output_type": "stream",
     "text": [
      "INFO:sqlalchemy.engine.base.Engine:{'name': 'state_latlon'}\n"
     ]
    },
    {
     "name": "stdout",
     "output_type": "stream",
     "text": [
      "2015-12-07 01:03:58,022 INFO sqlalchemy.engine.base.Engine \n",
      "CREATE TABLE state_latlon (\n",
      "\tstate TEXT, \n",
      "\tlatitude FLOAT(53), \n",
      "\tlongitude FLOAT(53)\n",
      ")\n",
      "\n",
      "\n"
     ]
    },
    {
     "name": "stderr",
     "output_type": "stream",
     "text": [
      "INFO:sqlalchemy.engine.base.Engine:\n",
      "CREATE TABLE state_latlon (\n",
      "\tstate TEXT, \n",
      "\tlatitude FLOAT(53), \n",
      "\tlongitude FLOAT(53)\n",
      ")\n",
      "\n",
      "\n"
     ]
    },
    {
     "name": "stdout",
     "output_type": "stream",
     "text": [
      "2015-12-07 01:03:58,023 INFO sqlalchemy.engine.base.Engine {}\n"
     ]
    },
    {
     "name": "stderr",
     "output_type": "stream",
     "text": [
      "INFO:sqlalchemy.engine.base.Engine:{}\n"
     ]
    },
    {
     "name": "stdout",
     "output_type": "stream",
     "text": [
      "2015-12-07 01:03:58,072 INFO sqlalchemy.engine.base.Engine COMMIT\n"
     ]
    },
    {
     "name": "stderr",
     "output_type": "stream",
     "text": [
      "INFO:sqlalchemy.engine.base.Engine:COMMIT\n"
     ]
    },
    {
     "name": "stdout",
     "output_type": "stream",
     "text": [
      "2015-12-07 01:03:58,098 INFO sqlalchemy.engine.base.Engine BEGIN (implicit)\n"
     ]
    },
    {
     "name": "stderr",
     "output_type": "stream",
     "text": [
      "INFO:sqlalchemy.engine.base.Engine:BEGIN (implicit)\n"
     ]
    },
    {
     "name": "stdout",
     "output_type": "stream",
     "text": [
      "2015-12-07 01:03:58,100 INFO sqlalchemy.engine.base.Engine INSERT INTO state_latlon (state, latitude, longitude) VALUES (%(state)s, %(latitude)s, %(longitude)s)\n"
     ]
    },
    {
     "name": "stderr",
     "output_type": "stream",
     "text": [
      "INFO:sqlalchemy.engine.base.Engine:INSERT INTO state_latlon (state, latitude, longitude) VALUES (%(state)s, %(latitude)s, %(longitude)s)\n"
     ]
    },
    {
     "name": "stdout",
     "output_type": "stream",
     "text": [
      "2015-12-07 01:03:58,102 INFO sqlalchemy.engine.base.Engine ({'state': 'AK', 'latitude': 61.385, 'longitude': -152.2683}, {'state': 'AL', 'latitude': 32.799, 'longitude': -86.8073}, {'state': 'AR', 'latitude': 34.9513, 'longitude': -92.3809}, {'state': 'AS', 'latitude': 14.2417, 'longitude': -170.7197}, {'state': 'AZ', 'latitude': 33.7712, 'longitude': -111.3877}, {'state': 'CA', 'latitude': 36.17, 'longitude': -119.7462}, {'state': 'CO', 'latitude': 39.0646, 'longitude': -105.3272}, {'state': 'CT', 'latitude': 41.5834, 'longitude': -72.7622}  ... displaying 10 of 55 total bound parameter sets ...  {'state': 'WV', 'latitude': 38.468, 'longitude': -80.9696}, {'state': 'WY', 'latitude': 42.7475, 'longitude': -107.2085})\n"
     ]
    },
    {
     "name": "stderr",
     "output_type": "stream",
     "text": [
      "INFO:sqlalchemy.engine.base.Engine:({'state': 'AK', 'latitude': 61.385, 'longitude': -152.2683}, {'state': 'AL', 'latitude': 32.799, 'longitude': -86.8073}, {'state': 'AR', 'latitude': 34.9513, 'longitude': -92.3809}, {'state': 'AS', 'latitude': 14.2417, 'longitude': -170.7197}, {'state': 'AZ', 'latitude': 33.7712, 'longitude': -111.3877}, {'state': 'CA', 'latitude': 36.17, 'longitude': -119.7462}, {'state': 'CO', 'latitude': 39.0646, 'longitude': -105.3272}, {'state': 'CT', 'latitude': 41.5834, 'longitude': -72.7622}  ... displaying 10 of 55 total bound parameter sets ...  {'state': 'WV', 'latitude': 38.468, 'longitude': -80.9696}, {'state': 'WY', 'latitude': 42.7475, 'longitude': -107.2085})\n"
     ]
    },
    {
     "name": "stdout",
     "output_type": "stream",
     "text": [
      "2015-12-07 01:03:59,341 INFO sqlalchemy.engine.base.Engine COMMIT\n"
     ]
    },
    {
     "name": "stderr",
     "output_type": "stream",
     "text": [
      "INFO:sqlalchemy.engine.base.Engine:COMMIT\n"
     ]
    },
    {
     "name": "stdout",
     "output_type": "stream",
     "text": [
      "2015-12-07 01:03:59,372 INFO sqlalchemy.engine.base.Engine SELECT relname FROM pg_class c WHERE relkind = 'r' AND 'public' = (select nspname from pg_namespace n where n.oid = c.relnamespace) \n"
     ]
    },
    {
     "name": "stderr",
     "output_type": "stream",
     "text": [
      "INFO:sqlalchemy.engine.base.Engine:SELECT relname FROM pg_class c WHERE relkind = 'r' AND 'public' = (select nspname from pg_namespace n where n.oid = c.relnamespace) \n"
     ]
    },
    {
     "name": "stdout",
     "output_type": "stream",
     "text": [
      "2015-12-07 01:03:59,373 INFO sqlalchemy.engine.base.Engine {}\n"
     ]
    },
    {
     "name": "stderr",
     "output_type": "stream",
     "text": [
      "INFO:sqlalchemy.engine.base.Engine:{}\n"
     ]
    },
    {
     "name": "stdout",
     "output_type": "stream",
     "text": [
      "2015-12-07 01:03:59,452 INFO sqlalchemy.engine.base.Engine select relname from pg_class c join pg_namespace n on n.oid=c.relnamespace where pg_catalog.pg_table_is_visible(c.oid) and relname=%(name)s\n"
     ]
    },
    {
     "name": "stderr",
     "output_type": "stream",
     "text": [
      "INFO:sqlalchemy.engine.base.Engine:select relname from pg_class c join pg_namespace n on n.oid=c.relnamespace where pg_catalog.pg_table_is_visible(c.oid) and relname=%(name)s\n"
     ]
    },
    {
     "name": "stdout",
     "output_type": "stream",
     "text": [
      "2015-12-07 01:03:59,453 INFO sqlalchemy.engine.base.Engine {'name': 'sctg'}\n"
     ]
    },
    {
     "name": "stderr",
     "output_type": "stream",
     "text": [
      "INFO:sqlalchemy.engine.base.Engine:{'name': 'sctg'}\n"
     ]
    },
    {
     "name": "stdout",
     "output_type": "stream",
     "text": [
      "2015-12-07 01:03:59,520 INFO sqlalchemy.engine.base.Engine \n",
      "CREATE TABLE sctg (\n",
      "\t\"SCTG\" BIGINT, \n",
      "\t\"Description\" TEXT\n",
      ")\n",
      "\n",
      "\n"
     ]
    },
    {
     "name": "stderr",
     "output_type": "stream",
     "text": [
      "INFO:sqlalchemy.engine.base.Engine:\n",
      "CREATE TABLE sctg (\n",
      "\t\"SCTG\" BIGINT, \n",
      "\t\"Description\" TEXT\n",
      ")\n",
      "\n",
      "\n"
     ]
    },
    {
     "name": "stdout",
     "output_type": "stream",
     "text": [
      "2015-12-07 01:03:59,521 INFO sqlalchemy.engine.base.Engine {}\n"
     ]
    },
    {
     "name": "stderr",
     "output_type": "stream",
     "text": [
      "INFO:sqlalchemy.engine.base.Engine:{}\n"
     ]
    },
    {
     "name": "stdout",
     "output_type": "stream",
     "text": [
      "2015-12-07 01:03:59,572 INFO sqlalchemy.engine.base.Engine COMMIT\n"
     ]
    },
    {
     "name": "stderr",
     "output_type": "stream",
     "text": [
      "INFO:sqlalchemy.engine.base.Engine:COMMIT\n"
     ]
    },
    {
     "name": "stdout",
     "output_type": "stream",
     "text": [
      "2015-12-07 01:03:59,601 INFO sqlalchemy.engine.base.Engine BEGIN (implicit)\n"
     ]
    },
    {
     "name": "stderr",
     "output_type": "stream",
     "text": [
      "INFO:sqlalchemy.engine.base.Engine:BEGIN (implicit)\n"
     ]
    },
    {
     "name": "stdout",
     "output_type": "stream",
     "text": [
      "2015-12-07 01:03:59,603 INFO sqlalchemy.engine.base.Engine INSERT INTO sctg (\"SCTG\", \"Description\") VALUES (%(SCTG)s, %(Description)s)\n"
     ]
    },
    {
     "name": "stderr",
     "output_type": "stream",
     "text": [
      "INFO:sqlalchemy.engine.base.Engine:INSERT INTO sctg (\"SCTG\", \"Description\") VALUES (%(SCTG)s, %(Description)s)\n"
     ]
    },
    {
     "name": "stdout",
     "output_type": "stream",
     "text": [
      "2015-12-07 01:03:59,605 INFO sqlalchemy.engine.base.Engine ({'SCTG': 1, 'Description': 'Animals and Fish (live)'}, {'SCTG': 2, 'Description': 'Cereal Grains (includes seed)'}, {'SCTG': 3, 'Description': 'Agricultural Products (excludes Animal Feed, Cereal Grains, and Forage Products)'}, {'SCTG': 4, 'Description': 'Animal Feed, Eggs, Honey, and Other Products of Animal Origin'}, {'SCTG': 5, 'Description': 'Meat, Poultry, Fish, Seafood, and Their Preparations'}, {'SCTG': 6, 'Description': 'Milled Grain Products and Preparations, and Bakery Products'}, {'SCTG': 7, 'Description': 'Other Prepared Foodstuffs, and Fats and Oils'}, {'SCTG': 8, 'Description': 'Alcoholic Beverages and Denatured Alcohol'}  ... displaying 10 of 44 total bound parameter sets ...  {'SCTG': 99, 'Description': 'Missing Code'}, {'SCTG': 0, 'Description': 'SCTG suppressed'})\n"
     ]
    },
    {
     "name": "stderr",
     "output_type": "stream",
     "text": [
      "INFO:sqlalchemy.engine.base.Engine:({'SCTG': 1, 'Description': 'Animals and Fish (live)'}, {'SCTG': 2, 'Description': 'Cereal Grains (includes seed)'}, {'SCTG': 3, 'Description': 'Agricultural Products (excludes Animal Feed, Cereal Grains, and Forage Products)'}, {'SCTG': 4, 'Description': 'Animal Feed, Eggs, Honey, and Other Products of Animal Origin'}, {'SCTG': 5, 'Description': 'Meat, Poultry, Fish, Seafood, and Their Preparations'}, {'SCTG': 6, 'Description': 'Milled Grain Products and Preparations, and Bakery Products'}, {'SCTG': 7, 'Description': 'Other Prepared Foodstuffs, and Fats and Oils'}, {'SCTG': 8, 'Description': 'Alcoholic Beverages and Denatured Alcohol'}  ... displaying 10 of 44 total bound parameter sets ...  {'SCTG': 99, 'Description': 'Missing Code'}, {'SCTG': 0, 'Description': 'SCTG suppressed'})\n"
     ]
    },
    {
     "name": "stdout",
     "output_type": "stream",
     "text": [
      "2015-12-07 01:04:00,644 INFO sqlalchemy.engine.base.Engine COMMIT\n"
     ]
    },
    {
     "name": "stderr",
     "output_type": "stream",
     "text": [
      "INFO:sqlalchemy.engine.base.Engine:COMMIT\n"
     ]
    },
    {
     "name": "stdout",
     "output_type": "stream",
     "text": [
      "2015-12-07 01:04:00,668 INFO sqlalchemy.engine.base.Engine SELECT relname FROM pg_class c WHERE relkind = 'r' AND 'public' = (select nspname from pg_namespace n where n.oid = c.relnamespace) \n"
     ]
    },
    {
     "name": "stderr",
     "output_type": "stream",
     "text": [
      "INFO:sqlalchemy.engine.base.Engine:SELECT relname FROM pg_class c WHERE relkind = 'r' AND 'public' = (select nspname from pg_namespace n where n.oid = c.relnamespace) \n"
     ]
    },
    {
     "name": "stdout",
     "output_type": "stream",
     "text": [
      "2015-12-07 01:04:00,669 INFO sqlalchemy.engine.base.Engine {}\n"
     ]
    },
    {
     "name": "stderr",
     "output_type": "stream",
     "text": [
      "INFO:sqlalchemy.engine.base.Engine:{}\n"
     ]
    },
    {
     "name": "stdout",
     "output_type": "stream",
     "text": [
      "2015-12-07 01:04:00,739 INFO sqlalchemy.engine.base.Engine select relname from pg_class c join pg_namespace n on n.oid=c.relnamespace where pg_catalog.pg_table_is_visible(c.oid) and relname=%(name)s\n"
     ]
    },
    {
     "name": "stderr",
     "output_type": "stream",
     "text": [
      "INFO:sqlalchemy.engine.base.Engine:select relname from pg_class c join pg_namespace n on n.oid=c.relnamespace where pg_catalog.pg_table_is_visible(c.oid) and relname=%(name)s\n"
     ]
    },
    {
     "name": "stdout",
     "output_type": "stream",
     "text": [
      "2015-12-07 01:04:00,740 INFO sqlalchemy.engine.base.Engine {'name': 'cfs_areas'}\n"
     ]
    },
    {
     "name": "stderr",
     "output_type": "stream",
     "text": [
      "INFO:sqlalchemy.engine.base.Engine:{'name': 'cfs_areas'}\n"
     ]
    },
    {
     "name": "stdout",
     "output_type": "stream",
     "text": [
      "2015-12-07 01:04:00,804 INFO sqlalchemy.engine.base.Engine \n",
      "CREATE TABLE cfs_areas (\n",
      "\t\"ORIG_MA\" BIGINT, \n",
      "\t\"ORIG_STATE\" TEXT, \n",
      "\t\"ORIG_CFS_AREA\" TEXT, \n",
      "\t\"MA\" TEXT, \n",
      "\t\"Description\" TEXT\n",
      ")\n",
      "\n",
      "\n"
     ]
    },
    {
     "name": "stderr",
     "output_type": "stream",
     "text": [
      "INFO:sqlalchemy.engine.base.Engine:\n",
      "CREATE TABLE cfs_areas (\n",
      "\t\"ORIG_MA\" BIGINT, \n",
      "\t\"ORIG_STATE\" TEXT, \n",
      "\t\"ORIG_CFS_AREA\" TEXT, \n",
      "\t\"MA\" TEXT, \n",
      "\t\"Description\" TEXT\n",
      ")\n",
      "\n",
      "\n"
     ]
    },
    {
     "name": "stdout",
     "output_type": "stream",
     "text": [
      "2015-12-07 01:04:00,805 INFO sqlalchemy.engine.base.Engine {}\n"
     ]
    },
    {
     "name": "stderr",
     "output_type": "stream",
     "text": [
      "INFO:sqlalchemy.engine.base.Engine:{}\n"
     ]
    },
    {
     "name": "stdout",
     "output_type": "stream",
     "text": [
      "2015-12-07 01:04:00,859 INFO sqlalchemy.engine.base.Engine COMMIT\n"
     ]
    },
    {
     "name": "stderr",
     "output_type": "stream",
     "text": [
      "INFO:sqlalchemy.engine.base.Engine:COMMIT\n"
     ]
    },
    {
     "name": "stdout",
     "output_type": "stream",
     "text": [
      "2015-12-07 01:04:00,890 INFO sqlalchemy.engine.base.Engine BEGIN (implicit)\n"
     ]
    },
    {
     "name": "stderr",
     "output_type": "stream",
     "text": [
      "INFO:sqlalchemy.engine.base.Engine:BEGIN (implicit)\n"
     ]
    },
    {
     "name": "stdout",
     "output_type": "stream",
     "text": [
      "2015-12-07 01:04:00,897 INFO sqlalchemy.engine.base.Engine INSERT INTO cfs_areas (\"ORIG_MA\", \"ORIG_STATE\", \"ORIG_CFS_AREA\", \"MA\", \"Description\") VALUES (%(ORIG_MA)s, %(ORIG_STATE)s, %(ORIG_CFS_AREA)s, %(MA)s, %(Description)s)\n"
     ]
    },
    {
     "name": "stderr",
     "output_type": "stream",
     "text": [
      "INFO:sqlalchemy.engine.base.Engine:INSERT INTO cfs_areas (\"ORIG_MA\", \"ORIG_STATE\", \"ORIG_CFS_AREA\", \"MA\", \"Description\") VALUES (%(ORIG_MA)s, %(ORIG_STATE)s, %(ORIG_CFS_AREA)s, %(MA)s, %(Description)s)\n"
     ]
    },
    {
     "name": "stdout",
     "output_type": "stream",
     "text": [
      "2015-12-07 01:04:00,898 INFO sqlalchemy.engine.base.Engine ({'ORIG_MA': 122, 'MA': 'C', 'Description': 'Atlanta-Athens-Clarke County-Sandy Springs, GA  CFS Area ', 'ORIG_CFS_AREA': '13-122', 'ORIG_STATE': '13'}, {'ORIG_MA': 142, 'MA': 'C', 'Description': 'Birmingham-Hoover-Talladega, AL  CFS Area ', 'ORIG_CFS_AREA': '01-142', 'ORIG_STATE': '01'}, {'ORIG_MA': 148, 'MA': 'C', 'Description': 'Boston-Worcester-Providence, MA-RI-NH-CT  CFS Area (MA Part)', 'ORIG_CFS_AREA': '25-148', 'ORIG_STATE': '25'}, {'ORIG_MA': 148, 'MA': 'C', 'Description': 'Boston-Worcester-Providence, MA-RI-NH-CT  CFS Area (NH Part)', 'ORIG_CFS_AREA': '33-148', 'ORIG_STATE': '33'}, {'ORIG_MA': 148, 'MA': 'C', 'Description': 'Boston-Worcester-Providence, MA-RI-NH-CT  CFS Area (RI Part)', 'ORIG_CFS_AREA': '44-148', 'ORIG_STATE': '44'}, {'ORIG_MA': 160, 'MA': 'C', 'Description': 'Buffalo-Cheektowaga, NY  CFS Area ', 'ORIG_CFS_AREA': '36-160', 'ORIG_STATE': '36'}, {'ORIG_MA': 172, 'MA': 'C', 'Description': 'Charlotte-Concord, NC-SC  CFS Area  (NC Part)', 'ORIG_CFS_AREA': '37-172', 'ORIG_STATE': '37'}, {'ORIG_MA': 176, 'MA': 'C', 'Description': 'Chicago-Naperville, IL-IN-WI  CFS Area (IL Part)', 'ORIG_CFS_AREA': '17-176', 'ORIG_STATE': '17'}  ... displaying 10 of 133 total bound parameter sets ...  {'ORIG_MA': 0, 'MA': None, 'Description': 'Metro area suppressed, state (NN) still shown', 'ORIG_CFS_AREA': 'NN-00000', 'ORIG_STATE': 'NN'}, {'ORIG_MA': 0, 'MA': None, 'Description': 'Shipment origin suppressed completely', 'ORIG_CFS_AREA': '00-00000', 'ORIG_STATE': '0'})\n"
     ]
    },
    {
     "name": "stderr",
     "output_type": "stream",
     "text": [
      "INFO:sqlalchemy.engine.base.Engine:({'ORIG_MA': 122, 'MA': 'C', 'Description': 'Atlanta-Athens-Clarke County-Sandy Springs, GA  CFS Area ', 'ORIG_CFS_AREA': '13-122', 'ORIG_STATE': '13'}, {'ORIG_MA': 142, 'MA': 'C', 'Description': 'Birmingham-Hoover-Talladega, AL  CFS Area ', 'ORIG_CFS_AREA': '01-142', 'ORIG_STATE': '01'}, {'ORIG_MA': 148, 'MA': 'C', 'Description': 'Boston-Worcester-Providence, MA-RI-NH-CT  CFS Area (MA Part)', 'ORIG_CFS_AREA': '25-148', 'ORIG_STATE': '25'}, {'ORIG_MA': 148, 'MA': 'C', 'Description': 'Boston-Worcester-Providence, MA-RI-NH-CT  CFS Area (NH Part)', 'ORIG_CFS_AREA': '33-148', 'ORIG_STATE': '33'}, {'ORIG_MA': 148, 'MA': 'C', 'Description': 'Boston-Worcester-Providence, MA-RI-NH-CT  CFS Area (RI Part)', 'ORIG_CFS_AREA': '44-148', 'ORIG_STATE': '44'}, {'ORIG_MA': 160, 'MA': 'C', 'Description': 'Buffalo-Cheektowaga, NY  CFS Area ', 'ORIG_CFS_AREA': '36-160', 'ORIG_STATE': '36'}, {'ORIG_MA': 172, 'MA': 'C', 'Description': 'Charlotte-Concord, NC-SC  CFS Area  (NC Part)', 'ORIG_CFS_AREA': '37-172', 'ORIG_STATE': '37'}, {'ORIG_MA': 176, 'MA': 'C', 'Description': 'Chicago-Naperville, IL-IN-WI  CFS Area (IL Part)', 'ORIG_CFS_AREA': '17-176', 'ORIG_STATE': '17'}  ... displaying 10 of 133 total bound parameter sets ...  {'ORIG_MA': 0, 'MA': None, 'Description': 'Metro area suppressed, state (NN) still shown', 'ORIG_CFS_AREA': 'NN-00000', 'ORIG_STATE': 'NN'}, {'ORIG_MA': 0, 'MA': None, 'Description': 'Shipment origin suppressed completely', 'ORIG_CFS_AREA': '00-00000', 'ORIG_STATE': '0'})\n"
     ]
    },
    {
     "name": "stdout",
     "output_type": "stream",
     "text": [
      "2015-12-07 01:04:03,928 INFO sqlalchemy.engine.base.Engine COMMIT\n"
     ]
    },
    {
     "name": "stderr",
     "output_type": "stream",
     "text": [
      "INFO:sqlalchemy.engine.base.Engine:COMMIT\n"
     ]
    },
    {
     "name": "stdout",
     "output_type": "stream",
     "text": [
      "2015-12-07 01:04:03,952 INFO sqlalchemy.engine.base.Engine SELECT relname FROM pg_class c WHERE relkind = 'r' AND 'public' = (select nspname from pg_namespace n where n.oid = c.relnamespace) \n"
     ]
    },
    {
     "name": "stderr",
     "output_type": "stream",
     "text": [
      "INFO:sqlalchemy.engine.base.Engine:SELECT relname FROM pg_class c WHERE relkind = 'r' AND 'public' = (select nspname from pg_namespace n where n.oid = c.relnamespace) \n"
     ]
    },
    {
     "name": "stdout",
     "output_type": "stream",
     "text": [
      "2015-12-07 01:04:03,953 INFO sqlalchemy.engine.base.Engine {}\n"
     ]
    },
    {
     "name": "stderr",
     "output_type": "stream",
     "text": [
      "INFO:sqlalchemy.engine.base.Engine:{}\n"
     ]
    },
    {
     "name": "stdout",
     "output_type": "stream",
     "text": [
      "2015-12-07 01:04:04,035 INFO sqlalchemy.engine.base.Engine select relname from pg_class c join pg_namespace n on n.oid=c.relnamespace where pg_catalog.pg_table_is_visible(c.oid) and relname=%(name)s\n"
     ]
    },
    {
     "name": "stderr",
     "output_type": "stream",
     "text": [
      "INFO:sqlalchemy.engine.base.Engine:select relname from pg_class c join pg_namespace n on n.oid=c.relnamespace where pg_catalog.pg_table_is_visible(c.oid) and relname=%(name)s\n"
     ]
    },
    {
     "name": "stdout",
     "output_type": "stream",
     "text": [
      "2015-12-07 01:04:04,035 INFO sqlalchemy.engine.base.Engine {'name': 'FIPS_States'}\n"
     ]
    },
    {
     "name": "stderr",
     "output_type": "stream",
     "text": [
      "INFO:sqlalchemy.engine.base.Engine:{'name': 'FIPS_States'}\n"
     ]
    },
    {
     "name": "stdout",
     "output_type": "stream",
     "text": [
      "2015-12-07 01:04:04,100 INFO sqlalchemy.engine.base.Engine \n",
      "CREATE TABLE \"FIPS_States\" (\n",
      "\t\"Name\" TEXT, \n",
      "\t\"Alpha code\" TEXT, \n",
      "\t\"Numeric code\" BIGINT, \n",
      "\t\"Status\" TEXT\n",
      ")\n",
      "\n",
      "\n"
     ]
    },
    {
     "name": "stderr",
     "output_type": "stream",
     "text": [
      "INFO:sqlalchemy.engine.base.Engine:\n",
      "CREATE TABLE \"FIPS_States\" (\n",
      "\t\"Name\" TEXT, \n",
      "\t\"Alpha code\" TEXT, \n",
      "\t\"Numeric code\" BIGINT, \n",
      "\t\"Status\" TEXT\n",
      ")\n",
      "\n",
      "\n"
     ]
    },
    {
     "name": "stdout",
     "output_type": "stream",
     "text": [
      "2015-12-07 01:04:04,101 INFO sqlalchemy.engine.base.Engine {}\n"
     ]
    },
    {
     "name": "stderr",
     "output_type": "stream",
     "text": [
      "INFO:sqlalchemy.engine.base.Engine:{}\n"
     ]
    },
    {
     "name": "stdout",
     "output_type": "stream",
     "text": [
      "2015-12-07 01:04:04,153 INFO sqlalchemy.engine.base.Engine COMMIT\n"
     ]
    },
    {
     "name": "stderr",
     "output_type": "stream",
     "text": [
      "INFO:sqlalchemy.engine.base.Engine:COMMIT\n"
     ]
    },
    {
     "name": "stdout",
     "output_type": "stream",
     "text": [
      "2015-12-07 01:04:04,176 INFO sqlalchemy.engine.base.Engine BEGIN (implicit)\n"
     ]
    },
    {
     "name": "stderr",
     "output_type": "stream",
     "text": [
      "INFO:sqlalchemy.engine.base.Engine:BEGIN (implicit)\n"
     ]
    },
    {
     "name": "stdout",
     "output_type": "stream",
     "text": [
      "2015-12-07 01:04:04,178 INFO sqlalchemy.engine.base.Engine INSERT INTO \"FIPS_States\" (\"Name\", \"Alpha code\", \"Numeric code\", \"Status\") VALUES (%(Name)s, %(Alpha code)s, %(Numeric code)s, %(Status)s)\n"
     ]
    },
    {
     "name": "stderr",
     "output_type": "stream",
     "text": [
      "INFO:sqlalchemy.engine.base.Engine:INSERT INTO \"FIPS_States\" (\"Name\", \"Alpha code\", \"Numeric code\", \"Status\") VALUES (%(Name)s, %(Alpha code)s, %(Numeric code)s, %(Status)s)\n"
     ]
    },
    {
     "name": "stdout",
     "output_type": "stream",
     "text": [
      "2015-12-07 01:04:04,180 INFO sqlalchemy.engine.base.Engine ({'Name': 'Alabama', 'Status': 'State;\\xa0counties', 'Alpha code': 'AL', 'Numeric code': 1}, {'Name': 'Alaska', 'Status': 'State;\\xa0boroughs', 'Alpha code': 'AK', 'Numeric code': 2}, {'Name': 'American Samoa', 'Status': 'Outlying area under U.S. sovereignty', 'Alpha code': 'AS', 'Numeric code': 60}, {'Name': 'American Samoa\\xa0*', 'Status': '(FIPS 5-1 reserved code)', 'Alpha code': None, 'Numeric code': 3}, {'Name': 'Arizona', 'Status': 'State;\\xa0counties', 'Alpha code': 'AZ', 'Numeric code': 4}, {'Name': 'Arkansas', 'Status': 'State;\\xa0counties', 'Alpha code': 'AR', 'Numeric code': 5}, {'Name': 'Baker Island', 'Status': 'Minor outlying island territory', 'Alpha code': None, 'Numeric code': 81}, {'Name': 'California', 'Status': 'State;\\xa0counties', 'Alpha code': 'CA', 'Numeric code': 6}  ... displaying 10 of 74 total bound parameter sets ...  {'Name': 'Wisconsin', 'Status': 'State;\\xa0counties', 'Alpha code': 'WI', 'Numeric code': 55}, {'Name': 'Wyoming', 'Status': 'State;\\xa0counties', 'Alpha code': 'WY', 'Numeric code': 56})\n"
     ]
    },
    {
     "name": "stderr",
     "output_type": "stream",
     "text": [
      "INFO:sqlalchemy.engine.base.Engine:({'Name': 'Alabama', 'Status': 'State;\\xa0counties', 'Alpha code': 'AL', 'Numeric code': 1}, {'Name': 'Alaska', 'Status': 'State;\\xa0boroughs', 'Alpha code': 'AK', 'Numeric code': 2}, {'Name': 'American Samoa', 'Status': 'Outlying area under U.S. sovereignty', 'Alpha code': 'AS', 'Numeric code': 60}, {'Name': 'American Samoa\\xa0*', 'Status': '(FIPS 5-1 reserved code)', 'Alpha code': None, 'Numeric code': 3}, {'Name': 'Arizona', 'Status': 'State;\\xa0counties', 'Alpha code': 'AZ', 'Numeric code': 4}, {'Name': 'Arkansas', 'Status': 'State;\\xa0counties', 'Alpha code': 'AR', 'Numeric code': 5}, {'Name': 'Baker Island', 'Status': 'Minor outlying island territory', 'Alpha code': None, 'Numeric code': 81}, {'Name': 'California', 'Status': 'State;\\xa0counties', 'Alpha code': 'CA', 'Numeric code': 6}  ... displaying 10 of 74 total bound parameter sets ...  {'Name': 'Wisconsin', 'Status': 'State;\\xa0counties', 'Alpha code': 'WI', 'Numeric code': 55}, {'Name': 'Wyoming', 'Status': 'State;\\xa0counties', 'Alpha code': 'WY', 'Numeric code': 56})\n"
     ]
    },
    {
     "name": "stdout",
     "output_type": "stream",
     "text": [
      "2015-12-07 01:04:05,844 INFO sqlalchemy.engine.base.Engine COMMIT\n"
     ]
    },
    {
     "name": "stderr",
     "output_type": "stream",
     "text": [
      "INFO:sqlalchemy.engine.base.Engine:COMMIT\n"
     ]
    },
    {
     "name": "stdout",
     "output_type": "stream",
     "text": [
      "2015-12-07 01:04:05,875 INFO sqlalchemy.engine.base.Engine SELECT relname FROM pg_class c WHERE relkind = 'r' AND 'public' = (select nspname from pg_namespace n where n.oid = c.relnamespace) \n"
     ]
    },
    {
     "name": "stderr",
     "output_type": "stream",
     "text": [
      "INFO:sqlalchemy.engine.base.Engine:SELECT relname FROM pg_class c WHERE relkind = 'r' AND 'public' = (select nspname from pg_namespace n where n.oid = c.relnamespace) \n"
     ]
    },
    {
     "name": "stdout",
     "output_type": "stream",
     "text": [
      "2015-12-07 01:04:05,876 INFO sqlalchemy.engine.base.Engine {}\n"
     ]
    },
    {
     "name": "stderr",
     "output_type": "stream",
     "text": [
      "INFO:sqlalchemy.engine.base.Engine:{}\n"
     ]
    },
    {
     "data": {
      "text/plain": [
       "[None, None, None, None]"
      ]
     },
     "execution_count": 75,
     "metadata": {},
     "output_type": "execute_result"
    }
   ],
   "source": [
    "[pd.read_csv(f).to_sql(get_db_name(f), con=engine, if_exists='fail', index=False) for f in \n",
    " ['./csv/state_latlon.csv', './csv/sctg.csv', './csv/cfs_areas.csv', './csv/FIPS_States.csv']]"
   ]
  },
  {
   "cell_type": "code",
   "execution_count": 76,
   "metadata": {
    "collapsed": true
   },
   "outputs": [],
   "source": [
    "df = pd.read_csv('./csv/cfs_2012_pumf_first_50k.csv')"
   ]
  },
  {
   "cell_type": "code",
   "execution_count": 93,
   "metadata": {
    "collapsed": false
   },
   "outputs": [
    {
     "name": "stdout",
     "output_type": "stream",
     "text": [
      "2015-12-07 01:14:25,075 INFO sqlalchemy.engine.base.Engine select relname from pg_class c join pg_namespace n on n.oid=c.relnamespace where pg_catalog.pg_table_is_visible(c.oid) and relname=%(name)s\n"
     ]
    },
    {
     "name": "stderr",
     "output_type": "stream",
     "text": [
      "INFO:sqlalchemy.engine.base.Engine:select relname from pg_class c join pg_namespace n on n.oid=c.relnamespace where pg_catalog.pg_table_is_visible(c.oid) and relname=%(name)s\n"
     ]
    },
    {
     "name": "stdout",
     "output_type": "stream",
     "text": [
      "2015-12-07 01:14:25,077 INFO sqlalchemy.engine.base.Engine {'name': 'transactions'}\n"
     ]
    },
    {
     "name": "stderr",
     "output_type": "stream",
     "text": [
      "INFO:sqlalchemy.engine.base.Engine:{'name': 'transactions'}\n"
     ]
    },
    {
     "name": "stdout",
     "output_type": "stream",
     "text": [
      "2015-12-07 01:14:25,150 INFO sqlalchemy.engine.base.Engine \n",
      "CREATE TABLE transactions (\n",
      "\t\"SHIPMT_ID\" BIGINT, \n",
      "\t\"ORIG_STATE\" BIGINT, \n",
      "\t\"ORIG_MA\" BIGINT, \n",
      "\t\"ORIG_CFS_AREA\" TEXT, \n",
      "\t\"DEST_STATE\" BIGINT, \n",
      "\t\"DEST_MA\" BIGINT, \n",
      "\t\"DEST_CFS_AREA\" TEXT, \n",
      "\t\"NAICS\" BIGINT, \n",
      "\t\"QUARTER\" BIGINT, \n",
      "\t\"SCTG\" TEXT, \n",
      "\t\"MODE\" BIGINT, \n",
      "\t\"SHIPMT_VALUE\" BIGINT, \n",
      "\t\"SHIPMT_WGHT\" BIGINT, \n",
      "\t\"SHIPMT_DIST_GC\" BIGINT, \n",
      "\t\"SHIPMT_DIST_ROUTED\" BIGINT, \n",
      "\t\"TEMP_CNTL_YN\" TEXT, \n",
      "\t\"EXPORT_YN\" TEXT, \n",
      "\t\"EXPORT_CNTRY\" TEXT, \n",
      "\t\"HAZMAT\" TEXT, \n",
      "\t\"WGT_FACTOR\" FLOAT(53)\n",
      ")\n",
      "\n",
      "\n"
     ]
    },
    {
     "name": "stderr",
     "output_type": "stream",
     "text": [
      "INFO:sqlalchemy.engine.base.Engine:\n",
      "CREATE TABLE transactions (\n",
      "\t\"SHIPMT_ID\" BIGINT, \n",
      "\t\"ORIG_STATE\" BIGINT, \n",
      "\t\"ORIG_MA\" BIGINT, \n",
      "\t\"ORIG_CFS_AREA\" TEXT, \n",
      "\t\"DEST_STATE\" BIGINT, \n",
      "\t\"DEST_MA\" BIGINT, \n",
      "\t\"DEST_CFS_AREA\" TEXT, \n",
      "\t\"NAICS\" BIGINT, \n",
      "\t\"QUARTER\" BIGINT, \n",
      "\t\"SCTG\" TEXT, \n",
      "\t\"MODE\" BIGINT, \n",
      "\t\"SHIPMT_VALUE\" BIGINT, \n",
      "\t\"SHIPMT_WGHT\" BIGINT, \n",
      "\t\"SHIPMT_DIST_GC\" BIGINT, \n",
      "\t\"SHIPMT_DIST_ROUTED\" BIGINT, \n",
      "\t\"TEMP_CNTL_YN\" TEXT, \n",
      "\t\"EXPORT_YN\" TEXT, \n",
      "\t\"EXPORT_CNTRY\" TEXT, \n",
      "\t\"HAZMAT\" TEXT, \n",
      "\t\"WGT_FACTOR\" FLOAT(53)\n",
      ")\n",
      "\n",
      "\n"
     ]
    },
    {
     "name": "stdout",
     "output_type": "stream",
     "text": [
      "2015-12-07 01:14:25,151 INFO sqlalchemy.engine.base.Engine {}\n"
     ]
    },
    {
     "name": "stderr",
     "output_type": "stream",
     "text": [
      "INFO:sqlalchemy.engine.base.Engine:{}\n"
     ]
    },
    {
     "name": "stdout",
     "output_type": "stream",
     "text": [
      "2015-12-07 01:14:25,206 INFO sqlalchemy.engine.base.Engine COMMIT\n"
     ]
    },
    {
     "name": "stderr",
     "output_type": "stream",
     "text": [
      "INFO:sqlalchemy.engine.base.Engine:COMMIT\n"
     ]
    },
    {
     "name": "stdout",
     "output_type": "stream",
     "text": [
      "2015-12-07 01:14:25,231 INFO sqlalchemy.engine.base.Engine BEGIN (implicit)\n"
     ]
    },
    {
     "name": "stderr",
     "output_type": "stream",
     "text": [
      "INFO:sqlalchemy.engine.base.Engine:BEGIN (implicit)\n"
     ]
    },
    {
     "name": "stdout",
     "output_type": "stream",
     "text": [
      "2015-12-07 01:14:25,233 INFO sqlalchemy.engine.base.Engine INSERT INTO transactions (\"SHIPMT_ID\", \"ORIG_STATE\", \"ORIG_MA\", \"ORIG_CFS_AREA\", \"DEST_STATE\", \"DEST_MA\", \"DEST_CFS_AREA\", \"NAICS\", \"QUARTER\", \"SCTG\", \"MODE\", \"SHIPMT_VALUE\", \"SHIPMT_WGHT\", \"SHIPMT_DIST_GC\", \"SHIPMT_DIST_ROUTED\", \"TEMP_CNTL_YN\", \"EXPORT_YN\", \"EXPORT_CNTRY\", \"HAZMAT\", \"WGT_FACTOR\") VALUES (%(SHIPMT_ID)s, %(ORIG_STATE)s, %(ORIG_MA)s, %(ORIG_CFS_AREA)s, %(DEST_STATE)s, %(DEST_MA)s, %(DEST_CFS_AREA)s, %(NAICS)s, %(QUARTER)s, %(SCTG)s, %(MODE)s, %(SHIPMT_VALUE)s, %(SHIPMT_WGHT)s, %(SHIPMT_DIST_GC)s, %(SHIPMT_DIST_ROUTED)s, %(TEMP_CNTL_YN)s, %(EXPORT_YN)s, %(EXPORT_CNTRY)s, %(HAZMAT)s, %(WGT_FACTOR)s)\n"
     ]
    },
    {
     "name": "stderr",
     "output_type": "stream",
     "text": [
      "INFO:sqlalchemy.engine.base.Engine:INSERT INTO transactions (\"SHIPMT_ID\", \"ORIG_STATE\", \"ORIG_MA\", \"ORIG_CFS_AREA\", \"DEST_STATE\", \"DEST_MA\", \"DEST_CFS_AREA\", \"NAICS\", \"QUARTER\", \"SCTG\", \"MODE\", \"SHIPMT_VALUE\", \"SHIPMT_WGHT\", \"SHIPMT_DIST_GC\", \"SHIPMT_DIST_ROUTED\", \"TEMP_CNTL_YN\", \"EXPORT_YN\", \"EXPORT_CNTRY\", \"HAZMAT\", \"WGT_FACTOR\") VALUES (%(SHIPMT_ID)s, %(ORIG_STATE)s, %(ORIG_MA)s, %(ORIG_CFS_AREA)s, %(DEST_STATE)s, %(DEST_MA)s, %(DEST_CFS_AREA)s, %(NAICS)s, %(QUARTER)s, %(SCTG)s, %(MODE)s, %(SHIPMT_VALUE)s, %(SHIPMT_WGHT)s, %(SHIPMT_DIST_GC)s, %(SHIPMT_DIST_ROUTED)s, %(TEMP_CNTL_YN)s, %(EXPORT_YN)s, %(EXPORT_CNTRY)s, %(HAZMAT)s, %(WGT_FACTOR)s)\n"
     ]
    },
    {
     "name": "stdout",
     "output_type": "stream",
     "text": [
      "2015-12-07 01:14:25,234 INFO sqlalchemy.engine.base.Engine {'TEMP_CNTL_YN': 'N', 'DEST_STATE': 25, 'SCTG': '35', 'WGT_FACTOR': 208.5, 'HAZMAT': 'N', 'SHIPMT_WGHT': 11, 'SHIPMT_ID': 0, 'SHIPMT_VALUE': 2178, 'SHIPMT_DIST_ROUTED': 17, 'ORIG_MA': 148, 'QUARTER': 2, 'EXPORT_CNTRY': 'N', 'NAICS': 333, 'SHIPMT_DIST_GC': 14, 'EXPORT_YN': 'N', 'DEST_CFS_AREA': '25-148', 'MODE': 14, 'ORIG_STATE': 25, 'ORIG_CFS_AREA': '25-148', 'DEST_MA': 148}\n"
     ]
    },
    {
     "name": "stderr",
     "output_type": "stream",
     "text": [
      "INFO:sqlalchemy.engine.base.Engine:{'TEMP_CNTL_YN': 'N', 'DEST_STATE': 25, 'SCTG': '35', 'WGT_FACTOR': 208.5, 'HAZMAT': 'N', 'SHIPMT_WGHT': 11, 'SHIPMT_ID': 0, 'SHIPMT_VALUE': 2178, 'SHIPMT_DIST_ROUTED': 17, 'ORIG_MA': 148, 'QUARTER': 2, 'EXPORT_CNTRY': 'N', 'NAICS': 333, 'SHIPMT_DIST_GC': 14, 'EXPORT_YN': 'N', 'DEST_CFS_AREA': '25-148', 'MODE': 14, 'ORIG_STATE': 25, 'ORIG_CFS_AREA': '25-148', 'DEST_MA': 148}\n"
     ]
    },
    {
     "name": "stdout",
     "output_type": "stream",
     "text": [
      "2015-12-07 01:14:25,274 INFO sqlalchemy.engine.base.Engine COMMIT\n"
     ]
    },
    {
     "name": "stderr",
     "output_type": "stream",
     "text": [
      "INFO:sqlalchemy.engine.base.Engine:COMMIT\n"
     ]
    },
    {
     "name": "stdout",
     "output_type": "stream",
     "text": [
      "2015-12-07 01:14:25,296 INFO sqlalchemy.engine.base.Engine SELECT relname FROM pg_class c WHERE relkind = 'r' AND 'public' = (select nspname from pg_namespace n where n.oid = c.relnamespace) \n"
     ]
    },
    {
     "name": "stderr",
     "output_type": "stream",
     "text": [
      "INFO:sqlalchemy.engine.base.Engine:SELECT relname FROM pg_class c WHERE relkind = 'r' AND 'public' = (select nspname from pg_namespace n where n.oid = c.relnamespace) \n"
     ]
    },
    {
     "name": "stdout",
     "output_type": "stream",
     "text": [
      "2015-12-07 01:14:25,297 INFO sqlalchemy.engine.base.Engine {}\n"
     ]
    },
    {
     "name": "stderr",
     "output_type": "stream",
     "text": [
      "INFO:sqlalchemy.engine.base.Engine:{}\n"
     ]
    }
   ],
   "source": [
    "df[:1].to_sql('transactions', con=engine, if_exists='fail', index=False, chunksize=10000)"
   ]
  },
  {
   "cell_type": "code",
   "execution_count": 52,
   "metadata": {
    "collapsed": false
   },
   "outputs": [
    {
     "name": "stdout",
     "output_type": "stream",
     "text": [
      "2015-11-22 16:18:35,654 INFO sqlalchemy.engine.base.Engine select relname from pg_class c join pg_namespace n on n.oid=c.relnamespace where pg_catalog.pg_table_is_visible(c.oid) and relname=%(name)s\n"
     ]
    },
    {
     "name": "stderr",
     "output_type": "stream",
     "text": [
      "INFO:sqlalchemy.engine.base.Engine:select relname from pg_class c join pg_namespace n on n.oid=c.relnamespace where pg_catalog.pg_table_is_visible(c.oid) and relname=%(name)s\n"
     ]
    },
    {
     "name": "stdout",
     "output_type": "stream",
     "text": [
      "2015-11-22 16:18:35,655 INFO sqlalchemy.engine.base.Engine {'name': 'transactions'}\n"
     ]
    },
    {
     "name": "stderr",
     "output_type": "stream",
     "text": [
      "INFO:sqlalchemy.engine.base.Engine:{'name': 'transactions'}\n"
     ]
    },
    {
     "name": "stdout",
     "output_type": "stream",
     "text": [
      "2015-11-22 16:18:35,731 INFO sqlalchemy.engine.base.Engine \n",
      "CREATE TABLE transactions (\n",
      "\t\"SHIPMT_ID\" BIGINT, \n",
      "\t\"ORIG_STATE\" BIGINT, \n",
      "\t\"ORIG_MA\" BIGINT, \n",
      "\t\"ORIG_CFS_AREA\" TEXT, \n",
      "\t\"DEST_STATE\" BIGINT, \n",
      "\t\"DEST_MA\" BIGINT, \n",
      "\t\"DEST_CFS_AREA\" TEXT, \n",
      "\t\"NAICS\" BIGINT, \n",
      "\t\"QUARTER\" BIGINT, \n",
      "\t\"SCTG\" TEXT, \n",
      "\t\"MODE\" BIGINT, \n",
      "\t\"SHIPMT_VALUE\" BIGINT, \n",
      "\t\"SHIPMT_WGHT\" BIGINT, \n",
      "\t\"SHIPMT_DIST_GC\" BIGINT, \n",
      "\t\"SHIPMT_DIST_ROUTED\" BIGINT, \n",
      "\t\"TEMP_CNTL_YN\" TEXT, \n",
      "\t\"EXPORT_YN\" TEXT, \n",
      "\t\"EXPORT_CNTRY\" TEXT, \n",
      "\t\"HAZMAT\" TEXT, \n",
      "\t\"WGT_FACTOR\" FLOAT(53)\n",
      ")\n",
      "\n",
      "\n"
     ]
    },
    {
     "name": "stderr",
     "output_type": "stream",
     "text": [
      "INFO:sqlalchemy.engine.base.Engine:\n",
      "CREATE TABLE transactions (\n",
      "\t\"SHIPMT_ID\" BIGINT, \n",
      "\t\"ORIG_STATE\" BIGINT, \n",
      "\t\"ORIG_MA\" BIGINT, \n",
      "\t\"ORIG_CFS_AREA\" TEXT, \n",
      "\t\"DEST_STATE\" BIGINT, \n",
      "\t\"DEST_MA\" BIGINT, \n",
      "\t\"DEST_CFS_AREA\" TEXT, \n",
      "\t\"NAICS\" BIGINT, \n",
      "\t\"QUARTER\" BIGINT, \n",
      "\t\"SCTG\" TEXT, \n",
      "\t\"MODE\" BIGINT, \n",
      "\t\"SHIPMT_VALUE\" BIGINT, \n",
      "\t\"SHIPMT_WGHT\" BIGINT, \n",
      "\t\"SHIPMT_DIST_GC\" BIGINT, \n",
      "\t\"SHIPMT_DIST_ROUTED\" BIGINT, \n",
      "\t\"TEMP_CNTL_YN\" TEXT, \n",
      "\t\"EXPORT_YN\" TEXT, \n",
      "\t\"EXPORT_CNTRY\" TEXT, \n",
      "\t\"HAZMAT\" TEXT, \n",
      "\t\"WGT_FACTOR\" FLOAT(53)\n",
      ")\n",
      "\n",
      "\n"
     ]
    },
    {
     "name": "stdout",
     "output_type": "stream",
     "text": [
      "2015-11-22 16:18:35,732 INFO sqlalchemy.engine.base.Engine {}\n"
     ]
    },
    {
     "name": "stderr",
     "output_type": "stream",
     "text": [
      "INFO:sqlalchemy.engine.base.Engine:{}\n"
     ]
    },
    {
     "name": "stdout",
     "output_type": "stream",
     "text": [
      "2015-11-22 16:18:35,788 INFO sqlalchemy.engine.base.Engine COMMIT\n"
     ]
    },
    {
     "name": "stderr",
     "output_type": "stream",
     "text": [
      "INFO:sqlalchemy.engine.base.Engine:COMMIT\n"
     ]
    },
    {
     "name": "stdout",
     "output_type": "stream",
     "text": [
      "2015-11-22 16:18:40,483 INFO sqlalchemy.engine.base.Engine BEGIN (implicit)\n"
     ]
    },
    {
     "name": "stderr",
     "output_type": "stream",
     "text": [
      "INFO:sqlalchemy.engine.base.Engine:BEGIN (implicit)\n"
     ]
    },
    {
     "name": "stdout",
     "output_type": "stream",
     "text": [
      "2015-11-22 16:18:40,794 INFO sqlalchemy.engine.base.Engine INSERT INTO transactions (\"SHIPMT_ID\", \"ORIG_STATE\", \"ORIG_MA\", \"ORIG_CFS_AREA\", \"DEST_STATE\", \"DEST_MA\", \"DEST_CFS_AREA\", \"NAICS\", \"QUARTER\", \"SCTG\", \"MODE\", \"SHIPMT_VALUE\", \"SHIPMT_WGHT\", \"SHIPMT_DIST_GC\", \"SHIPMT_DIST_ROUTED\", \"TEMP_CNTL_YN\", \"EXPORT_YN\", \"EXPORT_CNTRY\", \"HAZMAT\", \"WGT_FACTOR\") VALUES (%(SHIPMT_ID)s, %(ORIG_STATE)s, %(ORIG_MA)s, %(ORIG_CFS_AREA)s, %(DEST_STATE)s, %(DEST_MA)s, %(DEST_CFS_AREA)s, %(NAICS)s, %(QUARTER)s, %(SCTG)s, %(MODE)s, %(SHIPMT_VALUE)s, %(SHIPMT_WGHT)s, %(SHIPMT_DIST_GC)s, %(SHIPMT_DIST_ROUTED)s, %(TEMP_CNTL_YN)s, %(EXPORT_YN)s, %(EXPORT_CNTRY)s, %(HAZMAT)s, %(WGT_FACTOR)s)\n"
     ]
    },
    {
     "name": "stderr",
     "output_type": "stream",
     "text": [
      "INFO:sqlalchemy.engine.base.Engine:INSERT INTO transactions (\"SHIPMT_ID\", \"ORIG_STATE\", \"ORIG_MA\", \"ORIG_CFS_AREA\", \"DEST_STATE\", \"DEST_MA\", \"DEST_CFS_AREA\", \"NAICS\", \"QUARTER\", \"SCTG\", \"MODE\", \"SHIPMT_VALUE\", \"SHIPMT_WGHT\", \"SHIPMT_DIST_GC\", \"SHIPMT_DIST_ROUTED\", \"TEMP_CNTL_YN\", \"EXPORT_YN\", \"EXPORT_CNTRY\", \"HAZMAT\", \"WGT_FACTOR\") VALUES (%(SHIPMT_ID)s, %(ORIG_STATE)s, %(ORIG_MA)s, %(ORIG_CFS_AREA)s, %(DEST_STATE)s, %(DEST_MA)s, %(DEST_CFS_AREA)s, %(NAICS)s, %(QUARTER)s, %(SCTG)s, %(MODE)s, %(SHIPMT_VALUE)s, %(SHIPMT_WGHT)s, %(SHIPMT_DIST_GC)s, %(SHIPMT_DIST_ROUTED)s, %(TEMP_CNTL_YN)s, %(EXPORT_YN)s, %(EXPORT_CNTRY)s, %(HAZMAT)s, %(WGT_FACTOR)s)\n"
     ]
    },
    {
     "name": "stdout",
     "output_type": "stream",
     "text": [
      "2015-11-22 16:18:40,796 INFO sqlalchemy.engine.base.Engine ({'EXPORT_YN': 'N', 'ORIG_CFS_AREA': '25-148', 'SHIPMT_DIST_ROUTED': 17, 'EXPORT_CNTRY': 'N', 'WGT_FACTOR': 208.5, 'SHIPMT_ID': 1, 'ORIG_MA': 148, 'HAZMAT': 'N', 'NAICS': 333, 'SHIPMT_WGHT': 11, 'SHIPMT_VALUE': 2178, 'TEMP_CNTL_YN': 'N', 'QUARTER': 2, 'DEST_CFS_AREA': '25-148', 'MODE': 14, 'SCTG': '35', 'SHIPMT_DIST_GC': 14, 'ORIG_STATE': 25, 'DEST_STATE': 25, 'DEST_MA': 148}, {'EXPORT_YN': 'N', 'ORIG_CFS_AREA': '42-428', 'SHIPMT_DIST_ROUTED': 2734, 'EXPORT_CNTRY': 'N', 'WGT_FACTOR': 193.3, 'SHIPMT_ID': 2, 'ORIG_MA': 428, 'HAZMAT': 'N', 'NAICS': 311, 'SHIPMT_WGHT': 11, 'SHIPMT_VALUE': 344, 'TEMP_CNTL_YN': 'N', 'QUARTER': 3, 'DEST_CFS_AREA': '06-41740', 'MODE': 14, 'SCTG': '35', 'SHIPMT_DIST_GC': 2344, 'ORIG_STATE': 42, 'DEST_STATE': 6, 'DEST_MA': 41740}, {'EXPORT_YN': 'N', 'ORIG_CFS_AREA': '26-220', 'SHIPMT_DIST_ROUTED': 579, 'EXPORT_CNTRY': 'N', 'WGT_FACTOR': 51.2, 'SHIPMT_ID': 3, 'ORIG_MA': 220, 'HAZMAT': 'N', 'NAICS': 322, 'SHIPMT_WGHT': 5134, 'SHIPMT_VALUE': 4197, 'TEMP_CNTL_YN': 'N', 'QUARTER': 2, 'DEST_CFS_AREA': '47-314', 'MODE': 4, 'SCTG': '27', 'SHIPMT_DIST_GC': 470, 'ORIG_STATE': 26, 'DEST_STATE': 47, 'DEST_MA': 314}, {'EXPORT_YN': 'N', 'ORIG_CFS_AREA': '20-556', 'SHIPMT_DIST_ROUTED': 3, 'EXPORT_CNTRY': 'N', 'WGT_FACTOR': 238.7, 'SHIPMT_ID': 4, 'ORIG_MA': 556, 'HAZMAT': 'N', 'NAICS': 323, 'SHIPMT_WGHT': 6, 'SHIPMT_VALUE': 116, 'TEMP_CNTL_YN': 'N', 'QUARTER': 1, 'DEST_CFS_AREA': '20-556', 'MODE': 4, 'SCTG': '29', 'SHIPMT_DIST_GC': 3, 'ORIG_STATE': 20, 'DEST_STATE': 20, 'DEST_MA': 556}, {'EXPORT_YN': 'N', 'ORIG_CFS_AREA': '12-99999', 'SHIPMT_DIST_ROUTED': 201, 'EXPORT_CNTRY': 'N', 'WGT_FACTOR': 398.1, 'SHIPMT_ID': 5, 'ORIG_MA': 99999, 'HAZMAT': 'N', 'NAICS': 4235, 'SHIPMT_WGHT': 527, 'SHIPMT_VALUE': 388, 'TEMP_CNTL_YN': 'N', 'QUARTER': 3, 'DEST_CFS_AREA': '12-99999', 'MODE': 5, 'SCTG': '33', 'SHIPMT_DIST_GC': 124, 'ORIG_STATE': 12, 'DEST_STATE': 12, 'DEST_MA': 99999}, {'EXPORT_YN': 'Y', 'ORIG_CFS_AREA': '24-47900', 'SHIPMT_DIST_ROUTED': 2265, 'EXPORT_CNTRY': 'C', 'WGT_FACTOR': 21.9, 'SHIPMT_ID': 6, 'ORIG_MA': 47900, 'HAZMAT': 'N', 'NAICS': 337, 'SHIPMT_WGHT': 1132, 'SHIPMT_VALUE': 3716, 'TEMP_CNTL_YN': 'N', 'QUARTER': 2, 'DEST_CFS_AREA': '30-99999', 'MODE': 4, 'SCTG': '40', 'SHIPMT_DIST_GC': 1942, 'ORIG_STATE': 24, 'DEST_STATE': 30, 'DEST_MA': 99999}, {'EXPORT_YN': 'N', 'ORIG_CFS_AREA': '19-99999', 'SHIPMT_DIST_ROUTED': 22, 'EXPORT_CNTRY': 'N', 'WGT_FACTOR': 310.5, 'SHIPMT_ID': 7, 'ORIG_MA': 99999, 'HAZMAT': 'N', 'NAICS': 337, 'SHIPMT_WGHT': 13501, 'SHIPMT_VALUE': 43738, 'TEMP_CNTL_YN': 'N', 'QUARTER': 3, 'DEST_CFS_AREA': '19-99999', 'MODE': 5, 'SCTG': '26', 'SHIPMT_DIST_GC': 16, 'ORIG_STATE': 19, 'DEST_STATE': 19, 'DEST_MA': 99999}, {'EXPORT_YN': 'N', 'ORIG_CFS_AREA': '06-41740', 'SHIPMT_DIST_ROUTED': 306, 'EXPORT_CNTRY': 'N', 'WGT_FACTOR': 138.5, 'SHIPMT_ID': 8, 'ORIG_MA': 41740, 'HAZMAT': 'N', 'NAICS': 4239, 'SHIPMT_WGHT': 4, 'SHIPMT_VALUE': 77, 'TEMP_CNTL_YN': 'N', 'QUARTER': 1, 'DEST_CFS_AREA': '06-99999', 'MODE': 14, 'SCTG': '40', 'SHIPMT_DIST_GC': 272, 'ORIG_STATE': 6, 'DEST_STATE': 6, 'DEST_MA': 99999}  ... displaying 10 of 10000 total bound parameter sets ...  {'EXPORT_YN': 'N', 'ORIG_CFS_AREA': '49-482', 'SHIPMT_DIST_ROUTED': 1707, 'EXPORT_CNTRY': 'N', 'WGT_FACTOR': 69.1, 'SHIPMT_ID': 9999, 'ORIG_MA': 482, 'HAZMAT': 'N', 'NAICS': 326, 'SHIPMT_WGHT': 11, 'SHIPMT_VALUE': 50, 'TEMP_CNTL_YN': 'N', 'QUARTER': 2, 'DEST_CFS_AREA': '26-99999', 'MODE': 14, 'SCTG': '40', 'SHIPMT_DIST_GC': 1449, 'ORIG_STATE': 49, 'DEST_STATE': 26, 'DEST_MA': 99999}, {'EXPORT_YN': 'N', 'ORIG_CFS_AREA': '55-99999', 'SHIPMT_DIST_ROUTED': 406, 'EXPORT_CNTRY': 'N', 'WGT_FACTOR': 176.0, 'SHIPMT_ID': 10000, 'ORIG_MA': 99999, 'HAZMAT': 'N', 'NAICS': 325, 'SHIPMT_WGHT': 54663, 'SHIPMT_VALUE': 5712, 'TEMP_CNTL_YN': 'N', 'QUARTER': 3, 'DEST_CFS_AREA': '31-420', 'MODE': 4, 'SCTG': '04', 'SHIPMT_DIST_GC': 337, 'ORIG_STATE': 55, 'DEST_STATE': 31, 'DEST_MA': 420})\n"
     ]
    },
    {
     "name": "stderr",
     "output_type": "stream",
     "text": [
      "INFO:sqlalchemy.engine.base.Engine:({'EXPORT_YN': 'N', 'ORIG_CFS_AREA': '25-148', 'SHIPMT_DIST_ROUTED': 17, 'EXPORT_CNTRY': 'N', 'WGT_FACTOR': 208.5, 'SHIPMT_ID': 1, 'ORIG_MA': 148, 'HAZMAT': 'N', 'NAICS': 333, 'SHIPMT_WGHT': 11, 'SHIPMT_VALUE': 2178, 'TEMP_CNTL_YN': 'N', 'QUARTER': 2, 'DEST_CFS_AREA': '25-148', 'MODE': 14, 'SCTG': '35', 'SHIPMT_DIST_GC': 14, 'ORIG_STATE': 25, 'DEST_STATE': 25, 'DEST_MA': 148}, {'EXPORT_YN': 'N', 'ORIG_CFS_AREA': '42-428', 'SHIPMT_DIST_ROUTED': 2734, 'EXPORT_CNTRY': 'N', 'WGT_FACTOR': 193.3, 'SHIPMT_ID': 2, 'ORIG_MA': 428, 'HAZMAT': 'N', 'NAICS': 311, 'SHIPMT_WGHT': 11, 'SHIPMT_VALUE': 344, 'TEMP_CNTL_YN': 'N', 'QUARTER': 3, 'DEST_CFS_AREA': '06-41740', 'MODE': 14, 'SCTG': '35', 'SHIPMT_DIST_GC': 2344, 'ORIG_STATE': 42, 'DEST_STATE': 6, 'DEST_MA': 41740}, {'EXPORT_YN': 'N', 'ORIG_CFS_AREA': '26-220', 'SHIPMT_DIST_ROUTED': 579, 'EXPORT_CNTRY': 'N', 'WGT_FACTOR': 51.2, 'SHIPMT_ID': 3, 'ORIG_MA': 220, 'HAZMAT': 'N', 'NAICS': 322, 'SHIPMT_WGHT': 5134, 'SHIPMT_VALUE': 4197, 'TEMP_CNTL_YN': 'N', 'QUARTER': 2, 'DEST_CFS_AREA': '47-314', 'MODE': 4, 'SCTG': '27', 'SHIPMT_DIST_GC': 470, 'ORIG_STATE': 26, 'DEST_STATE': 47, 'DEST_MA': 314}, {'EXPORT_YN': 'N', 'ORIG_CFS_AREA': '20-556', 'SHIPMT_DIST_ROUTED': 3, 'EXPORT_CNTRY': 'N', 'WGT_FACTOR': 238.7, 'SHIPMT_ID': 4, 'ORIG_MA': 556, 'HAZMAT': 'N', 'NAICS': 323, 'SHIPMT_WGHT': 6, 'SHIPMT_VALUE': 116, 'TEMP_CNTL_YN': 'N', 'QUARTER': 1, 'DEST_CFS_AREA': '20-556', 'MODE': 4, 'SCTG': '29', 'SHIPMT_DIST_GC': 3, 'ORIG_STATE': 20, 'DEST_STATE': 20, 'DEST_MA': 556}, {'EXPORT_YN': 'N', 'ORIG_CFS_AREA': '12-99999', 'SHIPMT_DIST_ROUTED': 201, 'EXPORT_CNTRY': 'N', 'WGT_FACTOR': 398.1, 'SHIPMT_ID': 5, 'ORIG_MA': 99999, 'HAZMAT': 'N', 'NAICS': 4235, 'SHIPMT_WGHT': 527, 'SHIPMT_VALUE': 388, 'TEMP_CNTL_YN': 'N', 'QUARTER': 3, 'DEST_CFS_AREA': '12-99999', 'MODE': 5, 'SCTG': '33', 'SHIPMT_DIST_GC': 124, 'ORIG_STATE': 12, 'DEST_STATE': 12, 'DEST_MA': 99999}, {'EXPORT_YN': 'Y', 'ORIG_CFS_AREA': '24-47900', 'SHIPMT_DIST_ROUTED': 2265, 'EXPORT_CNTRY': 'C', 'WGT_FACTOR': 21.9, 'SHIPMT_ID': 6, 'ORIG_MA': 47900, 'HAZMAT': 'N', 'NAICS': 337, 'SHIPMT_WGHT': 1132, 'SHIPMT_VALUE': 3716, 'TEMP_CNTL_YN': 'N', 'QUARTER': 2, 'DEST_CFS_AREA': '30-99999', 'MODE': 4, 'SCTG': '40', 'SHIPMT_DIST_GC': 1942, 'ORIG_STATE': 24, 'DEST_STATE': 30, 'DEST_MA': 99999}, {'EXPORT_YN': 'N', 'ORIG_CFS_AREA': '19-99999', 'SHIPMT_DIST_ROUTED': 22, 'EXPORT_CNTRY': 'N', 'WGT_FACTOR': 310.5, 'SHIPMT_ID': 7, 'ORIG_MA': 99999, 'HAZMAT': 'N', 'NAICS': 337, 'SHIPMT_WGHT': 13501, 'SHIPMT_VALUE': 43738, 'TEMP_CNTL_YN': 'N', 'QUARTER': 3, 'DEST_CFS_AREA': '19-99999', 'MODE': 5, 'SCTG': '26', 'SHIPMT_DIST_GC': 16, 'ORIG_STATE': 19, 'DEST_STATE': 19, 'DEST_MA': 99999}, {'EXPORT_YN': 'N', 'ORIG_CFS_AREA': '06-41740', 'SHIPMT_DIST_ROUTED': 306, 'EXPORT_CNTRY': 'N', 'WGT_FACTOR': 138.5, 'SHIPMT_ID': 8, 'ORIG_MA': 41740, 'HAZMAT': 'N', 'NAICS': 4239, 'SHIPMT_WGHT': 4, 'SHIPMT_VALUE': 77, 'TEMP_CNTL_YN': 'N', 'QUARTER': 1, 'DEST_CFS_AREA': '06-99999', 'MODE': 14, 'SCTG': '40', 'SHIPMT_DIST_GC': 272, 'ORIG_STATE': 6, 'DEST_STATE': 6, 'DEST_MA': 99999}  ... displaying 10 of 10000 total bound parameter sets ...  {'EXPORT_YN': 'N', 'ORIG_CFS_AREA': '49-482', 'SHIPMT_DIST_ROUTED': 1707, 'EXPORT_CNTRY': 'N', 'WGT_FACTOR': 69.1, 'SHIPMT_ID': 9999, 'ORIG_MA': 482, 'HAZMAT': 'N', 'NAICS': 326, 'SHIPMT_WGHT': 11, 'SHIPMT_VALUE': 50, 'TEMP_CNTL_YN': 'N', 'QUARTER': 2, 'DEST_CFS_AREA': '26-99999', 'MODE': 14, 'SCTG': '40', 'SHIPMT_DIST_GC': 1449, 'ORIG_STATE': 49, 'DEST_STATE': 26, 'DEST_MA': 99999}, {'EXPORT_YN': 'N', 'ORIG_CFS_AREA': '55-99999', 'SHIPMT_DIST_ROUTED': 406, 'EXPORT_CNTRY': 'N', 'WGT_FACTOR': 176.0, 'SHIPMT_ID': 10000, 'ORIG_MA': 99999, 'HAZMAT': 'N', 'NAICS': 325, 'SHIPMT_WGHT': 54663, 'SHIPMT_VALUE': 5712, 'TEMP_CNTL_YN': 'N', 'QUARTER': 3, 'DEST_CFS_AREA': '31-420', 'MODE': 4, 'SCTG': '04', 'SHIPMT_DIST_GC': 337, 'ORIG_STATE': 55, 'DEST_STATE': 31, 'DEST_MA': 420})\n"
     ]
    },
    {
     "name": "stdout",
     "output_type": "stream",
     "text": [
      "2015-11-22 16:22:41,104 INFO sqlalchemy.engine.base.Engine INSERT INTO transactions (\"SHIPMT_ID\", \"ORIG_STATE\", \"ORIG_MA\", \"ORIG_CFS_AREA\", \"DEST_STATE\", \"DEST_MA\", \"DEST_CFS_AREA\", \"NAICS\", \"QUARTER\", \"SCTG\", \"MODE\", \"SHIPMT_VALUE\", \"SHIPMT_WGHT\", \"SHIPMT_DIST_GC\", \"SHIPMT_DIST_ROUTED\", \"TEMP_CNTL_YN\", \"EXPORT_YN\", \"EXPORT_CNTRY\", \"HAZMAT\", \"WGT_FACTOR\") VALUES (%(SHIPMT_ID)s, %(ORIG_STATE)s, %(ORIG_MA)s, %(ORIG_CFS_AREA)s, %(DEST_STATE)s, %(DEST_MA)s, %(DEST_CFS_AREA)s, %(NAICS)s, %(QUARTER)s, %(SCTG)s, %(MODE)s, %(SHIPMT_VALUE)s, %(SHIPMT_WGHT)s, %(SHIPMT_DIST_GC)s, %(SHIPMT_DIST_ROUTED)s, %(TEMP_CNTL_YN)s, %(EXPORT_YN)s, %(EXPORT_CNTRY)s, %(HAZMAT)s, %(WGT_FACTOR)s)\n"
     ]
    },
    {
     "name": "stderr",
     "output_type": "stream",
     "text": [
      "INFO:sqlalchemy.engine.base.Engine:INSERT INTO transactions (\"SHIPMT_ID\", \"ORIG_STATE\", \"ORIG_MA\", \"ORIG_CFS_AREA\", \"DEST_STATE\", \"DEST_MA\", \"DEST_CFS_AREA\", \"NAICS\", \"QUARTER\", \"SCTG\", \"MODE\", \"SHIPMT_VALUE\", \"SHIPMT_WGHT\", \"SHIPMT_DIST_GC\", \"SHIPMT_DIST_ROUTED\", \"TEMP_CNTL_YN\", \"EXPORT_YN\", \"EXPORT_CNTRY\", \"HAZMAT\", \"WGT_FACTOR\") VALUES (%(SHIPMT_ID)s, %(ORIG_STATE)s, %(ORIG_MA)s, %(ORIG_CFS_AREA)s, %(DEST_STATE)s, %(DEST_MA)s, %(DEST_CFS_AREA)s, %(NAICS)s, %(QUARTER)s, %(SCTG)s, %(MODE)s, %(SHIPMT_VALUE)s, %(SHIPMT_WGHT)s, %(SHIPMT_DIST_GC)s, %(SHIPMT_DIST_ROUTED)s, %(TEMP_CNTL_YN)s, %(EXPORT_YN)s, %(EXPORT_CNTRY)s, %(HAZMAT)s, %(WGT_FACTOR)s)\n"
     ]
    },
    {
     "name": "stdout",
     "output_type": "stream",
     "text": [
      "2015-11-22 16:22:41,105 INFO sqlalchemy.engine.base.Engine ({'EXPORT_YN': 'N', 'SHIPMT_ID': 10001, 'MODE': 4, 'SHIPMT_DIST_ROUTED': 113, 'EXPORT_CNTRY': 'N', 'ORIG_STATE': 8, 'ORIG_MA': 216, 'HAZMAT': 'N', 'QUARTER': 3, 'SHIPMT_VALUE': 451, 'TEMP_CNTL_YN': 'N', 'SHIPMT_WGHT': 382, 'DEST_CFS_AREA': '08-99999', 'SCTG': '40', 'ORIG_CFS_AREA': '08-216', 'WGT_FACTOR': 32.9, 'SHIPMT_DIST_GC': 90, 'NAICS': 325, 'DEST_STATE': 8, 'DEST_MA': 99999}, {'EXPORT_YN': 'N', 'SHIPMT_ID': 10002, 'MODE': 14, 'SHIPMT_DIST_ROUTED': 103, 'EXPORT_CNTRY': 'N', 'ORIG_STATE': 4, 'ORIG_MA': 536, 'HAZMAT': 'N', 'QUARTER': 1, 'SHIPMT_VALUE': 347, 'TEMP_CNTL_YN': 'N', 'SHIPMT_WGHT': 6, 'DEST_CFS_AREA': '04-99999', 'SCTG': '35', 'ORIG_CFS_AREA': '04-536', 'WGT_FACTOR': 587.8, 'SHIPMT_DIST_GC': 80, 'NAICS': 4236, 'DEST_STATE': 4, 'DEST_MA': 99999}, {'EXPORT_YN': 'N', 'SHIPMT_ID': 10003, 'MODE': 14, 'SHIPMT_DIST_ROUTED': 1400, 'EXPORT_CNTRY': 'N', 'ORIG_STATE': 9, 'ORIG_MA': 25540, 'HAZMAT': 'N', 'QUARTER': 2, 'SHIPMT_VALUE': 8575, 'TEMP_CNTL_YN': 'N', 'SHIPMT_WGHT': 2, 'DEST_CFS_AREA': '12-370', 'SCTG': '33', 'ORIG_CFS_AREA': '09-25540', 'WGT_FACTOR': 1767.4, 'SHIPMT_DIST_GC': 1164, 'NAICS': 332, 'DEST_STATE': 12, 'DEST_MA': 370}, {'EXPORT_YN': 'N', 'SHIPMT_ID': 10004, 'MODE': 5, 'SHIPMT_DIST_ROUTED': 15, 'EXPORT_CNTRY': 'N', 'ORIG_STATE': 34, 'ORIG_MA': 428, 'HAZMAT': 'H', 'QUARTER': 3, 'SHIPMT_VALUE': 722, 'TEMP_CNTL_YN': 'N', 'SHIPMT_WGHT': 5, 'DEST_CFS_AREA': '42-428', 'SCTG': '21', 'ORIG_CFS_AREA': '34-428', 'WGT_FACTOR': 2597.8, 'SHIPMT_DIST_GC': 13, 'NAICS': 4242, 'DEST_STATE': 42, 'DEST_MA': 428}, {'EXPORT_YN': 'N', 'SHIPMT_ID': 10005, 'MODE': 14, 'SHIPMT_DIST_ROUTED': 610, 'EXPORT_CNTRY': 'N', 'ORIG_STATE': 45, 'ORIG_MA': 273, 'HAZMAT': 'N', 'QUARTER': 4, 'SHIPMT_VALUE': 123, 'TEMP_CNTL_YN': 'N', 'SHIPMT_WGHT': 83, 'DEST_CFS_AREA': '18-258', 'SCTG': '29', 'ORIG_CFS_AREA': '45-273', 'WGT_FACTOR': 265.9, 'SHIPMT_DIST_GC': 461, 'NAICS': 323, 'DEST_STATE': 18, 'DEST_MA': 258}, {'EXPORT_YN': 'N', 'SHIPMT_ID': 10006, 'MODE': 4, 'SHIPMT_DIST_ROUTED': 2736, 'EXPORT_CNTRY': 'N', 'ORIG_STATE': 6, 'ORIG_MA': 99999, 'HAZMAT': 'N', 'QUARTER': 3, 'SHIPMT_VALUE': 10691, 'TEMP_CNTL_YN': 'Y', 'SHIPMT_WGHT': 3996, 'DEST_CFS_AREA': '36-160', 'SCTG': '03', 'ORIG_CFS_AREA': '06-99999', 'WGT_FACTOR': 3030.8, 'SHIPMT_DIST_GC': 2286, 'NAICS': 4244, 'DEST_STATE': 36, 'DEST_MA': 160}, {'EXPORT_YN': 'N', 'SHIPMT_ID': 10007, 'MODE': 4, 'SHIPMT_DIST_ROUTED': 374, 'EXPORT_CNTRY': 'N', 'ORIG_STATE': 41, 'ORIG_MA': 440, 'HAZMAT': 'N', 'QUARTER': 3, 'SHIPMT_VALUE': 1904, 'TEMP_CNTL_YN': 'Y', 'SHIPMT_WGHT': 411, 'DEST_CFS_AREA': '53-99999', 'SCTG': '03', 'ORIG_CFS_AREA': '41-440', 'WGT_FACTOR': 420.9, 'SHIPMT_DIST_GC': 303, 'NAICS': 4249, 'DEST_STATE': 53, 'DEST_MA': 99999}, {'EXPORT_YN': 'N', 'SHIPMT_ID': 10008, 'MODE': 14, 'SHIPMT_DIST_ROUTED': 1327, 'EXPORT_CNTRY': 'N', 'ORIG_STATE': 34, 'ORIG_MA': 408, 'HAZMAT': 'N', 'QUARTER': 4, 'SHIPMT_VALUE': 467, 'TEMP_CNTL_YN': 'N', 'SHIPMT_WGHT': 8, 'DEST_CFS_AREA': '27-99999', 'SCTG': '34', 'ORIG_CFS_AREA': '34-408', 'WGT_FACTOR': 292.6, 'SHIPMT_DIST_GC': 1113, 'NAICS': 4238, 'DEST_STATE': 27, 'DEST_MA': 99999}  ... displaying 10 of 10000 total bound parameter sets ...  {'EXPORT_YN': 'N', 'SHIPMT_ID': 19999, 'MODE': 4, 'SHIPMT_DIST_ROUTED': 11, 'EXPORT_CNTRY': 'N', 'ORIG_STATE': 36, 'ORIG_MA': 104, 'HAZMAT': 'N', 'QUARTER': 3, 'SHIPMT_VALUE': 289, 'TEMP_CNTL_YN': 'N', 'SHIPMT_WGHT': 145, 'DEST_CFS_AREA': '36-104', 'SCTG': '24', 'ORIG_CFS_AREA': '36-104', 'WGT_FACTOR': 566.6, 'SHIPMT_DIST_GC': 8, 'NAICS': 4246, 'DEST_STATE': 36, 'DEST_MA': 104}, {'EXPORT_YN': 'N', 'SHIPMT_ID': 20000, 'MODE': 5, 'SHIPMT_DIST_ROUTED': 13, 'EXPORT_CNTRY': 'N', 'ORIG_STATE': 39, 'ORIG_MA': 99999, 'HAZMAT': 'N', 'QUARTER': 2, 'SHIPMT_VALUE': 300, 'TEMP_CNTL_YN': 'N', 'SHIPMT_WGHT': 180, 'DEST_CFS_AREA': '39-99999', 'SCTG': '29', 'ORIG_CFS_AREA': '39-99999', 'WGT_FACTOR': 39.3, 'SHIPMT_DIST_GC': 13, 'NAICS': 5111, 'DEST_STATE': 39, 'DEST_MA': 99999})\n"
     ]
    },
    {
     "name": "stderr",
     "output_type": "stream",
     "text": [
      "INFO:sqlalchemy.engine.base.Engine:({'EXPORT_YN': 'N', 'SHIPMT_ID': 10001, 'MODE': 4, 'SHIPMT_DIST_ROUTED': 113, 'EXPORT_CNTRY': 'N', 'ORIG_STATE': 8, 'ORIG_MA': 216, 'HAZMAT': 'N', 'QUARTER': 3, 'SHIPMT_VALUE': 451, 'TEMP_CNTL_YN': 'N', 'SHIPMT_WGHT': 382, 'DEST_CFS_AREA': '08-99999', 'SCTG': '40', 'ORIG_CFS_AREA': '08-216', 'WGT_FACTOR': 32.9, 'SHIPMT_DIST_GC': 90, 'NAICS': 325, 'DEST_STATE': 8, 'DEST_MA': 99999}, {'EXPORT_YN': 'N', 'SHIPMT_ID': 10002, 'MODE': 14, 'SHIPMT_DIST_ROUTED': 103, 'EXPORT_CNTRY': 'N', 'ORIG_STATE': 4, 'ORIG_MA': 536, 'HAZMAT': 'N', 'QUARTER': 1, 'SHIPMT_VALUE': 347, 'TEMP_CNTL_YN': 'N', 'SHIPMT_WGHT': 6, 'DEST_CFS_AREA': '04-99999', 'SCTG': '35', 'ORIG_CFS_AREA': '04-536', 'WGT_FACTOR': 587.8, 'SHIPMT_DIST_GC': 80, 'NAICS': 4236, 'DEST_STATE': 4, 'DEST_MA': 99999}, {'EXPORT_YN': 'N', 'SHIPMT_ID': 10003, 'MODE': 14, 'SHIPMT_DIST_ROUTED': 1400, 'EXPORT_CNTRY': 'N', 'ORIG_STATE': 9, 'ORIG_MA': 25540, 'HAZMAT': 'N', 'QUARTER': 2, 'SHIPMT_VALUE': 8575, 'TEMP_CNTL_YN': 'N', 'SHIPMT_WGHT': 2, 'DEST_CFS_AREA': '12-370', 'SCTG': '33', 'ORIG_CFS_AREA': '09-25540', 'WGT_FACTOR': 1767.4, 'SHIPMT_DIST_GC': 1164, 'NAICS': 332, 'DEST_STATE': 12, 'DEST_MA': 370}, {'EXPORT_YN': 'N', 'SHIPMT_ID': 10004, 'MODE': 5, 'SHIPMT_DIST_ROUTED': 15, 'EXPORT_CNTRY': 'N', 'ORIG_STATE': 34, 'ORIG_MA': 428, 'HAZMAT': 'H', 'QUARTER': 3, 'SHIPMT_VALUE': 722, 'TEMP_CNTL_YN': 'N', 'SHIPMT_WGHT': 5, 'DEST_CFS_AREA': '42-428', 'SCTG': '21', 'ORIG_CFS_AREA': '34-428', 'WGT_FACTOR': 2597.8, 'SHIPMT_DIST_GC': 13, 'NAICS': 4242, 'DEST_STATE': 42, 'DEST_MA': 428}, {'EXPORT_YN': 'N', 'SHIPMT_ID': 10005, 'MODE': 14, 'SHIPMT_DIST_ROUTED': 610, 'EXPORT_CNTRY': 'N', 'ORIG_STATE': 45, 'ORIG_MA': 273, 'HAZMAT': 'N', 'QUARTER': 4, 'SHIPMT_VALUE': 123, 'TEMP_CNTL_YN': 'N', 'SHIPMT_WGHT': 83, 'DEST_CFS_AREA': '18-258', 'SCTG': '29', 'ORIG_CFS_AREA': '45-273', 'WGT_FACTOR': 265.9, 'SHIPMT_DIST_GC': 461, 'NAICS': 323, 'DEST_STATE': 18, 'DEST_MA': 258}, {'EXPORT_YN': 'N', 'SHIPMT_ID': 10006, 'MODE': 4, 'SHIPMT_DIST_ROUTED': 2736, 'EXPORT_CNTRY': 'N', 'ORIG_STATE': 6, 'ORIG_MA': 99999, 'HAZMAT': 'N', 'QUARTER': 3, 'SHIPMT_VALUE': 10691, 'TEMP_CNTL_YN': 'Y', 'SHIPMT_WGHT': 3996, 'DEST_CFS_AREA': '36-160', 'SCTG': '03', 'ORIG_CFS_AREA': '06-99999', 'WGT_FACTOR': 3030.8, 'SHIPMT_DIST_GC': 2286, 'NAICS': 4244, 'DEST_STATE': 36, 'DEST_MA': 160}, {'EXPORT_YN': 'N', 'SHIPMT_ID': 10007, 'MODE': 4, 'SHIPMT_DIST_ROUTED': 374, 'EXPORT_CNTRY': 'N', 'ORIG_STATE': 41, 'ORIG_MA': 440, 'HAZMAT': 'N', 'QUARTER': 3, 'SHIPMT_VALUE': 1904, 'TEMP_CNTL_YN': 'Y', 'SHIPMT_WGHT': 411, 'DEST_CFS_AREA': '53-99999', 'SCTG': '03', 'ORIG_CFS_AREA': '41-440', 'WGT_FACTOR': 420.9, 'SHIPMT_DIST_GC': 303, 'NAICS': 4249, 'DEST_STATE': 53, 'DEST_MA': 99999}, {'EXPORT_YN': 'N', 'SHIPMT_ID': 10008, 'MODE': 14, 'SHIPMT_DIST_ROUTED': 1327, 'EXPORT_CNTRY': 'N', 'ORIG_STATE': 34, 'ORIG_MA': 408, 'HAZMAT': 'N', 'QUARTER': 4, 'SHIPMT_VALUE': 467, 'TEMP_CNTL_YN': 'N', 'SHIPMT_WGHT': 8, 'DEST_CFS_AREA': '27-99999', 'SCTG': '34', 'ORIG_CFS_AREA': '34-408', 'WGT_FACTOR': 292.6, 'SHIPMT_DIST_GC': 1113, 'NAICS': 4238, 'DEST_STATE': 27, 'DEST_MA': 99999}  ... displaying 10 of 10000 total bound parameter sets ...  {'EXPORT_YN': 'N', 'SHIPMT_ID': 19999, 'MODE': 4, 'SHIPMT_DIST_ROUTED': 11, 'EXPORT_CNTRY': 'N', 'ORIG_STATE': 36, 'ORIG_MA': 104, 'HAZMAT': 'N', 'QUARTER': 3, 'SHIPMT_VALUE': 289, 'TEMP_CNTL_YN': 'N', 'SHIPMT_WGHT': 145, 'DEST_CFS_AREA': '36-104', 'SCTG': '24', 'ORIG_CFS_AREA': '36-104', 'WGT_FACTOR': 566.6, 'SHIPMT_DIST_GC': 8, 'NAICS': 4246, 'DEST_STATE': 36, 'DEST_MA': 104}, {'EXPORT_YN': 'N', 'SHIPMT_ID': 20000, 'MODE': 5, 'SHIPMT_DIST_ROUTED': 13, 'EXPORT_CNTRY': 'N', 'ORIG_STATE': 39, 'ORIG_MA': 99999, 'HAZMAT': 'N', 'QUARTER': 2, 'SHIPMT_VALUE': 300, 'TEMP_CNTL_YN': 'N', 'SHIPMT_WGHT': 180, 'DEST_CFS_AREA': '39-99999', 'SCTG': '29', 'ORIG_CFS_AREA': '39-99999', 'WGT_FACTOR': 39.3, 'SHIPMT_DIST_GC': 13, 'NAICS': 5111, 'DEST_STATE': 39, 'DEST_MA': 99999})\n"
     ]
    },
    {
     "name": "stdout",
     "output_type": "stream",
     "text": [
      "2015-11-22 16:26:37,468 INFO sqlalchemy.engine.base.Engine INSERT INTO transactions (\"SHIPMT_ID\", \"ORIG_STATE\", \"ORIG_MA\", \"ORIG_CFS_AREA\", \"DEST_STATE\", \"DEST_MA\", \"DEST_CFS_AREA\", \"NAICS\", \"QUARTER\", \"SCTG\", \"MODE\", \"SHIPMT_VALUE\", \"SHIPMT_WGHT\", \"SHIPMT_DIST_GC\", \"SHIPMT_DIST_ROUTED\", \"TEMP_CNTL_YN\", \"EXPORT_YN\", \"EXPORT_CNTRY\", \"HAZMAT\", \"WGT_FACTOR\") VALUES (%(SHIPMT_ID)s, %(ORIG_STATE)s, %(ORIG_MA)s, %(ORIG_CFS_AREA)s, %(DEST_STATE)s, %(DEST_MA)s, %(DEST_CFS_AREA)s, %(NAICS)s, %(QUARTER)s, %(SCTG)s, %(MODE)s, %(SHIPMT_VALUE)s, %(SHIPMT_WGHT)s, %(SHIPMT_DIST_GC)s, %(SHIPMT_DIST_ROUTED)s, %(TEMP_CNTL_YN)s, %(EXPORT_YN)s, %(EXPORT_CNTRY)s, %(HAZMAT)s, %(WGT_FACTOR)s)\n"
     ]
    },
    {
     "name": "stderr",
     "output_type": "stream",
     "text": [
      "INFO:sqlalchemy.engine.base.Engine:INSERT INTO transactions (\"SHIPMT_ID\", \"ORIG_STATE\", \"ORIG_MA\", \"ORIG_CFS_AREA\", \"DEST_STATE\", \"DEST_MA\", \"DEST_CFS_AREA\", \"NAICS\", \"QUARTER\", \"SCTG\", \"MODE\", \"SHIPMT_VALUE\", \"SHIPMT_WGHT\", \"SHIPMT_DIST_GC\", \"SHIPMT_DIST_ROUTED\", \"TEMP_CNTL_YN\", \"EXPORT_YN\", \"EXPORT_CNTRY\", \"HAZMAT\", \"WGT_FACTOR\") VALUES (%(SHIPMT_ID)s, %(ORIG_STATE)s, %(ORIG_MA)s, %(ORIG_CFS_AREA)s, %(DEST_STATE)s, %(DEST_MA)s, %(DEST_CFS_AREA)s, %(NAICS)s, %(QUARTER)s, %(SCTG)s, %(MODE)s, %(SHIPMT_VALUE)s, %(SHIPMT_WGHT)s, %(SHIPMT_DIST_GC)s, %(SHIPMT_DIST_ROUTED)s, %(TEMP_CNTL_YN)s, %(EXPORT_YN)s, %(EXPORT_CNTRY)s, %(HAZMAT)s, %(WGT_FACTOR)s)\n"
     ]
    },
    {
     "name": "stdout",
     "output_type": "stream",
     "text": [
      "2015-11-22 16:26:37,469 INFO sqlalchemy.engine.base.Engine ({'EXPORT_YN': 'N', 'ORIG_CFS_AREA': '49-482', 'MODE': 4, 'SHIPMT_DIST_ROUTED': 141, 'EXPORT_CNTRY': 'N', 'SHIPMT_ID': 20001, 'DEST_CFS_AREA': '49-99999', 'HAZMAT': 'N', 'ORIG_MA': 482, 'QUARTER': 2, 'SHIPMT_VALUE': 26069, 'TEMP_CNTL_YN': 'N', 'SHIPMT_WGHT': 42952, 'SCTG': '32', 'WGT_FACTOR': 17.2, 'SHIPMT_DIST_GC': 118, 'NAICS': 332, 'ORIG_STATE': 49, 'DEST_STATE': 49, 'DEST_MA': 99999}, {'EXPORT_YN': 'N', 'ORIG_CFS_AREA': '23-99999', 'MODE': 4, 'SHIPMT_DIST_ROUTED': 193, 'EXPORT_CNTRY': 'N', 'SHIPMT_ID': 20002, 'DEST_CFS_AREA': '25-148', 'HAZMAT': 'N', 'ORIG_MA': 99999, 'QUARTER': 2, 'SHIPMT_VALUE': 15288, 'TEMP_CNTL_YN': 'N', 'SHIPMT_WGHT': 2380, 'SCTG': '34', 'WGT_FACTOR': 61.8, 'SHIPMT_DIST_GC': 176, 'NAICS': 332, 'ORIG_STATE': 23, 'DEST_STATE': 25, 'DEST_MA': 148}, {'EXPORT_YN': 'N', 'ORIG_CFS_AREA': '51-99999', 'MODE': 5, 'SHIPMT_DIST_ROUTED': 14, 'EXPORT_CNTRY': 'N', 'SHIPMT_ID': 20003, 'DEST_CFS_AREA': '51-99999', 'HAZMAT': 'N', 'ORIG_MA': 99999, 'QUARTER': 3, 'SHIPMT_VALUE': 159, 'TEMP_CNTL_YN': 'N', 'SHIPMT_WGHT': 32287, 'SCTG': '12', 'WGT_FACTOR': 602.3, 'SHIPMT_DIST_GC': 12, 'NAICS': 327, 'ORIG_STATE': 51, 'DEST_STATE': 51, 'DEST_MA': 99999}, {'EXPORT_YN': 'Y', 'ORIG_CFS_AREA': '41-440', 'MODE': 4, 'SHIPMT_DIST_ROUTED': 329, 'EXPORT_CNTRY': 'C', 'SHIPMT_ID': 20004, 'DEST_CFS_AREA': '53-99999', 'HAZMAT': 'N', 'ORIG_MA': 440, 'QUARTER': 4, 'SHIPMT_VALUE': 19521, 'TEMP_CNTL_YN': 'N', 'SHIPMT_WGHT': 52957, 'SCTG': '31', 'WGT_FACTOR': 12.1, 'SHIPMT_DIST_GC': 280, 'NAICS': 327, 'ORIG_STATE': 41, 'DEST_STATE': 53, 'DEST_MA': 99999}, {'EXPORT_YN': 'N', 'ORIG_CFS_AREA': '06-472', 'MODE': 5, 'SHIPMT_DIST_ROUTED': 4, 'EXPORT_CNTRY': 'N', 'SHIPMT_ID': 20005, 'DEST_CFS_AREA': '06-472', 'HAZMAT': 'N', 'ORIG_MA': 472, 'QUARTER': 4, 'SHIPMT_VALUE': 333, 'TEMP_CNTL_YN': 'N', 'SHIPMT_WGHT': 53804, 'SCTG': '11', 'WGT_FACTOR': 772.0, 'SHIPMT_DIST_GC': 4, 'NAICS': 212, 'ORIG_STATE': 6, 'DEST_STATE': 6, 'DEST_MA': 472}, {'EXPORT_YN': 'N', 'ORIG_CFS_AREA': '49-482', 'MODE': 5, 'SHIPMT_DIST_ROUTED': 5, 'EXPORT_CNTRY': 'N', 'SHIPMT_ID': 20006, 'DEST_CFS_AREA': '49-482', 'HAZMAT': 'N', 'ORIG_MA': 482, 'QUARTER': 1, 'SHIPMT_VALUE': 55, 'TEMP_CNTL_YN': 'N', 'SHIPMT_WGHT': 84, 'SCTG': '33', 'WGT_FACTOR': 367.7, 'SHIPMT_DIST_GC': 4, 'NAICS': 4235, 'ORIG_STATE': 49, 'DEST_STATE': 49, 'DEST_MA': 482}, {'EXPORT_YN': 'N', 'ORIG_CFS_AREA': '04-99999', 'MODE': 4, 'SHIPMT_DIST_ROUTED': 196, 'EXPORT_CNTRY': 'N', 'SHIPMT_ID': 20007, 'DEST_CFS_AREA': '04-99999', 'HAZMAT': 'N', 'ORIG_MA': 99999, 'QUARTER': 1, 'SHIPMT_VALUE': 36552, 'TEMP_CNTL_YN': 'N', 'SHIPMT_WGHT': 46249, 'SCTG': '14', 'WGT_FACTOR': 299.0, 'SHIPMT_DIST_GC': 156, 'NAICS': 212, 'ORIG_STATE': 4, 'DEST_STATE': 4, 'DEST_MA': 99999}, {'EXPORT_YN': 'N', 'ORIG_CFS_AREA': '10-428', 'MODE': 5, 'SHIPMT_DIST_ROUTED': 53, 'EXPORT_CNTRY': 'N', 'SHIPMT_ID': 20008, 'DEST_CFS_AREA': '24-12580', 'HAZMAT': 'N', 'ORIG_MA': 428, 'QUARTER': 3, 'SHIPMT_VALUE': 34777, 'TEMP_CNTL_YN': 'N', 'SHIPMT_WGHT': 5869, 'SCTG': '36', 'WGT_FACTOR': 465.1, 'SHIPMT_DIST_GC': 37, 'NAICS': 4238, 'ORIG_STATE': 10, 'DEST_STATE': 24, 'DEST_MA': 12580}  ... displaying 10 of 10000 total bound parameter sets ...  {'EXPORT_YN': 'N', 'ORIG_CFS_AREA': '27-378', 'MODE': 5, 'SHIPMT_DIST_ROUTED': 412, 'EXPORT_CNTRY': 'N', 'SHIPMT_ID': 29999, 'DEST_CFS_AREA': '17-99999', 'HAZMAT': 'N', 'ORIG_MA': 378, 'QUARTER': 2, 'SHIPMT_VALUE': 91163, 'TEMP_CNTL_YN': 'Y', 'SHIPMT_WGHT': 6805, 'SCTG': '43', 'WGT_FACTOR': 74.7, 'SHIPMT_DIST_GC': 283, 'NAICS': 4249, 'ORIG_STATE': 27, 'DEST_STATE': 17, 'DEST_MA': 99999}, {'EXPORT_YN': 'Y', 'ORIG_CFS_AREA': '13-99999', 'MODE': 4, 'SHIPMT_DIST_ROUTED': 556, 'EXPORT_CNTRY': 'O', 'SHIPMT_ID': 30000, 'DEST_CFS_AREA': '22-406', 'HAZMAT': 'N', 'ORIG_MA': 99999, 'QUARTER': 4, 'SHIPMT_VALUE': 3, 'TEMP_CNTL_YN': 'N', 'SHIPMT_WGHT': 2, 'SCTG': '30', 'WGT_FACTOR': 4683.3, 'SHIPMT_DIST_GC': 466, 'NAICS': 314, 'ORIG_STATE': 13, 'DEST_STATE': 22, 'DEST_MA': 406})\n"
     ]
    },
    {
     "name": "stderr",
     "output_type": "stream",
     "text": [
      "INFO:sqlalchemy.engine.base.Engine:({'EXPORT_YN': 'N', 'ORIG_CFS_AREA': '49-482', 'MODE': 4, 'SHIPMT_DIST_ROUTED': 141, 'EXPORT_CNTRY': 'N', 'SHIPMT_ID': 20001, 'DEST_CFS_AREA': '49-99999', 'HAZMAT': 'N', 'ORIG_MA': 482, 'QUARTER': 2, 'SHIPMT_VALUE': 26069, 'TEMP_CNTL_YN': 'N', 'SHIPMT_WGHT': 42952, 'SCTG': '32', 'WGT_FACTOR': 17.2, 'SHIPMT_DIST_GC': 118, 'NAICS': 332, 'ORIG_STATE': 49, 'DEST_STATE': 49, 'DEST_MA': 99999}, {'EXPORT_YN': 'N', 'ORIG_CFS_AREA': '23-99999', 'MODE': 4, 'SHIPMT_DIST_ROUTED': 193, 'EXPORT_CNTRY': 'N', 'SHIPMT_ID': 20002, 'DEST_CFS_AREA': '25-148', 'HAZMAT': 'N', 'ORIG_MA': 99999, 'QUARTER': 2, 'SHIPMT_VALUE': 15288, 'TEMP_CNTL_YN': 'N', 'SHIPMT_WGHT': 2380, 'SCTG': '34', 'WGT_FACTOR': 61.8, 'SHIPMT_DIST_GC': 176, 'NAICS': 332, 'ORIG_STATE': 23, 'DEST_STATE': 25, 'DEST_MA': 148}, {'EXPORT_YN': 'N', 'ORIG_CFS_AREA': '51-99999', 'MODE': 5, 'SHIPMT_DIST_ROUTED': 14, 'EXPORT_CNTRY': 'N', 'SHIPMT_ID': 20003, 'DEST_CFS_AREA': '51-99999', 'HAZMAT': 'N', 'ORIG_MA': 99999, 'QUARTER': 3, 'SHIPMT_VALUE': 159, 'TEMP_CNTL_YN': 'N', 'SHIPMT_WGHT': 32287, 'SCTG': '12', 'WGT_FACTOR': 602.3, 'SHIPMT_DIST_GC': 12, 'NAICS': 327, 'ORIG_STATE': 51, 'DEST_STATE': 51, 'DEST_MA': 99999}, {'EXPORT_YN': 'Y', 'ORIG_CFS_AREA': '41-440', 'MODE': 4, 'SHIPMT_DIST_ROUTED': 329, 'EXPORT_CNTRY': 'C', 'SHIPMT_ID': 20004, 'DEST_CFS_AREA': '53-99999', 'HAZMAT': 'N', 'ORIG_MA': 440, 'QUARTER': 4, 'SHIPMT_VALUE': 19521, 'TEMP_CNTL_YN': 'N', 'SHIPMT_WGHT': 52957, 'SCTG': '31', 'WGT_FACTOR': 12.1, 'SHIPMT_DIST_GC': 280, 'NAICS': 327, 'ORIG_STATE': 41, 'DEST_STATE': 53, 'DEST_MA': 99999}, {'EXPORT_YN': 'N', 'ORIG_CFS_AREA': '06-472', 'MODE': 5, 'SHIPMT_DIST_ROUTED': 4, 'EXPORT_CNTRY': 'N', 'SHIPMT_ID': 20005, 'DEST_CFS_AREA': '06-472', 'HAZMAT': 'N', 'ORIG_MA': 472, 'QUARTER': 4, 'SHIPMT_VALUE': 333, 'TEMP_CNTL_YN': 'N', 'SHIPMT_WGHT': 53804, 'SCTG': '11', 'WGT_FACTOR': 772.0, 'SHIPMT_DIST_GC': 4, 'NAICS': 212, 'ORIG_STATE': 6, 'DEST_STATE': 6, 'DEST_MA': 472}, {'EXPORT_YN': 'N', 'ORIG_CFS_AREA': '49-482', 'MODE': 5, 'SHIPMT_DIST_ROUTED': 5, 'EXPORT_CNTRY': 'N', 'SHIPMT_ID': 20006, 'DEST_CFS_AREA': '49-482', 'HAZMAT': 'N', 'ORIG_MA': 482, 'QUARTER': 1, 'SHIPMT_VALUE': 55, 'TEMP_CNTL_YN': 'N', 'SHIPMT_WGHT': 84, 'SCTG': '33', 'WGT_FACTOR': 367.7, 'SHIPMT_DIST_GC': 4, 'NAICS': 4235, 'ORIG_STATE': 49, 'DEST_STATE': 49, 'DEST_MA': 482}, {'EXPORT_YN': 'N', 'ORIG_CFS_AREA': '04-99999', 'MODE': 4, 'SHIPMT_DIST_ROUTED': 196, 'EXPORT_CNTRY': 'N', 'SHIPMT_ID': 20007, 'DEST_CFS_AREA': '04-99999', 'HAZMAT': 'N', 'ORIG_MA': 99999, 'QUARTER': 1, 'SHIPMT_VALUE': 36552, 'TEMP_CNTL_YN': 'N', 'SHIPMT_WGHT': 46249, 'SCTG': '14', 'WGT_FACTOR': 299.0, 'SHIPMT_DIST_GC': 156, 'NAICS': 212, 'ORIG_STATE': 4, 'DEST_STATE': 4, 'DEST_MA': 99999}, {'EXPORT_YN': 'N', 'ORIG_CFS_AREA': '10-428', 'MODE': 5, 'SHIPMT_DIST_ROUTED': 53, 'EXPORT_CNTRY': 'N', 'SHIPMT_ID': 20008, 'DEST_CFS_AREA': '24-12580', 'HAZMAT': 'N', 'ORIG_MA': 428, 'QUARTER': 3, 'SHIPMT_VALUE': 34777, 'TEMP_CNTL_YN': 'N', 'SHIPMT_WGHT': 5869, 'SCTG': '36', 'WGT_FACTOR': 465.1, 'SHIPMT_DIST_GC': 37, 'NAICS': 4238, 'ORIG_STATE': 10, 'DEST_STATE': 24, 'DEST_MA': 12580}  ... displaying 10 of 10000 total bound parameter sets ...  {'EXPORT_YN': 'N', 'ORIG_CFS_AREA': '27-378', 'MODE': 5, 'SHIPMT_DIST_ROUTED': 412, 'EXPORT_CNTRY': 'N', 'SHIPMT_ID': 29999, 'DEST_CFS_AREA': '17-99999', 'HAZMAT': 'N', 'ORIG_MA': 378, 'QUARTER': 2, 'SHIPMT_VALUE': 91163, 'TEMP_CNTL_YN': 'Y', 'SHIPMT_WGHT': 6805, 'SCTG': '43', 'WGT_FACTOR': 74.7, 'SHIPMT_DIST_GC': 283, 'NAICS': 4249, 'ORIG_STATE': 27, 'DEST_STATE': 17, 'DEST_MA': 99999}, {'EXPORT_YN': 'Y', 'ORIG_CFS_AREA': '13-99999', 'MODE': 4, 'SHIPMT_DIST_ROUTED': 556, 'EXPORT_CNTRY': 'O', 'SHIPMT_ID': 30000, 'DEST_CFS_AREA': '22-406', 'HAZMAT': 'N', 'ORIG_MA': 99999, 'QUARTER': 4, 'SHIPMT_VALUE': 3, 'TEMP_CNTL_YN': 'N', 'SHIPMT_WGHT': 2, 'SCTG': '30', 'WGT_FACTOR': 4683.3, 'SHIPMT_DIST_GC': 466, 'NAICS': 314, 'ORIG_STATE': 13, 'DEST_STATE': 22, 'DEST_MA': 406})\n"
     ]
    },
    {
     "name": "stdout",
     "output_type": "stream",
     "text": [
      "2015-11-22 16:30:39,011 INFO sqlalchemy.engine.base.Engine INSERT INTO transactions (\"SHIPMT_ID\", \"ORIG_STATE\", \"ORIG_MA\", \"ORIG_CFS_AREA\", \"DEST_STATE\", \"DEST_MA\", \"DEST_CFS_AREA\", \"NAICS\", \"QUARTER\", \"SCTG\", \"MODE\", \"SHIPMT_VALUE\", \"SHIPMT_WGHT\", \"SHIPMT_DIST_GC\", \"SHIPMT_DIST_ROUTED\", \"TEMP_CNTL_YN\", \"EXPORT_YN\", \"EXPORT_CNTRY\", \"HAZMAT\", \"WGT_FACTOR\") VALUES (%(SHIPMT_ID)s, %(ORIG_STATE)s, %(ORIG_MA)s, %(ORIG_CFS_AREA)s, %(DEST_STATE)s, %(DEST_MA)s, %(DEST_CFS_AREA)s, %(NAICS)s, %(QUARTER)s, %(SCTG)s, %(MODE)s, %(SHIPMT_VALUE)s, %(SHIPMT_WGHT)s, %(SHIPMT_DIST_GC)s, %(SHIPMT_DIST_ROUTED)s, %(TEMP_CNTL_YN)s, %(EXPORT_YN)s, %(EXPORT_CNTRY)s, %(HAZMAT)s, %(WGT_FACTOR)s)\n"
     ]
    },
    {
     "name": "stderr",
     "output_type": "stream",
     "text": [
      "INFO:sqlalchemy.engine.base.Engine:INSERT INTO transactions (\"SHIPMT_ID\", \"ORIG_STATE\", \"ORIG_MA\", \"ORIG_CFS_AREA\", \"DEST_STATE\", \"DEST_MA\", \"DEST_CFS_AREA\", \"NAICS\", \"QUARTER\", \"SCTG\", \"MODE\", \"SHIPMT_VALUE\", \"SHIPMT_WGHT\", \"SHIPMT_DIST_GC\", \"SHIPMT_DIST_ROUTED\", \"TEMP_CNTL_YN\", \"EXPORT_YN\", \"EXPORT_CNTRY\", \"HAZMAT\", \"WGT_FACTOR\") VALUES (%(SHIPMT_ID)s, %(ORIG_STATE)s, %(ORIG_MA)s, %(ORIG_CFS_AREA)s, %(DEST_STATE)s, %(DEST_MA)s, %(DEST_CFS_AREA)s, %(NAICS)s, %(QUARTER)s, %(SCTG)s, %(MODE)s, %(SHIPMT_VALUE)s, %(SHIPMT_WGHT)s, %(SHIPMT_DIST_GC)s, %(SHIPMT_DIST_ROUTED)s, %(TEMP_CNTL_YN)s, %(EXPORT_YN)s, %(EXPORT_CNTRY)s, %(HAZMAT)s, %(WGT_FACTOR)s)\n"
     ]
    },
    {
     "name": "stdout",
     "output_type": "stream",
     "text": [
      "2015-11-22 16:30:39,012 INFO sqlalchemy.engine.base.Engine ({'SHIPMT_DIST_ROUTED': 149, 'ORIG_STATE': 39, 'MODE': 4, 'EXPORT_YN': 'N', 'EXPORT_CNTRY': 'N', 'SHIPMT_ID': 30001, 'DEST_CFS_AREA': '39-99999', 'HAZMAT': 'N', 'ORIG_MA': 99999, 'SHIPMT_WGHT': 41305, 'SHIPMT_VALUE': 15283, 'TEMP_CNTL_YN': 'N', 'WGT_FACTOR': 135.5, 'SCTG': '32', 'ORIG_CFS_AREA': '39-99999', 'QUARTER': 3, 'SHIPMT_DIST_GC': 131, 'NAICS': 4235, 'DEST_STATE': 39, 'DEST_MA': 99999}, {'SHIPMT_DIST_ROUTED': 828, 'ORIG_STATE': 17, 'MODE': 14, 'EXPORT_YN': 'N', 'EXPORT_CNTRY': 'N', 'SHIPMT_ID': 30002, 'DEST_CFS_AREA': '28-99999', 'HAZMAT': 'N', 'ORIG_MA': 176, 'SHIPMT_WGHT': 2, 'SHIPMT_VALUE': 79, 'TEMP_CNTL_YN': 'N', 'WGT_FACTOR': 2230.2, 'SCTG': '40', 'ORIG_CFS_AREA': '17-176', 'QUARTER': 1, 'SHIPMT_DIST_GC': 758, 'NAICS': 4239, 'DEST_STATE': 28, 'DEST_MA': 99999}, {'SHIPMT_DIST_ROUTED': 233, 'ORIG_STATE': 51, 'MODE': 5, 'EXPORT_YN': 'N', 'EXPORT_CNTRY': 'N', 'SHIPMT_ID': 30003, 'DEST_CFS_AREA': '34-408', 'HAZMAT': 'N', 'ORIG_MA': 99999, 'SHIPMT_WGHT': 7865, 'SHIPMT_VALUE': 31907, 'TEMP_CNTL_YN': 'N', 'WGT_FACTOR': 35.3, 'SCTG': '39', 'ORIG_CFS_AREA': '51-99999', 'QUARTER': 1, 'SHIPMT_DIST_GC': 201, 'NAICS': 337, 'DEST_STATE': 34, 'DEST_MA': 408}, {'SHIPMT_DIST_ROUTED': 934, 'ORIG_STATE': 8, 'MODE': 11, 'EXPORT_YN': 'N', 'EXPORT_CNTRY': 'N', 'SHIPMT_ID': 30004, 'DEST_CFS_AREA': '06-472', 'HAZMAT': 'N', 'ORIG_MA': 99999, 'SHIPMT_WGHT': 2, 'SHIPMT_VALUE': 61, 'TEMP_CNTL_YN': 'N', 'WGT_FACTOR': 1324.5, 'SCTG': '38', 'ORIG_CFS_AREA': '08-99999', 'QUARTER': 4, 'SHIPMT_DIST_GC': 896, 'NAICS': 339, 'DEST_STATE': 6, 'DEST_MA': 472}, {'SHIPMT_DIST_ROUTED': 219, 'ORIG_STATE': 6, 'MODE': 11, 'EXPORT_YN': 'Y', 'EXPORT_CNTRY': 'O', 'SHIPMT_ID': 30005, 'DEST_CFS_AREA': '06-348', 'HAZMAT': 'N', 'ORIG_MA': 348, 'SHIPMT_WGHT': 2, 'SHIPMT_VALUE': 101, 'TEMP_CNTL_YN': 'N', 'WGT_FACTOR': 726.9, 'SCTG': '40', 'ORIG_CFS_AREA': '06-348', 'QUARTER': 3, 'SHIPMT_DIST_GC': 41, 'NAICS': 339, 'DEST_STATE': 6, 'DEST_MA': 348}, {'SHIPMT_DIST_ROUTED': 39, 'ORIG_STATE': 24, 'MODE': 5, 'EXPORT_YN': 'N', 'EXPORT_CNTRY': 'N', 'SHIPMT_ID': 30006, 'DEST_CFS_AREA': '11-47900', 'HAZMAT': 'N', 'ORIG_MA': 12580, 'SHIPMT_WGHT': 658, 'SHIPMT_VALUE': 2413, 'TEMP_CNTL_YN': 'N', 'WGT_FACTOR': 99.8, 'SCTG': '35', 'ORIG_CFS_AREA': '24-12580', 'QUARTER': 2, 'SHIPMT_DIST_GC': 36, 'NAICS': 335, 'DEST_STATE': 11, 'DEST_MA': 47900}, {'SHIPMT_DIST_ROUTED': 61, 'ORIG_STATE': 39, 'MODE': 5, 'EXPORT_YN': 'N', 'EXPORT_CNTRY': 'N', 'SHIPMT_ID': 30007, 'DEST_CFS_AREA': '39-99999', 'HAZMAT': 'N', 'ORIG_MA': 99999, 'SHIPMT_WGHT': 47850, 'SHIPMT_VALUE': 6579, 'TEMP_CNTL_YN': 'N', 'WGT_FACTOR': 95.4, 'SCTG': '41', 'ORIG_CFS_AREA': '39-99999', 'QUARTER': 4, 'SHIPMT_DIST_GC': 51, 'NAICS': 331, 'DEST_STATE': 39, 'DEST_MA': 99999}, {'SHIPMT_DIST_ROUTED': 138, 'ORIG_STATE': 36, 'MODE': 4, 'EXPORT_YN': 'N', 'EXPORT_CNTRY': 'N', 'SHIPMT_ID': 30008, 'DEST_CFS_AREA': '36-99999', 'HAZMAT': 'N', 'ORIG_MA': 160, 'SHIPMT_WGHT': 6, 'SHIPMT_VALUE': 38280, 'TEMP_CNTL_YN': 'N', 'WGT_FACTOR': 49.6, 'SCTG': '21', 'ORIG_CFS_AREA': '36-160', 'QUARTER': 3, 'SHIPMT_DIST_GC': 128, 'NAICS': 4234, 'DEST_STATE': 36, 'DEST_MA': 99999}  ... displaying 10 of 10000 total bound parameter sets ...  {'SHIPMT_DIST_ROUTED': 2459, 'ORIG_STATE': 6, 'MODE': 14, 'EXPORT_YN': 'N', 'EXPORT_CNTRY': 'N', 'SHIPMT_ID': 39999, 'DEST_CFS_AREA': '42-430', 'HAZMAT': 'N', 'ORIG_MA': 348, 'SHIPMT_WGHT': 13, 'SHIPMT_VALUE': 36, 'TEMP_CNTL_YN': 'N', 'WGT_FACTOR': 1268.7, 'SCTG': '33', 'ORIG_CFS_AREA': '06-348', 'QUARTER': 2, 'SHIPMT_DIST_GC': 2153, 'NAICS': 4237, 'DEST_STATE': 42, 'DEST_MA': 430}, {'SHIPMT_DIST_ROUTED': 1123, 'ORIG_STATE': 42, 'MODE': 4, 'EXPORT_YN': 'N', 'EXPORT_CNTRY': 'N', 'SHIPMT_ID': 40000, 'DEST_CFS_AREA': '12-370', 'HAZMAT': 'N', 'ORIG_MA': 99999, 'SHIPMT_WGHT': 390, 'SHIPMT_VALUE': 19716, 'TEMP_CNTL_YN': 'N', 'WGT_FACTOR': 637.1, 'SCTG': '36', 'ORIG_CFS_AREA': '42-99999', 'QUARTER': 4, 'SHIPMT_DIST_GC': 955, 'NAICS': 4246, 'DEST_STATE': 12, 'DEST_MA': 370})\n"
     ]
    },
    {
     "name": "stderr",
     "output_type": "stream",
     "text": [
      "INFO:sqlalchemy.engine.base.Engine:({'SHIPMT_DIST_ROUTED': 149, 'ORIG_STATE': 39, 'MODE': 4, 'EXPORT_YN': 'N', 'EXPORT_CNTRY': 'N', 'SHIPMT_ID': 30001, 'DEST_CFS_AREA': '39-99999', 'HAZMAT': 'N', 'ORIG_MA': 99999, 'SHIPMT_WGHT': 41305, 'SHIPMT_VALUE': 15283, 'TEMP_CNTL_YN': 'N', 'WGT_FACTOR': 135.5, 'SCTG': '32', 'ORIG_CFS_AREA': '39-99999', 'QUARTER': 3, 'SHIPMT_DIST_GC': 131, 'NAICS': 4235, 'DEST_STATE': 39, 'DEST_MA': 99999}, {'SHIPMT_DIST_ROUTED': 828, 'ORIG_STATE': 17, 'MODE': 14, 'EXPORT_YN': 'N', 'EXPORT_CNTRY': 'N', 'SHIPMT_ID': 30002, 'DEST_CFS_AREA': '28-99999', 'HAZMAT': 'N', 'ORIG_MA': 176, 'SHIPMT_WGHT': 2, 'SHIPMT_VALUE': 79, 'TEMP_CNTL_YN': 'N', 'WGT_FACTOR': 2230.2, 'SCTG': '40', 'ORIG_CFS_AREA': '17-176', 'QUARTER': 1, 'SHIPMT_DIST_GC': 758, 'NAICS': 4239, 'DEST_STATE': 28, 'DEST_MA': 99999}, {'SHIPMT_DIST_ROUTED': 233, 'ORIG_STATE': 51, 'MODE': 5, 'EXPORT_YN': 'N', 'EXPORT_CNTRY': 'N', 'SHIPMT_ID': 30003, 'DEST_CFS_AREA': '34-408', 'HAZMAT': 'N', 'ORIG_MA': 99999, 'SHIPMT_WGHT': 7865, 'SHIPMT_VALUE': 31907, 'TEMP_CNTL_YN': 'N', 'WGT_FACTOR': 35.3, 'SCTG': '39', 'ORIG_CFS_AREA': '51-99999', 'QUARTER': 1, 'SHIPMT_DIST_GC': 201, 'NAICS': 337, 'DEST_STATE': 34, 'DEST_MA': 408}, {'SHIPMT_DIST_ROUTED': 934, 'ORIG_STATE': 8, 'MODE': 11, 'EXPORT_YN': 'N', 'EXPORT_CNTRY': 'N', 'SHIPMT_ID': 30004, 'DEST_CFS_AREA': '06-472', 'HAZMAT': 'N', 'ORIG_MA': 99999, 'SHIPMT_WGHT': 2, 'SHIPMT_VALUE': 61, 'TEMP_CNTL_YN': 'N', 'WGT_FACTOR': 1324.5, 'SCTG': '38', 'ORIG_CFS_AREA': '08-99999', 'QUARTER': 4, 'SHIPMT_DIST_GC': 896, 'NAICS': 339, 'DEST_STATE': 6, 'DEST_MA': 472}, {'SHIPMT_DIST_ROUTED': 219, 'ORIG_STATE': 6, 'MODE': 11, 'EXPORT_YN': 'Y', 'EXPORT_CNTRY': 'O', 'SHIPMT_ID': 30005, 'DEST_CFS_AREA': '06-348', 'HAZMAT': 'N', 'ORIG_MA': 348, 'SHIPMT_WGHT': 2, 'SHIPMT_VALUE': 101, 'TEMP_CNTL_YN': 'N', 'WGT_FACTOR': 726.9, 'SCTG': '40', 'ORIG_CFS_AREA': '06-348', 'QUARTER': 3, 'SHIPMT_DIST_GC': 41, 'NAICS': 339, 'DEST_STATE': 6, 'DEST_MA': 348}, {'SHIPMT_DIST_ROUTED': 39, 'ORIG_STATE': 24, 'MODE': 5, 'EXPORT_YN': 'N', 'EXPORT_CNTRY': 'N', 'SHIPMT_ID': 30006, 'DEST_CFS_AREA': '11-47900', 'HAZMAT': 'N', 'ORIG_MA': 12580, 'SHIPMT_WGHT': 658, 'SHIPMT_VALUE': 2413, 'TEMP_CNTL_YN': 'N', 'WGT_FACTOR': 99.8, 'SCTG': '35', 'ORIG_CFS_AREA': '24-12580', 'QUARTER': 2, 'SHIPMT_DIST_GC': 36, 'NAICS': 335, 'DEST_STATE': 11, 'DEST_MA': 47900}, {'SHIPMT_DIST_ROUTED': 61, 'ORIG_STATE': 39, 'MODE': 5, 'EXPORT_YN': 'N', 'EXPORT_CNTRY': 'N', 'SHIPMT_ID': 30007, 'DEST_CFS_AREA': '39-99999', 'HAZMAT': 'N', 'ORIG_MA': 99999, 'SHIPMT_WGHT': 47850, 'SHIPMT_VALUE': 6579, 'TEMP_CNTL_YN': 'N', 'WGT_FACTOR': 95.4, 'SCTG': '41', 'ORIG_CFS_AREA': '39-99999', 'QUARTER': 4, 'SHIPMT_DIST_GC': 51, 'NAICS': 331, 'DEST_STATE': 39, 'DEST_MA': 99999}, {'SHIPMT_DIST_ROUTED': 138, 'ORIG_STATE': 36, 'MODE': 4, 'EXPORT_YN': 'N', 'EXPORT_CNTRY': 'N', 'SHIPMT_ID': 30008, 'DEST_CFS_AREA': '36-99999', 'HAZMAT': 'N', 'ORIG_MA': 160, 'SHIPMT_WGHT': 6, 'SHIPMT_VALUE': 38280, 'TEMP_CNTL_YN': 'N', 'WGT_FACTOR': 49.6, 'SCTG': '21', 'ORIG_CFS_AREA': '36-160', 'QUARTER': 3, 'SHIPMT_DIST_GC': 128, 'NAICS': 4234, 'DEST_STATE': 36, 'DEST_MA': 99999}  ... displaying 10 of 10000 total bound parameter sets ...  {'SHIPMT_DIST_ROUTED': 2459, 'ORIG_STATE': 6, 'MODE': 14, 'EXPORT_YN': 'N', 'EXPORT_CNTRY': 'N', 'SHIPMT_ID': 39999, 'DEST_CFS_AREA': '42-430', 'HAZMAT': 'N', 'ORIG_MA': 348, 'SHIPMT_WGHT': 13, 'SHIPMT_VALUE': 36, 'TEMP_CNTL_YN': 'N', 'WGT_FACTOR': 1268.7, 'SCTG': '33', 'ORIG_CFS_AREA': '06-348', 'QUARTER': 2, 'SHIPMT_DIST_GC': 2153, 'NAICS': 4237, 'DEST_STATE': 42, 'DEST_MA': 430}, {'SHIPMT_DIST_ROUTED': 1123, 'ORIG_STATE': 42, 'MODE': 4, 'EXPORT_YN': 'N', 'EXPORT_CNTRY': 'N', 'SHIPMT_ID': 40000, 'DEST_CFS_AREA': '12-370', 'HAZMAT': 'N', 'ORIG_MA': 99999, 'SHIPMT_WGHT': 390, 'SHIPMT_VALUE': 19716, 'TEMP_CNTL_YN': 'N', 'WGT_FACTOR': 637.1, 'SCTG': '36', 'ORIG_CFS_AREA': '42-99999', 'QUARTER': 4, 'SHIPMT_DIST_GC': 955, 'NAICS': 4246, 'DEST_STATE': 12, 'DEST_MA': 370})\n"
     ]
    },
    {
     "name": "stdout",
     "output_type": "stream",
     "text": [
      "2015-11-22 16:34:34,875 INFO sqlalchemy.engine.base.Engine INSERT INTO transactions (\"SHIPMT_ID\", \"ORIG_STATE\", \"ORIG_MA\", \"ORIG_CFS_AREA\", \"DEST_STATE\", \"DEST_MA\", \"DEST_CFS_AREA\", \"NAICS\", \"QUARTER\", \"SCTG\", \"MODE\", \"SHIPMT_VALUE\", \"SHIPMT_WGHT\", \"SHIPMT_DIST_GC\", \"SHIPMT_DIST_ROUTED\", \"TEMP_CNTL_YN\", \"EXPORT_YN\", \"EXPORT_CNTRY\", \"HAZMAT\", \"WGT_FACTOR\") VALUES (%(SHIPMT_ID)s, %(ORIG_STATE)s, %(ORIG_MA)s, %(ORIG_CFS_AREA)s, %(DEST_STATE)s, %(DEST_MA)s, %(DEST_CFS_AREA)s, %(NAICS)s, %(QUARTER)s, %(SCTG)s, %(MODE)s, %(SHIPMT_VALUE)s, %(SHIPMT_WGHT)s, %(SHIPMT_DIST_GC)s, %(SHIPMT_DIST_ROUTED)s, %(TEMP_CNTL_YN)s, %(EXPORT_YN)s, %(EXPORT_CNTRY)s, %(HAZMAT)s, %(WGT_FACTOR)s)\n"
     ]
    },
    {
     "name": "stderr",
     "output_type": "stream",
     "text": [
      "INFO:sqlalchemy.engine.base.Engine:INSERT INTO transactions (\"SHIPMT_ID\", \"ORIG_STATE\", \"ORIG_MA\", \"ORIG_CFS_AREA\", \"DEST_STATE\", \"DEST_MA\", \"DEST_CFS_AREA\", \"NAICS\", \"QUARTER\", \"SCTG\", \"MODE\", \"SHIPMT_VALUE\", \"SHIPMT_WGHT\", \"SHIPMT_DIST_GC\", \"SHIPMT_DIST_ROUTED\", \"TEMP_CNTL_YN\", \"EXPORT_YN\", \"EXPORT_CNTRY\", \"HAZMAT\", \"WGT_FACTOR\") VALUES (%(SHIPMT_ID)s, %(ORIG_STATE)s, %(ORIG_MA)s, %(ORIG_CFS_AREA)s, %(DEST_STATE)s, %(DEST_MA)s, %(DEST_CFS_AREA)s, %(NAICS)s, %(QUARTER)s, %(SCTG)s, %(MODE)s, %(SHIPMT_VALUE)s, %(SHIPMT_WGHT)s, %(SHIPMT_DIST_GC)s, %(SHIPMT_DIST_ROUTED)s, %(TEMP_CNTL_YN)s, %(EXPORT_YN)s, %(EXPORT_CNTRY)s, %(HAZMAT)s, %(WGT_FACTOR)s)\n"
     ]
    },
    {
     "name": "stdout",
     "output_type": "stream",
     "text": [
      "2015-11-22 16:34:34,876 INFO sqlalchemy.engine.base.Engine ({'EXPORT_YN': 'N', 'ORIG_STATE': 18, 'MODE': 4, 'SHIPMT_DIST_ROUTED': 383, 'EXPORT_CNTRY': 'N', 'WGT_FACTOR': 184.9, 'SHIPMT_ID': 40001, 'ORIG_MA': 294, 'HAZMAT': 'N', 'SHIPMT_VALUE': 527, 'TEMP_CNTL_YN': 'N', 'SHIPMT_WGHT': 296, 'DEST_CFS_AREA': '55-99999', 'SCTG': '29', 'ORIG_CFS_AREA': '18-294', 'QUARTER': 2, 'SHIPMT_DIST_GC': 276, 'NAICS': 323, 'DEST_STATE': 55, 'DEST_MA': 99999}, {'EXPORT_YN': 'N', 'ORIG_STATE': 6, 'MODE': 5, 'SHIPMT_DIST_ROUTED': 104, 'EXPORT_CNTRY': 'N', 'WGT_FACTOR': 35256.0, 'SHIPMT_ID': 40002, 'ORIG_MA': 348, 'HAZMAT': 'N', 'SHIPMT_VALUE': 20, 'TEMP_CNTL_YN': 'Y', 'SHIPMT_WGHT': 1, 'DEST_CFS_AREA': '06-41740', 'SCTG': '43', 'ORIG_CFS_AREA': '06-348', 'QUARTER': 2, 'SHIPMT_DIST_GC': 94, 'NAICS': 4244, 'DEST_STATE': 6, 'DEST_MA': 41740}, {'EXPORT_YN': 'N', 'ORIG_STATE': 21, 'MODE': 4, 'SHIPMT_DIST_ROUTED': 590, 'EXPORT_CNTRY': 'N', 'WGT_FACTOR': 175.3, 'SHIPMT_ID': 40003, 'ORIG_MA': 99999, 'HAZMAT': 'N', 'SHIPMT_VALUE': 54766, 'TEMP_CNTL_YN': 'N', 'SHIPMT_WGHT': 54415, 'DEST_CFS_AREA': '42-430', 'SCTG': '32', 'ORIG_CFS_AREA': '21-99999', 'QUARTER': 1, 'SHIPMT_DIST_GC': 498, 'NAICS': 331, 'DEST_STATE': 42, 'DEST_MA': 430}, {'EXPORT_YN': 'N', 'ORIG_STATE': 21, 'MODE': 5, 'SHIPMT_DIST_ROUTED': 37, 'EXPORT_CNTRY': 'N', 'WGT_FACTOR': 82.0, 'SHIPMT_ID': 40004, 'ORIG_MA': 99999, 'HAZMAT': 'H', 'SHIPMT_VALUE': 5614, 'TEMP_CNTL_YN': 'N', 'SHIPMT_WGHT': 16091, 'DEST_CFS_AREA': '21-99999', 'SCTG': '23', 'ORIG_CFS_AREA': '21-99999', 'QUARTER': 1, 'SHIPMT_DIST_GC': 26, 'NAICS': 4246, 'DEST_STATE': 21, 'DEST_MA': 99999}, {'EXPORT_YN': 'N', 'ORIG_STATE': 1, 'MODE': 4, 'SHIPMT_DIST_ROUTED': 188, 'EXPORT_CNTRY': 'N', 'WGT_FACTOR': 1063.9, 'SHIPMT_ID': 40005, 'ORIG_MA': 99999, 'HAZMAT': 'N', 'SHIPMT_VALUE': 6983, 'TEMP_CNTL_YN': 'N', 'SHIPMT_WGHT': 49969, 'DEST_CFS_AREA': '01-142', 'SCTG': '32', 'ORIG_CFS_AREA': '01-99999', 'QUARTER': 2, 'SHIPMT_DIST_GC': 167, 'NAICS': 4239, 'DEST_STATE': 1, 'DEST_MA': 142}, {'EXPORT_YN': 'N', 'ORIG_STATE': 12, 'MODE': 14, 'SHIPMT_DIST_ROUTED': 976, 'EXPORT_CNTRY': 'N', 'WGT_FACTOR': 120.8, 'SHIPMT_ID': 40006, 'ORIG_MA': 422, 'HAZMAT': 'N', 'SHIPMT_VALUE': 22, 'TEMP_CNTL_YN': 'N', 'SHIPMT_WGHT': 1, 'DEST_CFS_AREA': '48-288', 'SCTG': '30', 'ORIG_CFS_AREA': '12-422', 'QUARTER': 4, 'SHIPMT_DIST_GC': 875, 'NAICS': 4243, 'DEST_STATE': 48, 'DEST_MA': 288}, {'EXPORT_YN': 'N', 'ORIG_STATE': 46, 'MODE': 4, 'SHIPMT_DIST_ROUTED': 300, 'EXPORT_CNTRY': 'N', 'WGT_FACTOR': 30.2, 'SHIPMT_ID': 40007, 'ORIG_MA': 99999, 'HAZMAT': 'N', 'SHIPMT_VALUE': 114833, 'TEMP_CNTL_YN': 'Y', 'SHIPMT_WGHT': 13726, 'DEST_CFS_AREA': '19-99999', 'SCTG': '05', 'ORIG_CFS_AREA': '46-99999', 'QUARTER': 3, 'SHIPMT_DIST_GC': 237, 'NAICS': 311, 'DEST_STATE': 19, 'DEST_MA': 99999}, {'EXPORT_YN': 'N', 'ORIG_STATE': 9, 'MODE': 4, 'SHIPMT_DIST_ROUTED': 41, 'EXPORT_CNTRY': 'N', 'WGT_FACTOR': 555.4, 'SHIPMT_ID': 40008, 'ORIG_MA': 25540, 'HAZMAT': 'N', 'SHIPMT_VALUE': 351, 'TEMP_CNTL_YN': 'N', 'SHIPMT_WGHT': 1, 'DEST_CFS_AREA': '25-99999', 'SCTG': '38', 'ORIG_CFS_AREA': '09-25540', 'QUARTER': 3, 'SHIPMT_DIST_GC': 36, 'NAICS': 339, 'DEST_STATE': 25, 'DEST_MA': 99999}  ... displaying 10 of 10000 total bound parameter sets ...  {'EXPORT_YN': 'N', 'ORIG_STATE': 25, 'MODE': 4, 'SHIPMT_DIST_ROUTED': 25, 'EXPORT_CNTRY': 'N', 'WGT_FACTOR': 64.6, 'SHIPMT_ID': 49999, 'ORIG_MA': 148, 'HAZMAT': 'N', 'SHIPMT_VALUE': 547386, 'TEMP_CNTL_YN': 'N', 'SHIPMT_WGHT': 22226, 'DEST_CFS_AREA': '25-148', 'SCTG': '40', 'ORIG_CFS_AREA': '25-148', 'QUARTER': 4, 'SHIPMT_DIST_GC': 23, 'NAICS': 332, 'DEST_STATE': 25, 'DEST_MA': 148}, {'EXPORT_YN': 'N', 'ORIG_STATE': 54, 'MODE': 4, 'SHIPMT_DIST_ROUTED': 31, 'EXPORT_CNTRY': 'N', 'WGT_FACTOR': 126.0, 'SHIPMT_ID': 50000, 'ORIG_MA': 99999, 'HAZMAT': 'N', 'SHIPMT_VALUE': 29678, 'TEMP_CNTL_YN': 'N', 'SHIPMT_WGHT': 29678, 'DEST_CFS_AREA': '54-99999', 'SCTG': '24', 'ORIG_CFS_AREA': '54-99999', 'QUARTER': 1, 'SHIPMT_DIST_GC': 24, 'NAICS': 4239, 'DEST_STATE': 54, 'DEST_MA': 99999})\n"
     ]
    },
    {
     "name": "stderr",
     "output_type": "stream",
     "text": [
      "INFO:sqlalchemy.engine.base.Engine:({'EXPORT_YN': 'N', 'ORIG_STATE': 18, 'MODE': 4, 'SHIPMT_DIST_ROUTED': 383, 'EXPORT_CNTRY': 'N', 'WGT_FACTOR': 184.9, 'SHIPMT_ID': 40001, 'ORIG_MA': 294, 'HAZMAT': 'N', 'SHIPMT_VALUE': 527, 'TEMP_CNTL_YN': 'N', 'SHIPMT_WGHT': 296, 'DEST_CFS_AREA': '55-99999', 'SCTG': '29', 'ORIG_CFS_AREA': '18-294', 'QUARTER': 2, 'SHIPMT_DIST_GC': 276, 'NAICS': 323, 'DEST_STATE': 55, 'DEST_MA': 99999}, {'EXPORT_YN': 'N', 'ORIG_STATE': 6, 'MODE': 5, 'SHIPMT_DIST_ROUTED': 104, 'EXPORT_CNTRY': 'N', 'WGT_FACTOR': 35256.0, 'SHIPMT_ID': 40002, 'ORIG_MA': 348, 'HAZMAT': 'N', 'SHIPMT_VALUE': 20, 'TEMP_CNTL_YN': 'Y', 'SHIPMT_WGHT': 1, 'DEST_CFS_AREA': '06-41740', 'SCTG': '43', 'ORIG_CFS_AREA': '06-348', 'QUARTER': 2, 'SHIPMT_DIST_GC': 94, 'NAICS': 4244, 'DEST_STATE': 6, 'DEST_MA': 41740}, {'EXPORT_YN': 'N', 'ORIG_STATE': 21, 'MODE': 4, 'SHIPMT_DIST_ROUTED': 590, 'EXPORT_CNTRY': 'N', 'WGT_FACTOR': 175.3, 'SHIPMT_ID': 40003, 'ORIG_MA': 99999, 'HAZMAT': 'N', 'SHIPMT_VALUE': 54766, 'TEMP_CNTL_YN': 'N', 'SHIPMT_WGHT': 54415, 'DEST_CFS_AREA': '42-430', 'SCTG': '32', 'ORIG_CFS_AREA': '21-99999', 'QUARTER': 1, 'SHIPMT_DIST_GC': 498, 'NAICS': 331, 'DEST_STATE': 42, 'DEST_MA': 430}, {'EXPORT_YN': 'N', 'ORIG_STATE': 21, 'MODE': 5, 'SHIPMT_DIST_ROUTED': 37, 'EXPORT_CNTRY': 'N', 'WGT_FACTOR': 82.0, 'SHIPMT_ID': 40004, 'ORIG_MA': 99999, 'HAZMAT': 'H', 'SHIPMT_VALUE': 5614, 'TEMP_CNTL_YN': 'N', 'SHIPMT_WGHT': 16091, 'DEST_CFS_AREA': '21-99999', 'SCTG': '23', 'ORIG_CFS_AREA': '21-99999', 'QUARTER': 1, 'SHIPMT_DIST_GC': 26, 'NAICS': 4246, 'DEST_STATE': 21, 'DEST_MA': 99999}, {'EXPORT_YN': 'N', 'ORIG_STATE': 1, 'MODE': 4, 'SHIPMT_DIST_ROUTED': 188, 'EXPORT_CNTRY': 'N', 'WGT_FACTOR': 1063.9, 'SHIPMT_ID': 40005, 'ORIG_MA': 99999, 'HAZMAT': 'N', 'SHIPMT_VALUE': 6983, 'TEMP_CNTL_YN': 'N', 'SHIPMT_WGHT': 49969, 'DEST_CFS_AREA': '01-142', 'SCTG': '32', 'ORIG_CFS_AREA': '01-99999', 'QUARTER': 2, 'SHIPMT_DIST_GC': 167, 'NAICS': 4239, 'DEST_STATE': 1, 'DEST_MA': 142}, {'EXPORT_YN': 'N', 'ORIG_STATE': 12, 'MODE': 14, 'SHIPMT_DIST_ROUTED': 976, 'EXPORT_CNTRY': 'N', 'WGT_FACTOR': 120.8, 'SHIPMT_ID': 40006, 'ORIG_MA': 422, 'HAZMAT': 'N', 'SHIPMT_VALUE': 22, 'TEMP_CNTL_YN': 'N', 'SHIPMT_WGHT': 1, 'DEST_CFS_AREA': '48-288', 'SCTG': '30', 'ORIG_CFS_AREA': '12-422', 'QUARTER': 4, 'SHIPMT_DIST_GC': 875, 'NAICS': 4243, 'DEST_STATE': 48, 'DEST_MA': 288}, {'EXPORT_YN': 'N', 'ORIG_STATE': 46, 'MODE': 4, 'SHIPMT_DIST_ROUTED': 300, 'EXPORT_CNTRY': 'N', 'WGT_FACTOR': 30.2, 'SHIPMT_ID': 40007, 'ORIG_MA': 99999, 'HAZMAT': 'N', 'SHIPMT_VALUE': 114833, 'TEMP_CNTL_YN': 'Y', 'SHIPMT_WGHT': 13726, 'DEST_CFS_AREA': '19-99999', 'SCTG': '05', 'ORIG_CFS_AREA': '46-99999', 'QUARTER': 3, 'SHIPMT_DIST_GC': 237, 'NAICS': 311, 'DEST_STATE': 19, 'DEST_MA': 99999}, {'EXPORT_YN': 'N', 'ORIG_STATE': 9, 'MODE': 4, 'SHIPMT_DIST_ROUTED': 41, 'EXPORT_CNTRY': 'N', 'WGT_FACTOR': 555.4, 'SHIPMT_ID': 40008, 'ORIG_MA': 25540, 'HAZMAT': 'N', 'SHIPMT_VALUE': 351, 'TEMP_CNTL_YN': 'N', 'SHIPMT_WGHT': 1, 'DEST_CFS_AREA': '25-99999', 'SCTG': '38', 'ORIG_CFS_AREA': '09-25540', 'QUARTER': 3, 'SHIPMT_DIST_GC': 36, 'NAICS': 339, 'DEST_STATE': 25, 'DEST_MA': 99999}  ... displaying 10 of 10000 total bound parameter sets ...  {'EXPORT_YN': 'N', 'ORIG_STATE': 25, 'MODE': 4, 'SHIPMT_DIST_ROUTED': 25, 'EXPORT_CNTRY': 'N', 'WGT_FACTOR': 64.6, 'SHIPMT_ID': 49999, 'ORIG_MA': 148, 'HAZMAT': 'N', 'SHIPMT_VALUE': 547386, 'TEMP_CNTL_YN': 'N', 'SHIPMT_WGHT': 22226, 'DEST_CFS_AREA': '25-148', 'SCTG': '40', 'ORIG_CFS_AREA': '25-148', 'QUARTER': 4, 'SHIPMT_DIST_GC': 23, 'NAICS': 332, 'DEST_STATE': 25, 'DEST_MA': 148}, {'EXPORT_YN': 'N', 'ORIG_STATE': 54, 'MODE': 4, 'SHIPMT_DIST_ROUTED': 31, 'EXPORT_CNTRY': 'N', 'WGT_FACTOR': 126.0, 'SHIPMT_ID': 50000, 'ORIG_MA': 99999, 'HAZMAT': 'N', 'SHIPMT_VALUE': 29678, 'TEMP_CNTL_YN': 'N', 'SHIPMT_WGHT': 29678, 'DEST_CFS_AREA': '54-99999', 'SCTG': '24', 'ORIG_CFS_AREA': '54-99999', 'QUARTER': 1, 'SHIPMT_DIST_GC': 24, 'NAICS': 4239, 'DEST_STATE': 54, 'DEST_MA': 99999})\n"
     ]
    },
    {
     "name": "stdout",
     "output_type": "stream",
     "text": [
      "2015-11-22 16:38:36,736 INFO sqlalchemy.engine.base.Engine INSERT INTO transactions (\"SHIPMT_ID\", \"ORIG_STATE\", \"ORIG_MA\", \"ORIG_CFS_AREA\", \"DEST_STATE\", \"DEST_MA\", \"DEST_CFS_AREA\", \"NAICS\", \"QUARTER\", \"SCTG\", \"MODE\", \"SHIPMT_VALUE\", \"SHIPMT_WGHT\", \"SHIPMT_DIST_GC\", \"SHIPMT_DIST_ROUTED\", \"TEMP_CNTL_YN\", \"EXPORT_YN\", \"EXPORT_CNTRY\", \"HAZMAT\", \"WGT_FACTOR\") VALUES (%(SHIPMT_ID)s, %(ORIG_STATE)s, %(ORIG_MA)s, %(ORIG_CFS_AREA)s, %(DEST_STATE)s, %(DEST_MA)s, %(DEST_CFS_AREA)s, %(NAICS)s, %(QUARTER)s, %(SCTG)s, %(MODE)s, %(SHIPMT_VALUE)s, %(SHIPMT_WGHT)s, %(SHIPMT_DIST_GC)s, %(SHIPMT_DIST_ROUTED)s, %(TEMP_CNTL_YN)s, %(EXPORT_YN)s, %(EXPORT_CNTRY)s, %(HAZMAT)s, %(WGT_FACTOR)s)\n"
     ]
    },
    {
     "name": "stderr",
     "output_type": "stream",
     "text": [
      "INFO:sqlalchemy.engine.base.Engine:INSERT INTO transactions (\"SHIPMT_ID\", \"ORIG_STATE\", \"ORIG_MA\", \"ORIG_CFS_AREA\", \"DEST_STATE\", \"DEST_MA\", \"DEST_CFS_AREA\", \"NAICS\", \"QUARTER\", \"SCTG\", \"MODE\", \"SHIPMT_VALUE\", \"SHIPMT_WGHT\", \"SHIPMT_DIST_GC\", \"SHIPMT_DIST_ROUTED\", \"TEMP_CNTL_YN\", \"EXPORT_YN\", \"EXPORT_CNTRY\", \"HAZMAT\", \"WGT_FACTOR\") VALUES (%(SHIPMT_ID)s, %(ORIG_STATE)s, %(ORIG_MA)s, %(ORIG_CFS_AREA)s, %(DEST_STATE)s, %(DEST_MA)s, %(DEST_CFS_AREA)s, %(NAICS)s, %(QUARTER)s, %(SCTG)s, %(MODE)s, %(SHIPMT_VALUE)s, %(SHIPMT_WGHT)s, %(SHIPMT_DIST_GC)s, %(SHIPMT_DIST_ROUTED)s, %(TEMP_CNTL_YN)s, %(EXPORT_YN)s, %(EXPORT_CNTRY)s, %(HAZMAT)s, %(WGT_FACTOR)s)\n"
     ]
    },
    {
     "name": "stdout",
     "output_type": "stream",
     "text": [
      "2015-11-22 16:38:36,737 INFO sqlalchemy.engine.base.Engine ({'DEST_STATE': 6, 'EXPORT_YN': 'N', 'ORIG_CFS_AREA': '06-99999', 'SHIPMT_DIST_ROUTED': 197, 'EXPORT_CNTRY': 'N', 'SHIPMT_ID': 50001, 'ORIG_MA': 99999, 'HAZMAT': 'N', 'NAICS': 4231, 'SHIPMT_WGHT': 24, 'SHIPMT_VALUE': 140, 'TEMP_CNTL_YN': 'N', 'WGT_FACTOR': 762.3, 'DEST_CFS_AREA': '06-488', 'SCTG': '43', 'QUARTER': 1, 'SHIPMT_DIST_GC': 153, 'ORIG_STATE': 6, 'MODE': 14, 'DEST_MA': 488}, {'DEST_STATE': 13, 'EXPORT_YN': 'N', 'ORIG_CFS_AREA': '28-99999', 'SHIPMT_DIST_ROUTED': 432, 'EXPORT_CNTRY': 'N', 'SHIPMT_ID': 50002, 'ORIG_MA': 99999, 'HAZMAT': 'N', 'NAICS': 327, 'SHIPMT_WGHT': 14936, 'SHIPMT_VALUE': 3734, 'TEMP_CNTL_YN': 'N', 'WGT_FACTOR': 939.9, 'DEST_CFS_AREA': '13-122', 'SCTG': '31', 'QUARTER': 2, 'SHIPMT_DIST_GC': 299, 'ORIG_STATE': 28, 'MODE': 4, 'DEST_MA': 122}, {'DEST_STATE': 12, 'EXPORT_YN': 'N', 'ORIG_CFS_AREA': '25-148', 'SHIPMT_DIST_ROUTED': 1517, 'EXPORT_CNTRY': 'N', 'SHIPMT_ID': 50003, 'ORIG_MA': 148, 'HAZMAT': 'N', 'NAICS': 323, 'SHIPMT_WGHT': 32, 'SHIPMT_VALUE': 263, 'TEMP_CNTL_YN': 'N', 'WGT_FACTOR': 1099.5, 'DEST_CFS_AREA': '12-99999', 'SCTG': '30', 'QUARTER': 3, 'SHIPMT_DIST_GC': 1295, 'ORIG_STATE': 25, 'MODE': 14, 'DEST_MA': 99999}, {'DEST_STATE': 32, 'EXPORT_YN': 'N', 'ORIG_CFS_AREA': '32-99999', 'SHIPMT_DIST_ROUTED': 7, 'EXPORT_CNTRY': 'N', 'SHIPMT_ID': 50004, 'ORIG_MA': 99999, 'HAZMAT': 'N', 'NAICS': 4237, 'SHIPMT_WGHT': 24, 'SHIPMT_VALUE': 148, 'TEMP_CNTL_YN': 'N', 'WGT_FACTOR': 1496.6, 'DEST_CFS_AREA': '32-99999', 'SCTG': '34', 'QUARTER': 4, 'SHIPMT_DIST_GC': 5, 'ORIG_STATE': 32, 'MODE': 4, 'DEST_MA': 99999}, {'DEST_STATE': 21, 'EXPORT_YN': 'N', 'ORIG_CFS_AREA': '42-430', 'SHIPMT_DIST_ROUTED': 308, 'EXPORT_CNTRY': 'N', 'SHIPMT_ID': 50005, 'ORIG_MA': 430, 'HAZMAT': 'N', 'NAICS': 332, 'SHIPMT_WGHT': 34778, 'SHIPMT_VALUE': 64523, 'TEMP_CNTL_YN': 'N', 'WGT_FACTOR': 38.7, 'DEST_CFS_AREA': '21-99999', 'SCTG': '14', 'QUARTER': 3, 'SHIPMT_DIST_GC': 209, 'ORIG_STATE': 42, 'MODE': 4, 'DEST_MA': 99999}, {'DEST_STATE': 26, 'EXPORT_YN': 'N', 'ORIG_CFS_AREA': '39-178', 'SHIPMT_DIST_ROUTED': 608, 'EXPORT_CNTRY': 'N', 'SHIPMT_ID': 50006, 'ORIG_MA': 178, 'HAZMAT': 'N', 'NAICS': 335, 'SHIPMT_WGHT': 14, 'SHIPMT_VALUE': 6519, 'TEMP_CNTL_YN': 'N', 'WGT_FACTOR': 20.6, 'DEST_CFS_AREA': '26-99999', 'SCTG': '40', 'QUARTER': 2, 'SHIPMT_DIST_GC': 500, 'ORIG_STATE': 39, 'MODE': 14, 'DEST_MA': 99999}, {'DEST_STATE': 36, 'EXPORT_YN': 'N', 'ORIG_CFS_AREA': '39-184', 'SHIPMT_DIST_ROUTED': 182, 'EXPORT_CNTRY': 'N', 'SHIPMT_ID': 50007, 'ORIG_MA': 184, 'HAZMAT': 'N', 'NAICS': 321, 'SHIPMT_WGHT': 22859, 'SHIPMT_VALUE': 7221, 'TEMP_CNTL_YN': 'N', 'WGT_FACTOR': 10.4, 'DEST_CFS_AREA': '36-160', 'SCTG': '26', 'QUARTER': 1, 'SHIPMT_DIST_GC': 155, 'ORIG_STATE': 39, 'MODE': 5, 'DEST_MA': 160}, {'DEST_STATE': 2, 'EXPORT_YN': 'N', 'ORIG_CFS_AREA': '53-00000', 'SHIPMT_DIST_ROUTED': 2140, 'EXPORT_CNTRY': 'N', 'SHIPMT_ID': 50008, 'ORIG_MA': 0, 'HAZMAT': 'N', 'NAICS': 312, 'SHIPMT_WGHT': 323, 'SHIPMT_VALUE': 740, 'TEMP_CNTL_YN': 'N', 'WGT_FACTOR': 108.9, 'DEST_CFS_AREA': '02-99999', 'SCTG': '06-09', 'QUARTER': 3, 'SHIPMT_DIST_GC': 1599, 'ORIG_STATE': 53, 'MODE': 2, 'DEST_MA': 99999}  ... displaying 10 of 10000 total bound parameter sets ...  {'DEST_STATE': 37, 'EXPORT_YN': 'N', 'ORIG_CFS_AREA': '37-268', 'SHIPMT_DIST_ROUTED': 9, 'EXPORT_CNTRY': 'N', 'SHIPMT_ID': 59999, 'ORIG_MA': 268, 'HAZMAT': 'N', 'NAICS': 4248, 'SHIPMT_WGHT': 38, 'SHIPMT_VALUE': 57, 'TEMP_CNTL_YN': 'Y', 'WGT_FACTOR': 881.5, 'DEST_CFS_AREA': '37-268', 'SCTG': '08', 'QUARTER': 2, 'SHIPMT_DIST_GC': 6, 'ORIG_STATE': 37, 'MODE': 5, 'DEST_MA': 268}, {'DEST_STATE': 26, 'EXPORT_YN': 'N', 'ORIG_CFS_AREA': '26-99999', 'SHIPMT_DIST_ROUTED': 144, 'EXPORT_CNTRY': 'N', 'SHIPMT_ID': 60000, 'ORIG_MA': 99999, 'HAZMAT': 'N', 'NAICS': 332, 'SHIPMT_WGHT': 2, 'SHIPMT_VALUE': 245, 'TEMP_CNTL_YN': 'N', 'WGT_FACTOR': 39.0, 'DEST_CFS_AREA': '26-220', 'SCTG': '36', 'QUARTER': 1, 'SHIPMT_DIST_GC': 119, 'ORIG_STATE': 26, 'MODE': 14, 'DEST_MA': 220})\n"
     ]
    },
    {
     "name": "stderr",
     "output_type": "stream",
     "text": [
      "INFO:sqlalchemy.engine.base.Engine:({'DEST_STATE': 6, 'EXPORT_YN': 'N', 'ORIG_CFS_AREA': '06-99999', 'SHIPMT_DIST_ROUTED': 197, 'EXPORT_CNTRY': 'N', 'SHIPMT_ID': 50001, 'ORIG_MA': 99999, 'HAZMAT': 'N', 'NAICS': 4231, 'SHIPMT_WGHT': 24, 'SHIPMT_VALUE': 140, 'TEMP_CNTL_YN': 'N', 'WGT_FACTOR': 762.3, 'DEST_CFS_AREA': '06-488', 'SCTG': '43', 'QUARTER': 1, 'SHIPMT_DIST_GC': 153, 'ORIG_STATE': 6, 'MODE': 14, 'DEST_MA': 488}, {'DEST_STATE': 13, 'EXPORT_YN': 'N', 'ORIG_CFS_AREA': '28-99999', 'SHIPMT_DIST_ROUTED': 432, 'EXPORT_CNTRY': 'N', 'SHIPMT_ID': 50002, 'ORIG_MA': 99999, 'HAZMAT': 'N', 'NAICS': 327, 'SHIPMT_WGHT': 14936, 'SHIPMT_VALUE': 3734, 'TEMP_CNTL_YN': 'N', 'WGT_FACTOR': 939.9, 'DEST_CFS_AREA': '13-122', 'SCTG': '31', 'QUARTER': 2, 'SHIPMT_DIST_GC': 299, 'ORIG_STATE': 28, 'MODE': 4, 'DEST_MA': 122}, {'DEST_STATE': 12, 'EXPORT_YN': 'N', 'ORIG_CFS_AREA': '25-148', 'SHIPMT_DIST_ROUTED': 1517, 'EXPORT_CNTRY': 'N', 'SHIPMT_ID': 50003, 'ORIG_MA': 148, 'HAZMAT': 'N', 'NAICS': 323, 'SHIPMT_WGHT': 32, 'SHIPMT_VALUE': 263, 'TEMP_CNTL_YN': 'N', 'WGT_FACTOR': 1099.5, 'DEST_CFS_AREA': '12-99999', 'SCTG': '30', 'QUARTER': 3, 'SHIPMT_DIST_GC': 1295, 'ORIG_STATE': 25, 'MODE': 14, 'DEST_MA': 99999}, {'DEST_STATE': 32, 'EXPORT_YN': 'N', 'ORIG_CFS_AREA': '32-99999', 'SHIPMT_DIST_ROUTED': 7, 'EXPORT_CNTRY': 'N', 'SHIPMT_ID': 50004, 'ORIG_MA': 99999, 'HAZMAT': 'N', 'NAICS': 4237, 'SHIPMT_WGHT': 24, 'SHIPMT_VALUE': 148, 'TEMP_CNTL_YN': 'N', 'WGT_FACTOR': 1496.6, 'DEST_CFS_AREA': '32-99999', 'SCTG': '34', 'QUARTER': 4, 'SHIPMT_DIST_GC': 5, 'ORIG_STATE': 32, 'MODE': 4, 'DEST_MA': 99999}, {'DEST_STATE': 21, 'EXPORT_YN': 'N', 'ORIG_CFS_AREA': '42-430', 'SHIPMT_DIST_ROUTED': 308, 'EXPORT_CNTRY': 'N', 'SHIPMT_ID': 50005, 'ORIG_MA': 430, 'HAZMAT': 'N', 'NAICS': 332, 'SHIPMT_WGHT': 34778, 'SHIPMT_VALUE': 64523, 'TEMP_CNTL_YN': 'N', 'WGT_FACTOR': 38.7, 'DEST_CFS_AREA': '21-99999', 'SCTG': '14', 'QUARTER': 3, 'SHIPMT_DIST_GC': 209, 'ORIG_STATE': 42, 'MODE': 4, 'DEST_MA': 99999}, {'DEST_STATE': 26, 'EXPORT_YN': 'N', 'ORIG_CFS_AREA': '39-178', 'SHIPMT_DIST_ROUTED': 608, 'EXPORT_CNTRY': 'N', 'SHIPMT_ID': 50006, 'ORIG_MA': 178, 'HAZMAT': 'N', 'NAICS': 335, 'SHIPMT_WGHT': 14, 'SHIPMT_VALUE': 6519, 'TEMP_CNTL_YN': 'N', 'WGT_FACTOR': 20.6, 'DEST_CFS_AREA': '26-99999', 'SCTG': '40', 'QUARTER': 2, 'SHIPMT_DIST_GC': 500, 'ORIG_STATE': 39, 'MODE': 14, 'DEST_MA': 99999}, {'DEST_STATE': 36, 'EXPORT_YN': 'N', 'ORIG_CFS_AREA': '39-184', 'SHIPMT_DIST_ROUTED': 182, 'EXPORT_CNTRY': 'N', 'SHIPMT_ID': 50007, 'ORIG_MA': 184, 'HAZMAT': 'N', 'NAICS': 321, 'SHIPMT_WGHT': 22859, 'SHIPMT_VALUE': 7221, 'TEMP_CNTL_YN': 'N', 'WGT_FACTOR': 10.4, 'DEST_CFS_AREA': '36-160', 'SCTG': '26', 'QUARTER': 1, 'SHIPMT_DIST_GC': 155, 'ORIG_STATE': 39, 'MODE': 5, 'DEST_MA': 160}, {'DEST_STATE': 2, 'EXPORT_YN': 'N', 'ORIG_CFS_AREA': '53-00000', 'SHIPMT_DIST_ROUTED': 2140, 'EXPORT_CNTRY': 'N', 'SHIPMT_ID': 50008, 'ORIG_MA': 0, 'HAZMAT': 'N', 'NAICS': 312, 'SHIPMT_WGHT': 323, 'SHIPMT_VALUE': 740, 'TEMP_CNTL_YN': 'N', 'WGT_FACTOR': 108.9, 'DEST_CFS_AREA': '02-99999', 'SCTG': '06-09', 'QUARTER': 3, 'SHIPMT_DIST_GC': 1599, 'ORIG_STATE': 53, 'MODE': 2, 'DEST_MA': 99999}  ... displaying 10 of 10000 total bound parameter sets ...  {'DEST_STATE': 37, 'EXPORT_YN': 'N', 'ORIG_CFS_AREA': '37-268', 'SHIPMT_DIST_ROUTED': 9, 'EXPORT_CNTRY': 'N', 'SHIPMT_ID': 59999, 'ORIG_MA': 268, 'HAZMAT': 'N', 'NAICS': 4248, 'SHIPMT_WGHT': 38, 'SHIPMT_VALUE': 57, 'TEMP_CNTL_YN': 'Y', 'WGT_FACTOR': 881.5, 'DEST_CFS_AREA': '37-268', 'SCTG': '08', 'QUARTER': 2, 'SHIPMT_DIST_GC': 6, 'ORIG_STATE': 37, 'MODE': 5, 'DEST_MA': 268}, {'DEST_STATE': 26, 'EXPORT_YN': 'N', 'ORIG_CFS_AREA': '26-99999', 'SHIPMT_DIST_ROUTED': 144, 'EXPORT_CNTRY': 'N', 'SHIPMT_ID': 60000, 'ORIG_MA': 99999, 'HAZMAT': 'N', 'NAICS': 332, 'SHIPMT_WGHT': 2, 'SHIPMT_VALUE': 245, 'TEMP_CNTL_YN': 'N', 'WGT_FACTOR': 39.0, 'DEST_CFS_AREA': '26-220', 'SCTG': '36', 'QUARTER': 1, 'SHIPMT_DIST_GC': 119, 'ORIG_STATE': 26, 'MODE': 14, 'DEST_MA': 220})\n"
     ]
    },
    {
     "name": "stdout",
     "output_type": "stream",
     "text": [
      "2015-11-22 16:42:38,007 INFO sqlalchemy.engine.base.Engine INSERT INTO transactions (\"SHIPMT_ID\", \"ORIG_STATE\", \"ORIG_MA\", \"ORIG_CFS_AREA\", \"DEST_STATE\", \"DEST_MA\", \"DEST_CFS_AREA\", \"NAICS\", \"QUARTER\", \"SCTG\", \"MODE\", \"SHIPMT_VALUE\", \"SHIPMT_WGHT\", \"SHIPMT_DIST_GC\", \"SHIPMT_DIST_ROUTED\", \"TEMP_CNTL_YN\", \"EXPORT_YN\", \"EXPORT_CNTRY\", \"HAZMAT\", \"WGT_FACTOR\") VALUES (%(SHIPMT_ID)s, %(ORIG_STATE)s, %(ORIG_MA)s, %(ORIG_CFS_AREA)s, %(DEST_STATE)s, %(DEST_MA)s, %(DEST_CFS_AREA)s, %(NAICS)s, %(QUARTER)s, %(SCTG)s, %(MODE)s, %(SHIPMT_VALUE)s, %(SHIPMT_WGHT)s, %(SHIPMT_DIST_GC)s, %(SHIPMT_DIST_ROUTED)s, %(TEMP_CNTL_YN)s, %(EXPORT_YN)s, %(EXPORT_CNTRY)s, %(HAZMAT)s, %(WGT_FACTOR)s)\n"
     ]
    },
    {
     "name": "stderr",
     "output_type": "stream",
     "text": [
      "INFO:sqlalchemy.engine.base.Engine:INSERT INTO transactions (\"SHIPMT_ID\", \"ORIG_STATE\", \"ORIG_MA\", \"ORIG_CFS_AREA\", \"DEST_STATE\", \"DEST_MA\", \"DEST_CFS_AREA\", \"NAICS\", \"QUARTER\", \"SCTG\", \"MODE\", \"SHIPMT_VALUE\", \"SHIPMT_WGHT\", \"SHIPMT_DIST_GC\", \"SHIPMT_DIST_ROUTED\", \"TEMP_CNTL_YN\", \"EXPORT_YN\", \"EXPORT_CNTRY\", \"HAZMAT\", \"WGT_FACTOR\") VALUES (%(SHIPMT_ID)s, %(ORIG_STATE)s, %(ORIG_MA)s, %(ORIG_CFS_AREA)s, %(DEST_STATE)s, %(DEST_MA)s, %(DEST_CFS_AREA)s, %(NAICS)s, %(QUARTER)s, %(SCTG)s, %(MODE)s, %(SHIPMT_VALUE)s, %(SHIPMT_WGHT)s, %(SHIPMT_DIST_GC)s, %(SHIPMT_DIST_ROUTED)s, %(TEMP_CNTL_YN)s, %(EXPORT_YN)s, %(EXPORT_CNTRY)s, %(HAZMAT)s, %(WGT_FACTOR)s)\n"
     ]
    },
    {
     "name": "stdout",
     "output_type": "stream",
     "text": [
      "2015-11-22 16:42:38,008 INFO sqlalchemy.engine.base.Engine ({'DEST_STATE': 13, 'EXPORT_YN': 'N', 'ORIG_CFS_AREA': '06-488', 'SHIPMT_DIST_ROUTED': 2504, 'EXPORT_CNTRY': 'N', 'SHIPMT_ID': 60001, 'ORIG_MA': 488, 'HAZMAT': 'N', 'QUARTER': 4, 'SHIPMT_VALUE': 10304, 'TEMP_CNTL_YN': 'N', 'WGT_FACTOR': 127.3, 'DEST_CFS_AREA': '13-122', 'SCTG': '07', 'SHIPMT_WGHT': 38845, 'SHIPMT_DIST_GC': 2052, 'NAICS': 311, 'ORIG_STATE': 6, 'MODE': 4, 'DEST_MA': 122}, {'DEST_STATE': 37, 'EXPORT_YN': 'N', 'ORIG_CFS_AREA': '22-12940', 'SHIPMT_DIST_ROUTED': 966, 'EXPORT_CNTRY': 'N', 'SHIPMT_ID': 60002, 'ORIG_MA': 12940, 'HAZMAT': 'N', 'QUARTER': 1, 'SHIPMT_VALUE': 70852, 'TEMP_CNTL_YN': 'N', 'WGT_FACTOR': 263.3, 'DEST_CFS_AREA': '37-99999', 'SCTG': '23', 'SHIPMT_WGHT': 41566, 'SHIPMT_DIST_GC': 837, 'NAICS': 325, 'ORIG_STATE': 22, 'MODE': 4, 'DEST_MA': 99999}, {'DEST_STATE': 31, 'EXPORT_YN': 'N', 'ORIG_CFS_AREA': '31-99999', 'SHIPMT_DIST_ROUTED': 4, 'EXPORT_CNTRY': 'N', 'SHIPMT_ID': 60003, 'ORIG_MA': 99999, 'HAZMAT': 'P', 'QUARTER': 1, 'SHIPMT_VALUE': 2148, 'TEMP_CNTL_YN': 'N', 'WGT_FACTOR': 2707.2, 'DEST_CFS_AREA': '31-99999', 'SCTG': '23', 'SHIPMT_WGHT': 1313, 'SHIPMT_DIST_GC': 4, 'NAICS': 4249, 'ORIG_STATE': 31, 'MODE': 5, 'DEST_MA': 99999}, {'DEST_STATE': 48, 'EXPORT_YN': 'N', 'ORIG_CFS_AREA': '48-206', 'SHIPMT_DIST_ROUTED': 5, 'EXPORT_CNTRY': 'N', 'SHIPMT_ID': 60004, 'ORIG_MA': 206, 'HAZMAT': 'N', 'QUARTER': 1, 'SHIPMT_VALUE': 57, 'TEMP_CNTL_YN': 'N', 'WGT_FACTOR': 827.7, 'DEST_CFS_AREA': '48-206', 'SCTG': '34', 'SHIPMT_WGHT': 5, 'SHIPMT_DIST_GC': 5, 'NAICS': 4237, 'ORIG_STATE': 48, 'MODE': 5, 'DEST_MA': 206}, {'DEST_STATE': 31, 'EXPORT_YN': 'N', 'ORIG_CFS_AREA': '46-99999', 'SHIPMT_DIST_ROUTED': 198, 'EXPORT_CNTRY': 'N', 'SHIPMT_ID': 60005, 'ORIG_MA': 99999, 'HAZMAT': 'N', 'QUARTER': 1, 'SHIPMT_VALUE': 3877, 'TEMP_CNTL_YN': 'N', 'WGT_FACTOR': 520.8, 'DEST_CFS_AREA': '31-99999', 'SCTG': '31', 'SHIPMT_WGHT': 10794, 'SHIPMT_DIST_GC': 129, 'NAICS': 4233, 'ORIG_STATE': 46, 'MODE': 5, 'DEST_MA': 99999}, {'DEST_STATE': 55, 'EXPORT_YN': 'N', 'ORIG_CFS_AREA': '55-99999', 'SHIPMT_DIST_ROUTED': 38, 'EXPORT_CNTRY': 'N', 'SHIPMT_ID': 60006, 'ORIG_MA': 99999, 'HAZMAT': 'N', 'QUARTER': 1, 'SHIPMT_VALUE': 62, 'TEMP_CNTL_YN': 'N', 'WGT_FACTOR': 2526.3, 'DEST_CFS_AREA': '55-99999', 'SCTG': '36', 'SHIPMT_WGHT': 2, 'SHIPMT_DIST_GC': 27, 'NAICS': 4231, 'ORIG_STATE': 55, 'MODE': 5, 'DEST_MA': 99999}, {'DEST_STATE': 35, 'EXPORT_YN': 'N', 'ORIG_CFS_AREA': '08-216', 'SHIPMT_DIST_ROUTED': 447, 'EXPORT_CNTRY': 'N', 'SHIPMT_ID': 60007, 'ORIG_MA': 216, 'HAZMAT': 'N', 'QUARTER': 4, 'SHIPMT_VALUE': 6737, 'TEMP_CNTL_YN': 'Y', 'WGT_FACTOR': 1647.8, 'DEST_CFS_AREA': '35-99999', 'SCTG': '43', 'SHIPMT_WGHT': 6093, 'SHIPMT_DIST_GC': 333, 'NAICS': 4244, 'ORIG_STATE': 8, 'MODE': 5, 'DEST_MA': 99999}, {'DEST_STATE': 5, 'EXPORT_YN': 'N', 'ORIG_CFS_AREA': '42-428', 'SHIPMT_DIST_ROUTED': 1203, 'EXPORT_CNTRY': 'N', 'SHIPMT_ID': 60008, 'ORIG_MA': 428, 'HAZMAT': 'N', 'QUARTER': 1, 'SHIPMT_VALUE': 471, 'TEMP_CNTL_YN': 'N', 'WGT_FACTOR': 2470.8, 'DEST_CFS_AREA': '05-99999', 'SCTG': '36', 'SHIPMT_WGHT': 20, 'SHIPMT_DIST_GC': 1025, 'NAICS': 4231, 'ORIG_STATE': 42, 'MODE': 4, 'DEST_MA': 99999}  ... displaying 10 of 10000 total bound parameter sets ...  {'DEST_STATE': 13, 'EXPORT_YN': 'N', 'ORIG_CFS_AREA': '55-99999', 'SHIPMT_DIST_ROUTED': 1066, 'EXPORT_CNTRY': 'N', 'SHIPMT_ID': 69999, 'ORIG_MA': 99999, 'HAZMAT': 'N', 'QUARTER': 4, 'SHIPMT_VALUE': 41654, 'TEMP_CNTL_YN': 'Y', 'WGT_FACTOR': 79.0, 'DEST_CFS_AREA': '13-122', 'SCTG': '06', 'SHIPMT_WGHT': 39280, 'SHIPMT_DIST_GC': 842, 'NAICS': 311, 'ORIG_STATE': 55, 'MODE': 4, 'DEST_MA': 122}, {'DEST_STATE': 26, 'EXPORT_YN': 'N', 'ORIG_CFS_AREA': '26-220', 'SHIPMT_DIST_ROUTED': 3, 'EXPORT_CNTRY': 'N', 'SHIPMT_ID': 70000, 'ORIG_MA': 220, 'HAZMAT': 'N', 'QUARTER': 1, 'SHIPMT_VALUE': 284, 'TEMP_CNTL_YN': 'Y', 'WGT_FACTOR': 271.7, 'DEST_CFS_AREA': '26-220', 'SCTG': '03', 'SHIPMT_WGHT': 1094, 'SHIPMT_DIST_GC': 2, 'NAICS': 4244, 'ORIG_STATE': 26, 'MODE': 5, 'DEST_MA': 220})\n"
     ]
    },
    {
     "name": "stderr",
     "output_type": "stream",
     "text": [
      "INFO:sqlalchemy.engine.base.Engine:({'DEST_STATE': 13, 'EXPORT_YN': 'N', 'ORIG_CFS_AREA': '06-488', 'SHIPMT_DIST_ROUTED': 2504, 'EXPORT_CNTRY': 'N', 'SHIPMT_ID': 60001, 'ORIG_MA': 488, 'HAZMAT': 'N', 'QUARTER': 4, 'SHIPMT_VALUE': 10304, 'TEMP_CNTL_YN': 'N', 'WGT_FACTOR': 127.3, 'DEST_CFS_AREA': '13-122', 'SCTG': '07', 'SHIPMT_WGHT': 38845, 'SHIPMT_DIST_GC': 2052, 'NAICS': 311, 'ORIG_STATE': 6, 'MODE': 4, 'DEST_MA': 122}, {'DEST_STATE': 37, 'EXPORT_YN': 'N', 'ORIG_CFS_AREA': '22-12940', 'SHIPMT_DIST_ROUTED': 966, 'EXPORT_CNTRY': 'N', 'SHIPMT_ID': 60002, 'ORIG_MA': 12940, 'HAZMAT': 'N', 'QUARTER': 1, 'SHIPMT_VALUE': 70852, 'TEMP_CNTL_YN': 'N', 'WGT_FACTOR': 263.3, 'DEST_CFS_AREA': '37-99999', 'SCTG': '23', 'SHIPMT_WGHT': 41566, 'SHIPMT_DIST_GC': 837, 'NAICS': 325, 'ORIG_STATE': 22, 'MODE': 4, 'DEST_MA': 99999}, {'DEST_STATE': 31, 'EXPORT_YN': 'N', 'ORIG_CFS_AREA': '31-99999', 'SHIPMT_DIST_ROUTED': 4, 'EXPORT_CNTRY': 'N', 'SHIPMT_ID': 60003, 'ORIG_MA': 99999, 'HAZMAT': 'P', 'QUARTER': 1, 'SHIPMT_VALUE': 2148, 'TEMP_CNTL_YN': 'N', 'WGT_FACTOR': 2707.2, 'DEST_CFS_AREA': '31-99999', 'SCTG': '23', 'SHIPMT_WGHT': 1313, 'SHIPMT_DIST_GC': 4, 'NAICS': 4249, 'ORIG_STATE': 31, 'MODE': 5, 'DEST_MA': 99999}, {'DEST_STATE': 48, 'EXPORT_YN': 'N', 'ORIG_CFS_AREA': '48-206', 'SHIPMT_DIST_ROUTED': 5, 'EXPORT_CNTRY': 'N', 'SHIPMT_ID': 60004, 'ORIG_MA': 206, 'HAZMAT': 'N', 'QUARTER': 1, 'SHIPMT_VALUE': 57, 'TEMP_CNTL_YN': 'N', 'WGT_FACTOR': 827.7, 'DEST_CFS_AREA': '48-206', 'SCTG': '34', 'SHIPMT_WGHT': 5, 'SHIPMT_DIST_GC': 5, 'NAICS': 4237, 'ORIG_STATE': 48, 'MODE': 5, 'DEST_MA': 206}, {'DEST_STATE': 31, 'EXPORT_YN': 'N', 'ORIG_CFS_AREA': '46-99999', 'SHIPMT_DIST_ROUTED': 198, 'EXPORT_CNTRY': 'N', 'SHIPMT_ID': 60005, 'ORIG_MA': 99999, 'HAZMAT': 'N', 'QUARTER': 1, 'SHIPMT_VALUE': 3877, 'TEMP_CNTL_YN': 'N', 'WGT_FACTOR': 520.8, 'DEST_CFS_AREA': '31-99999', 'SCTG': '31', 'SHIPMT_WGHT': 10794, 'SHIPMT_DIST_GC': 129, 'NAICS': 4233, 'ORIG_STATE': 46, 'MODE': 5, 'DEST_MA': 99999}, {'DEST_STATE': 55, 'EXPORT_YN': 'N', 'ORIG_CFS_AREA': '55-99999', 'SHIPMT_DIST_ROUTED': 38, 'EXPORT_CNTRY': 'N', 'SHIPMT_ID': 60006, 'ORIG_MA': 99999, 'HAZMAT': 'N', 'QUARTER': 1, 'SHIPMT_VALUE': 62, 'TEMP_CNTL_YN': 'N', 'WGT_FACTOR': 2526.3, 'DEST_CFS_AREA': '55-99999', 'SCTG': '36', 'SHIPMT_WGHT': 2, 'SHIPMT_DIST_GC': 27, 'NAICS': 4231, 'ORIG_STATE': 55, 'MODE': 5, 'DEST_MA': 99999}, {'DEST_STATE': 35, 'EXPORT_YN': 'N', 'ORIG_CFS_AREA': '08-216', 'SHIPMT_DIST_ROUTED': 447, 'EXPORT_CNTRY': 'N', 'SHIPMT_ID': 60007, 'ORIG_MA': 216, 'HAZMAT': 'N', 'QUARTER': 4, 'SHIPMT_VALUE': 6737, 'TEMP_CNTL_YN': 'Y', 'WGT_FACTOR': 1647.8, 'DEST_CFS_AREA': '35-99999', 'SCTG': '43', 'SHIPMT_WGHT': 6093, 'SHIPMT_DIST_GC': 333, 'NAICS': 4244, 'ORIG_STATE': 8, 'MODE': 5, 'DEST_MA': 99999}, {'DEST_STATE': 5, 'EXPORT_YN': 'N', 'ORIG_CFS_AREA': '42-428', 'SHIPMT_DIST_ROUTED': 1203, 'EXPORT_CNTRY': 'N', 'SHIPMT_ID': 60008, 'ORIG_MA': 428, 'HAZMAT': 'N', 'QUARTER': 1, 'SHIPMT_VALUE': 471, 'TEMP_CNTL_YN': 'N', 'WGT_FACTOR': 2470.8, 'DEST_CFS_AREA': '05-99999', 'SCTG': '36', 'SHIPMT_WGHT': 20, 'SHIPMT_DIST_GC': 1025, 'NAICS': 4231, 'ORIG_STATE': 42, 'MODE': 4, 'DEST_MA': 99999}  ... displaying 10 of 10000 total bound parameter sets ...  {'DEST_STATE': 13, 'EXPORT_YN': 'N', 'ORIG_CFS_AREA': '55-99999', 'SHIPMT_DIST_ROUTED': 1066, 'EXPORT_CNTRY': 'N', 'SHIPMT_ID': 69999, 'ORIG_MA': 99999, 'HAZMAT': 'N', 'QUARTER': 4, 'SHIPMT_VALUE': 41654, 'TEMP_CNTL_YN': 'Y', 'WGT_FACTOR': 79.0, 'DEST_CFS_AREA': '13-122', 'SCTG': '06', 'SHIPMT_WGHT': 39280, 'SHIPMT_DIST_GC': 842, 'NAICS': 311, 'ORIG_STATE': 55, 'MODE': 4, 'DEST_MA': 122}, {'DEST_STATE': 26, 'EXPORT_YN': 'N', 'ORIG_CFS_AREA': '26-220', 'SHIPMT_DIST_ROUTED': 3, 'EXPORT_CNTRY': 'N', 'SHIPMT_ID': 70000, 'ORIG_MA': 220, 'HAZMAT': 'N', 'QUARTER': 1, 'SHIPMT_VALUE': 284, 'TEMP_CNTL_YN': 'Y', 'WGT_FACTOR': 271.7, 'DEST_CFS_AREA': '26-220', 'SCTG': '03', 'SHIPMT_WGHT': 1094, 'SHIPMT_DIST_GC': 2, 'NAICS': 4244, 'ORIG_STATE': 26, 'MODE': 5, 'DEST_MA': 220})\n"
     ]
    },
    {
     "name": "stdout",
     "output_type": "stream",
     "text": [
      "2015-11-22 16:46:37,901 INFO sqlalchemy.engine.base.Engine INSERT INTO transactions (\"SHIPMT_ID\", \"ORIG_STATE\", \"ORIG_MA\", \"ORIG_CFS_AREA\", \"DEST_STATE\", \"DEST_MA\", \"DEST_CFS_AREA\", \"NAICS\", \"QUARTER\", \"SCTG\", \"MODE\", \"SHIPMT_VALUE\", \"SHIPMT_WGHT\", \"SHIPMT_DIST_GC\", \"SHIPMT_DIST_ROUTED\", \"TEMP_CNTL_YN\", \"EXPORT_YN\", \"EXPORT_CNTRY\", \"HAZMAT\", \"WGT_FACTOR\") VALUES (%(SHIPMT_ID)s, %(ORIG_STATE)s, %(ORIG_MA)s, %(ORIG_CFS_AREA)s, %(DEST_STATE)s, %(DEST_MA)s, %(DEST_CFS_AREA)s, %(NAICS)s, %(QUARTER)s, %(SCTG)s, %(MODE)s, %(SHIPMT_VALUE)s, %(SHIPMT_WGHT)s, %(SHIPMT_DIST_GC)s, %(SHIPMT_DIST_ROUTED)s, %(TEMP_CNTL_YN)s, %(EXPORT_YN)s, %(EXPORT_CNTRY)s, %(HAZMAT)s, %(WGT_FACTOR)s)\n"
     ]
    },
    {
     "name": "stderr",
     "output_type": "stream",
     "text": [
      "INFO:sqlalchemy.engine.base.Engine:INSERT INTO transactions (\"SHIPMT_ID\", \"ORIG_STATE\", \"ORIG_MA\", \"ORIG_CFS_AREA\", \"DEST_STATE\", \"DEST_MA\", \"DEST_CFS_AREA\", \"NAICS\", \"QUARTER\", \"SCTG\", \"MODE\", \"SHIPMT_VALUE\", \"SHIPMT_WGHT\", \"SHIPMT_DIST_GC\", \"SHIPMT_DIST_ROUTED\", \"TEMP_CNTL_YN\", \"EXPORT_YN\", \"EXPORT_CNTRY\", \"HAZMAT\", \"WGT_FACTOR\") VALUES (%(SHIPMT_ID)s, %(ORIG_STATE)s, %(ORIG_MA)s, %(ORIG_CFS_AREA)s, %(DEST_STATE)s, %(DEST_MA)s, %(DEST_CFS_AREA)s, %(NAICS)s, %(QUARTER)s, %(SCTG)s, %(MODE)s, %(SHIPMT_VALUE)s, %(SHIPMT_WGHT)s, %(SHIPMT_DIST_GC)s, %(SHIPMT_DIST_ROUTED)s, %(TEMP_CNTL_YN)s, %(EXPORT_YN)s, %(EXPORT_CNTRY)s, %(HAZMAT)s, %(WGT_FACTOR)s)\n"
     ]
    },
    {
     "name": "stdout",
     "output_type": "stream",
     "text": [
      "2015-11-22 16:46:37,902 INFO sqlalchemy.engine.base.Engine ({'EXPORT_YN': 'N', 'ORIG_STATE': 6, 'MODE': 4, 'SHIPMT_DIST_ROUTED': 4, 'EXPORT_CNTRY': 'N', 'SHIPMT_ID': 70001, 'DEST_CFS_AREA': '06-99999', 'HAZMAT': 'N', 'ORIG_MA': 99999, 'SHIPMT_WGHT': 36706, 'SHIPMT_VALUE': 9343, 'TEMP_CNTL_YN': 'N', 'QUARTER': 3, 'SCTG': '31', 'ORIG_CFS_AREA': '06-99999', 'WGT_FACTOR': 235.5, 'SHIPMT_DIST_GC': 2, 'NAICS': 327, 'DEST_STATE': 6, 'DEST_MA': 99999}, {'EXPORT_YN': 'N', 'ORIG_STATE': 16, 'MODE': 5, 'SHIPMT_DIST_ROUTED': 28, 'EXPORT_CNTRY': 'N', 'SHIPMT_ID': 70002, 'DEST_CFS_AREA': '16-99999', 'HAZMAT': 'N', 'ORIG_MA': 99999, 'SHIPMT_WGHT': 1, 'SHIPMT_VALUE': 16, 'TEMP_CNTL_YN': 'N', 'QUARTER': 4, 'SCTG': '43', 'ORIG_CFS_AREA': '16-99999', 'WGT_FACTOR': 11518.6, 'SHIPMT_DIST_GC': 28, 'NAICS': 4234, 'DEST_STATE': 16, 'DEST_MA': 99999}, {'EXPORT_YN': 'N', 'ORIG_STATE': 37, 'MODE': 14, 'SHIPMT_DIST_ROUTED': 492, 'EXPORT_CNTRY': 'N', 'SHIPMT_ID': 70003, 'DEST_CFS_AREA': '39-184', 'HAZMAT': 'N', 'ORIG_MA': 268, 'SHIPMT_WGHT': 1, 'SHIPMT_VALUE': 14, 'TEMP_CNTL_YN': 'N', 'QUARTER': 4, 'SCTG': '38', 'ORIG_CFS_AREA': '37-268', 'WGT_FACTOR': 1305.1, 'SHIPMT_DIST_GC': 381, 'NAICS': 4931, 'DEST_STATE': 39, 'DEST_MA': 184}, {'EXPORT_YN': 'N', 'ORIG_STATE': 56, 'MODE': 5, 'SHIPMT_DIST_ROUTED': 70, 'EXPORT_CNTRY': 'N', 'SHIPMT_ID': 70004, 'DEST_CFS_AREA': '08-99999', 'HAZMAT': 'N', 'ORIG_MA': 99999, 'SHIPMT_WGHT': 5, 'SHIPMT_VALUE': 78, 'TEMP_CNTL_YN': 'N', 'QUARTER': 2, 'SCTG': '26', 'ORIG_CFS_AREA': '56-99999', 'WGT_FACTOR': 30.9, 'SHIPMT_DIST_GC': 47, 'NAICS': 337, 'DEST_STATE': 8, 'DEST_MA': 99999}, {'EXPORT_YN': 'N', 'ORIG_STATE': 20, 'MODE': 4, 'SHIPMT_DIST_ROUTED': 141, 'EXPORT_CNTRY': 'N', 'SHIPMT_ID': 70005, 'DEST_CFS_AREA': '20-99999', 'HAZMAT': 'N', 'ORIG_MA': 556, 'SHIPMT_WGHT': 3091, 'SHIPMT_VALUE': 10164, 'TEMP_CNTL_YN': 'N', 'QUARTER': 2, 'SCTG': '24', 'ORIG_CFS_AREA': '20-556', 'WGT_FACTOR': 154.8, 'SHIPMT_DIST_GC': 119, 'NAICS': 326, 'DEST_STATE': 20, 'DEST_MA': 99999}, {'EXPORT_YN': 'N', 'ORIG_STATE': 18, 'MODE': 5, 'SHIPMT_DIST_ROUTED': 8, 'EXPORT_CNTRY': 'N', 'SHIPMT_ID': 70006, 'DEST_CFS_AREA': '18-258', 'HAZMAT': 'N', 'ORIG_MA': 258, 'SHIPMT_WGHT': 1450, 'SHIPMT_VALUE': 434, 'TEMP_CNTL_YN': 'N', 'QUARTER': 3, 'SCTG': '26', 'ORIG_CFS_AREA': '18-258', 'WGT_FACTOR': 17.5, 'SHIPMT_DIST_GC': 8, 'NAICS': 321, 'DEST_STATE': 18, 'DEST_MA': 258}, {'EXPORT_YN': 'N', 'ORIG_STATE': 48, 'MODE': 5, 'SHIPMT_DIST_ROUTED': 11, 'EXPORT_CNTRY': 'N', 'SHIPMT_ID': 70007, 'DEST_CFS_AREA': '48-41700', 'HAZMAT': 'N', 'ORIG_MA': 41700, 'SHIPMT_WGHT': 5, 'SHIPMT_VALUE': 44, 'TEMP_CNTL_YN': 'N', 'QUARTER': 3, 'SCTG': '35', 'ORIG_CFS_AREA': '48-41700', 'WGT_FACTOR': 3907.0, 'SHIPMT_DIST_GC': 9, 'NAICS': 4236, 'DEST_STATE': 48, 'DEST_MA': 41700}, {'EXPORT_YN': 'N', 'ORIG_STATE': 29, 'MODE': 5, 'SHIPMT_DIST_ROUTED': 28, 'EXPORT_CNTRY': 'N', 'SHIPMT_ID': 70008, 'DEST_CFS_AREA': '29-99999', 'HAZMAT': 'N', 'ORIG_MA': 99999, 'SHIPMT_WGHT': 39486, 'SHIPMT_VALUE': 176, 'TEMP_CNTL_YN': 'N', 'QUARTER': 4, 'SCTG': '12', 'ORIG_CFS_AREA': '29-99999', 'WGT_FACTOR': 359.6, 'SHIPMT_DIST_GC': 13, 'NAICS': 212, 'DEST_STATE': 29, 'DEST_MA': 99999}  ... displaying 10 of 10000 total bound parameter sets ...  {'EXPORT_YN': 'N', 'ORIG_STATE': 25, 'MODE': 4, 'SHIPMT_DIST_ROUTED': 13, 'EXPORT_CNTRY': 'N', 'SHIPMT_ID': 79999, 'DEST_CFS_AREA': '25-148', 'HAZMAT': 'N', 'ORIG_MA': 148, 'SHIPMT_WGHT': 52482, 'SHIPMT_VALUE': 1535, 'TEMP_CNTL_YN': 'N', 'QUARTER': 3, 'SCTG': '31', 'ORIG_CFS_AREA': '25-148', 'WGT_FACTOR': 311.4, 'SHIPMT_DIST_GC': 11, 'NAICS': 324, 'DEST_STATE': 25, 'DEST_MA': 148}, {'EXPORT_YN': 'N', 'ORIG_STATE': 9, 'MODE': 5, 'SHIPMT_DIST_ROUTED': 11, 'EXPORT_CNTRY': 'N', 'SHIPMT_ID': 80000, 'DEST_CFS_AREA': '09-25540', 'HAZMAT': 'N', 'ORIG_MA': 25540, 'SHIPMT_WGHT': 317, 'SHIPMT_VALUE': 72, 'TEMP_CNTL_YN': 'Y', 'QUARTER': 3, 'SCTG': '07', 'ORIG_CFS_AREA': '09-25540', 'WGT_FACTOR': 218.3, 'SHIPMT_DIST_GC': 9, 'NAICS': 312, 'DEST_STATE': 9, 'DEST_MA': 25540})\n"
     ]
    },
    {
     "name": "stderr",
     "output_type": "stream",
     "text": [
      "INFO:sqlalchemy.engine.base.Engine:({'EXPORT_YN': 'N', 'ORIG_STATE': 6, 'MODE': 4, 'SHIPMT_DIST_ROUTED': 4, 'EXPORT_CNTRY': 'N', 'SHIPMT_ID': 70001, 'DEST_CFS_AREA': '06-99999', 'HAZMAT': 'N', 'ORIG_MA': 99999, 'SHIPMT_WGHT': 36706, 'SHIPMT_VALUE': 9343, 'TEMP_CNTL_YN': 'N', 'QUARTER': 3, 'SCTG': '31', 'ORIG_CFS_AREA': '06-99999', 'WGT_FACTOR': 235.5, 'SHIPMT_DIST_GC': 2, 'NAICS': 327, 'DEST_STATE': 6, 'DEST_MA': 99999}, {'EXPORT_YN': 'N', 'ORIG_STATE': 16, 'MODE': 5, 'SHIPMT_DIST_ROUTED': 28, 'EXPORT_CNTRY': 'N', 'SHIPMT_ID': 70002, 'DEST_CFS_AREA': '16-99999', 'HAZMAT': 'N', 'ORIG_MA': 99999, 'SHIPMT_WGHT': 1, 'SHIPMT_VALUE': 16, 'TEMP_CNTL_YN': 'N', 'QUARTER': 4, 'SCTG': '43', 'ORIG_CFS_AREA': '16-99999', 'WGT_FACTOR': 11518.6, 'SHIPMT_DIST_GC': 28, 'NAICS': 4234, 'DEST_STATE': 16, 'DEST_MA': 99999}, {'EXPORT_YN': 'N', 'ORIG_STATE': 37, 'MODE': 14, 'SHIPMT_DIST_ROUTED': 492, 'EXPORT_CNTRY': 'N', 'SHIPMT_ID': 70003, 'DEST_CFS_AREA': '39-184', 'HAZMAT': 'N', 'ORIG_MA': 268, 'SHIPMT_WGHT': 1, 'SHIPMT_VALUE': 14, 'TEMP_CNTL_YN': 'N', 'QUARTER': 4, 'SCTG': '38', 'ORIG_CFS_AREA': '37-268', 'WGT_FACTOR': 1305.1, 'SHIPMT_DIST_GC': 381, 'NAICS': 4931, 'DEST_STATE': 39, 'DEST_MA': 184}, {'EXPORT_YN': 'N', 'ORIG_STATE': 56, 'MODE': 5, 'SHIPMT_DIST_ROUTED': 70, 'EXPORT_CNTRY': 'N', 'SHIPMT_ID': 70004, 'DEST_CFS_AREA': '08-99999', 'HAZMAT': 'N', 'ORIG_MA': 99999, 'SHIPMT_WGHT': 5, 'SHIPMT_VALUE': 78, 'TEMP_CNTL_YN': 'N', 'QUARTER': 2, 'SCTG': '26', 'ORIG_CFS_AREA': '56-99999', 'WGT_FACTOR': 30.9, 'SHIPMT_DIST_GC': 47, 'NAICS': 337, 'DEST_STATE': 8, 'DEST_MA': 99999}, {'EXPORT_YN': 'N', 'ORIG_STATE': 20, 'MODE': 4, 'SHIPMT_DIST_ROUTED': 141, 'EXPORT_CNTRY': 'N', 'SHIPMT_ID': 70005, 'DEST_CFS_AREA': '20-99999', 'HAZMAT': 'N', 'ORIG_MA': 556, 'SHIPMT_WGHT': 3091, 'SHIPMT_VALUE': 10164, 'TEMP_CNTL_YN': 'N', 'QUARTER': 2, 'SCTG': '24', 'ORIG_CFS_AREA': '20-556', 'WGT_FACTOR': 154.8, 'SHIPMT_DIST_GC': 119, 'NAICS': 326, 'DEST_STATE': 20, 'DEST_MA': 99999}, {'EXPORT_YN': 'N', 'ORIG_STATE': 18, 'MODE': 5, 'SHIPMT_DIST_ROUTED': 8, 'EXPORT_CNTRY': 'N', 'SHIPMT_ID': 70006, 'DEST_CFS_AREA': '18-258', 'HAZMAT': 'N', 'ORIG_MA': 258, 'SHIPMT_WGHT': 1450, 'SHIPMT_VALUE': 434, 'TEMP_CNTL_YN': 'N', 'QUARTER': 3, 'SCTG': '26', 'ORIG_CFS_AREA': '18-258', 'WGT_FACTOR': 17.5, 'SHIPMT_DIST_GC': 8, 'NAICS': 321, 'DEST_STATE': 18, 'DEST_MA': 258}, {'EXPORT_YN': 'N', 'ORIG_STATE': 48, 'MODE': 5, 'SHIPMT_DIST_ROUTED': 11, 'EXPORT_CNTRY': 'N', 'SHIPMT_ID': 70007, 'DEST_CFS_AREA': '48-41700', 'HAZMAT': 'N', 'ORIG_MA': 41700, 'SHIPMT_WGHT': 5, 'SHIPMT_VALUE': 44, 'TEMP_CNTL_YN': 'N', 'QUARTER': 3, 'SCTG': '35', 'ORIG_CFS_AREA': '48-41700', 'WGT_FACTOR': 3907.0, 'SHIPMT_DIST_GC': 9, 'NAICS': 4236, 'DEST_STATE': 48, 'DEST_MA': 41700}, {'EXPORT_YN': 'N', 'ORIG_STATE': 29, 'MODE': 5, 'SHIPMT_DIST_ROUTED': 28, 'EXPORT_CNTRY': 'N', 'SHIPMT_ID': 70008, 'DEST_CFS_AREA': '29-99999', 'HAZMAT': 'N', 'ORIG_MA': 99999, 'SHIPMT_WGHT': 39486, 'SHIPMT_VALUE': 176, 'TEMP_CNTL_YN': 'N', 'QUARTER': 4, 'SCTG': '12', 'ORIG_CFS_AREA': '29-99999', 'WGT_FACTOR': 359.6, 'SHIPMT_DIST_GC': 13, 'NAICS': 212, 'DEST_STATE': 29, 'DEST_MA': 99999}  ... displaying 10 of 10000 total bound parameter sets ...  {'EXPORT_YN': 'N', 'ORIG_STATE': 25, 'MODE': 4, 'SHIPMT_DIST_ROUTED': 13, 'EXPORT_CNTRY': 'N', 'SHIPMT_ID': 79999, 'DEST_CFS_AREA': '25-148', 'HAZMAT': 'N', 'ORIG_MA': 148, 'SHIPMT_WGHT': 52482, 'SHIPMT_VALUE': 1535, 'TEMP_CNTL_YN': 'N', 'QUARTER': 3, 'SCTG': '31', 'ORIG_CFS_AREA': '25-148', 'WGT_FACTOR': 311.4, 'SHIPMT_DIST_GC': 11, 'NAICS': 324, 'DEST_STATE': 25, 'DEST_MA': 148}, {'EXPORT_YN': 'N', 'ORIG_STATE': 9, 'MODE': 5, 'SHIPMT_DIST_ROUTED': 11, 'EXPORT_CNTRY': 'N', 'SHIPMT_ID': 80000, 'DEST_CFS_AREA': '09-25540', 'HAZMAT': 'N', 'ORIG_MA': 25540, 'SHIPMT_WGHT': 317, 'SHIPMT_VALUE': 72, 'TEMP_CNTL_YN': 'Y', 'QUARTER': 3, 'SCTG': '07', 'ORIG_CFS_AREA': '09-25540', 'WGT_FACTOR': 218.3, 'SHIPMT_DIST_GC': 9, 'NAICS': 312, 'DEST_STATE': 9, 'DEST_MA': 25540})\n"
     ]
    },
    {
     "name": "stdout",
     "output_type": "stream",
     "text": [
      "2015-11-22 16:50:59,769 INFO sqlalchemy.engine.base.Engine INSERT INTO transactions (\"SHIPMT_ID\", \"ORIG_STATE\", \"ORIG_MA\", \"ORIG_CFS_AREA\", \"DEST_STATE\", \"DEST_MA\", \"DEST_CFS_AREA\", \"NAICS\", \"QUARTER\", \"SCTG\", \"MODE\", \"SHIPMT_VALUE\", \"SHIPMT_WGHT\", \"SHIPMT_DIST_GC\", \"SHIPMT_DIST_ROUTED\", \"TEMP_CNTL_YN\", \"EXPORT_YN\", \"EXPORT_CNTRY\", \"HAZMAT\", \"WGT_FACTOR\") VALUES (%(SHIPMT_ID)s, %(ORIG_STATE)s, %(ORIG_MA)s, %(ORIG_CFS_AREA)s, %(DEST_STATE)s, %(DEST_MA)s, %(DEST_CFS_AREA)s, %(NAICS)s, %(QUARTER)s, %(SCTG)s, %(MODE)s, %(SHIPMT_VALUE)s, %(SHIPMT_WGHT)s, %(SHIPMT_DIST_GC)s, %(SHIPMT_DIST_ROUTED)s, %(TEMP_CNTL_YN)s, %(EXPORT_YN)s, %(EXPORT_CNTRY)s, %(HAZMAT)s, %(WGT_FACTOR)s)\n"
     ]
    },
    {
     "name": "stderr",
     "output_type": "stream",
     "text": [
      "INFO:sqlalchemy.engine.base.Engine:INSERT INTO transactions (\"SHIPMT_ID\", \"ORIG_STATE\", \"ORIG_MA\", \"ORIG_CFS_AREA\", \"DEST_STATE\", \"DEST_MA\", \"DEST_CFS_AREA\", \"NAICS\", \"QUARTER\", \"SCTG\", \"MODE\", \"SHIPMT_VALUE\", \"SHIPMT_WGHT\", \"SHIPMT_DIST_GC\", \"SHIPMT_DIST_ROUTED\", \"TEMP_CNTL_YN\", \"EXPORT_YN\", \"EXPORT_CNTRY\", \"HAZMAT\", \"WGT_FACTOR\") VALUES (%(SHIPMT_ID)s, %(ORIG_STATE)s, %(ORIG_MA)s, %(ORIG_CFS_AREA)s, %(DEST_STATE)s, %(DEST_MA)s, %(DEST_CFS_AREA)s, %(NAICS)s, %(QUARTER)s, %(SCTG)s, %(MODE)s, %(SHIPMT_VALUE)s, %(SHIPMT_WGHT)s, %(SHIPMT_DIST_GC)s, %(SHIPMT_DIST_ROUTED)s, %(TEMP_CNTL_YN)s, %(EXPORT_YN)s, %(EXPORT_CNTRY)s, %(HAZMAT)s, %(WGT_FACTOR)s)\n"
     ]
    },
    {
     "name": "stdout",
     "output_type": "stream",
     "text": [
      "2015-11-22 16:50:59,770 INFO sqlalchemy.engine.base.Engine ({'SHIPMT_DIST_GC': 166, 'SHIPMT_DIST_ROUTED': 213, 'ORIG_CFS_AREA': '47-99999', 'EXPORT_YN': 'N', 'EXPORT_CNTRY': 'N', 'WGT_FACTOR': 69.2, 'SHIPMT_ID': 80001, 'ORIG_MA': 99999, 'HAZMAT': 'N', 'NAICS': 332, 'SHIPMT_VALUE': 4888, 'TEMP_CNTL_YN': 'N', 'QUARTER': 4, 'DEST_CFS_AREA': '01-142', 'MODE': 4, 'SHIPMT_WGHT': 3081, 'SCTG': '32', 'ORIG_STATE': 47, 'DEST_STATE': 1, 'DEST_MA': 142}, {'SHIPMT_DIST_GC': 733, 'SHIPMT_DIST_ROUTED': 989, 'ORIG_CFS_AREA': '27-378', 'EXPORT_YN': 'N', 'EXPORT_CNTRY': 'N', 'WGT_FACTOR': 560.8, 'SHIPMT_ID': 80002, 'ORIG_MA': 378, 'HAZMAT': 'N', 'NAICS': 333, 'SHIPMT_VALUE': 16, 'TEMP_CNTL_YN': 'N', 'QUARTER': 3, 'DEST_CFS_AREA': '36-160', 'MODE': 14, 'SHIPMT_WGHT': 1, 'SCTG': '34', 'ORIG_STATE': 27, 'DEST_STATE': 36, 'DEST_MA': 160}, {'SHIPMT_DIST_GC': 1, 'SHIPMT_DIST_ROUTED': 1, 'ORIG_CFS_AREA': '34-408', 'EXPORT_YN': 'N', 'EXPORT_CNTRY': 'N', 'WGT_FACTOR': 357.6, 'SHIPMT_ID': 80003, 'ORIG_MA': 408, 'HAZMAT': 'N', 'NAICS': 4248, 'SHIPMT_VALUE': 105, 'TEMP_CNTL_YN': 'N', 'QUARTER': 3, 'DEST_CFS_AREA': '34-408', 'MODE': 5, 'SHIPMT_WGHT': 295, 'SCTG': '08', 'ORIG_STATE': 34, 'DEST_STATE': 34, 'DEST_MA': 408}, {'SHIPMT_DIST_GC': 634, 'SHIPMT_DIST_ROUTED': 766, 'ORIG_CFS_AREA': '13-122', 'EXPORT_YN': 'N', 'EXPORT_CNTRY': 'N', 'WGT_FACTOR': 463.0, 'SHIPMT_ID': 80004, 'ORIG_MA': 122, 'HAZMAT': 'N', 'NAICS': 4243, 'SHIPMT_VALUE': 80, 'TEMP_CNTL_YN': 'N', 'QUARTER': 4, 'DEST_CFS_AREA': '26-220', 'MODE': 14, 'SHIPMT_WGHT': 22, 'SCTG': '30', 'ORIG_STATE': 13, 'DEST_STATE': 26, 'DEST_MA': 220}, {'SHIPMT_DIST_GC': 900, 'SHIPMT_DIST_ROUTED': 1052, 'ORIG_CFS_AREA': '25-148', 'EXPORT_YN': 'N', 'EXPORT_CNTRY': 'N', 'WGT_FACTOR': 11.7, 'SHIPMT_ID': 80005, 'ORIG_MA': 148, 'HAZMAT': 'N', 'NAICS': 325, 'SHIPMT_VALUE': 370, 'TEMP_CNTL_YN': 'N', 'QUARTER': 3, 'DEST_CFS_AREA': '17-176', 'MODE': 14, 'SHIPMT_WGHT': 1, 'SCTG': '20', 'ORIG_STATE': 25, 'DEST_STATE': 17, 'DEST_MA': 176}, {'SHIPMT_DIST_GC': 284, 'SHIPMT_DIST_ROUTED': 440, 'ORIG_CFS_AREA': '13-122', 'EXPORT_YN': 'N', 'EXPORT_CNTRY': 'N', 'WGT_FACTOR': 188.9, 'SHIPMT_ID': 80006, 'ORIG_MA': 122, 'HAZMAT': 'N', 'NAICS': 4231, 'SHIPMT_VALUE': 10922, 'TEMP_CNTL_YN': 'N', 'QUARTER': 2, 'DEST_CFS_AREA': '12-99999', 'MODE': 4, 'SHIPMT_WGHT': 3025, 'SCTG': '24', 'ORIG_STATE': 13, 'DEST_STATE': 12, 'DEST_MA': 99999}, {'SHIPMT_DIST_GC': 267, 'SHIPMT_DIST_ROUTED': 346, 'ORIG_CFS_AREA': '20-99999', 'EXPORT_YN': 'N', 'EXPORT_CNTRY': 'N', 'WGT_FACTOR': 726.2, 'SHIPMT_ID': 80007, 'ORIG_MA': 99999, 'HAZMAT': 'N', 'NAICS': 4541, 'SHIPMT_VALUE': 202, 'TEMP_CNTL_YN': 'N', 'QUARTER': 1, 'DEST_CFS_AREA': '19-99999', 'MODE': 14, 'SHIPMT_WGHT': 35, 'SCTG': '40', 'ORIG_STATE': 20, 'DEST_STATE': 19, 'DEST_MA': 99999}, {'SHIPMT_DIST_GC': 29, 'SHIPMT_DIST_ROUTED': 36, 'ORIG_CFS_AREA': '01-99999', 'EXPORT_YN': 'N', 'EXPORT_CNTRY': 'N', 'WGT_FACTOR': 12.0, 'SHIPMT_ID': 80008, 'ORIG_MA': 99999, 'HAZMAT': 'N', 'NAICS': 4249, 'SHIPMT_VALUE': 17, 'TEMP_CNTL_YN': 'N', 'QUARTER': 4, 'DEST_CFS_AREA': '01-99999', 'MODE': 5, 'SHIPMT_WGHT': 91, 'SCTG': '03', 'ORIG_STATE': 1, 'DEST_STATE': 1, 'DEST_MA': 99999}  ... displaying 10 of 10000 total bound parameter sets ...  {'SHIPMT_DIST_GC': 345, 'SHIPMT_DIST_ROUTED': 468, 'ORIG_CFS_AREA': '06-348', 'EXPORT_YN': 'N', 'EXPORT_CNTRY': 'N', 'WGT_FACTOR': 415.5, 'SHIPMT_ID': 89999, 'ORIG_MA': 348, 'HAZMAT': 'N', 'NAICS': 339, 'SHIPMT_VALUE': 34, 'TEMP_CNTL_YN': 'N', 'QUARTER': 2, 'DEST_CFS_AREA': '04-99999', 'MODE': 14, 'SHIPMT_WGHT': 4, 'SCTG': '40', 'ORIG_STATE': 6, 'DEST_STATE': 4, 'DEST_MA': 99999}, {'SHIPMT_DIST_GC': 388, 'SHIPMT_DIST_ROUTED': 497, 'ORIG_CFS_AREA': '01-99999', 'EXPORT_YN': 'N', 'EXPORT_CNTRY': 'N', 'WGT_FACTOR': 542.7, 'SHIPMT_ID': 90000, 'ORIG_MA': 99999, 'HAZMAT': 'N', 'NAICS': 332, 'SHIPMT_VALUE': 1055, 'TEMP_CNTL_YN': 'N', 'QUARTER': 3, 'DEST_CFS_AREA': '29-476', 'MODE': 14, 'SHIPMT_WGHT': 24, 'SCTG': '34', 'ORIG_STATE': 1, 'DEST_STATE': 29, 'DEST_MA': 476})\n"
     ]
    },
    {
     "name": "stderr",
     "output_type": "stream",
     "text": [
      "INFO:sqlalchemy.engine.base.Engine:({'SHIPMT_DIST_GC': 166, 'SHIPMT_DIST_ROUTED': 213, 'ORIG_CFS_AREA': '47-99999', 'EXPORT_YN': 'N', 'EXPORT_CNTRY': 'N', 'WGT_FACTOR': 69.2, 'SHIPMT_ID': 80001, 'ORIG_MA': 99999, 'HAZMAT': 'N', 'NAICS': 332, 'SHIPMT_VALUE': 4888, 'TEMP_CNTL_YN': 'N', 'QUARTER': 4, 'DEST_CFS_AREA': '01-142', 'MODE': 4, 'SHIPMT_WGHT': 3081, 'SCTG': '32', 'ORIG_STATE': 47, 'DEST_STATE': 1, 'DEST_MA': 142}, {'SHIPMT_DIST_GC': 733, 'SHIPMT_DIST_ROUTED': 989, 'ORIG_CFS_AREA': '27-378', 'EXPORT_YN': 'N', 'EXPORT_CNTRY': 'N', 'WGT_FACTOR': 560.8, 'SHIPMT_ID': 80002, 'ORIG_MA': 378, 'HAZMAT': 'N', 'NAICS': 333, 'SHIPMT_VALUE': 16, 'TEMP_CNTL_YN': 'N', 'QUARTER': 3, 'DEST_CFS_AREA': '36-160', 'MODE': 14, 'SHIPMT_WGHT': 1, 'SCTG': '34', 'ORIG_STATE': 27, 'DEST_STATE': 36, 'DEST_MA': 160}, {'SHIPMT_DIST_GC': 1, 'SHIPMT_DIST_ROUTED': 1, 'ORIG_CFS_AREA': '34-408', 'EXPORT_YN': 'N', 'EXPORT_CNTRY': 'N', 'WGT_FACTOR': 357.6, 'SHIPMT_ID': 80003, 'ORIG_MA': 408, 'HAZMAT': 'N', 'NAICS': 4248, 'SHIPMT_VALUE': 105, 'TEMP_CNTL_YN': 'N', 'QUARTER': 3, 'DEST_CFS_AREA': '34-408', 'MODE': 5, 'SHIPMT_WGHT': 295, 'SCTG': '08', 'ORIG_STATE': 34, 'DEST_STATE': 34, 'DEST_MA': 408}, {'SHIPMT_DIST_GC': 634, 'SHIPMT_DIST_ROUTED': 766, 'ORIG_CFS_AREA': '13-122', 'EXPORT_YN': 'N', 'EXPORT_CNTRY': 'N', 'WGT_FACTOR': 463.0, 'SHIPMT_ID': 80004, 'ORIG_MA': 122, 'HAZMAT': 'N', 'NAICS': 4243, 'SHIPMT_VALUE': 80, 'TEMP_CNTL_YN': 'N', 'QUARTER': 4, 'DEST_CFS_AREA': '26-220', 'MODE': 14, 'SHIPMT_WGHT': 22, 'SCTG': '30', 'ORIG_STATE': 13, 'DEST_STATE': 26, 'DEST_MA': 220}, {'SHIPMT_DIST_GC': 900, 'SHIPMT_DIST_ROUTED': 1052, 'ORIG_CFS_AREA': '25-148', 'EXPORT_YN': 'N', 'EXPORT_CNTRY': 'N', 'WGT_FACTOR': 11.7, 'SHIPMT_ID': 80005, 'ORIG_MA': 148, 'HAZMAT': 'N', 'NAICS': 325, 'SHIPMT_VALUE': 370, 'TEMP_CNTL_YN': 'N', 'QUARTER': 3, 'DEST_CFS_AREA': '17-176', 'MODE': 14, 'SHIPMT_WGHT': 1, 'SCTG': '20', 'ORIG_STATE': 25, 'DEST_STATE': 17, 'DEST_MA': 176}, {'SHIPMT_DIST_GC': 284, 'SHIPMT_DIST_ROUTED': 440, 'ORIG_CFS_AREA': '13-122', 'EXPORT_YN': 'N', 'EXPORT_CNTRY': 'N', 'WGT_FACTOR': 188.9, 'SHIPMT_ID': 80006, 'ORIG_MA': 122, 'HAZMAT': 'N', 'NAICS': 4231, 'SHIPMT_VALUE': 10922, 'TEMP_CNTL_YN': 'N', 'QUARTER': 2, 'DEST_CFS_AREA': '12-99999', 'MODE': 4, 'SHIPMT_WGHT': 3025, 'SCTG': '24', 'ORIG_STATE': 13, 'DEST_STATE': 12, 'DEST_MA': 99999}, {'SHIPMT_DIST_GC': 267, 'SHIPMT_DIST_ROUTED': 346, 'ORIG_CFS_AREA': '20-99999', 'EXPORT_YN': 'N', 'EXPORT_CNTRY': 'N', 'WGT_FACTOR': 726.2, 'SHIPMT_ID': 80007, 'ORIG_MA': 99999, 'HAZMAT': 'N', 'NAICS': 4541, 'SHIPMT_VALUE': 202, 'TEMP_CNTL_YN': 'N', 'QUARTER': 1, 'DEST_CFS_AREA': '19-99999', 'MODE': 14, 'SHIPMT_WGHT': 35, 'SCTG': '40', 'ORIG_STATE': 20, 'DEST_STATE': 19, 'DEST_MA': 99999}, {'SHIPMT_DIST_GC': 29, 'SHIPMT_DIST_ROUTED': 36, 'ORIG_CFS_AREA': '01-99999', 'EXPORT_YN': 'N', 'EXPORT_CNTRY': 'N', 'WGT_FACTOR': 12.0, 'SHIPMT_ID': 80008, 'ORIG_MA': 99999, 'HAZMAT': 'N', 'NAICS': 4249, 'SHIPMT_VALUE': 17, 'TEMP_CNTL_YN': 'N', 'QUARTER': 4, 'DEST_CFS_AREA': '01-99999', 'MODE': 5, 'SHIPMT_WGHT': 91, 'SCTG': '03', 'ORIG_STATE': 1, 'DEST_STATE': 1, 'DEST_MA': 99999}  ... displaying 10 of 10000 total bound parameter sets ...  {'SHIPMT_DIST_GC': 345, 'SHIPMT_DIST_ROUTED': 468, 'ORIG_CFS_AREA': '06-348', 'EXPORT_YN': 'N', 'EXPORT_CNTRY': 'N', 'WGT_FACTOR': 415.5, 'SHIPMT_ID': 89999, 'ORIG_MA': 348, 'HAZMAT': 'N', 'NAICS': 339, 'SHIPMT_VALUE': 34, 'TEMP_CNTL_YN': 'N', 'QUARTER': 2, 'DEST_CFS_AREA': '04-99999', 'MODE': 14, 'SHIPMT_WGHT': 4, 'SCTG': '40', 'ORIG_STATE': 6, 'DEST_STATE': 4, 'DEST_MA': 99999}, {'SHIPMT_DIST_GC': 388, 'SHIPMT_DIST_ROUTED': 497, 'ORIG_CFS_AREA': '01-99999', 'EXPORT_YN': 'N', 'EXPORT_CNTRY': 'N', 'WGT_FACTOR': 542.7, 'SHIPMT_ID': 90000, 'ORIG_MA': 99999, 'HAZMAT': 'N', 'NAICS': 332, 'SHIPMT_VALUE': 1055, 'TEMP_CNTL_YN': 'N', 'QUARTER': 3, 'DEST_CFS_AREA': '29-476', 'MODE': 14, 'SHIPMT_WGHT': 24, 'SCTG': '34', 'ORIG_STATE': 1, 'DEST_STATE': 29, 'DEST_MA': 476})\n"
     ]
    },
    {
     "name": "stdout",
     "output_type": "stream",
     "text": [
      "2015-11-22 16:55:11,594 INFO sqlalchemy.engine.base.Engine INSERT INTO transactions (\"SHIPMT_ID\", \"ORIG_STATE\", \"ORIG_MA\", \"ORIG_CFS_AREA\", \"DEST_STATE\", \"DEST_MA\", \"DEST_CFS_AREA\", \"NAICS\", \"QUARTER\", \"SCTG\", \"MODE\", \"SHIPMT_VALUE\", \"SHIPMT_WGHT\", \"SHIPMT_DIST_GC\", \"SHIPMT_DIST_ROUTED\", \"TEMP_CNTL_YN\", \"EXPORT_YN\", \"EXPORT_CNTRY\", \"HAZMAT\", \"WGT_FACTOR\") VALUES (%(SHIPMT_ID)s, %(ORIG_STATE)s, %(ORIG_MA)s, %(ORIG_CFS_AREA)s, %(DEST_STATE)s, %(DEST_MA)s, %(DEST_CFS_AREA)s, %(NAICS)s, %(QUARTER)s, %(SCTG)s, %(MODE)s, %(SHIPMT_VALUE)s, %(SHIPMT_WGHT)s, %(SHIPMT_DIST_GC)s, %(SHIPMT_DIST_ROUTED)s, %(TEMP_CNTL_YN)s, %(EXPORT_YN)s, %(EXPORT_CNTRY)s, %(HAZMAT)s, %(WGT_FACTOR)s)\n"
     ]
    },
    {
     "name": "stderr",
     "output_type": "stream",
     "text": [
      "INFO:sqlalchemy.engine.base.Engine:INSERT INTO transactions (\"SHIPMT_ID\", \"ORIG_STATE\", \"ORIG_MA\", \"ORIG_CFS_AREA\", \"DEST_STATE\", \"DEST_MA\", \"DEST_CFS_AREA\", \"NAICS\", \"QUARTER\", \"SCTG\", \"MODE\", \"SHIPMT_VALUE\", \"SHIPMT_WGHT\", \"SHIPMT_DIST_GC\", \"SHIPMT_DIST_ROUTED\", \"TEMP_CNTL_YN\", \"EXPORT_YN\", \"EXPORT_CNTRY\", \"HAZMAT\", \"WGT_FACTOR\") VALUES (%(SHIPMT_ID)s, %(ORIG_STATE)s, %(ORIG_MA)s, %(ORIG_CFS_AREA)s, %(DEST_STATE)s, %(DEST_MA)s, %(DEST_CFS_AREA)s, %(NAICS)s, %(QUARTER)s, %(SCTG)s, %(MODE)s, %(SHIPMT_VALUE)s, %(SHIPMT_WGHT)s, %(SHIPMT_DIST_GC)s, %(SHIPMT_DIST_ROUTED)s, %(TEMP_CNTL_YN)s, %(EXPORT_YN)s, %(EXPORT_CNTRY)s, %(HAZMAT)s, %(WGT_FACTOR)s)\n"
     ]
    },
    {
     "name": "stdout",
     "output_type": "stream",
     "text": [
      "2015-11-22 16:55:11,595 INFO sqlalchemy.engine.base.Engine ({'SHIPMT_DIST_ROUTED': 140, 'ORIG_STATE': 41, 'MODE': 14, 'EXPORT_YN': 'N', 'EXPORT_CNTRY': 'N', 'SHIPMT_ID': 90001, 'DEST_CFS_AREA': '41-99999', 'HAZMAT': 'N', 'ORIG_MA': 99999, 'SHIPMT_WGHT': 2, 'SHIPMT_VALUE': 20, 'TEMP_CNTL_YN': 'N', 'QUARTER': 1, 'SCTG': '29', 'ORIG_CFS_AREA': '41-99999', 'WGT_FACTOR': 252.6, 'SHIPMT_DIST_GC': 117, 'NAICS': 323, 'DEST_STATE': 41, 'DEST_MA': 99999}, {'SHIPMT_DIST_ROUTED': 235, 'ORIG_STATE': 47, 'MODE': 4, 'EXPORT_YN': 'N', 'EXPORT_CNTRY': 'N', 'SHIPMT_ID': 90002, 'DEST_CFS_AREA': '21-99999', 'HAZMAT': 'N', 'ORIG_MA': 99999, 'SHIPMT_WGHT': 31121, 'SHIPMT_VALUE': 20078, 'TEMP_CNTL_YN': 'N', 'QUARTER': 2, 'SCTG': '36', 'ORIG_CFS_AREA': '47-99999', 'WGT_FACTOR': 2112.7, 'SHIPMT_DIST_GC': 185, 'NAICS': 336, 'DEST_STATE': 21, 'DEST_MA': 99999}, {'SHIPMT_DIST_ROUTED': 57, 'ORIG_STATE': 50, 'MODE': 14, 'EXPORT_YN': 'N', 'EXPORT_CNTRY': 'N', 'SHIPMT_ID': 90003, 'DEST_CFS_AREA': '36-99999', 'HAZMAT': 'N', 'ORIG_MA': 99999, 'SHIPMT_WGHT': 43, 'SHIPMT_VALUE': 38, 'TEMP_CNTL_YN': 'N', 'QUARTER': 3, 'SCTG': '23', 'ORIG_CFS_AREA': '50-99999', 'WGT_FACTOR': 1363.3, 'SHIPMT_DIST_GC': 44, 'NAICS': 4234, 'DEST_STATE': 36, 'DEST_MA': 99999}, {'SHIPMT_DIST_ROUTED': 42, 'ORIG_STATE': 24, 'MODE': 5, 'EXPORT_YN': 'N', 'EXPORT_CNTRY': 'N', 'SHIPMT_ID': 90004, 'DEST_CFS_AREA': '10-99999', 'HAZMAT': 'N', 'ORIG_MA': 99999, 'SHIPMT_WGHT': 1208, 'SHIPMT_VALUE': 834, 'TEMP_CNTL_YN': 'N', 'QUARTER': 1, 'SCTG': '24', 'ORIG_CFS_AREA': '24-99999', 'WGT_FACTOR': 297.5, 'SHIPMT_DIST_GC': 34, 'NAICS': 4233, 'DEST_STATE': 10, 'DEST_MA': 99999}, {'SHIPMT_DIST_ROUTED': 20, 'ORIG_STATE': 1, 'MODE': 4, 'EXPORT_YN': 'N', 'EXPORT_CNTRY': 'N', 'SHIPMT_ID': 90005, 'DEST_CFS_AREA': '01-142', 'HAZMAT': 'N', 'ORIG_MA': 142, 'SHIPMT_WGHT': 60245, 'SHIPMT_VALUE': 1777, 'TEMP_CNTL_YN': 'N', 'QUARTER': 1, 'SCTG': '15', 'ORIG_CFS_AREA': '01-142', 'WGT_FACTOR': 95.2, 'SHIPMT_DIST_GC': 14, 'NAICS': 212, 'DEST_STATE': 1, 'DEST_MA': 142}, {'SHIPMT_DIST_ROUTED': 161, 'ORIG_STATE': 6, 'MODE': 4, 'EXPORT_YN': 'N', 'EXPORT_CNTRY': 'N', 'SHIPMT_ID': 90006, 'DEST_CFS_AREA': '06-99999', 'HAZMAT': 'N', 'ORIG_MA': 348, 'SHIPMT_WGHT': 7634, 'SHIPMT_VALUE': 4444, 'TEMP_CNTL_YN': 'N', 'QUARTER': 2, 'SCTG': '03', 'ORIG_CFS_AREA': '06-348', 'WGT_FACTOR': 58.8, 'SHIPMT_DIST_GC': 137, 'NAICS': 4245, 'DEST_STATE': 6, 'DEST_MA': 99999}, {'SHIPMT_DIST_ROUTED': 180, 'ORIG_STATE': 1, 'MODE': 14, 'EXPORT_YN': 'N', 'EXPORT_CNTRY': 'N', 'SHIPMT_ID': 90007, 'DEST_CFS_AREA': '47-99999', 'HAZMAT': 'N', 'ORIG_MA': 99999, 'SHIPMT_WGHT': 5, 'SHIPMT_VALUE': 83, 'TEMP_CNTL_YN': 'N', 'QUARTER': 4, 'SCTG': '40', 'ORIG_CFS_AREA': '01-99999', 'WGT_FACTOR': 2871.7, 'SHIPMT_DIST_GC': 146, 'NAICS': 4238, 'DEST_STATE': 47, 'DEST_MA': 99999}, {'SHIPMT_DIST_ROUTED': 1424, 'ORIG_STATE': 17, 'MODE': 14, 'EXPORT_YN': 'N', 'EXPORT_CNTRY': 'N', 'SHIPMT_ID': 90008, 'DEST_CFS_AREA': '12-370', 'HAZMAT': 'N', 'ORIG_MA': 176, 'SHIPMT_WGHT': 15, 'SHIPMT_VALUE': 169, 'TEMP_CNTL_YN': 'N', 'QUARTER': 1, 'SCTG': '35', 'ORIG_CFS_AREA': '17-176', 'WGT_FACTOR': 6703.8, 'SHIPMT_DIST_GC': 1195, 'NAICS': 4238, 'DEST_STATE': 12, 'DEST_MA': 370}  ... displaying 10 of 10000 total bound parameter sets ...  {'SHIPMT_DIST_ROUTED': 952, 'ORIG_STATE': 6, 'MODE': 4, 'EXPORT_YN': 'N', 'EXPORT_CNTRY': 'N', 'SHIPMT_ID': 99999, 'DEST_CFS_AREA': '41-440', 'HAZMAT': 'N', 'ORIG_MA': 348, 'SHIPMT_WGHT': 71, 'SHIPMT_VALUE': 2032, 'TEMP_CNTL_YN': 'N', 'QUARTER': 1, 'SCTG': '30', 'ORIG_CFS_AREA': '06-348', 'WGT_FACTOR': 182.2, 'SHIPMT_DIST_GC': 821, 'NAICS': 313, 'DEST_STATE': 41, 'DEST_MA': 440}, {'SHIPMT_DIST_ROUTED': 345, 'ORIG_STATE': 48, 'MODE': 14, 'EXPORT_YN': 'N', 'EXPORT_CNTRY': 'N', 'SHIPMT_ID': 100000, 'DEST_CFS_AREA': '20-556', 'HAZMAT': 'N', 'ORIG_MA': 206, 'SHIPMT_WGHT': 11, 'SHIPMT_VALUE': 332, 'TEMP_CNTL_YN': 'N', 'QUARTER': 2, 'SCTG': '23', 'ORIG_CFS_AREA': '48-206', 'WGT_FACTOR': 6327.0, 'SHIPMT_DIST_GC': 322, 'NAICS': 325, 'DEST_STATE': 20, 'DEST_MA': 556})\n"
     ]
    },
    {
     "name": "stderr",
     "output_type": "stream",
     "text": [
      "INFO:sqlalchemy.engine.base.Engine:({'SHIPMT_DIST_ROUTED': 140, 'ORIG_STATE': 41, 'MODE': 14, 'EXPORT_YN': 'N', 'EXPORT_CNTRY': 'N', 'SHIPMT_ID': 90001, 'DEST_CFS_AREA': '41-99999', 'HAZMAT': 'N', 'ORIG_MA': 99999, 'SHIPMT_WGHT': 2, 'SHIPMT_VALUE': 20, 'TEMP_CNTL_YN': 'N', 'QUARTER': 1, 'SCTG': '29', 'ORIG_CFS_AREA': '41-99999', 'WGT_FACTOR': 252.6, 'SHIPMT_DIST_GC': 117, 'NAICS': 323, 'DEST_STATE': 41, 'DEST_MA': 99999}, {'SHIPMT_DIST_ROUTED': 235, 'ORIG_STATE': 47, 'MODE': 4, 'EXPORT_YN': 'N', 'EXPORT_CNTRY': 'N', 'SHIPMT_ID': 90002, 'DEST_CFS_AREA': '21-99999', 'HAZMAT': 'N', 'ORIG_MA': 99999, 'SHIPMT_WGHT': 31121, 'SHIPMT_VALUE': 20078, 'TEMP_CNTL_YN': 'N', 'QUARTER': 2, 'SCTG': '36', 'ORIG_CFS_AREA': '47-99999', 'WGT_FACTOR': 2112.7, 'SHIPMT_DIST_GC': 185, 'NAICS': 336, 'DEST_STATE': 21, 'DEST_MA': 99999}, {'SHIPMT_DIST_ROUTED': 57, 'ORIG_STATE': 50, 'MODE': 14, 'EXPORT_YN': 'N', 'EXPORT_CNTRY': 'N', 'SHIPMT_ID': 90003, 'DEST_CFS_AREA': '36-99999', 'HAZMAT': 'N', 'ORIG_MA': 99999, 'SHIPMT_WGHT': 43, 'SHIPMT_VALUE': 38, 'TEMP_CNTL_YN': 'N', 'QUARTER': 3, 'SCTG': '23', 'ORIG_CFS_AREA': '50-99999', 'WGT_FACTOR': 1363.3, 'SHIPMT_DIST_GC': 44, 'NAICS': 4234, 'DEST_STATE': 36, 'DEST_MA': 99999}, {'SHIPMT_DIST_ROUTED': 42, 'ORIG_STATE': 24, 'MODE': 5, 'EXPORT_YN': 'N', 'EXPORT_CNTRY': 'N', 'SHIPMT_ID': 90004, 'DEST_CFS_AREA': '10-99999', 'HAZMAT': 'N', 'ORIG_MA': 99999, 'SHIPMT_WGHT': 1208, 'SHIPMT_VALUE': 834, 'TEMP_CNTL_YN': 'N', 'QUARTER': 1, 'SCTG': '24', 'ORIG_CFS_AREA': '24-99999', 'WGT_FACTOR': 297.5, 'SHIPMT_DIST_GC': 34, 'NAICS': 4233, 'DEST_STATE': 10, 'DEST_MA': 99999}, {'SHIPMT_DIST_ROUTED': 20, 'ORIG_STATE': 1, 'MODE': 4, 'EXPORT_YN': 'N', 'EXPORT_CNTRY': 'N', 'SHIPMT_ID': 90005, 'DEST_CFS_AREA': '01-142', 'HAZMAT': 'N', 'ORIG_MA': 142, 'SHIPMT_WGHT': 60245, 'SHIPMT_VALUE': 1777, 'TEMP_CNTL_YN': 'N', 'QUARTER': 1, 'SCTG': '15', 'ORIG_CFS_AREA': '01-142', 'WGT_FACTOR': 95.2, 'SHIPMT_DIST_GC': 14, 'NAICS': 212, 'DEST_STATE': 1, 'DEST_MA': 142}, {'SHIPMT_DIST_ROUTED': 161, 'ORIG_STATE': 6, 'MODE': 4, 'EXPORT_YN': 'N', 'EXPORT_CNTRY': 'N', 'SHIPMT_ID': 90006, 'DEST_CFS_AREA': '06-99999', 'HAZMAT': 'N', 'ORIG_MA': 348, 'SHIPMT_WGHT': 7634, 'SHIPMT_VALUE': 4444, 'TEMP_CNTL_YN': 'N', 'QUARTER': 2, 'SCTG': '03', 'ORIG_CFS_AREA': '06-348', 'WGT_FACTOR': 58.8, 'SHIPMT_DIST_GC': 137, 'NAICS': 4245, 'DEST_STATE': 6, 'DEST_MA': 99999}, {'SHIPMT_DIST_ROUTED': 180, 'ORIG_STATE': 1, 'MODE': 14, 'EXPORT_YN': 'N', 'EXPORT_CNTRY': 'N', 'SHIPMT_ID': 90007, 'DEST_CFS_AREA': '47-99999', 'HAZMAT': 'N', 'ORIG_MA': 99999, 'SHIPMT_WGHT': 5, 'SHIPMT_VALUE': 83, 'TEMP_CNTL_YN': 'N', 'QUARTER': 4, 'SCTG': '40', 'ORIG_CFS_AREA': '01-99999', 'WGT_FACTOR': 2871.7, 'SHIPMT_DIST_GC': 146, 'NAICS': 4238, 'DEST_STATE': 47, 'DEST_MA': 99999}, {'SHIPMT_DIST_ROUTED': 1424, 'ORIG_STATE': 17, 'MODE': 14, 'EXPORT_YN': 'N', 'EXPORT_CNTRY': 'N', 'SHIPMT_ID': 90008, 'DEST_CFS_AREA': '12-370', 'HAZMAT': 'N', 'ORIG_MA': 176, 'SHIPMT_WGHT': 15, 'SHIPMT_VALUE': 169, 'TEMP_CNTL_YN': 'N', 'QUARTER': 1, 'SCTG': '35', 'ORIG_CFS_AREA': '17-176', 'WGT_FACTOR': 6703.8, 'SHIPMT_DIST_GC': 1195, 'NAICS': 4238, 'DEST_STATE': 12, 'DEST_MA': 370}  ... displaying 10 of 10000 total bound parameter sets ...  {'SHIPMT_DIST_ROUTED': 952, 'ORIG_STATE': 6, 'MODE': 4, 'EXPORT_YN': 'N', 'EXPORT_CNTRY': 'N', 'SHIPMT_ID': 99999, 'DEST_CFS_AREA': '41-440', 'HAZMAT': 'N', 'ORIG_MA': 348, 'SHIPMT_WGHT': 71, 'SHIPMT_VALUE': 2032, 'TEMP_CNTL_YN': 'N', 'QUARTER': 1, 'SCTG': '30', 'ORIG_CFS_AREA': '06-348', 'WGT_FACTOR': 182.2, 'SHIPMT_DIST_GC': 821, 'NAICS': 313, 'DEST_STATE': 41, 'DEST_MA': 440}, {'SHIPMT_DIST_ROUTED': 345, 'ORIG_STATE': 48, 'MODE': 14, 'EXPORT_YN': 'N', 'EXPORT_CNTRY': 'N', 'SHIPMT_ID': 100000, 'DEST_CFS_AREA': '20-556', 'HAZMAT': 'N', 'ORIG_MA': 206, 'SHIPMT_WGHT': 11, 'SHIPMT_VALUE': 332, 'TEMP_CNTL_YN': 'N', 'QUARTER': 2, 'SCTG': '23', 'ORIG_CFS_AREA': '48-206', 'WGT_FACTOR': 6327.0, 'SHIPMT_DIST_GC': 322, 'NAICS': 325, 'DEST_STATE': 20, 'DEST_MA': 556})\n"
     ]
    },
    {
     "name": "stdout",
     "output_type": "stream",
     "text": [
      "2015-11-22 16:59:19,766 INFO sqlalchemy.engine.base.Engine INSERT INTO transactions (\"SHIPMT_ID\", \"ORIG_STATE\", \"ORIG_MA\", \"ORIG_CFS_AREA\", \"DEST_STATE\", \"DEST_MA\", \"DEST_CFS_AREA\", \"NAICS\", \"QUARTER\", \"SCTG\", \"MODE\", \"SHIPMT_VALUE\", \"SHIPMT_WGHT\", \"SHIPMT_DIST_GC\", \"SHIPMT_DIST_ROUTED\", \"TEMP_CNTL_YN\", \"EXPORT_YN\", \"EXPORT_CNTRY\", \"HAZMAT\", \"WGT_FACTOR\") VALUES (%(SHIPMT_ID)s, %(ORIG_STATE)s, %(ORIG_MA)s, %(ORIG_CFS_AREA)s, %(DEST_STATE)s, %(DEST_MA)s, %(DEST_CFS_AREA)s, %(NAICS)s, %(QUARTER)s, %(SCTG)s, %(MODE)s, %(SHIPMT_VALUE)s, %(SHIPMT_WGHT)s, %(SHIPMT_DIST_GC)s, %(SHIPMT_DIST_ROUTED)s, %(TEMP_CNTL_YN)s, %(EXPORT_YN)s, %(EXPORT_CNTRY)s, %(HAZMAT)s, %(WGT_FACTOR)s)\n"
     ]
    },
    {
     "name": "stderr",
     "output_type": "stream",
     "text": [
      "INFO:sqlalchemy.engine.base.Engine:INSERT INTO transactions (\"SHIPMT_ID\", \"ORIG_STATE\", \"ORIG_MA\", \"ORIG_CFS_AREA\", \"DEST_STATE\", \"DEST_MA\", \"DEST_CFS_AREA\", \"NAICS\", \"QUARTER\", \"SCTG\", \"MODE\", \"SHIPMT_VALUE\", \"SHIPMT_WGHT\", \"SHIPMT_DIST_GC\", \"SHIPMT_DIST_ROUTED\", \"TEMP_CNTL_YN\", \"EXPORT_YN\", \"EXPORT_CNTRY\", \"HAZMAT\", \"WGT_FACTOR\") VALUES (%(SHIPMT_ID)s, %(ORIG_STATE)s, %(ORIG_MA)s, %(ORIG_CFS_AREA)s, %(DEST_STATE)s, %(DEST_MA)s, %(DEST_CFS_AREA)s, %(NAICS)s, %(QUARTER)s, %(SCTG)s, %(MODE)s, %(SHIPMT_VALUE)s, %(SHIPMT_WGHT)s, %(SHIPMT_DIST_GC)s, %(SHIPMT_DIST_ROUTED)s, %(TEMP_CNTL_YN)s, %(EXPORT_YN)s, %(EXPORT_CNTRY)s, %(HAZMAT)s, %(WGT_FACTOR)s)\n"
     ]
    },
    {
     "name": "stdout",
     "output_type": "stream",
     "text": [
      "2015-11-22 16:59:19,767 INFO sqlalchemy.engine.base.Engine ({'EXPORT_YN': 'N', 'ORIG_STATE': 31, 'SHIPMT_DIST_ROUTED': 26, 'EXPORT_CNTRY': 'N', 'WGT_FACTOR': 1088.4, 'SHIPMT_ID': 100001, 'DEST_CFS_AREA': '31-99999', 'HAZMAT': 'N', 'ORIG_MA': 99999, 'SHIPMT_WGHT': 15, 'SHIPMT_VALUE': 24, 'TEMP_CNTL_YN': 'N', 'QUARTER': 3, 'SCTG': '43', 'ORIG_CFS_AREA': '31-99999', 'MODE': 5, 'SHIPMT_DIST_GC': 20, 'NAICS': 4233, 'DEST_STATE': 31, 'DEST_MA': 99999}, {'EXPORT_YN': 'N', 'ORIG_STATE': 53, 'SHIPMT_DIST_ROUTED': 2731, 'EXPORT_CNTRY': 'N', 'WGT_FACTOR': 160.4, 'SHIPMT_ID': 100002, 'DEST_CFS_AREA': '51-545', 'HAZMAT': 'N', 'ORIG_MA': 99999, 'SHIPMT_WGHT': 3, 'SHIPMT_VALUE': 688, 'TEMP_CNTL_YN': 'N', 'QUARTER': 1, 'SCTG': '24', 'ORIG_CFS_AREA': '53-99999', 'MODE': 14, 'SHIPMT_DIST_GC': 2167, 'NAICS': 334, 'DEST_STATE': 51, 'DEST_MA': 545}, {'EXPORT_YN': 'N', 'ORIG_STATE': 1, 'SHIPMT_DIST_ROUTED': 977, 'EXPORT_CNTRY': 'N', 'WGT_FACTOR': 177.0, 'SHIPMT_ID': 100003, 'DEST_CFS_AREA': '39-184', 'HAZMAT': 'N', 'ORIG_MA': 380, 'SHIPMT_WGHT': 10486, 'SHIPMT_VALUE': 30877, 'TEMP_CNTL_YN': 'N', 'QUARTER': 1, 'SCTG': '32', 'ORIG_CFS_AREA': '01-380', 'MODE': 4, 'SHIPMT_DIST_GC': 826, 'NAICS': 331, 'DEST_STATE': 39, 'DEST_MA': 184}, {'EXPORT_YN': 'Y', 'ORIG_STATE': 48, 'SHIPMT_DIST_ROUTED': 2350, 'EXPORT_CNTRY': 'C', 'WGT_FACTOR': 47.4, 'SHIPMT_ID': 100004, 'DEST_CFS_AREA': '50-99999', 'HAZMAT': 'N', 'ORIG_MA': 238, 'SHIPMT_WGHT': 17, 'SHIPMT_VALUE': 251, 'TEMP_CNTL_YN': 'N', 'QUARTER': 4, 'SCTG': '32', 'ORIG_CFS_AREA': '48-238', 'MODE': 14, 'SHIPMT_DIST_GC': 2023, 'NAICS': 332, 'DEST_STATE': 50, 'DEST_MA': 99999}, {'EXPORT_YN': 'N', 'ORIG_STATE': 1, 'SHIPMT_DIST_ROUTED': 8, 'EXPORT_CNTRY': 'N', 'WGT_FACTOR': 1350.2, 'SHIPMT_ID': 100005, 'DEST_CFS_AREA': '01-99999', 'HAZMAT': 'N', 'ORIG_MA': 99999, 'SHIPMT_WGHT': 19437, 'SHIPMT_VALUE': 101, 'TEMP_CNTL_YN': 'N', 'QUARTER': 1, 'SCTG': '12', 'ORIG_CFS_AREA': '01-99999', 'MODE': 5, 'SHIPMT_DIST_GC': 8, 'NAICS': 212, 'DEST_STATE': 1, 'DEST_MA': 99999}, {'EXPORT_YN': 'N', 'ORIG_STATE': 29, 'SHIPMT_DIST_ROUTED': 548, 'EXPORT_CNTRY': 'N', 'WGT_FACTOR': 85.6, 'SHIPMT_ID': 100006, 'DEST_CFS_AREA': '47-400', 'HAZMAT': 'N', 'ORIG_MA': 99999, 'SHIPMT_WGHT': 1249, 'SHIPMT_VALUE': 21082, 'TEMP_CNTL_YN': 'N', 'QUARTER': 1, 'SCTG': '35', 'ORIG_CFS_AREA': '29-99999', 'MODE': 4, 'SHIPMT_DIST_GC': 383, 'NAICS': 335, 'DEST_STATE': 47, 'DEST_MA': 400}, {'EXPORT_YN': 'N', 'ORIG_STATE': 48, 'SHIPMT_DIST_ROUTED': 227, 'EXPORT_CNTRY': 'N', 'WGT_FACTOR': 303.9, 'SHIPMT_ID': 100007, 'DEST_CFS_AREA': '22-99999', 'HAZMAT': 'N', 'ORIG_MA': 206, 'SHIPMT_WGHT': 209, 'SHIPMT_VALUE': 1513, 'TEMP_CNTL_YN': 'N', 'QUARTER': 3, 'SCTG': '32', 'ORIG_CFS_AREA': '48-206', 'MODE': 5, 'SHIPMT_DIST_GC': 214, 'NAICS': 332, 'DEST_STATE': 22, 'DEST_MA': 99999}, {'EXPORT_YN': 'N', 'ORIG_STATE': 13, 'SHIPMT_DIST_ROUTED': 760, 'EXPORT_CNTRY': 'N', 'WGT_FACTOR': 2162.1, 'SHIPMT_ID': 100008, 'DEST_CFS_AREA': '17-176', 'HAZMAT': 'N', 'ORIG_MA': 122, 'SHIPMT_WGHT': 58, 'SHIPMT_VALUE': 251, 'TEMP_CNTL_YN': 'N', 'QUARTER': 3, 'SCTG': '34', 'ORIG_CFS_AREA': '13-122', 'MODE': 14, 'SHIPMT_DIST_GC': 610, 'NAICS': 4541, 'DEST_STATE': 17, 'DEST_MA': 176}  ... displaying 10 of 10000 total bound parameter sets ...  {'EXPORT_YN': 'N', 'ORIG_STATE': 42, 'SHIPMT_DIST_ROUTED': 194, 'EXPORT_CNTRY': 'N', 'WGT_FACTOR': 82.6, 'SHIPMT_ID': 109999, 'DEST_CFS_AREA': '39-184', 'HAZMAT': 'N', 'ORIG_MA': 430, 'SHIPMT_WGHT': 1, 'SHIPMT_VALUE': 84, 'TEMP_CNTL_YN': 'N', 'QUARTER': 2, 'SCTG': '35', 'ORIG_CFS_AREA': '42-430', 'MODE': 14, 'SHIPMT_DIST_GC': 156, 'NAICS': 335, 'DEST_STATE': 39, 'DEST_MA': 184}, {'EXPORT_YN': 'N', 'ORIG_STATE': 4, 'SHIPMT_DIST_ROUTED': 1522, 'EXPORT_CNTRY': 'N', 'WGT_FACTOR': 595.3, 'SHIPMT_ID': 110000, 'DEST_CFS_AREA': '22-406', 'HAZMAT': 'N', 'ORIG_MA': 38060, 'SHIPMT_WGHT': 113, 'SHIPMT_VALUE': 3509, 'TEMP_CNTL_YN': 'N', 'QUARTER': 2, 'SCTG': '36', 'ORIG_CFS_AREA': '04-38060', 'MODE': 14, 'SHIPMT_DIST_GC': 1314, 'NAICS': 336, 'DEST_STATE': 22, 'DEST_MA': 406})\n"
     ]
    },
    {
     "name": "stderr",
     "output_type": "stream",
     "text": [
      "INFO:sqlalchemy.engine.base.Engine:({'EXPORT_YN': 'N', 'ORIG_STATE': 31, 'SHIPMT_DIST_ROUTED': 26, 'EXPORT_CNTRY': 'N', 'WGT_FACTOR': 1088.4, 'SHIPMT_ID': 100001, 'DEST_CFS_AREA': '31-99999', 'HAZMAT': 'N', 'ORIG_MA': 99999, 'SHIPMT_WGHT': 15, 'SHIPMT_VALUE': 24, 'TEMP_CNTL_YN': 'N', 'QUARTER': 3, 'SCTG': '43', 'ORIG_CFS_AREA': '31-99999', 'MODE': 5, 'SHIPMT_DIST_GC': 20, 'NAICS': 4233, 'DEST_STATE': 31, 'DEST_MA': 99999}, {'EXPORT_YN': 'N', 'ORIG_STATE': 53, 'SHIPMT_DIST_ROUTED': 2731, 'EXPORT_CNTRY': 'N', 'WGT_FACTOR': 160.4, 'SHIPMT_ID': 100002, 'DEST_CFS_AREA': '51-545', 'HAZMAT': 'N', 'ORIG_MA': 99999, 'SHIPMT_WGHT': 3, 'SHIPMT_VALUE': 688, 'TEMP_CNTL_YN': 'N', 'QUARTER': 1, 'SCTG': '24', 'ORIG_CFS_AREA': '53-99999', 'MODE': 14, 'SHIPMT_DIST_GC': 2167, 'NAICS': 334, 'DEST_STATE': 51, 'DEST_MA': 545}, {'EXPORT_YN': 'N', 'ORIG_STATE': 1, 'SHIPMT_DIST_ROUTED': 977, 'EXPORT_CNTRY': 'N', 'WGT_FACTOR': 177.0, 'SHIPMT_ID': 100003, 'DEST_CFS_AREA': '39-184', 'HAZMAT': 'N', 'ORIG_MA': 380, 'SHIPMT_WGHT': 10486, 'SHIPMT_VALUE': 30877, 'TEMP_CNTL_YN': 'N', 'QUARTER': 1, 'SCTG': '32', 'ORIG_CFS_AREA': '01-380', 'MODE': 4, 'SHIPMT_DIST_GC': 826, 'NAICS': 331, 'DEST_STATE': 39, 'DEST_MA': 184}, {'EXPORT_YN': 'Y', 'ORIG_STATE': 48, 'SHIPMT_DIST_ROUTED': 2350, 'EXPORT_CNTRY': 'C', 'WGT_FACTOR': 47.4, 'SHIPMT_ID': 100004, 'DEST_CFS_AREA': '50-99999', 'HAZMAT': 'N', 'ORIG_MA': 238, 'SHIPMT_WGHT': 17, 'SHIPMT_VALUE': 251, 'TEMP_CNTL_YN': 'N', 'QUARTER': 4, 'SCTG': '32', 'ORIG_CFS_AREA': '48-238', 'MODE': 14, 'SHIPMT_DIST_GC': 2023, 'NAICS': 332, 'DEST_STATE': 50, 'DEST_MA': 99999}, {'EXPORT_YN': 'N', 'ORIG_STATE': 1, 'SHIPMT_DIST_ROUTED': 8, 'EXPORT_CNTRY': 'N', 'WGT_FACTOR': 1350.2, 'SHIPMT_ID': 100005, 'DEST_CFS_AREA': '01-99999', 'HAZMAT': 'N', 'ORIG_MA': 99999, 'SHIPMT_WGHT': 19437, 'SHIPMT_VALUE': 101, 'TEMP_CNTL_YN': 'N', 'QUARTER': 1, 'SCTG': '12', 'ORIG_CFS_AREA': '01-99999', 'MODE': 5, 'SHIPMT_DIST_GC': 8, 'NAICS': 212, 'DEST_STATE': 1, 'DEST_MA': 99999}, {'EXPORT_YN': 'N', 'ORIG_STATE': 29, 'SHIPMT_DIST_ROUTED': 548, 'EXPORT_CNTRY': 'N', 'WGT_FACTOR': 85.6, 'SHIPMT_ID': 100006, 'DEST_CFS_AREA': '47-400', 'HAZMAT': 'N', 'ORIG_MA': 99999, 'SHIPMT_WGHT': 1249, 'SHIPMT_VALUE': 21082, 'TEMP_CNTL_YN': 'N', 'QUARTER': 1, 'SCTG': '35', 'ORIG_CFS_AREA': '29-99999', 'MODE': 4, 'SHIPMT_DIST_GC': 383, 'NAICS': 335, 'DEST_STATE': 47, 'DEST_MA': 400}, {'EXPORT_YN': 'N', 'ORIG_STATE': 48, 'SHIPMT_DIST_ROUTED': 227, 'EXPORT_CNTRY': 'N', 'WGT_FACTOR': 303.9, 'SHIPMT_ID': 100007, 'DEST_CFS_AREA': '22-99999', 'HAZMAT': 'N', 'ORIG_MA': 206, 'SHIPMT_WGHT': 209, 'SHIPMT_VALUE': 1513, 'TEMP_CNTL_YN': 'N', 'QUARTER': 3, 'SCTG': '32', 'ORIG_CFS_AREA': '48-206', 'MODE': 5, 'SHIPMT_DIST_GC': 214, 'NAICS': 332, 'DEST_STATE': 22, 'DEST_MA': 99999}, {'EXPORT_YN': 'N', 'ORIG_STATE': 13, 'SHIPMT_DIST_ROUTED': 760, 'EXPORT_CNTRY': 'N', 'WGT_FACTOR': 2162.1, 'SHIPMT_ID': 100008, 'DEST_CFS_AREA': '17-176', 'HAZMAT': 'N', 'ORIG_MA': 122, 'SHIPMT_WGHT': 58, 'SHIPMT_VALUE': 251, 'TEMP_CNTL_YN': 'N', 'QUARTER': 3, 'SCTG': '34', 'ORIG_CFS_AREA': '13-122', 'MODE': 14, 'SHIPMT_DIST_GC': 610, 'NAICS': 4541, 'DEST_STATE': 17, 'DEST_MA': 176}  ... displaying 10 of 10000 total bound parameter sets ...  {'EXPORT_YN': 'N', 'ORIG_STATE': 42, 'SHIPMT_DIST_ROUTED': 194, 'EXPORT_CNTRY': 'N', 'WGT_FACTOR': 82.6, 'SHIPMT_ID': 109999, 'DEST_CFS_AREA': '39-184', 'HAZMAT': 'N', 'ORIG_MA': 430, 'SHIPMT_WGHT': 1, 'SHIPMT_VALUE': 84, 'TEMP_CNTL_YN': 'N', 'QUARTER': 2, 'SCTG': '35', 'ORIG_CFS_AREA': '42-430', 'MODE': 14, 'SHIPMT_DIST_GC': 156, 'NAICS': 335, 'DEST_STATE': 39, 'DEST_MA': 184}, {'EXPORT_YN': 'N', 'ORIG_STATE': 4, 'SHIPMT_DIST_ROUTED': 1522, 'EXPORT_CNTRY': 'N', 'WGT_FACTOR': 595.3, 'SHIPMT_ID': 110000, 'DEST_CFS_AREA': '22-406', 'HAZMAT': 'N', 'ORIG_MA': 38060, 'SHIPMT_WGHT': 113, 'SHIPMT_VALUE': 3509, 'TEMP_CNTL_YN': 'N', 'QUARTER': 2, 'SCTG': '36', 'ORIG_CFS_AREA': '04-38060', 'MODE': 14, 'SHIPMT_DIST_GC': 1314, 'NAICS': 336, 'DEST_STATE': 22, 'DEST_MA': 406})\n"
     ]
    },
    {
     "name": "stdout",
     "output_type": "stream",
     "text": [
      "2015-11-22 17:03:29,952 INFO sqlalchemy.engine.base.Engine INSERT INTO transactions (\"SHIPMT_ID\", \"ORIG_STATE\", \"ORIG_MA\", \"ORIG_CFS_AREA\", \"DEST_STATE\", \"DEST_MA\", \"DEST_CFS_AREA\", \"NAICS\", \"QUARTER\", \"SCTG\", \"MODE\", \"SHIPMT_VALUE\", \"SHIPMT_WGHT\", \"SHIPMT_DIST_GC\", \"SHIPMT_DIST_ROUTED\", \"TEMP_CNTL_YN\", \"EXPORT_YN\", \"EXPORT_CNTRY\", \"HAZMAT\", \"WGT_FACTOR\") VALUES (%(SHIPMT_ID)s, %(ORIG_STATE)s, %(ORIG_MA)s, %(ORIG_CFS_AREA)s, %(DEST_STATE)s, %(DEST_MA)s, %(DEST_CFS_AREA)s, %(NAICS)s, %(QUARTER)s, %(SCTG)s, %(MODE)s, %(SHIPMT_VALUE)s, %(SHIPMT_WGHT)s, %(SHIPMT_DIST_GC)s, %(SHIPMT_DIST_ROUTED)s, %(TEMP_CNTL_YN)s, %(EXPORT_YN)s, %(EXPORT_CNTRY)s, %(HAZMAT)s, %(WGT_FACTOR)s)\n"
     ]
    },
    {
     "name": "stderr",
     "output_type": "stream",
     "text": [
      "INFO:sqlalchemy.engine.base.Engine:INSERT INTO transactions (\"SHIPMT_ID\", \"ORIG_STATE\", \"ORIG_MA\", \"ORIG_CFS_AREA\", \"DEST_STATE\", \"DEST_MA\", \"DEST_CFS_AREA\", \"NAICS\", \"QUARTER\", \"SCTG\", \"MODE\", \"SHIPMT_VALUE\", \"SHIPMT_WGHT\", \"SHIPMT_DIST_GC\", \"SHIPMT_DIST_ROUTED\", \"TEMP_CNTL_YN\", \"EXPORT_YN\", \"EXPORT_CNTRY\", \"HAZMAT\", \"WGT_FACTOR\") VALUES (%(SHIPMT_ID)s, %(ORIG_STATE)s, %(ORIG_MA)s, %(ORIG_CFS_AREA)s, %(DEST_STATE)s, %(DEST_MA)s, %(DEST_CFS_AREA)s, %(NAICS)s, %(QUARTER)s, %(SCTG)s, %(MODE)s, %(SHIPMT_VALUE)s, %(SHIPMT_WGHT)s, %(SHIPMT_DIST_GC)s, %(SHIPMT_DIST_ROUTED)s, %(TEMP_CNTL_YN)s, %(EXPORT_YN)s, %(EXPORT_CNTRY)s, %(HAZMAT)s, %(WGT_FACTOR)s)\n"
     ]
    },
    {
     "name": "stdout",
     "output_type": "stream",
     "text": [
      "2015-11-22 17:03:29,953 INFO sqlalchemy.engine.base.Engine ({'EXPORT_YN': 'N', 'ORIG_CFS_AREA': '46-99999', 'SHIPMT_VALUE': 227, 'SHIPMT_DIST_ROUTED': 956, 'EXPORT_CNTRY': 'N', 'WGT_FACTOR': 37.1, 'ORIG_STATE': 46, 'ORIG_MA': 99999, 'HAZMAT': 'N', 'NAICS': 4238, 'SHIPMT_ID': 110001, 'DEST_CFS_AREA': '39-184', 'TEMP_CNTL_YN': 'N', 'QUARTER': 3, 'MODE': 14, 'SHIPMT_WGHT': 1, 'SCTG': '35', 'SHIPMT_DIST_GC': 816, 'DEST_STATE': 39, 'DEST_MA': 184}, {'EXPORT_YN': 'N', 'ORIG_CFS_AREA': '08-99999', 'SHIPMT_VALUE': 32767, 'SHIPMT_DIST_ROUTED': 1117, 'EXPORT_CNTRY': 'N', 'WGT_FACTOR': 910.5, 'ORIG_STATE': 8, 'ORIG_MA': 99999, 'HAZMAT': 'N', 'NAICS': 4234, 'SHIPMT_ID': 110002, 'DEST_CFS_AREA': '06-41740', 'TEMP_CNTL_YN': 'N', 'QUARTER': 1, 'MODE': 4, 'SHIPMT_WGHT': 3, 'SCTG': '35', 'SHIPMT_DIST_GC': 808, 'DEST_STATE': 6, 'DEST_MA': 41740}, {'EXPORT_YN': 'N', 'ORIG_CFS_AREA': '20-556', 'SHIPMT_VALUE': 325, 'SHIPMT_DIST_ROUTED': 161, 'EXPORT_CNTRY': 'N', 'WGT_FACTOR': 847.5, 'ORIG_STATE': 20, 'ORIG_MA': 556, 'HAZMAT': 'N', 'NAICS': 4236, 'SHIPMT_ID': 110003, 'DEST_CFS_AREA': '20-99999', 'TEMP_CNTL_YN': 'N', 'QUARTER': 2, 'MODE': 5, 'SHIPMT_WGHT': 123, 'SCTG': '35', 'SHIPMT_DIST_GC': 150, 'DEST_STATE': 20, 'DEST_MA': 99999}, {'EXPORT_YN': 'N', 'ORIG_CFS_AREA': '36-160', 'SHIPMT_VALUE': 2766, 'SHIPMT_DIST_ROUTED': 384, 'EXPORT_CNTRY': 'N', 'WGT_FACTOR': 17.8, 'ORIG_STATE': 36, 'ORIG_MA': 160, 'HAZMAT': 'N', 'NAICS': 4231, 'SHIPMT_ID': 110004, 'DEST_CFS_AREA': '36-99999', 'TEMP_CNTL_YN': 'N', 'QUARTER': 4, 'MODE': 4, 'SHIPMT_WGHT': 1138, 'SCTG': '24', 'SHIPMT_DIST_GC': 283, 'DEST_STATE': 36, 'DEST_MA': 99999}, {'EXPORT_YN': 'N', 'ORIG_CFS_AREA': '46-99999', 'SHIPMT_VALUE': 1035, 'SHIPMT_DIST_ROUTED': 31, 'EXPORT_CNTRY': 'N', 'WGT_FACTOR': 64.7, 'ORIG_STATE': 46, 'ORIG_MA': 99999, 'HAZMAT': 'N', 'NAICS': 325, 'SHIPMT_ID': 110005, 'DEST_CFS_AREA': '46-99999', 'TEMP_CNTL_YN': 'N', 'QUARTER': 2, 'MODE': 5, 'SHIPMT_WGHT': 39796, 'SCTG': '04', 'SHIPMT_DIST_GC': 22, 'DEST_STATE': 46, 'DEST_MA': 99999}, {'EXPORT_YN': 'N', 'ORIG_CFS_AREA': '24-12580', 'SHIPMT_VALUE': 182, 'SHIPMT_DIST_ROUTED': 2, 'EXPORT_CNTRY': 'N', 'WGT_FACTOR': 2767.8, 'ORIG_STATE': 24, 'ORIG_MA': 12580, 'HAZMAT': 'N', 'NAICS': 4238, 'SHIPMT_ID': 110006, 'DEST_CFS_AREA': '24-12580', 'TEMP_CNTL_YN': 'N', 'QUARTER': 3, 'MODE': 4, 'SHIPMT_WGHT': 64, 'SCTG': '24', 'SHIPMT_DIST_GC': 2, 'DEST_STATE': 24, 'DEST_MA': 12580}, {'EXPORT_YN': 'N', 'ORIG_CFS_AREA': '20-312', 'SHIPMT_VALUE': 455, 'SHIPMT_DIST_ROUTED': 2, 'EXPORT_CNTRY': 'N', 'WGT_FACTOR': 28.1, 'ORIG_STATE': 20, 'ORIG_MA': 312, 'HAZMAT': 'N', 'NAICS': 321, 'SHIPMT_ID': 110007, 'DEST_CFS_AREA': '20-312', 'TEMP_CNTL_YN': 'N', 'QUARTER': 1, 'MODE': 5, 'SHIPMT_WGHT': 272, 'SCTG': '26', 'SHIPMT_DIST_GC': 2, 'DEST_STATE': 20, 'DEST_MA': 312}, {'EXPORT_YN': 'N', 'ORIG_CFS_AREA': '36-408', 'SHIPMT_VALUE': 9152, 'SHIPMT_DIST_ROUTED': 525, 'EXPORT_CNTRY': 'N', 'WGT_FACTOR': 670.9, 'ORIG_STATE': 36, 'ORIG_MA': 408, 'HAZMAT': 'N', 'NAICS': 4243, 'SHIPMT_ID': 110008, 'DEST_CFS_AREA': '39-198', 'TEMP_CNTL_YN': 'N', 'QUARTER': 4, 'MODE': 4, 'SHIPMT_WGHT': 38067, 'SCTG': '30', 'SHIPMT_DIST_GC': 452, 'DEST_STATE': 39, 'DEST_MA': 198}  ... displaying 10 of 10000 total bound parameter sets ...  {'EXPORT_YN': 'N', 'ORIG_CFS_AREA': '51-99999', 'SHIPMT_VALUE': 17158, 'SHIPMT_DIST_ROUTED': 773, 'EXPORT_CNTRY': 'N', 'WGT_FACTOR': 87.5, 'ORIG_STATE': 51, 'ORIG_MA': 99999, 'HAZMAT': 'N', 'NAICS': 321, 'SHIPMT_ID': 119999, 'DEST_CFS_AREA': '29-476', 'TEMP_CNTL_YN': 'N', 'QUARTER': 4, 'MODE': 4, 'SHIPMT_WGHT': 40806, 'SCTG': '26', 'SHIPMT_DIST_GC': 619, 'DEST_STATE': 29, 'DEST_MA': 476}, {'EXPORT_YN': 'N', 'ORIG_CFS_AREA': '53-500', 'SHIPMT_VALUE': 269, 'SHIPMT_DIST_ROUTED': 812, 'EXPORT_CNTRY': 'N', 'WGT_FACTOR': 64.7, 'ORIG_STATE': 53, 'ORIG_MA': 500, 'HAZMAT': 'N', 'NAICS': 314, 'SHIPMT_ID': 120000, 'DEST_CFS_AREA': '02-99999', 'TEMP_CNTL_YN': 'N', 'QUARTER': 2, 'MODE': 14, 'SHIPMT_WGHT': 16, 'SCTG': '33', 'SHIPMT_DIST_GC': 773, 'DEST_STATE': 2, 'DEST_MA': 99999})\n"
     ]
    },
    {
     "name": "stderr",
     "output_type": "stream",
     "text": [
      "INFO:sqlalchemy.engine.base.Engine:({'EXPORT_YN': 'N', 'ORIG_CFS_AREA': '46-99999', 'SHIPMT_VALUE': 227, 'SHIPMT_DIST_ROUTED': 956, 'EXPORT_CNTRY': 'N', 'WGT_FACTOR': 37.1, 'ORIG_STATE': 46, 'ORIG_MA': 99999, 'HAZMAT': 'N', 'NAICS': 4238, 'SHIPMT_ID': 110001, 'DEST_CFS_AREA': '39-184', 'TEMP_CNTL_YN': 'N', 'QUARTER': 3, 'MODE': 14, 'SHIPMT_WGHT': 1, 'SCTG': '35', 'SHIPMT_DIST_GC': 816, 'DEST_STATE': 39, 'DEST_MA': 184}, {'EXPORT_YN': 'N', 'ORIG_CFS_AREA': '08-99999', 'SHIPMT_VALUE': 32767, 'SHIPMT_DIST_ROUTED': 1117, 'EXPORT_CNTRY': 'N', 'WGT_FACTOR': 910.5, 'ORIG_STATE': 8, 'ORIG_MA': 99999, 'HAZMAT': 'N', 'NAICS': 4234, 'SHIPMT_ID': 110002, 'DEST_CFS_AREA': '06-41740', 'TEMP_CNTL_YN': 'N', 'QUARTER': 1, 'MODE': 4, 'SHIPMT_WGHT': 3, 'SCTG': '35', 'SHIPMT_DIST_GC': 808, 'DEST_STATE': 6, 'DEST_MA': 41740}, {'EXPORT_YN': 'N', 'ORIG_CFS_AREA': '20-556', 'SHIPMT_VALUE': 325, 'SHIPMT_DIST_ROUTED': 161, 'EXPORT_CNTRY': 'N', 'WGT_FACTOR': 847.5, 'ORIG_STATE': 20, 'ORIG_MA': 556, 'HAZMAT': 'N', 'NAICS': 4236, 'SHIPMT_ID': 110003, 'DEST_CFS_AREA': '20-99999', 'TEMP_CNTL_YN': 'N', 'QUARTER': 2, 'MODE': 5, 'SHIPMT_WGHT': 123, 'SCTG': '35', 'SHIPMT_DIST_GC': 150, 'DEST_STATE': 20, 'DEST_MA': 99999}, {'EXPORT_YN': 'N', 'ORIG_CFS_AREA': '36-160', 'SHIPMT_VALUE': 2766, 'SHIPMT_DIST_ROUTED': 384, 'EXPORT_CNTRY': 'N', 'WGT_FACTOR': 17.8, 'ORIG_STATE': 36, 'ORIG_MA': 160, 'HAZMAT': 'N', 'NAICS': 4231, 'SHIPMT_ID': 110004, 'DEST_CFS_AREA': '36-99999', 'TEMP_CNTL_YN': 'N', 'QUARTER': 4, 'MODE': 4, 'SHIPMT_WGHT': 1138, 'SCTG': '24', 'SHIPMT_DIST_GC': 283, 'DEST_STATE': 36, 'DEST_MA': 99999}, {'EXPORT_YN': 'N', 'ORIG_CFS_AREA': '46-99999', 'SHIPMT_VALUE': 1035, 'SHIPMT_DIST_ROUTED': 31, 'EXPORT_CNTRY': 'N', 'WGT_FACTOR': 64.7, 'ORIG_STATE': 46, 'ORIG_MA': 99999, 'HAZMAT': 'N', 'NAICS': 325, 'SHIPMT_ID': 110005, 'DEST_CFS_AREA': '46-99999', 'TEMP_CNTL_YN': 'N', 'QUARTER': 2, 'MODE': 5, 'SHIPMT_WGHT': 39796, 'SCTG': '04', 'SHIPMT_DIST_GC': 22, 'DEST_STATE': 46, 'DEST_MA': 99999}, {'EXPORT_YN': 'N', 'ORIG_CFS_AREA': '24-12580', 'SHIPMT_VALUE': 182, 'SHIPMT_DIST_ROUTED': 2, 'EXPORT_CNTRY': 'N', 'WGT_FACTOR': 2767.8, 'ORIG_STATE': 24, 'ORIG_MA': 12580, 'HAZMAT': 'N', 'NAICS': 4238, 'SHIPMT_ID': 110006, 'DEST_CFS_AREA': '24-12580', 'TEMP_CNTL_YN': 'N', 'QUARTER': 3, 'MODE': 4, 'SHIPMT_WGHT': 64, 'SCTG': '24', 'SHIPMT_DIST_GC': 2, 'DEST_STATE': 24, 'DEST_MA': 12580}, {'EXPORT_YN': 'N', 'ORIG_CFS_AREA': '20-312', 'SHIPMT_VALUE': 455, 'SHIPMT_DIST_ROUTED': 2, 'EXPORT_CNTRY': 'N', 'WGT_FACTOR': 28.1, 'ORIG_STATE': 20, 'ORIG_MA': 312, 'HAZMAT': 'N', 'NAICS': 321, 'SHIPMT_ID': 110007, 'DEST_CFS_AREA': '20-312', 'TEMP_CNTL_YN': 'N', 'QUARTER': 1, 'MODE': 5, 'SHIPMT_WGHT': 272, 'SCTG': '26', 'SHIPMT_DIST_GC': 2, 'DEST_STATE': 20, 'DEST_MA': 312}, {'EXPORT_YN': 'N', 'ORIG_CFS_AREA': '36-408', 'SHIPMT_VALUE': 9152, 'SHIPMT_DIST_ROUTED': 525, 'EXPORT_CNTRY': 'N', 'WGT_FACTOR': 670.9, 'ORIG_STATE': 36, 'ORIG_MA': 408, 'HAZMAT': 'N', 'NAICS': 4243, 'SHIPMT_ID': 110008, 'DEST_CFS_AREA': '39-198', 'TEMP_CNTL_YN': 'N', 'QUARTER': 4, 'MODE': 4, 'SHIPMT_WGHT': 38067, 'SCTG': '30', 'SHIPMT_DIST_GC': 452, 'DEST_STATE': 39, 'DEST_MA': 198}  ... displaying 10 of 10000 total bound parameter sets ...  {'EXPORT_YN': 'N', 'ORIG_CFS_AREA': '51-99999', 'SHIPMT_VALUE': 17158, 'SHIPMT_DIST_ROUTED': 773, 'EXPORT_CNTRY': 'N', 'WGT_FACTOR': 87.5, 'ORIG_STATE': 51, 'ORIG_MA': 99999, 'HAZMAT': 'N', 'NAICS': 321, 'SHIPMT_ID': 119999, 'DEST_CFS_AREA': '29-476', 'TEMP_CNTL_YN': 'N', 'QUARTER': 4, 'MODE': 4, 'SHIPMT_WGHT': 40806, 'SCTG': '26', 'SHIPMT_DIST_GC': 619, 'DEST_STATE': 29, 'DEST_MA': 476}, {'EXPORT_YN': 'N', 'ORIG_CFS_AREA': '53-500', 'SHIPMT_VALUE': 269, 'SHIPMT_DIST_ROUTED': 812, 'EXPORT_CNTRY': 'N', 'WGT_FACTOR': 64.7, 'ORIG_STATE': 53, 'ORIG_MA': 500, 'HAZMAT': 'N', 'NAICS': 314, 'SHIPMT_ID': 120000, 'DEST_CFS_AREA': '02-99999', 'TEMP_CNTL_YN': 'N', 'QUARTER': 2, 'MODE': 14, 'SHIPMT_WGHT': 16, 'SCTG': '33', 'SHIPMT_DIST_GC': 773, 'DEST_STATE': 2, 'DEST_MA': 99999})\n"
     ]
    },
    {
     "name": "stdout",
     "output_type": "stream",
     "text": [
      "2015-11-22 17:07:44,012 INFO sqlalchemy.engine.base.Engine INSERT INTO transactions (\"SHIPMT_ID\", \"ORIG_STATE\", \"ORIG_MA\", \"ORIG_CFS_AREA\", \"DEST_STATE\", \"DEST_MA\", \"DEST_CFS_AREA\", \"NAICS\", \"QUARTER\", \"SCTG\", \"MODE\", \"SHIPMT_VALUE\", \"SHIPMT_WGHT\", \"SHIPMT_DIST_GC\", \"SHIPMT_DIST_ROUTED\", \"TEMP_CNTL_YN\", \"EXPORT_YN\", \"EXPORT_CNTRY\", \"HAZMAT\", \"WGT_FACTOR\") VALUES (%(SHIPMT_ID)s, %(ORIG_STATE)s, %(ORIG_MA)s, %(ORIG_CFS_AREA)s, %(DEST_STATE)s, %(DEST_MA)s, %(DEST_CFS_AREA)s, %(NAICS)s, %(QUARTER)s, %(SCTG)s, %(MODE)s, %(SHIPMT_VALUE)s, %(SHIPMT_WGHT)s, %(SHIPMT_DIST_GC)s, %(SHIPMT_DIST_ROUTED)s, %(TEMP_CNTL_YN)s, %(EXPORT_YN)s, %(EXPORT_CNTRY)s, %(HAZMAT)s, %(WGT_FACTOR)s)\n"
     ]
    },
    {
     "name": "stderr",
     "output_type": "stream",
     "text": [
      "INFO:sqlalchemy.engine.base.Engine:INSERT INTO transactions (\"SHIPMT_ID\", \"ORIG_STATE\", \"ORIG_MA\", \"ORIG_CFS_AREA\", \"DEST_STATE\", \"DEST_MA\", \"DEST_CFS_AREA\", \"NAICS\", \"QUARTER\", \"SCTG\", \"MODE\", \"SHIPMT_VALUE\", \"SHIPMT_WGHT\", \"SHIPMT_DIST_GC\", \"SHIPMT_DIST_ROUTED\", \"TEMP_CNTL_YN\", \"EXPORT_YN\", \"EXPORT_CNTRY\", \"HAZMAT\", \"WGT_FACTOR\") VALUES (%(SHIPMT_ID)s, %(ORIG_STATE)s, %(ORIG_MA)s, %(ORIG_CFS_AREA)s, %(DEST_STATE)s, %(DEST_MA)s, %(DEST_CFS_AREA)s, %(NAICS)s, %(QUARTER)s, %(SCTG)s, %(MODE)s, %(SHIPMT_VALUE)s, %(SHIPMT_WGHT)s, %(SHIPMT_DIST_GC)s, %(SHIPMT_DIST_ROUTED)s, %(TEMP_CNTL_YN)s, %(EXPORT_YN)s, %(EXPORT_CNTRY)s, %(HAZMAT)s, %(WGT_FACTOR)s)\n"
     ]
    },
    {
     "name": "stdout",
     "output_type": "stream",
     "text": [
      "2015-11-22 17:07:44,013 INFO sqlalchemy.engine.base.Engine ({'SHIPMT_DIST_ROUTED': 469, 'ORIG_CFS_AREA': '42-430', 'EXPORT_YN': 'N', 'EXPORT_CNTRY': 'N', 'SHIPMT_ID': 120001, 'SCTG': '34', 'ORIG_MA': 430, 'HAZMAT': 'N', 'NAICS': 311, 'SHIPMT_WGHT': 19, 'SHIPMT_VALUE': 365, 'TEMP_CNTL_YN': 'N', 'QUARTER': 4, 'DEST_CFS_AREA': '17-176', 'MODE': 4, 'WGT_FACTOR': 142.9, 'SHIPMT_DIST_GC': 412, 'ORIG_STATE': 42, 'DEST_STATE': 17, 'DEST_MA': 176}, {'SHIPMT_DIST_ROUTED': 40, 'ORIG_CFS_AREA': '09-408', 'EXPORT_YN': 'N', 'EXPORT_CNTRY': 'N', 'SHIPMT_ID': 120002, 'SCTG': '43', 'ORIG_MA': 408, 'HAZMAT': 'N', 'NAICS': 4244, 'SHIPMT_WGHT': 443, 'SHIPMT_VALUE': 523, 'TEMP_CNTL_YN': 'Y', 'QUARTER': 4, 'DEST_CFS_AREA': '09-99999', 'MODE': 5, 'WGT_FACTOR': 7357.6, 'SHIPMT_DIST_GC': 34, 'ORIG_STATE': 9, 'DEST_STATE': 9, 'DEST_MA': 99999}, {'SHIPMT_DIST_ROUTED': 1126, 'ORIG_CFS_AREA': '20-312', 'EXPORT_YN': 'N', 'EXPORT_CNTRY': 'N', 'SHIPMT_ID': 120003, 'SCTG': '40', 'ORIG_MA': 312, 'HAZMAT': 'N', 'NAICS': 4239, 'SHIPMT_WGHT': 8, 'SHIPMT_VALUE': 89, 'TEMP_CNTL_YN': 'N', 'QUARTER': 4, 'DEST_CFS_AREA': '49-482', 'MODE': 14, 'WGT_FACTOR': 7135.4, 'SHIPMT_DIST_GC': 919, 'ORIG_STATE': 20, 'DEST_STATE': 49, 'DEST_MA': 482}, {'SHIPMT_DIST_ROUTED': 653, 'ORIG_CFS_AREA': '39-184', 'EXPORT_YN': 'N', 'EXPORT_CNTRY': 'N', 'SHIPMT_ID': 120004, 'SCTG': '31', 'ORIG_MA': 184, 'HAZMAT': 'N', 'NAICS': 4232, 'SHIPMT_WGHT': 17, 'SHIPMT_VALUE': 21, 'TEMP_CNTL_YN': 'N', 'QUARTER': 1, 'DEST_CFS_AREA': '19-99999', 'MODE': 14, 'WGT_FACTOR': 703.2, 'SHIPMT_DIST_GC': 611, 'ORIG_STATE': 39, 'DEST_STATE': 19, 'DEST_MA': 99999}, {'SHIPMT_DIST_ROUTED': 1523, 'ORIG_CFS_AREA': '34-408', 'EXPORT_YN': 'N', 'EXPORT_CNTRY': 'N', 'SHIPMT_ID': 120005, 'SCTG': '30', 'ORIG_MA': 408, 'HAZMAT': 'N', 'NAICS': 4931, 'SHIPMT_WGHT': 2, 'SHIPMT_VALUE': 60, 'TEMP_CNTL_YN': 'N', 'QUARTER': 4, 'DEST_CFS_AREA': '48-99999', 'MODE': 4, 'WGT_FACTOR': 48627.7, 'SHIPMT_DIST_GC': 1319, 'ORIG_STATE': 34, 'DEST_STATE': 48, 'DEST_MA': 99999}, {'SHIPMT_DIST_ROUTED': 406, 'ORIG_CFS_AREA': '36-99999', 'EXPORT_YN': 'N', 'EXPORT_CNTRY': 'N', 'SHIPMT_ID': 120006, 'SCTG': '13', 'ORIG_MA': 99999, 'HAZMAT': 'N', 'NAICS': 325, 'SHIPMT_WGHT': 48458, 'SHIPMT_VALUE': 3368, 'TEMP_CNTL_YN': 'N', 'QUARTER': 2, 'DEST_CFS_AREA': '39-99999', 'MODE': 4, 'WGT_FACTOR': 210.4, 'SHIPMT_DIST_GC': 341, 'ORIG_STATE': 36, 'DEST_STATE': 39, 'DEST_MA': 99999}, {'SHIPMT_DIST_ROUTED': 27, 'ORIG_CFS_AREA': '06-348', 'EXPORT_YN': 'N', 'EXPORT_CNTRY': 'N', 'SHIPMT_ID': 120007, 'SCTG': '26', 'ORIG_MA': 348, 'HAZMAT': 'N', 'NAICS': 4233, 'SHIPMT_WGHT': 1874, 'SHIPMT_VALUE': 8387, 'TEMP_CNTL_YN': 'N', 'QUARTER': 1, 'DEST_CFS_AREA': '06-348', 'MODE': 5, 'WGT_FACTOR': 278.0, 'SHIPMT_DIST_GC': 21, 'ORIG_STATE': 6, 'DEST_STATE': 6, 'DEST_MA': 348}, {'SHIPMT_DIST_ROUTED': 167, 'ORIG_CFS_AREA': '01-142', 'EXPORT_YN': 'N', 'EXPORT_CNTRY': 'N', 'SHIPMT_ID': 120008, 'SCTG': '33', 'ORIG_MA': 142, 'HAZMAT': 'N', 'NAICS': 331, 'SHIPMT_WGHT': 51642, 'SHIPMT_VALUE': 24530, 'TEMP_CNTL_YN': 'N', 'QUARTER': 4, 'DEST_CFS_AREA': '13-122', 'MODE': 4, 'WGT_FACTOR': 93.1, 'SHIPMT_DIST_GC': 152, 'ORIG_STATE': 1, 'DEST_STATE': 13, 'DEST_MA': 122}  ... displaying 10 of 10000 total bound parameter sets ...  {'SHIPMT_DIST_ROUTED': 497, 'ORIG_CFS_AREA': '47-99999', 'EXPORT_YN': 'Y', 'EXPORT_CNTRY': 'O', 'SHIPMT_ID': 129999, 'SCTG': '08', 'ORIG_MA': 99999, 'HAZMAT': 'N', 'NAICS': 312, 'SHIPMT_WGHT': 58675, 'SHIPMT_VALUE': 145448, 'TEMP_CNTL_YN': 'N', 'QUARTER': 4, 'DEST_CFS_AREA': '01-380', 'MODE': 15, 'WGT_FACTOR': 329.9, 'SHIPMT_DIST_GC': 330, 'ORIG_STATE': 47, 'DEST_STATE': 1, 'DEST_MA': 380}, {'SHIPMT_DIST_ROUTED': 61, 'ORIG_CFS_AREA': '42-99999', 'EXPORT_YN': 'N', 'EXPORT_CNTRY': 'N', 'SHIPMT_ID': 130000, 'SCTG': '39', 'ORIG_MA': 99999, 'HAZMAT': 'N', 'NAICS': 321, 'SHIPMT_WGHT': 655, 'SHIPMT_VALUE': 1802, 'TEMP_CNTL_YN': 'N', 'QUARTER': 4, 'DEST_CFS_AREA': '34-428', 'MODE': 5, 'WGT_FACTOR': 111.3, 'SHIPMT_DIST_GC': 50, 'ORIG_STATE': 42, 'DEST_STATE': 34, 'DEST_MA': 428})\n"
     ]
    },
    {
     "name": "stderr",
     "output_type": "stream",
     "text": [
      "INFO:sqlalchemy.engine.base.Engine:({'SHIPMT_DIST_ROUTED': 469, 'ORIG_CFS_AREA': '42-430', 'EXPORT_YN': 'N', 'EXPORT_CNTRY': 'N', 'SHIPMT_ID': 120001, 'SCTG': '34', 'ORIG_MA': 430, 'HAZMAT': 'N', 'NAICS': 311, 'SHIPMT_WGHT': 19, 'SHIPMT_VALUE': 365, 'TEMP_CNTL_YN': 'N', 'QUARTER': 4, 'DEST_CFS_AREA': '17-176', 'MODE': 4, 'WGT_FACTOR': 142.9, 'SHIPMT_DIST_GC': 412, 'ORIG_STATE': 42, 'DEST_STATE': 17, 'DEST_MA': 176}, {'SHIPMT_DIST_ROUTED': 40, 'ORIG_CFS_AREA': '09-408', 'EXPORT_YN': 'N', 'EXPORT_CNTRY': 'N', 'SHIPMT_ID': 120002, 'SCTG': '43', 'ORIG_MA': 408, 'HAZMAT': 'N', 'NAICS': 4244, 'SHIPMT_WGHT': 443, 'SHIPMT_VALUE': 523, 'TEMP_CNTL_YN': 'Y', 'QUARTER': 4, 'DEST_CFS_AREA': '09-99999', 'MODE': 5, 'WGT_FACTOR': 7357.6, 'SHIPMT_DIST_GC': 34, 'ORIG_STATE': 9, 'DEST_STATE': 9, 'DEST_MA': 99999}, {'SHIPMT_DIST_ROUTED': 1126, 'ORIG_CFS_AREA': '20-312', 'EXPORT_YN': 'N', 'EXPORT_CNTRY': 'N', 'SHIPMT_ID': 120003, 'SCTG': '40', 'ORIG_MA': 312, 'HAZMAT': 'N', 'NAICS': 4239, 'SHIPMT_WGHT': 8, 'SHIPMT_VALUE': 89, 'TEMP_CNTL_YN': 'N', 'QUARTER': 4, 'DEST_CFS_AREA': '49-482', 'MODE': 14, 'WGT_FACTOR': 7135.4, 'SHIPMT_DIST_GC': 919, 'ORIG_STATE': 20, 'DEST_STATE': 49, 'DEST_MA': 482}, {'SHIPMT_DIST_ROUTED': 653, 'ORIG_CFS_AREA': '39-184', 'EXPORT_YN': 'N', 'EXPORT_CNTRY': 'N', 'SHIPMT_ID': 120004, 'SCTG': '31', 'ORIG_MA': 184, 'HAZMAT': 'N', 'NAICS': 4232, 'SHIPMT_WGHT': 17, 'SHIPMT_VALUE': 21, 'TEMP_CNTL_YN': 'N', 'QUARTER': 1, 'DEST_CFS_AREA': '19-99999', 'MODE': 14, 'WGT_FACTOR': 703.2, 'SHIPMT_DIST_GC': 611, 'ORIG_STATE': 39, 'DEST_STATE': 19, 'DEST_MA': 99999}, {'SHIPMT_DIST_ROUTED': 1523, 'ORIG_CFS_AREA': '34-408', 'EXPORT_YN': 'N', 'EXPORT_CNTRY': 'N', 'SHIPMT_ID': 120005, 'SCTG': '30', 'ORIG_MA': 408, 'HAZMAT': 'N', 'NAICS': 4931, 'SHIPMT_WGHT': 2, 'SHIPMT_VALUE': 60, 'TEMP_CNTL_YN': 'N', 'QUARTER': 4, 'DEST_CFS_AREA': '48-99999', 'MODE': 4, 'WGT_FACTOR': 48627.7, 'SHIPMT_DIST_GC': 1319, 'ORIG_STATE': 34, 'DEST_STATE': 48, 'DEST_MA': 99999}, {'SHIPMT_DIST_ROUTED': 406, 'ORIG_CFS_AREA': '36-99999', 'EXPORT_YN': 'N', 'EXPORT_CNTRY': 'N', 'SHIPMT_ID': 120006, 'SCTG': '13', 'ORIG_MA': 99999, 'HAZMAT': 'N', 'NAICS': 325, 'SHIPMT_WGHT': 48458, 'SHIPMT_VALUE': 3368, 'TEMP_CNTL_YN': 'N', 'QUARTER': 2, 'DEST_CFS_AREA': '39-99999', 'MODE': 4, 'WGT_FACTOR': 210.4, 'SHIPMT_DIST_GC': 341, 'ORIG_STATE': 36, 'DEST_STATE': 39, 'DEST_MA': 99999}, {'SHIPMT_DIST_ROUTED': 27, 'ORIG_CFS_AREA': '06-348', 'EXPORT_YN': 'N', 'EXPORT_CNTRY': 'N', 'SHIPMT_ID': 120007, 'SCTG': '26', 'ORIG_MA': 348, 'HAZMAT': 'N', 'NAICS': 4233, 'SHIPMT_WGHT': 1874, 'SHIPMT_VALUE': 8387, 'TEMP_CNTL_YN': 'N', 'QUARTER': 1, 'DEST_CFS_AREA': '06-348', 'MODE': 5, 'WGT_FACTOR': 278.0, 'SHIPMT_DIST_GC': 21, 'ORIG_STATE': 6, 'DEST_STATE': 6, 'DEST_MA': 348}, {'SHIPMT_DIST_ROUTED': 167, 'ORIG_CFS_AREA': '01-142', 'EXPORT_YN': 'N', 'EXPORT_CNTRY': 'N', 'SHIPMT_ID': 120008, 'SCTG': '33', 'ORIG_MA': 142, 'HAZMAT': 'N', 'NAICS': 331, 'SHIPMT_WGHT': 51642, 'SHIPMT_VALUE': 24530, 'TEMP_CNTL_YN': 'N', 'QUARTER': 4, 'DEST_CFS_AREA': '13-122', 'MODE': 4, 'WGT_FACTOR': 93.1, 'SHIPMT_DIST_GC': 152, 'ORIG_STATE': 1, 'DEST_STATE': 13, 'DEST_MA': 122}  ... displaying 10 of 10000 total bound parameter sets ...  {'SHIPMT_DIST_ROUTED': 497, 'ORIG_CFS_AREA': '47-99999', 'EXPORT_YN': 'Y', 'EXPORT_CNTRY': 'O', 'SHIPMT_ID': 129999, 'SCTG': '08', 'ORIG_MA': 99999, 'HAZMAT': 'N', 'NAICS': 312, 'SHIPMT_WGHT': 58675, 'SHIPMT_VALUE': 145448, 'TEMP_CNTL_YN': 'N', 'QUARTER': 4, 'DEST_CFS_AREA': '01-380', 'MODE': 15, 'WGT_FACTOR': 329.9, 'SHIPMT_DIST_GC': 330, 'ORIG_STATE': 47, 'DEST_STATE': 1, 'DEST_MA': 380}, {'SHIPMT_DIST_ROUTED': 61, 'ORIG_CFS_AREA': '42-99999', 'EXPORT_YN': 'N', 'EXPORT_CNTRY': 'N', 'SHIPMT_ID': 130000, 'SCTG': '39', 'ORIG_MA': 99999, 'HAZMAT': 'N', 'NAICS': 321, 'SHIPMT_WGHT': 655, 'SHIPMT_VALUE': 1802, 'TEMP_CNTL_YN': 'N', 'QUARTER': 4, 'DEST_CFS_AREA': '34-428', 'MODE': 5, 'WGT_FACTOR': 111.3, 'SHIPMT_DIST_GC': 50, 'ORIG_STATE': 42, 'DEST_STATE': 34, 'DEST_MA': 428})\n"
     ]
    },
    {
     "name": "stdout",
     "output_type": "stream",
     "text": [
      "2015-11-22 17:11:51,140 INFO sqlalchemy.engine.base.Engine INSERT INTO transactions (\"SHIPMT_ID\", \"ORIG_STATE\", \"ORIG_MA\", \"ORIG_CFS_AREA\", \"DEST_STATE\", \"DEST_MA\", \"DEST_CFS_AREA\", \"NAICS\", \"QUARTER\", \"SCTG\", \"MODE\", \"SHIPMT_VALUE\", \"SHIPMT_WGHT\", \"SHIPMT_DIST_GC\", \"SHIPMT_DIST_ROUTED\", \"TEMP_CNTL_YN\", \"EXPORT_YN\", \"EXPORT_CNTRY\", \"HAZMAT\", \"WGT_FACTOR\") VALUES (%(SHIPMT_ID)s, %(ORIG_STATE)s, %(ORIG_MA)s, %(ORIG_CFS_AREA)s, %(DEST_STATE)s, %(DEST_MA)s, %(DEST_CFS_AREA)s, %(NAICS)s, %(QUARTER)s, %(SCTG)s, %(MODE)s, %(SHIPMT_VALUE)s, %(SHIPMT_WGHT)s, %(SHIPMT_DIST_GC)s, %(SHIPMT_DIST_ROUTED)s, %(TEMP_CNTL_YN)s, %(EXPORT_YN)s, %(EXPORT_CNTRY)s, %(HAZMAT)s, %(WGT_FACTOR)s)\n"
     ]
    },
    {
     "name": "stderr",
     "output_type": "stream",
     "text": [
      "INFO:sqlalchemy.engine.base.Engine:INSERT INTO transactions (\"SHIPMT_ID\", \"ORIG_STATE\", \"ORIG_MA\", \"ORIG_CFS_AREA\", \"DEST_STATE\", \"DEST_MA\", \"DEST_CFS_AREA\", \"NAICS\", \"QUARTER\", \"SCTG\", \"MODE\", \"SHIPMT_VALUE\", \"SHIPMT_WGHT\", \"SHIPMT_DIST_GC\", \"SHIPMT_DIST_ROUTED\", \"TEMP_CNTL_YN\", \"EXPORT_YN\", \"EXPORT_CNTRY\", \"HAZMAT\", \"WGT_FACTOR\") VALUES (%(SHIPMT_ID)s, %(ORIG_STATE)s, %(ORIG_MA)s, %(ORIG_CFS_AREA)s, %(DEST_STATE)s, %(DEST_MA)s, %(DEST_CFS_AREA)s, %(NAICS)s, %(QUARTER)s, %(SCTG)s, %(MODE)s, %(SHIPMT_VALUE)s, %(SHIPMT_WGHT)s, %(SHIPMT_DIST_GC)s, %(SHIPMT_DIST_ROUTED)s, %(TEMP_CNTL_YN)s, %(EXPORT_YN)s, %(EXPORT_CNTRY)s, %(HAZMAT)s, %(WGT_FACTOR)s)\n"
     ]
    },
    {
     "name": "stdout",
     "output_type": "stream",
     "text": [
      "2015-11-22 17:11:51,141 INFO sqlalchemy.engine.base.Engine ({'DEST_STATE': 21, 'SHIPMT_DIST_ROUTED': 911, 'SHIPMT_ID': 130001, 'EXPORT_YN': 'N', 'EXPORT_CNTRY': 'N', 'WGT_FACTOR': 56.5, 'ORIG_STATE': 27, 'ORIG_MA': 378, 'HAZMAT': 'N', 'SHIPMT_VALUE': 381, 'TEMP_CNTL_YN': 'N', 'QUARTER': 3, 'DEST_CFS_AREA': '21-99999', 'SCTG': '10', 'ORIG_CFS_AREA': '27-378', 'SHIPMT_WGHT': 225, 'SHIPMT_DIST_GC': 770, 'NAICS': 327, 'MODE': 4, 'DEST_MA': 99999}, {'DEST_STATE': 30, 'SHIPMT_DIST_ROUTED': 2348, 'SHIPMT_ID': 130002, 'EXPORT_YN': 'Y', 'EXPORT_CNTRY': 'C', 'WGT_FACTOR': 2185.7, 'ORIG_STATE': 37, 'ORIG_MA': 172, 'HAZMAT': 'N', 'SHIPMT_VALUE': 29532, 'TEMP_CNTL_YN': 'N', 'QUARTER': 3, 'DEST_CFS_AREA': '30-99999', 'SCTG': '38', 'ORIG_CFS_AREA': '37-172', 'SHIPMT_WGHT': 486, 'SHIPMT_DIST_GC': 1922, 'NAICS': 339, 'MODE': 4, 'DEST_MA': 99999}, {'DEST_STATE': 4, 'SHIPMT_DIST_ROUTED': 42, 'SHIPMT_ID': 130003, 'EXPORT_YN': 'N', 'EXPORT_CNTRY': 'N', 'WGT_FACTOR': 237.5, 'ORIG_STATE': 4, 'ORIG_MA': 99999, 'HAZMAT': 'N', 'SHIPMT_VALUE': 1058, 'TEMP_CNTL_YN': 'N', 'QUARTER': 4, 'DEST_CFS_AREA': '04-99999', 'SCTG': '31', 'ORIG_CFS_AREA': '04-99999', 'SHIPMT_WGHT': 41479, 'SHIPMT_DIST_GC': 42, 'NAICS': 324, 'MODE': 5, 'DEST_MA': 99999}, {'DEST_STATE': 42, 'SHIPMT_DIST_ROUTED': 43, 'SHIPMT_ID': 130004, 'EXPORT_YN': 'N', 'EXPORT_CNTRY': 'N', 'WGT_FACTOR': 373.2, 'ORIG_STATE': 42, 'ORIG_MA': 428, 'HAZMAT': 'N', 'SHIPMT_VALUE': 20, 'TEMP_CNTL_YN': 'N', 'QUARTER': 3, 'DEST_CFS_AREA': '42-428', 'SCTG': '36', 'ORIG_CFS_AREA': '42-428', 'SHIPMT_WGHT': 3, 'SHIPMT_DIST_GC': 34, 'NAICS': 4238, 'MODE': 5, 'DEST_MA': 428}, {'DEST_STATE': 42, 'SHIPMT_DIST_ROUTED': 44, 'SHIPMT_ID': 130005, 'EXPORT_YN': 'N', 'EXPORT_CNTRY': 'N', 'WGT_FACTOR': 736.6, 'ORIG_STATE': 34, 'ORIG_MA': 428, 'HAZMAT': 'N', 'SHIPMT_VALUE': 5996, 'TEMP_CNTL_YN': 'N', 'QUARTER': 1, 'DEST_CFS_AREA': '42-428', 'SCTG': '33', 'ORIG_CFS_AREA': '34-428', 'SHIPMT_WGHT': 1363, 'SHIPMT_DIST_GC': 37, 'NAICS': 4246, 'MODE': 5, 'DEST_MA': 428}, {'DEST_STATE': 8, 'SHIPMT_DIST_ROUTED': 3, 'SHIPMT_ID': 130006, 'EXPORT_YN': 'N', 'EXPORT_CNTRY': 'N', 'WGT_FACTOR': 2037.2, 'ORIG_STATE': 8, 'ORIG_MA': 216, 'HAZMAT': 'N', 'SHIPMT_VALUE': 28, 'TEMP_CNTL_YN': 'N', 'QUARTER': 3, 'DEST_CFS_AREA': '08-216', 'SCTG': '34', 'ORIG_CFS_AREA': '08-216', 'SHIPMT_WGHT': 3, 'SHIPMT_DIST_GC': 3, 'NAICS': 332, 'MODE': 5, 'DEST_MA': 216}, {'DEST_STATE': 12, 'SHIPMT_DIST_ROUTED': 863, 'SHIPMT_ID': 130007, 'EXPORT_YN': 'Y', 'EXPORT_CNTRY': 'O', 'WGT_FACTOR': 176.9, 'ORIG_STATE': 21, 'ORIG_MA': 350, 'HAZMAT': 'N', 'SHIPMT_VALUE': 77123, 'TEMP_CNTL_YN': 'N', 'QUARTER': 1, 'DEST_CFS_AREA': '12-45300', 'SCTG': '08', 'ORIG_CFS_AREA': '21-350', 'SHIPMT_WGHT': 40204, 'SHIPMT_DIST_GC': 709, 'NAICS': 312, 'MODE': 4, 'DEST_MA': 45300}, {'DEST_STATE': 36, 'SHIPMT_DIST_ROUTED': 639, 'SHIPMT_ID': 130008, 'EXPORT_YN': 'Y', 'EXPORT_CNTRY': 'C', 'WGT_FACTOR': 669.3, 'ORIG_STATE': 36, 'ORIG_MA': 99999, 'HAZMAT': 'N', 'SHIPMT_VALUE': 4120, 'TEMP_CNTL_YN': 'N', 'QUARTER': 2, 'DEST_CFS_AREA': '36-408', 'SCTG': '34', 'ORIG_CFS_AREA': '36-99999', 'SHIPMT_WGHT': 1, 'SHIPMT_DIST_GC': 208, 'NAICS': 333, 'MODE': 11, 'DEST_MA': 408}  ... displaying 10 of 10000 total bound parameter sets ...  {'DEST_STATE': 48, 'SHIPMT_DIST_ROUTED': 39, 'SHIPMT_ID': 139999, 'EXPORT_YN': 'N', 'EXPORT_CNTRY': 'N', 'WGT_FACTOR': 29.9, 'ORIG_STATE': 48, 'ORIG_MA': 206, 'HAZMAT': 'N', 'SHIPMT_VALUE': 5154, 'TEMP_CNTL_YN': 'N', 'QUARTER': 4, 'DEST_CFS_AREA': '48-206', 'SCTG': '40', 'ORIG_CFS_AREA': '48-206', 'SHIPMT_WGHT': 2436, 'SHIPMT_DIST_GC': 21, 'NAICS': 314, 'MODE': 5, 'DEST_MA': 206}, {'DEST_STATE': 42, 'SHIPMT_DIST_ROUTED': 237, 'SHIPMT_ID': 140000, 'EXPORT_YN': 'N', 'EXPORT_CNTRY': 'N', 'WGT_FACTOR': 1440.4, 'ORIG_STATE': 25, 'ORIG_MA': 99999, 'HAZMAT': 'N', 'SHIPMT_VALUE': 1499, 'TEMP_CNTL_YN': 'N', 'QUARTER': 3, 'DEST_CFS_AREA': '42-408', 'SCTG': '24', 'ORIG_CFS_AREA': '25-99999', 'SHIPMT_WGHT': 8159, 'SHIPMT_DIST_GC': 182, 'NAICS': 4241, 'MODE': 5, 'DEST_MA': 408})\n"
     ]
    },
    {
     "name": "stderr",
     "output_type": "stream",
     "text": [
      "INFO:sqlalchemy.engine.base.Engine:({'DEST_STATE': 21, 'SHIPMT_DIST_ROUTED': 911, 'SHIPMT_ID': 130001, 'EXPORT_YN': 'N', 'EXPORT_CNTRY': 'N', 'WGT_FACTOR': 56.5, 'ORIG_STATE': 27, 'ORIG_MA': 378, 'HAZMAT': 'N', 'SHIPMT_VALUE': 381, 'TEMP_CNTL_YN': 'N', 'QUARTER': 3, 'DEST_CFS_AREA': '21-99999', 'SCTG': '10', 'ORIG_CFS_AREA': '27-378', 'SHIPMT_WGHT': 225, 'SHIPMT_DIST_GC': 770, 'NAICS': 327, 'MODE': 4, 'DEST_MA': 99999}, {'DEST_STATE': 30, 'SHIPMT_DIST_ROUTED': 2348, 'SHIPMT_ID': 130002, 'EXPORT_YN': 'Y', 'EXPORT_CNTRY': 'C', 'WGT_FACTOR': 2185.7, 'ORIG_STATE': 37, 'ORIG_MA': 172, 'HAZMAT': 'N', 'SHIPMT_VALUE': 29532, 'TEMP_CNTL_YN': 'N', 'QUARTER': 3, 'DEST_CFS_AREA': '30-99999', 'SCTG': '38', 'ORIG_CFS_AREA': '37-172', 'SHIPMT_WGHT': 486, 'SHIPMT_DIST_GC': 1922, 'NAICS': 339, 'MODE': 4, 'DEST_MA': 99999}, {'DEST_STATE': 4, 'SHIPMT_DIST_ROUTED': 42, 'SHIPMT_ID': 130003, 'EXPORT_YN': 'N', 'EXPORT_CNTRY': 'N', 'WGT_FACTOR': 237.5, 'ORIG_STATE': 4, 'ORIG_MA': 99999, 'HAZMAT': 'N', 'SHIPMT_VALUE': 1058, 'TEMP_CNTL_YN': 'N', 'QUARTER': 4, 'DEST_CFS_AREA': '04-99999', 'SCTG': '31', 'ORIG_CFS_AREA': '04-99999', 'SHIPMT_WGHT': 41479, 'SHIPMT_DIST_GC': 42, 'NAICS': 324, 'MODE': 5, 'DEST_MA': 99999}, {'DEST_STATE': 42, 'SHIPMT_DIST_ROUTED': 43, 'SHIPMT_ID': 130004, 'EXPORT_YN': 'N', 'EXPORT_CNTRY': 'N', 'WGT_FACTOR': 373.2, 'ORIG_STATE': 42, 'ORIG_MA': 428, 'HAZMAT': 'N', 'SHIPMT_VALUE': 20, 'TEMP_CNTL_YN': 'N', 'QUARTER': 3, 'DEST_CFS_AREA': '42-428', 'SCTG': '36', 'ORIG_CFS_AREA': '42-428', 'SHIPMT_WGHT': 3, 'SHIPMT_DIST_GC': 34, 'NAICS': 4238, 'MODE': 5, 'DEST_MA': 428}, {'DEST_STATE': 42, 'SHIPMT_DIST_ROUTED': 44, 'SHIPMT_ID': 130005, 'EXPORT_YN': 'N', 'EXPORT_CNTRY': 'N', 'WGT_FACTOR': 736.6, 'ORIG_STATE': 34, 'ORIG_MA': 428, 'HAZMAT': 'N', 'SHIPMT_VALUE': 5996, 'TEMP_CNTL_YN': 'N', 'QUARTER': 1, 'DEST_CFS_AREA': '42-428', 'SCTG': '33', 'ORIG_CFS_AREA': '34-428', 'SHIPMT_WGHT': 1363, 'SHIPMT_DIST_GC': 37, 'NAICS': 4246, 'MODE': 5, 'DEST_MA': 428}, {'DEST_STATE': 8, 'SHIPMT_DIST_ROUTED': 3, 'SHIPMT_ID': 130006, 'EXPORT_YN': 'N', 'EXPORT_CNTRY': 'N', 'WGT_FACTOR': 2037.2, 'ORIG_STATE': 8, 'ORIG_MA': 216, 'HAZMAT': 'N', 'SHIPMT_VALUE': 28, 'TEMP_CNTL_YN': 'N', 'QUARTER': 3, 'DEST_CFS_AREA': '08-216', 'SCTG': '34', 'ORIG_CFS_AREA': '08-216', 'SHIPMT_WGHT': 3, 'SHIPMT_DIST_GC': 3, 'NAICS': 332, 'MODE': 5, 'DEST_MA': 216}, {'DEST_STATE': 12, 'SHIPMT_DIST_ROUTED': 863, 'SHIPMT_ID': 130007, 'EXPORT_YN': 'Y', 'EXPORT_CNTRY': 'O', 'WGT_FACTOR': 176.9, 'ORIG_STATE': 21, 'ORIG_MA': 350, 'HAZMAT': 'N', 'SHIPMT_VALUE': 77123, 'TEMP_CNTL_YN': 'N', 'QUARTER': 1, 'DEST_CFS_AREA': '12-45300', 'SCTG': '08', 'ORIG_CFS_AREA': '21-350', 'SHIPMT_WGHT': 40204, 'SHIPMT_DIST_GC': 709, 'NAICS': 312, 'MODE': 4, 'DEST_MA': 45300}, {'DEST_STATE': 36, 'SHIPMT_DIST_ROUTED': 639, 'SHIPMT_ID': 130008, 'EXPORT_YN': 'Y', 'EXPORT_CNTRY': 'C', 'WGT_FACTOR': 669.3, 'ORIG_STATE': 36, 'ORIG_MA': 99999, 'HAZMAT': 'N', 'SHIPMT_VALUE': 4120, 'TEMP_CNTL_YN': 'N', 'QUARTER': 2, 'DEST_CFS_AREA': '36-408', 'SCTG': '34', 'ORIG_CFS_AREA': '36-99999', 'SHIPMT_WGHT': 1, 'SHIPMT_DIST_GC': 208, 'NAICS': 333, 'MODE': 11, 'DEST_MA': 408}  ... displaying 10 of 10000 total bound parameter sets ...  {'DEST_STATE': 48, 'SHIPMT_DIST_ROUTED': 39, 'SHIPMT_ID': 139999, 'EXPORT_YN': 'N', 'EXPORT_CNTRY': 'N', 'WGT_FACTOR': 29.9, 'ORIG_STATE': 48, 'ORIG_MA': 206, 'HAZMAT': 'N', 'SHIPMT_VALUE': 5154, 'TEMP_CNTL_YN': 'N', 'QUARTER': 4, 'DEST_CFS_AREA': '48-206', 'SCTG': '40', 'ORIG_CFS_AREA': '48-206', 'SHIPMT_WGHT': 2436, 'SHIPMT_DIST_GC': 21, 'NAICS': 314, 'MODE': 5, 'DEST_MA': 206}, {'DEST_STATE': 42, 'SHIPMT_DIST_ROUTED': 237, 'SHIPMT_ID': 140000, 'EXPORT_YN': 'N', 'EXPORT_CNTRY': 'N', 'WGT_FACTOR': 1440.4, 'ORIG_STATE': 25, 'ORIG_MA': 99999, 'HAZMAT': 'N', 'SHIPMT_VALUE': 1499, 'TEMP_CNTL_YN': 'N', 'QUARTER': 3, 'DEST_CFS_AREA': '42-408', 'SCTG': '24', 'ORIG_CFS_AREA': '25-99999', 'SHIPMT_WGHT': 8159, 'SHIPMT_DIST_GC': 182, 'NAICS': 4241, 'MODE': 5, 'DEST_MA': 408})\n"
     ]
    },
    {
     "name": "stdout",
     "output_type": "stream",
     "text": [
      "2015-11-22 17:15:59,898 INFO sqlalchemy.engine.base.Engine INSERT INTO transactions (\"SHIPMT_ID\", \"ORIG_STATE\", \"ORIG_MA\", \"ORIG_CFS_AREA\", \"DEST_STATE\", \"DEST_MA\", \"DEST_CFS_AREA\", \"NAICS\", \"QUARTER\", \"SCTG\", \"MODE\", \"SHIPMT_VALUE\", \"SHIPMT_WGHT\", \"SHIPMT_DIST_GC\", \"SHIPMT_DIST_ROUTED\", \"TEMP_CNTL_YN\", \"EXPORT_YN\", \"EXPORT_CNTRY\", \"HAZMAT\", \"WGT_FACTOR\") VALUES (%(SHIPMT_ID)s, %(ORIG_STATE)s, %(ORIG_MA)s, %(ORIG_CFS_AREA)s, %(DEST_STATE)s, %(DEST_MA)s, %(DEST_CFS_AREA)s, %(NAICS)s, %(QUARTER)s, %(SCTG)s, %(MODE)s, %(SHIPMT_VALUE)s, %(SHIPMT_WGHT)s, %(SHIPMT_DIST_GC)s, %(SHIPMT_DIST_ROUTED)s, %(TEMP_CNTL_YN)s, %(EXPORT_YN)s, %(EXPORT_CNTRY)s, %(HAZMAT)s, %(WGT_FACTOR)s)\n"
     ]
    },
    {
     "name": "stderr",
     "output_type": "stream",
     "text": [
      "INFO:sqlalchemy.engine.base.Engine:INSERT INTO transactions (\"SHIPMT_ID\", \"ORIG_STATE\", \"ORIG_MA\", \"ORIG_CFS_AREA\", \"DEST_STATE\", \"DEST_MA\", \"DEST_CFS_AREA\", \"NAICS\", \"QUARTER\", \"SCTG\", \"MODE\", \"SHIPMT_VALUE\", \"SHIPMT_WGHT\", \"SHIPMT_DIST_GC\", \"SHIPMT_DIST_ROUTED\", \"TEMP_CNTL_YN\", \"EXPORT_YN\", \"EXPORT_CNTRY\", \"HAZMAT\", \"WGT_FACTOR\") VALUES (%(SHIPMT_ID)s, %(ORIG_STATE)s, %(ORIG_MA)s, %(ORIG_CFS_AREA)s, %(DEST_STATE)s, %(DEST_MA)s, %(DEST_CFS_AREA)s, %(NAICS)s, %(QUARTER)s, %(SCTG)s, %(MODE)s, %(SHIPMT_VALUE)s, %(SHIPMT_WGHT)s, %(SHIPMT_DIST_GC)s, %(SHIPMT_DIST_ROUTED)s, %(TEMP_CNTL_YN)s, %(EXPORT_YN)s, %(EXPORT_CNTRY)s, %(HAZMAT)s, %(WGT_FACTOR)s)\n"
     ]
    },
    {
     "name": "stdout",
     "output_type": "stream",
     "text": [
      "2015-11-22 17:15:59,899 INFO sqlalchemy.engine.base.Engine ({'DEST_STATE': 20, 'SHIPMT_DIST_ROUTED': 9, 'ORIG_CFS_AREA': '20-312', 'EXPORT_YN': 'N', 'EXPORT_CNTRY': 'N', 'SHIPMT_ID': 140001, 'ORIG_MA': 312, 'HAZMAT': 'N', 'SHIPMT_WGHT': 3, 'SHIPMT_VALUE': 1226, 'TEMP_CNTL_YN': 'N', 'QUARTER': 2, 'DEST_CFS_AREA': '20-312', 'ORIG_STATE': 20, 'SCTG': '34', 'WGT_FACTOR': 27191.4, 'SHIPMT_DIST_GC': 9, 'NAICS': 4231, 'MODE': 5, 'DEST_MA': 312}, {'DEST_STATE': 12, 'SHIPMT_DIST_ROUTED': 154, 'ORIG_CFS_AREA': '12-300', 'EXPORT_YN': 'N', 'EXPORT_CNTRY': 'N', 'SHIPMT_ID': 140002, 'ORIG_MA': 300, 'HAZMAT': 'N', 'SHIPMT_WGHT': 12724, 'SHIPMT_VALUE': 20629, 'TEMP_CNTL_YN': 'N', 'QUARTER': 2, 'DEST_CFS_AREA': '12-99999', 'ORIG_STATE': 12, 'SCTG': '28', 'WGT_FACTOR': 315.6, 'SHIPMT_DIST_GC': 113, 'NAICS': 322, 'MODE': 4, 'DEST_MA': 99999}, {'DEST_STATE': 45, 'SHIPMT_DIST_ROUTED': 27, 'ORIG_CFS_AREA': '45-99999', 'EXPORT_YN': 'N', 'EXPORT_CNTRY': 'N', 'SHIPMT_ID': 140003, 'ORIG_MA': 99999, 'HAZMAT': 'H', 'SHIPMT_WGHT': 431, 'SHIPMT_VALUE': 105, 'TEMP_CNTL_YN': 'N', 'QUARTER': 2, 'DEST_CFS_AREA': '45-99999', 'ORIG_STATE': 45, 'SCTG': '19', 'WGT_FACTOR': 389.0, 'SHIPMT_DIST_GC': 13, 'NAICS': 45431, 'MODE': 5, 'DEST_MA': 99999}, {'DEST_STATE': 19, 'SHIPMT_DIST_ROUTED': 60, 'ORIG_CFS_AREA': '19-99999', 'EXPORT_YN': 'N', 'EXPORT_CNTRY': 'N', 'SHIPMT_ID': 140004, 'ORIG_MA': 99999, 'HAZMAT': 'N', 'SHIPMT_WGHT': 74505, 'SHIPMT_VALUE': 262, 'TEMP_CNTL_YN': 'N', 'QUARTER': 3, 'DEST_CFS_AREA': '19-99999', 'ORIG_STATE': 19, 'SCTG': '12', 'WGT_FACTOR': 2164.7, 'SHIPMT_DIST_GC': 51, 'NAICS': 212, 'MODE': 4, 'DEST_MA': 99999}, {'DEST_STATE': 17, 'SHIPMT_DIST_ROUTED': 183, 'ORIG_CFS_AREA': '29-476', 'EXPORT_YN': 'N', 'EXPORT_CNTRY': 'N', 'SHIPMT_ID': 140005, 'ORIG_MA': 476, 'HAZMAT': 'N', 'SHIPMT_WGHT': 1, 'SHIPMT_VALUE': 4, 'TEMP_CNTL_YN': 'N', 'QUARTER': 4, 'DEST_CFS_AREA': '17-99999', 'ORIG_STATE': 29, 'SCTG': '34', 'WGT_FACTOR': 376.1, 'SHIPMT_DIST_GC': 141, 'NAICS': 4237, 'MODE': 4, 'DEST_MA': 99999}, {'DEST_STATE': 21, 'SHIPMT_DIST_ROUTED': 21, 'ORIG_CFS_AREA': '21-99999', 'EXPORT_YN': 'N', 'EXPORT_CNTRY': 'N', 'SHIPMT_ID': 140006, 'ORIG_MA': 99999, 'HAZMAT': 'N', 'SHIPMT_WGHT': 43912, 'SHIPMT_VALUE': 173, 'TEMP_CNTL_YN': 'N', 'QUARTER': 4, 'DEST_CFS_AREA': '21-99999', 'ORIG_STATE': 21, 'SCTG': '12', 'WGT_FACTOR': 169.4, 'SHIPMT_DIST_GC': 21, 'NAICS': 212, 'MODE': 5, 'DEST_MA': 99999}, {'DEST_STATE': 20, 'SHIPMT_DIST_ROUTED': 2323, 'ORIG_CFS_AREA': '06-99999', 'EXPORT_YN': 'N', 'EXPORT_CNTRY': 'N', 'SHIPMT_ID': 140007, 'ORIG_MA': 99999, 'HAZMAT': 'N', 'SHIPMT_WGHT': 146130, 'SHIPMT_VALUE': 26354, 'TEMP_CNTL_YN': 'N', 'QUARTER': 4, 'DEST_CFS_AREA': '20-312', 'ORIG_STATE': 6, 'SCTG': '26', 'WGT_FACTOR': 99.3, 'SHIPMT_DIST_GC': 1422, 'NAICS': 321, 'MODE': 15, 'DEST_MA': 312}, {'DEST_STATE': 38, 'SHIPMT_DIST_ROUTED': 4, 'ORIG_CFS_AREA': '38-99999', 'EXPORT_YN': 'N', 'EXPORT_CNTRY': 'N', 'SHIPMT_ID': 140008, 'ORIG_MA': 99999, 'HAZMAT': 'N', 'SHIPMT_WGHT': 2845, 'SHIPMT_VALUE': 7966, 'TEMP_CNTL_YN': 'N', 'QUARTER': 2, 'DEST_CFS_AREA': '38-99999', 'ORIG_STATE': 38, 'SCTG': '26', 'WGT_FACTOR': 131.6, 'SHIPMT_DIST_GC': 3, 'NAICS': 321, 'MODE': 5, 'DEST_MA': 99999}  ... displaying 10 of 10000 total bound parameter sets ...  {'DEST_STATE': 40, 'SHIPMT_DIST_ROUTED': 552, 'ORIG_CFS_AREA': '48-288', 'EXPORT_YN': 'N', 'EXPORT_CNTRY': 'N', 'SHIPMT_ID': 149999, 'ORIG_MA': 288, 'HAZMAT': 'N', 'SHIPMT_WGHT': 27, 'SHIPMT_VALUE': 291, 'TEMP_CNTL_YN': 'N', 'QUARTER': 2, 'DEST_CFS_AREA': '40-538', 'ORIG_STATE': 48, 'SCTG': '30', 'WGT_FACTOR': 204.9, 'SHIPMT_DIST_GC': 435, 'NAICS': 314, 'MODE': 14, 'DEST_MA': 538}, {'DEST_STATE': 41, 'SHIPMT_DIST_ROUTED': 1007, 'ORIG_CFS_AREA': '06-348', 'EXPORT_YN': 'N', 'EXPORT_CNTRY': 'N', 'SHIPMT_ID': 150000, 'ORIG_MA': 348, 'HAZMAT': 'N', 'SHIPMT_WGHT': 5721, 'SHIPMT_VALUE': 6873, 'TEMP_CNTL_YN': 'Y', 'QUARTER': 4, 'DEST_CFS_AREA': '41-440', 'ORIG_STATE': 6, 'SCTG': '06', 'WGT_FACTOR': 616.3, 'SHIPMT_DIST_GC': 852, 'NAICS': 311, 'MODE': 4, 'DEST_MA': 440})\n"
     ]
    },
    {
     "name": "stderr",
     "output_type": "stream",
     "text": [
      "INFO:sqlalchemy.engine.base.Engine:({'DEST_STATE': 20, 'SHIPMT_DIST_ROUTED': 9, 'ORIG_CFS_AREA': '20-312', 'EXPORT_YN': 'N', 'EXPORT_CNTRY': 'N', 'SHIPMT_ID': 140001, 'ORIG_MA': 312, 'HAZMAT': 'N', 'SHIPMT_WGHT': 3, 'SHIPMT_VALUE': 1226, 'TEMP_CNTL_YN': 'N', 'QUARTER': 2, 'DEST_CFS_AREA': '20-312', 'ORIG_STATE': 20, 'SCTG': '34', 'WGT_FACTOR': 27191.4, 'SHIPMT_DIST_GC': 9, 'NAICS': 4231, 'MODE': 5, 'DEST_MA': 312}, {'DEST_STATE': 12, 'SHIPMT_DIST_ROUTED': 154, 'ORIG_CFS_AREA': '12-300', 'EXPORT_YN': 'N', 'EXPORT_CNTRY': 'N', 'SHIPMT_ID': 140002, 'ORIG_MA': 300, 'HAZMAT': 'N', 'SHIPMT_WGHT': 12724, 'SHIPMT_VALUE': 20629, 'TEMP_CNTL_YN': 'N', 'QUARTER': 2, 'DEST_CFS_AREA': '12-99999', 'ORIG_STATE': 12, 'SCTG': '28', 'WGT_FACTOR': 315.6, 'SHIPMT_DIST_GC': 113, 'NAICS': 322, 'MODE': 4, 'DEST_MA': 99999}, {'DEST_STATE': 45, 'SHIPMT_DIST_ROUTED': 27, 'ORIG_CFS_AREA': '45-99999', 'EXPORT_YN': 'N', 'EXPORT_CNTRY': 'N', 'SHIPMT_ID': 140003, 'ORIG_MA': 99999, 'HAZMAT': 'H', 'SHIPMT_WGHT': 431, 'SHIPMT_VALUE': 105, 'TEMP_CNTL_YN': 'N', 'QUARTER': 2, 'DEST_CFS_AREA': '45-99999', 'ORIG_STATE': 45, 'SCTG': '19', 'WGT_FACTOR': 389.0, 'SHIPMT_DIST_GC': 13, 'NAICS': 45431, 'MODE': 5, 'DEST_MA': 99999}, {'DEST_STATE': 19, 'SHIPMT_DIST_ROUTED': 60, 'ORIG_CFS_AREA': '19-99999', 'EXPORT_YN': 'N', 'EXPORT_CNTRY': 'N', 'SHIPMT_ID': 140004, 'ORIG_MA': 99999, 'HAZMAT': 'N', 'SHIPMT_WGHT': 74505, 'SHIPMT_VALUE': 262, 'TEMP_CNTL_YN': 'N', 'QUARTER': 3, 'DEST_CFS_AREA': '19-99999', 'ORIG_STATE': 19, 'SCTG': '12', 'WGT_FACTOR': 2164.7, 'SHIPMT_DIST_GC': 51, 'NAICS': 212, 'MODE': 4, 'DEST_MA': 99999}, {'DEST_STATE': 17, 'SHIPMT_DIST_ROUTED': 183, 'ORIG_CFS_AREA': '29-476', 'EXPORT_YN': 'N', 'EXPORT_CNTRY': 'N', 'SHIPMT_ID': 140005, 'ORIG_MA': 476, 'HAZMAT': 'N', 'SHIPMT_WGHT': 1, 'SHIPMT_VALUE': 4, 'TEMP_CNTL_YN': 'N', 'QUARTER': 4, 'DEST_CFS_AREA': '17-99999', 'ORIG_STATE': 29, 'SCTG': '34', 'WGT_FACTOR': 376.1, 'SHIPMT_DIST_GC': 141, 'NAICS': 4237, 'MODE': 4, 'DEST_MA': 99999}, {'DEST_STATE': 21, 'SHIPMT_DIST_ROUTED': 21, 'ORIG_CFS_AREA': '21-99999', 'EXPORT_YN': 'N', 'EXPORT_CNTRY': 'N', 'SHIPMT_ID': 140006, 'ORIG_MA': 99999, 'HAZMAT': 'N', 'SHIPMT_WGHT': 43912, 'SHIPMT_VALUE': 173, 'TEMP_CNTL_YN': 'N', 'QUARTER': 4, 'DEST_CFS_AREA': '21-99999', 'ORIG_STATE': 21, 'SCTG': '12', 'WGT_FACTOR': 169.4, 'SHIPMT_DIST_GC': 21, 'NAICS': 212, 'MODE': 5, 'DEST_MA': 99999}, {'DEST_STATE': 20, 'SHIPMT_DIST_ROUTED': 2323, 'ORIG_CFS_AREA': '06-99999', 'EXPORT_YN': 'N', 'EXPORT_CNTRY': 'N', 'SHIPMT_ID': 140007, 'ORIG_MA': 99999, 'HAZMAT': 'N', 'SHIPMT_WGHT': 146130, 'SHIPMT_VALUE': 26354, 'TEMP_CNTL_YN': 'N', 'QUARTER': 4, 'DEST_CFS_AREA': '20-312', 'ORIG_STATE': 6, 'SCTG': '26', 'WGT_FACTOR': 99.3, 'SHIPMT_DIST_GC': 1422, 'NAICS': 321, 'MODE': 15, 'DEST_MA': 312}, {'DEST_STATE': 38, 'SHIPMT_DIST_ROUTED': 4, 'ORIG_CFS_AREA': '38-99999', 'EXPORT_YN': 'N', 'EXPORT_CNTRY': 'N', 'SHIPMT_ID': 140008, 'ORIG_MA': 99999, 'HAZMAT': 'N', 'SHIPMT_WGHT': 2845, 'SHIPMT_VALUE': 7966, 'TEMP_CNTL_YN': 'N', 'QUARTER': 2, 'DEST_CFS_AREA': '38-99999', 'ORIG_STATE': 38, 'SCTG': '26', 'WGT_FACTOR': 131.6, 'SHIPMT_DIST_GC': 3, 'NAICS': 321, 'MODE': 5, 'DEST_MA': 99999}  ... displaying 10 of 10000 total bound parameter sets ...  {'DEST_STATE': 40, 'SHIPMT_DIST_ROUTED': 552, 'ORIG_CFS_AREA': '48-288', 'EXPORT_YN': 'N', 'EXPORT_CNTRY': 'N', 'SHIPMT_ID': 149999, 'ORIG_MA': 288, 'HAZMAT': 'N', 'SHIPMT_WGHT': 27, 'SHIPMT_VALUE': 291, 'TEMP_CNTL_YN': 'N', 'QUARTER': 2, 'DEST_CFS_AREA': '40-538', 'ORIG_STATE': 48, 'SCTG': '30', 'WGT_FACTOR': 204.9, 'SHIPMT_DIST_GC': 435, 'NAICS': 314, 'MODE': 14, 'DEST_MA': 538}, {'DEST_STATE': 41, 'SHIPMT_DIST_ROUTED': 1007, 'ORIG_CFS_AREA': '06-348', 'EXPORT_YN': 'N', 'EXPORT_CNTRY': 'N', 'SHIPMT_ID': 150000, 'ORIG_MA': 348, 'HAZMAT': 'N', 'SHIPMT_WGHT': 5721, 'SHIPMT_VALUE': 6873, 'TEMP_CNTL_YN': 'Y', 'QUARTER': 4, 'DEST_CFS_AREA': '41-440', 'ORIG_STATE': 6, 'SCTG': '06', 'WGT_FACTOR': 616.3, 'SHIPMT_DIST_GC': 852, 'NAICS': 311, 'MODE': 4, 'DEST_MA': 440})\n"
     ]
    },
    {
     "name": "stdout",
     "output_type": "stream",
     "text": [
      "2015-11-22 17:20:15,736 INFO sqlalchemy.engine.base.Engine INSERT INTO transactions (\"SHIPMT_ID\", \"ORIG_STATE\", \"ORIG_MA\", \"ORIG_CFS_AREA\", \"DEST_STATE\", \"DEST_MA\", \"DEST_CFS_AREA\", \"NAICS\", \"QUARTER\", \"SCTG\", \"MODE\", \"SHIPMT_VALUE\", \"SHIPMT_WGHT\", \"SHIPMT_DIST_GC\", \"SHIPMT_DIST_ROUTED\", \"TEMP_CNTL_YN\", \"EXPORT_YN\", \"EXPORT_CNTRY\", \"HAZMAT\", \"WGT_FACTOR\") VALUES (%(SHIPMT_ID)s, %(ORIG_STATE)s, %(ORIG_MA)s, %(ORIG_CFS_AREA)s, %(DEST_STATE)s, %(DEST_MA)s, %(DEST_CFS_AREA)s, %(NAICS)s, %(QUARTER)s, %(SCTG)s, %(MODE)s, %(SHIPMT_VALUE)s, %(SHIPMT_WGHT)s, %(SHIPMT_DIST_GC)s, %(SHIPMT_DIST_ROUTED)s, %(TEMP_CNTL_YN)s, %(EXPORT_YN)s, %(EXPORT_CNTRY)s, %(HAZMAT)s, %(WGT_FACTOR)s)\n"
     ]
    },
    {
     "name": "stderr",
     "output_type": "stream",
     "text": [
      "INFO:sqlalchemy.engine.base.Engine:INSERT INTO transactions (\"SHIPMT_ID\", \"ORIG_STATE\", \"ORIG_MA\", \"ORIG_CFS_AREA\", \"DEST_STATE\", \"DEST_MA\", \"DEST_CFS_AREA\", \"NAICS\", \"QUARTER\", \"SCTG\", \"MODE\", \"SHIPMT_VALUE\", \"SHIPMT_WGHT\", \"SHIPMT_DIST_GC\", \"SHIPMT_DIST_ROUTED\", \"TEMP_CNTL_YN\", \"EXPORT_YN\", \"EXPORT_CNTRY\", \"HAZMAT\", \"WGT_FACTOR\") VALUES (%(SHIPMT_ID)s, %(ORIG_STATE)s, %(ORIG_MA)s, %(ORIG_CFS_AREA)s, %(DEST_STATE)s, %(DEST_MA)s, %(DEST_CFS_AREA)s, %(NAICS)s, %(QUARTER)s, %(SCTG)s, %(MODE)s, %(SHIPMT_VALUE)s, %(SHIPMT_WGHT)s, %(SHIPMT_DIST_GC)s, %(SHIPMT_DIST_ROUTED)s, %(TEMP_CNTL_YN)s, %(EXPORT_YN)s, %(EXPORT_CNTRY)s, %(HAZMAT)s, %(WGT_FACTOR)s)\n"
     ]
    },
    {
     "name": "stdout",
     "output_type": "stream",
     "text": [
      "2015-11-22 17:20:15,738 INFO sqlalchemy.engine.base.Engine ({'SHIPMT_DIST_ROUTED': 12, 'SHIPMT_ID': 150001, 'EXPORT_YN': 'N', 'EXPORT_CNTRY': 'N', 'ORIG_STATE': 47, 'ORIG_MA': 368, 'HAZMAT': 'N', 'NAICS': 4249, 'SHIPMT_WGHT': 55, 'SHIPMT_VALUE': 16, 'TEMP_CNTL_YN': 'N', 'QUARTER': 3, 'DEST_CFS_AREA': '47-368', 'MODE': 4, 'ORIG_CFS_AREA': '47-368', 'WGT_FACTOR': 220.9, 'SCTG': '22', 'SHIPMT_DIST_GC': 10, 'DEST_STATE': 47, 'DEST_MA': 368}, {'SHIPMT_DIST_ROUTED': 619, 'SHIPMT_ID': 150002, 'EXPORT_YN': 'N', 'EXPORT_CNTRY': 'N', 'ORIG_STATE': 37, 'ORIG_MA': 172, 'HAZMAT': 'N', 'NAICS': 4242, 'SHIPMT_WGHT': 1, 'SHIPMT_VALUE': 5, 'TEMP_CNTL_YN': 'N', 'QUARTER': 1, 'DEST_CFS_AREA': '18-294', 'MODE': 14, 'ORIG_CFS_AREA': '37-172', 'WGT_FACTOR': 990.3, 'SCTG': '24', 'SHIPMT_DIST_GC': 408, 'DEST_STATE': 18, 'DEST_MA': 294}, {'SHIPMT_DIST_ROUTED': 13, 'SHIPMT_ID': 150003, 'EXPORT_YN': 'N', 'EXPORT_CNTRY': 'N', 'ORIG_STATE': 45, 'ORIG_MA': 273, 'HAZMAT': 'H', 'NAICS': 45431, 'SHIPMT_WGHT': 597, 'SHIPMT_VALUE': 452, 'TEMP_CNTL_YN': 'Y', 'QUARTER': 2, 'DEST_CFS_AREA': '45-273', 'MODE': 5, 'ORIG_CFS_AREA': '45-273', 'WGT_FACTOR': 152.9, 'SCTG': '19', 'SHIPMT_DIST_GC': 8, 'DEST_STATE': 45, 'DEST_MA': 273}, {'SHIPMT_DIST_ROUTED': 2729, 'SHIPMT_ID': 150004, 'EXPORT_YN': 'N', 'EXPORT_CNTRY': 'N', 'ORIG_STATE': 36, 'ORIG_MA': 99999, 'HAZMAT': 'N', 'NAICS': 4238, 'SHIPMT_WGHT': 1, 'SHIPMT_VALUE': 5, 'TEMP_CNTL_YN': 'N', 'QUARTER': 2, 'DEST_CFS_AREA': '06-348', 'MODE': 14, 'ORIG_CFS_AREA': '36-99999', 'WGT_FACTOR': 6471.7, 'SCTG': '43', 'SHIPMT_DIST_GC': 2348, 'DEST_STATE': 6, 'DEST_MA': 348}, {'SHIPMT_DIST_ROUTED': 843, 'SHIPMT_ID': 150005, 'EXPORT_YN': 'N', 'EXPORT_CNTRY': 'N', 'ORIG_STATE': 12, 'ORIG_MA': 422, 'HAZMAT': 'H', 'NAICS': 4246, 'SHIPMT_WGHT': 2364, 'SHIPMT_VALUE': 2455, 'TEMP_CNTL_YN': 'N', 'QUARTER': 1, 'DEST_CFS_AREA': '51-47900', 'MODE': 4, 'ORIG_CFS_AREA': '12-422', 'WGT_FACTOR': 360.8, 'SCTG': '20', 'SHIPMT_DIST_GC': 746, 'DEST_STATE': 51, 'DEST_MA': 47900}, {'SHIPMT_DIST_ROUTED': 47, 'SHIPMT_ID': 150006, 'EXPORT_YN': 'N', 'EXPORT_CNTRY': 'N', 'ORIG_STATE': 25, 'ORIG_MA': 148, 'HAZMAT': 'N', 'NAICS': 4248, 'SHIPMT_WGHT': 5041, 'SHIPMT_VALUE': 4038, 'TEMP_CNTL_YN': 'N', 'QUARTER': 3, 'DEST_CFS_AREA': '25-148', 'MODE': 5, 'ORIG_CFS_AREA': '25-148', 'WGT_FACTOR': 696.7, 'SCTG': '08', 'SHIPMT_DIST_GC': 32, 'DEST_STATE': 25, 'DEST_MA': 148}, {'SHIPMT_DIST_ROUTED': 583, 'SHIPMT_ID': 150007, 'EXPORT_YN': 'N', 'EXPORT_CNTRY': 'N', 'ORIG_STATE': 29, 'ORIG_MA': 312, 'HAZMAT': 'N', 'NAICS': 4231, 'SHIPMT_WGHT': 25, 'SHIPMT_VALUE': 275, 'TEMP_CNTL_YN': 'N', 'QUARTER': 3, 'DEST_CFS_AREA': '55-99999', 'MODE': 14, 'ORIG_CFS_AREA': '29-312', 'WGT_FACTOR': 4607.8, 'SCTG': '36', 'SHIPMT_DIST_GC': 446, 'DEST_STATE': 55, 'DEST_MA': 99999}, {'SHIPMT_DIST_ROUTED': 54, 'SHIPMT_ID': 150008, 'EXPORT_YN': 'N', 'EXPORT_CNTRY': 'N', 'ORIG_STATE': 6, 'ORIG_MA': 488, 'HAZMAT': 'N', 'NAICS': 4231, 'SHIPMT_WGHT': 1, 'SHIPMT_VALUE': 9, 'TEMP_CNTL_YN': 'N', 'QUARTER': 1, 'DEST_CFS_AREA': '06-472', 'MODE': 5, 'ORIG_CFS_AREA': '06-488', 'WGT_FACTOR': 23677.5, 'SCTG': '36', 'SHIPMT_DIST_GC': 48, 'DEST_STATE': 6, 'DEST_MA': 472}  ... displaying 10 of 10000 total bound parameter sets ...  {'SHIPMT_DIST_ROUTED': 302, 'SHIPMT_ID': 159999, 'EXPORT_YN': 'N', 'EXPORT_CNTRY': 'N', 'ORIG_STATE': 31, 'ORIG_MA': 99999, 'HAZMAT': 'N', 'NAICS': 4231, 'SHIPMT_WGHT': 4, 'SHIPMT_VALUE': 62, 'TEMP_CNTL_YN': 'N', 'QUARTER': 2, 'DEST_CFS_AREA': '31-99999', 'MODE': 14, 'ORIG_CFS_AREA': '31-99999', 'WGT_FACTOR': 8009.6, 'SCTG': '36', 'SHIPMT_DIST_GC': 233, 'DEST_STATE': 31, 'DEST_MA': 99999}, {'SHIPMT_DIST_ROUTED': 25, 'SHIPMT_ID': 160000, 'EXPORT_YN': 'N', 'EXPORT_CNTRY': 'N', 'ORIG_STATE': 42, 'ORIG_MA': 99999, 'HAZMAT': 'N', 'NAICS': 4238, 'SHIPMT_WGHT': 15, 'SHIPMT_VALUE': 2094, 'TEMP_CNTL_YN': 'N', 'QUARTER': 4, 'DEST_CFS_AREA': '42-99999', 'MODE': 5, 'ORIG_CFS_AREA': '42-99999', 'WGT_FACTOR': 1217.6, 'SCTG': '34', 'SHIPMT_DIST_GC': 20, 'DEST_STATE': 42, 'DEST_MA': 99999})\n"
     ]
    },
    {
     "name": "stderr",
     "output_type": "stream",
     "text": [
      "INFO:sqlalchemy.engine.base.Engine:({'SHIPMT_DIST_ROUTED': 12, 'SHIPMT_ID': 150001, 'EXPORT_YN': 'N', 'EXPORT_CNTRY': 'N', 'ORIG_STATE': 47, 'ORIG_MA': 368, 'HAZMAT': 'N', 'NAICS': 4249, 'SHIPMT_WGHT': 55, 'SHIPMT_VALUE': 16, 'TEMP_CNTL_YN': 'N', 'QUARTER': 3, 'DEST_CFS_AREA': '47-368', 'MODE': 4, 'ORIG_CFS_AREA': '47-368', 'WGT_FACTOR': 220.9, 'SCTG': '22', 'SHIPMT_DIST_GC': 10, 'DEST_STATE': 47, 'DEST_MA': 368}, {'SHIPMT_DIST_ROUTED': 619, 'SHIPMT_ID': 150002, 'EXPORT_YN': 'N', 'EXPORT_CNTRY': 'N', 'ORIG_STATE': 37, 'ORIG_MA': 172, 'HAZMAT': 'N', 'NAICS': 4242, 'SHIPMT_WGHT': 1, 'SHIPMT_VALUE': 5, 'TEMP_CNTL_YN': 'N', 'QUARTER': 1, 'DEST_CFS_AREA': '18-294', 'MODE': 14, 'ORIG_CFS_AREA': '37-172', 'WGT_FACTOR': 990.3, 'SCTG': '24', 'SHIPMT_DIST_GC': 408, 'DEST_STATE': 18, 'DEST_MA': 294}, {'SHIPMT_DIST_ROUTED': 13, 'SHIPMT_ID': 150003, 'EXPORT_YN': 'N', 'EXPORT_CNTRY': 'N', 'ORIG_STATE': 45, 'ORIG_MA': 273, 'HAZMAT': 'H', 'NAICS': 45431, 'SHIPMT_WGHT': 597, 'SHIPMT_VALUE': 452, 'TEMP_CNTL_YN': 'Y', 'QUARTER': 2, 'DEST_CFS_AREA': '45-273', 'MODE': 5, 'ORIG_CFS_AREA': '45-273', 'WGT_FACTOR': 152.9, 'SCTG': '19', 'SHIPMT_DIST_GC': 8, 'DEST_STATE': 45, 'DEST_MA': 273}, {'SHIPMT_DIST_ROUTED': 2729, 'SHIPMT_ID': 150004, 'EXPORT_YN': 'N', 'EXPORT_CNTRY': 'N', 'ORIG_STATE': 36, 'ORIG_MA': 99999, 'HAZMAT': 'N', 'NAICS': 4238, 'SHIPMT_WGHT': 1, 'SHIPMT_VALUE': 5, 'TEMP_CNTL_YN': 'N', 'QUARTER': 2, 'DEST_CFS_AREA': '06-348', 'MODE': 14, 'ORIG_CFS_AREA': '36-99999', 'WGT_FACTOR': 6471.7, 'SCTG': '43', 'SHIPMT_DIST_GC': 2348, 'DEST_STATE': 6, 'DEST_MA': 348}, {'SHIPMT_DIST_ROUTED': 843, 'SHIPMT_ID': 150005, 'EXPORT_YN': 'N', 'EXPORT_CNTRY': 'N', 'ORIG_STATE': 12, 'ORIG_MA': 422, 'HAZMAT': 'H', 'NAICS': 4246, 'SHIPMT_WGHT': 2364, 'SHIPMT_VALUE': 2455, 'TEMP_CNTL_YN': 'N', 'QUARTER': 1, 'DEST_CFS_AREA': '51-47900', 'MODE': 4, 'ORIG_CFS_AREA': '12-422', 'WGT_FACTOR': 360.8, 'SCTG': '20', 'SHIPMT_DIST_GC': 746, 'DEST_STATE': 51, 'DEST_MA': 47900}, {'SHIPMT_DIST_ROUTED': 47, 'SHIPMT_ID': 150006, 'EXPORT_YN': 'N', 'EXPORT_CNTRY': 'N', 'ORIG_STATE': 25, 'ORIG_MA': 148, 'HAZMAT': 'N', 'NAICS': 4248, 'SHIPMT_WGHT': 5041, 'SHIPMT_VALUE': 4038, 'TEMP_CNTL_YN': 'N', 'QUARTER': 3, 'DEST_CFS_AREA': '25-148', 'MODE': 5, 'ORIG_CFS_AREA': '25-148', 'WGT_FACTOR': 696.7, 'SCTG': '08', 'SHIPMT_DIST_GC': 32, 'DEST_STATE': 25, 'DEST_MA': 148}, {'SHIPMT_DIST_ROUTED': 583, 'SHIPMT_ID': 150007, 'EXPORT_YN': 'N', 'EXPORT_CNTRY': 'N', 'ORIG_STATE': 29, 'ORIG_MA': 312, 'HAZMAT': 'N', 'NAICS': 4231, 'SHIPMT_WGHT': 25, 'SHIPMT_VALUE': 275, 'TEMP_CNTL_YN': 'N', 'QUARTER': 3, 'DEST_CFS_AREA': '55-99999', 'MODE': 14, 'ORIG_CFS_AREA': '29-312', 'WGT_FACTOR': 4607.8, 'SCTG': '36', 'SHIPMT_DIST_GC': 446, 'DEST_STATE': 55, 'DEST_MA': 99999}, {'SHIPMT_DIST_ROUTED': 54, 'SHIPMT_ID': 150008, 'EXPORT_YN': 'N', 'EXPORT_CNTRY': 'N', 'ORIG_STATE': 6, 'ORIG_MA': 488, 'HAZMAT': 'N', 'NAICS': 4231, 'SHIPMT_WGHT': 1, 'SHIPMT_VALUE': 9, 'TEMP_CNTL_YN': 'N', 'QUARTER': 1, 'DEST_CFS_AREA': '06-472', 'MODE': 5, 'ORIG_CFS_AREA': '06-488', 'WGT_FACTOR': 23677.5, 'SCTG': '36', 'SHIPMT_DIST_GC': 48, 'DEST_STATE': 6, 'DEST_MA': 472}  ... displaying 10 of 10000 total bound parameter sets ...  {'SHIPMT_DIST_ROUTED': 302, 'SHIPMT_ID': 159999, 'EXPORT_YN': 'N', 'EXPORT_CNTRY': 'N', 'ORIG_STATE': 31, 'ORIG_MA': 99999, 'HAZMAT': 'N', 'NAICS': 4231, 'SHIPMT_WGHT': 4, 'SHIPMT_VALUE': 62, 'TEMP_CNTL_YN': 'N', 'QUARTER': 2, 'DEST_CFS_AREA': '31-99999', 'MODE': 14, 'ORIG_CFS_AREA': '31-99999', 'WGT_FACTOR': 8009.6, 'SCTG': '36', 'SHIPMT_DIST_GC': 233, 'DEST_STATE': 31, 'DEST_MA': 99999}, {'SHIPMT_DIST_ROUTED': 25, 'SHIPMT_ID': 160000, 'EXPORT_YN': 'N', 'EXPORT_CNTRY': 'N', 'ORIG_STATE': 42, 'ORIG_MA': 99999, 'HAZMAT': 'N', 'NAICS': 4238, 'SHIPMT_WGHT': 15, 'SHIPMT_VALUE': 2094, 'TEMP_CNTL_YN': 'N', 'QUARTER': 4, 'DEST_CFS_AREA': '42-99999', 'MODE': 5, 'ORIG_CFS_AREA': '42-99999', 'WGT_FACTOR': 1217.6, 'SCTG': '34', 'SHIPMT_DIST_GC': 20, 'DEST_STATE': 42, 'DEST_MA': 99999})\n"
     ]
    },
    {
     "name": "stdout",
     "output_type": "stream",
     "text": [
      "2015-11-22 17:24:27,938 INFO sqlalchemy.engine.base.Engine INSERT INTO transactions (\"SHIPMT_ID\", \"ORIG_STATE\", \"ORIG_MA\", \"ORIG_CFS_AREA\", \"DEST_STATE\", \"DEST_MA\", \"DEST_CFS_AREA\", \"NAICS\", \"QUARTER\", \"SCTG\", \"MODE\", \"SHIPMT_VALUE\", \"SHIPMT_WGHT\", \"SHIPMT_DIST_GC\", \"SHIPMT_DIST_ROUTED\", \"TEMP_CNTL_YN\", \"EXPORT_YN\", \"EXPORT_CNTRY\", \"HAZMAT\", \"WGT_FACTOR\") VALUES (%(SHIPMT_ID)s, %(ORIG_STATE)s, %(ORIG_MA)s, %(ORIG_CFS_AREA)s, %(DEST_STATE)s, %(DEST_MA)s, %(DEST_CFS_AREA)s, %(NAICS)s, %(QUARTER)s, %(SCTG)s, %(MODE)s, %(SHIPMT_VALUE)s, %(SHIPMT_WGHT)s, %(SHIPMT_DIST_GC)s, %(SHIPMT_DIST_ROUTED)s, %(TEMP_CNTL_YN)s, %(EXPORT_YN)s, %(EXPORT_CNTRY)s, %(HAZMAT)s, %(WGT_FACTOR)s)\n"
     ]
    },
    {
     "name": "stderr",
     "output_type": "stream",
     "text": [
      "INFO:sqlalchemy.engine.base.Engine:INSERT INTO transactions (\"SHIPMT_ID\", \"ORIG_STATE\", \"ORIG_MA\", \"ORIG_CFS_AREA\", \"DEST_STATE\", \"DEST_MA\", \"DEST_CFS_AREA\", \"NAICS\", \"QUARTER\", \"SCTG\", \"MODE\", \"SHIPMT_VALUE\", \"SHIPMT_WGHT\", \"SHIPMT_DIST_GC\", \"SHIPMT_DIST_ROUTED\", \"TEMP_CNTL_YN\", \"EXPORT_YN\", \"EXPORT_CNTRY\", \"HAZMAT\", \"WGT_FACTOR\") VALUES (%(SHIPMT_ID)s, %(ORIG_STATE)s, %(ORIG_MA)s, %(ORIG_CFS_AREA)s, %(DEST_STATE)s, %(DEST_MA)s, %(DEST_CFS_AREA)s, %(NAICS)s, %(QUARTER)s, %(SCTG)s, %(MODE)s, %(SHIPMT_VALUE)s, %(SHIPMT_WGHT)s, %(SHIPMT_DIST_GC)s, %(SHIPMT_DIST_ROUTED)s, %(TEMP_CNTL_YN)s, %(EXPORT_YN)s, %(EXPORT_CNTRY)s, %(HAZMAT)s, %(WGT_FACTOR)s)\n"
     ]
    },
    {
     "name": "stdout",
     "output_type": "stream",
     "text": [
      "2015-11-22 17:24:27,939 INFO sqlalchemy.engine.base.Engine ({'EXPORT_YN': 'N', 'ORIG_CFS_AREA': '06-488', 'SHIPMT_DIST_ROUTED': 107, 'EXPORT_CNTRY': 'N', 'SHIPMT_ID': 160001, 'DEST_CFS_AREA': '06-472', 'HAZMAT': 'N', 'ORIG_MA': 488, 'SHIPMT_WGHT': 116, 'SHIPMT_VALUE': 116, 'TEMP_CNTL_YN': 'N', 'WGT_FACTOR': 185.1, 'ORIG_STATE': 6, 'MODE': 4, 'QUARTER': 4, 'SCTG': '33', 'NAICS': 332, 'SHIPMT_DIST_GC': 76, 'DEST_STATE': 6, 'DEST_MA': 472}, {'EXPORT_YN': 'N', 'ORIG_CFS_AREA': '04-536', 'SHIPMT_DIST_ROUTED': 3, 'EXPORT_CNTRY': 'N', 'SHIPMT_ID': 160002, 'DEST_CFS_AREA': '04-536', 'HAZMAT': 'N', 'ORIG_MA': 536, 'SHIPMT_WGHT': 100, 'SHIPMT_VALUE': 3303, 'TEMP_CNTL_YN': 'N', 'WGT_FACTOR': 124.5, 'ORIG_STATE': 4, 'MODE': 14, 'QUARTER': 3, 'SCTG': '29', 'NAICS': 323, 'SHIPMT_DIST_GC': 2, 'DEST_STATE': 4, 'DEST_MA': 536}, {'EXPORT_YN': 'N', 'ORIG_CFS_AREA': '25-148', 'SHIPMT_DIST_ROUTED': 1977, 'EXPORT_CNTRY': 'N', 'SHIPMT_ID': 160003, 'DEST_CFS_AREA': '48-12420', 'HAZMAT': 'N', 'ORIG_MA': 148, 'SHIPMT_WGHT': 219, 'SHIPMT_VALUE': 4879, 'TEMP_CNTL_YN': 'N', 'WGT_FACTOR': 132.2, 'ORIG_STATE': 25, 'MODE': 4, 'QUARTER': 1, 'SCTG': '35', 'NAICS': 334, 'SHIPMT_DIST_GC': 1694, 'DEST_STATE': 48, 'DEST_MA': 12420}, {'EXPORT_YN': 'N', 'ORIG_CFS_AREA': '55-376', 'SHIPMT_DIST_ROUTED': 92, 'EXPORT_CNTRY': 'N', 'SHIPMT_ID': 160004, 'DEST_CFS_AREA': '17-176', 'HAZMAT': 'N', 'ORIG_MA': 376, 'SHIPMT_WGHT': 1460, 'SHIPMT_VALUE': 3244, 'TEMP_CNTL_YN': 'N', 'WGT_FACTOR': 149.4, 'ORIG_STATE': 55, 'MODE': 5, 'QUARTER': 4, 'SCTG': '32', 'NAICS': 4235, 'SHIPMT_DIST_GC': 69, 'DEST_STATE': 17, 'DEST_MA': 176}, {'EXPORT_YN': 'N', 'ORIG_CFS_AREA': '41-440', 'SHIPMT_DIST_ROUTED': 1252, 'EXPORT_CNTRY': 'N', 'SHIPMT_ID': 160005, 'DEST_CFS_AREA': '08-216', 'HAZMAT': 'N', 'ORIG_MA': 440, 'SHIPMT_WGHT': 7081, 'SHIPMT_VALUE': 92712, 'TEMP_CNTL_YN': 'N', 'WGT_FACTOR': 250.6, 'ORIG_STATE': 41, 'MODE': 4, 'QUARTER': 1, 'SCTG': '28', 'NAICS': 4931, 'SHIPMT_DIST_GC': 985, 'DEST_STATE': 8, 'DEST_MA': 216}, {'EXPORT_YN': 'N', 'ORIG_CFS_AREA': '06-348', 'SHIPMT_DIST_ROUTED': 116, 'EXPORT_CNTRY': 'N', 'SHIPMT_ID': 160006, 'DEST_CFS_AREA': '06-41740', 'HAZMAT': 'N', 'ORIG_MA': 348, 'SHIPMT_WGHT': 601, 'SHIPMT_VALUE': 9618, 'TEMP_CNTL_YN': 'N', 'WGT_FACTOR': 467.0, 'ORIG_STATE': 6, 'MODE': 4, 'QUARTER': 1, 'SCTG': '07', 'NAICS': 311, 'SHIPMT_DIST_GC': 101, 'DEST_STATE': 6, 'DEST_MA': 41740}, {'EXPORT_YN': 'N', 'ORIG_CFS_AREA': '34-408', 'SHIPMT_DIST_ROUTED': 2867, 'EXPORT_CNTRY': 'N', 'SHIPMT_ID': 160007, 'DEST_CFS_AREA': '53-500', 'HAZMAT': 'N', 'ORIG_MA': 408, 'SHIPMT_WGHT': 12848, 'SHIPMT_VALUE': 100031, 'TEMP_CNTL_YN': 'Y', 'WGT_FACTOR': 13.6, 'ORIG_STATE': 34, 'MODE': 4, 'QUARTER': 2, 'SCTG': '32', 'NAICS': 4931, 'SHIPMT_DIST_GC': 2387, 'DEST_STATE': 53, 'DEST_MA': 500}, {'EXPORT_YN': 'N', 'ORIG_CFS_AREA': '47-400', 'SHIPMT_DIST_ROUTED': 932, 'EXPORT_CNTRY': 'N', 'SHIPMT_ID': 160008, 'DEST_CFS_AREA': '42-99999', 'HAZMAT': 'N', 'ORIG_MA': 400, 'SHIPMT_WGHT': 5268, 'SHIPMT_VALUE': 12886, 'TEMP_CNTL_YN': 'N', 'WGT_FACTOR': 249.0, 'ORIG_STATE': 47, 'MODE': 4, 'QUARTER': 1, 'SCTG': '33', 'NAICS': 339, 'SHIPMT_DIST_GC': 780, 'DEST_STATE': 42, 'DEST_MA': 99999}  ... displaying 10 of 10000 total bound parameter sets ...  {'EXPORT_YN': 'N', 'ORIG_CFS_AREA': '06-488', 'SHIPMT_DIST_ROUTED': 32, 'EXPORT_CNTRY': 'N', 'SHIPMT_ID': 169999, 'DEST_CFS_AREA': '06-488', 'HAZMAT': 'H', 'ORIG_MA': 488, 'SHIPMT_WGHT': 52609, 'SHIPMT_VALUE': 124, 'TEMP_CNTL_YN': 'N', 'WGT_FACTOR': 485.9, 'ORIG_STATE': 6, 'MODE': 5, 'QUARTER': 1, 'SCTG': '19', 'NAICS': 324, 'SHIPMT_DIST_GC': 25, 'DEST_STATE': 6, 'DEST_MA': 488}, {'EXPORT_YN': 'N', 'ORIG_CFS_AREA': '17-176', 'SHIPMT_DIST_ROUTED': 15, 'EXPORT_CNTRY': 'N', 'SHIPMT_ID': 170000, 'DEST_CFS_AREA': '17-176', 'HAZMAT': 'N', 'ORIG_MA': 176, 'SHIPMT_WGHT': 17, 'SHIPMT_VALUE': 722, 'TEMP_CNTL_YN': 'N', 'WGT_FACTOR': 3085.6, 'ORIG_STATE': 17, 'MODE': 5, 'QUARTER': 3, 'SCTG': '35', 'NAICS': 4236, 'SHIPMT_DIST_GC': 12, 'DEST_STATE': 17, 'DEST_MA': 176})\n"
     ]
    },
    {
     "name": "stderr",
     "output_type": "stream",
     "text": [
      "INFO:sqlalchemy.engine.base.Engine:({'EXPORT_YN': 'N', 'ORIG_CFS_AREA': '06-488', 'SHIPMT_DIST_ROUTED': 107, 'EXPORT_CNTRY': 'N', 'SHIPMT_ID': 160001, 'DEST_CFS_AREA': '06-472', 'HAZMAT': 'N', 'ORIG_MA': 488, 'SHIPMT_WGHT': 116, 'SHIPMT_VALUE': 116, 'TEMP_CNTL_YN': 'N', 'WGT_FACTOR': 185.1, 'ORIG_STATE': 6, 'MODE': 4, 'QUARTER': 4, 'SCTG': '33', 'NAICS': 332, 'SHIPMT_DIST_GC': 76, 'DEST_STATE': 6, 'DEST_MA': 472}, {'EXPORT_YN': 'N', 'ORIG_CFS_AREA': '04-536', 'SHIPMT_DIST_ROUTED': 3, 'EXPORT_CNTRY': 'N', 'SHIPMT_ID': 160002, 'DEST_CFS_AREA': '04-536', 'HAZMAT': 'N', 'ORIG_MA': 536, 'SHIPMT_WGHT': 100, 'SHIPMT_VALUE': 3303, 'TEMP_CNTL_YN': 'N', 'WGT_FACTOR': 124.5, 'ORIG_STATE': 4, 'MODE': 14, 'QUARTER': 3, 'SCTG': '29', 'NAICS': 323, 'SHIPMT_DIST_GC': 2, 'DEST_STATE': 4, 'DEST_MA': 536}, {'EXPORT_YN': 'N', 'ORIG_CFS_AREA': '25-148', 'SHIPMT_DIST_ROUTED': 1977, 'EXPORT_CNTRY': 'N', 'SHIPMT_ID': 160003, 'DEST_CFS_AREA': '48-12420', 'HAZMAT': 'N', 'ORIG_MA': 148, 'SHIPMT_WGHT': 219, 'SHIPMT_VALUE': 4879, 'TEMP_CNTL_YN': 'N', 'WGT_FACTOR': 132.2, 'ORIG_STATE': 25, 'MODE': 4, 'QUARTER': 1, 'SCTG': '35', 'NAICS': 334, 'SHIPMT_DIST_GC': 1694, 'DEST_STATE': 48, 'DEST_MA': 12420}, {'EXPORT_YN': 'N', 'ORIG_CFS_AREA': '55-376', 'SHIPMT_DIST_ROUTED': 92, 'EXPORT_CNTRY': 'N', 'SHIPMT_ID': 160004, 'DEST_CFS_AREA': '17-176', 'HAZMAT': 'N', 'ORIG_MA': 376, 'SHIPMT_WGHT': 1460, 'SHIPMT_VALUE': 3244, 'TEMP_CNTL_YN': 'N', 'WGT_FACTOR': 149.4, 'ORIG_STATE': 55, 'MODE': 5, 'QUARTER': 4, 'SCTG': '32', 'NAICS': 4235, 'SHIPMT_DIST_GC': 69, 'DEST_STATE': 17, 'DEST_MA': 176}, {'EXPORT_YN': 'N', 'ORIG_CFS_AREA': '41-440', 'SHIPMT_DIST_ROUTED': 1252, 'EXPORT_CNTRY': 'N', 'SHIPMT_ID': 160005, 'DEST_CFS_AREA': '08-216', 'HAZMAT': 'N', 'ORIG_MA': 440, 'SHIPMT_WGHT': 7081, 'SHIPMT_VALUE': 92712, 'TEMP_CNTL_YN': 'N', 'WGT_FACTOR': 250.6, 'ORIG_STATE': 41, 'MODE': 4, 'QUARTER': 1, 'SCTG': '28', 'NAICS': 4931, 'SHIPMT_DIST_GC': 985, 'DEST_STATE': 8, 'DEST_MA': 216}, {'EXPORT_YN': 'N', 'ORIG_CFS_AREA': '06-348', 'SHIPMT_DIST_ROUTED': 116, 'EXPORT_CNTRY': 'N', 'SHIPMT_ID': 160006, 'DEST_CFS_AREA': '06-41740', 'HAZMAT': 'N', 'ORIG_MA': 348, 'SHIPMT_WGHT': 601, 'SHIPMT_VALUE': 9618, 'TEMP_CNTL_YN': 'N', 'WGT_FACTOR': 467.0, 'ORIG_STATE': 6, 'MODE': 4, 'QUARTER': 1, 'SCTG': '07', 'NAICS': 311, 'SHIPMT_DIST_GC': 101, 'DEST_STATE': 6, 'DEST_MA': 41740}, {'EXPORT_YN': 'N', 'ORIG_CFS_AREA': '34-408', 'SHIPMT_DIST_ROUTED': 2867, 'EXPORT_CNTRY': 'N', 'SHIPMT_ID': 160007, 'DEST_CFS_AREA': '53-500', 'HAZMAT': 'N', 'ORIG_MA': 408, 'SHIPMT_WGHT': 12848, 'SHIPMT_VALUE': 100031, 'TEMP_CNTL_YN': 'Y', 'WGT_FACTOR': 13.6, 'ORIG_STATE': 34, 'MODE': 4, 'QUARTER': 2, 'SCTG': '32', 'NAICS': 4931, 'SHIPMT_DIST_GC': 2387, 'DEST_STATE': 53, 'DEST_MA': 500}, {'EXPORT_YN': 'N', 'ORIG_CFS_AREA': '47-400', 'SHIPMT_DIST_ROUTED': 932, 'EXPORT_CNTRY': 'N', 'SHIPMT_ID': 160008, 'DEST_CFS_AREA': '42-99999', 'HAZMAT': 'N', 'ORIG_MA': 400, 'SHIPMT_WGHT': 5268, 'SHIPMT_VALUE': 12886, 'TEMP_CNTL_YN': 'N', 'WGT_FACTOR': 249.0, 'ORIG_STATE': 47, 'MODE': 4, 'QUARTER': 1, 'SCTG': '33', 'NAICS': 339, 'SHIPMT_DIST_GC': 780, 'DEST_STATE': 42, 'DEST_MA': 99999}  ... displaying 10 of 10000 total bound parameter sets ...  {'EXPORT_YN': 'N', 'ORIG_CFS_AREA': '06-488', 'SHIPMT_DIST_ROUTED': 32, 'EXPORT_CNTRY': 'N', 'SHIPMT_ID': 169999, 'DEST_CFS_AREA': '06-488', 'HAZMAT': 'H', 'ORIG_MA': 488, 'SHIPMT_WGHT': 52609, 'SHIPMT_VALUE': 124, 'TEMP_CNTL_YN': 'N', 'WGT_FACTOR': 485.9, 'ORIG_STATE': 6, 'MODE': 5, 'QUARTER': 1, 'SCTG': '19', 'NAICS': 324, 'SHIPMT_DIST_GC': 25, 'DEST_STATE': 6, 'DEST_MA': 488}, {'EXPORT_YN': 'N', 'ORIG_CFS_AREA': '17-176', 'SHIPMT_DIST_ROUTED': 15, 'EXPORT_CNTRY': 'N', 'SHIPMT_ID': 170000, 'DEST_CFS_AREA': '17-176', 'HAZMAT': 'N', 'ORIG_MA': 176, 'SHIPMT_WGHT': 17, 'SHIPMT_VALUE': 722, 'TEMP_CNTL_YN': 'N', 'WGT_FACTOR': 3085.6, 'ORIG_STATE': 17, 'MODE': 5, 'QUARTER': 3, 'SCTG': '35', 'NAICS': 4236, 'SHIPMT_DIST_GC': 12, 'DEST_STATE': 17, 'DEST_MA': 176})\n"
     ]
    },
    {
     "name": "stdout",
     "output_type": "stream",
     "text": [
      "2015-11-22 17:28:40,695 INFO sqlalchemy.engine.base.Engine INSERT INTO transactions (\"SHIPMT_ID\", \"ORIG_STATE\", \"ORIG_MA\", \"ORIG_CFS_AREA\", \"DEST_STATE\", \"DEST_MA\", \"DEST_CFS_AREA\", \"NAICS\", \"QUARTER\", \"SCTG\", \"MODE\", \"SHIPMT_VALUE\", \"SHIPMT_WGHT\", \"SHIPMT_DIST_GC\", \"SHIPMT_DIST_ROUTED\", \"TEMP_CNTL_YN\", \"EXPORT_YN\", \"EXPORT_CNTRY\", \"HAZMAT\", \"WGT_FACTOR\") VALUES (%(SHIPMT_ID)s, %(ORIG_STATE)s, %(ORIG_MA)s, %(ORIG_CFS_AREA)s, %(DEST_STATE)s, %(DEST_MA)s, %(DEST_CFS_AREA)s, %(NAICS)s, %(QUARTER)s, %(SCTG)s, %(MODE)s, %(SHIPMT_VALUE)s, %(SHIPMT_WGHT)s, %(SHIPMT_DIST_GC)s, %(SHIPMT_DIST_ROUTED)s, %(TEMP_CNTL_YN)s, %(EXPORT_YN)s, %(EXPORT_CNTRY)s, %(HAZMAT)s, %(WGT_FACTOR)s)\n"
     ]
    },
    {
     "name": "stderr",
     "output_type": "stream",
     "text": [
      "INFO:sqlalchemy.engine.base.Engine:INSERT INTO transactions (\"SHIPMT_ID\", \"ORIG_STATE\", \"ORIG_MA\", \"ORIG_CFS_AREA\", \"DEST_STATE\", \"DEST_MA\", \"DEST_CFS_AREA\", \"NAICS\", \"QUARTER\", \"SCTG\", \"MODE\", \"SHIPMT_VALUE\", \"SHIPMT_WGHT\", \"SHIPMT_DIST_GC\", \"SHIPMT_DIST_ROUTED\", \"TEMP_CNTL_YN\", \"EXPORT_YN\", \"EXPORT_CNTRY\", \"HAZMAT\", \"WGT_FACTOR\") VALUES (%(SHIPMT_ID)s, %(ORIG_STATE)s, %(ORIG_MA)s, %(ORIG_CFS_AREA)s, %(DEST_STATE)s, %(DEST_MA)s, %(DEST_CFS_AREA)s, %(NAICS)s, %(QUARTER)s, %(SCTG)s, %(MODE)s, %(SHIPMT_VALUE)s, %(SHIPMT_WGHT)s, %(SHIPMT_DIST_GC)s, %(SHIPMT_DIST_ROUTED)s, %(TEMP_CNTL_YN)s, %(EXPORT_YN)s, %(EXPORT_CNTRY)s, %(HAZMAT)s, %(WGT_FACTOR)s)\n"
     ]
    },
    {
     "name": "stdout",
     "output_type": "stream",
     "text": [
      "2015-11-22 17:28:40,696 INFO sqlalchemy.engine.base.Engine ({'SHIPMT_DIST_GC': 199, 'SHIPMT_DIST_ROUTED': 260, 'ORIG_CFS_AREA': '36-408', 'EXPORT_YN': 'N', 'EXPORT_CNTRY': 'N', 'WGT_FACTOR': 3781.2, 'SHIPMT_ID': 170001, 'DEST_CFS_AREA': '33-148', 'HAZMAT': 'N', 'ORIG_MA': 408, 'SHIPMT_VALUE': 216, 'TEMP_CNTL_YN': 'N', 'SHIPMT_WGHT': 14, 'QUARTER': 4, 'MODE': 14, 'SCTG': '21', 'NAICS': 4234, 'ORIG_STATE': 36, 'DEST_STATE': 33, 'DEST_MA': 148}, {'SHIPMT_DIST_GC': 436, 'SHIPMT_DIST_ROUTED': 644, 'ORIG_CFS_AREA': '51-99999', 'EXPORT_YN': 'N', 'EXPORT_CNTRY': 'N', 'WGT_FACTOR': 148.9, 'SHIPMT_ID': 170002, 'DEST_CFS_AREA': '18-258', 'HAZMAT': 'N', 'ORIG_MA': 99999, 'SHIPMT_VALUE': 1723, 'TEMP_CNTL_YN': 'N', 'SHIPMT_WGHT': 95, 'QUARTER': 1, 'MODE': 4, 'SCTG': '24', 'NAICS': 326, 'ORIG_STATE': 51, 'DEST_STATE': 18, 'DEST_MA': 258}, {'SHIPMT_DIST_GC': 13, 'SHIPMT_DIST_ROUTED': 16, 'ORIG_CFS_AREA': '51-40060', 'EXPORT_YN': 'N', 'EXPORT_CNTRY': 'N', 'WGT_FACTOR': 410.4, 'SHIPMT_ID': 170003, 'DEST_CFS_AREA': '51-40060', 'HAZMAT': 'H', 'ORIG_MA': 40060, 'SHIPMT_VALUE': 15, 'TEMP_CNTL_YN': 'N', 'SHIPMT_WGHT': 55, 'QUARTER': 3, 'MODE': 5, 'SCTG': '19', 'NAICS': 45431, 'ORIG_STATE': 51, 'DEST_STATE': 51, 'DEST_MA': 40060}, {'SHIPMT_DIST_GC': 385, 'SHIPMT_DIST_ROUTED': 539, 'ORIG_CFS_AREA': '49-99999', 'EXPORT_YN': 'N', 'EXPORT_CNTRY': 'N', 'WGT_FACTOR': 47.5, 'SHIPMT_ID': 170004, 'DEST_CFS_AREA': '08-216', 'HAZMAT': 'N', 'ORIG_MA': 99999, 'SHIPMT_VALUE': 17419, 'TEMP_CNTL_YN': 'N', 'SHIPMT_WGHT': 2181, 'QUARTER': 3, 'MODE': 4, 'SCTG': '39', 'NAICS': 337, 'ORIG_STATE': 49, 'DEST_STATE': 8, 'DEST_MA': 216}, {'SHIPMT_DIST_GC': 70, 'SHIPMT_DIST_ROUTED': 83, 'ORIG_CFS_AREA': '17-176', 'EXPORT_YN': 'N', 'EXPORT_CNTRY': 'N', 'WGT_FACTOR': 614.2, 'SHIPMT_ID': 170005, 'DEST_CFS_AREA': '18-176', 'HAZMAT': 'N', 'ORIG_MA': 176, 'SHIPMT_VALUE': 171, 'TEMP_CNTL_YN': 'N', 'SHIPMT_WGHT': 70, 'QUARTER': 3, 'MODE': 5, 'SCTG': '26', 'NAICS': 4233, 'ORIG_STATE': 17, 'DEST_STATE': 18, 'DEST_MA': 176}, {'SHIPMT_DIST_GC': 3, 'SHIPMT_DIST_ROUTED': 3, 'ORIG_CFS_AREA': '46-99999', 'EXPORT_YN': 'N', 'EXPORT_CNTRY': 'N', 'WGT_FACTOR': 230.0, 'SHIPMT_ID': 170006, 'DEST_CFS_AREA': '46-99999', 'HAZMAT': 'N', 'ORIG_MA': 99999, 'SHIPMT_VALUE': 9, 'TEMP_CNTL_YN': 'N', 'SHIPMT_WGHT': 5, 'QUARTER': 2, 'MODE': 5, 'SCTG': '19', 'NAICS': 4246, 'ORIG_STATE': 46, 'DEST_STATE': 46, 'DEST_MA': 99999}, {'SHIPMT_DIST_GC': 3, 'SHIPMT_DIST_ROUTED': 3, 'ORIG_CFS_AREA': '04-536', 'EXPORT_YN': 'N', 'EXPORT_CNTRY': 'N', 'WGT_FACTOR': 981.3, 'SHIPMT_ID': 170007, 'DEST_CFS_AREA': '04-536', 'HAZMAT': 'N', 'ORIG_MA': 536, 'SHIPMT_VALUE': 29, 'TEMP_CNTL_YN': 'N', 'SHIPMT_WGHT': 2, 'QUARTER': 3, 'MODE': 4, 'SCTG': '35', 'NAICS': 4236, 'ORIG_STATE': 4, 'DEST_STATE': 4, 'DEST_MA': 536}, {'SHIPMT_DIST_GC': 146, 'SHIPMT_DIST_ROUTED': 162, 'ORIG_CFS_AREA': '20-312', 'EXPORT_YN': 'N', 'EXPORT_CNTRY': 'N', 'WGT_FACTOR': 5457.9, 'SHIPMT_ID': 170008, 'DEST_CFS_AREA': '20-99999', 'HAZMAT': 'N', 'ORIG_MA': 312, 'SHIPMT_VALUE': 77, 'TEMP_CNTL_YN': 'N', 'SHIPMT_WGHT': 3, 'QUARTER': 1, 'MODE': 14, 'SCTG': '36', 'NAICS': 4231, 'ORIG_STATE': 20, 'DEST_STATE': 20, 'DEST_MA': 99999}  ... displaying 10 of 10000 total bound parameter sets ...  {'SHIPMT_DIST_GC': 40, 'SHIPMT_DIST_ROUTED': 46, 'ORIG_CFS_AREA': '06-348', 'EXPORT_YN': 'N', 'EXPORT_CNTRY': 'N', 'WGT_FACTOR': 1425.6, 'SHIPMT_ID': 179999, 'DEST_CFS_AREA': '06-348', 'HAZMAT': 'N', 'ORIG_MA': 348, 'SHIPMT_VALUE': 17212, 'TEMP_CNTL_YN': 'N', 'SHIPMT_WGHT': 26354, 'QUARTER': 1, 'MODE': 5, 'SCTG': '43', 'NAICS': 551114, 'ORIG_STATE': 6, 'DEST_STATE': 6, 'DEST_MA': 348}, {'SHIPMT_DIST_GC': 536, 'SHIPMT_DIST_ROUTED': 639, 'ORIG_CFS_AREA': '45-99999', 'EXPORT_YN': 'N', 'EXPORT_CNTRY': 'N', 'WGT_FACTOR': 1108.4, 'SHIPMT_ID': 180000, 'DEST_CFS_AREA': '39-184', 'HAZMAT': 'N', 'ORIG_MA': 99999, 'SHIPMT_VALUE': 123, 'TEMP_CNTL_YN': 'N', 'SHIPMT_WGHT': 7, 'QUARTER': 1, 'MODE': 14, 'SCTG': '24', 'NAICS': 326, 'ORIG_STATE': 45, 'DEST_STATE': 39, 'DEST_MA': 184})\n"
     ]
    },
    {
     "name": "stderr",
     "output_type": "stream",
     "text": [
      "INFO:sqlalchemy.engine.base.Engine:({'SHIPMT_DIST_GC': 199, 'SHIPMT_DIST_ROUTED': 260, 'ORIG_CFS_AREA': '36-408', 'EXPORT_YN': 'N', 'EXPORT_CNTRY': 'N', 'WGT_FACTOR': 3781.2, 'SHIPMT_ID': 170001, 'DEST_CFS_AREA': '33-148', 'HAZMAT': 'N', 'ORIG_MA': 408, 'SHIPMT_VALUE': 216, 'TEMP_CNTL_YN': 'N', 'SHIPMT_WGHT': 14, 'QUARTER': 4, 'MODE': 14, 'SCTG': '21', 'NAICS': 4234, 'ORIG_STATE': 36, 'DEST_STATE': 33, 'DEST_MA': 148}, {'SHIPMT_DIST_GC': 436, 'SHIPMT_DIST_ROUTED': 644, 'ORIG_CFS_AREA': '51-99999', 'EXPORT_YN': 'N', 'EXPORT_CNTRY': 'N', 'WGT_FACTOR': 148.9, 'SHIPMT_ID': 170002, 'DEST_CFS_AREA': '18-258', 'HAZMAT': 'N', 'ORIG_MA': 99999, 'SHIPMT_VALUE': 1723, 'TEMP_CNTL_YN': 'N', 'SHIPMT_WGHT': 95, 'QUARTER': 1, 'MODE': 4, 'SCTG': '24', 'NAICS': 326, 'ORIG_STATE': 51, 'DEST_STATE': 18, 'DEST_MA': 258}, {'SHIPMT_DIST_GC': 13, 'SHIPMT_DIST_ROUTED': 16, 'ORIG_CFS_AREA': '51-40060', 'EXPORT_YN': 'N', 'EXPORT_CNTRY': 'N', 'WGT_FACTOR': 410.4, 'SHIPMT_ID': 170003, 'DEST_CFS_AREA': '51-40060', 'HAZMAT': 'H', 'ORIG_MA': 40060, 'SHIPMT_VALUE': 15, 'TEMP_CNTL_YN': 'N', 'SHIPMT_WGHT': 55, 'QUARTER': 3, 'MODE': 5, 'SCTG': '19', 'NAICS': 45431, 'ORIG_STATE': 51, 'DEST_STATE': 51, 'DEST_MA': 40060}, {'SHIPMT_DIST_GC': 385, 'SHIPMT_DIST_ROUTED': 539, 'ORIG_CFS_AREA': '49-99999', 'EXPORT_YN': 'N', 'EXPORT_CNTRY': 'N', 'WGT_FACTOR': 47.5, 'SHIPMT_ID': 170004, 'DEST_CFS_AREA': '08-216', 'HAZMAT': 'N', 'ORIG_MA': 99999, 'SHIPMT_VALUE': 17419, 'TEMP_CNTL_YN': 'N', 'SHIPMT_WGHT': 2181, 'QUARTER': 3, 'MODE': 4, 'SCTG': '39', 'NAICS': 337, 'ORIG_STATE': 49, 'DEST_STATE': 8, 'DEST_MA': 216}, {'SHIPMT_DIST_GC': 70, 'SHIPMT_DIST_ROUTED': 83, 'ORIG_CFS_AREA': '17-176', 'EXPORT_YN': 'N', 'EXPORT_CNTRY': 'N', 'WGT_FACTOR': 614.2, 'SHIPMT_ID': 170005, 'DEST_CFS_AREA': '18-176', 'HAZMAT': 'N', 'ORIG_MA': 176, 'SHIPMT_VALUE': 171, 'TEMP_CNTL_YN': 'N', 'SHIPMT_WGHT': 70, 'QUARTER': 3, 'MODE': 5, 'SCTG': '26', 'NAICS': 4233, 'ORIG_STATE': 17, 'DEST_STATE': 18, 'DEST_MA': 176}, {'SHIPMT_DIST_GC': 3, 'SHIPMT_DIST_ROUTED': 3, 'ORIG_CFS_AREA': '46-99999', 'EXPORT_YN': 'N', 'EXPORT_CNTRY': 'N', 'WGT_FACTOR': 230.0, 'SHIPMT_ID': 170006, 'DEST_CFS_AREA': '46-99999', 'HAZMAT': 'N', 'ORIG_MA': 99999, 'SHIPMT_VALUE': 9, 'TEMP_CNTL_YN': 'N', 'SHIPMT_WGHT': 5, 'QUARTER': 2, 'MODE': 5, 'SCTG': '19', 'NAICS': 4246, 'ORIG_STATE': 46, 'DEST_STATE': 46, 'DEST_MA': 99999}, {'SHIPMT_DIST_GC': 3, 'SHIPMT_DIST_ROUTED': 3, 'ORIG_CFS_AREA': '04-536', 'EXPORT_YN': 'N', 'EXPORT_CNTRY': 'N', 'WGT_FACTOR': 981.3, 'SHIPMT_ID': 170007, 'DEST_CFS_AREA': '04-536', 'HAZMAT': 'N', 'ORIG_MA': 536, 'SHIPMT_VALUE': 29, 'TEMP_CNTL_YN': 'N', 'SHIPMT_WGHT': 2, 'QUARTER': 3, 'MODE': 4, 'SCTG': '35', 'NAICS': 4236, 'ORIG_STATE': 4, 'DEST_STATE': 4, 'DEST_MA': 536}, {'SHIPMT_DIST_GC': 146, 'SHIPMT_DIST_ROUTED': 162, 'ORIG_CFS_AREA': '20-312', 'EXPORT_YN': 'N', 'EXPORT_CNTRY': 'N', 'WGT_FACTOR': 5457.9, 'SHIPMT_ID': 170008, 'DEST_CFS_AREA': '20-99999', 'HAZMAT': 'N', 'ORIG_MA': 312, 'SHIPMT_VALUE': 77, 'TEMP_CNTL_YN': 'N', 'SHIPMT_WGHT': 3, 'QUARTER': 1, 'MODE': 14, 'SCTG': '36', 'NAICS': 4231, 'ORIG_STATE': 20, 'DEST_STATE': 20, 'DEST_MA': 99999}  ... displaying 10 of 10000 total bound parameter sets ...  {'SHIPMT_DIST_GC': 40, 'SHIPMT_DIST_ROUTED': 46, 'ORIG_CFS_AREA': '06-348', 'EXPORT_YN': 'N', 'EXPORT_CNTRY': 'N', 'WGT_FACTOR': 1425.6, 'SHIPMT_ID': 179999, 'DEST_CFS_AREA': '06-348', 'HAZMAT': 'N', 'ORIG_MA': 348, 'SHIPMT_VALUE': 17212, 'TEMP_CNTL_YN': 'N', 'SHIPMT_WGHT': 26354, 'QUARTER': 1, 'MODE': 5, 'SCTG': '43', 'NAICS': 551114, 'ORIG_STATE': 6, 'DEST_STATE': 6, 'DEST_MA': 348}, {'SHIPMT_DIST_GC': 536, 'SHIPMT_DIST_ROUTED': 639, 'ORIG_CFS_AREA': '45-99999', 'EXPORT_YN': 'N', 'EXPORT_CNTRY': 'N', 'WGT_FACTOR': 1108.4, 'SHIPMT_ID': 180000, 'DEST_CFS_AREA': '39-184', 'HAZMAT': 'N', 'ORIG_MA': 99999, 'SHIPMT_VALUE': 123, 'TEMP_CNTL_YN': 'N', 'SHIPMT_WGHT': 7, 'QUARTER': 1, 'MODE': 14, 'SCTG': '24', 'NAICS': 326, 'ORIG_STATE': 45, 'DEST_STATE': 39, 'DEST_MA': 184})\n"
     ]
    },
    {
     "name": "stdout",
     "output_type": "stream",
     "text": [
      "2015-11-22 17:32:56,513 INFO sqlalchemy.engine.base.Engine INSERT INTO transactions (\"SHIPMT_ID\", \"ORIG_STATE\", \"ORIG_MA\", \"ORIG_CFS_AREA\", \"DEST_STATE\", \"DEST_MA\", \"DEST_CFS_AREA\", \"NAICS\", \"QUARTER\", \"SCTG\", \"MODE\", \"SHIPMT_VALUE\", \"SHIPMT_WGHT\", \"SHIPMT_DIST_GC\", \"SHIPMT_DIST_ROUTED\", \"TEMP_CNTL_YN\", \"EXPORT_YN\", \"EXPORT_CNTRY\", \"HAZMAT\", \"WGT_FACTOR\") VALUES (%(SHIPMT_ID)s, %(ORIG_STATE)s, %(ORIG_MA)s, %(ORIG_CFS_AREA)s, %(DEST_STATE)s, %(DEST_MA)s, %(DEST_CFS_AREA)s, %(NAICS)s, %(QUARTER)s, %(SCTG)s, %(MODE)s, %(SHIPMT_VALUE)s, %(SHIPMT_WGHT)s, %(SHIPMT_DIST_GC)s, %(SHIPMT_DIST_ROUTED)s, %(TEMP_CNTL_YN)s, %(EXPORT_YN)s, %(EXPORT_CNTRY)s, %(HAZMAT)s, %(WGT_FACTOR)s)\n"
     ]
    },
    {
     "name": "stderr",
     "output_type": "stream",
     "text": [
      "INFO:sqlalchemy.engine.base.Engine:INSERT INTO transactions (\"SHIPMT_ID\", \"ORIG_STATE\", \"ORIG_MA\", \"ORIG_CFS_AREA\", \"DEST_STATE\", \"DEST_MA\", \"DEST_CFS_AREA\", \"NAICS\", \"QUARTER\", \"SCTG\", \"MODE\", \"SHIPMT_VALUE\", \"SHIPMT_WGHT\", \"SHIPMT_DIST_GC\", \"SHIPMT_DIST_ROUTED\", \"TEMP_CNTL_YN\", \"EXPORT_YN\", \"EXPORT_CNTRY\", \"HAZMAT\", \"WGT_FACTOR\") VALUES (%(SHIPMT_ID)s, %(ORIG_STATE)s, %(ORIG_MA)s, %(ORIG_CFS_AREA)s, %(DEST_STATE)s, %(DEST_MA)s, %(DEST_CFS_AREA)s, %(NAICS)s, %(QUARTER)s, %(SCTG)s, %(MODE)s, %(SHIPMT_VALUE)s, %(SHIPMT_WGHT)s, %(SHIPMT_DIST_GC)s, %(SHIPMT_DIST_ROUTED)s, %(TEMP_CNTL_YN)s, %(EXPORT_YN)s, %(EXPORT_CNTRY)s, %(HAZMAT)s, %(WGT_FACTOR)s)\n"
     ]
    },
    {
     "name": "stdout",
     "output_type": "stream",
     "text": [
      "2015-11-22 17:32:56,514 INFO sqlalchemy.engine.base.Engine ({'SHIPMT_DIST_GC': 1096, 'EXPORT_YN': 'N', 'ORIG_CFS_AREA': '17-176', 'SHIPMT_DIST_ROUTED': 1351, 'EXPORT_CNTRY': 'N', 'SHIPMT_ID': 180001, 'SHIPMT_VALUE': 127, 'HAZMAT': 'N', 'ORIG_MA': 176, 'SHIPMT_WGHT': 1, 'DEST_CFS_AREA': '12-370', 'TEMP_CNTL_YN': 'N', 'WGT_FACTOR': 16884.6, 'MODE': 4, 'QUARTER': 1, 'SCTG': '24', 'NAICS': 326, 'ORIG_STATE': 17, 'DEST_STATE': 12, 'DEST_MA': 370}, {'SHIPMT_DIST_GC': 9, 'EXPORT_YN': 'N', 'ORIG_CFS_AREA': '51-47900', 'SHIPMT_DIST_ROUTED': 12, 'EXPORT_CNTRY': 'N', 'SHIPMT_ID': 180002, 'SHIPMT_VALUE': 491, 'HAZMAT': 'N', 'ORIG_MA': 47900, 'SHIPMT_WGHT': 546, 'DEST_CFS_AREA': '51-47900', 'TEMP_CNTL_YN': 'N', 'WGT_FACTOR': 1123.9, 'MODE': 5, 'QUARTER': 4, 'SCTG': '07', 'NAICS': 4244, 'ORIG_STATE': 51, 'DEST_STATE': 51, 'DEST_MA': 47900}, {'SHIPMT_DIST_GC': 21, 'EXPORT_YN': 'N', 'ORIG_CFS_AREA': '17-176', 'SHIPMT_DIST_ROUTED': 30, 'EXPORT_CNTRY': 'N', 'SHIPMT_ID': 180003, 'SHIPMT_VALUE': 18199, 'HAZMAT': 'P', 'ORIG_MA': 176, 'SHIPMT_WGHT': 41858, 'DEST_CFS_AREA': '17-176', 'TEMP_CNTL_YN': 'N', 'WGT_FACTOR': 953.6, 'MODE': 4, 'QUARTER': 1, 'SCTG': '17', 'NAICS': 4247, 'ORIG_STATE': 17, 'DEST_STATE': 17, 'DEST_MA': 176}, {'SHIPMT_DIST_GC': 602, 'EXPORT_YN': 'N', 'ORIG_CFS_AREA': '34-408', 'SHIPMT_DIST_ROUTED': 727, 'EXPORT_CNTRY': 'N', 'SHIPMT_ID': 180004, 'SHIPMT_VALUE': 191, 'HAZMAT': 'N', 'ORIG_MA': 408, 'SHIPMT_WGHT': 11, 'DEST_CFS_AREA': '45-99999', 'TEMP_CNTL_YN': 'N', 'WGT_FACTOR': 4124.7, 'MODE': 14, 'QUARTER': 1, 'SCTG': '30', 'NAICS': 4243, 'ORIG_STATE': 34, 'DEST_STATE': 45, 'DEST_MA': 99999}, {'SHIPMT_DIST_GC': 14, 'EXPORT_YN': 'N', 'ORIG_CFS_AREA': '29-312', 'SHIPMT_DIST_ROUTED': 25, 'EXPORT_CNTRY': 'N', 'SHIPMT_ID': 180005, 'SHIPMT_VALUE': 74, 'HAZMAT': 'N', 'ORIG_MA': 312, 'SHIPMT_WGHT': 82, 'DEST_CFS_AREA': '29-312', 'TEMP_CNTL_YN': 'N', 'WGT_FACTOR': 420.8, 'MODE': 5, 'QUARTER': 2, 'SCTG': '08', 'NAICS': 4248, 'ORIG_STATE': 29, 'DEST_STATE': 29, 'DEST_MA': 312}, {'SHIPMT_DIST_GC': 32, 'EXPORT_YN': 'N', 'ORIG_CFS_AREA': '06-348', 'SHIPMT_DIST_ROUTED': 38, 'EXPORT_CNTRY': 'N', 'SHIPMT_ID': 180006, 'SHIPMT_VALUE': 654, 'HAZMAT': 'N', 'ORIG_MA': 348, 'SHIPMT_WGHT': 1243, 'DEST_CFS_AREA': '06-348', 'TEMP_CNTL_YN': 'Y', 'WGT_FACTOR': 4618.4, 'MODE': 5, 'QUARTER': 3, 'SCTG': '03', 'NAICS': 4244, 'ORIG_STATE': 6, 'DEST_STATE': 6, 'DEST_MA': 348}, {'SHIPMT_DIST_GC': 425, 'EXPORT_YN': 'N', 'ORIG_CFS_AREA': '21-99999', 'SHIPMT_DIST_ROUTED': 515, 'EXPORT_CNTRY': 'N', 'SHIPMT_ID': 180007, 'SHIPMT_VALUE': 29353, 'HAZMAT': 'N', 'ORIG_MA': 99999, 'SHIPMT_WGHT': 48922, 'DEST_CFS_AREA': '37-172', 'TEMP_CNTL_YN': 'Y', 'WGT_FACTOR': 89.3, 'MODE': 4, 'QUARTER': 3, 'SCTG': '23', 'NAICS': 325, 'ORIG_STATE': 21, 'DEST_STATE': 37, 'DEST_MA': 172}, {'SHIPMT_DIST_GC': 9, 'EXPORT_YN': 'N', 'ORIG_CFS_AREA': '32-332', 'SHIPMT_DIST_ROUTED': 11, 'EXPORT_CNTRY': 'N', 'SHIPMT_ID': 180008, 'SHIPMT_VALUE': 861, 'HAZMAT': 'N', 'ORIG_MA': 332, 'SHIPMT_WGHT': 1648, 'DEST_CFS_AREA': '32-332', 'TEMP_CNTL_YN': 'N', 'WGT_FACTOR': 787.8, 'MODE': 5, 'QUARTER': 2, 'SCTG': '08', 'NAICS': 4248, 'ORIG_STATE': 32, 'DEST_STATE': 32, 'DEST_MA': 332}  ... displaying 10 of 10000 total bound parameter sets ...  {'SHIPMT_DIST_GC': 85, 'EXPORT_YN': 'N', 'ORIG_CFS_AREA': '55-376', 'SHIPMT_DIST_ROUTED': 104, 'EXPORT_CNTRY': 'N', 'SHIPMT_ID': 189999, 'SHIPMT_VALUE': 54708, 'HAZMAT': 'N', 'ORIG_MA': 376, 'SHIPMT_WGHT': 34788, 'DEST_CFS_AREA': '17-176', 'TEMP_CNTL_YN': 'N', 'WGT_FACTOR': 129.5, 'MODE': 5, 'QUARTER': 2, 'SCTG': '06', 'NAICS': 311, 'ORIG_STATE': 55, 'DEST_STATE': 17, 'DEST_MA': 176}, {'SHIPMT_DIST_GC': 124, 'EXPORT_YN': 'N', 'ORIG_CFS_AREA': '19-99999', 'SHIPMT_DIST_ROUTED': 150, 'EXPORT_CNTRY': 'N', 'SHIPMT_ID': 190000, 'SHIPMT_VALUE': 71481, 'HAZMAT': 'N', 'ORIG_MA': 99999, 'SHIPMT_WGHT': 12191, 'DEST_CFS_AREA': '19-99999', 'TEMP_CNTL_YN': 'N', 'WGT_FACTOR': 62.4, 'MODE': 4, 'QUARTER': 1, 'SCTG': '33', 'NAICS': 332, 'ORIG_STATE': 19, 'DEST_STATE': 19, 'DEST_MA': 99999})\n"
     ]
    },
    {
     "name": "stderr",
     "output_type": "stream",
     "text": [
      "INFO:sqlalchemy.engine.base.Engine:({'SHIPMT_DIST_GC': 1096, 'EXPORT_YN': 'N', 'ORIG_CFS_AREA': '17-176', 'SHIPMT_DIST_ROUTED': 1351, 'EXPORT_CNTRY': 'N', 'SHIPMT_ID': 180001, 'SHIPMT_VALUE': 127, 'HAZMAT': 'N', 'ORIG_MA': 176, 'SHIPMT_WGHT': 1, 'DEST_CFS_AREA': '12-370', 'TEMP_CNTL_YN': 'N', 'WGT_FACTOR': 16884.6, 'MODE': 4, 'QUARTER': 1, 'SCTG': '24', 'NAICS': 326, 'ORIG_STATE': 17, 'DEST_STATE': 12, 'DEST_MA': 370}, {'SHIPMT_DIST_GC': 9, 'EXPORT_YN': 'N', 'ORIG_CFS_AREA': '51-47900', 'SHIPMT_DIST_ROUTED': 12, 'EXPORT_CNTRY': 'N', 'SHIPMT_ID': 180002, 'SHIPMT_VALUE': 491, 'HAZMAT': 'N', 'ORIG_MA': 47900, 'SHIPMT_WGHT': 546, 'DEST_CFS_AREA': '51-47900', 'TEMP_CNTL_YN': 'N', 'WGT_FACTOR': 1123.9, 'MODE': 5, 'QUARTER': 4, 'SCTG': '07', 'NAICS': 4244, 'ORIG_STATE': 51, 'DEST_STATE': 51, 'DEST_MA': 47900}, {'SHIPMT_DIST_GC': 21, 'EXPORT_YN': 'N', 'ORIG_CFS_AREA': '17-176', 'SHIPMT_DIST_ROUTED': 30, 'EXPORT_CNTRY': 'N', 'SHIPMT_ID': 180003, 'SHIPMT_VALUE': 18199, 'HAZMAT': 'P', 'ORIG_MA': 176, 'SHIPMT_WGHT': 41858, 'DEST_CFS_AREA': '17-176', 'TEMP_CNTL_YN': 'N', 'WGT_FACTOR': 953.6, 'MODE': 4, 'QUARTER': 1, 'SCTG': '17', 'NAICS': 4247, 'ORIG_STATE': 17, 'DEST_STATE': 17, 'DEST_MA': 176}, {'SHIPMT_DIST_GC': 602, 'EXPORT_YN': 'N', 'ORIG_CFS_AREA': '34-408', 'SHIPMT_DIST_ROUTED': 727, 'EXPORT_CNTRY': 'N', 'SHIPMT_ID': 180004, 'SHIPMT_VALUE': 191, 'HAZMAT': 'N', 'ORIG_MA': 408, 'SHIPMT_WGHT': 11, 'DEST_CFS_AREA': '45-99999', 'TEMP_CNTL_YN': 'N', 'WGT_FACTOR': 4124.7, 'MODE': 14, 'QUARTER': 1, 'SCTG': '30', 'NAICS': 4243, 'ORIG_STATE': 34, 'DEST_STATE': 45, 'DEST_MA': 99999}, {'SHIPMT_DIST_GC': 14, 'EXPORT_YN': 'N', 'ORIG_CFS_AREA': '29-312', 'SHIPMT_DIST_ROUTED': 25, 'EXPORT_CNTRY': 'N', 'SHIPMT_ID': 180005, 'SHIPMT_VALUE': 74, 'HAZMAT': 'N', 'ORIG_MA': 312, 'SHIPMT_WGHT': 82, 'DEST_CFS_AREA': '29-312', 'TEMP_CNTL_YN': 'N', 'WGT_FACTOR': 420.8, 'MODE': 5, 'QUARTER': 2, 'SCTG': '08', 'NAICS': 4248, 'ORIG_STATE': 29, 'DEST_STATE': 29, 'DEST_MA': 312}, {'SHIPMT_DIST_GC': 32, 'EXPORT_YN': 'N', 'ORIG_CFS_AREA': '06-348', 'SHIPMT_DIST_ROUTED': 38, 'EXPORT_CNTRY': 'N', 'SHIPMT_ID': 180006, 'SHIPMT_VALUE': 654, 'HAZMAT': 'N', 'ORIG_MA': 348, 'SHIPMT_WGHT': 1243, 'DEST_CFS_AREA': '06-348', 'TEMP_CNTL_YN': 'Y', 'WGT_FACTOR': 4618.4, 'MODE': 5, 'QUARTER': 3, 'SCTG': '03', 'NAICS': 4244, 'ORIG_STATE': 6, 'DEST_STATE': 6, 'DEST_MA': 348}, {'SHIPMT_DIST_GC': 425, 'EXPORT_YN': 'N', 'ORIG_CFS_AREA': '21-99999', 'SHIPMT_DIST_ROUTED': 515, 'EXPORT_CNTRY': 'N', 'SHIPMT_ID': 180007, 'SHIPMT_VALUE': 29353, 'HAZMAT': 'N', 'ORIG_MA': 99999, 'SHIPMT_WGHT': 48922, 'DEST_CFS_AREA': '37-172', 'TEMP_CNTL_YN': 'Y', 'WGT_FACTOR': 89.3, 'MODE': 4, 'QUARTER': 3, 'SCTG': '23', 'NAICS': 325, 'ORIG_STATE': 21, 'DEST_STATE': 37, 'DEST_MA': 172}, {'SHIPMT_DIST_GC': 9, 'EXPORT_YN': 'N', 'ORIG_CFS_AREA': '32-332', 'SHIPMT_DIST_ROUTED': 11, 'EXPORT_CNTRY': 'N', 'SHIPMT_ID': 180008, 'SHIPMT_VALUE': 861, 'HAZMAT': 'N', 'ORIG_MA': 332, 'SHIPMT_WGHT': 1648, 'DEST_CFS_AREA': '32-332', 'TEMP_CNTL_YN': 'N', 'WGT_FACTOR': 787.8, 'MODE': 5, 'QUARTER': 2, 'SCTG': '08', 'NAICS': 4248, 'ORIG_STATE': 32, 'DEST_STATE': 32, 'DEST_MA': 332}  ... displaying 10 of 10000 total bound parameter sets ...  {'SHIPMT_DIST_GC': 85, 'EXPORT_YN': 'N', 'ORIG_CFS_AREA': '55-376', 'SHIPMT_DIST_ROUTED': 104, 'EXPORT_CNTRY': 'N', 'SHIPMT_ID': 189999, 'SHIPMT_VALUE': 54708, 'HAZMAT': 'N', 'ORIG_MA': 376, 'SHIPMT_WGHT': 34788, 'DEST_CFS_AREA': '17-176', 'TEMP_CNTL_YN': 'N', 'WGT_FACTOR': 129.5, 'MODE': 5, 'QUARTER': 2, 'SCTG': '06', 'NAICS': 311, 'ORIG_STATE': 55, 'DEST_STATE': 17, 'DEST_MA': 176}, {'SHIPMT_DIST_GC': 124, 'EXPORT_YN': 'N', 'ORIG_CFS_AREA': '19-99999', 'SHIPMT_DIST_ROUTED': 150, 'EXPORT_CNTRY': 'N', 'SHIPMT_ID': 190000, 'SHIPMT_VALUE': 71481, 'HAZMAT': 'N', 'ORIG_MA': 99999, 'SHIPMT_WGHT': 12191, 'DEST_CFS_AREA': '19-99999', 'TEMP_CNTL_YN': 'N', 'WGT_FACTOR': 62.4, 'MODE': 4, 'QUARTER': 1, 'SCTG': '33', 'NAICS': 332, 'ORIG_STATE': 19, 'DEST_STATE': 19, 'DEST_MA': 99999})\n"
     ]
    },
    {
     "name": "stdout",
     "output_type": "stream",
     "text": [
      "2015-11-22 17:37:10,168 INFO sqlalchemy.engine.base.Engine INSERT INTO transactions (\"SHIPMT_ID\", \"ORIG_STATE\", \"ORIG_MA\", \"ORIG_CFS_AREA\", \"DEST_STATE\", \"DEST_MA\", \"DEST_CFS_AREA\", \"NAICS\", \"QUARTER\", \"SCTG\", \"MODE\", \"SHIPMT_VALUE\", \"SHIPMT_WGHT\", \"SHIPMT_DIST_GC\", \"SHIPMT_DIST_ROUTED\", \"TEMP_CNTL_YN\", \"EXPORT_YN\", \"EXPORT_CNTRY\", \"HAZMAT\", \"WGT_FACTOR\") VALUES (%(SHIPMT_ID)s, %(ORIG_STATE)s, %(ORIG_MA)s, %(ORIG_CFS_AREA)s, %(DEST_STATE)s, %(DEST_MA)s, %(DEST_CFS_AREA)s, %(NAICS)s, %(QUARTER)s, %(SCTG)s, %(MODE)s, %(SHIPMT_VALUE)s, %(SHIPMT_WGHT)s, %(SHIPMT_DIST_GC)s, %(SHIPMT_DIST_ROUTED)s, %(TEMP_CNTL_YN)s, %(EXPORT_YN)s, %(EXPORT_CNTRY)s, %(HAZMAT)s, %(WGT_FACTOR)s)\n"
     ]
    },
    {
     "name": "stderr",
     "output_type": "stream",
     "text": [
      "INFO:sqlalchemy.engine.base.Engine:INSERT INTO transactions (\"SHIPMT_ID\", \"ORIG_STATE\", \"ORIG_MA\", \"ORIG_CFS_AREA\", \"DEST_STATE\", \"DEST_MA\", \"DEST_CFS_AREA\", \"NAICS\", \"QUARTER\", \"SCTG\", \"MODE\", \"SHIPMT_VALUE\", \"SHIPMT_WGHT\", \"SHIPMT_DIST_GC\", \"SHIPMT_DIST_ROUTED\", \"TEMP_CNTL_YN\", \"EXPORT_YN\", \"EXPORT_CNTRY\", \"HAZMAT\", \"WGT_FACTOR\") VALUES (%(SHIPMT_ID)s, %(ORIG_STATE)s, %(ORIG_MA)s, %(ORIG_CFS_AREA)s, %(DEST_STATE)s, %(DEST_MA)s, %(DEST_CFS_AREA)s, %(NAICS)s, %(QUARTER)s, %(SCTG)s, %(MODE)s, %(SHIPMT_VALUE)s, %(SHIPMT_WGHT)s, %(SHIPMT_DIST_GC)s, %(SHIPMT_DIST_ROUTED)s, %(TEMP_CNTL_YN)s, %(EXPORT_YN)s, %(EXPORT_CNTRY)s, %(HAZMAT)s, %(WGT_FACTOR)s)\n"
     ]
    },
    {
     "name": "stdout",
     "output_type": "stream",
     "text": [
      "2015-11-22 17:37:10,169 INFO sqlalchemy.engine.base.Engine ({'SHIPMT_DIST_ROUTED': 75, 'ORIG_STATE': 26, 'EXPORT_YN': 'N', 'EXPORT_CNTRY': 'N', 'WGT_FACTOR': 75.8, 'SHIPMT_ID': 190001, 'ORIG_MA': 220, 'HAZMAT': 'N', 'SHIPMT_WGHT': 31206, 'SHIPMT_VALUE': 52736, 'TEMP_CNTL_YN': 'N', 'QUARTER': 2, 'DEST_CFS_AREA': '26-220', 'SCTG': '36', 'ORIG_CFS_AREA': '26-220', 'MODE': 4, 'SHIPMT_DIST_GC': 65, 'NAICS': 332, 'DEST_STATE': 26, 'DEST_MA': 220}, {'SHIPMT_DIST_ROUTED': 83, 'ORIG_STATE': 42, 'EXPORT_YN': 'N', 'EXPORT_CNTRY': 'N', 'WGT_FACTOR': 19.4, 'SHIPMT_ID': 190002, 'ORIG_MA': 428, 'HAZMAT': 'N', 'SHIPMT_WGHT': 340, 'SHIPMT_VALUE': 15929, 'TEMP_CNTL_YN': 'N', 'QUARTER': 2, 'DEST_CFS_AREA': '24-12580', 'SCTG': '26', 'ORIG_CFS_AREA': '42-428', 'MODE': 4, 'SHIPMT_DIST_GC': 75, 'NAICS': 339, 'DEST_STATE': 24, 'DEST_MA': 12580}, {'SHIPMT_DIST_ROUTED': 747, 'ORIG_STATE': 55, 'EXPORT_YN': 'N', 'EXPORT_CNTRY': 'N', 'WGT_FACTOR': 23.8, 'SHIPMT_ID': 190003, 'ORIG_MA': 99999, 'HAZMAT': 'N', 'SHIPMT_WGHT': 44560, 'SHIPMT_VALUE': 103529, 'TEMP_CNTL_YN': 'N', 'QUARTER': 3, 'DEST_CFS_AREA': '39-184', 'SCTG': '27', 'ORIG_CFS_AREA': '55-99999', 'MODE': 4, 'SHIPMT_DIST_GC': 603, 'NAICS': 322, 'DEST_STATE': 39, 'DEST_MA': 184}, {'SHIPMT_DIST_ROUTED': 2454, 'ORIG_STATE': 53, 'EXPORT_YN': 'N', 'EXPORT_CNTRY': 'N', 'WGT_FACTOR': 26.6, 'SHIPMT_ID': 190004, 'ORIG_MA': 440, 'HAZMAT': 'N', 'SHIPMT_WGHT': 102, 'SHIPMT_VALUE': 1266, 'TEMP_CNTL_YN': 'N', 'QUARTER': 2, 'DEST_CFS_AREA': '42-428', 'SCTG': '21', 'ORIG_CFS_AREA': '53-440', 'MODE': 11, 'SHIPMT_DIST_GC': 2411, 'NAICS': 4242, 'DEST_STATE': 42, 'DEST_MA': 428}, {'SHIPMT_DIST_ROUTED': 1191, 'ORIG_STATE': 42, 'EXPORT_YN': 'N', 'EXPORT_CNTRY': 'N', 'WGT_FACTOR': 76.9, 'SHIPMT_ID': 190005, 'ORIG_MA': 99999, 'HAZMAT': 'N', 'SHIPMT_WGHT': 2, 'SHIPMT_VALUE': 8665, 'TEMP_CNTL_YN': 'N', 'QUARTER': 4, 'DEST_CFS_AREA': '12-45300', 'SCTG': '37', 'ORIG_CFS_AREA': '42-99999', 'MODE': 14, 'SHIPMT_DIST_GC': 994, 'NAICS': 326, 'DEST_STATE': 12, 'DEST_MA': 45300}, {'SHIPMT_DIST_ROUTED': 22, 'ORIG_STATE': 44, 'EXPORT_YN': 'N', 'EXPORT_CNTRY': 'N', 'WGT_FACTOR': 11.6, 'SHIPMT_ID': 190006, 'ORIG_MA': 148, 'HAZMAT': 'N', 'SHIPMT_WGHT': 37053, 'SHIPMT_VALUE': 350, 'TEMP_CNTL_YN': 'N', 'QUARTER': 1, 'DEST_CFS_AREA': '44-148', 'SCTG': '12', 'ORIG_CFS_AREA': '44-148', 'MODE': 5, 'SHIPMT_DIST_GC': 17, 'NAICS': 212, 'DEST_STATE': 44, 'DEST_MA': 148}, {'SHIPMT_DIST_ROUTED': 192, 'ORIG_STATE': 39, 'EXPORT_YN': 'N', 'EXPORT_CNTRY': 'N', 'WGT_FACTOR': 716.8, 'SHIPMT_ID': 190007, 'ORIG_MA': 212, 'HAZMAT': 'N', 'SHIPMT_WGHT': 4316, 'SHIPMT_VALUE': 5076, 'TEMP_CNTL_YN': 'N', 'QUARTER': 2, 'DEST_CFS_AREA': '21-99999', 'SCTG': '24', 'ORIG_CFS_AREA': '39-212', 'MODE': 4, 'SHIPMT_DIST_GC': 168, 'NAICS': 326, 'DEST_STATE': 21, 'DEST_MA': 99999}, {'SHIPMT_DIST_ROUTED': 2880, 'ORIG_STATE': 51, 'EXPORT_YN': 'N', 'EXPORT_CNTRY': 'N', 'WGT_FACTOR': 91.4, 'SHIPMT_ID': 190008, 'ORIG_MA': 40060, 'HAZMAT': 'N', 'SHIPMT_WGHT': 13, 'SHIPMT_VALUE': 224, 'TEMP_CNTL_YN': 'N', 'QUARTER': 4, 'DEST_CFS_AREA': '06-99999', 'SCTG': '40', 'ORIG_CFS_AREA': '51-40060', 'MODE': 14, 'SHIPMT_DIST_GC': 2433, 'NAICS': 339, 'DEST_STATE': 6, 'DEST_MA': 99999}  ... displaying 10 of 10000 total bound parameter sets ...  {'SHIPMT_DIST_ROUTED': 11, 'ORIG_STATE': 13, 'EXPORT_YN': 'N', 'EXPORT_CNTRY': 'N', 'WGT_FACTOR': 59.0, 'SHIPMT_ID': 199999, 'ORIG_MA': 99999, 'HAZMAT': 'N', 'SHIPMT_WGHT': 27315, 'SHIPMT_VALUE': 148, 'TEMP_CNTL_YN': 'N', 'QUARTER': 1, 'DEST_CFS_AREA': '13-99999', 'SCTG': '12', 'ORIG_CFS_AREA': '13-99999', 'MODE': 5, 'SHIPMT_DIST_GC': 7, 'NAICS': 212, 'DEST_STATE': 13, 'DEST_MA': 99999}, {'SHIPMT_DIST_ROUTED': 1640, 'ORIG_STATE': 6, 'EXPORT_YN': 'N', 'EXPORT_CNTRY': 'N', 'WGT_FACTOR': 175.7, 'SHIPMT_ID': 200000, 'ORIG_MA': 99999, 'HAZMAT': 'N', 'SHIPMT_WGHT': 46511, 'SHIPMT_VALUE': 151298, 'TEMP_CNTL_YN': 'N', 'QUARTER': 1, 'DEST_CFS_AREA': '48-99999', 'SCTG': '03', 'ORIG_CFS_AREA': '06-99999', 'MODE': 4, 'SHIPMT_DIST_GC': 1305, 'NAICS': 311, 'DEST_STATE': 48, 'DEST_MA': 99999})\n"
     ]
    },
    {
     "name": "stderr",
     "output_type": "stream",
     "text": [
      "INFO:sqlalchemy.engine.base.Engine:({'SHIPMT_DIST_ROUTED': 75, 'ORIG_STATE': 26, 'EXPORT_YN': 'N', 'EXPORT_CNTRY': 'N', 'WGT_FACTOR': 75.8, 'SHIPMT_ID': 190001, 'ORIG_MA': 220, 'HAZMAT': 'N', 'SHIPMT_WGHT': 31206, 'SHIPMT_VALUE': 52736, 'TEMP_CNTL_YN': 'N', 'QUARTER': 2, 'DEST_CFS_AREA': '26-220', 'SCTG': '36', 'ORIG_CFS_AREA': '26-220', 'MODE': 4, 'SHIPMT_DIST_GC': 65, 'NAICS': 332, 'DEST_STATE': 26, 'DEST_MA': 220}, {'SHIPMT_DIST_ROUTED': 83, 'ORIG_STATE': 42, 'EXPORT_YN': 'N', 'EXPORT_CNTRY': 'N', 'WGT_FACTOR': 19.4, 'SHIPMT_ID': 190002, 'ORIG_MA': 428, 'HAZMAT': 'N', 'SHIPMT_WGHT': 340, 'SHIPMT_VALUE': 15929, 'TEMP_CNTL_YN': 'N', 'QUARTER': 2, 'DEST_CFS_AREA': '24-12580', 'SCTG': '26', 'ORIG_CFS_AREA': '42-428', 'MODE': 4, 'SHIPMT_DIST_GC': 75, 'NAICS': 339, 'DEST_STATE': 24, 'DEST_MA': 12580}, {'SHIPMT_DIST_ROUTED': 747, 'ORIG_STATE': 55, 'EXPORT_YN': 'N', 'EXPORT_CNTRY': 'N', 'WGT_FACTOR': 23.8, 'SHIPMT_ID': 190003, 'ORIG_MA': 99999, 'HAZMAT': 'N', 'SHIPMT_WGHT': 44560, 'SHIPMT_VALUE': 103529, 'TEMP_CNTL_YN': 'N', 'QUARTER': 3, 'DEST_CFS_AREA': '39-184', 'SCTG': '27', 'ORIG_CFS_AREA': '55-99999', 'MODE': 4, 'SHIPMT_DIST_GC': 603, 'NAICS': 322, 'DEST_STATE': 39, 'DEST_MA': 184}, {'SHIPMT_DIST_ROUTED': 2454, 'ORIG_STATE': 53, 'EXPORT_YN': 'N', 'EXPORT_CNTRY': 'N', 'WGT_FACTOR': 26.6, 'SHIPMT_ID': 190004, 'ORIG_MA': 440, 'HAZMAT': 'N', 'SHIPMT_WGHT': 102, 'SHIPMT_VALUE': 1266, 'TEMP_CNTL_YN': 'N', 'QUARTER': 2, 'DEST_CFS_AREA': '42-428', 'SCTG': '21', 'ORIG_CFS_AREA': '53-440', 'MODE': 11, 'SHIPMT_DIST_GC': 2411, 'NAICS': 4242, 'DEST_STATE': 42, 'DEST_MA': 428}, {'SHIPMT_DIST_ROUTED': 1191, 'ORIG_STATE': 42, 'EXPORT_YN': 'N', 'EXPORT_CNTRY': 'N', 'WGT_FACTOR': 76.9, 'SHIPMT_ID': 190005, 'ORIG_MA': 99999, 'HAZMAT': 'N', 'SHIPMT_WGHT': 2, 'SHIPMT_VALUE': 8665, 'TEMP_CNTL_YN': 'N', 'QUARTER': 4, 'DEST_CFS_AREA': '12-45300', 'SCTG': '37', 'ORIG_CFS_AREA': '42-99999', 'MODE': 14, 'SHIPMT_DIST_GC': 994, 'NAICS': 326, 'DEST_STATE': 12, 'DEST_MA': 45300}, {'SHIPMT_DIST_ROUTED': 22, 'ORIG_STATE': 44, 'EXPORT_YN': 'N', 'EXPORT_CNTRY': 'N', 'WGT_FACTOR': 11.6, 'SHIPMT_ID': 190006, 'ORIG_MA': 148, 'HAZMAT': 'N', 'SHIPMT_WGHT': 37053, 'SHIPMT_VALUE': 350, 'TEMP_CNTL_YN': 'N', 'QUARTER': 1, 'DEST_CFS_AREA': '44-148', 'SCTG': '12', 'ORIG_CFS_AREA': '44-148', 'MODE': 5, 'SHIPMT_DIST_GC': 17, 'NAICS': 212, 'DEST_STATE': 44, 'DEST_MA': 148}, {'SHIPMT_DIST_ROUTED': 192, 'ORIG_STATE': 39, 'EXPORT_YN': 'N', 'EXPORT_CNTRY': 'N', 'WGT_FACTOR': 716.8, 'SHIPMT_ID': 190007, 'ORIG_MA': 212, 'HAZMAT': 'N', 'SHIPMT_WGHT': 4316, 'SHIPMT_VALUE': 5076, 'TEMP_CNTL_YN': 'N', 'QUARTER': 2, 'DEST_CFS_AREA': '21-99999', 'SCTG': '24', 'ORIG_CFS_AREA': '39-212', 'MODE': 4, 'SHIPMT_DIST_GC': 168, 'NAICS': 326, 'DEST_STATE': 21, 'DEST_MA': 99999}, {'SHIPMT_DIST_ROUTED': 2880, 'ORIG_STATE': 51, 'EXPORT_YN': 'N', 'EXPORT_CNTRY': 'N', 'WGT_FACTOR': 91.4, 'SHIPMT_ID': 190008, 'ORIG_MA': 40060, 'HAZMAT': 'N', 'SHIPMT_WGHT': 13, 'SHIPMT_VALUE': 224, 'TEMP_CNTL_YN': 'N', 'QUARTER': 4, 'DEST_CFS_AREA': '06-99999', 'SCTG': '40', 'ORIG_CFS_AREA': '51-40060', 'MODE': 14, 'SHIPMT_DIST_GC': 2433, 'NAICS': 339, 'DEST_STATE': 6, 'DEST_MA': 99999}  ... displaying 10 of 10000 total bound parameter sets ...  {'SHIPMT_DIST_ROUTED': 11, 'ORIG_STATE': 13, 'EXPORT_YN': 'N', 'EXPORT_CNTRY': 'N', 'WGT_FACTOR': 59.0, 'SHIPMT_ID': 199999, 'ORIG_MA': 99999, 'HAZMAT': 'N', 'SHIPMT_WGHT': 27315, 'SHIPMT_VALUE': 148, 'TEMP_CNTL_YN': 'N', 'QUARTER': 1, 'DEST_CFS_AREA': '13-99999', 'SCTG': '12', 'ORIG_CFS_AREA': '13-99999', 'MODE': 5, 'SHIPMT_DIST_GC': 7, 'NAICS': 212, 'DEST_STATE': 13, 'DEST_MA': 99999}, {'SHIPMT_DIST_ROUTED': 1640, 'ORIG_STATE': 6, 'EXPORT_YN': 'N', 'EXPORT_CNTRY': 'N', 'WGT_FACTOR': 175.7, 'SHIPMT_ID': 200000, 'ORIG_MA': 99999, 'HAZMAT': 'N', 'SHIPMT_WGHT': 46511, 'SHIPMT_VALUE': 151298, 'TEMP_CNTL_YN': 'N', 'QUARTER': 1, 'DEST_CFS_AREA': '48-99999', 'SCTG': '03', 'ORIG_CFS_AREA': '06-99999', 'MODE': 4, 'SHIPMT_DIST_GC': 1305, 'NAICS': 311, 'DEST_STATE': 48, 'DEST_MA': 99999})\n"
     ]
    },
    {
     "name": "stdout",
     "output_type": "stream",
     "text": [
      "2015-11-22 17:41:15,122 INFO sqlalchemy.engine.base.Engine INSERT INTO transactions (\"SHIPMT_ID\", \"ORIG_STATE\", \"ORIG_MA\", \"ORIG_CFS_AREA\", \"DEST_STATE\", \"DEST_MA\", \"DEST_CFS_AREA\", \"NAICS\", \"QUARTER\", \"SCTG\", \"MODE\", \"SHIPMT_VALUE\", \"SHIPMT_WGHT\", \"SHIPMT_DIST_GC\", \"SHIPMT_DIST_ROUTED\", \"TEMP_CNTL_YN\", \"EXPORT_YN\", \"EXPORT_CNTRY\", \"HAZMAT\", \"WGT_FACTOR\") VALUES (%(SHIPMT_ID)s, %(ORIG_STATE)s, %(ORIG_MA)s, %(ORIG_CFS_AREA)s, %(DEST_STATE)s, %(DEST_MA)s, %(DEST_CFS_AREA)s, %(NAICS)s, %(QUARTER)s, %(SCTG)s, %(MODE)s, %(SHIPMT_VALUE)s, %(SHIPMT_WGHT)s, %(SHIPMT_DIST_GC)s, %(SHIPMT_DIST_ROUTED)s, %(TEMP_CNTL_YN)s, %(EXPORT_YN)s, %(EXPORT_CNTRY)s, %(HAZMAT)s, %(WGT_FACTOR)s)\n"
     ]
    },
    {
     "name": "stderr",
     "output_type": "stream",
     "text": [
      "INFO:sqlalchemy.engine.base.Engine:INSERT INTO transactions (\"SHIPMT_ID\", \"ORIG_STATE\", \"ORIG_MA\", \"ORIG_CFS_AREA\", \"DEST_STATE\", \"DEST_MA\", \"DEST_CFS_AREA\", \"NAICS\", \"QUARTER\", \"SCTG\", \"MODE\", \"SHIPMT_VALUE\", \"SHIPMT_WGHT\", \"SHIPMT_DIST_GC\", \"SHIPMT_DIST_ROUTED\", \"TEMP_CNTL_YN\", \"EXPORT_YN\", \"EXPORT_CNTRY\", \"HAZMAT\", \"WGT_FACTOR\") VALUES (%(SHIPMT_ID)s, %(ORIG_STATE)s, %(ORIG_MA)s, %(ORIG_CFS_AREA)s, %(DEST_STATE)s, %(DEST_MA)s, %(DEST_CFS_AREA)s, %(NAICS)s, %(QUARTER)s, %(SCTG)s, %(MODE)s, %(SHIPMT_VALUE)s, %(SHIPMT_WGHT)s, %(SHIPMT_DIST_GC)s, %(SHIPMT_DIST_ROUTED)s, %(TEMP_CNTL_YN)s, %(EXPORT_YN)s, %(EXPORT_CNTRY)s, %(HAZMAT)s, %(WGT_FACTOR)s)\n"
     ]
    },
    {
     "name": "stdout",
     "output_type": "stream",
     "text": [
      "2015-11-22 17:41:15,123 INFO sqlalchemy.engine.base.Engine ({'SHIPMT_DIST_ROUTED': 858, 'ORIG_CFS_AREA': '51-40060', 'EXPORT_YN': 'N', 'EXPORT_CNTRY': 'N', 'WGT_FACTOR': 113.7, 'SHIPMT_ID': 200001, 'SHIPMT_VALUE': 19859, 'HAZMAT': 'N', 'ORIG_MA': 40060, 'QUARTER': 3, 'DEST_CFS_AREA': '29-476', 'TEMP_CNTL_YN': 'N', 'SHIPMT_WGHT': 13014, 'MODE': 4, 'SCTG': '32', 'SHIPMT_DIST_GC': 713, 'NAICS': 331, 'ORIG_STATE': 51, 'DEST_STATE': 29, 'DEST_MA': 476}, {'SHIPMT_DIST_ROUTED': 7, 'ORIG_CFS_AREA': '39-99999', 'EXPORT_YN': 'N', 'EXPORT_CNTRY': 'N', 'WGT_FACTOR': 113.6, 'SHIPMT_ID': 200002, 'SHIPMT_VALUE': 51, 'HAZMAT': 'N', 'ORIG_MA': 99999, 'QUARTER': 3, 'DEST_CFS_AREA': '39-99999', 'TEMP_CNTL_YN': 'N', 'SHIPMT_WGHT': 4, 'MODE': 5, 'SCTG': '09', 'SHIPMT_DIST_GC': 7, 'NAICS': 4249, 'ORIG_STATE': 39, 'DEST_STATE': 39, 'DEST_MA': 99999}, {'SHIPMT_DIST_ROUTED': 1943, 'ORIG_CFS_AREA': '48-12420', 'EXPORT_YN': 'Y', 'EXPORT_CNTRY': 'C', 'WGT_FACTOR': 742.7, 'SHIPMT_ID': 200003, 'SHIPMT_VALUE': 95, 'HAZMAT': 'N', 'ORIG_MA': 12420, 'QUARTER': 2, 'DEST_CFS_AREA': '53-99999', 'TEMP_CNTL_YN': 'N', 'SHIPMT_WGHT': 2, 'MODE': 14, 'SCTG': '23', 'SHIPMT_DIST_GC': 1838, 'NAICS': 325, 'ORIG_STATE': 48, 'DEST_STATE': 53, 'DEST_MA': 99999}, {'SHIPMT_DIST_ROUTED': 4, 'ORIG_CFS_AREA': '35-99999', 'EXPORT_YN': 'N', 'EXPORT_CNTRY': 'N', 'WGT_FACTOR': 1963.9, 'SHIPMT_ID': 200004, 'SHIPMT_VALUE': 7, 'HAZMAT': 'N', 'ORIG_MA': 99999, 'QUARTER': 2, 'DEST_CFS_AREA': '35-99999', 'TEMP_CNTL_YN': 'N', 'SHIPMT_WGHT': 1, 'MODE': 5, 'SCTG': '30', 'SHIPMT_DIST_GC': 4, 'NAICS': 4238, 'ORIG_STATE': 35, 'DEST_STATE': 35, 'DEST_MA': 99999}, {'SHIPMT_DIST_ROUTED': 136, 'ORIG_CFS_AREA': '34-428', 'EXPORT_YN': 'N', 'EXPORT_CNTRY': 'N', 'WGT_FACTOR': 10089.4, 'SHIPMT_ID': 200005, 'SHIPMT_VALUE': 180, 'HAZMAT': 'N', 'ORIG_MA': 428, 'QUARTER': 3, 'DEST_CFS_AREA': '42-99999', 'TEMP_CNTL_YN': 'N', 'SHIPMT_WGHT': 48, 'MODE': 5, 'SCTG': '43', 'SHIPMT_DIST_GC': 118, 'NAICS': 4237, 'ORIG_STATE': 34, 'DEST_STATE': 42, 'DEST_MA': 99999}, {'SHIPMT_DIST_ROUTED': 25, 'ORIG_CFS_AREA': '36-408', 'EXPORT_YN': 'N', 'EXPORT_CNTRY': 'N', 'WGT_FACTOR': 11348.6, 'SHIPMT_ID': 200006, 'SHIPMT_VALUE': 392, 'HAZMAT': 'N', 'ORIG_MA': 408, 'QUARTER': 3, 'DEST_CFS_AREA': '36-408', 'TEMP_CNTL_YN': 'N', 'SHIPMT_WGHT': 314, 'MODE': 5, 'SCTG': '31', 'SHIPMT_DIST_GC': 22, 'NAICS': 4233, 'ORIG_STATE': 36, 'DEST_STATE': 36, 'DEST_MA': 408}, {'SHIPMT_DIST_ROUTED': 2495, 'ORIG_CFS_AREA': '06-472', 'EXPORT_YN': 'N', 'EXPORT_CNTRY': 'N', 'WGT_FACTOR': 39.5, 'SHIPMT_ID': 200007, 'SHIPMT_VALUE': 2101, 'HAZMAT': 'N', 'ORIG_MA': 472, 'QUARTER': 4, 'DEST_CFS_AREA': '15-46520', 'TEMP_CNTL_YN': 'N', 'SHIPMT_WGHT': 4, 'MODE': 14, 'SCTG': '34', 'SHIPMT_DIST_GC': 2478, 'NAICS': 333, 'ORIG_STATE': 6, 'DEST_STATE': 15, 'DEST_MA': 46520}, {'SHIPMT_DIST_ROUTED': 34, 'ORIG_CFS_AREA': '21-99999', 'EXPORT_YN': 'N', 'EXPORT_CNTRY': 'N', 'WGT_FACTOR': 60.9, 'SHIPMT_ID': 200008, 'SHIPMT_VALUE': 1739, 'HAZMAT': 'N', 'ORIG_MA': 99999, 'QUARTER': 4, 'DEST_CFS_AREA': '21-99999', 'TEMP_CNTL_YN': 'N', 'SHIPMT_WGHT': 92107, 'MODE': 4, 'SCTG': '15', 'SHIPMT_DIST_GC': 27, 'NAICS': 212, 'ORIG_STATE': 21, 'DEST_STATE': 21, 'DEST_MA': 99999}  ... displaying 10 of 10000 total bound parameter sets ...  {'SHIPMT_DIST_ROUTED': 59, 'ORIG_CFS_AREA': '12-422', 'EXPORT_YN': 'N', 'EXPORT_CNTRY': 'N', 'WGT_FACTOR': 1711.7, 'SHIPMT_ID': 209999, 'SHIPMT_VALUE': 128, 'HAZMAT': 'N', 'ORIG_MA': 422, 'QUARTER': 1, 'DEST_CFS_AREA': '12-422', 'TEMP_CNTL_YN': 'N', 'SHIPMT_WGHT': 2, 'MODE': 14, 'SCTG': '36', 'SHIPMT_DIST_GC': 52, 'NAICS': 4231, 'ORIG_STATE': 12, 'DEST_STATE': 12, 'DEST_MA': 422}, {'SHIPMT_DIST_ROUTED': 1117, 'ORIG_CFS_AREA': '20-99999', 'EXPORT_YN': 'N', 'EXPORT_CNTRY': 'N', 'WGT_FACTOR': 1476.1, 'SHIPMT_ID': 210000, 'SHIPMT_VALUE': 57, 'HAZMAT': 'N', 'ORIG_MA': 99999, 'QUARTER': 1, 'DEST_CFS_AREA': '13-99999', 'TEMP_CNTL_YN': 'N', 'SHIPMT_WGHT': 1, 'MODE': 14, 'SCTG': '29', 'SHIPMT_DIST_GC': 860, 'NAICS': 323, 'ORIG_STATE': 20, 'DEST_STATE': 13, 'DEST_MA': 99999})\n"
     ]
    },
    {
     "name": "stderr",
     "output_type": "stream",
     "text": [
      "INFO:sqlalchemy.engine.base.Engine:({'SHIPMT_DIST_ROUTED': 858, 'ORIG_CFS_AREA': '51-40060', 'EXPORT_YN': 'N', 'EXPORT_CNTRY': 'N', 'WGT_FACTOR': 113.7, 'SHIPMT_ID': 200001, 'SHIPMT_VALUE': 19859, 'HAZMAT': 'N', 'ORIG_MA': 40060, 'QUARTER': 3, 'DEST_CFS_AREA': '29-476', 'TEMP_CNTL_YN': 'N', 'SHIPMT_WGHT': 13014, 'MODE': 4, 'SCTG': '32', 'SHIPMT_DIST_GC': 713, 'NAICS': 331, 'ORIG_STATE': 51, 'DEST_STATE': 29, 'DEST_MA': 476}, {'SHIPMT_DIST_ROUTED': 7, 'ORIG_CFS_AREA': '39-99999', 'EXPORT_YN': 'N', 'EXPORT_CNTRY': 'N', 'WGT_FACTOR': 113.6, 'SHIPMT_ID': 200002, 'SHIPMT_VALUE': 51, 'HAZMAT': 'N', 'ORIG_MA': 99999, 'QUARTER': 3, 'DEST_CFS_AREA': '39-99999', 'TEMP_CNTL_YN': 'N', 'SHIPMT_WGHT': 4, 'MODE': 5, 'SCTG': '09', 'SHIPMT_DIST_GC': 7, 'NAICS': 4249, 'ORIG_STATE': 39, 'DEST_STATE': 39, 'DEST_MA': 99999}, {'SHIPMT_DIST_ROUTED': 1943, 'ORIG_CFS_AREA': '48-12420', 'EXPORT_YN': 'Y', 'EXPORT_CNTRY': 'C', 'WGT_FACTOR': 742.7, 'SHIPMT_ID': 200003, 'SHIPMT_VALUE': 95, 'HAZMAT': 'N', 'ORIG_MA': 12420, 'QUARTER': 2, 'DEST_CFS_AREA': '53-99999', 'TEMP_CNTL_YN': 'N', 'SHIPMT_WGHT': 2, 'MODE': 14, 'SCTG': '23', 'SHIPMT_DIST_GC': 1838, 'NAICS': 325, 'ORIG_STATE': 48, 'DEST_STATE': 53, 'DEST_MA': 99999}, {'SHIPMT_DIST_ROUTED': 4, 'ORIG_CFS_AREA': '35-99999', 'EXPORT_YN': 'N', 'EXPORT_CNTRY': 'N', 'WGT_FACTOR': 1963.9, 'SHIPMT_ID': 200004, 'SHIPMT_VALUE': 7, 'HAZMAT': 'N', 'ORIG_MA': 99999, 'QUARTER': 2, 'DEST_CFS_AREA': '35-99999', 'TEMP_CNTL_YN': 'N', 'SHIPMT_WGHT': 1, 'MODE': 5, 'SCTG': '30', 'SHIPMT_DIST_GC': 4, 'NAICS': 4238, 'ORIG_STATE': 35, 'DEST_STATE': 35, 'DEST_MA': 99999}, {'SHIPMT_DIST_ROUTED': 136, 'ORIG_CFS_AREA': '34-428', 'EXPORT_YN': 'N', 'EXPORT_CNTRY': 'N', 'WGT_FACTOR': 10089.4, 'SHIPMT_ID': 200005, 'SHIPMT_VALUE': 180, 'HAZMAT': 'N', 'ORIG_MA': 428, 'QUARTER': 3, 'DEST_CFS_AREA': '42-99999', 'TEMP_CNTL_YN': 'N', 'SHIPMT_WGHT': 48, 'MODE': 5, 'SCTG': '43', 'SHIPMT_DIST_GC': 118, 'NAICS': 4237, 'ORIG_STATE': 34, 'DEST_STATE': 42, 'DEST_MA': 99999}, {'SHIPMT_DIST_ROUTED': 25, 'ORIG_CFS_AREA': '36-408', 'EXPORT_YN': 'N', 'EXPORT_CNTRY': 'N', 'WGT_FACTOR': 11348.6, 'SHIPMT_ID': 200006, 'SHIPMT_VALUE': 392, 'HAZMAT': 'N', 'ORIG_MA': 408, 'QUARTER': 3, 'DEST_CFS_AREA': '36-408', 'TEMP_CNTL_YN': 'N', 'SHIPMT_WGHT': 314, 'MODE': 5, 'SCTG': '31', 'SHIPMT_DIST_GC': 22, 'NAICS': 4233, 'ORIG_STATE': 36, 'DEST_STATE': 36, 'DEST_MA': 408}, {'SHIPMT_DIST_ROUTED': 2495, 'ORIG_CFS_AREA': '06-472', 'EXPORT_YN': 'N', 'EXPORT_CNTRY': 'N', 'WGT_FACTOR': 39.5, 'SHIPMT_ID': 200007, 'SHIPMT_VALUE': 2101, 'HAZMAT': 'N', 'ORIG_MA': 472, 'QUARTER': 4, 'DEST_CFS_AREA': '15-46520', 'TEMP_CNTL_YN': 'N', 'SHIPMT_WGHT': 4, 'MODE': 14, 'SCTG': '34', 'SHIPMT_DIST_GC': 2478, 'NAICS': 333, 'ORIG_STATE': 6, 'DEST_STATE': 15, 'DEST_MA': 46520}, {'SHIPMT_DIST_ROUTED': 34, 'ORIG_CFS_AREA': '21-99999', 'EXPORT_YN': 'N', 'EXPORT_CNTRY': 'N', 'WGT_FACTOR': 60.9, 'SHIPMT_ID': 200008, 'SHIPMT_VALUE': 1739, 'HAZMAT': 'N', 'ORIG_MA': 99999, 'QUARTER': 4, 'DEST_CFS_AREA': '21-99999', 'TEMP_CNTL_YN': 'N', 'SHIPMT_WGHT': 92107, 'MODE': 4, 'SCTG': '15', 'SHIPMT_DIST_GC': 27, 'NAICS': 212, 'ORIG_STATE': 21, 'DEST_STATE': 21, 'DEST_MA': 99999}  ... displaying 10 of 10000 total bound parameter sets ...  {'SHIPMT_DIST_ROUTED': 59, 'ORIG_CFS_AREA': '12-422', 'EXPORT_YN': 'N', 'EXPORT_CNTRY': 'N', 'WGT_FACTOR': 1711.7, 'SHIPMT_ID': 209999, 'SHIPMT_VALUE': 128, 'HAZMAT': 'N', 'ORIG_MA': 422, 'QUARTER': 1, 'DEST_CFS_AREA': '12-422', 'TEMP_CNTL_YN': 'N', 'SHIPMT_WGHT': 2, 'MODE': 14, 'SCTG': '36', 'SHIPMT_DIST_GC': 52, 'NAICS': 4231, 'ORIG_STATE': 12, 'DEST_STATE': 12, 'DEST_MA': 422}, {'SHIPMT_DIST_ROUTED': 1117, 'ORIG_CFS_AREA': '20-99999', 'EXPORT_YN': 'N', 'EXPORT_CNTRY': 'N', 'WGT_FACTOR': 1476.1, 'SHIPMT_ID': 210000, 'SHIPMT_VALUE': 57, 'HAZMAT': 'N', 'ORIG_MA': 99999, 'QUARTER': 1, 'DEST_CFS_AREA': '13-99999', 'TEMP_CNTL_YN': 'N', 'SHIPMT_WGHT': 1, 'MODE': 14, 'SCTG': '29', 'SHIPMT_DIST_GC': 860, 'NAICS': 323, 'ORIG_STATE': 20, 'DEST_STATE': 13, 'DEST_MA': 99999})\n"
     ]
    },
    {
     "name": "stdout",
     "output_type": "stream",
     "text": [
      "2015-11-22 17:45:18,958 INFO sqlalchemy.engine.base.Engine INSERT INTO transactions (\"SHIPMT_ID\", \"ORIG_STATE\", \"ORIG_MA\", \"ORIG_CFS_AREA\", \"DEST_STATE\", \"DEST_MA\", \"DEST_CFS_AREA\", \"NAICS\", \"QUARTER\", \"SCTG\", \"MODE\", \"SHIPMT_VALUE\", \"SHIPMT_WGHT\", \"SHIPMT_DIST_GC\", \"SHIPMT_DIST_ROUTED\", \"TEMP_CNTL_YN\", \"EXPORT_YN\", \"EXPORT_CNTRY\", \"HAZMAT\", \"WGT_FACTOR\") VALUES (%(SHIPMT_ID)s, %(ORIG_STATE)s, %(ORIG_MA)s, %(ORIG_CFS_AREA)s, %(DEST_STATE)s, %(DEST_MA)s, %(DEST_CFS_AREA)s, %(NAICS)s, %(QUARTER)s, %(SCTG)s, %(MODE)s, %(SHIPMT_VALUE)s, %(SHIPMT_WGHT)s, %(SHIPMT_DIST_GC)s, %(SHIPMT_DIST_ROUTED)s, %(TEMP_CNTL_YN)s, %(EXPORT_YN)s, %(EXPORT_CNTRY)s, %(HAZMAT)s, %(WGT_FACTOR)s)\n"
     ]
    },
    {
     "name": "stderr",
     "output_type": "stream",
     "text": [
      "INFO:sqlalchemy.engine.base.Engine:INSERT INTO transactions (\"SHIPMT_ID\", \"ORIG_STATE\", \"ORIG_MA\", \"ORIG_CFS_AREA\", \"DEST_STATE\", \"DEST_MA\", \"DEST_CFS_AREA\", \"NAICS\", \"QUARTER\", \"SCTG\", \"MODE\", \"SHIPMT_VALUE\", \"SHIPMT_WGHT\", \"SHIPMT_DIST_GC\", \"SHIPMT_DIST_ROUTED\", \"TEMP_CNTL_YN\", \"EXPORT_YN\", \"EXPORT_CNTRY\", \"HAZMAT\", \"WGT_FACTOR\") VALUES (%(SHIPMT_ID)s, %(ORIG_STATE)s, %(ORIG_MA)s, %(ORIG_CFS_AREA)s, %(DEST_STATE)s, %(DEST_MA)s, %(DEST_CFS_AREA)s, %(NAICS)s, %(QUARTER)s, %(SCTG)s, %(MODE)s, %(SHIPMT_VALUE)s, %(SHIPMT_WGHT)s, %(SHIPMT_DIST_GC)s, %(SHIPMT_DIST_ROUTED)s, %(TEMP_CNTL_YN)s, %(EXPORT_YN)s, %(EXPORT_CNTRY)s, %(HAZMAT)s, %(WGT_FACTOR)s)\n"
     ]
    },
    {
     "name": "stdout",
     "output_type": "stream",
     "text": [
      "2015-11-22 17:45:18,959 INFO sqlalchemy.engine.base.Engine ({'DEST_STATE': 37, 'EXPORT_YN': 'N', 'ORIG_STATE': 37, 'SHIPMT_DIST_ROUTED': 89, 'EXPORT_CNTRY': 'N', 'SHIPMT_ID': 210001, 'ORIG_MA': 268, 'HAZMAT': 'N', 'SHIPMT_WGHT': 724, 'SHIPMT_VALUE': 2175, 'TEMP_CNTL_YN': 'N', 'WGT_FACTOR': 139.5, 'DEST_CFS_AREA': '37-99999', 'SCTG': '24', 'ORIG_CFS_AREA': '37-268', 'QUARTER': 3, 'SHIPMT_DIST_GC': 69, 'NAICS': 326, 'MODE': 5, 'DEST_MA': 99999}, {'DEST_STATE': 6, 'EXPORT_YN': 'N', 'ORIG_STATE': 6, 'SHIPMT_DIST_ROUTED': 182, 'EXPORT_CNTRY': 'N', 'SHIPMT_ID': 210002, 'ORIG_MA': 99999, 'HAZMAT': 'N', 'SHIPMT_WGHT': 28, 'SHIPMT_VALUE': 392, 'TEMP_CNTL_YN': 'N', 'WGT_FACTOR': 455.5, 'DEST_CFS_AREA': '06-488', 'SCTG': '33', 'ORIG_CFS_AREA': '06-99999', 'QUARTER': 2, 'SHIPMT_DIST_GC': 160, 'NAICS': 332, 'MODE': 14, 'DEST_MA': 488}, {'DEST_STATE': 12, 'EXPORT_YN': 'N', 'ORIG_STATE': 47, 'SHIPMT_DIST_ROUTED': 1146, 'EXPORT_CNTRY': 'N', 'SHIPMT_ID': 210003, 'ORIG_MA': 368, 'HAZMAT': 'N', 'SHIPMT_WGHT': 55, 'SHIPMT_VALUE': 689, 'TEMP_CNTL_YN': 'N', 'WGT_FACTOR': 2547.6, 'DEST_CFS_AREA': '12-370', 'SCTG': '35', 'ORIG_CFS_AREA': '47-368', 'QUARTER': 4, 'SHIPMT_DIST_GC': 852, 'NAICS': 4236, 'MODE': 14, 'DEST_MA': 370}, {'DEST_STATE': 55, 'EXPORT_YN': 'N', 'ORIG_STATE': 55, 'SHIPMT_DIST_ROUTED': 261, 'EXPORT_CNTRY': 'N', 'SHIPMT_ID': 210004, 'ORIG_MA': 99999, 'HAZMAT': 'N', 'SHIPMT_WGHT': 133, 'SHIPMT_VALUE': 2744, 'TEMP_CNTL_YN': 'N', 'WGT_FACTOR': 414.4, 'DEST_CFS_AREA': '55-99999', 'SCTG': '34', 'ORIG_CFS_AREA': '55-99999', 'QUARTER': 4, 'SHIPMT_DIST_GC': 194, 'NAICS': 4238, 'MODE': 14, 'DEST_MA': 99999}, {'DEST_STATE': 53, 'EXPORT_YN': 'Y', 'ORIG_STATE': 26, 'SHIPMT_DIST_ROUTED': 2413, 'EXPORT_CNTRY': 'O', 'SHIPMT_ID': 210005, 'ORIG_MA': 266, 'HAZMAT': 'N', 'SHIPMT_WGHT': 5, 'SHIPMT_VALUE': 2359, 'TEMP_CNTL_YN': 'N', 'WGT_FACTOR': 18.1, 'DEST_CFS_AREA': '53-500', 'SCTG': '34', 'ORIG_CFS_AREA': '26-266', 'QUARTER': 4, 'SHIPMT_DIST_GC': 1761, 'NAICS': 332, 'MODE': 14, 'DEST_MA': 500}, {'DEST_STATE': 48, 'EXPORT_YN': 'N', 'ORIG_STATE': 48, 'SHIPMT_DIST_ROUTED': 10, 'EXPORT_CNTRY': 'N', 'SHIPMT_ID': 210006, 'ORIG_MA': 12420, 'HAZMAT': 'N', 'SHIPMT_WGHT': 16, 'SHIPMT_VALUE': 3239, 'TEMP_CNTL_YN': 'N', 'WGT_FACTOR': 53.7, 'DEST_CFS_AREA': '48-12420', 'SCTG': '33', 'ORIG_CFS_AREA': '48-12420', 'QUARTER': 4, 'SHIPMT_DIST_GC': 7, 'NAICS': 4237, 'MODE': 5, 'DEST_MA': 12420}, {'DEST_STATE': 48, 'EXPORT_YN': 'N', 'ORIG_STATE': 48, 'SHIPMT_DIST_ROUTED': 11, 'EXPORT_CNTRY': 'N', 'SHIPMT_ID': 210007, 'ORIG_MA': 99999, 'HAZMAT': 'P', 'SHIPMT_WGHT': 66, 'SHIPMT_VALUE': 30, 'TEMP_CNTL_YN': 'N', 'WGT_FACTOR': 24913.9, 'DEST_CFS_AREA': '48-99999', 'SCTG': '18', 'ORIG_CFS_AREA': '48-99999', 'QUARTER': 1, 'SHIPMT_DIST_GC': 11, 'NAICS': 4247, 'MODE': 4, 'DEST_MA': 99999}, {'DEST_STATE': 47, 'EXPORT_YN': 'N', 'ORIG_STATE': 47, 'SHIPMT_DIST_ROUTED': 35, 'EXPORT_CNTRY': 'N', 'SHIPMT_ID': 210008, 'ORIG_MA': 368, 'HAZMAT': 'N', 'SHIPMT_WGHT': 2, 'SHIPMT_VALUE': 249, 'TEMP_CNTL_YN': 'N', 'WGT_FACTOR': 3833.9, 'DEST_CFS_AREA': '47-368', 'SCTG': '35', 'ORIG_CFS_AREA': '47-368', 'QUARTER': 3, 'SHIPMT_DIST_GC': 31, 'NAICS': 4238, 'MODE': 5, 'DEST_MA': 368}  ... displaying 10 of 10000 total bound parameter sets ...  {'DEST_STATE': 48, 'EXPORT_YN': 'N', 'ORIG_STATE': 47, 'SHIPMT_DIST_ROUTED': 1042, 'EXPORT_CNTRY': 'N', 'SHIPMT_ID': 219999, 'ORIG_MA': 99999, 'HAZMAT': 'N', 'SHIPMT_WGHT': 40249, 'SHIPMT_VALUE': 84524, 'TEMP_CNTL_YN': 'N', 'WGT_FACTOR': 58.2, 'DEST_CFS_AREA': '48-288', 'SCTG': '30', 'ORIG_CFS_AREA': '47-99999', 'QUARTER': 1, 'SHIPMT_DIST_GC': 886, 'NAICS': 325, 'MODE': 4, 'DEST_MA': 288}, {'DEST_STATE': 17, 'EXPORT_YN': 'N', 'ORIG_STATE': 8, 'SHIPMT_DIST_ROUTED': 869, 'EXPORT_CNTRY': 'N', 'SHIPMT_ID': 220000, 'ORIG_MA': 216, 'HAZMAT': 'N', 'SHIPMT_WGHT': 36, 'SHIPMT_VALUE': 2226, 'TEMP_CNTL_YN': 'N', 'WGT_FACTOR': 143.4, 'DEST_CFS_AREA': '17-476', 'SCTG': '33', 'ORIG_CFS_AREA': '08-216', 'QUARTER': 1, 'SHIPMT_DIST_GC': 805, 'NAICS': 333, 'MODE': 14, 'DEST_MA': 476})\n"
     ]
    },
    {
     "name": "stderr",
     "output_type": "stream",
     "text": [
      "INFO:sqlalchemy.engine.base.Engine:({'DEST_STATE': 37, 'EXPORT_YN': 'N', 'ORIG_STATE': 37, 'SHIPMT_DIST_ROUTED': 89, 'EXPORT_CNTRY': 'N', 'SHIPMT_ID': 210001, 'ORIG_MA': 268, 'HAZMAT': 'N', 'SHIPMT_WGHT': 724, 'SHIPMT_VALUE': 2175, 'TEMP_CNTL_YN': 'N', 'WGT_FACTOR': 139.5, 'DEST_CFS_AREA': '37-99999', 'SCTG': '24', 'ORIG_CFS_AREA': '37-268', 'QUARTER': 3, 'SHIPMT_DIST_GC': 69, 'NAICS': 326, 'MODE': 5, 'DEST_MA': 99999}, {'DEST_STATE': 6, 'EXPORT_YN': 'N', 'ORIG_STATE': 6, 'SHIPMT_DIST_ROUTED': 182, 'EXPORT_CNTRY': 'N', 'SHIPMT_ID': 210002, 'ORIG_MA': 99999, 'HAZMAT': 'N', 'SHIPMT_WGHT': 28, 'SHIPMT_VALUE': 392, 'TEMP_CNTL_YN': 'N', 'WGT_FACTOR': 455.5, 'DEST_CFS_AREA': '06-488', 'SCTG': '33', 'ORIG_CFS_AREA': '06-99999', 'QUARTER': 2, 'SHIPMT_DIST_GC': 160, 'NAICS': 332, 'MODE': 14, 'DEST_MA': 488}, {'DEST_STATE': 12, 'EXPORT_YN': 'N', 'ORIG_STATE': 47, 'SHIPMT_DIST_ROUTED': 1146, 'EXPORT_CNTRY': 'N', 'SHIPMT_ID': 210003, 'ORIG_MA': 368, 'HAZMAT': 'N', 'SHIPMT_WGHT': 55, 'SHIPMT_VALUE': 689, 'TEMP_CNTL_YN': 'N', 'WGT_FACTOR': 2547.6, 'DEST_CFS_AREA': '12-370', 'SCTG': '35', 'ORIG_CFS_AREA': '47-368', 'QUARTER': 4, 'SHIPMT_DIST_GC': 852, 'NAICS': 4236, 'MODE': 14, 'DEST_MA': 370}, {'DEST_STATE': 55, 'EXPORT_YN': 'N', 'ORIG_STATE': 55, 'SHIPMT_DIST_ROUTED': 261, 'EXPORT_CNTRY': 'N', 'SHIPMT_ID': 210004, 'ORIG_MA': 99999, 'HAZMAT': 'N', 'SHIPMT_WGHT': 133, 'SHIPMT_VALUE': 2744, 'TEMP_CNTL_YN': 'N', 'WGT_FACTOR': 414.4, 'DEST_CFS_AREA': '55-99999', 'SCTG': '34', 'ORIG_CFS_AREA': '55-99999', 'QUARTER': 4, 'SHIPMT_DIST_GC': 194, 'NAICS': 4238, 'MODE': 14, 'DEST_MA': 99999}, {'DEST_STATE': 53, 'EXPORT_YN': 'Y', 'ORIG_STATE': 26, 'SHIPMT_DIST_ROUTED': 2413, 'EXPORT_CNTRY': 'O', 'SHIPMT_ID': 210005, 'ORIG_MA': 266, 'HAZMAT': 'N', 'SHIPMT_WGHT': 5, 'SHIPMT_VALUE': 2359, 'TEMP_CNTL_YN': 'N', 'WGT_FACTOR': 18.1, 'DEST_CFS_AREA': '53-500', 'SCTG': '34', 'ORIG_CFS_AREA': '26-266', 'QUARTER': 4, 'SHIPMT_DIST_GC': 1761, 'NAICS': 332, 'MODE': 14, 'DEST_MA': 500}, {'DEST_STATE': 48, 'EXPORT_YN': 'N', 'ORIG_STATE': 48, 'SHIPMT_DIST_ROUTED': 10, 'EXPORT_CNTRY': 'N', 'SHIPMT_ID': 210006, 'ORIG_MA': 12420, 'HAZMAT': 'N', 'SHIPMT_WGHT': 16, 'SHIPMT_VALUE': 3239, 'TEMP_CNTL_YN': 'N', 'WGT_FACTOR': 53.7, 'DEST_CFS_AREA': '48-12420', 'SCTG': '33', 'ORIG_CFS_AREA': '48-12420', 'QUARTER': 4, 'SHIPMT_DIST_GC': 7, 'NAICS': 4237, 'MODE': 5, 'DEST_MA': 12420}, {'DEST_STATE': 48, 'EXPORT_YN': 'N', 'ORIG_STATE': 48, 'SHIPMT_DIST_ROUTED': 11, 'EXPORT_CNTRY': 'N', 'SHIPMT_ID': 210007, 'ORIG_MA': 99999, 'HAZMAT': 'P', 'SHIPMT_WGHT': 66, 'SHIPMT_VALUE': 30, 'TEMP_CNTL_YN': 'N', 'WGT_FACTOR': 24913.9, 'DEST_CFS_AREA': '48-99999', 'SCTG': '18', 'ORIG_CFS_AREA': '48-99999', 'QUARTER': 1, 'SHIPMT_DIST_GC': 11, 'NAICS': 4247, 'MODE': 4, 'DEST_MA': 99999}, {'DEST_STATE': 47, 'EXPORT_YN': 'N', 'ORIG_STATE': 47, 'SHIPMT_DIST_ROUTED': 35, 'EXPORT_CNTRY': 'N', 'SHIPMT_ID': 210008, 'ORIG_MA': 368, 'HAZMAT': 'N', 'SHIPMT_WGHT': 2, 'SHIPMT_VALUE': 249, 'TEMP_CNTL_YN': 'N', 'WGT_FACTOR': 3833.9, 'DEST_CFS_AREA': '47-368', 'SCTG': '35', 'ORIG_CFS_AREA': '47-368', 'QUARTER': 3, 'SHIPMT_DIST_GC': 31, 'NAICS': 4238, 'MODE': 5, 'DEST_MA': 368}  ... displaying 10 of 10000 total bound parameter sets ...  {'DEST_STATE': 48, 'EXPORT_YN': 'N', 'ORIG_STATE': 47, 'SHIPMT_DIST_ROUTED': 1042, 'EXPORT_CNTRY': 'N', 'SHIPMT_ID': 219999, 'ORIG_MA': 99999, 'HAZMAT': 'N', 'SHIPMT_WGHT': 40249, 'SHIPMT_VALUE': 84524, 'TEMP_CNTL_YN': 'N', 'WGT_FACTOR': 58.2, 'DEST_CFS_AREA': '48-288', 'SCTG': '30', 'ORIG_CFS_AREA': '47-99999', 'QUARTER': 1, 'SHIPMT_DIST_GC': 886, 'NAICS': 325, 'MODE': 4, 'DEST_MA': 288}, {'DEST_STATE': 17, 'EXPORT_YN': 'N', 'ORIG_STATE': 8, 'SHIPMT_DIST_ROUTED': 869, 'EXPORT_CNTRY': 'N', 'SHIPMT_ID': 220000, 'ORIG_MA': 216, 'HAZMAT': 'N', 'SHIPMT_WGHT': 36, 'SHIPMT_VALUE': 2226, 'TEMP_CNTL_YN': 'N', 'WGT_FACTOR': 143.4, 'DEST_CFS_AREA': '17-476', 'SCTG': '33', 'ORIG_CFS_AREA': '08-216', 'QUARTER': 1, 'SHIPMT_DIST_GC': 805, 'NAICS': 333, 'MODE': 14, 'DEST_MA': 476})\n"
     ]
    },
    {
     "name": "stdout",
     "output_type": "stream",
     "text": [
      "2015-11-22 17:49:23,732 INFO sqlalchemy.engine.base.Engine INSERT INTO transactions (\"SHIPMT_ID\", \"ORIG_STATE\", \"ORIG_MA\", \"ORIG_CFS_AREA\", \"DEST_STATE\", \"DEST_MA\", \"DEST_CFS_AREA\", \"NAICS\", \"QUARTER\", \"SCTG\", \"MODE\", \"SHIPMT_VALUE\", \"SHIPMT_WGHT\", \"SHIPMT_DIST_GC\", \"SHIPMT_DIST_ROUTED\", \"TEMP_CNTL_YN\", \"EXPORT_YN\", \"EXPORT_CNTRY\", \"HAZMAT\", \"WGT_FACTOR\") VALUES (%(SHIPMT_ID)s, %(ORIG_STATE)s, %(ORIG_MA)s, %(ORIG_CFS_AREA)s, %(DEST_STATE)s, %(DEST_MA)s, %(DEST_CFS_AREA)s, %(NAICS)s, %(QUARTER)s, %(SCTG)s, %(MODE)s, %(SHIPMT_VALUE)s, %(SHIPMT_WGHT)s, %(SHIPMT_DIST_GC)s, %(SHIPMT_DIST_ROUTED)s, %(TEMP_CNTL_YN)s, %(EXPORT_YN)s, %(EXPORT_CNTRY)s, %(HAZMAT)s, %(WGT_FACTOR)s)\n"
     ]
    },
    {
     "name": "stderr",
     "output_type": "stream",
     "text": [
      "INFO:sqlalchemy.engine.base.Engine:INSERT INTO transactions (\"SHIPMT_ID\", \"ORIG_STATE\", \"ORIG_MA\", \"ORIG_CFS_AREA\", \"DEST_STATE\", \"DEST_MA\", \"DEST_CFS_AREA\", \"NAICS\", \"QUARTER\", \"SCTG\", \"MODE\", \"SHIPMT_VALUE\", \"SHIPMT_WGHT\", \"SHIPMT_DIST_GC\", \"SHIPMT_DIST_ROUTED\", \"TEMP_CNTL_YN\", \"EXPORT_YN\", \"EXPORT_CNTRY\", \"HAZMAT\", \"WGT_FACTOR\") VALUES (%(SHIPMT_ID)s, %(ORIG_STATE)s, %(ORIG_MA)s, %(ORIG_CFS_AREA)s, %(DEST_STATE)s, %(DEST_MA)s, %(DEST_CFS_AREA)s, %(NAICS)s, %(QUARTER)s, %(SCTG)s, %(MODE)s, %(SHIPMT_VALUE)s, %(SHIPMT_WGHT)s, %(SHIPMT_DIST_GC)s, %(SHIPMT_DIST_ROUTED)s, %(TEMP_CNTL_YN)s, %(EXPORT_YN)s, %(EXPORT_CNTRY)s, %(HAZMAT)s, %(WGT_FACTOR)s)\n"
     ]
    },
    {
     "name": "stdout",
     "output_type": "stream",
     "text": [
      "2015-11-22 17:49:23,732 INFO sqlalchemy.engine.base.Engine ({'DEST_STATE': 54, 'EXPORT_YN': 'N', 'ORIG_CFS_AREA': '21-99999', 'SHIPMT_DIST_ROUTED': 306, 'EXPORT_CNTRY': 'N', 'SHIPMT_ID': 220001, 'ORIG_MA': 99999, 'HAZMAT': 'N', 'QUARTER': 3, 'SHIPMT_VALUE': 11620, 'TEMP_CNTL_YN': 'N', 'WGT_FACTOR': 299.8, 'DEST_CFS_AREA': '54-99999', 'SCTG': '09', 'SHIPMT_WGHT': 947, 'SHIPMT_DIST_GC': 261, 'NAICS': 312, 'ORIG_STATE': 21, 'MODE': 4, 'DEST_MA': 99999}, {'DEST_STATE': 21, 'EXPORT_YN': 'N', 'ORIG_CFS_AREA': '31-420', 'SHIPMT_DIST_ROUTED': 713, 'EXPORT_CNTRY': 'N', 'SHIPMT_ID': 220002, 'ORIG_MA': 420, 'HAZMAT': 'N', 'QUARTER': 2, 'SHIPMT_VALUE': 46, 'TEMP_CNTL_YN': 'N', 'WGT_FACTOR': 40.1, 'DEST_CFS_AREA': '21-350', 'SCTG': '24', 'SHIPMT_WGHT': 18, 'SHIPMT_DIST_GC': 592, 'NAICS': 314, 'ORIG_STATE': 31, 'MODE': 14, 'DEST_MA': 350}, {'DEST_STATE': 30, 'EXPORT_YN': 'Y', 'ORIG_CFS_AREA': '06-348', 'SHIPMT_DIST_ROUTED': 1385, 'EXPORT_CNTRY': 'C', 'SHIPMT_ID': 220003, 'ORIG_MA': 348, 'HAZMAT': 'N', 'QUARTER': 4, 'SHIPMT_VALUE': 7296, 'TEMP_CNTL_YN': 'N', 'WGT_FACTOR': 297.1, 'DEST_CFS_AREA': '30-99999', 'SCTG': '40', 'SHIPMT_WGHT': 2163, 'SHIPMT_DIST_GC': 1065, 'NAICS': 332, 'ORIG_STATE': 6, 'MODE': 4, 'DEST_MA': 99999}, {'DEST_STATE': 39, 'EXPORT_YN': 'N', 'ORIG_CFS_AREA': '39-178', 'SHIPMT_DIST_ROUTED': 14, 'EXPORT_CNTRY': 'N', 'SHIPMT_ID': 220004, 'ORIG_MA': 178, 'HAZMAT': 'N', 'QUARTER': 3, 'SHIPMT_VALUE': 168, 'TEMP_CNTL_YN': 'N', 'WGT_FACTOR': 2961.4, 'DEST_CFS_AREA': '39-178', 'SCTG': '36', 'SHIPMT_WGHT': 3, 'SHIPMT_DIST_GC': 9, 'NAICS': 4231, 'ORIG_STATE': 39, 'MODE': 5, 'DEST_MA': 178}, {'DEST_STATE': 5, 'EXPORT_YN': 'N', 'ORIG_CFS_AREA': '17-176', 'SHIPMT_DIST_ROUTED': 649, 'EXPORT_CNTRY': 'N', 'SHIPMT_ID': 220005, 'ORIG_MA': 176, 'HAZMAT': 'N', 'QUARTER': 4, 'SHIPMT_VALUE': 576, 'TEMP_CNTL_YN': 'N', 'WGT_FACTOR': 7464.8, 'DEST_CFS_AREA': '05-99999', 'SCTG': '40', 'SHIPMT_WGHT': 23, 'SHIPMT_DIST_GC': 537, 'NAICS': 4239, 'ORIG_STATE': 17, 'MODE': 14, 'DEST_MA': 99999}, {'DEST_STATE': 39, 'EXPORT_YN': 'N', 'ORIG_CFS_AREA': '39-99999', 'SHIPMT_DIST_ROUTED': 36, 'EXPORT_CNTRY': 'N', 'SHIPMT_ID': 220006, 'ORIG_MA': 99999, 'HAZMAT': 'N', 'QUARTER': 3, 'SHIPMT_VALUE': 127, 'TEMP_CNTL_YN': 'Y', 'WGT_FACTOR': 600.3, 'DEST_CFS_AREA': '39-99999', 'SCTG': '03', 'SHIPMT_WGHT': 273, 'SHIPMT_DIST_GC': 29, 'NAICS': 4244, 'ORIG_STATE': 39, 'MODE': 4, 'DEST_MA': 99999}, {'DEST_STATE': 6, 'EXPORT_YN': 'N', 'ORIG_CFS_AREA': '06-488', 'SHIPMT_DIST_ROUTED': 31, 'EXPORT_CNTRY': 'N', 'SHIPMT_ID': 220007, 'ORIG_MA': 488, 'HAZMAT': 'N', 'QUARTER': 4, 'SHIPMT_VALUE': 1573, 'TEMP_CNTL_YN': 'N', 'WGT_FACTOR': 543.6, 'DEST_CFS_AREA': '06-488', 'SCTG': '19', 'SHIPMT_WGHT': 201, 'SHIPMT_DIST_GC': 26, 'NAICS': 4247, 'ORIG_STATE': 6, 'MODE': 5, 'DEST_MA': 488}, {'DEST_STATE': 45, 'EXPORT_YN': 'N', 'ORIG_CFS_AREA': '54-99999', 'SHIPMT_DIST_ROUTED': 469, 'EXPORT_CNTRY': 'N', 'SHIPMT_ID': 220008, 'ORIG_MA': 99999, 'HAZMAT': 'N', 'QUARTER': 4, 'SHIPMT_VALUE': 13592, 'TEMP_CNTL_YN': 'N', 'WGT_FACTOR': 37.8, 'DEST_CFS_AREA': '45-99999', 'SCTG': '26', 'SHIPMT_WGHT': 24526, 'SHIPMT_DIST_GC': 382, 'NAICS': 321, 'ORIG_STATE': 54, 'MODE': 4, 'DEST_MA': 99999}  ... displaying 10 of 10000 total bound parameter sets ...  {'DEST_STATE': 48, 'EXPORT_YN': 'N', 'ORIG_CFS_AREA': '48-288', 'SHIPMT_DIST_ROUTED': 13, 'EXPORT_CNTRY': 'N', 'SHIPMT_ID': 229999, 'ORIG_MA': 288, 'HAZMAT': 'N', 'QUARTER': 2, 'SHIPMT_VALUE': 940, 'TEMP_CNTL_YN': 'N', 'WGT_FACTOR': 1299.1, 'DEST_CFS_AREA': '48-288', 'SCTG': '29', 'SHIPMT_WGHT': 6, 'SHIPMT_DIST_GC': 9, 'NAICS': 339, 'ORIG_STATE': 48, 'MODE': 4, 'DEST_MA': 288}, {'DEST_STATE': 22, 'EXPORT_YN': 'N', 'ORIG_CFS_AREA': '01-380', 'SHIPMT_DIST_ROUTED': 134, 'EXPORT_CNTRY': 'N', 'SHIPMT_ID': 230000, 'ORIG_MA': 380, 'HAZMAT': 'N', 'QUARTER': 1, 'SHIPMT_VALUE': 1379, 'TEMP_CNTL_YN': 'Y', 'WGT_FACTOR': 171.2, 'DEST_CFS_AREA': '22-406', 'SCTG': '05', 'SHIPMT_WGHT': 387, 'SHIPMT_DIST_GC': 121, 'NAICS': 4244, 'ORIG_STATE': 1, 'MODE': 5, 'DEST_MA': 406})\n"
     ]
    },
    {
     "name": "stderr",
     "output_type": "stream",
     "text": [
      "INFO:sqlalchemy.engine.base.Engine:({'DEST_STATE': 54, 'EXPORT_YN': 'N', 'ORIG_CFS_AREA': '21-99999', 'SHIPMT_DIST_ROUTED': 306, 'EXPORT_CNTRY': 'N', 'SHIPMT_ID': 220001, 'ORIG_MA': 99999, 'HAZMAT': 'N', 'QUARTER': 3, 'SHIPMT_VALUE': 11620, 'TEMP_CNTL_YN': 'N', 'WGT_FACTOR': 299.8, 'DEST_CFS_AREA': '54-99999', 'SCTG': '09', 'SHIPMT_WGHT': 947, 'SHIPMT_DIST_GC': 261, 'NAICS': 312, 'ORIG_STATE': 21, 'MODE': 4, 'DEST_MA': 99999}, {'DEST_STATE': 21, 'EXPORT_YN': 'N', 'ORIG_CFS_AREA': '31-420', 'SHIPMT_DIST_ROUTED': 713, 'EXPORT_CNTRY': 'N', 'SHIPMT_ID': 220002, 'ORIG_MA': 420, 'HAZMAT': 'N', 'QUARTER': 2, 'SHIPMT_VALUE': 46, 'TEMP_CNTL_YN': 'N', 'WGT_FACTOR': 40.1, 'DEST_CFS_AREA': '21-350', 'SCTG': '24', 'SHIPMT_WGHT': 18, 'SHIPMT_DIST_GC': 592, 'NAICS': 314, 'ORIG_STATE': 31, 'MODE': 14, 'DEST_MA': 350}, {'DEST_STATE': 30, 'EXPORT_YN': 'Y', 'ORIG_CFS_AREA': '06-348', 'SHIPMT_DIST_ROUTED': 1385, 'EXPORT_CNTRY': 'C', 'SHIPMT_ID': 220003, 'ORIG_MA': 348, 'HAZMAT': 'N', 'QUARTER': 4, 'SHIPMT_VALUE': 7296, 'TEMP_CNTL_YN': 'N', 'WGT_FACTOR': 297.1, 'DEST_CFS_AREA': '30-99999', 'SCTG': '40', 'SHIPMT_WGHT': 2163, 'SHIPMT_DIST_GC': 1065, 'NAICS': 332, 'ORIG_STATE': 6, 'MODE': 4, 'DEST_MA': 99999}, {'DEST_STATE': 39, 'EXPORT_YN': 'N', 'ORIG_CFS_AREA': '39-178', 'SHIPMT_DIST_ROUTED': 14, 'EXPORT_CNTRY': 'N', 'SHIPMT_ID': 220004, 'ORIG_MA': 178, 'HAZMAT': 'N', 'QUARTER': 3, 'SHIPMT_VALUE': 168, 'TEMP_CNTL_YN': 'N', 'WGT_FACTOR': 2961.4, 'DEST_CFS_AREA': '39-178', 'SCTG': '36', 'SHIPMT_WGHT': 3, 'SHIPMT_DIST_GC': 9, 'NAICS': 4231, 'ORIG_STATE': 39, 'MODE': 5, 'DEST_MA': 178}, {'DEST_STATE': 5, 'EXPORT_YN': 'N', 'ORIG_CFS_AREA': '17-176', 'SHIPMT_DIST_ROUTED': 649, 'EXPORT_CNTRY': 'N', 'SHIPMT_ID': 220005, 'ORIG_MA': 176, 'HAZMAT': 'N', 'QUARTER': 4, 'SHIPMT_VALUE': 576, 'TEMP_CNTL_YN': 'N', 'WGT_FACTOR': 7464.8, 'DEST_CFS_AREA': '05-99999', 'SCTG': '40', 'SHIPMT_WGHT': 23, 'SHIPMT_DIST_GC': 537, 'NAICS': 4239, 'ORIG_STATE': 17, 'MODE': 14, 'DEST_MA': 99999}, {'DEST_STATE': 39, 'EXPORT_YN': 'N', 'ORIG_CFS_AREA': '39-99999', 'SHIPMT_DIST_ROUTED': 36, 'EXPORT_CNTRY': 'N', 'SHIPMT_ID': 220006, 'ORIG_MA': 99999, 'HAZMAT': 'N', 'QUARTER': 3, 'SHIPMT_VALUE': 127, 'TEMP_CNTL_YN': 'Y', 'WGT_FACTOR': 600.3, 'DEST_CFS_AREA': '39-99999', 'SCTG': '03', 'SHIPMT_WGHT': 273, 'SHIPMT_DIST_GC': 29, 'NAICS': 4244, 'ORIG_STATE': 39, 'MODE': 4, 'DEST_MA': 99999}, {'DEST_STATE': 6, 'EXPORT_YN': 'N', 'ORIG_CFS_AREA': '06-488', 'SHIPMT_DIST_ROUTED': 31, 'EXPORT_CNTRY': 'N', 'SHIPMT_ID': 220007, 'ORIG_MA': 488, 'HAZMAT': 'N', 'QUARTER': 4, 'SHIPMT_VALUE': 1573, 'TEMP_CNTL_YN': 'N', 'WGT_FACTOR': 543.6, 'DEST_CFS_AREA': '06-488', 'SCTG': '19', 'SHIPMT_WGHT': 201, 'SHIPMT_DIST_GC': 26, 'NAICS': 4247, 'ORIG_STATE': 6, 'MODE': 5, 'DEST_MA': 488}, {'DEST_STATE': 45, 'EXPORT_YN': 'N', 'ORIG_CFS_AREA': '54-99999', 'SHIPMT_DIST_ROUTED': 469, 'EXPORT_CNTRY': 'N', 'SHIPMT_ID': 220008, 'ORIG_MA': 99999, 'HAZMAT': 'N', 'QUARTER': 4, 'SHIPMT_VALUE': 13592, 'TEMP_CNTL_YN': 'N', 'WGT_FACTOR': 37.8, 'DEST_CFS_AREA': '45-99999', 'SCTG': '26', 'SHIPMT_WGHT': 24526, 'SHIPMT_DIST_GC': 382, 'NAICS': 321, 'ORIG_STATE': 54, 'MODE': 4, 'DEST_MA': 99999}  ... displaying 10 of 10000 total bound parameter sets ...  {'DEST_STATE': 48, 'EXPORT_YN': 'N', 'ORIG_CFS_AREA': '48-288', 'SHIPMT_DIST_ROUTED': 13, 'EXPORT_CNTRY': 'N', 'SHIPMT_ID': 229999, 'ORIG_MA': 288, 'HAZMAT': 'N', 'QUARTER': 2, 'SHIPMT_VALUE': 940, 'TEMP_CNTL_YN': 'N', 'WGT_FACTOR': 1299.1, 'DEST_CFS_AREA': '48-288', 'SCTG': '29', 'SHIPMT_WGHT': 6, 'SHIPMT_DIST_GC': 9, 'NAICS': 339, 'ORIG_STATE': 48, 'MODE': 4, 'DEST_MA': 288}, {'DEST_STATE': 22, 'EXPORT_YN': 'N', 'ORIG_CFS_AREA': '01-380', 'SHIPMT_DIST_ROUTED': 134, 'EXPORT_CNTRY': 'N', 'SHIPMT_ID': 230000, 'ORIG_MA': 380, 'HAZMAT': 'N', 'QUARTER': 1, 'SHIPMT_VALUE': 1379, 'TEMP_CNTL_YN': 'Y', 'WGT_FACTOR': 171.2, 'DEST_CFS_AREA': '22-406', 'SCTG': '05', 'SHIPMT_WGHT': 387, 'SHIPMT_DIST_GC': 121, 'NAICS': 4244, 'ORIG_STATE': 1, 'MODE': 5, 'DEST_MA': 406})\n"
     ]
    },
    {
     "name": "stdout",
     "output_type": "stream",
     "text": [
      "2015-11-22 17:53:29,015 INFO sqlalchemy.engine.base.Engine INSERT INTO transactions (\"SHIPMT_ID\", \"ORIG_STATE\", \"ORIG_MA\", \"ORIG_CFS_AREA\", \"DEST_STATE\", \"DEST_MA\", \"DEST_CFS_AREA\", \"NAICS\", \"QUARTER\", \"SCTG\", \"MODE\", \"SHIPMT_VALUE\", \"SHIPMT_WGHT\", \"SHIPMT_DIST_GC\", \"SHIPMT_DIST_ROUTED\", \"TEMP_CNTL_YN\", \"EXPORT_YN\", \"EXPORT_CNTRY\", \"HAZMAT\", \"WGT_FACTOR\") VALUES (%(SHIPMT_ID)s, %(ORIG_STATE)s, %(ORIG_MA)s, %(ORIG_CFS_AREA)s, %(DEST_STATE)s, %(DEST_MA)s, %(DEST_CFS_AREA)s, %(NAICS)s, %(QUARTER)s, %(SCTG)s, %(MODE)s, %(SHIPMT_VALUE)s, %(SHIPMT_WGHT)s, %(SHIPMT_DIST_GC)s, %(SHIPMT_DIST_ROUTED)s, %(TEMP_CNTL_YN)s, %(EXPORT_YN)s, %(EXPORT_CNTRY)s, %(HAZMAT)s, %(WGT_FACTOR)s)\n"
     ]
    },
    {
     "name": "stderr",
     "output_type": "stream",
     "text": [
      "INFO:sqlalchemy.engine.base.Engine:INSERT INTO transactions (\"SHIPMT_ID\", \"ORIG_STATE\", \"ORIG_MA\", \"ORIG_CFS_AREA\", \"DEST_STATE\", \"DEST_MA\", \"DEST_CFS_AREA\", \"NAICS\", \"QUARTER\", \"SCTG\", \"MODE\", \"SHIPMT_VALUE\", \"SHIPMT_WGHT\", \"SHIPMT_DIST_GC\", \"SHIPMT_DIST_ROUTED\", \"TEMP_CNTL_YN\", \"EXPORT_YN\", \"EXPORT_CNTRY\", \"HAZMAT\", \"WGT_FACTOR\") VALUES (%(SHIPMT_ID)s, %(ORIG_STATE)s, %(ORIG_MA)s, %(ORIG_CFS_AREA)s, %(DEST_STATE)s, %(DEST_MA)s, %(DEST_CFS_AREA)s, %(NAICS)s, %(QUARTER)s, %(SCTG)s, %(MODE)s, %(SHIPMT_VALUE)s, %(SHIPMT_WGHT)s, %(SHIPMT_DIST_GC)s, %(SHIPMT_DIST_ROUTED)s, %(TEMP_CNTL_YN)s, %(EXPORT_YN)s, %(EXPORT_CNTRY)s, %(HAZMAT)s, %(WGT_FACTOR)s)\n"
     ]
    },
    {
     "name": "stdout",
     "output_type": "stream",
     "text": [
      "2015-11-22 17:53:29,016 INFO sqlalchemy.engine.base.Engine ({'DEST_STATE': 48, 'EXPORT_YN': 'N', 'ORIG_STATE': 48, 'SHIPMT_DIST_ROUTED': 13, 'EXPORT_CNTRY': 'N', 'SHIPMT_ID': 230001, 'ORIG_MA': 288, 'HAZMAT': 'N', 'SHIPMT_WGHT': 161, 'SHIPMT_VALUE': 987, 'TEMP_CNTL_YN': 'N', 'QUARTER': 1, 'DEST_CFS_AREA': '48-288', 'SCTG': '43', 'ORIG_CFS_AREA': '48-288', 'WGT_FACTOR': 721.3, 'SHIPMT_DIST_GC': 8, 'NAICS': 4241, 'MODE': 5, 'DEST_MA': 288}, {'DEST_STATE': 35, 'EXPORT_YN': 'N', 'ORIG_STATE': 48, 'SHIPMT_DIST_ROUTED': 99, 'EXPORT_CNTRY': 'N', 'SHIPMT_ID': 230002, 'ORIG_MA': 99999, 'HAZMAT': 'N', 'SHIPMT_WGHT': 2278, 'SHIPMT_VALUE': 1595, 'TEMP_CNTL_YN': 'N', 'QUARTER': 3, 'DEST_CFS_AREA': '35-99999', 'SCTG': '20', 'ORIG_CFS_AREA': '48-99999', 'WGT_FACTOR': 1357.5, 'SHIPMT_DIST_GC': 77, 'NAICS': 4246, 'MODE': 5, 'DEST_MA': 99999}, {'DEST_STATE': 34, 'EXPORT_YN': 'N', 'ORIG_STATE': 45, 'SHIPMT_DIST_ROUTED': 640, 'EXPORT_CNTRY': 'N', 'SHIPMT_ID': 230003, 'ORIG_MA': 99999, 'HAZMAT': 'N', 'SHIPMT_WGHT': 410, 'SHIPMT_VALUE': 1728, 'TEMP_CNTL_YN': 'N', 'QUARTER': 2, 'DEST_CFS_AREA': '34-408', 'SCTG': '29', 'ORIG_CFS_AREA': '45-99999', 'WGT_FACTOR': 523.6, 'SHIPMT_DIST_GC': 519, 'NAICS': 323, 'MODE': 4, 'DEST_MA': 408}, {'DEST_STATE': 25, 'EXPORT_YN': 'N', 'ORIG_STATE': 41, 'SHIPMT_DIST_ROUTED': 3157, 'EXPORT_CNTRY': 'N', 'SHIPMT_ID': 230004, 'ORIG_MA': 99999, 'HAZMAT': 'N', 'SHIPMT_WGHT': 1, 'SHIPMT_VALUE': 3261, 'TEMP_CNTL_YN': 'N', 'QUARTER': 3, 'DEST_CFS_AREA': '25-148', 'SCTG': '35', 'ORIG_CFS_AREA': '41-99999', 'WGT_FACTOR': 229.6, 'SHIPMT_DIST_GC': 2573, 'NAICS': 4234, 'MODE': 14, 'DEST_MA': 148}, {'DEST_STATE': 48, 'EXPORT_YN': 'N', 'ORIG_STATE': 34, 'SHIPMT_DIST_ROUTED': 2122, 'EXPORT_CNTRY': 'N', 'SHIPMT_ID': 230005, 'ORIG_MA': 428, 'HAZMAT': 'N', 'SHIPMT_WGHT': 56, 'SHIPMT_VALUE': 5921, 'TEMP_CNTL_YN': 'N', 'QUARTER': 4, 'DEST_CFS_AREA': '48-238', 'SCTG': '35', 'ORIG_CFS_AREA': '34-428', 'WGT_FACTOR': 451.1, 'SHIPMT_DIST_GC': 1847, 'NAICS': 4236, 'MODE': 4, 'DEST_MA': 238}, {'DEST_STATE': 49, 'EXPORT_YN': 'N', 'ORIG_STATE': 49, 'SHIPMT_DIST_ROUTED': 147, 'EXPORT_CNTRY': 'N', 'SHIPMT_ID': 230006, 'ORIG_MA': 99999, 'HAZMAT': 'N', 'SHIPMT_WGHT': 92370, 'SHIPMT_VALUE': 2032, 'TEMP_CNTL_YN': 'N', 'QUARTER': 2, 'DEST_CFS_AREA': '49-482', 'SCTG': '15', 'ORIG_CFS_AREA': '49-99999', 'WGT_FACTOR': 37.2, 'SHIPMT_DIST_GC': 92, 'NAICS': 212, 'MODE': 4, 'DEST_MA': 482}, {'DEST_STATE': 13, 'EXPORT_YN': 'N', 'ORIG_STATE': 13, 'SHIPMT_DIST_ROUTED': 11, 'EXPORT_CNTRY': 'N', 'SHIPMT_ID': 230007, 'ORIG_MA': 122, 'HAZMAT': 'N', 'SHIPMT_WGHT': 42374, 'SHIPMT_VALUE': 154, 'TEMP_CNTL_YN': 'N', 'QUARTER': 3, 'DEST_CFS_AREA': '13-122', 'SCTG': '12', 'ORIG_CFS_AREA': '13-122', 'WGT_FACTOR': 329.0, 'SHIPMT_DIST_GC': 8, 'NAICS': 212, 'MODE': 5, 'DEST_MA': 122}, {'DEST_STATE': 48, 'EXPORT_YN': 'N', 'ORIG_STATE': 48, 'SHIPMT_DIST_ROUTED': 249, 'EXPORT_CNTRY': 'N', 'SHIPMT_ID': 230008, 'ORIG_MA': 206, 'HAZMAT': 'N', 'SHIPMT_WGHT': 7334, 'SHIPMT_VALUE': 83746, 'TEMP_CNTL_YN': 'N', 'QUARTER': 1, 'DEST_CFS_AREA': '48-41700', 'SCTG': '23', 'ORIG_CFS_AREA': '48-206', 'WGT_FACTOR': 1157.1, 'SHIPMT_DIST_GC': 222, 'NAICS': 4931, 'MODE': 5, 'DEST_MA': 41700}  ... displaying 10 of 10000 total bound parameter sets ...  {'DEST_STATE': 8, 'EXPORT_YN': 'N', 'ORIG_STATE': 6, 'SHIPMT_DIST_ROUTED': 987, 'EXPORT_CNTRY': 'N', 'SHIPMT_ID': 239999, 'ORIG_MA': 348, 'HAZMAT': 'N', 'SHIPMT_WGHT': 444, 'SHIPMT_VALUE': 289, 'TEMP_CNTL_YN': 'N', 'QUARTER': 2, 'DEST_CFS_AREA': '08-216', 'SCTG': '24', 'ORIG_CFS_AREA': '06-348', 'WGT_FACTOR': 642.2, 'SHIPMT_DIST_GC': 791, 'NAICS': 326, 'MODE': 4, 'DEST_MA': 216}, {'DEST_STATE': 6, 'EXPORT_YN': 'N', 'ORIG_STATE': 49, 'SHIPMT_DIST_ROUTED': 772, 'EXPORT_CNTRY': 'N', 'SHIPMT_ID': 240000, 'ORIG_MA': 482, 'HAZMAT': 'N', 'SHIPMT_WGHT': 1, 'SHIPMT_VALUE': 11, 'TEMP_CNTL_YN': 'N', 'QUARTER': 4, 'DEST_CFS_AREA': '06-488', 'SCTG': '30', 'ORIG_CFS_AREA': '49-482', 'WGT_FACTOR': 2221.0, 'SHIPMT_DIST_GC': 593, 'NAICS': 4541, 'MODE': 14, 'DEST_MA': 488})\n"
     ]
    },
    {
     "name": "stderr",
     "output_type": "stream",
     "text": [
      "INFO:sqlalchemy.engine.base.Engine:({'DEST_STATE': 48, 'EXPORT_YN': 'N', 'ORIG_STATE': 48, 'SHIPMT_DIST_ROUTED': 13, 'EXPORT_CNTRY': 'N', 'SHIPMT_ID': 230001, 'ORIG_MA': 288, 'HAZMAT': 'N', 'SHIPMT_WGHT': 161, 'SHIPMT_VALUE': 987, 'TEMP_CNTL_YN': 'N', 'QUARTER': 1, 'DEST_CFS_AREA': '48-288', 'SCTG': '43', 'ORIG_CFS_AREA': '48-288', 'WGT_FACTOR': 721.3, 'SHIPMT_DIST_GC': 8, 'NAICS': 4241, 'MODE': 5, 'DEST_MA': 288}, {'DEST_STATE': 35, 'EXPORT_YN': 'N', 'ORIG_STATE': 48, 'SHIPMT_DIST_ROUTED': 99, 'EXPORT_CNTRY': 'N', 'SHIPMT_ID': 230002, 'ORIG_MA': 99999, 'HAZMAT': 'N', 'SHIPMT_WGHT': 2278, 'SHIPMT_VALUE': 1595, 'TEMP_CNTL_YN': 'N', 'QUARTER': 3, 'DEST_CFS_AREA': '35-99999', 'SCTG': '20', 'ORIG_CFS_AREA': '48-99999', 'WGT_FACTOR': 1357.5, 'SHIPMT_DIST_GC': 77, 'NAICS': 4246, 'MODE': 5, 'DEST_MA': 99999}, {'DEST_STATE': 34, 'EXPORT_YN': 'N', 'ORIG_STATE': 45, 'SHIPMT_DIST_ROUTED': 640, 'EXPORT_CNTRY': 'N', 'SHIPMT_ID': 230003, 'ORIG_MA': 99999, 'HAZMAT': 'N', 'SHIPMT_WGHT': 410, 'SHIPMT_VALUE': 1728, 'TEMP_CNTL_YN': 'N', 'QUARTER': 2, 'DEST_CFS_AREA': '34-408', 'SCTG': '29', 'ORIG_CFS_AREA': '45-99999', 'WGT_FACTOR': 523.6, 'SHIPMT_DIST_GC': 519, 'NAICS': 323, 'MODE': 4, 'DEST_MA': 408}, {'DEST_STATE': 25, 'EXPORT_YN': 'N', 'ORIG_STATE': 41, 'SHIPMT_DIST_ROUTED': 3157, 'EXPORT_CNTRY': 'N', 'SHIPMT_ID': 230004, 'ORIG_MA': 99999, 'HAZMAT': 'N', 'SHIPMT_WGHT': 1, 'SHIPMT_VALUE': 3261, 'TEMP_CNTL_YN': 'N', 'QUARTER': 3, 'DEST_CFS_AREA': '25-148', 'SCTG': '35', 'ORIG_CFS_AREA': '41-99999', 'WGT_FACTOR': 229.6, 'SHIPMT_DIST_GC': 2573, 'NAICS': 4234, 'MODE': 14, 'DEST_MA': 148}, {'DEST_STATE': 48, 'EXPORT_YN': 'N', 'ORIG_STATE': 34, 'SHIPMT_DIST_ROUTED': 2122, 'EXPORT_CNTRY': 'N', 'SHIPMT_ID': 230005, 'ORIG_MA': 428, 'HAZMAT': 'N', 'SHIPMT_WGHT': 56, 'SHIPMT_VALUE': 5921, 'TEMP_CNTL_YN': 'N', 'QUARTER': 4, 'DEST_CFS_AREA': '48-238', 'SCTG': '35', 'ORIG_CFS_AREA': '34-428', 'WGT_FACTOR': 451.1, 'SHIPMT_DIST_GC': 1847, 'NAICS': 4236, 'MODE': 4, 'DEST_MA': 238}, {'DEST_STATE': 49, 'EXPORT_YN': 'N', 'ORIG_STATE': 49, 'SHIPMT_DIST_ROUTED': 147, 'EXPORT_CNTRY': 'N', 'SHIPMT_ID': 230006, 'ORIG_MA': 99999, 'HAZMAT': 'N', 'SHIPMT_WGHT': 92370, 'SHIPMT_VALUE': 2032, 'TEMP_CNTL_YN': 'N', 'QUARTER': 2, 'DEST_CFS_AREA': '49-482', 'SCTG': '15', 'ORIG_CFS_AREA': '49-99999', 'WGT_FACTOR': 37.2, 'SHIPMT_DIST_GC': 92, 'NAICS': 212, 'MODE': 4, 'DEST_MA': 482}, {'DEST_STATE': 13, 'EXPORT_YN': 'N', 'ORIG_STATE': 13, 'SHIPMT_DIST_ROUTED': 11, 'EXPORT_CNTRY': 'N', 'SHIPMT_ID': 230007, 'ORIG_MA': 122, 'HAZMAT': 'N', 'SHIPMT_WGHT': 42374, 'SHIPMT_VALUE': 154, 'TEMP_CNTL_YN': 'N', 'QUARTER': 3, 'DEST_CFS_AREA': '13-122', 'SCTG': '12', 'ORIG_CFS_AREA': '13-122', 'WGT_FACTOR': 329.0, 'SHIPMT_DIST_GC': 8, 'NAICS': 212, 'MODE': 5, 'DEST_MA': 122}, {'DEST_STATE': 48, 'EXPORT_YN': 'N', 'ORIG_STATE': 48, 'SHIPMT_DIST_ROUTED': 249, 'EXPORT_CNTRY': 'N', 'SHIPMT_ID': 230008, 'ORIG_MA': 206, 'HAZMAT': 'N', 'SHIPMT_WGHT': 7334, 'SHIPMT_VALUE': 83746, 'TEMP_CNTL_YN': 'N', 'QUARTER': 1, 'DEST_CFS_AREA': '48-41700', 'SCTG': '23', 'ORIG_CFS_AREA': '48-206', 'WGT_FACTOR': 1157.1, 'SHIPMT_DIST_GC': 222, 'NAICS': 4931, 'MODE': 5, 'DEST_MA': 41700}  ... displaying 10 of 10000 total bound parameter sets ...  {'DEST_STATE': 8, 'EXPORT_YN': 'N', 'ORIG_STATE': 6, 'SHIPMT_DIST_ROUTED': 987, 'EXPORT_CNTRY': 'N', 'SHIPMT_ID': 239999, 'ORIG_MA': 348, 'HAZMAT': 'N', 'SHIPMT_WGHT': 444, 'SHIPMT_VALUE': 289, 'TEMP_CNTL_YN': 'N', 'QUARTER': 2, 'DEST_CFS_AREA': '08-216', 'SCTG': '24', 'ORIG_CFS_AREA': '06-348', 'WGT_FACTOR': 642.2, 'SHIPMT_DIST_GC': 791, 'NAICS': 326, 'MODE': 4, 'DEST_MA': 216}, {'DEST_STATE': 6, 'EXPORT_YN': 'N', 'ORIG_STATE': 49, 'SHIPMT_DIST_ROUTED': 772, 'EXPORT_CNTRY': 'N', 'SHIPMT_ID': 240000, 'ORIG_MA': 482, 'HAZMAT': 'N', 'SHIPMT_WGHT': 1, 'SHIPMT_VALUE': 11, 'TEMP_CNTL_YN': 'N', 'QUARTER': 4, 'DEST_CFS_AREA': '06-488', 'SCTG': '30', 'ORIG_CFS_AREA': '49-482', 'WGT_FACTOR': 2221.0, 'SHIPMT_DIST_GC': 593, 'NAICS': 4541, 'MODE': 14, 'DEST_MA': 488})\n"
     ]
    },
    {
     "name": "stdout",
     "output_type": "stream",
     "text": [
      "2015-11-22 17:57:36,164 INFO sqlalchemy.engine.base.Engine INSERT INTO transactions (\"SHIPMT_ID\", \"ORIG_STATE\", \"ORIG_MA\", \"ORIG_CFS_AREA\", \"DEST_STATE\", \"DEST_MA\", \"DEST_CFS_AREA\", \"NAICS\", \"QUARTER\", \"SCTG\", \"MODE\", \"SHIPMT_VALUE\", \"SHIPMT_WGHT\", \"SHIPMT_DIST_GC\", \"SHIPMT_DIST_ROUTED\", \"TEMP_CNTL_YN\", \"EXPORT_YN\", \"EXPORT_CNTRY\", \"HAZMAT\", \"WGT_FACTOR\") VALUES (%(SHIPMT_ID)s, %(ORIG_STATE)s, %(ORIG_MA)s, %(ORIG_CFS_AREA)s, %(DEST_STATE)s, %(DEST_MA)s, %(DEST_CFS_AREA)s, %(NAICS)s, %(QUARTER)s, %(SCTG)s, %(MODE)s, %(SHIPMT_VALUE)s, %(SHIPMT_WGHT)s, %(SHIPMT_DIST_GC)s, %(SHIPMT_DIST_ROUTED)s, %(TEMP_CNTL_YN)s, %(EXPORT_YN)s, %(EXPORT_CNTRY)s, %(HAZMAT)s, %(WGT_FACTOR)s)\n"
     ]
    },
    {
     "name": "stderr",
     "output_type": "stream",
     "text": [
      "INFO:sqlalchemy.engine.base.Engine:INSERT INTO transactions (\"SHIPMT_ID\", \"ORIG_STATE\", \"ORIG_MA\", \"ORIG_CFS_AREA\", \"DEST_STATE\", \"DEST_MA\", \"DEST_CFS_AREA\", \"NAICS\", \"QUARTER\", \"SCTG\", \"MODE\", \"SHIPMT_VALUE\", \"SHIPMT_WGHT\", \"SHIPMT_DIST_GC\", \"SHIPMT_DIST_ROUTED\", \"TEMP_CNTL_YN\", \"EXPORT_YN\", \"EXPORT_CNTRY\", \"HAZMAT\", \"WGT_FACTOR\") VALUES (%(SHIPMT_ID)s, %(ORIG_STATE)s, %(ORIG_MA)s, %(ORIG_CFS_AREA)s, %(DEST_STATE)s, %(DEST_MA)s, %(DEST_CFS_AREA)s, %(NAICS)s, %(QUARTER)s, %(SCTG)s, %(MODE)s, %(SHIPMT_VALUE)s, %(SHIPMT_WGHT)s, %(SHIPMT_DIST_GC)s, %(SHIPMT_DIST_ROUTED)s, %(TEMP_CNTL_YN)s, %(EXPORT_YN)s, %(EXPORT_CNTRY)s, %(HAZMAT)s, %(WGT_FACTOR)s)\n"
     ]
    },
    {
     "name": "stdout",
     "output_type": "stream",
     "text": [
      "2015-11-22 17:57:36,165 INFO sqlalchemy.engine.base.Engine ({'EXPORT_YN': 'N', 'ORIG_CFS_AREA': '22-99999', 'SHIPMT_DIST_ROUTED': 263, 'EXPORT_CNTRY': 'N', 'ORIG_STATE': 22, 'DEST_CFS_AREA': '47-368', 'HAZMAT': 'N', 'ORIG_MA': 99999, 'SHIPMT_ID': 240001, 'SHIPMT_VALUE': 367, 'TEMP_CNTL_YN': 'N', 'WGT_FACTOR': 296.4, 'DEST_STATE': 47, 'QUARTER': 2, 'SHIPMT_WGHT': 1021, 'SCTG': '07', 'NAICS': 312, 'SHIPMT_DIST_GC': 221, 'MODE': 4, 'DEST_MA': 368}, {'EXPORT_YN': 'N', 'ORIG_CFS_AREA': '12-300', 'SHIPMT_DIST_ROUTED': 1230, 'EXPORT_CNTRY': 'N', 'ORIG_STATE': 12, 'DEST_CFS_AREA': '25-148', 'HAZMAT': 'N', 'ORIG_MA': 300, 'SHIPMT_ID': 240002, 'SHIPMT_VALUE': 25383, 'TEMP_CNTL_YN': 'N', 'WGT_FACTOR': 321.9, 'DEST_STATE': 25, 'QUARTER': 1, 'SHIPMT_WGHT': 18349, 'SCTG': '28', 'NAICS': 322, 'SHIPMT_DIST_GC': 1067, 'MODE': 4, 'DEST_MA': 148}, {'EXPORT_YN': 'N', 'ORIG_CFS_AREA': '05-99999', 'SHIPMT_DIST_ROUTED': 337, 'EXPORT_CNTRY': 'N', 'ORIG_STATE': 5, 'DEST_CFS_AREA': '48-99999', 'HAZMAT': 'N', 'ORIG_MA': 99999, 'SHIPMT_ID': 240003, 'SHIPMT_VALUE': 31996, 'TEMP_CNTL_YN': 'N', 'WGT_FACTOR': 413.2, 'DEST_STATE': 48, 'QUARTER': 2, 'SHIPMT_WGHT': 174798, 'SCTG': '07', 'NAICS': 311, 'SHIPMT_DIST_GC': 236, 'MODE': 6, 'DEST_MA': 99999}, {'EXPORT_YN': 'N', 'ORIG_CFS_AREA': '46-99999', 'SHIPMT_DIST_ROUTED': 657, 'EXPORT_CNTRY': 'N', 'ORIG_STATE': 46, 'DEST_CFS_AREA': '17-176', 'HAZMAT': 'N', 'ORIG_MA': 99999, 'SHIPMT_ID': 240004, 'SHIPMT_VALUE': 1259, 'TEMP_CNTL_YN': 'N', 'WGT_FACTOR': 81.9, 'DEST_STATE': 17, 'QUARTER': 1, 'SHIPMT_WGHT': 91, 'SCTG': '38', 'NAICS': 325, 'SHIPMT_DIST_GC': 503, 'MODE': 14, 'DEST_MA': 176}, {'EXPORT_YN': 'N', 'ORIG_CFS_AREA': '20-99999', 'SHIPMT_DIST_ROUTED': 854, 'EXPORT_CNTRY': 'N', 'ORIG_STATE': 20, 'DEST_CFS_AREA': '28-99999', 'HAZMAT': 'N', 'ORIG_MA': 99999, 'SHIPMT_ID': 240005, 'SHIPMT_VALUE': 46240, 'TEMP_CNTL_YN': 'N', 'WGT_FACTOR': 32.1, 'DEST_STATE': 28, 'QUARTER': 1, 'SHIPMT_WGHT': 7460, 'SCTG': '36', 'NAICS': 336, 'SHIPMT_DIST_GC': 617, 'MODE': 4, 'DEST_MA': 99999}, {'EXPORT_YN': 'N', 'ORIG_CFS_AREA': '47-99999', 'SHIPMT_DIST_ROUTED': 27, 'EXPORT_CNTRY': 'N', 'ORIG_STATE': 47, 'DEST_CFS_AREA': '47-99999', 'HAZMAT': 'N', 'ORIG_MA': 99999, 'SHIPMT_ID': 240006, 'SHIPMT_VALUE': 231, 'TEMP_CNTL_YN': 'N', 'WGT_FACTOR': 701.4, 'DEST_STATE': 47, 'QUARTER': 4, 'SHIPMT_WGHT': 9, 'SCTG': '43', 'NAICS': 4242, 'SHIPMT_DIST_GC': 23, 'MODE': 5, 'DEST_MA': 99999}, {'EXPORT_YN': 'N', 'ORIG_CFS_AREA': '47-99999', 'SHIPMT_DIST_ROUTED': 28, 'EXPORT_CNTRY': 'N', 'ORIG_STATE': 47, 'DEST_CFS_AREA': '51-99999', 'HAZMAT': 'N', 'ORIG_MA': 99999, 'SHIPMT_ID': 240007, 'SHIPMT_VALUE': 3210, 'TEMP_CNTL_YN': 'N', 'WGT_FACTOR': 815.0, 'DEST_STATE': 51, 'QUARTER': 3, 'SHIPMT_WGHT': 58, 'SCTG': '35', 'NAICS': 4236, 'SHIPMT_DIST_GC': 22, 'MODE': 5, 'DEST_MA': 99999}, {'EXPORT_YN': 'N', 'ORIG_CFS_AREA': '17-99999', 'SHIPMT_DIST_ROUTED': 2, 'EXPORT_CNTRY': 'N', 'ORIG_STATE': 17, 'DEST_CFS_AREA': '17-99999', 'HAZMAT': 'N', 'ORIG_MA': 99999, 'SHIPMT_ID': 240008, 'SHIPMT_VALUE': 1281, 'TEMP_CNTL_YN': 'N', 'WGT_FACTOR': 1004.1, 'DEST_STATE': 17, 'QUARTER': 1, 'SHIPMT_WGHT': 427, 'SCTG': '29', 'NAICS': 5111, 'SHIPMT_DIST_GC': 2, 'MODE': 5, 'DEST_MA': 99999}  ... displaying 10 of 10000 total bound parameter sets ...  {'EXPORT_YN': 'N', 'ORIG_CFS_AREA': '12-370', 'SHIPMT_DIST_ROUTED': 4, 'EXPORT_CNTRY': 'N', 'ORIG_STATE': 12, 'DEST_CFS_AREA': '12-370', 'HAZMAT': 'N', 'ORIG_MA': 370, 'SHIPMT_ID': 249999, 'SHIPMT_VALUE': 74606, 'TEMP_CNTL_YN': 'Y', 'WGT_FACTOR': 171.4, 'DEST_STATE': 12, 'QUARTER': 4, 'SHIPMT_WGHT': 37986, 'SCTG': '43', 'NAICS': 4931, 'SHIPMT_DIST_GC': 4, 'MODE': 5, 'DEST_MA': 370}, {'EXPORT_YN': 'N', 'ORIG_CFS_AREA': '18-99999', 'SHIPMT_DIST_ROUTED': 19, 'EXPORT_CNTRY': 'N', 'ORIG_STATE': 18, 'DEST_CFS_AREA': '21-350', 'HAZMAT': 'N', 'ORIG_MA': 99999, 'SHIPMT_ID': 250000, 'SHIPMT_VALUE': 6855, 'TEMP_CNTL_YN': 'N', 'WGT_FACTOR': 102.7, 'DEST_STATE': 21, 'QUARTER': 4, 'SHIPMT_WGHT': 136, 'SCTG': '09', 'NAICS': 4249, 'SHIPMT_DIST_GC': 14, 'MODE': 5, 'DEST_MA': 350})\n"
     ]
    },
    {
     "name": "stderr",
     "output_type": "stream",
     "text": [
      "INFO:sqlalchemy.engine.base.Engine:({'EXPORT_YN': 'N', 'ORIG_CFS_AREA': '22-99999', 'SHIPMT_DIST_ROUTED': 263, 'EXPORT_CNTRY': 'N', 'ORIG_STATE': 22, 'DEST_CFS_AREA': '47-368', 'HAZMAT': 'N', 'ORIG_MA': 99999, 'SHIPMT_ID': 240001, 'SHIPMT_VALUE': 367, 'TEMP_CNTL_YN': 'N', 'WGT_FACTOR': 296.4, 'DEST_STATE': 47, 'QUARTER': 2, 'SHIPMT_WGHT': 1021, 'SCTG': '07', 'NAICS': 312, 'SHIPMT_DIST_GC': 221, 'MODE': 4, 'DEST_MA': 368}, {'EXPORT_YN': 'N', 'ORIG_CFS_AREA': '12-300', 'SHIPMT_DIST_ROUTED': 1230, 'EXPORT_CNTRY': 'N', 'ORIG_STATE': 12, 'DEST_CFS_AREA': '25-148', 'HAZMAT': 'N', 'ORIG_MA': 300, 'SHIPMT_ID': 240002, 'SHIPMT_VALUE': 25383, 'TEMP_CNTL_YN': 'N', 'WGT_FACTOR': 321.9, 'DEST_STATE': 25, 'QUARTER': 1, 'SHIPMT_WGHT': 18349, 'SCTG': '28', 'NAICS': 322, 'SHIPMT_DIST_GC': 1067, 'MODE': 4, 'DEST_MA': 148}, {'EXPORT_YN': 'N', 'ORIG_CFS_AREA': '05-99999', 'SHIPMT_DIST_ROUTED': 337, 'EXPORT_CNTRY': 'N', 'ORIG_STATE': 5, 'DEST_CFS_AREA': '48-99999', 'HAZMAT': 'N', 'ORIG_MA': 99999, 'SHIPMT_ID': 240003, 'SHIPMT_VALUE': 31996, 'TEMP_CNTL_YN': 'N', 'WGT_FACTOR': 413.2, 'DEST_STATE': 48, 'QUARTER': 2, 'SHIPMT_WGHT': 174798, 'SCTG': '07', 'NAICS': 311, 'SHIPMT_DIST_GC': 236, 'MODE': 6, 'DEST_MA': 99999}, {'EXPORT_YN': 'N', 'ORIG_CFS_AREA': '46-99999', 'SHIPMT_DIST_ROUTED': 657, 'EXPORT_CNTRY': 'N', 'ORIG_STATE': 46, 'DEST_CFS_AREA': '17-176', 'HAZMAT': 'N', 'ORIG_MA': 99999, 'SHIPMT_ID': 240004, 'SHIPMT_VALUE': 1259, 'TEMP_CNTL_YN': 'N', 'WGT_FACTOR': 81.9, 'DEST_STATE': 17, 'QUARTER': 1, 'SHIPMT_WGHT': 91, 'SCTG': '38', 'NAICS': 325, 'SHIPMT_DIST_GC': 503, 'MODE': 14, 'DEST_MA': 176}, {'EXPORT_YN': 'N', 'ORIG_CFS_AREA': '20-99999', 'SHIPMT_DIST_ROUTED': 854, 'EXPORT_CNTRY': 'N', 'ORIG_STATE': 20, 'DEST_CFS_AREA': '28-99999', 'HAZMAT': 'N', 'ORIG_MA': 99999, 'SHIPMT_ID': 240005, 'SHIPMT_VALUE': 46240, 'TEMP_CNTL_YN': 'N', 'WGT_FACTOR': 32.1, 'DEST_STATE': 28, 'QUARTER': 1, 'SHIPMT_WGHT': 7460, 'SCTG': '36', 'NAICS': 336, 'SHIPMT_DIST_GC': 617, 'MODE': 4, 'DEST_MA': 99999}, {'EXPORT_YN': 'N', 'ORIG_CFS_AREA': '47-99999', 'SHIPMT_DIST_ROUTED': 27, 'EXPORT_CNTRY': 'N', 'ORIG_STATE': 47, 'DEST_CFS_AREA': '47-99999', 'HAZMAT': 'N', 'ORIG_MA': 99999, 'SHIPMT_ID': 240006, 'SHIPMT_VALUE': 231, 'TEMP_CNTL_YN': 'N', 'WGT_FACTOR': 701.4, 'DEST_STATE': 47, 'QUARTER': 4, 'SHIPMT_WGHT': 9, 'SCTG': '43', 'NAICS': 4242, 'SHIPMT_DIST_GC': 23, 'MODE': 5, 'DEST_MA': 99999}, {'EXPORT_YN': 'N', 'ORIG_CFS_AREA': '47-99999', 'SHIPMT_DIST_ROUTED': 28, 'EXPORT_CNTRY': 'N', 'ORIG_STATE': 47, 'DEST_CFS_AREA': '51-99999', 'HAZMAT': 'N', 'ORIG_MA': 99999, 'SHIPMT_ID': 240007, 'SHIPMT_VALUE': 3210, 'TEMP_CNTL_YN': 'N', 'WGT_FACTOR': 815.0, 'DEST_STATE': 51, 'QUARTER': 3, 'SHIPMT_WGHT': 58, 'SCTG': '35', 'NAICS': 4236, 'SHIPMT_DIST_GC': 22, 'MODE': 5, 'DEST_MA': 99999}, {'EXPORT_YN': 'N', 'ORIG_CFS_AREA': '17-99999', 'SHIPMT_DIST_ROUTED': 2, 'EXPORT_CNTRY': 'N', 'ORIG_STATE': 17, 'DEST_CFS_AREA': '17-99999', 'HAZMAT': 'N', 'ORIG_MA': 99999, 'SHIPMT_ID': 240008, 'SHIPMT_VALUE': 1281, 'TEMP_CNTL_YN': 'N', 'WGT_FACTOR': 1004.1, 'DEST_STATE': 17, 'QUARTER': 1, 'SHIPMT_WGHT': 427, 'SCTG': '29', 'NAICS': 5111, 'SHIPMT_DIST_GC': 2, 'MODE': 5, 'DEST_MA': 99999}  ... displaying 10 of 10000 total bound parameter sets ...  {'EXPORT_YN': 'N', 'ORIG_CFS_AREA': '12-370', 'SHIPMT_DIST_ROUTED': 4, 'EXPORT_CNTRY': 'N', 'ORIG_STATE': 12, 'DEST_CFS_AREA': '12-370', 'HAZMAT': 'N', 'ORIG_MA': 370, 'SHIPMT_ID': 249999, 'SHIPMT_VALUE': 74606, 'TEMP_CNTL_YN': 'Y', 'WGT_FACTOR': 171.4, 'DEST_STATE': 12, 'QUARTER': 4, 'SHIPMT_WGHT': 37986, 'SCTG': '43', 'NAICS': 4931, 'SHIPMT_DIST_GC': 4, 'MODE': 5, 'DEST_MA': 370}, {'EXPORT_YN': 'N', 'ORIG_CFS_AREA': '18-99999', 'SHIPMT_DIST_ROUTED': 19, 'EXPORT_CNTRY': 'N', 'ORIG_STATE': 18, 'DEST_CFS_AREA': '21-350', 'HAZMAT': 'N', 'ORIG_MA': 99999, 'SHIPMT_ID': 250000, 'SHIPMT_VALUE': 6855, 'TEMP_CNTL_YN': 'N', 'WGT_FACTOR': 102.7, 'DEST_STATE': 21, 'QUARTER': 4, 'SHIPMT_WGHT': 136, 'SCTG': '09', 'NAICS': 4249, 'SHIPMT_DIST_GC': 14, 'MODE': 5, 'DEST_MA': 350})\n"
     ]
    },
    {
     "name": "stdout",
     "output_type": "stream",
     "text": [
      "2015-11-22 18:01:45,797 INFO sqlalchemy.engine.base.Engine INSERT INTO transactions (\"SHIPMT_ID\", \"ORIG_STATE\", \"ORIG_MA\", \"ORIG_CFS_AREA\", \"DEST_STATE\", \"DEST_MA\", \"DEST_CFS_AREA\", \"NAICS\", \"QUARTER\", \"SCTG\", \"MODE\", \"SHIPMT_VALUE\", \"SHIPMT_WGHT\", \"SHIPMT_DIST_GC\", \"SHIPMT_DIST_ROUTED\", \"TEMP_CNTL_YN\", \"EXPORT_YN\", \"EXPORT_CNTRY\", \"HAZMAT\", \"WGT_FACTOR\") VALUES (%(SHIPMT_ID)s, %(ORIG_STATE)s, %(ORIG_MA)s, %(ORIG_CFS_AREA)s, %(DEST_STATE)s, %(DEST_MA)s, %(DEST_CFS_AREA)s, %(NAICS)s, %(QUARTER)s, %(SCTG)s, %(MODE)s, %(SHIPMT_VALUE)s, %(SHIPMT_WGHT)s, %(SHIPMT_DIST_GC)s, %(SHIPMT_DIST_ROUTED)s, %(TEMP_CNTL_YN)s, %(EXPORT_YN)s, %(EXPORT_CNTRY)s, %(HAZMAT)s, %(WGT_FACTOR)s)\n"
     ]
    },
    {
     "name": "stderr",
     "output_type": "stream",
     "text": [
      "INFO:sqlalchemy.engine.base.Engine:INSERT INTO transactions (\"SHIPMT_ID\", \"ORIG_STATE\", \"ORIG_MA\", \"ORIG_CFS_AREA\", \"DEST_STATE\", \"DEST_MA\", \"DEST_CFS_AREA\", \"NAICS\", \"QUARTER\", \"SCTG\", \"MODE\", \"SHIPMT_VALUE\", \"SHIPMT_WGHT\", \"SHIPMT_DIST_GC\", \"SHIPMT_DIST_ROUTED\", \"TEMP_CNTL_YN\", \"EXPORT_YN\", \"EXPORT_CNTRY\", \"HAZMAT\", \"WGT_FACTOR\") VALUES (%(SHIPMT_ID)s, %(ORIG_STATE)s, %(ORIG_MA)s, %(ORIG_CFS_AREA)s, %(DEST_STATE)s, %(DEST_MA)s, %(DEST_CFS_AREA)s, %(NAICS)s, %(QUARTER)s, %(SCTG)s, %(MODE)s, %(SHIPMT_VALUE)s, %(SHIPMT_WGHT)s, %(SHIPMT_DIST_GC)s, %(SHIPMT_DIST_ROUTED)s, %(TEMP_CNTL_YN)s, %(EXPORT_YN)s, %(EXPORT_CNTRY)s, %(HAZMAT)s, %(WGT_FACTOR)s)\n"
     ]
    },
    {
     "name": "stdout",
     "output_type": "stream",
     "text": [
      "2015-11-22 18:01:45,798 INFO sqlalchemy.engine.base.Engine ({'EXPORT_YN': 'N', 'ORIG_STATE': 6, 'SHIPMT_DIST_ROUTED': 2317, 'EXPORT_CNTRY': 'N', 'WGT_FACTOR': 362.8, 'SHIPMT_ID': 250001, 'SHIPMT_VALUE': 1937, 'HAZMAT': 'N', 'ORIG_MA': 348, 'QUARTER': 1, 'DEST_CFS_AREA': '39-184', 'ORIG_CFS_AREA': '06-348', 'SHIPMT_WGHT': 228, 'TEMP_CNTL_YN': 'N', 'SCTG': '33', 'MODE': 4, 'SHIPMT_DIST_GC': 2019, 'NAICS': 332, 'DEST_STATE': 39, 'DEST_MA': 184}, {'EXPORT_YN': 'N', 'ORIG_STATE': 21, 'SHIPMT_DIST_ROUTED': 1195, 'EXPORT_CNTRY': 'N', 'WGT_FACTOR': 84.9, 'SHIPMT_ID': 250002, 'SHIPMT_VALUE': 397, 'HAZMAT': 'N', 'ORIG_MA': 178, 'QUARTER': 4, 'DEST_CFS_AREA': '08-216', 'ORIG_CFS_AREA': '21-178', 'SHIPMT_WGHT': 307, 'TEMP_CNTL_YN': 'N', 'SCTG': '23', 'MODE': 4, 'SHIPMT_DIST_GC': 1082, 'NAICS': 325, 'DEST_STATE': 8, 'DEST_MA': 216}, {'EXPORT_YN': 'N', 'ORIG_STATE': 30, 'SHIPMT_DIST_ROUTED': 937, 'EXPORT_CNTRY': 'N', 'WGT_FACTOR': 1439.6, 'SHIPMT_ID': 250003, 'SHIPMT_VALUE': 2, 'HAZMAT': 'N', 'ORIG_MA': 99999, 'QUARTER': 3, 'DEST_CFS_AREA': '06-472', 'ORIG_CFS_AREA': '30-99999', 'SHIPMT_WGHT': 1, 'TEMP_CNTL_YN': 'N', 'SCTG': '29', 'MODE': 14, 'SHIPMT_DIST_GC': 723, 'NAICS': 339, 'DEST_STATE': 6, 'DEST_MA': 472}, {'EXPORT_YN': 'N', 'ORIG_STATE': 12, 'SHIPMT_DIST_ROUTED': 4, 'EXPORT_CNTRY': 'N', 'WGT_FACTOR': 735.7, 'SHIPMT_ID': 250004, 'SHIPMT_VALUE': 291, 'HAZMAT': 'N', 'ORIG_MA': 99999, 'QUARTER': 4, 'DEST_CFS_AREA': '12-99999', 'ORIG_CFS_AREA': '12-99999', 'SHIPMT_WGHT': 5, 'TEMP_CNTL_YN': 'N', 'SCTG': '29', 'MODE': 5, 'SHIPMT_DIST_GC': 3, 'NAICS': 323, 'DEST_STATE': 12, 'DEST_MA': 99999}, {'EXPORT_YN': 'N', 'ORIG_STATE': 37, 'SHIPMT_DIST_ROUTED': 20, 'EXPORT_CNTRY': 'N', 'WGT_FACTOR': 43.1, 'SHIPMT_ID': 250005, 'SHIPMT_VALUE': 272, 'HAZMAT': 'P', 'ORIG_MA': 99999, 'QUARTER': 3, 'DEST_CFS_AREA': '37-99999', 'ORIG_CFS_AREA': '37-99999', 'SHIPMT_WGHT': 647, 'TEMP_CNTL_YN': 'N', 'SCTG': '18', 'MODE': 5, 'SHIPMT_DIST_GC': 14, 'NAICS': 45431, 'DEST_STATE': 37, 'DEST_MA': 99999}, {'EXPORT_YN': 'N', 'ORIG_STATE': 54, 'SHIPMT_DIST_ROUTED': 1601, 'EXPORT_CNTRY': 'N', 'WGT_FACTOR': 12.9, 'SHIPMT_ID': 250006, 'SHIPMT_VALUE': 6581, 'HAZMAT': 'N', 'ORIG_MA': 99999, 'QUARTER': 3, 'DEST_CFS_AREA': '48-99999', 'ORIG_CFS_AREA': '54-99999', 'SHIPMT_WGHT': 23704, 'TEMP_CNTL_YN': 'N', 'SCTG': '30', 'MODE': 4, 'SHIPMT_DIST_GC': 1254, 'NAICS': 314, 'DEST_STATE': 48, 'DEST_MA': 99999}, {'EXPORT_YN': 'N', 'ORIG_STATE': 24, 'SHIPMT_DIST_ROUTED': 10, 'EXPORT_CNTRY': 'N', 'WGT_FACTOR': 80.5, 'SHIPMT_ID': 250007, 'SHIPMT_VALUE': 23, 'HAZMAT': 'N', 'ORIG_MA': 99999, 'QUARTER': 2, 'DEST_CFS_AREA': '24-99999', 'ORIG_CFS_AREA': '24-99999', 'SHIPMT_WGHT': 2, 'TEMP_CNTL_YN': 'N', 'SCTG': '34', 'MODE': 4, 'SHIPMT_DIST_GC': 10, 'NAICS': 4237, 'DEST_STATE': 24, 'DEST_MA': 99999}, {'EXPORT_YN': 'N', 'ORIG_STATE': 39, 'SHIPMT_DIST_ROUTED': 674, 'EXPORT_CNTRY': 'N', 'WGT_FACTOR': 169.5, 'SHIPMT_ID': 250008, 'SHIPMT_VALUE': 1561, 'HAZMAT': 'N', 'ORIG_MA': 212, 'QUARTER': 4, 'DEST_CFS_AREA': '36-408', 'ORIG_CFS_AREA': '39-212', 'SHIPMT_WGHT': 19, 'TEMP_CNTL_YN': 'N', 'SCTG': '33', 'MODE': 14, 'SHIPMT_DIST_GC': 587, 'NAICS': 333, 'DEST_STATE': 36, 'DEST_MA': 408}  ... displaying 10 of 10000 total bound parameter sets ...  {'EXPORT_YN': 'N', 'ORIG_STATE': 24, 'SHIPMT_DIST_ROUTED': 67, 'EXPORT_CNTRY': 'N', 'WGT_FACTOR': 605.7, 'SHIPMT_ID': 259999, 'SHIPMT_VALUE': 2441, 'HAZMAT': 'N', 'ORIG_MA': 47900, 'QUARTER': 3, 'DEST_CFS_AREA': '24-12580', 'ORIG_CFS_AREA': '24-47900', 'SHIPMT_WGHT': 1582, 'TEMP_CNTL_YN': 'N', 'SCTG': '33', 'MODE': 5, 'SHIPMT_DIST_GC': 55, 'NAICS': 4237, 'DEST_STATE': 24, 'DEST_MA': 12580}, {'EXPORT_YN': 'N', 'ORIG_STATE': 48, 'SHIPMT_DIST_ROUTED': 140, 'EXPORT_CNTRY': 'N', 'WGT_FACTOR': 5013.1, 'SHIPMT_ID': 260000, 'SHIPMT_VALUE': 149, 'HAZMAT': 'N', 'ORIG_MA': 99999, 'QUARTER': 4, 'DEST_CFS_AREA': '48-99999', 'ORIG_CFS_AREA': '48-99999', 'SHIPMT_WGHT': 25, 'TEMP_CNTL_YN': 'N', 'SCTG': '40', 'MODE': 5, 'SHIPMT_DIST_GC': 108, 'NAICS': 4238, 'DEST_STATE': 48, 'DEST_MA': 99999})\n"
     ]
    },
    {
     "name": "stderr",
     "output_type": "stream",
     "text": [
      "INFO:sqlalchemy.engine.base.Engine:({'EXPORT_YN': 'N', 'ORIG_STATE': 6, 'SHIPMT_DIST_ROUTED': 2317, 'EXPORT_CNTRY': 'N', 'WGT_FACTOR': 362.8, 'SHIPMT_ID': 250001, 'SHIPMT_VALUE': 1937, 'HAZMAT': 'N', 'ORIG_MA': 348, 'QUARTER': 1, 'DEST_CFS_AREA': '39-184', 'ORIG_CFS_AREA': '06-348', 'SHIPMT_WGHT': 228, 'TEMP_CNTL_YN': 'N', 'SCTG': '33', 'MODE': 4, 'SHIPMT_DIST_GC': 2019, 'NAICS': 332, 'DEST_STATE': 39, 'DEST_MA': 184}, {'EXPORT_YN': 'N', 'ORIG_STATE': 21, 'SHIPMT_DIST_ROUTED': 1195, 'EXPORT_CNTRY': 'N', 'WGT_FACTOR': 84.9, 'SHIPMT_ID': 250002, 'SHIPMT_VALUE': 397, 'HAZMAT': 'N', 'ORIG_MA': 178, 'QUARTER': 4, 'DEST_CFS_AREA': '08-216', 'ORIG_CFS_AREA': '21-178', 'SHIPMT_WGHT': 307, 'TEMP_CNTL_YN': 'N', 'SCTG': '23', 'MODE': 4, 'SHIPMT_DIST_GC': 1082, 'NAICS': 325, 'DEST_STATE': 8, 'DEST_MA': 216}, {'EXPORT_YN': 'N', 'ORIG_STATE': 30, 'SHIPMT_DIST_ROUTED': 937, 'EXPORT_CNTRY': 'N', 'WGT_FACTOR': 1439.6, 'SHIPMT_ID': 250003, 'SHIPMT_VALUE': 2, 'HAZMAT': 'N', 'ORIG_MA': 99999, 'QUARTER': 3, 'DEST_CFS_AREA': '06-472', 'ORIG_CFS_AREA': '30-99999', 'SHIPMT_WGHT': 1, 'TEMP_CNTL_YN': 'N', 'SCTG': '29', 'MODE': 14, 'SHIPMT_DIST_GC': 723, 'NAICS': 339, 'DEST_STATE': 6, 'DEST_MA': 472}, {'EXPORT_YN': 'N', 'ORIG_STATE': 12, 'SHIPMT_DIST_ROUTED': 4, 'EXPORT_CNTRY': 'N', 'WGT_FACTOR': 735.7, 'SHIPMT_ID': 250004, 'SHIPMT_VALUE': 291, 'HAZMAT': 'N', 'ORIG_MA': 99999, 'QUARTER': 4, 'DEST_CFS_AREA': '12-99999', 'ORIG_CFS_AREA': '12-99999', 'SHIPMT_WGHT': 5, 'TEMP_CNTL_YN': 'N', 'SCTG': '29', 'MODE': 5, 'SHIPMT_DIST_GC': 3, 'NAICS': 323, 'DEST_STATE': 12, 'DEST_MA': 99999}, {'EXPORT_YN': 'N', 'ORIG_STATE': 37, 'SHIPMT_DIST_ROUTED': 20, 'EXPORT_CNTRY': 'N', 'WGT_FACTOR': 43.1, 'SHIPMT_ID': 250005, 'SHIPMT_VALUE': 272, 'HAZMAT': 'P', 'ORIG_MA': 99999, 'QUARTER': 3, 'DEST_CFS_AREA': '37-99999', 'ORIG_CFS_AREA': '37-99999', 'SHIPMT_WGHT': 647, 'TEMP_CNTL_YN': 'N', 'SCTG': '18', 'MODE': 5, 'SHIPMT_DIST_GC': 14, 'NAICS': 45431, 'DEST_STATE': 37, 'DEST_MA': 99999}, {'EXPORT_YN': 'N', 'ORIG_STATE': 54, 'SHIPMT_DIST_ROUTED': 1601, 'EXPORT_CNTRY': 'N', 'WGT_FACTOR': 12.9, 'SHIPMT_ID': 250006, 'SHIPMT_VALUE': 6581, 'HAZMAT': 'N', 'ORIG_MA': 99999, 'QUARTER': 3, 'DEST_CFS_AREA': '48-99999', 'ORIG_CFS_AREA': '54-99999', 'SHIPMT_WGHT': 23704, 'TEMP_CNTL_YN': 'N', 'SCTG': '30', 'MODE': 4, 'SHIPMT_DIST_GC': 1254, 'NAICS': 314, 'DEST_STATE': 48, 'DEST_MA': 99999}, {'EXPORT_YN': 'N', 'ORIG_STATE': 24, 'SHIPMT_DIST_ROUTED': 10, 'EXPORT_CNTRY': 'N', 'WGT_FACTOR': 80.5, 'SHIPMT_ID': 250007, 'SHIPMT_VALUE': 23, 'HAZMAT': 'N', 'ORIG_MA': 99999, 'QUARTER': 2, 'DEST_CFS_AREA': '24-99999', 'ORIG_CFS_AREA': '24-99999', 'SHIPMT_WGHT': 2, 'TEMP_CNTL_YN': 'N', 'SCTG': '34', 'MODE': 4, 'SHIPMT_DIST_GC': 10, 'NAICS': 4237, 'DEST_STATE': 24, 'DEST_MA': 99999}, {'EXPORT_YN': 'N', 'ORIG_STATE': 39, 'SHIPMT_DIST_ROUTED': 674, 'EXPORT_CNTRY': 'N', 'WGT_FACTOR': 169.5, 'SHIPMT_ID': 250008, 'SHIPMT_VALUE': 1561, 'HAZMAT': 'N', 'ORIG_MA': 212, 'QUARTER': 4, 'DEST_CFS_AREA': '36-408', 'ORIG_CFS_AREA': '39-212', 'SHIPMT_WGHT': 19, 'TEMP_CNTL_YN': 'N', 'SCTG': '33', 'MODE': 14, 'SHIPMT_DIST_GC': 587, 'NAICS': 333, 'DEST_STATE': 36, 'DEST_MA': 408}  ... displaying 10 of 10000 total bound parameter sets ...  {'EXPORT_YN': 'N', 'ORIG_STATE': 24, 'SHIPMT_DIST_ROUTED': 67, 'EXPORT_CNTRY': 'N', 'WGT_FACTOR': 605.7, 'SHIPMT_ID': 259999, 'SHIPMT_VALUE': 2441, 'HAZMAT': 'N', 'ORIG_MA': 47900, 'QUARTER': 3, 'DEST_CFS_AREA': '24-12580', 'ORIG_CFS_AREA': '24-47900', 'SHIPMT_WGHT': 1582, 'TEMP_CNTL_YN': 'N', 'SCTG': '33', 'MODE': 5, 'SHIPMT_DIST_GC': 55, 'NAICS': 4237, 'DEST_STATE': 24, 'DEST_MA': 12580}, {'EXPORT_YN': 'N', 'ORIG_STATE': 48, 'SHIPMT_DIST_ROUTED': 140, 'EXPORT_CNTRY': 'N', 'WGT_FACTOR': 5013.1, 'SHIPMT_ID': 260000, 'SHIPMT_VALUE': 149, 'HAZMAT': 'N', 'ORIG_MA': 99999, 'QUARTER': 4, 'DEST_CFS_AREA': '48-99999', 'ORIG_CFS_AREA': '48-99999', 'SHIPMT_WGHT': 25, 'TEMP_CNTL_YN': 'N', 'SCTG': '40', 'MODE': 5, 'SHIPMT_DIST_GC': 108, 'NAICS': 4238, 'DEST_STATE': 48, 'DEST_MA': 99999})\n"
     ]
    },
    {
     "name": "stdout",
     "output_type": "stream",
     "text": [
      "2015-11-22 18:05:53,253 INFO sqlalchemy.engine.base.Engine INSERT INTO transactions (\"SHIPMT_ID\", \"ORIG_STATE\", \"ORIG_MA\", \"ORIG_CFS_AREA\", \"DEST_STATE\", \"DEST_MA\", \"DEST_CFS_AREA\", \"NAICS\", \"QUARTER\", \"SCTG\", \"MODE\", \"SHIPMT_VALUE\", \"SHIPMT_WGHT\", \"SHIPMT_DIST_GC\", \"SHIPMT_DIST_ROUTED\", \"TEMP_CNTL_YN\", \"EXPORT_YN\", \"EXPORT_CNTRY\", \"HAZMAT\", \"WGT_FACTOR\") VALUES (%(SHIPMT_ID)s, %(ORIG_STATE)s, %(ORIG_MA)s, %(ORIG_CFS_AREA)s, %(DEST_STATE)s, %(DEST_MA)s, %(DEST_CFS_AREA)s, %(NAICS)s, %(QUARTER)s, %(SCTG)s, %(MODE)s, %(SHIPMT_VALUE)s, %(SHIPMT_WGHT)s, %(SHIPMT_DIST_GC)s, %(SHIPMT_DIST_ROUTED)s, %(TEMP_CNTL_YN)s, %(EXPORT_YN)s, %(EXPORT_CNTRY)s, %(HAZMAT)s, %(WGT_FACTOR)s)\n"
     ]
    },
    {
     "name": "stderr",
     "output_type": "stream",
     "text": [
      "INFO:sqlalchemy.engine.base.Engine:INSERT INTO transactions (\"SHIPMT_ID\", \"ORIG_STATE\", \"ORIG_MA\", \"ORIG_CFS_AREA\", \"DEST_STATE\", \"DEST_MA\", \"DEST_CFS_AREA\", \"NAICS\", \"QUARTER\", \"SCTG\", \"MODE\", \"SHIPMT_VALUE\", \"SHIPMT_WGHT\", \"SHIPMT_DIST_GC\", \"SHIPMT_DIST_ROUTED\", \"TEMP_CNTL_YN\", \"EXPORT_YN\", \"EXPORT_CNTRY\", \"HAZMAT\", \"WGT_FACTOR\") VALUES (%(SHIPMT_ID)s, %(ORIG_STATE)s, %(ORIG_MA)s, %(ORIG_CFS_AREA)s, %(DEST_STATE)s, %(DEST_MA)s, %(DEST_CFS_AREA)s, %(NAICS)s, %(QUARTER)s, %(SCTG)s, %(MODE)s, %(SHIPMT_VALUE)s, %(SHIPMT_WGHT)s, %(SHIPMT_DIST_GC)s, %(SHIPMT_DIST_ROUTED)s, %(TEMP_CNTL_YN)s, %(EXPORT_YN)s, %(EXPORT_CNTRY)s, %(HAZMAT)s, %(WGT_FACTOR)s)\n"
     ]
    },
    {
     "name": "stdout",
     "output_type": "stream",
     "text": [
      "2015-11-22 18:05:53,254 INFO sqlalchemy.engine.base.Engine ({'EXPORT_YN': 'N', 'SHIPMT_ID': 260001, 'SHIPMT_DIST_ROUTED': 728, 'EXPORT_CNTRY': 'N', 'ORIG_STATE': 28, 'SHIPMT_VALUE': 6517, 'HAZMAT': 'N', 'ORIG_MA': 99999, 'DEST_CFS_AREA': '48-288', 'TEMP_CNTL_YN': 'N', 'WGT_FACTOR': 109.9, 'DEST_STATE': 48, 'QUARTER': 1, 'ORIG_CFS_AREA': '28-99999', 'SHIPMT_WGHT': 22, 'SCTG': '35', 'NAICS': 334, 'SHIPMT_DIST_GC': 541, 'MODE': 4, 'DEST_MA': 288}, {'EXPORT_YN': 'N', 'SHIPMT_ID': 260002, 'SHIPMT_DIST_ROUTED': 76, 'EXPORT_CNTRY': 'N', 'ORIG_STATE': 39, 'SHIPMT_VALUE': 29123, 'HAZMAT': 'N', 'ORIG_MA': 99999, 'DEST_CFS_AREA': '39-99999', 'TEMP_CNTL_YN': 'N', 'WGT_FACTOR': 12.8, 'DEST_STATE': 39, 'QUARTER': 2, 'ORIG_CFS_AREA': '39-99999', 'SHIPMT_WGHT': 49911, 'SCTG': '32', 'NAICS': 331, 'SHIPMT_DIST_GC': 66, 'MODE': 4, 'DEST_MA': 99999}, {'EXPORT_YN': 'N', 'SHIPMT_ID': 260003, 'SHIPMT_DIST_ROUTED': 357, 'EXPORT_CNTRY': 'N', 'ORIG_STATE': 36, 'SHIPMT_VALUE': 1306, 'HAZMAT': 'N', 'ORIG_MA': 99999, 'DEST_CFS_AREA': '36-104', 'TEMP_CNTL_YN': 'N', 'WGT_FACTOR': 271.0, 'DEST_STATE': 36, 'QUARTER': 3, 'ORIG_CFS_AREA': '36-99999', 'SHIPMT_WGHT': 551, 'SCTG': '33', 'NAICS': 332, 'SHIPMT_DIST_GC': 285, 'MODE': 5, 'DEST_MA': 104}, {'EXPORT_YN': 'N', 'SHIPMT_ID': 260004, 'SHIPMT_DIST_ROUTED': 980, 'EXPORT_CNTRY': 'N', 'ORIG_STATE': 21, 'SHIPMT_VALUE': 177, 'HAZMAT': 'N', 'ORIG_MA': 99999, 'DEST_CFS_AREA': '12-370', 'TEMP_CNTL_YN': 'N', 'WGT_FACTOR': 1743.2, 'DEST_STATE': 12, 'QUARTER': 4, 'ORIG_CFS_AREA': '21-99999', 'SHIPMT_WGHT': 9, 'SCTG': '21', 'NAICS': 4242, 'SHIPMT_DIST_GC': 833, 'MODE': 14, 'DEST_MA': 370}, {'EXPORT_YN': 'N', 'SHIPMT_ID': 260005, 'SHIPMT_DIST_ROUTED': 15, 'EXPORT_CNTRY': 'N', 'ORIG_STATE': 36, 'SHIPMT_VALUE': 98, 'HAZMAT': 'N', 'ORIG_MA': 99999, 'DEST_CFS_AREA': '36-99999', 'TEMP_CNTL_YN': 'N', 'WGT_FACTOR': 4208.6, 'DEST_STATE': 36, 'QUARTER': 1, 'ORIG_CFS_AREA': '36-99999', 'SHIPMT_WGHT': 11, 'SCTG': '30', 'NAICS': 4232, 'SHIPMT_DIST_GC': 15, 'MODE': 5, 'DEST_MA': 99999}, {'EXPORT_YN': 'N', 'SHIPMT_ID': 260006, 'SHIPMT_DIST_ROUTED': 271, 'EXPORT_CNTRY': 'N', 'ORIG_STATE': 48, 'SHIPMT_VALUE': 79841, 'HAZMAT': 'N', 'ORIG_MA': 41700, 'DEST_CFS_AREA': '48-206', 'TEMP_CNTL_YN': 'Y', 'WGT_FACTOR': 74.2, 'DEST_STATE': 48, 'QUARTER': 4, 'ORIG_CFS_AREA': '48-41700', 'SHIPMT_WGHT': 39138, 'SCTG': '05', 'NAICS': 311, 'SHIPMT_DIST_GC': 245, 'MODE': 4, 'DEST_MA': 206}, {'EXPORT_YN': 'N', 'SHIPMT_ID': 260007, 'SHIPMT_DIST_ROUTED': 5, 'EXPORT_CNTRY': 'N', 'ORIG_STATE': 18, 'SHIPMT_VALUE': 125, 'HAZMAT': 'N', 'ORIG_MA': 99999, 'DEST_CFS_AREA': '18-99999', 'TEMP_CNTL_YN': 'N', 'WGT_FACTOR': 230.3, 'DEST_STATE': 18, 'QUARTER': 4, 'ORIG_CFS_AREA': '18-99999', 'SHIPMT_WGHT': 263, 'SCTG': '26', 'NAICS': 321, 'SHIPMT_DIST_GC': 5, 'MODE': 4, 'DEST_MA': 99999}, {'EXPORT_YN': 'N', 'SHIPMT_ID': 260008, 'SHIPMT_DIST_ROUTED': 8, 'EXPORT_CNTRY': 'N', 'ORIG_STATE': 42, 'SHIPMT_VALUE': 51, 'HAZMAT': 'N', 'ORIG_MA': 408, 'DEST_CFS_AREA': '42-408', 'TEMP_CNTL_YN': 'N', 'WGT_FACTOR': 729.6, 'DEST_STATE': 42, 'QUARTER': 4, 'ORIG_CFS_AREA': '42-408', 'SHIPMT_WGHT': 48440, 'SCTG': '13', 'NAICS': 212, 'SHIPMT_DIST_GC': 4, 'MODE': 4, 'DEST_MA': 408}  ... displaying 10 of 10000 total bound parameter sets ...  {'EXPORT_YN': 'N', 'SHIPMT_ID': 269999, 'SHIPMT_DIST_ROUTED': 88, 'EXPORT_CNTRY': 'N', 'ORIG_STATE': 27, 'SHIPMT_VALUE': 4949, 'HAZMAT': 'N', 'ORIG_MA': 99999, 'DEST_CFS_AREA': '27-378', 'TEMP_CNTL_YN': 'N', 'WGT_FACTOR': 102.3, 'DEST_STATE': 27, 'QUARTER': 1, 'ORIG_CFS_AREA': '27-99999', 'SHIPMT_WGHT': 33185, 'SCTG': '04', 'NAICS': 311, 'SHIPMT_DIST_GC': 62, 'MODE': 5, 'DEST_MA': 378}, {'EXPORT_YN': 'N', 'SHIPMT_ID': 270000, 'SHIPMT_DIST_ROUTED': 395, 'EXPORT_CNTRY': 'N', 'ORIG_STATE': 17, 'SHIPMT_VALUE': 4831, 'HAZMAT': 'N', 'ORIG_MA': 99999, 'DEST_CFS_AREA': '39-178', 'TEMP_CNTL_YN': 'N', 'WGT_FACTOR': 311.8, 'DEST_STATE': 39, 'QUARTER': 3, 'ORIG_CFS_AREA': '17-99999', 'SHIPMT_WGHT': 211, 'SCTG': '29', 'NAICS': 5111, 'SHIPMT_DIST_GC': 332, 'MODE': 4, 'DEST_MA': 178})\n"
     ]
    },
    {
     "name": "stderr",
     "output_type": "stream",
     "text": [
      "INFO:sqlalchemy.engine.base.Engine:({'EXPORT_YN': 'N', 'SHIPMT_ID': 260001, 'SHIPMT_DIST_ROUTED': 728, 'EXPORT_CNTRY': 'N', 'ORIG_STATE': 28, 'SHIPMT_VALUE': 6517, 'HAZMAT': 'N', 'ORIG_MA': 99999, 'DEST_CFS_AREA': '48-288', 'TEMP_CNTL_YN': 'N', 'WGT_FACTOR': 109.9, 'DEST_STATE': 48, 'QUARTER': 1, 'ORIG_CFS_AREA': '28-99999', 'SHIPMT_WGHT': 22, 'SCTG': '35', 'NAICS': 334, 'SHIPMT_DIST_GC': 541, 'MODE': 4, 'DEST_MA': 288}, {'EXPORT_YN': 'N', 'SHIPMT_ID': 260002, 'SHIPMT_DIST_ROUTED': 76, 'EXPORT_CNTRY': 'N', 'ORIG_STATE': 39, 'SHIPMT_VALUE': 29123, 'HAZMAT': 'N', 'ORIG_MA': 99999, 'DEST_CFS_AREA': '39-99999', 'TEMP_CNTL_YN': 'N', 'WGT_FACTOR': 12.8, 'DEST_STATE': 39, 'QUARTER': 2, 'ORIG_CFS_AREA': '39-99999', 'SHIPMT_WGHT': 49911, 'SCTG': '32', 'NAICS': 331, 'SHIPMT_DIST_GC': 66, 'MODE': 4, 'DEST_MA': 99999}, {'EXPORT_YN': 'N', 'SHIPMT_ID': 260003, 'SHIPMT_DIST_ROUTED': 357, 'EXPORT_CNTRY': 'N', 'ORIG_STATE': 36, 'SHIPMT_VALUE': 1306, 'HAZMAT': 'N', 'ORIG_MA': 99999, 'DEST_CFS_AREA': '36-104', 'TEMP_CNTL_YN': 'N', 'WGT_FACTOR': 271.0, 'DEST_STATE': 36, 'QUARTER': 3, 'ORIG_CFS_AREA': '36-99999', 'SHIPMT_WGHT': 551, 'SCTG': '33', 'NAICS': 332, 'SHIPMT_DIST_GC': 285, 'MODE': 5, 'DEST_MA': 104}, {'EXPORT_YN': 'N', 'SHIPMT_ID': 260004, 'SHIPMT_DIST_ROUTED': 980, 'EXPORT_CNTRY': 'N', 'ORIG_STATE': 21, 'SHIPMT_VALUE': 177, 'HAZMAT': 'N', 'ORIG_MA': 99999, 'DEST_CFS_AREA': '12-370', 'TEMP_CNTL_YN': 'N', 'WGT_FACTOR': 1743.2, 'DEST_STATE': 12, 'QUARTER': 4, 'ORIG_CFS_AREA': '21-99999', 'SHIPMT_WGHT': 9, 'SCTG': '21', 'NAICS': 4242, 'SHIPMT_DIST_GC': 833, 'MODE': 14, 'DEST_MA': 370}, {'EXPORT_YN': 'N', 'SHIPMT_ID': 260005, 'SHIPMT_DIST_ROUTED': 15, 'EXPORT_CNTRY': 'N', 'ORIG_STATE': 36, 'SHIPMT_VALUE': 98, 'HAZMAT': 'N', 'ORIG_MA': 99999, 'DEST_CFS_AREA': '36-99999', 'TEMP_CNTL_YN': 'N', 'WGT_FACTOR': 4208.6, 'DEST_STATE': 36, 'QUARTER': 1, 'ORIG_CFS_AREA': '36-99999', 'SHIPMT_WGHT': 11, 'SCTG': '30', 'NAICS': 4232, 'SHIPMT_DIST_GC': 15, 'MODE': 5, 'DEST_MA': 99999}, {'EXPORT_YN': 'N', 'SHIPMT_ID': 260006, 'SHIPMT_DIST_ROUTED': 271, 'EXPORT_CNTRY': 'N', 'ORIG_STATE': 48, 'SHIPMT_VALUE': 79841, 'HAZMAT': 'N', 'ORIG_MA': 41700, 'DEST_CFS_AREA': '48-206', 'TEMP_CNTL_YN': 'Y', 'WGT_FACTOR': 74.2, 'DEST_STATE': 48, 'QUARTER': 4, 'ORIG_CFS_AREA': '48-41700', 'SHIPMT_WGHT': 39138, 'SCTG': '05', 'NAICS': 311, 'SHIPMT_DIST_GC': 245, 'MODE': 4, 'DEST_MA': 206}, {'EXPORT_YN': 'N', 'SHIPMT_ID': 260007, 'SHIPMT_DIST_ROUTED': 5, 'EXPORT_CNTRY': 'N', 'ORIG_STATE': 18, 'SHIPMT_VALUE': 125, 'HAZMAT': 'N', 'ORIG_MA': 99999, 'DEST_CFS_AREA': '18-99999', 'TEMP_CNTL_YN': 'N', 'WGT_FACTOR': 230.3, 'DEST_STATE': 18, 'QUARTER': 4, 'ORIG_CFS_AREA': '18-99999', 'SHIPMT_WGHT': 263, 'SCTG': '26', 'NAICS': 321, 'SHIPMT_DIST_GC': 5, 'MODE': 4, 'DEST_MA': 99999}, {'EXPORT_YN': 'N', 'SHIPMT_ID': 260008, 'SHIPMT_DIST_ROUTED': 8, 'EXPORT_CNTRY': 'N', 'ORIG_STATE': 42, 'SHIPMT_VALUE': 51, 'HAZMAT': 'N', 'ORIG_MA': 408, 'DEST_CFS_AREA': '42-408', 'TEMP_CNTL_YN': 'N', 'WGT_FACTOR': 729.6, 'DEST_STATE': 42, 'QUARTER': 4, 'ORIG_CFS_AREA': '42-408', 'SHIPMT_WGHT': 48440, 'SCTG': '13', 'NAICS': 212, 'SHIPMT_DIST_GC': 4, 'MODE': 4, 'DEST_MA': 408}  ... displaying 10 of 10000 total bound parameter sets ...  {'EXPORT_YN': 'N', 'SHIPMT_ID': 269999, 'SHIPMT_DIST_ROUTED': 88, 'EXPORT_CNTRY': 'N', 'ORIG_STATE': 27, 'SHIPMT_VALUE': 4949, 'HAZMAT': 'N', 'ORIG_MA': 99999, 'DEST_CFS_AREA': '27-378', 'TEMP_CNTL_YN': 'N', 'WGT_FACTOR': 102.3, 'DEST_STATE': 27, 'QUARTER': 1, 'ORIG_CFS_AREA': '27-99999', 'SHIPMT_WGHT': 33185, 'SCTG': '04', 'NAICS': 311, 'SHIPMT_DIST_GC': 62, 'MODE': 5, 'DEST_MA': 378}, {'EXPORT_YN': 'N', 'SHIPMT_ID': 270000, 'SHIPMT_DIST_ROUTED': 395, 'EXPORT_CNTRY': 'N', 'ORIG_STATE': 17, 'SHIPMT_VALUE': 4831, 'HAZMAT': 'N', 'ORIG_MA': 99999, 'DEST_CFS_AREA': '39-178', 'TEMP_CNTL_YN': 'N', 'WGT_FACTOR': 311.8, 'DEST_STATE': 39, 'QUARTER': 3, 'ORIG_CFS_AREA': '17-99999', 'SHIPMT_WGHT': 211, 'SCTG': '29', 'NAICS': 5111, 'SHIPMT_DIST_GC': 332, 'MODE': 4, 'DEST_MA': 178})\n"
     ]
    },
    {
     "name": "stdout",
     "output_type": "stream",
     "text": [
      "2015-11-22 18:09:57,172 INFO sqlalchemy.engine.base.Engine INSERT INTO transactions (\"SHIPMT_ID\", \"ORIG_STATE\", \"ORIG_MA\", \"ORIG_CFS_AREA\", \"DEST_STATE\", \"DEST_MA\", \"DEST_CFS_AREA\", \"NAICS\", \"QUARTER\", \"SCTG\", \"MODE\", \"SHIPMT_VALUE\", \"SHIPMT_WGHT\", \"SHIPMT_DIST_GC\", \"SHIPMT_DIST_ROUTED\", \"TEMP_CNTL_YN\", \"EXPORT_YN\", \"EXPORT_CNTRY\", \"HAZMAT\", \"WGT_FACTOR\") VALUES (%(SHIPMT_ID)s, %(ORIG_STATE)s, %(ORIG_MA)s, %(ORIG_CFS_AREA)s, %(DEST_STATE)s, %(DEST_MA)s, %(DEST_CFS_AREA)s, %(NAICS)s, %(QUARTER)s, %(SCTG)s, %(MODE)s, %(SHIPMT_VALUE)s, %(SHIPMT_WGHT)s, %(SHIPMT_DIST_GC)s, %(SHIPMT_DIST_ROUTED)s, %(TEMP_CNTL_YN)s, %(EXPORT_YN)s, %(EXPORT_CNTRY)s, %(HAZMAT)s, %(WGT_FACTOR)s)\n"
     ]
    },
    {
     "name": "stderr",
     "output_type": "stream",
     "text": [
      "INFO:sqlalchemy.engine.base.Engine:INSERT INTO transactions (\"SHIPMT_ID\", \"ORIG_STATE\", \"ORIG_MA\", \"ORIG_CFS_AREA\", \"DEST_STATE\", \"DEST_MA\", \"DEST_CFS_AREA\", \"NAICS\", \"QUARTER\", \"SCTG\", \"MODE\", \"SHIPMT_VALUE\", \"SHIPMT_WGHT\", \"SHIPMT_DIST_GC\", \"SHIPMT_DIST_ROUTED\", \"TEMP_CNTL_YN\", \"EXPORT_YN\", \"EXPORT_CNTRY\", \"HAZMAT\", \"WGT_FACTOR\") VALUES (%(SHIPMT_ID)s, %(ORIG_STATE)s, %(ORIG_MA)s, %(ORIG_CFS_AREA)s, %(DEST_STATE)s, %(DEST_MA)s, %(DEST_CFS_AREA)s, %(NAICS)s, %(QUARTER)s, %(SCTG)s, %(MODE)s, %(SHIPMT_VALUE)s, %(SHIPMT_WGHT)s, %(SHIPMT_DIST_GC)s, %(SHIPMT_DIST_ROUTED)s, %(TEMP_CNTL_YN)s, %(EXPORT_YN)s, %(EXPORT_CNTRY)s, %(HAZMAT)s, %(WGT_FACTOR)s)\n"
     ]
    },
    {
     "name": "stdout",
     "output_type": "stream",
     "text": [
      "2015-11-22 18:09:57,173 INFO sqlalchemy.engine.base.Engine ({'SHIPMT_DIST_ROUTED': 1082, 'ORIG_STATE': 20, 'MODE': 14, 'EXPORT_YN': 'N', 'EXPORT_CNTRY': 'N', 'WGT_FACTOR': 1387.1, 'SHIPMT_ID': 270001, 'DEST_CFS_AREA': '37-99999', 'HAZMAT': 'N', 'ORIG_MA': 312, 'SHIPMT_VALUE': 332, 'TEMP_CNTL_YN': 'N', 'QUARTER': 2, 'SCTG': '30', 'ORIG_CFS_AREA': '20-312', 'SHIPMT_WGHT': 5, 'SHIPMT_DIST_GC': 883, 'NAICS': 323, 'DEST_STATE': 37, 'DEST_MA': 99999}, {'SHIPMT_DIST_ROUTED': 29, 'ORIG_STATE': 37, 'MODE': 4, 'EXPORT_YN': 'N', 'EXPORT_CNTRY': 'N', 'WGT_FACTOR': 534.8, 'SHIPMT_ID': 270002, 'DEST_CFS_AREA': '37-99999', 'HAZMAT': 'N', 'ORIG_MA': 450, 'SHIPMT_VALUE': 208, 'TEMP_CNTL_YN': 'N', 'QUARTER': 3, 'SCTG': '12', 'ORIG_CFS_AREA': '37-450', 'SHIPMT_WGHT': 42642, 'SHIPMT_DIST_GC': 20, 'NAICS': 212, 'DEST_STATE': 37, 'DEST_MA': 99999}, {'SHIPMT_DIST_ROUTED': 61, 'ORIG_STATE': 39, 'MODE': 5, 'EXPORT_YN': 'N', 'EXPORT_CNTRY': 'N', 'WGT_FACTOR': 235.7, 'SHIPMT_ID': 270003, 'DEST_CFS_AREA': '39-99999', 'HAZMAT': 'N', 'ORIG_MA': 184, 'SHIPMT_VALUE': 2396, 'TEMP_CNTL_YN': 'N', 'QUARTER': 3, 'SCTG': '29', 'ORIG_CFS_AREA': '39-184', 'SHIPMT_WGHT': 1190, 'SHIPMT_DIST_GC': 50, 'NAICS': 5111, 'DEST_STATE': 39, 'DEST_MA': 99999}, {'SHIPMT_DIST_ROUTED': 449, 'ORIG_STATE': 35, 'MODE': 14, 'EXPORT_YN': 'N', 'EXPORT_CNTRY': 'N', 'WGT_FACTOR': 146.6, 'SHIPMT_ID': 270004, 'DEST_CFS_AREA': '08-216', 'HAZMAT': 'N', 'ORIG_MA': 99999, 'SHIPMT_VALUE': 39, 'TEMP_CNTL_YN': 'N', 'QUARTER': 1, 'SCTG': '35', 'ORIG_CFS_AREA': '35-99999', 'SHIPMT_WGHT': 89, 'SHIPMT_DIST_GC': 337, 'NAICS': 4236, 'DEST_STATE': 8, 'DEST_MA': 216}, {'SHIPMT_DIST_ROUTED': 1338, 'ORIG_STATE': 37, 'MODE': 4, 'EXPORT_YN': 'N', 'EXPORT_CNTRY': 'N', 'WGT_FACTOR': 55.0, 'SHIPMT_ID': 270005, 'DEST_CFS_AREA': '40-99999', 'HAZMAT': 'N', 'ORIG_MA': 99999, 'SHIPMT_VALUE': 257, 'TEMP_CNTL_YN': 'N', 'QUARTER': 2, 'SCTG': '30', 'ORIG_CFS_AREA': '37-99999', 'SHIPMT_WGHT': 9, 'SHIPMT_DIST_GC': 1120, 'NAICS': 315, 'DEST_STATE': 40, 'DEST_MA': 99999}, {'SHIPMT_DIST_ROUTED': 1426, 'ORIG_STATE': 37, 'MODE': 4, 'EXPORT_YN': 'Y', 'EXPORT_CNTRY': 'M', 'WGT_FACTOR': 854.2, 'SHIPMT_ID': 270006, 'DEST_CFS_AREA': '48-99999', 'HAZMAT': 'N', 'ORIG_MA': 172, 'SHIPMT_VALUE': 2143, 'TEMP_CNTL_YN': 'N', 'QUARTER': 3, 'SCTG': '30', 'ORIG_CFS_AREA': '37-172', 'SHIPMT_WGHT': 413, 'SHIPMT_DIST_GC': 1192, 'NAICS': 313, 'DEST_STATE': 48, 'DEST_MA': 99999}, {'SHIPMT_DIST_ROUTED': 991, 'ORIG_STATE': 31, 'MODE': 14, 'EXPORT_YN': 'N', 'EXPORT_CNTRY': 'N', 'WGT_FACTOR': 119.3, 'SHIPMT_ID': 270007, 'DEST_CFS_AREA': '13-122', 'HAZMAT': 'N', 'ORIG_MA': 420, 'SHIPMT_VALUE': 39, 'TEMP_CNTL_YN': 'N', 'QUARTER': 4, 'SCTG': '30', 'ORIG_CFS_AREA': '31-420', 'SHIPMT_WGHT': 9, 'SHIPMT_DIST_GC': 820, 'NAICS': 314, 'DEST_STATE': 13, 'DEST_MA': 122}, {'SHIPMT_DIST_ROUTED': 644, 'ORIG_STATE': 24, 'MODE': 4, 'EXPORT_YN': 'N', 'EXPORT_CNTRY': 'N', 'WGT_FACTOR': 13.0, 'SHIPMT_ID': 270008, 'DEST_CFS_AREA': '17-176', 'HAZMAT': 'N', 'ORIG_MA': 99999, 'SHIPMT_VALUE': 3460, 'TEMP_CNTL_YN': 'N', 'QUARTER': 4, 'SCTG': '24', 'ORIG_CFS_AREA': '24-99999', 'SHIPMT_WGHT': 1284, 'SHIPMT_DIST_GC': 554, 'NAICS': 326, 'DEST_STATE': 17, 'DEST_MA': 176}  ... displaying 10 of 10000 total bound parameter sets ...  {'SHIPMT_DIST_ROUTED': 151, 'ORIG_STATE': 48, 'MODE': 4, 'EXPORT_YN': 'N', 'EXPORT_CNTRY': 'N', 'WGT_FACTOR': 8.6, 'SHIPMT_ID': 279999, 'DEST_CFS_AREA': '48-41700', 'HAZMAT': 'N', 'ORIG_MA': 99999, 'SHIPMT_VALUE': 17075, 'TEMP_CNTL_YN': 'N', 'QUARTER': 1, 'SCTG': '27', 'ORIG_CFS_AREA': '48-99999', 'SHIPMT_WGHT': 46440, 'SHIPMT_DIST_GC': 137, 'NAICS': 324, 'DEST_STATE': 48, 'DEST_MA': 41700}, {'SHIPMT_DIST_ROUTED': 127, 'ORIG_STATE': 21, 'MODE': 4, 'EXPORT_YN': 'N', 'EXPORT_CNTRY': 'N', 'WGT_FACTOR': 401.3, 'SHIPMT_ID': 280000, 'DEST_CFS_AREA': '18-294', 'HAZMAT': 'N', 'ORIG_MA': 99999, 'SHIPMT_VALUE': 11050, 'TEMP_CNTL_YN': 'N', 'QUARTER': 1, 'SCTG': '34', 'ORIG_CFS_AREA': '21-99999', 'SHIPMT_WGHT': 1746, 'SHIPMT_DIST_GC': 96, 'NAICS': 333, 'DEST_STATE': 18, 'DEST_MA': 294})\n"
     ]
    },
    {
     "name": "stderr",
     "output_type": "stream",
     "text": [
      "INFO:sqlalchemy.engine.base.Engine:({'SHIPMT_DIST_ROUTED': 1082, 'ORIG_STATE': 20, 'MODE': 14, 'EXPORT_YN': 'N', 'EXPORT_CNTRY': 'N', 'WGT_FACTOR': 1387.1, 'SHIPMT_ID': 270001, 'DEST_CFS_AREA': '37-99999', 'HAZMAT': 'N', 'ORIG_MA': 312, 'SHIPMT_VALUE': 332, 'TEMP_CNTL_YN': 'N', 'QUARTER': 2, 'SCTG': '30', 'ORIG_CFS_AREA': '20-312', 'SHIPMT_WGHT': 5, 'SHIPMT_DIST_GC': 883, 'NAICS': 323, 'DEST_STATE': 37, 'DEST_MA': 99999}, {'SHIPMT_DIST_ROUTED': 29, 'ORIG_STATE': 37, 'MODE': 4, 'EXPORT_YN': 'N', 'EXPORT_CNTRY': 'N', 'WGT_FACTOR': 534.8, 'SHIPMT_ID': 270002, 'DEST_CFS_AREA': '37-99999', 'HAZMAT': 'N', 'ORIG_MA': 450, 'SHIPMT_VALUE': 208, 'TEMP_CNTL_YN': 'N', 'QUARTER': 3, 'SCTG': '12', 'ORIG_CFS_AREA': '37-450', 'SHIPMT_WGHT': 42642, 'SHIPMT_DIST_GC': 20, 'NAICS': 212, 'DEST_STATE': 37, 'DEST_MA': 99999}, {'SHIPMT_DIST_ROUTED': 61, 'ORIG_STATE': 39, 'MODE': 5, 'EXPORT_YN': 'N', 'EXPORT_CNTRY': 'N', 'WGT_FACTOR': 235.7, 'SHIPMT_ID': 270003, 'DEST_CFS_AREA': '39-99999', 'HAZMAT': 'N', 'ORIG_MA': 184, 'SHIPMT_VALUE': 2396, 'TEMP_CNTL_YN': 'N', 'QUARTER': 3, 'SCTG': '29', 'ORIG_CFS_AREA': '39-184', 'SHIPMT_WGHT': 1190, 'SHIPMT_DIST_GC': 50, 'NAICS': 5111, 'DEST_STATE': 39, 'DEST_MA': 99999}, {'SHIPMT_DIST_ROUTED': 449, 'ORIG_STATE': 35, 'MODE': 14, 'EXPORT_YN': 'N', 'EXPORT_CNTRY': 'N', 'WGT_FACTOR': 146.6, 'SHIPMT_ID': 270004, 'DEST_CFS_AREA': '08-216', 'HAZMAT': 'N', 'ORIG_MA': 99999, 'SHIPMT_VALUE': 39, 'TEMP_CNTL_YN': 'N', 'QUARTER': 1, 'SCTG': '35', 'ORIG_CFS_AREA': '35-99999', 'SHIPMT_WGHT': 89, 'SHIPMT_DIST_GC': 337, 'NAICS': 4236, 'DEST_STATE': 8, 'DEST_MA': 216}, {'SHIPMT_DIST_ROUTED': 1338, 'ORIG_STATE': 37, 'MODE': 4, 'EXPORT_YN': 'N', 'EXPORT_CNTRY': 'N', 'WGT_FACTOR': 55.0, 'SHIPMT_ID': 270005, 'DEST_CFS_AREA': '40-99999', 'HAZMAT': 'N', 'ORIG_MA': 99999, 'SHIPMT_VALUE': 257, 'TEMP_CNTL_YN': 'N', 'QUARTER': 2, 'SCTG': '30', 'ORIG_CFS_AREA': '37-99999', 'SHIPMT_WGHT': 9, 'SHIPMT_DIST_GC': 1120, 'NAICS': 315, 'DEST_STATE': 40, 'DEST_MA': 99999}, {'SHIPMT_DIST_ROUTED': 1426, 'ORIG_STATE': 37, 'MODE': 4, 'EXPORT_YN': 'Y', 'EXPORT_CNTRY': 'M', 'WGT_FACTOR': 854.2, 'SHIPMT_ID': 270006, 'DEST_CFS_AREA': '48-99999', 'HAZMAT': 'N', 'ORIG_MA': 172, 'SHIPMT_VALUE': 2143, 'TEMP_CNTL_YN': 'N', 'QUARTER': 3, 'SCTG': '30', 'ORIG_CFS_AREA': '37-172', 'SHIPMT_WGHT': 413, 'SHIPMT_DIST_GC': 1192, 'NAICS': 313, 'DEST_STATE': 48, 'DEST_MA': 99999}, {'SHIPMT_DIST_ROUTED': 991, 'ORIG_STATE': 31, 'MODE': 14, 'EXPORT_YN': 'N', 'EXPORT_CNTRY': 'N', 'WGT_FACTOR': 119.3, 'SHIPMT_ID': 270007, 'DEST_CFS_AREA': '13-122', 'HAZMAT': 'N', 'ORIG_MA': 420, 'SHIPMT_VALUE': 39, 'TEMP_CNTL_YN': 'N', 'QUARTER': 4, 'SCTG': '30', 'ORIG_CFS_AREA': '31-420', 'SHIPMT_WGHT': 9, 'SHIPMT_DIST_GC': 820, 'NAICS': 314, 'DEST_STATE': 13, 'DEST_MA': 122}, {'SHIPMT_DIST_ROUTED': 644, 'ORIG_STATE': 24, 'MODE': 4, 'EXPORT_YN': 'N', 'EXPORT_CNTRY': 'N', 'WGT_FACTOR': 13.0, 'SHIPMT_ID': 270008, 'DEST_CFS_AREA': '17-176', 'HAZMAT': 'N', 'ORIG_MA': 99999, 'SHIPMT_VALUE': 3460, 'TEMP_CNTL_YN': 'N', 'QUARTER': 4, 'SCTG': '24', 'ORIG_CFS_AREA': '24-99999', 'SHIPMT_WGHT': 1284, 'SHIPMT_DIST_GC': 554, 'NAICS': 326, 'DEST_STATE': 17, 'DEST_MA': 176}  ... displaying 10 of 10000 total bound parameter sets ...  {'SHIPMT_DIST_ROUTED': 151, 'ORIG_STATE': 48, 'MODE': 4, 'EXPORT_YN': 'N', 'EXPORT_CNTRY': 'N', 'WGT_FACTOR': 8.6, 'SHIPMT_ID': 279999, 'DEST_CFS_AREA': '48-41700', 'HAZMAT': 'N', 'ORIG_MA': 99999, 'SHIPMT_VALUE': 17075, 'TEMP_CNTL_YN': 'N', 'QUARTER': 1, 'SCTG': '27', 'ORIG_CFS_AREA': '48-99999', 'SHIPMT_WGHT': 46440, 'SHIPMT_DIST_GC': 137, 'NAICS': 324, 'DEST_STATE': 48, 'DEST_MA': 41700}, {'SHIPMT_DIST_ROUTED': 127, 'ORIG_STATE': 21, 'MODE': 4, 'EXPORT_YN': 'N', 'EXPORT_CNTRY': 'N', 'WGT_FACTOR': 401.3, 'SHIPMT_ID': 280000, 'DEST_CFS_AREA': '18-294', 'HAZMAT': 'N', 'ORIG_MA': 99999, 'SHIPMT_VALUE': 11050, 'TEMP_CNTL_YN': 'N', 'QUARTER': 1, 'SCTG': '34', 'ORIG_CFS_AREA': '21-99999', 'SHIPMT_WGHT': 1746, 'SHIPMT_DIST_GC': 96, 'NAICS': 333, 'DEST_STATE': 18, 'DEST_MA': 294})\n"
     ]
    },
    {
     "name": "stdout",
     "output_type": "stream",
     "text": [
      "2015-11-22 18:14:05,149 INFO sqlalchemy.engine.base.Engine INSERT INTO transactions (\"SHIPMT_ID\", \"ORIG_STATE\", \"ORIG_MA\", \"ORIG_CFS_AREA\", \"DEST_STATE\", \"DEST_MA\", \"DEST_CFS_AREA\", \"NAICS\", \"QUARTER\", \"SCTG\", \"MODE\", \"SHIPMT_VALUE\", \"SHIPMT_WGHT\", \"SHIPMT_DIST_GC\", \"SHIPMT_DIST_ROUTED\", \"TEMP_CNTL_YN\", \"EXPORT_YN\", \"EXPORT_CNTRY\", \"HAZMAT\", \"WGT_FACTOR\") VALUES (%(SHIPMT_ID)s, %(ORIG_STATE)s, %(ORIG_MA)s, %(ORIG_CFS_AREA)s, %(DEST_STATE)s, %(DEST_MA)s, %(DEST_CFS_AREA)s, %(NAICS)s, %(QUARTER)s, %(SCTG)s, %(MODE)s, %(SHIPMT_VALUE)s, %(SHIPMT_WGHT)s, %(SHIPMT_DIST_GC)s, %(SHIPMT_DIST_ROUTED)s, %(TEMP_CNTL_YN)s, %(EXPORT_YN)s, %(EXPORT_CNTRY)s, %(HAZMAT)s, %(WGT_FACTOR)s)\n"
     ]
    },
    {
     "name": "stderr",
     "output_type": "stream",
     "text": [
      "INFO:sqlalchemy.engine.base.Engine:INSERT INTO transactions (\"SHIPMT_ID\", \"ORIG_STATE\", \"ORIG_MA\", \"ORIG_CFS_AREA\", \"DEST_STATE\", \"DEST_MA\", \"DEST_CFS_AREA\", \"NAICS\", \"QUARTER\", \"SCTG\", \"MODE\", \"SHIPMT_VALUE\", \"SHIPMT_WGHT\", \"SHIPMT_DIST_GC\", \"SHIPMT_DIST_ROUTED\", \"TEMP_CNTL_YN\", \"EXPORT_YN\", \"EXPORT_CNTRY\", \"HAZMAT\", \"WGT_FACTOR\") VALUES (%(SHIPMT_ID)s, %(ORIG_STATE)s, %(ORIG_MA)s, %(ORIG_CFS_AREA)s, %(DEST_STATE)s, %(DEST_MA)s, %(DEST_CFS_AREA)s, %(NAICS)s, %(QUARTER)s, %(SCTG)s, %(MODE)s, %(SHIPMT_VALUE)s, %(SHIPMT_WGHT)s, %(SHIPMT_DIST_GC)s, %(SHIPMT_DIST_ROUTED)s, %(TEMP_CNTL_YN)s, %(EXPORT_YN)s, %(EXPORT_CNTRY)s, %(HAZMAT)s, %(WGT_FACTOR)s)\n"
     ]
    },
    {
     "name": "stdout",
     "output_type": "stream",
     "text": [
      "2015-11-22 18:14:05,150 INFO sqlalchemy.engine.base.Engine ({'DEST_STATE': 6, 'EXPORT_YN': 'N', 'ORIG_CFS_AREA': '32-99999', 'SHIPMT_DIST_ROUTED': 509, 'EXPORT_CNTRY': 'N', 'SHIPMT_ID': 280001, 'ORIG_MA': 99999, 'HAZMAT': 'N', 'QUARTER': 1, 'SHIPMT_VALUE': 1339, 'TEMP_CNTL_YN': 'N', 'SHIPMT_WGHT': 2, 'DEST_CFS_AREA': '06-348', 'ORIG_STATE': 32, 'SCTG': '37', 'WGT_FACTOR': 14.7, 'SHIPMT_DIST_GC': 362, 'NAICS': 336, 'MODE': 4, 'DEST_MA': 348}, {'DEST_STATE': 12, 'EXPORT_YN': 'N', 'ORIG_CFS_AREA': '13-122', 'SHIPMT_DIST_ROUTED': 443, 'EXPORT_CNTRY': 'N', 'SHIPMT_ID': 280002, 'ORIG_MA': 122, 'HAZMAT': 'N', 'QUARTER': 1, 'SHIPMT_VALUE': 3, 'TEMP_CNTL_YN': 'N', 'SHIPMT_WGHT': 1, 'DEST_CFS_AREA': '12-99999', 'ORIG_STATE': 13, 'SCTG': '29', 'WGT_FACTOR': 41321.3, 'SHIPMT_DIST_GC': 378, 'NAICS': 5111, 'MODE': 14, 'DEST_MA': 99999}, {'DEST_STATE': 19, 'EXPORT_YN': 'N', 'ORIG_CFS_AREA': '19-99999', 'SHIPMT_DIST_ROUTED': 6, 'EXPORT_CNTRY': 'N', 'SHIPMT_ID': 280003, 'ORIG_MA': 99999, 'HAZMAT': 'N', 'QUARTER': 2, 'SHIPMT_VALUE': 4414, 'TEMP_CNTL_YN': 'N', 'SHIPMT_WGHT': 2759, 'DEST_CFS_AREA': '19-99999', 'ORIG_STATE': 19, 'SCTG': '27', 'WGT_FACTOR': 345.8, 'SHIPMT_DIST_GC': 6, 'NAICS': 4233, 'MODE': 5, 'DEST_MA': 99999}, {'DEST_STATE': 45, 'EXPORT_YN': 'N', 'ORIG_CFS_AREA': '45-273', 'SHIPMT_DIST_ROUTED': 180, 'EXPORT_CNTRY': 'N', 'SHIPMT_ID': 280004, 'ORIG_MA': 273, 'HAZMAT': 'N', 'QUARTER': 2, 'SHIPMT_VALUE': 67, 'TEMP_CNTL_YN': 'N', 'SHIPMT_WGHT': 121, 'DEST_CFS_AREA': '45-99999', 'ORIG_STATE': 45, 'SCTG': '07', 'WGT_FACTOR': 8978.4, 'SHIPMT_DIST_GC': 155, 'NAICS': 4244, 'MODE': 5, 'DEST_MA': 99999}, {'DEST_STATE': 39, 'EXPORT_YN': 'N', 'ORIG_CFS_AREA': '39-184', 'SHIPMT_DIST_ROUTED': 69, 'EXPORT_CNTRY': 'N', 'SHIPMT_ID': 280005, 'ORIG_MA': 184, 'HAZMAT': 'N', 'QUARTER': 3, 'SHIPMT_VALUE': 347, 'TEMP_CNTL_YN': 'N', 'SHIPMT_WGHT': 64, 'DEST_CFS_AREA': '39-99999', 'ORIG_STATE': 39, 'SCTG': '24', 'WGT_FACTOR': 539.9, 'SHIPMT_DIST_GC': 56, 'NAICS': 4232, 'MODE': 5, 'DEST_MA': 99999}, {'DEST_STATE': 19, 'EXPORT_YN': 'N', 'ORIG_CFS_AREA': '42-428', 'SHIPMT_DIST_ROUTED': 1174, 'EXPORT_CNTRY': 'N', 'SHIPMT_ID': 280006, 'ORIG_MA': 428, 'HAZMAT': 'N', 'QUARTER': 2, 'SHIPMT_VALUE': 207, 'TEMP_CNTL_YN': 'N', 'SHIPMT_WGHT': 9, 'DEST_CFS_AREA': '19-99999', 'ORIG_STATE': 42, 'SCTG': '33', 'WGT_FACTOR': 4923.4, 'SHIPMT_DIST_GC': 1034, 'NAICS': 4238, 'MODE': 14, 'DEST_MA': 99999}, {'DEST_STATE': 36, 'EXPORT_YN': 'N', 'ORIG_CFS_AREA': '09-408', 'SHIPMT_DIST_ROUTED': 14, 'EXPORT_CNTRY': 'N', 'SHIPMT_ID': 280007, 'ORIG_MA': 408, 'HAZMAT': 'N', 'QUARTER': 2, 'SHIPMT_VALUE': 19309, 'TEMP_CNTL_YN': 'N', 'SHIPMT_WGHT': 696, 'DEST_CFS_AREA': '36-408', 'ORIG_STATE': 9, 'SCTG': '29', 'WGT_FACTOR': 220.5, 'SHIPMT_DIST_GC': 10, 'NAICS': 323, 'MODE': 5, 'DEST_MA': 408}, {'DEST_STATE': 13, 'EXPORT_YN': 'N', 'ORIG_CFS_AREA': '12-45300', 'SHIPMT_DIST_ROUTED': 468, 'EXPORT_CNTRY': 'N', 'SHIPMT_ID': 280008, 'ORIG_MA': 45300, 'HAZMAT': 'N', 'QUARTER': 2, 'SHIPMT_VALUE': 5292, 'TEMP_CNTL_YN': 'N', 'SHIPMT_WGHT': 38542, 'DEST_CFS_AREA': '13-122', 'ORIG_STATE': 12, 'SCTG': '07', 'WGT_FACTOR': 294.1, 'SHIPMT_DIST_GC': 423, 'NAICS': 312, 'MODE': 4, 'DEST_MA': 122}  ... displaying 10 of 10000 total bound parameter sets ...  {'DEST_STATE': 41, 'EXPORT_YN': 'N', 'ORIG_CFS_AREA': '04-38060', 'SHIPMT_DIST_ROUTED': 1206, 'EXPORT_CNTRY': 'N', 'SHIPMT_ID': 289999, 'ORIG_MA': 38060, 'HAZMAT': 'N', 'QUARTER': 4, 'SHIPMT_VALUE': 1, 'TEMP_CNTL_YN': 'N', 'SHIPMT_WGHT': 1, 'DEST_CFS_AREA': '41-99999', 'ORIG_STATE': 4, 'SCTG': '21', 'WGT_FACTOR': 463249.3, 'SHIPMT_DIST_GC': 897, 'NAICS': 4541, 'MODE': 14, 'DEST_MA': 99999}, {'DEST_STATE': 41, 'EXPORT_YN': 'N', 'ORIG_CFS_AREA': '41-440', 'SHIPMT_DIST_ROUTED': 51, 'EXPORT_CNTRY': 'N', 'SHIPMT_ID': 290000, 'ORIG_MA': 440, 'HAZMAT': 'N', 'QUARTER': 2, 'SHIPMT_VALUE': 1446, 'TEMP_CNTL_YN': 'N', 'SHIPMT_WGHT': 496, 'DEST_CFS_AREA': '41-440', 'ORIG_STATE': 41, 'SCTG': '08', 'WGT_FACTOR': 175.8, 'SHIPMT_DIST_GC': 41, 'NAICS': 312, 'MODE': 5, 'DEST_MA': 440})\n"
     ]
    },
    {
     "name": "stderr",
     "output_type": "stream",
     "text": [
      "INFO:sqlalchemy.engine.base.Engine:({'DEST_STATE': 6, 'EXPORT_YN': 'N', 'ORIG_CFS_AREA': '32-99999', 'SHIPMT_DIST_ROUTED': 509, 'EXPORT_CNTRY': 'N', 'SHIPMT_ID': 280001, 'ORIG_MA': 99999, 'HAZMAT': 'N', 'QUARTER': 1, 'SHIPMT_VALUE': 1339, 'TEMP_CNTL_YN': 'N', 'SHIPMT_WGHT': 2, 'DEST_CFS_AREA': '06-348', 'ORIG_STATE': 32, 'SCTG': '37', 'WGT_FACTOR': 14.7, 'SHIPMT_DIST_GC': 362, 'NAICS': 336, 'MODE': 4, 'DEST_MA': 348}, {'DEST_STATE': 12, 'EXPORT_YN': 'N', 'ORIG_CFS_AREA': '13-122', 'SHIPMT_DIST_ROUTED': 443, 'EXPORT_CNTRY': 'N', 'SHIPMT_ID': 280002, 'ORIG_MA': 122, 'HAZMAT': 'N', 'QUARTER': 1, 'SHIPMT_VALUE': 3, 'TEMP_CNTL_YN': 'N', 'SHIPMT_WGHT': 1, 'DEST_CFS_AREA': '12-99999', 'ORIG_STATE': 13, 'SCTG': '29', 'WGT_FACTOR': 41321.3, 'SHIPMT_DIST_GC': 378, 'NAICS': 5111, 'MODE': 14, 'DEST_MA': 99999}, {'DEST_STATE': 19, 'EXPORT_YN': 'N', 'ORIG_CFS_AREA': '19-99999', 'SHIPMT_DIST_ROUTED': 6, 'EXPORT_CNTRY': 'N', 'SHIPMT_ID': 280003, 'ORIG_MA': 99999, 'HAZMAT': 'N', 'QUARTER': 2, 'SHIPMT_VALUE': 4414, 'TEMP_CNTL_YN': 'N', 'SHIPMT_WGHT': 2759, 'DEST_CFS_AREA': '19-99999', 'ORIG_STATE': 19, 'SCTG': '27', 'WGT_FACTOR': 345.8, 'SHIPMT_DIST_GC': 6, 'NAICS': 4233, 'MODE': 5, 'DEST_MA': 99999}, {'DEST_STATE': 45, 'EXPORT_YN': 'N', 'ORIG_CFS_AREA': '45-273', 'SHIPMT_DIST_ROUTED': 180, 'EXPORT_CNTRY': 'N', 'SHIPMT_ID': 280004, 'ORIG_MA': 273, 'HAZMAT': 'N', 'QUARTER': 2, 'SHIPMT_VALUE': 67, 'TEMP_CNTL_YN': 'N', 'SHIPMT_WGHT': 121, 'DEST_CFS_AREA': '45-99999', 'ORIG_STATE': 45, 'SCTG': '07', 'WGT_FACTOR': 8978.4, 'SHIPMT_DIST_GC': 155, 'NAICS': 4244, 'MODE': 5, 'DEST_MA': 99999}, {'DEST_STATE': 39, 'EXPORT_YN': 'N', 'ORIG_CFS_AREA': '39-184', 'SHIPMT_DIST_ROUTED': 69, 'EXPORT_CNTRY': 'N', 'SHIPMT_ID': 280005, 'ORIG_MA': 184, 'HAZMAT': 'N', 'QUARTER': 3, 'SHIPMT_VALUE': 347, 'TEMP_CNTL_YN': 'N', 'SHIPMT_WGHT': 64, 'DEST_CFS_AREA': '39-99999', 'ORIG_STATE': 39, 'SCTG': '24', 'WGT_FACTOR': 539.9, 'SHIPMT_DIST_GC': 56, 'NAICS': 4232, 'MODE': 5, 'DEST_MA': 99999}, {'DEST_STATE': 19, 'EXPORT_YN': 'N', 'ORIG_CFS_AREA': '42-428', 'SHIPMT_DIST_ROUTED': 1174, 'EXPORT_CNTRY': 'N', 'SHIPMT_ID': 280006, 'ORIG_MA': 428, 'HAZMAT': 'N', 'QUARTER': 2, 'SHIPMT_VALUE': 207, 'TEMP_CNTL_YN': 'N', 'SHIPMT_WGHT': 9, 'DEST_CFS_AREA': '19-99999', 'ORIG_STATE': 42, 'SCTG': '33', 'WGT_FACTOR': 4923.4, 'SHIPMT_DIST_GC': 1034, 'NAICS': 4238, 'MODE': 14, 'DEST_MA': 99999}, {'DEST_STATE': 36, 'EXPORT_YN': 'N', 'ORIG_CFS_AREA': '09-408', 'SHIPMT_DIST_ROUTED': 14, 'EXPORT_CNTRY': 'N', 'SHIPMT_ID': 280007, 'ORIG_MA': 408, 'HAZMAT': 'N', 'QUARTER': 2, 'SHIPMT_VALUE': 19309, 'TEMP_CNTL_YN': 'N', 'SHIPMT_WGHT': 696, 'DEST_CFS_AREA': '36-408', 'ORIG_STATE': 9, 'SCTG': '29', 'WGT_FACTOR': 220.5, 'SHIPMT_DIST_GC': 10, 'NAICS': 323, 'MODE': 5, 'DEST_MA': 408}, {'DEST_STATE': 13, 'EXPORT_YN': 'N', 'ORIG_CFS_AREA': '12-45300', 'SHIPMT_DIST_ROUTED': 468, 'EXPORT_CNTRY': 'N', 'SHIPMT_ID': 280008, 'ORIG_MA': 45300, 'HAZMAT': 'N', 'QUARTER': 2, 'SHIPMT_VALUE': 5292, 'TEMP_CNTL_YN': 'N', 'SHIPMT_WGHT': 38542, 'DEST_CFS_AREA': '13-122', 'ORIG_STATE': 12, 'SCTG': '07', 'WGT_FACTOR': 294.1, 'SHIPMT_DIST_GC': 423, 'NAICS': 312, 'MODE': 4, 'DEST_MA': 122}  ... displaying 10 of 10000 total bound parameter sets ...  {'DEST_STATE': 41, 'EXPORT_YN': 'N', 'ORIG_CFS_AREA': '04-38060', 'SHIPMT_DIST_ROUTED': 1206, 'EXPORT_CNTRY': 'N', 'SHIPMT_ID': 289999, 'ORIG_MA': 38060, 'HAZMAT': 'N', 'QUARTER': 4, 'SHIPMT_VALUE': 1, 'TEMP_CNTL_YN': 'N', 'SHIPMT_WGHT': 1, 'DEST_CFS_AREA': '41-99999', 'ORIG_STATE': 4, 'SCTG': '21', 'WGT_FACTOR': 463249.3, 'SHIPMT_DIST_GC': 897, 'NAICS': 4541, 'MODE': 14, 'DEST_MA': 99999}, {'DEST_STATE': 41, 'EXPORT_YN': 'N', 'ORIG_CFS_AREA': '41-440', 'SHIPMT_DIST_ROUTED': 51, 'EXPORT_CNTRY': 'N', 'SHIPMT_ID': 290000, 'ORIG_MA': 440, 'HAZMAT': 'N', 'QUARTER': 2, 'SHIPMT_VALUE': 1446, 'TEMP_CNTL_YN': 'N', 'SHIPMT_WGHT': 496, 'DEST_CFS_AREA': '41-440', 'ORIG_STATE': 41, 'SCTG': '08', 'WGT_FACTOR': 175.8, 'SHIPMT_DIST_GC': 41, 'NAICS': 312, 'MODE': 5, 'DEST_MA': 440})\n"
     ]
    },
    {
     "name": "stdout",
     "output_type": "stream",
     "text": [
      "2015-11-22 18:18:10,376 INFO sqlalchemy.engine.base.Engine INSERT INTO transactions (\"SHIPMT_ID\", \"ORIG_STATE\", \"ORIG_MA\", \"ORIG_CFS_AREA\", \"DEST_STATE\", \"DEST_MA\", \"DEST_CFS_AREA\", \"NAICS\", \"QUARTER\", \"SCTG\", \"MODE\", \"SHIPMT_VALUE\", \"SHIPMT_WGHT\", \"SHIPMT_DIST_GC\", \"SHIPMT_DIST_ROUTED\", \"TEMP_CNTL_YN\", \"EXPORT_YN\", \"EXPORT_CNTRY\", \"HAZMAT\", \"WGT_FACTOR\") VALUES (%(SHIPMT_ID)s, %(ORIG_STATE)s, %(ORIG_MA)s, %(ORIG_CFS_AREA)s, %(DEST_STATE)s, %(DEST_MA)s, %(DEST_CFS_AREA)s, %(NAICS)s, %(QUARTER)s, %(SCTG)s, %(MODE)s, %(SHIPMT_VALUE)s, %(SHIPMT_WGHT)s, %(SHIPMT_DIST_GC)s, %(SHIPMT_DIST_ROUTED)s, %(TEMP_CNTL_YN)s, %(EXPORT_YN)s, %(EXPORT_CNTRY)s, %(HAZMAT)s, %(WGT_FACTOR)s)\n"
     ]
    },
    {
     "name": "stderr",
     "output_type": "stream",
     "text": [
      "INFO:sqlalchemy.engine.base.Engine:INSERT INTO transactions (\"SHIPMT_ID\", \"ORIG_STATE\", \"ORIG_MA\", \"ORIG_CFS_AREA\", \"DEST_STATE\", \"DEST_MA\", \"DEST_CFS_AREA\", \"NAICS\", \"QUARTER\", \"SCTG\", \"MODE\", \"SHIPMT_VALUE\", \"SHIPMT_WGHT\", \"SHIPMT_DIST_GC\", \"SHIPMT_DIST_ROUTED\", \"TEMP_CNTL_YN\", \"EXPORT_YN\", \"EXPORT_CNTRY\", \"HAZMAT\", \"WGT_FACTOR\") VALUES (%(SHIPMT_ID)s, %(ORIG_STATE)s, %(ORIG_MA)s, %(ORIG_CFS_AREA)s, %(DEST_STATE)s, %(DEST_MA)s, %(DEST_CFS_AREA)s, %(NAICS)s, %(QUARTER)s, %(SCTG)s, %(MODE)s, %(SHIPMT_VALUE)s, %(SHIPMT_WGHT)s, %(SHIPMT_DIST_GC)s, %(SHIPMT_DIST_ROUTED)s, %(TEMP_CNTL_YN)s, %(EXPORT_YN)s, %(EXPORT_CNTRY)s, %(HAZMAT)s, %(WGT_FACTOR)s)\n"
     ]
    },
    {
     "name": "stdout",
     "output_type": "stream",
     "text": [
      "2015-11-22 18:18:10,376 INFO sqlalchemy.engine.base.Engine ({'SHIPMT_DIST_ROUTED': 2, 'ORIG_CFS_AREA': '48-288', 'EXPORT_YN': 'N', 'EXPORT_CNTRY': 'N', 'WGT_FACTOR': 2216.0, 'SHIPMT_ID': 290001, 'ORIG_MA': 288, 'HAZMAT': 'N', 'QUARTER': 4, 'SHIPMT_VALUE': 1219, 'TEMP_CNTL_YN': 'Y', 'SHIPMT_WGHT': 437, 'DEST_CFS_AREA': '48-288', 'SCTG': '05', 'MODE': 5, 'SHIPMT_DIST_GC': 1, 'NAICS': 4244, 'ORIG_STATE': 48, 'DEST_STATE': 48, 'DEST_MA': 288}, {'SHIPMT_DIST_ROUTED': 156, 'ORIG_CFS_AREA': '36-104', 'EXPORT_YN': 'N', 'EXPORT_CNTRY': 'N', 'WGT_FACTOR': 64.2, 'SHIPMT_ID': 290002, 'ORIG_MA': 104, 'HAZMAT': 'N', 'QUARTER': 2, 'SHIPMT_VALUE': 5654, 'TEMP_CNTL_YN': 'Y', 'SHIPMT_WGHT': 848, 'DEST_CFS_AREA': '36-408', 'SCTG': '03', 'MODE': 5, 'SHIPMT_DIST_GC': 134, 'NAICS': 4249, 'ORIG_STATE': 36, 'DEST_STATE': 36, 'DEST_MA': 408}, {'SHIPMT_DIST_ROUTED': 16, 'ORIG_CFS_AREA': '15-46520', 'EXPORT_YN': 'N', 'EXPORT_CNTRY': 'N', 'WGT_FACTOR': 184.4, 'SHIPMT_ID': 290003, 'ORIG_MA': 46520, 'HAZMAT': 'N', 'QUARTER': 3, 'SHIPMT_VALUE': 285, 'TEMP_CNTL_YN': 'N', 'SHIPMT_WGHT': 8, 'DEST_CFS_AREA': '15-46520', 'SCTG': '09', 'MODE': 5, 'SHIPMT_DIST_GC': 12, 'NAICS': 4249, 'ORIG_STATE': 15, 'DEST_STATE': 15, 'DEST_MA': 46520}, {'SHIPMT_DIST_ROUTED': 8, 'ORIG_CFS_AREA': '40-99999', 'EXPORT_YN': 'N', 'EXPORT_CNTRY': 'N', 'WGT_FACTOR': 597.6, 'SHIPMT_ID': 290004, 'ORIG_MA': 99999, 'HAZMAT': 'H', 'QUARTER': 4, 'SHIPMT_VALUE': 611, 'TEMP_CNTL_YN': 'Y', 'SHIPMT_WGHT': 1460, 'DEST_CFS_AREA': '40-99999', 'SCTG': '19', 'MODE': 5, 'SHIPMT_DIST_GC': 7, 'NAICS': 45431, 'ORIG_STATE': 40, 'DEST_STATE': 40, 'DEST_MA': 99999}, {'SHIPMT_DIST_ROUTED': 19, 'ORIG_CFS_AREA': '27-378', 'EXPORT_YN': 'N', 'EXPORT_CNTRY': 'N', 'WGT_FACTOR': 231.3, 'SHIPMT_ID': 290005, 'ORIG_MA': 378, 'HAZMAT': 'N', 'QUARTER': 2, 'SHIPMT_VALUE': 422, 'TEMP_CNTL_YN': 'N', 'SHIPMT_WGHT': 304, 'DEST_CFS_AREA': '27-378', 'SCTG': '28', 'MODE': 5, 'SHIPMT_DIST_GC': 15, 'NAICS': 322, 'ORIG_STATE': 27, 'DEST_STATE': 27, 'DEST_MA': 378}, {'SHIPMT_DIST_ROUTED': 121, 'ORIG_CFS_AREA': '24-99999', 'EXPORT_YN': 'N', 'EXPORT_CNTRY': 'N', 'WGT_FACTOR': 58.5, 'SHIPMT_ID': 290006, 'ORIG_MA': 99999, 'HAZMAT': 'N', 'QUARTER': 3, 'SHIPMT_VALUE': 3924, 'TEMP_CNTL_YN': 'N', 'SHIPMT_WGHT': 26, 'DEST_CFS_AREA': '51-47900', 'SCTG': '38', 'MODE': 14, 'SHIPMT_DIST_GC': 87, 'NAICS': 4234, 'ORIG_STATE': 24, 'DEST_STATE': 51, 'DEST_MA': 47900}, {'SHIPMT_DIST_ROUTED': 1, 'ORIG_CFS_AREA': '06-472', 'EXPORT_YN': 'N', 'EXPORT_CNTRY': 'N', 'WGT_FACTOR': 443.8, 'SHIPMT_ID': 290007, 'ORIG_MA': 472, 'HAZMAT': 'N', 'QUARTER': 3, 'SHIPMT_VALUE': 191, 'TEMP_CNTL_YN': 'N', 'SHIPMT_WGHT': 42383, 'DEST_CFS_AREA': '06-472', 'SCTG': '12', 'MODE': 5, 'SHIPMT_DIST_GC': 1, 'NAICS': 212, 'ORIG_STATE': 6, 'DEST_STATE': 6, 'DEST_MA': 472}, {'SHIPMT_DIST_ROUTED': 14, 'ORIG_CFS_AREA': '51-99999', 'EXPORT_YN': 'N', 'EXPORT_CNTRY': 'N', 'WGT_FACTOR': 57.4, 'SHIPMT_ID': 290008, 'ORIG_MA': 99999, 'HAZMAT': 'N', 'QUARTER': 1, 'SHIPMT_VALUE': 39, 'TEMP_CNTL_YN': 'N', 'SHIPMT_WGHT': 1240, 'DEST_CFS_AREA': '51-99999', 'SCTG': '31', 'MODE': 5, 'SHIPMT_DIST_GC': 10, 'NAICS': 212, 'ORIG_STATE': 51, 'DEST_STATE': 51, 'DEST_MA': 99999}  ... displaying 10 of 10000 total bound parameter sets ...  {'SHIPMT_DIST_ROUTED': 205, 'ORIG_CFS_AREA': '37-172', 'EXPORT_YN': 'N', 'EXPORT_CNTRY': 'N', 'WGT_FACTOR': 164.6, 'SHIPMT_ID': 299999, 'ORIG_MA': 172, 'HAZMAT': 'N', 'QUARTER': 4, 'SHIPMT_VALUE': 3674, 'TEMP_CNTL_YN': 'N', 'SHIPMT_WGHT': 7716, 'DEST_CFS_AREA': '13-99999', 'SCTG': '26', 'MODE': 5, 'SHIPMT_DIST_GC': 173, 'NAICS': 4233, 'ORIG_STATE': 37, 'DEST_STATE': 13, 'DEST_MA': 99999}, {'SHIPMT_DIST_ROUTED': 26, 'ORIG_CFS_AREA': '33-99999', 'EXPORT_YN': 'N', 'EXPORT_CNTRY': 'N', 'WGT_FACTOR': 26.4, 'SHIPMT_ID': 300000, 'ORIG_MA': 99999, 'HAZMAT': 'N', 'QUARTER': 3, 'SHIPMT_VALUE': 717, 'TEMP_CNTL_YN': 'N', 'SHIPMT_WGHT': 23259, 'DEST_CFS_AREA': '50-99999', 'SCTG': '31', 'MODE': 5, 'SHIPMT_DIST_GC': 21, 'NAICS': 327, 'ORIG_STATE': 33, 'DEST_STATE': 50, 'DEST_MA': 99999})\n"
     ]
    },
    {
     "name": "stderr",
     "output_type": "stream",
     "text": [
      "INFO:sqlalchemy.engine.base.Engine:({'SHIPMT_DIST_ROUTED': 2, 'ORIG_CFS_AREA': '48-288', 'EXPORT_YN': 'N', 'EXPORT_CNTRY': 'N', 'WGT_FACTOR': 2216.0, 'SHIPMT_ID': 290001, 'ORIG_MA': 288, 'HAZMAT': 'N', 'QUARTER': 4, 'SHIPMT_VALUE': 1219, 'TEMP_CNTL_YN': 'Y', 'SHIPMT_WGHT': 437, 'DEST_CFS_AREA': '48-288', 'SCTG': '05', 'MODE': 5, 'SHIPMT_DIST_GC': 1, 'NAICS': 4244, 'ORIG_STATE': 48, 'DEST_STATE': 48, 'DEST_MA': 288}, {'SHIPMT_DIST_ROUTED': 156, 'ORIG_CFS_AREA': '36-104', 'EXPORT_YN': 'N', 'EXPORT_CNTRY': 'N', 'WGT_FACTOR': 64.2, 'SHIPMT_ID': 290002, 'ORIG_MA': 104, 'HAZMAT': 'N', 'QUARTER': 2, 'SHIPMT_VALUE': 5654, 'TEMP_CNTL_YN': 'Y', 'SHIPMT_WGHT': 848, 'DEST_CFS_AREA': '36-408', 'SCTG': '03', 'MODE': 5, 'SHIPMT_DIST_GC': 134, 'NAICS': 4249, 'ORIG_STATE': 36, 'DEST_STATE': 36, 'DEST_MA': 408}, {'SHIPMT_DIST_ROUTED': 16, 'ORIG_CFS_AREA': '15-46520', 'EXPORT_YN': 'N', 'EXPORT_CNTRY': 'N', 'WGT_FACTOR': 184.4, 'SHIPMT_ID': 290003, 'ORIG_MA': 46520, 'HAZMAT': 'N', 'QUARTER': 3, 'SHIPMT_VALUE': 285, 'TEMP_CNTL_YN': 'N', 'SHIPMT_WGHT': 8, 'DEST_CFS_AREA': '15-46520', 'SCTG': '09', 'MODE': 5, 'SHIPMT_DIST_GC': 12, 'NAICS': 4249, 'ORIG_STATE': 15, 'DEST_STATE': 15, 'DEST_MA': 46520}, {'SHIPMT_DIST_ROUTED': 8, 'ORIG_CFS_AREA': '40-99999', 'EXPORT_YN': 'N', 'EXPORT_CNTRY': 'N', 'WGT_FACTOR': 597.6, 'SHIPMT_ID': 290004, 'ORIG_MA': 99999, 'HAZMAT': 'H', 'QUARTER': 4, 'SHIPMT_VALUE': 611, 'TEMP_CNTL_YN': 'Y', 'SHIPMT_WGHT': 1460, 'DEST_CFS_AREA': '40-99999', 'SCTG': '19', 'MODE': 5, 'SHIPMT_DIST_GC': 7, 'NAICS': 45431, 'ORIG_STATE': 40, 'DEST_STATE': 40, 'DEST_MA': 99999}, {'SHIPMT_DIST_ROUTED': 19, 'ORIG_CFS_AREA': '27-378', 'EXPORT_YN': 'N', 'EXPORT_CNTRY': 'N', 'WGT_FACTOR': 231.3, 'SHIPMT_ID': 290005, 'ORIG_MA': 378, 'HAZMAT': 'N', 'QUARTER': 2, 'SHIPMT_VALUE': 422, 'TEMP_CNTL_YN': 'N', 'SHIPMT_WGHT': 304, 'DEST_CFS_AREA': '27-378', 'SCTG': '28', 'MODE': 5, 'SHIPMT_DIST_GC': 15, 'NAICS': 322, 'ORIG_STATE': 27, 'DEST_STATE': 27, 'DEST_MA': 378}, {'SHIPMT_DIST_ROUTED': 121, 'ORIG_CFS_AREA': '24-99999', 'EXPORT_YN': 'N', 'EXPORT_CNTRY': 'N', 'WGT_FACTOR': 58.5, 'SHIPMT_ID': 290006, 'ORIG_MA': 99999, 'HAZMAT': 'N', 'QUARTER': 3, 'SHIPMT_VALUE': 3924, 'TEMP_CNTL_YN': 'N', 'SHIPMT_WGHT': 26, 'DEST_CFS_AREA': '51-47900', 'SCTG': '38', 'MODE': 14, 'SHIPMT_DIST_GC': 87, 'NAICS': 4234, 'ORIG_STATE': 24, 'DEST_STATE': 51, 'DEST_MA': 47900}, {'SHIPMT_DIST_ROUTED': 1, 'ORIG_CFS_AREA': '06-472', 'EXPORT_YN': 'N', 'EXPORT_CNTRY': 'N', 'WGT_FACTOR': 443.8, 'SHIPMT_ID': 290007, 'ORIG_MA': 472, 'HAZMAT': 'N', 'QUARTER': 3, 'SHIPMT_VALUE': 191, 'TEMP_CNTL_YN': 'N', 'SHIPMT_WGHT': 42383, 'DEST_CFS_AREA': '06-472', 'SCTG': '12', 'MODE': 5, 'SHIPMT_DIST_GC': 1, 'NAICS': 212, 'ORIG_STATE': 6, 'DEST_STATE': 6, 'DEST_MA': 472}, {'SHIPMT_DIST_ROUTED': 14, 'ORIG_CFS_AREA': '51-99999', 'EXPORT_YN': 'N', 'EXPORT_CNTRY': 'N', 'WGT_FACTOR': 57.4, 'SHIPMT_ID': 290008, 'ORIG_MA': 99999, 'HAZMAT': 'N', 'QUARTER': 1, 'SHIPMT_VALUE': 39, 'TEMP_CNTL_YN': 'N', 'SHIPMT_WGHT': 1240, 'DEST_CFS_AREA': '51-99999', 'SCTG': '31', 'MODE': 5, 'SHIPMT_DIST_GC': 10, 'NAICS': 212, 'ORIG_STATE': 51, 'DEST_STATE': 51, 'DEST_MA': 99999}  ... displaying 10 of 10000 total bound parameter sets ...  {'SHIPMT_DIST_ROUTED': 205, 'ORIG_CFS_AREA': '37-172', 'EXPORT_YN': 'N', 'EXPORT_CNTRY': 'N', 'WGT_FACTOR': 164.6, 'SHIPMT_ID': 299999, 'ORIG_MA': 172, 'HAZMAT': 'N', 'QUARTER': 4, 'SHIPMT_VALUE': 3674, 'TEMP_CNTL_YN': 'N', 'SHIPMT_WGHT': 7716, 'DEST_CFS_AREA': '13-99999', 'SCTG': '26', 'MODE': 5, 'SHIPMT_DIST_GC': 173, 'NAICS': 4233, 'ORIG_STATE': 37, 'DEST_STATE': 13, 'DEST_MA': 99999}, {'SHIPMT_DIST_ROUTED': 26, 'ORIG_CFS_AREA': '33-99999', 'EXPORT_YN': 'N', 'EXPORT_CNTRY': 'N', 'WGT_FACTOR': 26.4, 'SHIPMT_ID': 300000, 'ORIG_MA': 99999, 'HAZMAT': 'N', 'QUARTER': 3, 'SHIPMT_VALUE': 717, 'TEMP_CNTL_YN': 'N', 'SHIPMT_WGHT': 23259, 'DEST_CFS_AREA': '50-99999', 'SCTG': '31', 'MODE': 5, 'SHIPMT_DIST_GC': 21, 'NAICS': 327, 'ORIG_STATE': 33, 'DEST_STATE': 50, 'DEST_MA': 99999})\n"
     ]
    },
    {
     "name": "stdout",
     "output_type": "stream",
     "text": [
      "2015-11-22 18:22:08,581 INFO sqlalchemy.engine.base.Engine INSERT INTO transactions (\"SHIPMT_ID\", \"ORIG_STATE\", \"ORIG_MA\", \"ORIG_CFS_AREA\", \"DEST_STATE\", \"DEST_MA\", \"DEST_CFS_AREA\", \"NAICS\", \"QUARTER\", \"SCTG\", \"MODE\", \"SHIPMT_VALUE\", \"SHIPMT_WGHT\", \"SHIPMT_DIST_GC\", \"SHIPMT_DIST_ROUTED\", \"TEMP_CNTL_YN\", \"EXPORT_YN\", \"EXPORT_CNTRY\", \"HAZMAT\", \"WGT_FACTOR\") VALUES (%(SHIPMT_ID)s, %(ORIG_STATE)s, %(ORIG_MA)s, %(ORIG_CFS_AREA)s, %(DEST_STATE)s, %(DEST_MA)s, %(DEST_CFS_AREA)s, %(NAICS)s, %(QUARTER)s, %(SCTG)s, %(MODE)s, %(SHIPMT_VALUE)s, %(SHIPMT_WGHT)s, %(SHIPMT_DIST_GC)s, %(SHIPMT_DIST_ROUTED)s, %(TEMP_CNTL_YN)s, %(EXPORT_YN)s, %(EXPORT_CNTRY)s, %(HAZMAT)s, %(WGT_FACTOR)s)\n"
     ]
    },
    {
     "name": "stderr",
     "output_type": "stream",
     "text": [
      "INFO:sqlalchemy.engine.base.Engine:INSERT INTO transactions (\"SHIPMT_ID\", \"ORIG_STATE\", \"ORIG_MA\", \"ORIG_CFS_AREA\", \"DEST_STATE\", \"DEST_MA\", \"DEST_CFS_AREA\", \"NAICS\", \"QUARTER\", \"SCTG\", \"MODE\", \"SHIPMT_VALUE\", \"SHIPMT_WGHT\", \"SHIPMT_DIST_GC\", \"SHIPMT_DIST_ROUTED\", \"TEMP_CNTL_YN\", \"EXPORT_YN\", \"EXPORT_CNTRY\", \"HAZMAT\", \"WGT_FACTOR\") VALUES (%(SHIPMT_ID)s, %(ORIG_STATE)s, %(ORIG_MA)s, %(ORIG_CFS_AREA)s, %(DEST_STATE)s, %(DEST_MA)s, %(DEST_CFS_AREA)s, %(NAICS)s, %(QUARTER)s, %(SCTG)s, %(MODE)s, %(SHIPMT_VALUE)s, %(SHIPMT_WGHT)s, %(SHIPMT_DIST_GC)s, %(SHIPMT_DIST_ROUTED)s, %(TEMP_CNTL_YN)s, %(EXPORT_YN)s, %(EXPORT_CNTRY)s, %(HAZMAT)s, %(WGT_FACTOR)s)\n"
     ]
    },
    {
     "name": "stdout",
     "output_type": "stream",
     "text": [
      "2015-11-22 18:22:08,582 INFO sqlalchemy.engine.base.Engine ({'DEST_STATE': 40, 'EXPORT_YN': 'N', 'ORIG_CFS_AREA': '40-538', 'SHIPMT_DIST_ROUTED': 5, 'EXPORT_CNTRY': 'N', 'SHIPMT_ID': 300001, 'ORIG_MA': 538, 'HAZMAT': 'N', 'SHIPMT_WGHT': 7, 'SHIPMT_VALUE': 174, 'TEMP_CNTL_YN': 'N', 'QUARTER': 3, 'DEST_CFS_AREA': '40-538', 'ORIG_STATE': 40, 'SCTG': '43', 'WGT_FACTOR': 1577.0, 'SHIPMT_DIST_GC': 5, 'NAICS': 4237, 'MODE': 5, 'DEST_MA': 538}, {'DEST_STATE': 25, 'EXPORT_YN': 'N', 'ORIG_CFS_AREA': '39-178', 'SHIPMT_DIST_ROUTED': 834, 'EXPORT_CNTRY': 'N', 'SHIPMT_ID': 300002, 'ORIG_MA': 178, 'HAZMAT': 'N', 'SHIPMT_WGHT': 1, 'SHIPMT_VALUE': 80, 'TEMP_CNTL_YN': 'N', 'QUARTER': 2, 'DEST_CFS_AREA': '25-148', 'ORIG_STATE': 39, 'SCTG': '40', 'WGT_FACTOR': 25161.8, 'SHIPMT_DIST_GC': 704, 'NAICS': 4541, 'MODE': 14, 'DEST_MA': 148}, {'DEST_STATE': 36, 'EXPORT_YN': 'N', 'ORIG_CFS_AREA': '36-99999', 'SHIPMT_DIST_ROUTED': 12, 'EXPORT_CNTRY': 'N', 'SHIPMT_ID': 300003, 'ORIG_MA': 99999, 'HAZMAT': 'N', 'SHIPMT_WGHT': 1, 'SHIPMT_VALUE': 42, 'TEMP_CNTL_YN': 'N', 'QUARTER': 2, 'DEST_CFS_AREA': '36-99999', 'ORIG_STATE': 36, 'SCTG': '36', 'WGT_FACTOR': 11570.4, 'SHIPMT_DIST_GC': 12, 'NAICS': 4238, 'MODE': 5, 'DEST_MA': 99999}, {'DEST_STATE': 23, 'EXPORT_YN': 'N', 'ORIG_CFS_AREA': '33-148', 'SHIPMT_DIST_ROUTED': 75, 'EXPORT_CNTRY': 'N', 'SHIPMT_ID': 300004, 'ORIG_MA': 148, 'HAZMAT': 'H', 'SHIPMT_WGHT': 25662, 'SHIPMT_VALUE': 88391, 'TEMP_CNTL_YN': 'N', 'QUARTER': 1, 'DEST_CFS_AREA': '23-99999', 'ORIG_STATE': 33, 'SCTG': '20', 'WGT_FACTOR': 302.7, 'SHIPMT_DIST_GC': 57, 'NAICS': 4931, 'MODE': 5, 'DEST_MA': 99999}, {'DEST_STATE': 6, 'EXPORT_YN': 'N', 'ORIG_CFS_AREA': '06-488', 'SHIPMT_DIST_ROUTED': 24, 'EXPORT_CNTRY': 'N', 'SHIPMT_ID': 300005, 'ORIG_MA': 488, 'HAZMAT': 'N', 'SHIPMT_WGHT': 42703, 'SHIPMT_VALUE': 4058, 'TEMP_CNTL_YN': 'N', 'QUARTER': 4, 'DEST_CFS_AREA': '06-488', 'ORIG_STATE': 6, 'SCTG': '41', 'WGT_FACTOR': 107.5, 'SHIPMT_DIST_GC': 21, 'NAICS': 4239, 'MODE': 4, 'DEST_MA': 488}, {'DEST_STATE': 53, 'EXPORT_YN': 'N', 'ORIG_CFS_AREA': '53-99999', 'SHIPMT_DIST_ROUTED': 348, 'EXPORT_CNTRY': 'N', 'SHIPMT_ID': 300006, 'ORIG_MA': 99999, 'HAZMAT': 'N', 'SHIPMT_WGHT': 424, 'SHIPMT_VALUE': 749, 'TEMP_CNTL_YN': 'N', 'QUARTER': 1, 'DEST_CFS_AREA': '53-500', 'ORIG_STATE': 53, 'SCTG': '29', 'WGT_FACTOR': 121.3, 'SHIPMT_DIST_GC': 273, 'NAICS': 323, 'MODE': 4, 'DEST_MA': 500}, {'DEST_STATE': 12, 'EXPORT_YN': 'N', 'ORIG_CFS_AREA': '06-488', 'SHIPMT_DIST_ROUTED': 2473, 'EXPORT_CNTRY': 'N', 'SHIPMT_ID': 300007, 'ORIG_MA': 488, 'HAZMAT': 'N', 'SHIPMT_WGHT': 18, 'SHIPMT_VALUE': 1871, 'TEMP_CNTL_YN': 'N', 'QUARTER': 3, 'DEST_CFS_AREA': '12-99999', 'ORIG_STATE': 6, 'SCTG': '38', 'WGT_FACTOR': 293.0, 'SHIPMT_DIST_GC': 2076, 'NAICS': 339, 'MODE': 14, 'DEST_MA': 99999}, {'DEST_STATE': 41, 'EXPORT_YN': 'N', 'ORIG_CFS_AREA': '42-430', 'SHIPMT_DIST_ROUTED': 2771, 'EXPORT_CNTRY': 'N', 'SHIPMT_ID': 300008, 'ORIG_MA': 430, 'HAZMAT': 'N', 'SHIPMT_WGHT': 5141, 'SHIPMT_VALUE': 10144, 'TEMP_CNTL_YN': 'N', 'QUARTER': 3, 'DEST_CFS_AREA': '41-99999', 'ORIG_STATE': 42, 'SCTG': '36', 'WGT_FACTOR': 98.6, 'SHIPMT_DIST_GC': 2233, 'NAICS': 4231, 'MODE': 4, 'DEST_MA': 99999}  ... displaying 10 of 10000 total bound parameter sets ...  {'DEST_STATE': 29, 'EXPORT_YN': 'N', 'ORIG_CFS_AREA': '29-99999', 'SHIPMT_DIST_ROUTED': 9, 'EXPORT_CNTRY': 'N', 'SHIPMT_ID': 309999, 'ORIG_MA': 99999, 'HAZMAT': 'N', 'SHIPMT_WGHT': 16304, 'SHIPMT_VALUE': 407, 'TEMP_CNTL_YN': 'N', 'QUARTER': 2, 'DEST_CFS_AREA': '29-99999', 'ORIG_STATE': 29, 'SCTG': '31', 'WGT_FACTOR': 1224.3, 'SHIPMT_DIST_GC': 6, 'NAICS': 327, 'MODE': 5, 'DEST_MA': 99999}, {'DEST_STATE': 24, 'EXPORT_YN': 'N', 'ORIG_CFS_AREA': '39-198', 'SHIPMT_DIST_ROUTED': 428, 'EXPORT_CNTRY': 'N', 'SHIPMT_ID': 310000, 'ORIG_MA': 198, 'HAZMAT': 'N', 'SHIPMT_WGHT': 5, 'SHIPMT_VALUE': 407, 'TEMP_CNTL_YN': 'N', 'QUARTER': 1, 'DEST_CFS_AREA': '24-12580', 'ORIG_STATE': 39, 'SCTG': '34', 'WGT_FACTOR': 788.9, 'SHIPMT_DIST_GC': 344, 'NAICS': 333, 'MODE': 14, 'DEST_MA': 12580})\n"
     ]
    },
    {
     "name": "stderr",
     "output_type": "stream",
     "text": [
      "INFO:sqlalchemy.engine.base.Engine:({'DEST_STATE': 40, 'EXPORT_YN': 'N', 'ORIG_CFS_AREA': '40-538', 'SHIPMT_DIST_ROUTED': 5, 'EXPORT_CNTRY': 'N', 'SHIPMT_ID': 300001, 'ORIG_MA': 538, 'HAZMAT': 'N', 'SHIPMT_WGHT': 7, 'SHIPMT_VALUE': 174, 'TEMP_CNTL_YN': 'N', 'QUARTER': 3, 'DEST_CFS_AREA': '40-538', 'ORIG_STATE': 40, 'SCTG': '43', 'WGT_FACTOR': 1577.0, 'SHIPMT_DIST_GC': 5, 'NAICS': 4237, 'MODE': 5, 'DEST_MA': 538}, {'DEST_STATE': 25, 'EXPORT_YN': 'N', 'ORIG_CFS_AREA': '39-178', 'SHIPMT_DIST_ROUTED': 834, 'EXPORT_CNTRY': 'N', 'SHIPMT_ID': 300002, 'ORIG_MA': 178, 'HAZMAT': 'N', 'SHIPMT_WGHT': 1, 'SHIPMT_VALUE': 80, 'TEMP_CNTL_YN': 'N', 'QUARTER': 2, 'DEST_CFS_AREA': '25-148', 'ORIG_STATE': 39, 'SCTG': '40', 'WGT_FACTOR': 25161.8, 'SHIPMT_DIST_GC': 704, 'NAICS': 4541, 'MODE': 14, 'DEST_MA': 148}, {'DEST_STATE': 36, 'EXPORT_YN': 'N', 'ORIG_CFS_AREA': '36-99999', 'SHIPMT_DIST_ROUTED': 12, 'EXPORT_CNTRY': 'N', 'SHIPMT_ID': 300003, 'ORIG_MA': 99999, 'HAZMAT': 'N', 'SHIPMT_WGHT': 1, 'SHIPMT_VALUE': 42, 'TEMP_CNTL_YN': 'N', 'QUARTER': 2, 'DEST_CFS_AREA': '36-99999', 'ORIG_STATE': 36, 'SCTG': '36', 'WGT_FACTOR': 11570.4, 'SHIPMT_DIST_GC': 12, 'NAICS': 4238, 'MODE': 5, 'DEST_MA': 99999}, {'DEST_STATE': 23, 'EXPORT_YN': 'N', 'ORIG_CFS_AREA': '33-148', 'SHIPMT_DIST_ROUTED': 75, 'EXPORT_CNTRY': 'N', 'SHIPMT_ID': 300004, 'ORIG_MA': 148, 'HAZMAT': 'H', 'SHIPMT_WGHT': 25662, 'SHIPMT_VALUE': 88391, 'TEMP_CNTL_YN': 'N', 'QUARTER': 1, 'DEST_CFS_AREA': '23-99999', 'ORIG_STATE': 33, 'SCTG': '20', 'WGT_FACTOR': 302.7, 'SHIPMT_DIST_GC': 57, 'NAICS': 4931, 'MODE': 5, 'DEST_MA': 99999}, {'DEST_STATE': 6, 'EXPORT_YN': 'N', 'ORIG_CFS_AREA': '06-488', 'SHIPMT_DIST_ROUTED': 24, 'EXPORT_CNTRY': 'N', 'SHIPMT_ID': 300005, 'ORIG_MA': 488, 'HAZMAT': 'N', 'SHIPMT_WGHT': 42703, 'SHIPMT_VALUE': 4058, 'TEMP_CNTL_YN': 'N', 'QUARTER': 4, 'DEST_CFS_AREA': '06-488', 'ORIG_STATE': 6, 'SCTG': '41', 'WGT_FACTOR': 107.5, 'SHIPMT_DIST_GC': 21, 'NAICS': 4239, 'MODE': 4, 'DEST_MA': 488}, {'DEST_STATE': 53, 'EXPORT_YN': 'N', 'ORIG_CFS_AREA': '53-99999', 'SHIPMT_DIST_ROUTED': 348, 'EXPORT_CNTRY': 'N', 'SHIPMT_ID': 300006, 'ORIG_MA': 99999, 'HAZMAT': 'N', 'SHIPMT_WGHT': 424, 'SHIPMT_VALUE': 749, 'TEMP_CNTL_YN': 'N', 'QUARTER': 1, 'DEST_CFS_AREA': '53-500', 'ORIG_STATE': 53, 'SCTG': '29', 'WGT_FACTOR': 121.3, 'SHIPMT_DIST_GC': 273, 'NAICS': 323, 'MODE': 4, 'DEST_MA': 500}, {'DEST_STATE': 12, 'EXPORT_YN': 'N', 'ORIG_CFS_AREA': '06-488', 'SHIPMT_DIST_ROUTED': 2473, 'EXPORT_CNTRY': 'N', 'SHIPMT_ID': 300007, 'ORIG_MA': 488, 'HAZMAT': 'N', 'SHIPMT_WGHT': 18, 'SHIPMT_VALUE': 1871, 'TEMP_CNTL_YN': 'N', 'QUARTER': 3, 'DEST_CFS_AREA': '12-99999', 'ORIG_STATE': 6, 'SCTG': '38', 'WGT_FACTOR': 293.0, 'SHIPMT_DIST_GC': 2076, 'NAICS': 339, 'MODE': 14, 'DEST_MA': 99999}, {'DEST_STATE': 41, 'EXPORT_YN': 'N', 'ORIG_CFS_AREA': '42-430', 'SHIPMT_DIST_ROUTED': 2771, 'EXPORT_CNTRY': 'N', 'SHIPMT_ID': 300008, 'ORIG_MA': 430, 'HAZMAT': 'N', 'SHIPMT_WGHT': 5141, 'SHIPMT_VALUE': 10144, 'TEMP_CNTL_YN': 'N', 'QUARTER': 3, 'DEST_CFS_AREA': '41-99999', 'ORIG_STATE': 42, 'SCTG': '36', 'WGT_FACTOR': 98.6, 'SHIPMT_DIST_GC': 2233, 'NAICS': 4231, 'MODE': 4, 'DEST_MA': 99999}  ... displaying 10 of 10000 total bound parameter sets ...  {'DEST_STATE': 29, 'EXPORT_YN': 'N', 'ORIG_CFS_AREA': '29-99999', 'SHIPMT_DIST_ROUTED': 9, 'EXPORT_CNTRY': 'N', 'SHIPMT_ID': 309999, 'ORIG_MA': 99999, 'HAZMAT': 'N', 'SHIPMT_WGHT': 16304, 'SHIPMT_VALUE': 407, 'TEMP_CNTL_YN': 'N', 'QUARTER': 2, 'DEST_CFS_AREA': '29-99999', 'ORIG_STATE': 29, 'SCTG': '31', 'WGT_FACTOR': 1224.3, 'SHIPMT_DIST_GC': 6, 'NAICS': 327, 'MODE': 5, 'DEST_MA': 99999}, {'DEST_STATE': 24, 'EXPORT_YN': 'N', 'ORIG_CFS_AREA': '39-198', 'SHIPMT_DIST_ROUTED': 428, 'EXPORT_CNTRY': 'N', 'SHIPMT_ID': 310000, 'ORIG_MA': 198, 'HAZMAT': 'N', 'SHIPMT_WGHT': 5, 'SHIPMT_VALUE': 407, 'TEMP_CNTL_YN': 'N', 'QUARTER': 1, 'DEST_CFS_AREA': '24-12580', 'ORIG_STATE': 39, 'SCTG': '34', 'WGT_FACTOR': 788.9, 'SHIPMT_DIST_GC': 344, 'NAICS': 333, 'MODE': 14, 'DEST_MA': 12580})\n"
     ]
    },
    {
     "name": "stdout",
     "output_type": "stream",
     "text": [
      "2015-11-22 18:26:12,260 INFO sqlalchemy.engine.base.Engine INSERT INTO transactions (\"SHIPMT_ID\", \"ORIG_STATE\", \"ORIG_MA\", \"ORIG_CFS_AREA\", \"DEST_STATE\", \"DEST_MA\", \"DEST_CFS_AREA\", \"NAICS\", \"QUARTER\", \"SCTG\", \"MODE\", \"SHIPMT_VALUE\", \"SHIPMT_WGHT\", \"SHIPMT_DIST_GC\", \"SHIPMT_DIST_ROUTED\", \"TEMP_CNTL_YN\", \"EXPORT_YN\", \"EXPORT_CNTRY\", \"HAZMAT\", \"WGT_FACTOR\") VALUES (%(SHIPMT_ID)s, %(ORIG_STATE)s, %(ORIG_MA)s, %(ORIG_CFS_AREA)s, %(DEST_STATE)s, %(DEST_MA)s, %(DEST_CFS_AREA)s, %(NAICS)s, %(QUARTER)s, %(SCTG)s, %(MODE)s, %(SHIPMT_VALUE)s, %(SHIPMT_WGHT)s, %(SHIPMT_DIST_GC)s, %(SHIPMT_DIST_ROUTED)s, %(TEMP_CNTL_YN)s, %(EXPORT_YN)s, %(EXPORT_CNTRY)s, %(HAZMAT)s, %(WGT_FACTOR)s)\n"
     ]
    },
    {
     "name": "stderr",
     "output_type": "stream",
     "text": [
      "INFO:sqlalchemy.engine.base.Engine:INSERT INTO transactions (\"SHIPMT_ID\", \"ORIG_STATE\", \"ORIG_MA\", \"ORIG_CFS_AREA\", \"DEST_STATE\", \"DEST_MA\", \"DEST_CFS_AREA\", \"NAICS\", \"QUARTER\", \"SCTG\", \"MODE\", \"SHIPMT_VALUE\", \"SHIPMT_WGHT\", \"SHIPMT_DIST_GC\", \"SHIPMT_DIST_ROUTED\", \"TEMP_CNTL_YN\", \"EXPORT_YN\", \"EXPORT_CNTRY\", \"HAZMAT\", \"WGT_FACTOR\") VALUES (%(SHIPMT_ID)s, %(ORIG_STATE)s, %(ORIG_MA)s, %(ORIG_CFS_AREA)s, %(DEST_STATE)s, %(DEST_MA)s, %(DEST_CFS_AREA)s, %(NAICS)s, %(QUARTER)s, %(SCTG)s, %(MODE)s, %(SHIPMT_VALUE)s, %(SHIPMT_WGHT)s, %(SHIPMT_DIST_GC)s, %(SHIPMT_DIST_ROUTED)s, %(TEMP_CNTL_YN)s, %(EXPORT_YN)s, %(EXPORT_CNTRY)s, %(HAZMAT)s, %(WGT_FACTOR)s)\n"
     ]
    },
    {
     "name": "stdout",
     "output_type": "stream",
     "text": [
      "2015-11-22 18:26:12,261 INFO sqlalchemy.engine.base.Engine ({'SHIPMT_DIST_ROUTED': 22, 'ORIG_CFS_AREA': '12-422', 'EXPORT_YN': 'N', 'EXPORT_CNTRY': 'N', 'WGT_FACTOR': 8792.2, 'ORIG_STATE': 12, 'ORIG_MA': 422, 'HAZMAT': 'N', 'NAICS': 4248, 'SHIPMT_ID': 310001, 'SHIPMT_VALUE': 1153, 'TEMP_CNTL_YN': 'Y', 'QUARTER': 3, 'DEST_CFS_AREA': '12-422', 'MODE': 5, 'SHIPMT_WGHT': 589, 'SCTG': '08', 'SHIPMT_DIST_GC': 16, 'DEST_STATE': 12, 'DEST_MA': 422}, {'SHIPMT_DIST_ROUTED': 253, 'ORIG_CFS_AREA': '48-41700', 'EXPORT_YN': 'N', 'EXPORT_CNTRY': 'N', 'WGT_FACTOR': 60.9, 'ORIG_STATE': 48, 'ORIG_MA': 41700, 'HAZMAT': 'N', 'NAICS': 332, 'SHIPMT_ID': 310002, 'SHIPMT_VALUE': 1004, 'TEMP_CNTL_YN': 'N', 'QUARTER': 3, 'DEST_CFS_AREA': '48-288', 'MODE': 14, 'SHIPMT_WGHT': 15, 'SCTG': '33', 'SHIPMT_DIST_GC': 217, 'DEST_STATE': 48, 'DEST_MA': 288}, {'SHIPMT_DIST_ROUTED': 29, 'ORIG_CFS_AREA': '12-45300', 'EXPORT_YN': 'N', 'EXPORT_CNTRY': 'N', 'WGT_FACTOR': 588.5, 'ORIG_STATE': 12, 'ORIG_MA': 45300, 'HAZMAT': 'H', 'NAICS': 45431, 'SHIPMT_ID': 310003, 'SHIPMT_VALUE': 157, 'TEMP_CNTL_YN': 'N', 'QUARTER': 4, 'DEST_CFS_AREA': '12-45300', 'MODE': 5, 'SHIPMT_WGHT': 260, 'SCTG': '19', 'SHIPMT_DIST_GC': 21, 'DEST_STATE': 12, 'DEST_MA': 45300}, {'SHIPMT_DIST_ROUTED': 516, 'ORIG_CFS_AREA': '29-312', 'EXPORT_YN': 'N', 'EXPORT_CNTRY': 'N', 'WGT_FACTOR': 218.5, 'ORIG_STATE': 29, 'ORIG_MA': 312, 'HAZMAT': 'N', 'NAICS': 4237, 'SHIPMT_ID': 310004, 'SHIPMT_VALUE': 151, 'TEMP_CNTL_YN': 'N', 'QUARTER': 1, 'DEST_CFS_AREA': '17-176', 'MODE': 14, 'SHIPMT_WGHT': 10, 'SCTG': '33', 'SHIPMT_DIST_GC': 400, 'DEST_STATE': 17, 'DEST_MA': 176}, {'SHIPMT_DIST_ROUTED': 2162, 'ORIG_CFS_AREA': '04-38060', 'EXPORT_YN': 'N', 'EXPORT_CNTRY': 'N', 'WGT_FACTOR': 120.7, 'ORIG_STATE': 4, 'ORIG_MA': 38060, 'HAZMAT': 'N', 'NAICS': 325, 'SHIPMT_ID': 310005, 'SHIPMT_VALUE': 52449, 'TEMP_CNTL_YN': 'N', 'QUARTER': 4, 'DEST_CFS_AREA': '37-268', 'MODE': 4, 'SHIPMT_WGHT': 37247, 'SCTG': '21', 'SHIPMT_DIST_GC': 1841, 'DEST_STATE': 37, 'DEST_MA': 268}, {'SHIPMT_DIST_ROUTED': 53, 'ORIG_CFS_AREA': '33-148', 'EXPORT_YN': 'N', 'EXPORT_CNTRY': 'N', 'WGT_FACTOR': 177.8, 'ORIG_STATE': 33, 'ORIG_MA': 148, 'HAZMAT': 'N', 'NAICS': 327, 'SHIPMT_ID': 310006, 'SHIPMT_VALUE': 4275, 'TEMP_CNTL_YN': 'N', 'QUARTER': 2, 'DEST_CFS_AREA': '23-99999', 'MODE': 4, 'SHIPMT_WGHT': 44040, 'SCTG': '31', 'SHIPMT_DIST_GC': 50, 'DEST_STATE': 23, 'DEST_MA': 99999}, {'SHIPMT_DIST_ROUTED': 43, 'ORIG_CFS_AREA': '24-12580', 'EXPORT_YN': 'N', 'EXPORT_CNTRY': 'N', 'WGT_FACTOR': 290.5, 'ORIG_STATE': 24, 'ORIG_MA': 12580, 'HAZMAT': 'N', 'NAICS': 4237, 'SHIPMT_ID': 310007, 'SHIPMT_VALUE': 282, 'TEMP_CNTL_YN': 'N', 'QUARTER': 3, 'DEST_CFS_AREA': '24-47900', 'MODE': 14, 'SHIPMT_WGHT': 5, 'SCTG': '34', 'SHIPMT_DIST_GC': 33, 'DEST_STATE': 24, 'DEST_MA': 47900}, {'SHIPMT_DIST_ROUTED': 357, 'ORIG_CFS_AREA': '48-206', 'EXPORT_YN': 'N', 'EXPORT_CNTRY': 'N', 'WGT_FACTOR': 7590.7, 'ORIG_STATE': 48, 'ORIG_MA': 206, 'HAZMAT': 'N', 'NAICS': 4238, 'SHIPMT_ID': 310008, 'SHIPMT_VALUE': 1003, 'TEMP_CNTL_YN': 'N', 'QUARTER': 3, 'DEST_CFS_AREA': '48-99999', 'MODE': 14, 'SHIPMT_WGHT': 48, 'SCTG': '34', 'SHIPMT_DIST_GC': 331, 'DEST_STATE': 48, 'DEST_MA': 99999}  ... displaying 10 of 10000 total bound parameter sets ...  {'SHIPMT_DIST_ROUTED': 5, 'ORIG_CFS_AREA': '15-46520', 'EXPORT_YN': 'N', 'EXPORT_CNTRY': 'N', 'WGT_FACTOR': 25.9, 'ORIG_STATE': 15, 'ORIG_MA': 46520, 'HAZMAT': 'N', 'NAICS': 4242, 'SHIPMT_ID': 319999, 'SHIPMT_VALUE': 3285, 'TEMP_CNTL_YN': 'N', 'QUARTER': 3, 'DEST_CFS_AREA': '15-46520', 'MODE': 4, 'SHIPMT_WGHT': 123, 'SCTG': '21', 'SHIPMT_DIST_GC': 4, 'DEST_STATE': 15, 'DEST_MA': 46520}, {'SHIPMT_DIST_ROUTED': 17, 'ORIG_CFS_AREA': '18-99999', 'EXPORT_YN': 'N', 'EXPORT_CNTRY': 'N', 'WGT_FACTOR': 27.8, 'ORIG_STATE': 18, 'ORIG_MA': 99999, 'HAZMAT': 'N', 'NAICS': 339, 'SHIPMT_ID': 320000, 'SHIPMT_VALUE': 38995, 'TEMP_CNTL_YN': 'N', 'QUARTER': 2, 'DEST_CFS_AREA': '21-178', 'MODE': 5, 'SHIPMT_WGHT': 5577, 'SCTG': '40', 'SHIPMT_DIST_GC': 13, 'DEST_STATE': 21, 'DEST_MA': 178})\n"
     ]
    },
    {
     "name": "stderr",
     "output_type": "stream",
     "text": [
      "INFO:sqlalchemy.engine.base.Engine:({'SHIPMT_DIST_ROUTED': 22, 'ORIG_CFS_AREA': '12-422', 'EXPORT_YN': 'N', 'EXPORT_CNTRY': 'N', 'WGT_FACTOR': 8792.2, 'ORIG_STATE': 12, 'ORIG_MA': 422, 'HAZMAT': 'N', 'NAICS': 4248, 'SHIPMT_ID': 310001, 'SHIPMT_VALUE': 1153, 'TEMP_CNTL_YN': 'Y', 'QUARTER': 3, 'DEST_CFS_AREA': '12-422', 'MODE': 5, 'SHIPMT_WGHT': 589, 'SCTG': '08', 'SHIPMT_DIST_GC': 16, 'DEST_STATE': 12, 'DEST_MA': 422}, {'SHIPMT_DIST_ROUTED': 253, 'ORIG_CFS_AREA': '48-41700', 'EXPORT_YN': 'N', 'EXPORT_CNTRY': 'N', 'WGT_FACTOR': 60.9, 'ORIG_STATE': 48, 'ORIG_MA': 41700, 'HAZMAT': 'N', 'NAICS': 332, 'SHIPMT_ID': 310002, 'SHIPMT_VALUE': 1004, 'TEMP_CNTL_YN': 'N', 'QUARTER': 3, 'DEST_CFS_AREA': '48-288', 'MODE': 14, 'SHIPMT_WGHT': 15, 'SCTG': '33', 'SHIPMT_DIST_GC': 217, 'DEST_STATE': 48, 'DEST_MA': 288}, {'SHIPMT_DIST_ROUTED': 29, 'ORIG_CFS_AREA': '12-45300', 'EXPORT_YN': 'N', 'EXPORT_CNTRY': 'N', 'WGT_FACTOR': 588.5, 'ORIG_STATE': 12, 'ORIG_MA': 45300, 'HAZMAT': 'H', 'NAICS': 45431, 'SHIPMT_ID': 310003, 'SHIPMT_VALUE': 157, 'TEMP_CNTL_YN': 'N', 'QUARTER': 4, 'DEST_CFS_AREA': '12-45300', 'MODE': 5, 'SHIPMT_WGHT': 260, 'SCTG': '19', 'SHIPMT_DIST_GC': 21, 'DEST_STATE': 12, 'DEST_MA': 45300}, {'SHIPMT_DIST_ROUTED': 516, 'ORIG_CFS_AREA': '29-312', 'EXPORT_YN': 'N', 'EXPORT_CNTRY': 'N', 'WGT_FACTOR': 218.5, 'ORIG_STATE': 29, 'ORIG_MA': 312, 'HAZMAT': 'N', 'NAICS': 4237, 'SHIPMT_ID': 310004, 'SHIPMT_VALUE': 151, 'TEMP_CNTL_YN': 'N', 'QUARTER': 1, 'DEST_CFS_AREA': '17-176', 'MODE': 14, 'SHIPMT_WGHT': 10, 'SCTG': '33', 'SHIPMT_DIST_GC': 400, 'DEST_STATE': 17, 'DEST_MA': 176}, {'SHIPMT_DIST_ROUTED': 2162, 'ORIG_CFS_AREA': '04-38060', 'EXPORT_YN': 'N', 'EXPORT_CNTRY': 'N', 'WGT_FACTOR': 120.7, 'ORIG_STATE': 4, 'ORIG_MA': 38060, 'HAZMAT': 'N', 'NAICS': 325, 'SHIPMT_ID': 310005, 'SHIPMT_VALUE': 52449, 'TEMP_CNTL_YN': 'N', 'QUARTER': 4, 'DEST_CFS_AREA': '37-268', 'MODE': 4, 'SHIPMT_WGHT': 37247, 'SCTG': '21', 'SHIPMT_DIST_GC': 1841, 'DEST_STATE': 37, 'DEST_MA': 268}, {'SHIPMT_DIST_ROUTED': 53, 'ORIG_CFS_AREA': '33-148', 'EXPORT_YN': 'N', 'EXPORT_CNTRY': 'N', 'WGT_FACTOR': 177.8, 'ORIG_STATE': 33, 'ORIG_MA': 148, 'HAZMAT': 'N', 'NAICS': 327, 'SHIPMT_ID': 310006, 'SHIPMT_VALUE': 4275, 'TEMP_CNTL_YN': 'N', 'QUARTER': 2, 'DEST_CFS_AREA': '23-99999', 'MODE': 4, 'SHIPMT_WGHT': 44040, 'SCTG': '31', 'SHIPMT_DIST_GC': 50, 'DEST_STATE': 23, 'DEST_MA': 99999}, {'SHIPMT_DIST_ROUTED': 43, 'ORIG_CFS_AREA': '24-12580', 'EXPORT_YN': 'N', 'EXPORT_CNTRY': 'N', 'WGT_FACTOR': 290.5, 'ORIG_STATE': 24, 'ORIG_MA': 12580, 'HAZMAT': 'N', 'NAICS': 4237, 'SHIPMT_ID': 310007, 'SHIPMT_VALUE': 282, 'TEMP_CNTL_YN': 'N', 'QUARTER': 3, 'DEST_CFS_AREA': '24-47900', 'MODE': 14, 'SHIPMT_WGHT': 5, 'SCTG': '34', 'SHIPMT_DIST_GC': 33, 'DEST_STATE': 24, 'DEST_MA': 47900}, {'SHIPMT_DIST_ROUTED': 357, 'ORIG_CFS_AREA': '48-206', 'EXPORT_YN': 'N', 'EXPORT_CNTRY': 'N', 'WGT_FACTOR': 7590.7, 'ORIG_STATE': 48, 'ORIG_MA': 206, 'HAZMAT': 'N', 'NAICS': 4238, 'SHIPMT_ID': 310008, 'SHIPMT_VALUE': 1003, 'TEMP_CNTL_YN': 'N', 'QUARTER': 3, 'DEST_CFS_AREA': '48-99999', 'MODE': 14, 'SHIPMT_WGHT': 48, 'SCTG': '34', 'SHIPMT_DIST_GC': 331, 'DEST_STATE': 48, 'DEST_MA': 99999}  ... displaying 10 of 10000 total bound parameter sets ...  {'SHIPMT_DIST_ROUTED': 5, 'ORIG_CFS_AREA': '15-46520', 'EXPORT_YN': 'N', 'EXPORT_CNTRY': 'N', 'WGT_FACTOR': 25.9, 'ORIG_STATE': 15, 'ORIG_MA': 46520, 'HAZMAT': 'N', 'NAICS': 4242, 'SHIPMT_ID': 319999, 'SHIPMT_VALUE': 3285, 'TEMP_CNTL_YN': 'N', 'QUARTER': 3, 'DEST_CFS_AREA': '15-46520', 'MODE': 4, 'SHIPMT_WGHT': 123, 'SCTG': '21', 'SHIPMT_DIST_GC': 4, 'DEST_STATE': 15, 'DEST_MA': 46520}, {'SHIPMT_DIST_ROUTED': 17, 'ORIG_CFS_AREA': '18-99999', 'EXPORT_YN': 'N', 'EXPORT_CNTRY': 'N', 'WGT_FACTOR': 27.8, 'ORIG_STATE': 18, 'ORIG_MA': 99999, 'HAZMAT': 'N', 'NAICS': 339, 'SHIPMT_ID': 320000, 'SHIPMT_VALUE': 38995, 'TEMP_CNTL_YN': 'N', 'QUARTER': 2, 'DEST_CFS_AREA': '21-178', 'MODE': 5, 'SHIPMT_WGHT': 5577, 'SCTG': '40', 'SHIPMT_DIST_GC': 13, 'DEST_STATE': 21, 'DEST_MA': 178})\n"
     ]
    },
    {
     "name": "stdout",
     "output_type": "stream",
     "text": [
      "2015-11-22 18:30:13,520 INFO sqlalchemy.engine.base.Engine INSERT INTO transactions (\"SHIPMT_ID\", \"ORIG_STATE\", \"ORIG_MA\", \"ORIG_CFS_AREA\", \"DEST_STATE\", \"DEST_MA\", \"DEST_CFS_AREA\", \"NAICS\", \"QUARTER\", \"SCTG\", \"MODE\", \"SHIPMT_VALUE\", \"SHIPMT_WGHT\", \"SHIPMT_DIST_GC\", \"SHIPMT_DIST_ROUTED\", \"TEMP_CNTL_YN\", \"EXPORT_YN\", \"EXPORT_CNTRY\", \"HAZMAT\", \"WGT_FACTOR\") VALUES (%(SHIPMT_ID)s, %(ORIG_STATE)s, %(ORIG_MA)s, %(ORIG_CFS_AREA)s, %(DEST_STATE)s, %(DEST_MA)s, %(DEST_CFS_AREA)s, %(NAICS)s, %(QUARTER)s, %(SCTG)s, %(MODE)s, %(SHIPMT_VALUE)s, %(SHIPMT_WGHT)s, %(SHIPMT_DIST_GC)s, %(SHIPMT_DIST_ROUTED)s, %(TEMP_CNTL_YN)s, %(EXPORT_YN)s, %(EXPORT_CNTRY)s, %(HAZMAT)s, %(WGT_FACTOR)s)\n"
     ]
    },
    {
     "name": "stderr",
     "output_type": "stream",
     "text": [
      "INFO:sqlalchemy.engine.base.Engine:INSERT INTO transactions (\"SHIPMT_ID\", \"ORIG_STATE\", \"ORIG_MA\", \"ORIG_CFS_AREA\", \"DEST_STATE\", \"DEST_MA\", \"DEST_CFS_AREA\", \"NAICS\", \"QUARTER\", \"SCTG\", \"MODE\", \"SHIPMT_VALUE\", \"SHIPMT_WGHT\", \"SHIPMT_DIST_GC\", \"SHIPMT_DIST_ROUTED\", \"TEMP_CNTL_YN\", \"EXPORT_YN\", \"EXPORT_CNTRY\", \"HAZMAT\", \"WGT_FACTOR\") VALUES (%(SHIPMT_ID)s, %(ORIG_STATE)s, %(ORIG_MA)s, %(ORIG_CFS_AREA)s, %(DEST_STATE)s, %(DEST_MA)s, %(DEST_CFS_AREA)s, %(NAICS)s, %(QUARTER)s, %(SCTG)s, %(MODE)s, %(SHIPMT_VALUE)s, %(SHIPMT_WGHT)s, %(SHIPMT_DIST_GC)s, %(SHIPMT_DIST_ROUTED)s, %(TEMP_CNTL_YN)s, %(EXPORT_YN)s, %(EXPORT_CNTRY)s, %(HAZMAT)s, %(WGT_FACTOR)s)\n"
     ]
    },
    {
     "name": "stdout",
     "output_type": "stream",
     "text": [
      "2015-11-22 18:30:13,521 INFO sqlalchemy.engine.base.Engine ({'EXPORT_YN': 'N', 'ORIG_STATE': 37, 'SHIPMT_DIST_ROUTED': 755, 'EXPORT_CNTRY': 'N', 'WGT_FACTOR': 269.3, 'SHIPMT_ID': 320001, 'ORIG_MA': 172, 'HAZMAT': 'N', 'SHIPMT_WGHT': 24, 'SHIPMT_VALUE': 654, 'TEMP_CNTL_YN': 'N', 'QUARTER': 4, 'DEST_CFS_AREA': '09-408', 'SCTG': '34', 'ORIG_CFS_AREA': '37-172', 'MODE': 14, 'SHIPMT_DIST_GC': 615, 'NAICS': 333, 'DEST_STATE': 9, 'DEST_MA': 408}, {'EXPORT_YN': 'N', 'ORIG_STATE': 39, 'SHIPMT_DIST_ROUTED': 44, 'EXPORT_CNTRY': 'N', 'WGT_FACTOR': 1048.5, 'SHIPMT_ID': 320002, 'ORIG_MA': 184, 'HAZMAT': 'N', 'SHIPMT_WGHT': 18942, 'SHIPMT_VALUE': 822, 'TEMP_CNTL_YN': 'N', 'QUARTER': 2, 'DEST_CFS_AREA': '39-184', 'SCTG': '34', 'ORIG_CFS_AREA': '39-184', 'MODE': 4, 'SHIPMT_DIST_GC': 39, 'NAICS': 4238, 'DEST_STATE': 39, 'DEST_MA': 184}, {'EXPORT_YN': 'N', 'ORIG_STATE': 1, 'SHIPMT_DIST_ROUTED': 184, 'EXPORT_CNTRY': 'N', 'WGT_FACTOR': 121.2, 'SHIPMT_ID': 320003, 'ORIG_MA': 99999, 'HAZMAT': 'N', 'SHIPMT_WGHT': 3, 'SHIPMT_VALUE': 59, 'TEMP_CNTL_YN': 'N', 'QUARTER': 1, 'DEST_CFS_AREA': '12-99999', 'SCTG': '29', 'ORIG_CFS_AREA': '01-99999', 'MODE': 14, 'SHIPMT_DIST_GC': 155, 'NAICS': 323, 'DEST_STATE': 12, 'DEST_MA': 99999}, {'EXPORT_YN': 'N', 'ORIG_STATE': 17, 'SHIPMT_DIST_ROUTED': 7, 'EXPORT_CNTRY': 'N', 'WGT_FACTOR': 21507.8, 'SHIPMT_ID': 320004, 'ORIG_MA': 176, 'HAZMAT': 'N', 'SHIPMT_WGHT': 91, 'SHIPMT_VALUE': 102, 'TEMP_CNTL_YN': 'N', 'QUARTER': 1, 'DEST_CFS_AREA': '17-176', 'SCTG': '06', 'ORIG_CFS_AREA': '17-176', 'MODE': 5, 'SHIPMT_DIST_GC': 6, 'NAICS': 311, 'DEST_STATE': 17, 'DEST_MA': 176}, {'EXPORT_YN': 'N', 'ORIG_STATE': 25, 'SHIPMT_DIST_ROUTED': 687, 'EXPORT_CNTRY': 'N', 'WGT_FACTOR': 147.5, 'SHIPMT_ID': 320005, 'ORIG_MA': 99999, 'HAZMAT': 'N', 'SHIPMT_WGHT': 206, 'SHIPMT_VALUE': 474, 'TEMP_CNTL_YN': 'N', 'QUARTER': 1, 'DEST_CFS_AREA': '39-198', 'SCTG': '40', 'ORIG_CFS_AREA': '25-99999', 'MODE': 4, 'SHIPMT_DIST_GC': 558, 'NAICS': 333, 'DEST_STATE': 39, 'DEST_MA': 198}, {'EXPORT_YN': 'N', 'ORIG_STATE': 45, 'SHIPMT_DIST_ROUTED': 379, 'EXPORT_CNTRY': 'N', 'WGT_FACTOR': 2290.5, 'SHIPMT_ID': 320006, 'ORIG_MA': 273, 'HAZMAT': 'N', 'SHIPMT_WGHT': 1, 'SHIPMT_VALUE': 23, 'TEMP_CNTL_YN': 'N', 'QUARTER': 2, 'DEST_CFS_AREA': '12-300', 'SCTG': '21', 'ORIG_CFS_AREA': '45-273', 'MODE': 14, 'SHIPMT_DIST_GC': 299, 'NAICS': 4541, 'DEST_STATE': 12, 'DEST_MA': 300}, {'EXPORT_YN': 'N', 'ORIG_STATE': 36, 'SHIPMT_DIST_ROUTED': 19, 'EXPORT_CNTRY': 'N', 'WGT_FACTOR': 701.7, 'SHIPMT_ID': 320007, 'ORIG_MA': 104, 'HAZMAT': 'N', 'SHIPMT_WGHT': 50, 'SHIPMT_VALUE': 3659, 'TEMP_CNTL_YN': 'N', 'QUARTER': 2, 'DEST_CFS_AREA': '36-104', 'SCTG': '09', 'ORIG_CFS_AREA': '36-104', 'MODE': 5, 'SHIPMT_DIST_GC': 16, 'NAICS': 4249, 'DEST_STATE': 36, 'DEST_MA': 104}, {'EXPORT_YN': 'N', 'ORIG_STATE': 39, 'SHIPMT_DIST_ROUTED': 28, 'EXPORT_CNTRY': 'N', 'WGT_FACTOR': 458.3, 'SHIPMT_ID': 320008, 'ORIG_MA': 184, 'HAZMAT': 'N', 'SHIPMT_WGHT': 46, 'SHIPMT_VALUE': 2014, 'TEMP_CNTL_YN': 'N', 'QUARTER': 3, 'DEST_CFS_AREA': '39-184', 'SCTG': '24', 'ORIG_CFS_AREA': '39-184', 'MODE': 4, 'SHIPMT_DIST_GC': 18, 'NAICS': 339, 'DEST_STATE': 39, 'DEST_MA': 184}  ... displaying 10 of 10000 total bound parameter sets ...  {'EXPORT_YN': 'N', 'ORIG_STATE': 19, 'SHIPMT_DIST_ROUTED': 12, 'EXPORT_CNTRY': 'N', 'WGT_FACTOR': 4646.1, 'SHIPMT_ID': 329999, 'ORIG_MA': 99999, 'HAZMAT': 'N', 'SHIPMT_WGHT': 2, 'SHIPMT_VALUE': 1873, 'TEMP_CNTL_YN': 'N', 'QUARTER': 4, 'DEST_CFS_AREA': '19-99999', 'SCTG': '21', 'ORIG_CFS_AREA': '19-99999', 'MODE': 5, 'SHIPMT_DIST_GC': 11, 'NAICS': 4242, 'DEST_STATE': 19, 'DEST_MA': 99999}, {'EXPORT_YN': 'N', 'ORIG_STATE': 8, 'SHIPMT_DIST_ROUTED': 524, 'EXPORT_CNTRY': 'N', 'WGT_FACTOR': 58.8, 'SHIPMT_ID': 330000, 'ORIG_MA': 216, 'HAZMAT': 'N', 'SHIPMT_WGHT': 32523, 'SHIPMT_VALUE': 7113, 'TEMP_CNTL_YN': 'N', 'QUARTER': 4, 'DEST_CFS_AREA': '49-482', 'SCTG': '07', 'ORIG_CFS_AREA': '08-216', 'MODE': 4, 'SHIPMT_DIST_GC': 380, 'NAICS': 312, 'DEST_STATE': 49, 'DEST_MA': 482})\n"
     ]
    },
    {
     "name": "stderr",
     "output_type": "stream",
     "text": [
      "INFO:sqlalchemy.engine.base.Engine:({'EXPORT_YN': 'N', 'ORIG_STATE': 37, 'SHIPMT_DIST_ROUTED': 755, 'EXPORT_CNTRY': 'N', 'WGT_FACTOR': 269.3, 'SHIPMT_ID': 320001, 'ORIG_MA': 172, 'HAZMAT': 'N', 'SHIPMT_WGHT': 24, 'SHIPMT_VALUE': 654, 'TEMP_CNTL_YN': 'N', 'QUARTER': 4, 'DEST_CFS_AREA': '09-408', 'SCTG': '34', 'ORIG_CFS_AREA': '37-172', 'MODE': 14, 'SHIPMT_DIST_GC': 615, 'NAICS': 333, 'DEST_STATE': 9, 'DEST_MA': 408}, {'EXPORT_YN': 'N', 'ORIG_STATE': 39, 'SHIPMT_DIST_ROUTED': 44, 'EXPORT_CNTRY': 'N', 'WGT_FACTOR': 1048.5, 'SHIPMT_ID': 320002, 'ORIG_MA': 184, 'HAZMAT': 'N', 'SHIPMT_WGHT': 18942, 'SHIPMT_VALUE': 822, 'TEMP_CNTL_YN': 'N', 'QUARTER': 2, 'DEST_CFS_AREA': '39-184', 'SCTG': '34', 'ORIG_CFS_AREA': '39-184', 'MODE': 4, 'SHIPMT_DIST_GC': 39, 'NAICS': 4238, 'DEST_STATE': 39, 'DEST_MA': 184}, {'EXPORT_YN': 'N', 'ORIG_STATE': 1, 'SHIPMT_DIST_ROUTED': 184, 'EXPORT_CNTRY': 'N', 'WGT_FACTOR': 121.2, 'SHIPMT_ID': 320003, 'ORIG_MA': 99999, 'HAZMAT': 'N', 'SHIPMT_WGHT': 3, 'SHIPMT_VALUE': 59, 'TEMP_CNTL_YN': 'N', 'QUARTER': 1, 'DEST_CFS_AREA': '12-99999', 'SCTG': '29', 'ORIG_CFS_AREA': '01-99999', 'MODE': 14, 'SHIPMT_DIST_GC': 155, 'NAICS': 323, 'DEST_STATE': 12, 'DEST_MA': 99999}, {'EXPORT_YN': 'N', 'ORIG_STATE': 17, 'SHIPMT_DIST_ROUTED': 7, 'EXPORT_CNTRY': 'N', 'WGT_FACTOR': 21507.8, 'SHIPMT_ID': 320004, 'ORIG_MA': 176, 'HAZMAT': 'N', 'SHIPMT_WGHT': 91, 'SHIPMT_VALUE': 102, 'TEMP_CNTL_YN': 'N', 'QUARTER': 1, 'DEST_CFS_AREA': '17-176', 'SCTG': '06', 'ORIG_CFS_AREA': '17-176', 'MODE': 5, 'SHIPMT_DIST_GC': 6, 'NAICS': 311, 'DEST_STATE': 17, 'DEST_MA': 176}, {'EXPORT_YN': 'N', 'ORIG_STATE': 25, 'SHIPMT_DIST_ROUTED': 687, 'EXPORT_CNTRY': 'N', 'WGT_FACTOR': 147.5, 'SHIPMT_ID': 320005, 'ORIG_MA': 99999, 'HAZMAT': 'N', 'SHIPMT_WGHT': 206, 'SHIPMT_VALUE': 474, 'TEMP_CNTL_YN': 'N', 'QUARTER': 1, 'DEST_CFS_AREA': '39-198', 'SCTG': '40', 'ORIG_CFS_AREA': '25-99999', 'MODE': 4, 'SHIPMT_DIST_GC': 558, 'NAICS': 333, 'DEST_STATE': 39, 'DEST_MA': 198}, {'EXPORT_YN': 'N', 'ORIG_STATE': 45, 'SHIPMT_DIST_ROUTED': 379, 'EXPORT_CNTRY': 'N', 'WGT_FACTOR': 2290.5, 'SHIPMT_ID': 320006, 'ORIG_MA': 273, 'HAZMAT': 'N', 'SHIPMT_WGHT': 1, 'SHIPMT_VALUE': 23, 'TEMP_CNTL_YN': 'N', 'QUARTER': 2, 'DEST_CFS_AREA': '12-300', 'SCTG': '21', 'ORIG_CFS_AREA': '45-273', 'MODE': 14, 'SHIPMT_DIST_GC': 299, 'NAICS': 4541, 'DEST_STATE': 12, 'DEST_MA': 300}, {'EXPORT_YN': 'N', 'ORIG_STATE': 36, 'SHIPMT_DIST_ROUTED': 19, 'EXPORT_CNTRY': 'N', 'WGT_FACTOR': 701.7, 'SHIPMT_ID': 320007, 'ORIG_MA': 104, 'HAZMAT': 'N', 'SHIPMT_WGHT': 50, 'SHIPMT_VALUE': 3659, 'TEMP_CNTL_YN': 'N', 'QUARTER': 2, 'DEST_CFS_AREA': '36-104', 'SCTG': '09', 'ORIG_CFS_AREA': '36-104', 'MODE': 5, 'SHIPMT_DIST_GC': 16, 'NAICS': 4249, 'DEST_STATE': 36, 'DEST_MA': 104}, {'EXPORT_YN': 'N', 'ORIG_STATE': 39, 'SHIPMT_DIST_ROUTED': 28, 'EXPORT_CNTRY': 'N', 'WGT_FACTOR': 458.3, 'SHIPMT_ID': 320008, 'ORIG_MA': 184, 'HAZMAT': 'N', 'SHIPMT_WGHT': 46, 'SHIPMT_VALUE': 2014, 'TEMP_CNTL_YN': 'N', 'QUARTER': 3, 'DEST_CFS_AREA': '39-184', 'SCTG': '24', 'ORIG_CFS_AREA': '39-184', 'MODE': 4, 'SHIPMT_DIST_GC': 18, 'NAICS': 339, 'DEST_STATE': 39, 'DEST_MA': 184}  ... displaying 10 of 10000 total bound parameter sets ...  {'EXPORT_YN': 'N', 'ORIG_STATE': 19, 'SHIPMT_DIST_ROUTED': 12, 'EXPORT_CNTRY': 'N', 'WGT_FACTOR': 4646.1, 'SHIPMT_ID': 329999, 'ORIG_MA': 99999, 'HAZMAT': 'N', 'SHIPMT_WGHT': 2, 'SHIPMT_VALUE': 1873, 'TEMP_CNTL_YN': 'N', 'QUARTER': 4, 'DEST_CFS_AREA': '19-99999', 'SCTG': '21', 'ORIG_CFS_AREA': '19-99999', 'MODE': 5, 'SHIPMT_DIST_GC': 11, 'NAICS': 4242, 'DEST_STATE': 19, 'DEST_MA': 99999}, {'EXPORT_YN': 'N', 'ORIG_STATE': 8, 'SHIPMT_DIST_ROUTED': 524, 'EXPORT_CNTRY': 'N', 'WGT_FACTOR': 58.8, 'SHIPMT_ID': 330000, 'ORIG_MA': 216, 'HAZMAT': 'N', 'SHIPMT_WGHT': 32523, 'SHIPMT_VALUE': 7113, 'TEMP_CNTL_YN': 'N', 'QUARTER': 4, 'DEST_CFS_AREA': '49-482', 'SCTG': '07', 'ORIG_CFS_AREA': '08-216', 'MODE': 4, 'SHIPMT_DIST_GC': 380, 'NAICS': 312, 'DEST_STATE': 49, 'DEST_MA': 482})\n"
     ]
    },
    {
     "name": "stdout",
     "output_type": "stream",
     "text": [
      "2015-11-22 18:34:18,736 INFO sqlalchemy.engine.base.Engine INSERT INTO transactions (\"SHIPMT_ID\", \"ORIG_STATE\", \"ORIG_MA\", \"ORIG_CFS_AREA\", \"DEST_STATE\", \"DEST_MA\", \"DEST_CFS_AREA\", \"NAICS\", \"QUARTER\", \"SCTG\", \"MODE\", \"SHIPMT_VALUE\", \"SHIPMT_WGHT\", \"SHIPMT_DIST_GC\", \"SHIPMT_DIST_ROUTED\", \"TEMP_CNTL_YN\", \"EXPORT_YN\", \"EXPORT_CNTRY\", \"HAZMAT\", \"WGT_FACTOR\") VALUES (%(SHIPMT_ID)s, %(ORIG_STATE)s, %(ORIG_MA)s, %(ORIG_CFS_AREA)s, %(DEST_STATE)s, %(DEST_MA)s, %(DEST_CFS_AREA)s, %(NAICS)s, %(QUARTER)s, %(SCTG)s, %(MODE)s, %(SHIPMT_VALUE)s, %(SHIPMT_WGHT)s, %(SHIPMT_DIST_GC)s, %(SHIPMT_DIST_ROUTED)s, %(TEMP_CNTL_YN)s, %(EXPORT_YN)s, %(EXPORT_CNTRY)s, %(HAZMAT)s, %(WGT_FACTOR)s)\n"
     ]
    },
    {
     "name": "stderr",
     "output_type": "stream",
     "text": [
      "INFO:sqlalchemy.engine.base.Engine:INSERT INTO transactions (\"SHIPMT_ID\", \"ORIG_STATE\", \"ORIG_MA\", \"ORIG_CFS_AREA\", \"DEST_STATE\", \"DEST_MA\", \"DEST_CFS_AREA\", \"NAICS\", \"QUARTER\", \"SCTG\", \"MODE\", \"SHIPMT_VALUE\", \"SHIPMT_WGHT\", \"SHIPMT_DIST_GC\", \"SHIPMT_DIST_ROUTED\", \"TEMP_CNTL_YN\", \"EXPORT_YN\", \"EXPORT_CNTRY\", \"HAZMAT\", \"WGT_FACTOR\") VALUES (%(SHIPMT_ID)s, %(ORIG_STATE)s, %(ORIG_MA)s, %(ORIG_CFS_AREA)s, %(DEST_STATE)s, %(DEST_MA)s, %(DEST_CFS_AREA)s, %(NAICS)s, %(QUARTER)s, %(SCTG)s, %(MODE)s, %(SHIPMT_VALUE)s, %(SHIPMT_WGHT)s, %(SHIPMT_DIST_GC)s, %(SHIPMT_DIST_ROUTED)s, %(TEMP_CNTL_YN)s, %(EXPORT_YN)s, %(EXPORT_CNTRY)s, %(HAZMAT)s, %(WGT_FACTOR)s)\n"
     ]
    },
    {
     "name": "stdout",
     "output_type": "stream",
     "text": [
      "2015-11-22 18:34:18,737 INFO sqlalchemy.engine.base.Engine ({'EXPORT_YN': 'Y', 'ORIG_CFS_AREA': '29-476', 'SHIPMT_DIST_ROUTED': 1114, 'EXPORT_CNTRY': 'C', 'ORIG_STATE': 29, 'DEST_CFS_AREA': '36-99999', 'HAZMAT': 'N', 'ORIG_MA': 476, 'SHIPMT_ID': 330001, 'SHIPMT_VALUE': 1158, 'TEMP_CNTL_YN': 'N', 'WGT_FACTOR': 126.6, 'DEST_STATE': 36, 'QUARTER': 1, 'SHIPMT_WGHT': 30, 'SCTG': '36', 'NAICS': 326, 'SHIPMT_DIST_GC': 943, 'MODE': 4, 'DEST_MA': 99999}, {'EXPORT_YN': 'N', 'ORIG_CFS_AREA': '18-258', 'SHIPMT_DIST_ROUTED': 40, 'EXPORT_CNTRY': 'N', 'ORIG_STATE': 18, 'DEST_CFS_AREA': '18-99999', 'HAZMAT': 'N', 'ORIG_MA': 258, 'SHIPMT_ID': 330002, 'SHIPMT_VALUE': 557, 'TEMP_CNTL_YN': 'N', 'WGT_FACTOR': 1570.7, 'DEST_STATE': 18, 'QUARTER': 3, 'SHIPMT_WGHT': 54, 'SCTG': '40', 'NAICS': 4238, 'SHIPMT_DIST_GC': 36, 'MODE': 14, 'DEST_MA': 99999}, {'EXPORT_YN': 'N', 'ORIG_CFS_AREA': '54-99999', 'SHIPMT_DIST_ROUTED': 144, 'EXPORT_CNTRY': 'N', 'ORIG_STATE': 54, 'DEST_CFS_AREA': '21-99999', 'HAZMAT': 'N', 'ORIG_MA': 99999, 'SHIPMT_ID': 330003, 'SHIPMT_VALUE': 1404, 'TEMP_CNTL_YN': 'N', 'WGT_FACTOR': 336.9, 'DEST_STATE': 21, 'QUARTER': 4, 'SHIPMT_WGHT': 266, 'SCTG': '38', 'NAICS': 4234, 'SHIPMT_DIST_GC': 103, 'MODE': 5, 'DEST_MA': 99999}, {'EXPORT_YN': 'N', 'ORIG_CFS_AREA': '25-99999', 'SHIPMT_DIST_ROUTED': 67, 'EXPORT_CNTRY': 'N', 'ORIG_STATE': 25, 'DEST_CFS_AREA': '09-408', 'HAZMAT': 'N', 'ORIG_MA': 99999, 'SHIPMT_ID': 330004, 'SHIPMT_VALUE': 3122, 'TEMP_CNTL_YN': 'N', 'WGT_FACTOR': 14.0, 'DEST_STATE': 9, 'QUARTER': 4, 'SHIPMT_WGHT': 31792, 'SCTG': '41', 'NAICS': 4239, 'SHIPMT_DIST_GC': 58, 'MODE': 4, 'DEST_MA': 408}, {'EXPORT_YN': 'N', 'ORIG_CFS_AREA': '53-500', 'SHIPMT_DIST_ROUTED': 2014, 'EXPORT_CNTRY': 'N', 'ORIG_STATE': 53, 'DEST_CFS_AREA': '19-99999', 'HAZMAT': 'N', 'ORIG_MA': 500, 'SHIPMT_ID': 330005, 'SHIPMT_VALUE': 291, 'TEMP_CNTL_YN': 'N', 'WGT_FACTOR': 19.1, 'DEST_STATE': 19, 'QUARTER': 3, 'SHIPMT_WGHT': 12, 'SCTG': '30', 'NAICS': 315, 'SHIPMT_DIST_GC': 1610, 'MODE': 14, 'DEST_MA': 99999}, {'EXPORT_YN': 'N', 'ORIG_CFS_AREA': '12-99999', 'SHIPMT_DIST_ROUTED': 1265, 'EXPORT_CNTRY': 'N', 'ORIG_STATE': 12, 'DEST_CFS_AREA': '17-176', 'HAZMAT': 'N', 'ORIG_MA': 99999, 'SHIPMT_ID': 330006, 'SHIPMT_VALUE': 47, 'TEMP_CNTL_YN': 'N', 'WGT_FACTOR': 912.1, 'DEST_STATE': 17, 'QUARTER': 3, 'SHIPMT_WGHT': 8, 'SCTG': '40', 'NAICS': 331, 'SHIPMT_DIST_GC': 1060, 'MODE': 14, 'DEST_MA': 176}, {'EXPORT_YN': 'N', 'ORIG_CFS_AREA': '39-198', 'SHIPMT_DIST_ROUTED': 15, 'EXPORT_CNTRY': 'N', 'ORIG_STATE': 39, 'DEST_CFS_AREA': '39-198', 'HAZMAT': 'N', 'ORIG_MA': 198, 'SHIPMT_ID': 330007, 'SHIPMT_VALUE': 708, 'TEMP_CNTL_YN': 'N', 'WGT_FACTOR': 2344.5, 'DEST_STATE': 39, 'QUARTER': 3, 'SHIPMT_WGHT': 668, 'SCTG': '40', 'NAICS': 4238, 'SHIPMT_DIST_GC': 13, 'MODE': 5, 'DEST_MA': 198}, {'EXPORT_YN': 'N', 'ORIG_CFS_AREA': '39-184', 'SHIPMT_DIST_ROUTED': 357, 'EXPORT_CNTRY': 'N', 'ORIG_STATE': 39, 'DEST_CFS_AREA': '17-176', 'HAZMAT': 'N', 'ORIG_MA': 184, 'SHIPMT_ID': 330008, 'SHIPMT_VALUE': 1630, 'TEMP_CNTL_YN': 'N', 'WGT_FACTOR': 385.2, 'DEST_STATE': 17, 'QUARTER': 4, 'SHIPMT_WGHT': 47152, 'SCTG': '27', 'NAICS': 322, 'SHIPMT_DIST_GC': 322, 'MODE': 5, 'DEST_MA': 176}  ... displaying 10 of 10000 total bound parameter sets ...  {'EXPORT_YN': 'N', 'ORIG_CFS_AREA': '42-428', 'SHIPMT_DIST_ROUTED': 386, 'EXPORT_CNTRY': 'N', 'ORIG_STATE': 42, 'DEST_CFS_AREA': '39-184', 'HAZMAT': 'N', 'ORIG_MA': 428, 'SHIPMT_ID': 339999, 'SHIPMT_VALUE': 2889, 'TEMP_CNTL_YN': 'N', 'WGT_FACTOR': 451.3, 'DEST_STATE': 39, 'QUARTER': 1, 'SHIPMT_WGHT': 9205, 'SCTG': '27', 'NAICS': 322, 'SHIPMT_DIST_GC': 325, 'MODE': 4, 'DEST_MA': 184}, {'EXPORT_YN': 'N', 'ORIG_CFS_AREA': '37-172', 'SHIPMT_DIST_ROUTED': 150, 'EXPORT_CNTRY': 'N', 'ORIG_STATE': 37, 'DEST_CFS_AREA': '37-450', 'HAZMAT': 'N', 'ORIG_MA': 172, 'SHIPMT_ID': 340000, 'SHIPMT_VALUE': 4, 'TEMP_CNTL_YN': 'N', 'WGT_FACTOR': 2123.6, 'DEST_STATE': 37, 'QUARTER': 3, 'SHIPMT_WGHT': 1, 'SCTG': '27', 'NAICS': 4241, 'SHIPMT_DIST_GC': 125, 'MODE': 5, 'DEST_MA': 450})\n"
     ]
    },
    {
     "name": "stderr",
     "output_type": "stream",
     "text": [
      "INFO:sqlalchemy.engine.base.Engine:({'EXPORT_YN': 'Y', 'ORIG_CFS_AREA': '29-476', 'SHIPMT_DIST_ROUTED': 1114, 'EXPORT_CNTRY': 'C', 'ORIG_STATE': 29, 'DEST_CFS_AREA': '36-99999', 'HAZMAT': 'N', 'ORIG_MA': 476, 'SHIPMT_ID': 330001, 'SHIPMT_VALUE': 1158, 'TEMP_CNTL_YN': 'N', 'WGT_FACTOR': 126.6, 'DEST_STATE': 36, 'QUARTER': 1, 'SHIPMT_WGHT': 30, 'SCTG': '36', 'NAICS': 326, 'SHIPMT_DIST_GC': 943, 'MODE': 4, 'DEST_MA': 99999}, {'EXPORT_YN': 'N', 'ORIG_CFS_AREA': '18-258', 'SHIPMT_DIST_ROUTED': 40, 'EXPORT_CNTRY': 'N', 'ORIG_STATE': 18, 'DEST_CFS_AREA': '18-99999', 'HAZMAT': 'N', 'ORIG_MA': 258, 'SHIPMT_ID': 330002, 'SHIPMT_VALUE': 557, 'TEMP_CNTL_YN': 'N', 'WGT_FACTOR': 1570.7, 'DEST_STATE': 18, 'QUARTER': 3, 'SHIPMT_WGHT': 54, 'SCTG': '40', 'NAICS': 4238, 'SHIPMT_DIST_GC': 36, 'MODE': 14, 'DEST_MA': 99999}, {'EXPORT_YN': 'N', 'ORIG_CFS_AREA': '54-99999', 'SHIPMT_DIST_ROUTED': 144, 'EXPORT_CNTRY': 'N', 'ORIG_STATE': 54, 'DEST_CFS_AREA': '21-99999', 'HAZMAT': 'N', 'ORIG_MA': 99999, 'SHIPMT_ID': 330003, 'SHIPMT_VALUE': 1404, 'TEMP_CNTL_YN': 'N', 'WGT_FACTOR': 336.9, 'DEST_STATE': 21, 'QUARTER': 4, 'SHIPMT_WGHT': 266, 'SCTG': '38', 'NAICS': 4234, 'SHIPMT_DIST_GC': 103, 'MODE': 5, 'DEST_MA': 99999}, {'EXPORT_YN': 'N', 'ORIG_CFS_AREA': '25-99999', 'SHIPMT_DIST_ROUTED': 67, 'EXPORT_CNTRY': 'N', 'ORIG_STATE': 25, 'DEST_CFS_AREA': '09-408', 'HAZMAT': 'N', 'ORIG_MA': 99999, 'SHIPMT_ID': 330004, 'SHIPMT_VALUE': 3122, 'TEMP_CNTL_YN': 'N', 'WGT_FACTOR': 14.0, 'DEST_STATE': 9, 'QUARTER': 4, 'SHIPMT_WGHT': 31792, 'SCTG': '41', 'NAICS': 4239, 'SHIPMT_DIST_GC': 58, 'MODE': 4, 'DEST_MA': 408}, {'EXPORT_YN': 'N', 'ORIG_CFS_AREA': '53-500', 'SHIPMT_DIST_ROUTED': 2014, 'EXPORT_CNTRY': 'N', 'ORIG_STATE': 53, 'DEST_CFS_AREA': '19-99999', 'HAZMAT': 'N', 'ORIG_MA': 500, 'SHIPMT_ID': 330005, 'SHIPMT_VALUE': 291, 'TEMP_CNTL_YN': 'N', 'WGT_FACTOR': 19.1, 'DEST_STATE': 19, 'QUARTER': 3, 'SHIPMT_WGHT': 12, 'SCTG': '30', 'NAICS': 315, 'SHIPMT_DIST_GC': 1610, 'MODE': 14, 'DEST_MA': 99999}, {'EXPORT_YN': 'N', 'ORIG_CFS_AREA': '12-99999', 'SHIPMT_DIST_ROUTED': 1265, 'EXPORT_CNTRY': 'N', 'ORIG_STATE': 12, 'DEST_CFS_AREA': '17-176', 'HAZMAT': 'N', 'ORIG_MA': 99999, 'SHIPMT_ID': 330006, 'SHIPMT_VALUE': 47, 'TEMP_CNTL_YN': 'N', 'WGT_FACTOR': 912.1, 'DEST_STATE': 17, 'QUARTER': 3, 'SHIPMT_WGHT': 8, 'SCTG': '40', 'NAICS': 331, 'SHIPMT_DIST_GC': 1060, 'MODE': 14, 'DEST_MA': 176}, {'EXPORT_YN': 'N', 'ORIG_CFS_AREA': '39-198', 'SHIPMT_DIST_ROUTED': 15, 'EXPORT_CNTRY': 'N', 'ORIG_STATE': 39, 'DEST_CFS_AREA': '39-198', 'HAZMAT': 'N', 'ORIG_MA': 198, 'SHIPMT_ID': 330007, 'SHIPMT_VALUE': 708, 'TEMP_CNTL_YN': 'N', 'WGT_FACTOR': 2344.5, 'DEST_STATE': 39, 'QUARTER': 3, 'SHIPMT_WGHT': 668, 'SCTG': '40', 'NAICS': 4238, 'SHIPMT_DIST_GC': 13, 'MODE': 5, 'DEST_MA': 198}, {'EXPORT_YN': 'N', 'ORIG_CFS_AREA': '39-184', 'SHIPMT_DIST_ROUTED': 357, 'EXPORT_CNTRY': 'N', 'ORIG_STATE': 39, 'DEST_CFS_AREA': '17-176', 'HAZMAT': 'N', 'ORIG_MA': 184, 'SHIPMT_ID': 330008, 'SHIPMT_VALUE': 1630, 'TEMP_CNTL_YN': 'N', 'WGT_FACTOR': 385.2, 'DEST_STATE': 17, 'QUARTER': 4, 'SHIPMT_WGHT': 47152, 'SCTG': '27', 'NAICS': 322, 'SHIPMT_DIST_GC': 322, 'MODE': 5, 'DEST_MA': 176}  ... displaying 10 of 10000 total bound parameter sets ...  {'EXPORT_YN': 'N', 'ORIG_CFS_AREA': '42-428', 'SHIPMT_DIST_ROUTED': 386, 'EXPORT_CNTRY': 'N', 'ORIG_STATE': 42, 'DEST_CFS_AREA': '39-184', 'HAZMAT': 'N', 'ORIG_MA': 428, 'SHIPMT_ID': 339999, 'SHIPMT_VALUE': 2889, 'TEMP_CNTL_YN': 'N', 'WGT_FACTOR': 451.3, 'DEST_STATE': 39, 'QUARTER': 1, 'SHIPMT_WGHT': 9205, 'SCTG': '27', 'NAICS': 322, 'SHIPMT_DIST_GC': 325, 'MODE': 4, 'DEST_MA': 184}, {'EXPORT_YN': 'N', 'ORIG_CFS_AREA': '37-172', 'SHIPMT_DIST_ROUTED': 150, 'EXPORT_CNTRY': 'N', 'ORIG_STATE': 37, 'DEST_CFS_AREA': '37-450', 'HAZMAT': 'N', 'ORIG_MA': 172, 'SHIPMT_ID': 340000, 'SHIPMT_VALUE': 4, 'TEMP_CNTL_YN': 'N', 'WGT_FACTOR': 2123.6, 'DEST_STATE': 37, 'QUARTER': 3, 'SHIPMT_WGHT': 1, 'SCTG': '27', 'NAICS': 4241, 'SHIPMT_DIST_GC': 125, 'MODE': 5, 'DEST_MA': 450})\n"
     ]
    },
    {
     "name": "stdout",
     "output_type": "stream",
     "text": [
      "2015-11-22 18:38:24,846 INFO sqlalchemy.engine.base.Engine INSERT INTO transactions (\"SHIPMT_ID\", \"ORIG_STATE\", \"ORIG_MA\", \"ORIG_CFS_AREA\", \"DEST_STATE\", \"DEST_MA\", \"DEST_CFS_AREA\", \"NAICS\", \"QUARTER\", \"SCTG\", \"MODE\", \"SHIPMT_VALUE\", \"SHIPMT_WGHT\", \"SHIPMT_DIST_GC\", \"SHIPMT_DIST_ROUTED\", \"TEMP_CNTL_YN\", \"EXPORT_YN\", \"EXPORT_CNTRY\", \"HAZMAT\", \"WGT_FACTOR\") VALUES (%(SHIPMT_ID)s, %(ORIG_STATE)s, %(ORIG_MA)s, %(ORIG_CFS_AREA)s, %(DEST_STATE)s, %(DEST_MA)s, %(DEST_CFS_AREA)s, %(NAICS)s, %(QUARTER)s, %(SCTG)s, %(MODE)s, %(SHIPMT_VALUE)s, %(SHIPMT_WGHT)s, %(SHIPMT_DIST_GC)s, %(SHIPMT_DIST_ROUTED)s, %(TEMP_CNTL_YN)s, %(EXPORT_YN)s, %(EXPORT_CNTRY)s, %(HAZMAT)s, %(WGT_FACTOR)s)\n"
     ]
    },
    {
     "name": "stderr",
     "output_type": "stream",
     "text": [
      "INFO:sqlalchemy.engine.base.Engine:INSERT INTO transactions (\"SHIPMT_ID\", \"ORIG_STATE\", \"ORIG_MA\", \"ORIG_CFS_AREA\", \"DEST_STATE\", \"DEST_MA\", \"DEST_CFS_AREA\", \"NAICS\", \"QUARTER\", \"SCTG\", \"MODE\", \"SHIPMT_VALUE\", \"SHIPMT_WGHT\", \"SHIPMT_DIST_GC\", \"SHIPMT_DIST_ROUTED\", \"TEMP_CNTL_YN\", \"EXPORT_YN\", \"EXPORT_CNTRY\", \"HAZMAT\", \"WGT_FACTOR\") VALUES (%(SHIPMT_ID)s, %(ORIG_STATE)s, %(ORIG_MA)s, %(ORIG_CFS_AREA)s, %(DEST_STATE)s, %(DEST_MA)s, %(DEST_CFS_AREA)s, %(NAICS)s, %(QUARTER)s, %(SCTG)s, %(MODE)s, %(SHIPMT_VALUE)s, %(SHIPMT_WGHT)s, %(SHIPMT_DIST_GC)s, %(SHIPMT_DIST_ROUTED)s, %(TEMP_CNTL_YN)s, %(EXPORT_YN)s, %(EXPORT_CNTRY)s, %(HAZMAT)s, %(WGT_FACTOR)s)\n"
     ]
    },
    {
     "name": "stdout",
     "output_type": "stream",
     "text": [
      "2015-11-22 18:38:24,847 INFO sqlalchemy.engine.base.Engine ({'EXPORT_YN': 'N', 'ORIG_STATE': 45, 'SHIPMT_DIST_ROUTED': 89, 'EXPORT_CNTRY': 'N', 'WGT_FACTOR': 33913.1, 'SHIPMT_ID': 340001, 'SHIPMT_VALUE': 674, 'HAZMAT': 'N', 'ORIG_MA': 273, 'SHIPMT_WGHT': 1, 'DEST_CFS_AREA': '37-99999', 'TEMP_CNTL_YN': 'N', 'QUARTER': 1, 'SCTG': '38', 'ORIG_CFS_AREA': '45-273', 'MODE': 14, 'SHIPMT_DIST_GC': 71, 'NAICS': 4234, 'DEST_STATE': 37, 'DEST_MA': 99999}, {'EXPORT_YN': 'N', 'ORIG_STATE': 53, 'SHIPMT_DIST_ROUTED': 1, 'EXPORT_CNTRY': 'N', 'WGT_FACTOR': 4038.1, 'SHIPMT_ID': 340002, 'SHIPMT_VALUE': 102, 'HAZMAT': 'N', 'ORIG_MA': 500, 'SHIPMT_WGHT': 9, 'DEST_CFS_AREA': '53-500', 'TEMP_CNTL_YN': 'N', 'QUARTER': 3, 'SCTG': '33', 'ORIG_CFS_AREA': '53-500', 'MODE': 5, 'SHIPMT_DIST_GC': 1, 'NAICS': 4233, 'DEST_STATE': 53, 'DEST_MA': 500}, {'EXPORT_YN': 'N', 'ORIG_STATE': 31, 'SHIPMT_DIST_ROUTED': 23, 'EXPORT_CNTRY': 'N', 'WGT_FACTOR': 199.6, 'SHIPMT_ID': 340003, 'SHIPMT_VALUE': 304, 'HAZMAT': 'N', 'ORIG_MA': 99999, 'SHIPMT_WGHT': 26072, 'DEST_CFS_AREA': '31-99999', 'TEMP_CNTL_YN': 'N', 'QUARTER': 3, 'SCTG': '12', 'ORIG_CFS_AREA': '31-99999', 'MODE': 5, 'SHIPMT_DIST_GC': 23, 'NAICS': 327, 'DEST_STATE': 31, 'DEST_MA': 99999}, {'EXPORT_YN': 'N', 'ORIG_STATE': 54, 'SHIPMT_DIST_ROUTED': 395, 'EXPORT_CNTRY': 'N', 'WGT_FACTOR': 8.8, 'SHIPMT_ID': 340004, 'SHIPMT_VALUE': 1695, 'HAZMAT': 'N', 'ORIG_MA': 99999, 'SHIPMT_WGHT': 1217, 'DEST_CFS_AREA': '36-160', 'TEMP_CNTL_YN': 'N', 'QUARTER': 1, 'SCTG': '29', 'ORIG_CFS_AREA': '54-99999', 'MODE': 4, 'SHIPMT_DIST_GC': 245, 'NAICS': 323, 'DEST_STATE': 36, 'DEST_MA': 160}, {'EXPORT_YN': 'N', 'ORIG_STATE': 48, 'SHIPMT_DIST_ROUTED': 648, 'EXPORT_CNTRY': 'N', 'WGT_FACTOR': 1386.0, 'SHIPMT_ID': 340005, 'SHIPMT_VALUE': 531, 'HAZMAT': 'N', 'ORIG_MA': 288, 'SHIPMT_WGHT': 119, 'DEST_CFS_AREA': '20-99999', 'TEMP_CNTL_YN': 'N', 'QUARTER': 2, 'SCTG': '07', 'ORIG_CFS_AREA': '48-288', 'MODE': 14, 'SHIPMT_DIST_GC': 601, 'NAICS': 311, 'DEST_STATE': 20, 'DEST_MA': 99999}, {'EXPORT_YN': 'N', 'ORIG_STATE': 17, 'SHIPMT_DIST_ROUTED': 12, 'EXPORT_CNTRY': 'N', 'WGT_FACTOR': 156.1, 'SHIPMT_ID': 340006, 'SHIPMT_VALUE': 256, 'HAZMAT': 'N', 'ORIG_MA': 99999, 'SHIPMT_WGHT': 3, 'DEST_CFS_AREA': '17-99999', 'TEMP_CNTL_YN': 'N', 'QUARTER': 3, 'SCTG': '30', 'ORIG_CFS_AREA': '17-99999', 'MODE': 4, 'SHIPMT_DIST_GC': 12, 'NAICS': 314, 'DEST_STATE': 17, 'DEST_MA': 99999}, {'EXPORT_YN': 'N', 'ORIG_STATE': 33, 'SHIPMT_DIST_ROUTED': 29, 'EXPORT_CNTRY': 'N', 'WGT_FACTOR': 2417.6, 'SHIPMT_ID': 340007, 'SHIPMT_VALUE': 225, 'HAZMAT': 'N', 'ORIG_MA': 148, 'SHIPMT_WGHT': 9, 'DEST_CFS_AREA': '33-148', 'TEMP_CNTL_YN': 'N', 'QUARTER': 3, 'SCTG': '24', 'ORIG_CFS_AREA': '33-148', 'MODE': 5, 'SHIPMT_DIST_GC': 20, 'NAICS': 326, 'DEST_STATE': 33, 'DEST_MA': 148}, {'EXPORT_YN': 'N', 'ORIG_STATE': 37, 'SHIPMT_DIST_ROUTED': 515, 'EXPORT_CNTRY': 'N', 'WGT_FACTOR': 34.5, 'SHIPMT_ID': 340008, 'SHIPMT_VALUE': 21267, 'HAZMAT': 'N', 'ORIG_MA': 450, 'SHIPMT_WGHT': 8397, 'DEST_CFS_AREA': '39-198', 'TEMP_CNTL_YN': 'N', 'QUARTER': 2, 'SCTG': '29', 'ORIG_CFS_AREA': '37-450', 'MODE': 4, 'SHIPMT_DIST_GC': 376, 'NAICS': 323, 'DEST_STATE': 39, 'DEST_MA': 198}  ... displaying 10 of 10000 total bound parameter sets ...  {'EXPORT_YN': 'N', 'ORIG_STATE': 25, 'SHIPMT_DIST_ROUTED': 4, 'EXPORT_CNTRY': 'N', 'WGT_FACTOR': 394.9, 'SHIPMT_ID': 349999, 'SHIPMT_VALUE': 10236, 'HAZMAT': 'N', 'ORIG_MA': 99999, 'SHIPMT_WGHT': 326, 'DEST_CFS_AREA': '25-99999', 'TEMP_CNTL_YN': 'N', 'QUARTER': 2, 'SCTG': '40', 'ORIG_CFS_AREA': '25-99999', 'MODE': 5, 'SHIPMT_DIST_GC': 2, 'NAICS': 336, 'DEST_STATE': 25, 'DEST_MA': 99999}, {'EXPORT_YN': 'N', 'ORIG_STATE': 12, 'SHIPMT_DIST_ROUTED': 238, 'EXPORT_CNTRY': 'N', 'WGT_FACTOR': 11.3, 'SHIPMT_ID': 350000, 'SHIPMT_VALUE': 34467, 'HAZMAT': 'N', 'ORIG_MA': 99999, 'SHIPMT_WGHT': 48070, 'DEST_CFS_AREA': '01-142', 'TEMP_CNTL_YN': 'N', 'QUARTER': 1, 'SCTG': '32', 'ORIG_CFS_AREA': '12-99999', 'MODE': 4, 'SHIPMT_DIST_GC': 200, 'NAICS': 4239, 'DEST_STATE': 1, 'DEST_MA': 142})\n"
     ]
    },
    {
     "name": "stderr",
     "output_type": "stream",
     "text": [
      "INFO:sqlalchemy.engine.base.Engine:({'EXPORT_YN': 'N', 'ORIG_STATE': 45, 'SHIPMT_DIST_ROUTED': 89, 'EXPORT_CNTRY': 'N', 'WGT_FACTOR': 33913.1, 'SHIPMT_ID': 340001, 'SHIPMT_VALUE': 674, 'HAZMAT': 'N', 'ORIG_MA': 273, 'SHIPMT_WGHT': 1, 'DEST_CFS_AREA': '37-99999', 'TEMP_CNTL_YN': 'N', 'QUARTER': 1, 'SCTG': '38', 'ORIG_CFS_AREA': '45-273', 'MODE': 14, 'SHIPMT_DIST_GC': 71, 'NAICS': 4234, 'DEST_STATE': 37, 'DEST_MA': 99999}, {'EXPORT_YN': 'N', 'ORIG_STATE': 53, 'SHIPMT_DIST_ROUTED': 1, 'EXPORT_CNTRY': 'N', 'WGT_FACTOR': 4038.1, 'SHIPMT_ID': 340002, 'SHIPMT_VALUE': 102, 'HAZMAT': 'N', 'ORIG_MA': 500, 'SHIPMT_WGHT': 9, 'DEST_CFS_AREA': '53-500', 'TEMP_CNTL_YN': 'N', 'QUARTER': 3, 'SCTG': '33', 'ORIG_CFS_AREA': '53-500', 'MODE': 5, 'SHIPMT_DIST_GC': 1, 'NAICS': 4233, 'DEST_STATE': 53, 'DEST_MA': 500}, {'EXPORT_YN': 'N', 'ORIG_STATE': 31, 'SHIPMT_DIST_ROUTED': 23, 'EXPORT_CNTRY': 'N', 'WGT_FACTOR': 199.6, 'SHIPMT_ID': 340003, 'SHIPMT_VALUE': 304, 'HAZMAT': 'N', 'ORIG_MA': 99999, 'SHIPMT_WGHT': 26072, 'DEST_CFS_AREA': '31-99999', 'TEMP_CNTL_YN': 'N', 'QUARTER': 3, 'SCTG': '12', 'ORIG_CFS_AREA': '31-99999', 'MODE': 5, 'SHIPMT_DIST_GC': 23, 'NAICS': 327, 'DEST_STATE': 31, 'DEST_MA': 99999}, {'EXPORT_YN': 'N', 'ORIG_STATE': 54, 'SHIPMT_DIST_ROUTED': 395, 'EXPORT_CNTRY': 'N', 'WGT_FACTOR': 8.8, 'SHIPMT_ID': 340004, 'SHIPMT_VALUE': 1695, 'HAZMAT': 'N', 'ORIG_MA': 99999, 'SHIPMT_WGHT': 1217, 'DEST_CFS_AREA': '36-160', 'TEMP_CNTL_YN': 'N', 'QUARTER': 1, 'SCTG': '29', 'ORIG_CFS_AREA': '54-99999', 'MODE': 4, 'SHIPMT_DIST_GC': 245, 'NAICS': 323, 'DEST_STATE': 36, 'DEST_MA': 160}, {'EXPORT_YN': 'N', 'ORIG_STATE': 48, 'SHIPMT_DIST_ROUTED': 648, 'EXPORT_CNTRY': 'N', 'WGT_FACTOR': 1386.0, 'SHIPMT_ID': 340005, 'SHIPMT_VALUE': 531, 'HAZMAT': 'N', 'ORIG_MA': 288, 'SHIPMT_WGHT': 119, 'DEST_CFS_AREA': '20-99999', 'TEMP_CNTL_YN': 'N', 'QUARTER': 2, 'SCTG': '07', 'ORIG_CFS_AREA': '48-288', 'MODE': 14, 'SHIPMT_DIST_GC': 601, 'NAICS': 311, 'DEST_STATE': 20, 'DEST_MA': 99999}, {'EXPORT_YN': 'N', 'ORIG_STATE': 17, 'SHIPMT_DIST_ROUTED': 12, 'EXPORT_CNTRY': 'N', 'WGT_FACTOR': 156.1, 'SHIPMT_ID': 340006, 'SHIPMT_VALUE': 256, 'HAZMAT': 'N', 'ORIG_MA': 99999, 'SHIPMT_WGHT': 3, 'DEST_CFS_AREA': '17-99999', 'TEMP_CNTL_YN': 'N', 'QUARTER': 3, 'SCTG': '30', 'ORIG_CFS_AREA': '17-99999', 'MODE': 4, 'SHIPMT_DIST_GC': 12, 'NAICS': 314, 'DEST_STATE': 17, 'DEST_MA': 99999}, {'EXPORT_YN': 'N', 'ORIG_STATE': 33, 'SHIPMT_DIST_ROUTED': 29, 'EXPORT_CNTRY': 'N', 'WGT_FACTOR': 2417.6, 'SHIPMT_ID': 340007, 'SHIPMT_VALUE': 225, 'HAZMAT': 'N', 'ORIG_MA': 148, 'SHIPMT_WGHT': 9, 'DEST_CFS_AREA': '33-148', 'TEMP_CNTL_YN': 'N', 'QUARTER': 3, 'SCTG': '24', 'ORIG_CFS_AREA': '33-148', 'MODE': 5, 'SHIPMT_DIST_GC': 20, 'NAICS': 326, 'DEST_STATE': 33, 'DEST_MA': 148}, {'EXPORT_YN': 'N', 'ORIG_STATE': 37, 'SHIPMT_DIST_ROUTED': 515, 'EXPORT_CNTRY': 'N', 'WGT_FACTOR': 34.5, 'SHIPMT_ID': 340008, 'SHIPMT_VALUE': 21267, 'HAZMAT': 'N', 'ORIG_MA': 450, 'SHIPMT_WGHT': 8397, 'DEST_CFS_AREA': '39-198', 'TEMP_CNTL_YN': 'N', 'QUARTER': 2, 'SCTG': '29', 'ORIG_CFS_AREA': '37-450', 'MODE': 4, 'SHIPMT_DIST_GC': 376, 'NAICS': 323, 'DEST_STATE': 39, 'DEST_MA': 198}  ... displaying 10 of 10000 total bound parameter sets ...  {'EXPORT_YN': 'N', 'ORIG_STATE': 25, 'SHIPMT_DIST_ROUTED': 4, 'EXPORT_CNTRY': 'N', 'WGT_FACTOR': 394.9, 'SHIPMT_ID': 349999, 'SHIPMT_VALUE': 10236, 'HAZMAT': 'N', 'ORIG_MA': 99999, 'SHIPMT_WGHT': 326, 'DEST_CFS_AREA': '25-99999', 'TEMP_CNTL_YN': 'N', 'QUARTER': 2, 'SCTG': '40', 'ORIG_CFS_AREA': '25-99999', 'MODE': 5, 'SHIPMT_DIST_GC': 2, 'NAICS': 336, 'DEST_STATE': 25, 'DEST_MA': 99999}, {'EXPORT_YN': 'N', 'ORIG_STATE': 12, 'SHIPMT_DIST_ROUTED': 238, 'EXPORT_CNTRY': 'N', 'WGT_FACTOR': 11.3, 'SHIPMT_ID': 350000, 'SHIPMT_VALUE': 34467, 'HAZMAT': 'N', 'ORIG_MA': 99999, 'SHIPMT_WGHT': 48070, 'DEST_CFS_AREA': '01-142', 'TEMP_CNTL_YN': 'N', 'QUARTER': 1, 'SCTG': '32', 'ORIG_CFS_AREA': '12-99999', 'MODE': 4, 'SHIPMT_DIST_GC': 200, 'NAICS': 4239, 'DEST_STATE': 1, 'DEST_MA': 142})\n"
     ]
    },
    {
     "name": "stdout",
     "output_type": "stream",
     "text": [
      "2015-11-22 18:40:38,639 INFO sqlalchemy.engine.base.Engine ROLLBACK\n"
     ]
    },
    {
     "name": "stderr",
     "output_type": "stream",
     "text": [
      "INFO:sqlalchemy.engine.base.Engine:ROLLBACK\n"
     ]
    },
    {
     "ename": "KeyboardInterrupt",
     "evalue": "",
     "output_type": "error",
     "traceback": [
      "\u001b[0;31m---------------------------------------------------------------------------\u001b[0m",
      "\u001b[0;31mKeyboardInterrupt\u001b[0m                         Traceback (most recent call last)",
      "\u001b[0;32m<ipython-input-52-e1f6f3898ece>\u001b[0m in \u001b[0;36m<module>\u001b[0;34m()\u001b[0m\n\u001b[0;32m----> 1\u001b[0;31m \u001b[0mpd\u001b[0m\u001b[0;34m.\u001b[0m\u001b[0mread_csv\u001b[0m\u001b[0;34m(\u001b[0m\u001b[0;34m'./cfs_2012_pumf_csv.txt'\u001b[0m\u001b[0;34m)\u001b[0m\u001b[0;34m.\u001b[0m\u001b[0mto_sql\u001b[0m\u001b[0;34m(\u001b[0m\u001b[0;34m'transactions'\u001b[0m\u001b[0;34m,\u001b[0m \u001b[0mcon\u001b[0m\u001b[0;34m=\u001b[0m\u001b[0mengine\u001b[0m\u001b[0;34m,\u001b[0m \u001b[0mif_exists\u001b[0m\u001b[0;34m=\u001b[0m\u001b[0;34m'fail'\u001b[0m\u001b[0;34m,\u001b[0m \u001b[0mindex\u001b[0m\u001b[0;34m=\u001b[0m\u001b[0;32mFalse\u001b[0m\u001b[0;34m,\u001b[0m \u001b[0mchunksize\u001b[0m\u001b[0;34m=\u001b[0m\u001b[0;36m10000\u001b[0m\u001b[0;34m)\u001b[0m\u001b[0;34m\u001b[0m\u001b[0m\n\u001b[0m",
      "\u001b[0;32m/Users/Sohail/Virtualenvs/machineLearn/lib/python3.4/site-packages/pandas/core/generic.py\u001b[0m in \u001b[0;36mto_sql\u001b[0;34m(self, name, con, flavor, schema, if_exists, index, index_label, chunksize, dtype)\u001b[0m\n\u001b[1;32m    980\u001b[0m             \u001b[0mself\u001b[0m\u001b[0;34m,\u001b[0m \u001b[0mname\u001b[0m\u001b[0;34m,\u001b[0m \u001b[0mcon\u001b[0m\u001b[0;34m,\u001b[0m \u001b[0mflavor\u001b[0m\u001b[0;34m=\u001b[0m\u001b[0mflavor\u001b[0m\u001b[0;34m,\u001b[0m \u001b[0mschema\u001b[0m\u001b[0;34m=\u001b[0m\u001b[0mschema\u001b[0m\u001b[0;34m,\u001b[0m \u001b[0mif_exists\u001b[0m\u001b[0;34m=\u001b[0m\u001b[0mif_exists\u001b[0m\u001b[0;34m,\u001b[0m\u001b[0;34m\u001b[0m\u001b[0m\n\u001b[1;32m    981\u001b[0m             \u001b[0mindex\u001b[0m\u001b[0;34m=\u001b[0m\u001b[0mindex\u001b[0m\u001b[0;34m,\u001b[0m \u001b[0mindex_label\u001b[0m\u001b[0;34m=\u001b[0m\u001b[0mindex_label\u001b[0m\u001b[0;34m,\u001b[0m \u001b[0mchunksize\u001b[0m\u001b[0;34m=\u001b[0m\u001b[0mchunksize\u001b[0m\u001b[0;34m,\u001b[0m\u001b[0;34m\u001b[0m\u001b[0m\n\u001b[0;32m--> 982\u001b[0;31m             dtype=dtype)\n\u001b[0m\u001b[1;32m    983\u001b[0m \u001b[0;34m\u001b[0m\u001b[0m\n\u001b[1;32m    984\u001b[0m     \u001b[0;32mdef\u001b[0m \u001b[0mto_pickle\u001b[0m\u001b[0;34m(\u001b[0m\u001b[0mself\u001b[0m\u001b[0;34m,\u001b[0m \u001b[0mpath\u001b[0m\u001b[0;34m)\u001b[0m\u001b[0;34m:\u001b[0m\u001b[0;34m\u001b[0m\u001b[0m\n",
      "\u001b[0;32m/Users/Sohail/Virtualenvs/machineLearn/lib/python3.4/site-packages/pandas/io/sql.py\u001b[0m in \u001b[0;36mto_sql\u001b[0;34m(frame, name, con, flavor, schema, if_exists, index, index_label, chunksize, dtype)\u001b[0m\n\u001b[1;32m    547\u001b[0m     pandas_sql.to_sql(frame, name, if_exists=if_exists, index=index,\n\u001b[1;32m    548\u001b[0m                       \u001b[0mindex_label\u001b[0m\u001b[0;34m=\u001b[0m\u001b[0mindex_label\u001b[0m\u001b[0;34m,\u001b[0m \u001b[0mschema\u001b[0m\u001b[0;34m=\u001b[0m\u001b[0mschema\u001b[0m\u001b[0;34m,\u001b[0m\u001b[0;34m\u001b[0m\u001b[0m\n\u001b[0;32m--> 549\u001b[0;31m                       chunksize=chunksize, dtype=dtype)\n\u001b[0m\u001b[1;32m    550\u001b[0m \u001b[0;34m\u001b[0m\u001b[0m\n\u001b[1;32m    551\u001b[0m \u001b[0;34m\u001b[0m\u001b[0m\n",
      "\u001b[0;32m/Users/Sohail/Virtualenvs/machineLearn/lib/python3.4/site-packages/pandas/io/sql.py\u001b[0m in \u001b[0;36mto_sql\u001b[0;34m(self, frame, name, if_exists, index, index_label, schema, chunksize, dtype)\u001b[0m\n\u001b[1;32m   1186\u001b[0m                          schema=schema, dtype=dtype)\n\u001b[1;32m   1187\u001b[0m         \u001b[0mtable\u001b[0m\u001b[0;34m.\u001b[0m\u001b[0mcreate\u001b[0m\u001b[0;34m(\u001b[0m\u001b[0;34m)\u001b[0m\u001b[0;34m\u001b[0m\u001b[0m\n\u001b[0;32m-> 1188\u001b[0;31m         \u001b[0mtable\u001b[0m\u001b[0;34m.\u001b[0m\u001b[0minsert\u001b[0m\u001b[0;34m(\u001b[0m\u001b[0mchunksize\u001b[0m\u001b[0;34m)\u001b[0m\u001b[0;34m\u001b[0m\u001b[0m\n\u001b[0m\u001b[1;32m   1189\u001b[0m         \u001b[0;31m# check for potentially case sensitivity issues (GH7815)\u001b[0m\u001b[0;34m\u001b[0m\u001b[0;34m\u001b[0m\u001b[0m\n\u001b[1;32m   1190\u001b[0m         \u001b[0;32mif\u001b[0m \u001b[0mname\u001b[0m \u001b[0;32mnot\u001b[0m \u001b[0;32min\u001b[0m \u001b[0mself\u001b[0m\u001b[0;34m.\u001b[0m\u001b[0mengine\u001b[0m\u001b[0;34m.\u001b[0m\u001b[0mtable_names\u001b[0m\u001b[0;34m(\u001b[0m\u001b[0mschema\u001b[0m\u001b[0;34m=\u001b[0m\u001b[0mschema\u001b[0m \u001b[0;32mor\u001b[0m \u001b[0mself\u001b[0m\u001b[0;34m.\u001b[0m\u001b[0mmeta\u001b[0m\u001b[0;34m.\u001b[0m\u001b[0mschema\u001b[0m\u001b[0;34m)\u001b[0m\u001b[0;34m:\u001b[0m\u001b[0;34m\u001b[0m\u001b[0m\n",
      "\u001b[0;32m/Users/Sohail/Virtualenvs/machineLearn/lib/python3.4/site-packages/pandas/io/sql.py\u001b[0m in \u001b[0;36minsert\u001b[0;34m(self, chunksize)\u001b[0m\n\u001b[1;32m    726\u001b[0m \u001b[0;34m\u001b[0m\u001b[0m\n\u001b[1;32m    727\u001b[0m                 \u001b[0mchunk_iter\u001b[0m \u001b[0;34m=\u001b[0m \u001b[0mzip\u001b[0m\u001b[0;34m(\u001b[0m\u001b[0;34m*\u001b[0m\u001b[0;34m[\u001b[0m\u001b[0marr\u001b[0m\u001b[0;34m[\u001b[0m\u001b[0mstart_i\u001b[0m\u001b[0;34m:\u001b[0m\u001b[0mend_i\u001b[0m\u001b[0;34m]\u001b[0m \u001b[0;32mfor\u001b[0m \u001b[0marr\u001b[0m \u001b[0;32min\u001b[0m \u001b[0mdata_list\u001b[0m\u001b[0;34m]\u001b[0m\u001b[0;34m)\u001b[0m\u001b[0;34m\u001b[0m\u001b[0m\n\u001b[0;32m--> 728\u001b[0;31m                 \u001b[0mself\u001b[0m\u001b[0;34m.\u001b[0m\u001b[0m_execute_insert\u001b[0m\u001b[0;34m(\u001b[0m\u001b[0mconn\u001b[0m\u001b[0;34m,\u001b[0m \u001b[0mkeys\u001b[0m\u001b[0;34m,\u001b[0m \u001b[0mchunk_iter\u001b[0m\u001b[0;34m)\u001b[0m\u001b[0;34m\u001b[0m\u001b[0m\n\u001b[0m\u001b[1;32m    729\u001b[0m \u001b[0;34m\u001b[0m\u001b[0m\n\u001b[1;32m    730\u001b[0m     def _query_iterator(self, result, chunksize, columns, coerce_float=True,\n",
      "\u001b[0;32m/Users/Sohail/Virtualenvs/machineLearn/lib/python3.4/site-packages/pandas/io/sql.py\u001b[0m in \u001b[0;36m_execute_insert\u001b[0;34m(self, conn, keys, data_iter)\u001b[0m\n\u001b[1;32m    701\u001b[0m     \u001b[0;32mdef\u001b[0m \u001b[0m_execute_insert\u001b[0m\u001b[0;34m(\u001b[0m\u001b[0mself\u001b[0m\u001b[0;34m,\u001b[0m \u001b[0mconn\u001b[0m\u001b[0;34m,\u001b[0m \u001b[0mkeys\u001b[0m\u001b[0;34m,\u001b[0m \u001b[0mdata_iter\u001b[0m\u001b[0;34m)\u001b[0m\u001b[0;34m:\u001b[0m\u001b[0;34m\u001b[0m\u001b[0m\n\u001b[1;32m    702\u001b[0m         \u001b[0mdata\u001b[0m \u001b[0;34m=\u001b[0m \u001b[0;34m[\u001b[0m\u001b[0mdict\u001b[0m\u001b[0;34m(\u001b[0m\u001b[0;34m(\u001b[0m\u001b[0mk\u001b[0m\u001b[0;34m,\u001b[0m \u001b[0mv\u001b[0m\u001b[0;34m)\u001b[0m \u001b[0;32mfor\u001b[0m \u001b[0mk\u001b[0m\u001b[0;34m,\u001b[0m \u001b[0mv\u001b[0m \u001b[0;32min\u001b[0m \u001b[0mzip\u001b[0m\u001b[0;34m(\u001b[0m\u001b[0mkeys\u001b[0m\u001b[0;34m,\u001b[0m \u001b[0mrow\u001b[0m\u001b[0;34m)\u001b[0m\u001b[0;34m)\u001b[0m \u001b[0;32mfor\u001b[0m \u001b[0mrow\u001b[0m \u001b[0;32min\u001b[0m \u001b[0mdata_iter\u001b[0m\u001b[0;34m]\u001b[0m\u001b[0;34m\u001b[0m\u001b[0m\n\u001b[0;32m--> 703\u001b[0;31m         \u001b[0mconn\u001b[0m\u001b[0;34m.\u001b[0m\u001b[0mexecute\u001b[0m\u001b[0;34m(\u001b[0m\u001b[0mself\u001b[0m\u001b[0;34m.\u001b[0m\u001b[0minsert_statement\u001b[0m\u001b[0;34m(\u001b[0m\u001b[0;34m)\u001b[0m\u001b[0;34m,\u001b[0m \u001b[0mdata\u001b[0m\u001b[0;34m)\u001b[0m\u001b[0;34m\u001b[0m\u001b[0m\n\u001b[0m\u001b[1;32m    704\u001b[0m \u001b[0;34m\u001b[0m\u001b[0m\n\u001b[1;32m    705\u001b[0m     \u001b[0;32mdef\u001b[0m \u001b[0minsert\u001b[0m\u001b[0;34m(\u001b[0m\u001b[0mself\u001b[0m\u001b[0;34m,\u001b[0m \u001b[0mchunksize\u001b[0m\u001b[0;34m=\u001b[0m\u001b[0;32mNone\u001b[0m\u001b[0;34m)\u001b[0m\u001b[0;34m:\u001b[0m\u001b[0;34m\u001b[0m\u001b[0m\n",
      "\u001b[0;32m/Users/Sohail/Virtualenvs/machineLearn/lib/python3.4/site-packages/sqlalchemy/engine/base.py\u001b[0m in \u001b[0;36mexecute\u001b[0;34m(self, object, *multiparams, **params)\u001b[0m\n\u001b[1;32m    912\u001b[0m                 type(object))\n\u001b[1;32m    913\u001b[0m         \u001b[0;32melse\u001b[0m\u001b[0;34m:\u001b[0m\u001b[0;34m\u001b[0m\u001b[0m\n\u001b[0;32m--> 914\u001b[0;31m             \u001b[0;32mreturn\u001b[0m \u001b[0mmeth\u001b[0m\u001b[0;34m(\u001b[0m\u001b[0mself\u001b[0m\u001b[0;34m,\u001b[0m \u001b[0mmultiparams\u001b[0m\u001b[0;34m,\u001b[0m \u001b[0mparams\u001b[0m\u001b[0;34m)\u001b[0m\u001b[0;34m\u001b[0m\u001b[0m\n\u001b[0m\u001b[1;32m    915\u001b[0m \u001b[0;34m\u001b[0m\u001b[0m\n\u001b[1;32m    916\u001b[0m     \u001b[0;32mdef\u001b[0m \u001b[0m_execute_function\u001b[0m\u001b[0;34m(\u001b[0m\u001b[0mself\u001b[0m\u001b[0;34m,\u001b[0m \u001b[0mfunc\u001b[0m\u001b[0;34m,\u001b[0m \u001b[0mmultiparams\u001b[0m\u001b[0;34m,\u001b[0m \u001b[0mparams\u001b[0m\u001b[0;34m)\u001b[0m\u001b[0;34m:\u001b[0m\u001b[0;34m\u001b[0m\u001b[0m\n",
      "\u001b[0;32m/Users/Sohail/Virtualenvs/machineLearn/lib/python3.4/site-packages/sqlalchemy/sql/elements.py\u001b[0m in \u001b[0;36m_execute_on_connection\u001b[0;34m(self, connection, multiparams, params)\u001b[0m\n\u001b[1;32m    321\u001b[0m \u001b[0;34m\u001b[0m\u001b[0m\n\u001b[1;32m    322\u001b[0m     \u001b[0;32mdef\u001b[0m \u001b[0m_execute_on_connection\u001b[0m\u001b[0;34m(\u001b[0m\u001b[0mself\u001b[0m\u001b[0;34m,\u001b[0m \u001b[0mconnection\u001b[0m\u001b[0;34m,\u001b[0m \u001b[0mmultiparams\u001b[0m\u001b[0;34m,\u001b[0m \u001b[0mparams\u001b[0m\u001b[0;34m)\u001b[0m\u001b[0;34m:\u001b[0m\u001b[0;34m\u001b[0m\u001b[0m\n\u001b[0;32m--> 323\u001b[0;31m         \u001b[0;32mreturn\u001b[0m \u001b[0mconnection\u001b[0m\u001b[0;34m.\u001b[0m\u001b[0m_execute_clauseelement\u001b[0m\u001b[0;34m(\u001b[0m\u001b[0mself\u001b[0m\u001b[0;34m,\u001b[0m \u001b[0mmultiparams\u001b[0m\u001b[0;34m,\u001b[0m \u001b[0mparams\u001b[0m\u001b[0;34m)\u001b[0m\u001b[0;34m\u001b[0m\u001b[0m\n\u001b[0m\u001b[1;32m    324\u001b[0m \u001b[0;34m\u001b[0m\u001b[0m\n\u001b[1;32m    325\u001b[0m     \u001b[0;32mdef\u001b[0m \u001b[0munique_params\u001b[0m\u001b[0;34m(\u001b[0m\u001b[0mself\u001b[0m\u001b[0;34m,\u001b[0m \u001b[0;34m*\u001b[0m\u001b[0moptionaldict\u001b[0m\u001b[0;34m,\u001b[0m \u001b[0;34m**\u001b[0m\u001b[0mkwargs\u001b[0m\u001b[0;34m)\u001b[0m\u001b[0;34m:\u001b[0m\u001b[0;34m\u001b[0m\u001b[0m\n",
      "\u001b[0;32m/Users/Sohail/Virtualenvs/machineLearn/lib/python3.4/site-packages/sqlalchemy/engine/base.py\u001b[0m in \u001b[0;36m_execute_clauseelement\u001b[0;34m(self, elem, multiparams, params)\u001b[0m\n\u001b[1;32m   1008\u001b[0m             \u001b[0mcompiled_sql\u001b[0m\u001b[0;34m,\u001b[0m\u001b[0;34m\u001b[0m\u001b[0m\n\u001b[1;32m   1009\u001b[0m             \u001b[0mdistilled_params\u001b[0m\u001b[0;34m,\u001b[0m\u001b[0;34m\u001b[0m\u001b[0m\n\u001b[0;32m-> 1010\u001b[0;31m             \u001b[0mcompiled_sql\u001b[0m\u001b[0;34m,\u001b[0m \u001b[0mdistilled_params\u001b[0m\u001b[0;34m\u001b[0m\u001b[0m\n\u001b[0m\u001b[1;32m   1011\u001b[0m         )\n\u001b[1;32m   1012\u001b[0m         \u001b[0;32mif\u001b[0m \u001b[0mself\u001b[0m\u001b[0;34m.\u001b[0m\u001b[0m_has_events\u001b[0m \u001b[0;32mor\u001b[0m \u001b[0mself\u001b[0m\u001b[0;34m.\u001b[0m\u001b[0mengine\u001b[0m\u001b[0;34m.\u001b[0m\u001b[0m_has_events\u001b[0m\u001b[0;34m:\u001b[0m\u001b[0;34m\u001b[0m\u001b[0m\n",
      "\u001b[0;32m/Users/Sohail/Virtualenvs/machineLearn/lib/python3.4/site-packages/sqlalchemy/engine/base.py\u001b[0m in \u001b[0;36m_execute_context\u001b[0;34m(self, dialect, constructor, statement, parameters, *args)\u001b[0m\n\u001b[1;32m   1114\u001b[0m                         \u001b[0mstatement\u001b[0m\u001b[0;34m,\u001b[0m\u001b[0;34m\u001b[0m\u001b[0m\n\u001b[1;32m   1115\u001b[0m                         \u001b[0mparameters\u001b[0m\u001b[0;34m,\u001b[0m\u001b[0;34m\u001b[0m\u001b[0m\n\u001b[0;32m-> 1116\u001b[0;31m                         context)\n\u001b[0m\u001b[1;32m   1117\u001b[0m             \u001b[0;32melif\u001b[0m \u001b[0;32mnot\u001b[0m \u001b[0mparameters\u001b[0m \u001b[0;32mand\u001b[0m \u001b[0mcontext\u001b[0m\u001b[0;34m.\u001b[0m\u001b[0mno_parameters\u001b[0m\u001b[0;34m:\u001b[0m\u001b[0;34m\u001b[0m\u001b[0m\n\u001b[1;32m   1118\u001b[0m                 \u001b[0;32mif\u001b[0m \u001b[0mself\u001b[0m\u001b[0;34m.\u001b[0m\u001b[0mdialect\u001b[0m\u001b[0;34m.\u001b[0m\u001b[0m_has_events\u001b[0m\u001b[0;34m:\u001b[0m\u001b[0;34m\u001b[0m\u001b[0m\n",
      "\u001b[0;32m/Users/Sohail/Virtualenvs/machineLearn/lib/python3.4/site-packages/sqlalchemy/engine/default.py\u001b[0m in \u001b[0;36mdo_executemany\u001b[0;34m(self, cursor, statement, parameters, context)\u001b[0m\n\u001b[1;32m    445\u001b[0m \u001b[0;34m\u001b[0m\u001b[0m\n\u001b[1;32m    446\u001b[0m     \u001b[0;32mdef\u001b[0m \u001b[0mdo_executemany\u001b[0m\u001b[0;34m(\u001b[0m\u001b[0mself\u001b[0m\u001b[0;34m,\u001b[0m \u001b[0mcursor\u001b[0m\u001b[0;34m,\u001b[0m \u001b[0mstatement\u001b[0m\u001b[0;34m,\u001b[0m \u001b[0mparameters\u001b[0m\u001b[0;34m,\u001b[0m \u001b[0mcontext\u001b[0m\u001b[0;34m=\u001b[0m\u001b[0;32mNone\u001b[0m\u001b[0;34m)\u001b[0m\u001b[0;34m:\u001b[0m\u001b[0;34m\u001b[0m\u001b[0m\n\u001b[0;32m--> 447\u001b[0;31m         \u001b[0mcursor\u001b[0m\u001b[0;34m.\u001b[0m\u001b[0mexecutemany\u001b[0m\u001b[0;34m(\u001b[0m\u001b[0mstatement\u001b[0m\u001b[0;34m,\u001b[0m \u001b[0mparameters\u001b[0m\u001b[0;34m)\u001b[0m\u001b[0;34m\u001b[0m\u001b[0m\n\u001b[0m\u001b[1;32m    448\u001b[0m \u001b[0;34m\u001b[0m\u001b[0m\n\u001b[1;32m    449\u001b[0m     \u001b[0;32mdef\u001b[0m \u001b[0mdo_execute\u001b[0m\u001b[0;34m(\u001b[0m\u001b[0mself\u001b[0m\u001b[0;34m,\u001b[0m \u001b[0mcursor\u001b[0m\u001b[0;34m,\u001b[0m \u001b[0mstatement\u001b[0m\u001b[0;34m,\u001b[0m \u001b[0mparameters\u001b[0m\u001b[0;34m,\u001b[0m \u001b[0mcontext\u001b[0m\u001b[0;34m=\u001b[0m\u001b[0;32mNone\u001b[0m\u001b[0;34m)\u001b[0m\u001b[0;34m:\u001b[0m\u001b[0;34m\u001b[0m\u001b[0m\n",
      "\u001b[0;31mKeyboardInterrupt\u001b[0m: "
     ]
    }
   ],
   "source": [
    "pd.read_csv('./cfs_2012_pumf_csv.txt').to_sql('transactions', con=engine, if_exists='fail', index=False, chunksize=10000)"
   ]
  },
  {
   "cell_type": "code",
   "execution_count": 54,
   "metadata": {
    "collapsed": false
   },
   "outputs": [
    {
     "name": "stdout",
     "output_type": "stream",
     "text": [
      "2015-11-22 18:40:50,363 INFO sqlalchemy.engine.base.Engine DROP TABLE transactions\n"
     ]
    },
    {
     "name": "stderr",
     "output_type": "stream",
     "text": [
      "INFO:sqlalchemy.engine.base.Engine:DROP TABLE transactions\n"
     ]
    },
    {
     "name": "stdout",
     "output_type": "stream",
     "text": [
      "2015-11-22 18:40:50,364 INFO sqlalchemy.engine.base.Engine {}\n"
     ]
    },
    {
     "name": "stderr",
     "output_type": "stream",
     "text": [
      "INFO:sqlalchemy.engine.base.Engine:{}\n"
     ]
    },
    {
     "name": "stdout",
     "output_type": "stream",
     "text": [
      "2015-11-22 18:40:50,446 INFO sqlalchemy.engine.base.Engine ROLLBACK\n"
     ]
    },
    {
     "name": "stderr",
     "output_type": "stream",
     "text": [
      "INFO:sqlalchemy.engine.base.Engine:ROLLBACK\n"
     ]
    },
    {
     "ename": "ProgrammingError",
     "evalue": "(psycopg2.ProgrammingError) table \"transactions\" does not exist\n [SQL: 'DROP TABLE transactions']",
     "output_type": "error",
     "traceback": [
      "\u001b[0;31m---------------------------------------------------------------------------\u001b[0m",
      "\u001b[0;31mProgrammingError\u001b[0m                          Traceback (most recent call last)",
      "\u001b[0;32m/Users/Sohail/Virtualenvs/machineLearn/lib/python3.4/site-packages/sqlalchemy/engine/base.py\u001b[0m in \u001b[0;36m_execute_context\u001b[0;34m(self, dialect, constructor, statement, parameters, *args)\u001b[0m\n\u001b[1;32m   1138\u001b[0m                         \u001b[0mparameters\u001b[0m\u001b[0;34m,\u001b[0m\u001b[0;34m\u001b[0m\u001b[0m\n\u001b[0;32m-> 1139\u001b[0;31m                         context)\n\u001b[0m\u001b[1;32m   1140\u001b[0m         \u001b[0;32mexcept\u001b[0m \u001b[0mException\u001b[0m \u001b[0;32mas\u001b[0m \u001b[0me\u001b[0m\u001b[0;34m:\u001b[0m\u001b[0;34m\u001b[0m\u001b[0m\n",
      "\u001b[0;32m/Users/Sohail/Virtualenvs/machineLearn/lib/python3.4/site-packages/sqlalchemy/engine/default.py\u001b[0m in \u001b[0;36mdo_execute\u001b[0;34m(self, cursor, statement, parameters, context)\u001b[0m\n\u001b[1;32m    449\u001b[0m     \u001b[0;32mdef\u001b[0m \u001b[0mdo_execute\u001b[0m\u001b[0;34m(\u001b[0m\u001b[0mself\u001b[0m\u001b[0;34m,\u001b[0m \u001b[0mcursor\u001b[0m\u001b[0;34m,\u001b[0m \u001b[0mstatement\u001b[0m\u001b[0;34m,\u001b[0m \u001b[0mparameters\u001b[0m\u001b[0;34m,\u001b[0m \u001b[0mcontext\u001b[0m\u001b[0;34m=\u001b[0m\u001b[0;32mNone\u001b[0m\u001b[0;34m)\u001b[0m\u001b[0;34m:\u001b[0m\u001b[0;34m\u001b[0m\u001b[0m\n\u001b[0;32m--> 450\u001b[0;31m         \u001b[0mcursor\u001b[0m\u001b[0;34m.\u001b[0m\u001b[0mexecute\u001b[0m\u001b[0;34m(\u001b[0m\u001b[0mstatement\u001b[0m\u001b[0;34m,\u001b[0m \u001b[0mparameters\u001b[0m\u001b[0;34m)\u001b[0m\u001b[0;34m\u001b[0m\u001b[0m\n\u001b[0m\u001b[1;32m    451\u001b[0m \u001b[0;34m\u001b[0m\u001b[0m\n",
      "\u001b[0;31mProgrammingError\u001b[0m: table \"transactions\" does not exist\n",
      "\nThe above exception was the direct cause of the following exception:\n",
      "\u001b[0;31mProgrammingError\u001b[0m                          Traceback (most recent call last)",
      "\u001b[0;32m<ipython-input-54-c4f7533ddbf9>\u001b[0m in \u001b[0;36m<module>\u001b[0;34m()\u001b[0m\n\u001b[0;32m----> 1\u001b[0;31m \u001b[0mcon\u001b[0m\u001b[0;34m.\u001b[0m\u001b[0mexecute\u001b[0m\u001b[0;34m(\u001b[0m\u001b[0;34m'DROP TABLE transactions'\u001b[0m\u001b[0;34m)\u001b[0m\u001b[0;34m\u001b[0m\u001b[0m\n\u001b[0m",
      "\u001b[0;32m/Users/Sohail/Virtualenvs/machineLearn/lib/python3.4/site-packages/sqlalchemy/engine/base.py\u001b[0m in \u001b[0;36mexecute\u001b[0;34m(self, object, *multiparams, **params)\u001b[0m\n\u001b[1;32m    904\u001b[0m         \"\"\"\n\u001b[1;32m    905\u001b[0m         \u001b[0;32mif\u001b[0m \u001b[0misinstance\u001b[0m\u001b[0;34m(\u001b[0m\u001b[0mobject\u001b[0m\u001b[0;34m,\u001b[0m \u001b[0mutil\u001b[0m\u001b[0;34m.\u001b[0m\u001b[0mstring_types\u001b[0m\u001b[0;34m[\u001b[0m\u001b[0;36m0\u001b[0m\u001b[0;34m]\u001b[0m\u001b[0;34m)\u001b[0m\u001b[0;34m:\u001b[0m\u001b[0;34m\u001b[0m\u001b[0m\n\u001b[0;32m--> 906\u001b[0;31m             \u001b[0;32mreturn\u001b[0m \u001b[0mself\u001b[0m\u001b[0;34m.\u001b[0m\u001b[0m_execute_text\u001b[0m\u001b[0;34m(\u001b[0m\u001b[0mobject\u001b[0m\u001b[0;34m,\u001b[0m \u001b[0mmultiparams\u001b[0m\u001b[0;34m,\u001b[0m \u001b[0mparams\u001b[0m\u001b[0;34m)\u001b[0m\u001b[0;34m\u001b[0m\u001b[0m\n\u001b[0m\u001b[1;32m    907\u001b[0m         \u001b[0;32mtry\u001b[0m\u001b[0;34m:\u001b[0m\u001b[0;34m\u001b[0m\u001b[0m\n\u001b[1;32m    908\u001b[0m             \u001b[0mmeth\u001b[0m \u001b[0;34m=\u001b[0m \u001b[0mobject\u001b[0m\u001b[0;34m.\u001b[0m\u001b[0m_execute_on_connection\u001b[0m\u001b[0;34m\u001b[0m\u001b[0m\n",
      "\u001b[0;32m/Users/Sohail/Virtualenvs/machineLearn/lib/python3.4/site-packages/sqlalchemy/engine/base.py\u001b[0m in \u001b[0;36m_execute_text\u001b[0;34m(self, statement, multiparams, params)\u001b[0m\n\u001b[1;32m   1052\u001b[0m             \u001b[0mstatement\u001b[0m\u001b[0;34m,\u001b[0m\u001b[0;34m\u001b[0m\u001b[0m\n\u001b[1;32m   1053\u001b[0m             \u001b[0mparameters\u001b[0m\u001b[0;34m,\u001b[0m\u001b[0;34m\u001b[0m\u001b[0m\n\u001b[0;32m-> 1054\u001b[0;31m             \u001b[0mstatement\u001b[0m\u001b[0;34m,\u001b[0m \u001b[0mparameters\u001b[0m\u001b[0;34m\u001b[0m\u001b[0m\n\u001b[0m\u001b[1;32m   1055\u001b[0m         )\n\u001b[1;32m   1056\u001b[0m         \u001b[0;32mif\u001b[0m \u001b[0mself\u001b[0m\u001b[0;34m.\u001b[0m\u001b[0m_has_events\u001b[0m \u001b[0;32mor\u001b[0m \u001b[0mself\u001b[0m\u001b[0;34m.\u001b[0m\u001b[0mengine\u001b[0m\u001b[0;34m.\u001b[0m\u001b[0m_has_events\u001b[0m\u001b[0;34m:\u001b[0m\u001b[0;34m\u001b[0m\u001b[0m\n",
      "\u001b[0;32m/Users/Sohail/Virtualenvs/machineLearn/lib/python3.4/site-packages/sqlalchemy/engine/base.py\u001b[0m in \u001b[0;36m_execute_context\u001b[0;34m(self, dialect, constructor, statement, parameters, *args)\u001b[0m\n\u001b[1;32m   1144\u001b[0m                 \u001b[0mparameters\u001b[0m\u001b[0;34m,\u001b[0m\u001b[0;34m\u001b[0m\u001b[0m\n\u001b[1;32m   1145\u001b[0m                 \u001b[0mcursor\u001b[0m\u001b[0;34m,\u001b[0m\u001b[0;34m\u001b[0m\u001b[0m\n\u001b[0;32m-> 1146\u001b[0;31m                 context)\n\u001b[0m\u001b[1;32m   1147\u001b[0m \u001b[0;34m\u001b[0m\u001b[0m\n\u001b[1;32m   1148\u001b[0m         \u001b[0;32mif\u001b[0m \u001b[0mself\u001b[0m\u001b[0;34m.\u001b[0m\u001b[0m_has_events\u001b[0m \u001b[0;32mor\u001b[0m \u001b[0mself\u001b[0m\u001b[0;34m.\u001b[0m\u001b[0mengine\u001b[0m\u001b[0;34m.\u001b[0m\u001b[0m_has_events\u001b[0m\u001b[0;34m:\u001b[0m\u001b[0;34m\u001b[0m\u001b[0m\n",
      "\u001b[0;32m/Users/Sohail/Virtualenvs/machineLearn/lib/python3.4/site-packages/sqlalchemy/engine/base.py\u001b[0m in \u001b[0;36m_handle_dbapi_exception\u001b[0;34m(self, e, statement, parameters, cursor, context)\u001b[0m\n\u001b[1;32m   1339\u001b[0m                 util.raise_from_cause(\n\u001b[1;32m   1340\u001b[0m                     \u001b[0msqlalchemy_exception\u001b[0m\u001b[0;34m,\u001b[0m\u001b[0;34m\u001b[0m\u001b[0m\n\u001b[0;32m-> 1341\u001b[0;31m                     \u001b[0mexc_info\u001b[0m\u001b[0;34m\u001b[0m\u001b[0m\n\u001b[0m\u001b[1;32m   1342\u001b[0m                 )\n\u001b[1;32m   1343\u001b[0m             \u001b[0;32melse\u001b[0m\u001b[0;34m:\u001b[0m\u001b[0;34m\u001b[0m\u001b[0m\n",
      "\u001b[0;32m/Users/Sohail/Virtualenvs/machineLearn/lib/python3.4/site-packages/sqlalchemy/util/compat.py\u001b[0m in \u001b[0;36mraise_from_cause\u001b[0;34m(exception, exc_info)\u001b[0m\n\u001b[1;32m    186\u001b[0m             \u001b[0mexc_info\u001b[0m \u001b[0;34m=\u001b[0m \u001b[0msys\u001b[0m\u001b[0;34m.\u001b[0m\u001b[0mexc_info\u001b[0m\u001b[0;34m(\u001b[0m\u001b[0;34m)\u001b[0m\u001b[0;34m\u001b[0m\u001b[0m\n\u001b[1;32m    187\u001b[0m         \u001b[0mexc_type\u001b[0m\u001b[0;34m,\u001b[0m \u001b[0mexc_value\u001b[0m\u001b[0;34m,\u001b[0m \u001b[0mexc_tb\u001b[0m \u001b[0;34m=\u001b[0m \u001b[0mexc_info\u001b[0m\u001b[0;34m\u001b[0m\u001b[0m\n\u001b[0;32m--> 188\u001b[0;31m         \u001b[0mreraise\u001b[0m\u001b[0;34m(\u001b[0m\u001b[0mtype\u001b[0m\u001b[0;34m(\u001b[0m\u001b[0mexception\u001b[0m\u001b[0;34m)\u001b[0m\u001b[0;34m,\u001b[0m \u001b[0mexception\u001b[0m\u001b[0;34m,\u001b[0m \u001b[0mtb\u001b[0m\u001b[0;34m=\u001b[0m\u001b[0mexc_tb\u001b[0m\u001b[0;34m,\u001b[0m \u001b[0mcause\u001b[0m\u001b[0;34m=\u001b[0m\u001b[0mexc_value\u001b[0m\u001b[0;34m)\u001b[0m\u001b[0;34m\u001b[0m\u001b[0m\n\u001b[0m\u001b[1;32m    189\u001b[0m \u001b[0;32melse\u001b[0m\u001b[0;34m:\u001b[0m\u001b[0;34m\u001b[0m\u001b[0m\n\u001b[1;32m    190\u001b[0m     exec(\"def reraise(tp, value, tb=None, cause=None):\\n\"\n",
      "\u001b[0;32m/Users/Sohail/Virtualenvs/machineLearn/lib/python3.4/site-packages/sqlalchemy/util/compat.py\u001b[0m in \u001b[0;36mreraise\u001b[0;34m(tp, value, tb, cause)\u001b[0m\n\u001b[1;32m    179\u001b[0m             \u001b[0mvalue\u001b[0m\u001b[0;34m.\u001b[0m\u001b[0m__cause__\u001b[0m \u001b[0;34m=\u001b[0m \u001b[0mcause\u001b[0m\u001b[0;34m\u001b[0m\u001b[0m\n\u001b[1;32m    180\u001b[0m         \u001b[0;32mif\u001b[0m \u001b[0mvalue\u001b[0m\u001b[0;34m.\u001b[0m\u001b[0m__traceback__\u001b[0m \u001b[0;32mis\u001b[0m \u001b[0;32mnot\u001b[0m \u001b[0mtb\u001b[0m\u001b[0;34m:\u001b[0m\u001b[0;34m\u001b[0m\u001b[0m\n\u001b[0;32m--> 181\u001b[0;31m             \u001b[0;32mraise\u001b[0m \u001b[0mvalue\u001b[0m\u001b[0;34m.\u001b[0m\u001b[0mwith_traceback\u001b[0m\u001b[0;34m(\u001b[0m\u001b[0mtb\u001b[0m\u001b[0;34m)\u001b[0m\u001b[0;34m\u001b[0m\u001b[0m\n\u001b[0m\u001b[1;32m    182\u001b[0m         \u001b[0;32mraise\u001b[0m \u001b[0mvalue\u001b[0m\u001b[0;34m\u001b[0m\u001b[0m\n\u001b[1;32m    183\u001b[0m \u001b[0;34m\u001b[0m\u001b[0m\n",
      "\u001b[0;32m/Users/Sohail/Virtualenvs/machineLearn/lib/python3.4/site-packages/sqlalchemy/engine/base.py\u001b[0m in \u001b[0;36m_execute_context\u001b[0;34m(self, dialect, constructor, statement, parameters, *args)\u001b[0m\n\u001b[1;32m   1137\u001b[0m                         \u001b[0mstatement\u001b[0m\u001b[0;34m,\u001b[0m\u001b[0;34m\u001b[0m\u001b[0m\n\u001b[1;32m   1138\u001b[0m                         \u001b[0mparameters\u001b[0m\u001b[0;34m,\u001b[0m\u001b[0;34m\u001b[0m\u001b[0m\n\u001b[0;32m-> 1139\u001b[0;31m                         context)\n\u001b[0m\u001b[1;32m   1140\u001b[0m         \u001b[0;32mexcept\u001b[0m \u001b[0mException\u001b[0m \u001b[0;32mas\u001b[0m \u001b[0me\u001b[0m\u001b[0;34m:\u001b[0m\u001b[0;34m\u001b[0m\u001b[0m\n\u001b[1;32m   1141\u001b[0m             self._handle_dbapi_exception(\n",
      "\u001b[0;32m/Users/Sohail/Virtualenvs/machineLearn/lib/python3.4/site-packages/sqlalchemy/engine/default.py\u001b[0m in \u001b[0;36mdo_execute\u001b[0;34m(self, cursor, statement, parameters, context)\u001b[0m\n\u001b[1;32m    448\u001b[0m \u001b[0;34m\u001b[0m\u001b[0m\n\u001b[1;32m    449\u001b[0m     \u001b[0;32mdef\u001b[0m \u001b[0mdo_execute\u001b[0m\u001b[0;34m(\u001b[0m\u001b[0mself\u001b[0m\u001b[0;34m,\u001b[0m \u001b[0mcursor\u001b[0m\u001b[0;34m,\u001b[0m \u001b[0mstatement\u001b[0m\u001b[0;34m,\u001b[0m \u001b[0mparameters\u001b[0m\u001b[0;34m,\u001b[0m \u001b[0mcontext\u001b[0m\u001b[0;34m=\u001b[0m\u001b[0;32mNone\u001b[0m\u001b[0;34m)\u001b[0m\u001b[0;34m:\u001b[0m\u001b[0;34m\u001b[0m\u001b[0m\n\u001b[0;32m--> 450\u001b[0;31m         \u001b[0mcursor\u001b[0m\u001b[0;34m.\u001b[0m\u001b[0mexecute\u001b[0m\u001b[0;34m(\u001b[0m\u001b[0mstatement\u001b[0m\u001b[0;34m,\u001b[0m \u001b[0mparameters\u001b[0m\u001b[0;34m)\u001b[0m\u001b[0;34m\u001b[0m\u001b[0m\n\u001b[0m\u001b[1;32m    451\u001b[0m \u001b[0;34m\u001b[0m\u001b[0m\n\u001b[1;32m    452\u001b[0m     \u001b[0;32mdef\u001b[0m \u001b[0mdo_execute_no_params\u001b[0m\u001b[0;34m(\u001b[0m\u001b[0mself\u001b[0m\u001b[0;34m,\u001b[0m \u001b[0mcursor\u001b[0m\u001b[0;34m,\u001b[0m \u001b[0mstatement\u001b[0m\u001b[0;34m,\u001b[0m \u001b[0mcontext\u001b[0m\u001b[0;34m=\u001b[0m\u001b[0;32mNone\u001b[0m\u001b[0;34m)\u001b[0m\u001b[0;34m:\u001b[0m\u001b[0;34m\u001b[0m\u001b[0m\n",
      "\u001b[0;31mProgrammingError\u001b[0m: (psycopg2.ProgrammingError) table \"transactions\" does not exist\n [SQL: 'DROP TABLE transactions']"
     ]
    }
   ],
   "source": [
    "con.execute('DROP TABLE transactions')"
   ]
  },
  {
   "cell_type": "code",
   "execution_count": 117,
   "metadata": {
    "collapsed": false
   },
   "outputs": [
    {
     "name": "stdout",
     "output_type": "stream",
     "text": [
      "2015-12-07 01:34:15,731 INFO sqlalchemy.engine.base.Engine SELECT \"SHIPMT_ID\" FROM transactions ORDER BY 1 DESC LIMIT 1\n"
     ]
    },
    {
     "name": "stderr",
     "output_type": "stream",
     "text": [
      "INFO:sqlalchemy.engine.base.Engine:SELECT \"SHIPMT_ID\" FROM transactions ORDER BY 1 DESC LIMIT 1\n"
     ]
    },
    {
     "name": "stdout",
     "output_type": "stream",
     "text": [
      "2015-12-07 01:34:15,733 INFO sqlalchemy.engine.base.Engine {}\n"
     ]
    },
    {
     "name": "stderr",
     "output_type": "stream",
     "text": [
      "INFO:sqlalchemy.engine.base.Engine:{}\n"
     ]
    },
    {
     "data": {
      "text/plain": [
       "[(4547661,)]"
      ]
     },
     "execution_count": 117,
     "metadata": {},
     "output_type": "execute_result"
    }
   ],
   "source": [
    "con.execute('SELECT \"SHIPMT_ID\" FROM transactions ORDER BY 1 DESC LIMIT 1').fetchall()"
   ]
  },
  {
   "cell_type": "code",
   "execution_count": 121,
   "metadata": {
    "collapsed": false,
    "scrolled": true
   },
   "outputs": [
    {
     "name": "stdout",
     "output_type": "stream",
     "text": [
      "2015-12-07 02:03:01,121 INFO sqlalchemy.engine.base.Engine SELECT \"QUARTER\", SUM(\"WGT_FACTOR\") from transactions GROUP BY 1\n"
     ]
    },
    {
     "name": "stderr",
     "output_type": "stream",
     "text": [
      "INFO:sqlalchemy.engine.base.Engine:SELECT \"QUARTER\", SUM(\"WGT_FACTOR\") from transactions GROUP BY 1\n"
     ]
    },
    {
     "name": "stdout",
     "output_type": "stream",
     "text": [
      "2015-12-07 02:03:01,122 INFO sqlalchemy.engine.base.Engine {}\n"
     ]
    },
    {
     "name": "stderr",
     "output_type": "stream",
     "text": [
      "INFO:sqlalchemy.engine.base.Engine:{}\n"
     ]
    },
    {
     "data": {
      "text/plain": [
       "[(2, 2772676117.69996),\n",
       " (1, 2967003446.49992),\n",
       " (3, 2434464725.50001),\n",
       " (4, 2335565465.60005)]"
      ]
     },
     "execution_count": 121,
     "metadata": {},
     "output_type": "execute_result"
    }
   ],
   "source": [
    "con.execute('SELECT \"QUARTER\", SUM(\"WGT_FACTOR\") from transactions GROUP BY 1').fetchall()"
   ]
  }
 ],
 "metadata": {
  "kernelspec": {
   "display_name": "Python 3",
   "language": "python",
   "name": "python3"
  },
  "language_info": {
   "codemirror_mode": {
    "name": "ipython",
    "version": 3
   },
   "file_extension": ".py",
   "mimetype": "text/x-python",
   "name": "python",
   "nbconvert_exporter": "python",
   "pygments_lexer": "ipython3",
   "version": "3.4.2"
  }
 },
 "nbformat": 4,
 "nbformat_minor": 0
}
