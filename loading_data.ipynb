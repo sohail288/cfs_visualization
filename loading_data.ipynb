{
 "cells": [
  {
   "cell_type": "code",
   "execution_count": null,
   "metadata": {
    "collapsed": false
   },
   "outputs": [],
   "source": [
    "import sqlalchemy\n",
    "import pandas as pd\n",
    "import boto3\n",
    "import os\n",
    "import psycopg2"
   ]
  },
  {
   "cell_type": "code",
   "execution_count": null,
   "metadata": {
    "collapsed": false
   },
   "outputs": [],
   "source": [
    "from sqlalchemy import create_engine\n",
    "from sqlalchemy.dialects.postgresql import psycopg2"
   ]
  },
  {
   "cell_type": "markdown",
   "metadata": {},
   "source": [
    "links\n",
    "[http://docs.sqlalchemy.org/en/latest/core/selectable.html](sqlalchemy)\n",
    "\n",
    "[http://docs.aws.amazon.com/AWSEC2/latest/UserGuide/using-network-security.html#vpc-security-groups](securitygroups)\n",
    "\n"
   ]
  },
  {
   "cell_type": "markdown",
   "metadata": {},
   "source": [
    "# Setting up a RDS\n",
    "\n",
    "## Contents\n",
    "<h3>\n",
    "    <ol>\n",
    "        <li>Setting up the cluster using Boto</li>\n",
    "        <li>Connecting to cluster with sqlalchemy</li>\n",
    "        <li>Loading Data with sqlalchemy</li>\n",
    "        <li>Testing out various sql needed for next steps</li>\n",
    "    </ol>\n",
    "</h3>"
   ]
  },
  {
   "cell_type": "code",
   "execution_count": null,
   "metadata": {
    "collapsed": false
   },
   "outputs": [],
   "source": [
    "# Make sure you have configured your aws credentials in your environment\n",
    "client = boto3.client('rds')\n"
   ]
  },
  {
   "cell_type": "code",
   "execution_count": null,
   "metadata": {
    "collapsed": false
   },
   "outputs": [],
   "source": [
    "# check\n",
    "print(client)"
   ]
  },
  {
   "cell_type": "markdown",
   "metadata": {},
   "source": [
    "I will demonstrate the construction of the configuration stepwise. In reality you can just use a dict literal as a parameter to create_db_instance.  The api for rds is found here, [rds api](http://docs.aws.amazon.com/AmazonRDS/latest/APIReference/API_CreateDBInstance.html). From This API we can see that create_db_instance is going to need:"
   ]
  },
  {
   "cell_type": "markdown",
   "metadata": {},
   "source": [
    "    response = client.create_db_instance(\n",
    "        DBName='string',\n",
    "        DBInstanceIdentifier='string',\n",
    "        AllocatedStorage=123,\n",
    "        DBInstanceClass='string',\n",
    "        Engine='string',\n",
    "        MasterUsername='string',\n",
    "        MasterUserPassword='string',\n",
    "        DBSecurityGroups=[\n",
    "            'string',\n",
    "        ],\n",
    "        VpcSecurityGroupIds=[\n",
    "            'string',\n",
    "        ],\n",
    "        AvailabilityZone='string',\n",
    "        DBSubnetGroupName='string',\n",
    "        PreferredMaintenanceWindow='string',\n",
    "        DBParameterGroupName='string',\n",
    "        BackupRetentionPeriod=123,\n",
    "        PreferredBackupWindow='string',\n",
    "        Port=123,\n",
    "        MultiAZ=True|False,\n",
    "        EngineVersion='string',\n",
    "        AutoMinorVersionUpgrade=True|False,\n",
    "        LicenseModel='string',\n",
    "        Iops=123,\n",
    "        OptionGroupName='string',\n",
    "        CharacterSetName='string',\n",
    "        PubliclyAccessible=True|False,\n",
    "        Tags=[\n",
    "            {\n",
    "                'Key': 'string',\n",
    "                'Value': 'string'\n",
    "            },\n",
    "        ],\n",
    "        DBClusterIdentifier='string',\n",
    "        StorageType='string',\n",
    "        TdeCredentialArn='string',\n",
    "        TdeCredentialPassword='string',\n",
    "        StorageEncrypted=True|False,\n",
    "        KmsKeyId='string',\n",
    "        CopyTagsToSnapshot=True|False\n",
    "    )"
   ]
  },
  {
   "cell_type": "code",
   "execution_count": null,
   "metadata": {
    "collapsed": true
   },
   "outputs": [],
   "source": [
    "# step 1, make the db_configuration object\n",
    "db_configuration = {}\n"
   ]
  },
  {
   "cell_type": "markdown",
   "metadata": {},
   "source": [
    "Why are we using a dictionary when the function will take only keyword arguments?  Quick recap on why."
   ]
  },
  {
   "cell_type": "code",
   "execution_count": null,
   "metadata": {
    "collapsed": false
   },
   "outputs": [],
   "source": [
    "def printKwargs(first, second):\n",
    "    print(first,second)\n",
    "\n",
    "aDict = {}\n",
    "aDict['first'] = 1\n",
    "aDict['second'] = 2\n",
    "\n",
    "printKwargs(aDict)"
   ]
  },
  {
   "cell_type": "markdown",
   "metadata": {},
   "source": [
    "Right, we can't pass a dictionary in to the the function.  However, python lets you unpack your dictionary into tuples!"
   ]
  },
  {
   "cell_type": "code",
   "execution_count": null,
   "metadata": {
    "collapsed": false
   },
   "outputs": [],
   "source": [
    "printKwargs(**aDict)"
   ]
  },
  {
   "cell_type": "code",
   "execution_count": null,
   "metadata": {
    "collapsed": true
   },
   "outputs": [],
   "source": [
    "# back to the actual work, we will sequentially construct the dict for the keyword arguments\n",
    "# first off let's set the name\n",
    "db_configuration['DBName'] = 'cfsdb'"
   ]
  },
  {
   "cell_type": "code",
   "execution_count": null,
   "metadata": {
    "collapsed": true
   },
   "outputs": [],
   "source": [
    "# next we need the db instance identifier which is just a way to identify the db\n",
    "db_configuration['DBInstanceIdentifier'] = 'cfsdb'"
   ]
  },
  {
   "cell_type": "code",
   "execution_count": null,
   "metadata": {
    "collapsed": true
   },
   "outputs": [],
   "source": [
    "# the allocated storage accepts an integer argument. Between 5 and 6144, we'll use 5\n",
    "db_configuration['AllocatedStorage'] = 5"
   ]
  },
  {
   "cell_type": "code",
   "execution_count": null,
   "metadata": {
    "collapsed": true
   },
   "outputs": [],
   "source": [
    "# Next we need to choose the compute and memory capacity of the instance\n",
    "# we will choose db.t2.micro as it is free.\n",
    "db_configuration['DBInstanceClass'] = 'db.t2.micro'"
   ]
  },
  {
   "cell_type": "code",
   "execution_count": null,
   "metadata": {
    "collapsed": true
   },
   "outputs": [],
   "source": [
    "# Next we choose the engine to run.  This is just the flavor of sql to run, we'll choose postgres since a lot \n",
    "# of python developers like postgres (this claim is unsubstantiated).\n",
    "db_configuration['Engine'] = 'postgres'"
   ]
  },
  {
   "cell_type": "code",
   "execution_count": null,
   "metadata": {
    "collapsed": true
   },
   "outputs": [],
   "source": [
    "# Choose the version of the engine. We're using 9.4.1 since it is available in all regions.\n",
    "db_configuration['EngineVersion'] = '9.4.1'"
   ]
  },
  {
   "cell_type": "code",
   "execution_count": null,
   "metadata": {
    "collapsed": true
   },
   "outputs": [],
   "source": [
    "# next set up the master user name, store it in your environment as AWS_DB_USER or just hard code it in. 8 char minimum\n",
    "db_configuration['MasterUsername'] = os.getenv('AWS_DB_USER', 'TestUser')\n",
    "\n",
    "# also setup the password, must have at least 8 characters\n",
    "db_configuration['MasterUserPassword'] = os.getenv('AWS_DB_PASSWORD', 'TestPassword')\n"
   ]
  },
  {
   "cell_type": "markdown",
   "metadata": {},
   "source": [
    "next up is the security groups, I'm hoping you have a default security group ready to go\n",
    "if not, we'll create one right now\n",
    "DBSecurityGroups takes as an argument, a list of strings."
   ]
  },
  {
   "cell_type": "code",
   "execution_count": null,
   "metadata": {
    "collapsed": false
   },
   "outputs": [],
   "source": [
    "# first let's see what security groups exist, use any of these\n",
    "client.describe_db_security_groups()"
   ]
  },
  {
   "cell_type": "code",
   "execution_count": null,
   "metadata": {
    "collapsed": false
   },
   "outputs": [],
   "source": [
    "client.describe_db_subnet_groups()"
   ]
  },
  {
   "cell_type": "code",
   "execution_count": null,
   "metadata": {
    "collapsed": false
   },
   "outputs": [],
   "source": [
    "# let's make a specific one for this example using the create_db_security_group method of the rds client\n",
    "# the api is available here, http://docs.aws.amazon.com/AmazonRDS/latest/APIReference/API_CreateDBSecurityGroup.html\n",
    "client.create_db_security_group(**{\n",
    "        'DBSecurityGroupDescription': 'Security group for my dataset',\n",
    "        'DBSecurityGroupName': 'cfs_data_group',\n",
    "    })"
   ]
  },
  {
   "cell_type": "code",
   "execution_count": null,
   "metadata": {
    "collapsed": true
   },
   "outputs": [],
   "source": [
    "# set the security groups list in the configuration\n",
    "db_configuration['DBSecurityGroups'] = ['cfs_data_group']"
   ]
  },
  {
   "cell_type": "code",
   "execution_count": null,
   "metadata": {
    "collapsed": true
   },
   "outputs": [],
   "source": [
    "# set the availability zone\n",
    "db_configuration['AvailabilityZone'] = 'us-west-1c'"
   ]
  },
  {
   "cell_type": "code",
   "execution_count": null,
   "metadata": {
    "collapsed": true
   },
   "outputs": [],
   "source": [
    "# mark the subnet group as default\n",
    "db_configuration['DBSubnetGroupName'] = 'default'"
   ]
  },
  {
   "cell_type": "code",
   "execution_count": null,
   "metadata": {
    "collapsed": true
   },
   "outputs": [],
   "source": [
    "db_configuration['VpcSecurityGroupIds'] = ['vpc-bba470de']"
   ]
  },
  {
   "cell_type": "code",
   "execution_count": null,
   "metadata": {
    "collapsed": true
   },
   "outputs": [],
   "source": [
    "# we need to provide a window in which to let aws do maintenance.\n",
    "# we'll just use monday from 06:00-14:00 \n",
    "db_configuration['PreferredMaintenanceWindow'] = 'Mon:06:00-Mon:10:00'"
   ]
  },
  {
   "cell_type": "code",
   "execution_count": null,
   "metadata": {
    "collapsed": true
   },
   "outputs": [],
   "source": [
    "# We need to provide a limit to how long aws keeps our db backups, values are from 0 to 35\n",
    "db_configuration['BackupRetentionPeriod'] = 5"
   ]
  },
  {
   "cell_type": "code",
   "execution_count": null,
   "metadata": {
    "collapsed": true
   },
   "outputs": [],
   "source": [
    "# provide the port number to connect to, postgres uses 5432\n",
    "db_configuration['Port'] = 5432"
   ]
  },
  {
   "cell_type": "code",
   "execution_count": null,
   "metadata": {
    "collapsed": true
   },
   "outputs": [],
   "source": [
    "# tell it that we do not want multiaz deployment\n",
    "db_configuration['MultiAZ'] = False"
   ]
  },
  {
   "cell_type": "code",
   "execution_count": null,
   "metadata": {
    "collapsed": true
   },
   "outputs": [],
   "source": [
    "    # give the license model for your instance, we're using postgresql-license\n",
    "db_configuration['LicenseModel'] = 'postgresql-license'"
   ]
  },
  {
   "cell_type": "code",
   "execution_count": null,
   "metadata": {
    "collapsed": true
   },
   "outputs": [],
   "source": [
    "# indicate that we will publicly access the data\n",
    "db_configuration['PubliclyAccessible'] = True\n"
   ]
  },
  {
   "cell_type": "code",
   "execution_count": null,
   "metadata": {
    "collapsed": true
   },
   "outputs": [],
   "source": [
    "# indicate the storage type, use standard\n",
    "db_configuration['StorageType'] = 'standard'"
   ]
  },
  {
   "cell_type": "code",
   "execution_count": null,
   "metadata": {
    "collapsed": true
   },
   "outputs": [],
   "source": [
    "# we do not want to encrypt the storage\n",
    "db_configuration['StorageEncrypted'] = False"
   ]
  },
  {
   "cell_type": "code",
   "execution_count": null,
   "metadata": {
    "collapsed": false
   },
   "outputs": [],
   "source": [
    "db_configuration"
   ]
  },
  {
   "cell_type": "markdown",
   "metadata": {},
   "source": [
    "Create the client"
   ]
  },
  {
   "cell_type": "code",
   "execution_count": null,
   "metadata": {
    "collapsed": false
   },
   "outputs": [],
   "source": [
    "created_db = client.create_db_instance(**db_configuration)"
   ]
  },
  {
   "cell_type": "markdown",
   "metadata": {},
   "source": [
    "Need to delete the vpcsecuritygroupids then."
   ]
  },
  {
   "cell_type": "code",
   "execution_count": null,
   "metadata": {
    "collapsed": false
   },
   "outputs": [],
   "source": [
    "del db_configuration['DBSecurityGroups']"
   ]
  },
  {
   "cell_type": "code",
   "execution_count": null,
   "metadata": {
    "collapsed": false
   },
   "outputs": [],
   "source": [
    "created_db = client.create_db_instance(**db_configuration)"
   ]
  },
  {
   "cell_type": "code",
   "execution_count": null,
   "metadata": {
    "collapsed": false
   },
   "outputs": [],
   "source": [
    "add, port = client.describe_db_instances()['DBInstances'][0].get('Endpoint').values()"
   ]
  },
  {
   "cell_type": "code",
   "execution_count": null,
   "metadata": {
    "collapsed": false
   },
   "outputs": [],
   "source": [
    "port, add = (5432, 'cfsdb.cs4yyoqmq4gl.us-west-1.rds.amazonaws.com')"
   ]
  },
  {
   "cell_type": "markdown",
   "metadata": {},
   "source": [
    "## Using sqlalchemy"
   ]
  },
  {
   "cell_type": "code",
   "execution_count": null,
   "metadata": {
    "collapsed": false
   },
   "outputs": [],
   "source": [
    "# creating engine\n",
    "\n",
    "engine = create_engine('postgresql+psycopg2://{username}:{password}@{add}:{port}/{db_name}'.format(\n",
    "    username=db_configuration['MasterUsername'],\n",
    "    password=db_configuration['MasterUserPassword'],\n",
    "    add=add,\n",
    "    port=port,\n",
    "    db_name=db_configuration['DBName']), echo=True)"
   ]
  },
  {
   "cell_type": "code",
   "execution_count": null,
   "metadata": {
    "collapsed": false
   },
   "outputs": [],
   "source": [
    "db_configuration['DBName']"
   ]
  },
  {
   "cell_type": "code",
   "execution_count": null,
   "metadata": {
    "collapsed": true
   },
   "outputs": [],
   "source": [
    "# import sqlalchemy api\n",
    "from sqlalchemy import Table, Column, Integer, String, MetaData, ForeignKey\n"
   ]
  },
  {
   "cell_type": "code",
   "execution_count": null,
   "metadata": {
    "collapsed": false,
    "scrolled": true
   },
   "outputs": [],
   "source": [
    "con = engine.connect()"
   ]
  },
  {
   "cell_type": "code",
   "execution_count": null,
   "metadata": {
    "collapsed": false
   },
   "outputs": [],
   "source": [
    "# load data into pandas and then into sqlalchemy connection\n",
    "transport_df = pd.read_csv(\"./csv/transport_mode.csv\")\n",
    "transport_df.to_sql('transport_mode', con=engine, if_exists='replace', index=False)"
   ]
  },
  {
   "cell_type": "code",
   "execution_count": null,
   "metadata": {
    "collapsed": false
   },
   "outputs": [],
   "source": [
    "con.execute('SELECT \"Mode Description\" FROM transport_mode').fetchall()"
   ]
  },
  {
   "cell_type": "code",
   "execution_count": null,
   "metadata": {
    "collapsed": true
   },
   "outputs": [],
   "source": []
  },
  {
   "cell_type": "code",
   "execution_count": null,
   "metadata": {
    "collapsed": false
   },
   "outputs": [],
   "source": [
    "# read in all our files using the conversion pd-->sql\n",
    "get_db_name = lambda f: f.split('.')[-2].split('/')[-1].strip('/')\n",
    "get_db_name('./csv/FIPS_States.csv')"
   ]
  },
  {
   "cell_type": "code",
   "execution_count": null,
   "metadata": {
    "collapsed": true
   },
   "outputs": [],
   "source": [
    "[pd.read_csv(f).to_sql(get_db_name(f), con=engine, if_exists='ignore', index=False) for f in \n",
    " ['./csv/state_latlon.csv', './csv/sctg.csv', './csv/cfs_areas.csv', './csv/FIPS_States.csv', './csv/naics.csv']]"
   ]
  },
  {
   "cell_type": "code",
   "execution_count": null,
   "metadata": {
    "collapsed": false
   },
   "outputs": [],
   "source": [
    "pd.read_csv('./csv/naics.csv').to_sql(get_db_name('./csv/naics.csv'), con=engine, if_exists='fail', index=False)"
   ]
  },
  {
   "cell_type": "code",
   "execution_count": null,
   "metadata": {
    "collapsed": true
   },
   "outputs": [],
   "source": [
    "df = pd.read_csv('./csv/cfs_2012_pumf_first_50k.csv')"
   ]
  },
  {
   "cell_type": "code",
   "execution_count": null,
   "metadata": {
    "collapsed": false
   },
   "outputs": [],
   "source": [
    "#df[:1].to_sql('transactions', con=engine, if_exists='fail', index=False, chunksize=10000)"
   ]
  },
  {
   "cell_type": "code",
   "execution_count": null,
   "metadata": {
    "collapsed": false
   },
   "outputs": [],
   "source": [
    "#pd.read_csv('./cfs_2012_pumf_csv.txt').to_sql('transactions', con=engine, if_exists='fail', index=False, chunksize=10000)"
   ]
  },
  {
   "cell_type": "code",
   "execution_count": null,
   "metadata": {
    "collapsed": false
   },
   "outputs": [],
   "source": [
    "#con.execute('DROP TABLE transactions')"
   ]
  },
  {
   "cell_type": "code",
   "execution_count": null,
   "metadata": {
    "collapsed": false
   },
   "outputs": [],
   "source": [
    "#con.execute('SELECT \"SHIPMT_ID\" FROM transactions ORDER BY 1 DESC LIMIT 1').fetchall()"
   ]
  },
  {
   "cell_type": "code",
   "execution_count": null,
   "metadata": {
    "collapsed": false,
    "scrolled": true
   },
   "outputs": [],
   "source": [
    "#con.execute('SELECT \"QUARTER\", SUM(\"WGT_FACTOR\") from transactions GROUP BY 1').fetchall()"
   ]
  }
 ],
 "metadata": {
  "kernelspec": {
   "display_name": "Python 3",
   "language": "python",
   "name": "python3"
  },
  "language_info": {
   "codemirror_mode": {
    "name": "ipython",
    "version": 3
   },
   "file_extension": ".py",
   "mimetype": "text/x-python",
   "name": "python",
   "nbconvert_exporter": "python",
   "pygments_lexer": "ipython3",
   "version": "3.4.2"
  }
 },
 "nbformat": 4,
 "nbformat_minor": 0
}
