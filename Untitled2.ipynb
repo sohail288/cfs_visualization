{
 "cells": [
  {
   "cell_type": "markdown",
   "metadata": {},
   "source": [
    "## SQL Alchemy run through"
   ]
  },
  {
   "cell_type": "markdown",
   "metadata": {},
   "source": [
    "In the previous notebook, we made an RDS Instance that contains all of our tables. In this subsection, we will go over retrieving this information using SQL Alchemy"
   ]
  },
  {
   "cell_type": "markdown",
   "metadata": {},
   "source": [
    "## Making the engine"
   ]
  },
  {
   "cell_type": "code",
   "execution_count": 1,
   "metadata": {
    "collapsed": true
   },
   "outputs": [],
   "source": [
    "from sqlalchemy import create_engine, select\n",
    "from sqlalchemy.dialects.postgresql import psycopg2\n",
    "from sqlalchemy import Table, Column, Integer, String, MetaData, ForeignKey\n",
    "import psycopg2\n",
    "import sqlalchemy"
   ]
  },
  {
   "cell_type": "code",
   "execution_count": 2,
   "metadata": {
    "collapsed": true
   },
   "outputs": [],
   "source": [
    "import boto3\n",
    "import pandas as pd"
   ]
  },
  {
   "cell_type": "code",
   "execution_count": 3,
   "metadata": {
    "collapsed": false
   },
   "outputs": [
    {
     "data": {
      "text/plain": [
       "True"
      ]
     },
     "execution_count": 3,
     "metadata": {},
     "output_type": "execute_result"
    }
   ],
   "source": [
    "int(sqlalchemy.__version__[0]) >= 1"
   ]
  },
  {
   "cell_type": "code",
   "execution_count": 4,
   "metadata": {
    "collapsed": false
   },
   "outputs": [],
   "source": [
    "from sqlalchemy.sql import and_, or_"
   ]
  },
  {
   "cell_type": "code",
   "execution_count": 5,
   "metadata": {
    "collapsed": true
   },
   "outputs": [],
   "source": [
    "from sqlalchemy import func, text, case"
   ]
  },
  {
   "cell_type": "code",
   "execution_count": 6,
   "metadata": {
    "collapsed": true
   },
   "outputs": [],
   "source": [
    "from pprint import pprint"
   ]
  },
  {
   "cell_type": "markdown",
   "metadata": {},
   "source": [
    "### first get the rds instance we deployed earlier"
   ]
  },
  {
   "cell_type": "code",
   "execution_count": 7,
   "metadata": {
    "collapsed": false
   },
   "outputs": [],
   "source": [
    "rds = boto3.client('rds')"
   ]
  },
  {
   "cell_type": "code",
   "execution_count": 8,
   "metadata": {
    "collapsed": false
   },
   "outputs": [],
   "source": [
    "instances = list(filter(lambda instance: instance['DBInstanceStatus']=='available', rds.describe_db_instances()['DBInstances']))"
   ]
  },
  {
   "cell_type": "code",
   "execution_count": 9,
   "metadata": {
    "collapsed": true
   },
   "outputs": [],
   "source": [
    "instance = instances[0]"
   ]
  },
  {
   "cell_type": "code",
   "execution_count": 10,
   "metadata": {
    "collapsed": false
   },
   "outputs": [],
   "source": [
    "address, port = instance['Endpoint']['Address'], instance['Endpoint']['Port']\n",
    "db_name = instance['DBName']\n",
    "username = instance['MasterUsername']\n",
    "password = 'TestPassword'"
   ]
  },
  {
   "cell_type": "code",
   "execution_count": 11,
   "metadata": {
    "collapsed": false,
    "scrolled": true
   },
   "outputs": [
    {
     "data": {
      "text/plain": [
       "('cfsdb.cs4yyoqmq4gl.us-west-1.rds.amazonaws.com', 'cfsdb')"
      ]
     },
     "execution_count": 11,
     "metadata": {},
     "output_type": "execute_result"
    }
   ],
   "source": [
    "address, db_name"
   ]
  },
  {
   "cell_type": "code",
   "execution_count": 12,
   "metadata": {
    "collapsed": false
   },
   "outputs": [],
   "source": [
    "engine = create_engine('postgresql+psycopg2://{username}:{password}@{add}:{port}/{db_name}'.format(\n",
    "    username=username,\n",
    "    password=password,\n",
    "    add=address,\n",
    "    port=port,\n",
    "    db_name=db_name), echo=True)"
   ]
  },
  {
   "cell_type": "code",
   "execution_count": 13,
   "metadata": {
    "collapsed": false
   },
   "outputs": [
    {
     "name": "stdout",
     "output_type": "stream",
     "text": [
      "2015-12-24 20:02:21,109 INFO sqlalchemy.engine.base.Engine select version()\n"
     ]
    },
    {
     "name": "stderr",
     "output_type": "stream",
     "text": [
      "INFO:sqlalchemy.engine.base.Engine:select version()\n"
     ]
    },
    {
     "name": "stdout",
     "output_type": "stream",
     "text": [
      "2015-12-24 20:02:21,110 INFO sqlalchemy.engine.base.Engine {}\n"
     ]
    },
    {
     "name": "stderr",
     "output_type": "stream",
     "text": [
      "INFO:sqlalchemy.engine.base.Engine:{}\n"
     ]
    },
    {
     "name": "stdout",
     "output_type": "stream",
     "text": [
      "2015-12-24 20:02:21,155 INFO sqlalchemy.engine.base.Engine select current_schema()\n"
     ]
    },
    {
     "name": "stderr",
     "output_type": "stream",
     "text": [
      "INFO:sqlalchemy.engine.base.Engine:select current_schema()\n"
     ]
    },
    {
     "name": "stdout",
     "output_type": "stream",
     "text": [
      "2015-12-24 20:02:21,156 INFO sqlalchemy.engine.base.Engine {}\n"
     ]
    },
    {
     "name": "stderr",
     "output_type": "stream",
     "text": [
      "INFO:sqlalchemy.engine.base.Engine:{}\n"
     ]
    },
    {
     "name": "stdout",
     "output_type": "stream",
     "text": [
      "2015-12-24 20:02:21,198 INFO sqlalchemy.engine.base.Engine SELECT CAST('test plain returns' AS VARCHAR(60)) AS anon_1\n"
     ]
    },
    {
     "name": "stderr",
     "output_type": "stream",
     "text": [
      "INFO:sqlalchemy.engine.base.Engine:SELECT CAST('test plain returns' AS VARCHAR(60)) AS anon_1\n"
     ]
    },
    {
     "name": "stdout",
     "output_type": "stream",
     "text": [
      "2015-12-24 20:02:21,199 INFO sqlalchemy.engine.base.Engine {}\n"
     ]
    },
    {
     "name": "stderr",
     "output_type": "stream",
     "text": [
      "INFO:sqlalchemy.engine.base.Engine:{}\n"
     ]
    },
    {
     "name": "stdout",
     "output_type": "stream",
     "text": [
      "2015-12-24 20:02:21,223 INFO sqlalchemy.engine.base.Engine SELECT CAST('test unicode returns' AS VARCHAR(60)) AS anon_1\n"
     ]
    },
    {
     "name": "stderr",
     "output_type": "stream",
     "text": [
      "INFO:sqlalchemy.engine.base.Engine:SELECT CAST('test unicode returns' AS VARCHAR(60)) AS anon_1\n"
     ]
    },
    {
     "name": "stdout",
     "output_type": "stream",
     "text": [
      "2015-12-24 20:02:21,224 INFO sqlalchemy.engine.base.Engine {}\n"
     ]
    },
    {
     "name": "stderr",
     "output_type": "stream",
     "text": [
      "INFO:sqlalchemy.engine.base.Engine:{}\n"
     ]
    },
    {
     "name": "stdout",
     "output_type": "stream",
     "text": [
      "2015-12-24 20:02:21,268 INFO sqlalchemy.engine.base.Engine show standard_conforming_strings\n"
     ]
    },
    {
     "name": "stderr",
     "output_type": "stream",
     "text": [
      "INFO:sqlalchemy.engine.base.Engine:show standard_conforming_strings\n"
     ]
    },
    {
     "name": "stdout",
     "output_type": "stream",
     "text": [
      "2015-12-24 20:02:21,269 INFO sqlalchemy.engine.base.Engine {}\n"
     ]
    },
    {
     "name": "stderr",
     "output_type": "stream",
     "text": [
      "INFO:sqlalchemy.engine.base.Engine:{}\n"
     ]
    }
   ],
   "source": [
    "conn = engine.connect()"
   ]
  },
  {
   "cell_type": "code",
   "execution_count": null,
   "metadata": {
    "collapsed": false
   },
   "outputs": [],
   "source": [
    "# at this point we can remove entry 0 that we used in the earlier notebook\n",
    "conn.execute(\"\"\"\n",
    "             DELETE FROM ONLY transactions\n",
    "             WHERE \"SHIPMT_ID\" = 0 \"\"\")"
   ]
  },
  {
   "cell_type": "code",
   "execution_count": null,
   "metadata": {
    "collapsed": false
   },
   "outputs": [],
   "source": [
    "assert conn.execute(\"\"\"\n",
    "    SELECT  \"SHIPMT_ID\" \n",
    "    FROM transactions\n",
    "    LIMIT 1\n",
    "    \"\"\").fetchall()[0][0] == 1, \"Failed to delete row\""
   ]
  },
  {
   "cell_type": "code",
   "execution_count": null,
   "metadata": {
    "collapsed": false
   },
   "outputs": [],
   "source": [
    "# first try some basic sql queries\n",
    "# get hazardous or not hazardous\n",
    "q = conn.execute(\"\"\"\n",
    "             SELECT \n",
    "             CASE WHEN \"HAZMAT\" = 'P' OR \"HAZMAT\" = 'H' THEN 'Hazardous' \n",
    "                  WHEN \"HAZMAT\" = 'N' THEN 'Not Hazardous' \n",
    "                  ELSE  'n/a' END AS \"hazmat\", \n",
    "             COUNT(1) \n",
    "             FROM transactions \n",
    "             GROUP BY 1\n",
    "             \"\"\"\n",
    "             )"
   ]
  },
  {
   "cell_type": "code",
   "execution_count": null,
   "metadata": {
    "collapsed": false
   },
   "outputs": [],
   "source": [
    "q.fetchall()"
   ]
  },
  {
   "cell_type": "markdown",
   "metadata": {},
   "source": [
    "### Now that you have it working, use SqlAlchemy to show all the tables you currently have"
   ]
  },
  {
   "cell_type": "markdown",
   "metadata": {},
   "source": [
    "MetaData allows you to store all the information about all the tables in your database in a convenient location you have to use the reflect method of MetaData to accomplish this."
   ]
  },
  {
   "cell_type": "code",
   "execution_count": 14,
   "metadata": {
    "collapsed": false
   },
   "outputs": [],
   "source": [
    "meta = MetaData()"
   ]
  },
  {
   "cell_type": "code",
   "execution_count": 15,
   "metadata": {
    "collapsed": false
   },
   "outputs": [
    {
     "name": "stdout",
     "output_type": "stream",
     "text": [
      "2015-12-24 20:02:32,335 INFO sqlalchemy.engine.base.Engine SELECT relname FROM pg_class c WHERE relkind = 'r' AND 'public' = (select nspname from pg_namespace n where n.oid = c.relnamespace) \n"
     ]
    },
    {
     "name": "stderr",
     "output_type": "stream",
     "text": [
      "INFO:sqlalchemy.engine.base.Engine:SELECT relname FROM pg_class c WHERE relkind = 'r' AND 'public' = (select nspname from pg_namespace n where n.oid = c.relnamespace) \n"
     ]
    },
    {
     "name": "stdout",
     "output_type": "stream",
     "text": [
      "2015-12-24 20:02:32,336 INFO sqlalchemy.engine.base.Engine {}\n"
     ]
    },
    {
     "name": "stderr",
     "output_type": "stream",
     "text": [
      "INFO:sqlalchemy.engine.base.Engine:{}\n"
     ]
    },
    {
     "name": "stdout",
     "output_type": "stream",
     "text": [
      "2015-12-24 20:02:32,383 INFO sqlalchemy.engine.base.Engine \n",
      "            SELECT c.oid\n",
      "            FROM pg_catalog.pg_class c\n",
      "            LEFT JOIN pg_catalog.pg_namespace n ON n.oid = c.relnamespace\n",
      "            WHERE (pg_catalog.pg_table_is_visible(c.oid))\n",
      "            AND c.relname = %(table_name)s AND c.relkind in ('r', 'v', 'm', 'f')\n",
      "        \n"
     ]
    },
    {
     "name": "stderr",
     "output_type": "stream",
     "text": [
      "INFO:sqlalchemy.engine.base.Engine:\n",
      "            SELECT c.oid\n",
      "            FROM pg_catalog.pg_class c\n",
      "            LEFT JOIN pg_catalog.pg_namespace n ON n.oid = c.relnamespace\n",
      "            WHERE (pg_catalog.pg_table_is_visible(c.oid))\n",
      "            AND c.relname = %(table_name)s AND c.relkind in ('r', 'v', 'm', 'f')\n",
      "        \n"
     ]
    },
    {
     "name": "stdout",
     "output_type": "stream",
     "text": [
      "2015-12-24 20:02:32,384 INFO sqlalchemy.engine.base.Engine {'table_name': 'transport_mode'}\n"
     ]
    },
    {
     "name": "stderr",
     "output_type": "stream",
     "text": [
      "INFO:sqlalchemy.engine.base.Engine:{'table_name': 'transport_mode'}\n"
     ]
    },
    {
     "name": "stdout",
     "output_type": "stream",
     "text": [
      "2015-12-24 20:02:32,430 INFO sqlalchemy.engine.base.Engine \n",
      "            SELECT a.attname,\n",
      "              pg_catalog.format_type(a.atttypid, a.atttypmod),\n",
      "              (SELECT pg_catalog.pg_get_expr(d.adbin, d.adrelid)\n",
      "                FROM pg_catalog.pg_attrdef d\n",
      "               WHERE d.adrelid = a.attrelid AND d.adnum = a.attnum\n",
      "               AND a.atthasdef)\n",
      "              AS DEFAULT,\n",
      "              a.attnotnull, a.attnum, a.attrelid as table_oid\n",
      "            FROM pg_catalog.pg_attribute a\n",
      "            WHERE a.attrelid = %(table_oid)s\n",
      "            AND a.attnum > 0 AND NOT a.attisdropped\n",
      "            ORDER BY a.attnum\n",
      "        \n"
     ]
    },
    {
     "name": "stderr",
     "output_type": "stream",
     "text": [
      "INFO:sqlalchemy.engine.base.Engine:\n",
      "            SELECT a.attname,\n",
      "              pg_catalog.format_type(a.atttypid, a.atttypmod),\n",
      "              (SELECT pg_catalog.pg_get_expr(d.adbin, d.adrelid)\n",
      "                FROM pg_catalog.pg_attrdef d\n",
      "               WHERE d.adrelid = a.attrelid AND d.adnum = a.attnum\n",
      "               AND a.atthasdef)\n",
      "              AS DEFAULT,\n",
      "              a.attnotnull, a.attnum, a.attrelid as table_oid\n",
      "            FROM pg_catalog.pg_attribute a\n",
      "            WHERE a.attrelid = %(table_oid)s\n",
      "            AND a.attnum > 0 AND NOT a.attisdropped\n",
      "            ORDER BY a.attnum\n",
      "        \n"
     ]
    },
    {
     "name": "stdout",
     "output_type": "stream",
     "text": [
      "2015-12-24 20:02:32,431 INFO sqlalchemy.engine.base.Engine {'table_oid': 16395}\n"
     ]
    },
    {
     "name": "stderr",
     "output_type": "stream",
     "text": [
      "INFO:sqlalchemy.engine.base.Engine:{'table_oid': 16395}\n"
     ]
    },
    {
     "name": "stdout",
     "output_type": "stream",
     "text": [
      "2015-12-24 20:02:32,486 INFO sqlalchemy.engine.base.Engine \n",
      "            SELECT t.typname as \"name\",\n",
      "               pg_catalog.format_type(t.typbasetype, t.typtypmod) as \"attype\",\n",
      "               not t.typnotnull as \"nullable\",\n",
      "               t.typdefault as \"default\",\n",
      "               pg_catalog.pg_type_is_visible(t.oid) as \"visible\",\n",
      "               n.nspname as \"schema\"\n",
      "            FROM pg_catalog.pg_type t\n",
      "               LEFT JOIN pg_catalog.pg_namespace n ON n.oid = t.typnamespace\n",
      "            WHERE t.typtype = 'd'\n",
      "        \n"
     ]
    },
    {
     "name": "stderr",
     "output_type": "stream",
     "text": [
      "INFO:sqlalchemy.engine.base.Engine:\n",
      "            SELECT t.typname as \"name\",\n",
      "               pg_catalog.format_type(t.typbasetype, t.typtypmod) as \"attype\",\n",
      "               not t.typnotnull as \"nullable\",\n",
      "               t.typdefault as \"default\",\n",
      "               pg_catalog.pg_type_is_visible(t.oid) as \"visible\",\n",
      "               n.nspname as \"schema\"\n",
      "            FROM pg_catalog.pg_type t\n",
      "               LEFT JOIN pg_catalog.pg_namespace n ON n.oid = t.typnamespace\n",
      "            WHERE t.typtype = 'd'\n",
      "        \n"
     ]
    },
    {
     "name": "stdout",
     "output_type": "stream",
     "text": [
      "2015-12-24 20:02:32,487 INFO sqlalchemy.engine.base.Engine {}\n"
     ]
    },
    {
     "name": "stderr",
     "output_type": "stream",
     "text": [
      "INFO:sqlalchemy.engine.base.Engine:{}\n"
     ]
    },
    {
     "name": "stdout",
     "output_type": "stream",
     "text": [
      "2015-12-24 20:02:32,518 INFO sqlalchemy.engine.base.Engine \n",
      "            SELECT t.typname as \"name\",\n",
      "               -- no enum defaults in 8.4 at least\n",
      "               -- t.typdefault as \"default\",\n",
      "               pg_catalog.pg_type_is_visible(t.oid) as \"visible\",\n",
      "               n.nspname as \"schema\",\n",
      "               e.enumlabel as \"label\"\n",
      "            FROM pg_catalog.pg_type t\n",
      "                 LEFT JOIN pg_catalog.pg_namespace n ON n.oid = t.typnamespace\n",
      "                 LEFT JOIN pg_catalog.pg_enum e ON t.oid = e.enumtypid\n",
      "            WHERE t.typtype = 'e'\n",
      "        ORDER BY \"schema\", \"name\", e.oid\n"
     ]
    },
    {
     "name": "stderr",
     "output_type": "stream",
     "text": [
      "INFO:sqlalchemy.engine.base.Engine:\n",
      "            SELECT t.typname as \"name\",\n",
      "               -- no enum defaults in 8.4 at least\n",
      "               -- t.typdefault as \"default\",\n",
      "               pg_catalog.pg_type_is_visible(t.oid) as \"visible\",\n",
      "               n.nspname as \"schema\",\n",
      "               e.enumlabel as \"label\"\n",
      "            FROM pg_catalog.pg_type t\n",
      "                 LEFT JOIN pg_catalog.pg_namespace n ON n.oid = t.typnamespace\n",
      "                 LEFT JOIN pg_catalog.pg_enum e ON t.oid = e.enumtypid\n",
      "            WHERE t.typtype = 'e'\n",
      "        ORDER BY \"schema\", \"name\", e.oid\n"
     ]
    },
    {
     "name": "stdout",
     "output_type": "stream",
     "text": [
      "2015-12-24 20:02:32,519 INFO sqlalchemy.engine.base.Engine {}\n"
     ]
    },
    {
     "name": "stderr",
     "output_type": "stream",
     "text": [
      "INFO:sqlalchemy.engine.base.Engine:{}\n"
     ]
    },
    {
     "name": "stdout",
     "output_type": "stream",
     "text": [
      "2015-12-24 20:02:32,544 INFO sqlalchemy.engine.base.Engine \n",
      "                SELECT a.attname\n",
      "                FROM pg_attribute a JOIN (\n",
      "                    SELECT unnest(ix.indkey) attnum,\n",
      "                           generate_subscripts(ix.indkey, 1) ord\n",
      "                    FROM pg_index ix\n",
      "                    WHERE ix.indrelid = %(table_oid)s AND ix.indisprimary\n",
      "                    ) k ON a.attnum=k.attnum\n",
      "                WHERE a.attrelid = %(table_oid)s\n",
      "                ORDER BY k.ord\n",
      "            \n"
     ]
    },
    {
     "name": "stderr",
     "output_type": "stream",
     "text": [
      "INFO:sqlalchemy.engine.base.Engine:\n",
      "                SELECT a.attname\n",
      "                FROM pg_attribute a JOIN (\n",
      "                    SELECT unnest(ix.indkey) attnum,\n",
      "                           generate_subscripts(ix.indkey, 1) ord\n",
      "                    FROM pg_index ix\n",
      "                    WHERE ix.indrelid = %(table_oid)s AND ix.indisprimary\n",
      "                    ) k ON a.attnum=k.attnum\n",
      "                WHERE a.attrelid = %(table_oid)s\n",
      "                ORDER BY k.ord\n",
      "            \n"
     ]
    },
    {
     "name": "stdout",
     "output_type": "stream",
     "text": [
      "2015-12-24 20:02:32,546 INFO sqlalchemy.engine.base.Engine {'table_oid': 16395}\n"
     ]
    },
    {
     "name": "stderr",
     "output_type": "stream",
     "text": [
      "INFO:sqlalchemy.engine.base.Engine:{'table_oid': 16395}\n"
     ]
    },
    {
     "name": "stdout",
     "output_type": "stream",
     "text": [
      "2015-12-24 20:02:32,570 INFO sqlalchemy.engine.base.Engine \n",
      "        SELECT conname\n",
      "           FROM  pg_catalog.pg_constraint r\n",
      "           WHERE r.conrelid = %(table_oid)s AND r.contype = 'p'\n",
      "           ORDER BY 1\n",
      "        \n"
     ]
    },
    {
     "name": "stderr",
     "output_type": "stream",
     "text": [
      "INFO:sqlalchemy.engine.base.Engine:\n",
      "        SELECT conname\n",
      "           FROM  pg_catalog.pg_constraint r\n",
      "           WHERE r.conrelid = %(table_oid)s AND r.contype = 'p'\n",
      "           ORDER BY 1\n",
      "        \n"
     ]
    },
    {
     "name": "stdout",
     "output_type": "stream",
     "text": [
      "2015-12-24 20:02:32,571 INFO sqlalchemy.engine.base.Engine {'table_oid': 16395}\n"
     ]
    },
    {
     "name": "stderr",
     "output_type": "stream",
     "text": [
      "INFO:sqlalchemy.engine.base.Engine:{'table_oid': 16395}\n"
     ]
    },
    {
     "name": "stdout",
     "output_type": "stream",
     "text": [
      "2015-12-24 20:02:32,598 INFO sqlalchemy.engine.base.Engine \n",
      "          SELECT r.conname,\n",
      "                pg_catalog.pg_get_constraintdef(r.oid, true) as condef,\n",
      "                n.nspname as conschema\n",
      "          FROM  pg_catalog.pg_constraint r,\n",
      "                pg_namespace n,\n",
      "                pg_class c\n",
      "\n",
      "          WHERE r.conrelid = %(table)s AND\n",
      "                r.contype = 'f' AND\n",
      "                c.oid = confrelid AND\n",
      "                n.oid = c.relnamespace\n",
      "          ORDER BY 1\n",
      "        \n"
     ]
    },
    {
     "name": "stderr",
     "output_type": "stream",
     "text": [
      "INFO:sqlalchemy.engine.base.Engine:\n",
      "          SELECT r.conname,\n",
      "                pg_catalog.pg_get_constraintdef(r.oid, true) as condef,\n",
      "                n.nspname as conschema\n",
      "          FROM  pg_catalog.pg_constraint r,\n",
      "                pg_namespace n,\n",
      "                pg_class c\n",
      "\n",
      "          WHERE r.conrelid = %(table)s AND\n",
      "                r.contype = 'f' AND\n",
      "                c.oid = confrelid AND\n",
      "                n.oid = c.relnamespace\n",
      "          ORDER BY 1\n",
      "        \n"
     ]
    },
    {
     "name": "stdout",
     "output_type": "stream",
     "text": [
      "2015-12-24 20:02:32,599 INFO sqlalchemy.engine.base.Engine {'table': 16395}\n"
     ]
    },
    {
     "name": "stderr",
     "output_type": "stream",
     "text": [
      "INFO:sqlalchemy.engine.base.Engine:{'table': 16395}\n"
     ]
    },
    {
     "name": "stdout",
     "output_type": "stream",
     "text": [
      "2015-12-24 20:02:32,623 INFO sqlalchemy.engine.base.Engine \n",
      "              SELECT\n",
      "                  i.relname as relname,\n",
      "                  ix.indisunique, ix.indexprs, ix.indpred,\n",
      "                  a.attname, a.attnum, c.conrelid, ix.indkey::varchar,\n",
      "                  i.reloptions, am.amname\n",
      "              FROM\n",
      "                  pg_class t\n",
      "                        join pg_index ix on t.oid = ix.indrelid\n",
      "                        join pg_class i on i.oid = ix.indexrelid\n",
      "                        left outer join\n",
      "                            pg_attribute a\n",
      "                            on t.oid = a.attrelid and a.attnum = ANY(ix.indkey)\n",
      "                        left outer join\n",
      "                            pg_constraint c\n",
      "                            on (ix.indrelid = c.conrelid and\n",
      "                                ix.indexrelid = c.conindid and\n",
      "                                c.contype in ('p', 'u', 'x'))\n",
      "                        left outer join\n",
      "                            pg_am am\n",
      "                            on i.relam = am.oid\n",
      "              WHERE\n",
      "                  t.relkind IN ('r', 'v', 'f', 'm')\n",
      "                  and t.oid = %(table_oid)s\n",
      "                  and ix.indisprimary = 'f'\n",
      "              ORDER BY\n",
      "                  t.relname,\n",
      "                  i.relname\n",
      "            \n"
     ]
    },
    {
     "name": "stderr",
     "output_type": "stream",
     "text": [
      "INFO:sqlalchemy.engine.base.Engine:\n",
      "              SELECT\n",
      "                  i.relname as relname,\n",
      "                  ix.indisunique, ix.indexprs, ix.indpred,\n",
      "                  a.attname, a.attnum, c.conrelid, ix.indkey::varchar,\n",
      "                  i.reloptions, am.amname\n",
      "              FROM\n",
      "                  pg_class t\n",
      "                        join pg_index ix on t.oid = ix.indrelid\n",
      "                        join pg_class i on i.oid = ix.indexrelid\n",
      "                        left outer join\n",
      "                            pg_attribute a\n",
      "                            on t.oid = a.attrelid and a.attnum = ANY(ix.indkey)\n",
      "                        left outer join\n",
      "                            pg_constraint c\n",
      "                            on (ix.indrelid = c.conrelid and\n",
      "                                ix.indexrelid = c.conindid and\n",
      "                                c.contype in ('p', 'u', 'x'))\n",
      "                        left outer join\n",
      "                            pg_am am\n",
      "                            on i.relam = am.oid\n",
      "              WHERE\n",
      "                  t.relkind IN ('r', 'v', 'f', 'm')\n",
      "                  and t.oid = %(table_oid)s\n",
      "                  and ix.indisprimary = 'f'\n",
      "              ORDER BY\n",
      "                  t.relname,\n",
      "                  i.relname\n",
      "            \n"
     ]
    },
    {
     "name": "stdout",
     "output_type": "stream",
     "text": [
      "2015-12-24 20:02:32,624 INFO sqlalchemy.engine.base.Engine {'table_oid': 16395}\n"
     ]
    },
    {
     "name": "stderr",
     "output_type": "stream",
     "text": [
      "INFO:sqlalchemy.engine.base.Engine:{'table_oid': 16395}\n"
     ]
    },
    {
     "name": "stdout",
     "output_type": "stream",
     "text": [
      "2015-12-24 20:02:32,648 INFO sqlalchemy.engine.base.Engine \n",
      "            SELECT\n",
      "                cons.conname as name,\n",
      "                cons.conkey as key,\n",
      "                a.attnum as col_num,\n",
      "                a.attname as col_name\n",
      "            FROM\n",
      "                pg_catalog.pg_constraint cons\n",
      "                join pg_attribute a\n",
      "                  on cons.conrelid = a.attrelid AND\n",
      "                    a.attnum = ANY(cons.conkey)\n",
      "            WHERE\n",
      "                cons.conrelid = %(table_oid)s AND\n",
      "                cons.contype = 'u'\n",
      "        \n"
     ]
    },
    {
     "name": "stderr",
     "output_type": "stream",
     "text": [
      "INFO:sqlalchemy.engine.base.Engine:\n",
      "            SELECT\n",
      "                cons.conname as name,\n",
      "                cons.conkey as key,\n",
      "                a.attnum as col_num,\n",
      "                a.attname as col_name\n",
      "            FROM\n",
      "                pg_catalog.pg_constraint cons\n",
      "                join pg_attribute a\n",
      "                  on cons.conrelid = a.attrelid AND\n",
      "                    a.attnum = ANY(cons.conkey)\n",
      "            WHERE\n",
      "                cons.conrelid = %(table_oid)s AND\n",
      "                cons.contype = 'u'\n",
      "        \n"
     ]
    },
    {
     "name": "stdout",
     "output_type": "stream",
     "text": [
      "2015-12-24 20:02:32,649 INFO sqlalchemy.engine.base.Engine {'table_oid': 16395}\n"
     ]
    },
    {
     "name": "stderr",
     "output_type": "stream",
     "text": [
      "INFO:sqlalchemy.engine.base.Engine:{'table_oid': 16395}\n"
     ]
    },
    {
     "name": "stdout",
     "output_type": "stream",
     "text": [
      "2015-12-24 20:02:32,675 INFO sqlalchemy.engine.base.Engine \n",
      "            SELECT c.oid\n",
      "            FROM pg_catalog.pg_class c\n",
      "            LEFT JOIN pg_catalog.pg_namespace n ON n.oid = c.relnamespace\n",
      "            WHERE (pg_catalog.pg_table_is_visible(c.oid))\n",
      "            AND c.relname = %(table_name)s AND c.relkind in ('r', 'v', 'm', 'f')\n",
      "        \n"
     ]
    },
    {
     "name": "stderr",
     "output_type": "stream",
     "text": [
      "INFO:sqlalchemy.engine.base.Engine:\n",
      "            SELECT c.oid\n",
      "            FROM pg_catalog.pg_class c\n",
      "            LEFT JOIN pg_catalog.pg_namespace n ON n.oid = c.relnamespace\n",
      "            WHERE (pg_catalog.pg_table_is_visible(c.oid))\n",
      "            AND c.relname = %(table_name)s AND c.relkind in ('r', 'v', 'm', 'f')\n",
      "        \n"
     ]
    },
    {
     "name": "stdout",
     "output_type": "stream",
     "text": [
      "2015-12-24 20:02:32,675 INFO sqlalchemy.engine.base.Engine {'table_name': 'state_latlon'}\n"
     ]
    },
    {
     "name": "stderr",
     "output_type": "stream",
     "text": [
      "INFO:sqlalchemy.engine.base.Engine:{'table_name': 'state_latlon'}\n"
     ]
    },
    {
     "name": "stdout",
     "output_type": "stream",
     "text": [
      "2015-12-24 20:02:32,697 INFO sqlalchemy.engine.base.Engine \n",
      "            SELECT a.attname,\n",
      "              pg_catalog.format_type(a.atttypid, a.atttypmod),\n",
      "              (SELECT pg_catalog.pg_get_expr(d.adbin, d.adrelid)\n",
      "                FROM pg_catalog.pg_attrdef d\n",
      "               WHERE d.adrelid = a.attrelid AND d.adnum = a.attnum\n",
      "               AND a.atthasdef)\n",
      "              AS DEFAULT,\n",
      "              a.attnotnull, a.attnum, a.attrelid as table_oid\n",
      "            FROM pg_catalog.pg_attribute a\n",
      "            WHERE a.attrelid = %(table_oid)s\n",
      "            AND a.attnum > 0 AND NOT a.attisdropped\n",
      "            ORDER BY a.attnum\n",
      "        \n"
     ]
    },
    {
     "name": "stderr",
     "output_type": "stream",
     "text": [
      "INFO:sqlalchemy.engine.base.Engine:\n",
      "            SELECT a.attname,\n",
      "              pg_catalog.format_type(a.atttypid, a.atttypmod),\n",
      "              (SELECT pg_catalog.pg_get_expr(d.adbin, d.adrelid)\n",
      "                FROM pg_catalog.pg_attrdef d\n",
      "               WHERE d.adrelid = a.attrelid AND d.adnum = a.attnum\n",
      "               AND a.atthasdef)\n",
      "              AS DEFAULT,\n",
      "              a.attnotnull, a.attnum, a.attrelid as table_oid\n",
      "            FROM pg_catalog.pg_attribute a\n",
      "            WHERE a.attrelid = %(table_oid)s\n",
      "            AND a.attnum > 0 AND NOT a.attisdropped\n",
      "            ORDER BY a.attnum\n",
      "        \n"
     ]
    },
    {
     "name": "stdout",
     "output_type": "stream",
     "text": [
      "2015-12-24 20:02:32,699 INFO sqlalchemy.engine.base.Engine {'table_oid': 16401}\n"
     ]
    },
    {
     "name": "stderr",
     "output_type": "stream",
     "text": [
      "INFO:sqlalchemy.engine.base.Engine:{'table_oid': 16401}\n"
     ]
    },
    {
     "name": "stdout",
     "output_type": "stream",
     "text": [
      "2015-12-24 20:02:32,731 INFO sqlalchemy.engine.base.Engine \n",
      "            SELECT t.typname as \"name\",\n",
      "               pg_catalog.format_type(t.typbasetype, t.typtypmod) as \"attype\",\n",
      "               not t.typnotnull as \"nullable\",\n",
      "               t.typdefault as \"default\",\n",
      "               pg_catalog.pg_type_is_visible(t.oid) as \"visible\",\n",
      "               n.nspname as \"schema\"\n",
      "            FROM pg_catalog.pg_type t\n",
      "               LEFT JOIN pg_catalog.pg_namespace n ON n.oid = t.typnamespace\n",
      "            WHERE t.typtype = 'd'\n",
      "        \n"
     ]
    },
    {
     "name": "stderr",
     "output_type": "stream",
     "text": [
      "INFO:sqlalchemy.engine.base.Engine:\n",
      "            SELECT t.typname as \"name\",\n",
      "               pg_catalog.format_type(t.typbasetype, t.typtypmod) as \"attype\",\n",
      "               not t.typnotnull as \"nullable\",\n",
      "               t.typdefault as \"default\",\n",
      "               pg_catalog.pg_type_is_visible(t.oid) as \"visible\",\n",
      "               n.nspname as \"schema\"\n",
      "            FROM pg_catalog.pg_type t\n",
      "               LEFT JOIN pg_catalog.pg_namespace n ON n.oid = t.typnamespace\n",
      "            WHERE t.typtype = 'd'\n",
      "        \n"
     ]
    },
    {
     "name": "stdout",
     "output_type": "stream",
     "text": [
      "2015-12-24 20:02:32,733 INFO sqlalchemy.engine.base.Engine {}\n"
     ]
    },
    {
     "name": "stderr",
     "output_type": "stream",
     "text": [
      "INFO:sqlalchemy.engine.base.Engine:{}\n"
     ]
    },
    {
     "name": "stdout",
     "output_type": "stream",
     "text": [
      "2015-12-24 20:02:32,756 INFO sqlalchemy.engine.base.Engine \n",
      "            SELECT t.typname as \"name\",\n",
      "               -- no enum defaults in 8.4 at least\n",
      "               -- t.typdefault as \"default\",\n",
      "               pg_catalog.pg_type_is_visible(t.oid) as \"visible\",\n",
      "               n.nspname as \"schema\",\n",
      "               e.enumlabel as \"label\"\n",
      "            FROM pg_catalog.pg_type t\n",
      "                 LEFT JOIN pg_catalog.pg_namespace n ON n.oid = t.typnamespace\n",
      "                 LEFT JOIN pg_catalog.pg_enum e ON t.oid = e.enumtypid\n",
      "            WHERE t.typtype = 'e'\n",
      "        ORDER BY \"schema\", \"name\", e.oid\n"
     ]
    },
    {
     "name": "stderr",
     "output_type": "stream",
     "text": [
      "INFO:sqlalchemy.engine.base.Engine:\n",
      "            SELECT t.typname as \"name\",\n",
      "               -- no enum defaults in 8.4 at least\n",
      "               -- t.typdefault as \"default\",\n",
      "               pg_catalog.pg_type_is_visible(t.oid) as \"visible\",\n",
      "               n.nspname as \"schema\",\n",
      "               e.enumlabel as \"label\"\n",
      "            FROM pg_catalog.pg_type t\n",
      "                 LEFT JOIN pg_catalog.pg_namespace n ON n.oid = t.typnamespace\n",
      "                 LEFT JOIN pg_catalog.pg_enum e ON t.oid = e.enumtypid\n",
      "            WHERE t.typtype = 'e'\n",
      "        ORDER BY \"schema\", \"name\", e.oid\n"
     ]
    },
    {
     "name": "stdout",
     "output_type": "stream",
     "text": [
      "2015-12-24 20:02:32,757 INFO sqlalchemy.engine.base.Engine {}\n"
     ]
    },
    {
     "name": "stderr",
     "output_type": "stream",
     "text": [
      "INFO:sqlalchemy.engine.base.Engine:{}\n"
     ]
    },
    {
     "name": "stdout",
     "output_type": "stream",
     "text": [
      "2015-12-24 20:02:32,781 INFO sqlalchemy.engine.base.Engine \n",
      "                SELECT a.attname\n",
      "                FROM pg_attribute a JOIN (\n",
      "                    SELECT unnest(ix.indkey) attnum,\n",
      "                           generate_subscripts(ix.indkey, 1) ord\n",
      "                    FROM pg_index ix\n",
      "                    WHERE ix.indrelid = %(table_oid)s AND ix.indisprimary\n",
      "                    ) k ON a.attnum=k.attnum\n",
      "                WHERE a.attrelid = %(table_oid)s\n",
      "                ORDER BY k.ord\n",
      "            \n"
     ]
    },
    {
     "name": "stderr",
     "output_type": "stream",
     "text": [
      "INFO:sqlalchemy.engine.base.Engine:\n",
      "                SELECT a.attname\n",
      "                FROM pg_attribute a JOIN (\n",
      "                    SELECT unnest(ix.indkey) attnum,\n",
      "                           generate_subscripts(ix.indkey, 1) ord\n",
      "                    FROM pg_index ix\n",
      "                    WHERE ix.indrelid = %(table_oid)s AND ix.indisprimary\n",
      "                    ) k ON a.attnum=k.attnum\n",
      "                WHERE a.attrelid = %(table_oid)s\n",
      "                ORDER BY k.ord\n",
      "            \n"
     ]
    },
    {
     "name": "stdout",
     "output_type": "stream",
     "text": [
      "2015-12-24 20:02:32,783 INFO sqlalchemy.engine.base.Engine {'table_oid': 16401}\n"
     ]
    },
    {
     "name": "stderr",
     "output_type": "stream",
     "text": [
      "INFO:sqlalchemy.engine.base.Engine:{'table_oid': 16401}\n"
     ]
    },
    {
     "name": "stdout",
     "output_type": "stream",
     "text": [
      "2015-12-24 20:02:32,807 INFO sqlalchemy.engine.base.Engine \n",
      "        SELECT conname\n",
      "           FROM  pg_catalog.pg_constraint r\n",
      "           WHERE r.conrelid = %(table_oid)s AND r.contype = 'p'\n",
      "           ORDER BY 1\n",
      "        \n"
     ]
    },
    {
     "name": "stderr",
     "output_type": "stream",
     "text": [
      "INFO:sqlalchemy.engine.base.Engine:\n",
      "        SELECT conname\n",
      "           FROM  pg_catalog.pg_constraint r\n",
      "           WHERE r.conrelid = %(table_oid)s AND r.contype = 'p'\n",
      "           ORDER BY 1\n",
      "        \n"
     ]
    },
    {
     "name": "stdout",
     "output_type": "stream",
     "text": [
      "2015-12-24 20:02:32,808 INFO sqlalchemy.engine.base.Engine {'table_oid': 16401}\n"
     ]
    },
    {
     "name": "stderr",
     "output_type": "stream",
     "text": [
      "INFO:sqlalchemy.engine.base.Engine:{'table_oid': 16401}\n"
     ]
    },
    {
     "name": "stdout",
     "output_type": "stream",
     "text": [
      "2015-12-24 20:02:32,840 INFO sqlalchemy.engine.base.Engine \n",
      "          SELECT r.conname,\n",
      "                pg_catalog.pg_get_constraintdef(r.oid, true) as condef,\n",
      "                n.nspname as conschema\n",
      "          FROM  pg_catalog.pg_constraint r,\n",
      "                pg_namespace n,\n",
      "                pg_class c\n",
      "\n",
      "          WHERE r.conrelid = %(table)s AND\n",
      "                r.contype = 'f' AND\n",
      "                c.oid = confrelid AND\n",
      "                n.oid = c.relnamespace\n",
      "          ORDER BY 1\n",
      "        \n"
     ]
    },
    {
     "name": "stderr",
     "output_type": "stream",
     "text": [
      "INFO:sqlalchemy.engine.base.Engine:\n",
      "          SELECT r.conname,\n",
      "                pg_catalog.pg_get_constraintdef(r.oid, true) as condef,\n",
      "                n.nspname as conschema\n",
      "          FROM  pg_catalog.pg_constraint r,\n",
      "                pg_namespace n,\n",
      "                pg_class c\n",
      "\n",
      "          WHERE r.conrelid = %(table)s AND\n",
      "                r.contype = 'f' AND\n",
      "                c.oid = confrelid AND\n",
      "                n.oid = c.relnamespace\n",
      "          ORDER BY 1\n",
      "        \n"
     ]
    },
    {
     "name": "stdout",
     "output_type": "stream",
     "text": [
      "2015-12-24 20:02:32,841 INFO sqlalchemy.engine.base.Engine {'table': 16401}\n"
     ]
    },
    {
     "name": "stderr",
     "output_type": "stream",
     "text": [
      "INFO:sqlalchemy.engine.base.Engine:{'table': 16401}\n"
     ]
    },
    {
     "name": "stdout",
     "output_type": "stream",
     "text": [
      "2015-12-24 20:02:32,865 INFO sqlalchemy.engine.base.Engine \n",
      "              SELECT\n",
      "                  i.relname as relname,\n",
      "                  ix.indisunique, ix.indexprs, ix.indpred,\n",
      "                  a.attname, a.attnum, c.conrelid, ix.indkey::varchar,\n",
      "                  i.reloptions, am.amname\n",
      "              FROM\n",
      "                  pg_class t\n",
      "                        join pg_index ix on t.oid = ix.indrelid\n",
      "                        join pg_class i on i.oid = ix.indexrelid\n",
      "                        left outer join\n",
      "                            pg_attribute a\n",
      "                            on t.oid = a.attrelid and a.attnum = ANY(ix.indkey)\n",
      "                        left outer join\n",
      "                            pg_constraint c\n",
      "                            on (ix.indrelid = c.conrelid and\n",
      "                                ix.indexrelid = c.conindid and\n",
      "                                c.contype in ('p', 'u', 'x'))\n",
      "                        left outer join\n",
      "                            pg_am am\n",
      "                            on i.relam = am.oid\n",
      "              WHERE\n",
      "                  t.relkind IN ('r', 'v', 'f', 'm')\n",
      "                  and t.oid = %(table_oid)s\n",
      "                  and ix.indisprimary = 'f'\n",
      "              ORDER BY\n",
      "                  t.relname,\n",
      "                  i.relname\n",
      "            \n"
     ]
    },
    {
     "name": "stderr",
     "output_type": "stream",
     "text": [
      "INFO:sqlalchemy.engine.base.Engine:\n",
      "              SELECT\n",
      "                  i.relname as relname,\n",
      "                  ix.indisunique, ix.indexprs, ix.indpred,\n",
      "                  a.attname, a.attnum, c.conrelid, ix.indkey::varchar,\n",
      "                  i.reloptions, am.amname\n",
      "              FROM\n",
      "                  pg_class t\n",
      "                        join pg_index ix on t.oid = ix.indrelid\n",
      "                        join pg_class i on i.oid = ix.indexrelid\n",
      "                        left outer join\n",
      "                            pg_attribute a\n",
      "                            on t.oid = a.attrelid and a.attnum = ANY(ix.indkey)\n",
      "                        left outer join\n",
      "                            pg_constraint c\n",
      "                            on (ix.indrelid = c.conrelid and\n",
      "                                ix.indexrelid = c.conindid and\n",
      "                                c.contype in ('p', 'u', 'x'))\n",
      "                        left outer join\n",
      "                            pg_am am\n",
      "                            on i.relam = am.oid\n",
      "              WHERE\n",
      "                  t.relkind IN ('r', 'v', 'f', 'm')\n",
      "                  and t.oid = %(table_oid)s\n",
      "                  and ix.indisprimary = 'f'\n",
      "              ORDER BY\n",
      "                  t.relname,\n",
      "                  i.relname\n",
      "            \n"
     ]
    },
    {
     "name": "stdout",
     "output_type": "stream",
     "text": [
      "2015-12-24 20:02:32,866 INFO sqlalchemy.engine.base.Engine {'table_oid': 16401}\n"
     ]
    },
    {
     "name": "stderr",
     "output_type": "stream",
     "text": [
      "INFO:sqlalchemy.engine.base.Engine:{'table_oid': 16401}\n"
     ]
    },
    {
     "name": "stdout",
     "output_type": "stream",
     "text": [
      "2015-12-24 20:02:32,891 INFO sqlalchemy.engine.base.Engine \n",
      "            SELECT\n",
      "                cons.conname as name,\n",
      "                cons.conkey as key,\n",
      "                a.attnum as col_num,\n",
      "                a.attname as col_name\n",
      "            FROM\n",
      "                pg_catalog.pg_constraint cons\n",
      "                join pg_attribute a\n",
      "                  on cons.conrelid = a.attrelid AND\n",
      "                    a.attnum = ANY(cons.conkey)\n",
      "            WHERE\n",
      "                cons.conrelid = %(table_oid)s AND\n",
      "                cons.contype = 'u'\n",
      "        \n"
     ]
    },
    {
     "name": "stderr",
     "output_type": "stream",
     "text": [
      "INFO:sqlalchemy.engine.base.Engine:\n",
      "            SELECT\n",
      "                cons.conname as name,\n",
      "                cons.conkey as key,\n",
      "                a.attnum as col_num,\n",
      "                a.attname as col_name\n",
      "            FROM\n",
      "                pg_catalog.pg_constraint cons\n",
      "                join pg_attribute a\n",
      "                  on cons.conrelid = a.attrelid AND\n",
      "                    a.attnum = ANY(cons.conkey)\n",
      "            WHERE\n",
      "                cons.conrelid = %(table_oid)s AND\n",
      "                cons.contype = 'u'\n",
      "        \n"
     ]
    },
    {
     "name": "stdout",
     "output_type": "stream",
     "text": [
      "2015-12-24 20:02:32,893 INFO sqlalchemy.engine.base.Engine {'table_oid': 16401}\n"
     ]
    },
    {
     "name": "stderr",
     "output_type": "stream",
     "text": [
      "INFO:sqlalchemy.engine.base.Engine:{'table_oid': 16401}\n"
     ]
    },
    {
     "name": "stdout",
     "output_type": "stream",
     "text": [
      "2015-12-24 20:02:32,917 INFO sqlalchemy.engine.base.Engine \n",
      "            SELECT c.oid\n",
      "            FROM pg_catalog.pg_class c\n",
      "            LEFT JOIN pg_catalog.pg_namespace n ON n.oid = c.relnamespace\n",
      "            WHERE (pg_catalog.pg_table_is_visible(c.oid))\n",
      "            AND c.relname = %(table_name)s AND c.relkind in ('r', 'v', 'm', 'f')\n",
      "        \n"
     ]
    },
    {
     "name": "stderr",
     "output_type": "stream",
     "text": [
      "INFO:sqlalchemy.engine.base.Engine:\n",
      "            SELECT c.oid\n",
      "            FROM pg_catalog.pg_class c\n",
      "            LEFT JOIN pg_catalog.pg_namespace n ON n.oid = c.relnamespace\n",
      "            WHERE (pg_catalog.pg_table_is_visible(c.oid))\n",
      "            AND c.relname = %(table_name)s AND c.relkind in ('r', 'v', 'm', 'f')\n",
      "        \n"
     ]
    },
    {
     "name": "stdout",
     "output_type": "stream",
     "text": [
      "2015-12-24 20:02:32,918 INFO sqlalchemy.engine.base.Engine {'table_name': 'sctg'}\n"
     ]
    },
    {
     "name": "stderr",
     "output_type": "stream",
     "text": [
      "INFO:sqlalchemy.engine.base.Engine:{'table_name': 'sctg'}\n"
     ]
    },
    {
     "name": "stdout",
     "output_type": "stream",
     "text": [
      "2015-12-24 20:02:32,949 INFO sqlalchemy.engine.base.Engine \n",
      "            SELECT a.attname,\n",
      "              pg_catalog.format_type(a.atttypid, a.atttypmod),\n",
      "              (SELECT pg_catalog.pg_get_expr(d.adbin, d.adrelid)\n",
      "                FROM pg_catalog.pg_attrdef d\n",
      "               WHERE d.adrelid = a.attrelid AND d.adnum = a.attnum\n",
      "               AND a.atthasdef)\n",
      "              AS DEFAULT,\n",
      "              a.attnotnull, a.attnum, a.attrelid as table_oid\n",
      "            FROM pg_catalog.pg_attribute a\n",
      "            WHERE a.attrelid = %(table_oid)s\n",
      "            AND a.attnum > 0 AND NOT a.attisdropped\n",
      "            ORDER BY a.attnum\n",
      "        \n"
     ]
    },
    {
     "name": "stderr",
     "output_type": "stream",
     "text": [
      "INFO:sqlalchemy.engine.base.Engine:\n",
      "            SELECT a.attname,\n",
      "              pg_catalog.format_type(a.atttypid, a.atttypmod),\n",
      "              (SELECT pg_catalog.pg_get_expr(d.adbin, d.adrelid)\n",
      "                FROM pg_catalog.pg_attrdef d\n",
      "               WHERE d.adrelid = a.attrelid AND d.adnum = a.attnum\n",
      "               AND a.atthasdef)\n",
      "              AS DEFAULT,\n",
      "              a.attnotnull, a.attnum, a.attrelid as table_oid\n",
      "            FROM pg_catalog.pg_attribute a\n",
      "            WHERE a.attrelid = %(table_oid)s\n",
      "            AND a.attnum > 0 AND NOT a.attisdropped\n",
      "            ORDER BY a.attnum\n",
      "        \n"
     ]
    },
    {
     "name": "stdout",
     "output_type": "stream",
     "text": [
      "2015-12-24 20:02:32,950 INFO sqlalchemy.engine.base.Engine {'table_oid': 16407}\n"
     ]
    },
    {
     "name": "stderr",
     "output_type": "stream",
     "text": [
      "INFO:sqlalchemy.engine.base.Engine:{'table_oid': 16407}\n"
     ]
    },
    {
     "name": "stdout",
     "output_type": "stream",
     "text": [
      "2015-12-24 20:02:32,972 INFO sqlalchemy.engine.base.Engine \n",
      "            SELECT t.typname as \"name\",\n",
      "               pg_catalog.format_type(t.typbasetype, t.typtypmod) as \"attype\",\n",
      "               not t.typnotnull as \"nullable\",\n",
      "               t.typdefault as \"default\",\n",
      "               pg_catalog.pg_type_is_visible(t.oid) as \"visible\",\n",
      "               n.nspname as \"schema\"\n",
      "            FROM pg_catalog.pg_type t\n",
      "               LEFT JOIN pg_catalog.pg_namespace n ON n.oid = t.typnamespace\n",
      "            WHERE t.typtype = 'd'\n",
      "        \n"
     ]
    },
    {
     "name": "stderr",
     "output_type": "stream",
     "text": [
      "INFO:sqlalchemy.engine.base.Engine:\n",
      "            SELECT t.typname as \"name\",\n",
      "               pg_catalog.format_type(t.typbasetype, t.typtypmod) as \"attype\",\n",
      "               not t.typnotnull as \"nullable\",\n",
      "               t.typdefault as \"default\",\n",
      "               pg_catalog.pg_type_is_visible(t.oid) as \"visible\",\n",
      "               n.nspname as \"schema\"\n",
      "            FROM pg_catalog.pg_type t\n",
      "               LEFT JOIN pg_catalog.pg_namespace n ON n.oid = t.typnamespace\n",
      "            WHERE t.typtype = 'd'\n",
      "        \n"
     ]
    },
    {
     "name": "stdout",
     "output_type": "stream",
     "text": [
      "2015-12-24 20:02:32,973 INFO sqlalchemy.engine.base.Engine {}\n"
     ]
    },
    {
     "name": "stderr",
     "output_type": "stream",
     "text": [
      "INFO:sqlalchemy.engine.base.Engine:{}\n"
     ]
    },
    {
     "name": "stdout",
     "output_type": "stream",
     "text": [
      "2015-12-24 20:02:32,999 INFO sqlalchemy.engine.base.Engine \n",
      "            SELECT t.typname as \"name\",\n",
      "               -- no enum defaults in 8.4 at least\n",
      "               -- t.typdefault as \"default\",\n",
      "               pg_catalog.pg_type_is_visible(t.oid) as \"visible\",\n",
      "               n.nspname as \"schema\",\n",
      "               e.enumlabel as \"label\"\n",
      "            FROM pg_catalog.pg_type t\n",
      "                 LEFT JOIN pg_catalog.pg_namespace n ON n.oid = t.typnamespace\n",
      "                 LEFT JOIN pg_catalog.pg_enum e ON t.oid = e.enumtypid\n",
      "            WHERE t.typtype = 'e'\n",
      "        ORDER BY \"schema\", \"name\", e.oid\n"
     ]
    },
    {
     "name": "stderr",
     "output_type": "stream",
     "text": [
      "INFO:sqlalchemy.engine.base.Engine:\n",
      "            SELECT t.typname as \"name\",\n",
      "               -- no enum defaults in 8.4 at least\n",
      "               -- t.typdefault as \"default\",\n",
      "               pg_catalog.pg_type_is_visible(t.oid) as \"visible\",\n",
      "               n.nspname as \"schema\",\n",
      "               e.enumlabel as \"label\"\n",
      "            FROM pg_catalog.pg_type t\n",
      "                 LEFT JOIN pg_catalog.pg_namespace n ON n.oid = t.typnamespace\n",
      "                 LEFT JOIN pg_catalog.pg_enum e ON t.oid = e.enumtypid\n",
      "            WHERE t.typtype = 'e'\n",
      "        ORDER BY \"schema\", \"name\", e.oid\n"
     ]
    },
    {
     "name": "stdout",
     "output_type": "stream",
     "text": [
      "2015-12-24 20:02:33,000 INFO sqlalchemy.engine.base.Engine {}\n"
     ]
    },
    {
     "name": "stderr",
     "output_type": "stream",
     "text": [
      "INFO:sqlalchemy.engine.base.Engine:{}\n"
     ]
    },
    {
     "name": "stdout",
     "output_type": "stream",
     "text": [
      "2015-12-24 20:02:33,026 INFO sqlalchemy.engine.base.Engine \n",
      "                SELECT a.attname\n",
      "                FROM pg_attribute a JOIN (\n",
      "                    SELECT unnest(ix.indkey) attnum,\n",
      "                           generate_subscripts(ix.indkey, 1) ord\n",
      "                    FROM pg_index ix\n",
      "                    WHERE ix.indrelid = %(table_oid)s AND ix.indisprimary\n",
      "                    ) k ON a.attnum=k.attnum\n",
      "                WHERE a.attrelid = %(table_oid)s\n",
      "                ORDER BY k.ord\n",
      "            \n"
     ]
    },
    {
     "name": "stderr",
     "output_type": "stream",
     "text": [
      "INFO:sqlalchemy.engine.base.Engine:\n",
      "                SELECT a.attname\n",
      "                FROM pg_attribute a JOIN (\n",
      "                    SELECT unnest(ix.indkey) attnum,\n",
      "                           generate_subscripts(ix.indkey, 1) ord\n",
      "                    FROM pg_index ix\n",
      "                    WHERE ix.indrelid = %(table_oid)s AND ix.indisprimary\n",
      "                    ) k ON a.attnum=k.attnum\n",
      "                WHERE a.attrelid = %(table_oid)s\n",
      "                ORDER BY k.ord\n",
      "            \n"
     ]
    },
    {
     "name": "stdout",
     "output_type": "stream",
     "text": [
      "2015-12-24 20:02:33,027 INFO sqlalchemy.engine.base.Engine {'table_oid': 16407}\n"
     ]
    },
    {
     "name": "stderr",
     "output_type": "stream",
     "text": [
      "INFO:sqlalchemy.engine.base.Engine:{'table_oid': 16407}\n"
     ]
    },
    {
     "name": "stdout",
     "output_type": "stream",
     "text": [
      "2015-12-24 20:02:33,053 INFO sqlalchemy.engine.base.Engine \n",
      "        SELECT conname\n",
      "           FROM  pg_catalog.pg_constraint r\n",
      "           WHERE r.conrelid = %(table_oid)s AND r.contype = 'p'\n",
      "           ORDER BY 1\n",
      "        \n"
     ]
    },
    {
     "name": "stderr",
     "output_type": "stream",
     "text": [
      "INFO:sqlalchemy.engine.base.Engine:\n",
      "        SELECT conname\n",
      "           FROM  pg_catalog.pg_constraint r\n",
      "           WHERE r.conrelid = %(table_oid)s AND r.contype = 'p'\n",
      "           ORDER BY 1\n",
      "        \n"
     ]
    },
    {
     "name": "stdout",
     "output_type": "stream",
     "text": [
      "2015-12-24 20:02:33,054 INFO sqlalchemy.engine.base.Engine {'table_oid': 16407}\n"
     ]
    },
    {
     "name": "stderr",
     "output_type": "stream",
     "text": [
      "INFO:sqlalchemy.engine.base.Engine:{'table_oid': 16407}\n"
     ]
    },
    {
     "name": "stdout",
     "output_type": "stream",
     "text": [
      "2015-12-24 20:02:33,076 INFO sqlalchemy.engine.base.Engine \n",
      "          SELECT r.conname,\n",
      "                pg_catalog.pg_get_constraintdef(r.oid, true) as condef,\n",
      "                n.nspname as conschema\n",
      "          FROM  pg_catalog.pg_constraint r,\n",
      "                pg_namespace n,\n",
      "                pg_class c\n",
      "\n",
      "          WHERE r.conrelid = %(table)s AND\n",
      "                r.contype = 'f' AND\n",
      "                c.oid = confrelid AND\n",
      "                n.oid = c.relnamespace\n",
      "          ORDER BY 1\n",
      "        \n"
     ]
    },
    {
     "name": "stderr",
     "output_type": "stream",
     "text": [
      "INFO:sqlalchemy.engine.base.Engine:\n",
      "          SELECT r.conname,\n",
      "                pg_catalog.pg_get_constraintdef(r.oid, true) as condef,\n",
      "                n.nspname as conschema\n",
      "          FROM  pg_catalog.pg_constraint r,\n",
      "                pg_namespace n,\n",
      "                pg_class c\n",
      "\n",
      "          WHERE r.conrelid = %(table)s AND\n",
      "                r.contype = 'f' AND\n",
      "                c.oid = confrelid AND\n",
      "                n.oid = c.relnamespace\n",
      "          ORDER BY 1\n",
      "        \n"
     ]
    },
    {
     "name": "stdout",
     "output_type": "stream",
     "text": [
      "2015-12-24 20:02:33,077 INFO sqlalchemy.engine.base.Engine {'table': 16407}\n"
     ]
    },
    {
     "name": "stderr",
     "output_type": "stream",
     "text": [
      "INFO:sqlalchemy.engine.base.Engine:{'table': 16407}\n"
     ]
    },
    {
     "name": "stdout",
     "output_type": "stream",
     "text": [
      "2015-12-24 20:02:33,101 INFO sqlalchemy.engine.base.Engine \n",
      "              SELECT\n",
      "                  i.relname as relname,\n",
      "                  ix.indisunique, ix.indexprs, ix.indpred,\n",
      "                  a.attname, a.attnum, c.conrelid, ix.indkey::varchar,\n",
      "                  i.reloptions, am.amname\n",
      "              FROM\n",
      "                  pg_class t\n",
      "                        join pg_index ix on t.oid = ix.indrelid\n",
      "                        join pg_class i on i.oid = ix.indexrelid\n",
      "                        left outer join\n",
      "                            pg_attribute a\n",
      "                            on t.oid = a.attrelid and a.attnum = ANY(ix.indkey)\n",
      "                        left outer join\n",
      "                            pg_constraint c\n",
      "                            on (ix.indrelid = c.conrelid and\n",
      "                                ix.indexrelid = c.conindid and\n",
      "                                c.contype in ('p', 'u', 'x'))\n",
      "                        left outer join\n",
      "                            pg_am am\n",
      "                            on i.relam = am.oid\n",
      "              WHERE\n",
      "                  t.relkind IN ('r', 'v', 'f', 'm')\n",
      "                  and t.oid = %(table_oid)s\n",
      "                  and ix.indisprimary = 'f'\n",
      "              ORDER BY\n",
      "                  t.relname,\n",
      "                  i.relname\n",
      "            \n"
     ]
    },
    {
     "name": "stderr",
     "output_type": "stream",
     "text": [
      "INFO:sqlalchemy.engine.base.Engine:\n",
      "              SELECT\n",
      "                  i.relname as relname,\n",
      "                  ix.indisunique, ix.indexprs, ix.indpred,\n",
      "                  a.attname, a.attnum, c.conrelid, ix.indkey::varchar,\n",
      "                  i.reloptions, am.amname\n",
      "              FROM\n",
      "                  pg_class t\n",
      "                        join pg_index ix on t.oid = ix.indrelid\n",
      "                        join pg_class i on i.oid = ix.indexrelid\n",
      "                        left outer join\n",
      "                            pg_attribute a\n",
      "                            on t.oid = a.attrelid and a.attnum = ANY(ix.indkey)\n",
      "                        left outer join\n",
      "                            pg_constraint c\n",
      "                            on (ix.indrelid = c.conrelid and\n",
      "                                ix.indexrelid = c.conindid and\n",
      "                                c.contype in ('p', 'u', 'x'))\n",
      "                        left outer join\n",
      "                            pg_am am\n",
      "                            on i.relam = am.oid\n",
      "              WHERE\n",
      "                  t.relkind IN ('r', 'v', 'f', 'm')\n",
      "                  and t.oid = %(table_oid)s\n",
      "                  and ix.indisprimary = 'f'\n",
      "              ORDER BY\n",
      "                  t.relname,\n",
      "                  i.relname\n",
      "            \n"
     ]
    },
    {
     "name": "stdout",
     "output_type": "stream",
     "text": [
      "2015-12-24 20:02:33,103 INFO sqlalchemy.engine.base.Engine {'table_oid': 16407}\n"
     ]
    },
    {
     "name": "stderr",
     "output_type": "stream",
     "text": [
      "INFO:sqlalchemy.engine.base.Engine:{'table_oid': 16407}\n"
     ]
    },
    {
     "name": "stdout",
     "output_type": "stream",
     "text": [
      "2015-12-24 20:02:33,126 INFO sqlalchemy.engine.base.Engine \n",
      "            SELECT\n",
      "                cons.conname as name,\n",
      "                cons.conkey as key,\n",
      "                a.attnum as col_num,\n",
      "                a.attname as col_name\n",
      "            FROM\n",
      "                pg_catalog.pg_constraint cons\n",
      "                join pg_attribute a\n",
      "                  on cons.conrelid = a.attrelid AND\n",
      "                    a.attnum = ANY(cons.conkey)\n",
      "            WHERE\n",
      "                cons.conrelid = %(table_oid)s AND\n",
      "                cons.contype = 'u'\n",
      "        \n"
     ]
    },
    {
     "name": "stderr",
     "output_type": "stream",
     "text": [
      "INFO:sqlalchemy.engine.base.Engine:\n",
      "            SELECT\n",
      "                cons.conname as name,\n",
      "                cons.conkey as key,\n",
      "                a.attnum as col_num,\n",
      "                a.attname as col_name\n",
      "            FROM\n",
      "                pg_catalog.pg_constraint cons\n",
      "                join pg_attribute a\n",
      "                  on cons.conrelid = a.attrelid AND\n",
      "                    a.attnum = ANY(cons.conkey)\n",
      "            WHERE\n",
      "                cons.conrelid = %(table_oid)s AND\n",
      "                cons.contype = 'u'\n",
      "        \n"
     ]
    },
    {
     "name": "stdout",
     "output_type": "stream",
     "text": [
      "2015-12-24 20:02:33,127 INFO sqlalchemy.engine.base.Engine {'table_oid': 16407}\n"
     ]
    },
    {
     "name": "stderr",
     "output_type": "stream",
     "text": [
      "INFO:sqlalchemy.engine.base.Engine:{'table_oid': 16407}\n"
     ]
    },
    {
     "name": "stdout",
     "output_type": "stream",
     "text": [
      "2015-12-24 20:02:33,166 INFO sqlalchemy.engine.base.Engine \n",
      "            SELECT c.oid\n",
      "            FROM pg_catalog.pg_class c\n",
      "            LEFT JOIN pg_catalog.pg_namespace n ON n.oid = c.relnamespace\n",
      "            WHERE (pg_catalog.pg_table_is_visible(c.oid))\n",
      "            AND c.relname = %(table_name)s AND c.relkind in ('r', 'v', 'm', 'f')\n",
      "        \n"
     ]
    },
    {
     "name": "stderr",
     "output_type": "stream",
     "text": [
      "INFO:sqlalchemy.engine.base.Engine:\n",
      "            SELECT c.oid\n",
      "            FROM pg_catalog.pg_class c\n",
      "            LEFT JOIN pg_catalog.pg_namespace n ON n.oid = c.relnamespace\n",
      "            WHERE (pg_catalog.pg_table_is_visible(c.oid))\n",
      "            AND c.relname = %(table_name)s AND c.relkind in ('r', 'v', 'm', 'f')\n",
      "        \n"
     ]
    },
    {
     "name": "stdout",
     "output_type": "stream",
     "text": [
      "2015-12-24 20:02:33,168 INFO sqlalchemy.engine.base.Engine {'table_name': 'cfs_areas'}\n"
     ]
    },
    {
     "name": "stderr",
     "output_type": "stream",
     "text": [
      "INFO:sqlalchemy.engine.base.Engine:{'table_name': 'cfs_areas'}\n"
     ]
    },
    {
     "name": "stdout",
     "output_type": "stream",
     "text": [
      "2015-12-24 20:02:33,189 INFO sqlalchemy.engine.base.Engine \n",
      "            SELECT a.attname,\n",
      "              pg_catalog.format_type(a.atttypid, a.atttypmod),\n",
      "              (SELECT pg_catalog.pg_get_expr(d.adbin, d.adrelid)\n",
      "                FROM pg_catalog.pg_attrdef d\n",
      "               WHERE d.adrelid = a.attrelid AND d.adnum = a.attnum\n",
      "               AND a.atthasdef)\n",
      "              AS DEFAULT,\n",
      "              a.attnotnull, a.attnum, a.attrelid as table_oid\n",
      "            FROM pg_catalog.pg_attribute a\n",
      "            WHERE a.attrelid = %(table_oid)s\n",
      "            AND a.attnum > 0 AND NOT a.attisdropped\n",
      "            ORDER BY a.attnum\n",
      "        \n"
     ]
    },
    {
     "name": "stderr",
     "output_type": "stream",
     "text": [
      "INFO:sqlalchemy.engine.base.Engine:\n",
      "            SELECT a.attname,\n",
      "              pg_catalog.format_type(a.atttypid, a.atttypmod),\n",
      "              (SELECT pg_catalog.pg_get_expr(d.adbin, d.adrelid)\n",
      "                FROM pg_catalog.pg_attrdef d\n",
      "               WHERE d.adrelid = a.attrelid AND d.adnum = a.attnum\n",
      "               AND a.atthasdef)\n",
      "              AS DEFAULT,\n",
      "              a.attnotnull, a.attnum, a.attrelid as table_oid\n",
      "            FROM pg_catalog.pg_attribute a\n",
      "            WHERE a.attrelid = %(table_oid)s\n",
      "            AND a.attnum > 0 AND NOT a.attisdropped\n",
      "            ORDER BY a.attnum\n",
      "        \n"
     ]
    },
    {
     "name": "stdout",
     "output_type": "stream",
     "text": [
      "2015-12-24 20:02:33,190 INFO sqlalchemy.engine.base.Engine {'table_oid': 16413}\n"
     ]
    },
    {
     "name": "stderr",
     "output_type": "stream",
     "text": [
      "INFO:sqlalchemy.engine.base.Engine:{'table_oid': 16413}\n"
     ]
    },
    {
     "name": "stdout",
     "output_type": "stream",
     "text": [
      "2015-12-24 20:02:33,218 INFO sqlalchemy.engine.base.Engine \n",
      "            SELECT t.typname as \"name\",\n",
      "               pg_catalog.format_type(t.typbasetype, t.typtypmod) as \"attype\",\n",
      "               not t.typnotnull as \"nullable\",\n",
      "               t.typdefault as \"default\",\n",
      "               pg_catalog.pg_type_is_visible(t.oid) as \"visible\",\n",
      "               n.nspname as \"schema\"\n",
      "            FROM pg_catalog.pg_type t\n",
      "               LEFT JOIN pg_catalog.pg_namespace n ON n.oid = t.typnamespace\n",
      "            WHERE t.typtype = 'd'\n",
      "        \n"
     ]
    },
    {
     "name": "stderr",
     "output_type": "stream",
     "text": [
      "INFO:sqlalchemy.engine.base.Engine:\n",
      "            SELECT t.typname as \"name\",\n",
      "               pg_catalog.format_type(t.typbasetype, t.typtypmod) as \"attype\",\n",
      "               not t.typnotnull as \"nullable\",\n",
      "               t.typdefault as \"default\",\n",
      "               pg_catalog.pg_type_is_visible(t.oid) as \"visible\",\n",
      "               n.nspname as \"schema\"\n",
      "            FROM pg_catalog.pg_type t\n",
      "               LEFT JOIN pg_catalog.pg_namespace n ON n.oid = t.typnamespace\n",
      "            WHERE t.typtype = 'd'\n",
      "        \n"
     ]
    },
    {
     "name": "stdout",
     "output_type": "stream",
     "text": [
      "2015-12-24 20:02:33,219 INFO sqlalchemy.engine.base.Engine {}\n"
     ]
    },
    {
     "name": "stderr",
     "output_type": "stream",
     "text": [
      "INFO:sqlalchemy.engine.base.Engine:{}\n"
     ]
    },
    {
     "name": "stdout",
     "output_type": "stream",
     "text": [
      "2015-12-24 20:02:33,242 INFO sqlalchemy.engine.base.Engine \n",
      "            SELECT t.typname as \"name\",\n",
      "               -- no enum defaults in 8.4 at least\n",
      "               -- t.typdefault as \"default\",\n",
      "               pg_catalog.pg_type_is_visible(t.oid) as \"visible\",\n",
      "               n.nspname as \"schema\",\n",
      "               e.enumlabel as \"label\"\n",
      "            FROM pg_catalog.pg_type t\n",
      "                 LEFT JOIN pg_catalog.pg_namespace n ON n.oid = t.typnamespace\n",
      "                 LEFT JOIN pg_catalog.pg_enum e ON t.oid = e.enumtypid\n",
      "            WHERE t.typtype = 'e'\n",
      "        ORDER BY \"schema\", \"name\", e.oid\n"
     ]
    },
    {
     "name": "stderr",
     "output_type": "stream",
     "text": [
      "INFO:sqlalchemy.engine.base.Engine:\n",
      "            SELECT t.typname as \"name\",\n",
      "               -- no enum defaults in 8.4 at least\n",
      "               -- t.typdefault as \"default\",\n",
      "               pg_catalog.pg_type_is_visible(t.oid) as \"visible\",\n",
      "               n.nspname as \"schema\",\n",
      "               e.enumlabel as \"label\"\n",
      "            FROM pg_catalog.pg_type t\n",
      "                 LEFT JOIN pg_catalog.pg_namespace n ON n.oid = t.typnamespace\n",
      "                 LEFT JOIN pg_catalog.pg_enum e ON t.oid = e.enumtypid\n",
      "            WHERE t.typtype = 'e'\n",
      "        ORDER BY \"schema\", \"name\", e.oid\n"
     ]
    },
    {
     "name": "stdout",
     "output_type": "stream",
     "text": [
      "2015-12-24 20:02:33,243 INFO sqlalchemy.engine.base.Engine {}\n"
     ]
    },
    {
     "name": "stderr",
     "output_type": "stream",
     "text": [
      "INFO:sqlalchemy.engine.base.Engine:{}\n"
     ]
    },
    {
     "name": "stdout",
     "output_type": "stream",
     "text": [
      "2015-12-24 20:02:33,267 INFO sqlalchemy.engine.base.Engine \n",
      "                SELECT a.attname\n",
      "                FROM pg_attribute a JOIN (\n",
      "                    SELECT unnest(ix.indkey) attnum,\n",
      "                           generate_subscripts(ix.indkey, 1) ord\n",
      "                    FROM pg_index ix\n",
      "                    WHERE ix.indrelid = %(table_oid)s AND ix.indisprimary\n",
      "                    ) k ON a.attnum=k.attnum\n",
      "                WHERE a.attrelid = %(table_oid)s\n",
      "                ORDER BY k.ord\n",
      "            \n"
     ]
    },
    {
     "name": "stderr",
     "output_type": "stream",
     "text": [
      "INFO:sqlalchemy.engine.base.Engine:\n",
      "                SELECT a.attname\n",
      "                FROM pg_attribute a JOIN (\n",
      "                    SELECT unnest(ix.indkey) attnum,\n",
      "                           generate_subscripts(ix.indkey, 1) ord\n",
      "                    FROM pg_index ix\n",
      "                    WHERE ix.indrelid = %(table_oid)s AND ix.indisprimary\n",
      "                    ) k ON a.attnum=k.attnum\n",
      "                WHERE a.attrelid = %(table_oid)s\n",
      "                ORDER BY k.ord\n",
      "            \n"
     ]
    },
    {
     "name": "stdout",
     "output_type": "stream",
     "text": [
      "2015-12-24 20:02:33,268 INFO sqlalchemy.engine.base.Engine {'table_oid': 16413}\n"
     ]
    },
    {
     "name": "stderr",
     "output_type": "stream",
     "text": [
      "INFO:sqlalchemy.engine.base.Engine:{'table_oid': 16413}\n"
     ]
    },
    {
     "name": "stdout",
     "output_type": "stream",
     "text": [
      "2015-12-24 20:02:33,290 INFO sqlalchemy.engine.base.Engine \n",
      "        SELECT conname\n",
      "           FROM  pg_catalog.pg_constraint r\n",
      "           WHERE r.conrelid = %(table_oid)s AND r.contype = 'p'\n",
      "           ORDER BY 1\n",
      "        \n"
     ]
    },
    {
     "name": "stderr",
     "output_type": "stream",
     "text": [
      "INFO:sqlalchemy.engine.base.Engine:\n",
      "        SELECT conname\n",
      "           FROM  pg_catalog.pg_constraint r\n",
      "           WHERE r.conrelid = %(table_oid)s AND r.contype = 'p'\n",
      "           ORDER BY 1\n",
      "        \n"
     ]
    },
    {
     "name": "stdout",
     "output_type": "stream",
     "text": [
      "2015-12-24 20:02:33,291 INFO sqlalchemy.engine.base.Engine {'table_oid': 16413}\n"
     ]
    },
    {
     "name": "stderr",
     "output_type": "stream",
     "text": [
      "INFO:sqlalchemy.engine.base.Engine:{'table_oid': 16413}\n"
     ]
    },
    {
     "name": "stdout",
     "output_type": "stream",
     "text": [
      "2015-12-24 20:02:33,318 INFO sqlalchemy.engine.base.Engine \n",
      "          SELECT r.conname,\n",
      "                pg_catalog.pg_get_constraintdef(r.oid, true) as condef,\n",
      "                n.nspname as conschema\n",
      "          FROM  pg_catalog.pg_constraint r,\n",
      "                pg_namespace n,\n",
      "                pg_class c\n",
      "\n",
      "          WHERE r.conrelid = %(table)s AND\n",
      "                r.contype = 'f' AND\n",
      "                c.oid = confrelid AND\n",
      "                n.oid = c.relnamespace\n",
      "          ORDER BY 1\n",
      "        \n"
     ]
    },
    {
     "name": "stderr",
     "output_type": "stream",
     "text": [
      "INFO:sqlalchemy.engine.base.Engine:\n",
      "          SELECT r.conname,\n",
      "                pg_catalog.pg_get_constraintdef(r.oid, true) as condef,\n",
      "                n.nspname as conschema\n",
      "          FROM  pg_catalog.pg_constraint r,\n",
      "                pg_namespace n,\n",
      "                pg_class c\n",
      "\n",
      "          WHERE r.conrelid = %(table)s AND\n",
      "                r.contype = 'f' AND\n",
      "                c.oid = confrelid AND\n",
      "                n.oid = c.relnamespace\n",
      "          ORDER BY 1\n",
      "        \n"
     ]
    },
    {
     "name": "stdout",
     "output_type": "stream",
     "text": [
      "2015-12-24 20:02:33,319 INFO sqlalchemy.engine.base.Engine {'table': 16413}\n"
     ]
    },
    {
     "name": "stderr",
     "output_type": "stream",
     "text": [
      "INFO:sqlalchemy.engine.base.Engine:{'table': 16413}\n"
     ]
    },
    {
     "name": "stdout",
     "output_type": "stream",
     "text": [
      "2015-12-24 20:02:33,344 INFO sqlalchemy.engine.base.Engine \n",
      "              SELECT\n",
      "                  i.relname as relname,\n",
      "                  ix.indisunique, ix.indexprs, ix.indpred,\n",
      "                  a.attname, a.attnum, c.conrelid, ix.indkey::varchar,\n",
      "                  i.reloptions, am.amname\n",
      "              FROM\n",
      "                  pg_class t\n",
      "                        join pg_index ix on t.oid = ix.indrelid\n",
      "                        join pg_class i on i.oid = ix.indexrelid\n",
      "                        left outer join\n",
      "                            pg_attribute a\n",
      "                            on t.oid = a.attrelid and a.attnum = ANY(ix.indkey)\n",
      "                        left outer join\n",
      "                            pg_constraint c\n",
      "                            on (ix.indrelid = c.conrelid and\n",
      "                                ix.indexrelid = c.conindid and\n",
      "                                c.contype in ('p', 'u', 'x'))\n",
      "                        left outer join\n",
      "                            pg_am am\n",
      "                            on i.relam = am.oid\n",
      "              WHERE\n",
      "                  t.relkind IN ('r', 'v', 'f', 'm')\n",
      "                  and t.oid = %(table_oid)s\n",
      "                  and ix.indisprimary = 'f'\n",
      "              ORDER BY\n",
      "                  t.relname,\n",
      "                  i.relname\n",
      "            \n"
     ]
    },
    {
     "name": "stderr",
     "output_type": "stream",
     "text": [
      "INFO:sqlalchemy.engine.base.Engine:\n",
      "              SELECT\n",
      "                  i.relname as relname,\n",
      "                  ix.indisunique, ix.indexprs, ix.indpred,\n",
      "                  a.attname, a.attnum, c.conrelid, ix.indkey::varchar,\n",
      "                  i.reloptions, am.amname\n",
      "              FROM\n",
      "                  pg_class t\n",
      "                        join pg_index ix on t.oid = ix.indrelid\n",
      "                        join pg_class i on i.oid = ix.indexrelid\n",
      "                        left outer join\n",
      "                            pg_attribute a\n",
      "                            on t.oid = a.attrelid and a.attnum = ANY(ix.indkey)\n",
      "                        left outer join\n",
      "                            pg_constraint c\n",
      "                            on (ix.indrelid = c.conrelid and\n",
      "                                ix.indexrelid = c.conindid and\n",
      "                                c.contype in ('p', 'u', 'x'))\n",
      "                        left outer join\n",
      "                            pg_am am\n",
      "                            on i.relam = am.oid\n",
      "              WHERE\n",
      "                  t.relkind IN ('r', 'v', 'f', 'm')\n",
      "                  and t.oid = %(table_oid)s\n",
      "                  and ix.indisprimary = 'f'\n",
      "              ORDER BY\n",
      "                  t.relname,\n",
      "                  i.relname\n",
      "            \n"
     ]
    },
    {
     "name": "stdout",
     "output_type": "stream",
     "text": [
      "2015-12-24 20:02:33,345 INFO sqlalchemy.engine.base.Engine {'table_oid': 16413}\n"
     ]
    },
    {
     "name": "stderr",
     "output_type": "stream",
     "text": [
      "INFO:sqlalchemy.engine.base.Engine:{'table_oid': 16413}\n"
     ]
    },
    {
     "name": "stdout",
     "output_type": "stream",
     "text": [
      "2015-12-24 20:02:33,372 INFO sqlalchemy.engine.base.Engine \n",
      "            SELECT\n",
      "                cons.conname as name,\n",
      "                cons.conkey as key,\n",
      "                a.attnum as col_num,\n",
      "                a.attname as col_name\n",
      "            FROM\n",
      "                pg_catalog.pg_constraint cons\n",
      "                join pg_attribute a\n",
      "                  on cons.conrelid = a.attrelid AND\n",
      "                    a.attnum = ANY(cons.conkey)\n",
      "            WHERE\n",
      "                cons.conrelid = %(table_oid)s AND\n",
      "                cons.contype = 'u'\n",
      "        \n"
     ]
    },
    {
     "name": "stderr",
     "output_type": "stream",
     "text": [
      "INFO:sqlalchemy.engine.base.Engine:\n",
      "            SELECT\n",
      "                cons.conname as name,\n",
      "                cons.conkey as key,\n",
      "                a.attnum as col_num,\n",
      "                a.attname as col_name\n",
      "            FROM\n",
      "                pg_catalog.pg_constraint cons\n",
      "                join pg_attribute a\n",
      "                  on cons.conrelid = a.attrelid AND\n",
      "                    a.attnum = ANY(cons.conkey)\n",
      "            WHERE\n",
      "                cons.conrelid = %(table_oid)s AND\n",
      "                cons.contype = 'u'\n",
      "        \n"
     ]
    },
    {
     "name": "stdout",
     "output_type": "stream",
     "text": [
      "2015-12-24 20:02:33,373 INFO sqlalchemy.engine.base.Engine {'table_oid': 16413}\n"
     ]
    },
    {
     "name": "stderr",
     "output_type": "stream",
     "text": [
      "INFO:sqlalchemy.engine.base.Engine:{'table_oid': 16413}\n"
     ]
    },
    {
     "name": "stdout",
     "output_type": "stream",
     "text": [
      "2015-12-24 20:02:33,398 INFO sqlalchemy.engine.base.Engine \n",
      "            SELECT c.oid\n",
      "            FROM pg_catalog.pg_class c\n",
      "            LEFT JOIN pg_catalog.pg_namespace n ON n.oid = c.relnamespace\n",
      "            WHERE (pg_catalog.pg_table_is_visible(c.oid))\n",
      "            AND c.relname = %(table_name)s AND c.relkind in ('r', 'v', 'm', 'f')\n",
      "        \n"
     ]
    },
    {
     "name": "stderr",
     "output_type": "stream",
     "text": [
      "INFO:sqlalchemy.engine.base.Engine:\n",
      "            SELECT c.oid\n",
      "            FROM pg_catalog.pg_class c\n",
      "            LEFT JOIN pg_catalog.pg_namespace n ON n.oid = c.relnamespace\n",
      "            WHERE (pg_catalog.pg_table_is_visible(c.oid))\n",
      "            AND c.relname = %(table_name)s AND c.relkind in ('r', 'v', 'm', 'f')\n",
      "        \n"
     ]
    },
    {
     "name": "stdout",
     "output_type": "stream",
     "text": [
      "2015-12-24 20:02:33,399 INFO sqlalchemy.engine.base.Engine {'table_name': 'FIPS_States'}\n"
     ]
    },
    {
     "name": "stderr",
     "output_type": "stream",
     "text": [
      "INFO:sqlalchemy.engine.base.Engine:{'table_name': 'FIPS_States'}\n"
     ]
    },
    {
     "name": "stdout",
     "output_type": "stream",
     "text": [
      "2015-12-24 20:02:33,425 INFO sqlalchemy.engine.base.Engine \n",
      "            SELECT a.attname,\n",
      "              pg_catalog.format_type(a.atttypid, a.atttypmod),\n",
      "              (SELECT pg_catalog.pg_get_expr(d.adbin, d.adrelid)\n",
      "                FROM pg_catalog.pg_attrdef d\n",
      "               WHERE d.adrelid = a.attrelid AND d.adnum = a.attnum\n",
      "               AND a.atthasdef)\n",
      "              AS DEFAULT,\n",
      "              a.attnotnull, a.attnum, a.attrelid as table_oid\n",
      "            FROM pg_catalog.pg_attribute a\n",
      "            WHERE a.attrelid = %(table_oid)s\n",
      "            AND a.attnum > 0 AND NOT a.attisdropped\n",
      "            ORDER BY a.attnum\n",
      "        \n"
     ]
    },
    {
     "name": "stderr",
     "output_type": "stream",
     "text": [
      "INFO:sqlalchemy.engine.base.Engine:\n",
      "            SELECT a.attname,\n",
      "              pg_catalog.format_type(a.atttypid, a.atttypmod),\n",
      "              (SELECT pg_catalog.pg_get_expr(d.adbin, d.adrelid)\n",
      "                FROM pg_catalog.pg_attrdef d\n",
      "               WHERE d.adrelid = a.attrelid AND d.adnum = a.attnum\n",
      "               AND a.atthasdef)\n",
      "              AS DEFAULT,\n",
      "              a.attnotnull, a.attnum, a.attrelid as table_oid\n",
      "            FROM pg_catalog.pg_attribute a\n",
      "            WHERE a.attrelid = %(table_oid)s\n",
      "            AND a.attnum > 0 AND NOT a.attisdropped\n",
      "            ORDER BY a.attnum\n",
      "        \n"
     ]
    },
    {
     "name": "stdout",
     "output_type": "stream",
     "text": [
      "2015-12-24 20:02:33,426 INFO sqlalchemy.engine.base.Engine {'table_oid': 16419}\n"
     ]
    },
    {
     "name": "stderr",
     "output_type": "stream",
     "text": [
      "INFO:sqlalchemy.engine.base.Engine:{'table_oid': 16419}\n"
     ]
    },
    {
     "name": "stdout",
     "output_type": "stream",
     "text": [
      "2015-12-24 20:02:33,450 INFO sqlalchemy.engine.base.Engine \n",
      "            SELECT t.typname as \"name\",\n",
      "               pg_catalog.format_type(t.typbasetype, t.typtypmod) as \"attype\",\n",
      "               not t.typnotnull as \"nullable\",\n",
      "               t.typdefault as \"default\",\n",
      "               pg_catalog.pg_type_is_visible(t.oid) as \"visible\",\n",
      "               n.nspname as \"schema\"\n",
      "            FROM pg_catalog.pg_type t\n",
      "               LEFT JOIN pg_catalog.pg_namespace n ON n.oid = t.typnamespace\n",
      "            WHERE t.typtype = 'd'\n",
      "        \n"
     ]
    },
    {
     "name": "stderr",
     "output_type": "stream",
     "text": [
      "INFO:sqlalchemy.engine.base.Engine:\n",
      "            SELECT t.typname as \"name\",\n",
      "               pg_catalog.format_type(t.typbasetype, t.typtypmod) as \"attype\",\n",
      "               not t.typnotnull as \"nullable\",\n",
      "               t.typdefault as \"default\",\n",
      "               pg_catalog.pg_type_is_visible(t.oid) as \"visible\",\n",
      "               n.nspname as \"schema\"\n",
      "            FROM pg_catalog.pg_type t\n",
      "               LEFT JOIN pg_catalog.pg_namespace n ON n.oid = t.typnamespace\n",
      "            WHERE t.typtype = 'd'\n",
      "        \n"
     ]
    },
    {
     "name": "stdout",
     "output_type": "stream",
     "text": [
      "2015-12-24 20:02:33,451 INFO sqlalchemy.engine.base.Engine {}\n"
     ]
    },
    {
     "name": "stderr",
     "output_type": "stream",
     "text": [
      "INFO:sqlalchemy.engine.base.Engine:{}\n"
     ]
    },
    {
     "name": "stdout",
     "output_type": "stream",
     "text": [
      "2015-12-24 20:02:33,475 INFO sqlalchemy.engine.base.Engine \n",
      "            SELECT t.typname as \"name\",\n",
      "               -- no enum defaults in 8.4 at least\n",
      "               -- t.typdefault as \"default\",\n",
      "               pg_catalog.pg_type_is_visible(t.oid) as \"visible\",\n",
      "               n.nspname as \"schema\",\n",
      "               e.enumlabel as \"label\"\n",
      "            FROM pg_catalog.pg_type t\n",
      "                 LEFT JOIN pg_catalog.pg_namespace n ON n.oid = t.typnamespace\n",
      "                 LEFT JOIN pg_catalog.pg_enum e ON t.oid = e.enumtypid\n",
      "            WHERE t.typtype = 'e'\n",
      "        ORDER BY \"schema\", \"name\", e.oid\n"
     ]
    },
    {
     "name": "stderr",
     "output_type": "stream",
     "text": [
      "INFO:sqlalchemy.engine.base.Engine:\n",
      "            SELECT t.typname as \"name\",\n",
      "               -- no enum defaults in 8.4 at least\n",
      "               -- t.typdefault as \"default\",\n",
      "               pg_catalog.pg_type_is_visible(t.oid) as \"visible\",\n",
      "               n.nspname as \"schema\",\n",
      "               e.enumlabel as \"label\"\n",
      "            FROM pg_catalog.pg_type t\n",
      "                 LEFT JOIN pg_catalog.pg_namespace n ON n.oid = t.typnamespace\n",
      "                 LEFT JOIN pg_catalog.pg_enum e ON t.oid = e.enumtypid\n",
      "            WHERE t.typtype = 'e'\n",
      "        ORDER BY \"schema\", \"name\", e.oid\n"
     ]
    },
    {
     "name": "stdout",
     "output_type": "stream",
     "text": [
      "2015-12-24 20:02:33,476 INFO sqlalchemy.engine.base.Engine {}\n"
     ]
    },
    {
     "name": "stderr",
     "output_type": "stream",
     "text": [
      "INFO:sqlalchemy.engine.base.Engine:{}\n"
     ]
    },
    {
     "name": "stdout",
     "output_type": "stream",
     "text": [
      "2015-12-24 20:02:33,501 INFO sqlalchemy.engine.base.Engine \n",
      "                SELECT a.attname\n",
      "                FROM pg_attribute a JOIN (\n",
      "                    SELECT unnest(ix.indkey) attnum,\n",
      "                           generate_subscripts(ix.indkey, 1) ord\n",
      "                    FROM pg_index ix\n",
      "                    WHERE ix.indrelid = %(table_oid)s AND ix.indisprimary\n",
      "                    ) k ON a.attnum=k.attnum\n",
      "                WHERE a.attrelid = %(table_oid)s\n",
      "                ORDER BY k.ord\n",
      "            \n"
     ]
    },
    {
     "name": "stderr",
     "output_type": "stream",
     "text": [
      "INFO:sqlalchemy.engine.base.Engine:\n",
      "                SELECT a.attname\n",
      "                FROM pg_attribute a JOIN (\n",
      "                    SELECT unnest(ix.indkey) attnum,\n",
      "                           generate_subscripts(ix.indkey, 1) ord\n",
      "                    FROM pg_index ix\n",
      "                    WHERE ix.indrelid = %(table_oid)s AND ix.indisprimary\n",
      "                    ) k ON a.attnum=k.attnum\n",
      "                WHERE a.attrelid = %(table_oid)s\n",
      "                ORDER BY k.ord\n",
      "            \n"
     ]
    },
    {
     "name": "stdout",
     "output_type": "stream",
     "text": [
      "2015-12-24 20:02:33,502 INFO sqlalchemy.engine.base.Engine {'table_oid': 16419}\n"
     ]
    },
    {
     "name": "stderr",
     "output_type": "stream",
     "text": [
      "INFO:sqlalchemy.engine.base.Engine:{'table_oid': 16419}\n"
     ]
    },
    {
     "name": "stdout",
     "output_type": "stream",
     "text": [
      "2015-12-24 20:02:33,524 INFO sqlalchemy.engine.base.Engine \n",
      "        SELECT conname\n",
      "           FROM  pg_catalog.pg_constraint r\n",
      "           WHERE r.conrelid = %(table_oid)s AND r.contype = 'p'\n",
      "           ORDER BY 1\n",
      "        \n"
     ]
    },
    {
     "name": "stderr",
     "output_type": "stream",
     "text": [
      "INFO:sqlalchemy.engine.base.Engine:\n",
      "        SELECT conname\n",
      "           FROM  pg_catalog.pg_constraint r\n",
      "           WHERE r.conrelid = %(table_oid)s AND r.contype = 'p'\n",
      "           ORDER BY 1\n",
      "        \n"
     ]
    },
    {
     "name": "stdout",
     "output_type": "stream",
     "text": [
      "2015-12-24 20:02:33,525 INFO sqlalchemy.engine.base.Engine {'table_oid': 16419}\n"
     ]
    },
    {
     "name": "stderr",
     "output_type": "stream",
     "text": [
      "INFO:sqlalchemy.engine.base.Engine:{'table_oid': 16419}\n"
     ]
    },
    {
     "name": "stdout",
     "output_type": "stream",
     "text": [
      "2015-12-24 20:02:33,551 INFO sqlalchemy.engine.base.Engine \n",
      "          SELECT r.conname,\n",
      "                pg_catalog.pg_get_constraintdef(r.oid, true) as condef,\n",
      "                n.nspname as conschema\n",
      "          FROM  pg_catalog.pg_constraint r,\n",
      "                pg_namespace n,\n",
      "                pg_class c\n",
      "\n",
      "          WHERE r.conrelid = %(table)s AND\n",
      "                r.contype = 'f' AND\n",
      "                c.oid = confrelid AND\n",
      "                n.oid = c.relnamespace\n",
      "          ORDER BY 1\n",
      "        \n"
     ]
    },
    {
     "name": "stderr",
     "output_type": "stream",
     "text": [
      "INFO:sqlalchemy.engine.base.Engine:\n",
      "          SELECT r.conname,\n",
      "                pg_catalog.pg_get_constraintdef(r.oid, true) as condef,\n",
      "                n.nspname as conschema\n",
      "          FROM  pg_catalog.pg_constraint r,\n",
      "                pg_namespace n,\n",
      "                pg_class c\n",
      "\n",
      "          WHERE r.conrelid = %(table)s AND\n",
      "                r.contype = 'f' AND\n",
      "                c.oid = confrelid AND\n",
      "                n.oid = c.relnamespace\n",
      "          ORDER BY 1\n",
      "        \n"
     ]
    },
    {
     "name": "stdout",
     "output_type": "stream",
     "text": [
      "2015-12-24 20:02:33,552 INFO sqlalchemy.engine.base.Engine {'table': 16419}\n"
     ]
    },
    {
     "name": "stderr",
     "output_type": "stream",
     "text": [
      "INFO:sqlalchemy.engine.base.Engine:{'table': 16419}\n"
     ]
    },
    {
     "name": "stdout",
     "output_type": "stream",
     "text": [
      "2015-12-24 20:02:33,576 INFO sqlalchemy.engine.base.Engine \n",
      "              SELECT\n",
      "                  i.relname as relname,\n",
      "                  ix.indisunique, ix.indexprs, ix.indpred,\n",
      "                  a.attname, a.attnum, c.conrelid, ix.indkey::varchar,\n",
      "                  i.reloptions, am.amname\n",
      "              FROM\n",
      "                  pg_class t\n",
      "                        join pg_index ix on t.oid = ix.indrelid\n",
      "                        join pg_class i on i.oid = ix.indexrelid\n",
      "                        left outer join\n",
      "                            pg_attribute a\n",
      "                            on t.oid = a.attrelid and a.attnum = ANY(ix.indkey)\n",
      "                        left outer join\n",
      "                            pg_constraint c\n",
      "                            on (ix.indrelid = c.conrelid and\n",
      "                                ix.indexrelid = c.conindid and\n",
      "                                c.contype in ('p', 'u', 'x'))\n",
      "                        left outer join\n",
      "                            pg_am am\n",
      "                            on i.relam = am.oid\n",
      "              WHERE\n",
      "                  t.relkind IN ('r', 'v', 'f', 'm')\n",
      "                  and t.oid = %(table_oid)s\n",
      "                  and ix.indisprimary = 'f'\n",
      "              ORDER BY\n",
      "                  t.relname,\n",
      "                  i.relname\n",
      "            \n"
     ]
    },
    {
     "name": "stderr",
     "output_type": "stream",
     "text": [
      "INFO:sqlalchemy.engine.base.Engine:\n",
      "              SELECT\n",
      "                  i.relname as relname,\n",
      "                  ix.indisunique, ix.indexprs, ix.indpred,\n",
      "                  a.attname, a.attnum, c.conrelid, ix.indkey::varchar,\n",
      "                  i.reloptions, am.amname\n",
      "              FROM\n",
      "                  pg_class t\n",
      "                        join pg_index ix on t.oid = ix.indrelid\n",
      "                        join pg_class i on i.oid = ix.indexrelid\n",
      "                        left outer join\n",
      "                            pg_attribute a\n",
      "                            on t.oid = a.attrelid and a.attnum = ANY(ix.indkey)\n",
      "                        left outer join\n",
      "                            pg_constraint c\n",
      "                            on (ix.indrelid = c.conrelid and\n",
      "                                ix.indexrelid = c.conindid and\n",
      "                                c.contype in ('p', 'u', 'x'))\n",
      "                        left outer join\n",
      "                            pg_am am\n",
      "                            on i.relam = am.oid\n",
      "              WHERE\n",
      "                  t.relkind IN ('r', 'v', 'f', 'm')\n",
      "                  and t.oid = %(table_oid)s\n",
      "                  and ix.indisprimary = 'f'\n",
      "              ORDER BY\n",
      "                  t.relname,\n",
      "                  i.relname\n",
      "            \n"
     ]
    },
    {
     "name": "stdout",
     "output_type": "stream",
     "text": [
      "2015-12-24 20:02:33,577 INFO sqlalchemy.engine.base.Engine {'table_oid': 16419}\n"
     ]
    },
    {
     "name": "stderr",
     "output_type": "stream",
     "text": [
      "INFO:sqlalchemy.engine.base.Engine:{'table_oid': 16419}\n"
     ]
    },
    {
     "name": "stdout",
     "output_type": "stream",
     "text": [
      "2015-12-24 20:02:33,604 INFO sqlalchemy.engine.base.Engine \n",
      "            SELECT\n",
      "                cons.conname as name,\n",
      "                cons.conkey as key,\n",
      "                a.attnum as col_num,\n",
      "                a.attname as col_name\n",
      "            FROM\n",
      "                pg_catalog.pg_constraint cons\n",
      "                join pg_attribute a\n",
      "                  on cons.conrelid = a.attrelid AND\n",
      "                    a.attnum = ANY(cons.conkey)\n",
      "            WHERE\n",
      "                cons.conrelid = %(table_oid)s AND\n",
      "                cons.contype = 'u'\n",
      "        \n"
     ]
    },
    {
     "name": "stderr",
     "output_type": "stream",
     "text": [
      "INFO:sqlalchemy.engine.base.Engine:\n",
      "            SELECT\n",
      "                cons.conname as name,\n",
      "                cons.conkey as key,\n",
      "                a.attnum as col_num,\n",
      "                a.attname as col_name\n",
      "            FROM\n",
      "                pg_catalog.pg_constraint cons\n",
      "                join pg_attribute a\n",
      "                  on cons.conrelid = a.attrelid AND\n",
      "                    a.attnum = ANY(cons.conkey)\n",
      "            WHERE\n",
      "                cons.conrelid = %(table_oid)s AND\n",
      "                cons.contype = 'u'\n",
      "        \n"
     ]
    },
    {
     "name": "stdout",
     "output_type": "stream",
     "text": [
      "2015-12-24 20:02:33,605 INFO sqlalchemy.engine.base.Engine {'table_oid': 16419}\n"
     ]
    },
    {
     "name": "stderr",
     "output_type": "stream",
     "text": [
      "INFO:sqlalchemy.engine.base.Engine:{'table_oid': 16419}\n"
     ]
    },
    {
     "name": "stdout",
     "output_type": "stream",
     "text": [
      "2015-12-24 20:02:33,630 INFO sqlalchemy.engine.base.Engine \n",
      "            SELECT c.oid\n",
      "            FROM pg_catalog.pg_class c\n",
      "            LEFT JOIN pg_catalog.pg_namespace n ON n.oid = c.relnamespace\n",
      "            WHERE (pg_catalog.pg_table_is_visible(c.oid))\n",
      "            AND c.relname = %(table_name)s AND c.relkind in ('r', 'v', 'm', 'f')\n",
      "        \n"
     ]
    },
    {
     "name": "stderr",
     "output_type": "stream",
     "text": [
      "INFO:sqlalchemy.engine.base.Engine:\n",
      "            SELECT c.oid\n",
      "            FROM pg_catalog.pg_class c\n",
      "            LEFT JOIN pg_catalog.pg_namespace n ON n.oid = c.relnamespace\n",
      "            WHERE (pg_catalog.pg_table_is_visible(c.oid))\n",
      "            AND c.relname = %(table_name)s AND c.relkind in ('r', 'v', 'm', 'f')\n",
      "        \n"
     ]
    },
    {
     "name": "stdout",
     "output_type": "stream",
     "text": [
      "2015-12-24 20:02:33,631 INFO sqlalchemy.engine.base.Engine {'table_name': 'transactions'}\n"
     ]
    },
    {
     "name": "stderr",
     "output_type": "stream",
     "text": [
      "INFO:sqlalchemy.engine.base.Engine:{'table_name': 'transactions'}\n"
     ]
    },
    {
     "name": "stdout",
     "output_type": "stream",
     "text": [
      "2015-12-24 20:02:33,652 INFO sqlalchemy.engine.base.Engine \n",
      "            SELECT a.attname,\n",
      "              pg_catalog.format_type(a.atttypid, a.atttypmod),\n",
      "              (SELECT pg_catalog.pg_get_expr(d.adbin, d.adrelid)\n",
      "                FROM pg_catalog.pg_attrdef d\n",
      "               WHERE d.adrelid = a.attrelid AND d.adnum = a.attnum\n",
      "               AND a.atthasdef)\n",
      "              AS DEFAULT,\n",
      "              a.attnotnull, a.attnum, a.attrelid as table_oid\n",
      "            FROM pg_catalog.pg_attribute a\n",
      "            WHERE a.attrelid = %(table_oid)s\n",
      "            AND a.attnum > 0 AND NOT a.attisdropped\n",
      "            ORDER BY a.attnum\n",
      "        \n"
     ]
    },
    {
     "name": "stderr",
     "output_type": "stream",
     "text": [
      "INFO:sqlalchemy.engine.base.Engine:\n",
      "            SELECT a.attname,\n",
      "              pg_catalog.format_type(a.atttypid, a.atttypmod),\n",
      "              (SELECT pg_catalog.pg_get_expr(d.adbin, d.adrelid)\n",
      "                FROM pg_catalog.pg_attrdef d\n",
      "               WHERE d.adrelid = a.attrelid AND d.adnum = a.attnum\n",
      "               AND a.atthasdef)\n",
      "              AS DEFAULT,\n",
      "              a.attnotnull, a.attnum, a.attrelid as table_oid\n",
      "            FROM pg_catalog.pg_attribute a\n",
      "            WHERE a.attrelid = %(table_oid)s\n",
      "            AND a.attnum > 0 AND NOT a.attisdropped\n",
      "            ORDER BY a.attnum\n",
      "        \n"
     ]
    },
    {
     "name": "stdout",
     "output_type": "stream",
     "text": [
      "2015-12-24 20:02:33,653 INFO sqlalchemy.engine.base.Engine {'table_oid': 16426}\n"
     ]
    },
    {
     "name": "stderr",
     "output_type": "stream",
     "text": [
      "INFO:sqlalchemy.engine.base.Engine:{'table_oid': 16426}\n"
     ]
    },
    {
     "name": "stdout",
     "output_type": "stream",
     "text": [
      "2015-12-24 20:02:33,681 INFO sqlalchemy.engine.base.Engine \n",
      "            SELECT t.typname as \"name\",\n",
      "               pg_catalog.format_type(t.typbasetype, t.typtypmod) as \"attype\",\n",
      "               not t.typnotnull as \"nullable\",\n",
      "               t.typdefault as \"default\",\n",
      "               pg_catalog.pg_type_is_visible(t.oid) as \"visible\",\n",
      "               n.nspname as \"schema\"\n",
      "            FROM pg_catalog.pg_type t\n",
      "               LEFT JOIN pg_catalog.pg_namespace n ON n.oid = t.typnamespace\n",
      "            WHERE t.typtype = 'd'\n",
      "        \n"
     ]
    },
    {
     "name": "stderr",
     "output_type": "stream",
     "text": [
      "INFO:sqlalchemy.engine.base.Engine:\n",
      "            SELECT t.typname as \"name\",\n",
      "               pg_catalog.format_type(t.typbasetype, t.typtypmod) as \"attype\",\n",
      "               not t.typnotnull as \"nullable\",\n",
      "               t.typdefault as \"default\",\n",
      "               pg_catalog.pg_type_is_visible(t.oid) as \"visible\",\n",
      "               n.nspname as \"schema\"\n",
      "            FROM pg_catalog.pg_type t\n",
      "               LEFT JOIN pg_catalog.pg_namespace n ON n.oid = t.typnamespace\n",
      "            WHERE t.typtype = 'd'\n",
      "        \n"
     ]
    },
    {
     "name": "stdout",
     "output_type": "stream",
     "text": [
      "2015-12-24 20:02:33,682 INFO sqlalchemy.engine.base.Engine {}\n"
     ]
    },
    {
     "name": "stderr",
     "output_type": "stream",
     "text": [
      "INFO:sqlalchemy.engine.base.Engine:{}\n"
     ]
    },
    {
     "name": "stdout",
     "output_type": "stream",
     "text": [
      "2015-12-24 20:02:33,706 INFO sqlalchemy.engine.base.Engine \n",
      "            SELECT t.typname as \"name\",\n",
      "               -- no enum defaults in 8.4 at least\n",
      "               -- t.typdefault as \"default\",\n",
      "               pg_catalog.pg_type_is_visible(t.oid) as \"visible\",\n",
      "               n.nspname as \"schema\",\n",
      "               e.enumlabel as \"label\"\n",
      "            FROM pg_catalog.pg_type t\n",
      "                 LEFT JOIN pg_catalog.pg_namespace n ON n.oid = t.typnamespace\n",
      "                 LEFT JOIN pg_catalog.pg_enum e ON t.oid = e.enumtypid\n",
      "            WHERE t.typtype = 'e'\n",
      "        ORDER BY \"schema\", \"name\", e.oid\n"
     ]
    },
    {
     "name": "stderr",
     "output_type": "stream",
     "text": [
      "INFO:sqlalchemy.engine.base.Engine:\n",
      "            SELECT t.typname as \"name\",\n",
      "               -- no enum defaults in 8.4 at least\n",
      "               -- t.typdefault as \"default\",\n",
      "               pg_catalog.pg_type_is_visible(t.oid) as \"visible\",\n",
      "               n.nspname as \"schema\",\n",
      "               e.enumlabel as \"label\"\n",
      "            FROM pg_catalog.pg_type t\n",
      "                 LEFT JOIN pg_catalog.pg_namespace n ON n.oid = t.typnamespace\n",
      "                 LEFT JOIN pg_catalog.pg_enum e ON t.oid = e.enumtypid\n",
      "            WHERE t.typtype = 'e'\n",
      "        ORDER BY \"schema\", \"name\", e.oid\n"
     ]
    },
    {
     "name": "stdout",
     "output_type": "stream",
     "text": [
      "2015-12-24 20:02:33,707 INFO sqlalchemy.engine.base.Engine {}\n"
     ]
    },
    {
     "name": "stderr",
     "output_type": "stream",
     "text": [
      "INFO:sqlalchemy.engine.base.Engine:{}\n"
     ]
    },
    {
     "name": "stdout",
     "output_type": "stream",
     "text": [
      "2015-12-24 20:02:33,735 INFO sqlalchemy.engine.base.Engine \n",
      "                SELECT a.attname\n",
      "                FROM pg_attribute a JOIN (\n",
      "                    SELECT unnest(ix.indkey) attnum,\n",
      "                           generate_subscripts(ix.indkey, 1) ord\n",
      "                    FROM pg_index ix\n",
      "                    WHERE ix.indrelid = %(table_oid)s AND ix.indisprimary\n",
      "                    ) k ON a.attnum=k.attnum\n",
      "                WHERE a.attrelid = %(table_oid)s\n",
      "                ORDER BY k.ord\n",
      "            \n"
     ]
    },
    {
     "name": "stderr",
     "output_type": "stream",
     "text": [
      "INFO:sqlalchemy.engine.base.Engine:\n",
      "                SELECT a.attname\n",
      "                FROM pg_attribute a JOIN (\n",
      "                    SELECT unnest(ix.indkey) attnum,\n",
      "                           generate_subscripts(ix.indkey, 1) ord\n",
      "                    FROM pg_index ix\n",
      "                    WHERE ix.indrelid = %(table_oid)s AND ix.indisprimary\n",
      "                    ) k ON a.attnum=k.attnum\n",
      "                WHERE a.attrelid = %(table_oid)s\n",
      "                ORDER BY k.ord\n",
      "            \n"
     ]
    },
    {
     "name": "stdout",
     "output_type": "stream",
     "text": [
      "2015-12-24 20:02:33,736 INFO sqlalchemy.engine.base.Engine {'table_oid': 16426}\n"
     ]
    },
    {
     "name": "stderr",
     "output_type": "stream",
     "text": [
      "INFO:sqlalchemy.engine.base.Engine:{'table_oid': 16426}\n"
     ]
    },
    {
     "name": "stdout",
     "output_type": "stream",
     "text": [
      "2015-12-24 20:02:33,763 INFO sqlalchemy.engine.base.Engine \n",
      "        SELECT conname\n",
      "           FROM  pg_catalog.pg_constraint r\n",
      "           WHERE r.conrelid = %(table_oid)s AND r.contype = 'p'\n",
      "           ORDER BY 1\n",
      "        \n"
     ]
    },
    {
     "name": "stderr",
     "output_type": "stream",
     "text": [
      "INFO:sqlalchemy.engine.base.Engine:\n",
      "        SELECT conname\n",
      "           FROM  pg_catalog.pg_constraint r\n",
      "           WHERE r.conrelid = %(table_oid)s AND r.contype = 'p'\n",
      "           ORDER BY 1\n",
      "        \n"
     ]
    },
    {
     "name": "stdout",
     "output_type": "stream",
     "text": [
      "2015-12-24 20:02:33,765 INFO sqlalchemy.engine.base.Engine {'table_oid': 16426}\n"
     ]
    },
    {
     "name": "stderr",
     "output_type": "stream",
     "text": [
      "INFO:sqlalchemy.engine.base.Engine:{'table_oid': 16426}\n"
     ]
    },
    {
     "name": "stdout",
     "output_type": "stream",
     "text": [
      "2015-12-24 20:02:33,788 INFO sqlalchemy.engine.base.Engine \n",
      "          SELECT r.conname,\n",
      "                pg_catalog.pg_get_constraintdef(r.oid, true) as condef,\n",
      "                n.nspname as conschema\n",
      "          FROM  pg_catalog.pg_constraint r,\n",
      "                pg_namespace n,\n",
      "                pg_class c\n",
      "\n",
      "          WHERE r.conrelid = %(table)s AND\n",
      "                r.contype = 'f' AND\n",
      "                c.oid = confrelid AND\n",
      "                n.oid = c.relnamespace\n",
      "          ORDER BY 1\n",
      "        \n"
     ]
    },
    {
     "name": "stderr",
     "output_type": "stream",
     "text": [
      "INFO:sqlalchemy.engine.base.Engine:\n",
      "          SELECT r.conname,\n",
      "                pg_catalog.pg_get_constraintdef(r.oid, true) as condef,\n",
      "                n.nspname as conschema\n",
      "          FROM  pg_catalog.pg_constraint r,\n",
      "                pg_namespace n,\n",
      "                pg_class c\n",
      "\n",
      "          WHERE r.conrelid = %(table)s AND\n",
      "                r.contype = 'f' AND\n",
      "                c.oid = confrelid AND\n",
      "                n.oid = c.relnamespace\n",
      "          ORDER BY 1\n",
      "        \n"
     ]
    },
    {
     "name": "stdout",
     "output_type": "stream",
     "text": [
      "2015-12-24 20:02:33,789 INFO sqlalchemy.engine.base.Engine {'table': 16426}\n"
     ]
    },
    {
     "name": "stderr",
     "output_type": "stream",
     "text": [
      "INFO:sqlalchemy.engine.base.Engine:{'table': 16426}\n"
     ]
    },
    {
     "name": "stdout",
     "output_type": "stream",
     "text": [
      "2015-12-24 20:02:33,814 INFO sqlalchemy.engine.base.Engine \n",
      "              SELECT\n",
      "                  i.relname as relname,\n",
      "                  ix.indisunique, ix.indexprs, ix.indpred,\n",
      "                  a.attname, a.attnum, c.conrelid, ix.indkey::varchar,\n",
      "                  i.reloptions, am.amname\n",
      "              FROM\n",
      "                  pg_class t\n",
      "                        join pg_index ix on t.oid = ix.indrelid\n",
      "                        join pg_class i on i.oid = ix.indexrelid\n",
      "                        left outer join\n",
      "                            pg_attribute a\n",
      "                            on t.oid = a.attrelid and a.attnum = ANY(ix.indkey)\n",
      "                        left outer join\n",
      "                            pg_constraint c\n",
      "                            on (ix.indrelid = c.conrelid and\n",
      "                                ix.indexrelid = c.conindid and\n",
      "                                c.contype in ('p', 'u', 'x'))\n",
      "                        left outer join\n",
      "                            pg_am am\n",
      "                            on i.relam = am.oid\n",
      "              WHERE\n",
      "                  t.relkind IN ('r', 'v', 'f', 'm')\n",
      "                  and t.oid = %(table_oid)s\n",
      "                  and ix.indisprimary = 'f'\n",
      "              ORDER BY\n",
      "                  t.relname,\n",
      "                  i.relname\n",
      "            \n"
     ]
    },
    {
     "name": "stderr",
     "output_type": "stream",
     "text": [
      "INFO:sqlalchemy.engine.base.Engine:\n",
      "              SELECT\n",
      "                  i.relname as relname,\n",
      "                  ix.indisunique, ix.indexprs, ix.indpred,\n",
      "                  a.attname, a.attnum, c.conrelid, ix.indkey::varchar,\n",
      "                  i.reloptions, am.amname\n",
      "              FROM\n",
      "                  pg_class t\n",
      "                        join pg_index ix on t.oid = ix.indrelid\n",
      "                        join pg_class i on i.oid = ix.indexrelid\n",
      "                        left outer join\n",
      "                            pg_attribute a\n",
      "                            on t.oid = a.attrelid and a.attnum = ANY(ix.indkey)\n",
      "                        left outer join\n",
      "                            pg_constraint c\n",
      "                            on (ix.indrelid = c.conrelid and\n",
      "                                ix.indexrelid = c.conindid and\n",
      "                                c.contype in ('p', 'u', 'x'))\n",
      "                        left outer join\n",
      "                            pg_am am\n",
      "                            on i.relam = am.oid\n",
      "              WHERE\n",
      "                  t.relkind IN ('r', 'v', 'f', 'm')\n",
      "                  and t.oid = %(table_oid)s\n",
      "                  and ix.indisprimary = 'f'\n",
      "              ORDER BY\n",
      "                  t.relname,\n",
      "                  i.relname\n",
      "            \n"
     ]
    },
    {
     "name": "stdout",
     "output_type": "stream",
     "text": [
      "2015-12-24 20:02:33,815 INFO sqlalchemy.engine.base.Engine {'table_oid': 16426}\n"
     ]
    },
    {
     "name": "stderr",
     "output_type": "stream",
     "text": [
      "INFO:sqlalchemy.engine.base.Engine:{'table_oid': 16426}\n"
     ]
    },
    {
     "name": "stdout",
     "output_type": "stream",
     "text": [
      "2015-12-24 20:02:33,839 INFO sqlalchemy.engine.base.Engine \n",
      "            SELECT\n",
      "                cons.conname as name,\n",
      "                cons.conkey as key,\n",
      "                a.attnum as col_num,\n",
      "                a.attname as col_name\n",
      "            FROM\n",
      "                pg_catalog.pg_constraint cons\n",
      "                join pg_attribute a\n",
      "                  on cons.conrelid = a.attrelid AND\n",
      "                    a.attnum = ANY(cons.conkey)\n",
      "            WHERE\n",
      "                cons.conrelid = %(table_oid)s AND\n",
      "                cons.contype = 'u'\n",
      "        \n"
     ]
    },
    {
     "name": "stderr",
     "output_type": "stream",
     "text": [
      "INFO:sqlalchemy.engine.base.Engine:\n",
      "            SELECT\n",
      "                cons.conname as name,\n",
      "                cons.conkey as key,\n",
      "                a.attnum as col_num,\n",
      "                a.attname as col_name\n",
      "            FROM\n",
      "                pg_catalog.pg_constraint cons\n",
      "                join pg_attribute a\n",
      "                  on cons.conrelid = a.attrelid AND\n",
      "                    a.attnum = ANY(cons.conkey)\n",
      "            WHERE\n",
      "                cons.conrelid = %(table_oid)s AND\n",
      "                cons.contype = 'u'\n",
      "        \n"
     ]
    },
    {
     "name": "stdout",
     "output_type": "stream",
     "text": [
      "2015-12-24 20:02:33,840 INFO sqlalchemy.engine.base.Engine {'table_oid': 16426}\n"
     ]
    },
    {
     "name": "stderr",
     "output_type": "stream",
     "text": [
      "INFO:sqlalchemy.engine.base.Engine:{'table_oid': 16426}\n"
     ]
    }
   ],
   "source": [
    "meta.reflect(engine)"
   ]
  },
  {
   "cell_type": "code",
   "execution_count": 16,
   "metadata": {
    "collapsed": false,
    "scrolled": true
   },
   "outputs": [
    {
     "name": "stdout",
     "output_type": "stream",
     "text": [
      "sctg\n",
      "state_latlon\n",
      "FIPS_States\n",
      "cfs_areas\n",
      "transport_mode\n",
      "transactions\n"
     ]
    }
   ],
   "source": [
    "for table in meta.tables:\n",
    "    print(table)"
   ]
  },
  {
   "cell_type": "code",
   "execution_count": 16,
   "metadata": {
    "collapsed": true
   },
   "outputs": [],
   "source": [
    "transactions = meta.tables['transactions']\n",
    "\n",
    "state_latlon = meta.tables['state_latlon']\n",
    "\n",
    "cfs_areas    = meta.tables['cfs_areas']\n",
    "FIPS_States  = meta.tables['FIPS_States']\n",
    "transport_mode = meta.tables['transport_mode']\n",
    "sctg         = meta.tables['sctg']"
   ]
  },
  {
   "cell_type": "code",
   "execution_count": 18,
   "metadata": {
    "collapsed": false
   },
   "outputs": [
    {
     "name": "stdout",
     "output_type": "stream",
     "text": [
      "2015-12-23 20:02:22,614 INFO sqlalchemy.engine.base.Engine SELECT sctg.\"SCTG\", sctg.\"Description\" \n",
      "FROM sctg\n"
     ]
    },
    {
     "name": "stderr",
     "output_type": "stream",
     "text": [
      "INFO:sqlalchemy.engine.base.Engine:SELECT sctg.\"SCTG\", sctg.\"Description\" \n",
      "FROM sctg\n"
     ]
    },
    {
     "name": "stdout",
     "output_type": "stream",
     "text": [
      "2015-12-23 20:02:22,616 INFO sqlalchemy.engine.base.Engine {}\n"
     ]
    },
    {
     "name": "stderr",
     "output_type": "stream",
     "text": [
      "INFO:sqlalchemy.engine.base.Engine:{}\n"
     ]
    }
   ],
   "source": [
    "s = select([sctg])\n",
    "r = conn.execute(s)"
   ]
  },
  {
   "cell_type": "code",
   "execution_count": 19,
   "metadata": {
    "collapsed": false
   },
   "outputs": [
    {
     "name": "stdout",
     "output_type": "stream",
     "text": [
      "Animals and Fish (live) 1\n",
      "Cereal Grains (includes seed) 2\n",
      "Agricultural Products (excludes Animal Feed, Cereal Grains, and Forage Products) 3\n",
      "Animal Feed, Eggs, Honey, and Other Products of Animal Origin 4\n",
      "Meat, Poultry, Fish, Seafood, and Their Preparations 5\n",
      "Milled Grain Products and Preparations, and Bakery Products 6\n",
      "Other Prepared Foodstuffs, and Fats and Oils 7\n",
      "Alcoholic Beverages and Denatured Alcohol 8\n",
      "Tobacco Products 9\n",
      "Monumental or Building Stone 10\n",
      "Natural Sands 11\n",
      "Gravel and Crushed Stone (excludes Dolomite and Slate) 12\n",
      "Other Non-Metallic Minerals not elsewhere classified 13\n",
      "Metallic Ores and Concentrates 14\n",
      "Coal 15\n",
      "Crude Petroleum 16\n",
      "Gasoline, Aviation Turbine Fuel, and Ethanol (includes Kerosene, and Fuel Alcohols) 17\n",
      "Fuel Oils (includes Diesel, Bunker C, and Biodiesel) 18\n",
      "Other Coal and Petroleum Products, not elsewhere classified 19\n",
      "Basic Chemicals 20\n",
      "Pharmaceutical Products 21\n",
      "Fertilizers 22\n",
      "Other Chemical Products and Preparations 23\n",
      "Plastics and Rubber 24\n",
      "Logs and Other Wood in the Rough 25\n",
      "Wood Products 26\n",
      "Pulp, Newsprint, Paper, and Paperboard 27\n",
      "Paper or Paperboard Articles 28\n",
      "Printed Products 29\n",
      "Textiles, Leather, and Articles of Textiles or Leather 30\n",
      "Non-Metallic Mineral Products 31\n",
      "Base Metal in Primary or Semi-Finished Forms and in Finished Basic Shapes 32\n",
      "Articles of Base Metal 33\n",
      "Machinery 34\n",
      "Electronic and Other Electrical Equipment and Components, and Office Equipment 35\n",
      "Motorized and Other Vehicles (includes parts) 36\n",
      "Transportation Equipment, not elsewhere classified 37\n",
      "Precision Instruments and Apparatus 38\n",
      "Furniture, Mattresses and Mattress Supports, Lamps, Lighting Fittings, and Illuminated Signs 39\n",
      "Miscellaneous Manufactured Products 40\n",
      "Waste and Scrap (excludes of agriculture or food, see 041xx) 41\n",
      "Mixed Freight 43\n",
      "Missing Code 99\n",
      "SCTG suppressed 0\n"
     ]
    }
   ],
   "source": [
    "for row in r:\n",
    "    print(row[sctg.c.Description], row[sctg.c.SCTG])\n",
    "r.close()"
   ]
  },
  {
   "cell_type": "markdown",
   "metadata": {},
   "source": [
    "### Joins"
   ]
  },
  {
   "cell_type": "code",
   "execution_count": null,
   "metadata": {
    "collapsed": false
   },
   "outputs": [],
   "source": [
    "# join fips states with avg lat lon\n",
    "for row in conn.execute(select([state_latlon, FIPS_States]).where(state_latlon.c.state == FIPS_States.c.get('Alpha code'))):\n",
    "    print(row)"
   ]
  },
  {
   "cell_type": "code",
   "execution_count": null,
   "metadata": {
    "collapsed": false
   },
   "outputs": [],
   "source": [
    "FIPS_States.columns.get('Alpha code')"
   ]
  },
  {
   "cell_type": "markdown",
   "metadata": {},
   "source": [
    "### operators\n",
    "SQL Alchemy converts python predicates to sql predicates. So you can describe everything in a pythonic sense."
   ]
  },
  {
   "cell_type": "code",
   "execution_count": 20,
   "metadata": {
    "collapsed": false
   },
   "outputs": [
    {
     "name": "stdout",
     "output_type": "stream",
     "text": [
      "\"FIPS_States\".\"Alpha code\" = :Alpha code_1\n",
      "\"FIPS_States\".\"Alpha code\" < :Alpha code_1 AND \"FIPS_States\".\"Alpha code\" > :Alpha code_2\n"
     ]
    }
   ],
   "source": [
    "print((FIPS_States.c.get('Alpha code') == 'KK').compile())\n",
    "print(((FIPS_States.c.get('Alpha code') < 'CA') & ('NY' < FIPS_States.c.get('Alpha code'))).compile())"
   ]
  },
  {
   "cell_type": "code",
   "execution_count": 21,
   "metadata": {
    "collapsed": false
   },
   "outputs": [
    {
     "data": {
      "text/plain": [
       "['SHIPMT_ID',\n",
       " 'ORIG_STATE',\n",
       " 'ORIG_MA',\n",
       " 'ORIG_CFS_AREA',\n",
       " 'DEST_STATE',\n",
       " 'DEST_MA',\n",
       " 'DEST_CFS_AREA',\n",
       " 'NAICS',\n",
       " 'QUARTER',\n",
       " 'SCTG',\n",
       " 'MODE',\n",
       " 'SHIPMT_VALUE',\n",
       " 'SHIPMT_WGHT',\n",
       " 'SHIPMT_DIST_GC',\n",
       " 'SHIPMT_DIST_ROUTED',\n",
       " 'TEMP_CNTL_YN',\n",
       " 'EXPORT_YN',\n",
       " 'EXPORT_CNTRY',\n",
       " 'HAZMAT',\n",
       " 'WGT_FACTOR']"
      ]
     },
     "execution_count": 21,
     "metadata": {},
     "output_type": "execute_result"
    }
   ],
   "source": [
    "transactions.columns.keys()"
   ]
  },
  {
   "cell_type": "code",
   "execution_count": 22,
   "metadata": {
    "collapsed": false
   },
   "outputs": [
    {
     "name": "stdout",
     "output_type": "stream",
     "text": [
      "2015-12-23 20:02:37,911 INFO sqlalchemy.engine.base.Engine SELECT transactions.\"SHIPMT_ID\", transactions.\"ORIG_STATE\", transactions.\"ORIG_MA\", transactions.\"ORIG_CFS_AREA\", transactions.\"DEST_STATE\", transactions.\"DEST_MA\", transactions.\"DEST_CFS_AREA\", transactions.\"NAICS\", transactions.\"QUARTER\", transactions.\"SCTG\", transactions.\"MODE\", transactions.\"SHIPMT_VALUE\", transactions.\"SHIPMT_WGHT\", transactions.\"SHIPMT_DIST_GC\", transactions.\"SHIPMT_DIST_ROUTED\", transactions.\"TEMP_CNTL_YN\", transactions.\"EXPORT_YN\", transactions.\"EXPORT_CNTRY\", transactions.\"HAZMAT\", transactions.\"WGT_FACTOR\" \n",
      "FROM transactions \n",
      " LIMIT %(param_1)s\n"
     ]
    },
    {
     "name": "stderr",
     "output_type": "stream",
     "text": [
      "INFO:sqlalchemy.engine.base.Engine:SELECT transactions.\"SHIPMT_ID\", transactions.\"ORIG_STATE\", transactions.\"ORIG_MA\", transactions.\"ORIG_CFS_AREA\", transactions.\"DEST_STATE\", transactions.\"DEST_MA\", transactions.\"DEST_CFS_AREA\", transactions.\"NAICS\", transactions.\"QUARTER\", transactions.\"SCTG\", transactions.\"MODE\", transactions.\"SHIPMT_VALUE\", transactions.\"SHIPMT_WGHT\", transactions.\"SHIPMT_DIST_GC\", transactions.\"SHIPMT_DIST_ROUTED\", transactions.\"TEMP_CNTL_YN\", transactions.\"EXPORT_YN\", transactions.\"EXPORT_CNTRY\", transactions.\"HAZMAT\", transactions.\"WGT_FACTOR\" \n",
      "FROM transactions \n",
      " LIMIT %(param_1)s\n"
     ]
    },
    {
     "name": "stdout",
     "output_type": "stream",
     "text": [
      "2015-12-23 20:02:37,913 INFO sqlalchemy.engine.base.Engine {'param_1': 10}\n"
     ]
    },
    {
     "name": "stderr",
     "output_type": "stream",
     "text": [
      "INFO:sqlalchemy.engine.base.Engine:{'param_1': 10}\n"
     ]
    },
    {
     "name": "stdout",
     "output_type": "stream",
     "text": [
      "[('SHIPMT_ID', 2992662), ('ORIG_STATE', 39), ('ORIG_MA', 198), ('ORIG_CFS_AREA', '39-198'), ('DEST_STATE', 24), ('DEST_MA', 12580), ('DEST_CFS_AREA', '24-12580'), ('NAICS', 335), ('QUARTER', 3), ('SCTG', '33'), ('MODE', 14), ('SHIPMT_VALUE', 147), ('SHIPMT_WGHT', 3), ('SHIPMT_DIST_GC', 339), ('SHIPMT_DIST_ROUTED', 412), ('TEMP_CNTL_YN', 'N'), ('EXPORT_YN', 'N'), ('EXPORT_CNTRY', 'N'), ('HAZMAT', 'N'), ('WGT_FACTOR', 432.9)]\n",
      "[('SHIPMT_ID', 2992663), ('ORIG_STATE', 48), ('ORIG_MA', 41700), ('ORIG_CFS_AREA', '48-41700'), ('DEST_STATE', 36), ('DEST_MA', 408), ('DEST_CFS_AREA', '36-408'), ('NAICS', 321), ('QUARTER', 4), ('SCTG', '26'), ('MODE', 4), ('SHIPMT_VALUE', 6737), ('SHIPMT_WGHT', 2793), ('SHIPMT_DIST_GC', 1570), ('SHIPMT_DIST_ROUTED', 1821), ('TEMP_CNTL_YN', 'N'), ('EXPORT_YN', 'N'), ('EXPORT_CNTRY', 'N'), ('HAZMAT', 'N'), ('WGT_FACTOR', 55.6)]\n",
      "[('SHIPMT_ID', 2992664), ('ORIG_STATE', 46), ('ORIG_MA', 99999), ('ORIG_CFS_AREA', '46-99999'), ('DEST_STATE', 46), ('DEST_MA', 99999), ('DEST_CFS_AREA', '46-99999'), ('NAICS', 5111), ('QUARTER', 3), ('SCTG', '29'), ('MODE', 5), ('SHIPMT_VALUE', 16), ('SHIPMT_WGHT', 5), ('SHIPMT_DIST_GC', 14), ('SHIPMT_DIST_ROUTED', 14), ('TEMP_CNTL_YN', 'N'), ('EXPORT_YN', 'N'), ('EXPORT_CNTRY', 'N'), ('HAZMAT', 'N'), ('WGT_FACTOR', 193.1)]\n",
      "[('SHIPMT_ID', 2992665), ('ORIG_STATE', 51), ('ORIG_MA', 545), ('ORIG_CFS_AREA', '51-545'), ('DEST_STATE', 56), ('DEST_MA', 99999), ('DEST_CFS_AREA', '56-99999'), ('NAICS', 4243), ('QUARTER', 1), ('SCTG', '40'), ('MODE', 14), ('SHIPMT_VALUE', 64), ('SHIPMT_WGHT', 1), ('SHIPMT_DIST_GC', 1757), ('SHIPMT_DIST_ROUTED', 2063), ('TEMP_CNTL_YN', 'N'), ('EXPORT_YN', 'N'), ('EXPORT_CNTRY', 'N'), ('HAZMAT', 'N'), ('WGT_FACTOR', 52.2)]\n",
      "[('SHIPMT_ID', 2992666), ('ORIG_STATE', 24), ('ORIG_MA', 12580), ('ORIG_CFS_AREA', '24-12580'), ('DEST_STATE', 36), ('DEST_MA', 408), ('DEST_CFS_AREA', '36-408'), ('NAICS', 336), ('QUARTER', 2), ('SCTG', '37'), ('MODE', 4), ('SHIPMT_VALUE', 763), ('SHIPMT_WGHT', 3), ('SHIPMT_DIST_GC', 182), ('SHIPMT_DIST_ROUTED', 222), ('TEMP_CNTL_YN', 'N'), ('EXPORT_YN', 'N'), ('EXPORT_CNTRY', 'N'), ('HAZMAT', 'N'), ('WGT_FACTOR', 189.1)]\n",
      "[('SHIPMT_ID', 2992667), ('ORIG_STATE', 36), ('ORIG_MA', 160), ('ORIG_CFS_AREA', '36-160'), ('DEST_STATE', 34), ('DEST_MA', 408), ('DEST_CFS_AREA', '34-408'), ('NAICS', 4238), ('QUARTER', 4), ('SCTG', '24'), ('MODE', 4), ('SHIPMT_VALUE', 30), ('SHIPMT_WGHT', 20), ('SHIPMT_DIST_GC', 274), ('SHIPMT_DIST_ROUTED', 381), ('TEMP_CNTL_YN', 'N'), ('EXPORT_YN', 'N'), ('EXPORT_CNTRY', 'N'), ('HAZMAT', 'N'), ('WGT_FACTOR', 141.9)]\n",
      "[('SHIPMT_ID', 2992668), ('ORIG_STATE', 6), ('ORIG_MA', 348), ('ORIG_CFS_AREA', '06-348'), ('DEST_STATE', 17), ('DEST_MA', 99999), ('DEST_CFS_AREA', '17-99999'), ('NAICS', 4232), ('QUARTER', 3), ('SCTG', '40'), ('MODE', 14), ('SHIPMT_VALUE', 56), ('SHIPMT_WGHT', 9), ('SHIPMT_DIST_GC', 1613), ('SHIPMT_DIST_ROUTED', 1896), ('TEMP_CNTL_YN', 'N'), ('EXPORT_YN', 'N'), ('EXPORT_CNTRY', 'N'), ('HAZMAT', 'N'), ('WGT_FACTOR', 712.7)]\n",
      "[('SHIPMT_ID', 2992669), ('ORIG_STATE', 48), ('ORIG_MA', 288), ('ORIG_CFS_AREA', '48-288'), ('DEST_STATE', 22), ('DEST_MA', 99999), ('DEST_CFS_AREA', '22-99999'), ('NAICS', 333), ('QUARTER', 4), ('SCTG', '34'), ('MODE', 5), ('SHIPMT_VALUE', 889), ('SHIPMT_WGHT', 5), ('SHIPMT_DIST_GC', 264), ('SHIPMT_DIST_ROUTED', 302), ('TEMP_CNTL_YN', 'N'), ('EXPORT_YN', 'N'), ('EXPORT_CNTRY', 'N'), ('HAZMAT', 'N'), ('WGT_FACTOR', 53.6)]\n",
      "[('SHIPMT_ID', 2992670), ('ORIG_STATE', 20), ('ORIG_MA', 556), ('ORIG_CFS_AREA', '20-556'), ('DEST_STATE', 48), ('DEST_MA', 206), ('DEST_CFS_AREA', '48-206'), ('NAICS', 336), ('QUARTER', 4), ('SCTG', '37'), ('MODE', 14), ('SHIPMT_VALUE', 2444), ('SHIPMT_WGHT', 13), ('SHIPMT_DIST_GC', 368), ('SHIPMT_DIST_ROUTED', 417), ('TEMP_CNTL_YN', 'N'), ('EXPORT_YN', 'N'), ('EXPORT_CNTRY', 'N'), ('HAZMAT', 'N'), ('WGT_FACTOR', 293.7)]\n",
      "[('SHIPMT_ID', 2992671), ('ORIG_STATE', 17), ('ORIG_MA', 99999), ('ORIG_CFS_AREA', '17-99999'), ('DEST_STATE', 19), ('DEST_MA', 99999), ('DEST_CFS_AREA', '19-99999'), ('NAICS', 4239), ('QUARTER', 4), ('SCTG', '41'), ('MODE', 4), ('SHIPMT_VALUE', 7493), ('SHIPMT_WGHT', 44771), ('SHIPMT_DIST_GC', 73), ('SHIPMT_DIST_ROUTED', 81), ('TEMP_CNTL_YN', 'N'), ('EXPORT_YN', 'N'), ('EXPORT_CNTRY', 'N'), ('HAZMAT', 'N'), ('WGT_FACTOR', 264.7)]\n"
     ]
    }
   ],
   "source": [
    "for row in conn.execute(select([transactions]).limit(10)).fetchall():\n",
    "    print(row.items())"
   ]
  },
  {
   "cell_type": "code",
   "execution_count": 17,
   "metadata": {
    "collapsed": false
   },
   "outputs": [
    {
     "name": "stdout",
     "output_type": "stream",
     "text": [
      "2015-12-24 20:02:47,239 INFO sqlalchemy.engine.base.Engine SELECT transactions.\"SHIPMT_ID\", transactions.\"ORIG_STATE\", transactions.\"ORIG_MA\", transactions.\"ORIG_CFS_AREA\", transactions.\"DEST_STATE\", transactions.\"DEST_MA\", transactions.\"DEST_CFS_AREA\", transactions.\"NAICS\", transactions.\"QUARTER\", transactions.\"SCTG\", transactions.\"MODE\", transactions.\"SHIPMT_VALUE\", transactions.\"SHIPMT_WGHT\", transactions.\"SHIPMT_DIST_GC\", transactions.\"SHIPMT_DIST_ROUTED\", transactions.\"TEMP_CNTL_YN\", transactions.\"EXPORT_YN\", transactions.\"EXPORT_CNTRY\", transactions.\"HAZMAT\", transactions.\"WGT_FACTOR\" \n",
      "FROM transactions \n",
      " LIMIT %(param_1)s\n"
     ]
    },
    {
     "name": "stderr",
     "output_type": "stream",
     "text": [
      "INFO:sqlalchemy.engine.base.Engine:SELECT transactions.\"SHIPMT_ID\", transactions.\"ORIG_STATE\", transactions.\"ORIG_MA\", transactions.\"ORIG_CFS_AREA\", transactions.\"DEST_STATE\", transactions.\"DEST_MA\", transactions.\"DEST_CFS_AREA\", transactions.\"NAICS\", transactions.\"QUARTER\", transactions.\"SCTG\", transactions.\"MODE\", transactions.\"SHIPMT_VALUE\", transactions.\"SHIPMT_WGHT\", transactions.\"SHIPMT_DIST_GC\", transactions.\"SHIPMT_DIST_ROUTED\", transactions.\"TEMP_CNTL_YN\", transactions.\"EXPORT_YN\", transactions.\"EXPORT_CNTRY\", transactions.\"HAZMAT\", transactions.\"WGT_FACTOR\" \n",
      "FROM transactions \n",
      " LIMIT %(param_1)s\n"
     ]
    },
    {
     "name": "stdout",
     "output_type": "stream",
     "text": [
      "2015-12-24 20:02:47,241 INFO sqlalchemy.engine.base.Engine {'param_1': 10}\n"
     ]
    },
    {
     "name": "stderr",
     "output_type": "stream",
     "text": [
      "INFO:sqlalchemy.engine.base.Engine:{'param_1': 10}\n"
     ]
    }
   ],
   "source": [
    "# to get a list of dicts per row\n",
    "get_row = lambda row: (dict(row.items()))\n",
    "get_rows = lambda row_list: map(get_row, row_list)\n",
    "\n",
    "list_of_dicts = [dict(row.items()) for row in conn.execute(select([transactions]).limit(10)).fetchall()]"
   ]
  },
  {
   "cell_type": "markdown",
   "metadata": {},
   "source": [
    "### Conjunctions\n",
    "Conjunctions can be used to perform and, or, not operations in sql."
   ]
  },
  {
   "cell_type": "code",
   "execution_count": 24,
   "metadata": {
    "collapsed": false
   },
   "outputs": [],
   "source": [
    "# get all states that lie above the 35N, and less than -104 longitude\n",
    "\n",
    "# first join the fips and state_latlons\n",
    "j = FIPS_States.join(\n",
    "    state_latlon, \n",
    "    onclause= FIPS_States.c.get(\"Alpha code\") == state_latlon.c.state)\n",
    "\n",
    "# now select from this join\n",
    "s = (select([FIPS_States, state_latlon])\n",
    "     .where(\n",
    "        and_(\n",
    "            state_latlon.c.latitude > 36.2,\n",
    "            state_latlon.c.longitude < -104\n",
    "        )\n",
    "    ).select_from(j)\n",
    ")"
   ]
  },
  {
   "cell_type": "code",
   "execution_count": 25,
   "metadata": {
    "collapsed": false
   },
   "outputs": [
    {
     "name": "stdout",
     "output_type": "stream",
     "text": [
      "2015-12-23 20:02:43,319 INFO sqlalchemy.engine.base.Engine SELECT \"FIPS_States\".\"Name\", \"FIPS_States\".\"Alpha code\", \"FIPS_States\".\"Numeric code\", \"FIPS_States\".\"Status\", state_latlon.state, state_latlon.latitude, state_latlon.longitude \n",
      "FROM \"FIPS_States\" JOIN state_latlon ON \"FIPS_States\".\"Alpha code\" = state_latlon.state \n",
      "WHERE state_latlon.latitude > %(latitude_1)s AND state_latlon.longitude < %(longitude_1)s\n"
     ]
    },
    {
     "name": "stderr",
     "output_type": "stream",
     "text": [
      "INFO:sqlalchemy.engine.base.Engine:SELECT \"FIPS_States\".\"Name\", \"FIPS_States\".\"Alpha code\", \"FIPS_States\".\"Numeric code\", \"FIPS_States\".\"Status\", state_latlon.state, state_latlon.latitude, state_latlon.longitude \n",
      "FROM \"FIPS_States\" JOIN state_latlon ON \"FIPS_States\".\"Alpha code\" = state_latlon.state \n",
      "WHERE state_latlon.latitude > %(latitude_1)s AND state_latlon.longitude < %(longitude_1)s\n"
     ]
    },
    {
     "name": "stdout",
     "output_type": "stream",
     "text": [
      "2015-12-23 20:02:43,320 INFO sqlalchemy.engine.base.Engine {'longitude_1': -104, 'latitude_1': 36.2}\n"
     ]
    },
    {
     "name": "stderr",
     "output_type": "stream",
     "text": [
      "INFO:sqlalchemy.engine.base.Engine:{'longitude_1': -104, 'latitude_1': 36.2}\n"
     ]
    },
    {
     "data": {
      "text/plain": [
       "[('Alaska', 'AK', 2, 'State;\\xa0boroughs', 'AK', 61.385, -152.2683),\n",
       " ('Colorado', 'CO', 8, 'State;\\xa0counties', 'CO', 39.0646, -105.3272),\n",
       " ('Idaho', 'ID', 16, 'State;\\xa0counties', 'ID', 44.2394, -114.5103),\n",
       " ('Montana', 'MT', 30, 'State;\\xa0counties', 'MT', 46.9048, -110.3261),\n",
       " ('Nevada', 'NV', 32, 'State;\\xa0counties', 'NV', 38.4199, -117.1219),\n",
       " ('Oregon', 'OR', 41, 'State;\\xa0counties', 'OR', 44.5672, -122.1269),\n",
       " ('Utah', 'UT', 49, 'State;\\xa0counties', 'UT', 40.1135, -111.8535),\n",
       " ('Washington', 'WA', 53, 'State;\\xa0counties', 'WA', 47.3917, -121.5708),\n",
       " ('Wyoming', 'WY', 56, 'State;\\xa0counties', 'WY', 42.7475, -107.2085)]"
      ]
     },
     "execution_count": 25,
     "metadata": {},
     "output_type": "execute_result"
    }
   ],
   "source": [
    "conn.execute(s).fetchall()"
   ]
  },
  {
   "cell_type": "code",
   "execution_count": 26,
   "metadata": {
    "collapsed": true
   },
   "outputs": [],
   "source": [
    "# now get those along with all the states in the bottom right corner of the US\n",
    "# delinieated by below 35N and right of 88W\n",
    "s = (select([FIPS_States, state_latlon])\n",
    "     .where(or_(\n",
    "        and_(\n",
    "            state_latlon.c.latitude > 36.2,\n",
    "            state_latlon.c.longitude < -104\n",
    "        ),\n",
    "        and_(\n",
    "            state_latlon.c.latitude < 35,\n",
    "            state_latlon.c.longitude > -88)\n",
    "        )\n",
    "    ).select_from(j)\n",
    ")"
   ]
  },
  {
   "cell_type": "code",
   "execution_count": 27,
   "metadata": {
    "collapsed": false
   },
   "outputs": [
    {
     "name": "stdout",
     "output_type": "stream",
     "text": [
      "'SELECT \"FIPS_States\".\"Name\", \"FIPS_States\".\"Alpha code\", '\n",
      "'\"FIPS_States\".\"Numeric code\", \"FIPS_States\".\"Status\", state_latlon.state, '\n",
      "'state_latlon.latitude, state_latlon.longitude \\n'\n",
      "'FROM \"FIPS_States\" JOIN state_latlon ON \"FIPS_States\".\"Alpha code\" = '\n",
      "'state_latlon.state \\n'\n",
      "'WHERE state_latlon.latitude > :latitude_1 AND state_latlon.longitude < '\n",
      "':longitude_1 OR state_latlon.latitude < :latitude_2 AND '\n",
      "'state_latlon.longitude > :longitude_2'\n"
     ]
    }
   ],
   "source": [
    "pprint(str(s))"
   ]
  },
  {
   "cell_type": "code",
   "execution_count": 28,
   "metadata": {
    "collapsed": false
   },
   "outputs": [
    {
     "name": "stdout",
     "output_type": "stream",
     "text": [
      "'SELECT sub.\"Alpha code\" \\n'\n",
      "'FROM (SELECT \"FIPS_States\".\"Name\" AS \"Name\", \"FIPS_States\".\"Alpha code\" AS '\n",
      "'\"Alpha code\", \"FIPS_States\".\"Numeric code\" AS \"Numeric code\", '\n",
      "'\"FIPS_States\".\"Status\" AS \"Status\", state_latlon.state AS state, '\n",
      "'state_latlon.latitude AS latitude, state_latlon.longitude AS longitude \\n'\n",
      "'FROM \"FIPS_States\" JOIN state_latlon ON \"FIPS_States\".\"Alpha code\" = '\n",
      "'state_latlon.state \\n'\n",
      "'WHERE state_latlon.latitude > :latitude_1 AND state_latlon.longitude < '\n",
      "':longitude_1 OR state_latlon.latitude < :latitude_2 AND '\n",
      "'state_latlon.longitude > :longitude_2) AS sub'\n"
     ]
    }
   ],
   "source": [
    "pprint(str(select([text('sub.\"Alpha code\"')]).select_from(s.alias('sub'))))"
   ]
  },
  {
   "cell_type": "code",
   "execution_count": 29,
   "metadata": {
    "collapsed": true
   },
   "outputs": [],
   "source": [
    "from sqlalchemy import desc\n",
    "from sqlalchemy.sql import literal_column"
   ]
  },
  {
   "cell_type": "code",
   "execution_count": 30,
   "metadata": {
    "collapsed": false
   },
   "outputs": [
    {
     "name": "stdout",
     "output_type": "stream",
     "text": [
      "2015-12-23 20:03:39,064 INFO sqlalchemy.engine.base.Engine SELECT sub.\"Alpha code\" AS \"alpha code\" \n",
      "FROM (SELECT \"FIPS_States\".\"Name\" AS \"Name\", \"FIPS_States\".\"Alpha code\" AS \"Alpha code\", \"FIPS_States\".\"Numeric code\" AS \"Numeric code\", \"FIPS_States\".\"Status\" AS \"Status\", state_latlon.state AS state, state_latlon.latitude AS latitude, state_latlon.longitude AS longitude \n",
      "FROM \"FIPS_States\" JOIN state_latlon ON \"FIPS_States\".\"Alpha code\" = state_latlon.state \n",
      "WHERE state_latlon.latitude > %(latitude_1)s AND state_latlon.longitude < %(longitude_1)s OR state_latlon.latitude < %(latitude_2)s AND state_latlon.longitude > %(longitude_2)s) AS sub ORDER BY \"alpha code\" DESC\n"
     ]
    },
    {
     "name": "stderr",
     "output_type": "stream",
     "text": [
      "INFO:sqlalchemy.engine.base.Engine:SELECT sub.\"Alpha code\" AS \"alpha code\" \n",
      "FROM (SELECT \"FIPS_States\".\"Name\" AS \"Name\", \"FIPS_States\".\"Alpha code\" AS \"Alpha code\", \"FIPS_States\".\"Numeric code\" AS \"Numeric code\", \"FIPS_States\".\"Status\" AS \"Status\", state_latlon.state AS state, state_latlon.latitude AS latitude, state_latlon.longitude AS longitude \n",
      "FROM \"FIPS_States\" JOIN state_latlon ON \"FIPS_States\".\"Alpha code\" = state_latlon.state \n",
      "WHERE state_latlon.latitude > %(latitude_1)s AND state_latlon.longitude < %(longitude_1)s OR state_latlon.latitude < %(latitude_2)s AND state_latlon.longitude > %(longitude_2)s) AS sub ORDER BY \"alpha code\" DESC\n"
     ]
    },
    {
     "name": "stdout",
     "output_type": "stream",
     "text": [
      "2015-12-23 20:03:39,065 INFO sqlalchemy.engine.base.Engine {'longitude_1': -104, 'latitude_1': 36.2, 'longitude_2': -88, 'latitude_2': 35}\n"
     ]
    },
    {
     "name": "stderr",
     "output_type": "stream",
     "text": [
      "INFO:sqlalchemy.engine.base.Engine:{'longitude_1': -104, 'latitude_1': 36.2, 'longitude_2': -88, 'latitude_2': 35}\n"
     ]
    },
    {
     "data": {
      "text/plain": [
       "[('WY',),\n",
       " ('WA',),\n",
       " ('VI',),\n",
       " ('UT',),\n",
       " ('SC',),\n",
       " ('PR',),\n",
       " ('OR',),\n",
       " ('NV',),\n",
       " ('MT',),\n",
       " ('MP',),\n",
       " ('ID',),\n",
       " ('GA',),\n",
       " ('FL',),\n",
       " ('CO',),\n",
       " ('AL',),\n",
       " ('AK',)]"
      ]
     },
     "execution_count": 30,
     "metadata": {},
     "output_type": "execute_result"
    }
   ],
   "source": [
    "# using text to select subqueries\n",
    "# instead of text, we use literal_column so that we can use the label method\n",
    "conn.execute(select([literal_column('sub.\"Alpha code\"').label(\"alpha code\")]).select_from(s.alias('sub'))\n",
    "            .order_by(desc('alpha code'))).fetchall()"
   ]
  },
  {
   "cell_type": "markdown",
   "metadata": {},
   "source": [
    "#### Binding parameters"
   ]
  },
  {
   "cell_type": "code",
   "execution_count": 31,
   "metadata": {
    "collapsed": true
   },
   "outputs": [],
   "source": [
    "from sqlalchemy.sql import bindparam, func"
   ]
  },
  {
   "cell_type": "code",
   "execution_count": 32,
   "metadata": {
    "collapsed": true
   },
   "outputs": [],
   "source": [
    "get_results = lambda s, **kwargs: conn.execute(s, kwargs).fetchall()"
   ]
  },
  {
   "cell_type": "code",
   "execution_count": 33,
   "metadata": {
    "collapsed": false
   },
   "outputs": [
    {
     "name": "stdout",
     "output_type": "stream",
     "text": [
      "2015-12-23 20:03:47,317 INFO sqlalchemy.engine.base.Engine SELECT \"FIPS_States\".\"Name\", \"FIPS_States\".\"Alpha code\", \"FIPS_States\".\"Numeric code\", \"FIPS_States\".\"Status\" \n",
      "FROM \"FIPS_States\" \n",
      "WHERE \"FIPS_States\".\"Alpha code\" = %(from_)s OR \"FIPS_States\".\"Alpha code\" = %(to_)s\n"
     ]
    },
    {
     "name": "stderr",
     "output_type": "stream",
     "text": [
      "INFO:sqlalchemy.engine.base.Engine:SELECT \"FIPS_States\".\"Name\", \"FIPS_States\".\"Alpha code\", \"FIPS_States\".\"Numeric code\", \"FIPS_States\".\"Status\" \n",
      "FROM \"FIPS_States\" \n",
      "WHERE \"FIPS_States\".\"Alpha code\" = %(from_)s OR \"FIPS_States\".\"Alpha code\" = %(to_)s\n"
     ]
    },
    {
     "name": "stdout",
     "output_type": "stream",
     "text": [
      "2015-12-23 20:03:47,318 INFO sqlalchemy.engine.base.Engine {'from_': 'CA', 'to_': 'TX'}\n"
     ]
    },
    {
     "name": "stderr",
     "output_type": "stream",
     "text": [
      "INFO:sqlalchemy.engine.base.Engine:{'from_': 'CA', 'to_': 'TX'}\n"
     ]
    },
    {
     "data": {
      "text/plain": [
       "[('California', 'CA', 6, 'State;\\xa0counties'),\n",
       " ('Texas', 'TX', 48, 'State;\\xa0counties')]"
      ]
     },
     "execution_count": 33,
     "metadata": {},
     "output_type": "execute_result"
    }
   ],
   "source": [
    "get_results(\n",
    "    select([FIPS_States])\n",
    "        .where(or_(\n",
    "              FIPS_States.c[\"Alpha code\"] == bindparam('from_'),\n",
    "              FIPS_States.c[\"Alpha code\"] == bindparam('to_')\n",
    "            )\n",
    "        ),\n",
    "    from_ = \"CA\",\n",
    "    to_   = \"TX\"\n",
    ")"
   ]
  },
  {
   "cell_type": "markdown",
   "metadata": {},
   "source": [
    "#### Functions\n",
    "\n",
    "Functions are created using the func keyword.  These are translated to sql function queries.\n",
    "\n",
    "func.myFunc(transactions.c.SHIPMT_WEIGHT) translates to \n",
    "\n",
    "    myFunc(transactions.\"SHIPMT_WEIGHT\")"
   ]
  },
  {
   "cell_type": "code",
   "execution_count": 34,
   "metadata": {
    "collapsed": false
   },
   "outputs": [
    {
     "name": "stdout",
     "output_type": "stream",
     "text": [
      "{'myFunc_1': [Column('SHIPMT_VALUE', BIGINT(), table=<transactions>)]}\n"
     ]
    }
   ],
   "source": [
    "print(func.myFunc([transactions.c.SHIPMT_VALUE]).compile().params)"
   ]
  },
  {
   "cell_type": "code",
   "execution_count": 35,
   "metadata": {
    "collapsed": false
   },
   "outputs": [
    {
     "name": "stdout",
     "output_type": "stream",
     "text": [
      "2015-12-23 20:04:02,310 INFO sqlalchemy.engine.base.Engine SELECT max(transactions.\"SHIPMT_VALUE\") AS \"Max Val\" \n",
      "FROM transactions\n"
     ]
    },
    {
     "name": "stderr",
     "output_type": "stream",
     "text": [
      "INFO:sqlalchemy.engine.base.Engine:SELECT max(transactions.\"SHIPMT_VALUE\") AS \"Max Val\" \n",
      "FROM transactions\n"
     ]
    },
    {
     "name": "stdout",
     "output_type": "stream",
     "text": [
      "2015-12-23 20:04:02,311 INFO sqlalchemy.engine.base.Engine {}\n"
     ]
    },
    {
     "name": "stderr",
     "output_type": "stream",
     "text": [
      "INFO:sqlalchemy.engine.base.Engine:{}\n"
     ]
    },
    {
     "data": {
      "text/plain": [
       "521277800"
      ]
     },
     "execution_count": 35,
     "metadata": {},
     "output_type": "execute_result"
    }
   ],
   "source": [
    "conn.execute(select([func.max(transactions.c.SHIPMT_VALUE).label(\"Max Val\")])).scalar()"
   ]
  },
  {
   "cell_type": "markdown",
   "metadata": {},
   "source": [
    "#### Window functions\n",
    "Chain over with functions"
   ]
  },
  {
   "cell_type": "code",
   "execution_count": 36,
   "metadata": {
    "collapsed": false
   },
   "outputs": [
    {
     "name": "stdout",
     "output_type": "stream",
     "text": [
      "2015-12-23 20:04:14,370 INFO sqlalchemy.engine.base.Engine SELECT transactions.\"SHIPMT_ID\", transactions.\"ORIG_STATE\", transactions.\"ORIG_MA\", transactions.\"ORIG_CFS_AREA\", transactions.\"DEST_STATE\", transactions.\"DEST_MA\", transactions.\"DEST_CFS_AREA\", transactions.\"NAICS\", transactions.\"QUARTER\", transactions.\"SCTG\", transactions.\"MODE\", transactions.\"SHIPMT_VALUE\", transactions.\"SHIPMT_WGHT\", transactions.\"SHIPMT_DIST_GC\", transactions.\"SHIPMT_DIST_ROUTED\", transactions.\"TEMP_CNTL_YN\", transactions.\"EXPORT_YN\", transactions.\"EXPORT_CNTRY\", transactions.\"HAZMAT\", transactions.\"WGT_FACTOR\", sum(transactions.\"SHIPMT_VALUE\") OVER (ORDER BY transactions.\"SHIPMT_ID\") AS \"SUM\" \n",
      "FROM transactions \n",
      " LIMIT %(param_1)s\n"
     ]
    },
    {
     "name": "stderr",
     "output_type": "stream",
     "text": [
      "INFO:sqlalchemy.engine.base.Engine:SELECT transactions.\"SHIPMT_ID\", transactions.\"ORIG_STATE\", transactions.\"ORIG_MA\", transactions.\"ORIG_CFS_AREA\", transactions.\"DEST_STATE\", transactions.\"DEST_MA\", transactions.\"DEST_CFS_AREA\", transactions.\"NAICS\", transactions.\"QUARTER\", transactions.\"SCTG\", transactions.\"MODE\", transactions.\"SHIPMT_VALUE\", transactions.\"SHIPMT_WGHT\", transactions.\"SHIPMT_DIST_GC\", transactions.\"SHIPMT_DIST_ROUTED\", transactions.\"TEMP_CNTL_YN\", transactions.\"EXPORT_YN\", transactions.\"EXPORT_CNTRY\", transactions.\"HAZMAT\", transactions.\"WGT_FACTOR\", sum(transactions.\"SHIPMT_VALUE\") OVER (ORDER BY transactions.\"SHIPMT_ID\") AS \"SUM\" \n",
      "FROM transactions \n",
      " LIMIT %(param_1)s\n"
     ]
    },
    {
     "name": "stdout",
     "output_type": "stream",
     "text": [
      "2015-12-23 20:04:14,371 INFO sqlalchemy.engine.base.Engine {'param_1': 10}\n"
     ]
    },
    {
     "name": "stderr",
     "output_type": "stream",
     "text": [
      "INFO:sqlalchemy.engine.base.Engine:{'param_1': 10}\n"
     ]
    },
    {
     "data": {
      "text/plain": [
       "[{'DEST_CFS_AREA': '25-148',\n",
       "  'DEST_MA': 148,\n",
       "  'DEST_STATE': 25,\n",
       "  'EXPORT_CNTRY': 'N',\n",
       "  'EXPORT_YN': 'N',\n",
       "  'HAZMAT': 'N',\n",
       "  'MODE': 14,\n",
       "  'NAICS': 333,\n",
       "  'ORIG_CFS_AREA': '25-148',\n",
       "  'ORIG_MA': 148,\n",
       "  'ORIG_STATE': 25,\n",
       "  'QUARTER': 2,\n",
       "  'SCTG': '35',\n",
       "  'SHIPMT_DIST_GC': 14,\n",
       "  'SHIPMT_DIST_ROUTED': 17,\n",
       "  'SHIPMT_ID': 1,\n",
       "  'SHIPMT_VALUE': 2178,\n",
       "  'SHIPMT_WGHT': 11,\n",
       "  'SUM': Decimal('2178'),\n",
       "  'TEMP_CNTL_YN': 'N',\n",
       "  'WGT_FACTOR': 208.5},\n",
       " {'DEST_CFS_AREA': '06-41740',\n",
       "  'DEST_MA': 41740,\n",
       "  'DEST_STATE': 6,\n",
       "  'EXPORT_CNTRY': 'N',\n",
       "  'EXPORT_YN': 'N',\n",
       "  'HAZMAT': 'N',\n",
       "  'MODE': 14,\n",
       "  'NAICS': 311,\n",
       "  'ORIG_CFS_AREA': '42-428',\n",
       "  'ORIG_MA': 428,\n",
       "  'ORIG_STATE': 42,\n",
       "  'QUARTER': 3,\n",
       "  'SCTG': '35',\n",
       "  'SHIPMT_DIST_GC': 2344,\n",
       "  'SHIPMT_DIST_ROUTED': 2734,\n",
       "  'SHIPMT_ID': 2,\n",
       "  'SHIPMT_VALUE': 344,\n",
       "  'SHIPMT_WGHT': 11,\n",
       "  'SUM': Decimal('2522'),\n",
       "  'TEMP_CNTL_YN': 'N',\n",
       "  'WGT_FACTOR': 193.3},\n",
       " {'DEST_CFS_AREA': '47-314',\n",
       "  'DEST_MA': 314,\n",
       "  'DEST_STATE': 47,\n",
       "  'EXPORT_CNTRY': 'N',\n",
       "  'EXPORT_YN': 'N',\n",
       "  'HAZMAT': 'N',\n",
       "  'MODE': 4,\n",
       "  'NAICS': 322,\n",
       "  'ORIG_CFS_AREA': '26-220',\n",
       "  'ORIG_MA': 220,\n",
       "  'ORIG_STATE': 26,\n",
       "  'QUARTER': 2,\n",
       "  'SCTG': '27',\n",
       "  'SHIPMT_DIST_GC': 470,\n",
       "  'SHIPMT_DIST_ROUTED': 579,\n",
       "  'SHIPMT_ID': 3,\n",
       "  'SHIPMT_VALUE': 4197,\n",
       "  'SHIPMT_WGHT': 5134,\n",
       "  'SUM': Decimal('6719'),\n",
       "  'TEMP_CNTL_YN': 'N',\n",
       "  'WGT_FACTOR': 51.2},\n",
       " {'DEST_CFS_AREA': '20-556',\n",
       "  'DEST_MA': 556,\n",
       "  'DEST_STATE': 20,\n",
       "  'EXPORT_CNTRY': 'N',\n",
       "  'EXPORT_YN': 'N',\n",
       "  'HAZMAT': 'N',\n",
       "  'MODE': 4,\n",
       "  'NAICS': 323,\n",
       "  'ORIG_CFS_AREA': '20-556',\n",
       "  'ORIG_MA': 556,\n",
       "  'ORIG_STATE': 20,\n",
       "  'QUARTER': 1,\n",
       "  'SCTG': '29',\n",
       "  'SHIPMT_DIST_GC': 3,\n",
       "  'SHIPMT_DIST_ROUTED': 3,\n",
       "  'SHIPMT_ID': 4,\n",
       "  'SHIPMT_VALUE': 116,\n",
       "  'SHIPMT_WGHT': 6,\n",
       "  'SUM': Decimal('6835'),\n",
       "  'TEMP_CNTL_YN': 'N',\n",
       "  'WGT_FACTOR': 238.7},\n",
       " {'DEST_CFS_AREA': '12-99999',\n",
       "  'DEST_MA': 99999,\n",
       "  'DEST_STATE': 12,\n",
       "  'EXPORT_CNTRY': 'N',\n",
       "  'EXPORT_YN': 'N',\n",
       "  'HAZMAT': 'N',\n",
       "  'MODE': 5,\n",
       "  'NAICS': 4235,\n",
       "  'ORIG_CFS_AREA': '12-99999',\n",
       "  'ORIG_MA': 99999,\n",
       "  'ORIG_STATE': 12,\n",
       "  'QUARTER': 3,\n",
       "  'SCTG': '33',\n",
       "  'SHIPMT_DIST_GC': 124,\n",
       "  'SHIPMT_DIST_ROUTED': 201,\n",
       "  'SHIPMT_ID': 5,\n",
       "  'SHIPMT_VALUE': 388,\n",
       "  'SHIPMT_WGHT': 527,\n",
       "  'SUM': Decimal('7223'),\n",
       "  'TEMP_CNTL_YN': 'N',\n",
       "  'WGT_FACTOR': 398.1},\n",
       " {'DEST_CFS_AREA': '30-99999',\n",
       "  'DEST_MA': 99999,\n",
       "  'DEST_STATE': 30,\n",
       "  'EXPORT_CNTRY': 'C',\n",
       "  'EXPORT_YN': 'Y',\n",
       "  'HAZMAT': 'N',\n",
       "  'MODE': 4,\n",
       "  'NAICS': 337,\n",
       "  'ORIG_CFS_AREA': '24-47900',\n",
       "  'ORIG_MA': 47900,\n",
       "  'ORIG_STATE': 24,\n",
       "  'QUARTER': 2,\n",
       "  'SCTG': '40',\n",
       "  'SHIPMT_DIST_GC': 1942,\n",
       "  'SHIPMT_DIST_ROUTED': 2265,\n",
       "  'SHIPMT_ID': 6,\n",
       "  'SHIPMT_VALUE': 3716,\n",
       "  'SHIPMT_WGHT': 1132,\n",
       "  'SUM': Decimal('10939'),\n",
       "  'TEMP_CNTL_YN': 'N',\n",
       "  'WGT_FACTOR': 21.9},\n",
       " {'DEST_CFS_AREA': '19-99999',\n",
       "  'DEST_MA': 99999,\n",
       "  'DEST_STATE': 19,\n",
       "  'EXPORT_CNTRY': 'N',\n",
       "  'EXPORT_YN': 'N',\n",
       "  'HAZMAT': 'N',\n",
       "  'MODE': 5,\n",
       "  'NAICS': 337,\n",
       "  'ORIG_CFS_AREA': '19-99999',\n",
       "  'ORIG_MA': 99999,\n",
       "  'ORIG_STATE': 19,\n",
       "  'QUARTER': 3,\n",
       "  'SCTG': '26',\n",
       "  'SHIPMT_DIST_GC': 16,\n",
       "  'SHIPMT_DIST_ROUTED': 22,\n",
       "  'SHIPMT_ID': 7,\n",
       "  'SHIPMT_VALUE': 43738,\n",
       "  'SHIPMT_WGHT': 13501,\n",
       "  'SUM': Decimal('54677'),\n",
       "  'TEMP_CNTL_YN': 'N',\n",
       "  'WGT_FACTOR': 310.5},\n",
       " {'DEST_CFS_AREA': '06-99999',\n",
       "  'DEST_MA': 99999,\n",
       "  'DEST_STATE': 6,\n",
       "  'EXPORT_CNTRY': 'N',\n",
       "  'EXPORT_YN': 'N',\n",
       "  'HAZMAT': 'N',\n",
       "  'MODE': 14,\n",
       "  'NAICS': 4239,\n",
       "  'ORIG_CFS_AREA': '06-41740',\n",
       "  'ORIG_MA': 41740,\n",
       "  'ORIG_STATE': 6,\n",
       "  'QUARTER': 1,\n",
       "  'SCTG': '40',\n",
       "  'SHIPMT_DIST_GC': 272,\n",
       "  'SHIPMT_DIST_ROUTED': 306,\n",
       "  'SHIPMT_ID': 8,\n",
       "  'SHIPMT_VALUE': 77,\n",
       "  'SHIPMT_WGHT': 4,\n",
       "  'SUM': Decimal('54754'),\n",
       "  'TEMP_CNTL_YN': 'N',\n",
       "  'WGT_FACTOR': 138.5},\n",
       " {'DEST_CFS_AREA': '19-99999',\n",
       "  'DEST_MA': 99999,\n",
       "  'DEST_STATE': 19,\n",
       "  'EXPORT_CNTRY': 'N',\n",
       "  'EXPORT_YN': 'N',\n",
       "  'HAZMAT': 'N',\n",
       "  'MODE': 5,\n",
       "  'NAICS': 327,\n",
       "  'ORIG_CFS_AREA': '19-99999',\n",
       "  'ORIG_MA': 99999,\n",
       "  'ORIG_STATE': 19,\n",
       "  'QUARTER': 3,\n",
       "  'SCTG': '31',\n",
       "  'SHIPMT_DIST_GC': 10,\n",
       "  'SHIPMT_DIST_ROUTED': 15,\n",
       "  'SHIPMT_ID': 9,\n",
       "  'SHIPMT_VALUE': 338,\n",
       "  'SHIPMT_WGHT': 12826,\n",
       "  'SUM': Decimal('55092'),\n",
       "  'TEMP_CNTL_YN': 'N',\n",
       "  'WGT_FACTOR': 2695.9},\n",
       " {'DEST_CFS_AREA': '13-99999',\n",
       "  'DEST_MA': 99999,\n",
       "  'DEST_STATE': 13,\n",
       "  'EXPORT_CNTRY': 'N',\n",
       "  'EXPORT_YN': 'N',\n",
       "  'HAZMAT': 'N',\n",
       "  'MODE': 5,\n",
       "  'NAICS': 4237,\n",
       "  'ORIG_CFS_AREA': '13-99999',\n",
       "  'ORIG_MA': 99999,\n",
       "  'ORIG_STATE': 13,\n",
       "  'QUARTER': 2,\n",
       "  'SCTG': '34',\n",
       "  'SHIPMT_DIST_GC': 21,\n",
       "  'SHIPMT_DIST_ROUTED': 28,\n",
       "  'SHIPMT_ID': 10,\n",
       "  'SHIPMT_VALUE': 145,\n",
       "  'SHIPMT_WGHT': 22,\n",
       "  'SUM': Decimal('55237'),\n",
       "  'TEMP_CNTL_YN': 'N',\n",
       "  'WGT_FACTOR': 489.1}]"
      ]
     },
     "execution_count": 36,
     "metadata": {},
     "output_type": "execute_result"
    }
   ],
   "source": [
    "list(get_rows(get_results(select([transactions,\n",
    "                                 func.sum(transactions.c.SHIPMT_VALUE).over(\n",
    "                                    order_by=transactions.c.SHIPMT_ID)\n",
    "                                  .label(\"SUM\")\n",
    "                                 ]).limit(10))))"
   ]
  },
  {
   "cell_type": "code",
   "execution_count": 37,
   "metadata": {
    "collapsed": true
   },
   "outputs": [],
   "source": [
    "from sqlalchemy.sql import union"
   ]
  },
  {
   "cell_type": "code",
   "execution_count": 38,
   "metadata": {
    "collapsed": false
   },
   "outputs": [
    {
     "name": "stdout",
     "output_type": "stream",
     "text": [
      "2015-12-23 20:04:39,220 INFO sqlalchemy.engine.base.Engine SELECT sctg.\"SCTG\", sctg.\"Description\" \n",
      "FROM sctg \n",
      "WHERE sctg.\"SCTG\" < %(SCTG_1)s UNION SELECT sctg.\"SCTG\", sctg.\"Description\" \n",
      "FROM sctg \n",
      "WHERE sctg.\"SCTG\" > %(SCTG_2)s\n"
     ]
    },
    {
     "name": "stderr",
     "output_type": "stream",
     "text": [
      "INFO:sqlalchemy.engine.base.Engine:SELECT sctg.\"SCTG\", sctg.\"Description\" \n",
      "FROM sctg \n",
      "WHERE sctg.\"SCTG\" < %(SCTG_1)s UNION SELECT sctg.\"SCTG\", sctg.\"Description\" \n",
      "FROM sctg \n",
      "WHERE sctg.\"SCTG\" > %(SCTG_2)s\n"
     ]
    },
    {
     "name": "stdout",
     "output_type": "stream",
     "text": [
      "2015-12-23 20:04:39,222 INFO sqlalchemy.engine.base.Engine {'SCTG_2': 10, 'SCTG_1': 3}\n"
     ]
    },
    {
     "name": "stderr",
     "output_type": "stream",
     "text": [
      "INFO:sqlalchemy.engine.base.Engine:{'SCTG_2': 10, 'SCTG_1': 3}\n"
     ]
    },
    {
     "data": {
      "text/plain": [
       "[(26, 'Wood Products'),\n",
       " (28, 'Paper or Paperboard Articles'),\n",
       " (35, 'Electronic and Other Electrical Equipment and Components, and Office Equipment'),\n",
       " (23, 'Other Chemical Products and Preparations'),\n",
       " (19, 'Other Coal and Petroleum Products, not elsewhere classified'),\n",
       " (32, 'Base Metal in Primary or Semi-Finished Forms and in Finished Basic Shapes'),\n",
       " (11, 'Natural Sands'),\n",
       " (38, 'Precision Instruments and Apparatus'),\n",
       " (41, 'Waste and Scrap (excludes of agriculture or food, see 041xx)'),\n",
       " (34, 'Machinery'),\n",
       " (14, 'Metallic Ores and Concentrates'),\n",
       " (18, 'Fuel Oils (includes Diesel, Bunker C, and Biodiesel)'),\n",
       " (13, 'Other Non-Metallic Minerals not elsewhere classified'),\n",
       " (39, 'Furniture, Mattresses and Mattress Supports, Lamps, Lighting Fittings, and Illuminated Signs'),\n",
       " (2, 'Cereal Grains (includes seed)'),\n",
       " (33, 'Articles of Base Metal'),\n",
       " (40, 'Miscellaneous Manufactured Products'),\n",
       " (24, 'Plastics and Rubber'),\n",
       " (12, 'Gravel and Crushed Stone (excludes Dolomite and Slate)'),\n",
       " (36, 'Motorized and Other Vehicles (includes parts)'),\n",
       " (99, 'Missing Code'),\n",
       " (16, 'Crude Petroleum'),\n",
       " (17, 'Gasoline, Aviation Turbine Fuel, and Ethanol (includes Kerosene, and Fuel Alcohols)'),\n",
       " (15, 'Coal'),\n",
       " (20, 'Basic Chemicals'),\n",
       " (31, 'Non-Metallic Mineral Products'),\n",
       " (43, 'Mixed Freight'),\n",
       " (22, 'Fertilizers'),\n",
       " (25, 'Logs and Other Wood in the Rough'),\n",
       " (29, 'Printed Products'),\n",
       " (30, 'Textiles, Leather, and Articles of Textiles or Leather'),\n",
       " (27, 'Pulp, Newsprint, Paper, and Paperboard'),\n",
       " (21, 'Pharmaceutical Products'),\n",
       " (37, 'Transportation Equipment, not elsewhere classified'),\n",
       " (0, 'SCTG suppressed'),\n",
       " (1, 'Animals and Fish (live)')]"
      ]
     },
     "execution_count": 38,
     "metadata": {},
     "output_type": "execute_result"
    }
   ],
   "source": [
    "u = union(\n",
    "    sctg.select().where(sctg.c.SCTG < 3),\n",
    "    sctg.select().where(sctg.c.SCTG > 10)\n",
    "    )\n",
    "\n",
    "conn.execute(u).fetchall()"
   ]
  },
  {
   "cell_type": "code",
   "execution_count": 39,
   "metadata": {
    "collapsed": false
   },
   "outputs": [],
   "source": [
    "query_s = (select([func.count(transactions.c.SHIPMT_ID)])\n",
    "           .where(transactions.c.SCTG).as_scalar())"
   ]
  },
  {
   "cell_type": "code",
   "execution_count": 40,
   "metadata": {
    "collapsed": false
   },
   "outputs": [
    {
     "name": "stdout",
     "output_type": "stream",
     "text": [
      "2015-12-23 20:04:39,269 INFO sqlalchemy.engine.base.Engine SELECT (SELECT count(transactions.\"SHIPMT_ID\") AS count_1 \n",
      "FROM transactions \n",
      "WHERE transactions.\"SCTG\") AS anon_1\n"
     ]
    },
    {
     "name": "stderr",
     "output_type": "stream",
     "text": [
      "INFO:sqlalchemy.engine.base.Engine:SELECT (SELECT count(transactions.\"SHIPMT_ID\") AS count_1 \n",
      "FROM transactions \n",
      "WHERE transactions.\"SCTG\") AS anon_1\n"
     ]
    },
    {
     "name": "stdout",
     "output_type": "stream",
     "text": [
      "2015-12-23 20:04:39,270 INFO sqlalchemy.engine.base.Engine {}\n"
     ]
    },
    {
     "name": "stderr",
     "output_type": "stream",
     "text": [
      "INFO:sqlalchemy.engine.base.Engine:{}\n"
     ]
    },
    {
     "name": "stdout",
     "output_type": "stream",
     "text": [
      "2015-12-23 20:04:39,293 INFO sqlalchemy.engine.base.Engine ROLLBACK\n"
     ]
    },
    {
     "name": "stderr",
     "output_type": "stream",
     "text": [
      "INFO:sqlalchemy.engine.base.Engine:ROLLBACK\n"
     ]
    },
    {
     "ename": "ProgrammingError",
     "evalue": "(psycopg2.ProgrammingError) argument of WHERE must be type boolean, not type text\nLINE 3: WHERE transactions.\"SCTG\") AS anon_1\n              ^\n [SQL: 'SELECT (SELECT count(transactions.\"SHIPMT_ID\") AS count_1 \\nFROM transactions \\nWHERE transactions.\"SCTG\") AS anon_1']",
     "output_type": "error",
     "traceback": [
      "\u001b[0;31m---------------------------------------------------------------------------\u001b[0m",
      "\u001b[0;31mProgrammingError\u001b[0m                          Traceback (most recent call last)",
      "\u001b[0;32m/Users/Sohail/Virtualenvs/machineLearn/lib/python3.4/site-packages/sqlalchemy/engine/base.py\u001b[0m in \u001b[0;36m_execute_context\u001b[0;34m(self, dialect, constructor, statement, parameters, *args)\u001b[0m\n\u001b[1;32m   1138\u001b[0m                         \u001b[0mparameters\u001b[0m\u001b[0;34m,\u001b[0m\u001b[0;34m\u001b[0m\u001b[0m\n\u001b[0;32m-> 1139\u001b[0;31m                         context)\n\u001b[0m\u001b[1;32m   1140\u001b[0m         \u001b[0;32mexcept\u001b[0m \u001b[0mException\u001b[0m \u001b[0;32mas\u001b[0m \u001b[0me\u001b[0m\u001b[0;34m:\u001b[0m\u001b[0;34m\u001b[0m\u001b[0m\n",
      "\u001b[0;32m/Users/Sohail/Virtualenvs/machineLearn/lib/python3.4/site-packages/sqlalchemy/engine/default.py\u001b[0m in \u001b[0;36mdo_execute\u001b[0;34m(self, cursor, statement, parameters, context)\u001b[0m\n\u001b[1;32m    449\u001b[0m     \u001b[0;32mdef\u001b[0m \u001b[0mdo_execute\u001b[0m\u001b[0;34m(\u001b[0m\u001b[0mself\u001b[0m\u001b[0;34m,\u001b[0m \u001b[0mcursor\u001b[0m\u001b[0;34m,\u001b[0m \u001b[0mstatement\u001b[0m\u001b[0;34m,\u001b[0m \u001b[0mparameters\u001b[0m\u001b[0;34m,\u001b[0m \u001b[0mcontext\u001b[0m\u001b[0;34m=\u001b[0m\u001b[0;32mNone\u001b[0m\u001b[0;34m)\u001b[0m\u001b[0;34m:\u001b[0m\u001b[0;34m\u001b[0m\u001b[0m\n\u001b[0;32m--> 450\u001b[0;31m         \u001b[0mcursor\u001b[0m\u001b[0;34m.\u001b[0m\u001b[0mexecute\u001b[0m\u001b[0;34m(\u001b[0m\u001b[0mstatement\u001b[0m\u001b[0;34m,\u001b[0m \u001b[0mparameters\u001b[0m\u001b[0;34m)\u001b[0m\u001b[0;34m\u001b[0m\u001b[0m\n\u001b[0m\u001b[1;32m    451\u001b[0m \u001b[0;34m\u001b[0m\u001b[0m\n",
      "\u001b[0;31mProgrammingError\u001b[0m: argument of WHERE must be type boolean, not type text\nLINE 3: WHERE transactions.\"SCTG\") AS anon_1\n              ^\n",
      "\nThe above exception was the direct cause of the following exception:\n",
      "\u001b[0;31mProgrammingError\u001b[0m                          Traceback (most recent call last)",
      "\u001b[0;32m<ipython-input-40-04be883b91b0>\u001b[0m in \u001b[0;36m<module>\u001b[0;34m()\u001b[0m\n\u001b[0;32m----> 1\u001b[0;31m \u001b[0mconn\u001b[0m\u001b[0;34m.\u001b[0m\u001b[0mexecute\u001b[0m\u001b[0;34m(\u001b[0m\u001b[0mselect\u001b[0m\u001b[0;34m(\u001b[0m\u001b[0;34m[\u001b[0m\u001b[0mquery_s\u001b[0m\u001b[0;34m]\u001b[0m\u001b[0;34m)\u001b[0m\u001b[0;34m)\u001b[0m\u001b[0;34m\u001b[0m\u001b[0m\n\u001b[0m",
      "\u001b[0;32m/Users/Sohail/Virtualenvs/machineLearn/lib/python3.4/site-packages/sqlalchemy/engine/base.py\u001b[0m in \u001b[0;36mexecute\u001b[0;34m(self, object, *multiparams, **params)\u001b[0m\n\u001b[1;32m    912\u001b[0m                 type(object))\n\u001b[1;32m    913\u001b[0m         \u001b[0;32melse\u001b[0m\u001b[0;34m:\u001b[0m\u001b[0;34m\u001b[0m\u001b[0m\n\u001b[0;32m--> 914\u001b[0;31m             \u001b[0;32mreturn\u001b[0m \u001b[0mmeth\u001b[0m\u001b[0;34m(\u001b[0m\u001b[0mself\u001b[0m\u001b[0;34m,\u001b[0m \u001b[0mmultiparams\u001b[0m\u001b[0;34m,\u001b[0m \u001b[0mparams\u001b[0m\u001b[0;34m)\u001b[0m\u001b[0;34m\u001b[0m\u001b[0m\n\u001b[0m\u001b[1;32m    915\u001b[0m \u001b[0;34m\u001b[0m\u001b[0m\n\u001b[1;32m    916\u001b[0m     \u001b[0;32mdef\u001b[0m \u001b[0m_execute_function\u001b[0m\u001b[0;34m(\u001b[0m\u001b[0mself\u001b[0m\u001b[0;34m,\u001b[0m \u001b[0mfunc\u001b[0m\u001b[0;34m,\u001b[0m \u001b[0mmultiparams\u001b[0m\u001b[0;34m,\u001b[0m \u001b[0mparams\u001b[0m\u001b[0;34m)\u001b[0m\u001b[0;34m:\u001b[0m\u001b[0;34m\u001b[0m\u001b[0m\n",
      "\u001b[0;32m/Users/Sohail/Virtualenvs/machineLearn/lib/python3.4/site-packages/sqlalchemy/sql/elements.py\u001b[0m in \u001b[0;36m_execute_on_connection\u001b[0;34m(self, connection, multiparams, params)\u001b[0m\n\u001b[1;32m    321\u001b[0m \u001b[0;34m\u001b[0m\u001b[0m\n\u001b[1;32m    322\u001b[0m     \u001b[0;32mdef\u001b[0m \u001b[0m_execute_on_connection\u001b[0m\u001b[0;34m(\u001b[0m\u001b[0mself\u001b[0m\u001b[0;34m,\u001b[0m \u001b[0mconnection\u001b[0m\u001b[0;34m,\u001b[0m \u001b[0mmultiparams\u001b[0m\u001b[0;34m,\u001b[0m \u001b[0mparams\u001b[0m\u001b[0;34m)\u001b[0m\u001b[0;34m:\u001b[0m\u001b[0;34m\u001b[0m\u001b[0m\n\u001b[0;32m--> 323\u001b[0;31m         \u001b[0;32mreturn\u001b[0m \u001b[0mconnection\u001b[0m\u001b[0;34m.\u001b[0m\u001b[0m_execute_clauseelement\u001b[0m\u001b[0;34m(\u001b[0m\u001b[0mself\u001b[0m\u001b[0;34m,\u001b[0m \u001b[0mmultiparams\u001b[0m\u001b[0;34m,\u001b[0m \u001b[0mparams\u001b[0m\u001b[0;34m)\u001b[0m\u001b[0;34m\u001b[0m\u001b[0m\n\u001b[0m\u001b[1;32m    324\u001b[0m \u001b[0;34m\u001b[0m\u001b[0m\n\u001b[1;32m    325\u001b[0m     \u001b[0;32mdef\u001b[0m \u001b[0munique_params\u001b[0m\u001b[0;34m(\u001b[0m\u001b[0mself\u001b[0m\u001b[0;34m,\u001b[0m \u001b[0;34m*\u001b[0m\u001b[0moptionaldict\u001b[0m\u001b[0;34m,\u001b[0m \u001b[0;34m**\u001b[0m\u001b[0mkwargs\u001b[0m\u001b[0;34m)\u001b[0m\u001b[0;34m:\u001b[0m\u001b[0;34m\u001b[0m\u001b[0m\n",
      "\u001b[0;32m/Users/Sohail/Virtualenvs/machineLearn/lib/python3.4/site-packages/sqlalchemy/engine/base.py\u001b[0m in \u001b[0;36m_execute_clauseelement\u001b[0;34m(self, elem, multiparams, params)\u001b[0m\n\u001b[1;32m   1008\u001b[0m             \u001b[0mcompiled_sql\u001b[0m\u001b[0;34m,\u001b[0m\u001b[0;34m\u001b[0m\u001b[0m\n\u001b[1;32m   1009\u001b[0m             \u001b[0mdistilled_params\u001b[0m\u001b[0;34m,\u001b[0m\u001b[0;34m\u001b[0m\u001b[0m\n\u001b[0;32m-> 1010\u001b[0;31m             \u001b[0mcompiled_sql\u001b[0m\u001b[0;34m,\u001b[0m \u001b[0mdistilled_params\u001b[0m\u001b[0;34m\u001b[0m\u001b[0m\n\u001b[0m\u001b[1;32m   1011\u001b[0m         )\n\u001b[1;32m   1012\u001b[0m         \u001b[0;32mif\u001b[0m \u001b[0mself\u001b[0m\u001b[0;34m.\u001b[0m\u001b[0m_has_events\u001b[0m \u001b[0;32mor\u001b[0m \u001b[0mself\u001b[0m\u001b[0;34m.\u001b[0m\u001b[0mengine\u001b[0m\u001b[0;34m.\u001b[0m\u001b[0m_has_events\u001b[0m\u001b[0;34m:\u001b[0m\u001b[0;34m\u001b[0m\u001b[0m\n",
      "\u001b[0;32m/Users/Sohail/Virtualenvs/machineLearn/lib/python3.4/site-packages/sqlalchemy/engine/base.py\u001b[0m in \u001b[0;36m_execute_context\u001b[0;34m(self, dialect, constructor, statement, parameters, *args)\u001b[0m\n\u001b[1;32m   1144\u001b[0m                 \u001b[0mparameters\u001b[0m\u001b[0;34m,\u001b[0m\u001b[0;34m\u001b[0m\u001b[0m\n\u001b[1;32m   1145\u001b[0m                 \u001b[0mcursor\u001b[0m\u001b[0;34m,\u001b[0m\u001b[0;34m\u001b[0m\u001b[0m\n\u001b[0;32m-> 1146\u001b[0;31m                 context)\n\u001b[0m\u001b[1;32m   1147\u001b[0m \u001b[0;34m\u001b[0m\u001b[0m\n\u001b[1;32m   1148\u001b[0m         \u001b[0;32mif\u001b[0m \u001b[0mself\u001b[0m\u001b[0;34m.\u001b[0m\u001b[0m_has_events\u001b[0m \u001b[0;32mor\u001b[0m \u001b[0mself\u001b[0m\u001b[0;34m.\u001b[0m\u001b[0mengine\u001b[0m\u001b[0;34m.\u001b[0m\u001b[0m_has_events\u001b[0m\u001b[0;34m:\u001b[0m\u001b[0;34m\u001b[0m\u001b[0m\n",
      "\u001b[0;32m/Users/Sohail/Virtualenvs/machineLearn/lib/python3.4/site-packages/sqlalchemy/engine/base.py\u001b[0m in \u001b[0;36m_handle_dbapi_exception\u001b[0;34m(self, e, statement, parameters, cursor, context)\u001b[0m\n\u001b[1;32m   1339\u001b[0m                 util.raise_from_cause(\n\u001b[1;32m   1340\u001b[0m                     \u001b[0msqlalchemy_exception\u001b[0m\u001b[0;34m,\u001b[0m\u001b[0;34m\u001b[0m\u001b[0m\n\u001b[0;32m-> 1341\u001b[0;31m                     \u001b[0mexc_info\u001b[0m\u001b[0;34m\u001b[0m\u001b[0m\n\u001b[0m\u001b[1;32m   1342\u001b[0m                 )\n\u001b[1;32m   1343\u001b[0m             \u001b[0;32melse\u001b[0m\u001b[0;34m:\u001b[0m\u001b[0;34m\u001b[0m\u001b[0m\n",
      "\u001b[0;32m/Users/Sohail/Virtualenvs/machineLearn/lib/python3.4/site-packages/sqlalchemy/util/compat.py\u001b[0m in \u001b[0;36mraise_from_cause\u001b[0;34m(exception, exc_info)\u001b[0m\n\u001b[1;32m    186\u001b[0m             \u001b[0mexc_info\u001b[0m \u001b[0;34m=\u001b[0m \u001b[0msys\u001b[0m\u001b[0;34m.\u001b[0m\u001b[0mexc_info\u001b[0m\u001b[0;34m(\u001b[0m\u001b[0;34m)\u001b[0m\u001b[0;34m\u001b[0m\u001b[0m\n\u001b[1;32m    187\u001b[0m         \u001b[0mexc_type\u001b[0m\u001b[0;34m,\u001b[0m \u001b[0mexc_value\u001b[0m\u001b[0;34m,\u001b[0m \u001b[0mexc_tb\u001b[0m \u001b[0;34m=\u001b[0m \u001b[0mexc_info\u001b[0m\u001b[0;34m\u001b[0m\u001b[0m\n\u001b[0;32m--> 188\u001b[0;31m         \u001b[0mreraise\u001b[0m\u001b[0;34m(\u001b[0m\u001b[0mtype\u001b[0m\u001b[0;34m(\u001b[0m\u001b[0mexception\u001b[0m\u001b[0;34m)\u001b[0m\u001b[0;34m,\u001b[0m \u001b[0mexception\u001b[0m\u001b[0;34m,\u001b[0m \u001b[0mtb\u001b[0m\u001b[0;34m=\u001b[0m\u001b[0mexc_tb\u001b[0m\u001b[0;34m,\u001b[0m \u001b[0mcause\u001b[0m\u001b[0;34m=\u001b[0m\u001b[0mexc_value\u001b[0m\u001b[0;34m)\u001b[0m\u001b[0;34m\u001b[0m\u001b[0m\n\u001b[0m\u001b[1;32m    189\u001b[0m \u001b[0;32melse\u001b[0m\u001b[0;34m:\u001b[0m\u001b[0;34m\u001b[0m\u001b[0m\n\u001b[1;32m    190\u001b[0m     exec(\"def reraise(tp, value, tb=None, cause=None):\\n\"\n",
      "\u001b[0;32m/Users/Sohail/Virtualenvs/machineLearn/lib/python3.4/site-packages/sqlalchemy/util/compat.py\u001b[0m in \u001b[0;36mreraise\u001b[0;34m(tp, value, tb, cause)\u001b[0m\n\u001b[1;32m    179\u001b[0m             \u001b[0mvalue\u001b[0m\u001b[0;34m.\u001b[0m\u001b[0m__cause__\u001b[0m \u001b[0;34m=\u001b[0m \u001b[0mcause\u001b[0m\u001b[0;34m\u001b[0m\u001b[0m\n\u001b[1;32m    180\u001b[0m         \u001b[0;32mif\u001b[0m \u001b[0mvalue\u001b[0m\u001b[0;34m.\u001b[0m\u001b[0m__traceback__\u001b[0m \u001b[0;32mis\u001b[0m \u001b[0;32mnot\u001b[0m \u001b[0mtb\u001b[0m\u001b[0;34m:\u001b[0m\u001b[0;34m\u001b[0m\u001b[0m\n\u001b[0;32m--> 181\u001b[0;31m             \u001b[0;32mraise\u001b[0m \u001b[0mvalue\u001b[0m\u001b[0;34m.\u001b[0m\u001b[0mwith_traceback\u001b[0m\u001b[0;34m(\u001b[0m\u001b[0mtb\u001b[0m\u001b[0;34m)\u001b[0m\u001b[0;34m\u001b[0m\u001b[0m\n\u001b[0m\u001b[1;32m    182\u001b[0m         \u001b[0;32mraise\u001b[0m \u001b[0mvalue\u001b[0m\u001b[0;34m\u001b[0m\u001b[0m\n\u001b[1;32m    183\u001b[0m \u001b[0;34m\u001b[0m\u001b[0m\n",
      "\u001b[0;32m/Users/Sohail/Virtualenvs/machineLearn/lib/python3.4/site-packages/sqlalchemy/engine/base.py\u001b[0m in \u001b[0;36m_execute_context\u001b[0;34m(self, dialect, constructor, statement, parameters, *args)\u001b[0m\n\u001b[1;32m   1137\u001b[0m                         \u001b[0mstatement\u001b[0m\u001b[0;34m,\u001b[0m\u001b[0;34m\u001b[0m\u001b[0m\n\u001b[1;32m   1138\u001b[0m                         \u001b[0mparameters\u001b[0m\u001b[0;34m,\u001b[0m\u001b[0;34m\u001b[0m\u001b[0m\n\u001b[0;32m-> 1139\u001b[0;31m                         context)\n\u001b[0m\u001b[1;32m   1140\u001b[0m         \u001b[0;32mexcept\u001b[0m \u001b[0mException\u001b[0m \u001b[0;32mas\u001b[0m \u001b[0me\u001b[0m\u001b[0;34m:\u001b[0m\u001b[0;34m\u001b[0m\u001b[0m\n\u001b[1;32m   1141\u001b[0m             self._handle_dbapi_exception(\n",
      "\u001b[0;32m/Users/Sohail/Virtualenvs/machineLearn/lib/python3.4/site-packages/sqlalchemy/engine/default.py\u001b[0m in \u001b[0;36mdo_execute\u001b[0;34m(self, cursor, statement, parameters, context)\u001b[0m\n\u001b[1;32m    448\u001b[0m \u001b[0;34m\u001b[0m\u001b[0m\n\u001b[1;32m    449\u001b[0m     \u001b[0;32mdef\u001b[0m \u001b[0mdo_execute\u001b[0m\u001b[0;34m(\u001b[0m\u001b[0mself\u001b[0m\u001b[0;34m,\u001b[0m \u001b[0mcursor\u001b[0m\u001b[0;34m,\u001b[0m \u001b[0mstatement\u001b[0m\u001b[0;34m,\u001b[0m \u001b[0mparameters\u001b[0m\u001b[0;34m,\u001b[0m \u001b[0mcontext\u001b[0m\u001b[0;34m=\u001b[0m\u001b[0;32mNone\u001b[0m\u001b[0;34m)\u001b[0m\u001b[0;34m:\u001b[0m\u001b[0;34m\u001b[0m\u001b[0m\n\u001b[0;32m--> 450\u001b[0;31m         \u001b[0mcursor\u001b[0m\u001b[0;34m.\u001b[0m\u001b[0mexecute\u001b[0m\u001b[0;34m(\u001b[0m\u001b[0mstatement\u001b[0m\u001b[0;34m,\u001b[0m \u001b[0mparameters\u001b[0m\u001b[0;34m)\u001b[0m\u001b[0;34m\u001b[0m\u001b[0m\n\u001b[0m\u001b[1;32m    451\u001b[0m \u001b[0;34m\u001b[0m\u001b[0m\n\u001b[1;32m    452\u001b[0m     \u001b[0;32mdef\u001b[0m \u001b[0mdo_execute_no_params\u001b[0m\u001b[0;34m(\u001b[0m\u001b[0mself\u001b[0m\u001b[0;34m,\u001b[0m \u001b[0mcursor\u001b[0m\u001b[0;34m,\u001b[0m \u001b[0mstatement\u001b[0m\u001b[0;34m,\u001b[0m \u001b[0mcontext\u001b[0m\u001b[0;34m=\u001b[0m\u001b[0;32mNone\u001b[0m\u001b[0;34m)\u001b[0m\u001b[0;34m:\u001b[0m\u001b[0;34m\u001b[0m\u001b[0m\n",
      "\u001b[0;31mProgrammingError\u001b[0m: (psycopg2.ProgrammingError) argument of WHERE must be type boolean, not type text\nLINE 3: WHERE transactions.\"SCTG\") AS anon_1\n              ^\n [SQL: 'SELECT (SELECT count(transactions.\"SHIPMT_ID\") AS count_1 \\nFROM transactions \\nWHERE transactions.\"SCTG\") AS anon_1']"
     ]
    }
   ],
   "source": [
    "conn.execute(select([query_s]))"
   ]
  },
  {
   "cell_type": "code",
   "execution_count": null,
   "metadata": {
    "collapsed": false
   },
   "outputs": [],
   "source": [
    "conn.execute(u).fetchone()"
   ]
  },
  {
   "cell_type": "markdown",
   "metadata": {},
   "source": [
    "##### Correlated Subqueries\n",
    "\n",
    "When an enclosed query depends on a table from the enclosing context, it does not need to explicitly provide a FROM clause"
   ]
  },
  {
   "cell_type": "code",
   "execution_count": 41,
   "metadata": {
    "collapsed": false
   },
   "outputs": [],
   "source": [
    "stmt = (select([transactions, FIPS_States.c['Alpha code']])\n",
    "        .select_from(\n",
    "        transactions.join(FIPS_States, onclause=transactions.c.ORIG_STATE == FIPS_States.c[\"Numeric code\"]))\n",
    "        .where(FIPS_States.c['Alpha code'].like('C%'))\n",
    "        )"
   ]
  },
  {
   "cell_type": "code",
   "execution_count": 42,
   "metadata": {
    "collapsed": true
   },
   "outputs": [],
   "source": [
    "enclosing_stmt = select([transactions.c.SCTG]).select_from(stmt).limit(10)"
   ]
  },
  {
   "cell_type": "code",
   "execution_count": 43,
   "metadata": {
    "collapsed": false
   },
   "outputs": [
    {
     "name": "stdout",
     "output_type": "stream",
     "text": [
      "2015-12-23 20:04:59,235 INFO sqlalchemy.engine.base.Engine SELECT transactions.\"SCTG\" \n",
      "FROM transactions, (SELECT transactions.\"SHIPMT_ID\" AS \"SHIPMT_ID\", transactions.\"ORIG_STATE\" AS \"ORIG_STATE\", transactions.\"ORIG_MA\" AS \"ORIG_MA\", transactions.\"ORIG_CFS_AREA\" AS \"ORIG_CFS_AREA\", transactions.\"DEST_STATE\" AS \"DEST_STATE\", transactions.\"DEST_MA\" AS \"DEST_MA\", transactions.\"DEST_CFS_AREA\" AS \"DEST_CFS_AREA\", transactions.\"NAICS\" AS \"NAICS\", transactions.\"QUARTER\" AS \"QUARTER\", transactions.\"SCTG\" AS \"SCTG\", transactions.\"MODE\" AS \"MODE\", transactions.\"SHIPMT_VALUE\" AS \"SHIPMT_VALUE\", transactions.\"SHIPMT_WGHT\" AS \"SHIPMT_WGHT\", transactions.\"SHIPMT_DIST_GC\" AS \"SHIPMT_DIST_GC\", transactions.\"SHIPMT_DIST_ROUTED\" AS \"SHIPMT_DIST_ROUTED\", transactions.\"TEMP_CNTL_YN\" AS \"TEMP_CNTL_YN\", transactions.\"EXPORT_YN\" AS \"EXPORT_YN\", transactions.\"EXPORT_CNTRY\" AS \"EXPORT_CNTRY\", transactions.\"HAZMAT\" AS \"HAZMAT\", transactions.\"WGT_FACTOR\" AS \"WGT_FACTOR\", \"FIPS_States\".\"Alpha code\" AS \"Alpha code\" \n",
      "FROM transactions JOIN \"FIPS_States\" ON transactions.\"ORIG_STATE\" = \"FIPS_States\".\"Numeric code\" \n",
      "WHERE \"FIPS_States\".\"Alpha code\" LIKE %(Alpha code_1)s) \n",
      " LIMIT %(param_1)s\n"
     ]
    },
    {
     "name": "stderr",
     "output_type": "stream",
     "text": [
      "INFO:sqlalchemy.engine.base.Engine:SELECT transactions.\"SCTG\" \n",
      "FROM transactions, (SELECT transactions.\"SHIPMT_ID\" AS \"SHIPMT_ID\", transactions.\"ORIG_STATE\" AS \"ORIG_STATE\", transactions.\"ORIG_MA\" AS \"ORIG_MA\", transactions.\"ORIG_CFS_AREA\" AS \"ORIG_CFS_AREA\", transactions.\"DEST_STATE\" AS \"DEST_STATE\", transactions.\"DEST_MA\" AS \"DEST_MA\", transactions.\"DEST_CFS_AREA\" AS \"DEST_CFS_AREA\", transactions.\"NAICS\" AS \"NAICS\", transactions.\"QUARTER\" AS \"QUARTER\", transactions.\"SCTG\" AS \"SCTG\", transactions.\"MODE\" AS \"MODE\", transactions.\"SHIPMT_VALUE\" AS \"SHIPMT_VALUE\", transactions.\"SHIPMT_WGHT\" AS \"SHIPMT_WGHT\", transactions.\"SHIPMT_DIST_GC\" AS \"SHIPMT_DIST_GC\", transactions.\"SHIPMT_DIST_ROUTED\" AS \"SHIPMT_DIST_ROUTED\", transactions.\"TEMP_CNTL_YN\" AS \"TEMP_CNTL_YN\", transactions.\"EXPORT_YN\" AS \"EXPORT_YN\", transactions.\"EXPORT_CNTRY\" AS \"EXPORT_CNTRY\", transactions.\"HAZMAT\" AS \"HAZMAT\", transactions.\"WGT_FACTOR\" AS \"WGT_FACTOR\", \"FIPS_States\".\"Alpha code\" AS \"Alpha code\" \n",
      "FROM transactions JOIN \"FIPS_States\" ON transactions.\"ORIG_STATE\" = \"FIPS_States\".\"Numeric code\" \n",
      "WHERE \"FIPS_States\".\"Alpha code\" LIKE %(Alpha code_1)s) \n",
      " LIMIT %(param_1)s\n"
     ]
    },
    {
     "name": "stdout",
     "output_type": "stream",
     "text": [
      "2015-12-23 20:04:59,237 INFO sqlalchemy.engine.base.Engine {'param_1': 10, 'Alpha code_1': 'C%'}\n"
     ]
    },
    {
     "name": "stderr",
     "output_type": "stream",
     "text": [
      "INFO:sqlalchemy.engine.base.Engine:{'param_1': 10, 'Alpha code_1': 'C%'}\n"
     ]
    },
    {
     "name": "stdout",
     "output_type": "stream",
     "text": [
      "2015-12-23 20:04:59,290 INFO sqlalchemy.engine.base.Engine ROLLBACK\n"
     ]
    },
    {
     "name": "stderr",
     "output_type": "stream",
     "text": [
      "INFO:sqlalchemy.engine.base.Engine:ROLLBACK\n"
     ]
    },
    {
     "ename": "ProgrammingError",
     "evalue": "(psycopg2.ProgrammingError) subquery in FROM must have an alias\nLINE 2: FROM transactions, (SELECT transactions.\"SHIPMT_ID\" AS \"SHIP...\n                           ^\nHINT:  For example, FROM (SELECT ...) [AS] foo.\n [SQL: 'SELECT transactions.\"SCTG\" \\nFROM transactions, (SELECT transactions.\"SHIPMT_ID\" AS \"SHIPMT_ID\", transactions.\"ORIG_STATE\" AS \"ORIG_STATE\", transactions.\"ORIG_MA\" AS \"ORIG_MA\", transactions.\"ORIG_CFS_AREA\" AS \"ORIG_CFS_AREA\", transactions.\"DEST_STATE\" AS \"DEST_STATE\", transactions.\"DEST_MA\" AS \"DEST_MA\", transactions.\"DEST_CFS_AREA\" AS \"DEST_CFS_AREA\", transactions.\"NAICS\" AS \"NAICS\", transactions.\"QUARTER\" AS \"QUARTER\", transactions.\"SCTG\" AS \"SCTG\", transactions.\"MODE\" AS \"MODE\", transactions.\"SHIPMT_VALUE\" AS \"SHIPMT_VALUE\", transactions.\"SHIPMT_WGHT\" AS \"SHIPMT_WGHT\", transactions.\"SHIPMT_DIST_GC\" AS \"SHIPMT_DIST_GC\", transactions.\"SHIPMT_DIST_ROUTED\" AS \"SHIPMT_DIST_ROUTED\", transactions.\"TEMP_CNTL_YN\" AS \"TEMP_CNTL_YN\", transactions.\"EXPORT_YN\" AS \"EXPORT_YN\", transactions.\"EXPORT_CNTRY\" AS \"EXPORT_CNTRY\", transactions.\"HAZMAT\" AS \"HAZMAT\", transactions.\"WGT_FACTOR\" AS \"WGT_FACTOR\", \"FIPS_States\".\"Alpha code\" AS \"Alpha code\" \\nFROM transactions JOIN \"FIPS_States\" ON transactions.\"ORIG_STATE\" = \"FIPS_States\".\"Numeric code\" \\nWHERE \"FIPS_States\".\"Alpha code\" LIKE %(Alpha code_1)s) \\n LIMIT %(param_1)s'] [parameters: {'param_1': 10, 'Alpha code_1': 'C%'}]",
     "output_type": "error",
     "traceback": [
      "\u001b[0;31m---------------------------------------------------------------------------\u001b[0m",
      "\u001b[0;31mProgrammingError\u001b[0m                          Traceback (most recent call last)",
      "\u001b[0;32m/Users/Sohail/Virtualenvs/machineLearn/lib/python3.4/site-packages/sqlalchemy/engine/base.py\u001b[0m in \u001b[0;36m_execute_context\u001b[0;34m(self, dialect, constructor, statement, parameters, *args)\u001b[0m\n\u001b[1;32m   1138\u001b[0m                         \u001b[0mparameters\u001b[0m\u001b[0;34m,\u001b[0m\u001b[0;34m\u001b[0m\u001b[0m\n\u001b[0;32m-> 1139\u001b[0;31m                         context)\n\u001b[0m\u001b[1;32m   1140\u001b[0m         \u001b[0;32mexcept\u001b[0m \u001b[0mException\u001b[0m \u001b[0;32mas\u001b[0m \u001b[0me\u001b[0m\u001b[0;34m:\u001b[0m\u001b[0;34m\u001b[0m\u001b[0m\n",
      "\u001b[0;32m/Users/Sohail/Virtualenvs/machineLearn/lib/python3.4/site-packages/sqlalchemy/engine/default.py\u001b[0m in \u001b[0;36mdo_execute\u001b[0;34m(self, cursor, statement, parameters, context)\u001b[0m\n\u001b[1;32m    449\u001b[0m     \u001b[0;32mdef\u001b[0m \u001b[0mdo_execute\u001b[0m\u001b[0;34m(\u001b[0m\u001b[0mself\u001b[0m\u001b[0;34m,\u001b[0m \u001b[0mcursor\u001b[0m\u001b[0;34m,\u001b[0m \u001b[0mstatement\u001b[0m\u001b[0;34m,\u001b[0m \u001b[0mparameters\u001b[0m\u001b[0;34m,\u001b[0m \u001b[0mcontext\u001b[0m\u001b[0;34m=\u001b[0m\u001b[0;32mNone\u001b[0m\u001b[0;34m)\u001b[0m\u001b[0;34m:\u001b[0m\u001b[0;34m\u001b[0m\u001b[0m\n\u001b[0;32m--> 450\u001b[0;31m         \u001b[0mcursor\u001b[0m\u001b[0;34m.\u001b[0m\u001b[0mexecute\u001b[0m\u001b[0;34m(\u001b[0m\u001b[0mstatement\u001b[0m\u001b[0;34m,\u001b[0m \u001b[0mparameters\u001b[0m\u001b[0;34m)\u001b[0m\u001b[0;34m\u001b[0m\u001b[0m\n\u001b[0m\u001b[1;32m    451\u001b[0m \u001b[0;34m\u001b[0m\u001b[0m\n",
      "\u001b[0;31mProgrammingError\u001b[0m: subquery in FROM must have an alias\nLINE 2: FROM transactions, (SELECT transactions.\"SHIPMT_ID\" AS \"SHIP...\n                           ^\nHINT:  For example, FROM (SELECT ...) [AS] foo.\n",
      "\nThe above exception was the direct cause of the following exception:\n",
      "\u001b[0;31mProgrammingError\u001b[0m                          Traceback (most recent call last)",
      "\u001b[0;32m<ipython-input-43-8bf67be63a83>\u001b[0m in \u001b[0;36m<module>\u001b[0;34m()\u001b[0m\n\u001b[0;32m----> 1\u001b[0;31m \u001b[0mconn\u001b[0m\u001b[0;34m.\u001b[0m\u001b[0mexecute\u001b[0m\u001b[0;34m(\u001b[0m\u001b[0menclosing_stmt\u001b[0m\u001b[0;34m)\u001b[0m\u001b[0;34m\u001b[0m\u001b[0m\n\u001b[0m",
      "\u001b[0;32m/Users/Sohail/Virtualenvs/machineLearn/lib/python3.4/site-packages/sqlalchemy/engine/base.py\u001b[0m in \u001b[0;36mexecute\u001b[0;34m(self, object, *multiparams, **params)\u001b[0m\n\u001b[1;32m    912\u001b[0m                 type(object))\n\u001b[1;32m    913\u001b[0m         \u001b[0;32melse\u001b[0m\u001b[0;34m:\u001b[0m\u001b[0;34m\u001b[0m\u001b[0m\n\u001b[0;32m--> 914\u001b[0;31m             \u001b[0;32mreturn\u001b[0m \u001b[0mmeth\u001b[0m\u001b[0;34m(\u001b[0m\u001b[0mself\u001b[0m\u001b[0;34m,\u001b[0m \u001b[0mmultiparams\u001b[0m\u001b[0;34m,\u001b[0m \u001b[0mparams\u001b[0m\u001b[0;34m)\u001b[0m\u001b[0;34m\u001b[0m\u001b[0m\n\u001b[0m\u001b[1;32m    915\u001b[0m \u001b[0;34m\u001b[0m\u001b[0m\n\u001b[1;32m    916\u001b[0m     \u001b[0;32mdef\u001b[0m \u001b[0m_execute_function\u001b[0m\u001b[0;34m(\u001b[0m\u001b[0mself\u001b[0m\u001b[0;34m,\u001b[0m \u001b[0mfunc\u001b[0m\u001b[0;34m,\u001b[0m \u001b[0mmultiparams\u001b[0m\u001b[0;34m,\u001b[0m \u001b[0mparams\u001b[0m\u001b[0;34m)\u001b[0m\u001b[0;34m:\u001b[0m\u001b[0;34m\u001b[0m\u001b[0m\n",
      "\u001b[0;32m/Users/Sohail/Virtualenvs/machineLearn/lib/python3.4/site-packages/sqlalchemy/sql/elements.py\u001b[0m in \u001b[0;36m_execute_on_connection\u001b[0;34m(self, connection, multiparams, params)\u001b[0m\n\u001b[1;32m    321\u001b[0m \u001b[0;34m\u001b[0m\u001b[0m\n\u001b[1;32m    322\u001b[0m     \u001b[0;32mdef\u001b[0m \u001b[0m_execute_on_connection\u001b[0m\u001b[0;34m(\u001b[0m\u001b[0mself\u001b[0m\u001b[0;34m,\u001b[0m \u001b[0mconnection\u001b[0m\u001b[0;34m,\u001b[0m \u001b[0mmultiparams\u001b[0m\u001b[0;34m,\u001b[0m \u001b[0mparams\u001b[0m\u001b[0;34m)\u001b[0m\u001b[0;34m:\u001b[0m\u001b[0;34m\u001b[0m\u001b[0m\n\u001b[0;32m--> 323\u001b[0;31m         \u001b[0;32mreturn\u001b[0m \u001b[0mconnection\u001b[0m\u001b[0;34m.\u001b[0m\u001b[0m_execute_clauseelement\u001b[0m\u001b[0;34m(\u001b[0m\u001b[0mself\u001b[0m\u001b[0;34m,\u001b[0m \u001b[0mmultiparams\u001b[0m\u001b[0;34m,\u001b[0m \u001b[0mparams\u001b[0m\u001b[0;34m)\u001b[0m\u001b[0;34m\u001b[0m\u001b[0m\n\u001b[0m\u001b[1;32m    324\u001b[0m \u001b[0;34m\u001b[0m\u001b[0m\n\u001b[1;32m    325\u001b[0m     \u001b[0;32mdef\u001b[0m \u001b[0munique_params\u001b[0m\u001b[0;34m(\u001b[0m\u001b[0mself\u001b[0m\u001b[0;34m,\u001b[0m \u001b[0;34m*\u001b[0m\u001b[0moptionaldict\u001b[0m\u001b[0;34m,\u001b[0m \u001b[0;34m**\u001b[0m\u001b[0mkwargs\u001b[0m\u001b[0;34m)\u001b[0m\u001b[0;34m:\u001b[0m\u001b[0;34m\u001b[0m\u001b[0m\n",
      "\u001b[0;32m/Users/Sohail/Virtualenvs/machineLearn/lib/python3.4/site-packages/sqlalchemy/engine/base.py\u001b[0m in \u001b[0;36m_execute_clauseelement\u001b[0;34m(self, elem, multiparams, params)\u001b[0m\n\u001b[1;32m   1008\u001b[0m             \u001b[0mcompiled_sql\u001b[0m\u001b[0;34m,\u001b[0m\u001b[0;34m\u001b[0m\u001b[0m\n\u001b[1;32m   1009\u001b[0m             \u001b[0mdistilled_params\u001b[0m\u001b[0;34m,\u001b[0m\u001b[0;34m\u001b[0m\u001b[0m\n\u001b[0;32m-> 1010\u001b[0;31m             \u001b[0mcompiled_sql\u001b[0m\u001b[0;34m,\u001b[0m \u001b[0mdistilled_params\u001b[0m\u001b[0;34m\u001b[0m\u001b[0m\n\u001b[0m\u001b[1;32m   1011\u001b[0m         )\n\u001b[1;32m   1012\u001b[0m         \u001b[0;32mif\u001b[0m \u001b[0mself\u001b[0m\u001b[0;34m.\u001b[0m\u001b[0m_has_events\u001b[0m \u001b[0;32mor\u001b[0m \u001b[0mself\u001b[0m\u001b[0;34m.\u001b[0m\u001b[0mengine\u001b[0m\u001b[0;34m.\u001b[0m\u001b[0m_has_events\u001b[0m\u001b[0;34m:\u001b[0m\u001b[0;34m\u001b[0m\u001b[0m\n",
      "\u001b[0;32m/Users/Sohail/Virtualenvs/machineLearn/lib/python3.4/site-packages/sqlalchemy/engine/base.py\u001b[0m in \u001b[0;36m_execute_context\u001b[0;34m(self, dialect, constructor, statement, parameters, *args)\u001b[0m\n\u001b[1;32m   1144\u001b[0m                 \u001b[0mparameters\u001b[0m\u001b[0;34m,\u001b[0m\u001b[0;34m\u001b[0m\u001b[0m\n\u001b[1;32m   1145\u001b[0m                 \u001b[0mcursor\u001b[0m\u001b[0;34m,\u001b[0m\u001b[0;34m\u001b[0m\u001b[0m\n\u001b[0;32m-> 1146\u001b[0;31m                 context)\n\u001b[0m\u001b[1;32m   1147\u001b[0m \u001b[0;34m\u001b[0m\u001b[0m\n\u001b[1;32m   1148\u001b[0m         \u001b[0;32mif\u001b[0m \u001b[0mself\u001b[0m\u001b[0;34m.\u001b[0m\u001b[0m_has_events\u001b[0m \u001b[0;32mor\u001b[0m \u001b[0mself\u001b[0m\u001b[0;34m.\u001b[0m\u001b[0mengine\u001b[0m\u001b[0;34m.\u001b[0m\u001b[0m_has_events\u001b[0m\u001b[0;34m:\u001b[0m\u001b[0;34m\u001b[0m\u001b[0m\n",
      "\u001b[0;32m/Users/Sohail/Virtualenvs/machineLearn/lib/python3.4/site-packages/sqlalchemy/engine/base.py\u001b[0m in \u001b[0;36m_handle_dbapi_exception\u001b[0;34m(self, e, statement, parameters, cursor, context)\u001b[0m\n\u001b[1;32m   1339\u001b[0m                 util.raise_from_cause(\n\u001b[1;32m   1340\u001b[0m                     \u001b[0msqlalchemy_exception\u001b[0m\u001b[0;34m,\u001b[0m\u001b[0;34m\u001b[0m\u001b[0m\n\u001b[0;32m-> 1341\u001b[0;31m                     \u001b[0mexc_info\u001b[0m\u001b[0;34m\u001b[0m\u001b[0m\n\u001b[0m\u001b[1;32m   1342\u001b[0m                 )\n\u001b[1;32m   1343\u001b[0m             \u001b[0;32melse\u001b[0m\u001b[0;34m:\u001b[0m\u001b[0;34m\u001b[0m\u001b[0m\n",
      "\u001b[0;32m/Users/Sohail/Virtualenvs/machineLearn/lib/python3.4/site-packages/sqlalchemy/util/compat.py\u001b[0m in \u001b[0;36mraise_from_cause\u001b[0;34m(exception, exc_info)\u001b[0m\n\u001b[1;32m    186\u001b[0m             \u001b[0mexc_info\u001b[0m \u001b[0;34m=\u001b[0m \u001b[0msys\u001b[0m\u001b[0;34m.\u001b[0m\u001b[0mexc_info\u001b[0m\u001b[0;34m(\u001b[0m\u001b[0;34m)\u001b[0m\u001b[0;34m\u001b[0m\u001b[0m\n\u001b[1;32m    187\u001b[0m         \u001b[0mexc_type\u001b[0m\u001b[0;34m,\u001b[0m \u001b[0mexc_value\u001b[0m\u001b[0;34m,\u001b[0m \u001b[0mexc_tb\u001b[0m \u001b[0;34m=\u001b[0m \u001b[0mexc_info\u001b[0m\u001b[0;34m\u001b[0m\u001b[0m\n\u001b[0;32m--> 188\u001b[0;31m         \u001b[0mreraise\u001b[0m\u001b[0;34m(\u001b[0m\u001b[0mtype\u001b[0m\u001b[0;34m(\u001b[0m\u001b[0mexception\u001b[0m\u001b[0;34m)\u001b[0m\u001b[0;34m,\u001b[0m \u001b[0mexception\u001b[0m\u001b[0;34m,\u001b[0m \u001b[0mtb\u001b[0m\u001b[0;34m=\u001b[0m\u001b[0mexc_tb\u001b[0m\u001b[0;34m,\u001b[0m \u001b[0mcause\u001b[0m\u001b[0;34m=\u001b[0m\u001b[0mexc_value\u001b[0m\u001b[0;34m)\u001b[0m\u001b[0;34m\u001b[0m\u001b[0m\n\u001b[0m\u001b[1;32m    189\u001b[0m \u001b[0;32melse\u001b[0m\u001b[0;34m:\u001b[0m\u001b[0;34m\u001b[0m\u001b[0m\n\u001b[1;32m    190\u001b[0m     exec(\"def reraise(tp, value, tb=None, cause=None):\\n\"\n",
      "\u001b[0;32m/Users/Sohail/Virtualenvs/machineLearn/lib/python3.4/site-packages/sqlalchemy/util/compat.py\u001b[0m in \u001b[0;36mreraise\u001b[0;34m(tp, value, tb, cause)\u001b[0m\n\u001b[1;32m    179\u001b[0m             \u001b[0mvalue\u001b[0m\u001b[0;34m.\u001b[0m\u001b[0m__cause__\u001b[0m \u001b[0;34m=\u001b[0m \u001b[0mcause\u001b[0m\u001b[0;34m\u001b[0m\u001b[0m\n\u001b[1;32m    180\u001b[0m         \u001b[0;32mif\u001b[0m \u001b[0mvalue\u001b[0m\u001b[0;34m.\u001b[0m\u001b[0m__traceback__\u001b[0m \u001b[0;32mis\u001b[0m \u001b[0;32mnot\u001b[0m \u001b[0mtb\u001b[0m\u001b[0;34m:\u001b[0m\u001b[0;34m\u001b[0m\u001b[0m\n\u001b[0;32m--> 181\u001b[0;31m             \u001b[0;32mraise\u001b[0m \u001b[0mvalue\u001b[0m\u001b[0;34m.\u001b[0m\u001b[0mwith_traceback\u001b[0m\u001b[0;34m(\u001b[0m\u001b[0mtb\u001b[0m\u001b[0;34m)\u001b[0m\u001b[0;34m\u001b[0m\u001b[0m\n\u001b[0m\u001b[1;32m    182\u001b[0m         \u001b[0;32mraise\u001b[0m \u001b[0mvalue\u001b[0m\u001b[0;34m\u001b[0m\u001b[0m\n\u001b[1;32m    183\u001b[0m \u001b[0;34m\u001b[0m\u001b[0m\n",
      "\u001b[0;32m/Users/Sohail/Virtualenvs/machineLearn/lib/python3.4/site-packages/sqlalchemy/engine/base.py\u001b[0m in \u001b[0;36m_execute_context\u001b[0;34m(self, dialect, constructor, statement, parameters, *args)\u001b[0m\n\u001b[1;32m   1137\u001b[0m                         \u001b[0mstatement\u001b[0m\u001b[0;34m,\u001b[0m\u001b[0;34m\u001b[0m\u001b[0m\n\u001b[1;32m   1138\u001b[0m                         \u001b[0mparameters\u001b[0m\u001b[0;34m,\u001b[0m\u001b[0;34m\u001b[0m\u001b[0m\n\u001b[0;32m-> 1139\u001b[0;31m                         context)\n\u001b[0m\u001b[1;32m   1140\u001b[0m         \u001b[0;32mexcept\u001b[0m \u001b[0mException\u001b[0m \u001b[0;32mas\u001b[0m \u001b[0me\u001b[0m\u001b[0;34m:\u001b[0m\u001b[0;34m\u001b[0m\u001b[0m\n\u001b[1;32m   1141\u001b[0m             self._handle_dbapi_exception(\n",
      "\u001b[0;32m/Users/Sohail/Virtualenvs/machineLearn/lib/python3.4/site-packages/sqlalchemy/engine/default.py\u001b[0m in \u001b[0;36mdo_execute\u001b[0;34m(self, cursor, statement, parameters, context)\u001b[0m\n\u001b[1;32m    448\u001b[0m \u001b[0;34m\u001b[0m\u001b[0m\n\u001b[1;32m    449\u001b[0m     \u001b[0;32mdef\u001b[0m \u001b[0mdo_execute\u001b[0m\u001b[0;34m(\u001b[0m\u001b[0mself\u001b[0m\u001b[0;34m,\u001b[0m \u001b[0mcursor\u001b[0m\u001b[0;34m,\u001b[0m \u001b[0mstatement\u001b[0m\u001b[0;34m,\u001b[0m \u001b[0mparameters\u001b[0m\u001b[0;34m,\u001b[0m \u001b[0mcontext\u001b[0m\u001b[0;34m=\u001b[0m\u001b[0;32mNone\u001b[0m\u001b[0;34m)\u001b[0m\u001b[0;34m:\u001b[0m\u001b[0;34m\u001b[0m\u001b[0m\n\u001b[0;32m--> 450\u001b[0;31m         \u001b[0mcursor\u001b[0m\u001b[0;34m.\u001b[0m\u001b[0mexecute\u001b[0m\u001b[0;34m(\u001b[0m\u001b[0mstatement\u001b[0m\u001b[0;34m,\u001b[0m \u001b[0mparameters\u001b[0m\u001b[0;34m)\u001b[0m\u001b[0;34m\u001b[0m\u001b[0m\n\u001b[0m\u001b[1;32m    451\u001b[0m \u001b[0;34m\u001b[0m\u001b[0m\n\u001b[1;32m    452\u001b[0m     \u001b[0;32mdef\u001b[0m \u001b[0mdo_execute_no_params\u001b[0m\u001b[0;34m(\u001b[0m\u001b[0mself\u001b[0m\u001b[0;34m,\u001b[0m \u001b[0mcursor\u001b[0m\u001b[0;34m,\u001b[0m \u001b[0mstatement\u001b[0m\u001b[0;34m,\u001b[0m \u001b[0mcontext\u001b[0m\u001b[0;34m=\u001b[0m\u001b[0;32mNone\u001b[0m\u001b[0;34m)\u001b[0m\u001b[0;34m:\u001b[0m\u001b[0;34m\u001b[0m\u001b[0m\n",
      "\u001b[0;31mProgrammingError\u001b[0m: (psycopg2.ProgrammingError) subquery in FROM must have an alias\nLINE 2: FROM transactions, (SELECT transactions.\"SHIPMT_ID\" AS \"SHIP...\n                           ^\nHINT:  For example, FROM (SELECT ...) [AS] foo.\n [SQL: 'SELECT transactions.\"SCTG\" \\nFROM transactions, (SELECT transactions.\"SHIPMT_ID\" AS \"SHIPMT_ID\", transactions.\"ORIG_STATE\" AS \"ORIG_STATE\", transactions.\"ORIG_MA\" AS \"ORIG_MA\", transactions.\"ORIG_CFS_AREA\" AS \"ORIG_CFS_AREA\", transactions.\"DEST_STATE\" AS \"DEST_STATE\", transactions.\"DEST_MA\" AS \"DEST_MA\", transactions.\"DEST_CFS_AREA\" AS \"DEST_CFS_AREA\", transactions.\"NAICS\" AS \"NAICS\", transactions.\"QUARTER\" AS \"QUARTER\", transactions.\"SCTG\" AS \"SCTG\", transactions.\"MODE\" AS \"MODE\", transactions.\"SHIPMT_VALUE\" AS \"SHIPMT_VALUE\", transactions.\"SHIPMT_WGHT\" AS \"SHIPMT_WGHT\", transactions.\"SHIPMT_DIST_GC\" AS \"SHIPMT_DIST_GC\", transactions.\"SHIPMT_DIST_ROUTED\" AS \"SHIPMT_DIST_ROUTED\", transactions.\"TEMP_CNTL_YN\" AS \"TEMP_CNTL_YN\", transactions.\"EXPORT_YN\" AS \"EXPORT_YN\", transactions.\"EXPORT_CNTRY\" AS \"EXPORT_CNTRY\", transactions.\"HAZMAT\" AS \"HAZMAT\", transactions.\"WGT_FACTOR\" AS \"WGT_FACTOR\", \"FIPS_States\".\"Alpha code\" AS \"Alpha code\" \\nFROM transactions JOIN \"FIPS_States\" ON transactions.\"ORIG_STATE\" = \"FIPS_States\".\"Numeric code\" \\nWHERE \"FIPS_States\".\"Alpha code\" LIKE %(Alpha code_1)s) \\n LIMIT %(param_1)s'] [parameters: {'param_1': 10, 'Alpha code_1': 'C%'}]"
     ]
    }
   ],
   "source": [
    "conn.execute(enclosing_stmt)"
   ]
  },
  {
   "cell_type": "markdown",
   "metadata": {},
   "source": [
    "##### Controlling correlations\n",
    "\n",
    "You can use the correlate method to control the behavior of correlations"
   ]
  },
  {
   "cell_type": "code",
   "execution_count": null,
   "metadata": {
    "collapsed": true
   },
   "outputs": [],
   "source": []
  },
  {
   "cell_type": "code",
   "execution_count": null,
   "metadata": {
    "collapsed": false
   },
   "outputs": [],
   "source": [
    "import json"
   ]
  },
  {
   "cell_type": "markdown",
   "metadata": {},
   "source": [
    "Now you can export to a json file for a temporary data file"
   ]
  },
  {
   "cell_type": "code",
   "execution_count": null,
   "metadata": {
    "collapsed": false,
    "scrolled": true
   },
   "outputs": [],
   "source": [
    "#with open('app/testdata.json', 'w') as f:\n",
    "#    f.write((json.dumps(list_of_dicts, indent=2, separators=(',', ':'))))"
   ]
  },
  {
   "cell_type": "code",
   "execution_count": null,
   "metadata": {
    "collapsed": false
   },
   "outputs": [],
   "source": [
    "c = case([(transactions.c['ORIG_STATE']==transactions.c['DEST_STATE'], True)], else_=False)"
   ]
  },
  {
   "cell_type": "code",
   "execution_count": null,
   "metadata": {
    "collapsed": false
   },
   "outputs": [],
   "source": [
    "s = select([transactions]).where(c).limit(10);"
   ]
  },
  {
   "cell_type": "code",
   "execution_count": null,
   "metadata": {
    "collapsed": false
   },
   "outputs": [],
   "source": [
    "for i in get_rows(conn.execute(s).fetchall()):\n",
    "    print(i)"
   ]
  },
  {
   "cell_type": "markdown",
   "metadata": {},
   "source": [
    "Data structure\n",
    "\n",
    "{orig_state_code:\n",
    " dest_state_code:\n",
    " orig_coords:\n",
    " dest_coords:\n",
    "}"
   ]
  },
  {
   "cell_type": "code",
   "execution_count": null,
   "metadata": {
    "collapsed": false
   },
   "outputs": [],
   "source": [
    "joined_states = text(\n",
    "    \"\"\"\n",
    "    SELECT \n",
    "        fips.\"Name\" as state_name,\n",
    "        fips.\"Numeric code\" as numeric_code,\n",
    "        state_coords.latitude as lat,\n",
    "        state_coords.longitude as long\n",
    "    FROM \"FIPS_States\" fips\n",
    "    JOIN \"state_latlon\" state_coords\n",
    "    ON state_coords.state = fips.\"Alpha code\"\n",
    "    \"\"\")\n",
    "\n",
    "list(get_rows(conn.execute(joined_states).fetchall()))"
   ]
  },
  {
   "cell_type": "code",
   "execution_count": null,
   "metadata": {
    "collapsed": false
   },
   "outputs": [],
   "source": [
    "states_and_coords = select([state_latlon, FIPS_States]).where(state_latlon.c.state == FIPS_States.c.get('Alpha code'))"
   ]
  },
  {
   "cell_type": "code",
   "execution_count": null,
   "metadata": {
    "collapsed": false
   },
   "outputs": [],
   "source": [
    "conn.execute(states_and_coords)"
   ]
  },
  {
   "cell_type": "code",
   "execution_count": null,
   "metadata": {
    "collapsed": true
   },
   "outputs": [],
   "source": [
    "orig_state = 'CA'\n",
    "dest_state = 'TX'"
   ]
  },
  {
   "cell_type": "code",
   "execution_count": null,
   "metadata": {
    "collapsed": false
   },
   "outputs": [],
   "source": [
    "states = select([FIPS_States]).where(or_(\n",
    "    FIPS_States.c['Alpha code']==orig_state,\n",
    "    FIPS_States.c['Alpha code']==dest_state)\n",
    ")\n",
    "\n",
    "conn.execute(states).fetchall()"
   ]
  },
  {
   "cell_type": "markdown",
   "metadata": {},
   "source": [
    "### I need a way to query a database like so, \n",
    "\n",
    "    \"SELECT * \n",
    "        FROM transactions\n",
    "        WHERE orig_state = 'CA' AND dest_state= 'TX'\n",
    "    \""
   ]
  },
  {
   "cell_type": "code",
   "execution_count": null,
   "metadata": {
    "collapsed": false
   },
   "outputs": [],
   "source": [
    "d = pd.read_sql_query(con = engine, sql = select([FIPS_States]))"
   ]
  },
  {
   "cell_type": "code",
   "execution_count": null,
   "metadata": {
    "collapsed": false
   },
   "outputs": [],
   "source": [
    "d2 = pd.read_sql_query(con = engine, sql = select([transactions]).limit(2000))"
   ]
  },
  {
   "cell_type": "code",
   "execution_count": null,
   "metadata": {
    "collapsed": false
   },
   "outputs": [],
   "source": [
    "d3 = pd.merge(pd.merge(d, d2, left_on=[\"Numeric code\"], right_on=[\"ORIG_STATE\"]), d, \n",
    "         left_on=\"DEST_STATE\", right_on=\"Numeric code\")"
   ]
  },
  {
   "cell_type": "code",
   "execution_count": null,
   "metadata": {
    "collapsed": false
   },
   "outputs": [],
   "source": [
    "d3 = d3.rename(columns={'Name_x': 'Source_Name', \n",
    "                   'Alpha code_x': 'Source_alpha_code',\n",
    "                    'Name_y': 'Dest_Name',\n",
    "                    'Alpha code_y': 'Dest_alpha_code'})"
   ]
  },
  {
   "cell_type": "markdown",
   "metadata": {},
   "source": [
    "Use set operators from python to get the intersection of these predicates"
   ]
  },
  {
   "cell_type": "code",
   "execution_count": null,
   "metadata": {
    "collapsed": false
   },
   "outputs": [],
   "source": [
    "d3[(d3['Dest_alpha_code'] == 'CA') & (d3['Source_alpha_code'] == 'TX')]"
   ]
  },
  {
   "cell_type": "code",
   "execution_count": null,
   "metadata": {
    "collapsed": false
   },
   "outputs": [],
   "source": [
    "gb = d3.groupby(['Dest_alpha_code', 'Source_alpha_code'])"
   ]
  },
  {
   "cell_type": "code",
   "execution_count": null,
   "metadata": {
    "collapsed": false
   },
   "outputs": [],
   "source": [
    "gb.get_group(('CA', 'CA')).SHIPMT_VALUE.describe().reset_index()"
   ]
  },
  {
   "cell_type": "code",
   "execution_count": null,
   "metadata": {
    "collapsed": false
   },
   "outputs": [],
   "source": [
    "gb.groups.keys()"
   ]
  },
  {
   "cell_type": "code",
   "execution_count": null,
   "metadata": {
    "collapsed": false
   },
   "outputs": [],
   "source": []
  },
  {
   "cell_type": "markdown",
   "metadata": {},
   "source": [
    "### This way works, but I'm worried that there will be a lot of overhead joining tables constantly, so I will create a new table that contains the source name, and alpha code along with the destination info into a new table called transactions_joined\n",
    "\n",
    "### You can create a new table from a previous one using sql alchemy's Insert From Select"
   ]
  },
  {
   "cell_type": "code",
   "execution_count": null,
   "metadata": {
    "collapsed": false
   },
   "outputs": [],
   "source": [
    "#list(get_rows(conn.execute(select([FIPS_States.c.get(\"Numeric code\")])).fetchall()))"
   ]
  },
  {
   "cell_type": "code",
   "execution_count": 20,
   "metadata": {
    "collapsed": true
   },
   "outputs": [],
   "source": [
    "state_latlon_joined = FIPS_States.join(\n",
    "    state_latlon, onclause=state_latlon.c.state == FIPS_States.c[\"Alpha code\"])"
   ]
  },
  {
   "cell_type": "code",
   "execution_count": 49,
   "metadata": {
    "collapsed": true
   },
   "outputs": [
    {
     "name": "stdout",
     "output_type": "stream",
     "text": [
      "2015-12-23 20:56:15,094 INFO sqlalchemy.engine.base.Engine SELECT transactions.\"SHIPMT_ID\", transactions.\"ORIG_STATE\", transactions.\"ORIG_MA\", transactions.\"ORIG_CFS_AREA\", transactions.\"DEST_STATE\", transactions.\"DEST_MA\", transactions.\"DEST_CFS_AREA\", transactions.\"NAICS\", transactions.\"QUARTER\", transactions.\"SCTG\", transactions.\"MODE\", transactions.\"SHIPMT_VALUE\", transactions.\"SHIPMT_WGHT\", transactions.\"SHIPMT_DIST_GC\", transactions.\"SHIPMT_DIST_ROUTED\", transactions.\"TEMP_CNTL_YN\", transactions.\"EXPORT_YN\", transactions.\"EXPORT_CNTRY\", transactions.\"HAZMAT\", transactions.\"WGT_FACTOR\", \"FIPS_States\".\"Alpha code\" AS orig_state_alpha_code, \"FIPS_States\".\"Name\" AS orig_state_name, state_latlon.latitude AS orig_lat, state_latlon.longitude AS orig_lon \n",
      "FROM transactions JOIN (\"FIPS_States\" JOIN state_latlon ON state_latlon.state = \"FIPS_States\".\"Alpha code\") ON transactions.\"ORIG_STATE\" = \"FIPS_States\".\"Numeric code\" \n",
      " LIMIT %(param_1)s\n"
     ]
    },
    {
     "name": "stderr",
     "output_type": "stream",
     "text": [
      "INFO:sqlalchemy.engine.base.Engine:SELECT transactions.\"SHIPMT_ID\", transactions.\"ORIG_STATE\", transactions.\"ORIG_MA\", transactions.\"ORIG_CFS_AREA\", transactions.\"DEST_STATE\", transactions.\"DEST_MA\", transactions.\"DEST_CFS_AREA\", transactions.\"NAICS\", transactions.\"QUARTER\", transactions.\"SCTG\", transactions.\"MODE\", transactions.\"SHIPMT_VALUE\", transactions.\"SHIPMT_WGHT\", transactions.\"SHIPMT_DIST_GC\", transactions.\"SHIPMT_DIST_ROUTED\", transactions.\"TEMP_CNTL_YN\", transactions.\"EXPORT_YN\", transactions.\"EXPORT_CNTRY\", transactions.\"HAZMAT\", transactions.\"WGT_FACTOR\", \"FIPS_States\".\"Alpha code\" AS orig_state_alpha_code, \"FIPS_States\".\"Name\" AS orig_state_name, state_latlon.latitude AS orig_lat, state_latlon.longitude AS orig_lon \n",
      "FROM transactions JOIN (\"FIPS_States\" JOIN state_latlon ON state_latlon.state = \"FIPS_States\".\"Alpha code\") ON transactions.\"ORIG_STATE\" = \"FIPS_States\".\"Numeric code\" \n",
      " LIMIT %(param_1)s\n"
     ]
    },
    {
     "name": "stdout",
     "output_type": "stream",
     "text": [
      "2015-12-23 20:56:15,096 INFO sqlalchemy.engine.base.Engine {'param_1': 10}\n"
     ]
    },
    {
     "name": "stderr",
     "output_type": "stream",
     "text": [
      "INFO:sqlalchemy.engine.base.Engine:{'param_1': 10}\n"
     ]
    },
    {
     "data": {
      "text/plain": [
       "[{'DEST_CFS_AREA': '24-12580',\n",
       "  'DEST_MA': 12580,\n",
       "  'DEST_STATE': 24,\n",
       "  'EXPORT_CNTRY': 'N',\n",
       "  'EXPORT_YN': 'N',\n",
       "  'HAZMAT': 'N',\n",
       "  'MODE': 14,\n",
       "  'NAICS': 335,\n",
       "  'ORIG_CFS_AREA': '39-198',\n",
       "  'ORIG_MA': 198,\n",
       "  'ORIG_STATE': 39,\n",
       "  'QUARTER': 3,\n",
       "  'SCTG': '33',\n",
       "  'SHIPMT_DIST_GC': 339,\n",
       "  'SHIPMT_DIST_ROUTED': 412,\n",
       "  'SHIPMT_ID': 2992662,\n",
       "  'SHIPMT_VALUE': 147,\n",
       "  'SHIPMT_WGHT': 3,\n",
       "  'TEMP_CNTL_YN': 'N',\n",
       "  'WGT_FACTOR': 432.9,\n",
       "  'orig_lat': 40.3736,\n",
       "  'orig_lon': -82.7755,\n",
       "  'orig_state_alpha_code': 'OH',\n",
       "  'orig_state_name': 'Ohio'},\n",
       " {'DEST_CFS_AREA': '36-408',\n",
       "  'DEST_MA': 408,\n",
       "  'DEST_STATE': 36,\n",
       "  'EXPORT_CNTRY': 'N',\n",
       "  'EXPORT_YN': 'N',\n",
       "  'HAZMAT': 'N',\n",
       "  'MODE': 4,\n",
       "  'NAICS': 321,\n",
       "  'ORIG_CFS_AREA': '48-41700',\n",
       "  'ORIG_MA': 41700,\n",
       "  'ORIG_STATE': 48,\n",
       "  'QUARTER': 4,\n",
       "  'SCTG': '26',\n",
       "  'SHIPMT_DIST_GC': 1570,\n",
       "  'SHIPMT_DIST_ROUTED': 1821,\n",
       "  'SHIPMT_ID': 2992663,\n",
       "  'SHIPMT_VALUE': 6737,\n",
       "  'SHIPMT_WGHT': 2793,\n",
       "  'TEMP_CNTL_YN': 'N',\n",
       "  'WGT_FACTOR': 55.6,\n",
       "  'orig_lat': 31.106,\n",
       "  'orig_lon': -97.6475,\n",
       "  'orig_state_alpha_code': 'TX',\n",
       "  'orig_state_name': 'Texas'},\n",
       " {'DEST_CFS_AREA': '46-99999',\n",
       "  'DEST_MA': 99999,\n",
       "  'DEST_STATE': 46,\n",
       "  'EXPORT_CNTRY': 'N',\n",
       "  'EXPORT_YN': 'N',\n",
       "  'HAZMAT': 'N',\n",
       "  'MODE': 5,\n",
       "  'NAICS': 5111,\n",
       "  'ORIG_CFS_AREA': '46-99999',\n",
       "  'ORIG_MA': 99999,\n",
       "  'ORIG_STATE': 46,\n",
       "  'QUARTER': 3,\n",
       "  'SCTG': '29',\n",
       "  'SHIPMT_DIST_GC': 14,\n",
       "  'SHIPMT_DIST_ROUTED': 14,\n",
       "  'SHIPMT_ID': 2992664,\n",
       "  'SHIPMT_VALUE': 16,\n",
       "  'SHIPMT_WGHT': 5,\n",
       "  'TEMP_CNTL_YN': 'N',\n",
       "  'WGT_FACTOR': 193.1,\n",
       "  'orig_lat': 44.2853,\n",
       "  'orig_lon': -99.4632,\n",
       "  'orig_state_alpha_code': 'SD',\n",
       "  'orig_state_name': 'South Dakota'},\n",
       " {'DEST_CFS_AREA': '56-99999',\n",
       "  'DEST_MA': 99999,\n",
       "  'DEST_STATE': 56,\n",
       "  'EXPORT_CNTRY': 'N',\n",
       "  'EXPORT_YN': 'N',\n",
       "  'HAZMAT': 'N',\n",
       "  'MODE': 14,\n",
       "  'NAICS': 4243,\n",
       "  'ORIG_CFS_AREA': '51-545',\n",
       "  'ORIG_MA': 545,\n",
       "  'ORIG_STATE': 51,\n",
       "  'QUARTER': 1,\n",
       "  'SCTG': '40',\n",
       "  'SHIPMT_DIST_GC': 1757,\n",
       "  'SHIPMT_DIST_ROUTED': 2063,\n",
       "  'SHIPMT_ID': 2992665,\n",
       "  'SHIPMT_VALUE': 64,\n",
       "  'SHIPMT_WGHT': 1,\n",
       "  'TEMP_CNTL_YN': 'N',\n",
       "  'WGT_FACTOR': 52.2,\n",
       "  'orig_lat': 37.768,\n",
       "  'orig_lon': -78.2057,\n",
       "  'orig_state_alpha_code': 'VA',\n",
       "  'orig_state_name': 'Virginia'},\n",
       " {'DEST_CFS_AREA': '36-408',\n",
       "  'DEST_MA': 408,\n",
       "  'DEST_STATE': 36,\n",
       "  'EXPORT_CNTRY': 'N',\n",
       "  'EXPORT_YN': 'N',\n",
       "  'HAZMAT': 'N',\n",
       "  'MODE': 4,\n",
       "  'NAICS': 336,\n",
       "  'ORIG_CFS_AREA': '24-12580',\n",
       "  'ORIG_MA': 12580,\n",
       "  'ORIG_STATE': 24,\n",
       "  'QUARTER': 2,\n",
       "  'SCTG': '37',\n",
       "  'SHIPMT_DIST_GC': 182,\n",
       "  'SHIPMT_DIST_ROUTED': 222,\n",
       "  'SHIPMT_ID': 2992666,\n",
       "  'SHIPMT_VALUE': 763,\n",
       "  'SHIPMT_WGHT': 3,\n",
       "  'TEMP_CNTL_YN': 'N',\n",
       "  'WGT_FACTOR': 189.1,\n",
       "  'orig_lat': 39.0724,\n",
       "  'orig_lon': -76.7902,\n",
       "  'orig_state_alpha_code': 'MD',\n",
       "  'orig_state_name': 'Maryland'},\n",
       " {'DEST_CFS_AREA': '34-408',\n",
       "  'DEST_MA': 408,\n",
       "  'DEST_STATE': 34,\n",
       "  'EXPORT_CNTRY': 'N',\n",
       "  'EXPORT_YN': 'N',\n",
       "  'HAZMAT': 'N',\n",
       "  'MODE': 4,\n",
       "  'NAICS': 4238,\n",
       "  'ORIG_CFS_AREA': '36-160',\n",
       "  'ORIG_MA': 160,\n",
       "  'ORIG_STATE': 36,\n",
       "  'QUARTER': 4,\n",
       "  'SCTG': '24',\n",
       "  'SHIPMT_DIST_GC': 274,\n",
       "  'SHIPMT_DIST_ROUTED': 381,\n",
       "  'SHIPMT_ID': 2992667,\n",
       "  'SHIPMT_VALUE': 30,\n",
       "  'SHIPMT_WGHT': 20,\n",
       "  'TEMP_CNTL_YN': 'N',\n",
       "  'WGT_FACTOR': 141.9,\n",
       "  'orig_lat': 42.1497,\n",
       "  'orig_lon': -74.9384,\n",
       "  'orig_state_alpha_code': 'NY',\n",
       "  'orig_state_name': 'New York'},\n",
       " {'DEST_CFS_AREA': '17-99999',\n",
       "  'DEST_MA': 99999,\n",
       "  'DEST_STATE': 17,\n",
       "  'EXPORT_CNTRY': 'N',\n",
       "  'EXPORT_YN': 'N',\n",
       "  'HAZMAT': 'N',\n",
       "  'MODE': 14,\n",
       "  'NAICS': 4232,\n",
       "  'ORIG_CFS_AREA': '06-348',\n",
       "  'ORIG_MA': 348,\n",
       "  'ORIG_STATE': 6,\n",
       "  'QUARTER': 3,\n",
       "  'SCTG': '40',\n",
       "  'SHIPMT_DIST_GC': 1613,\n",
       "  'SHIPMT_DIST_ROUTED': 1896,\n",
       "  'SHIPMT_ID': 2992668,\n",
       "  'SHIPMT_VALUE': 56,\n",
       "  'SHIPMT_WGHT': 9,\n",
       "  'TEMP_CNTL_YN': 'N',\n",
       "  'WGT_FACTOR': 712.7,\n",
       "  'orig_lat': 36.17,\n",
       "  'orig_lon': -119.7462,\n",
       "  'orig_state_alpha_code': 'CA',\n",
       "  'orig_state_name': 'California'},\n",
       " {'DEST_CFS_AREA': '22-99999',\n",
       "  'DEST_MA': 99999,\n",
       "  'DEST_STATE': 22,\n",
       "  'EXPORT_CNTRY': 'N',\n",
       "  'EXPORT_YN': 'N',\n",
       "  'HAZMAT': 'N',\n",
       "  'MODE': 5,\n",
       "  'NAICS': 333,\n",
       "  'ORIG_CFS_AREA': '48-288',\n",
       "  'ORIG_MA': 288,\n",
       "  'ORIG_STATE': 48,\n",
       "  'QUARTER': 4,\n",
       "  'SCTG': '34',\n",
       "  'SHIPMT_DIST_GC': 264,\n",
       "  'SHIPMT_DIST_ROUTED': 302,\n",
       "  'SHIPMT_ID': 2992669,\n",
       "  'SHIPMT_VALUE': 889,\n",
       "  'SHIPMT_WGHT': 5,\n",
       "  'TEMP_CNTL_YN': 'N',\n",
       "  'WGT_FACTOR': 53.6,\n",
       "  'orig_lat': 31.106,\n",
       "  'orig_lon': -97.6475,\n",
       "  'orig_state_alpha_code': 'TX',\n",
       "  'orig_state_name': 'Texas'},\n",
       " {'DEST_CFS_AREA': '48-206',\n",
       "  'DEST_MA': 206,\n",
       "  'DEST_STATE': 48,\n",
       "  'EXPORT_CNTRY': 'N',\n",
       "  'EXPORT_YN': 'N',\n",
       "  'HAZMAT': 'N',\n",
       "  'MODE': 14,\n",
       "  'NAICS': 336,\n",
       "  'ORIG_CFS_AREA': '20-556',\n",
       "  'ORIG_MA': 556,\n",
       "  'ORIG_STATE': 20,\n",
       "  'QUARTER': 4,\n",
       "  'SCTG': '37',\n",
       "  'SHIPMT_DIST_GC': 368,\n",
       "  'SHIPMT_DIST_ROUTED': 417,\n",
       "  'SHIPMT_ID': 2992670,\n",
       "  'SHIPMT_VALUE': 2444,\n",
       "  'SHIPMT_WGHT': 13,\n",
       "  'TEMP_CNTL_YN': 'N',\n",
       "  'WGT_FACTOR': 293.7,\n",
       "  'orig_lat': 38.5111,\n",
       "  'orig_lon': -96.8005,\n",
       "  'orig_state_alpha_code': 'KS',\n",
       "  'orig_state_name': 'Kansas'},\n",
       " {'DEST_CFS_AREA': '19-99999',\n",
       "  'DEST_MA': 99999,\n",
       "  'DEST_STATE': 19,\n",
       "  'EXPORT_CNTRY': 'N',\n",
       "  'EXPORT_YN': 'N',\n",
       "  'HAZMAT': 'N',\n",
       "  'MODE': 4,\n",
       "  'NAICS': 4239,\n",
       "  'ORIG_CFS_AREA': '17-99999',\n",
       "  'ORIG_MA': 99999,\n",
       "  'ORIG_STATE': 17,\n",
       "  'QUARTER': 4,\n",
       "  'SCTG': '41',\n",
       "  'SHIPMT_DIST_GC': 73,\n",
       "  'SHIPMT_DIST_ROUTED': 81,\n",
       "  'SHIPMT_ID': 2992671,\n",
       "  'SHIPMT_VALUE': 7493,\n",
       "  'SHIPMT_WGHT': 44771,\n",
       "  'TEMP_CNTL_YN': 'N',\n",
       "  'WGT_FACTOR': 264.7,\n",
       "  'orig_lat': 40.3363,\n",
       "  'orig_lon': -89.0022,\n",
       "  'orig_state_alpha_code': 'IL',\n",
       "  'orig_state_name': 'Illinois'}]"
      ]
     },
     "execution_count": 49,
     "metadata": {},
     "output_type": "execute_result"
    }
   ],
   "source": [
    "orig = transactions.join(\n",
    "    state_latlon_joined, \n",
    "    onclause=transactions.c.ORIG_STATE == FIPS_States.c.get(\"Numeric code\"))\n",
    "\n",
    "\n",
    "s = select([transactions, \n",
    "            FIPS_States.c.get(\"Alpha code\").label(\"orig_state_alpha_code\"),\n",
    "            FIPS_States.c.Name.label(\"orig_state_name\"),\n",
    "            state_latlon.c.latitude.label('orig_lat'),\n",
    "            state_latlon.c.longitude.label('orig_lon')\n",
    "            ]).select_from(orig).limit(10)\n",
    "\n",
    "list(get_rows(conn.execute(s).fetchall()))"
   ]
  },
  {
   "cell_type": "code",
   "execution_count": 50,
   "metadata": {
    "collapsed": false,
    "scrolled": true
   },
   "outputs": [],
   "source": [
    "dest = transactions.join(\n",
    "    state_latlon_joined, \n",
    "    onclause=transactions.c.DEST_STATE == FIPS_States.c.get(\"Numeric code\"))\n",
    "\n",
    "new_table =  (select([s.alias(), \n",
    "            FIPS_States.c.get(\"Alpha code\").label(\"dest_state_alpha_code\"),\n",
    "            FIPS_States.c.Name.label(\"dest_state_name\"),\n",
    "            state_latlon.c.latitude.label('dest_lat'),\n",
    "            state_latlon.c.longitude.label('dest_lon')])\n",
    "            .select_from(dest).limit(10))"
   ]
  },
  {
   "cell_type": "code",
   "execution_count": 51,
   "metadata": {
    "collapsed": false
   },
   "outputs": [
    {
     "name": "stdout",
     "output_type": "stream",
     "text": [
      "2015-12-23 20:59:06,164 INFO sqlalchemy.engine.base.Engine SELECT anon_1.\"SHIPMT_ID\", anon_1.\"ORIG_STATE\", anon_1.\"ORIG_MA\", anon_1.\"ORIG_CFS_AREA\", anon_1.\"DEST_STATE\", anon_1.\"DEST_MA\", anon_1.\"DEST_CFS_AREA\", anon_1.\"NAICS\", anon_1.\"QUARTER\", anon_1.\"SCTG\", anon_1.\"MODE\", anon_1.\"SHIPMT_VALUE\", anon_1.\"SHIPMT_WGHT\", anon_1.\"SHIPMT_DIST_GC\", anon_1.\"SHIPMT_DIST_ROUTED\", anon_1.\"TEMP_CNTL_YN\", anon_1.\"EXPORT_YN\", anon_1.\"EXPORT_CNTRY\", anon_1.\"HAZMAT\", anon_1.\"WGT_FACTOR\", anon_1.orig_state_alpha_code, anon_1.orig_state_name, anon_1.orig_lat, anon_1.orig_lon, anon_1.dest_state_alpha_code, anon_1.dest_state_name, anon_1.dest_lat, anon_1.dest_lon \n",
      "FROM (SELECT anon_2.\"SHIPMT_ID\" AS \"SHIPMT_ID\", anon_2.\"ORIG_STATE\" AS \"ORIG_STATE\", anon_2.\"ORIG_MA\" AS \"ORIG_MA\", anon_2.\"ORIG_CFS_AREA\" AS \"ORIG_CFS_AREA\", anon_2.\"DEST_STATE\" AS \"DEST_STATE\", anon_2.\"DEST_MA\" AS \"DEST_MA\", anon_2.\"DEST_CFS_AREA\" AS \"DEST_CFS_AREA\", anon_2.\"NAICS\" AS \"NAICS\", anon_2.\"QUARTER\" AS \"QUARTER\", anon_2.\"SCTG\" AS \"SCTG\", anon_2.\"MODE\" AS \"MODE\", anon_2.\"SHIPMT_VALUE\" AS \"SHIPMT_VALUE\", anon_2.\"SHIPMT_WGHT\" AS \"SHIPMT_WGHT\", anon_2.\"SHIPMT_DIST_GC\" AS \"SHIPMT_DIST_GC\", anon_2.\"SHIPMT_DIST_ROUTED\" AS \"SHIPMT_DIST_ROUTED\", anon_2.\"TEMP_CNTL_YN\" AS \"TEMP_CNTL_YN\", anon_2.\"EXPORT_YN\" AS \"EXPORT_YN\", anon_2.\"EXPORT_CNTRY\" AS \"EXPORT_CNTRY\", anon_2.\"HAZMAT\" AS \"HAZMAT\", anon_2.\"WGT_FACTOR\" AS \"WGT_FACTOR\", anon_2.orig_state_alpha_code AS orig_state_alpha_code, anon_2.orig_state_name AS orig_state_name, anon_2.orig_lat AS orig_lat, anon_2.orig_lon AS orig_lon, \"FIPS_States\".\"Alpha code\" AS dest_state_alpha_code, \"FIPS_States\".\"Name\" AS dest_state_name, state_latlon.latitude AS dest_lat, state_latlon.longitude AS dest_lon \n",
      "FROM (SELECT transactions.\"SHIPMT_ID\" AS \"SHIPMT_ID\", transactions.\"ORIG_STATE\" AS \"ORIG_STATE\", transactions.\"ORIG_MA\" AS \"ORIG_MA\", transactions.\"ORIG_CFS_AREA\" AS \"ORIG_CFS_AREA\", transactions.\"DEST_STATE\" AS \"DEST_STATE\", transactions.\"DEST_MA\" AS \"DEST_MA\", transactions.\"DEST_CFS_AREA\" AS \"DEST_CFS_AREA\", transactions.\"NAICS\" AS \"NAICS\", transactions.\"QUARTER\" AS \"QUARTER\", transactions.\"SCTG\" AS \"SCTG\", transactions.\"MODE\" AS \"MODE\", transactions.\"SHIPMT_VALUE\" AS \"SHIPMT_VALUE\", transactions.\"SHIPMT_WGHT\" AS \"SHIPMT_WGHT\", transactions.\"SHIPMT_DIST_GC\" AS \"SHIPMT_DIST_GC\", transactions.\"SHIPMT_DIST_ROUTED\" AS \"SHIPMT_DIST_ROUTED\", transactions.\"TEMP_CNTL_YN\" AS \"TEMP_CNTL_YN\", transactions.\"EXPORT_YN\" AS \"EXPORT_YN\", transactions.\"EXPORT_CNTRY\" AS \"EXPORT_CNTRY\", transactions.\"HAZMAT\" AS \"HAZMAT\", transactions.\"WGT_FACTOR\" AS \"WGT_FACTOR\", \"FIPS_States\".\"Alpha code\" AS orig_state_alpha_code, \"FIPS_States\".\"Name\" AS orig_state_name, state_latlon.latitude AS orig_lat, state_latlon.longitude AS orig_lon \n",
      "FROM transactions JOIN (\"FIPS_States\" JOIN state_latlon ON state_latlon.state = \"FIPS_States\".\"Alpha code\") ON transactions.\"ORIG_STATE\" = \"FIPS_States\".\"Numeric code\" \n",
      " LIMIT %(param_1)s) AS anon_2, transactions JOIN (\"FIPS_States\" JOIN state_latlon ON state_latlon.state = \"FIPS_States\".\"Alpha code\") ON transactions.\"DEST_STATE\" = \"FIPS_States\".\"Numeric code\" \n",
      " LIMIT %(param_2)s) AS anon_1\n"
     ]
    },
    {
     "name": "stderr",
     "output_type": "stream",
     "text": [
      "INFO:sqlalchemy.engine.base.Engine:SELECT anon_1.\"SHIPMT_ID\", anon_1.\"ORIG_STATE\", anon_1.\"ORIG_MA\", anon_1.\"ORIG_CFS_AREA\", anon_1.\"DEST_STATE\", anon_1.\"DEST_MA\", anon_1.\"DEST_CFS_AREA\", anon_1.\"NAICS\", anon_1.\"QUARTER\", anon_1.\"SCTG\", anon_1.\"MODE\", anon_1.\"SHIPMT_VALUE\", anon_1.\"SHIPMT_WGHT\", anon_1.\"SHIPMT_DIST_GC\", anon_1.\"SHIPMT_DIST_ROUTED\", anon_1.\"TEMP_CNTL_YN\", anon_1.\"EXPORT_YN\", anon_1.\"EXPORT_CNTRY\", anon_1.\"HAZMAT\", anon_1.\"WGT_FACTOR\", anon_1.orig_state_alpha_code, anon_1.orig_state_name, anon_1.orig_lat, anon_1.orig_lon, anon_1.dest_state_alpha_code, anon_1.dest_state_name, anon_1.dest_lat, anon_1.dest_lon \n",
      "FROM (SELECT anon_2.\"SHIPMT_ID\" AS \"SHIPMT_ID\", anon_2.\"ORIG_STATE\" AS \"ORIG_STATE\", anon_2.\"ORIG_MA\" AS \"ORIG_MA\", anon_2.\"ORIG_CFS_AREA\" AS \"ORIG_CFS_AREA\", anon_2.\"DEST_STATE\" AS \"DEST_STATE\", anon_2.\"DEST_MA\" AS \"DEST_MA\", anon_2.\"DEST_CFS_AREA\" AS \"DEST_CFS_AREA\", anon_2.\"NAICS\" AS \"NAICS\", anon_2.\"QUARTER\" AS \"QUARTER\", anon_2.\"SCTG\" AS \"SCTG\", anon_2.\"MODE\" AS \"MODE\", anon_2.\"SHIPMT_VALUE\" AS \"SHIPMT_VALUE\", anon_2.\"SHIPMT_WGHT\" AS \"SHIPMT_WGHT\", anon_2.\"SHIPMT_DIST_GC\" AS \"SHIPMT_DIST_GC\", anon_2.\"SHIPMT_DIST_ROUTED\" AS \"SHIPMT_DIST_ROUTED\", anon_2.\"TEMP_CNTL_YN\" AS \"TEMP_CNTL_YN\", anon_2.\"EXPORT_YN\" AS \"EXPORT_YN\", anon_2.\"EXPORT_CNTRY\" AS \"EXPORT_CNTRY\", anon_2.\"HAZMAT\" AS \"HAZMAT\", anon_2.\"WGT_FACTOR\" AS \"WGT_FACTOR\", anon_2.orig_state_alpha_code AS orig_state_alpha_code, anon_2.orig_state_name AS orig_state_name, anon_2.orig_lat AS orig_lat, anon_2.orig_lon AS orig_lon, \"FIPS_States\".\"Alpha code\" AS dest_state_alpha_code, \"FIPS_States\".\"Name\" AS dest_state_name, state_latlon.latitude AS dest_lat, state_latlon.longitude AS dest_lon \n",
      "FROM (SELECT transactions.\"SHIPMT_ID\" AS \"SHIPMT_ID\", transactions.\"ORIG_STATE\" AS \"ORIG_STATE\", transactions.\"ORIG_MA\" AS \"ORIG_MA\", transactions.\"ORIG_CFS_AREA\" AS \"ORIG_CFS_AREA\", transactions.\"DEST_STATE\" AS \"DEST_STATE\", transactions.\"DEST_MA\" AS \"DEST_MA\", transactions.\"DEST_CFS_AREA\" AS \"DEST_CFS_AREA\", transactions.\"NAICS\" AS \"NAICS\", transactions.\"QUARTER\" AS \"QUARTER\", transactions.\"SCTG\" AS \"SCTG\", transactions.\"MODE\" AS \"MODE\", transactions.\"SHIPMT_VALUE\" AS \"SHIPMT_VALUE\", transactions.\"SHIPMT_WGHT\" AS \"SHIPMT_WGHT\", transactions.\"SHIPMT_DIST_GC\" AS \"SHIPMT_DIST_GC\", transactions.\"SHIPMT_DIST_ROUTED\" AS \"SHIPMT_DIST_ROUTED\", transactions.\"TEMP_CNTL_YN\" AS \"TEMP_CNTL_YN\", transactions.\"EXPORT_YN\" AS \"EXPORT_YN\", transactions.\"EXPORT_CNTRY\" AS \"EXPORT_CNTRY\", transactions.\"HAZMAT\" AS \"HAZMAT\", transactions.\"WGT_FACTOR\" AS \"WGT_FACTOR\", \"FIPS_States\".\"Alpha code\" AS orig_state_alpha_code, \"FIPS_States\".\"Name\" AS orig_state_name, state_latlon.latitude AS orig_lat, state_latlon.longitude AS orig_lon \n",
      "FROM transactions JOIN (\"FIPS_States\" JOIN state_latlon ON state_latlon.state = \"FIPS_States\".\"Alpha code\") ON transactions.\"ORIG_STATE\" = \"FIPS_States\".\"Numeric code\" \n",
      " LIMIT %(param_1)s) AS anon_2, transactions JOIN (\"FIPS_States\" JOIN state_latlon ON state_latlon.state = \"FIPS_States\".\"Alpha code\") ON transactions.\"DEST_STATE\" = \"FIPS_States\".\"Numeric code\" \n",
      " LIMIT %(param_2)s) AS anon_1\n"
     ]
    },
    {
     "name": "stdout",
     "output_type": "stream",
     "text": [
      "2015-12-23 20:59:06,166 INFO sqlalchemy.engine.base.Engine {'param_2': 10, 'param_1': 10}\n"
     ]
    },
    {
     "name": "stderr",
     "output_type": "stream",
     "text": [
      "INFO:sqlalchemy.engine.base.Engine:{'param_2': 10, 'param_1': 10}\n"
     ]
    },
    {
     "data": {
      "text/plain": [
       "[{'DEST_CFS_AREA': '24-12580',\n",
       "  'DEST_MA': 12580,\n",
       "  'DEST_STATE': 24,\n",
       "  'EXPORT_CNTRY': 'N',\n",
       "  'EXPORT_YN': 'N',\n",
       "  'HAZMAT': 'N',\n",
       "  'MODE': 14,\n",
       "  'NAICS': 335,\n",
       "  'ORIG_CFS_AREA': '39-198',\n",
       "  'ORIG_MA': 198,\n",
       "  'ORIG_STATE': 39,\n",
       "  'QUARTER': 3,\n",
       "  'SCTG': '33',\n",
       "  'SHIPMT_DIST_GC': 339,\n",
       "  'SHIPMT_DIST_ROUTED': 412,\n",
       "  'SHIPMT_ID': 2992662,\n",
       "  'SHIPMT_VALUE': 147,\n",
       "  'SHIPMT_WGHT': 3,\n",
       "  'TEMP_CNTL_YN': 'N',\n",
       "  'WGT_FACTOR': 432.9,\n",
       "  'dest_lat': 32.799,\n",
       "  'dest_lon': -86.8073,\n",
       "  'dest_state_alpha_code': 'AL',\n",
       "  'dest_state_name': 'Alabama',\n",
       "  'orig_lat': 40.3736,\n",
       "  'orig_lon': -82.7755,\n",
       "  'orig_state_alpha_code': 'OH',\n",
       "  'orig_state_name': 'Ohio'},\n",
       " {'DEST_CFS_AREA': '36-408',\n",
       "  'DEST_MA': 408,\n",
       "  'DEST_STATE': 36,\n",
       "  'EXPORT_CNTRY': 'N',\n",
       "  'EXPORT_YN': 'N',\n",
       "  'HAZMAT': 'N',\n",
       "  'MODE': 4,\n",
       "  'NAICS': 321,\n",
       "  'ORIG_CFS_AREA': '48-41700',\n",
       "  'ORIG_MA': 41700,\n",
       "  'ORIG_STATE': 48,\n",
       "  'QUARTER': 4,\n",
       "  'SCTG': '26',\n",
       "  'SHIPMT_DIST_GC': 1570,\n",
       "  'SHIPMT_DIST_ROUTED': 1821,\n",
       "  'SHIPMT_ID': 2992663,\n",
       "  'SHIPMT_VALUE': 6737,\n",
       "  'SHIPMT_WGHT': 2793,\n",
       "  'TEMP_CNTL_YN': 'N',\n",
       "  'WGT_FACTOR': 55.6,\n",
       "  'dest_lat': 32.799,\n",
       "  'dest_lon': -86.8073,\n",
       "  'dest_state_alpha_code': 'AL',\n",
       "  'dest_state_name': 'Alabama',\n",
       "  'orig_lat': 31.106,\n",
       "  'orig_lon': -97.6475,\n",
       "  'orig_state_alpha_code': 'TX',\n",
       "  'orig_state_name': 'Texas'},\n",
       " {'DEST_CFS_AREA': '46-99999',\n",
       "  'DEST_MA': 99999,\n",
       "  'DEST_STATE': 46,\n",
       "  'EXPORT_CNTRY': 'N',\n",
       "  'EXPORT_YN': 'N',\n",
       "  'HAZMAT': 'N',\n",
       "  'MODE': 5,\n",
       "  'NAICS': 5111,\n",
       "  'ORIG_CFS_AREA': '46-99999',\n",
       "  'ORIG_MA': 99999,\n",
       "  'ORIG_STATE': 46,\n",
       "  'QUARTER': 3,\n",
       "  'SCTG': '29',\n",
       "  'SHIPMT_DIST_GC': 14,\n",
       "  'SHIPMT_DIST_ROUTED': 14,\n",
       "  'SHIPMT_ID': 2992664,\n",
       "  'SHIPMT_VALUE': 16,\n",
       "  'SHIPMT_WGHT': 5,\n",
       "  'TEMP_CNTL_YN': 'N',\n",
       "  'WGT_FACTOR': 193.1,\n",
       "  'dest_lat': 32.799,\n",
       "  'dest_lon': -86.8073,\n",
       "  'dest_state_alpha_code': 'AL',\n",
       "  'dest_state_name': 'Alabama',\n",
       "  'orig_lat': 44.2853,\n",
       "  'orig_lon': -99.4632,\n",
       "  'orig_state_alpha_code': 'SD',\n",
       "  'orig_state_name': 'South Dakota'},\n",
       " {'DEST_CFS_AREA': '56-99999',\n",
       "  'DEST_MA': 99999,\n",
       "  'DEST_STATE': 56,\n",
       "  'EXPORT_CNTRY': 'N',\n",
       "  'EXPORT_YN': 'N',\n",
       "  'HAZMAT': 'N',\n",
       "  'MODE': 14,\n",
       "  'NAICS': 4243,\n",
       "  'ORIG_CFS_AREA': '51-545',\n",
       "  'ORIG_MA': 545,\n",
       "  'ORIG_STATE': 51,\n",
       "  'QUARTER': 1,\n",
       "  'SCTG': '40',\n",
       "  'SHIPMT_DIST_GC': 1757,\n",
       "  'SHIPMT_DIST_ROUTED': 2063,\n",
       "  'SHIPMT_ID': 2992665,\n",
       "  'SHIPMT_VALUE': 64,\n",
       "  'SHIPMT_WGHT': 1,\n",
       "  'TEMP_CNTL_YN': 'N',\n",
       "  'WGT_FACTOR': 52.2,\n",
       "  'dest_lat': 32.799,\n",
       "  'dest_lon': -86.8073,\n",
       "  'dest_state_alpha_code': 'AL',\n",
       "  'dest_state_name': 'Alabama',\n",
       "  'orig_lat': 37.768,\n",
       "  'orig_lon': -78.2057,\n",
       "  'orig_state_alpha_code': 'VA',\n",
       "  'orig_state_name': 'Virginia'},\n",
       " {'DEST_CFS_AREA': '36-408',\n",
       "  'DEST_MA': 408,\n",
       "  'DEST_STATE': 36,\n",
       "  'EXPORT_CNTRY': 'N',\n",
       "  'EXPORT_YN': 'N',\n",
       "  'HAZMAT': 'N',\n",
       "  'MODE': 4,\n",
       "  'NAICS': 336,\n",
       "  'ORIG_CFS_AREA': '24-12580',\n",
       "  'ORIG_MA': 12580,\n",
       "  'ORIG_STATE': 24,\n",
       "  'QUARTER': 2,\n",
       "  'SCTG': '37',\n",
       "  'SHIPMT_DIST_GC': 182,\n",
       "  'SHIPMT_DIST_ROUTED': 222,\n",
       "  'SHIPMT_ID': 2992666,\n",
       "  'SHIPMT_VALUE': 763,\n",
       "  'SHIPMT_WGHT': 3,\n",
       "  'TEMP_CNTL_YN': 'N',\n",
       "  'WGT_FACTOR': 189.1,\n",
       "  'dest_lat': 32.799,\n",
       "  'dest_lon': -86.8073,\n",
       "  'dest_state_alpha_code': 'AL',\n",
       "  'dest_state_name': 'Alabama',\n",
       "  'orig_lat': 39.0724,\n",
       "  'orig_lon': -76.7902,\n",
       "  'orig_state_alpha_code': 'MD',\n",
       "  'orig_state_name': 'Maryland'},\n",
       " {'DEST_CFS_AREA': '34-408',\n",
       "  'DEST_MA': 408,\n",
       "  'DEST_STATE': 34,\n",
       "  'EXPORT_CNTRY': 'N',\n",
       "  'EXPORT_YN': 'N',\n",
       "  'HAZMAT': 'N',\n",
       "  'MODE': 4,\n",
       "  'NAICS': 4238,\n",
       "  'ORIG_CFS_AREA': '36-160',\n",
       "  'ORIG_MA': 160,\n",
       "  'ORIG_STATE': 36,\n",
       "  'QUARTER': 4,\n",
       "  'SCTG': '24',\n",
       "  'SHIPMT_DIST_GC': 274,\n",
       "  'SHIPMT_DIST_ROUTED': 381,\n",
       "  'SHIPMT_ID': 2992667,\n",
       "  'SHIPMT_VALUE': 30,\n",
       "  'SHIPMT_WGHT': 20,\n",
       "  'TEMP_CNTL_YN': 'N',\n",
       "  'WGT_FACTOR': 141.9,\n",
       "  'dest_lat': 32.799,\n",
       "  'dest_lon': -86.8073,\n",
       "  'dest_state_alpha_code': 'AL',\n",
       "  'dest_state_name': 'Alabama',\n",
       "  'orig_lat': 42.1497,\n",
       "  'orig_lon': -74.9384,\n",
       "  'orig_state_alpha_code': 'NY',\n",
       "  'orig_state_name': 'New York'},\n",
       " {'DEST_CFS_AREA': '17-99999',\n",
       "  'DEST_MA': 99999,\n",
       "  'DEST_STATE': 17,\n",
       "  'EXPORT_CNTRY': 'N',\n",
       "  'EXPORT_YN': 'N',\n",
       "  'HAZMAT': 'N',\n",
       "  'MODE': 14,\n",
       "  'NAICS': 4232,\n",
       "  'ORIG_CFS_AREA': '06-348',\n",
       "  'ORIG_MA': 348,\n",
       "  'ORIG_STATE': 6,\n",
       "  'QUARTER': 3,\n",
       "  'SCTG': '40',\n",
       "  'SHIPMT_DIST_GC': 1613,\n",
       "  'SHIPMT_DIST_ROUTED': 1896,\n",
       "  'SHIPMT_ID': 2992668,\n",
       "  'SHIPMT_VALUE': 56,\n",
       "  'SHIPMT_WGHT': 9,\n",
       "  'TEMP_CNTL_YN': 'N',\n",
       "  'WGT_FACTOR': 712.7,\n",
       "  'dest_lat': 32.799,\n",
       "  'dest_lon': -86.8073,\n",
       "  'dest_state_alpha_code': 'AL',\n",
       "  'dest_state_name': 'Alabama',\n",
       "  'orig_lat': 36.17,\n",
       "  'orig_lon': -119.7462,\n",
       "  'orig_state_alpha_code': 'CA',\n",
       "  'orig_state_name': 'California'},\n",
       " {'DEST_CFS_AREA': '22-99999',\n",
       "  'DEST_MA': 99999,\n",
       "  'DEST_STATE': 22,\n",
       "  'EXPORT_CNTRY': 'N',\n",
       "  'EXPORT_YN': 'N',\n",
       "  'HAZMAT': 'N',\n",
       "  'MODE': 5,\n",
       "  'NAICS': 333,\n",
       "  'ORIG_CFS_AREA': '48-288',\n",
       "  'ORIG_MA': 288,\n",
       "  'ORIG_STATE': 48,\n",
       "  'QUARTER': 4,\n",
       "  'SCTG': '34',\n",
       "  'SHIPMT_DIST_GC': 264,\n",
       "  'SHIPMT_DIST_ROUTED': 302,\n",
       "  'SHIPMT_ID': 2992669,\n",
       "  'SHIPMT_VALUE': 889,\n",
       "  'SHIPMT_WGHT': 5,\n",
       "  'TEMP_CNTL_YN': 'N',\n",
       "  'WGT_FACTOR': 53.6,\n",
       "  'dest_lat': 32.799,\n",
       "  'dest_lon': -86.8073,\n",
       "  'dest_state_alpha_code': 'AL',\n",
       "  'dest_state_name': 'Alabama',\n",
       "  'orig_lat': 31.106,\n",
       "  'orig_lon': -97.6475,\n",
       "  'orig_state_alpha_code': 'TX',\n",
       "  'orig_state_name': 'Texas'},\n",
       " {'DEST_CFS_AREA': '48-206',\n",
       "  'DEST_MA': 206,\n",
       "  'DEST_STATE': 48,\n",
       "  'EXPORT_CNTRY': 'N',\n",
       "  'EXPORT_YN': 'N',\n",
       "  'HAZMAT': 'N',\n",
       "  'MODE': 14,\n",
       "  'NAICS': 336,\n",
       "  'ORIG_CFS_AREA': '20-556',\n",
       "  'ORIG_MA': 556,\n",
       "  'ORIG_STATE': 20,\n",
       "  'QUARTER': 4,\n",
       "  'SCTG': '37',\n",
       "  'SHIPMT_DIST_GC': 368,\n",
       "  'SHIPMT_DIST_ROUTED': 417,\n",
       "  'SHIPMT_ID': 2992670,\n",
       "  'SHIPMT_VALUE': 2444,\n",
       "  'SHIPMT_WGHT': 13,\n",
       "  'TEMP_CNTL_YN': 'N',\n",
       "  'WGT_FACTOR': 293.7,\n",
       "  'dest_lat': 32.799,\n",
       "  'dest_lon': -86.8073,\n",
       "  'dest_state_alpha_code': 'AL',\n",
       "  'dest_state_name': 'Alabama',\n",
       "  'orig_lat': 38.5111,\n",
       "  'orig_lon': -96.8005,\n",
       "  'orig_state_alpha_code': 'KS',\n",
       "  'orig_state_name': 'Kansas'},\n",
       " {'DEST_CFS_AREA': '19-99999',\n",
       "  'DEST_MA': 99999,\n",
       "  'DEST_STATE': 19,\n",
       "  'EXPORT_CNTRY': 'N',\n",
       "  'EXPORT_YN': 'N',\n",
       "  'HAZMAT': 'N',\n",
       "  'MODE': 4,\n",
       "  'NAICS': 4239,\n",
       "  'ORIG_CFS_AREA': '17-99999',\n",
       "  'ORIG_MA': 99999,\n",
       "  'ORIG_STATE': 17,\n",
       "  'QUARTER': 4,\n",
       "  'SCTG': '41',\n",
       "  'SHIPMT_DIST_GC': 73,\n",
       "  'SHIPMT_DIST_ROUTED': 81,\n",
       "  'SHIPMT_ID': 2992671,\n",
       "  'SHIPMT_VALUE': 7493,\n",
       "  'SHIPMT_WGHT': 44771,\n",
       "  'TEMP_CNTL_YN': 'N',\n",
       "  'WGT_FACTOR': 264.7,\n",
       "  'dest_lat': 32.799,\n",
       "  'dest_lon': -86.8073,\n",
       "  'dest_state_alpha_code': 'AL',\n",
       "  'dest_state_name': 'Alabama',\n",
       "  'orig_lat': 40.3363,\n",
       "  'orig_lon': -89.0022,\n",
       "  'orig_state_alpha_code': 'IL',\n",
       "  'orig_state_name': 'Illinois'}]"
      ]
     },
     "execution_count": 51,
     "metadata": {},
     "output_type": "execute_result"
    }
   ],
   "source": [
    "list(get_rows(conn.execute(select([new_table.alias()])).fetchall()))"
   ]
  },
  {
   "cell_type": "code",
   "execution_count": null,
   "metadata": {
    "collapsed": false
   },
   "outputs": [],
   "source": [
    "meta.tables['FIPS_States']"
   ]
  },
  {
   "cell_type": "code",
   "execution_count": null,
   "metadata": {
    "collapsed": true
   },
   "outputs": [],
   "source": [
    "t = text(\"\"\"\n",
    "    SELECT transactions.*,\n",
    "        orig.\"Name\" as orig_name,\n",
    "        orig.\"Alpha code\" as orig_alpha_code,\n",
    "        orig.\"latitude\" as orig_lat,\n",
    "        orig.\"longitude\" as orig_long,\n",
    "        dest.\"Name\" as dest_name,\n",
    "        dest.\"Alpha code\" as dest_alpha_code,\n",
    "        dest.\"latitude\" as dest_lat,\n",
    "        dest.\"longitude\" as dest_lon\n",
    "    FROM transactions\n",
    "    JOIN (\n",
    "        SELECT states.*, lonlats.*\n",
    "        FROM \"FIPS_States\" states\n",
    "        JOIN state_latlon lonlats\n",
    "        on states.\"Alpha code\"=lonlats.state\n",
    "         ) orig\n",
    "        ON orig.\"Numeric code\" = transactions.\"ORIG_STATE\"\n",
    "    JOIN (\n",
    "        SELECT states.*, lonlats.*\n",
    "        FROM \"FIPS_States\" states\n",
    "        JOIN state_latlon lonlats\n",
    "        on states.\"Alpha code\"=lonlats.state\n",
    "         ) dest\n",
    "        ON dest.\"Numeric code\" = transactions.\"DEST_STATE\"\n",
    "    WHERE\n",
    "        dest.\"Alpha code\"=:dest_code AND orig.\"Alpha code\" =:orig_code\n",
    "    LIMIT 100\n",
    "        \n",
    "    \"\"\")"
   ]
  },
  {
   "cell_type": "code",
   "execution_count": null,
   "metadata": {
    "collapsed": true
   },
   "outputs": [],
   "source": [
    "select([transactions,\n",
    "        ])"
   ]
  },
  {
   "cell_type": "code",
   "execution_count": null,
   "metadata": {
    "collapsed": false
   },
   "outputs": [],
   "source": [
    "conn.execute(t.params(dest_code=\"CA\", orig_code=\"TX\")).fetchone()"
   ]
  },
  {
   "cell_type": "code",
   "execution_count": null,
   "metadata": {
    "collapsed": false
   },
   "outputs": [],
   "source": [
    "#with open('test_data.json', 'w') as f:\n",
    "#    f.write(\n",
    "#        json.dumps(\n",
    "#            list(get_rows(conn.execute(t).fetchall())),\n",
    "#            indent=2,\n",
    "#            separators=(\",\", \":\")\n",
    "#             ))"
   ]
  },
  {
   "cell_type": "code",
   "execution_count": null,
   "metadata": {
    "collapsed": false
   },
   "outputs": [],
   "source": [
    "from sqlalchemy.sql import table"
   ]
  },
  {
   "cell_type": "code",
   "execution_count": null,
   "metadata": {
    "collapsed": false
   },
   "outputs": [],
   "source": [
    "#new_table = new_table.alias(\"namedStates\")"
   ]
  },
  {
   "cell_type": "code",
   "execution_count": null,
   "metadata": {
    "collapsed": true
   },
   "outputs": [],
   "source": [
    "new_table_t = table(new_table)"
   ]
  },
  {
   "cell_type": "code",
   "execution_count": null,
   "metadata": {
    "collapsed": false
   },
   "outputs": [],
   "source": [
    "new_tableb"
   ]
  },
  {
   "cell_type": "code",
   "execution_count": null,
   "metadata": {
    "collapsed": true
   },
   "outputs": [],
   "source": [
    "orig_ = new_table.join(\n",
    "    state_latlon,\n",
    "    onclause=state_latlon.c.state == new_table.c.orig_state_alpha_code)\n",
    "\n",
    "dest_ = new_table.join(\n",
    "    state_latlon,\n",
    "    onclause=state_latlon.c.state == new_table.c.dest_state_alpha_code)"
   ]
  },
  {
   "cell_type": "code",
   "execution_count": null,
   "metadata": {
    "collapsed": true
   },
   "outputs": [],
   "source": [
    "new_table2 = (select([new_table.alias(),\n",
    "                    state_latlon.c.latitude.label('orig_lat'),\n",
    "                    state_latlon.c.longitude.label('orig_lon')])\n",
    "            .select_from(orig_.alias()))"
   ]
  },
  {
   "cell_type": "code",
   "execution_count": null,
   "metadata": {
    "collapsed": false
   },
   "outputs": [],
   "source": [
    "get_rows(conn.execute(select([new_table2.alias()])))"
   ]
  },
  {
   "cell_type": "code",
   "execution_count": null,
   "metadata": {
    "collapsed": false
   },
   "outputs": [],
   "source": [
    "list(get_rows(conn.execute(select([state_latlon])).fetchall()))"
   ]
  },
  {
   "cell_type": "code",
   "execution_count": null,
   "metadata": {
    "collapsed": false
   },
   "outputs": [],
   "source": [
    "list(get_rows(conn.execute(select([FIPS_States])).fetchall()))"
   ]
  },
  {
   "cell_type": "code",
   "execution_count": 29,
   "metadata": {
    "collapsed": false
   },
   "outputs": [],
   "source": [
    "orig = state_latlon_joined.alias(\"orig\")\n",
    "\n",
    "dest = state_latlon_joined.alias(\"dest\")\n",
    "   "
   ]
  },
  {
   "cell_type": "code",
   "execution_count": 38,
   "metadata": {
    "collapsed": true
   },
   "outputs": [
    {
     "data": {
      "text/plain": [
       "['FIPS_States_Name',\n",
       " 'FIPS_States_Alpha code',\n",
       " 'FIPS_States_Numeric code',\n",
       " 'FIPS_States_Status',\n",
       " 'state_latlon_state',\n",
       " 'state_latlon_latitude',\n",
       " 'state_latlon_longitude']"
      ]
     },
     "execution_count": 38,
     "metadata": {},
     "output_type": "execute_result"
    }
   ],
   "source": [
    "orig.c.keys()"
   ]
  },
  {
   "cell_type": "code",
   "execution_count": 52,
   "metadata": {
    "collapsed": false
   },
   "outputs": [],
   "source": [
    "from sqlalchemy.sql import bindparam"
   ]
  },
  {
   "cell_type": "code",
   "execution_count": 57,
   "metadata": {
    "collapsed": false
   },
   "outputs": [],
   "source": [
    "state_latlon_joined = FIPS_States.join(\n",
    "    state_latlon, onclause=state_latlon.c.state == FIPS_States.c[\"Alpha code\"])\n",
    "\n",
    "stmt = (select([transactions,\n",
    "              orig.c.FIPS_States_Name.label(\"orig_name\"),\n",
    "              orig.c[\"FIPS_States_Alpha code\"].label(\"orig_alpha_code\"),\n",
    "              dest.c[\"FIPS_States_Name\"].label(\"dest_name\"),\n",
    "              dest.c[\"FIPS_States_Alpha code\"].label(\"dest_alpha_code\"),\n",
    "              orig.c.state_latlon_latitude.label(\"orig_lat\"),\n",
    "              orig.c.state_latlon_longitude.label(\"orig_lon\"),\n",
    "              dest.c.state_latlon_latitude.label(\"dest_lat\"),\n",
    "              dest.c.state_latlon_longitude.label(\"dest_lon\")])\n",
    "        .select_from(transactions\n",
    "                    .join(orig, transactions.c.ORIG_STATE == orig.c[\"FIPS_States_Numeric code\"])\n",
    "                    .join(dest, transactions.c.DEST_STATE == dest.c[\"FIPS_States_Numeric code\"]))\n",
    "        .where(orig.c[\"FIPS_States_Alpha code\"] == bindparam(\"orig_code\"))\n",
    "        .where(dest.c[\"FIPS_States_Alpha code\"] == bindparam(\"dest_code\")))"
   ]
  },
  {
   "cell_type": "code",
   "execution_count": 58,
   "metadata": {
    "collapsed": false
   },
   "outputs": [
    {
     "name": "stdout",
     "output_type": "stream",
     "text": [
      "2015-12-24 20:49:49,446 INFO sqlalchemy.engine.base.Engine SELECT transactions.\"SHIPMT_ID\", transactions.\"ORIG_STATE\", transactions.\"ORIG_MA\", transactions.\"ORIG_CFS_AREA\", transactions.\"DEST_STATE\", transactions.\"DEST_MA\", transactions.\"DEST_CFS_AREA\", transactions.\"NAICS\", transactions.\"QUARTER\", transactions.\"SCTG\", transactions.\"MODE\", transactions.\"SHIPMT_VALUE\", transactions.\"SHIPMT_WGHT\", transactions.\"SHIPMT_DIST_GC\", transactions.\"SHIPMT_DIST_ROUTED\", transactions.\"TEMP_CNTL_YN\", transactions.\"EXPORT_YN\", transactions.\"EXPORT_CNTRY\", transactions.\"HAZMAT\", transactions.\"WGT_FACTOR\", orig.\"FIPS_States_Name\" AS orig_name, orig.\"FIPS_States_Alpha code\" AS orig_alpha_code, dest.\"FIPS_States_Name\" AS dest_name, dest.\"FIPS_States_Alpha code\" AS dest_alpha_code, orig.state_latlon_latitude AS orig_lat, orig.state_latlon_longitude AS orig_lon, dest.state_latlon_latitude AS dest_lat, dest.state_latlon_longitude AS dest_lon \n",
      "FROM transactions JOIN (SELECT \"FIPS_States\".\"Name\" AS \"FIPS_States_Name\", \"FIPS_States\".\"Alpha code\" AS \"FIPS_States_Alpha code\", \"FIPS_States\".\"Numeric code\" AS \"FIPS_States_Numeric code\", \"FIPS_States\".\"Status\" AS \"FIPS_States_Status\", state_latlon.state AS state_latlon_state, state_latlon.latitude AS state_latlon_latitude, state_latlon.longitude AS state_latlon_longitude \n",
      "FROM \"FIPS_States\" JOIN state_latlon ON state_latlon.state = \"FIPS_States\".\"Alpha code\") AS orig ON transactions.\"ORIG_STATE\" = orig.\"FIPS_States_Numeric code\" JOIN (SELECT \"FIPS_States\".\"Name\" AS \"FIPS_States_Name\", \"FIPS_States\".\"Alpha code\" AS \"FIPS_States_Alpha code\", \"FIPS_States\".\"Numeric code\" AS \"FIPS_States_Numeric code\", \"FIPS_States\".\"Status\" AS \"FIPS_States_Status\", state_latlon.state AS state_latlon_state, state_latlon.latitude AS state_latlon_latitude, state_latlon.longitude AS state_latlon_longitude \n",
      "FROM \"FIPS_States\" JOIN state_latlon ON state_latlon.state = \"FIPS_States\".\"Alpha code\") AS dest ON transactions.\"DEST_STATE\" = dest.\"FIPS_States_Numeric code\" \n",
      "WHERE orig.\"FIPS_States_Alpha code\" = %(orig_code)s AND dest.\"FIPS_States_Alpha code\" = %(dest_code)s \n",
      " LIMIT %(param_1)s\n"
     ]
    },
    {
     "name": "stderr",
     "output_type": "stream",
     "text": [
      "INFO:sqlalchemy.engine.base.Engine:SELECT transactions.\"SHIPMT_ID\", transactions.\"ORIG_STATE\", transactions.\"ORIG_MA\", transactions.\"ORIG_CFS_AREA\", transactions.\"DEST_STATE\", transactions.\"DEST_MA\", transactions.\"DEST_CFS_AREA\", transactions.\"NAICS\", transactions.\"QUARTER\", transactions.\"SCTG\", transactions.\"MODE\", transactions.\"SHIPMT_VALUE\", transactions.\"SHIPMT_WGHT\", transactions.\"SHIPMT_DIST_GC\", transactions.\"SHIPMT_DIST_ROUTED\", transactions.\"TEMP_CNTL_YN\", transactions.\"EXPORT_YN\", transactions.\"EXPORT_CNTRY\", transactions.\"HAZMAT\", transactions.\"WGT_FACTOR\", orig.\"FIPS_States_Name\" AS orig_name, orig.\"FIPS_States_Alpha code\" AS orig_alpha_code, dest.\"FIPS_States_Name\" AS dest_name, dest.\"FIPS_States_Alpha code\" AS dest_alpha_code, orig.state_latlon_latitude AS orig_lat, orig.state_latlon_longitude AS orig_lon, dest.state_latlon_latitude AS dest_lat, dest.state_latlon_longitude AS dest_lon \n",
      "FROM transactions JOIN (SELECT \"FIPS_States\".\"Name\" AS \"FIPS_States_Name\", \"FIPS_States\".\"Alpha code\" AS \"FIPS_States_Alpha code\", \"FIPS_States\".\"Numeric code\" AS \"FIPS_States_Numeric code\", \"FIPS_States\".\"Status\" AS \"FIPS_States_Status\", state_latlon.state AS state_latlon_state, state_latlon.latitude AS state_latlon_latitude, state_latlon.longitude AS state_latlon_longitude \n",
      "FROM \"FIPS_States\" JOIN state_latlon ON state_latlon.state = \"FIPS_States\".\"Alpha code\") AS orig ON transactions.\"ORIG_STATE\" = orig.\"FIPS_States_Numeric code\" JOIN (SELECT \"FIPS_States\".\"Name\" AS \"FIPS_States_Name\", \"FIPS_States\".\"Alpha code\" AS \"FIPS_States_Alpha code\", \"FIPS_States\".\"Numeric code\" AS \"FIPS_States_Numeric code\", \"FIPS_States\".\"Status\" AS \"FIPS_States_Status\", state_latlon.state AS state_latlon_state, state_latlon.latitude AS state_latlon_latitude, state_latlon.longitude AS state_latlon_longitude \n",
      "FROM \"FIPS_States\" JOIN state_latlon ON state_latlon.state = \"FIPS_States\".\"Alpha code\") AS dest ON transactions.\"DEST_STATE\" = dest.\"FIPS_States_Numeric code\" \n",
      "WHERE orig.\"FIPS_States_Alpha code\" = %(orig_code)s AND dest.\"FIPS_States_Alpha code\" = %(dest_code)s \n",
      " LIMIT %(param_1)s\n"
     ]
    },
    {
     "name": "stdout",
     "output_type": "stream",
     "text": [
      "2015-12-24 20:49:49,448 INFO sqlalchemy.engine.base.Engine {'param_1': 10, 'dest_code': 'TX', 'orig_code': 'CA'}\n"
     ]
    },
    {
     "name": "stderr",
     "output_type": "stream",
     "text": [
      "INFO:sqlalchemy.engine.base.Engine:{'param_1': 10, 'dest_code': 'TX', 'orig_code': 'CA'}\n"
     ]
    },
    {
     "data": {
      "text/plain": [
       "[{'DEST_CFS_AREA': '48-206',\n",
       "  'DEST_MA': 206,\n",
       "  'DEST_STATE': 48,\n",
       "  'EXPORT_CNTRY': 'N',\n",
       "  'EXPORT_YN': 'N',\n",
       "  'HAZMAT': 'N',\n",
       "  'MODE': 14,\n",
       "  'NAICS': 334,\n",
       "  'ORIG_CFS_AREA': '06-348',\n",
       "  'ORIG_MA': 348,\n",
       "  'ORIG_STATE': 6,\n",
       "  'QUARTER': 1,\n",
       "  'SCTG': '35',\n",
       "  'SHIPMT_DIST_GC': 1224,\n",
       "  'SHIPMT_DIST_ROUTED': 1453,\n",
       "  'SHIPMT_ID': 2993260,\n",
       "  'SHIPMT_VALUE': 6067,\n",
       "  'SHIPMT_WGHT': 19,\n",
       "  'TEMP_CNTL_YN': 'N',\n",
       "  'WGT_FACTOR': 271.3,\n",
       "  'dest_alpha_code': 'TX',\n",
       "  'dest_lat': 31.106,\n",
       "  'dest_lon': -97.6475,\n",
       "  'dest_name': 'Texas',\n",
       "  'orig_alpha_code': 'CA',\n",
       "  'orig_lat': 36.17,\n",
       "  'orig_lon': -119.7462,\n",
       "  'orig_name': 'California'},\n",
       " {'DEST_CFS_AREA': '48-41700',\n",
       "  'DEST_MA': 41700,\n",
       "  'DEST_STATE': 48,\n",
       "  'EXPORT_CNTRY': 'N',\n",
       "  'EXPORT_YN': 'N',\n",
       "  'HAZMAT': 'N',\n",
       "  'MODE': 4,\n",
       "  'NAICS': 311,\n",
       "  'ORIG_CFS_AREA': '06-41740',\n",
       "  'ORIG_MA': 41740,\n",
       "  'ORIG_STATE': 6,\n",
       "  'QUARTER': 4,\n",
       "  'SCTG': '06',\n",
       "  'SHIPMT_DIST_GC': 1145,\n",
       "  'SHIPMT_DIST_ROUTED': 1297,\n",
       "  'SHIPMT_ID': 2994083,\n",
       "  'SHIPMT_VALUE': 8136,\n",
       "  'SHIPMT_WGHT': 1960,\n",
       "  'TEMP_CNTL_YN': 'Y',\n",
       "  'WGT_FACTOR': 135.5,\n",
       "  'dest_alpha_code': 'TX',\n",
       "  'dest_lat': 31.106,\n",
       "  'dest_lon': -97.6475,\n",
       "  'dest_name': 'Texas',\n",
       "  'orig_alpha_code': 'CA',\n",
       "  'orig_lat': 36.17,\n",
       "  'orig_lon': -119.7462,\n",
       "  'orig_name': 'California'},\n",
       " {'DEST_CFS_AREA': '48-99999',\n",
       "  'DEST_MA': 99999,\n",
       "  'DEST_STATE': 48,\n",
       "  'EXPORT_CNTRY': 'M',\n",
       "  'EXPORT_YN': 'Y',\n",
       "  'HAZMAT': 'N',\n",
       "  'MODE': 4,\n",
       "  'NAICS': 333,\n",
       "  'ORIG_CFS_AREA': '06-348',\n",
       "  'ORIG_MA': 348,\n",
       "  'ORIG_STATE': 6,\n",
       "  'QUARTER': 1,\n",
       "  'SCTG': '35',\n",
       "  'SHIPMT_DIST_GC': 1297,\n",
       "  'SHIPMT_DIST_ROUTED': 1645,\n",
       "  'SHIPMT_ID': 2995013,\n",
       "  'SHIPMT_VALUE': 1215,\n",
       "  'SHIPMT_WGHT': 273,\n",
       "  'TEMP_CNTL_YN': 'N',\n",
       "  'WGT_FACTOR': 831.8,\n",
       "  'dest_alpha_code': 'TX',\n",
       "  'dest_lat': 31.106,\n",
       "  'dest_lon': -97.6475,\n",
       "  'dest_name': 'Texas',\n",
       "  'orig_alpha_code': 'CA',\n",
       "  'orig_lat': 36.17,\n",
       "  'orig_lon': -119.7462,\n",
       "  'orig_name': 'California'},\n",
       " {'DEST_CFS_AREA': '48-206',\n",
       "  'DEST_MA': 206,\n",
       "  'DEST_STATE': 48,\n",
       "  'EXPORT_CNTRY': 'N',\n",
       "  'EXPORT_YN': 'N',\n",
       "  'HAZMAT': 'N',\n",
       "  'MODE': 14,\n",
       "  'NAICS': 339,\n",
       "  'ORIG_CFS_AREA': '06-348',\n",
       "  'ORIG_MA': 348,\n",
       "  'ORIG_STATE': 6,\n",
       "  'QUARTER': 4,\n",
       "  'SCTG': '21',\n",
       "  'SHIPMT_DIST_GC': 1205,\n",
       "  'SHIPMT_DIST_ROUTED': 1419,\n",
       "  'SHIPMT_ID': 2995273,\n",
       "  'SHIPMT_VALUE': 364,\n",
       "  'SHIPMT_WGHT': 17,\n",
       "  'TEMP_CNTL_YN': 'N',\n",
       "  'WGT_FACTOR': 501.9,\n",
       "  'dest_alpha_code': 'TX',\n",
       "  'dest_lat': 31.106,\n",
       "  'dest_lon': -97.6475,\n",
       "  'dest_name': 'Texas',\n",
       "  'orig_alpha_code': 'CA',\n",
       "  'orig_lat': 36.17,\n",
       "  'orig_lon': -119.7462,\n",
       "  'orig_name': 'California'},\n",
       " {'DEST_CFS_AREA': '48-206',\n",
       "  'DEST_MA': 206,\n",
       "  'DEST_STATE': 48,\n",
       "  'EXPORT_CNTRY': 'N',\n",
       "  'EXPORT_YN': 'N',\n",
       "  'HAZMAT': 'N',\n",
       "  'MODE': 14,\n",
       "  'NAICS': 332,\n",
       "  'ORIG_CFS_AREA': '06-348',\n",
       "  'ORIG_MA': 348,\n",
       "  'ORIG_STATE': 6,\n",
       "  'QUARTER': 1,\n",
       "  'SCTG': '34',\n",
       "  'SHIPMT_DIST_GC': 1223,\n",
       "  'SHIPMT_DIST_ROUTED': 1440,\n",
       "  'SHIPMT_ID': 2995319,\n",
       "  'SHIPMT_VALUE': 666,\n",
       "  'SHIPMT_WGHT': 31,\n",
       "  'TEMP_CNTL_YN': 'N',\n",
       "  'WGT_FACTOR': 1982.9,\n",
       "  'dest_alpha_code': 'TX',\n",
       "  'dest_lat': 31.106,\n",
       "  'dest_lon': -97.6475,\n",
       "  'dest_name': 'Texas',\n",
       "  'orig_alpha_code': 'CA',\n",
       "  'orig_lat': 36.17,\n",
       "  'orig_lon': -119.7462,\n",
       "  'orig_name': 'California'},\n",
       " {'DEST_CFS_AREA': '48-99999',\n",
       "  'DEST_MA': 99999,\n",
       "  'DEST_STATE': 48,\n",
       "  'EXPORT_CNTRY': 'N',\n",
       "  'EXPORT_YN': 'N',\n",
       "  'HAZMAT': 'N',\n",
       "  'MODE': 4,\n",
       "  'NAICS': 313,\n",
       "  'ORIG_CFS_AREA': '06-488',\n",
       "  'ORIG_MA': 488,\n",
       "  'ORIG_STATE': 6,\n",
       "  'QUARTER': 1,\n",
       "  'SCTG': '24',\n",
       "  'SHIPMT_DIST_GC': 1428,\n",
       "  'SHIPMT_DIST_ROUTED': 1855,\n",
       "  'SHIPMT_ID': 2995351,\n",
       "  'SHIPMT_VALUE': 684,\n",
       "  'SHIPMT_WGHT': 42,\n",
       "  'TEMP_CNTL_YN': 'N',\n",
       "  'WGT_FACTOR': 133.6,\n",
       "  'dest_alpha_code': 'TX',\n",
       "  'dest_lat': 31.106,\n",
       "  'dest_lon': -97.6475,\n",
       "  'dest_name': 'Texas',\n",
       "  'orig_alpha_code': 'CA',\n",
       "  'orig_lat': 36.17,\n",
       "  'orig_lon': -119.7462,\n",
       "  'orig_name': 'California'},\n",
       " {'DEST_CFS_AREA': '48-288',\n",
       "  'DEST_MA': 288,\n",
       "  'DEST_STATE': 48,\n",
       "  'EXPORT_CNTRY': 'N',\n",
       "  'EXPORT_YN': 'N',\n",
       "  'HAZMAT': 'N',\n",
       "  'MODE': 14,\n",
       "  'NAICS': 4243,\n",
       "  'ORIG_CFS_AREA': '06-488',\n",
       "  'ORIG_MA': 488,\n",
       "  'ORIG_STATE': 6,\n",
       "  'QUARTER': 4,\n",
       "  'SCTG': '30',\n",
       "  'SHIPMT_DIST_GC': 1642,\n",
       "  'SHIPMT_DIST_ROUTED': 1929,\n",
       "  'SHIPMT_ID': 2995786,\n",
       "  'SHIPMT_VALUE': 269,\n",
       "  'SHIPMT_WGHT': 6,\n",
       "  'TEMP_CNTL_YN': 'N',\n",
       "  'WGT_FACTOR': 217.9,\n",
       "  'dest_alpha_code': 'TX',\n",
       "  'dest_lat': 31.106,\n",
       "  'dest_lon': -97.6475,\n",
       "  'dest_name': 'Texas',\n",
       "  'orig_alpha_code': 'CA',\n",
       "  'orig_lat': 36.17,\n",
       "  'orig_lon': -119.7462,\n",
       "  'orig_name': 'California'},\n",
       " {'DEST_CFS_AREA': '48-206',\n",
       "  'DEST_MA': 206,\n",
       "  'DEST_STATE': 48,\n",
       "  'EXPORT_CNTRY': 'N',\n",
       "  'EXPORT_YN': 'N',\n",
       "  'HAZMAT': 'N',\n",
       "  'MODE': 4,\n",
       "  'NAICS': 332,\n",
       "  'ORIG_CFS_AREA': '06-348',\n",
       "  'ORIG_MA': 348,\n",
       "  'ORIG_STATE': 6,\n",
       "  'QUARTER': 2,\n",
       "  'SCTG': '40',\n",
       "  'SHIPMT_DIST_GC': 1239,\n",
       "  'SHIPMT_DIST_ROUTED': 1449,\n",
       "  'SHIPMT_ID': 2996165,\n",
       "  'SHIPMT_VALUE': 158,\n",
       "  'SHIPMT_WGHT': 69,\n",
       "  'TEMP_CNTL_YN': 'N',\n",
       "  'WGT_FACTOR': 484.6,\n",
       "  'dest_alpha_code': 'TX',\n",
       "  'dest_lat': 31.106,\n",
       "  'dest_lon': -97.6475,\n",
       "  'dest_name': 'Texas',\n",
       "  'orig_alpha_code': 'CA',\n",
       "  'orig_lat': 36.17,\n",
       "  'orig_lon': -119.7462,\n",
       "  'orig_name': 'California'},\n",
       " {'DEST_CFS_AREA': '48-206',\n",
       "  'DEST_MA': 206,\n",
       "  'DEST_STATE': 48,\n",
       "  'EXPORT_CNTRY': 'N',\n",
       "  'EXPORT_YN': 'N',\n",
       "  'HAZMAT': 'N',\n",
       "  'MODE': 14,\n",
       "  'NAICS': 334,\n",
       "  'ORIG_CFS_AREA': '06-99999',\n",
       "  'ORIG_MA': 99999,\n",
       "  'ORIG_STATE': 6,\n",
       "  'QUARTER': 2,\n",
       "  'SCTG': '35',\n",
       "  'SHIPMT_DIST_GC': 1333,\n",
       "  'SHIPMT_DIST_ROUTED': 1572,\n",
       "  'SHIPMT_ID': 2996626,\n",
       "  'SHIPMT_VALUE': 47,\n",
       "  'SHIPMT_WGHT': 10,\n",
       "  'TEMP_CNTL_YN': 'N',\n",
       "  'WGT_FACTOR': 75.8,\n",
       "  'dest_alpha_code': 'TX',\n",
       "  'dest_lat': 31.106,\n",
       "  'dest_lon': -97.6475,\n",
       "  'dest_name': 'Texas',\n",
       "  'orig_alpha_code': 'CA',\n",
       "  'orig_lat': 36.17,\n",
       "  'orig_lon': -119.7462,\n",
       "  'orig_name': 'California'},\n",
       " {'DEST_CFS_AREA': '48-206',\n",
       "  'DEST_MA': 206,\n",
       "  'DEST_STATE': 48,\n",
       "  'EXPORT_CNTRY': 'N',\n",
       "  'EXPORT_YN': 'N',\n",
       "  'HAZMAT': 'N',\n",
       "  'MODE': 14,\n",
       "  'NAICS': 4243,\n",
       "  'ORIG_CFS_AREA': '06-348',\n",
       "  'ORIG_MA': 348,\n",
       "  'ORIG_STATE': 6,\n",
       "  'QUARTER': 2,\n",
       "  'SCTG': '30',\n",
       "  'SHIPMT_DIST_GC': 1239,\n",
       "  'SHIPMT_DIST_ROUTED': 1449,\n",
       "  'SHIPMT_ID': 2997033,\n",
       "  'SHIPMT_VALUE': 37,\n",
       "  'SHIPMT_WGHT': 1,\n",
       "  'TEMP_CNTL_YN': 'N',\n",
       "  'WGT_FACTOR': 3226.4,\n",
       "  'dest_alpha_code': 'TX',\n",
       "  'dest_lat': 31.106,\n",
       "  'dest_lon': -97.6475,\n",
       "  'dest_name': 'Texas',\n",
       "  'orig_alpha_code': 'CA',\n",
       "  'orig_lat': 36.17,\n",
       "  'orig_lon': -119.7462,\n",
       "  'orig_name': 'California'}]"
      ]
     },
     "execution_count": 58,
     "metadata": {},
     "output_type": "execute_result"
    }
   ],
   "source": [
    "list(get_rows(conn.execute(stmt.limit(10), orig_code='CA', dest_code='TX').fetchall()))"
   ]
  }
 ],
 "metadata": {
  "kernelspec": {
   "display_name": "Python 3",
   "language": "python",
   "name": "python3"
  },
  "language_info": {
   "codemirror_mode": {
    "name": "ipython",
    "version": 3
   },
   "file_extension": ".py",
   "mimetype": "text/x-python",
   "name": "python",
   "nbconvert_exporter": "python",
   "pygments_lexer": "ipython3",
   "version": "3.4.2"
  }
 },
 "nbformat": 4,
 "nbformat_minor": 0
}
