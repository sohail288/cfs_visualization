{
 "cells": [
  {
   "cell_type": "markdown",
   "metadata": {},
   "source": [
    "Ways of doing this:\n",
    "\n",
    "Promoting an earlier instance to a larger class\n",
    "\n",
    "Creating a new instance and using sql alchemy to copy data to this new instance"
   ]
  },
  {
   "cell_type": "code",
   "execution_count": 3,
   "metadata": {
    "collapsed": true
   },
   "outputs": [],
   "source": [
    "import sqlalchemy\n",
    "import pandas as pd\n",
    "import boto3\n",
    "import os\n",
    "import psycopg2"
   ]
  },
  {
   "cell_type": "code",
   "execution_count": 4,
   "metadata": {
    "collapsed": true
   },
   "outputs": [],
   "source": [
    "from sqlalchemy import create_engine\n",
    "from sqlalchemy.dialects.postgresql import psycopg2"
   ]
  },
  {
   "cell_type": "code",
   "execution_count": 5,
   "metadata": {
    "collapsed": true
   },
   "outputs": [],
   "source": [
    "client = boto3.client('rds')"
   ]
  },
  {
   "cell_type": "code",
   "execution_count": 6,
   "metadata": {
    "collapsed": true
   },
   "outputs": [],
   "source": [
    "# you only need to specify the instance identifier along with any\n",
    "# changes you want to make\n",
    "\n",
    "db_configuration = {\n",
    "    'DBInstanceIdentifier': 'cfsdb',\n",
    "    'DBInstanceClass': 'db.m4.large',\n",
    "}"
   ]
  },
  {
   "cell_type": "code",
   "execution_count": 10,
   "metadata": {
    "collapsed": false
   },
   "outputs": [
    {
     "data": {
      "text/plain": [
       "{'DBInstance': {'AllocatedStorage': 5,\n",
       "  'AutoMinorVersionUpgrade': True,\n",
       "  'AvailabilityZone': 'us-west-1c',\n",
       "  'BackupRetentionPeriod': 5,\n",
       "  'CACertificateIdentifier': 'rds-ca-2015',\n",
       "  'CopyTagsToSnapshot': False,\n",
       "  'DBInstanceClass': 'db.t2.micro',\n",
       "  'DBInstanceIdentifier': 'cfsdb',\n",
       "  'DBInstanceStatus': 'available',\n",
       "  'DBName': 'cfsdb',\n",
       "  'DBParameterGroups': [{'DBParameterGroupName': 'default.postgres9.4',\n",
       "    'ParameterApplyStatus': 'in-sync'}],\n",
       "  'DBSecurityGroups': [],\n",
       "  'DBSubnetGroup': {'DBSubnetGroupDescription': 'default',\n",
       "   'DBSubnetGroupName': 'default',\n",
       "   'SubnetGroupStatus': 'Complete',\n",
       "   'Subnets': [{'SubnetAvailabilityZone': {'Name': 'us-west-1c'},\n",
       "     'SubnetIdentifier': 'subnet-1d5ab444',\n",
       "     'SubnetStatus': 'Active'},\n",
       "    {'SubnetAvailabilityZone': {'Name': 'us-west-1a'},\n",
       "     'SubnetIdentifier': 'subnet-e9b1188c',\n",
       "     'SubnetStatus': 'Active'}],\n",
       "   'VpcId': 'vpc-bba470de'},\n",
       "  'DbInstancePort': 0,\n",
       "  'DbiResourceId': 'db-MRSQSSQK446ID2RK4BSFQ52DWE',\n",
       "  'Endpoint': {'Address': 'cfsdb.cs4yyoqmq4gl.us-west-1.rds.amazonaws.com',\n",
       "   'Port': 5432},\n",
       "  'Engine': 'postgres',\n",
       "  'EngineVersion': '9.4.1',\n",
       "  'InstanceCreateTime': datetime.datetime(2015, 12, 7, 8, 19, 6, 762000, tzinfo=tzutc()),\n",
       "  'LatestRestorableTime': datetime.datetime(2016, 1, 5, 1, 29, 6, tzinfo=tzutc()),\n",
       "  'LicenseModel': 'postgresql-license',\n",
       "  'MasterUsername': 'TestUser',\n",
       "  'MultiAZ': False,\n",
       "  'OptionGroupMemberships': [{'OptionGroupName': 'default:postgres-9-4',\n",
       "    'Status': 'in-sync'}],\n",
       "  'PendingModifiedValues': {'DBInstanceClass': 'db.m4.large'},\n",
       "  'PreferredBackupWindow': '10:11-10:41',\n",
       "  'PreferredMaintenanceWindow': 'mon:06:00-mon:10:00',\n",
       "  'PubliclyAccessible': True,\n",
       "  'ReadReplicaDBInstanceIdentifiers': [],\n",
       "  'StorageEncrypted': False,\n",
       "  'StorageType': 'standard',\n",
       "  'VpcSecurityGroups': [{'Status': 'active',\n",
       "    'VpcSecurityGroupId': 'sg-be7ec2db'}]},\n",
       " 'ResponseMetadata': {'HTTPStatusCode': 200,\n",
       "  'RequestId': '89ba6aa0-b34c-11e5-89fe-f19ff25f9050'}}"
      ]
     },
     "execution_count": 10,
     "metadata": {},
     "output_type": "execute_result"
    }
   ],
   "source": [
    "client.modify_db_instance(**db_configuration)"
   ]
  },
  {
   "cell_type": "markdown",
   "metadata": {},
   "source": [
    "Copying tables method"
   ]
  },
  {
   "cell_type": "code",
   "execution_count": null,
   "metadata": {
    "collapsed": true
   },
   "outputs": [],
   "source": []
  }
 ],
 "metadata": {
  "kernelspec": {
   "display_name": "Python 3",
   "language": "python",
   "name": "python3"
  },
  "language_info": {
   "codemirror_mode": {
    "name": "ipython",
    "version": 3
   },
   "file_extension": ".py",
   "mimetype": "text/x-python",
   "name": "python",
   "nbconvert_exporter": "python",
   "pygments_lexer": "ipython3",
   "version": "3.4.2"
  }
 },
 "nbformat": 4,
 "nbformat_minor": 0
}
